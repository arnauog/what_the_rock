{
 "cells": [
  {
   "cell_type": "code",
   "execution_count": 345,
   "metadata": {},
   "outputs": [],
   "source": [
    "import pandas as pd\n",
    "import numpy as np\n",
    "from bs4 import BeautifulSoup\n",
    "import requests\n",
    "import time\n",
    "import seaborn as sns\n",
    "import matplotlib.pyplot as plt\n",
    "\n",
    "import string\n",
    "import ftfy\n",
    "\n",
    "import warnings\n",
    "warnings.filterwarnings(\"ignore\")"
   ]
  },
  {
   "cell_type": "code",
   "execution_count": 346,
   "metadata": {},
   "outputs": [
    {
     "data": {
      "text/plain": [
       "(52944, 5)"
      ]
     },
     "execution_count": 346,
     "metadata": {},
     "output_type": "execute_result"
    }
   ],
   "source": [
    "df_ratings_scrapped = pd.read_csv('Datasets/df_ratings.csv')\n",
    "df_ratings_scrapped.shape"
   ]
  },
  {
   "cell_type": "code",
   "execution_count": 347,
   "metadata": {},
   "outputs": [
    {
     "data": {
      "text/plain": [
       "(20665, 5)"
      ]
     },
     "execution_count": 347,
     "metadata": {},
     "output_type": "execute_result"
    }
   ],
   "source": [
    "# deleting albums with less than 30 votes\n",
    "df_ratings_scrapped = df_ratings_scrapped[df_ratings_scrapped['votes']>30]\n",
    "df_ratings_scrapped.reset_index(drop=True, inplace=True)\n",
    "df_ratings_scrapped.shape"
   ]
  },
  {
   "cell_type": "markdown",
   "metadata": {},
   "source": [
    "**Checking null values**"
   ]
  },
  {
   "cell_type": "code",
   "execution_count": 348,
   "metadata": {},
   "outputs": [
    {
     "data": {
      "text/html": [
       "<div>\n",
       "<style scoped>\n",
       "    .dataframe tbody tr th:only-of-type {\n",
       "        vertical-align: middle;\n",
       "    }\n",
       "\n",
       "    .dataframe tbody tr th {\n",
       "        vertical-align: top;\n",
       "    }\n",
       "\n",
       "    .dataframe thead th {\n",
       "        text-align: right;\n",
       "    }\n",
       "</style>\n",
       "<table border=\"1\" class=\"dataframe\">\n",
       "  <thead>\n",
       "    <tr style=\"text-align: right;\">\n",
       "      <th></th>\n",
       "      <th>album_id</th>\n",
       "      <th>artist</th>\n",
       "      <th>album</th>\n",
       "      <th>rating</th>\n",
       "      <th>votes</th>\n",
       "    </tr>\n",
       "  </thead>\n",
       "  <tbody>\n",
       "    <tr>\n",
       "      <th>15417</th>\n",
       "      <td>35979</td>\n",
       "      <td>Meshuggah</td>\n",
       "      <td>NaN</td>\n",
       "      <td>3.78</td>\n",
       "      <td>314</td>\n",
       "    </tr>\n",
       "  </tbody>\n",
       "</table>\n",
       "</div>"
      ],
      "text/plain": [
       "       album_id     artist album  rating  votes\n",
       "15417     35979  Meshuggah   NaN    3.78    314"
      ]
     },
     "execution_count": 348,
     "metadata": {},
     "output_type": "execute_result"
    }
   ],
   "source": [
    "df_ratings_scrapped[df_ratings_scrapped['album'].isna()]"
   ]
  },
  {
   "cell_type": "code",
   "execution_count": 349,
   "metadata": {},
   "outputs": [],
   "source": [
    "# replace the null values for the actual name of the album\n",
    "df_ratings_scrapped['album'] = np.where(df_ratings_scrapped['album_id']==35979, 'None' , df_ratings_scrapped['album'])"
   ]
  },
  {
   "cell_type": "markdown",
   "metadata": {},
   "source": [
    "**Applying ``ftfy.fix_text``**"
   ]
  },
  {
   "cell_type": "code",
   "execution_count": null,
   "metadata": {},
   "outputs": [
    {
     "data": {
      "text/plain": [
       "'Let It Be… Naked'"
      ]
     },
     "metadata": {},
     "output_type": "display_data"
    }
   ],
   "source": [
    "album = ftfy.fix_text('Let It Beâ¦ Naked')\n",
    "album"
   ]
  },
  {
   "cell_type": "code",
   "execution_count": null,
   "metadata": {},
   "outputs": [],
   "source": [
    "df_ratings_scrapped['album'] = df_ratings_scrapped['album'].apply(ftfy.fix_text)"
   ]
  },
  {
   "cell_type": "markdown",
   "metadata": {},
   "source": [
    "**Defining a function to detect strange characters**"
   ]
  },
  {
   "cell_type": "code",
   "execution_count": 350,
   "metadata": {},
   "outputs": [
    {
     "data": {
      "text/plain": [
       "67"
      ]
     },
     "execution_count": 350,
     "metadata": {},
     "output_type": "execute_result"
    }
   ],
   "source": [
    "letters = list(string.ascii_letters)\n",
    "other_characters = ['-', '.', '+', ' ', '/']\n",
    "valid_characters = (letters) + list(range(0,10)) + other_characters\n",
    "len(valid_characters)"
   ]
  },
  {
   "cell_type": "code",
   "execution_count": 371,
   "metadata": {},
   "outputs": [],
   "source": [
    "def valid_title(x):\n",
    "    album = ''.join(x.split(' '))\n",
    "    numbers = list(str(i) for i in range(10))\n",
    "    letters = list(string.ascii_letters)\n",
    "    other_characters = ['-', '.', '+', '/', '&', ',', \"'\", '¡', '!', '¿', '?', ':', '(', ')', '=', '\"', '[', ']', '#', '%', '_', '$', '*', '@', '…', 'é']\n",
    "    valid_characters = (letters) + numbers + other_characters\n",
    "\n",
    "    for char in album:\n",
    "        if char not in valid_characters:\n",
    "            return False\n",
    "    return True"
   ]
  },
  {
   "cell_type": "code",
   "execution_count": 372,
   "metadata": {},
   "outputs": [
    {
     "data": {
      "text/plain": [
       "True"
      ]
     },
     "execution_count": 372,
     "metadata": {},
     "output_type": "execute_result"
    }
   ],
   "source": [
    "valid_title('Let It Be… Naked')"
   ]
  },
  {
   "cell_type": "markdown",
   "metadata": {},
   "source": [
    "**Applying the function**"
   ]
  },
  {
   "cell_type": "code",
   "execution_count": 373,
   "metadata": {},
   "outputs": [
    {
     "data": {
      "text/plain": [
       "valid_title\n",
       "True     20515\n",
       "False      150\n",
       "Name: count, dtype: int64"
      ]
     },
     "execution_count": 373,
     "metadata": {},
     "output_type": "execute_result"
    }
   ],
   "source": [
    "df_ratings_scrapped['valid_title'] = df_ratings_scrapped['album'].apply(valid_title)\n",
    "df_ratings_scrapped['valid_title'].value_counts()"
   ]
  },
  {
   "cell_type": "code",
   "execution_count": 378,
   "metadata": {},
   "outputs": [
    {
     "data": {
      "text/html": [
       "<div>\n",
       "<style scoped>\n",
       "    .dataframe tbody tr th:only-of-type {\n",
       "        vertical-align: middle;\n",
       "    }\n",
       "\n",
       "    .dataframe tbody tr th {\n",
       "        vertical-align: top;\n",
       "    }\n",
       "\n",
       "    .dataframe thead th {\n",
       "        text-align: right;\n",
       "    }\n",
       "</style>\n",
       "<table border=\"1\" class=\"dataframe\">\n",
       "  <thead>\n",
       "    <tr style=\"text-align: right;\">\n",
       "      <th></th>\n",
       "      <th>album_id</th>\n",
       "      <th>artist</th>\n",
       "      <th>album</th>\n",
       "      <th>rating</th>\n",
       "      <th>votes</th>\n",
       "      <th>valid_title</th>\n",
       "    </tr>\n",
       "  </thead>\n",
       "  <tbody>\n",
       "    <tr>\n",
       "      <th>95</th>\n",
       "      <td>172</td>\n",
       "      <td>Tool</td>\n",
       "      <td>Ænima</td>\n",
       "      <td>4.43</td>\n",
       "      <td>6499</td>\n",
       "      <td>False</td>\n",
       "    </tr>\n",
       "    <tr>\n",
       "      <th>337</th>\n",
       "      <td>474</td>\n",
       "      <td>Fantomas</td>\n",
       "      <td>Fantômas</td>\n",
       "      <td>3.53</td>\n",
       "      <td>251</td>\n",
       "      <td>False</td>\n",
       "    </tr>\n",
       "    <tr>\n",
       "      <th>632</th>\n",
       "      <td>855</td>\n",
       "      <td>Jeff Buckley</td>\n",
       "      <td>Live à L'Olympia</td>\n",
       "      <td>3.96</td>\n",
       "      <td>70</td>\n",
       "      <td>False</td>\n",
       "    </tr>\n",
       "    <tr>\n",
       "      <th>750</th>\n",
       "      <td>1013</td>\n",
       "      <td>Leftover Crack</td>\n",
       "      <td>Fuсk World Trade</td>\n",
       "      <td>3.81</td>\n",
       "      <td>280</td>\n",
       "      <td>False</td>\n",
       "    </tr>\n",
       "    <tr>\n",
       "      <th>933</th>\n",
       "      <td>1240</td>\n",
       "      <td>Sigur Ros</td>\n",
       "      <td>Agætis byrjun</td>\n",
       "      <td>4.37</td>\n",
       "      <td>2791</td>\n",
       "      <td>False</td>\n",
       "    </tr>\n",
       "    <tr>\n",
       "      <th>1040</th>\n",
       "      <td>1388</td>\n",
       "      <td>The Mothers of Invention</td>\n",
       "      <td>Fillmore East – June 1971</td>\n",
       "      <td>3.82</td>\n",
       "      <td>71</td>\n",
       "      <td>False</td>\n",
       "    </tr>\n",
       "    <tr>\n",
       "      <th>1126</th>\n",
       "      <td>1512</td>\n",
       "      <td>Godspeed You! Black Emperor</td>\n",
       "      <td>F♯ A♯ ∞</td>\n",
       "      <td>4.48</td>\n",
       "      <td>3962</td>\n",
       "      <td>False</td>\n",
       "    </tr>\n",
       "    <tr>\n",
       "      <th>1200</th>\n",
       "      <td>1621</td>\n",
       "      <td>Finntroll</td>\n",
       "      <td>Nattfödd</td>\n",
       "      <td>3.94</td>\n",
       "      <td>295</td>\n",
       "      <td>False</td>\n",
       "    </tr>\n",
       "    <tr>\n",
       "      <th>1640</th>\n",
       "      <td>2455</td>\n",
       "      <td>Fantomas</td>\n",
       "      <td>Delìrium Còrdia</td>\n",
       "      <td>3.56</td>\n",
       "      <td>284</td>\n",
       "      <td>False</td>\n",
       "    </tr>\n",
       "    <tr>\n",
       "      <th>1878</th>\n",
       "      <td>2812</td>\n",
       "      <td>Atomship</td>\n",
       "      <td>The Crash of `47</td>\n",
       "      <td>4.13</td>\n",
       "      <td>161</td>\n",
       "      <td>False</td>\n",
       "    </tr>\n",
       "    <tr>\n",
       "      <th>2442</th>\n",
       "      <td>3725</td>\n",
       "      <td>Blue Oyster Cult</td>\n",
       "      <td>Blue Öyster Cult</td>\n",
       "      <td>3.93</td>\n",
       "      <td>396</td>\n",
       "      <td>False</td>\n",
       "    </tr>\n",
       "    <tr>\n",
       "      <th>2721</th>\n",
       "      <td>4141</td>\n",
       "      <td>Dimmu Borgir</td>\n",
       "      <td>Stormblåst</td>\n",
       "      <td>3.80</td>\n",
       "      <td>550</td>\n",
       "      <td>False</td>\n",
       "    </tr>\n",
       "    <tr>\n",
       "      <th>3025</th>\n",
       "      <td>5096</td>\n",
       "      <td>Roger Waters</td>\n",
       "      <td>Ça Ira</td>\n",
       "      <td>2.38</td>\n",
       "      <td>44</td>\n",
       "      <td>False</td>\n",
       "    </tr>\n",
       "    <tr>\n",
       "      <th>3454</th>\n",
       "      <td>5787</td>\n",
       "      <td>Godspeed You! Black Emperor</td>\n",
       "      <td>F♯ A♯ ∞ [Vinyl]</td>\n",
       "      <td>4.43</td>\n",
       "      <td>495</td>\n",
       "      <td>False</td>\n",
       "    </tr>\n",
       "    <tr>\n",
       "      <th>3525</th>\n",
       "      <td>5886</td>\n",
       "      <td>Black Sabbath</td>\n",
       "      <td>Greatest Hits 1970–1978</td>\n",
       "      <td>3.97</td>\n",
       "      <td>179</td>\n",
       "      <td>False</td>\n",
       "    </tr>\n",
       "    <tr>\n",
       "      <th>3536</th>\n",
       "      <td>5897</td>\n",
       "      <td>Black Sabbath</td>\n",
       "      <td>Cross Purposes — Live</td>\n",
       "      <td>3.12</td>\n",
       "      <td>44</td>\n",
       "      <td>False</td>\n",
       "    </tr>\n",
       "    <tr>\n",
       "      <th>3966</th>\n",
       "      <td>6685</td>\n",
       "      <td>Black Sabbath</td>\n",
       "      <td>Iron Man — The Best Of Black Sabbath</td>\n",
       "      <td>3.71</td>\n",
       "      <td>54</td>\n",
       "      <td>False</td>\n",
       "    </tr>\n",
       "    <tr>\n",
       "      <th>5134</th>\n",
       "      <td>8689</td>\n",
       "      <td>ZZ Top</td>\n",
       "      <td>Degüello</td>\n",
       "      <td>3.95</td>\n",
       "      <td>188</td>\n",
       "      <td>False</td>\n",
       "    </tr>\n",
       "    <tr>\n",
       "      <th>5161</th>\n",
       "      <td>8729</td>\n",
       "      <td>The Beatles</td>\n",
       "      <td>1967 – 1970</td>\n",
       "      <td>4.34</td>\n",
       "      <td>275</td>\n",
       "      <td>False</td>\n",
       "    </tr>\n",
       "    <tr>\n",
       "      <th>5184</th>\n",
       "      <td>8775</td>\n",
       "      <td>Voivod</td>\n",
       "      <td>Dimension Hatröss</td>\n",
       "      <td>4.33</td>\n",
       "      <td>628</td>\n",
       "      <td>False</td>\n",
       "    </tr>\n",
       "    <tr>\n",
       "      <th>5191</th>\n",
       "      <td>8784</td>\n",
       "      <td>Voivod</td>\n",
       "      <td>RRRÖÖÖAAARRR</td>\n",
       "      <td>3.34</td>\n",
       "      <td>293</td>\n",
       "      <td>False</td>\n",
       "    </tr>\n",
       "    <tr>\n",
       "      <th>5443</th>\n",
       "      <td>9207</td>\n",
       "      <td>ISIS</td>\n",
       "      <td>SGNL&gt;05</td>\n",
       "      <td>3.54</td>\n",
       "      <td>261</td>\n",
       "      <td>False</td>\n",
       "    </tr>\n",
       "    <tr>\n",
       "      <th>5827</th>\n",
       "      <td>9923</td>\n",
       "      <td>Dimmu Borgir</td>\n",
       "      <td>Stormblåst MMV</td>\n",
       "      <td>3.51</td>\n",
       "      <td>373</td>\n",
       "      <td>False</td>\n",
       "    </tr>\n",
       "    <tr>\n",
       "      <th>5897</th>\n",
       "      <td>10043</td>\n",
       "      <td>Sponge</td>\n",
       "      <td>Rotting Piñata</td>\n",
       "      <td>3.45</td>\n",
       "      <td>70</td>\n",
       "      <td>False</td>\n",
       "    </tr>\n",
       "    <tr>\n",
       "      <th>6049</th>\n",
       "      <td>10364</td>\n",
       "      <td>Pink Floyd</td>\n",
       "      <td>Pulse — The Film</td>\n",
       "      <td>4.36</td>\n",
       "      <td>380</td>\n",
       "      <td>False</td>\n",
       "    </tr>\n",
       "    <tr>\n",
       "      <th>6055</th>\n",
       "      <td>10380</td>\n",
       "      <td>Bon Jovi</td>\n",
       "      <td>7800° Fahrenheit</td>\n",
       "      <td>2.85</td>\n",
       "      <td>199</td>\n",
       "      <td>False</td>\n",
       "    </tr>\n",
       "    <tr>\n",
       "      <th>6220</th>\n",
       "      <td>10696</td>\n",
       "      <td>Flipper</td>\n",
       "      <td>Album – Generic Flipper</td>\n",
       "      <td>3.94</td>\n",
       "      <td>283</td>\n",
       "      <td>False</td>\n",
       "    </tr>\n",
       "    <tr>\n",
       "      <th>6252</th>\n",
       "      <td>10779</td>\n",
       "      <td>Ondskapt</td>\n",
       "      <td>Dödens Evangelium</td>\n",
       "      <td>4.12</td>\n",
       "      <td>38</td>\n",
       "      <td>False</td>\n",
       "    </tr>\n",
       "    <tr>\n",
       "      <th>6253</th>\n",
       "      <td>10781</td>\n",
       "      <td>Caetano Veloso</td>\n",
       "      <td>Caetano Veloso [Tropicália]</td>\n",
       "      <td>3.91</td>\n",
       "      <td>50</td>\n",
       "      <td>False</td>\n",
       "    </tr>\n",
       "    <tr>\n",
       "      <th>6257</th>\n",
       "      <td>10787</td>\n",
       "      <td>Motorhead</td>\n",
       "      <td>March Ör Die</td>\n",
       "      <td>3.30</td>\n",
       "      <td>248</td>\n",
       "      <td>False</td>\n",
       "    </tr>\n",
       "  </tbody>\n",
       "</table>\n",
       "</div>"
      ],
      "text/plain": [
       "      album_id                       artist  \\\n",
       "95         172                         Tool   \n",
       "337        474                     Fantomas   \n",
       "632        855                 Jeff Buckley   \n",
       "750       1013               Leftover Crack   \n",
       "933       1240                    Sigur Ros   \n",
       "1040      1388     The Mothers of Invention   \n",
       "1126      1512  Godspeed You! Black Emperor   \n",
       "1200      1621                    Finntroll   \n",
       "1640      2455                     Fantomas   \n",
       "1878      2812                     Atomship   \n",
       "2442      3725             Blue Oyster Cult   \n",
       "2721      4141                 Dimmu Borgir   \n",
       "3025      5096                 Roger Waters   \n",
       "3454      5787  Godspeed You! Black Emperor   \n",
       "3525      5886                Black Sabbath   \n",
       "3536      5897                Black Sabbath   \n",
       "3966      6685                Black Sabbath   \n",
       "5134      8689                       ZZ Top   \n",
       "5161      8729                  The Beatles   \n",
       "5184      8775                       Voivod   \n",
       "5191      8784                       Voivod   \n",
       "5443      9207                         ISIS   \n",
       "5827      9923                 Dimmu Borgir   \n",
       "5897     10043                       Sponge   \n",
       "6049     10364                   Pink Floyd   \n",
       "6055     10380                     Bon Jovi   \n",
       "6220     10696                      Flipper   \n",
       "6252     10779                     Ondskapt   \n",
       "6253     10781               Caetano Veloso   \n",
       "6257     10787                    Motorhead   \n",
       "\n",
       "                                     album  rating  votes  valid_title  \n",
       "95                                   Ænima    4.43   6499        False  \n",
       "337                               Fantômas    3.53    251        False  \n",
       "632                       Live à L'Olympia    3.96     70        False  \n",
       "750                       Fuсk World Trade    3.81    280        False  \n",
       "933                          Agætis byrjun    4.37   2791        False  \n",
       "1040             Fillmore East – June 1971    3.82     71        False  \n",
       "1126                               F♯ A♯ ∞    4.48   3962        False  \n",
       "1200                              Nattfödd    3.94    295        False  \n",
       "1640                       Delìrium Còrdia    3.56    284        False  \n",
       "1878                      The Crash of `47    4.13    161        False  \n",
       "2442                      Blue Öyster Cult    3.93    396        False  \n",
       "2721                            Stormblåst    3.80    550        False  \n",
       "3025                                Ça Ira    2.38     44        False  \n",
       "3454                       F♯ A♯ ∞ [Vinyl]    4.43    495        False  \n",
       "3525               Greatest Hits 1970–1978    3.97    179        False  \n",
       "3536                 Cross Purposes — Live    3.12     44        False  \n",
       "3966  Iron Man — The Best Of Black Sabbath    3.71     54        False  \n",
       "5134                              Degüello    3.95    188        False  \n",
       "5161                           1967 – 1970    4.34    275        False  \n",
       "5184                     Dimension Hatröss    4.33    628        False  \n",
       "5191                          RRRÖÖÖAAARRR    3.34    293        False  \n",
       "5443                               SGNL>05    3.54    261        False  \n",
       "5827                        Stormblåst MMV    3.51    373        False  \n",
       "5897                        Rotting Piñata    3.45     70        False  \n",
       "6049                      Pulse — The Film    4.36    380        False  \n",
       "6055                      7800° Fahrenheit    2.85    199        False  \n",
       "6220               Album – Generic Flipper    3.94    283        False  \n",
       "6252                     Dödens Evangelium    4.12     38        False  \n",
       "6253           Caetano Veloso [Tropicália]    3.91     50        False  \n",
       "6257                          March Ör Die    3.30    248        False  "
      ]
     },
     "execution_count": 378,
     "metadata": {},
     "output_type": "execute_result"
    }
   ],
   "source": [
    "df_ratings_scrapped[df_ratings_scrapped['valid_title']==False].sort_values('album_id').head(30)"
   ]
  }
 ],
 "metadata": {
  "kernelspec": {
   "display_name": "base",
   "language": "python",
   "name": "python3"
  },
  "language_info": {
   "codemirror_mode": {
    "name": "ipython",
    "version": 3
   },
   "file_extension": ".py",
   "mimetype": "text/x-python",
   "name": "python",
   "nbconvert_exporter": "python",
   "pygments_lexer": "ipython3",
   "version": "3.12.4"
  }
 },
 "nbformat": 4,
 "nbformat_minor": 2
}
