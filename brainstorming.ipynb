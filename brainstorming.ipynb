{
 "cells": [
  {
   "cell_type": "markdown",
   "metadata": {},
   "source": [
    "# Rate Your Music"
   ]
  },
  {
   "cell_type": "markdown",
   "metadata": {},
   "source": [
    "https://rateyourmusic.com/"
   ]
  },
  {
   "cell_type": "markdown",
   "metadata": {},
   "source": [
    "2 taules? Una per artistes i una per àlbums?\n",
    "\n",
    "**Artistes**: origen (lat i lon per a fer el HeatMap), year formed, members / member of, genres, followers, num of albums\n",
    "\n",
    "**Albums**:\n",
    "- **Discogs**: artist, album, release year, genre, style, num of songs, duration\n",
    "- **RYM**: artist, album, rating, num of ratings, main genres, other genres, language, descriptors (tags), reviews? pel text, no pel rating\n",
    "\n",
    "Fer-ho amb **songs** també? No, pot ser una matada"
   ]
  },
  {
   "cell_type": "markdown",
   "metadata": {},
   "source": [
    "Fer un model de regressió lineal? De què? ``rating``? ``followers``?"
   ]
  },
  {
   "cell_type": "markdown",
   "metadata": {},
   "source": [
    "**HeatMap d'artistes (o albums) per gènere**: de les poques coses originals que s'ocurreixen, amb **Folium** o **Tableau** per a que l'usuari interaccioni"
   ]
  },
  {
   "cell_type": "markdown",
   "metadata": {},
   "source": [
    "Model de classificació? **Clustering per gèneres, styles, descriptors...** Per descriptors és una matada, pq els he de pillar un per un a RYM"
   ]
  },
  {
   "cell_type": "markdown",
   "metadata": {},
   "source": [
    "**Recomanació de cançons similars? Artistes similars?** jo crec que això és el mateix que el clustering per genres, primer es fa el clustering i després faig la recomanació per observacions del mateix cluster\n",
    "\n",
    "**Idea**: recomanar artistes amb poquets rating / followers, i alt rating, artistes poc coneguts"
   ]
  },
  {
   "cell_type": "markdown",
   "metadata": {},
   "source": [
    "**Fer wordclouds de reviews d'albums?**"
   ]
  },
  {
   "cell_type": "markdown",
   "metadata": {},
   "source": [
    "**API de Discogs**\n",
    "\n",
    "https://www.discogs.com/developers#page:database,header:database-artist-releases\n",
    "\n",
    "Bastanta info de cada album i artista, però li falten: descriptors i reviews"
   ]
  },
  {
   "cell_type": "markdown",
   "metadata": {},
   "source": [
    "https://github.com/williamjouse/Prog_archives_scraping/tree/main\n",
    "\n",
    "Progarchives webscraping and analysis"
   ]
  },
  {
   "cell_type": "markdown",
   "metadata": {},
   "source": [
    "## Chat GPT"
   ]
  },
  {
   "cell_type": "markdown",
   "metadata": {},
   "source": [
    "4. Uncover Hidden Gems\n",
    "\n",
    "Purpose: Identify underrated albums (high ratings but low popularity) or overhyped ones (high popularity but low ratings). **això ja ho fan els charts de RYM, pot buscar els Top, Popular, Esoteric (hidden gems) albums**\n",
    "\n",
    "Machine Learning: Build a regression model to predict album popularity based on metadata and reviews, then analyze outliers.\n",
    "\n",
    "Visualization: Highlight underrated/overhyped albums on scatterplots or dashboards."
   ]
  },
  {
   "cell_type": "markdown",
   "metadata": {},
   "source": [
    "4. Deliverables\n",
    "\n",
    "Interactive App (Streamlit): Users could search for an artist/album, and your app would recommend similar artists or albums.\n",
    "\n",
    "Data Insights: Maybe include some visualizations like **genre trends over time** (count of albums segur, rating... no ho tinc tan clar pq pillar-ho de RYM és una matada), clusters of similar artists, or underrated gems.\n",
    "\n",
    "Word Clouds or Review Analysis: Visualize common keywords associated with specific artists or albums."
   ]
  },
  {
   "cell_type": "markdown",
   "metadata": {},
   "source": [
    "Genre Evolution Analysis: See how subgenres evolved over time based on descriptors and album language."
   ]
  },
  {
   "cell_type": "markdown",
   "metadata": {},
   "source": [
    "3. Music Evolution\n",
    "\n",
    "Track how descriptors evolve for specific subgenres or countries.\n",
    "\n",
    "For example, you could take the rock genre and see how it changes over decades by comparing descriptors over time.\n",
    "\n",
    "Do US rock albums become more \"experimental\" in the 90s?\n",
    "\n",
    "Does \"indie rock\" become synonymous with \"alternative rock\" in the 2000s?"
   ]
  },
  {
   "cell_type": "markdown",
   "metadata": {},
   "source": [
    "## DESCRIPTORS\n",
    "\n",
    "- **Bandcamp**: Bandcamp often includes tags for albums, which could resemble descriptors like \"ambient,\" \"lo-fi,\" or \"experimental.\" These tags are usually part of the metadata on the album's page.\n",
    "\n",
    "- **Last.fm**: This platform has a rich library of music information, including user-generated tags that might include descriptive terms. They offer an API, so you could pull data from there, though it might require some filtering to find the descriptors you're interested in.\n",
    "\n",
    "- **MusicBrainz**: While this database is more focused on metadata (artists, albums, tracks), it does allow for \"genres\" and some descriptive tags through user input. They provide an API that could be useful for gathering data.\n",
    "\n",
    "- **AllMusic**: Although scraping might be tricky, AllMusic has detailed album information, and some albums include mood or genre descriptors. You could explore their API or manually scrape specific data if it’s available."
   ]
  }
 ],
 "metadata": {
  "language_info": {
   "name": "python"
  }
 },
 "nbformat": 4,
 "nbformat_minor": 2
}
