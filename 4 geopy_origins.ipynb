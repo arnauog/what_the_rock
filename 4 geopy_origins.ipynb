{
 "cells": [
  {
   "cell_type": "code",
   "execution_count": 4,
   "metadata": {},
   "outputs": [],
   "source": [
    "import numpy as np\n",
    "import pandas as pd\n",
    "from pandas import json_normalize\n",
    "import seaborn as sns\n",
    "import matplotlib.pyplot as plt\n",
    "\n",
    "from bs4 import BeautifulSoup\n",
    "import requests \n",
    "import time\n",
    "import re\n",
    "\n",
    "# pip install geopy\n",
    "from geopy.geocoders import Nominatim\n",
    "\n",
    "import warnings\n",
    "warnings.filterwarnings(\"ignore\")\n",
    "\n",
    "from geopy_functions import *\n",
    "from my_functions import *"
   ]
  },
  {
   "cell_type": "code",
   "execution_count": 5,
   "metadata": {},
   "outputs": [
    {
     "name": "stdout",
     "output_type": "stream",
     "text": [
      "(51222, 5): df_ratings_20\n",
      "(5626, 7): df_coordinates_final\n",
      "(11148, 9): df_ratings\n",
      "(16781, 10): df_final\n",
      "(16931, 10): df_exploded\n",
      "(11065, 2): df_artist_countries\n"
     ]
    }
   ],
   "source": [
    "# import the dataframes\n",
    "df_ratings_20 = pd.read_csv('Datasets/df_ratings_20.csv', keep_default_na=False)  # albums with >= 20 votes, mostly from rock, worldwide\n",
    "df_coordinates_final = pd.read_csv('Datasets/df_coordinates_final.csv')               # merge of df_masters_blended with their locations\n",
    "df_coordinates_us = pd.read_csv('Datasets/df_coordinates_us.csv')\n",
    "df_coordinates_uk = pd.read_csv('Datasets/df_coordinates_uk.csv')        \n",
    "df_final_uk = pd.read_csv('Datasets/other_datasets/df_final_uk.csv')\n",
    "df_final_us = pd.read_csv('Datasets/other_datasets/df_final_us.csv')\n",
    "df_artist_countries = pd.read_csv('Datasets/other_datasets/df_artist_countries.csv')\n",
    "df_artists_origins = pd.read_csv('Datasets/other_datasets/df_artists_origins.csv')\n",
    "df_artists_origins_coordinates = pd.read_csv('Datasets/other_datasets/df_artists_origins_coordinates.csv')\n",
    "df_ratings = pd.read_csv('Datasets/df_ratings.csv')\n",
    "df_masters_blended = pd.read_csv('Datasets/other_datasets/df_masters_blended.csv')\n",
    "\n",
    "df_exploded = pd.read_csv('Datasets/df_exploded.csv')\n",
    "df_final = pd.read_csv('Datasets/df_final.csv')\n",
    "df_country = pd.read_csv('Datasets/other_datasets/df_country.csv')\n",
    "\n",
    "# print information\n",
    "print(f'{df_ratings_20.shape}: df_ratings_20')\n",
    "print(f'{df_coordinates_final.shape}: df_coordinates_final')\n",
    "print(f'{df_ratings.shape}: df_ratings')\n",
    "print(f'{df_final.shape}: df_final')\n",
    "print(f'{df_exploded.shape}: df_exploded')\n",
    "print(f'{df_artist_countries.shape}: df_artist_countries')\n"
   ]
  },
  {
   "cell_type": "code",
   "execution_count": 12,
   "metadata": {},
   "outputs": [],
   "source": [
    "df_coordinates_final.to_csv('Datasets/df_coordinates_final.csv', index=False)"
   ]
  },
  {
   "cell_type": "markdown",
   "metadata": {},
   "source": [
    "# Locations Wikipedia scraping"
   ]
  },
  {
   "cell_type": "markdown",
   "metadata": {},
   "source": [
    "## Import dataframes"
   ]
  },
  {
   "cell_type": "code",
   "execution_count": 177,
   "metadata": {},
   "outputs": [
    {
     "name": "stdout",
     "output_type": "stream",
     "text": [
      "14840 artists\n",
      "51222 albums\n",
      "Average of 3.45 albums per artist in the subset with the (mostly UK) albums with more than 20 votes\n"
     ]
    }
   ],
   "source": [
    "df_ratings_20 = pd.read_csv('Datasets/df_ratings_20.csv', keep_default_na=False)\n",
    "\n",
    "print(f\"{df_ratings_20['artist'].nunique()} artists\")\n",
    "print(f\"{df_ratings_20.shape[0]} albums\")\n",
    "print(f\"Average of {round(df_ratings_20.shape[0] / df_ratings_20['artist'].nunique(), 2)} albums per artist in the subset with the (mostly UK) albums with more than 20 votes\")"
   ]
  },
  {
   "cell_type": "code",
   "execution_count": 178,
   "metadata": {},
   "outputs": [
    {
     "data": {
      "text/plain": [
       "(51222, 5)"
      ]
     },
     "execution_count": 178,
     "metadata": {},
     "output_type": "execute_result"
    }
   ],
   "source": [
    "df_ratings_20.shape"
   ]
  },
  {
   "cell_type": "markdown",
   "metadata": {},
   "source": [
    "## Testing"
   ]
  },
  {
   "cell_type": "code",
   "execution_count": 28,
   "metadata": {},
   "outputs": [
    {
     "data": {
      "text/html": [
       "<div>\n",
       "<style scoped>\n",
       "    .dataframe tbody tr th:only-of-type {\n",
       "        vertical-align: middle;\n",
       "    }\n",
       "\n",
       "    .dataframe tbody tr th {\n",
       "        vertical-align: top;\n",
       "    }\n",
       "\n",
       "    .dataframe thead th {\n",
       "        text-align: right;\n",
       "    }\n",
       "</style>\n",
       "<table border=\"1\" class=\"dataframe\">\n",
       "  <thead>\n",
       "    <tr style=\"text-align: right;\">\n",
       "      <th></th>\n",
       "      <th>artist</th>\n",
       "      <th>title</th>\n",
       "      <th>year</th>\n",
       "      <th>album_length</th>\n",
       "      <th>tracks</th>\n",
       "      <th>genres</th>\n",
       "      <th>styles</th>\n",
       "      <th>release_country</th>\n",
       "      <th>artist_profile</th>\n",
       "    </tr>\n",
       "  </thead>\n",
       "  <tbody>\n",
       "    <tr>\n",
       "      <th>10580</th>\n",
       "      <td>The 1975</td>\n",
       "      <td>A Brief Inquiry into Online Relationships</td>\n",
       "      <td>2018</td>\n",
       "      <td>58.43</td>\n",
       "      <td>15</td>\n",
       "      <td>['Rock', 'Pop']</td>\n",
       "      <td>['Indie Rock', 'Alternative Rock', 'Indie Pop']</td>\n",
       "      <td>UK &amp; Europe</td>\n",
       "      <td>British indie rock band. \\r\\n\\r\\nPop-rock band...</td>\n",
       "    </tr>\n",
       "    <tr>\n",
       "      <th>9889</th>\n",
       "      <td>Le Butcherettes</td>\n",
       "      <td>A Raw Youth</td>\n",
       "      <td>2015</td>\n",
       "      <td>0.00</td>\n",
       "      <td>12</td>\n",
       "      <td>['Rock']</td>\n",
       "      <td>[]</td>\n",
       "      <td>US</td>\n",
       "      <td>Formed by Teri Gender Bender and Auryn Jolene ...</td>\n",
       "    </tr>\n",
       "    <tr>\n",
       "      <th>6394</th>\n",
       "      <td>John Fogerty</td>\n",
       "      <td>Centerfield</td>\n",
       "      <td>1985</td>\n",
       "      <td>35.33</td>\n",
       "      <td>9</td>\n",
       "      <td>['Rock']</td>\n",
       "      <td>['Pop Rock', 'Folk Rock', 'Country Rock']</td>\n",
       "      <td>US</td>\n",
       "      <td>American musician, songwriter, and guitarist (...</td>\n",
       "    </tr>\n",
       "    <tr>\n",
       "      <th>4498</th>\n",
       "      <td>L7</td>\n",
       "      <td>The Beauty Process: Triple Platinum</td>\n",
       "      <td>1997</td>\n",
       "      <td>41.57</td>\n",
       "      <td>12</td>\n",
       "      <td>['Rock']</td>\n",
       "      <td>['Punk', 'Grunge']</td>\n",
       "      <td>US</td>\n",
       "      <td>American grunge punk/alternative rock band fro...</td>\n",
       "    </tr>\n",
       "    <tr>\n",
       "      <th>5742</th>\n",
       "      <td>The Fall</td>\n",
       "      <td>Are You Are Missing Winner</td>\n",
       "      <td>2001</td>\n",
       "      <td>47.68</td>\n",
       "      <td>10</td>\n",
       "      <td>['Rock']</td>\n",
       "      <td>['Garage Rock', 'Punk', 'Rockabilly']</td>\n",
       "      <td>UK</td>\n",
       "      <td>Post-punk band from Greater Manchester, UK. 19...</td>\n",
       "    </tr>\n",
       "  </tbody>\n",
       "</table>\n",
       "</div>"
      ],
      "text/plain": [
       "                artist                                      title  year  \\\n",
       "10580         The 1975  A Brief Inquiry into Online Relationships  2018   \n",
       "9889   Le Butcherettes                                A Raw Youth  2015   \n",
       "6394      John Fogerty                                Centerfield  1985   \n",
       "4498                L7        The Beauty Process: Triple Platinum  1997   \n",
       "5742          The Fall                 Are You Are Missing Winner  2001   \n",
       "\n",
       "       album_length  tracks           genres  \\\n",
       "10580         58.43      15  ['Rock', 'Pop']   \n",
       "9889           0.00      12         ['Rock']   \n",
       "6394          35.33       9         ['Rock']   \n",
       "4498          41.57      12         ['Rock']   \n",
       "5742          47.68      10         ['Rock']   \n",
       "\n",
       "                                                styles release_country  \\\n",
       "10580  ['Indie Rock', 'Alternative Rock', 'Indie Pop']     UK & Europe   \n",
       "9889                                                []              US   \n",
       "6394         ['Pop Rock', 'Folk Rock', 'Country Rock']              US   \n",
       "4498                                ['Punk', 'Grunge']              US   \n",
       "5742             ['Garage Rock', 'Punk', 'Rockabilly']              UK   \n",
       "\n",
       "                                          artist_profile  \n",
       "10580  British indie rock band. \\r\\n\\r\\nPop-rock band...  \n",
       "9889   Formed by Teri Gender Bender and Auryn Jolene ...  \n",
       "6394   American musician, songwriter, and guitarist (...  \n",
       "4498   American grunge punk/alternative rock band fro...  \n",
       "5742   Post-punk band from Greater Manchester, UK. 19...  "
      ]
     },
     "execution_count": 28,
     "metadata": {},
     "output_type": "execute_result"
    }
   ],
   "source": [
    "df.sample(5)"
   ]
  },
  {
   "cell_type": "code",
   "execution_count": 183,
   "metadata": {},
   "outputs": [
    {
     "data": {
      "text/plain": [
       "27045"
      ]
     },
     "execution_count": 183,
     "metadata": {},
     "output_type": "execute_result"
    }
   ],
   "source": [
    "artists = df_uk_masters['artist'].unique()\n",
    "len(artists)"
   ]
  },
  {
   "cell_type": "code",
   "execution_count": 125,
   "metadata": {},
   "outputs": [
    {
     "data": {
      "text/plain": [
       "9616"
      ]
     },
     "execution_count": 125,
     "metadata": {},
     "output_type": "execute_result"
    }
   ],
   "source": [
    "artists = df['artist'].unique()\n",
    "len(artists)"
   ]
  },
  {
   "cell_type": "code",
   "execution_count": 106,
   "metadata": {},
   "outputs": [
    {
     "data": {
      "text/plain": [
       "'Life at These Speeds'"
      ]
     },
     "execution_count": 106,
     "metadata": {},
     "output_type": "execute_result"
    }
   ],
   "source": [
    "artists[4155]"
   ]
  },
  {
   "cell_type": "code",
   "execution_count": 116,
   "metadata": {},
   "outputs": [
    {
     "data": {
      "text/plain": [
       "'Aabsinthe'"
      ]
     },
     "execution_count": 116,
     "metadata": {},
     "output_type": "execute_result"
    }
   ],
   "source": [
    "artist = \"AABSINTHE\"\n",
    "name_changed = artist.title().replace(' ', '_')\n",
    "name_changed"
   ]
  },
  {
   "cell_type": "code",
   "execution_count": 658,
   "metadata": {},
   "outputs": [
    {
     "name": "stdout",
     "output_type": "stream",
     "text": [
      "Genres\n"
     ]
    }
   ],
   "source": [
    "artist = \"John Grant\"\n",
    "name_changed = artist.replace(' ', '_')\n",
    "name_changed_band = artist.replace(' ', '_') + ('_(band)')\n",
    "name_changed_musician = name_changed + ('_(musician)')\n",
    "\n",
    "url = f\"https://en.wikipedia.org/wiki/{name_changed_musician}\"\n",
    "response = requests.get(url).content\n",
    "soup = BeautifulSoup(response, \"html.parser\")\n",
    "table = soup.select('#mw-content-text > div.mw-content-ltr.mw-parser-output > table.infobox')\n",
    "\n",
    "try:\n",
    "    text = table[0].text\n",
    "\n",
    "    # Step 1: Extract the part after 'Born'\n",
    "    after_born = text.split(\"Born\", 1)[1]\n",
    "\n",
    "    text_age = re.search(\"aged\", after_born)\n",
    "\n",
    "    if text_age:\n",
    "        # This means the musician is dead\n",
    "        location = re.split(r'(19\\d{2})', after_born)[4].split('Died')[0].strip()\n",
    "    else:\n",
    "        try:\n",
    "            text = re.split(r'(19\\d{2})', after_born)[4].split(')')[1]\n",
    "\n",
    "            if \"Other\\xa0names\" in text:\n",
    "                location = text.split('Other\\xa0names')[0]\n",
    "            else:\n",
    "                if \"Citizenship\" in text:\n",
    "                    location = text.split('Citizenship')[0]\n",
    "                else:\n",
    "                    if \"Genres\" in text:\n",
    "                        location = text.split('Genres')[0]\n",
    "                        print('Genres')\n",
    "                    else:\n",
    "                        if \"Occupations\" in text:\n",
    "                            location = text.split('Occupations')[0]\n",
    "                            print('Occupations')\n",
    "                        else:\n",
    "                            location = np.nan\n",
    "        except:  \n",
    "            location = np.nan\n",
    "except:\n",
    "    print('fuck')\n"
   ]
  },
  {
   "cell_type": "code",
   "execution_count": 659,
   "metadata": {},
   "outputs": [
    {
     "data": {
      "text/plain": [
       "'Buchanan, Michigan, U.S.'"
      ]
     },
     "execution_count": 659,
     "metadata": {},
     "output_type": "execute_result"
    }
   ],
   "source": [
    "location"
   ]
  },
  {
   "cell_type": "code",
   "execution_count": 652,
   "metadata": {},
   "outputs": [
    {
     "data": {
      "text/plain": [
       "'John_Grant_(musician)'"
      ]
     },
     "execution_count": 652,
     "metadata": {},
     "output_type": "execute_result"
    }
   ],
   "source": [
    "name_changed_musician"
   ]
  },
  {
   "cell_type": "code",
   "execution_count": 533,
   "metadata": {},
   "outputs": [],
   "source": [
    "artist = \"Stone Gossard\"\n",
    "name_changed = artist.replace(' ', '_')\n",
    "name_changed_band = artist.replace(' ', '_') + ('_(band)')\n",
    "\n",
    "url = f\"https://en.wikipedia.org/wiki/{name_changed}\"\n",
    "response = requests.get(url).content\n",
    "soup = BeautifulSoup(response, \"html.parser\")\n",
    "table = soup.select('#mw-content-text > div.mw-content-ltr.mw-parser-output > table.infobox')\n",
    "\n",
    "try:\n",
    "    location = table[0].text.split('Origin')[1].split('Genres')[0]\n",
    "\n",
    "# save info in lists\n",
    "    print('origin')\n",
    "\n",
    "except:\n",
    "    text = table[0].text\n",
    "\n",
    "    # Step 1: Extract the part after 'Born'\n",
    "    after_born = text.split(\"Born\", 1)[1]\n",
    "\n",
    "    text_age = re.search(\"aged\", after_born)\n",
    "\n",
    "    if text_age:\n",
    "        # This means the artist is dead\n",
    "        print('dead')\n",
    "        location = re.split(r'(19\\d{2})', after_born)[4].split('Died')[0].strip()\n",
    "    else:\n",
    "        try:\n",
    "            text = re.split(r'(19\\d{2})', after_born)[4].split(')')[1]\n",
    "\n",
    "            if \"Other\\xa0names\" in text:\n",
    "                location = text.split('Other\\xa0names')[0]\n",
    "            else:\n",
    "                if \"Citizenship\" in text:\n",
    "                    location = text.split('Citizenship')[0]\n",
    "                else:\n",
    "                    if \"Occupations\" in text:\n",
    "                        location = text.split('Occupations')[0]\n",
    "                    else:\n",
    "                        if \"Genres\" in text:\n",
    "                            location = text.split('Genres')[0]\n",
    "                            print(repr(location))\n",
    "                        else:\n",
    "                            location = np.nan\n",
    "        except:  \n",
    "            location = np.nan\n"
   ]
  },
  {
   "cell_type": "code",
   "execution_count": 535,
   "metadata": {},
   "outputs": [
    {
     "data": {
      "text/plain": [
       "'Seattle, Washington, U.S.GenresAlternative rockgrungeglam punkpunk rockhard rockheavy metalglam metalOccupationsMusiciansongwriterInstrumentsGuitarvocalsYears active'"
      ]
     },
     "execution_count": 535,
     "metadata": {},
     "output_type": "execute_result"
    }
   ],
   "source": [
    "text"
   ]
  },
  {
   "cell_type": "code",
   "execution_count": 536,
   "metadata": {},
   "outputs": [
    {
     "data": {
      "text/plain": [
       "'Seattle, Washington, U.S.GenresAlternative rockgrungeglam punkpunk rockhard rockheavy metalglam metal'"
      ]
     },
     "execution_count": 536,
     "metadata": {},
     "output_type": "execute_result"
    }
   ],
   "source": [
    "location"
   ]
  },
  {
   "cell_type": "markdown",
   "metadata": {},
   "source": [
    "## Changing dataframes"
   ]
  },
  {
   "cell_type": "markdown",
   "metadata": {},
   "source": [
    "### **``df_artists_origins``**"
   ]
  },
  {
   "cell_type": "code",
   "execution_count": 94,
   "metadata": {},
   "outputs": [
    {
     "data": {
      "text/html": [
       "<div>\n",
       "<style scoped>\n",
       "    .dataframe tbody tr th:only-of-type {\n",
       "        vertical-align: middle;\n",
       "    }\n",
       "\n",
       "    .dataframe tbody tr th {\n",
       "        vertical-align: top;\n",
       "    }\n",
       "\n",
       "    .dataframe thead th {\n",
       "        text-align: right;\n",
       "    }\n",
       "</style>\n",
       "<table border=\"1\" class=\"dataframe\">\n",
       "  <thead>\n",
       "    <tr style=\"text-align: right;\">\n",
       "      <th></th>\n",
       "      <th>artist</th>\n",
       "      <th>origin</th>\n",
       "    </tr>\n",
       "  </thead>\n",
       "  <tbody>\n",
       "    <tr>\n",
       "      <th>0</th>\n",
       "      <td>Sparta</td>\n",
       "      <td>El Paso, Texas</td>\n",
       "    </tr>\n",
       "    <tr>\n",
       "      <th>1</th>\n",
       "      <td>Muse</td>\n",
       "      <td>Teignmouth, Devon, England</td>\n",
       "    </tr>\n",
       "    <tr>\n",
       "      <th>2</th>\n",
       "      <td>Finch</td>\n",
       "      <td>Temecula, California, Estados Unidos</td>\n",
       "    </tr>\n",
       "    <tr>\n",
       "      <th>3</th>\n",
       "      <td>Transplants</td>\n",
       "      <td>Los Angeles, California, United States[1]</td>\n",
       "    </tr>\n",
       "    <tr>\n",
       "      <th>4</th>\n",
       "      <td>Rooney</td>\n",
       "      <td>Los Angeles, California, U.S.</td>\n",
       "    </tr>\n",
       "  </tbody>\n",
       "</table>\n",
       "</div>"
      ],
      "text/plain": [
       "        artist                                     origin\n",
       "0       Sparta                             El Paso, Texas\n",
       "1         Muse                 Teignmouth, Devon, England\n",
       "2        Finch       Temecula, California, Estados Unidos\n",
       "3  Transplants  Los Angeles, California, United States[1]\n",
       "4       Rooney              Los Angeles, California, U.S."
      ]
     },
     "execution_count": 94,
     "metadata": {},
     "output_type": "execute_result"
    }
   ],
   "source": [
    "df_artists_origins.head()"
   ]
  },
  {
   "cell_type": "code",
   "execution_count": 86,
   "metadata": {},
   "outputs": [],
   "source": [
    "df_new_artists = df_artists_origins[df_artists_origins['origin']=='United Kingdom']"
   ]
  },
  {
   "cell_type": "code",
   "execution_count": 89,
   "metadata": {},
   "outputs": [
    {
     "data": {
      "text/html": [
       "<div>\n",
       "<style scoped>\n",
       "    .dataframe tbody tr th:only-of-type {\n",
       "        vertical-align: middle;\n",
       "    }\n",
       "\n",
       "    .dataframe tbody tr th {\n",
       "        vertical-align: top;\n",
       "    }\n",
       "\n",
       "    .dataframe thead th {\n",
       "        text-align: right;\n",
       "    }\n",
       "</style>\n",
       "<table border=\"1\" class=\"dataframe\">\n",
       "  <thead>\n",
       "    <tr style=\"text-align: right;\">\n",
       "      <th></th>\n",
       "      <th>artist</th>\n",
       "      <th>origin</th>\n",
       "    </tr>\n",
       "  </thead>\n",
       "  <tbody>\n",
       "    <tr>\n",
       "      <th>1059</th>\n",
       "      <td>Son of Dork</td>\n",
       "      <td>London, England</td>\n",
       "    </tr>\n",
       "    <tr>\n",
       "      <th>1192</th>\n",
       "      <td>Mojave 3</td>\n",
       "      <td>London, England</td>\n",
       "    </tr>\n",
       "    <tr>\n",
       "      <th>1326</th>\n",
       "      <td>Crippled Black Phoenix</td>\n",
       "      <td>Bristol, England</td>\n",
       "    </tr>\n",
       "    <tr>\n",
       "      <th>1597</th>\n",
       "      <td>This Mortal Coil</td>\n",
       "      <td>Wandsworth, England</td>\n",
       "    </tr>\n",
       "    <tr>\n",
       "      <th>2191</th>\n",
       "      <td>Arcadia</td>\n",
       "      <td>London, England</td>\n",
       "    </tr>\n",
       "    <tr>\n",
       "      <th>2300</th>\n",
       "      <td>Jade Warrior</td>\n",
       "      <td>London, England</td>\n",
       "    </tr>\n",
       "    <tr>\n",
       "      <th>2348</th>\n",
       "      <td>The Waterboys</td>\n",
       "      <td>London, England</td>\n",
       "    </tr>\n",
       "    <tr>\n",
       "      <th>2469</th>\n",
       "      <td>Blackmore's Night</td>\n",
       "      <td>Mount Sinai, NY, United States</td>\n",
       "    </tr>\n",
       "    <tr>\n",
       "      <th>2556</th>\n",
       "      <td>Atomic Rooster</td>\n",
       "      <td>London, England</td>\n",
       "    </tr>\n",
       "    <tr>\n",
       "      <th>2609</th>\n",
       "      <td>The Nefilim</td>\n",
       "      <td>Lambeth, England</td>\n",
       "    </tr>\n",
       "    <tr>\n",
       "      <th>2715</th>\n",
       "      <td>Black Spiders</td>\n",
       "      <td>Sheffield, England</td>\n",
       "    </tr>\n",
       "    <tr>\n",
       "      <th>2822</th>\n",
       "      <td>Brontide</td>\n",
       "      <td>London, England</td>\n",
       "    </tr>\n",
       "    <tr>\n",
       "      <th>2878</th>\n",
       "      <td>Gilgamesh</td>\n",
       "      <td>Hampstead, England</td>\n",
       "    </tr>\n",
       "    <tr>\n",
       "      <th>2914</th>\n",
       "      <td>Young Legionnaire</td>\n",
       "      <td>London, England</td>\n",
       "    </tr>\n",
       "    <tr>\n",
       "      <th>2924</th>\n",
       "      <td>The Deviants</td>\n",
       "      <td>Ladbroke Grove, London, England</td>\n",
       "    </tr>\n",
       "    <tr>\n",
       "      <th>2956</th>\n",
       "      <td>Head of David</td>\n",
       "      <td>Dudley, West Midlands, United Kingdom</td>\n",
       "    </tr>\n",
       "    <tr>\n",
       "      <th>3157</th>\n",
       "      <td>Quintessence</td>\n",
       "      <td>London, England</td>\n",
       "    </tr>\n",
       "  </tbody>\n",
       "</table>\n",
       "</div>"
      ],
      "text/plain": [
       "                      artist                                 origin\n",
       "1059             Son of Dork                        London, England\n",
       "1192                Mojave 3                        London, England\n",
       "1326  Crippled Black Phoenix                       Bristol, England\n",
       "1597        This Mortal Coil                    Wandsworth, England\n",
       "2191                 Arcadia                        London, England\n",
       "2300            Jade Warrior                        London, England\n",
       "2348           The Waterboys                        London, England\n",
       "2469       Blackmore's Night         Mount Sinai, NY, United States\n",
       "2556          Atomic Rooster                        London, England\n",
       "2609             The Nefilim                       Lambeth, England\n",
       "2715           Black Spiders                     Sheffield, England\n",
       "2822                Brontide                        London, England\n",
       "2878               Gilgamesh                     Hampstead, England\n",
       "2914       Young Legionnaire                        London, England\n",
       "2924            The Deviants        Ladbroke Grove, London, England\n",
       "2956           Head of David  Dudley, West Midlands, United Kingdom\n",
       "3157            Quintessence                        London, England"
      ]
     },
     "execution_count": 89,
     "metadata": {},
     "output_type": "execute_result"
    }
   ],
   "source": [
    "df_new_artists"
   ]
  },
  {
   "cell_type": "code",
   "execution_count": 88,
   "metadata": {},
   "outputs": [],
   "source": [
    "df_new_artists[\"origin\"] = np.where(df_new_artists[\"artist\"]==\"Son of Dork\", \"London, England\", df_new_artists[\"origin\"])\n",
    "df_new_artists[\"origin\"] = np.where(df_new_artists[\"artist\"]==\"Mojave 3\", \"London, England\", df_new_artists[\"origin\"])\n",
    "df_new_artists[\"origin\"] = np.where(df_new_artists[\"artist\"]==\"Crippled Black Phoenix\", \"Bristol, England\", df_new_artists[\"origin\"])\n",
    "df_new_artists[\"origin\"] = np.where(df_new_artists[\"artist\"]==\"This Mortal Coil\", \"Wandsworth, England\", df_new_artists[\"origin\"])\n",
    "df_new_artists[\"origin\"] = np.where(df_new_artists[\"artist\"]==\"Arcadia\", \"London, England\", df_new_artists[\"origin\"])\n",
    "df_new_artists[\"origin\"] = np.where(df_new_artists[\"artist\"]==\"Jade Warrior\", \"London, England\", df_new_artists[\"origin\"])\n",
    "df_new_artists[\"origin\"] = np.where(df_new_artists[\"artist\"]==\"The Waterboys\", \"London, England\", df_new_artists[\"origin\"])\n",
    "df_new_artists[\"origin\"] = np.where(df_new_artists[\"artist\"]==\"Blackmore's Night\", \"Mount Sinai, NY, United States\", df_new_artists[\"origin\"])\n",
    "df_new_artists[\"origin\"] = np.where(df_new_artists[\"artist\"]==\"Atomic Rooster\", \"London, England\", df_new_artists[\"origin\"])\n",
    "df_new_artists[\"origin\"] = np.where(df_new_artists[\"artist\"]==\"The Nefilim\", \"Lambeth, England\", df_new_artists[\"origin\"])\n",
    "df_new_artists[\"origin\"] = np.where(df_new_artists[\"artist\"]==\"Black Spiders\", \"Sheffield, England\", df_new_artists[\"origin\"])\n",
    "df_new_artists[\"origin\"] = np.where(df_new_artists[\"artist\"]==\"Brontide\", \"London, England\", df_new_artists[\"origin\"])\n",
    "df_new_artists[\"origin\"] = np.where(df_new_artists[\"artist\"]==\"Gilgamesh\", \"Hampstead, England\", df_new_artists[\"origin\"])\n",
    "df_new_artists[\"origin\"] = np.where(df_new_artists[\"artist\"]==\"Young Legionnaire\", \"London, England\", df_new_artists[\"origin\"])\n",
    "df_new_artists[\"origin\"] = np.where(df_new_artists[\"artist\"]==\"The Deviants\", \"Ladbroke Grove, London, England\", df_new_artists[\"origin\"])\n",
    "df_new_artists[\"origin\"] = np.where(df_new_artists[\"artist\"]==\"Head of David\", \"Dudley, West Midlands, United Kingdom\", df_new_artists[\"origin\"])\n",
    "df_new_artists[\"origin\"] = np.where(df_new_artists[\"artist\"]==\"Quintessence\", \"London, England\", df_new_artists[\"origin\"])"
   ]
  },
  {
   "cell_type": "code",
   "execution_count": 53,
   "metadata": {},
   "outputs": [
    {
     "name": "stdout",
     "output_type": "stream",
     "text": [
      "Formed in 1969, they played a blend of jazz, progressive rock, Indian Music, and new age rock.   Members included:\n",
      "Sambhu Babaji : Bass  Dave Codling : Guitar  Shiva Shankar Jones : Keyboards, Vocals  Jake Milton : Drums  Alan Mostert\n",
      ": Guitar  Raja Ram : Flute, Piano, Vocals\n"
     ]
    }
   ],
   "source": [
    "# check if there's info of the artist origin in the column 'artist_profile'\n",
    "import textwrap\n",
    "artist_profile = df.loc[8016]['artist_profile']\n",
    "splitted_string = textwrap.fill(artist_profile, width=120)\n",
    "print(splitted_string)"
   ]
  },
  {
   "cell_type": "code",
   "execution_count": 52,
   "metadata": {},
   "outputs": [
    {
     "data": {
      "text/html": [
       "<div>\n",
       "<style scoped>\n",
       "    .dataframe tbody tr th:only-of-type {\n",
       "        vertical-align: middle;\n",
       "    }\n",
       "\n",
       "    .dataframe tbody tr th {\n",
       "        vertical-align: top;\n",
       "    }\n",
       "\n",
       "    .dataframe thead th {\n",
       "        text-align: right;\n",
       "    }\n",
       "</style>\n",
       "<table border=\"1\" class=\"dataframe\">\n",
       "  <thead>\n",
       "    <tr style=\"text-align: right;\">\n",
       "      <th></th>\n",
       "      <th>year</th>\n",
       "      <th>artist</th>\n",
       "      <th>title</th>\n",
       "      <th>rating</th>\n",
       "      <th>votes</th>\n",
       "      <th>album_length</th>\n",
       "      <th>tracks</th>\n",
       "      <th>styles</th>\n",
       "      <th>release_country</th>\n",
       "      <th>artist_profile</th>\n",
       "    </tr>\n",
       "  </thead>\n",
       "  <tbody>\n",
       "    <tr>\n",
       "      <th>8016</th>\n",
       "      <td>1969</td>\n",
       "      <td>Quintessence</td>\n",
       "      <td>In Blissful Company</td>\n",
       "      <td>3.88</td>\n",
       "      <td>16</td>\n",
       "      <td>0.0</td>\n",
       "      <td>8</td>\n",
       "      <td>['Psychedelic Rock']</td>\n",
       "      <td>UK</td>\n",
       "      <td>Formed in 1969, they played a blend of jazz, p...</td>\n",
       "    </tr>\n",
       "  </tbody>\n",
       "</table>\n",
       "</div>"
      ],
      "text/plain": [
       "      year        artist                title  rating  votes  album_length  \\\n",
       "8016  1969  Quintessence  In Blissful Company    3.88     16           0.0   \n",
       "\n",
       "      tracks                styles release_country  \\\n",
       "8016       8  ['Psychedelic Rock']              UK   \n",
       "\n",
       "                                         artist_profile  \n",
       "8016  Formed in 1969, they played a blend of jazz, p...  "
      ]
     },
     "execution_count": 52,
     "metadata": {},
     "output_type": "execute_result"
    }
   ],
   "source": [
    "# look for the albums of the artist in the original df to check it's the correct artist\n",
    "df[df['artist']==\"Quintessence\".strip()].sort_values('votes', ascending=False).head()"
   ]
  },
  {
   "cell_type": "code",
   "execution_count": 90,
   "metadata": {},
   "outputs": [
    {
     "data": {
      "text/plain": [
       "(3234, 2)"
      ]
     },
     "execution_count": 90,
     "metadata": {},
     "output_type": "execute_result"
    }
   ],
   "source": [
    "df_artists_origins = df_artists_origins[df_artists_origins['origin']!='United Kingdom']\n",
    "df_artists_origins.shape"
   ]
  },
  {
   "cell_type": "code",
   "execution_count": 91,
   "metadata": {},
   "outputs": [],
   "source": [
    "df_artists_origins.to_csv('Datasets/df_artists_origins.csv', index=False)"
   ]
  },
  {
   "cell_type": "code",
   "execution_count": 92,
   "metadata": {},
   "outputs": [
    {
     "name": "stdout",
     "output_type": "stream",
     "text": [
      "df_artists_origins_concat exported to .csv\n",
      "(3251, 2)\n"
     ]
    }
   ],
   "source": [
    "export_artists_origins_concat(df_new_artists)"
   ]
  },
  {
   "cell_type": "code",
   "execution_count": 56,
   "metadata": {},
   "outputs": [
    {
     "name": "stdout",
     "output_type": "stream",
     "text": [
      "1/9 - London, Greater London, England, United Kingdom\n",
      "2/9 - Bristol, City of Bristol, West of England, England, United Kingdom\n",
      "3/9 - Wandsworth, London Borough of Wandsworth, London, Greater London, England, SW18 1UJ, United Kingdom\n",
      "4/9 - Mount Sinai, Miller Place, Town of Brookhaven, Suffolk County, New York, 11766, United States\n",
      "5/9 - Lambeth, London Borough of Lambeth, London, Greater London, England, SE1 7JW, United Kingdom\n",
      "6/9 - Sheffield, South Yorkshire, England, United Kingdom\n",
      "7/9 - Hampstead, Greater London, England, NW3 1QG, United Kingdom\n",
      "8/9 - Ladbroke Grove, Westway, Lancaster West Estate, North Kensington, Royal Borough of Kensington and Chelsea, London, Greater London, England, W10 5YG, United Kingdom\n",
      "9/9 - Dudley, West Midlands, England, United Kingdom\n"
     ]
    },
    {
     "data": {
      "text/html": [
       "<div>\n",
       "<style scoped>\n",
       "    .dataframe tbody tr th:only-of-type {\n",
       "        vertical-align: middle;\n",
       "    }\n",
       "\n",
       "    .dataframe tbody tr th {\n",
       "        vertical-align: top;\n",
       "    }\n",
       "\n",
       "    .dataframe thead th {\n",
       "        text-align: right;\n",
       "    }\n",
       "</style>\n",
       "<table border=\"1\" class=\"dataframe\">\n",
       "  <thead>\n",
       "    <tr style=\"text-align: right;\">\n",
       "      <th></th>\n",
       "      <th>country</th>\n",
       "      <th>city</th>\n",
       "      <th>origin</th>\n",
       "      <th>origin_clean</th>\n",
       "      <th>latitude</th>\n",
       "      <th>longitude</th>\n",
       "      <th>address</th>\n",
       "    </tr>\n",
       "  </thead>\n",
       "  <tbody>\n",
       "    <tr>\n",
       "      <th>0</th>\n",
       "      <td>United Kingdom</td>\n",
       "      <td>Bristol</td>\n",
       "      <td>Bristol, England</td>\n",
       "      <td>Bristol, England</td>\n",
       "      <td>51.453802</td>\n",
       "      <td>-2.597298</td>\n",
       "      <td>Bristol, City of Bristol, West of England, Eng...</td>\n",
       "    </tr>\n",
       "    <tr>\n",
       "      <th>1</th>\n",
       "      <td>United Kingdom</td>\n",
       "      <td>Dudley</td>\n",
       "      <td>Dudley, West Midlands, United Kingdom</td>\n",
       "      <td>Dudley, West Midlands, United Kingdom</td>\n",
       "      <td>52.511083</td>\n",
       "      <td>-2.081681</td>\n",
       "      <td>Dudley, West Midlands, England, United Kingdom</td>\n",
       "    </tr>\n",
       "    <tr>\n",
       "      <th>2</th>\n",
       "      <td>United Kingdom</td>\n",
       "      <td>Hampstead</td>\n",
       "      <td>Hampstead, England</td>\n",
       "      <td>Hampstead, England</td>\n",
       "      <td>51.556530</td>\n",
       "      <td>-0.178301</td>\n",
       "      <td>Hampstead, Greater London, England, NW3 1QG, U...</td>\n",
       "    </tr>\n",
       "    <tr>\n",
       "      <th>3</th>\n",
       "      <td>United Kingdom</td>\n",
       "      <td>Ladbroke Grove</td>\n",
       "      <td>Ladbroke Grove, London, England</td>\n",
       "      <td>Ladbroke Grove, London, England</td>\n",
       "      <td>51.517264</td>\n",
       "      <td>-0.211102</td>\n",
       "      <td>Ladbroke Grove, Westway, Lancaster West Estate...</td>\n",
       "    </tr>\n",
       "    <tr>\n",
       "      <th>4</th>\n",
       "      <td>United Kingdom</td>\n",
       "      <td>Lambeth</td>\n",
       "      <td>Lambeth, England</td>\n",
       "      <td>Lambeth, England</td>\n",
       "      <td>51.495211</td>\n",
       "      <td>-0.116335</td>\n",
       "      <td>Lambeth, London Borough of Lambeth, London, Gr...</td>\n",
       "    </tr>\n",
       "    <tr>\n",
       "      <th>5</th>\n",
       "      <td>United Kingdom</td>\n",
       "      <td>London</td>\n",
       "      <td>London, England</td>\n",
       "      <td>London, England</td>\n",
       "      <td>51.507446</td>\n",
       "      <td>-0.127765</td>\n",
       "      <td>London, Greater London, England, United Kingdom</td>\n",
       "    </tr>\n",
       "    <tr>\n",
       "      <th>6</th>\n",
       "      <td>United Kingdom</td>\n",
       "      <td>Sheffield</td>\n",
       "      <td>Sheffield, England</td>\n",
       "      <td>Sheffield, England</td>\n",
       "      <td>53.380663</td>\n",
       "      <td>-1.470228</td>\n",
       "      <td>Sheffield, South Yorkshire, England, United Ki...</td>\n",
       "    </tr>\n",
       "    <tr>\n",
       "      <th>7</th>\n",
       "      <td>United Kingdom</td>\n",
       "      <td>Wandsworth</td>\n",
       "      <td>Wandsworth, England</td>\n",
       "      <td>Wandsworth, England</td>\n",
       "      <td>51.457027</td>\n",
       "      <td>-0.193261</td>\n",
       "      <td>Wandsworth, London Borough of Wandsworth, Lond...</td>\n",
       "    </tr>\n",
       "    <tr>\n",
       "      <th>8</th>\n",
       "      <td>United States</td>\n",
       "      <td>Mount Sinai</td>\n",
       "      <td>Mount Sinai, NY, United States</td>\n",
       "      <td>Mount Sinai, NY, United States</td>\n",
       "      <td>40.941066</td>\n",
       "      <td>-73.019455</td>\n",
       "      <td>Mount Sinai, Miller Place, Town of Brookhaven,...</td>\n",
       "    </tr>\n",
       "  </tbody>\n",
       "</table>\n",
       "</div>"
      ],
      "text/plain": [
       "          country            city                                 origin  \\\n",
       "0  United Kingdom         Bristol                       Bristol, England   \n",
       "1  United Kingdom          Dudley  Dudley, West Midlands, United Kingdom   \n",
       "2  United Kingdom       Hampstead                     Hampstead, England   \n",
       "3  United Kingdom  Ladbroke Grove        Ladbroke Grove, London, England   \n",
       "4  United Kingdom         Lambeth                       Lambeth, England   \n",
       "5  United Kingdom          London                        London, England   \n",
       "6  United Kingdom       Sheffield                     Sheffield, England   \n",
       "7  United Kingdom      Wandsworth                    Wandsworth, England   \n",
       "8   United States     Mount Sinai         Mount Sinai, NY, United States   \n",
       "\n",
       "                            origin_clean   latitude  longitude  \\\n",
       "0                       Bristol, England  51.453802  -2.597298   \n",
       "1  Dudley, West Midlands, United Kingdom  52.511083  -2.081681   \n",
       "2                     Hampstead, England  51.556530  -0.178301   \n",
       "3        Ladbroke Grove, London, England  51.517264  -0.211102   \n",
       "4                       Lambeth, England  51.495211  -0.116335   \n",
       "5                        London, England  51.507446  -0.127765   \n",
       "6                     Sheffield, England  53.380663  -1.470228   \n",
       "7                    Wandsworth, England  51.457027  -0.193261   \n",
       "8         Mount Sinai, NY, United States  40.941066 -73.019455   \n",
       "\n",
       "                                             address  \n",
       "0  Bristol, City of Bristol, West of England, Eng...  \n",
       "1     Dudley, West Midlands, England, United Kingdom  \n",
       "2  Hampstead, Greater London, England, NW3 1QG, U...  \n",
       "3  Ladbroke Grove, Westway, Lancaster West Estate...  \n",
       "4  Lambeth, London Borough of Lambeth, London, Gr...  \n",
       "5    London, Greater London, England, United Kingdom  \n",
       "6  Sheffield, South Yorkshire, England, United Ki...  \n",
       "7  Wandsworth, London Borough of Wandsworth, Lond...  \n",
       "8  Mount Sinai, Miller Place, Town of Brookhaven,...  "
      ]
     },
     "execution_count": 56,
     "metadata": {},
     "output_type": "execute_result"
    }
   ],
   "source": [
    "df_coordinates = get_coordinates_geopy(df_new_artists)\n",
    "df_coordinates"
   ]
  },
  {
   "cell_type": "markdown",
   "metadata": {},
   "source": [
    "### **``df_coordinates``**"
   ]
  },
  {
   "cell_type": "code",
   "execution_count": 57,
   "metadata": {},
   "outputs": [
    {
     "data": {
      "text/plain": [
       "(1527, 7)"
      ]
     },
     "execution_count": 57,
     "metadata": {},
     "output_type": "execute_result"
    }
   ],
   "source": [
    "df_coordinates_scraped = pd.read_csv('Datasets/df_coordinates.csv')\n",
    "df_coordinates_scraped.shape"
   ]
  },
  {
   "cell_type": "code",
   "execution_count": 58,
   "metadata": {},
   "outputs": [
    {
     "data": {
      "text/html": [
       "<div>\n",
       "<style scoped>\n",
       "    .dataframe tbody tr th:only-of-type {\n",
       "        vertical-align: middle;\n",
       "    }\n",
       "\n",
       "    .dataframe tbody tr th {\n",
       "        vertical-align: top;\n",
       "    }\n",
       "\n",
       "    .dataframe thead th {\n",
       "        text-align: right;\n",
       "    }\n",
       "</style>\n",
       "<table border=\"1\" class=\"dataframe\">\n",
       "  <thead>\n",
       "    <tr style=\"text-align: right;\">\n",
       "      <th></th>\n",
       "      <th>country</th>\n",
       "      <th>city</th>\n",
       "      <th>origin</th>\n",
       "      <th>origin_clean</th>\n",
       "      <th>latitude</th>\n",
       "      <th>longitude</th>\n",
       "      <th>address</th>\n",
       "    </tr>\n",
       "  </thead>\n",
       "  <tbody>\n",
       "    <tr>\n",
       "      <th>0</th>\n",
       "      <td>Australia</td>\n",
       "      <td>Adelaide</td>\n",
       "      <td>Adelaide, South Australia, Australia</td>\n",
       "      <td>Adelaide, South Australia, Australia</td>\n",
       "      <td>-34.928181</td>\n",
       "      <td>138.599931</td>\n",
       "      <td>Adelaide, Adelaide City Council, South Austral...</td>\n",
       "    </tr>\n",
       "    <tr>\n",
       "      <th>1</th>\n",
       "      <td>Australia</td>\n",
       "      <td>Adelaide</td>\n",
       "      <td>Adelaide, South Australia</td>\n",
       "      <td>Adelaide, South Australia</td>\n",
       "      <td>-34.928181</td>\n",
       "      <td>138.599931</td>\n",
       "      <td>Adelaide, Adelaide City Council, South Austral...</td>\n",
       "    </tr>\n",
       "    <tr>\n",
       "      <th>2</th>\n",
       "      <td>Australia</td>\n",
       "      <td>Blue Mountains</td>\n",
       "      <td>Blue Mountains, NSW, Australia</td>\n",
       "      <td>Blue Mountains, NSW, Australia</td>\n",
       "      <td>-33.609741</td>\n",
       "      <td>150.405224</td>\n",
       "      <td>Blue Mountains, New South Wales, Australia</td>\n",
       "    </tr>\n",
       "    <tr>\n",
       "      <th>3</th>\n",
       "      <td>Australia</td>\n",
       "      <td>Brisbane</td>\n",
       "      <td>Brisbane, Queensland, Australia</td>\n",
       "      <td>Brisbane, Queensland, Australia</td>\n",
       "      <td>-27.468968</td>\n",
       "      <td>153.023499</td>\n",
       "      <td>City of Brisbane, Queensland, Australia</td>\n",
       "    </tr>\n",
       "    <tr>\n",
       "      <th>4</th>\n",
       "      <td>Australia</td>\n",
       "      <td>Byron Bay</td>\n",
       "      <td>Byron Bay, New South Wales, Australia</td>\n",
       "      <td>Byron Bay, New South Wales, Australia</td>\n",
       "      <td>-28.648333</td>\n",
       "      <td>153.617778</td>\n",
       "      <td>Byron Bay, Byron Shire Council, New South Wale...</td>\n",
       "    </tr>\n",
       "  </tbody>\n",
       "</table>\n",
       "</div>"
      ],
      "text/plain": [
       "     country            city                                 origin  \\\n",
       "0  Australia        Adelaide   Adelaide, South Australia, Australia   \n",
       "1  Australia        Adelaide              Adelaide, South Australia   \n",
       "2  Australia  Blue Mountains         Blue Mountains, NSW, Australia   \n",
       "3  Australia        Brisbane        Brisbane, Queensland, Australia   \n",
       "4  Australia       Byron Bay  Byron Bay, New South Wales, Australia   \n",
       "\n",
       "                            origin_clean   latitude   longitude  \\\n",
       "0   Adelaide, South Australia, Australia -34.928181  138.599931   \n",
       "1              Adelaide, South Australia -34.928181  138.599931   \n",
       "2         Blue Mountains, NSW, Australia -33.609741  150.405224   \n",
       "3        Brisbane, Queensland, Australia -27.468968  153.023499   \n",
       "4  Byron Bay, New South Wales, Australia -28.648333  153.617778   \n",
       "\n",
       "                                             address  \n",
       "0  Adelaide, Adelaide City Council, South Austral...  \n",
       "1  Adelaide, Adelaide City Council, South Austral...  \n",
       "2         Blue Mountains, New South Wales, Australia  \n",
       "3            City of Brisbane, Queensland, Australia  \n",
       "4  Byron Bay, Byron Shire Council, New South Wale...  "
      ]
     },
     "execution_count": 58,
     "metadata": {},
     "output_type": "execute_result"
    }
   ],
   "source": [
    "df_coordinates_scraped.head()"
   ]
  },
  {
   "cell_type": "code",
   "execution_count": 59,
   "metadata": {},
   "outputs": [
    {
     "data": {
      "text/html": [
       "<div>\n",
       "<style scoped>\n",
       "    .dataframe tbody tr th:only-of-type {\n",
       "        vertical-align: middle;\n",
       "    }\n",
       "\n",
       "    .dataframe tbody tr th {\n",
       "        vertical-align: top;\n",
       "    }\n",
       "\n",
       "    .dataframe thead th {\n",
       "        text-align: right;\n",
       "    }\n",
       "</style>\n",
       "<table border=\"1\" class=\"dataframe\">\n",
       "  <thead>\n",
       "    <tr style=\"text-align: right;\">\n",
       "      <th></th>\n",
       "      <th>country</th>\n",
       "      <th>city</th>\n",
       "      <th>origin</th>\n",
       "      <th>origin_clean</th>\n",
       "      <th>latitude</th>\n",
       "      <th>longitude</th>\n",
       "      <th>address</th>\n",
       "    </tr>\n",
       "  </thead>\n",
       "  <tbody>\n",
       "    <tr>\n",
       "      <th>702</th>\n",
       "      <td>United Kingdom</td>\n",
       "      <td>United Kingdom</td>\n",
       "      <td>United Kingdom</td>\n",
       "      <td>United Kingdom</td>\n",
       "      <td>54.702354</td>\n",
       "      <td>-3.276575</td>\n",
       "      <td>United Kingdom</td>\n",
       "    </tr>\n",
       "  </tbody>\n",
       "</table>\n",
       "</div>"
      ],
      "text/plain": [
       "            country            city          origin    origin_clean  \\\n",
       "702  United Kingdom  United Kingdom  United Kingdom  United Kingdom   \n",
       "\n",
       "      latitude  longitude         address  \n",
       "702  54.702354  -3.276575  United Kingdom  "
      ]
     },
     "execution_count": 59,
     "metadata": {},
     "output_type": "execute_result"
    }
   ],
   "source": [
    "df_coordinates_scraped[df_coordinates_scraped['city']=='United Kingdom']"
   ]
  },
  {
   "cell_type": "code",
   "execution_count": 60,
   "metadata": {},
   "outputs": [
    {
     "data": {
      "text/html": [
       "<div>\n",
       "<style scoped>\n",
       "    .dataframe tbody tr th:only-of-type {\n",
       "        vertical-align: middle;\n",
       "    }\n",
       "\n",
       "    .dataframe tbody tr th {\n",
       "        vertical-align: top;\n",
       "    }\n",
       "\n",
       "    .dataframe thead th {\n",
       "        text-align: right;\n",
       "    }\n",
       "</style>\n",
       "<table border=\"1\" class=\"dataframe\">\n",
       "  <thead>\n",
       "    <tr style=\"text-align: right;\">\n",
       "      <th></th>\n",
       "      <th>country</th>\n",
       "      <th>city</th>\n",
       "      <th>origin</th>\n",
       "      <th>origin_clean</th>\n",
       "      <th>latitude</th>\n",
       "      <th>longitude</th>\n",
       "      <th>address</th>\n",
       "    </tr>\n",
       "  </thead>\n",
       "  <tbody>\n",
       "  </tbody>\n",
       "</table>\n",
       "</div>"
      ],
      "text/plain": [
       "Empty DataFrame\n",
       "Columns: [country, city, origin, origin_clean, latitude, longitude, address]\n",
       "Index: []"
      ]
     },
     "execution_count": 60,
     "metadata": {},
     "output_type": "execute_result"
    }
   ],
   "source": [
    "df_coordinates_scraped.drop(702, axis=0, inplace=True)\n",
    "df_coordinates_scraped[df_coordinates_scraped['city']=='United Kingdom']"
   ]
  },
  {
   "cell_type": "code",
   "execution_count": 62,
   "metadata": {},
   "outputs": [],
   "source": [
    "df_coordinates_scraped.to_csv('Datasets/df_coordinates.csv', index=False)"
   ]
  },
  {
   "cell_type": "code",
   "execution_count": 63,
   "metadata": {},
   "outputs": [
    {
     "data": {
      "text/plain": [
       "(9, 7)"
      ]
     },
     "execution_count": 63,
     "metadata": {},
     "output_type": "execute_result"
    }
   ],
   "source": [
    "df_coordinates.shape"
   ]
  },
  {
   "cell_type": "code",
   "execution_count": 64,
   "metadata": {},
   "outputs": [
    {
     "name": "stdout",
     "output_type": "stream",
     "text": [
      "df_coordinates_scraped: (1526, 7)\n",
      "\n",
      "Found 4 duplicates:\n",
      "               city         country\n",
      "324         Bristol  United Kingdom\n",
      "515  Ladbroke Grove  United Kingdom\n",
      "542          London  United Kingdom\n",
      "650       Sheffield  United Kingdom\n",
      "\n",
      "Resulting dataset: (1531, 7)\n",
      "Merged artists with coordinates! Found 5 new locations\n",
      "df_coordinates_concat exported to .csv\n"
     ]
    }
   ],
   "source": [
    "export_coordinates_concat(df_coordinates)"
   ]
  },
  {
   "cell_type": "markdown",
   "metadata": {},
   "source": [
    "### **``df_artists_origins_coordinates_concat``**"
   ]
  },
  {
   "cell_type": "code",
   "execution_count": 74,
   "metadata": {},
   "outputs": [
    {
     "name": "stdout",
     "output_type": "stream",
     "text": [
      "Exported to a .csv file\n"
     ]
    },
    {
     "data": {
      "text/html": [
       "<div>\n",
       "<style scoped>\n",
       "    .dataframe tbody tr th:only-of-type {\n",
       "        vertical-align: middle;\n",
       "    }\n",
       "\n",
       "    .dataframe tbody tr th {\n",
       "        vertical-align: top;\n",
       "    }\n",
       "\n",
       "    .dataframe thead th {\n",
       "        text-align: right;\n",
       "    }\n",
       "</style>\n",
       "<table border=\"1\" class=\"dataframe\">\n",
       "  <thead>\n",
       "    <tr style=\"text-align: right;\">\n",
       "      <th></th>\n",
       "      <th>artist</th>\n",
       "      <th>country</th>\n",
       "      <th>city</th>\n",
       "      <th>latitude</th>\n",
       "      <th>longitude</th>\n",
       "      <th>address</th>\n",
       "    </tr>\n",
       "  </thead>\n",
       "  <tbody>\n",
       "    <tr>\n",
       "      <th>3246</th>\n",
       "      <td>Gilgamesh</td>\n",
       "      <td>United Kingdom</td>\n",
       "      <td>Hampstead</td>\n",
       "      <td>51.556530</td>\n",
       "      <td>-0.178301</td>\n",
       "      <td>Hampstead, Greater London, England, NW3 1QG, U...</td>\n",
       "    </tr>\n",
       "    <tr>\n",
       "      <th>3247</th>\n",
       "      <td>Young Legionnaire</td>\n",
       "      <td>United Kingdom</td>\n",
       "      <td>London</td>\n",
       "      <td>51.489334</td>\n",
       "      <td>-0.144055</td>\n",
       "      <td>London, Greater London, England, United Kingdom</td>\n",
       "    </tr>\n",
       "    <tr>\n",
       "      <th>3248</th>\n",
       "      <td>The Deviants</td>\n",
       "      <td>United Kingdom</td>\n",
       "      <td>Ladbroke Grove</td>\n",
       "      <td>51.517264</td>\n",
       "      <td>-0.211102</td>\n",
       "      <td>Ladbroke Grove, Westway, Lancaster West Estate...</td>\n",
       "    </tr>\n",
       "    <tr>\n",
       "      <th>3249</th>\n",
       "      <td>Head of David</td>\n",
       "      <td>United Kingdom</td>\n",
       "      <td>Dudley</td>\n",
       "      <td>52.511083</td>\n",
       "      <td>-2.081681</td>\n",
       "      <td>Dudley, West Midlands, England, United Kingdom</td>\n",
       "    </tr>\n",
       "    <tr>\n",
       "      <th>3250</th>\n",
       "      <td>Quintessence</td>\n",
       "      <td>United Kingdom</td>\n",
       "      <td>London</td>\n",
       "      <td>51.489334</td>\n",
       "      <td>-0.144055</td>\n",
       "      <td>London, Greater London, England, United Kingdom</td>\n",
       "    </tr>\n",
       "  </tbody>\n",
       "</table>\n",
       "</div>"
      ],
      "text/plain": [
       "                 artist         country            city   latitude  longitude  \\\n",
       "3246          Gilgamesh  United Kingdom       Hampstead  51.556530  -0.178301   \n",
       "3247  Young Legionnaire  United Kingdom          London  51.489334  -0.144055   \n",
       "3248       The Deviants  United Kingdom  Ladbroke Grove  51.517264  -0.211102   \n",
       "3249      Head of David  United Kingdom          Dudley  52.511083  -2.081681   \n",
       "3250       Quintessence  United Kingdom          London  51.489334  -0.144055   \n",
       "\n",
       "                                                address  \n",
       "3246  Hampstead, Greater London, England, NW3 1QG, U...  \n",
       "3247    London, Greater London, England, United Kingdom  \n",
       "3248  Ladbroke Grove, Westway, Lancaster West Estate...  \n",
       "3249     Dudley, West Midlands, England, United Kingdom  \n",
       "3250    London, Greater London, England, United Kingdom  "
      ]
     },
     "execution_count": 74,
     "metadata": {},
     "output_type": "execute_result"
    }
   ],
   "source": [
    "df_artists_origins_coordinates_concat = merge_origins_coordinates(df_new_artists)\n",
    "df_artists_origins_coordinates_concat.tail()"
   ]
  },
  {
   "cell_type": "markdown",
   "metadata": {},
   "source": [
    "## Changing values"
   ]
  },
  {
   "cell_type": "code",
   "execution_count": 72,
   "metadata": {},
   "outputs": [
    {
     "data": {
      "text/html": [
       "<div>\n",
       "<style scoped>\n",
       "    .dataframe tbody tr th:only-of-type {\n",
       "        vertical-align: middle;\n",
       "    }\n",
       "\n",
       "    .dataframe tbody tr th {\n",
       "        vertical-align: top;\n",
       "    }\n",
       "\n",
       "    .dataframe thead th {\n",
       "        text-align: right;\n",
       "    }\n",
       "</style>\n",
       "<table border=\"1\" class=\"dataframe\">\n",
       "  <thead>\n",
       "    <tr style=\"text-align: right;\">\n",
       "      <th></th>\n",
       "      <th>artist_id</th>\n",
       "      <th>master_id</th>\n",
       "      <th>main_release_id</th>\n",
       "      <th>release_country</th>\n",
       "      <th>artist</th>\n",
       "      <th>title</th>\n",
       "      <th>year</th>\n",
       "      <th>album_length</th>\n",
       "      <th>tracks</th>\n",
       "      <th>release_type</th>\n",
       "      <th>genres</th>\n",
       "      <th>styles</th>\n",
       "      <th>artist_profile</th>\n",
       "    </tr>\n",
       "  </thead>\n",
       "  <tbody>\n",
       "    <tr>\n",
       "      <th>1004</th>\n",
       "      <td>3821235</td>\n",
       "      <td>1537522</td>\n",
       "      <td>13529787</td>\n",
       "      <td>US</td>\n",
       "      <td>Nucleus (US)</td>\n",
       "      <td>Entity</td>\n",
       "      <td>2019</td>\n",
       "      <td>38.42</td>\n",
       "      <td>8</td>\n",
       "      <td>['Album']</td>\n",
       "      <td>['Rock']</td>\n",
       "      <td>['Death Metal']</td>\n",
       "      <td>Death Metal band from Chicago, Illinois, USA. ...</td>\n",
       "    </tr>\n",
       "    <tr>\n",
       "      <th>1592</th>\n",
       "      <td>3821235</td>\n",
       "      <td>1094310</td>\n",
       "      <td>8362817</td>\n",
       "      <td>US</td>\n",
       "      <td>Nucleus (US)</td>\n",
       "      <td>Sentient</td>\n",
       "      <td>2016</td>\n",
       "      <td>37.92</td>\n",
       "      <td>9</td>\n",
       "      <td>['Album']</td>\n",
       "      <td>['Rock']</td>\n",
       "      <td>['Death Metal']</td>\n",
       "      <td>Death Metal band from Chicago, Illinois, USA. ...</td>\n",
       "    </tr>\n",
       "    <tr>\n",
       "      <th>5257</th>\n",
       "      <td>184256</td>\n",
       "      <td>175620</td>\n",
       "      <td>279855</td>\n",
       "      <td>UK</td>\n",
       "      <td>Nucleus (UK)</td>\n",
       "      <td>We'll Talk About It Later</td>\n",
       "      <td>1971</td>\n",
       "      <td>0.00</td>\n",
       "      <td>7</td>\n",
       "      <td>['LP', 'Album']</td>\n",
       "      <td>['Jazz', 'Rock']</td>\n",
       "      <td>['Fusion', 'Jazz-Funk', 'Jazz-Rock', 'Prog Rock']</td>\n",
       "      <td>Pioneering jazz-rock, progressive, psychedelic...</td>\n",
       "    </tr>\n",
       "    <tr>\n",
       "      <th>10195</th>\n",
       "      <td>184256</td>\n",
       "      <td>23574</td>\n",
       "      <td>465143</td>\n",
       "      <td>UK</td>\n",
       "      <td>Nucleus (UK)</td>\n",
       "      <td>Elastic Rock</td>\n",
       "      <td>1970</td>\n",
       "      <td>0.00</td>\n",
       "      <td>13</td>\n",
       "      <td>['LP', 'Album']</td>\n",
       "      <td>['Jazz', 'Rock']</td>\n",
       "      <td>['Jazz-Rock', 'Fusion', 'Prog Rock']</td>\n",
       "      <td>Pioneering jazz-rock, progressive, psychedelic...</td>\n",
       "    </tr>\n",
       "  </tbody>\n",
       "</table>\n",
       "</div>"
      ],
      "text/plain": [
       "       artist_id  master_id  main_release_id release_country        artist  \\\n",
       "1004     3821235    1537522         13529787              US  Nucleus (US)   \n",
       "1592     3821235    1094310          8362817              US  Nucleus (US)   \n",
       "5257      184256     175620           279855              UK  Nucleus (UK)   \n",
       "10195     184256      23574           465143              UK  Nucleus (UK)   \n",
       "\n",
       "                           title  year  album_length  tracks     release_type  \\\n",
       "1004                      Entity  2019         38.42       8        ['Album']   \n",
       "1592                    Sentient  2016         37.92       9        ['Album']   \n",
       "5257   We'll Talk About It Later  1971          0.00       7  ['LP', 'Album']   \n",
       "10195               Elastic Rock  1970          0.00      13  ['LP', 'Album']   \n",
       "\n",
       "                 genres                                             styles  \\\n",
       "1004           ['Rock']                                    ['Death Metal']   \n",
       "1592           ['Rock']                                    ['Death Metal']   \n",
       "5257   ['Jazz', 'Rock']  ['Fusion', 'Jazz-Funk', 'Jazz-Rock', 'Prog Rock']   \n",
       "10195  ['Jazz', 'Rock']               ['Jazz-Rock', 'Fusion', 'Prog Rock']   \n",
       "\n",
       "                                          artist_profile  \n",
       "1004   Death Metal band from Chicago, Illinois, USA. ...  \n",
       "1592   Death Metal band from Chicago, Illinois, USA. ...  \n",
       "5257   Pioneering jazz-rock, progressive, psychedelic...  \n",
       "10195  Pioneering jazz-rock, progressive, psychedelic...  "
      ]
     },
     "execution_count": 72,
     "metadata": {},
     "output_type": "execute_result"
    }
   ],
   "source": [
    "df_masters_blended[df_masters_blended['artist'].str.contains('Nucleus')]"
   ]
  },
  {
   "cell_type": "code",
   "execution_count": 75,
   "metadata": {},
   "outputs": [
    {
     "data": {
      "text/html": [
       "<div>\n",
       "<style scoped>\n",
       "    .dataframe tbody tr th:only-of-type {\n",
       "        vertical-align: middle;\n",
       "    }\n",
       "\n",
       "    .dataframe tbody tr th {\n",
       "        vertical-align: top;\n",
       "    }\n",
       "\n",
       "    .dataframe thead th {\n",
       "        text-align: right;\n",
       "    }\n",
       "</style>\n",
       "<table border=\"1\" class=\"dataframe\">\n",
       "  <thead>\n",
       "    <tr style=\"text-align: right;\">\n",
       "      <th></th>\n",
       "      <th>artist_id</th>\n",
       "      <th>master_id</th>\n",
       "      <th>main_release_id</th>\n",
       "      <th>release_country</th>\n",
       "      <th>artist</th>\n",
       "      <th>title</th>\n",
       "      <th>year</th>\n",
       "      <th>album_length</th>\n",
       "      <th>tracks</th>\n",
       "      <th>release_type</th>\n",
       "      <th>genres</th>\n",
       "      <th>styles</th>\n",
       "      <th>artist_profile</th>\n",
       "    </tr>\n",
       "  </thead>\n",
       "  <tbody>\n",
       "  </tbody>\n",
       "</table>\n",
       "</div>"
      ],
      "text/plain": [
       "Empty DataFrame\n",
       "Columns: [artist_id, master_id, main_release_id, release_country, artist, title, year, album_length, tracks, release_type, genres, styles, artist_profile]\n",
       "Index: []"
      ]
     },
     "execution_count": 75,
     "metadata": {},
     "output_type": "execute_result"
    }
   ],
   "source": [
    "df_masters_blended[df_masters_blended['title'].str.contains('Alleycat')]"
   ]
  },
  {
   "cell_type": "code",
   "execution_count": 77,
   "metadata": {},
   "outputs": [
    {
     "data": {
      "text/html": [
       "<div>\n",
       "<style scoped>\n",
       "    .dataframe tbody tr th:only-of-type {\n",
       "        vertical-align: middle;\n",
       "    }\n",
       "\n",
       "    .dataframe tbody tr th {\n",
       "        vertical-align: top;\n",
       "    }\n",
       "\n",
       "    .dataframe thead th {\n",
       "        text-align: right;\n",
       "    }\n",
       "</style>\n",
       "<table border=\"1\" class=\"dataframe\">\n",
       "  <thead>\n",
       "    <tr style=\"text-align: right;\">\n",
       "      <th></th>\n",
       "      <th>album_id</th>\n",
       "      <th>artist</th>\n",
       "      <th>title</th>\n",
       "      <th>rating</th>\n",
       "      <th>votes</th>\n",
       "    </tr>\n",
       "  </thead>\n",
       "  <tbody>\n",
       "    <tr>\n",
       "      <th>29004</th>\n",
       "      <td>86398</td>\n",
       "      <td>Nucleus (UK)</td>\n",
       "      <td>Elastic Rock</td>\n",
       "      <td>3.55</td>\n",
       "      <td>20</td>\n",
       "    </tr>\n",
       "    <tr>\n",
       "      <th>29120</th>\n",
       "      <td>87140</td>\n",
       "      <td>Nucleus (UK)</td>\n",
       "      <td>We'll Talk About It Later</td>\n",
       "      <td>3.79</td>\n",
       "      <td>21</td>\n",
       "    </tr>\n",
       "    <tr>\n",
       "      <th>39636</th>\n",
       "      <td>216509</td>\n",
       "      <td>Nucleus (US)</td>\n",
       "      <td>Sentient</td>\n",
       "      <td>3.29</td>\n",
       "      <td>29</td>\n",
       "    </tr>\n",
       "    <tr>\n",
       "      <th>45524</th>\n",
       "      <td>333839</td>\n",
       "      <td>Nucleus (US)</td>\n",
       "      <td>Entity</td>\n",
       "      <td>3.68</td>\n",
       "      <td>40</td>\n",
       "    </tr>\n",
       "    <tr>\n",
       "      <th>46380</th>\n",
       "      <td>352917</td>\n",
       "      <td>Nucleus (UK)</td>\n",
       "      <td>Alleycat</td>\n",
       "      <td>3.52</td>\n",
       "      <td>20</td>\n",
       "    </tr>\n",
       "  </tbody>\n",
       "</table>\n",
       "</div>"
      ],
      "text/plain": [
       "       album_id        artist                      title  rating  votes\n",
       "29004     86398  Nucleus (UK)               Elastic Rock    3.55     20\n",
       "29120     87140  Nucleus (UK)  We'll Talk About It Later    3.79     21\n",
       "39636    216509  Nucleus (US)                   Sentient    3.29     29\n",
       "45524    333839  Nucleus (US)                     Entity    3.68     40\n",
       "46380    352917  Nucleus (UK)                   Alleycat    3.52     20"
      ]
     },
     "execution_count": 77,
     "metadata": {},
     "output_type": "execute_result"
    }
   ],
   "source": [
    "df_ratings_20[df_ratings_20['artist'].str.contains('Nucleus')]"
   ]
  },
  {
   "cell_type": "code",
   "execution_count": 76,
   "metadata": {},
   "outputs": [],
   "source": [
    "df_ratings_20.loc[46380, 'artist'] = 'Nucleus (UK)'\n",
    "df_ratings_20.loc[29004, 'artist'] = 'Nucleus (UK)'\n",
    "df_ratings_20.loc[29120, 'artist'] = 'Nucleus (UK)'\n",
    "df_ratings_20.loc[39636, 'artist'] = 'Nucleus (US)'\n",
    "df_ratings_20.loc[45524, 'artist'] = 'Nucleus (US)'"
   ]
  },
  {
   "cell_type": "code",
   "execution_count": 869,
   "metadata": {},
   "outputs": [
    {
     "data": {
      "text/plain": [
       "(12059, 10)"
      ]
     },
     "execution_count": 869,
     "metadata": {},
     "output_type": "execute_result"
    }
   ],
   "source": [
    "df.drop([7660, 8037], axis=0, inplace=True)\n",
    "df.shape"
   ]
  },
  {
   "cell_type": "code",
   "execution_count": 122,
   "metadata": {},
   "outputs": [
    {
     "data": {
      "text/html": [
       "<div>\n",
       "<style scoped>\n",
       "    .dataframe tbody tr th:only-of-type {\n",
       "        vertical-align: middle;\n",
       "    }\n",
       "\n",
       "    .dataframe tbody tr th {\n",
       "        vertical-align: top;\n",
       "    }\n",
       "\n",
       "    .dataframe thead th {\n",
       "        text-align: right;\n",
       "    }\n",
       "</style>\n",
       "<table border=\"1\" class=\"dataframe\">\n",
       "  <thead>\n",
       "    <tr style=\"text-align: right;\">\n",
       "      <th></th>\n",
       "      <th>album_id</th>\n",
       "      <th>artist</th>\n",
       "      <th>album</th>\n",
       "      <th>rating</th>\n",
       "      <th>votes</th>\n",
       "    </tr>\n",
       "  </thead>\n",
       "  <tbody>\n",
       "  </tbody>\n",
       "</table>\n",
       "</div>"
      ],
      "text/plain": [
       "Empty DataFrame\n",
       "Columns: [album_id, artist, album, rating, votes]\n",
       "Index: []"
      ]
     },
     "execution_count": 122,
     "metadata": {},
     "output_type": "execute_result"
    }
   ],
   "source": [
    "df['artist'] = np.where(df['artist']=='pg.99 / Majority Rule', 'Majority Rule', df['artist'])\n",
    "df[df['artist']=='pg.99 / Majority Rule']"
   ]
  },
  {
   "cell_type": "code",
   "execution_count": 78,
   "metadata": {},
   "outputs": [],
   "source": [
    "df_ratings_20.to_csv('Datasets/df_ratings_20.csv', index=False)"
   ]
  },
  {
   "cell_type": "code",
   "execution_count": 581,
   "metadata": {},
   "outputs": [
    {
     "data": {
      "text/plain": [
       "(12059, 10)"
      ]
     },
     "execution_count": 581,
     "metadata": {},
     "output_type": "execute_result"
    }
   ],
   "source": [
    "df.shape"
   ]
  },
  {
   "cell_type": "markdown",
   "metadata": {},
   "source": [
    "### **Testing code for strange cases**"
   ]
  },
  {
   "cell_type": "code",
   "execution_count": null,
   "metadata": {},
   "outputs": [
    {
     "name": "stdout",
     "output_type": "stream",
     "text": [
      "0 - Funeral_for_a_Friend_(band): Bridgend, Wales\n",
      "1 - Millencolin_(band): multiple issues - Örebro, Sweden\n",
      "2 - The_Flaming_Lips_(band): Oklahoma City, Oklahoma, U.S.\n",
      "3 - Feeder_(band): Feeder in 2008\n",
      "4 - Descendents_(band): Manhattan Beach, California, U.S.\n",
      "5 - PJ Harvey: no location found\n",
      "6 - Godsmack_(band): Lawrence, Massachusetts U.S.\n",
      "7 - Blind_Faith_(band): Ripley, Surrey, England\n",
      "8 - Van_Halen_(band): Pasadena, California, U.S.\n",
      "9 - Damageplan_(band): Dallas, Texas, U.S.\n"
     ]
    }
   ],
   "source": [
    "df = pd.read_csv('Datasets/df_ratings.csv')\n",
    "artists = df['artist'].unique()\n",
    "\n",
    "artists_list = []\n",
    "origin_list = []\n",
    "count=0\n",
    "\n",
    "for index in artists[140:150]:\n",
    "\n",
    "    artists_list.append(index)\n",
    "    name_changed = index.replace(' ', '_')\n",
    "    name_changed_band = name_changed + ('_(band)')\n",
    "\n",
    "    try:\n",
    "        url = f\"https://en.wikipedia.org/wiki/{name_changed_band}\"\n",
    "        response = requests.get(url).content\n",
    "        soup = BeautifulSoup(response, \"html.parser\")\n",
    "\n",
    "        origin = soup.select('table tr th', class_='infobox-label')\n",
    "\n",
    "        if len(origin) > 0:\n",
    "            try:\n",
    "                if origin[2].text == 'Origin':\n",
    "                    location = soup.select('table tr td', class_='infobox-data')[1].text\n",
    "                elif origin[3].text == 'Origin':\n",
    "                    location = soup.select('table tr td', class_='infobox-data')[2].text\n",
    "                # else:\n",
    "                    \n",
    "                if 'multiple issues' in location:\n",
    "                    location = soup.select('table tr td', class_='infobox-data')[7].text        \n",
    "                    print(f'{count} - {name_changed_band}: multiple issues - {location}')\n",
    "                    origin_list.append(location)\n",
    "                elif 'additional citations' in location:\n",
    "                    location = soup.select('table tr td', class_='infobox-data')[3].text        \n",
    "                    print(f'{count} - {name_changed_band}: additional citations - {location}')\n",
    "                    origin_list.append(location)\n",
    "\n",
    "                else:\n",
    "                    print(f'{count} - {name_changed_band}: {location}')\n",
    "                    origin_list.append(location)\n",
    "            except:\n",
    "                print(f'{count} - {name_changed_band}: {location}')\n",
    "                origin_list.append(location)      \n",
    "        else:\n",
    "            try:\n",
    "                url = f\"https://en.wikipedia.org/wiki/{name_changed}\"\n",
    "                response = requests.get(url).content\n",
    "                soup = BeautifulSoup(response, \"html.parser\")\n",
    "\n",
    "                origin = soup.select('table tr th', class_='infobox-label')\n",
    "\n",
    "                if len(origin) > 0:\n",
    "                    if origin[2].text == 'Origin':\n",
    "                        location = soup.select('table tr td', class_='infobox-data')[1].text\n",
    "\n",
    "                        if 'multiple issues' in location:\n",
    "                            location = soup.select('table tr td', class_='infobox-data')[7].text        \n",
    "                            print(f'{count} - {name_changed_band}: multiple issues - {location}')\n",
    "                            origin_list.append(location)\n",
    "                        elif 'additional citations' in location:\n",
    "                            location = soup.select('table tr td', class_='infobox-data')[3].text        \n",
    "                            print(f'{count} - {name_changed_band}: additional citations - {location}')\n",
    "                            origin_list.append(location)\n",
    "                        else:\n",
    "                            print(f'{count} - {name_changed_band}: {location}')\n",
    "                            origin_list.append(location)\n",
    "\n",
    "                    elif origin[3].text == 'Origin':\n",
    "                        location = soup.select('table tr td', class_='infobox-data')[2].text\n",
    "                        print(f'{count} - {name_changed_band}: {location}')\n",
    "                        origin_list.append(location) \n",
    "\n",
    "                    else:\n",
    "                        print(f'{count} - {index}: no location found')\n",
    "                        origin_list.append(np.nan)  \n",
    "                else:\n",
    "                    print(f'{count} - {index}: short length')\n",
    "                    origin_list.append(np.nan)\n",
    "            except:\n",
    "                print(f'{count} - {index}: error')\n",
    "                origin_list.append(np.nan)\n",
    "    except:\n",
    "        print(f'{count} - {index}: error')\n",
    "        origin_list.append(np.nan)\n",
    "\n",
    "    if len(artists_list) != len(origin_list):\n",
    "        print('different lengths')\n",
    "        break\n",
    "\n",
    "    count+=1"
   ]
  },
  {
   "cell_type": "markdown",
   "metadata": {},
   "source": [
    "## Defining the functions"
   ]
  },
  {
   "cell_type": "code",
   "execution_count": 15,
   "metadata": {},
   "outputs": [],
   "source": [
    "def get_origins_wikipedia(df, start_index, final_index):\n",
    "    df = pd.read_csv('Datasets/df_rock_ratings_20.csv')\n",
    "    artists = df['artist'].unique()\n",
    "\n",
    "    try:\n",
    "    # import the DataFrame with the locations whose coordinates I already have\n",
    "        df_coordinates_scraped = pd.read_csv('Datasets/df_coordinates.csv')\n",
    "        print('Bingo! df_coordinates.csv found \\n')\n",
    "    except: \n",
    "        print('df_coordinates.csv not found \\n')\n",
    "\n",
    "    artists_list = []\n",
    "    origin_list = []\n",
    "    count=0\n",
    "    scraped=0\n",
    "\n",
    "    for index in artists_us_to_do[start_index:final_index]:\n",
    "\n",
    "        name_changed = index.replace(' ', '_')\n",
    "        name_changed_band = name_changed + ('_(band)')\n",
    "\n",
    "        try:\n",
    "            url = f\"https://en.wikipedia.org/wiki/{name_changed_band}\"\n",
    "            response = requests.get(url).content\n",
    "            soup = BeautifulSoup(response, \"html.parser\")\n",
    "\n",
    "            table = soup.select('#mw-content-text > div.mw-content-ltr.mw-parser-output > table.infobox')\n",
    "\n",
    "            location = table[0].text.split('Origin')[1].split('Genres')[0]\n",
    "            city = location.split(', ')[0]\n",
    "            count+=1\n",
    "            \n",
    "        # save info in lists\n",
    "            artists_list.append(index)  \n",
    "            origin_list.append(location)\n",
    "            scraped+=1\n",
    "            print(f'{scraped}/{count} - {name_changed_band}: {location}')\n",
    "\n",
    "        except:\n",
    "            try:\n",
    "                url = f\"https://en.wikipedia.org/wiki/{name_changed}\"\n",
    "                response = requests.get(url).content\n",
    "                soup = BeautifulSoup(response, \"html.parser\")\n",
    "                table = soup.select('#mw-content-text > div.mw-content-ltr.mw-parser-output > table.infobox')\n",
    "\n",
    "                try:\n",
    "                    location = table[0].text.split('Origin')[1].split('Genres')[0]\n",
    "                    city = location.split(', ')[0]\n",
    "                    count+=1 \n",
    "    \n",
    "                # save info in lists\n",
    "                    artists_list.append(index)  \n",
    "                    origin_list.append(location)\n",
    "                    scraped+=1\n",
    "                    print(f'{scraped}/{count} - {name_changed}: {location}')\n",
    "\n",
    "                except:\n",
    "                    location = table[0].text.split(')')[2].split('Genres')[0]\n",
    "                    city = location.split(', ')[0]\n",
    "                    count+=1\n",
    "\n",
    "                # save info in lists\n",
    "                    artists_list.append(index)  \n",
    "                    origin_list.append(location)\n",
    "                    scraped+=1\n",
    "                    print(f'{scraped}/{count} - {name_changed} (individual): {location}')\n",
    "\n",
    "            except:\n",
    "                try:\n",
    "                    url = f\"https://es.wikipedia.org/wiki/{name_changed}\"\n",
    "                    response = requests.get(url).content\n",
    "                    soup = BeautifulSoup(response, \"html.parser\")\n",
    "\n",
    "                    table = soup.select('#mw-content-text > div.mw-content-ltr.mw-parser-output > table.infobox')\n",
    "                    location = table[0].text.split('Origen\\n')[1].split(' Información')[0]\n",
    "                    city = location.split(', ')[0]\n",
    "                    count+=1    \n",
    "    \n",
    "                # save info in lists\n",
    "                    artists_list.append(index)  \n",
    "                    origin_list.append(location)\n",
    "                    scraped+=1\n",
    "                    print(f'{scraped}/{count} - {name_changed} (español): {location}')\n",
    "\n",
    "                except:\n",
    "                    count+=1\n",
    "                    print(f'{scraped}/{count} - {index}: error')\n",
    "                    artists_list.append(index) \n",
    "                    origin_list.append(np.nan)\n",
    "\n",
    "        if len(artists_list) != len(origin_list):\n",
    "            print('different lengths')\n",
    "            break\n",
    "\n",
    "    df_artists_origins = pd.DataFrame({'artist': artists_list\n",
    "                             , 'origin': origin_list})\n",
    "    \n",
    "    return df_artists_origins"
   ]
  },
  {
   "cell_type": "code",
   "execution_count": 102,
   "metadata": {},
   "outputs": [],
   "source": [
    "def get_new_artists(df_artists_origins):\n",
    "\n",
    "# import the df with the artists' origins already scraped\n",
    "    df_artists_origins_scraped = pd.read_csv('Datasets/df_artists_origins.csv')\n",
    "\n",
    "    if df_artists_origins['origin'].isna().sum() == 0:        \n",
    "        print(\"No null values, but let's take a look just in case there are weird locations\")\n",
    "\n",
    "    else: \n",
    "    # take a look at the df with the new artists and make sure there are non null values in origin (when it couldn't find it in Wikipedia)\n",
    "        print(f'{round(df_artists_origins['origin'].isna().sum() / df_artists_origins.shape[0]*100, 2)} % of nulls')\n",
    "    \n",
    "# subset of the new artists I just got, wether there are null values or not\n",
    "    df_new_artists = df_artists_origins[~df_artists_origins['artist'].isin(df_artists_origins_scraped['artist'].values)]\n",
    "\n",
    "    print(\"Here is the dataframe with the new artists, without duplicates\")\n",
    "    return df_new_artists   # so I can take a look at it and then continue"
   ]
  },
  {
   "cell_type": "code",
   "execution_count": null,
   "metadata": {},
   "outputs": [],
   "source": [
    "def export_artists_origins_concat(df_new_artists):\n",
    "\n",
    "# import the df with the artists' origins already scraped\n",
    "    df_artists_origins_scraped = pd.read_csv('Datasets/df_artists_origins.csv')\n",
    "\n",
    "# concat with the df I just got\n",
    "    df_artists_origins_concat = pd.concat([df_artists_origins_scraped, df_new_artists])\n",
    "    df_artists_origins_concat.drop_duplicates(inplace=True)     # just in case\n",
    "    df_artists_origins_concat.reset_index(drop=True, inplace=True)\n",
    "\n",
    "# export all the artists and their origins to a .csv file (the ones I got plus the new artists)\n",
    "    df_artists_origins_concat.to_csv('Datasets/df_artists_origins.csv', index=False)\n",
    "    print('df_artists_origins_concat exported to .csv')\n",
    "    print(df_artists_origins_concat.shape)"
   ]
  },
  {
   "cell_type": "code",
   "execution_count": 175,
   "metadata": {},
   "outputs": [],
   "source": [
    "def get_coordinates_geopy(df_new_artists):\n",
    "    \n",
    "# replace special characters for spaces\n",
    "    df_new_artists['origin_clean'] = df_new_artists['origin'].str.replace('.', '')\n",
    "    df_new_artists['origin_clean'] = df_new_artists['origin_clean'].str.replace(r'\\[\\d+\\]', '', regex=True)\n",
    "\n",
    "# run the function that gets the coordinates from the origins from Geopy\n",
    "    geolocator = Nominatim(user_agent=\"music_analysis\", timeout=10)\n",
    "\n",
    "# if they are 'dirty' origins that after the cleaning, they result in the same 'origin_clean'\n",
    "    df_unique = df_new_artists[['origin', 'origin_clean']].drop_duplicates() \n",
    "    unique_origins = df_unique['origin'].values\n",
    "    unique_origins_clean = df_unique['origin_clean'].values\n",
    "\n",
    "    country_list = []\n",
    "    city_list = []\n",
    "    latitude_list = []\n",
    "    longitude_list = []\n",
    "    address_list = []\n",
    "    lists = [country_list, city_list, latitude_list, longitude_list, address_list]\n",
    "    count = 0\n",
    "\n",
    "    for origin in unique_origins_clean:\n",
    "        count+=1\n",
    "        time.sleep(1)\n",
    "        location = geolocator.geocode(origin)\n",
    "\n",
    "        print(f'{count}/{len(unique_origins_clean)} - {location.address}')  \n",
    "\n",
    "    # save the info in lists\n",
    "        country_list.append(location.address.split(', ')[-1])\n",
    "        city_list.append(origin.split(', ')[0])\n",
    "        latitude_list.append(location.latitude)\n",
    "        longitude_list.append(location.longitude)\n",
    "        address_list.append(location.address)\n",
    "\n",
    "        # # Check lengths\n",
    "        # print(f\"{count}/{len(unique_origins_clean)} - {origin}\")\n",
    "        # print(f\"Current list lengths -> country: {len(country_list)}, city: {len(city_list)}, \"\n",
    "        #     f\"lat: {len(latitude_list)}, lon: {len(longitude_list)}, address: {len(address_list)}\")\n",
    "\n",
    "    df_coordinates = pd.DataFrame({'country': country_list\n",
    "                                , 'city': city_list\n",
    "                                , 'origin': unique_origins\n",
    "                                , 'origin_clean': unique_origins_clean\n",
    "                                , 'latitude': latitude_list\n",
    "                                , 'longitude': longitude_list\n",
    "                                , 'address': address_list})\n",
    "    df_coordinates.sort_values(['country', 'city'], inplace=True) # sort by country and city\n",
    "    df_coordinates.reset_index(drop=True, inplace=True)\n",
    "\n",
    "    return df_coordinates"
   ]
  },
  {
   "cell_type": "code",
   "execution_count": null,
   "metadata": {},
   "outputs": [],
   "source": [
    "def export_coordinates_concat(df_coordinates):\n",
    "\n",
    "# import the last df that contains the coordinates of the unique origins\n",
    "    df_coordinates_scraped = pd.read_csv('Datasets/df_coordinates.csv')\n",
    "    print(f\"df_coordinates_scraped: {df_coordinates_scraped.shape}\\n\")\n",
    "\n",
    "# concat with the df of the coordinates I just got\n",
    "    df_coordinates_concat = pd.concat([df_coordinates_scraped, df_coordinates])\n",
    "    df_coordinates_concat.sort_values(['country', 'city'], inplace=True) # sort by country and city\n",
    "    df_coordinates_concat.reset_index(drop=True, inplace=True)\n",
    "\n",
    "# look for duplicates in the origin, between the locations I had already gotten and the new ones\n",
    "    check_duplicates_origins(df_coordinates_concat)\n",
    "    new_origins = df_coordinates_concat.shape[0] - df_coordinates_scraped.shape[0]\n",
    "    print(f\"Merged artists with coordinates! Found {new_origins} new locations\")\n",
    "\n",
    "# save it in a csv file (the coordinates I had plus the ones from the new artists I just got)\n",
    "    df_coordinates_concat.to_csv('Datasets/df_coordinates.csv', index=False)\n",
    "    print('df_coordinates_concat exported to .csv')"
   ]
  },
  {
   "cell_type": "code",
   "execution_count": 140,
   "metadata": {},
   "outputs": [],
   "source": [
    "def merge_origins_coordinates(df_new_artists):\n",
    "\n",
    "# import the last df that contains the coordinates of the unique origins\n",
    "    df_coordinates_concat = pd.read_csv('Datasets/df_coordinates.csv')\n",
    "\n",
    "# merge with the previous df with the artists\n",
    "    df_artists_origins_coordinates = pd.merge(df_new_artists, df_coordinates_concat, on=['origin'])\n",
    "    df_artists_origins_coordinates.drop(columns=['origin', 'origin_clean_x', 'origin_clean_y'], inplace=True)\n",
    "\n",
    "# import the df that contains info of the artists and the coordinates of their origins\n",
    "    df_artists_origins_coordinates_scraped = pd.read_csv('Datasets/df_artists_origins_coordinates.csv')\n",
    "\n",
    "# concat to get the df with all the artists, origins and their coordinates\n",
    "    df_artists_origins_coordinates_concat = pd.concat([df_artists_origins_coordinates_scraped, df_artists_origins_coordinates])\n",
    "    df_artists_origins_coordinates_concat.reset_index(drop=True, inplace=True)\n",
    "\n",
    "# save it in a csv file\n",
    "    df_artists_origins_coordinates_concat.to_csv('Datasets/df_artists_origins_coordinates.csv', index=False)\n",
    "    print(\"Exported to a .csv file\")\n",
    "\n",
    "    return df_artists_origins_coordinates_concat"
   ]
  },
  {
   "cell_type": "markdown",
   "metadata": {},
   "source": [
    "## Merge dataframes and look for the ``new_artists``"
   ]
  },
  {
   "cell_type": "code",
   "execution_count": 11,
   "metadata": {},
   "outputs": [
    {
     "data": {
      "text/plain": [
       "4527"
      ]
     },
     "execution_count": 11,
     "metadata": {},
     "output_type": "execute_result"
    }
   ],
   "source": [
    "artists_blend = df_masters_blended['artist'].unique()\n",
    "len(artists_blend)"
   ]
  },
  {
   "cell_type": "code",
   "execution_count": 12,
   "metadata": {},
   "outputs": [
    {
     "data": {
      "text/plain": [
       "1555"
      ]
     },
     "execution_count": 12,
     "metadata": {},
     "output_type": "execute_result"
    }
   ],
   "source": [
    "df_artists_origins = pd.read_csv('Datasets/df_artists_origins.csv')\n",
    "artists = df_artists_origins['artist'].unique()\n",
    "artists_usa = []\n",
    "\n",
    "for artist in artists_blend:\n",
    "    if artist not in df_artists_origins['artist'].values:\n",
    "        artists_usa.append(artist)\n",
    "\n",
    "len(artists_usa)"
   ]
  },
  {
   "cell_type": "code",
   "execution_count": 13,
   "metadata": {},
   "outputs": [
    {
     "data": {
      "text/plain": [
       "['As Living Arrows',\n",
       " 'Hidden Mothers',\n",
       " 'Tiny Moving Parts',\n",
       " 'Poppy',\n",
       " 'State Champs',\n",
       " 'Oso Oso',\n",
       " 'Better Lovers',\n",
       " 'Lowen',\n",
       " 'Halsey',\n",
       " 'Amyl and the Sniffers',\n",
       " 'Delta Sleep',\n",
       " 'High Vis',\n",
       " 'Cemetery Skyline',\n",
       " 'Goat',\n",
       " 'Chat Pile',\n",
       " 'Drug Church',\n",
       " 'Origami Angel',\n",
       " 'Heriot',\n",
       " 'Nightwish',\n",
       " 'Foxing',\n",
       " 'Alora Crucible',\n",
       " 'Wage War',\n",
       " 'TURQUOISEDEATH',\n",
       " 'Dawn Treader',\n",
       " 'Boston Manor',\n",
       " 'MJ Lenderman',\n",
       " 'Fat Dog',\n",
       " 'Kingcrow',\n",
       " 'Leprous',\n",
       " 'Wunderhorse',\n",
       " 'thrown',\n",
       " 'Horse Jumper of Love',\n",
       " 'Within the Ruins',\n",
       " 'Magdalena Bay',\n",
       " 'Fontaines D.C.',\n",
       " 'beabadoobee',\n",
       " 'State Faults',\n",
       " 'Graphic Nature',\n",
       " 'The Home Team',\n",
       " 'Speed',\n",
       " 'Remi Wolf',\n",
       " 'Clairo',\n",
       " 'Crippling Alcoholism',\n",
       " 'Cigarettes After Sex',\n",
       " 'Abriction',\n",
       " 'Pijn',\n",
       " 'Outlander',\n",
       " 'Imagine Dragons',\n",
       " 'The Dangerous Summer',\n",
       " 'Pond',\n",
       " 'Hyperdontia',\n",
       " 'Vredehammer',\n",
       " 'Pedro the Lion',\n",
       " 'Weston Super Maim',\n",
       " 'Stand Still',\n",
       " 'Mortal Wound',\n",
       " 'Eye of Solitude',\n",
       " 'Beth Gibbons',\n",
       " 'Contention',\n",
       " 'Knocked Loose',\n",
       " 'Mdou Moctar',\n",
       " 'The Lemon Twigs',\n",
       " 'Mk.Gee',\n",
       " 'Vennart',\n",
       " 'Microwave',\n",
       " 'Mastiff',\n",
       " 'Skycamefalling',\n",
       " 'SeeYouSpaceCowboy',\n",
       " 'Jamie Lenman',\n",
       " 'AVRALIZE',\n",
       " 'Imminence',\n",
       " 'Aaron West and The Roaring Twenties',\n",
       " 'Lo Moon',\n",
       " 'English Teacher',\n",
       " 'Engulfed',\n",
       " 'Khruangbin',\n",
       " 'Coffin Storm',\n",
       " 'Blanket',\n",
       " 'Boundaries',\n",
       " 'Adrianne Lenker',\n",
       " 'samlrc',\n",
       " 'Sticky Fingers',\n",
       " 'Bleachers',\n",
       " 'Stay Inside',\n",
       " 'Mannequin Pussy',\n",
       " 'Yard Act',\n",
       " 'Faye Webster',\n",
       " 'Little Kid',\n",
       " 'Job For A Cowboy',\n",
       " 'IDLES',\n",
       " 'Ihsahn',\n",
       " 'Laura Jane Grace',\n",
       " 'The Chisel',\n",
       " 'The Last Dinner Party',\n",
       " 'NewDad',\n",
       " 'Frank Carter and the Rattlesnakes',\n",
       " 'Tapir!',\n",
       " 'Neck Deep',\n",
       " 'Casey',\n",
       " 'Marika Hackman',\n",
       " 'Slift',\n",
       " 'Sprints',\n",
       " 'Killing Me Softly',\n",
       " 'Rannoch',\n",
       " 'Termina',\n",
       " 'Harp',\n",
       " 'Empty Country',\n",
       " 'Free Throw',\n",
       " 'Psychedelic Porn Crumpets',\n",
       " 'Dying Wish',\n",
       " 'END',\n",
       " 'Wargasm',\n",
       " 'Maria BC',\n",
       " 'Myrkur',\n",
       " 'Knuckle Puck',\n",
       " 'Creeper',\n",
       " 'Beartooth',\n",
       " 'Blood Command',\n",
       " 'Rorcal',\n",
       " 'Yeule',\n",
       " 'Slow Pulp',\n",
       " 'Dead and Dripping',\n",
       " 'Koyo',\n",
       " 'Shade Empire',\n",
       " 'TesseracT',\n",
       " 'Explosions in the Sky',\n",
       " 'Cursetheknife',\n",
       " 'Olivia Rodrigo',\n",
       " 'Uada',\n",
       " 'Pain of Truth',\n",
       " 'Reverence To Paroxysm',\n",
       " 'Royal Blood',\n",
       " 'Celestial Sanctuary',\n",
       " 'Empire State Bastard',\n",
       " 'Jeff Rosenstock',\n",
       " 'Spanish Love Songs',\n",
       " 'Urne',\n",
       " 'Movements',\n",
       " 'Caskets',\n",
       " 'Fiddlehead',\n",
       " 'Sunami',\n",
       " 'Teenage Wrist',\n",
       " 'Deitus',\n",
       " 'Mutoid Man',\n",
       " 'Voyager',\n",
       " 'Dawnwalker',\n",
       " 'PVRIS',\n",
       " 'Julie Byrne',\n",
       " 'Blindfolded and Led to the Woods',\n",
       " 'Nothing But Thieves',\n",
       " 'Grian Chatten',\n",
       " 'Model/Actriz',\n",
       " 'Burner',\n",
       " 'Death Goals',\n",
       " 'King Krule',\n",
       " 'feeble little horse',\n",
       " 'Noah Kahan',\n",
       " 'Squid',\n",
       " 'Tigercub',\n",
       " 'Pupil Slicer',\n",
       " 'Protomartyr',\n",
       " 'Phoxjaw',\n",
       " 'Bully',\n",
       " 'Wytch Hazel',\n",
       " 'Water From Your Eyes',\n",
       " 'Incendiary',\n",
       " 'bar italia',\n",
       " 'Sleep Token',\n",
       " 'Mandy, Indiana',\n",
       " 'Covet',\n",
       " 'The Amity Affliction',\n",
       " 'Veil of Maya',\n",
       " 'Currents',\n",
       " 'Crown the Empire',\n",
       " 'There Will Be Fireworks',\n",
       " 'Waterparks',\n",
       " 'Blondshell',\n",
       " 'HMLTD',\n",
       " 'deathcrash',\n",
       " 'Wednesday',\n",
       " 'Gel',\n",
       " 'Allfather',\n",
       " 'Bury Tomorrow',\n",
       " 'City and Colour',\n",
       " 'Boygenius',\n",
       " \"Dawn Ray'd\",\n",
       " 'BABYMETAL',\n",
       " 'Mork',\n",
       " 'Green Druid',\n",
       " 'M83',\n",
       " '100 Gecs',\n",
       " 'Periphery',\n",
       " 'Sleaford Mods',\n",
       " 'Acres',\n",
       " \"Can't Swim\",\n",
       " 'Pest Control',\n",
       " 'Host',\n",
       " 'U.S. Girls',\n",
       " 'Shame',\n",
       " 'Avatar',\n",
       " 'Hellripper',\n",
       " 'Avey Tare',\n",
       " 'A Wake in Providence',\n",
       " 'Pigs Pigs Pigs Pigs Pigs Pigs Pigs',\n",
       " 'Ihlo',\n",
       " 'Narrow Head',\n",
       " 'Emarosa',\n",
       " 'Molly',\n",
       " 'The Murder Capital',\n",
       " 'Margo Price',\n",
       " 'Weyes Blood',\n",
       " 'Turnover',\n",
       " 'Demon Hunter',\n",
       " \"Arm's Length\",\n",
       " 'Fit for a King',\n",
       " 'Dead Cross',\n",
       " 'Abduction',\n",
       " 'Brutus',\n",
       " 'Dry Cleaning',\n",
       " 'The 1975',\n",
       " 'Lacuna Coil',\n",
       " 'Gilla Band',\n",
       " 'Alvvays',\n",
       " 'Counterparts',\n",
       " 'Vacuous',\n",
       " 'Faceless Burial',\n",
       " 'Drowning Pool',\n",
       " 'Within Destruction',\n",
       " 'Miss May I',\n",
       " 'Escuela Grind',\n",
       " 'No Devotion',\n",
       " 'Holy Fawn',\n",
       " 'Courting',\n",
       " 'Tamino',\n",
       " 'Horsey',\n",
       " 'Inclination',\n",
       " 'Rina Sawayama',\n",
       " 'Electric Callboy',\n",
       " 'Camping In Alaska',\n",
       " 'Slaughterhouse',\n",
       " 'YUNGBLUD',\n",
       " 'Stella Donnelly',\n",
       " 'Julia Jacklin',\n",
       " 'Pale Waves',\n",
       " 'The Halo Effect',\n",
       " 'Sedimentum',\n",
       " 'Pool Kids',\n",
       " 'Ithaca',\n",
       " 'Dance Gavin Dance',\n",
       " 'Molder',\n",
       " 'Black Midi',\n",
       " 'Say Sue Me',\n",
       " 'Viagra Boys',\n",
       " 'Wormrot',\n",
       " 'Momma',\n",
       " 'Petrol Girls',\n",
       " 'Saor',\n",
       " 'Soccer Mommy',\n",
       " 'Sunrise Patriot Motion',\n",
       " 'Nova Twins',\n",
       " 'Ataraxy',\n",
       " 'Otoboke Beaver',\n",
       " 'Motionless In White',\n",
       " 'Corpsessed',\n",
       " 'Blood Youth',\n",
       " 'Horsegirl',\n",
       " 'Just Mustard',\n",
       " 'Malevolence',\n",
       " 'Harry Styles',\n",
       " 'Porridge Radio',\n",
       " 'Toad',\n",
       " 'Rolling Blackouts Coastal Fever',\n",
       " 'Bodysnatcher',\n",
       " 'Static Dress',\n",
       " 'Halestorm',\n",
       " 'Stand Atlantic',\n",
       " 'Proper.',\n",
       " 'Black Sheep Wall',\n",
       " 'Hatchie',\n",
       " 'Prince Daddy and The Hyena',\n",
       " 'Undeath',\n",
       " 'Epitaphe',\n",
       " 'Envy of None',\n",
       " 'Helpless',\n",
       " 'Wet Leg',\n",
       " 'PUP',\n",
       " 'Camp Cope',\n",
       " 'Ditz',\n",
       " 'Aldous Harding',\n",
       " 'Indian Summer',\n",
       " 'Machine Gun Kelly',\n",
       " 'Animals As Leaders',\n",
       " 'Yumi Zouma',\n",
       " 'Twelve Foot Ninja',\n",
       " 'Belmont',\n",
       " 'Messa',\n",
       " 'Chalk Hands',\n",
       " 'Ghost',\n",
       " 'Cryptworm',\n",
       " 'Mountaineer',\n",
       " 'Ecchymosis',\n",
       " 'Bloodywood',\n",
       " 'Sasami',\n",
       " 'Avril Lavigne',\n",
       " 'Mom Jeans.',\n",
       " 'Caroline',\n",
       " 'Scorpions',\n",
       " 'Evergreen',\n",
       " 'Sea Power',\n",
       " 'Big Thief',\n",
       " 'As It Is',\n",
       " 'Grivo',\n",
       " 'Mitski',\n",
       " 'Pinegrove',\n",
       " 'Black Country, New Road',\n",
       " 'Bad Omens',\n",
       " 'Voices',\n",
       " 'Comeback Kid',\n",
       " 'Shadow Of Intent',\n",
       " 'Vertebra Atlantis',\n",
       " 'Slow Crush',\n",
       " 'Unfurl',\n",
       " 'Geese',\n",
       " 'Papangu',\n",
       " 'Damon Albarn',\n",
       " 'Sermon of Flames',\n",
       " 'Springtime',\n",
       " 'Snail Mail',\n",
       " 'Emma Ruth Rundle',\n",
       " 'Courtney Barnett',\n",
       " 'Black Veil Brides',\n",
       " 'Frontierer',\n",
       " 'Monolord',\n",
       " 'Sulphurous',\n",
       " 'Black Marble',\n",
       " 'Ice Nine Kills',\n",
       " 'I Feel Fine',\n",
       " 'Sugar Horse',\n",
       " 'Dean Blunt',\n",
       " 'Sam Fender',\n",
       " \"KK's Priest\",\n",
       " 'Full of Hell',\n",
       " 'Tremonti',\n",
       " 'LLNN',\n",
       " 'Spiritbox',\n",
       " 'Aborted',\n",
       " 'Kacey Musgraves',\n",
       " 'Trna',\n",
       " 'Slaughter To Prevail',\n",
       " 'sonhos tomam conta',\n",
       " 'Bossk',\n",
       " 'Indigo De Souza',\n",
       " 'Deafheaven',\n",
       " 'Wolves in the Throne Room',\n",
       " 'Qrixkuor',\n",
       " 'Trash Boat',\n",
       " 'Galvanizer',\n",
       " 'Yola',\n",
       " 'Torres',\n",
       " 'LUMP',\n",
       " 'The Maine',\n",
       " 'Ophidian I',\n",
       " 'Diabolizer',\n",
       " 'Descendents',\n",
       " 'Lightning Bug',\n",
       " 'Atvm',\n",
       " 'Project 86',\n",
       " 'Lovesliescrushing',\n",
       " 'Hacktivist',\n",
       " 'Lucy Dacus',\n",
       " 'Portal',\n",
       " 'Ceremonium',\n",
       " 'Nexilva',\n",
       " 'Fear Factory',\n",
       " 'Morbific',\n",
       " 'Marina',\n",
       " 'Our Hollow, Our Home',\n",
       " 'Wolf Alice',\n",
       " 'Tilian',\n",
       " 'Bachelor',\n",
       " 'Noctule',\n",
       " 'Japanese Breakfast',\n",
       " 'Home Is Where',\n",
       " 'Manchester Orchestra',\n",
       " 'The Raging Nathans',\n",
       " 'Holding Absence',\n",
       " 'Flock of Dimes',\n",
       " \"'68\",\n",
       " 'Genghis Tron',\n",
       " 'Ominous Ruin',\n",
       " 'Cassandra Jenkins',\n",
       " 'Julien Baker',\n",
       " 'Love and Death',\n",
       " 'Defacement',\n",
       " 'Divide And Dissolve',\n",
       " 'TV Priest',\n",
       " 'Lamp of Murmuur',\n",
       " 'Goat Girl',\n",
       " 'Soen',\n",
       " 'Accept',\n",
       " 'Pom Poko',\n",
       " 'The Casket Lottery',\n",
       " 'Parquet Courts',\n",
       " 'Pearl Charles',\n",
       " 'Respire',\n",
       " 'Teenage Mutant Ninja Turtles',\n",
       " 'Dominic Fike',\n",
       " 'Undergang',\n",
       " 'Edenic Past',\n",
       " 'Red City Radio',\n",
       " 'Palm Reader',\n",
       " 'Bearings',\n",
       " 'Seahaven',\n",
       " 'Black Foxxes',\n",
       " 'Scalp',\n",
       " 'The Menzingers',\n",
       " 'Kingdom of Giants',\n",
       " 'Guitar Fight from Fooly Cooly',\n",
       " 'Miasmatic Necrosis',\n",
       " 'Black Stone Cherry',\n",
       " 'Nothing',\n",
       " 'The Fall of Troy',\n",
       " 'Matt Berninger',\n",
       " 'Gorephilia',\n",
       " 'Joji',\n",
       " 'Corey Taylor',\n",
       " 'Fires in the Distance',\n",
       " 'Obsidian Kingdom',\n",
       " 'Svalbard',\n",
       " 'The Ocean',\n",
       " 'Into It. Over It.',\n",
       " 'Fawn Limbs',\n",
       " 'Vous Autres',\n",
       " 'Carnation',\n",
       " 'Special Interest',\n",
       " 'Declan McKenna',\n",
       " 'Xazraug',\n",
       " 'Necrot',\n",
       " 'Angel Olsen',\n",
       " \"Luna's Call\",\n",
       " 'No Joy',\n",
       " 'Pharmacist',\n",
       " 'Duma',\n",
       " 'Misery Signals',\n",
       " 'Slightly Stoopid',\n",
       " 'Aseitas',\n",
       " 'Paara',\n",
       " 'Greg Puciato',\n",
       " 'The Beths',\n",
       " 'Nation of Language',\n",
       " 'Grey Daze',\n",
       " 'Carach Angren',\n",
       " 'Melt Yourself Down',\n",
       " 'Pottery',\n",
       " 'Sault',\n",
       " 'Calligram',\n",
       " 'Phoebe Bridgers',\n",
       " 'Owen',\n",
       " 'Justice For The Damned',\n",
       " 'Make Them Suffer',\n",
       " 'Westerman',\n",
       " 'Sports Team',\n",
       " 'Muzz',\n",
       " 'Palaye Royale',\n",
       " \"Caligula's Horse\",\n",
       " 'Infant Island',\n",
       " 'VVilderness',\n",
       " 'Car Seat Headrest',\n",
       " 'Elephant Tree',\n",
       " 'Molested Divinity',\n",
       " 'Ellis',\n",
       " 'Kontinuum',\n",
       " 'Yves Tumor',\n",
       " 'Telepathy',\n",
       " '5 Seconds of Summer',\n",
       " 'Brian Fallon',\n",
       " 'Sorry',\n",
       " 'The Chats',\n",
       " 'Malokarpatan',\n",
       " 'Afterbirth',\n",
       " 'Temple of Void',\n",
       " 'Hot Mulligan',\n",
       " 'Horse Lords',\n",
       " 'The Districts',\n",
       " 'Monsters',\n",
       " 'Greg Dulli',\n",
       " 'Panchiko',\n",
       " 'Bambara',\n",
       " 'Giver',\n",
       " 'Loathe',\n",
       " 'Shopping',\n",
       " 'Leeched',\n",
       " 'Lowrider',\n",
       " 'Lovebites',\n",
       " 'Vengeful Spectre',\n",
       " 'Higher Power',\n",
       " 'Slick Shoes',\n",
       " 'Wolf Parade',\n",
       " 'Mura Masa',\n",
       " 'Garganjua',\n",
       " 'Algiers',\n",
       " 'Vomit the Soul',\n",
       " 'The Last Ten Seconds Of Life',\n",
       " 'Blood Incantation',\n",
       " 'Dream State',\n",
       " 'Stray from the Path',\n",
       " 'Rex Orange County',\n",
       " 'Sadisme',\n",
       " 'Patrick Watson',\n",
       " 'Common Holly',\n",
       " 'Car Bomb',\n",
       " 'We Lost the Sea',\n",
       " 'Surf Curse',\n",
       " 'Issues',\n",
       " 'Kim Gordon',\n",
       " 'Alarmist',\n",
       " 'Dayseeker',\n",
       " 'Renounced',\n",
       " 'Post Malone',\n",
       " 'Klone',\n",
       " 'Void of Vision',\n",
       " 'The Agonist',\n",
       " 'Liam Gallagher',\n",
       " 'The Hu',\n",
       " 'Grayscale',\n",
       " 'Chris Farren',\n",
       " 'The Odious',\n",
       " 'Sleeping With Sirens',\n",
       " 'Nocturnal Departure',\n",
       " 'Whitney',\n",
       " 'Jay Som',\n",
       " 'Tropical Fuck Storm',\n",
       " 'King Gizzard and The Lizard Wizard',\n",
       " 'Blanck Mass',\n",
       " 'Richard Henshall',\n",
       " 'Rosalie Cunningham',\n",
       " 'Slaughter Beach, Dog',\n",
       " 'iamthemorning',\n",
       " 'Iniquitous Deeds',\n",
       " 'Throes',\n",
       " 'Abbath',\n",
       " 'Ossuary',\n",
       " 'Shirokuma',\n",
       " 'Puppy',\n",
       " 'Bill Callahan',\n",
       " 'CHON',\n",
       " 'Vanishing Twin',\n",
       " 'Frank Iero and The Future Violents',\n",
       " 'Novo Amor',\n",
       " 'Death Angel',\n",
       " 'Cate Le Bon',\n",
       " 'Plastic Mermaids',\n",
       " 'Black Mountain',\n",
       " 'Alex Lahey',\n",
       " 'Lewis Capaldi',\n",
       " 'Holding Patterns',\n",
       " 'Forests',\n",
       " 'We Never Learned To Live',\n",
       " 'Shin Guard',\n",
       " 'Town Portal',\n",
       " 'Trade Wind',\n",
       " 'Kevin Morby',\n",
       " 'Nucleus',\n",
       " 'Wand',\n",
       " 'Clowns',\n",
       " 'The Raven Age',\n",
       " 'Ceremony Of Silence',\n",
       " 'The Dismemberment Plan',\n",
       " 'CHAI',\n",
       " 'Orville Peck',\n",
       " 'Akasha',\n",
       " 'Venom Prison',\n",
       " 'Oozing Wound',\n",
       " 'Baalsebub',\n",
       " 'Tim Bowness',\n",
       " 'Mammoth Weed Wizard Bastard',\n",
       " 'Hozier',\n",
       " 'Teeth Of The Sea',\n",
       " 'Badflower',\n",
       " 'Drenge',\n",
       " 'Astronauts',\n",
       " 'Homeshake',\n",
       " 'Green Lung',\n",
       " 'Set It Off',\n",
       " 'Minors',\n",
       " 'King 810',\n",
       " 'Mystifier',\n",
       " 'Jade Bird',\n",
       " 'Press Club',\n",
       " 'Mono',\n",
       " 'Palisades',\n",
       " 'Tallies',\n",
       " 'Deuce',\n",
       " 'Napoleon',\n",
       " 'Normandie',\n",
       " 'XXXTENTACION',\n",
       " 'Ex:Re',\n",
       " 'Bliss Signal',\n",
       " 'Portrayal of Guilt',\n",
       " 'The Good, The Bad and The Queen',\n",
       " 'Toska',\n",
       " 'Tenacious D',\n",
       " 'Hippo Campus',\n",
       " 'Mass of the Fermenting Dregs',\n",
       " 'The Struts',\n",
       " 'Frog',\n",
       " 'The Dirty Nil',\n",
       " 'Polyphia',\n",
       " 'Hands Like Houses',\n",
       " 'Tom Morello',\n",
       " 'Pagan',\n",
       " 'Black Peaks',\n",
       " 'Kero Kero Bonito',\n",
       " 'Monuments',\n",
       " 'Exit North',\n",
       " 'Against The Current',\n",
       " 'Windhand',\n",
       " 'All Them Witches',\n",
       " 'Head with Wings',\n",
       " 'Wstr',\n",
       " 'Imperial Triumphant',\n",
       " 'The Skull',\n",
       " 'Gia Margaret',\n",
       " 'Trophy Eyes',\n",
       " 'Regal Worm',\n",
       " 'Talons',\n",
       " 'Like Pacific',\n",
       " 'The Antichrist Imperium',\n",
       " 'Mouse On The Keys',\n",
       " 'Burial Invocation',\n",
       " 'Morrow',\n",
       " 'The Interrupters',\n",
       " 'Panic! at the Disco',\n",
       " 'Mark Kozelek',\n",
       " 'Church of the Cosmic Skull',\n",
       " 'Zeal and Ardor',\n",
       " 'Jonathan Davis',\n",
       " 'Tancred',\n",
       " 'Lunatic Soul',\n",
       " 'Flasher',\n",
       " 'Graveyard',\n",
       " 'Keiji Haino',\n",
       " 'Body Void',\n",
       " 'Middle Kids',\n",
       " 'Pinkshinyultrablast',\n",
       " 'Forth Wanderers',\n",
       " 'Sectioned',\n",
       " 'Speedy Ortiz',\n",
       " 'Cassus',\n",
       " 'Boss Keloid',\n",
       " 'Tangled Hair',\n",
       " 'Ruins',\n",
       " 'Mastersystem',\n",
       " 'Rainbow Kitten Surprise',\n",
       " 'Autokrator',\n",
       " 'Night Flowers',\n",
       " 'Hinds',\n",
       " 'Sunflower Bean',\n",
       " 'Nervus',\n",
       " 'George Ezra',\n",
       " 'King Goat',\n",
       " 'Dead!',\n",
       " 'Moose Blood',\n",
       " \"Ed Schrader's Music Beat\",\n",
       " 'Gleb Kolyadin',\n",
       " 'Slugdge',\n",
       " 'Conjurer',\n",
       " 'Vundabar',\n",
       " 'Dvne',\n",
       " 'S. Carey',\n",
       " 'Pianos Become the Teeth',\n",
       " 'Band-Maid',\n",
       " 'Legend of the Seagullmen',\n",
       " 'Crywank',\n",
       " 'The Plot In You',\n",
       " 'Loma',\n",
       " 'Ezra Furman',\n",
       " 'Son Lux',\n",
       " 'Alpha Male Tea Party',\n",
       " 'Palm',\n",
       " 'Philip H. Anselmo and The Illegals',\n",
       " 'Marmozets',\n",
       " 'Somali Yacht Club',\n",
       " 'Anna Burch',\n",
       " 'Dream Wife',\n",
       " 'Thousand Below',\n",
       " 'Of Mice and Men',\n",
       " \"Leaves' Eyes\",\n",
       " 'Embodyment',\n",
       " 'Five Iron Frenzy',\n",
       " 'Yellow Days',\n",
       " 'Death Toll 80k',\n",
       " 'Sacred Son',\n",
       " 'Peach Pit',\n",
       " 'Beast In Black',\n",
       " 'ROAM',\n",
       " 'Turnpike Troubadours',\n",
       " 'Ibeyi',\n",
       " 'Grave Pleasures',\n",
       " 'IDYLLS',\n",
       " 'With the Dead',\n",
       " 'Nothing More',\n",
       " 'Prawn',\n",
       " 'Seaway',\n",
       " 'Ariel Pink',\n",
       " 'Rostam',\n",
       " 'The Contortionist',\n",
       " 'Prophets of Rage',\n",
       " 'White Moth Black Butterfly',\n",
       " 'Hammock',\n",
       " 'Hungry Ghosts',\n",
       " 'Thy Art Is Murder',\n",
       " 'ostraca',\n",
       " 'Kesha',\n",
       " 'Horrified',\n",
       " 'Agents of Oblivion',\n",
       " 'Sheer Mag',\n",
       " 'Silverstein',\n",
       " 'HAIM',\n",
       " 'Public Service Broadcasting',\n",
       " 'Spaceslug',\n",
       " 'Floating Points',\n",
       " 'Ex Eye',\n",
       " 'Hey Violet',\n",
       " 'Single Mothers',\n",
       " 'Wode',\n",
       " 'Flogging Molly',\n",
       " 'Tricot',\n",
       " 'Pumarosa',\n",
       " 'Employed To Serve',\n",
       " 'Gnarwolves',\n",
       " 'Woods',\n",
       " 'PWR BTTM',\n",
       " 'i hate sex',\n",
       " 'Spotlights',\n",
       " 'Sundara Karma',\n",
       " 'Hoops',\n",
       " 'The Physics House Band',\n",
       " 'Artificial Brain',\n",
       " 'Falling in Reverse',\n",
       " 'Jeromes Dream',\n",
       " 'Richard Cheese',\n",
       " 'Michelle Branch',\n",
       " 'Timber Timbre',\n",
       " 'I Declare War',\n",
       " 'Chinese Football',\n",
       " 'The Smith Street Band',\n",
       " 'Phrenelith',\n",
       " 'Hurray For The Riff Raff',\n",
       " 'Circa Waves',\n",
       " 'Temples',\n",
       " 'Raspberry Bulbs',\n",
       " 'Crystal Fairy',\n",
       " 'Vagabon',\n",
       " 'Peter Silberman',\n",
       " 'Meat Wave',\n",
       " 'The Orwells',\n",
       " 'Andrew McMahon in the Wilderness',\n",
       " 'Starset',\n",
       " 'Mark Eitzel',\n",
       " 'Foxygen',\n",
       " 'The Mayfield Four',\n",
       " 'Tycho',\n",
       " 'Youth Funeral',\n",
       " '40 Watt Sun',\n",
       " 'Attila',\n",
       " 'You Blew It!',\n",
       " 'Voices from the Fuselage',\n",
       " 'Earth Moves',\n",
       " 'D.D Dumbo',\n",
       " 'Lewis Del Mar',\n",
       " 'From Ashes To New',\n",
       " 'Shawn Mendes',\n",
       " 'Airbourne',\n",
       " 'Merchandise',\n",
       " 'Beach Slang',\n",
       " 'Newsboys',\n",
       " 'Preoccupations',\n",
       " 'Okkervil River',\n",
       " 'Dope Lemon',\n",
       " 'Mild High Club',\n",
       " 'David Brent',\n",
       " 'Abhorrent Decimation',\n",
       " 'Bayside',\n",
       " 'SWMRS',\n",
       " 'Gouge Away',\n",
       " 'Young the Giant',\n",
       " 'Monarch',\n",
       " 'Coldrain',\n",
       " \"Bear's Den\",\n",
       " 'Despised Icon',\n",
       " 'Omni',\n",
       " 'McCafferty',\n",
       " 'Dikembe',\n",
       " 'Nonpoint',\n",
       " 'The Avalanches',\n",
       " 'Big Business',\n",
       " 'Martha',\n",
       " 'Fates Warning',\n",
       " 'Lonely the Brave',\n",
       " 'British Theatre',\n",
       " 'Thousand Foot Krutch',\n",
       " 'Art Of Dying',\n",
       " 'With Confidence',\n",
       " 'Jake Bugg',\n",
       " 'The Hotelier',\n",
       " 'Rival Sons',\n",
       " 'The Claypool Lennon Delirium',\n",
       " 'Wicked Innocence',\n",
       " 'Minor Victories',\n",
       " 'Fear of Men',\n",
       " 'Real Friends',\n",
       " 'Catfish and the Bottlemen',\n",
       " 'Pantha Du Prince',\n",
       " 'Crystal Lake',\n",
       " 'Kikagaku Moyo',\n",
       " 'Schammasch',\n",
       " 'Twin Peaks',\n",
       " 'Destruction',\n",
       " 'Eagulls',\n",
       " 'RY X',\n",
       " 'LUH',\n",
       " 'ANOHNI',\n",
       " 'Messenger',\n",
       " 'Annisokay',\n",
       " 'Dowsing',\n",
       " 'Crooks',\n",
       " 'Dehumanized',\n",
       " 'Moonlit Sailor',\n",
       " 'The Comet Is Coming',\n",
       " 'Radical Face',\n",
       " 'King Buffalo',\n",
       " 'The Drones',\n",
       " 'Plague Vendor',\n",
       " 'Richmond Fontaine',\n",
       " 'Sarah Neufeld',\n",
       " 'Heck',\n",
       " 'Wormed',\n",
       " 'ee',\n",
       " 'Guerilla Toss',\n",
       " 'Big Ups',\n",
       " 'Mothers',\n",
       " 'Cindy Lee',\n",
       " 'The Neighbourhood',\n",
       " 'Porches',\n",
       " 'Money',\n",
       " 'Nevermen',\n",
       " 'Savages',\n",
       " 'Intervals',\n",
       " 'Fit for an Autopsy',\n",
       " 'Violet Cold',\n",
       " 'Sam Hunt',\n",
       " 'Nokturnel',\n",
       " 'Good Tiger',\n",
       " 'Sexwitch',\n",
       " 'EL VY',\n",
       " 'Love Lost But Not Forgotten',\n",
       " 'Half Moon Run',\n",
       " 'Shining',\n",
       " 'Marietta',\n",
       " 'Dilly Dally',\n",
       " 'One Ok Rock',\n",
       " 'Cruciamentum',\n",
       " 'Kylesa',\n",
       " 'Caspian',\n",
       " 'Agent Fresco',\n",
       " 'P.O.D.',\n",
       " 'X Ambassadors',\n",
       " 'Hills',\n",
       " 'Soilwork',\n",
       " 'Heartist',\n",
       " 'The Sword',\n",
       " 'Royal Headache',\n",
       " 'Highly Suspect',\n",
       " 'Kings Kaleidoscope',\n",
       " 'Archivist',\n",
       " 'Jason Isbell',\n",
       " 'Dan Andriano in the Emergency Room',\n",
       " 'Years and Years',\n",
       " 'Ethereal Shroud',\n",
       " 'God Damn',\n",
       " 'August Burns Red',\n",
       " 'Human Hands',\n",
       " 'Iwrestledabearonce',\n",
       " 'Mutiny On The Bounty',\n",
       " 'Mylets',\n",
       " 'Lucifer',\n",
       " 'Zella Day',\n",
       " 'FFS',\n",
       " 'Jaga Jazzist',\n",
       " 'Girlpool',\n",
       " 'Pet Symmetry',\n",
       " 'Charlie Simpson',\n",
       " 'Johnny Rebel',\n",
       " 'Surfer Blood',\n",
       " 'Murmur',\n",
       " 'We Are Harlot',\n",
       " 'Nai Harvest',\n",
       " 'Ghost Bath',\n",
       " 'Alabama Shakes',\n",
       " 'Bio-Cancer',\n",
       " 'Neon Trees',\n",
       " 'Say Lou Lou',\n",
       " 'Until The Ribbon Breaks',\n",
       " 'Shizune',\n",
       " 'Lower Dens',\n",
       " 'Ryley Walker',\n",
       " 'James Bay',\n",
       " 'AWOLNATION',\n",
       " 'Ranger',\n",
       " 'Trepalium',\n",
       " 'Houndmouth',\n",
       " 'The Sidekicks',\n",
       " 'Pile',\n",
       " 'Ghostpoet',\n",
       " 'A Textbook Tragedy',\n",
       " 'Colleen Green',\n",
       " 'Butch Walker',\n",
       " 'xRepentancex',\n",
       " 'Peace',\n",
       " 'The Arrogant Sons of Bitches',\n",
       " 'Jessica Pratt',\n",
       " 'This Is A Standoff',\n",
       " 'Planet X',\n",
       " 'Kodaline',\n",
       " 'FACT',\n",
       " 'Abstracter',\n",
       " 'California X',\n",
       " 'Cloakroom',\n",
       " 'Swallowed',\n",
       " 'Charli XCX',\n",
       " 'Clouds',\n",
       " 'TrenchRot',\n",
       " 'Forever Came Calling',\n",
       " 'The Ghost Inside',\n",
       " 'Youngblood Hawke',\n",
       " 'No Bragging Rights',\n",
       " 'Disembarked',\n",
       " 'The Jazz June',\n",
       " 'Wildbirds and Peacedrums',\n",
       " 'Crobot',\n",
       " 'Miroist',\n",
       " 'Climates',\n",
       " 'Tweedy',\n",
       " 'Adult Jazz',\n",
       " 'Benjamin Booker',\n",
       " 'My Brightest Diamond',\n",
       " 'The Hell',\n",
       " 'The Wytches',\n",
       " 'Lay Down Rotten',\n",
       " 'Owl John',\n",
       " 'The Algorithm',\n",
       " 'The Flex',\n",
       " 'Bear Hands',\n",
       " 'Totem Skin',\n",
       " 'Breathe Carolina',\n",
       " 'Braid',\n",
       " 'Total Control',\n",
       " 'Glass Animals',\n",
       " 'White Lung',\n",
       " 'Dreamshade',\n",
       " 'Tombs',\n",
       " 'Harry Pussy',\n",
       " 'Vales',\n",
       " 'Archspire',\n",
       " 'Sickening Gore',\n",
       " 'Mars Red Sky',\n",
       " 'Lewis',\n",
       " 'Sorority Noise',\n",
       " 'Echosmith',\n",
       " 'Brody Dalle',\n",
       " 'Circles',\n",
       " 'Ian Anderson',\n",
       " 'The Mire',\n",
       " \"Avey Tare's Slasher Flicks\",\n",
       " 'Chuck Ragan',\n",
       " 'Scar the Martyr',\n",
       " 'Owls',\n",
       " 'Collide',\n",
       " 'Laibach',\n",
       " 'Tony Molina',\n",
       " 'Adrenaline Mob',\n",
       " 'I See Stars',\n",
       " 'Pan.Thy.Monium',\n",
       " 'Above and Beyond',\n",
       " 'Cheatahs',\n",
       " 'Sahg',\n",
       " 'Harvey Danger',\n",
       " 'Mutual Benefit',\n",
       " 'Marvelous 3',\n",
       " 'Pestilence',\n",
       " 'Beastmilk',\n",
       " 'Hell',\n",
       " 'Steve Von Till',\n",
       " 'Laughing Hyenas',\n",
       " 'Yamantaka // Sonic Titan',\n",
       " 'Sky Ferreira',\n",
       " 'Kind of Like Spitting',\n",
       " 'the GazettE',\n",
       " 'San Fermin',\n",
       " ...]"
      ]
     },
     "execution_count": 13,
     "metadata": {},
     "output_type": "execute_result"
    }
   ],
   "source": [
    "artists_usa"
   ]
  },
  {
   "cell_type": "code",
   "execution_count": 110,
   "metadata": {},
   "outputs": [
    {
     "data": {
      "text/plain": [
       "4249"
      ]
     },
     "execution_count": 110,
     "metadata": {},
     "output_type": "execute_result"
    }
   ],
   "source": [
    "# I have to import this df for the function to properly work\n",
    "df = pd.read_csv('Datasets/df_blend_ratings.csv')\n",
    "artists = df['artist'].unique()\n",
    "len(artists)"
   ]
  },
  {
   "cell_type": "code",
   "execution_count": 11,
   "metadata": {},
   "outputs": [
    {
     "data": {
      "text/plain": [
       "'As Living Arrows'"
      ]
     },
     "execution_count": 11,
     "metadata": {},
     "output_type": "execute_result"
    }
   ],
   "source": [
    "artists[-1]"
   ]
  },
  {
   "cell_type": "code",
   "execution_count": 12,
   "metadata": {},
   "outputs": [
    {
     "data": {
      "text/plain": [
       "3423"
      ]
     },
     "execution_count": 12,
     "metadata": {},
     "output_type": "execute_result"
    }
   ],
   "source": [
    "df_artists_origins.index[-1]"
   ]
  },
  {
   "cell_type": "code",
   "execution_count": 13,
   "metadata": {},
   "outputs": [
    {
     "data": {
      "text/html": [
       "<div>\n",
       "<style scoped>\n",
       "    .dataframe tbody tr th:only-of-type {\n",
       "        vertical-align: middle;\n",
       "    }\n",
       "\n",
       "    .dataframe tbody tr th {\n",
       "        vertical-align: top;\n",
       "    }\n",
       "\n",
       "    .dataframe thead th {\n",
       "        text-align: right;\n",
       "    }\n",
       "</style>\n",
       "<table border=\"1\" class=\"dataframe\">\n",
       "  <thead>\n",
       "    <tr style=\"text-align: right;\">\n",
       "      <th></th>\n",
       "      <th>artist</th>\n",
       "      <th>origin</th>\n",
       "    </tr>\n",
       "  </thead>\n",
       "  <tbody>\n",
       "    <tr>\n",
       "      <th>3419</th>\n",
       "      <td>Cinderella</td>\n",
       "      <td>Philadelphia, Pennsylvania, U.S.</td>\n",
       "    </tr>\n",
       "    <tr>\n",
       "      <th>3420</th>\n",
       "      <td>Death From Above 1979</td>\n",
       "      <td>Toronto, Ontario, Canada</td>\n",
       "    </tr>\n",
       "    <tr>\n",
       "      <th>3421</th>\n",
       "      <td>Chicago</td>\n",
       "      <td>Chicago, Illinois, United States</td>\n",
       "    </tr>\n",
       "    <tr>\n",
       "      <th>3422</th>\n",
       "      <td>The Nation of Ulysses</td>\n",
       "      <td>Washington, D.C.</td>\n",
       "    </tr>\n",
       "    <tr>\n",
       "      <th>3423</th>\n",
       "      <td>Strung Out</td>\n",
       "      <td>Simi Valley, California, U.S.</td>\n",
       "    </tr>\n",
       "  </tbody>\n",
       "</table>\n",
       "</div>"
      ],
      "text/plain": [
       "                     artist                            origin\n",
       "3419             Cinderella  Philadelphia, Pennsylvania, U.S.\n",
       "3420  Death From Above 1979          Toronto, Ontario, Canada\n",
       "3421                Chicago  Chicago, Illinois, United States\n",
       "3422  The Nation of Ulysses                  Washington, D.C.\n",
       "3423             Strung Out     Simi Valley, California, U.S."
      ]
     },
     "execution_count": 13,
     "metadata": {},
     "output_type": "execute_result"
    }
   ],
   "source": [
    "df_artists_origins.tail()"
   ]
  },
  {
   "cell_type": "code",
   "execution_count": 164,
   "metadata": {},
   "outputs": [
    {
     "data": {
      "text/plain": [
       "(array([2772], dtype=int64),)"
      ]
     },
     "execution_count": 164,
     "metadata": {},
     "output_type": "execute_result"
    }
   ],
   "source": [
    "np.where(artists=='July Talk')"
   ]
  },
  {
   "cell_type": "code",
   "execution_count": 163,
   "metadata": {},
   "outputs": [
    {
     "data": {
      "text/plain": [
       "'July Talk'"
      ]
     },
     "execution_count": 163,
     "metadata": {},
     "output_type": "execute_result"
    }
   ],
   "source": [
    "artists[2772]"
   ]
  },
  {
   "cell_type": "markdown",
   "metadata": {},
   "source": [
    "# **Code to execute the functions from ``geopy_functions.py``**"
   ]
  },
  {
   "cell_type": "code",
   "execution_count": 5,
   "metadata": {},
   "outputs": [],
   "source": [
    "artists_to_remove = ['Cemetery Skyline', 'Goat', 'Kingcrow', 'Speed', 'Hyperdontia', 'Vredehammer', 'Weston Super Maim',\n",
    "                'Mdou Moctar', 'AVRALIZE', 'Engulfed', 'Coffin Storm', 'samlrc', 'Little Kid', 'Termina', 'Rorcal',\n",
    "                'Reverence To Paroxysm', 'Voyager', 'Blindfolded and Led to the Woods', 'Mork', 'Yeule', 'Pond',\n",
    "                'Empire State Bastard', 'Blood Command', 'Avatar', 'Brutus', 'Faceless Burial', 'Within Destruction',\n",
    "                'Sedimentum', 'Ataraxy', 'Corpsessed', 'Epitaphe', 'Aldous Harding', 'Messa', 'Ghost', 'Ecchymosis',\n",
    "                'Wormrot', 'Vertebra Atlantis', 'Papangu', 'Sermon of Flames', 'Springtime', 'Monolord', 'Sulphurous',\n",
    "                'LLNN', 'Trna', 'Slaughter To Prevail', 'sonhos tomam conta', 'Galvanizer', 'Ophidian I', 'Diabolizer',\n",
    "                'Morbific', 'Defacement', 'Divide And Dissolve', 'Soen', 'Scorpions', 'Accept', 'Respire', 'Undergang',\n",
    "                'Bearings', 'Scalp', 'Miasmatic Necrosis', 'Teenage Mutant Ninja Turtles', 'Gorephilia', 'Vous Autres',\n",
    "                'Carnation', 'Pharmacist', 'Paara', \"Justice For The Damned\", 'VVilderness', 'Molested Divinity', 'Ellis',\n",
    "                'Kontinuum', 'Monsters', 'Giver', 'Lowrider', 'Vengeful Spectre', 'Vomit the Soul', 'Sadisme', 'Alarmist',\n",
    "                'Klone', 'Nocturnal Departure', 'King Gizzard and The Lizard Wizard', 'Make Them Suffer', 'The Chats',\n",
    "                'Patrick Watson', 'Shirokuma', 'Forests', 'Town Portal', 'Ceremony Of Silence', 'CHAI', 'Baalsebub',\n",
    "                'Minors', 'Mono', 'Tallies', 'Normandie', 'Mouse On The Keys', 'Burial Invocation', 'Orville Peck',\n",
    "                'Lunatic Soul', 'Alex Lahey', 'Hozier', 'Mystifier', 'Hands Like Houses', 'Ruins', 'Autokrator',\n",
    "                'Legend of the Seagullmen', 'Death Toll 80k', 'IDYLLS', 'Spaceslug', 'i hate sex', 'Band-Maid',\n",
    "                'With the Dead', 'Hungry Ghosts', 'Middle Kids', 'Gleb Kolyadin', \"Leaves' Eyes\", \"Phrenelith\",\n",
    "                \"David Brent\", \"Art Of Dying\", \"Minor Victories\", \"Pantha Du Prince\", \"Schammasch\", 'LUH',\n",
    "                'Violet Cold', 'EL VY', 'Shining', 'Hills', \"Mutiny On The Bounty\", 'Lucifer', 'FFS', 'Ranger',\n",
    "                'Trepalium', 'A Textbook Tragedy', 'This Is A Standoff', 'FACT', 'Swallowed', 'Disembarked',\n",
    "                'Wildbirds and Peacedrums', 'Archivist', 'Timber Timbre', 'Newsboys', 'Dope Lemon', 'Vagabon',\n",
    "                'RY X', 'Moonlit Sailor', 'The Drones', 'Sarah Neufeld', 'Say Lou Lou', 'Cruciamentum', 'Lay Down Rotten',\n",
    "                'Dreamshade', 'Sickening Gore', 'Circles', \"Avey Tare's Slasher Flicks\", 'Forest Silence',\n",
    "                \"One Eyed God Prophecy\", 'Coffins', 'Osamu Kitajima', 'Living With Lions', 'Ansur', 'Parades',\n",
    "                \"Intestine Baalism\", 'Comity', 'No Omega', 'Wolverine', 'Disavowed', 'Angel Dust', \"!T.O.O.H.!\",\n",
    "                'Hypnosia', 'Hexenhaus', 'Paradox', 'Deathrow', 'Excruciate', 'FareWell Poetry', 'Sights and Sounds',\n",
    "                'Supersister', \"Birds Of Tokyo\", 'Ark', \"The Flower Kings\", 'Beardfish', 'Graveworm', 'Acid',\n",
    "                'Ladyhawke', 'Geddy Lee', 'Yngwie Malmsteen', \"World's End Girlfriend\", 'Totem Skin', 'Lewis',\n",
    "                'I Hate Sally', \"The Band\", 'Lisa Hannigan', 'Lethal', 'Bubu', 'Van She', 'Mooncake', 'The Haunted',\n",
    "                \"Orphaned Land\", 'Madder Mortem', 'Kataxu', 'Gilberto Gil', 'Vendetta', 'Kvist', 'Acrostichon', 'Pain',\n",
    "                'Obliteration', 'Flames of Hell', 'Wombbath', 'Stone', 'Disgrace', 'Fionn Regan', 'Disastrous Murmur',\n",
    "                'Urfaust', 'Sleepingdog', 'Island', 'Bethlehem', 'Subterranean Masquerade', 'After Dinner', \n",
    "                'Black Boned Angel', 'FM', 'Embrace', 'Solefald', 'Maneige', 'Amberian Dawn', 'OOIOO', 'Anekdoten',\n",
    "                \"Aphrodite's Child\", 'Hollenthon', 'Lykke Li', 'Lenka', 'Sarah McLachlan', 'Owen Pallett',\n",
    "                'Devin Townsend Project', 'Missy Higgins', 'The Devin Townsend Band', 'Selda', 'Massacra', \"Rory Gallagher\",\n",
    "                'Taste', 'Celestial Season', 'Ida Maria', 'Dark Tranquillity', 'Cadaver', 'Pele', 'Exuma',\n",
    "                'Great Lake Swimmers', 'Dawn', 'The Bats', 'Yoko Ono', 'Illogicist', 'The Saints', 'Final Fantasy',\n",
    "                'Pendulum', 'Lunar Aurora', 'Bee Gees', 'Stars', \"David Sylvian and Robert Fripp\", 'Afflicted', 'Lengsel',\n",
    "                'Extol', 'MDFMK', 'Univers Zero', 'Mortuary Drape', 'Zyklon', 'Winds', 'Zyklon-B', 'The Sins of Thy Beloved',\n",
    "                'Lords of Acid', 'Devin Townsend', 'Diablo Swing Orchestra', 'Arcturus', 'Cornelius', 'Manu Chao',\n",
    "                'Bryan Adams', 'Peaches', 'Doro', 'Kingdom Come', 'Pekka Pohjola', 'Shakira', 'Massacre', 'Subhumans',\n",
    "                'Set Fire to Flames', 'Gorgoroth', 'Gandalf', 'Klaus Schulze', 'The Ecstasy of Saint Theresa',\n",
    "                \"Lou Reed and John Cale\", 'Brian Eno and David Byrne', 'Bob Dylan and The Band', 'Era', 'Devil Doll',\n",
    "                'Cauterize', 'Roadrunner United', 'Circus Maximus', 'Crowpath', 'Raunchy', 'Tad Morose', 'Kenna',\n",
    "                'Head Control System', 'Torchbearer', 'Rosesdead', 'Angtoria', 'Nightrage', 'Necros Christos', 'Hypnos 69',\n",
    "                'Wold', 'Andromeda', 'Chad VanGaalen', 'Melechesh', 'Spheric Universe Experience', 'Anubis Gate',\n",
    "                'The Project Hate MCMXCIX', 'Myrath', 'Savage Circus', 'Hartfield', 'Evereve', 'Daturah', 'Ad Infinitum',\n",
    "                'Tash Sultana', 'Tarja Turunen', 'Ram-Zet', 'Sweven', 'Arcane', 'Sons of Apollo', 'Celesty', 'Brainstorm',\n",
    "                'Unleash The Archers', 'Prostitute Disfigurement', 'The Psyke Project', 'Dornenreich', 'Watain', 'Funeral',\n",
    "                'Cultes Des Ghoules', 'Revolting', 'Igorrr', 'Symfonia', 'Darkestrah', 'Sarah Blasko', 'Fractal Universe',\n",
    "                'The End', 'Apotheosis', 'Drautran', 'Monolithe', 'CrazyEightyEight', 'Black Hole', 'Polaris', 'Nug',\n",
    "                'Klabautamann', 'James LaBrie', 'Vance Joy', 'Helena Deland', 'Authorize', 'Blazon Stone', 'Rapture',\n",
    "                'Worship', 'Conqueror', 'Swan Lake', 'Yyrkoon', 'Inquisition', 'Kerli', 'Keldian', 'Wake', 'Megiddo',\n",
    "                'Juanes', 'William Hung', 'Votum', 'Atramentus', 'Abysmal Torment', 'Paul Dempsey', 'Cytotoxin',\n",
    "                'Vulture Industries', 'Entrails', 'Jorn', 'Conception', 'Centaurus-A', 'Gezan', 'Blood Tsunami',\n",
    "                'Machinemade God', 'Proscription', 'Ragnarok', 'Zeromancer', 'Satariel', 'Circle of Ouroborus', 'Emeth',\n",
    "                'Before The Dawn', 'Near Death Condition', 'Ignivomous', 'MEANS', 'Svart Crown', 'Alan Sorrenti', 'Chthonic',\n",
    "                'Blues Pills', 'Majestica', 'Bedsore', 'Ravencult', 'William Shatner', 'Cheval De Frise', 'Emptiness',\n",
    "                'WHOURKR', 'Jet Black Stare', 'Despondency', 'October Falls', 'Istapp', 'Slumber', 'Night in Gales',\n",
    "                'Ov HELL', 'Aficionado', 'Old Silver Key', 'Junior Battles', 'Adversarial', 'Shugo Tokumaru', 'North',\n",
    "                'Fuck on the Beach', 'Anoice', 'Viscera', 'Two Tongues', 'The Last Felony', 'Revenge', 'The Secret',\n",
    "                'Cosmic Putrefaction', 'Miseration', 'Azusa', 'Stalaggh', 'Cerebral Effusion', 'Nekromantheon', 'Blasphemer',\n",
    "                'Pyaemia', 'Inveracity', 'Orchidectomy', 'Kraanium', 'Human Mincer', 'Deformity', 'Kaospilot',\n",
    "                'Abominable Putridity', 'Iskra', 'Das Oath', 'Torsofuck', 'Internal Suffering', 'Nerlich', 'Blasphemophagher',\n",
    "                'Head Wound City', 'Inanna', 'Disperse', 'Dishammer', 'Damaar', 'Extortion', 'Starring Janet Leigh',\n",
    "                'The Arcane Order', \"D'espairsRay\", 'Demians', \"Dave Matthews\", 'Monsters of Folk', 'Shrinebuilder',\n",
    "                'The Joe Perry Project', 'Boygenius', 'Scar the Martyr', 'Gordian Knot', 'Rock Star Supernova']"
   ]
  },
  {
   "cell_type": "code",
   "execution_count": 7,
   "metadata": {},
   "outputs": [
    {
     "data": {
      "text/plain": [
       "0"
      ]
     },
     "execution_count": 7,
     "metadata": {},
     "output_type": "execute_result"
    }
   ],
   "source": [
    "df_final = pd.read_csv('Datasets/df_final.csv')\n",
    "unique_artists = df_final[df_final['year']<2011]['artist'].unique()\n",
    "\n",
    "df_artists_origins = pd.read_csv('Datasets/other_datasets/df_artists_origins.csv')\n",
    "artists = df_artists_origins['artist'].unique()\n",
    "artists_to_do = []\n",
    "\n",
    "for artist in unique_artists:\n",
    "    if artist not in artists and artist not in artists_to_remove:\n",
    "        artists_to_do.append(artist)\n",
    "\n",
    "len(artists_to_do)"
   ]
  },
  {
   "cell_type": "code",
   "execution_count": 4,
   "metadata": {},
   "outputs": [
    {
     "data": {
      "text/plain": [
       "['Grateful Dead']"
      ]
     },
     "execution_count": 4,
     "metadata": {},
     "output_type": "execute_result"
    }
   ],
   "source": [
    "# show the first next 5 artists I'm going to scrape\n",
    "artists_to_do[:5]"
   ]
  },
  {
   "cell_type": "code",
   "execution_count": 5,
   "metadata": {},
   "outputs": [
    {
     "name": "stdout",
     "output_type": "stream",
     "text": [
      "Bingo! df_coordinates.csv found \n",
      "\n",
      "1/1 - Grateful_Dead: Palo Alto, California, U.S.\n"
     ]
    }
   ],
   "source": [
    "# create the df with the origins scraped from Wikipedia\n",
    "\n",
    "df = pd.read_csv('Datasets/df_final.csv')\n",
    "start_index = 0\n",
    "final_index = start_index+1\n",
    "\n",
    "df_artists_origins = get_origins_wikipedia(df, start_index, final_index)"
   ]
  },
  {
   "cell_type": "code",
   "execution_count": 6,
   "metadata": {},
   "outputs": [
    {
     "data": {
      "text/html": [
       "<div>\n",
       "<style scoped>\n",
       "    .dataframe tbody tr th:only-of-type {\n",
       "        vertical-align: middle;\n",
       "    }\n",
       "\n",
       "    .dataframe tbody tr th {\n",
       "        vertical-align: top;\n",
       "    }\n",
       "\n",
       "    .dataframe thead th {\n",
       "        text-align: right;\n",
       "    }\n",
       "</style>\n",
       "<table border=\"1\" class=\"dataframe\">\n",
       "  <thead>\n",
       "    <tr style=\"text-align: right;\">\n",
       "      <th></th>\n",
       "      <th>artist</th>\n",
       "      <th>origin</th>\n",
       "    </tr>\n",
       "  </thead>\n",
       "  <tbody>\n",
       "    <tr>\n",
       "      <th>0</th>\n",
       "      <td>Grateful Dead</td>\n",
       "      <td>Palo Alto, California, U.S.</td>\n",
       "    </tr>\n",
       "  </tbody>\n",
       "</table>\n",
       "</div>"
      ],
      "text/plain": [
       "          artist                       origin\n",
       "0  Grateful Dead  Palo Alto, California, U.S."
      ]
     },
     "execution_count": 6,
     "metadata": {},
     "output_type": "execute_result"
    }
   ],
   "source": [
    "df_artists_origins[df_artists_origins['artist']=='Grateful Dead']"
   ]
  },
  {
   "cell_type": "code",
   "execution_count": 7,
   "metadata": {},
   "outputs": [
    {
     "name": "stdout",
     "output_type": "stream",
     "text": [
      "No null values, but let's take a look just in case there are weird locations\n"
     ]
    },
    {
     "data": {
      "text/html": [
       "<div>\n",
       "<style scoped>\n",
       "    .dataframe tbody tr th:only-of-type {\n",
       "        vertical-align: middle;\n",
       "    }\n",
       "\n",
       "    .dataframe tbody tr th {\n",
       "        vertical-align: top;\n",
       "    }\n",
       "\n",
       "    .dataframe thead th {\n",
       "        text-align: right;\n",
       "    }\n",
       "</style>\n",
       "<table border=\"1\" class=\"dataframe\">\n",
       "  <thead>\n",
       "    <tr style=\"text-align: right;\">\n",
       "      <th></th>\n",
       "      <th>artist</th>\n",
       "      <th>origin</th>\n",
       "    </tr>\n",
       "  </thead>\n",
       "  <tbody>\n",
       "    <tr>\n",
       "      <th>0</th>\n",
       "      <td>Grateful Dead</td>\n",
       "      <td>Palo Alto, California, U.S.</td>\n",
       "    </tr>\n",
       "  </tbody>\n",
       "</table>\n",
       "</div>"
      ],
      "text/plain": [
       "          artist                       origin\n",
       "0  Grateful Dead  Palo Alto, California, U.S."
      ]
     },
     "execution_count": 7,
     "metadata": {},
     "output_type": "execute_result"
    }
   ],
   "source": [
    "# create a subset of the new artists I just got, and tell me if there are nulls\n",
    "df_new_artists = get_new_artists(df_artists_origins)\n",
    "\n",
    "# show the first new artists, if they were duplicates they have been dropped\n",
    "df_new_artists.head()"
   ]
  },
  {
   "cell_type": "markdown",
   "metadata": {},
   "source": [
    "### If there are null or weird values"
   ]
  },
  {
   "cell_type": "code",
   "execution_count": 14,
   "metadata": {},
   "outputs": [
    {
     "data": {
      "text/plain": [
       "(0, 2)"
      ]
     },
     "execution_count": 14,
     "metadata": {},
     "output_type": "execute_result"
    }
   ],
   "source": [
    "# create a df with where origin is a null value\n",
    "nulls = df_new_artists[df_new_artists['origin'].isna()]\n",
    "nulls.shape"
   ]
  },
  {
   "cell_type": "markdown",
   "metadata": {},
   "source": [
    "**``np.where`` to replace the values for the real origins**"
   ]
  },
  {
   "cell_type": "code",
   "execution_count": 159,
   "metadata": {},
   "outputs": [
    {
     "name": "stdout",
     "output_type": "stream",
     "text": [
      "df_new_artists[\"origin\"] = np.where(df_new_artists[\"artist\"]==\"Black Math Horseman\", \"England\", df_new_artists[\"origin\"])\n",
      "df_new_artists[\"origin\"] = np.where(df_new_artists[\"artist\"]==\"Broken Water\", \"England\", df_new_artists[\"origin\"])\n",
      "df_new_artists[\"origin\"] = np.where(df_new_artists[\"artist\"]==\"Cire\", \"England\", df_new_artists[\"origin\"])\n",
      "df_new_artists[\"origin\"] = np.where(df_new_artists[\"artist\"]==\"The Arcane Order\", \"England\", df_new_artists[\"origin\"])\n",
      "df_new_artists[\"origin\"] = np.where(df_new_artists[\"artist\"]==\"The Reptilian\", \"England\", df_new_artists[\"origin\"])\n",
      "df_new_artists[\"origin\"] = np.where(df_new_artists[\"artist\"]==\"The Riot Before\", \"England\", df_new_artists[\"origin\"])\n",
      "df_new_artists[\"origin\"] = np.where(df_new_artists[\"artist\"]==\"Brother Von Doom\", \"England\", df_new_artists[\"origin\"])\n",
      "df_new_artists[\"origin\"] = np.where(df_new_artists[\"artist\"]==\"Orchid\", \"England\", df_new_artists[\"origin\"])\n",
      "df_new_artists[\"origin\"] = np.where(df_new_artists[\"artist\"]==\"Addaura\", \"England\", df_new_artists[\"origin\"])\n",
      "df_new_artists[\"origin\"] = np.where(df_new_artists[\"artist\"]==\"Until Your Heart Stops\", \"England\", df_new_artists[\"origin\"])\n"
     ]
    }
   ],
   "source": [
    "# so I can print the np.where and I save time\n",
    "for artist in nulls['artist'].values:\n",
    "    print(f'df_new_artists[\"origin\"] = np.where(df_new_artists[\"artist\"]==\"{artist}\", \"England\", df_new_artists[\"origin\"])')"
   ]
  },
  {
   "cell_type": "markdown",
   "metadata": {},
   "source": [
    "**Looking in the internet for the real origins of these artists**"
   ]
  },
  {
   "cell_type": "code",
   "execution_count": 160,
   "metadata": {},
   "outputs": [
    {
     "data": {
      "text/html": [
       "<div>\n",
       "<style scoped>\n",
       "    .dataframe tbody tr th:only-of-type {\n",
       "        vertical-align: middle;\n",
       "    }\n",
       "\n",
       "    .dataframe tbody tr th {\n",
       "        vertical-align: top;\n",
       "    }\n",
       "\n",
       "    .dataframe thead th {\n",
       "        text-align: right;\n",
       "    }\n",
       "</style>\n",
       "<table border=\"1\" class=\"dataframe\">\n",
       "  <thead>\n",
       "    <tr style=\"text-align: right;\">\n",
       "      <th></th>\n",
       "      <th>artist</th>\n",
       "      <th>origin</th>\n",
       "    </tr>\n",
       "  </thead>\n",
       "  <tbody>\n",
       "    <tr>\n",
       "      <th>192</th>\n",
       "      <td>Black Math Horseman</td>\n",
       "      <td>NaN</td>\n",
       "    </tr>\n",
       "    <tr>\n",
       "      <th>194</th>\n",
       "      <td>Broken Water</td>\n",
       "      <td>NaN</td>\n",
       "    </tr>\n",
       "    <tr>\n",
       "      <th>197</th>\n",
       "      <td>Cire</td>\n",
       "      <td>NaN</td>\n",
       "    </tr>\n",
       "    <tr>\n",
       "      <th>200</th>\n",
       "      <td>The Arcane Order</td>\n",
       "      <td>NaN</td>\n",
       "    </tr>\n",
       "    <tr>\n",
       "      <th>201</th>\n",
       "      <td>The Reptilian</td>\n",
       "      <td>NaN</td>\n",
       "    </tr>\n",
       "    <tr>\n",
       "      <th>206</th>\n",
       "      <td>The Riot Before</td>\n",
       "      <td>NaN</td>\n",
       "    </tr>\n",
       "    <tr>\n",
       "      <th>208</th>\n",
       "      <td>Brother Von Doom</td>\n",
       "      <td>NaN</td>\n",
       "    </tr>\n",
       "    <tr>\n",
       "      <th>209</th>\n",
       "      <td>Orchid</td>\n",
       "      <td>NaN</td>\n",
       "    </tr>\n",
       "    <tr>\n",
       "      <th>210</th>\n",
       "      <td>Addaura</td>\n",
       "      <td>NaN</td>\n",
       "    </tr>\n",
       "    <tr>\n",
       "      <th>215</th>\n",
       "      <td>Until Your Heart Stops</td>\n",
       "      <td>NaN</td>\n",
       "    </tr>\n",
       "  </tbody>\n",
       "</table>\n",
       "</div>"
      ],
      "text/plain": [
       "                     artist origin\n",
       "192     Black Math Horseman    NaN\n",
       "194            Broken Water    NaN\n",
       "197                    Cire    NaN\n",
       "200        The Arcane Order    NaN\n",
       "201           The Reptilian    NaN\n",
       "206         The Riot Before    NaN\n",
       "208        Brother Von Doom    NaN\n",
       "209                  Orchid    NaN\n",
       "210                 Addaura    NaN\n",
       "215  Until Your Heart Stops    NaN"
      ]
     },
     "execution_count": 160,
     "metadata": {},
     "output_type": "execute_result"
    }
   ],
   "source": [
    "nulls.head(10) # so it's faster to copy the names of the artists to look for their origins on the internet"
   ]
  },
  {
   "cell_type": "code",
   "execution_count": 184,
   "metadata": {},
   "outputs": [],
   "source": [
    "df_new_artists[\"origin\"] = np.where(df_new_artists[\"artist\"]==\"Black Math Horseman\", \"Los Angeles\", df_new_artists[\"origin\"])\n",
    "df_new_artists[\"origin\"] = np.where(df_new_artists[\"artist\"]==\"Broken Water\", \"Olympia, Washington\", df_new_artists[\"origin\"])\n",
    "df_new_artists[\"origin\"] = np.where(df_new_artists[\"artist\"]==\"Cire\", \"New Orleans, LA, United States\", df_new_artists[\"origin\"])\n",
    "df_new_artists[\"origin\"] = np.where(df_new_artists[\"artist\"]==\"The Reptilian\", \"Kalamazoo, Michigan\", df_new_artists[\"origin\"])\n",
    "df_new_artists[\"origin\"] = np.where(df_new_artists[\"artist\"]==\"The Riot Before\", \"Richmond, VA, United States\", df_new_artists[\"origin\"])\n",
    "df_new_artists[\"origin\"] = np.where(df_new_artists[\"artist\"]==\"Brother Von Doom\", \"Dayton, OH, United States\", df_new_artists[\"origin\"])\n",
    "df_new_artists[\"origin\"] = np.where(df_new_artists[\"artist\"]==\"Orchid\", \"Amherst, Massachusetts\", df_new_artists[\"origin\"])\n",
    "df_new_artists[\"origin\"] = np.where(df_new_artists[\"artist\"]==\"Addaura\", \"Seattle, Washington\", df_new_artists[\"origin\"])\n",
    "df_new_artists[\"origin\"] = np.where(df_new_artists[\"artist\"]==\"Until Your Heart Stops\", \"Oakland, CA, United States\", df_new_artists[\"origin\"])\n",
    "df_new_artists[\"origin\"] = np.where(df_new_artists[\"artist\"]==\"Only Crime\", \"Fort Collins, CO, United States\", df_new_artists[\"origin\"])\n",
    "df_new_artists[\"origin\"] = np.where(df_new_artists[\"artist\"]==\"While Heaven Wept\", \"Dale City, VA, United States\", df_new_artists[\"origin\"])"
   ]
  },
  {
   "cell_type": "code",
   "execution_count": 178,
   "metadata": {},
   "outputs": [
    {
     "data": {
      "text/html": [
       "<div>\n",
       "<style scoped>\n",
       "    .dataframe tbody tr th:only-of-type {\n",
       "        vertical-align: middle;\n",
       "    }\n",
       "\n",
       "    .dataframe tbody tr th {\n",
       "        vertical-align: top;\n",
       "    }\n",
       "\n",
       "    .dataframe thead th {\n",
       "        text-align: right;\n",
       "    }\n",
       "</style>\n",
       "<table border=\"1\" class=\"dataframe\">\n",
       "  <thead>\n",
       "    <tr style=\"text-align: right;\">\n",
       "      <th></th>\n",
       "      <th>artist_id</th>\n",
       "      <th>master_id</th>\n",
       "      <th>main_release_id</th>\n",
       "      <th>release_country</th>\n",
       "      <th>artist</th>\n",
       "      <th>title</th>\n",
       "      <th>year</th>\n",
       "      <th>album_length</th>\n",
       "      <th>tracks</th>\n",
       "      <th>release_type</th>\n",
       "      <th>genres</th>\n",
       "      <th>styles</th>\n",
       "      <th>artist_profile</th>\n",
       "    </tr>\n",
       "  </thead>\n",
       "  <tbody>\n",
       "    <tr>\n",
       "      <th>5619</th>\n",
       "      <td>305973</td>\n",
       "      <td>386259</td>\n",
       "      <td>3227765</td>\n",
       "      <td>US</td>\n",
       "      <td>Only Crime</td>\n",
       "      <td>Virulence</td>\n",
       "      <td>2007</td>\n",
       "      <td>0.0</td>\n",
       "      <td>12</td>\n",
       "      <td>['Album']</td>\n",
       "      <td>['Rock']</td>\n",
       "      <td>['Punk']</td>\n",
       "      <td>Melodic hardcore band formed by [a=Good Riddan...</td>\n",
       "    </tr>\n",
       "  </tbody>\n",
       "</table>\n",
       "</div>"
      ],
      "text/plain": [
       "      artist_id  master_id  main_release_id release_country      artist  \\\n",
       "5619     305973     386259          3227765              US  Only Crime   \n",
       "\n",
       "          title  year  album_length  tracks release_type    genres    styles  \\\n",
       "5619  Virulence  2007           0.0      12    ['Album']  ['Rock']  ['Punk']   \n",
       "\n",
       "                                         artist_profile  \n",
       "5619  Melodic hardcore band formed by [a=Good Riddan...  "
      ]
     },
     "execution_count": 178,
     "metadata": {},
     "output_type": "execute_result"
    }
   ],
   "source": [
    "# look for the albums of the artist in the original df to check it's the correct artist\n",
    "df[df['artist']==\"Only Crime\t\".strip()].sort_values('year').head()"
   ]
  },
  {
   "cell_type": "code",
   "execution_count": 179,
   "metadata": {},
   "outputs": [
    {
     "name": "stdout",
     "output_type": "stream",
     "text": [
      "Melodic hardcore band formed by [a=Good Riddance] singer [a=Russ Rankin] and [a=Bane (2)] guitarist [a=Aaron Dalbec] in\n",
      "2003.\n"
     ]
    }
   ],
   "source": [
    "# check if there's info of the artist origin in the column 'artist_profile'\n",
    "import textwrap\n",
    "artist_profile = df.loc[5619]['artist_profile']\n",
    "\n",
    "splitted_string = textwrap.fill(artist_profile, width=120)\n",
    "print(splitted_string)"
   ]
  },
  {
   "cell_type": "markdown",
   "metadata": {},
   "source": [
    "#### Changing the original dataframes in case needed (ex: two bands with the same name)"
   ]
  },
  {
   "cell_type": "code",
   "execution_count": 73,
   "metadata": {},
   "outputs": [],
   "source": [
    "df.loc[11090, 'artist'] = 'Embrace (US)'\n",
    "df.loc[6140, 'artist'] = 'Embrace (UK)'\n",
    "df.loc[6141, 'artist'] = 'Embrace (UK)'"
   ]
  },
  {
   "cell_type": "code",
   "execution_count": 74,
   "metadata": {},
   "outputs": [],
   "source": [
    "df.to_csv('Datasets/df_masters_blended.csv', index=False)"
   ]
  },
  {
   "cell_type": "code",
   "execution_count": 75,
   "metadata": {},
   "outputs": [
    {
     "data": {
      "text/html": [
       "<div>\n",
       "<style scoped>\n",
       "    .dataframe tbody tr th:only-of-type {\n",
       "        vertical-align: middle;\n",
       "    }\n",
       "\n",
       "    .dataframe tbody tr th {\n",
       "        vertical-align: top;\n",
       "    }\n",
       "\n",
       "    .dataframe thead th {\n",
       "        text-align: right;\n",
       "    }\n",
       "</style>\n",
       "<table border=\"1\" class=\"dataframe\">\n",
       "  <thead>\n",
       "    <tr style=\"text-align: right;\">\n",
       "      <th></th>\n",
       "      <th>album_id</th>\n",
       "      <th>artist</th>\n",
       "      <th>title</th>\n",
       "      <th>rating</th>\n",
       "      <th>votes</th>\n",
       "    </tr>\n",
       "  </thead>\n",
       "  <tbody>\n",
       "    <tr>\n",
       "      <th>4485</th>\n",
       "      <td>7197</td>\n",
       "      <td>Embrace</td>\n",
       "      <td>The Good Will Out</td>\n",
       "      <td>3.56</td>\n",
       "      <td>24</td>\n",
       "    </tr>\n",
       "    <tr>\n",
       "      <th>4486</th>\n",
       "      <td>7198</td>\n",
       "      <td>Embrace</td>\n",
       "      <td>Out Of Nothing</td>\n",
       "      <td>3.39</td>\n",
       "      <td>27</td>\n",
       "    </tr>\n",
       "    <tr>\n",
       "      <th>8649</th>\n",
       "      <td>14575</td>\n",
       "      <td>Embrace</td>\n",
       "      <td>Embrace</td>\n",
       "      <td>3.99</td>\n",
       "      <td>309</td>\n",
       "    </tr>\n",
       "  </tbody>\n",
       "</table>\n",
       "</div>"
      ],
      "text/plain": [
       "      album_id   artist              title  rating  votes\n",
       "4485      7197  Embrace  The Good Will Out    3.56     24\n",
       "4486      7198  Embrace     Out Of Nothing    3.39     27\n",
       "8649     14575  Embrace            Embrace    3.99    309"
      ]
     },
     "execution_count": 75,
     "metadata": {},
     "output_type": "execute_result"
    }
   ],
   "source": [
    "# look for the albums of the artist in the original df_ratings_20 to check it's the correct artist\n",
    "df_ratings_20[df_ratings_20['artist']==\"Embrace\".strip()]"
   ]
  },
  {
   "cell_type": "code",
   "execution_count": 76,
   "metadata": {},
   "outputs": [],
   "source": [
    "df_ratings_20.loc[8649, 'artist'] = 'Embrace (US)'\n",
    "df_ratings_20.loc[4486, 'artist'] = 'Embrace (UK)'\n",
    "df_ratings_20.loc[4485, 'artist'] = 'Embrace (UK)'"
   ]
  },
  {
   "cell_type": "code",
   "execution_count": 77,
   "metadata": {},
   "outputs": [],
   "source": [
    "df_ratings_20.to_csv('Datasets/df_ratings_20.csv', index=False)"
   ]
  },
  {
   "cell_type": "code",
   "execution_count": 214,
   "metadata": {},
   "outputs": [
    {
     "data": {
      "text/plain": [
       "0"
      ]
     },
     "execution_count": 214,
     "metadata": {},
     "output_type": "execute_result"
    }
   ],
   "source": [
    "df_new_artists['origin'].isna().sum()"
   ]
  },
  {
   "cell_type": "markdown",
   "metadata": {},
   "source": [
    "#### **Drop artists that are not from the UK or the US** (or supergroups that don't have a clear origin)"
   ]
  },
  {
   "cell_type": "code",
   "execution_count": null,
   "metadata": {},
   "outputs": [],
   "source": [
    "artists_to_remove = ['Monsters of Folk', 'Shrinebuilder', 'The Joe Perry Project', 'Boygenius',\n",
    "                     'Scar the Martyr', 'Gordian Knot', 'Rock Star Supernova']\n",
    "\n",
    "for artist in artists_to_remove:\n",
    "    try:\n",
    "        artists_usa.remove(artist)\n",
    "        print(f'{artist} removed')\n",
    "    except:\n",
    "        pass"
   ]
  },
  {
   "cell_type": "code",
   "execution_count": 193,
   "metadata": {},
   "outputs": [
    {
     "name": "stdout",
     "output_type": "stream",
     "text": [
      "Rows before dropping: 207\n",
      "Rows after dropping: 206\n"
     ]
    }
   ],
   "source": [
    "# I can drop single rows or I can just create a subset with the artists that I want to keep, the ones that are not in the list of artists to remove\n",
    "print(f\"Rows before dropping: {df_new_artists.shape[0]}\")\n",
    "df_new_artists = df_new_artists[~df_new_artists['artist'].isin(artists_to_remove)]\n",
    "print(f\"Rows after dropping: {df_new_artists.shape[0]}\")"
   ]
  },
  {
   "cell_type": "markdown",
   "metadata": {},
   "source": [
    "#### **Check short and long origins, probably wrong**"
   ]
  },
  {
   "cell_type": "code",
   "execution_count": 187,
   "metadata": {},
   "outputs": [
    {
     "name": "stdout",
     "output_type": "stream",
     "text": [
      "56 Fargo, ND\n",
      "178 Boston\n"
     ]
    }
   ],
   "source": [
    "# print abnormally short origins and visually check if they are correct\n",
    "for index, row in df_new_artists.iterrows():\n",
    "    if len(row['origin']) < 10:\n",
    "        print(index, row['origin'])"
   ]
  },
  {
   "cell_type": "code",
   "execution_count": 181,
   "metadata": {},
   "outputs": [
    {
     "data": {
      "text/html": [
       "<div>\n",
       "<style scoped>\n",
       "    .dataframe tbody tr th:only-of-type {\n",
       "        vertical-align: middle;\n",
       "    }\n",
       "\n",
       "    .dataframe tbody tr th {\n",
       "        vertical-align: top;\n",
       "    }\n",
       "\n",
       "    .dataframe thead th {\n",
       "        text-align: right;\n",
       "    }\n",
       "</style>\n",
       "<table border=\"1\" class=\"dataframe\">\n",
       "  <thead>\n",
       "    <tr style=\"text-align: right;\">\n",
       "      <th></th>\n",
       "      <th>artist</th>\n",
       "      <th>origin</th>\n",
       "    </tr>\n",
       "  </thead>\n",
       "  <tbody>\n",
       "    <tr>\n",
       "      <th>207</th>\n",
       "      <td>While Heaven Wept</td>\n",
       "      <td>Virginia</td>\n",
       "    </tr>\n",
       "    <tr>\n",
       "      <th>208</th>\n",
       "      <td>Brother Von Doom</td>\n",
       "      <td>Dayton, OH, United States</td>\n",
       "    </tr>\n",
       "    <tr>\n",
       "      <th>209</th>\n",
       "      <td>Orchid</td>\n",
       "      <td>Amherst, Massachusetts</td>\n",
       "    </tr>\n",
       "    <tr>\n",
       "      <th>210</th>\n",
       "      <td>Addaura</td>\n",
       "      <td>Seattle, Washington</td>\n",
       "    </tr>\n",
       "    <tr>\n",
       "      <th>211</th>\n",
       "      <td>See You Next Tuesday</td>\n",
       "      <td>Bay City, Michigan, United States</td>\n",
       "    </tr>\n",
       "    <tr>\n",
       "      <th>212</th>\n",
       "      <td>Saints Never Surrender</td>\n",
       "      <td>Fort Wayne, Indiana</td>\n",
       "    </tr>\n",
       "  </tbody>\n",
       "</table>\n",
       "</div>"
      ],
      "text/plain": [
       "                     artist                             origin\n",
       "207       While Heaven Wept                           Virginia\n",
       "208        Brother Von Doom          Dayton, OH, United States\n",
       "209                  Orchid             Amherst, Massachusetts\n",
       "210                 Addaura                Seattle, Washington\n",
       "211    See You Next Tuesday  Bay City, Michigan, United States\n",
       "212  Saints Never Surrender                Fort Wayne, Indiana"
      ]
     },
     "execution_count": 181,
     "metadata": {},
     "output_type": "execute_result"
    }
   ],
   "source": [
    "start_index = 207\n",
    "\n",
    "end_index = start_index+5\n",
    "df_new_artists.loc[start_index:end_index]"
   ]
  },
  {
   "cell_type": "code",
   "execution_count": 204,
   "metadata": {},
   "outputs": [
    {
     "data": {
      "text/html": [
       "<div>\n",
       "<style scoped>\n",
       "    .dataframe tbody tr th:only-of-type {\n",
       "        vertical-align: middle;\n",
       "    }\n",
       "\n",
       "    .dataframe tbody tr th {\n",
       "        vertical-align: top;\n",
       "    }\n",
       "\n",
       "    .dataframe thead th {\n",
       "        text-align: right;\n",
       "    }\n",
       "</style>\n",
       "<table border=\"1\" class=\"dataframe\">\n",
       "  <thead>\n",
       "    <tr style=\"text-align: right;\">\n",
       "      <th></th>\n",
       "      <th>artist_id</th>\n",
       "      <th>master_id</th>\n",
       "      <th>main_release_id</th>\n",
       "      <th>release_country</th>\n",
       "      <th>artist</th>\n",
       "      <th>title</th>\n",
       "      <th>year</th>\n",
       "      <th>album_length</th>\n",
       "      <th>tracks</th>\n",
       "      <th>release_type</th>\n",
       "      <th>genres</th>\n",
       "      <th>styles</th>\n",
       "      <th>artist_profile</th>\n",
       "    </tr>\n",
       "  </thead>\n",
       "  <tbody>\n",
       "    <tr>\n",
       "      <th>6396</th>\n",
       "      <td>152830</td>\n",
       "      <td>451305</td>\n",
       "      <td>2572483</td>\n",
       "      <td>US</td>\n",
       "      <td>Big Kids</td>\n",
       "      <td>Hoop Dreams</td>\n",
       "      <td>2010</td>\n",
       "      <td>0.0</td>\n",
       "      <td>8</td>\n",
       "      <td>['LP']</td>\n",
       "      <td>['Rock']</td>\n",
       "      <td>['Rock &amp; Roll', 'Punk']</td>\n",
       "      <td>Punk band from Oakland, CA, USA.</td>\n",
       "    </tr>\n",
       "  </tbody>\n",
       "</table>\n",
       "</div>"
      ],
      "text/plain": [
       "      artist_id  master_id  main_release_id release_country    artist  \\\n",
       "6396     152830     451305          2572483              US  Big Kids   \n",
       "\n",
       "            title  year  album_length  tracks release_type    genres  \\\n",
       "6396  Hoop Dreams  2010           0.0       8       ['LP']  ['Rock']   \n",
       "\n",
       "                       styles                    artist_profile  \n",
       "6396  ['Rock & Roll', 'Punk']  Punk band from Oakland, CA, USA.  "
      ]
     },
     "execution_count": 204,
     "metadata": {},
     "output_type": "execute_result"
    }
   ],
   "source": [
    "# look for the albums of the artist in the original df to check it's the correct artist\n",
    "df[df['artist']==\"Big Kids\t\".strip()].sort_values('year').head()"
   ]
  },
  {
   "cell_type": "code",
   "execution_count": 201,
   "metadata": {},
   "outputs": [
    {
     "name": "stdout",
     "output_type": "stream",
     "text": [
      "American melodic hardcore punk band from Oakland, CA.\n"
     ]
    }
   ],
   "source": [
    "# check if there's info of the artist origin in the column 'artist_profile'\n",
    "import textwrap\n",
    "artist_profile = df.loc[5587]['artist_profile']\n",
    "\n",
    "splitted_string = textwrap.fill(artist_profile, width=120)\n",
    "print(splitted_string)"
   ]
  },
  {
   "cell_type": "markdown",
   "metadata": {},
   "source": [
    "**Genres**"
   ]
  },
  {
   "cell_type": "code",
   "execution_count": 188,
   "metadata": {},
   "outputs": [
    {
     "data": {
      "text/plain": [
       "(7, 2)"
      ]
     },
     "execution_count": 188,
     "metadata": {},
     "output_type": "execute_result"
    }
   ],
   "source": [
    "genres = df_new_artists[df_new_artists['origin'].str.contains('Genres')]\n",
    "genres.shape"
   ]
  },
  {
   "cell_type": "markdown",
   "metadata": {},
   "source": [
    "**``np.where`` to replace the values for the real origins**"
   ]
  },
  {
   "cell_type": "code",
   "execution_count": null,
   "metadata": {},
   "outputs": [],
   "source": [
    "for artist in genres['artist'].values:\n",
    "    print(f'df_new_artists[\"origin\"] = np.where(df_new_artists[\"artist\"]==\"{artist}\", \"UK\", df_new_artists[\"origin\"])')"
   ]
  },
  {
   "cell_type": "code",
   "execution_count": 194,
   "metadata": {},
   "outputs": [],
   "source": [
    "df_new_artists[\"origin\"] = np.where(df_new_artists[\"artist\"]==\"Derek Sherinian\", \"Laguna Beach, California, U.S.\", df_new_artists[\"origin\"])\n",
    "df_new_artists[\"origin\"] = np.where(df_new_artists[\"artist\"]==\"Jeff Loomis\", \"Appleton, Wisconsin, U.S.\", df_new_artists[\"origin\"])\n",
    "df_new_artists[\"origin\"] = np.where(df_new_artists[\"artist\"]==\"Johnny Hobo and the Freight Trains\", \"Brattleboro, Vermont, United States\", df_new_artists[\"origin\"])\n",
    "df_new_artists[\"origin\"] = np.where(df_new_artists[\"artist\"]==\"Bumblefoot\", \"Brooklyn, New York, U.S.\", df_new_artists[\"origin\"])\n",
    "df_new_artists[\"origin\"] = np.where(df_new_artists[\"artist\"]==\"Ill Bill\", \"New York City, U.S.\", df_new_artists[\"origin\"])\n",
    "df_new_artists[\"origin\"] = np.where(df_new_artists[\"artist\"]==\"Karl Sanders\", \"San Francisco, California, U.S.\", df_new_artists[\"origin\"])"
   ]
  },
  {
   "cell_type": "code",
   "execution_count": 195,
   "metadata": {},
   "outputs": [
    {
     "data": {
      "text/html": [
       "<div>\n",
       "<style scoped>\n",
       "    .dataframe tbody tr th:only-of-type {\n",
       "        vertical-align: middle;\n",
       "    }\n",
       "\n",
       "    .dataframe tbody tr th {\n",
       "        vertical-align: top;\n",
       "    }\n",
       "\n",
       "    .dataframe thead th {\n",
       "        text-align: right;\n",
       "    }\n",
       "</style>\n",
       "<table border=\"1\" class=\"dataframe\">\n",
       "  <thead>\n",
       "    <tr style=\"text-align: right;\">\n",
       "      <th></th>\n",
       "      <th>artist</th>\n",
       "      <th>origin</th>\n",
       "    </tr>\n",
       "  </thead>\n",
       "  <tbody>\n",
       "  </tbody>\n",
       "</table>\n",
       "</div>"
      ],
      "text/plain": [
       "Empty DataFrame\n",
       "Columns: [artist, origin]\n",
       "Index: []"
      ]
     },
     "execution_count": 195,
     "metadata": {},
     "output_type": "execute_result"
    }
   ],
   "source": [
    "# print the df so I can copy the origin from the column (before 'Genres')\n",
    "df_new_artists[df_new_artists['origin'].str.contains('Genres')]"
   ]
  },
  {
   "cell_type": "code",
   "execution_count": 206,
   "metadata": {},
   "outputs": [
    {
     "data": {
      "text/plain": [
       "(3, 3)"
      ]
     },
     "execution_count": 206,
     "metadata": {},
     "output_type": "execute_result"
    }
   ],
   "source": [
    "# I create a new column to calculate the lenght of the origin, if it's long it probably didn't scrap correctly Wikipedia\n",
    "df_new_artists[\"origin_length\"] = df_new_artists[\"origin\"].str.len()\n",
    "long_strings = df_new_artists[df_new_artists[\"origin_length\"]>40] # create a df based on these long origins\n",
    "long_strings.shape # to see how many artists I have to take care of"
   ]
  },
  {
   "cell_type": "code",
   "execution_count": 207,
   "metadata": {},
   "outputs": [
    {
     "data": {
      "text/html": [
       "<div>\n",
       "<style scoped>\n",
       "    .dataframe tbody tr th:only-of-type {\n",
       "        vertical-align: middle;\n",
       "    }\n",
       "\n",
       "    .dataframe tbody tr th {\n",
       "        vertical-align: top;\n",
       "    }\n",
       "\n",
       "    .dataframe thead th {\n",
       "        text-align: right;\n",
       "    }\n",
       "</style>\n",
       "<table border=\"1\" class=\"dataframe\">\n",
       "  <thead>\n",
       "    <tr style=\"text-align: right;\">\n",
       "      <th></th>\n",
       "      <th>artist</th>\n",
       "      <th>origin</th>\n",
       "      <th>origin_length</th>\n",
       "    </tr>\n",
       "  </thead>\n",
       "  <tbody>\n",
       "    <tr>\n",
       "      <th>15</th>\n",
       "      <td>Latterman</td>\n",
       "      <td>Huntington Station, New York, United States</td>\n",
       "      <td>43</td>\n",
       "    </tr>\n",
       "    <tr>\n",
       "      <th>147</th>\n",
       "      <td>Make Do and Mend</td>\n",
       "      <td>West Hartford, Connecticut, United States</td>\n",
       "      <td>41</td>\n",
       "    </tr>\n",
       "    <tr>\n",
       "      <th>186</th>\n",
       "      <td>Baths</td>\n",
       "      <td>Culver City, Los Angeles, California, United S...</td>\n",
       "      <td>51</td>\n",
       "    </tr>\n",
       "  </tbody>\n",
       "</table>\n",
       "</div>"
      ],
      "text/plain": [
       "               artist                                             origin  \\\n",
       "15          Latterman        Huntington Station, New York, United States   \n",
       "147  Make Do and Mend          West Hartford, Connecticut, United States   \n",
       "186             Baths  Culver City, Los Angeles, California, United S...   \n",
       "\n",
       "     origin_length  \n",
       "15              43  \n",
       "147             41  \n",
       "186             51  "
      ]
     },
     "execution_count": 207,
     "metadata": {},
     "output_type": "execute_result"
    }
   ],
   "source": [
    "long_strings # display the df so I can copy the parts I am interested in"
   ]
  },
  {
   "cell_type": "code",
   "execution_count": null,
   "metadata": {},
   "outputs": [],
   "source": [
    "for artist in long_strings['artist'].values:\n",
    "    print(f'df_new_artists[\"origin\"] = np.where(df_new_artists[\"artist\"]==\"{artist}\", \"UK\", df_new_artists[\"origin\"])')"
   ]
  },
  {
   "cell_type": "code",
   "execution_count": null,
   "metadata": {},
   "outputs": [],
   "source": [
    "df_new_artists[\"origin\"] = np.where(df_new_artists[\"artist\"]==\"Heartsounds\", \"Oakland, CA\", df_new_artists[\"origin\"])\n",
    "df_new_artists[\"origin\"] = np.where(df_new_artists[\"artist\"]==\"Burn Halo\", \"Costa Mesa\", df_new_artists[\"origin\"])\n",
    "df_new_artists[\"origin\"] = np.where(df_new_artists[\"artist\"]==\"Gayngs\", \"Minneapolis, MN, United States\", df_new_artists[\"origin\"])\n",
    "df_new_artists[\"origin\"] = np.where(df_new_artists[\"artist\"]==\"Sound Tribe Sector 9\", \"Snellville, GA, United States\", df_new_artists[\"origin\"])\n",
    "df_new_artists[\"origin\"] = np.where(df_new_artists[\"artist\"]==\"Big Kids\", \"Oakland, CA\", df_new_artists[\"origin\"])\n",
    "df_new_artists[\"origin\"] = np.where(df_new_artists[\"artist\"]==\"SQRM\", \"Springfield, Massachusetts\", df_new_artists[\"origin\"])"
   ]
  },
  {
   "cell_type": "code",
   "execution_count": 209,
   "metadata": {},
   "outputs": [],
   "source": [
    "# I drop the column I just created of 'origin_length'\n",
    "df_new_artists = df_new_artists[['artist', 'origin']]"
   ]
  },
  {
   "cell_type": "code",
   "execution_count": 210,
   "metadata": {},
   "outputs": [
    {
     "data": {
      "text/html": [
       "<div>\n",
       "<style scoped>\n",
       "    .dataframe tbody tr th:only-of-type {\n",
       "        vertical-align: middle;\n",
       "    }\n",
       "\n",
       "    .dataframe tbody tr th {\n",
       "        vertical-align: top;\n",
       "    }\n",
       "\n",
       "    .dataframe thead th {\n",
       "        text-align: right;\n",
       "    }\n",
       "</style>\n",
       "<table border=\"1\" class=\"dataframe\">\n",
       "  <thead>\n",
       "    <tr style=\"text-align: right;\">\n",
       "      <th></th>\n",
       "      <th>artist</th>\n",
       "      <th>origin</th>\n",
       "    </tr>\n",
       "  </thead>\n",
       "  <tbody>\n",
       "  </tbody>\n",
       "</table>\n",
       "</div>"
      ],
      "text/plain": [
       "Empty DataFrame\n",
       "Columns: [artist, origin]\n",
       "Index: []"
      ]
     },
     "execution_count": 210,
     "metadata": {},
     "output_type": "execute_result"
    }
   ],
   "source": [
    "# bands from United Kingdom, wrong origin, poor level of detail\n",
    "df_new_artists[df_new_artists['origin']==('United Kingdom')]"
   ]
  },
  {
   "cell_type": "markdown",
   "metadata": {},
   "source": [
    "### **Changing easy values: individuals that didn't get the right origin in Wikipedia**"
   ]
  },
  {
   "cell_type": "code",
   "execution_count": 119,
   "metadata": {},
   "outputs": [
    {
     "data": {
      "text/html": [
       "<div>\n",
       "<style scoped>\n",
       "    .dataframe tbody tr th:only-of-type {\n",
       "        vertical-align: middle;\n",
       "    }\n",
       "\n",
       "    .dataframe tbody tr th {\n",
       "        vertical-align: top;\n",
       "    }\n",
       "\n",
       "    .dataframe thead th {\n",
       "        text-align: right;\n",
       "    }\n",
       "</style>\n",
       "<table border=\"1\" class=\"dataframe\">\n",
       "  <thead>\n",
       "    <tr style=\"text-align: right;\">\n",
       "      <th></th>\n",
       "      <th>artist</th>\n",
       "      <th>origin</th>\n",
       "    </tr>\n",
       "  </thead>\n",
       "  <tbody>\n",
       "  </tbody>\n",
       "</table>\n",
       "</div>"
      ],
      "text/plain": [
       "Empty DataFrame\n",
       "Columns: [artist, origin]\n",
       "Index: []"
      ]
     },
     "execution_count": 119,
     "metadata": {},
     "output_type": "execute_result"
    }
   ],
   "source": [
    "# individuals that didn't get the right origin in Wikipedia\n",
    "df_new_artists[df_new_artists['origin'].str.contains(' and ')]"
   ]
  },
  {
   "cell_type": "code",
   "execution_count": 61,
   "metadata": {},
   "outputs": [
    {
     "data": {
      "text/html": [
       "<div>\n",
       "<style scoped>\n",
       "    .dataframe tbody tr th:only-of-type {\n",
       "        vertical-align: middle;\n",
       "    }\n",
       "\n",
       "    .dataframe tbody tr th {\n",
       "        vertical-align: top;\n",
       "    }\n",
       "\n",
       "    .dataframe thead th {\n",
       "        text-align: right;\n",
       "    }\n",
       "</style>\n",
       "<table border=\"1\" class=\"dataframe\">\n",
       "  <thead>\n",
       "    <tr style=\"text-align: right;\">\n",
       "      <th></th>\n",
       "      <th>artist</th>\n",
       "      <th>origin</th>\n",
       "    </tr>\n",
       "  </thead>\n",
       "  <tbody>\n",
       "  </tbody>\n",
       "</table>\n",
       "</div>"
      ],
      "text/plain": [
       "Empty DataFrame\n",
       "Columns: [artist, origin]\n",
       "Index: []"
      ]
     },
     "execution_count": 61,
     "metadata": {},
     "output_type": "execute_result"
    }
   ],
   "source": [
    "# bands from Cumbria, Geopy doesn't detect it\n",
    "df_new_artists[df_new_artists['origin'].str.contains('Cumbria')]"
   ]
  },
  {
   "cell_type": "code",
   "execution_count": 62,
   "metadata": {},
   "outputs": [],
   "source": [
    "df_new_artists['origin'] = df_new_artists['origin'].apply(lambda x: x.replace('Cumbria', 'Cumberland'))"
   ]
  },
  {
   "cell_type": "code",
   "execution_count": 63,
   "metadata": {},
   "outputs": [
    {
     "data": {
      "text/html": [
       "<div>\n",
       "<style scoped>\n",
       "    .dataframe tbody tr th:only-of-type {\n",
       "        vertical-align: middle;\n",
       "    }\n",
       "\n",
       "    .dataframe tbody tr th {\n",
       "        vertical-align: top;\n",
       "    }\n",
       "\n",
       "    .dataframe thead th {\n",
       "        text-align: right;\n",
       "    }\n",
       "</style>\n",
       "<table border=\"1\" class=\"dataframe\">\n",
       "  <thead>\n",
       "    <tr style=\"text-align: right;\">\n",
       "      <th></th>\n",
       "      <th>artist</th>\n",
       "      <th>origin</th>\n",
       "    </tr>\n",
       "  </thead>\n",
       "  <tbody>\n",
       "  </tbody>\n",
       "</table>\n",
       "</div>"
      ],
      "text/plain": [
       "Empty DataFrame\n",
       "Columns: [artist, origin]\n",
       "Index: []"
      ]
     },
     "execution_count": 63,
     "metadata": {},
     "output_type": "execute_result"
    }
   ],
   "source": [
    "# bands from Middlesex, Geopy doesn't detect it\n",
    "df_new_artists[df_new_artists['origin'].str.contains('Middlesex')]"
   ]
  },
  {
   "cell_type": "code",
   "execution_count": 64,
   "metadata": {},
   "outputs": [],
   "source": [
    "df_new_artists['origin'] = df_new_artists['origin'].apply(lambda x: x.replace(', Middlesex', ''))"
   ]
  },
  {
   "cell_type": "code",
   "execution_count": 65,
   "metadata": {},
   "outputs": [
    {
     "data": {
      "text/html": [
       "<div>\n",
       "<style scoped>\n",
       "    .dataframe tbody tr th:only-of-type {\n",
       "        vertical-align: middle;\n",
       "    }\n",
       "\n",
       "    .dataframe tbody tr th {\n",
       "        vertical-align: top;\n",
       "    }\n",
       "\n",
       "    .dataframe thead th {\n",
       "        text-align: right;\n",
       "    }\n",
       "</style>\n",
       "<table border=\"1\" class=\"dataframe\">\n",
       "  <thead>\n",
       "    <tr style=\"text-align: right;\">\n",
       "      <th></th>\n",
       "      <th>artist</th>\n",
       "      <th>origin</th>\n",
       "    </tr>\n",
       "  </thead>\n",
       "  <tbody>\n",
       "  </tbody>\n",
       "</table>\n",
       "</div>"
      ],
      "text/plain": [
       "Empty DataFrame\n",
       "Columns: [artist, origin]\n",
       "Index: []"
      ]
     },
     "execution_count": 65,
     "metadata": {},
     "output_type": "execute_result"
    }
   ],
   "source": [
    "# bands from Yorkshire, Geopy doesn't detect it\n",
    "df_new_artists[df_new_artists['origin'].str.contains('West Riding of Yorkshire')]"
   ]
  },
  {
   "cell_type": "code",
   "execution_count": 66,
   "metadata": {},
   "outputs": [],
   "source": [
    "df_new_artists['origin'] = df_new_artists['origin'].apply(lambda x: x.replace(', West Riding of Yorkshire', ''))"
   ]
  },
  {
   "cell_type": "code",
   "execution_count": 67,
   "metadata": {},
   "outputs": [
    {
     "data": {
      "text/html": [
       "<div>\n",
       "<style scoped>\n",
       "    .dataframe tbody tr th:only-of-type {\n",
       "        vertical-align: middle;\n",
       "    }\n",
       "\n",
       "    .dataframe tbody tr th {\n",
       "        vertical-align: top;\n",
       "    }\n",
       "\n",
       "    .dataframe thead th {\n",
       "        text-align: right;\n",
       "    }\n",
       "</style>\n",
       "<table border=\"1\" class=\"dataframe\">\n",
       "  <thead>\n",
       "    <tr style=\"text-align: right;\">\n",
       "      <th></th>\n",
       "      <th>artist</th>\n",
       "      <th>origin</th>\n",
       "    </tr>\n",
       "  </thead>\n",
       "  <tbody>\n",
       "  </tbody>\n",
       "</table>\n",
       "</div>"
      ],
      "text/plain": [
       "Empty DataFrame\n",
       "Columns: [artist, origin]\n",
       "Index: []"
      ]
     },
     "execution_count": 67,
     "metadata": {},
     "output_type": "execute_result"
    }
   ],
   "source": [
    "# bands from Merseyside, Geopy doesn't detect it\n",
    "df_new_artists[df_new_artists['origin'].str.contains('Merseyside')]"
   ]
  },
  {
   "cell_type": "code",
   "execution_count": 68,
   "metadata": {},
   "outputs": [],
   "source": [
    "df_new_artists['origin'] = df_new_artists['origin'].apply(lambda x: x.replace(', Merseyside', ''))"
   ]
  },
  {
   "cell_type": "markdown",
   "metadata": {},
   "source": [
    "### **``np.where`` to replace the values for the real origins**"
   ]
  },
  {
   "cell_type": "markdown",
   "metadata": {},
   "source": [
    "**Try a single origin in Geopy**"
   ]
  },
  {
   "cell_type": "code",
   "execution_count": null,
   "metadata": {},
   "outputs": [
    {
     "name": "stdout",
     "output_type": "stream",
     "text": [
      "Kirkland, King County, Washington, United States\n",
      "47.6765382 -122.2070775\n"
     ]
    }
   ],
   "source": [
    "# try to get the right origin of an origin that crashed\n",
    "geolocator = Nominatim(user_agent=\"music_analysis\")\n",
    "\n",
    "origin = \"Kirkland, Washington\"\n",
    "\n",
    "origin_clean = re.sub(r'\\[\\d+\\]', '', origin).replace('.', '')\n",
    "location = geolocator.geocode(origin_clean)\n",
    "print(f\"{location.address}\")\n",
    "print(location.latitude, location.longitude)"
   ]
  },
  {
   "cell_type": "code",
   "execution_count": 212,
   "metadata": {},
   "outputs": [
    {
     "data": {
      "text/html": [
       "<div>\n",
       "<style scoped>\n",
       "    .dataframe tbody tr th:only-of-type {\n",
       "        vertical-align: middle;\n",
       "    }\n",
       "\n",
       "    .dataframe tbody tr th {\n",
       "        vertical-align: top;\n",
       "    }\n",
       "\n",
       "    .dataframe thead th {\n",
       "        text-align: right;\n",
       "    }\n",
       "</style>\n",
       "<table border=\"1\" class=\"dataframe\">\n",
       "  <thead>\n",
       "    <tr style=\"text-align: right;\">\n",
       "      <th></th>\n",
       "      <th>artist</th>\n",
       "      <th>origin</th>\n",
       "    </tr>\n",
       "  </thead>\n",
       "  <tbody>\n",
       "    <tr>\n",
       "      <th>76</th>\n",
       "      <td>Artifex Pereo</td>\n",
       "      <td>Louisville, Kentucky, U.S.[1][2]</td>\n",
       "    </tr>\n",
       "    <tr>\n",
       "      <th>77</th>\n",
       "      <td>Midsummer</td>\n",
       "      <td>Los Angeles, CA, United States</td>\n",
       "    </tr>\n",
       "    <tr>\n",
       "      <th>78</th>\n",
       "      <td>Cold World</td>\n",
       "      <td>Wilkes-Barre, PA</td>\n",
       "    </tr>\n",
       "    <tr>\n",
       "      <th>79</th>\n",
       "      <td>SQRM</td>\n",
       "      <td>Springfield, Massachussets</td>\n",
       "    </tr>\n",
       "    <tr>\n",
       "      <th>80</th>\n",
       "      <td>Infest</td>\n",
       "      <td>Valencia, California, U.S.</td>\n",
       "    </tr>\n",
       "  </tbody>\n",
       "</table>\n",
       "</div>"
      ],
      "text/plain": [
       "           artist                            origin\n",
       "76  Artifex Pereo  Louisville, Kentucky, U.S.[1][2]\n",
       "77      Midsummer    Los Angeles, CA, United States\n",
       "78     Cold World                  Wilkes-Barre, PA\n",
       "79           SQRM        Springfield, Massachussets\n",
       "80         Infest        Valencia, California, U.S."
      ]
     },
     "execution_count": 212,
     "metadata": {},
     "output_type": "execute_result"
    }
   ],
   "source": [
    "start_index = 70\n",
    "\n",
    "end_index = start_index+5\n",
    "df_new_artists[start_index:end_index]"
   ]
  },
  {
   "cell_type": "markdown",
   "metadata": {},
   "source": [
    "**Try all origins in Geopy**"
   ]
  },
  {
   "cell_type": "code",
   "execution_count": 8,
   "metadata": {},
   "outputs": [
    {
     "name": "stdout",
     "output_type": "stream",
     "text": [
      "0 - Palo Alto, Santa Clara County, California, United States\n"
     ]
    }
   ],
   "source": [
    "# try to get the coordinates of the origins from Geopy and see if it crashes (wrong location that I have to change)\n",
    "geolocator = Nominatim(user_agent=\"music_analysis\", timeout=10)\n",
    "\n",
    "initial_index = 0\n",
    "count = initial_index-1\n",
    "\n",
    "for origin in df_new_artists['origin'].str.replace('.', '').str.replace(r'\\[\\d+\\]', '', regex=True)[initial_index:]:\n",
    "    count+=1\n",
    "    location = geolocator.geocode(origin)\n",
    "    print(f\"{count} - {location.address}\")"
   ]
  },
  {
   "cell_type": "markdown",
   "metadata": {},
   "source": [
    "# **Export to .csv**"
   ]
  },
  {
   "cell_type": "markdown",
   "metadata": {},
   "source": [
    "### GeoPy wrong locations"
   ]
  },
  {
   "cell_type": "markdown",
   "metadata": {},
   "source": [
    "**In case GeoPy fails due to a wrong location, I have to delete the new locations, export again, change the location and run GeoPy again**"
   ]
  },
  {
   "cell_type": "code",
   "execution_count": null,
   "metadata": {},
   "outputs": [],
   "source": [
    "#     # import the df with the artists' origins already scraped\n",
    "# df_artists_origins_scraped = pd.read_csv('Datasets/df_artists_origins.csv')\n",
    "# df_artists_origins_scraped = df_artists_origins_scraped[0:-20]\n",
    "# df_artists_origins_scraped.to_csv('Datasets/df_artists_origins.csv', index=False)"
   ]
  },
  {
   "cell_type": "code",
   "execution_count": 9,
   "metadata": {},
   "outputs": [
    {
     "data": {
      "text/plain": [
       "(1, 2)"
      ]
     },
     "execution_count": 9,
     "metadata": {},
     "output_type": "execute_result"
    }
   ],
   "source": [
    "df_new_artists.shape"
   ]
  },
  {
   "cell_type": "code",
   "execution_count": 216,
   "metadata": {},
   "outputs": [],
   "source": [
    "# in case I created by mistake already 'origin_clean' and I want to drop it\n",
    "# df_new_artists = df_new_artists[['artist', 'origin']]\n",
    "# df_new_artists"
   ]
  },
  {
   "cell_type": "markdown",
   "metadata": {},
   "source": [
    "### **Export to .csv**"
   ]
  },
  {
   "cell_type": "code",
   "execution_count": 10,
   "metadata": {},
   "outputs": [
    {
     "name": "stdout",
     "output_type": "stream",
     "text": [
      "df_artists_origins_concat exported to .csv\n",
      "(6738, 2)\n"
     ]
    }
   ],
   "source": [
    "export_artists_origins_concat(df_new_artists)"
   ]
  },
  {
   "cell_type": "markdown",
   "metadata": {},
   "source": [
    "## **GeoPy**"
   ]
  },
  {
   "cell_type": "code",
   "execution_count": 11,
   "metadata": {},
   "outputs": [
    {
     "name": "stdout",
     "output_type": "stream",
     "text": [
      "1/1 - Palo Alto, Santa Clara County, California, United States\n"
     ]
    },
    {
     "data": {
      "text/html": [
       "<div>\n",
       "<style scoped>\n",
       "    .dataframe tbody tr th:only-of-type {\n",
       "        vertical-align: middle;\n",
       "    }\n",
       "\n",
       "    .dataframe tbody tr th {\n",
       "        vertical-align: top;\n",
       "    }\n",
       "\n",
       "    .dataframe thead th {\n",
       "        text-align: right;\n",
       "    }\n",
       "</style>\n",
       "<table border=\"1\" class=\"dataframe\">\n",
       "  <thead>\n",
       "    <tr style=\"text-align: right;\">\n",
       "      <th></th>\n",
       "      <th>country</th>\n",
       "      <th>city</th>\n",
       "      <th>origin</th>\n",
       "      <th>origin_clean</th>\n",
       "      <th>latitude</th>\n",
       "      <th>longitude</th>\n",
       "      <th>address</th>\n",
       "    </tr>\n",
       "  </thead>\n",
       "  <tbody>\n",
       "    <tr>\n",
       "      <th>0</th>\n",
       "      <td>United States</td>\n",
       "      <td>Palo Alto</td>\n",
       "      <td>Palo Alto, California, U.S.</td>\n",
       "      <td>Palo Alto, California, US</td>\n",
       "      <td>37.444329</td>\n",
       "      <td>-122.159847</td>\n",
       "      <td>Palo Alto, Santa Clara County, California, Uni...</td>\n",
       "    </tr>\n",
       "  </tbody>\n",
       "</table>\n",
       "</div>"
      ],
      "text/plain": [
       "         country       city                       origin  \\\n",
       "0  United States  Palo Alto  Palo Alto, California, U.S.   \n",
       "\n",
       "                origin_clean   latitude   longitude  \\\n",
       "0  Palo Alto, California, US  37.444329 -122.159847   \n",
       "\n",
       "                                             address  \n",
       "0  Palo Alto, Santa Clara County, California, Uni...  "
      ]
     },
     "execution_count": 11,
     "metadata": {},
     "output_type": "execute_result"
    }
   ],
   "source": [
    "df_coordinates = get_coordinates_geopy(df_new_artists)\n",
    "df_coordinates"
   ]
  },
  {
   "cell_type": "code",
   "execution_count": 12,
   "metadata": {},
   "outputs": [
    {
     "name": "stdout",
     "output_type": "stream",
     "text": [
      "df_coordinates_scraped: (2772, 7)\n",
      "\n",
      "Found 1 duplicates:\n",
      "           city        country\n",
      "2177  Palo Alto  United States\n",
      "\n",
      "Resulting dataset: (2772, 7)\n",
      "Merged artists with coordinates! Found 0 new locations\n",
      "df_coordinates_concat exported to .csv\n"
     ]
    }
   ],
   "source": [
    "export_coordinates_concat(df_coordinates)"
   ]
  },
  {
   "cell_type": "code",
   "execution_count": 13,
   "metadata": {},
   "outputs": [
    {
     "name": "stdout",
     "output_type": "stream",
     "text": [
      "Exported to a .csv file\n"
     ]
    },
    {
     "data": {
      "text/html": [
       "<div>\n",
       "<style scoped>\n",
       "    .dataframe tbody tr th:only-of-type {\n",
       "        vertical-align: middle;\n",
       "    }\n",
       "\n",
       "    .dataframe tbody tr th {\n",
       "        vertical-align: top;\n",
       "    }\n",
       "\n",
       "    .dataframe thead th {\n",
       "        text-align: right;\n",
       "    }\n",
       "</style>\n",
       "<table border=\"1\" class=\"dataframe\">\n",
       "  <thead>\n",
       "    <tr style=\"text-align: right;\">\n",
       "      <th></th>\n",
       "      <th>artist</th>\n",
       "      <th>country</th>\n",
       "      <th>city</th>\n",
       "      <th>latitude</th>\n",
       "      <th>longitude</th>\n",
       "      <th>address</th>\n",
       "    </tr>\n",
       "  </thead>\n",
       "  <tbody>\n",
       "    <tr>\n",
       "      <th>6700</th>\n",
       "      <td>Until Your Heart Stops</td>\n",
       "      <td>United States</td>\n",
       "      <td>Oakland</td>\n",
       "      <td>37.804456</td>\n",
       "      <td>-122.271356</td>\n",
       "      <td>Oakland, Alameda County, California, United St...</td>\n",
       "    </tr>\n",
       "    <tr>\n",
       "      <th>6701</th>\n",
       "      <td>Sleepercar</td>\n",
       "      <td>United States</td>\n",
       "      <td>El Paso</td>\n",
       "      <td>31.760116</td>\n",
       "      <td>-106.487040</td>\n",
       "      <td>El Paso, El Paso County, Texas, United States</td>\n",
       "    </tr>\n",
       "    <tr>\n",
       "      <th>6702</th>\n",
       "      <td>Swamp Thing</td>\n",
       "      <td>New Zealand / Aotearoa</td>\n",
       "      <td>Rotorua</td>\n",
       "      <td>-38.138149</td>\n",
       "      <td>176.252922</td>\n",
       "      <td>Rotorua, Rotorua Lakes District, Bay of Plenty...</td>\n",
       "    </tr>\n",
       "    <tr>\n",
       "      <th>6703</th>\n",
       "      <td>Tim Kasher</td>\n",
       "      <td>United States</td>\n",
       "      <td>Omaha</td>\n",
       "      <td>41.258746</td>\n",
       "      <td>-95.938376</td>\n",
       "      <td>Omaha, Douglas County, Nebraska, United States</td>\n",
       "    </tr>\n",
       "    <tr>\n",
       "      <th>6704</th>\n",
       "      <td>Grateful Dead</td>\n",
       "      <td>United States</td>\n",
       "      <td>Palo Alto</td>\n",
       "      <td>37.444329</td>\n",
       "      <td>-122.159847</td>\n",
       "      <td>Palo Alto, Santa Clara County, California, Uni...</td>\n",
       "    </tr>\n",
       "  </tbody>\n",
       "</table>\n",
       "</div>"
      ],
      "text/plain": [
       "                      artist                 country       city   latitude  \\\n",
       "6700  Until Your Heart Stops           United States    Oakland  37.804456   \n",
       "6701              Sleepercar           United States    El Paso  31.760116   \n",
       "6702             Swamp Thing  New Zealand / Aotearoa    Rotorua -38.138149   \n",
       "6703              Tim Kasher           United States      Omaha  41.258746   \n",
       "6704           Grateful Dead           United States  Palo Alto  37.444329   \n",
       "\n",
       "       longitude                                            address  \n",
       "6700 -122.271356  Oakland, Alameda County, California, United St...  \n",
       "6701 -106.487040      El Paso, El Paso County, Texas, United States  \n",
       "6702  176.252922  Rotorua, Rotorua Lakes District, Bay of Plenty...  \n",
       "6703  -95.938376     Omaha, Douglas County, Nebraska, United States  \n",
       "6704 -122.159847  Palo Alto, Santa Clara County, California, Uni...  "
      ]
     },
     "execution_count": 13,
     "metadata": {},
     "output_type": "execute_result"
    }
   ],
   "source": [
    "# merge with the dataframe containing all the artists and their origins\n",
    "df_artists_origins_coordinates_concat = merge_origins_coordinates(df_new_artists)\n",
    "df_artists_origins_coordinates_concat.tail()"
   ]
  },
  {
   "cell_type": "markdown",
   "metadata": {},
   "source": [
    "Later I found a null in Tableau, and after a lot of research I found an artist that was in ``df_artists_origins`` but for some reason didn't make it to ``df_artists_origins_coordinates``"
   ]
  },
  {
   "cell_type": "code",
   "execution_count": null,
   "metadata": {},
   "outputs": [
    {
     "data": {
      "text/html": [
       "<div>\n",
       "<style scoped>\n",
       "    .dataframe tbody tr th:only-of-type {\n",
       "        vertical-align: middle;\n",
       "    }\n",
       "\n",
       "    .dataframe tbody tr th {\n",
       "        vertical-align: top;\n",
       "    }\n",
       "\n",
       "    .dataframe thead th {\n",
       "        text-align: right;\n",
       "    }\n",
       "</style>\n",
       "<table border=\"1\" class=\"dataframe\">\n",
       "  <thead>\n",
       "    <tr style=\"text-align: right;\">\n",
       "      <th></th>\n",
       "      <th>artist</th>\n",
       "      <th>country</th>\n",
       "      <th>city</th>\n",
       "      <th>latitude</th>\n",
       "      <th>longitude</th>\n",
       "      <th>address</th>\n",
       "    </tr>\n",
       "  </thead>\n",
       "  <tbody>\n",
       "    <tr>\n",
       "      <th>0</th>\n",
       "      <td>Sparta</td>\n",
       "      <td>United States</td>\n",
       "      <td>El Paso</td>\n",
       "      <td>31.760116</td>\n",
       "      <td>-106.487040</td>\n",
       "      <td>El Paso, El Paso County, Texas, United States</td>\n",
       "    </tr>\n",
       "    <tr>\n",
       "      <th>1</th>\n",
       "      <td>Muse</td>\n",
       "      <td>United Kingdom</td>\n",
       "      <td>Teignmouth</td>\n",
       "      <td>50.546338</td>\n",
       "      <td>-3.495780</td>\n",
       "      <td>Teignmouth, Teignbridge, Devon, England, Unite...</td>\n",
       "    </tr>\n",
       "    <tr>\n",
       "      <th>2</th>\n",
       "      <td>Finch</td>\n",
       "      <td>United States</td>\n",
       "      <td>Temecula</td>\n",
       "      <td>33.494635</td>\n",
       "      <td>-117.147366</td>\n",
       "      <td>Temecula, Riverside County, California, United...</td>\n",
       "    </tr>\n",
       "    <tr>\n",
       "      <th>3</th>\n",
       "      <td>Transplants</td>\n",
       "      <td>United States</td>\n",
       "      <td>Los Angeles</td>\n",
       "      <td>34.053691</td>\n",
       "      <td>-118.242766</td>\n",
       "      <td>Los Angeles, Los Angeles County, California, U...</td>\n",
       "    </tr>\n",
       "    <tr>\n",
       "      <th>4</th>\n",
       "      <td>Rooney</td>\n",
       "      <td>United States</td>\n",
       "      <td>Los Angeles</td>\n",
       "      <td>34.053691</td>\n",
       "      <td>-118.242766</td>\n",
       "      <td>Los Angeles, Los Angeles County, California, U...</td>\n",
       "    </tr>\n",
       "    <tr>\n",
       "      <th>...</th>\n",
       "      <td>...</td>\n",
       "      <td>...</td>\n",
       "      <td>...</td>\n",
       "      <td>...</td>\n",
       "      <td>...</td>\n",
       "      <td>...</td>\n",
       "    </tr>\n",
       "    <tr>\n",
       "      <th>6701</th>\n",
       "      <td>Until Your Heart Stops</td>\n",
       "      <td>United States</td>\n",
       "      <td>Oakland</td>\n",
       "      <td>37.804456</td>\n",
       "      <td>-122.271356</td>\n",
       "      <td>Oakland, Alameda County, California, United St...</td>\n",
       "    </tr>\n",
       "    <tr>\n",
       "      <th>6702</th>\n",
       "      <td>Sleepercar</td>\n",
       "      <td>United States</td>\n",
       "      <td>El Paso</td>\n",
       "      <td>31.760116</td>\n",
       "      <td>-106.487040</td>\n",
       "      <td>El Paso, El Paso County, Texas, United States</td>\n",
       "    </tr>\n",
       "    <tr>\n",
       "      <th>6703</th>\n",
       "      <td>Swamp Thing</td>\n",
       "      <td>New Zealand / Aotearoa</td>\n",
       "      <td>Rotorua</td>\n",
       "      <td>-38.138149</td>\n",
       "      <td>176.252922</td>\n",
       "      <td>Rotorua, Rotorua Lakes District, Bay of Plenty...</td>\n",
       "    </tr>\n",
       "    <tr>\n",
       "      <th>6704</th>\n",
       "      <td>Tim Kasher</td>\n",
       "      <td>United States</td>\n",
       "      <td>Omaha</td>\n",
       "      <td>41.258746</td>\n",
       "      <td>-95.938376</td>\n",
       "      <td>Omaha, Douglas County, Nebraska, United States</td>\n",
       "    </tr>\n",
       "    <tr>\n",
       "      <th>6705</th>\n",
       "      <td>Grateful Dead</td>\n",
       "      <td>United States</td>\n",
       "      <td>Palo Alto</td>\n",
       "      <td>37.444329</td>\n",
       "      <td>-122.159847</td>\n",
       "      <td>Palo Alto, Santa Clara County, California, Uni...</td>\n",
       "    </tr>\n",
       "  </tbody>\n",
       "</table>\n",
       "<p>6706 rows × 6 columns</p>\n",
       "</div>"
      ],
      "text/plain": [
       "                      artist                 country         city   latitude  \\\n",
       "0                     Sparta           United States      El Paso  31.760116   \n",
       "1                       Muse          United Kingdom   Teignmouth  50.546338   \n",
       "2                      Finch           United States     Temecula  33.494635   \n",
       "3                Transplants           United States  Los Angeles  34.053691   \n",
       "4                     Rooney           United States  Los Angeles  34.053691   \n",
       "...                      ...                     ...          ...        ...   \n",
       "6701  Until Your Heart Stops           United States      Oakland  37.804456   \n",
       "6702              Sleepercar           United States      El Paso  31.760116   \n",
       "6703             Swamp Thing  New Zealand / Aotearoa      Rotorua -38.138149   \n",
       "6704              Tim Kasher           United States        Omaha  41.258746   \n",
       "6705           Grateful Dead           United States    Palo Alto  37.444329   \n",
       "\n",
       "       longitude                                            address  \n",
       "0    -106.487040      El Paso, El Paso County, Texas, United States  \n",
       "1      -3.495780  Teignmouth, Teignbridge, Devon, England, Unite...  \n",
       "2    -117.147366  Temecula, Riverside County, California, United...  \n",
       "3    -118.242766  Los Angeles, Los Angeles County, California, U...  \n",
       "4    -118.242766  Los Angeles, Los Angeles County, California, U...  \n",
       "...          ...                                                ...  \n",
       "6701 -122.271356  Oakland, Alameda County, California, United St...  \n",
       "6702 -106.487040      El Paso, El Paso County, Texas, United States  \n",
       "6703  176.252922  Rotorua, Rotorua Lakes District, Bay of Plenty...  \n",
       "6704  -95.938376     Omaha, Douglas County, Nebraska, United States  \n",
       "6705 -122.159847  Palo Alto, Santa Clara County, California, Uni...  \n",
       "\n",
       "[6706 rows x 6 columns]"
      ]
     },
     "execution_count": 97,
     "metadata": {},
     "output_type": "execute_result"
    }
   ],
   "source": [
    "# import the last df that contains the coordinates of the unique origins\n",
    "df_coordinates_concat = pd.read_csv('Datasets/df_coordinates.csv')\n",
    "\n",
    "# merge with the previous df with the artists\n",
    "df_artists_origins_coordinates = pd.merge(df_artists_origins, df_coordinates_concat, on=['origin'])\n",
    "\n",
    "df_artists_origins_coordinates.drop(columns=['origin', 'origin_clean'], inplace=True)\n",
    "df_artists_origins_coordinates"
   ]
  },
  {
   "cell_type": "code",
   "execution_count": 17,
   "metadata": {},
   "outputs": [
    {
     "data": {
      "text/plain": [
       "True"
      ]
     },
     "execution_count": 17,
     "metadata": {},
     "output_type": "execute_result"
    }
   ],
   "source": [
    "'Skywave' in df_artists_origins_coordinates['artist'].values"
   ]
  },
  {
   "cell_type": "code",
   "execution_count": 26,
   "metadata": {},
   "outputs": [],
   "source": [
    "skywave = df_artists_origins_coordinates[df_artists_origins_coordinates['artist']=='Skywave']"
   ]
  },
  {
   "cell_type": "code",
   "execution_count": null,
   "metadata": {},
   "outputs": [
    {
     "data": {
      "text/html": [
       "<div>\n",
       "<style scoped>\n",
       "    .dataframe tbody tr th:only-of-type {\n",
       "        vertical-align: middle;\n",
       "    }\n",
       "\n",
       "    .dataframe tbody tr th {\n",
       "        vertical-align: top;\n",
       "    }\n",
       "\n",
       "    .dataframe thead th {\n",
       "        text-align: right;\n",
       "    }\n",
       "</style>\n",
       "<table border=\"1\" class=\"dataframe\">\n",
       "  <thead>\n",
       "    <tr style=\"text-align: right;\">\n",
       "      <th></th>\n",
       "      <th>artist</th>\n",
       "      <th>country</th>\n",
       "      <th>city</th>\n",
       "      <th>latitude</th>\n",
       "      <th>longitude</th>\n",
       "      <th>address</th>\n",
       "      <th>state</th>\n",
       "    </tr>\n",
       "  </thead>\n",
       "  <tbody>\n",
       "    <tr>\n",
       "      <th>0</th>\n",
       "      <td>Nirvana</td>\n",
       "      <td>United States</td>\n",
       "      <td>Aberdeen</td>\n",
       "      <td>46.975371</td>\n",
       "      <td>-123.815722</td>\n",
       "      <td>Aberdeen, Grays Harbor County, Washington, 985...</td>\n",
       "      <td>Washington</td>\n",
       "    </tr>\n",
       "    <tr>\n",
       "      <th>1</th>\n",
       "      <td>Close Your Eyes</td>\n",
       "      <td>United States</td>\n",
       "      <td>Abilene</td>\n",
       "      <td>32.446450</td>\n",
       "      <td>-99.747591</td>\n",
       "      <td>Abilene, Taylor County, Texas, United States</td>\n",
       "      <td>Texas</td>\n",
       "    </tr>\n",
       "    <tr>\n",
       "      <th>2</th>\n",
       "      <td>Micah P. Hinson</td>\n",
       "      <td>United States</td>\n",
       "      <td>Abilene</td>\n",
       "      <td>32.446450</td>\n",
       "      <td>-99.747591</td>\n",
       "      <td>Abilene, Taylor County, Texas, United States</td>\n",
       "      <td>Texas</td>\n",
       "    </tr>\n",
       "    <tr>\n",
       "      <th>3</th>\n",
       "      <td>A Loss For Words</td>\n",
       "      <td>United States</td>\n",
       "      <td>Abington</td>\n",
       "      <td>42.104823</td>\n",
       "      <td>-70.945322</td>\n",
       "      <td>Abington, Plymouth County, Massachusetts, 0235...</td>\n",
       "      <td>Massachusetts</td>\n",
       "    </tr>\n",
       "    <tr>\n",
       "      <th>4</th>\n",
       "      <td>Pretty Boy Floyd</td>\n",
       "      <td>United States</td>\n",
       "      <td>Adairsville</td>\n",
       "      <td>34.368327</td>\n",
       "      <td>-84.934906</td>\n",
       "      <td>Adairsville, Bartow County, Georgia, 30103, Un...</td>\n",
       "      <td>Georgia</td>\n",
       "    </tr>\n",
       "    <tr>\n",
       "      <th>...</th>\n",
       "      <td>...</td>\n",
       "      <td>...</td>\n",
       "      <td>...</td>\n",
       "      <td>...</td>\n",
       "      <td>...</td>\n",
       "      <td>...</td>\n",
       "      <td>...</td>\n",
       "    </tr>\n",
       "    <tr>\n",
       "      <th>5629</th>\n",
       "      <td>The Seahorses</td>\n",
       "      <td>United Kingdom</td>\n",
       "      <td>York</td>\n",
       "      <td>53.965658</td>\n",
       "      <td>-1.074305</td>\n",
       "      <td>York, York and North Yorkshire, England, Unite...</td>\n",
       "      <td>York and North Yorkshire</td>\n",
       "    </tr>\n",
       "    <tr>\n",
       "      <th>5630</th>\n",
       "      <td>Shed Seven</td>\n",
       "      <td>United Kingdom</td>\n",
       "      <td>York</td>\n",
       "      <td>53.965658</td>\n",
       "      <td>-1.074305</td>\n",
       "      <td>York, York and North Yorkshire, England, Unite...</td>\n",
       "      <td>York and North Yorkshire</td>\n",
       "    </tr>\n",
       "    <tr>\n",
       "      <th>5631</th>\n",
       "      <td>A Forest of Stars</td>\n",
       "      <td>United Kingdom</td>\n",
       "      <td>Yorkshire</td>\n",
       "      <td>53.982527</td>\n",
       "      <td>-1.385250</td>\n",
       "      <td>Yorkshire, England, United Kingdom</td>\n",
       "      <td>Yorkshire</td>\n",
       "    </tr>\n",
       "    <tr>\n",
       "      <th>5632</th>\n",
       "      <td>No Devotion</td>\n",
       "      <td>United Kingdom</td>\n",
       "      <td>Pontypridd</td>\n",
       "      <td>51.600105</td>\n",
       "      <td>-3.344936</td>\n",
       "      <td>Pontypridd, Rhondda Cynon Taf, Cymru / Wales, ...</td>\n",
       "      <td>Rhondda Cynon Taf</td>\n",
       "    </tr>\n",
       "    <tr>\n",
       "      <th>5685</th>\n",
       "      <td>Skywave</td>\n",
       "      <td>United States</td>\n",
       "      <td>Fredericksburg</td>\n",
       "      <td>38.303184</td>\n",
       "      <td>-77.460540</td>\n",
       "      <td>Fredericksburg, Virginia, United States</td>\n",
       "      <td>NaN</td>\n",
       "    </tr>\n",
       "  </tbody>\n",
       "</table>\n",
       "<p>5634 rows × 7 columns</p>\n",
       "</div>"
      ],
      "text/plain": [
       "                 artist         country            city   latitude  \\\n",
       "0               Nirvana   United States        Aberdeen  46.975371   \n",
       "1       Close Your Eyes   United States         Abilene  32.446450   \n",
       "2       Micah P. Hinson   United States         Abilene  32.446450   \n",
       "3      A Loss For Words   United States        Abington  42.104823   \n",
       "4      Pretty Boy Floyd   United States     Adairsville  34.368327   \n",
       "...                 ...             ...             ...        ...   \n",
       "5629      The Seahorses  United Kingdom            York  53.965658   \n",
       "5630         Shed Seven  United Kingdom            York  53.965658   \n",
       "5631  A Forest of Stars  United Kingdom       Yorkshire  53.982527   \n",
       "5632        No Devotion  United Kingdom      Pontypridd  51.600105   \n",
       "5685            Skywave   United States  Fredericksburg  38.303184   \n",
       "\n",
       "       longitude                                            address  \\\n",
       "0    -123.815722  Aberdeen, Grays Harbor County, Washington, 985...   \n",
       "1     -99.747591       Abilene, Taylor County, Texas, United States   \n",
       "2     -99.747591       Abilene, Taylor County, Texas, United States   \n",
       "3     -70.945322  Abington, Plymouth County, Massachusetts, 0235...   \n",
       "4     -84.934906  Adairsville, Bartow County, Georgia, 30103, Un...   \n",
       "...          ...                                                ...   \n",
       "5629   -1.074305  York, York and North Yorkshire, England, Unite...   \n",
       "5630   -1.074305  York, York and North Yorkshire, England, Unite...   \n",
       "5631   -1.385250                 Yorkshire, England, United Kingdom   \n",
       "5632   -3.344936  Pontypridd, Rhondda Cynon Taf, Cymru / Wales, ...   \n",
       "5685  -77.460540            Fredericksburg, Virginia, United States   \n",
       "\n",
       "                         state  \n",
       "0                   Washington  \n",
       "1                        Texas  \n",
       "2                        Texas  \n",
       "3                Massachusetts  \n",
       "4                      Georgia  \n",
       "...                        ...  \n",
       "5629  York and North Yorkshire  \n",
       "5630  York and North Yorkshire  \n",
       "5631                 Yorkshire  \n",
       "5632         Rhondda Cynon Taf  \n",
       "5685                       NaN  \n",
       "\n",
       "[5634 rows x 7 columns]"
      ]
     },
     "execution_count": 28,
     "metadata": {},
     "output_type": "execute_result"
    }
   ],
   "source": [
    "df = pd.concat([df_coordinates_final, skywave])\n"
   ]
  },
  {
   "cell_type": "code",
   "execution_count": 32,
   "metadata": {},
   "outputs": [
    {
     "data": {
      "text/html": [
       "<div>\n",
       "<style scoped>\n",
       "    .dataframe tbody tr th:only-of-type {\n",
       "        vertical-align: middle;\n",
       "    }\n",
       "\n",
       "    .dataframe tbody tr th {\n",
       "        vertical-align: top;\n",
       "    }\n",
       "\n",
       "    .dataframe thead th {\n",
       "        text-align: right;\n",
       "    }\n",
       "</style>\n",
       "<table border=\"1\" class=\"dataframe\">\n",
       "  <thead>\n",
       "    <tr style=\"text-align: right;\">\n",
       "      <th></th>\n",
       "      <th>artist</th>\n",
       "      <th>country</th>\n",
       "      <th>city</th>\n",
       "      <th>latitude</th>\n",
       "      <th>longitude</th>\n",
       "      <th>address</th>\n",
       "      <th>state</th>\n",
       "    </tr>\n",
       "  </thead>\n",
       "  <tbody>\n",
       "    <tr>\n",
       "      <th>0</th>\n",
       "      <td>Nirvana</td>\n",
       "      <td>United States</td>\n",
       "      <td>Aberdeen</td>\n",
       "      <td>46.975371</td>\n",
       "      <td>-123.815722</td>\n",
       "      <td>Aberdeen, Grays Harbor County, Washington, 985...</td>\n",
       "      <td>Washington</td>\n",
       "    </tr>\n",
       "    <tr>\n",
       "      <th>1</th>\n",
       "      <td>Close Your Eyes</td>\n",
       "      <td>United States</td>\n",
       "      <td>Abilene</td>\n",
       "      <td>32.446450</td>\n",
       "      <td>-99.747591</td>\n",
       "      <td>Abilene, Taylor County, Texas, United States</td>\n",
       "      <td>Texas</td>\n",
       "    </tr>\n",
       "    <tr>\n",
       "      <th>2</th>\n",
       "      <td>Micah P. Hinson</td>\n",
       "      <td>United States</td>\n",
       "      <td>Abilene</td>\n",
       "      <td>32.446450</td>\n",
       "      <td>-99.747591</td>\n",
       "      <td>Abilene, Taylor County, Texas, United States</td>\n",
       "      <td>Texas</td>\n",
       "    </tr>\n",
       "    <tr>\n",
       "      <th>3</th>\n",
       "      <td>A Loss For Words</td>\n",
       "      <td>United States</td>\n",
       "      <td>Abington</td>\n",
       "      <td>42.104823</td>\n",
       "      <td>-70.945322</td>\n",
       "      <td>Abington, Plymouth County, Massachusetts, 0235...</td>\n",
       "      <td>Massachusetts</td>\n",
       "    </tr>\n",
       "    <tr>\n",
       "      <th>4</th>\n",
       "      <td>Pretty Boy Floyd</td>\n",
       "      <td>United States</td>\n",
       "      <td>Adairsville</td>\n",
       "      <td>34.368327</td>\n",
       "      <td>-84.934906</td>\n",
       "      <td>Adairsville, Bartow County, Georgia, 30103, Un...</td>\n",
       "      <td>Georgia</td>\n",
       "    </tr>\n",
       "    <tr>\n",
       "      <th>...</th>\n",
       "      <td>...</td>\n",
       "      <td>...</td>\n",
       "      <td>...</td>\n",
       "      <td>...</td>\n",
       "      <td>...</td>\n",
       "      <td>...</td>\n",
       "      <td>...</td>\n",
       "    </tr>\n",
       "    <tr>\n",
       "      <th>5629</th>\n",
       "      <td>The Seahorses</td>\n",
       "      <td>United Kingdom</td>\n",
       "      <td>York</td>\n",
       "      <td>53.965658</td>\n",
       "      <td>-1.074305</td>\n",
       "      <td>York, York and North Yorkshire, England, Unite...</td>\n",
       "      <td>York and North Yorkshire</td>\n",
       "    </tr>\n",
       "    <tr>\n",
       "      <th>5630</th>\n",
       "      <td>Shed Seven</td>\n",
       "      <td>United Kingdom</td>\n",
       "      <td>York</td>\n",
       "      <td>53.965658</td>\n",
       "      <td>-1.074305</td>\n",
       "      <td>York, York and North Yorkshire, England, Unite...</td>\n",
       "      <td>York and North Yorkshire</td>\n",
       "    </tr>\n",
       "    <tr>\n",
       "      <th>5631</th>\n",
       "      <td>A Forest of Stars</td>\n",
       "      <td>United Kingdom</td>\n",
       "      <td>Yorkshire</td>\n",
       "      <td>53.982527</td>\n",
       "      <td>-1.385250</td>\n",
       "      <td>Yorkshire, England, United Kingdom</td>\n",
       "      <td>Yorkshire</td>\n",
       "    </tr>\n",
       "    <tr>\n",
       "      <th>5632</th>\n",
       "      <td>No Devotion</td>\n",
       "      <td>United Kingdom</td>\n",
       "      <td>Pontypridd</td>\n",
       "      <td>51.600105</td>\n",
       "      <td>-3.344936</td>\n",
       "      <td>Pontypridd, Rhondda Cynon Taf, Cymru / Wales, ...</td>\n",
       "      <td>Rhondda Cynon Taf</td>\n",
       "    </tr>\n",
       "    <tr>\n",
       "      <th>5633</th>\n",
       "      <td>Skywave</td>\n",
       "      <td>United States</td>\n",
       "      <td>Fredericksburg</td>\n",
       "      <td>38.303184</td>\n",
       "      <td>-77.460540</td>\n",
       "      <td>Fredericksburg, Virginia, United States</td>\n",
       "      <td>Virginia</td>\n",
       "    </tr>\n",
       "  </tbody>\n",
       "</table>\n",
       "<p>5634 rows × 7 columns</p>\n",
       "</div>"
      ],
      "text/plain": [
       "                 artist         country            city   latitude  \\\n",
       "0               Nirvana   United States        Aberdeen  46.975371   \n",
       "1       Close Your Eyes   United States         Abilene  32.446450   \n",
       "2       Micah P. Hinson   United States         Abilene  32.446450   \n",
       "3      A Loss For Words   United States        Abington  42.104823   \n",
       "4      Pretty Boy Floyd   United States     Adairsville  34.368327   \n",
       "...                 ...             ...             ...        ...   \n",
       "5629      The Seahorses  United Kingdom            York  53.965658   \n",
       "5630         Shed Seven  United Kingdom            York  53.965658   \n",
       "5631  A Forest of Stars  United Kingdom       Yorkshire  53.982527   \n",
       "5632        No Devotion  United Kingdom      Pontypridd  51.600105   \n",
       "5633            Skywave   United States  Fredericksburg  38.303184   \n",
       "\n",
       "       longitude                                            address  \\\n",
       "0    -123.815722  Aberdeen, Grays Harbor County, Washington, 985...   \n",
       "1     -99.747591       Abilene, Taylor County, Texas, United States   \n",
       "2     -99.747591       Abilene, Taylor County, Texas, United States   \n",
       "3     -70.945322  Abington, Plymouth County, Massachusetts, 0235...   \n",
       "4     -84.934906  Adairsville, Bartow County, Georgia, 30103, Un...   \n",
       "...          ...                                                ...   \n",
       "5629   -1.074305  York, York and North Yorkshire, England, Unite...   \n",
       "5630   -1.074305  York, York and North Yorkshire, England, Unite...   \n",
       "5631   -1.385250                 Yorkshire, England, United Kingdom   \n",
       "5632   -3.344936  Pontypridd, Rhondda Cynon Taf, Cymru / Wales, ...   \n",
       "5633  -77.460540            Fredericksburg, Virginia, United States   \n",
       "\n",
       "                         state  \n",
       "0                   Washington  \n",
       "1                        Texas  \n",
       "2                        Texas  \n",
       "3                Massachusetts  \n",
       "4                      Georgia  \n",
       "...                        ...  \n",
       "5629  York and North Yorkshire  \n",
       "5630  York and North Yorkshire  \n",
       "5631                 Yorkshire  \n",
       "5632         Rhondda Cynon Taf  \n",
       "5633                  Virginia  \n",
       "\n",
       "[5634 rows x 7 columns]"
      ]
     },
     "execution_count": 32,
     "metadata": {},
     "output_type": "execute_result"
    }
   ],
   "source": [
    "df.reset_index(drop=True, inplace=True)\n",
    "df"
   ]
  },
  {
   "cell_type": "code",
   "execution_count": 33,
   "metadata": {},
   "outputs": [],
   "source": [
    "df.to_csv('Datasets/df_coordinates_final.csv', index=False)"
   ]
  },
  {
   "cell_type": "markdown",
   "metadata": {},
   "source": [
    "# **Statistics**"
   ]
  },
  {
   "cell_type": "code",
   "execution_count": 128,
   "metadata": {},
   "outputs": [
    {
     "data": {
      "text/plain": [
       "(6705, 6)"
      ]
     },
     "execution_count": 128,
     "metadata": {},
     "output_type": "execute_result"
    }
   ],
   "source": [
    "df_artists_origins_coordinates_concat = pd.read_csv('Datasets/df_artists_origins_coordinates.csv')\n",
    "df_artists_origins_coordinates_concat.shape"
   ]
  },
  {
   "cell_type": "code",
   "execution_count": 256,
   "metadata": {},
   "outputs": [],
   "source": [
    "brittish_cities = df_artists_origins_coordinates_concat[df_artists_origins_coordinates_concat['country']=='United Kingdom']\n",
    "american_cities = df_artists_origins_coordinates_concat[df_artists_origins_coordinates_concat['country']=='United States']"
   ]
  },
  {
   "cell_type": "code",
   "execution_count": 257,
   "metadata": {},
   "outputs": [
    {
     "name": "stdout",
     "output_type": "stream",
     "text": [
      "country\n",
      "United States     4138\n",
      "United Kingdom    1495\n",
      "Canada             215\n",
      "Sverige            156\n",
      "Australia          133\n",
      "Name: count, dtype: int64\n"
     ]
    }
   ],
   "source": [
    "order = df_artists_origins_coordinates_concat['country'].value_counts().index\n",
    "print(df_artists_origins_coordinates_concat['country'].value_counts().head())\n",
    "\n",
    "# plt.figure(figsize=(8,6))\n",
    "# sns.countplot(df_artists_origins_coordinates_concat['country'], order=order)"
   ]
  },
  {
   "cell_type": "code",
   "execution_count": 258,
   "metadata": {},
   "outputs": [
    {
     "name": "stdout",
     "output_type": "stream",
     "text": [
      "1495 Brittish artists\n",
      "427 Brittish cities\n",
      "\n",
      "city\n",
      "London         404\n",
      "Birmingham      40\n",
      "Glasgow         40\n",
      "Manchester      39\n",
      "Brighton        39\n",
      "Leeds           36\n",
      "Liverpool       30\n",
      "Bristol         26\n",
      "Nottingham      22\n",
      "Sheffield       19\n",
      "Edinburgh       16\n",
      "Cardiff         16\n",
      "Cambridge       15\n",
      "Reading         13\n",
      "Southampton     13\n",
      "Name: count, dtype: int64\n"
     ]
    }
   ],
   "source": [
    "print(f\"{brittish_cities.shape[0]} Brittish artists\")\n",
    "order = brittish_cities['city'].value_counts().index\n",
    "print(f\"{brittish_cities['city'].nunique()} Brittish cities\\n\")\n",
    "print(brittish_cities['city'].value_counts().head(15))\n",
    "\n",
    "# plt.figure(figsize=(9,45))\n",
    "# sns.countplot(brittish_cities['city'], order=order)"
   ]
  },
  {
   "cell_type": "code",
   "execution_count": 259,
   "metadata": {},
   "outputs": [
    {
     "name": "stdout",
     "output_type": "stream",
     "text": [
      "4138 American artists\n",
      "940 American cities\n",
      "\n",
      "city\n",
      "Los Angeles      367\n",
      "New York City    189\n",
      "Chicago          152\n",
      "San Francisco    120\n",
      "Seattle           99\n",
      "Boston            97\n",
      "Brooklyn          80\n",
      "Philadelphia      71\n",
      "Portland          70\n",
      "San Diego         65\n",
      "Atlanta           48\n",
      "Austin            46\n",
      "Washington        45\n",
      "New York          41\n",
      "Nashville         41\n",
      "Name: count, dtype: int64\n"
     ]
    }
   ],
   "source": [
    "print(f\"{american_cities.shape[0]} American artists\")\n",
    "order = american_cities['city'].value_counts().index\n",
    "print(f\"{american_cities['city'].nunique()} American cities\\n\")\n",
    "print(american_cities['city'].value_counts().head(15))\n",
    "\n",
    "# plt.figure(figsize=(5,55))\n",
    "# sns.countplot(df_artists_origins_coordinates_concat[df_artists_origins_coordinates_concat['country']=='United States']['city'], order=order)"
   ]
  },
  {
   "cell_type": "markdown",
   "metadata": {},
   "source": [
    "# **``state``**"
   ]
  },
  {
   "cell_type": "markdown",
   "metadata": {},
   "source": [
    "I want to create a new column to analyze the distribution inside the country"
   ]
  },
  {
   "cell_type": "code",
   "execution_count": 260,
   "metadata": {},
   "outputs": [
    {
     "data": {
      "text/html": [
       "<div>\n",
       "<style scoped>\n",
       "    .dataframe tbody tr th:only-of-type {\n",
       "        vertical-align: middle;\n",
       "    }\n",
       "\n",
       "    .dataframe tbody tr th {\n",
       "        vertical-align: top;\n",
       "    }\n",
       "\n",
       "    .dataframe thead th {\n",
       "        text-align: right;\n",
       "    }\n",
       "</style>\n",
       "<table border=\"1\" class=\"dataframe\">\n",
       "  <thead>\n",
       "    <tr style=\"text-align: right;\">\n",
       "      <th></th>\n",
       "      <th>artist</th>\n",
       "      <th>country</th>\n",
       "      <th>city</th>\n",
       "      <th>latitude</th>\n",
       "      <th>longitude</th>\n",
       "      <th>address</th>\n",
       "    </tr>\n",
       "  </thead>\n",
       "  <tbody>\n",
       "    <tr>\n",
       "      <th>0</th>\n",
       "      <td>Holy Moses</td>\n",
       "      <td>Deutschland</td>\n",
       "      <td>Aachen</td>\n",
       "      <td>51.132302</td>\n",
       "      <td>6.410734</td>\n",
       "      <td>Wickrath Bahnhof, Ri. Aachen, Kohlenweg, Wickr...</td>\n",
       "    </tr>\n",
       "    <tr>\n",
       "      <th>1</th>\n",
       "      <td>Mnemic</td>\n",
       "      <td>Danmark</td>\n",
       "      <td>Aalborg</td>\n",
       "      <td>57.046263</td>\n",
       "      <td>9.921526</td>\n",
       "      <td>Aalborg, Aalborg Kommune, Region Nordjylland, ...</td>\n",
       "    </tr>\n",
       "    <tr>\n",
       "      <th>2</th>\n",
       "      <td>The Seven Mile Journey</td>\n",
       "      <td>Danmark</td>\n",
       "      <td>Aalborg</td>\n",
       "      <td>57.046263</td>\n",
       "      <td>9.921526</td>\n",
       "      <td>Aalborg, Aalborg Kommune, Region Nordjylland, ...</td>\n",
       "    </tr>\n",
       "    <tr>\n",
       "      <th>3</th>\n",
       "      <td>Mercenary</td>\n",
       "      <td>Danmark</td>\n",
       "      <td>Aalborg</td>\n",
       "      <td>57.046263</td>\n",
       "      <td>9.921526</td>\n",
       "      <td>Aalborg, Aalborg Kommune, Region Nordjylland, ...</td>\n",
       "    </tr>\n",
       "    <tr>\n",
       "      <th>4</th>\n",
       "      <td>Oh No Ono</td>\n",
       "      <td>Danmark</td>\n",
       "      <td>Aalborg</td>\n",
       "      <td>57.046263</td>\n",
       "      <td>9.921526</td>\n",
       "      <td>Aalborg, Aalborg Kommune, Region Nordjylland, ...</td>\n",
       "    </tr>\n",
       "    <tr>\n",
       "      <th>...</th>\n",
       "      <td>...</td>\n",
       "      <td>...</td>\n",
       "      <td>...</td>\n",
       "      <td>...</td>\n",
       "      <td>...</td>\n",
       "      <td>...</td>\n",
       "    </tr>\n",
       "    <tr>\n",
       "      <th>6700</th>\n",
       "      <td>Wolf</td>\n",
       "      <td>Sverige</td>\n",
       "      <td>Örebro</td>\n",
       "      <td>59.274729</td>\n",
       "      <td>15.215118</td>\n",
       "      <td>Örebro, Örebro kommun, Örebro län, 703 61, Sve...</td>\n",
       "    </tr>\n",
       "    <tr>\n",
       "      <th>6701</th>\n",
       "      <td>Witchcraft</td>\n",
       "      <td>Sverige</td>\n",
       "      <td>Örebro</td>\n",
       "      <td>59.274729</td>\n",
       "      <td>15.215118</td>\n",
       "      <td>Örebro, Örebro kommun, Örebro län, 703 61, Sve...</td>\n",
       "    </tr>\n",
       "    <tr>\n",
       "      <th>6702</th>\n",
       "      <td>Truckfighters</td>\n",
       "      <td>Sverige</td>\n",
       "      <td>Örebro</td>\n",
       "      <td>59.274729</td>\n",
       "      <td>15.215118</td>\n",
       "      <td>Örebro, Örebro kommun, Örebro län, 703 61, Sve...</td>\n",
       "    </tr>\n",
       "    <tr>\n",
       "      <th>6703</th>\n",
       "      <td>No Devotion</td>\n",
       "      <td>United Kingdom</td>\n",
       "      <td>Pontypridd</td>\n",
       "      <td>51.600105</td>\n",
       "      <td>-3.344936</td>\n",
       "      <td>Pontypridd, Rhondda Cynon Taf, Cymru / Wales, ...</td>\n",
       "    </tr>\n",
       "    <tr>\n",
       "      <th>6704</th>\n",
       "      <td>Demons and Wizards</td>\n",
       "      <td>United States</td>\n",
       "      <td>Tampa</td>\n",
       "      <td>27.947760</td>\n",
       "      <td>-82.458444</td>\n",
       "      <td>Tampa, Hillsborough County, Florida, United St...</td>\n",
       "    </tr>\n",
       "  </tbody>\n",
       "</table>\n",
       "<p>6705 rows × 6 columns</p>\n",
       "</div>"
      ],
      "text/plain": [
       "                      artist         country        city   latitude  \\\n",
       "0                 Holy Moses     Deutschland      Aachen  51.132302   \n",
       "1                     Mnemic         Danmark     Aalborg  57.046263   \n",
       "2     The Seven Mile Journey         Danmark     Aalborg  57.046263   \n",
       "3                  Mercenary         Danmark     Aalborg  57.046263   \n",
       "4                  Oh No Ono         Danmark     Aalborg  57.046263   \n",
       "...                      ...             ...         ...        ...   \n",
       "6700                    Wolf         Sverige      Örebro  59.274729   \n",
       "6701              Witchcraft         Sverige      Örebro  59.274729   \n",
       "6702           Truckfighters         Sverige      Örebro  59.274729   \n",
       "6703             No Devotion  United Kingdom  Pontypridd  51.600105   \n",
       "6704      Demons and Wizards   United States       Tampa  27.947760   \n",
       "\n",
       "      longitude                                            address  \n",
       "0      6.410734  Wickrath Bahnhof, Ri. Aachen, Kohlenweg, Wickr...  \n",
       "1      9.921526  Aalborg, Aalborg Kommune, Region Nordjylland, ...  \n",
       "2      9.921526  Aalborg, Aalborg Kommune, Region Nordjylland, ...  \n",
       "3      9.921526  Aalborg, Aalborg Kommune, Region Nordjylland, ...  \n",
       "4      9.921526  Aalborg, Aalborg Kommune, Region Nordjylland, ...  \n",
       "...         ...                                                ...  \n",
       "6700  15.215118  Örebro, Örebro kommun, Örebro län, 703 61, Sve...  \n",
       "6701  15.215118  Örebro, Örebro kommun, Örebro län, 703 61, Sve...  \n",
       "6702  15.215118  Örebro, Örebro kommun, Örebro län, 703 61, Sve...  \n",
       "6703  -3.344936  Pontypridd, Rhondda Cynon Taf, Cymru / Wales, ...  \n",
       "6704 -82.458444  Tampa, Hillsborough County, Florida, United St...  \n",
       "\n",
       "[6705 rows x 6 columns]"
      ]
     },
     "execution_count": 260,
     "metadata": {},
     "output_type": "execute_result"
    }
   ],
   "source": [
    "df_artists_origins_coordinates_concat"
   ]
  },
  {
   "cell_type": "code",
   "execution_count": 261,
   "metadata": {},
   "outputs": [],
   "source": [
    "df_origins = df_artists_origins_coordinates_concat"
   ]
  },
  {
   "cell_type": "code",
   "execution_count": 262,
   "metadata": {},
   "outputs": [],
   "source": [
    "# separate the countries in 2 dataframes\n",
    "df_artists_uk = df_origins[df_origins['country']=='United Kingdom']\n",
    "df_artists_us = df_origins[df_origins['country']=='United States']"
   ]
  },
  {
   "cell_type": "markdown",
   "metadata": {},
   "source": [
    "## **Testing**"
   ]
  },
  {
   "cell_type": "markdown",
   "metadata": {},
   "source": [
    "### **United Kingdom**"
   ]
  },
  {
   "cell_type": "code",
   "execution_count": 51,
   "metadata": {},
   "outputs": [
    {
     "data": {
      "text/plain": [
       "'Teignmouth, Teignbridge, Devon, England, United Kingdom'"
      ]
     },
     "execution_count": 51,
     "metadata": {},
     "output_type": "execute_result"
    }
   ],
   "source": [
    "# full address\n",
    "df_artists_uk.iloc[0]['address']"
   ]
  },
  {
   "cell_type": "code",
   "execution_count": 52,
   "metadata": {},
   "outputs": [
    {
     "data": {
      "text/plain": [
       "'Devon'"
      ]
     },
     "execution_count": 52,
     "metadata": {},
     "output_type": "execute_result"
    }
   ],
   "source": [
    "# I want to get the 3rd element starting from the tail, cause the 2nd one (England for instance) is too generic\n",
    "df_artists_uk.iloc[0]['address'].split(', ')[-3]"
   ]
  },
  {
   "cell_type": "code",
   "execution_count": 42,
   "metadata": {},
   "outputs": [
    {
     "data": {
      "text/plain": [
       "1                                     England\n",
       "5                                     England\n",
       "8                                     England\n",
       "9                                     England\n",
       "11                                    England\n",
       "                        ...                  \n",
       "6411                                  BN1 1HH\n",
       "6421                                  England\n",
       "6575                                  HP1 1EW\n",
       "6588                                 RM17 6NP\n",
       "6609    Northern Ireland / Tuaisceart Éireann\n",
       "Name: address, Length: 1496, dtype: object"
      ]
     },
     "execution_count": 42,
     "metadata": {},
     "output_type": "execute_result"
    }
   ],
   "source": [
    "df_artists_uk['address'].apply(lambda x: x.split(', ')[-2])"
   ]
  },
  {
   "cell_type": "code",
   "execution_count": null,
   "metadata": {},
   "outputs": [],
   "source": [
    "# When I try to do the following it crashes\n",
    "# df_artists_uk['address'].apply(lambda x: x.split(', ')[-3])"
   ]
  },
  {
   "cell_type": "code",
   "execution_count": 50,
   "metadata": {},
   "outputs": [
    {
     "data": {
      "text/html": [
       "<div>\n",
       "<style scoped>\n",
       "    .dataframe tbody tr th:only-of-type {\n",
       "        vertical-align: middle;\n",
       "    }\n",
       "\n",
       "    .dataframe tbody tr th {\n",
       "        vertical-align: top;\n",
       "    }\n",
       "\n",
       "    .dataframe thead th {\n",
       "        text-align: right;\n",
       "    }\n",
       "</style>\n",
       "<table border=\"1\" class=\"dataframe\">\n",
       "  <thead>\n",
       "    <tr style=\"text-align: right;\">\n",
       "      <th></th>\n",
       "      <th>artist</th>\n",
       "      <th>country</th>\n",
       "      <th>city</th>\n",
       "      <th>latitude</th>\n",
       "      <th>longitude</th>\n",
       "      <th>address</th>\n",
       "      <th>len_address</th>\n",
       "    </tr>\n",
       "  </thead>\n",
       "  <tbody>\n",
       "    <tr>\n",
       "      <th>2974</th>\n",
       "      <td>Anderson Bruford Wakeman Howe</td>\n",
       "      <td>United Kingdom</td>\n",
       "      <td>England</td>\n",
       "      <td>52.531021</td>\n",
       "      <td>-1.264906</td>\n",
       "      <td>England, United Kingdom</td>\n",
       "      <td>23</td>\n",
       "    </tr>\n",
       "    <tr>\n",
       "      <th>982</th>\n",
       "      <td>Pure Reason Revolution</td>\n",
       "      <td>United Kingdom</td>\n",
       "      <td>England</td>\n",
       "      <td>52.531021</td>\n",
       "      <td>-1.264906</td>\n",
       "      <td>England, United Kingdom</td>\n",
       "      <td>23</td>\n",
       "    </tr>\n",
       "    <tr>\n",
       "      <th>2657</th>\n",
       "      <td>Blue Murder</td>\n",
       "      <td>United Kingdom</td>\n",
       "      <td>Inglaterra</td>\n",
       "      <td>52.531021</td>\n",
       "      <td>-1.264906</td>\n",
       "      <td>England, United Kingdom</td>\n",
       "      <td>23</td>\n",
       "    </tr>\n",
       "    <tr>\n",
       "      <th>1162</th>\n",
       "      <td>Yndi Halda</td>\n",
       "      <td>United Kingdom</td>\n",
       "      <td>Kent</td>\n",
       "      <td>51.207075</td>\n",
       "      <td>0.721036</td>\n",
       "      <td>Kent, England, United Kingdom</td>\n",
       "      <td>29</td>\n",
       "    </tr>\n",
       "    <tr>\n",
       "      <th>3654</th>\n",
       "      <td>Graphic Nature</td>\n",
       "      <td>United Kingdom</td>\n",
       "      <td>Kent</td>\n",
       "      <td>51.207075</td>\n",
       "      <td>0.721036</td>\n",
       "      <td>Kent, England, United Kingdom</td>\n",
       "      <td>29</td>\n",
       "    </tr>\n",
       "  </tbody>\n",
       "</table>\n",
       "</div>"
      ],
      "text/plain": [
       "                             artist         country        city   latitude  \\\n",
       "2974  Anderson Bruford Wakeman Howe  United Kingdom     England  52.531021   \n",
       "982          Pure Reason Revolution  United Kingdom     England  52.531021   \n",
       "2657                    Blue Murder  United Kingdom  Inglaterra  52.531021   \n",
       "1162                     Yndi Halda  United Kingdom        Kent  51.207075   \n",
       "3654                 Graphic Nature  United Kingdom        Kent  51.207075   \n",
       "\n",
       "      longitude                        address  len_address  \n",
       "2974  -1.264906        England, United Kingdom           23  \n",
       "982   -1.264906        England, United Kingdom           23  \n",
       "2657  -1.264906        England, United Kingdom           23  \n",
       "1162   0.721036  Kent, England, United Kingdom           29  \n",
       "3654   0.721036  Kent, England, United Kingdom           29  "
      ]
     },
     "execution_count": 50,
     "metadata": {},
     "output_type": "execute_result"
    }
   ],
   "source": [
    "# create a new column, the length of the string 'address'\n",
    "df_artists_uk['len_address'] = df_artists_uk['address'].str.len()\n",
    "\n",
    "# look for short addresses\n",
    "df_artists_uk.sort_values('len_address').head()"
   ]
  },
  {
   "cell_type": "code",
   "execution_count": 136,
   "metadata": {},
   "outputs": [
    {
     "data": {
      "text/html": [
       "<div>\n",
       "<style scoped>\n",
       "    .dataframe tbody tr th:only-of-type {\n",
       "        vertical-align: middle;\n",
       "    }\n",
       "\n",
       "    .dataframe tbody tr th {\n",
       "        vertical-align: top;\n",
       "    }\n",
       "\n",
       "    .dataframe thead th {\n",
       "        text-align: right;\n",
       "    }\n",
       "</style>\n",
       "<table border=\"1\" class=\"dataframe\">\n",
       "  <thead>\n",
       "    <tr style=\"text-align: right;\">\n",
       "      <th></th>\n",
       "      <th>artist</th>\n",
       "      <th>country</th>\n",
       "      <th>city</th>\n",
       "      <th>latitude</th>\n",
       "      <th>longitude</th>\n",
       "      <th>address</th>\n",
       "      <th>len_address</th>\n",
       "    </tr>\n",
       "  </thead>\n",
       "  <tbody>\n",
       "    <tr>\n",
       "      <th>2974</th>\n",
       "      <td>Anderson Bruford Wakeman Howe</td>\n",
       "      <td>United Kingdom</td>\n",
       "      <td>England</td>\n",
       "      <td>52.531021</td>\n",
       "      <td>-1.264906</td>\n",
       "      <td>England, United Kingdom</td>\n",
       "      <td>23</td>\n",
       "    </tr>\n",
       "    <tr>\n",
       "      <th>982</th>\n",
       "      <td>Pure Reason Revolution</td>\n",
       "      <td>United Kingdom</td>\n",
       "      <td>England</td>\n",
       "      <td>52.531021</td>\n",
       "      <td>-1.264906</td>\n",
       "      <td>England, United Kingdom</td>\n",
       "      <td>23</td>\n",
       "    </tr>\n",
       "    <tr>\n",
       "      <th>2657</th>\n",
       "      <td>Blue Murder</td>\n",
       "      <td>United Kingdom</td>\n",
       "      <td>Inglaterra</td>\n",
       "      <td>52.531021</td>\n",
       "      <td>-1.264906</td>\n",
       "      <td>England, United Kingdom</td>\n",
       "      <td>23</td>\n",
       "    </tr>\n",
       "  </tbody>\n",
       "</table>\n",
       "</div>"
      ],
      "text/plain": [
       "                             artist         country        city   latitude  \\\n",
       "2974  Anderson Bruford Wakeman Howe  United Kingdom     England  52.531021   \n",
       "982          Pure Reason Revolution  United Kingdom     England  52.531021   \n",
       "2657                    Blue Murder  United Kingdom  Inglaterra  52.531021   \n",
       "\n",
       "      longitude                  address  len_address  \n",
       "2974  -1.264906  England, United Kingdom           23  \n",
       "982   -1.264906  England, United Kingdom           23  \n",
       "2657  -1.264906  England, United Kingdom           23  "
      ]
     },
     "execution_count": 136,
     "metadata": {},
     "output_type": "execute_result"
    }
   ],
   "source": [
    "df_artists_uk_wrong = df_artists_uk.sort_values('len_address').head(3)\n",
    "df_artists_uk_wrong"
   ]
  },
  {
   "cell_type": "markdown",
   "metadata": {},
   "source": [
    "### **United States**"
   ]
  },
  {
   "cell_type": "code",
   "execution_count": null,
   "metadata": {},
   "outputs": [
    {
     "data": {
      "text/plain": [
       "'El Paso, El Paso County, Texas, United States'"
      ]
     },
     "metadata": {},
     "output_type": "display_data"
    }
   ],
   "source": [
    "# full address\n",
    "df_artists_us.iloc[0]['address']"
   ]
  },
  {
   "cell_type": "code",
   "execution_count": null,
   "metadata": {},
   "outputs": [
    {
     "data": {
      "text/plain": [
       "'Texas'"
      ]
     },
     "metadata": {},
     "output_type": "display_data"
    }
   ],
   "source": [
    "# I want to get the 2nd element starting from the tail\n",
    "df_artists_us.iloc[0]['address'].split(', ')[-2]"
   ]
  },
  {
   "cell_type": "code",
   "execution_count": null,
   "metadata": {},
   "outputs": [],
   "source": [
    "# When I try to do the following it crashes\n",
    "# df_artists_us['address'].apply(lambda x: x.split(', ')[-2])"
   ]
  },
  {
   "cell_type": "code",
   "execution_count": null,
   "metadata": {},
   "outputs": [
    {
     "data": {
      "text/html": [
       "<div>\n",
       "<style scoped>\n",
       "    .dataframe tbody tr th:only-of-type {\n",
       "        vertical-align: middle;\n",
       "    }\n",
       "\n",
       "    .dataframe tbody tr th {\n",
       "        vertical-align: top;\n",
       "    }\n",
       "\n",
       "    .dataframe thead th {\n",
       "        text-align: right;\n",
       "    }\n",
       "</style>\n",
       "<table border=\"1\" class=\"dataframe\">\n",
       "  <thead>\n",
       "    <tr style=\"text-align: right;\">\n",
       "      <th></th>\n",
       "      <th>artist</th>\n",
       "      <th>country</th>\n",
       "      <th>city</th>\n",
       "      <th>latitude</th>\n",
       "      <th>longitude</th>\n",
       "      <th>address</th>\n",
       "      <th>len_address</th>\n",
       "    </tr>\n",
       "  </thead>\n",
       "  <tbody>\n",
       "    <tr>\n",
       "      <th>2275</th>\n",
       "      <td>The Joe Perry Project</td>\n",
       "      <td>United States</td>\n",
       "      <td>United States</td>\n",
       "      <td>39.78373</td>\n",
       "      <td>-100.445882</td>\n",
       "      <td>United States</td>\n",
       "      <td>13</td>\n",
       "    </tr>\n",
       "    <tr>\n",
       "      <th>1075</th>\n",
       "      <td>Juliette and the Licks</td>\n",
       "      <td>United States</td>\n",
       "      <td>United States</td>\n",
       "      <td>39.78373</td>\n",
       "      <td>-100.445882</td>\n",
       "      <td>United States</td>\n",
       "      <td>13</td>\n",
       "    </tr>\n",
       "    <tr>\n",
       "      <th>934</th>\n",
       "      <td>Pride and Glory</td>\n",
       "      <td>United States</td>\n",
       "      <td>United States</td>\n",
       "      <td>39.78373</td>\n",
       "      <td>-100.445882</td>\n",
       "      <td>United States</td>\n",
       "      <td>13</td>\n",
       "    </tr>\n",
       "    <tr>\n",
       "      <th>2050</th>\n",
       "      <td>Blood Axis</td>\n",
       "      <td>United States</td>\n",
       "      <td>United States</td>\n",
       "      <td>39.78373</td>\n",
       "      <td>-100.445882</td>\n",
       "      <td>United States</td>\n",
       "      <td>13</td>\n",
       "    </tr>\n",
       "    <tr>\n",
       "      <th>4335</th>\n",
       "      <td>Nevermen</td>\n",
       "      <td>United States</td>\n",
       "      <td>United States</td>\n",
       "      <td>39.78373</td>\n",
       "      <td>-100.445882</td>\n",
       "      <td>United States</td>\n",
       "      <td>13</td>\n",
       "    </tr>\n",
       "  </tbody>\n",
       "</table>\n",
       "</div>"
      ],
      "text/plain": [
       "                      artist        country           city  latitude  \\\n",
       "2275   The Joe Perry Project  United States  United States  39.78373   \n",
       "1075  Juliette and the Licks  United States  United States  39.78373   \n",
       "934          Pride and Glory  United States  United States  39.78373   \n",
       "2050              Blood Axis  United States  United States  39.78373   \n",
       "4335                Nevermen  United States  United States  39.78373   \n",
       "\n",
       "       longitude        address  len_address  \n",
       "2275 -100.445882  United States           13  \n",
       "1075 -100.445882  United States           13  \n",
       "934  -100.445882  United States           13  \n",
       "2050 -100.445882  United States           13  \n",
       "4335 -100.445882  United States           13  "
      ]
     },
     "metadata": {},
     "output_type": "display_data"
    }
   ],
   "source": [
    "# create a new column, the length of the string 'address'\n",
    "df_artists_us['len_address'] = df_artists_us['address'].str.len()\n",
    "\n",
    "# look for short addresses\n",
    "df_artists_us.sort_values('len_address').head()"
   ]
  },
  {
   "cell_type": "code",
   "execution_count": 75,
   "metadata": {},
   "outputs": [
    {
     "data": {
      "text/plain": [
       "(29, 7)"
      ]
     },
     "execution_count": 75,
     "metadata": {},
     "output_type": "execute_result"
    }
   ],
   "source": [
    "df_artists_us_wrong = df_artists_us[df_artists_us['city']=='United States']\n",
    "df_artists_us_wrong.shape"
   ]
  },
  {
   "cell_type": "markdown",
   "metadata": {},
   "source": [
    "## **Change short ``address``**"
   ]
  },
  {
   "cell_type": "code",
   "execution_count": 137,
   "metadata": {},
   "outputs": [
    {
     "data": {
      "text/plain": [
       "(32, 7)"
      ]
     },
     "execution_count": 137,
     "metadata": {},
     "output_type": "execute_result"
    }
   ],
   "source": [
    "df_artists_wrong = pd.concat([df_artists_us_wrong, df_artists_uk_wrong])\n",
    "df_artists_wrong.shape"
   ]
  },
  {
   "cell_type": "code",
   "execution_count": 130,
   "metadata": {},
   "outputs": [
    {
     "name": "stdout",
     "output_type": "stream",
     "text": [
      "(6738, 2): df_artists_origins\n",
      "(2776, 7): df_coordinates\n",
      "(6705, 6): df_artists_origins_coordinates\n"
     ]
    }
   ],
   "source": [
    "# import dataframes\n",
    "df_artists_origins = pd.read_csv('Datasets/df_artists_origins.csv')\n",
    "df_coordinates = pd.read_csv('Datasets/df_coordinates.csv')\n",
    "df_artists_origins_coordinates = pd.read_csv('Datasets/df_artists_origins_coordinates.csv')\n",
    "\n",
    "# print information\n",
    "print(f'{df_artists_origins.shape}: df_artists_origins')\n",
    "print(f'{df_coordinates.shape}: df_coordinates')\n",
    "print(f'{df_artists_origins_coordinates.shape}: df_artists_origins_coordinates')"
   ]
  },
  {
   "cell_type": "markdown",
   "metadata": {},
   "source": [
    "**Since I got this information from Wikipedia, I have to change these origins manually**"
   ]
  },
  {
   "cell_type": "markdown",
   "metadata": {},
   "source": [
    "### **``np.where`` to replace the values for the real origins**"
   ]
  },
  {
   "cell_type": "code",
   "execution_count": null,
   "metadata": {},
   "outputs": [],
   "source": [
    "for artist in df_artists_wrong['artist'].values:\n",
    "    print(f'df_artists_wrong[\"origin\"] = np.where(df_artists_wrong[\"artist\"]==\"{artist}\", \"States\", df_artists_wrong[\"origin\"])')"
   ]
  },
  {
   "cell_type": "code",
   "execution_count": 139,
   "metadata": {},
   "outputs": [
    {
     "data": {
      "text/html": [
       "<div>\n",
       "<style scoped>\n",
       "    .dataframe tbody tr th:only-of-type {\n",
       "        vertical-align: middle;\n",
       "    }\n",
       "\n",
       "    .dataframe tbody tr th {\n",
       "        vertical-align: top;\n",
       "    }\n",
       "\n",
       "    .dataframe thead th {\n",
       "        text-align: right;\n",
       "    }\n",
       "</style>\n",
       "<table border=\"1\" class=\"dataframe\">\n",
       "  <thead>\n",
       "    <tr style=\"text-align: right;\">\n",
       "      <th></th>\n",
       "      <th>artist</th>\n",
       "      <th>country</th>\n",
       "      <th>city</th>\n",
       "      <th>latitude</th>\n",
       "      <th>longitude</th>\n",
       "      <th>address</th>\n",
       "      <th>len_address</th>\n",
       "    </tr>\n",
       "  </thead>\n",
       "  <tbody>\n",
       "    <tr>\n",
       "      <th>4734</th>\n",
       "      <td>Unida</td>\n",
       "      <td>United States</td>\n",
       "      <td>United States</td>\n",
       "      <td>39.783730</td>\n",
       "      <td>-100.445882</td>\n",
       "      <td>United States</td>\n",
       "      <td>13</td>\n",
       "    </tr>\n",
       "    <tr>\n",
       "      <th>4826</th>\n",
       "      <td>Black Tape for a Blue Girl</td>\n",
       "      <td>United States</td>\n",
       "      <td>United States</td>\n",
       "      <td>39.783730</td>\n",
       "      <td>-100.445882</td>\n",
       "      <td>United States</td>\n",
       "      <td>13</td>\n",
       "    </tr>\n",
       "    <tr>\n",
       "      <th>5088</th>\n",
       "      <td>Dark New Day</td>\n",
       "      <td>United States</td>\n",
       "      <td>United States</td>\n",
       "      <td>39.783730</td>\n",
       "      <td>-100.445882</td>\n",
       "      <td>United States</td>\n",
       "      <td>13</td>\n",
       "    </tr>\n",
       "    <tr>\n",
       "      <th>5219</th>\n",
       "      <td>Heavens</td>\n",
       "      <td>United States</td>\n",
       "      <td>United States</td>\n",
       "      <td>39.783730</td>\n",
       "      <td>-100.445882</td>\n",
       "      <td>United States</td>\n",
       "      <td>13</td>\n",
       "    </tr>\n",
       "    <tr>\n",
       "      <th>5448</th>\n",
       "      <td>Charred Walls of the Damned</td>\n",
       "      <td>United States</td>\n",
       "      <td>United States</td>\n",
       "      <td>39.783730</td>\n",
       "      <td>-100.445882</td>\n",
       "      <td>United States</td>\n",
       "      <td>13</td>\n",
       "    </tr>\n",
       "    <tr>\n",
       "      <th>5558</th>\n",
       "      <td>I Can Make A Mess Like Nobody's Business</td>\n",
       "      <td>United States</td>\n",
       "      <td>United States</td>\n",
       "      <td>39.783730</td>\n",
       "      <td>-100.445882</td>\n",
       "      <td>United States</td>\n",
       "      <td>13</td>\n",
       "    </tr>\n",
       "    <tr>\n",
       "      <th>5680</th>\n",
       "      <td>Paths Of Possession</td>\n",
       "      <td>United States</td>\n",
       "      <td>United States</td>\n",
       "      <td>39.783730</td>\n",
       "      <td>-100.445882</td>\n",
       "      <td>United States</td>\n",
       "      <td>13</td>\n",
       "    </tr>\n",
       "    <tr>\n",
       "      <th>5939</th>\n",
       "      <td>Handsome</td>\n",
       "      <td>United States</td>\n",
       "      <td>United States</td>\n",
       "      <td>39.783730</td>\n",
       "      <td>-100.445882</td>\n",
       "      <td>United States</td>\n",
       "      <td>13</td>\n",
       "    </tr>\n",
       "    <tr>\n",
       "      <th>6002</th>\n",
       "      <td>Rock Star Supernova</td>\n",
       "      <td>United States</td>\n",
       "      <td>United States</td>\n",
       "      <td>39.783730</td>\n",
       "      <td>-100.445882</td>\n",
       "      <td>United States</td>\n",
       "      <td>13</td>\n",
       "    </tr>\n",
       "    <tr>\n",
       "      <th>2974</th>\n",
       "      <td>Anderson Bruford Wakeman Howe</td>\n",
       "      <td>United Kingdom</td>\n",
       "      <td>England</td>\n",
       "      <td>52.531021</td>\n",
       "      <td>-1.264906</td>\n",
       "      <td>England, United Kingdom</td>\n",
       "      <td>23</td>\n",
       "    </tr>\n",
       "    <tr>\n",
       "      <th>982</th>\n",
       "      <td>Pure Reason Revolution</td>\n",
       "      <td>United Kingdom</td>\n",
       "      <td>England</td>\n",
       "      <td>52.531021</td>\n",
       "      <td>-1.264906</td>\n",
       "      <td>England, United Kingdom</td>\n",
       "      <td>23</td>\n",
       "    </tr>\n",
       "    <tr>\n",
       "      <th>2657</th>\n",
       "      <td>Blue Murder</td>\n",
       "      <td>United Kingdom</td>\n",
       "      <td>Inglaterra</td>\n",
       "      <td>52.531021</td>\n",
       "      <td>-1.264906</td>\n",
       "      <td>England, United Kingdom</td>\n",
       "      <td>23</td>\n",
       "    </tr>\n",
       "  </tbody>\n",
       "</table>\n",
       "</div>"
      ],
      "text/plain": [
       "                                        artist         country           city  \\\n",
       "4734                                     Unida   United States  United States   \n",
       "4826                Black Tape for a Blue Girl   United States  United States   \n",
       "5088                              Dark New Day   United States  United States   \n",
       "5219                                   Heavens   United States  United States   \n",
       "5448               Charred Walls of the Damned   United States  United States   \n",
       "5558  I Can Make A Mess Like Nobody's Business   United States  United States   \n",
       "5680                       Paths Of Possession   United States  United States   \n",
       "5939                                  Handsome   United States  United States   \n",
       "6002                       Rock Star Supernova   United States  United States   \n",
       "2974             Anderson Bruford Wakeman Howe  United Kingdom        England   \n",
       "982                     Pure Reason Revolution  United Kingdom        England   \n",
       "2657                               Blue Murder  United Kingdom     Inglaterra   \n",
       "\n",
       "       latitude   longitude                  address  len_address  \n",
       "4734  39.783730 -100.445882            United States           13  \n",
       "4826  39.783730 -100.445882            United States           13  \n",
       "5088  39.783730 -100.445882            United States           13  \n",
       "5219  39.783730 -100.445882            United States           13  \n",
       "5448  39.783730 -100.445882            United States           13  \n",
       "5558  39.783730 -100.445882            United States           13  \n",
       "5680  39.783730 -100.445882            United States           13  \n",
       "5939  39.783730 -100.445882            United States           13  \n",
       "6002  39.783730 -100.445882            United States           13  \n",
       "2974  52.531021   -1.264906  England, United Kingdom           23  \n",
       "982   52.531021   -1.264906  England, United Kingdom           23  \n",
       "2657  52.531021   -1.264906  England, United Kingdom           23  "
      ]
     },
     "execution_count": 139,
     "metadata": {},
     "output_type": "execute_result"
    }
   ],
   "source": [
    "df_artists_wrong.iloc[20:]"
   ]
  },
  {
   "cell_type": "code",
   "execution_count": 161,
   "metadata": {},
   "outputs": [],
   "source": [
    "df_artists_origins[\"origin\"] = np.where(df_artists_origins[\"artist\"]==\"Samhain\", \"Lodi, New Jersey\", df_artists_origins[\"origin\"])\n",
    "df_artists_origins[\"origin\"] = np.where(df_artists_origins[\"artist\"]==\"Institute\", \"Brooklyn, NY, United States\", df_artists_origins[\"origin\"])\n",
    "df_artists_origins[\"origin\"] = np.where(df_artists_origins[\"artist\"]==\"Pride and Glory\", \"Los Angeles, CA, United States\", df_artists_origins[\"origin\"])\n",
    "df_artists_origins[\"origin\"] = np.where(df_artists_origins[\"artist\"]==\"Juliette and the Licks\", \"Los Angeles, CA, United States\", df_artists_origins[\"origin\"])\n",
    "df_artists_origins[\"origin\"] = np.where(df_artists_origins[\"artist\"]==\"Eyes Adrift\", \"Austin, TX, United States\", df_artists_origins[\"origin\"])\n",
    "df_artists_origins[\"origin\"] = np.where(df_artists_origins[\"artist\"]==\"Big Dumb Face\", \"Jacksonville, FL, United States\", df_artists_origins[\"origin\"])\n",
    "df_artists_origins[\"origin\"] = np.where(df_artists_origins[\"artist\"]==\"Goon Moon\", \"Los Angeles, CA, United States\", df_artists_origins[\"origin\"])\n",
    "df_artists_origins[\"origin\"] = np.where(df_artists_origins[\"artist\"]==\"Superdrag\", \"Knoxville, Tennessee\", df_artists_origins[\"origin\"])\n",
    "df_artists_origins[\"origin\"] = np.where(df_artists_origins[\"artist\"]==\"Blood Axis\", \"Denver, CO, United States\", df_artists_origins[\"origin\"])\n",
    "df_artists_origins[\"origin\"] = np.where(df_artists_origins[\"artist\"]==\"OSI\", \"New York, NY, United States\", df_artists_origins[\"origin\"])\n",
    "df_artists_origins[\"origin\"] = np.where(df_artists_origins[\"artist\"]==\"Damn the Machine\", \"Los Angeles, California\", df_artists_origins[\"origin\"])\n",
    "df_artists_origins[\"origin\"] = np.where(df_artists_origins[\"artist\"]==\"Nevermen\", \"Brooklyn, NY, United States\", df_artists_origins[\"origin\"])\n",
    "df_artists_origins[\"origin\"] = np.where(df_artists_origins[\"artist\"]==\"Planet X\", \"Los Angeles, CA, United States\", df_artists_origins[\"origin\"])\n",
    "df_artists_origins[\"origin\"] = np.where(df_artists_origins[\"artist\"]==\"Chroma Key\", \"Kings Park, NY, United States\", df_artists_origins[\"origin\"])\n",
    "df_artists_origins[\"origin\"] = np.where(df_artists_origins[\"artist\"]==\"Unida\", \"Indio, CA, United States\", df_artists_origins[\"origin\"])\n",
    "df_artists_origins[\"origin\"] = np.where(df_artists_origins[\"artist\"]==\"Black Tape for a Blue Girl\", \"Portland, OR, United States\", df_artists_origins[\"origin\"])\n",
    "df_artists_origins[\"origin\"] = np.where(df_artists_origins[\"artist\"]==\"Dark New Day\", \"Orlando, FL, United States\", df_artists_origins[\"origin\"])\n",
    "df_artists_origins[\"origin\"] = np.where(df_artists_origins[\"artist\"]==\"Heavens\", \"Los Angeles, CA, United States\", df_artists_origins[\"origin\"])\n",
    "df_artists_origins[\"origin\"] = np.where(df_artists_origins[\"artist\"]==\"Charred Walls of the Damned\", \"Long Island, New York\", df_artists_origins[\"origin\"])\n",
    "df_artists_origins[\"origin\"] = np.where(df_artists_origins[\"artist\"]==\"I Can Make A Mess Like Nobody's Business\", \"Hammonton, NJ, United States\", df_artists_origins[\"origin\"])\n",
    "df_artists_origins[\"origin\"] = np.where(df_artists_origins[\"artist\"]==\"Paths Of Possession\", \"Tampa, FL, United States\", df_artists_origins[\"origin\"])\n",
    "df_artists_origins[\"origin\"] = np.where(df_artists_origins[\"artist\"]==\"Handsome\", \"New York, NY, United States\", df_artists_origins[\"origin\"])\n",
    "df_artists_origins[\"origin\"] = np.where(df_artists_origins[\"artist\"]==\"Anderson Bruford Wakeman Howe\", \"London, England\", df_artists_origins[\"origin\"])\n",
    "df_artists_origins[\"origin\"] = np.where(df_artists_origins[\"artist\"]==\"Pure Reason Revolution\", \"London, England\", df_artists_origins[\"origin\"])\n",
    "df_artists_origins[\"origin\"] = np.where(df_artists_origins[\"artist\"]==\"Blue Murder\", \"Los Angeles, CA, United States\", df_artists_origins[\"origin\"])"
   ]
  },
  {
   "cell_type": "code",
   "execution_count": 156,
   "metadata": {},
   "outputs": [
    {
     "data": {
      "text/html": [
       "<div>\n",
       "<style scoped>\n",
       "    .dataframe tbody tr th:only-of-type {\n",
       "        vertical-align: middle;\n",
       "    }\n",
       "\n",
       "    .dataframe tbody tr th {\n",
       "        vertical-align: top;\n",
       "    }\n",
       "\n",
       "    .dataframe thead th {\n",
       "        text-align: right;\n",
       "    }\n",
       "</style>\n",
       "<table border=\"1\" class=\"dataframe\">\n",
       "  <thead>\n",
       "    <tr style=\"text-align: right;\">\n",
       "      <th></th>\n",
       "      <th>master_id</th>\n",
       "      <th>artist</th>\n",
       "      <th>title</th>\n",
       "      <th>year</th>\n",
       "      <th>album_length</th>\n",
       "      <th>tracks</th>\n",
       "      <th>styles</th>\n",
       "      <th>artist_profile</th>\n",
       "    </tr>\n",
       "  </thead>\n",
       "  <tbody>\n",
       "    <tr>\n",
       "      <th>2559</th>\n",
       "      <td>158074.0</td>\n",
       "      <td>Blue Murder</td>\n",
       "      <td>Blue Murder</td>\n",
       "      <td>1989</td>\n",
       "      <td>52.05</td>\n",
       "      <td>9</td>\n",
       "      <td>['Hard Rock']</td>\n",
       "      <td>Blue Murder were an English hard rock band, fo...</td>\n",
       "    </tr>\n",
       "  </tbody>\n",
       "</table>\n",
       "</div>"
      ],
      "text/plain": [
       "      master_id       artist        title  year  album_length  tracks  \\\n",
       "2559   158074.0  Blue Murder  Blue Murder  1989         52.05       9   \n",
       "\n",
       "             styles                                     artist_profile  \n",
       "2559  ['Hard Rock']  Blue Murder were an English hard rock band, fo...  "
      ]
     },
     "execution_count": 156,
     "metadata": {},
     "output_type": "execute_result"
    }
   ],
   "source": [
    "# look for the albums of the artist in the original df_masters_blended to check it's the correct artist\n",
    "df = df_masters_blended\n",
    "df[df['artist']==\"Blue Murder\t\".strip()].sort_values('year').head()"
   ]
  },
  {
   "cell_type": "code",
   "execution_count": 157,
   "metadata": {},
   "outputs": [
    {
     "name": "stdout",
     "output_type": "stream",
     "text": [
      "Blue Murder were an English hard rock band, founded by ex-Whitesnake, Tygers of Pan Tang and Thin Lizzy guitarist John\n",
      "Sykes.\n"
     ]
    }
   ],
   "source": [
    "# check if there's info of the artist origin in the column 'artist_profile'\n",
    "import textwrap\n",
    "artist_profile = df.loc[2559]['artist_profile']\n",
    "\n",
    "splitted_string = textwrap.fill(artist_profile, width=120)\n",
    "print(splitted_string)"
   ]
  },
  {
   "cell_type": "code",
   "execution_count": 175,
   "metadata": {},
   "outputs": [],
   "source": [
    "artists_to_remove = ['Monsters of Folk', 'Shrinebuilder', 'The Joe Perry Project', 'Boygenius',\n",
    "                     'Scar the Martyr', 'Gordian Knot', 'Rock Star Supernova']"
   ]
  },
  {
   "cell_type": "code",
   "execution_count": 177,
   "metadata": {},
   "outputs": [
    {
     "data": {
      "text/plain": [
       "(25, 2)"
      ]
     },
     "execution_count": 177,
     "metadata": {},
     "output_type": "execute_result"
    }
   ],
   "source": [
    "df_artists_corrected = df_artists_origins[(df_artists_origins['artist'].isin(df_artists_wrong['artist'].values)) & (~df_artists_origins['artist'].isin(artists_to_remove))]\n",
    "df_artists_corrected.shape"
   ]
  },
  {
   "cell_type": "markdown",
   "metadata": {},
   "source": [
    "**Try all origins in Geopy**"
   ]
  },
  {
   "cell_type": "code",
   "execution_count": null,
   "metadata": {},
   "outputs": [
    {
     "name": "stdout",
     "output_type": "stream",
     "text": [
      "0 - Palo Alto, Santa Clara County, California, United States\n"
     ]
    }
   ],
   "source": [
    "# try to get the coordinates of the origins from Geopy and see if it crashes (wrong location that I have to change)\n",
    "geolocator = Nominatim(user_agent=\"music_analysis\", timeout=10)\n",
    "\n",
    "initial_index = 0\n",
    "count = initial_index-1\n",
    "\n",
    "for origin in df_new_artists['origin'].str.replace('.', '').str.replace(r'\\[\\d+\\]', '', regex=True)[initial_index:]:\n",
    "    count+=1\n",
    "    location = geolocator.geocode(origin)\n",
    "    print(f\"{count} - {location.address}\")"
   ]
  },
  {
   "cell_type": "markdown",
   "metadata": {},
   "source": [
    "### **Export to .csv**"
   ]
  },
  {
   "cell_type": "code",
   "execution_count": 240,
   "metadata": {},
   "outputs": [],
   "source": [
    "df_artists_origins.to_csv('Datasets/df_artists_origins.csv', index=False)"
   ]
  },
  {
   "cell_type": "code",
   "execution_count": null,
   "metadata": {},
   "outputs": [
    {
     "name": "stdout",
     "output_type": "stream",
     "text": [
      "df_artists_origins_concat exported to .csv\n",
      "(6738, 2)\n"
     ]
    }
   ],
   "source": [
    "export_artists_origins_concat(df_new_artists)"
   ]
  },
  {
   "cell_type": "code",
   "execution_count": 242,
   "metadata": {},
   "outputs": [
    {
     "data": {
      "text/html": [
       "<div>\n",
       "<style scoped>\n",
       "    .dataframe tbody tr th:only-of-type {\n",
       "        vertical-align: middle;\n",
       "    }\n",
       "\n",
       "    .dataframe tbody tr th {\n",
       "        vertical-align: top;\n",
       "    }\n",
       "\n",
       "    .dataframe thead th {\n",
       "        text-align: right;\n",
       "    }\n",
       "</style>\n",
       "<table border=\"1\" class=\"dataframe\">\n",
       "  <thead>\n",
       "    <tr style=\"text-align: right;\">\n",
       "      <th></th>\n",
       "      <th>artist</th>\n",
       "      <th>origin</th>\n",
       "    </tr>\n",
       "  </thead>\n",
       "  <tbody>\n",
       "    <tr>\n",
       "      <th>3823</th>\n",
       "      <td>No Devotion</td>\n",
       "      <td>Pontypridd, Wales</td>\n",
       "    </tr>\n",
       "    <tr>\n",
       "      <th>5342</th>\n",
       "      <td>Demons and Wizards</td>\n",
       "      <td>Tampa, FL, United States</td>\n",
       "    </tr>\n",
       "  </tbody>\n",
       "</table>\n",
       "</div>"
      ],
      "text/plain": [
       "                  artist                    origin\n",
       "3823         No Devotion         Pontypridd, Wales\n",
       "5342  Demons and Wizards  Tampa, FL, United States"
      ]
     },
     "execution_count": 242,
     "metadata": {},
     "output_type": "execute_result"
    }
   ],
   "source": [
    "df_artists_right = df_artists_origins[df_artists_origins['artist'].isin(['Demons and Wizards', 'No Devotion'])]\n",
    "df_artists_right"
   ]
  },
  {
   "cell_type": "markdown",
   "metadata": {},
   "source": [
    "### **GeoPy**"
   ]
  },
  {
   "cell_type": "code",
   "execution_count": 243,
   "metadata": {},
   "outputs": [
    {
     "name": "stdout",
     "output_type": "stream",
     "text": [
      "1/2 - Pontypridd, Rhondda Cynon Taf, Cymru / Wales, United Kingdom\n",
      "2/2 - Tampa, Hillsborough County, Florida, United States\n"
     ]
    },
    {
     "data": {
      "text/html": [
       "<div>\n",
       "<style scoped>\n",
       "    .dataframe tbody tr th:only-of-type {\n",
       "        vertical-align: middle;\n",
       "    }\n",
       "\n",
       "    .dataframe tbody tr th {\n",
       "        vertical-align: top;\n",
       "    }\n",
       "\n",
       "    .dataframe thead th {\n",
       "        text-align: right;\n",
       "    }\n",
       "</style>\n",
       "<table border=\"1\" class=\"dataframe\">\n",
       "  <thead>\n",
       "    <tr style=\"text-align: right;\">\n",
       "      <th></th>\n",
       "      <th>country</th>\n",
       "      <th>city</th>\n",
       "      <th>origin</th>\n",
       "      <th>origin_clean</th>\n",
       "      <th>latitude</th>\n",
       "      <th>longitude</th>\n",
       "      <th>address</th>\n",
       "    </tr>\n",
       "  </thead>\n",
       "  <tbody>\n",
       "    <tr>\n",
       "      <th>0</th>\n",
       "      <td>United Kingdom</td>\n",
       "      <td>Pontypridd</td>\n",
       "      <td>Pontypridd, Wales</td>\n",
       "      <td>Pontypridd, Wales</td>\n",
       "      <td>51.600105</td>\n",
       "      <td>-3.344936</td>\n",
       "      <td>Pontypridd, Rhondda Cynon Taf, Cymru / Wales, ...</td>\n",
       "    </tr>\n",
       "    <tr>\n",
       "      <th>1</th>\n",
       "      <td>United States</td>\n",
       "      <td>Tampa</td>\n",
       "      <td>Tampa, FL, United States</td>\n",
       "      <td>Tampa, FL, United States</td>\n",
       "      <td>27.947760</td>\n",
       "      <td>-82.458444</td>\n",
       "      <td>Tampa, Hillsborough County, Florida, United St...</td>\n",
       "    </tr>\n",
       "  </tbody>\n",
       "</table>\n",
       "</div>"
      ],
      "text/plain": [
       "          country        city                    origin  \\\n",
       "0  United Kingdom  Pontypridd         Pontypridd, Wales   \n",
       "1   United States       Tampa  Tampa, FL, United States   \n",
       "\n",
       "               origin_clean   latitude  longitude  \\\n",
       "0         Pontypridd, Wales  51.600105  -3.344936   \n",
       "1  Tampa, FL, United States  27.947760 -82.458444   \n",
       "\n",
       "                                             address  \n",
       "0  Pontypridd, Rhondda Cynon Taf, Cymru / Wales, ...  \n",
       "1  Tampa, Hillsborough County, Florida, United St...  "
      ]
     },
     "execution_count": 243,
     "metadata": {},
     "output_type": "execute_result"
    }
   ],
   "source": [
    "df_coordinates = get_coordinates_geopy(df_artists_right)\n",
    "df_coordinates"
   ]
  },
  {
   "cell_type": "code",
   "execution_count": 244,
   "metadata": {},
   "outputs": [
    {
     "name": "stdout",
     "output_type": "stream",
     "text": [
      "df_coordinates_scraped: (2776, 7)\n",
      "\n",
      "Found 2 duplicates:\n",
      "            city         country\n",
      "882   Pontypridd  United Kingdom\n",
      "2553       Tampa   United States\n",
      "\n",
      "Resulting dataset: (2776, 7)\n",
      "Merged artists with coordinates! Found 0 new locations\n",
      "df_coordinates_concat exported to .csv\n"
     ]
    }
   ],
   "source": [
    "export_coordinates_concat(df_coordinates)"
   ]
  },
  {
   "cell_type": "code",
   "execution_count": 245,
   "metadata": {},
   "outputs": [
    {
     "name": "stdout",
     "output_type": "stream",
     "text": [
      "Exported to a .csv file\n"
     ]
    },
    {
     "data": {
      "text/html": [
       "<div>\n",
       "<style scoped>\n",
       "    .dataframe tbody tr th:only-of-type {\n",
       "        vertical-align: middle;\n",
       "    }\n",
       "\n",
       "    .dataframe tbody tr th {\n",
       "        vertical-align: top;\n",
       "    }\n",
       "\n",
       "    .dataframe thead th {\n",
       "        text-align: right;\n",
       "    }\n",
       "</style>\n",
       "<table border=\"1\" class=\"dataframe\">\n",
       "  <thead>\n",
       "    <tr style=\"text-align: right;\">\n",
       "      <th></th>\n",
       "      <th>artist</th>\n",
       "      <th>country</th>\n",
       "      <th>city</th>\n",
       "      <th>latitude</th>\n",
       "      <th>longitude</th>\n",
       "      <th>address</th>\n",
       "    </tr>\n",
       "  </thead>\n",
       "  <tbody>\n",
       "    <tr>\n",
       "      <th>6702</th>\n",
       "      <td>Wolf</td>\n",
       "      <td>Sverige</td>\n",
       "      <td>Örebro</td>\n",
       "      <td>59.274729</td>\n",
       "      <td>15.215118</td>\n",
       "      <td>Örebro, Örebro kommun, Örebro län, 703 61, Sve...</td>\n",
       "    </tr>\n",
       "    <tr>\n",
       "      <th>6703</th>\n",
       "      <td>Witchcraft</td>\n",
       "      <td>Sverige</td>\n",
       "      <td>Örebro</td>\n",
       "      <td>59.274729</td>\n",
       "      <td>15.215118</td>\n",
       "      <td>Örebro, Örebro kommun, Örebro län, 703 61, Sve...</td>\n",
       "    </tr>\n",
       "    <tr>\n",
       "      <th>6704</th>\n",
       "      <td>Truckfighters</td>\n",
       "      <td>Sverige</td>\n",
       "      <td>Örebro</td>\n",
       "      <td>59.274729</td>\n",
       "      <td>15.215118</td>\n",
       "      <td>Örebro, Örebro kommun, Örebro län, 703 61, Sve...</td>\n",
       "    </tr>\n",
       "    <tr>\n",
       "      <th>6705</th>\n",
       "      <td>No Devotion</td>\n",
       "      <td>United Kingdom</td>\n",
       "      <td>Pontypridd</td>\n",
       "      <td>51.600105</td>\n",
       "      <td>-3.344936</td>\n",
       "      <td>Pontypridd, Rhondda Cynon Taf, Cymru / Wales, ...</td>\n",
       "    </tr>\n",
       "    <tr>\n",
       "      <th>6706</th>\n",
       "      <td>Demons and Wizards</td>\n",
       "      <td>United States</td>\n",
       "      <td>Tampa</td>\n",
       "      <td>27.947760</td>\n",
       "      <td>-82.458444</td>\n",
       "      <td>Tampa, Hillsborough County, Florida, United St...</td>\n",
       "    </tr>\n",
       "  </tbody>\n",
       "</table>\n",
       "</div>"
      ],
      "text/plain": [
       "                  artist         country        city   latitude  longitude  \\\n",
       "6702                Wolf         Sverige      Örebro  59.274729  15.215118   \n",
       "6703          Witchcraft         Sverige      Örebro  59.274729  15.215118   \n",
       "6704       Truckfighters         Sverige      Örebro  59.274729  15.215118   \n",
       "6705         No Devotion  United Kingdom  Pontypridd  51.600105  -3.344936   \n",
       "6706  Demons and Wizards   United States       Tampa  27.947760 -82.458444   \n",
       "\n",
       "                                                address  \n",
       "6702  Örebro, Örebro kommun, Örebro län, 703 61, Sve...  \n",
       "6703  Örebro, Örebro kommun, Örebro län, 703 61, Sve...  \n",
       "6704  Örebro, Örebro kommun, Örebro län, 703 61, Sve...  \n",
       "6705  Pontypridd, Rhondda Cynon Taf, Cymru / Wales, ...  \n",
       "6706  Tampa, Hillsborough County, Florida, United St...  "
      ]
     },
     "execution_count": 245,
     "metadata": {},
     "output_type": "execute_result"
    }
   ],
   "source": [
    "# merge with the dataframe containing all the artists and their origins\n",
    "df_artists_origins_coordinates_concat = merge_origins_coordinates(df_artists_right)\n",
    "df_artists_origins_coordinates_concat.tail()"
   ]
  },
  {
   "cell_type": "code",
   "execution_count": 247,
   "metadata": {},
   "outputs": [
    {
     "data": {
      "text/html": [
       "<div>\n",
       "<style scoped>\n",
       "    .dataframe tbody tr th:only-of-type {\n",
       "        vertical-align: middle;\n",
       "    }\n",
       "\n",
       "    .dataframe tbody tr th {\n",
       "        vertical-align: top;\n",
       "    }\n",
       "\n",
       "    .dataframe thead th {\n",
       "        text-align: right;\n",
       "    }\n",
       "</style>\n",
       "<table border=\"1\" class=\"dataframe\">\n",
       "  <thead>\n",
       "    <tr style=\"text-align: right;\">\n",
       "      <th></th>\n",
       "      <th>artist</th>\n",
       "      <th>country</th>\n",
       "      <th>city</th>\n",
       "      <th>latitude</th>\n",
       "      <th>longitude</th>\n",
       "      <th>address</th>\n",
       "    </tr>\n",
       "  </thead>\n",
       "  <tbody>\n",
       "    <tr>\n",
       "      <th>0</th>\n",
       "      <td>Demons and Wizards</td>\n",
       "      <td>United States</td>\n",
       "      <td>\\nGermany\\nUnited States\\n</td>\n",
       "      <td>40.420348</td>\n",
       "      <td>-79.116698</td>\n",
       "      <td>Germany, West Wheatfield Township, Indiana Cou...</td>\n",
       "    </tr>\n",
       "    <tr>\n",
       "      <th>1</th>\n",
       "      <td>No Devotion</td>\n",
       "      <td>United Kingdom</td>\n",
       "      <td>\\nPontypridd</td>\n",
       "      <td>51.488309</td>\n",
       "      <td>-3.211589</td>\n",
       "      <td>Lord Pontypridd House, Dulwich Gardens, Canton...</td>\n",
       "    </tr>\n",
       "    <tr>\n",
       "      <th>2</th>\n",
       "      <td>Holy Moses</td>\n",
       "      <td>Deutschland</td>\n",
       "      <td>Aachen</td>\n",
       "      <td>51.132302</td>\n",
       "      <td>6.410734</td>\n",
       "      <td>Wickrath Bahnhof, Ri. Aachen, Kohlenweg, Wickr...</td>\n",
       "    </tr>\n",
       "    <tr>\n",
       "      <th>3</th>\n",
       "      <td>Mnemic</td>\n",
       "      <td>Danmark</td>\n",
       "      <td>Aalborg</td>\n",
       "      <td>57.046263</td>\n",
       "      <td>9.921526</td>\n",
       "      <td>Aalborg, Aalborg Kommune, Region Nordjylland, ...</td>\n",
       "    </tr>\n",
       "    <tr>\n",
       "      <th>4</th>\n",
       "      <td>The Seven Mile Journey</td>\n",
       "      <td>Danmark</td>\n",
       "      <td>Aalborg</td>\n",
       "      <td>57.046263</td>\n",
       "      <td>9.921526</td>\n",
       "      <td>Aalborg, Aalborg Kommune, Region Nordjylland, ...</td>\n",
       "    </tr>\n",
       "  </tbody>\n",
       "</table>\n",
       "</div>"
      ],
      "text/plain": [
       "                   artist         country                        city  \\\n",
       "0      Demons and Wizards   United States  \\nGermany\\nUnited States\\n   \n",
       "1             No Devotion  United Kingdom                \\nPontypridd   \n",
       "2              Holy Moses     Deutschland                      Aachen   \n",
       "3                  Mnemic         Danmark                     Aalborg   \n",
       "4  The Seven Mile Journey         Danmark                     Aalborg   \n",
       "\n",
       "    latitude  longitude                                            address  \n",
       "0  40.420348 -79.116698  Germany, West Wheatfield Township, Indiana Cou...  \n",
       "1  51.488309  -3.211589  Lord Pontypridd House, Dulwich Gardens, Canton...  \n",
       "2  51.132302   6.410734  Wickrath Bahnhof, Ri. Aachen, Kohlenweg, Wickr...  \n",
       "3  57.046263   9.921526  Aalborg, Aalborg Kommune, Region Nordjylland, ...  \n",
       "4  57.046263   9.921526  Aalborg, Aalborg Kommune, Region Nordjylland, ...  "
      ]
     },
     "execution_count": 247,
     "metadata": {},
     "output_type": "execute_result"
    }
   ],
   "source": [
    "df_artists_origins_coordinates_concat.head()"
   ]
  },
  {
   "cell_type": "code",
   "execution_count": 248,
   "metadata": {},
   "outputs": [],
   "source": [
    "df_artists_origins_coordinates_concat.drop([0,1], axis=0, inplace=True)"
   ]
  },
  {
   "cell_type": "code",
   "execution_count": 249,
   "metadata": {},
   "outputs": [
    {
     "data": {
      "text/plain": [
       "(6705, 6)"
      ]
     },
     "execution_count": 249,
     "metadata": {},
     "output_type": "execute_result"
    }
   ],
   "source": [
    "df_artists_origins_coordinates_concat.shape"
   ]
  },
  {
   "cell_type": "code",
   "execution_count": 186,
   "metadata": {},
   "outputs": [
    {
     "data": {
      "text/plain": [
       "6705"
      ]
     },
     "execution_count": 186,
     "metadata": {},
     "output_type": "execute_result"
    }
   ],
   "source": [
    "df_artists_origins_coordinates_concat['artist'].nunique()"
   ]
  },
  {
   "cell_type": "code",
   "execution_count": 195,
   "metadata": {},
   "outputs": [
    {
     "data": {
      "text/html": [
       "<div>\n",
       "<style scoped>\n",
       "    .dataframe tbody tr th:only-of-type {\n",
       "        vertical-align: middle;\n",
       "    }\n",
       "\n",
       "    .dataframe tbody tr th {\n",
       "        vertical-align: top;\n",
       "    }\n",
       "\n",
       "    .dataframe thead th {\n",
       "        text-align: right;\n",
       "    }\n",
       "</style>\n",
       "<table border=\"1\" class=\"dataframe\">\n",
       "  <thead>\n",
       "    <tr style=\"text-align: right;\">\n",
       "      <th></th>\n",
       "      <th>artist</th>\n",
       "      <th>country</th>\n",
       "      <th>city</th>\n",
       "      <th>latitude</th>\n",
       "      <th>longitude</th>\n",
       "      <th>address</th>\n",
       "    </tr>\n",
       "  </thead>\n",
       "  <tbody>\n",
       "    <tr>\n",
       "      <th>1128</th>\n",
       "      <td>Eyes Adrift</td>\n",
       "      <td>United States</td>\n",
       "      <td>United States</td>\n",
       "      <td>39.78373</td>\n",
       "      <td>-100.445882</td>\n",
       "      <td>United States</td>\n",
       "    </tr>\n",
       "    <tr>\n",
       "      <th>4398</th>\n",
       "      <td>Planet X</td>\n",
       "      <td>United States</td>\n",
       "      <td>United States</td>\n",
       "      <td>39.78373</td>\n",
       "      <td>-100.445882</td>\n",
       "      <td>United States</td>\n",
       "    </tr>\n",
       "    <tr>\n",
       "      <th>4568</th>\n",
       "      <td>Chroma Key</td>\n",
       "      <td>United States</td>\n",
       "      <td>United States</td>\n",
       "      <td>39.78373</td>\n",
       "      <td>-100.445882</td>\n",
       "      <td>United States</td>\n",
       "    </tr>\n",
       "    <tr>\n",
       "      <th>5680</th>\n",
       "      <td>Paths Of Possession</td>\n",
       "      <td>United States</td>\n",
       "      <td>United States</td>\n",
       "      <td>39.78373</td>\n",
       "      <td>-100.445882</td>\n",
       "      <td>United States</td>\n",
       "    </tr>\n",
       "    <tr>\n",
       "      <th>4826</th>\n",
       "      <td>Black Tape for a Blue Girl</td>\n",
       "      <td>United States</td>\n",
       "      <td>United States</td>\n",
       "      <td>39.78373</td>\n",
       "      <td>-100.445882</td>\n",
       "      <td>United States</td>\n",
       "    </tr>\n",
       "    <tr>\n",
       "      <th>1238</th>\n",
       "      <td>Big Dumb Face</td>\n",
       "      <td>United States</td>\n",
       "      <td>United States</td>\n",
       "      <td>39.78373</td>\n",
       "      <td>-100.445882</td>\n",
       "      <td>United States</td>\n",
       "    </tr>\n",
       "    <tr>\n",
       "      <th>4335</th>\n",
       "      <td>Nevermen</td>\n",
       "      <td>United States</td>\n",
       "      <td>United States</td>\n",
       "      <td>39.78373</td>\n",
       "      <td>-100.445882</td>\n",
       "      <td>United States</td>\n",
       "    </tr>\n",
       "    <tr>\n",
       "      <th>5558</th>\n",
       "      <td>I Can Make A Mess Like Nobody's Business</td>\n",
       "      <td>United States</td>\n",
       "      <td>United States</td>\n",
       "      <td>39.78373</td>\n",
       "      <td>-100.445882</td>\n",
       "      <td>United States</td>\n",
       "    </tr>\n",
       "    <tr>\n",
       "      <th>934</th>\n",
       "      <td>Pride and Glory</td>\n",
       "      <td>United States</td>\n",
       "      <td>United States</td>\n",
       "      <td>39.78373</td>\n",
       "      <td>-100.445882</td>\n",
       "      <td>United States</td>\n",
       "    </tr>\n",
       "    <tr>\n",
       "      <th>3550</th>\n",
       "      <td>Damn the Machine</td>\n",
       "      <td>United States</td>\n",
       "      <td>United States</td>\n",
       "      <td>39.78373</td>\n",
       "      <td>-100.445882</td>\n",
       "      <td>United States</td>\n",
       "    </tr>\n",
       "    <tr>\n",
       "      <th>1564</th>\n",
       "      <td>Superdrag</td>\n",
       "      <td>United States</td>\n",
       "      <td>United States</td>\n",
       "      <td>39.78373</td>\n",
       "      <td>-100.445882</td>\n",
       "      <td>United States</td>\n",
       "    </tr>\n",
       "    <tr>\n",
       "      <th>5448</th>\n",
       "      <td>Charred Walls of the Damned</td>\n",
       "      <td>United States</td>\n",
       "      <td>United States</td>\n",
       "      <td>39.78373</td>\n",
       "      <td>-100.445882</td>\n",
       "      <td>United States</td>\n",
       "    </tr>\n",
       "    <tr>\n",
       "      <th>5088</th>\n",
       "      <td>Dark New Day</td>\n",
       "      <td>United States</td>\n",
       "      <td>United States</td>\n",
       "      <td>39.78373</td>\n",
       "      <td>-100.445882</td>\n",
       "      <td>United States</td>\n",
       "    </tr>\n",
       "    <tr>\n",
       "      <th>2461</th>\n",
       "      <td>OSI</td>\n",
       "      <td>United States</td>\n",
       "      <td>United States</td>\n",
       "      <td>39.78373</td>\n",
       "      <td>-100.445882</td>\n",
       "      <td>United States</td>\n",
       "    </tr>\n",
       "    <tr>\n",
       "      <th>5939</th>\n",
       "      <td>Handsome</td>\n",
       "      <td>United States</td>\n",
       "      <td>United States</td>\n",
       "      <td>39.78373</td>\n",
       "      <td>-100.445882</td>\n",
       "      <td>United States</td>\n",
       "    </tr>\n",
       "    <tr>\n",
       "      <th>2050</th>\n",
       "      <td>Blood Axis</td>\n",
       "      <td>United States</td>\n",
       "      <td>United States</td>\n",
       "      <td>39.78373</td>\n",
       "      <td>-100.445882</td>\n",
       "      <td>United States</td>\n",
       "    </tr>\n",
       "    <tr>\n",
       "      <th>1319</th>\n",
       "      <td>Goon Moon</td>\n",
       "      <td>United States</td>\n",
       "      <td>United States</td>\n",
       "      <td>39.78373</td>\n",
       "      <td>-100.445882</td>\n",
       "      <td>United States</td>\n",
       "    </tr>\n",
       "    <tr>\n",
       "      <th>829</th>\n",
       "      <td>Institute</td>\n",
       "      <td>United States</td>\n",
       "      <td>United States</td>\n",
       "      <td>39.78373</td>\n",
       "      <td>-100.445882</td>\n",
       "      <td>United States</td>\n",
       "    </tr>\n",
       "    <tr>\n",
       "      <th>816</th>\n",
       "      <td>Samhain</td>\n",
       "      <td>United States</td>\n",
       "      <td>United States</td>\n",
       "      <td>39.78373</td>\n",
       "      <td>-100.445882</td>\n",
       "      <td>United States</td>\n",
       "    </tr>\n",
       "    <tr>\n",
       "      <th>1075</th>\n",
       "      <td>Juliette and the Licks</td>\n",
       "      <td>United States</td>\n",
       "      <td>United States</td>\n",
       "      <td>39.78373</td>\n",
       "      <td>-100.445882</td>\n",
       "      <td>United States</td>\n",
       "    </tr>\n",
       "    <tr>\n",
       "      <th>4734</th>\n",
       "      <td>Unida</td>\n",
       "      <td>United States</td>\n",
       "      <td>United States</td>\n",
       "      <td>39.78373</td>\n",
       "      <td>-100.445882</td>\n",
       "      <td>United States</td>\n",
       "    </tr>\n",
       "    <tr>\n",
       "      <th>5219</th>\n",
       "      <td>Heavens</td>\n",
       "      <td>United States</td>\n",
       "      <td>United States</td>\n",
       "      <td>39.78373</td>\n",
       "      <td>-100.445882</td>\n",
       "      <td>United States</td>\n",
       "    </tr>\n",
       "  </tbody>\n",
       "</table>\n",
       "</div>"
      ],
      "text/plain": [
       "                                        artist        country           city  \\\n",
       "1128                               Eyes Adrift  United States  United States   \n",
       "4398                                  Planet X  United States  United States   \n",
       "4568                                Chroma Key  United States  United States   \n",
       "5680                       Paths Of Possession  United States  United States   \n",
       "4826                Black Tape for a Blue Girl  United States  United States   \n",
       "1238                             Big Dumb Face  United States  United States   \n",
       "4335                                  Nevermen  United States  United States   \n",
       "5558  I Can Make A Mess Like Nobody's Business  United States  United States   \n",
       "934                            Pride and Glory  United States  United States   \n",
       "3550                          Damn the Machine  United States  United States   \n",
       "1564                                 Superdrag  United States  United States   \n",
       "5448               Charred Walls of the Damned  United States  United States   \n",
       "5088                              Dark New Day  United States  United States   \n",
       "2461                                       OSI  United States  United States   \n",
       "5939                                  Handsome  United States  United States   \n",
       "2050                                Blood Axis  United States  United States   \n",
       "1319                                 Goon Moon  United States  United States   \n",
       "829                                  Institute  United States  United States   \n",
       "816                                    Samhain  United States  United States   \n",
       "1075                    Juliette and the Licks  United States  United States   \n",
       "4734                                     Unida  United States  United States   \n",
       "5219                                   Heavens  United States  United States   \n",
       "\n",
       "      latitude   longitude        address  \n",
       "1128  39.78373 -100.445882  United States  \n",
       "4398  39.78373 -100.445882  United States  \n",
       "4568  39.78373 -100.445882  United States  \n",
       "5680  39.78373 -100.445882  United States  \n",
       "4826  39.78373 -100.445882  United States  \n",
       "1238  39.78373 -100.445882  United States  \n",
       "4335  39.78373 -100.445882  United States  \n",
       "5558  39.78373 -100.445882  United States  \n",
       "934   39.78373 -100.445882  United States  \n",
       "3550  39.78373 -100.445882  United States  \n",
       "1564  39.78373 -100.445882  United States  \n",
       "5448  39.78373 -100.445882  United States  \n",
       "5088  39.78373 -100.445882  United States  \n",
       "2461  39.78373 -100.445882  United States  \n",
       "5939  39.78373 -100.445882  United States  \n",
       "2050  39.78373 -100.445882  United States  \n",
       "1319  39.78373 -100.445882  United States  \n",
       "829   39.78373 -100.445882  United States  \n",
       "816   39.78373 -100.445882  United States  \n",
       "1075  39.78373 -100.445882  United States  \n",
       "4734  39.78373 -100.445882  United States  \n",
       "5219  39.78373 -100.445882  United States  "
      ]
     },
     "execution_count": 195,
     "metadata": {},
     "output_type": "execute_result"
    }
   ],
   "source": [
    "df_artists_origins_coordinates_concat.sort_values('city', inplace=True)\n",
    "df_artists_origins_coordinates_concat[df_artists_origins_coordinates_concat['artist'].duplicated()]"
   ]
  },
  {
   "cell_type": "code",
   "execution_count": 193,
   "metadata": {},
   "outputs": [
    {
     "data": {
      "text/html": [
       "<div>\n",
       "<style scoped>\n",
       "    .dataframe tbody tr th:only-of-type {\n",
       "        vertical-align: middle;\n",
       "    }\n",
       "\n",
       "    .dataframe tbody tr th {\n",
       "        vertical-align: top;\n",
       "    }\n",
       "\n",
       "    .dataframe thead th {\n",
       "        text-align: right;\n",
       "    }\n",
       "</style>\n",
       "<table border=\"1\" class=\"dataframe\">\n",
       "  <thead>\n",
       "    <tr style=\"text-align: right;\">\n",
       "      <th></th>\n",
       "      <th>artist</th>\n",
       "      <th>country</th>\n",
       "      <th>city</th>\n",
       "      <th>latitude</th>\n",
       "      <th>longitude</th>\n",
       "      <th>address</th>\n",
       "    </tr>\n",
       "  </thead>\n",
       "  <tbody>\n",
       "    <tr>\n",
       "      <th>2657</th>\n",
       "      <td>Blue Murder</td>\n",
       "      <td>United Kingdom</td>\n",
       "      <td>Inglaterra</td>\n",
       "      <td>52.531021</td>\n",
       "      <td>-1.264906</td>\n",
       "      <td>England, United Kingdom</td>\n",
       "    </tr>\n",
       "    <tr>\n",
       "      <th>6716</th>\n",
       "      <td>Blue Murder</td>\n",
       "      <td>United States</td>\n",
       "      <td>Los Angeles</td>\n",
       "      <td>34.053691</td>\n",
       "      <td>-118.242766</td>\n",
       "      <td>Los Angeles, Los Angeles County, California, U...</td>\n",
       "    </tr>\n",
       "  </tbody>\n",
       "</table>\n",
       "</div>"
      ],
      "text/plain": [
       "           artist         country         city   latitude   longitude  \\\n",
       "2657  Blue Murder  United Kingdom   Inglaterra  52.531021   -1.264906   \n",
       "6716  Blue Murder   United States  Los Angeles  34.053691 -118.242766   \n",
       "\n",
       "                                                address  \n",
       "2657                            England, United Kingdom  \n",
       "6716  Los Angeles, Los Angeles County, California, U...  "
      ]
     },
     "execution_count": 193,
     "metadata": {},
     "output_type": "execute_result"
    }
   ],
   "source": [
    "df_artists_origins_coordinates_concat[df_artists_origins_coordinates_concat['artist']=='Blue Murder']"
   ]
  },
  {
   "cell_type": "code",
   "execution_count": 194,
   "metadata": {},
   "outputs": [],
   "source": [
    "df_artists_origins_coordinates_concat.drop([2974,982,2657], axis=0, inplace=True)"
   ]
  },
  {
   "cell_type": "code",
   "execution_count": 250,
   "metadata": {},
   "outputs": [
    {
     "name": "stdout",
     "output_type": "stream",
     "text": [
      "No duplicates\n"
     ]
    }
   ],
   "source": [
    "check_duplicates_artists(df_artists_origins_coordinates_concat)"
   ]
  },
  {
   "cell_type": "code",
   "execution_count": 252,
   "metadata": {},
   "outputs": [
    {
     "data": {
      "text/html": [
       "<div>\n",
       "<style scoped>\n",
       "    .dataframe tbody tr th:only-of-type {\n",
       "        vertical-align: middle;\n",
       "    }\n",
       "\n",
       "    .dataframe tbody tr th {\n",
       "        vertical-align: top;\n",
       "    }\n",
       "\n",
       "    .dataframe thead th {\n",
       "        text-align: right;\n",
       "    }\n",
       "</style>\n",
       "<table border=\"1\" class=\"dataframe\">\n",
       "  <thead>\n",
       "    <tr style=\"text-align: right;\">\n",
       "      <th></th>\n",
       "      <th>artist</th>\n",
       "      <th>country</th>\n",
       "      <th>city</th>\n",
       "      <th>latitude</th>\n",
       "      <th>longitude</th>\n",
       "      <th>address</th>\n",
       "    </tr>\n",
       "  </thead>\n",
       "  <tbody>\n",
       "    <tr>\n",
       "      <th>0</th>\n",
       "      <td>Holy Moses</td>\n",
       "      <td>Deutschland</td>\n",
       "      <td>Aachen</td>\n",
       "      <td>51.132302</td>\n",
       "      <td>6.410734</td>\n",
       "      <td>Wickrath Bahnhof, Ri. Aachen, Kohlenweg, Wickr...</td>\n",
       "    </tr>\n",
       "    <tr>\n",
       "      <th>1</th>\n",
       "      <td>Mnemic</td>\n",
       "      <td>Danmark</td>\n",
       "      <td>Aalborg</td>\n",
       "      <td>57.046263</td>\n",
       "      <td>9.921526</td>\n",
       "      <td>Aalborg, Aalborg Kommune, Region Nordjylland, ...</td>\n",
       "    </tr>\n",
       "    <tr>\n",
       "      <th>2</th>\n",
       "      <td>The Seven Mile Journey</td>\n",
       "      <td>Danmark</td>\n",
       "      <td>Aalborg</td>\n",
       "      <td>57.046263</td>\n",
       "      <td>9.921526</td>\n",
       "      <td>Aalborg, Aalborg Kommune, Region Nordjylland, ...</td>\n",
       "    </tr>\n",
       "    <tr>\n",
       "      <th>3</th>\n",
       "      <td>Mercenary</td>\n",
       "      <td>Danmark</td>\n",
       "      <td>Aalborg</td>\n",
       "      <td>57.046263</td>\n",
       "      <td>9.921526</td>\n",
       "      <td>Aalborg, Aalborg Kommune, Region Nordjylland, ...</td>\n",
       "    </tr>\n",
       "    <tr>\n",
       "      <th>4</th>\n",
       "      <td>Oh No Ono</td>\n",
       "      <td>Danmark</td>\n",
       "      <td>Aalborg</td>\n",
       "      <td>57.046263</td>\n",
       "      <td>9.921526</td>\n",
       "      <td>Aalborg, Aalborg Kommune, Region Nordjylland, ...</td>\n",
       "    </tr>\n",
       "    <tr>\n",
       "      <th>...</th>\n",
       "      <td>...</td>\n",
       "      <td>...</td>\n",
       "      <td>...</td>\n",
       "      <td>...</td>\n",
       "      <td>...</td>\n",
       "      <td>...</td>\n",
       "    </tr>\n",
       "    <tr>\n",
       "      <th>6700</th>\n",
       "      <td>Wolf</td>\n",
       "      <td>Sverige</td>\n",
       "      <td>Örebro</td>\n",
       "      <td>59.274729</td>\n",
       "      <td>15.215118</td>\n",
       "      <td>Örebro, Örebro kommun, Örebro län, 703 61, Sve...</td>\n",
       "    </tr>\n",
       "    <tr>\n",
       "      <th>6701</th>\n",
       "      <td>Witchcraft</td>\n",
       "      <td>Sverige</td>\n",
       "      <td>Örebro</td>\n",
       "      <td>59.274729</td>\n",
       "      <td>15.215118</td>\n",
       "      <td>Örebro, Örebro kommun, Örebro län, 703 61, Sve...</td>\n",
       "    </tr>\n",
       "    <tr>\n",
       "      <th>6702</th>\n",
       "      <td>Truckfighters</td>\n",
       "      <td>Sverige</td>\n",
       "      <td>Örebro</td>\n",
       "      <td>59.274729</td>\n",
       "      <td>15.215118</td>\n",
       "      <td>Örebro, Örebro kommun, Örebro län, 703 61, Sve...</td>\n",
       "    </tr>\n",
       "    <tr>\n",
       "      <th>6703</th>\n",
       "      <td>No Devotion</td>\n",
       "      <td>United Kingdom</td>\n",
       "      <td>Pontypridd</td>\n",
       "      <td>51.600105</td>\n",
       "      <td>-3.344936</td>\n",
       "      <td>Pontypridd, Rhondda Cynon Taf, Cymru / Wales, ...</td>\n",
       "    </tr>\n",
       "    <tr>\n",
       "      <th>6704</th>\n",
       "      <td>Demons and Wizards</td>\n",
       "      <td>United States</td>\n",
       "      <td>Tampa</td>\n",
       "      <td>27.947760</td>\n",
       "      <td>-82.458444</td>\n",
       "      <td>Tampa, Hillsborough County, Florida, United St...</td>\n",
       "    </tr>\n",
       "  </tbody>\n",
       "</table>\n",
       "<p>6705 rows × 6 columns</p>\n",
       "</div>"
      ],
      "text/plain": [
       "                      artist         country        city   latitude  \\\n",
       "0                 Holy Moses     Deutschland      Aachen  51.132302   \n",
       "1                     Mnemic         Danmark     Aalborg  57.046263   \n",
       "2     The Seven Mile Journey         Danmark     Aalborg  57.046263   \n",
       "3                  Mercenary         Danmark     Aalborg  57.046263   \n",
       "4                  Oh No Ono         Danmark     Aalborg  57.046263   \n",
       "...                      ...             ...         ...        ...   \n",
       "6700                    Wolf         Sverige      Örebro  59.274729   \n",
       "6701              Witchcraft         Sverige      Örebro  59.274729   \n",
       "6702           Truckfighters         Sverige      Örebro  59.274729   \n",
       "6703             No Devotion  United Kingdom  Pontypridd  51.600105   \n",
       "6704      Demons and Wizards   United States       Tampa  27.947760   \n",
       "\n",
       "      longitude                                            address  \n",
       "0      6.410734  Wickrath Bahnhof, Ri. Aachen, Kohlenweg, Wickr...  \n",
       "1      9.921526  Aalborg, Aalborg Kommune, Region Nordjylland, ...  \n",
       "2      9.921526  Aalborg, Aalborg Kommune, Region Nordjylland, ...  \n",
       "3      9.921526  Aalborg, Aalborg Kommune, Region Nordjylland, ...  \n",
       "4      9.921526  Aalborg, Aalborg Kommune, Region Nordjylland, ...  \n",
       "...         ...                                                ...  \n",
       "6700  15.215118  Örebro, Örebro kommun, Örebro län, 703 61, Sve...  \n",
       "6701  15.215118  Örebro, Örebro kommun, Örebro län, 703 61, Sve...  \n",
       "6702  15.215118  Örebro, Örebro kommun, Örebro län, 703 61, Sve...  \n",
       "6703  -3.344936  Pontypridd, Rhondda Cynon Taf, Cymru / Wales, ...  \n",
       "6704 -82.458444  Tampa, Hillsborough County, Florida, United St...  \n",
       "\n",
       "[6705 rows x 6 columns]"
      ]
     },
     "execution_count": 252,
     "metadata": {},
     "output_type": "execute_result"
    }
   ],
   "source": [
    "df_artists_origins_coordinates_concat.reset_index(drop=True, inplace=True)\n",
    "df_artists_origins_coordinates_concat"
   ]
  },
  {
   "cell_type": "code",
   "execution_count": 253,
   "metadata": {},
   "outputs": [],
   "source": [
    "df_artists_origins_coordinates_concat.to_csv('Datasets/df_artists_origins_coordinates.csv', index=False)"
   ]
  },
  {
   "cell_type": "code",
   "execution_count": 234,
   "metadata": {},
   "outputs": [
    {
     "data": {
      "text/html": [
       "<div>\n",
       "<style scoped>\n",
       "    .dataframe tbody tr th:only-of-type {\n",
       "        vertical-align: middle;\n",
       "    }\n",
       "\n",
       "    .dataframe tbody tr th {\n",
       "        vertical-align: top;\n",
       "    }\n",
       "\n",
       "    .dataframe thead th {\n",
       "        text-align: right;\n",
       "    }\n",
       "</style>\n",
       "<table border=\"1\" class=\"dataframe\">\n",
       "  <thead>\n",
       "    <tr style=\"text-align: right;\">\n",
       "      <th></th>\n",
       "      <th>artist</th>\n",
       "      <th>country</th>\n",
       "      <th>city</th>\n",
       "      <th>latitude</th>\n",
       "      <th>longitude</th>\n",
       "      <th>address</th>\n",
       "    </tr>\n",
       "  </thead>\n",
       "  <tbody>\n",
       "    <tr>\n",
       "      <th>0</th>\n",
       "      <td>Demons and Wizards</td>\n",
       "      <td>United States</td>\n",
       "      <td>\\nGermany\\nUnited States\\n</td>\n",
       "      <td>40.420348</td>\n",
       "      <td>-79.116698</td>\n",
       "      <td>Germany, West Wheatfield Township, Indiana Cou...</td>\n",
       "    </tr>\n",
       "    <tr>\n",
       "      <th>1</th>\n",
       "      <td>No Devotion</td>\n",
       "      <td>United Kingdom</td>\n",
       "      <td>\\nPontypridd</td>\n",
       "      <td>51.488309</td>\n",
       "      <td>-3.211589</td>\n",
       "      <td>Lord Pontypridd House, Dulwich Gardens, Canton...</td>\n",
       "    </tr>\n",
       "    <tr>\n",
       "      <th>2</th>\n",
       "      <td>Holy Moses</td>\n",
       "      <td>Deutschland</td>\n",
       "      <td>Aachen</td>\n",
       "      <td>51.132302</td>\n",
       "      <td>6.410734</td>\n",
       "      <td>Wickrath Bahnhof, Ri. Aachen, Kohlenweg, Wickr...</td>\n",
       "    </tr>\n",
       "    <tr>\n",
       "      <th>3</th>\n",
       "      <td>Mnemic</td>\n",
       "      <td>Danmark</td>\n",
       "      <td>Aalborg</td>\n",
       "      <td>57.046263</td>\n",
       "      <td>9.921526</td>\n",
       "      <td>Aalborg, Aalborg Kommune, Region Nordjylland, ...</td>\n",
       "    </tr>\n",
       "    <tr>\n",
       "      <th>4</th>\n",
       "      <td>The Seven Mile Journey</td>\n",
       "      <td>Danmark</td>\n",
       "      <td>Aalborg</td>\n",
       "      <td>57.046263</td>\n",
       "      <td>9.921526</td>\n",
       "      <td>Aalborg, Aalborg Kommune, Region Nordjylland, ...</td>\n",
       "    </tr>\n",
       "  </tbody>\n",
       "</table>\n",
       "</div>"
      ],
      "text/plain": [
       "                   artist         country                        city  \\\n",
       "0      Demons and Wizards   United States  \\nGermany\\nUnited States\\n   \n",
       "1             No Devotion  United Kingdom                \\nPontypridd   \n",
       "2              Holy Moses     Deutschland                      Aachen   \n",
       "3                  Mnemic         Danmark                     Aalborg   \n",
       "4  The Seven Mile Journey         Danmark                     Aalborg   \n",
       "\n",
       "    latitude  longitude                                            address  \n",
       "0  40.420348 -79.116698  Germany, West Wheatfield Township, Indiana Cou...  \n",
       "1  51.488309  -3.211589  Lord Pontypridd House, Dulwich Gardens, Canton...  \n",
       "2  51.132302   6.410734  Wickrath Bahnhof, Ri. Aachen, Kohlenweg, Wickr...  \n",
       "3  57.046263   9.921526  Aalborg, Aalborg Kommune, Region Nordjylland, ...  \n",
       "4  57.046263   9.921526  Aalborg, Aalborg Kommune, Region Nordjylland, ...  "
      ]
     },
     "execution_count": 234,
     "metadata": {},
     "output_type": "execute_result"
    }
   ],
   "source": [
    "df_artists_origins_coordinates_concat.head()"
   ]
  },
  {
   "cell_type": "code",
   "execution_count": 236,
   "metadata": {},
   "outputs": [],
   "source": [
    "df_artists_origins[\"origin\"] = np.where(df_artists_origins[\"artist\"]==\"Demons and Wizards\", \"Tampa, FL, United States\", df_artists_origins[\"origin\"])\n",
    "df_artists_origins[\"origin\"] = np.where(df_artists_origins[\"artist\"]==\"No Devotion\", \"Pontypridd, Wales\", df_artists_origins[\"origin\"])"
   ]
  },
  {
   "cell_type": "code",
   "execution_count": 239,
   "metadata": {},
   "outputs": [
    {
     "data": {
      "text/html": [
       "<div>\n",
       "<style scoped>\n",
       "    .dataframe tbody tr th:only-of-type {\n",
       "        vertical-align: middle;\n",
       "    }\n",
       "\n",
       "    .dataframe tbody tr th {\n",
       "        vertical-align: top;\n",
       "    }\n",
       "\n",
       "    .dataframe thead th {\n",
       "        text-align: right;\n",
       "    }\n",
       "</style>\n",
       "<table border=\"1\" class=\"dataframe\">\n",
       "  <thead>\n",
       "    <tr style=\"text-align: right;\">\n",
       "      <th></th>\n",
       "      <th>artist</th>\n",
       "      <th>origin</th>\n",
       "    </tr>\n",
       "  </thead>\n",
       "  <tbody>\n",
       "    <tr>\n",
       "      <th>0</th>\n",
       "      <td>Sparta</td>\n",
       "      <td>El Paso, Texas</td>\n",
       "    </tr>\n",
       "    <tr>\n",
       "      <th>1</th>\n",
       "      <td>Muse</td>\n",
       "      <td>Teignmouth, Devon, England</td>\n",
       "    </tr>\n",
       "    <tr>\n",
       "      <th>2</th>\n",
       "      <td>Finch</td>\n",
       "      <td>Temecula, California, Estados Unidos</td>\n",
       "    </tr>\n",
       "    <tr>\n",
       "      <th>3</th>\n",
       "      <td>Transplants</td>\n",
       "      <td>Los Angeles, California, United States[1]</td>\n",
       "    </tr>\n",
       "    <tr>\n",
       "      <th>4</th>\n",
       "      <td>Rooney</td>\n",
       "      <td>Los Angeles, California, U.S.</td>\n",
       "    </tr>\n",
       "    <tr>\n",
       "      <th>...</th>\n",
       "      <td>...</td>\n",
       "      <td>...</td>\n",
       "    </tr>\n",
       "    <tr>\n",
       "      <th>6733</th>\n",
       "      <td>Until Your Heart Stops</td>\n",
       "      <td>Oakland, CA, United States</td>\n",
       "    </tr>\n",
       "    <tr>\n",
       "      <th>6734</th>\n",
       "      <td>Sleepercar</td>\n",
       "      <td>El Paso, Texas, USA</td>\n",
       "    </tr>\n",
       "    <tr>\n",
       "      <th>6735</th>\n",
       "      <td>Swamp Thing</td>\n",
       "      <td>Rotorua, New Zealand</td>\n",
       "    </tr>\n",
       "    <tr>\n",
       "      <th>6736</th>\n",
       "      <td>Tim Kasher</td>\n",
       "      <td>Omaha, Nebraska, US</td>\n",
       "    </tr>\n",
       "    <tr>\n",
       "      <th>6737</th>\n",
       "      <td>Grateful Dead</td>\n",
       "      <td>Palo Alto, California, U.S.</td>\n",
       "    </tr>\n",
       "  </tbody>\n",
       "</table>\n",
       "<p>6738 rows × 2 columns</p>\n",
       "</div>"
      ],
      "text/plain": [
       "                      artist                                     origin\n",
       "0                     Sparta                             El Paso, Texas\n",
       "1                       Muse                 Teignmouth, Devon, England\n",
       "2                      Finch       Temecula, California, Estados Unidos\n",
       "3                Transplants  Los Angeles, California, United States[1]\n",
       "4                     Rooney              Los Angeles, California, U.S.\n",
       "...                      ...                                        ...\n",
       "6733  Until Your Heart Stops                 Oakland, CA, United States\n",
       "6734              Sleepercar                        El Paso, Texas, USA\n",
       "6735             Swamp Thing                       Rotorua, New Zealand\n",
       "6736              Tim Kasher                        Omaha, Nebraska, US\n",
       "6737           Grateful Dead                Palo Alto, California, U.S.\n",
       "\n",
       "[6738 rows x 2 columns]"
      ]
     },
     "execution_count": 239,
     "metadata": {},
     "output_type": "execute_result"
    }
   ],
   "source": [
    "df_artists_origins"
   ]
  },
  {
   "cell_type": "markdown",
   "metadata": {},
   "source": [
    "## **Creating ``state``**"
   ]
  },
  {
   "cell_type": "code",
   "execution_count": 263,
   "metadata": {},
   "outputs": [],
   "source": [
    "df_origins = df_artists_origins_coordinates_concat"
   ]
  },
  {
   "cell_type": "code",
   "execution_count": 264,
   "metadata": {},
   "outputs": [],
   "source": [
    "# separate the countries in 2 dataframes\n",
    "df_artists_uk = df_origins[df_origins['country']=='United Kingdom']\n",
    "df_artists_us = df_origins[df_origins['country']=='United States']"
   ]
  },
  {
   "cell_type": "markdown",
   "metadata": {},
   "source": [
    "### **United Kingdom**"
   ]
  },
  {
   "cell_type": "code",
   "execution_count": 265,
   "metadata": {},
   "outputs": [
    {
     "data": {
      "text/plain": [
       "'Aberdeen, Guild Street, City Centre, Aberdeen City, Alba / Scotland, AB11 6LX, United Kingdom'"
      ]
     },
     "execution_count": 265,
     "metadata": {},
     "output_type": "execute_result"
    }
   ],
   "source": [
    "# full address\n",
    "df_artists_uk.iloc[0]['address']"
   ]
  },
  {
   "cell_type": "code",
   "execution_count": 266,
   "metadata": {},
   "outputs": [
    {
     "data": {
      "text/plain": [
       "'Alba / Scotland'"
      ]
     },
     "execution_count": 266,
     "metadata": {},
     "output_type": "execute_result"
    }
   ],
   "source": [
    "# I want to get the 3rd element starting from the tail, cause the 2nd one (England for instance) is too generic\n",
    "df_artists_uk.iloc[0]['address'].split(', ')[-3]"
   ]
  },
  {
   "cell_type": "code",
   "execution_count": 279,
   "metadata": {},
   "outputs": [
    {
     "data": {
      "text/html": [
       "<div>\n",
       "<style scoped>\n",
       "    .dataframe tbody tr th:only-of-type {\n",
       "        vertical-align: middle;\n",
       "    }\n",
       "\n",
       "    .dataframe tbody tr th {\n",
       "        vertical-align: top;\n",
       "    }\n",
       "\n",
       "    .dataframe thead th {\n",
       "        text-align: right;\n",
       "    }\n",
       "</style>\n",
       "<table border=\"1\" class=\"dataframe\">\n",
       "  <thead>\n",
       "    <tr style=\"text-align: right;\">\n",
       "      <th></th>\n",
       "      <th>artist</th>\n",
       "      <th>country</th>\n",
       "      <th>city</th>\n",
       "      <th>latitude</th>\n",
       "      <th>longitude</th>\n",
       "      <th>address</th>\n",
       "      <th>state</th>\n",
       "    </tr>\n",
       "  </thead>\n",
       "  <tbody>\n",
       "    <tr>\n",
       "      <th>9</th>\n",
       "      <td>Korpse</td>\n",
       "      <td>United Kingdom</td>\n",
       "      <td>Aberdeen</td>\n",
       "      <td>57.142649</td>\n",
       "      <td>-2.097635</td>\n",
       "      <td>Aberdeen, Guild Street, City Centre, Aberdeen ...</td>\n",
       "      <td>Alba / Scotland</td>\n",
       "    </tr>\n",
       "    <tr>\n",
       "      <th>11</th>\n",
       "      <td>Pallas</td>\n",
       "      <td>United Kingdom</td>\n",
       "      <td>Aberdeen</td>\n",
       "      <td>57.148243</td>\n",
       "      <td>-2.092809</td>\n",
       "      <td>Aberdeen City, Alba / Scotland, United Kingdom</td>\n",
       "      <td>Aberdeen City</td>\n",
       "    </tr>\n",
       "    <tr>\n",
       "      <th>12</th>\n",
       "      <td>The Xcerts</td>\n",
       "      <td>United Kingdom</td>\n",
       "      <td>Aberdeen</td>\n",
       "      <td>57.148243</td>\n",
       "      <td>-2.092809</td>\n",
       "      <td>Aberdeen City, Alba / Scotland, United Kingdom</td>\n",
       "      <td>Aberdeen City</td>\n",
       "    </tr>\n",
       "    <tr>\n",
       "      <th>13</th>\n",
       "      <td>Annie Lennox</td>\n",
       "      <td>United Kingdom</td>\n",
       "      <td>Aberdeen</td>\n",
       "      <td>57.148243</td>\n",
       "      <td>-2.092809</td>\n",
       "      <td>Aberdeen City, Alba / Scotland, United Kingdom</td>\n",
       "      <td>Aberdeen City</td>\n",
       "    </tr>\n",
       "    <tr>\n",
       "      <th>14</th>\n",
       "      <td>Hellripper</td>\n",
       "      <td>United Kingdom</td>\n",
       "      <td>Aberdeen</td>\n",
       "      <td>57.148243</td>\n",
       "      <td>-2.092809</td>\n",
       "      <td>Aberdeen City, Alba / Scotland, United Kingdom</td>\n",
       "      <td>Aberdeen City</td>\n",
       "    </tr>\n",
       "    <tr>\n",
       "      <th>...</th>\n",
       "      <td>...</td>\n",
       "      <td>...</td>\n",
       "      <td>...</td>\n",
       "      <td>...</td>\n",
       "      <td>...</td>\n",
       "      <td>...</td>\n",
       "      <td>...</td>\n",
       "    </tr>\n",
       "    <tr>\n",
       "      <th>6684</th>\n",
       "      <td>Asking Alexandria</td>\n",
       "      <td>United Kingdom</td>\n",
       "      <td>York</td>\n",
       "      <td>53.959055</td>\n",
       "      <td>-1.081536</td>\n",
       "      <td>York, York and North Yorkshire, England, YO1 8...</td>\n",
       "      <td>England</td>\n",
       "    </tr>\n",
       "    <tr>\n",
       "      <th>6686</th>\n",
       "      <td>The Seahorses</td>\n",
       "      <td>United Kingdom</td>\n",
       "      <td>York</td>\n",
       "      <td>53.965658</td>\n",
       "      <td>-1.074305</td>\n",
       "      <td>York, York and North Yorkshire, England, Unite...</td>\n",
       "      <td>York and North Yorkshire</td>\n",
       "    </tr>\n",
       "    <tr>\n",
       "      <th>6687</th>\n",
       "      <td>Shed Seven</td>\n",
       "      <td>United Kingdom</td>\n",
       "      <td>York</td>\n",
       "      <td>53.965658</td>\n",
       "      <td>-1.074305</td>\n",
       "      <td>York, York and North Yorkshire, England, Unite...</td>\n",
       "      <td>York and North Yorkshire</td>\n",
       "    </tr>\n",
       "    <tr>\n",
       "      <th>6688</th>\n",
       "      <td>A Forest of Stars</td>\n",
       "      <td>United Kingdom</td>\n",
       "      <td>Yorkshire</td>\n",
       "      <td>53.982527</td>\n",
       "      <td>-1.385250</td>\n",
       "      <td>Yorkshire, England, United Kingdom</td>\n",
       "      <td>Yorkshire</td>\n",
       "    </tr>\n",
       "    <tr>\n",
       "      <th>6703</th>\n",
       "      <td>No Devotion</td>\n",
       "      <td>United Kingdom</td>\n",
       "      <td>Pontypridd</td>\n",
       "      <td>51.600105</td>\n",
       "      <td>-3.344936</td>\n",
       "      <td>Pontypridd, Rhondda Cynon Taf, Cymru / Wales, ...</td>\n",
       "      <td>Rhondda Cynon Taf</td>\n",
       "    </tr>\n",
       "  </tbody>\n",
       "</table>\n",
       "<p>1495 rows × 7 columns</p>\n",
       "</div>"
      ],
      "text/plain": [
       "                 artist         country        city   latitude  longitude  \\\n",
       "9                Korpse  United Kingdom    Aberdeen  57.142649  -2.097635   \n",
       "11               Pallas  United Kingdom    Aberdeen  57.148243  -2.092809   \n",
       "12           The Xcerts  United Kingdom    Aberdeen  57.148243  -2.092809   \n",
       "13         Annie Lennox  United Kingdom    Aberdeen  57.148243  -2.092809   \n",
       "14           Hellripper  United Kingdom    Aberdeen  57.148243  -2.092809   \n",
       "...                 ...             ...         ...        ...        ...   \n",
       "6684  Asking Alexandria  United Kingdom        York  53.959055  -1.081536   \n",
       "6686      The Seahorses  United Kingdom        York  53.965658  -1.074305   \n",
       "6687         Shed Seven  United Kingdom        York  53.965658  -1.074305   \n",
       "6688  A Forest of Stars  United Kingdom   Yorkshire  53.982527  -1.385250   \n",
       "6703        No Devotion  United Kingdom  Pontypridd  51.600105  -3.344936   \n",
       "\n",
       "                                                address  \\\n",
       "9     Aberdeen, Guild Street, City Centre, Aberdeen ...   \n",
       "11       Aberdeen City, Alba / Scotland, United Kingdom   \n",
       "12       Aberdeen City, Alba / Scotland, United Kingdom   \n",
       "13       Aberdeen City, Alba / Scotland, United Kingdom   \n",
       "14       Aberdeen City, Alba / Scotland, United Kingdom   \n",
       "...                                                 ...   \n",
       "6684  York, York and North Yorkshire, England, YO1 8...   \n",
       "6686  York, York and North Yorkshire, England, Unite...   \n",
       "6687  York, York and North Yorkshire, England, Unite...   \n",
       "6688                 Yorkshire, England, United Kingdom   \n",
       "6703  Pontypridd, Rhondda Cynon Taf, Cymru / Wales, ...   \n",
       "\n",
       "                         state  \n",
       "9              Alba / Scotland  \n",
       "11               Aberdeen City  \n",
       "12               Aberdeen City  \n",
       "13               Aberdeen City  \n",
       "14               Aberdeen City  \n",
       "...                        ...  \n",
       "6684                   England  \n",
       "6686  York and North Yorkshire  \n",
       "6687  York and North Yorkshire  \n",
       "6688                 Yorkshire  \n",
       "6703         Rhondda Cynon Taf  \n",
       "\n",
       "[1495 rows x 7 columns]"
      ]
     },
     "execution_count": 279,
     "metadata": {},
     "output_type": "execute_result"
    }
   ],
   "source": [
    "df_artists_uk['state'] = df_artists_uk['address'].apply(lambda x: x.split(', ')[-3])\n",
    "df_artists_uk"
   ]
  },
  {
   "cell_type": "markdown",
   "metadata": {},
   "source": [
    "### **United States**"
   ]
  },
  {
   "cell_type": "code",
   "execution_count": 269,
   "metadata": {},
   "outputs": [
    {
     "data": {
      "text/plain": [
       "'Aberdeen, Grays Harbor County, Washington, 98520, United States'"
      ]
     },
     "execution_count": 269,
     "metadata": {},
     "output_type": "execute_result"
    }
   ],
   "source": [
    "# full address\n",
    "df_artists_us.iloc[0]['address']"
   ]
  },
  {
   "cell_type": "code",
   "execution_count": 270,
   "metadata": {},
   "outputs": [
    {
     "data": {
      "text/plain": [
       "'Abilene, Taylor County, Texas, United States'"
      ]
     },
     "execution_count": 270,
     "metadata": {},
     "output_type": "execute_result"
    }
   ],
   "source": [
    "# full address\n",
    "df_artists_us.iloc[2]['address']"
   ]
  },
  {
   "cell_type": "markdown",
   "metadata": {},
   "source": [
    "**the ``state`` is not always the same element, sometimes it's 2n from the tail, sometimes the 3rd**"
   ]
  },
  {
   "cell_type": "code",
   "execution_count": 271,
   "metadata": {},
   "outputs": [
    {
     "data": {
      "text/plain": [
       "'Taylor County'"
      ]
     },
     "execution_count": 271,
     "metadata": {},
     "output_type": "execute_result"
    }
   ],
   "source": [
    "# I want to get the 2nd element starting from the tail\n",
    "df_artists_us.iloc[2]['address'].split(', ')[-3]"
   ]
  },
  {
   "cell_type": "code",
   "execution_count": 272,
   "metadata": {},
   "outputs": [
    {
     "data": {
      "text/plain": [
       "address\n",
       "Los Angeles, Los Angeles County, California, United States    366\n",
       "City of New York, New York, United States                     230\n",
       "Chicago, Cook County, Illinois, United States                 152\n",
       "San Francisco, California, United States                      120\n",
       "Seattle, King County, Washington, United States                99\n",
       "                                                             ... \n",
       "Kennesaw, Cobb County, Georgia, 30144, United States            1\n",
       "Kennett, Dunklin County, Missouri, 63857, United States         1\n",
       "Kent, King County, Washington, United States                    1\n",
       "Kent, Portage County, Ohio, United States                       1\n",
       "Zion, Lake County, Illinois, 60099, United States               1\n",
       "Name: count, Length: 996, dtype: int64"
      ]
     },
     "execution_count": 272,
     "metadata": {},
     "output_type": "execute_result"
    }
   ],
   "source": [
    "df_artists_us['address'].value_counts()"
   ]
  },
  {
   "cell_type": "code",
   "execution_count": 273,
   "metadata": {},
   "outputs": [],
   "source": [
    "import re\n",
    "\n",
    "def extract_state(location):\n",
    "    # Case 1: Full format with county and optional ZIP\n",
    "    match = re.search(r'([\\w\\s]+),\\s([\\w\\s]+),\\s([\\w\\s]+)(?:,\\s\\d+)?,\\sUnited States$', location)\n",
    "    if match:\n",
    "        return match.group(3)  # Extract state from 3rd capture group\n",
    "    \n",
    "    # Case 2: City and state only (no county, no ZIP)\n",
    "    match = re.search(r'([\\w\\s]+),\\s([\\w\\s]+),\\sUnited States$', location)\n",
    "    if match:\n",
    "        return match.group(2)  # Extract state from 2nd capture group\n",
    "\n",
    "    # Case 3: State only (e.g., \"New Jersey, United States\")\n",
    "    match = re.search(r'([\\w\\s]+),\\sUnited States$', location)\n",
    "    if match:\n",
    "        return match.group(1)  # Extract state from 1st capture group\n",
    "\n",
    "    return None  # No match found"
   ]
  },
  {
   "cell_type": "code",
   "execution_count": 274,
   "metadata": {},
   "outputs": [],
   "source": [
    "df_artists_us['state'] = df_artists_us['address'].apply(extract_state)"
   ]
  },
  {
   "cell_type": "code",
   "execution_count": 275,
   "metadata": {},
   "outputs": [
    {
     "data": {
      "text/html": [
       "<div>\n",
       "<style scoped>\n",
       "    .dataframe tbody tr th:only-of-type {\n",
       "        vertical-align: middle;\n",
       "    }\n",
       "\n",
       "    .dataframe tbody tr th {\n",
       "        vertical-align: top;\n",
       "    }\n",
       "\n",
       "    .dataframe thead th {\n",
       "        text-align: right;\n",
       "    }\n",
       "</style>\n",
       "<table border=\"1\" class=\"dataframe\">\n",
       "  <thead>\n",
       "    <tr style=\"text-align: right;\">\n",
       "      <th></th>\n",
       "      <th>artist</th>\n",
       "      <th>country</th>\n",
       "      <th>city</th>\n",
       "      <th>latitude</th>\n",
       "      <th>longitude</th>\n",
       "      <th>address</th>\n",
       "      <th>state</th>\n",
       "    </tr>\n",
       "  </thead>\n",
       "  <tbody>\n",
       "    <tr>\n",
       "      <th>10</th>\n",
       "      <td>Nirvana</td>\n",
       "      <td>United States</td>\n",
       "      <td>Aberdeen</td>\n",
       "      <td>46.975371</td>\n",
       "      <td>-123.815722</td>\n",
       "      <td>Aberdeen, Grays Harbor County, Washington, 985...</td>\n",
       "      <td>Washington</td>\n",
       "    </tr>\n",
       "    <tr>\n",
       "      <th>18</th>\n",
       "      <td>Close Your Eyes</td>\n",
       "      <td>United States</td>\n",
       "      <td>Abilene</td>\n",
       "      <td>32.446450</td>\n",
       "      <td>-99.747591</td>\n",
       "      <td>Abilene, Taylor County, Texas, United States</td>\n",
       "      <td>Texas</td>\n",
       "    </tr>\n",
       "    <tr>\n",
       "      <th>19</th>\n",
       "      <td>Micah P. Hinson</td>\n",
       "      <td>United States</td>\n",
       "      <td>Abilene</td>\n",
       "      <td>32.446450</td>\n",
       "      <td>-99.747591</td>\n",
       "      <td>Abilene, Taylor County, Texas, United States</td>\n",
       "      <td>Texas</td>\n",
       "    </tr>\n",
       "    <tr>\n",
       "      <th>21</th>\n",
       "      <td>A Loss For Words</td>\n",
       "      <td>United States</td>\n",
       "      <td>Abington</td>\n",
       "      <td>42.104823</td>\n",
       "      <td>-70.945322</td>\n",
       "      <td>Abington, Plymouth County, Massachusetts, 0235...</td>\n",
       "      <td>Massachusetts</td>\n",
       "    </tr>\n",
       "    <tr>\n",
       "      <th>23</th>\n",
       "      <td>Pretty Boy Floyd</td>\n",
       "      <td>United States</td>\n",
       "      <td>Adairsville</td>\n",
       "      <td>34.368327</td>\n",
       "      <td>-84.934906</td>\n",
       "      <td>Adairsville, Bartow County, Georgia, 30103, Un...</td>\n",
       "      <td>Georgia</td>\n",
       "    </tr>\n",
       "    <tr>\n",
       "      <th>...</th>\n",
       "      <td>...</td>\n",
       "      <td>...</td>\n",
       "      <td>...</td>\n",
       "      <td>...</td>\n",
       "      <td>...</td>\n",
       "      <td>...</td>\n",
       "      <td>...</td>\n",
       "    </tr>\n",
       "    <tr>\n",
       "      <th>6685</th>\n",
       "      <td>Live</td>\n",
       "      <td>United States</td>\n",
       "      <td>York</td>\n",
       "      <td>39.962493</td>\n",
       "      <td>-76.727699</td>\n",
       "      <td>York, York County, Pennsylvania, 17401, United...</td>\n",
       "      <td>Pennsylvania</td>\n",
       "    </tr>\n",
       "    <tr>\n",
       "      <th>6689</th>\n",
       "      <td>Bloodlined Calligraphy</td>\n",
       "      <td>United States</td>\n",
       "      <td>Ypsilanti</td>\n",
       "      <td>42.241051</td>\n",
       "      <td>-83.611765</td>\n",
       "      <td>Ypsilanti, Washtenaw County, Michigan, United ...</td>\n",
       "      <td>Michigan</td>\n",
       "    </tr>\n",
       "    <tr>\n",
       "      <th>6692</th>\n",
       "      <td>Local H</td>\n",
       "      <td>United States</td>\n",
       "      <td>Zion</td>\n",
       "      <td>42.450117</td>\n",
       "      <td>-87.833775</td>\n",
       "      <td>Zion, Lake County, Illinois, 60099, United States</td>\n",
       "      <td>Illinois</td>\n",
       "    </tr>\n",
       "    <tr>\n",
       "      <th>6697</th>\n",
       "      <td>Rifles at Recess</td>\n",
       "      <td>United States</td>\n",
       "      <td>chattanooga</td>\n",
       "      <td>35.045722</td>\n",
       "      <td>-85.309488</td>\n",
       "      <td>Chattanooga, Hamilton County, East Tennessee, ...</td>\n",
       "      <td>Tennessee</td>\n",
       "    </tr>\n",
       "    <tr>\n",
       "      <th>6704</th>\n",
       "      <td>Demons and Wizards</td>\n",
       "      <td>United States</td>\n",
       "      <td>Tampa</td>\n",
       "      <td>27.947760</td>\n",
       "      <td>-82.458444</td>\n",
       "      <td>Tampa, Hillsborough County, Florida, United St...</td>\n",
       "      <td>Florida</td>\n",
       "    </tr>\n",
       "  </tbody>\n",
       "</table>\n",
       "<p>4138 rows × 7 columns</p>\n",
       "</div>"
      ],
      "text/plain": [
       "                      artist        country         city   latitude  \\\n",
       "10                   Nirvana  United States     Aberdeen  46.975371   \n",
       "18           Close Your Eyes  United States      Abilene  32.446450   \n",
       "19           Micah P. Hinson  United States      Abilene  32.446450   \n",
       "21          A Loss For Words  United States     Abington  42.104823   \n",
       "23          Pretty Boy Floyd  United States  Adairsville  34.368327   \n",
       "...                      ...            ...          ...        ...   \n",
       "6685                    Live  United States         York  39.962493   \n",
       "6689  Bloodlined Calligraphy  United States    Ypsilanti  42.241051   \n",
       "6692                 Local H  United States         Zion  42.450117   \n",
       "6697        Rifles at Recess  United States  chattanooga  35.045722   \n",
       "6704      Demons and Wizards  United States        Tampa  27.947760   \n",
       "\n",
       "       longitude                                            address  \\\n",
       "10   -123.815722  Aberdeen, Grays Harbor County, Washington, 985...   \n",
       "18    -99.747591       Abilene, Taylor County, Texas, United States   \n",
       "19    -99.747591       Abilene, Taylor County, Texas, United States   \n",
       "21    -70.945322  Abington, Plymouth County, Massachusetts, 0235...   \n",
       "23    -84.934906  Adairsville, Bartow County, Georgia, 30103, Un...   \n",
       "...          ...                                                ...   \n",
       "6685  -76.727699  York, York County, Pennsylvania, 17401, United...   \n",
       "6689  -83.611765  Ypsilanti, Washtenaw County, Michigan, United ...   \n",
       "6692  -87.833775  Zion, Lake County, Illinois, 60099, United States   \n",
       "6697  -85.309488  Chattanooga, Hamilton County, East Tennessee, ...   \n",
       "6704  -82.458444  Tampa, Hillsborough County, Florida, United St...   \n",
       "\n",
       "              state  \n",
       "10       Washington  \n",
       "18            Texas  \n",
       "19            Texas  \n",
       "21    Massachusetts  \n",
       "23          Georgia  \n",
       "...             ...  \n",
       "6685   Pennsylvania  \n",
       "6689       Michigan  \n",
       "6692       Illinois  \n",
       "6697      Tennessee  \n",
       "6704        Florida  \n",
       "\n",
       "[4138 rows x 7 columns]"
      ]
     },
     "execution_count": 275,
     "metadata": {},
     "output_type": "execute_result"
    }
   ],
   "source": [
    "df_artists_us"
   ]
  },
  {
   "cell_type": "code",
   "execution_count": 298,
   "metadata": {},
   "outputs": [
    {
     "data": {
      "text/plain": [
       "city\n",
       "Los Angeles      367\n",
       "New York City    189\n",
       "Chicago          152\n",
       "San Francisco    120\n",
       "Seattle           99\n",
       "Boston            97\n",
       "Brooklyn          80\n",
       "Philadelphia      71\n",
       "Portland          70\n",
       "San Diego         65\n",
       "Atlanta           48\n",
       "Austin            46\n",
       "Washington        45\n",
       "New York          41\n",
       "Nashville         41\n",
       "Sacramento        38\n",
       "Detroit           37\n",
       "Oakland           37\n",
       "Phoenix           35\n",
       "Richmond          34\n",
       "Name: count, dtype: int64"
      ]
     },
     "execution_count": 298,
     "metadata": {},
     "output_type": "execute_result"
    }
   ],
   "source": [
    "df_artists_us['city'].value_counts().head(20)"
   ]
  },
  {
   "cell_type": "code",
   "execution_count": 297,
   "metadata": {},
   "outputs": [
    {
     "data": {
      "text/html": [
       "<div>\n",
       "<style scoped>\n",
       "    .dataframe tbody tr th:only-of-type {\n",
       "        vertical-align: middle;\n",
       "    }\n",
       "\n",
       "    .dataframe tbody tr th {\n",
       "        vertical-align: top;\n",
       "    }\n",
       "\n",
       "    .dataframe thead th {\n",
       "        text-align: right;\n",
       "    }\n",
       "</style>\n",
       "<table border=\"1\" class=\"dataframe\">\n",
       "  <thead>\n",
       "    <tr style=\"text-align: right;\">\n",
       "      <th></th>\n",
       "      <th>artist</th>\n",
       "      <th>country</th>\n",
       "      <th>city</th>\n",
       "      <th>latitude</th>\n",
       "      <th>longitude</th>\n",
       "      <th>address</th>\n",
       "      <th>state</th>\n",
       "    </tr>\n",
       "  </thead>\n",
       "  <tbody>\n",
       "    <tr>\n",
       "      <th>4541</th>\n",
       "      <td>Erase Errata</td>\n",
       "      <td>United States</td>\n",
       "      <td>Oakland/San Francisco</td>\n",
       "      <td>37.799388</td>\n",
       "      <td>-122.376576</td>\n",
       "      <td>San Francisco–Oakland Bay Bridge West Span, Tr...</td>\n",
       "      <td>California</td>\n",
       "    </tr>\n",
       "    <tr>\n",
       "      <th>5431</th>\n",
       "      <td>Jefferson Starship</td>\n",
       "      <td>United States</td>\n",
       "      <td>San Francisco</td>\n",
       "      <td>37.779259</td>\n",
       "      <td>-122.419329</td>\n",
       "      <td>San Francisco, California, United States</td>\n",
       "      <td>California</td>\n",
       "    </tr>\n",
       "    <tr>\n",
       "      <th>5432</th>\n",
       "      <td>4 Non Blondes</td>\n",
       "      <td>United States</td>\n",
       "      <td>San Francisco</td>\n",
       "      <td>37.779259</td>\n",
       "      <td>-122.419329</td>\n",
       "      <td>San Francisco, California, United States</td>\n",
       "      <td>California</td>\n",
       "    </tr>\n",
       "    <tr>\n",
       "      <th>5433</th>\n",
       "      <td>Secret Chiefs 3</td>\n",
       "      <td>United States</td>\n",
       "      <td>San Francisco</td>\n",
       "      <td>37.779259</td>\n",
       "      <td>-122.419329</td>\n",
       "      <td>San Francisco, California, United States</td>\n",
       "      <td>California</td>\n",
       "    </tr>\n",
       "    <tr>\n",
       "      <th>5434</th>\n",
       "      <td>The Organization</td>\n",
       "      <td>United States</td>\n",
       "      <td>San Francisco</td>\n",
       "      <td>37.779259</td>\n",
       "      <td>-122.419329</td>\n",
       "      <td>San Francisco, California, United States</td>\n",
       "      <td>California</td>\n",
       "    </tr>\n",
       "    <tr>\n",
       "      <th>...</th>\n",
       "      <td>...</td>\n",
       "      <td>...</td>\n",
       "      <td>...</td>\n",
       "      <td>...</td>\n",
       "      <td>...</td>\n",
       "      <td>...</td>\n",
       "      <td>...</td>\n",
       "    </tr>\n",
       "    <tr>\n",
       "      <th>5553</th>\n",
       "      <td>Vicious Rumors</td>\n",
       "      <td>United States</td>\n",
       "      <td>San Francisco Bay Area</td>\n",
       "      <td>37.788497</td>\n",
       "      <td>-122.355847</td>\n",
       "      <td>San Francisco Bay Area, San Francisco, Califor...</td>\n",
       "      <td>California</td>\n",
       "    </tr>\n",
       "    <tr>\n",
       "      <th>5554</th>\n",
       "      <td>Forbidden</td>\n",
       "      <td>United States</td>\n",
       "      <td>San Francisco Bay Area</td>\n",
       "      <td>37.788497</td>\n",
       "      <td>-122.355847</td>\n",
       "      <td>San Francisco Bay Area, San Francisco, Califor...</td>\n",
       "      <td>California</td>\n",
       "    </tr>\n",
       "    <tr>\n",
       "      <th>5555</th>\n",
       "      <td>Vio-Lence</td>\n",
       "      <td>United States</td>\n",
       "      <td>San Francisco Bay Area</td>\n",
       "      <td>37.788497</td>\n",
       "      <td>-122.355847</td>\n",
       "      <td>San Francisco Bay Area, San Francisco, Califor...</td>\n",
       "      <td>California</td>\n",
       "    </tr>\n",
       "    <tr>\n",
       "      <th>5556</th>\n",
       "      <td>Vain</td>\n",
       "      <td>United States</td>\n",
       "      <td>San Francisco Bay Area</td>\n",
       "      <td>37.788497</td>\n",
       "      <td>-122.355847</td>\n",
       "      <td>San Francisco Bay Area, San Francisco, Califor...</td>\n",
       "      <td>California</td>\n",
       "    </tr>\n",
       "    <tr>\n",
       "      <th>5557</th>\n",
       "      <td>Death Angel</td>\n",
       "      <td>United States</td>\n",
       "      <td>San Francisco Bay Area</td>\n",
       "      <td>37.788497</td>\n",
       "      <td>-122.355847</td>\n",
       "      <td>San Francisco Bay Area, San Francisco, Califor...</td>\n",
       "      <td>California</td>\n",
       "    </tr>\n",
       "  </tbody>\n",
       "</table>\n",
       "<p>128 rows × 7 columns</p>\n",
       "</div>"
      ],
      "text/plain": [
       "                  artist        country                    city   latitude  \\\n",
       "4541        Erase Errata  United States   Oakland/San Francisco  37.799388   \n",
       "5431  Jefferson Starship  United States           San Francisco  37.779259   \n",
       "5432       4 Non Blondes  United States           San Francisco  37.779259   \n",
       "5433     Secret Chiefs 3  United States           San Francisco  37.779259   \n",
       "5434    The Organization  United States           San Francisco  37.779259   \n",
       "...                  ...            ...                     ...        ...   \n",
       "5553      Vicious Rumors  United States  San Francisco Bay Area  37.788497   \n",
       "5554           Forbidden  United States  San Francisco Bay Area  37.788497   \n",
       "5555           Vio-Lence  United States  San Francisco Bay Area  37.788497   \n",
       "5556                Vain  United States  San Francisco Bay Area  37.788497   \n",
       "5557         Death Angel  United States  San Francisco Bay Area  37.788497   \n",
       "\n",
       "       longitude                                            address  \\\n",
       "4541 -122.376576  San Francisco–Oakland Bay Bridge West Span, Tr...   \n",
       "5431 -122.419329           San Francisco, California, United States   \n",
       "5432 -122.419329           San Francisco, California, United States   \n",
       "5433 -122.419329           San Francisco, California, United States   \n",
       "5434 -122.419329           San Francisco, California, United States   \n",
       "...          ...                                                ...   \n",
       "5553 -122.355847  San Francisco Bay Area, San Francisco, Califor...   \n",
       "5554 -122.355847  San Francisco Bay Area, San Francisco, Califor...   \n",
       "5555 -122.355847  San Francisco Bay Area, San Francisco, Califor...   \n",
       "5556 -122.355847  San Francisco Bay Area, San Francisco, Califor...   \n",
       "5557 -122.355847  San Francisco Bay Area, San Francisco, Califor...   \n",
       "\n",
       "           state  \n",
       "4541  California  \n",
       "5431  California  \n",
       "5432  California  \n",
       "5433  California  \n",
       "5434  California  \n",
       "...          ...  \n",
       "5553  California  \n",
       "5554  California  \n",
       "5555  California  \n",
       "5556  California  \n",
       "5557  California  \n",
       "\n",
       "[128 rows x 7 columns]"
      ]
     },
     "execution_count": 297,
     "metadata": {},
     "output_type": "execute_result"
    }
   ],
   "source": [
    "df_artists_us[df_artists_us['city'].str.contains('Franci')]"
   ]
  },
  {
   "cell_type": "markdown",
   "metadata": {},
   "source": [
    "## **Concat of both countries**"
   ]
  },
  {
   "cell_type": "code",
   "execution_count": 281,
   "metadata": {},
   "outputs": [
    {
     "data": {
      "text/html": [
       "<div>\n",
       "<style scoped>\n",
       "    .dataframe tbody tr th:only-of-type {\n",
       "        vertical-align: middle;\n",
       "    }\n",
       "\n",
       "    .dataframe tbody tr th {\n",
       "        vertical-align: top;\n",
       "    }\n",
       "\n",
       "    .dataframe thead th {\n",
       "        text-align: right;\n",
       "    }\n",
       "</style>\n",
       "<table border=\"1\" class=\"dataframe\">\n",
       "  <thead>\n",
       "    <tr style=\"text-align: right;\">\n",
       "      <th></th>\n",
       "      <th>artist</th>\n",
       "      <th>country</th>\n",
       "      <th>city</th>\n",
       "      <th>latitude</th>\n",
       "      <th>longitude</th>\n",
       "      <th>address</th>\n",
       "      <th>state</th>\n",
       "    </tr>\n",
       "  </thead>\n",
       "  <tbody>\n",
       "    <tr>\n",
       "      <th>10</th>\n",
       "      <td>Nirvana</td>\n",
       "      <td>United States</td>\n",
       "      <td>Aberdeen</td>\n",
       "      <td>46.975371</td>\n",
       "      <td>-123.815722</td>\n",
       "      <td>Aberdeen, Grays Harbor County, Washington, 985...</td>\n",
       "      <td>Washington</td>\n",
       "    </tr>\n",
       "    <tr>\n",
       "      <th>18</th>\n",
       "      <td>Close Your Eyes</td>\n",
       "      <td>United States</td>\n",
       "      <td>Abilene</td>\n",
       "      <td>32.446450</td>\n",
       "      <td>-99.747591</td>\n",
       "      <td>Abilene, Taylor County, Texas, United States</td>\n",
       "      <td>Texas</td>\n",
       "    </tr>\n",
       "    <tr>\n",
       "      <th>19</th>\n",
       "      <td>Micah P. Hinson</td>\n",
       "      <td>United States</td>\n",
       "      <td>Abilene</td>\n",
       "      <td>32.446450</td>\n",
       "      <td>-99.747591</td>\n",
       "      <td>Abilene, Taylor County, Texas, United States</td>\n",
       "      <td>Texas</td>\n",
       "    </tr>\n",
       "    <tr>\n",
       "      <th>21</th>\n",
       "      <td>A Loss For Words</td>\n",
       "      <td>United States</td>\n",
       "      <td>Abington</td>\n",
       "      <td>42.104823</td>\n",
       "      <td>-70.945322</td>\n",
       "      <td>Abington, Plymouth County, Massachusetts, 0235...</td>\n",
       "      <td>Massachusetts</td>\n",
       "    </tr>\n",
       "    <tr>\n",
       "      <th>23</th>\n",
       "      <td>Pretty Boy Floyd</td>\n",
       "      <td>United States</td>\n",
       "      <td>Adairsville</td>\n",
       "      <td>34.368327</td>\n",
       "      <td>-84.934906</td>\n",
       "      <td>Adairsville, Bartow County, Georgia, 30103, Un...</td>\n",
       "      <td>Georgia</td>\n",
       "    </tr>\n",
       "    <tr>\n",
       "      <th>...</th>\n",
       "      <td>...</td>\n",
       "      <td>...</td>\n",
       "      <td>...</td>\n",
       "      <td>...</td>\n",
       "      <td>...</td>\n",
       "      <td>...</td>\n",
       "      <td>...</td>\n",
       "    </tr>\n",
       "    <tr>\n",
       "      <th>6684</th>\n",
       "      <td>Asking Alexandria</td>\n",
       "      <td>United Kingdom</td>\n",
       "      <td>York</td>\n",
       "      <td>53.959055</td>\n",
       "      <td>-1.081536</td>\n",
       "      <td>York, York and North Yorkshire, England, YO1 8...</td>\n",
       "      <td>England</td>\n",
       "    </tr>\n",
       "    <tr>\n",
       "      <th>6686</th>\n",
       "      <td>The Seahorses</td>\n",
       "      <td>United Kingdom</td>\n",
       "      <td>York</td>\n",
       "      <td>53.965658</td>\n",
       "      <td>-1.074305</td>\n",
       "      <td>York, York and North Yorkshire, England, Unite...</td>\n",
       "      <td>York and North Yorkshire</td>\n",
       "    </tr>\n",
       "    <tr>\n",
       "      <th>6687</th>\n",
       "      <td>Shed Seven</td>\n",
       "      <td>United Kingdom</td>\n",
       "      <td>York</td>\n",
       "      <td>53.965658</td>\n",
       "      <td>-1.074305</td>\n",
       "      <td>York, York and North Yorkshire, England, Unite...</td>\n",
       "      <td>York and North Yorkshire</td>\n",
       "    </tr>\n",
       "    <tr>\n",
       "      <th>6688</th>\n",
       "      <td>A Forest of Stars</td>\n",
       "      <td>United Kingdom</td>\n",
       "      <td>Yorkshire</td>\n",
       "      <td>53.982527</td>\n",
       "      <td>-1.385250</td>\n",
       "      <td>Yorkshire, England, United Kingdom</td>\n",
       "      <td>Yorkshire</td>\n",
       "    </tr>\n",
       "    <tr>\n",
       "      <th>6703</th>\n",
       "      <td>No Devotion</td>\n",
       "      <td>United Kingdom</td>\n",
       "      <td>Pontypridd</td>\n",
       "      <td>51.600105</td>\n",
       "      <td>-3.344936</td>\n",
       "      <td>Pontypridd, Rhondda Cynon Taf, Cymru / Wales, ...</td>\n",
       "      <td>Rhondda Cynon Taf</td>\n",
       "    </tr>\n",
       "  </tbody>\n",
       "</table>\n",
       "<p>5633 rows × 7 columns</p>\n",
       "</div>"
      ],
      "text/plain": [
       "                 artist         country         city   latitude   longitude  \\\n",
       "10              Nirvana   United States     Aberdeen  46.975371 -123.815722   \n",
       "18      Close Your Eyes   United States      Abilene  32.446450  -99.747591   \n",
       "19      Micah P. Hinson   United States      Abilene  32.446450  -99.747591   \n",
       "21     A Loss For Words   United States     Abington  42.104823  -70.945322   \n",
       "23     Pretty Boy Floyd   United States  Adairsville  34.368327  -84.934906   \n",
       "...                 ...             ...          ...        ...         ...   \n",
       "6684  Asking Alexandria  United Kingdom         York  53.959055   -1.081536   \n",
       "6686      The Seahorses  United Kingdom         York  53.965658   -1.074305   \n",
       "6687         Shed Seven  United Kingdom         York  53.965658   -1.074305   \n",
       "6688  A Forest of Stars  United Kingdom    Yorkshire  53.982527   -1.385250   \n",
       "6703        No Devotion  United Kingdom   Pontypridd  51.600105   -3.344936   \n",
       "\n",
       "                                                address  \\\n",
       "10    Aberdeen, Grays Harbor County, Washington, 985...   \n",
       "18         Abilene, Taylor County, Texas, United States   \n",
       "19         Abilene, Taylor County, Texas, United States   \n",
       "21    Abington, Plymouth County, Massachusetts, 0235...   \n",
       "23    Adairsville, Bartow County, Georgia, 30103, Un...   \n",
       "...                                                 ...   \n",
       "6684  York, York and North Yorkshire, England, YO1 8...   \n",
       "6686  York, York and North Yorkshire, England, Unite...   \n",
       "6687  York, York and North Yorkshire, England, Unite...   \n",
       "6688                 Yorkshire, England, United Kingdom   \n",
       "6703  Pontypridd, Rhondda Cynon Taf, Cymru / Wales, ...   \n",
       "\n",
       "                         state  \n",
       "10                  Washington  \n",
       "18                       Texas  \n",
       "19                       Texas  \n",
       "21               Massachusetts  \n",
       "23                     Georgia  \n",
       "...                        ...  \n",
       "6684                   England  \n",
       "6686  York and North Yorkshire  \n",
       "6687  York and North Yorkshire  \n",
       "6688                 Yorkshire  \n",
       "6703         Rhondda Cynon Taf  \n",
       "\n",
       "[5633 rows x 7 columns]"
      ]
     },
     "execution_count": 281,
     "metadata": {},
     "output_type": "execute_result"
    }
   ],
   "source": [
    "df_coordinates_final = pd.concat([df_artists_us, df_artists_uk])\n",
    "df_coordinates_final"
   ]
  },
  {
   "cell_type": "code",
   "execution_count": 282,
   "metadata": {},
   "outputs": [],
   "source": [
    "df_coordinates_final.to_csv('Datasets/df_coordinates_final.csv', index=False)"
   ]
  },
  {
   "cell_type": "markdown",
   "metadata": {},
   "source": [
    "## **Both countries together**"
   ]
  },
  {
   "cell_type": "code",
   "execution_count": 41,
   "metadata": {},
   "outputs": [
    {
     "data": {
      "text/html": [
       "<div>\n",
       "<style scoped>\n",
       "    .dataframe tbody tr th:only-of-type {\n",
       "        vertical-align: middle;\n",
       "    }\n",
       "\n",
       "    .dataframe tbody tr th {\n",
       "        vertical-align: top;\n",
       "    }\n",
       "\n",
       "    .dataframe thead th {\n",
       "        text-align: right;\n",
       "    }\n",
       "</style>\n",
       "<table border=\"1\" class=\"dataframe\">\n",
       "  <thead>\n",
       "    <tr style=\"text-align: right;\">\n",
       "      <th></th>\n",
       "      <th>city</th>\n",
       "      <th>state</th>\n",
       "      <th>country</th>\n",
       "      <th>population</th>\n",
       "    </tr>\n",
       "  </thead>\n",
       "  <tbody>\n",
       "    <tr>\n",
       "      <th>0</th>\n",
       "      <td>London</td>\n",
       "      <td>Greater London</td>\n",
       "      <td>United Kingdom</td>\n",
       "      <td>8825001</td>\n",
       "    </tr>\n",
       "  </tbody>\n",
       "</table>\n",
       "</div>"
      ],
      "text/plain": [
       "     city           state         country  population\n",
       "0  London  Greater London  United Kingdom     8825001"
      ]
     },
     "execution_count": 41,
     "metadata": {},
     "output_type": "execute_result"
    }
   ],
   "source": [
    "df_uk_population = pd.read_csv('Datasets/df_uk_population.csv')\n",
    "df_uk_population.head(1)"
   ]
  },
  {
   "cell_type": "code",
   "execution_count": null,
   "metadata": {},
   "outputs": [
    {
     "data": {
      "text/html": [
       "<div>\n",
       "<style scoped>\n",
       "    .dataframe tbody tr th:only-of-type {\n",
       "        vertical-align: middle;\n",
       "    }\n",
       "\n",
       "    .dataframe tbody tr th {\n",
       "        vertical-align: top;\n",
       "    }\n",
       "\n",
       "    .dataframe thead th {\n",
       "        text-align: right;\n",
       "    }\n",
       "</style>\n",
       "<table border=\"1\" class=\"dataframe\">\n",
       "  <thead>\n",
       "    <tr style=\"text-align: right;\">\n",
       "      <th></th>\n",
       "      <th>city</th>\n",
       "      <th>state</th>\n",
       "      <th>population</th>\n",
       "    </tr>\n",
       "  </thead>\n",
       "  <tbody>\n",
       "    <tr>\n",
       "      <th>0</th>\n",
       "      <td>New York</td>\n",
       "      <td>New York</td>\n",
       "      <td>18713220</td>\n",
       "    </tr>\n",
       "  </tbody>\n",
       "</table>\n",
       "</div>"
      ],
      "text/plain": [
       "       city     state  population\n",
       "0  New York  New York    18713220"
      ]
     },
     "metadata": {},
     "output_type": "display_data"
    }
   ],
   "source": [
    "df_us_population = pd.read_csv('Datasets/df_us_population.csv')\n",
    "df_us_population.head(1)"
   ]
  },
  {
   "cell_type": "code",
   "execution_count": 43,
   "metadata": {},
   "outputs": [
    {
     "data": {
      "text/html": [
       "<div>\n",
       "<style scoped>\n",
       "    .dataframe tbody tr th:only-of-type {\n",
       "        vertical-align: middle;\n",
       "    }\n",
       "\n",
       "    .dataframe tbody tr th {\n",
       "        vertical-align: top;\n",
       "    }\n",
       "\n",
       "    .dataframe thead th {\n",
       "        text-align: right;\n",
       "    }\n",
       "</style>\n",
       "<table border=\"1\" class=\"dataframe\">\n",
       "  <thead>\n",
       "    <tr style=\"text-align: right;\">\n",
       "      <th></th>\n",
       "      <th>city</th>\n",
       "      <th>state</th>\n",
       "      <th>population</th>\n",
       "      <th>country</th>\n",
       "    </tr>\n",
       "  </thead>\n",
       "  <tbody>\n",
       "    <tr>\n",
       "      <th>0</th>\n",
       "      <td>New York</td>\n",
       "      <td>New York</td>\n",
       "      <td>18713220</td>\n",
       "      <td>United States</td>\n",
       "    </tr>\n",
       "  </tbody>\n",
       "</table>\n",
       "</div>"
      ],
      "text/plain": [
       "       city     state  population        country\n",
       "0  New York  New York    18713220  United States"
      ]
     },
     "execution_count": 43,
     "metadata": {},
     "output_type": "execute_result"
    }
   ],
   "source": [
    "df_us_population['country'] = 'United States'\n",
    "df_us_population.head(1)"
   ]
  },
  {
   "cell_type": "code",
   "execution_count": 46,
   "metadata": {},
   "outputs": [
    {
     "data": {
      "text/plain": [
       "(1036, 4)"
      ]
     },
     "execution_count": 46,
     "metadata": {},
     "output_type": "execute_result"
    }
   ],
   "source": [
    "df_population = pd.concat([df_uk_population, df_us_population])\n",
    "df_population.shape"
   ]
  },
  {
   "cell_type": "code",
   "execution_count": 49,
   "metadata": {},
   "outputs": [],
   "source": [
    "df_population.to_csv('Datasets/df_population.csv', index=False)"
   ]
  },
  {
   "cell_type": "code",
   "execution_count": null,
   "metadata": {},
   "outputs": [
    {
     "ename": "NameError",
     "evalue": "name 'df_us_population' is not defined",
     "output_type": "error",
     "traceback": [
      "\u001b[1;31m---------------------------------------------------------------------------\u001b[0m",
      "\u001b[1;31mNameError\u001b[0m                                 Traceback (most recent call last)",
      "Cell \u001b[1;32mIn[25], line 4\u001b[0m\n\u001b[0;32m      1\u001b[0m \u001b[38;5;66;03m# I do the merge with the lower versions, just in case some city doesn't match because of a capital letter\u001b[39;00m\n\u001b[0;32m      2\u001b[0m df_all \u001b[38;5;241m=\u001b[39m pd\u001b[38;5;241m.\u001b[39mmerge(\n\u001b[0;32m      3\u001b[0m     df_coordinates_final\u001b[38;5;241m.\u001b[39massign(city_lower\u001b[38;5;241m=\u001b[39mdf_coordinates_final[\u001b[38;5;124m'\u001b[39m\u001b[38;5;124mcity\u001b[39m\u001b[38;5;124m'\u001b[39m]\u001b[38;5;241m.\u001b[39mstr\u001b[38;5;241m.\u001b[39mlower()\u001b[38;5;241m.\u001b[39mstr\u001b[38;5;241m.\u001b[39mstrip()),\n\u001b[1;32m----> 4\u001b[0m     df_us_population\u001b[38;5;241m.\u001b[39massign(city_lower\u001b[38;5;241m=\u001b[39mdf_us_population[\u001b[38;5;124m'\u001b[39m\u001b[38;5;124mcity\u001b[39m\u001b[38;5;124m'\u001b[39m]\u001b[38;5;241m.\u001b[39mstr\u001b[38;5;241m.\u001b[39mlower()\u001b[38;5;241m.\u001b[39mstr\u001b[38;5;241m.\u001b[39mstrip()), \n\u001b[0;32m      5\u001b[0m     on\u001b[38;5;241m=\u001b[39m[\u001b[38;5;124m'\u001b[39m\u001b[38;5;124mcity_lower\u001b[39m\u001b[38;5;124m'\u001b[39m])\u001b[38;5;241m.\u001b[39mdrop(columns\u001b[38;5;241m=\u001b[39m([\u001b[38;5;124m'\u001b[39m\u001b[38;5;124mcity_x\u001b[39m\u001b[38;5;124m'\u001b[39m, \u001b[38;5;124m'\u001b[39m\u001b[38;5;124mcity_lower\u001b[39m\u001b[38;5;124m'\u001b[39m, \u001b[38;5;124m'\u001b[39m\u001b[38;5;124mlatitude\u001b[39m\u001b[38;5;124m'\u001b[39m, \u001b[38;5;124m'\u001b[39m\u001b[38;5;124mlongitude\u001b[39m\u001b[38;5;124m'\u001b[39m, \u001b[38;5;124m'\u001b[39m\u001b[38;5;124maddress\u001b[39m\u001b[38;5;124m'\u001b[39m, \u001b[38;5;124m'\u001b[39m\u001b[38;5;124mstate_x\u001b[39m\u001b[38;5;124m'\u001b[39m]))\n\u001b[0;32m      6\u001b[0m df_all\n",
      "\u001b[1;31mNameError\u001b[0m: name 'df_us_population' is not defined"
     ]
    }
   ],
   "source": [
    "# I do the merge with the lower versions, just in case some city doesn't match because of a capital letter\n",
    "df_all = pd.merge(\n",
    "    df_coordinates_final.assign(city_lower=df_coordinates_final['city'].str.lower().str.strip()),\n",
    "    df_population.assign(city_lower=df_population['city'].str.lower().str.strip()), \n",
    "    on=['city_lower']).drop(columns=(['city_x', 'city_lower', 'latitude', 'longitude', 'address', 'state_x']))\n",
    "df_all"
   ]
  },
  {
   "cell_type": "markdown",
   "metadata": {},
   "source": [
    "## Looking for cities in the UK that Tableau doesn't recognize"
   ]
  },
  {
   "cell_type": "markdown",
   "metadata": {},
   "source": [
    "For some reason, Tableau doesn't recognize quite a lot of cities in the UK, maybe because I don't have more specific info like the state in the US.\n",
    "\n",
    "Since correcting all of them (around 80) can take a long time, I create a subset to look for the cities with the most releases and correct only these ones in Tableau, in most of the cases introducing manually the coordinates."
   ]
  },
  {
   "cell_type": "code",
   "execution_count": 4,
   "metadata": {},
   "outputs": [
    {
     "data": {
      "text/html": [
       "<div>\n",
       "<style scoped>\n",
       "    .dataframe tbody tr th:only-of-type {\n",
       "        vertical-align: middle;\n",
       "    }\n",
       "\n",
       "    .dataframe tbody tr th {\n",
       "        vertical-align: top;\n",
       "    }\n",
       "\n",
       "    .dataframe thead th {\n",
       "        text-align: right;\n",
       "    }\n",
       "</style>\n",
       "<table border=\"1\" class=\"dataframe\">\n",
       "  <thead>\n",
       "    <tr style=\"text-align: right;\">\n",
       "      <th></th>\n",
       "      <th>year</th>\n",
       "      <th>artist</th>\n",
       "      <th>title</th>\n",
       "      <th>rating</th>\n",
       "      <th>votes</th>\n",
       "      <th>album_length</th>\n",
       "      <th>tracks</th>\n",
       "      <th>avg_song_length</th>\n",
       "      <th>styles</th>\n",
       "    </tr>\n",
       "  </thead>\n",
       "  <tbody>\n",
       "    <tr>\n",
       "      <th>0</th>\n",
       "      <td>1996</td>\n",
       "      <td>Less Than Jake</td>\n",
       "      <td>Losing Streak</td>\n",
       "      <td>3.90</td>\n",
       "      <td>414</td>\n",
       "      <td>37.08</td>\n",
       "      <td>17</td>\n",
       "      <td>2.18</td>\n",
       "      <td>['Ska', 'Punk']</td>\n",
       "    </tr>\n",
       "    <tr>\n",
       "      <th>1</th>\n",
       "      <td>2002</td>\n",
       "      <td>Sparta</td>\n",
       "      <td>Wiretap Scars</td>\n",
       "      <td>3.79</td>\n",
       "      <td>431</td>\n",
       "      <td>47.62</td>\n",
       "      <td>12</td>\n",
       "      <td>3.97</td>\n",
       "      <td>['Indie Rock', 'Alternative Rock']</td>\n",
       "    </tr>\n",
       "    <tr>\n",
       "      <th>2</th>\n",
       "      <td>2003</td>\n",
       "      <td>Muse</td>\n",
       "      <td>Absolution</td>\n",
       "      <td>3.99</td>\n",
       "      <td>4411</td>\n",
       "      <td>52.18</td>\n",
       "      <td>14</td>\n",
       "      <td>3.73</td>\n",
       "      <td>['Alternative Rock']</td>\n",
       "    </tr>\n",
       "    <tr>\n",
       "      <th>3</th>\n",
       "      <td>1999</td>\n",
       "      <td>Muse</td>\n",
       "      <td>Showbiz</td>\n",
       "      <td>3.50</td>\n",
       "      <td>2181</td>\n",
       "      <td>49.65</td>\n",
       "      <td>12</td>\n",
       "      <td>4.14</td>\n",
       "      <td>['Alternative Rock', 'Prog Rock']</td>\n",
       "    </tr>\n",
       "    <tr>\n",
       "      <th>4</th>\n",
       "      <td>2002</td>\n",
       "      <td>Finch</td>\n",
       "      <td>What It Is to Burn</td>\n",
       "      <td>3.69</td>\n",
       "      <td>864</td>\n",
       "      <td>61.18</td>\n",
       "      <td>13</td>\n",
       "      <td>4.71</td>\n",
       "      <td>['Emo', 'Post-Hardcore', 'Alternative Rock']</td>\n",
       "    </tr>\n",
       "  </tbody>\n",
       "</table>\n",
       "</div>"
      ],
      "text/plain": [
       "   year          artist               title  rating  votes  album_length  \\\n",
       "0  1996  Less Than Jake       Losing Streak    3.90    414         37.08   \n",
       "1  2002          Sparta       Wiretap Scars    3.79    431         47.62   \n",
       "2  2003            Muse          Absolution    3.99   4411         52.18   \n",
       "3  1999            Muse             Showbiz    3.50   2181         49.65   \n",
       "4  2002           Finch  What It Is to Burn    3.69    864         61.18   \n",
       "\n",
       "   tracks  avg_song_length                                        styles  \n",
       "0      17             2.18                               ['Ska', 'Punk']  \n",
       "1      12             3.97            ['Indie Rock', 'Alternative Rock']  \n",
       "2      14             3.73                          ['Alternative Rock']  \n",
       "3      12             4.14             ['Alternative Rock', 'Prog Rock']  \n",
       "4      13             4.71  ['Emo', 'Post-Hardcore', 'Alternative Rock']  "
      ]
     },
     "execution_count": 4,
     "metadata": {},
     "output_type": "execute_result"
    }
   ],
   "source": [
    "df_ratings = pd.read_csv('Datasets/df_ratings.csv')\n",
    "df_ratings.head()"
   ]
  },
  {
   "cell_type": "code",
   "execution_count": 5,
   "metadata": {},
   "outputs": [
    {
     "data": {
      "text/html": [
       "<div>\n",
       "<style scoped>\n",
       "    .dataframe tbody tr th:only-of-type {\n",
       "        vertical-align: middle;\n",
       "    }\n",
       "\n",
       "    .dataframe tbody tr th {\n",
       "        vertical-align: top;\n",
       "    }\n",
       "\n",
       "    .dataframe thead th {\n",
       "        text-align: right;\n",
       "    }\n",
       "</style>\n",
       "<table border=\"1\" class=\"dataframe\">\n",
       "  <thead>\n",
       "    <tr style=\"text-align: right;\">\n",
       "      <th></th>\n",
       "      <th>artist</th>\n",
       "      <th>country</th>\n",
       "      <th>city</th>\n",
       "      <th>latitude</th>\n",
       "      <th>longitude</th>\n",
       "      <th>address</th>\n",
       "    </tr>\n",
       "  </thead>\n",
       "  <tbody>\n",
       "    <tr>\n",
       "      <th>5930</th>\n",
       "      <td>Billy Idol</td>\n",
       "      <td>United Kingdom</td>\n",
       "      <td>Stanmore</td>\n",
       "      <td>51.618853</td>\n",
       "      <td>-0.302627</td>\n",
       "      <td>Stanmore, London Road, Stanmore, London Boroug...</td>\n",
       "    </tr>\n",
       "  </tbody>\n",
       "</table>\n",
       "</div>"
      ],
      "text/plain": [
       "          artist         country      city   latitude  longitude  \\\n",
       "5930  Billy Idol  United Kingdom  Stanmore  51.618853  -0.302627   \n",
       "\n",
       "                                                address  \n",
       "5930  Stanmore, London Road, Stanmore, London Boroug...  "
      ]
     },
     "execution_count": 5,
     "metadata": {},
     "output_type": "execute_result"
    }
   ],
   "source": [
    "df_artists_origins_coordinates[df_artists_origins_coordinates['city']=='Stanmore']"
   ]
  },
  {
   "cell_type": "code",
   "execution_count": 102,
   "metadata": {},
   "outputs": [
    {
     "data": {
      "text/html": [
       "<div>\n",
       "<style scoped>\n",
       "    .dataframe tbody tr th:only-of-type {\n",
       "        vertical-align: middle;\n",
       "    }\n",
       "\n",
       "    .dataframe tbody tr th {\n",
       "        vertical-align: top;\n",
       "    }\n",
       "\n",
       "    .dataframe thead th {\n",
       "        text-align: right;\n",
       "    }\n",
       "</style>\n",
       "<table border=\"1\" class=\"dataframe\">\n",
       "  <thead>\n",
       "    <tr style=\"text-align: right;\">\n",
       "      <th></th>\n",
       "      <th>year</th>\n",
       "      <th>artist</th>\n",
       "      <th>title</th>\n",
       "      <th>rating</th>\n",
       "      <th>votes</th>\n",
       "      <th>album_length</th>\n",
       "      <th>tracks</th>\n",
       "      <th>avg_song_length</th>\n",
       "      <th>styles</th>\n",
       "      <th>country</th>\n",
       "      <th>city</th>\n",
       "      <th>latitude</th>\n",
       "      <th>longitude</th>\n",
       "      <th>address</th>\n",
       "    </tr>\n",
       "  </thead>\n",
       "  <tbody>\n",
       "    <tr>\n",
       "      <th>2</th>\n",
       "      <td>2003</td>\n",
       "      <td>Muse</td>\n",
       "      <td>Absolution</td>\n",
       "      <td>3.99</td>\n",
       "      <td>4411</td>\n",
       "      <td>52.18</td>\n",
       "      <td>14</td>\n",
       "      <td>3.73</td>\n",
       "      <td>['Alternative Rock']</td>\n",
       "      <td>United Kingdom</td>\n",
       "      <td>Teignmouth</td>\n",
       "      <td>50.546338</td>\n",
       "      <td>-3.49578</td>\n",
       "      <td>Teignmouth, Teignbridge, Devon, England, Unite...</td>\n",
       "    </tr>\n",
       "  </tbody>\n",
       "</table>\n",
       "</div>"
      ],
      "text/plain": [
       "   year artist       title  rating  votes  album_length  tracks  \\\n",
       "2  2003   Muse  Absolution    3.99   4411         52.18      14   \n",
       "\n",
       "   avg_song_length                styles         country        city  \\\n",
       "2             3.73  ['Alternative Rock']  United Kingdom  Teignmouth   \n",
       "\n",
       "    latitude  longitude                                            address  \n",
       "2  50.546338   -3.49578  Teignmouth, Teignbridge, Devon, England, Unite...  "
      ]
     },
     "execution_count": 102,
     "metadata": {},
     "output_type": "execute_result"
    }
   ],
   "source": [
    "df_country = pd.merge(df_ratings, df_artists_origins_coordinates, on='artist')\n",
    "df_country_uk = df_country[df_country['country']=='United Kingdom']\n",
    "df_country_uk.head(1)"
   ]
  },
  {
   "cell_type": "code",
   "execution_count": 103,
   "metadata": {},
   "outputs": [
    {
     "data": {
      "text/plain": [
       "(11065, 14)"
      ]
     },
     "execution_count": 103,
     "metadata": {},
     "output_type": "execute_result"
    }
   ],
   "source": [
    "df_country.shape"
   ]
  },
  {
   "cell_type": "code",
   "execution_count": 11,
   "metadata": {},
   "outputs": [
    {
     "data": {
      "text/plain": [
       "artist\n",
       "Sting    9\n",
       "Name: count, dtype: int64"
      ]
     },
     "execution_count": 11,
     "metadata": {},
     "output_type": "execute_result"
    }
   ],
   "source": [
    "df_country_uk[df_country_uk['city']=='Wallsend']['artist'].value_counts()"
   ]
  },
  {
   "cell_type": "code",
   "execution_count": 12,
   "metadata": {},
   "outputs": [
    {
     "data": {
      "text/plain": [
       "city\n",
       "London                 832\n",
       "Birmingham             136\n",
       "Liverpool               87\n",
       "Glasgow                 64\n",
       "Manchester              60\n",
       "Newcastle upon Tyne     41\n",
       "Sheffield               40\n",
       "Nottingham              34\n",
       "Cardiff                 33\n",
       "Leeds                   32\n",
       "Belfast                 32\n",
       "Bradford                31\n",
       "Pinner                  27\n",
       "Reading                 25\n",
       "Blackpool               24\n",
       "Hemel Hempstead         23\n",
       "Canterbury              23\n",
       "Oxford                  21\n",
       "Brighton                21\n",
       "Bristol                 21\n",
       "Guildford               21\n",
       "Coventry                20\n",
       "Edinburgh               20\n",
       "Barnsley                20\n",
       "Prestwich               19\n",
       "Dunfermline             19\n",
       "Southampton             18\n",
       "Ripley                  18\n",
       "Ladbroke Grove          16\n",
       "Aylesbury               16\n",
       "Somerset                15\n",
       "Salford                 15\n",
       "Swindon                 15\n",
       "Crawley                 15\n",
       "Notting Hill            14\n",
       "Wolverhampton           14\n",
       "Southend-on-Sea         14\n",
       "Rugby                   14\n",
       "Cambridge               13\n",
       "Godalming               13\n",
       "Marston Green           13\n",
       "Meriden                 13\n",
       "Newport                 12\n",
       "Torquay                 12\n",
       "Larne                   12\n",
       "Halifax                 12\n",
       "Halesowen               11\n",
       "Leicester               11\n",
       "Newcastle               11\n",
       "Wallington              11\n",
       "Suffolk                 10\n",
       "Stoke-on-Trent          10\n",
       "Stourbridge             10\n",
       "Dundee                  10\n",
       "Davyhulme               10\n",
       "Blackwood               10\n",
       "St Albans                9\n",
       "Hereford                 9\n",
       "Wallsend                 9\n",
       "Bath                     9\n",
       "Name: count, dtype: int64"
      ]
     },
     "execution_count": 12,
     "metadata": {},
     "output_type": "execute_result"
    }
   ],
   "source": [
    "df_country_uk['city'].value_counts().head(60)"
   ]
  },
  {
   "cell_type": "code",
   "execution_count": 13,
   "metadata": {},
   "outputs": [
    {
     "data": {
      "text/plain": [
       "(2833, 14)"
      ]
     },
     "execution_count": 13,
     "metadata": {},
     "output_type": "execute_result"
    }
   ],
   "source": [
    "df_country_uk.shape"
   ]
  },
  {
   "cell_type": "code",
   "execution_count": 14,
   "metadata": {},
   "outputs": [
    {
     "data": {
      "text/plain": [
       "(11064, 14)"
      ]
     },
     "execution_count": 14,
     "metadata": {},
     "output_type": "execute_result"
    }
   ],
   "source": [
    "df_country.shape"
   ]
  },
  {
   "cell_type": "code",
   "execution_count": 104,
   "metadata": {},
   "outputs": [],
   "source": [
    "df_country.to_csv('Datasets/df_country.csv', index=False)"
   ]
  },
  {
   "cell_type": "code",
   "execution_count": 105,
   "metadata": {},
   "outputs": [
    {
     "data": {
      "text/plain": [
       "(11065, 2)"
      ]
     },
     "execution_count": 105,
     "metadata": {},
     "output_type": "execute_result"
    }
   ],
   "source": [
    "df_artist_countries = df_country[['artist', 'country']]\n",
    "df_artist_countries.shape"
   ]
  },
  {
   "cell_type": "code",
   "execution_count": 106,
   "metadata": {},
   "outputs": [],
   "source": [
    "df_artist_countries.to_csv('Datasets/df_artist_countries.csv', index=False)"
   ]
  },
  {
   "cell_type": "code",
   "execution_count": 61,
   "metadata": {},
   "outputs": [
    {
     "data": {
      "text/plain": [
       "3995"
      ]
     },
     "execution_count": 61,
     "metadata": {},
     "output_type": "execute_result"
    }
   ],
   "source": [
    "df_final['artist'].nunique()"
   ]
  },
  {
   "cell_type": "code",
   "execution_count": 63,
   "metadata": {},
   "outputs": [
    {
     "data": {
      "text/html": [
       "<div>\n",
       "<style scoped>\n",
       "    .dataframe tbody tr th:only-of-type {\n",
       "        vertical-align: middle;\n",
       "    }\n",
       "\n",
       "    .dataframe tbody tr th {\n",
       "        vertical-align: top;\n",
       "    }\n",
       "\n",
       "    .dataframe thead th {\n",
       "        text-align: right;\n",
       "    }\n",
       "</style>\n",
       "<table border=\"1\" class=\"dataframe\">\n",
       "  <thead>\n",
       "    <tr style=\"text-align: right;\">\n",
       "      <th></th>\n",
       "      <th>artist</th>\n",
       "      <th>country</th>\n",
       "    </tr>\n",
       "  </thead>\n",
       "  <tbody>\n",
       "    <tr>\n",
       "      <th>0</th>\n",
       "      <td>Less Than Jake</td>\n",
       "      <td>United States</td>\n",
       "    </tr>\n",
       "    <tr>\n",
       "      <th>1</th>\n",
       "      <td>Sparta</td>\n",
       "      <td>United States</td>\n",
       "    </tr>\n",
       "    <tr>\n",
       "      <th>2</th>\n",
       "      <td>Muse</td>\n",
       "      <td>United Kingdom</td>\n",
       "    </tr>\n",
       "    <tr>\n",
       "      <th>3</th>\n",
       "      <td>Muse</td>\n",
       "      <td>United Kingdom</td>\n",
       "    </tr>\n",
       "    <tr>\n",
       "      <th>4</th>\n",
       "      <td>Finch</td>\n",
       "      <td>United States</td>\n",
       "    </tr>\n",
       "  </tbody>\n",
       "</table>\n",
       "</div>"
      ],
      "text/plain": [
       "           artist         country\n",
       "0  Less Than Jake   United States\n",
       "1          Sparta   United States\n",
       "2            Muse  United Kingdom\n",
       "3            Muse  United Kingdom\n",
       "4           Finch   United States"
      ]
     },
     "execution_count": 63,
     "metadata": {},
     "output_type": "execute_result"
    }
   ],
   "source": [
    "df_artist_countries.head()"
   ]
  },
  {
   "cell_type": "code",
   "execution_count": 68,
   "metadata": {},
   "outputs": [
    {
     "data": {
      "text/plain": [
       "(11064, 2)"
      ]
     },
     "execution_count": 68,
     "metadata": {},
     "output_type": "execute_result"
    }
   ],
   "source": [
    "df_artist_countries.shape"
   ]
  },
  {
   "cell_type": "code",
   "execution_count": 65,
   "metadata": {},
   "outputs": [
    {
     "data": {
      "text/plain": [
       "4135"
      ]
     },
     "execution_count": 65,
     "metadata": {},
     "output_type": "execute_result"
    }
   ],
   "source": [
    "df_artist_countries['artist'].nunique()"
   ]
  },
  {
   "cell_type": "code",
   "execution_count": 70,
   "metadata": {},
   "outputs": [
    {
     "data": {
      "text/plain": [
       "artist\n",
       "Elton John            27\n",
       "Alice Cooper          25\n",
       "The Rolling Stones    24\n",
       "Bob Dylan             23\n",
       "The Beach Boys        22\n",
       "Name: count, dtype: int64"
      ]
     },
     "execution_count": 70,
     "metadata": {},
     "output_type": "execute_result"
    }
   ],
   "source": [
    "df_artist_countries['artist'].value_counts().head()"
   ]
  },
  {
   "cell_type": "markdown",
   "metadata": {},
   "source": [
    "# **``state_population``**"
   ]
  },
  {
   "cell_type": "markdown",
   "metadata": {},
   "source": [
    "It's not really interesting if I analyze the cities with the most releases, because it's gonna be obviously the biggest cities."
   ]
  },
  {
   "cell_type": "code",
   "execution_count": 112,
   "metadata": {},
   "outputs": [
    {
     "data": {
      "text/html": [
       "<div>\n",
       "<style scoped>\n",
       "    .dataframe tbody tr th:only-of-type {\n",
       "        vertical-align: middle;\n",
       "    }\n",
       "\n",
       "    .dataframe tbody tr th {\n",
       "        vertical-align: top;\n",
       "    }\n",
       "\n",
       "    .dataframe thead th {\n",
       "        text-align: right;\n",
       "    }\n",
       "</style>\n",
       "<table border=\"1\" class=\"dataframe\">\n",
       "  <thead>\n",
       "    <tr style=\"text-align: right;\">\n",
       "      <th></th>\n",
       "      <th>year</th>\n",
       "      <th>artist</th>\n",
       "      <th>title</th>\n",
       "      <th>rating</th>\n",
       "      <th>votes</th>\n",
       "      <th>album_length</th>\n",
       "      <th>tracks</th>\n",
       "      <th>avg_song_length</th>\n",
       "      <th>styles</th>\n",
       "    </tr>\n",
       "  </thead>\n",
       "  <tbody>\n",
       "    <tr>\n",
       "      <th>0</th>\n",
       "      <td>1996</td>\n",
       "      <td>Less Than Jake</td>\n",
       "      <td>Losing Streak</td>\n",
       "      <td>3.9</td>\n",
       "      <td>414</td>\n",
       "      <td>37.08</td>\n",
       "      <td>17</td>\n",
       "      <td>2.18</td>\n",
       "      <td>['Ska', 'Punk']</td>\n",
       "    </tr>\n",
       "  </tbody>\n",
       "</table>\n",
       "</div>"
      ],
      "text/plain": [
       "   year          artist          title  rating  votes  album_length  tracks  \\\n",
       "0  1996  Less Than Jake  Losing Streak     3.9    414         37.08      17   \n",
       "\n",
       "   avg_song_length           styles  \n",
       "0             2.18  ['Ska', 'Punk']  "
      ]
     },
     "execution_count": 112,
     "metadata": {},
     "output_type": "execute_result"
    }
   ],
   "source": [
    "df_ratings = pd.read_csv('Datasets/df_ratings.csv')\n",
    "df_ratings.head(1)"
   ]
  },
  {
   "cell_type": "code",
   "execution_count": 114,
   "metadata": {},
   "outputs": [
    {
     "data": {
      "text/html": [
       "<div>\n",
       "<style scoped>\n",
       "    .dataframe tbody tr th:only-of-type {\n",
       "        vertical-align: middle;\n",
       "    }\n",
       "\n",
       "    .dataframe tbody tr th {\n",
       "        vertical-align: top;\n",
       "    }\n",
       "\n",
       "    .dataframe thead th {\n",
       "        text-align: right;\n",
       "    }\n",
       "</style>\n",
       "<table border=\"1\" class=\"dataframe\">\n",
       "  <thead>\n",
       "    <tr style=\"text-align: right;\">\n",
       "      <th></th>\n",
       "      <th>artist</th>\n",
       "      <th>country</th>\n",
       "      <th>city</th>\n",
       "      <th>latitude</th>\n",
       "      <th>longitude</th>\n",
       "      <th>address</th>\n",
       "      <th>state</th>\n",
       "    </tr>\n",
       "  </thead>\n",
       "  <tbody>\n",
       "    <tr>\n",
       "      <th>0</th>\n",
       "      <td>Annie Lennox</td>\n",
       "      <td>United Kingdom</td>\n",
       "      <td>Aberdeen</td>\n",
       "      <td>57.148243</td>\n",
       "      <td>-2.092809</td>\n",
       "      <td>Aberdeen City, Alba / Scotland, United Kingdom</td>\n",
       "      <td>Aberdeen City</td>\n",
       "    </tr>\n",
       "    <tr>\n",
       "      <th>1</th>\n",
       "      <td>Pallas</td>\n",
       "      <td>United Kingdom</td>\n",
       "      <td>Aberdeen</td>\n",
       "      <td>57.148243</td>\n",
       "      <td>-2.092809</td>\n",
       "      <td>Aberdeen City, Alba / Scotland, United Kingdom</td>\n",
       "      <td>Aberdeen City</td>\n",
       "    </tr>\n",
       "    <tr>\n",
       "      <th>2</th>\n",
       "      <td>The Xcerts</td>\n",
       "      <td>United Kingdom</td>\n",
       "      <td>Aberdeen</td>\n",
       "      <td>57.148243</td>\n",
       "      <td>-2.092809</td>\n",
       "      <td>Aberdeen City, Alba / Scotland, United Kingdom</td>\n",
       "      <td>Aberdeen City</td>\n",
       "    </tr>\n",
       "    <tr>\n",
       "      <th>3</th>\n",
       "      <td>Jesu</td>\n",
       "      <td>United Kingdom</td>\n",
       "      <td>Abergele</td>\n",
       "      <td>53.284069</td>\n",
       "      <td>-3.581065</td>\n",
       "      <td>Abergele, Conwy, Cymru / Wales, LL22 7BE, Unit...</td>\n",
       "      <td>Cymru / Wales</td>\n",
       "    </tr>\n",
       "    <tr>\n",
       "      <th>4</th>\n",
       "      <td>Warpath</td>\n",
       "      <td>United Kingdom</td>\n",
       "      <td>Abertawe</td>\n",
       "      <td>51.619596</td>\n",
       "      <td>-3.945925</td>\n",
       "      <td>Swansea, Cymru / Wales, SA1 3BN, United Kingdom</td>\n",
       "      <td>Cymru / Wales</td>\n",
       "    </tr>\n",
       "  </tbody>\n",
       "</table>\n",
       "</div>"
      ],
      "text/plain": [
       "         artist         country      city   latitude  longitude  \\\n",
       "0  Annie Lennox  United Kingdom  Aberdeen  57.148243  -2.092809   \n",
       "1        Pallas  United Kingdom  Aberdeen  57.148243  -2.092809   \n",
       "2    The Xcerts  United Kingdom  Aberdeen  57.148243  -2.092809   \n",
       "3          Jesu  United Kingdom  Abergele  53.284069  -3.581065   \n",
       "4       Warpath  United Kingdom  Abertawe  51.619596  -3.945925   \n",
       "\n",
       "                                             address          state  \n",
       "0     Aberdeen City, Alba / Scotland, United Kingdom  Aberdeen City  \n",
       "1     Aberdeen City, Alba / Scotland, United Kingdom  Aberdeen City  \n",
       "2     Aberdeen City, Alba / Scotland, United Kingdom  Aberdeen City  \n",
       "3  Abergele, Conwy, Cymru / Wales, LL22 7BE, Unit...  Cymru / Wales  \n",
       "4    Swansea, Cymru / Wales, SA1 3BN, United Kingdom  Cymru / Wales  "
      ]
     },
     "execution_count": 114,
     "metadata": {},
     "output_type": "execute_result"
    }
   ],
   "source": [
    "df_coordinates_final.head()"
   ]
  },
  {
   "cell_type": "code",
   "execution_count": null,
   "metadata": {},
   "outputs": [
    {
     "data": {
      "text/plain": [
       "country         city         \n",
       "United Kingdom  London           832\n",
       "United States   Los Angeles      687\n",
       "                New York City    450\n",
       "                Chicago          281\n",
       "                San Francisco    243\n",
       "                Seattle          218\n",
       "                Boston           216\n",
       "United Kingdom  Birmingham       136\n",
       "United States   San Diego        125\n",
       "                Brooklyn         112\n",
       "Name: count, dtype: int64"
      ]
     },
     "metadata": {},
     "output_type": "display_data"
    }
   ],
   "source": [
    "pd.merge(df_coordinates_final, df_ratings, on='artist')[['country', 'city']].value_counts().head(10)"
   ]
  },
  {
   "cell_type": "markdown",
   "metadata": {},
   "source": [
    "So I'm going to get the **population of the cities** so I can compare the amount of releases in relation to the size of the city, to discover musical hubs.\n",
    "\n",
    "This time I'm not gonna scrape the data, I'm just going to get it from **Kaggle**."
   ]
  },
  {
   "cell_type": "markdown",
   "metadata": {},
   "source": [
    "## **Kaggle dataset with cities population**"
   ]
  },
  {
   "cell_type": "code",
   "execution_count": 80,
   "metadata": {},
   "outputs": [
    {
     "data": {
      "text/plain": [
       "(28338, 17)"
      ]
     },
     "execution_count": 80,
     "metadata": {},
     "output_type": "execute_result"
    }
   ],
   "source": [
    "# dataset from Kaggle\n",
    "uscities_kaggle = pd.read_csv('Datasets/uscities.csv')\n",
    "uscities_kaggle.shape"
   ]
  },
  {
   "cell_type": "code",
   "execution_count": 141,
   "metadata": {},
   "outputs": [
    {
     "data": {
      "text/html": [
       "<div>\n",
       "<style scoped>\n",
       "    .dataframe tbody tr th:only-of-type {\n",
       "        vertical-align: middle;\n",
       "    }\n",
       "\n",
       "    .dataframe tbody tr th {\n",
       "        vertical-align: top;\n",
       "    }\n",
       "\n",
       "    .dataframe thead th {\n",
       "        text-align: right;\n",
       "    }\n",
       "</style>\n",
       "<table border=\"1\" class=\"dataframe\">\n",
       "  <thead>\n",
       "    <tr style=\"text-align: right;\">\n",
       "      <th></th>\n",
       "      <th>city</th>\n",
       "      <th>city_ascii</th>\n",
       "      <th>state_id</th>\n",
       "      <th>state_name</th>\n",
       "      <th>county_fips</th>\n",
       "      <th>county_name</th>\n",
       "      <th>lat</th>\n",
       "      <th>lng</th>\n",
       "      <th>population</th>\n",
       "      <th>density</th>\n",
       "      <th>source</th>\n",
       "      <th>military</th>\n",
       "      <th>incorporated</th>\n",
       "      <th>timezone</th>\n",
       "      <th>ranking</th>\n",
       "      <th>zips</th>\n",
       "      <th>id</th>\n",
       "    </tr>\n",
       "  </thead>\n",
       "  <tbody>\n",
       "    <tr>\n",
       "      <th>0</th>\n",
       "      <td>New York</td>\n",
       "      <td>New York</td>\n",
       "      <td>NY</td>\n",
       "      <td>New York</td>\n",
       "      <td>36061</td>\n",
       "      <td>New York</td>\n",
       "      <td>40.6943</td>\n",
       "      <td>-73.9249</td>\n",
       "      <td>18713220</td>\n",
       "      <td>10715</td>\n",
       "      <td>polygon</td>\n",
       "      <td>False</td>\n",
       "      <td>True</td>\n",
       "      <td>America/New_York</td>\n",
       "      <td>1</td>\n",
       "      <td>11229 11226 11225 11224 11222 11221 11220 1138...</td>\n",
       "      <td>1840034016</td>\n",
       "    </tr>\n",
       "    <tr>\n",
       "      <th>1</th>\n",
       "      <td>Los Angeles</td>\n",
       "      <td>Los Angeles</td>\n",
       "      <td>CA</td>\n",
       "      <td>California</td>\n",
       "      <td>6037</td>\n",
       "      <td>Los Angeles</td>\n",
       "      <td>34.1139</td>\n",
       "      <td>-118.4068</td>\n",
       "      <td>12750807</td>\n",
       "      <td>3276</td>\n",
       "      <td>polygon</td>\n",
       "      <td>False</td>\n",
       "      <td>True</td>\n",
       "      <td>America/Los_Angeles</td>\n",
       "      <td>1</td>\n",
       "      <td>90291 90293 90292 91316 91311 90037 90031 9000...</td>\n",
       "      <td>1840020491</td>\n",
       "    </tr>\n",
       "    <tr>\n",
       "      <th>2</th>\n",
       "      <td>Chicago</td>\n",
       "      <td>Chicago</td>\n",
       "      <td>IL</td>\n",
       "      <td>Illinois</td>\n",
       "      <td>17031</td>\n",
       "      <td>Cook</td>\n",
       "      <td>41.8373</td>\n",
       "      <td>-87.6862</td>\n",
       "      <td>8604203</td>\n",
       "      <td>4574</td>\n",
       "      <td>polygon</td>\n",
       "      <td>False</td>\n",
       "      <td>True</td>\n",
       "      <td>America/Chicago</td>\n",
       "      <td>1</td>\n",
       "      <td>60018 60649 60641 60640 60643 60642 60645 6064...</td>\n",
       "      <td>1840000494</td>\n",
       "    </tr>\n",
       "    <tr>\n",
       "      <th>3</th>\n",
       "      <td>Miami</td>\n",
       "      <td>Miami</td>\n",
       "      <td>FL</td>\n",
       "      <td>Florida</td>\n",
       "      <td>12086</td>\n",
       "      <td>Miami-Dade</td>\n",
       "      <td>25.7839</td>\n",
       "      <td>-80.2102</td>\n",
       "      <td>6445545</td>\n",
       "      <td>5019</td>\n",
       "      <td>polygon</td>\n",
       "      <td>False</td>\n",
       "      <td>True</td>\n",
       "      <td>America/New_York</td>\n",
       "      <td>1</td>\n",
       "      <td>33129 33125 33126 33127 33128 33149 33144 3314...</td>\n",
       "      <td>1840015149</td>\n",
       "    </tr>\n",
       "    <tr>\n",
       "      <th>4</th>\n",
       "      <td>Dallas</td>\n",
       "      <td>Dallas</td>\n",
       "      <td>TX</td>\n",
       "      <td>Texas</td>\n",
       "      <td>48113</td>\n",
       "      <td>Dallas</td>\n",
       "      <td>32.7936</td>\n",
       "      <td>-96.7662</td>\n",
       "      <td>5743938</td>\n",
       "      <td>1526</td>\n",
       "      <td>polygon</td>\n",
       "      <td>False</td>\n",
       "      <td>True</td>\n",
       "      <td>America/Chicago</td>\n",
       "      <td>1</td>\n",
       "      <td>75287 75098 75233 75254 75251 75252 75253 7503...</td>\n",
       "      <td>1840019440</td>\n",
       "    </tr>\n",
       "  </tbody>\n",
       "</table>\n",
       "</div>"
      ],
      "text/plain": [
       "          city   city_ascii state_id  state_name  county_fips  county_name  \\\n",
       "0     New York     New York       NY    New York        36061     New York   \n",
       "1  Los Angeles  Los Angeles       CA  California         6037  Los Angeles   \n",
       "2      Chicago      Chicago       IL    Illinois        17031         Cook   \n",
       "3        Miami        Miami       FL     Florida        12086   Miami-Dade   \n",
       "4       Dallas       Dallas       TX       Texas        48113       Dallas   \n",
       "\n",
       "       lat       lng  population  density   source  military  incorporated  \\\n",
       "0  40.6943  -73.9249    18713220    10715  polygon     False          True   \n",
       "1  34.1139 -118.4068    12750807     3276  polygon     False          True   \n",
       "2  41.8373  -87.6862     8604203     4574  polygon     False          True   \n",
       "3  25.7839  -80.2102     6445545     5019  polygon     False          True   \n",
       "4  32.7936  -96.7662     5743938     1526  polygon     False          True   \n",
       "\n",
       "              timezone  ranking  \\\n",
       "0     America/New_York        1   \n",
       "1  America/Los_Angeles        1   \n",
       "2      America/Chicago        1   \n",
       "3     America/New_York        1   \n",
       "4      America/Chicago        1   \n",
       "\n",
       "                                                zips          id  \n",
       "0  11229 11226 11225 11224 11222 11221 11220 1138...  1840034016  \n",
       "1  90291 90293 90292 91316 91311 90037 90031 9000...  1840020491  \n",
       "2  60018 60649 60641 60640 60643 60642 60645 6064...  1840000494  \n",
       "3  33129 33125 33126 33127 33128 33149 33144 3314...  1840015149  \n",
       "4  75287 75098 75233 75254 75251 75252 75253 7503...  1840019440  "
      ]
     },
     "execution_count": 141,
     "metadata": {},
     "output_type": "execute_result"
    }
   ],
   "source": [
    "uscities_kaggle.head()"
   ]
  },
  {
   "cell_type": "code",
   "execution_count": 142,
   "metadata": {},
   "outputs": [
    {
     "data": {
      "text/plain": [
       "(2680, 9)"
      ]
     },
     "execution_count": 142,
     "metadata": {},
     "output_type": "execute_result"
    }
   ],
   "source": [
    "kaggle_uk_cities = pd.read_excel('Datasets/kaggle_uk_cities.xlsx')\n",
    "kaggle_uk_cities.shape"
   ]
  },
  {
   "cell_type": "code",
   "execution_count": 143,
   "metadata": {},
   "outputs": [
    {
     "data": {
      "text/html": [
       "<div>\n",
       "<style scoped>\n",
       "    .dataframe tbody tr th:only-of-type {\n",
       "        vertical-align: middle;\n",
       "    }\n",
       "\n",
       "    .dataframe tbody tr th {\n",
       "        vertical-align: top;\n",
       "    }\n",
       "\n",
       "    .dataframe thead th {\n",
       "        text-align: right;\n",
       "    }\n",
       "</style>\n",
       "<table border=\"1\" class=\"dataframe\">\n",
       "  <thead>\n",
       "    <tr style=\"text-align: right;\">\n",
       "      <th></th>\n",
       "      <th>city</th>\n",
       "      <th>lat</th>\n",
       "      <th>lng</th>\n",
       "      <th>country</th>\n",
       "      <th>iso2</th>\n",
       "      <th>admin_name</th>\n",
       "      <th>capital</th>\n",
       "      <th>population</th>\n",
       "      <th>population_proper</th>\n",
       "    </tr>\n",
       "  </thead>\n",
       "  <tbody>\n",
       "    <tr>\n",
       "      <th>0</th>\n",
       "      <td>London</td>\n",
       "      <td>51.5072</td>\n",
       "      <td>-0.1275</td>\n",
       "      <td>United Kingdom</td>\n",
       "      <td>GB</td>\n",
       "      <td>London, City of</td>\n",
       "      <td>primary</td>\n",
       "      <td>10979000</td>\n",
       "      <td>8825001</td>\n",
       "    </tr>\n",
       "    <tr>\n",
       "      <th>1</th>\n",
       "      <td>Birmingham</td>\n",
       "      <td>52.4800</td>\n",
       "      <td>-1.9025</td>\n",
       "      <td>United Kingdom</td>\n",
       "      <td>GB</td>\n",
       "      <td>Birmingham</td>\n",
       "      <td>NaN</td>\n",
       "      <td>2897303</td>\n",
       "      <td>1137100</td>\n",
       "    </tr>\n",
       "    <tr>\n",
       "      <th>2</th>\n",
       "      <td>Manchester</td>\n",
       "      <td>53.4794</td>\n",
       "      <td>-2.2453</td>\n",
       "      <td>United Kingdom</td>\n",
       "      <td>GB</td>\n",
       "      <td>Manchester</td>\n",
       "      <td>NaN</td>\n",
       "      <td>2705000</td>\n",
       "      <td>547627</td>\n",
       "    </tr>\n",
       "    <tr>\n",
       "      <th>3</th>\n",
       "      <td>Leeds</td>\n",
       "      <td>53.7997</td>\n",
       "      <td>-1.5492</td>\n",
       "      <td>United Kingdom</td>\n",
       "      <td>GB</td>\n",
       "      <td>Leeds</td>\n",
       "      <td>NaN</td>\n",
       "      <td>1901934</td>\n",
       "      <td>789194</td>\n",
       "    </tr>\n",
       "    <tr>\n",
       "      <th>4</th>\n",
       "      <td>Newcastle</td>\n",
       "      <td>55.0077</td>\n",
       "      <td>-1.6578</td>\n",
       "      <td>United Kingdom</td>\n",
       "      <td>GB</td>\n",
       "      <td>Newcastle upon Tyne</td>\n",
       "      <td>NaN</td>\n",
       "      <td>1650000</td>\n",
       "      <td>879996</td>\n",
       "    </tr>\n",
       "  </tbody>\n",
       "</table>\n",
       "</div>"
      ],
      "text/plain": [
       "         city      lat     lng         country iso2           admin_name  \\\n",
       "0      London  51.5072 -0.1275  United Kingdom   GB      London, City of   \n",
       "1  Birmingham  52.4800 -1.9025  United Kingdom   GB           Birmingham   \n",
       "2  Manchester  53.4794 -2.2453  United Kingdom   GB           Manchester   \n",
       "3       Leeds  53.7997 -1.5492  United Kingdom   GB                Leeds   \n",
       "4   Newcastle  55.0077 -1.6578  United Kingdom   GB  Newcastle upon Tyne   \n",
       "\n",
       "   capital  population  population_proper  \n",
       "0  primary    10979000            8825001  \n",
       "1      NaN     2897303            1137100  \n",
       "2      NaN     2705000             547627  \n",
       "3      NaN     1901934             789194  \n",
       "4      NaN     1650000             879996  "
      ]
     },
     "execution_count": 143,
     "metadata": {},
     "output_type": "execute_result"
    }
   ],
   "source": [
    "kaggle_uk_cities.head()"
   ]
  },
  {
   "cell_type": "code",
   "execution_count": 144,
   "metadata": {},
   "outputs": [
    {
     "data": {
      "text/html": [
       "<div>\n",
       "<style scoped>\n",
       "    .dataframe tbody tr th:only-of-type {\n",
       "        vertical-align: middle;\n",
       "    }\n",
       "\n",
       "    .dataframe tbody tr th {\n",
       "        vertical-align: top;\n",
       "    }\n",
       "\n",
       "    .dataframe thead th {\n",
       "        text-align: right;\n",
       "    }\n",
       "</style>\n",
       "<table border=\"1\" class=\"dataframe\">\n",
       "  <thead>\n",
       "    <tr style=\"text-align: right;\">\n",
       "      <th></th>\n",
       "      <th>city</th>\n",
       "      <th>lat</th>\n",
       "      <th>lng</th>\n",
       "      <th>country</th>\n",
       "      <th>iso2</th>\n",
       "      <th>admin_name</th>\n",
       "      <th>capital</th>\n",
       "      <th>population</th>\n",
       "      <th>population_proper</th>\n",
       "    </tr>\n",
       "  </thead>\n",
       "  <tbody>\n",
       "    <tr>\n",
       "      <th>0</th>\n",
       "      <td>London</td>\n",
       "      <td>51.5072</td>\n",
       "      <td>-0.1275</td>\n",
       "      <td>United Kingdom</td>\n",
       "      <td>GB</td>\n",
       "      <td>London, City of</td>\n",
       "      <td>primary</td>\n",
       "      <td>10979000</td>\n",
       "      <td>8825001</td>\n",
       "    </tr>\n",
       "    <tr>\n",
       "      <th>1</th>\n",
       "      <td>Birmingham</td>\n",
       "      <td>52.4800</td>\n",
       "      <td>-1.9025</td>\n",
       "      <td>United Kingdom</td>\n",
       "      <td>GB</td>\n",
       "      <td>Birmingham</td>\n",
       "      <td>NaN</td>\n",
       "      <td>2897303</td>\n",
       "      <td>1137100</td>\n",
       "    </tr>\n",
       "    <tr>\n",
       "      <th>2</th>\n",
       "      <td>Manchester</td>\n",
       "      <td>53.4794</td>\n",
       "      <td>-2.2453</td>\n",
       "      <td>United Kingdom</td>\n",
       "      <td>GB</td>\n",
       "      <td>Manchester</td>\n",
       "      <td>NaN</td>\n",
       "      <td>2705000</td>\n",
       "      <td>547627</td>\n",
       "    </tr>\n",
       "    <tr>\n",
       "      <th>3</th>\n",
       "      <td>Leeds</td>\n",
       "      <td>53.7997</td>\n",
       "      <td>-1.5492</td>\n",
       "      <td>United Kingdom</td>\n",
       "      <td>GB</td>\n",
       "      <td>Leeds</td>\n",
       "      <td>NaN</td>\n",
       "      <td>1901934</td>\n",
       "      <td>789194</td>\n",
       "    </tr>\n",
       "    <tr>\n",
       "      <th>4</th>\n",
       "      <td>Newcastle</td>\n",
       "      <td>55.0077</td>\n",
       "      <td>-1.6578</td>\n",
       "      <td>United Kingdom</td>\n",
       "      <td>GB</td>\n",
       "      <td>Newcastle upon Tyne</td>\n",
       "      <td>NaN</td>\n",
       "      <td>1650000</td>\n",
       "      <td>879996</td>\n",
       "    </tr>\n",
       "    <tr>\n",
       "      <th>...</th>\n",
       "      <td>...</td>\n",
       "      <td>...</td>\n",
       "      <td>...</td>\n",
       "      <td>...</td>\n",
       "      <td>...</td>\n",
       "      <td>...</td>\n",
       "      <td>...</td>\n",
       "      <td>...</td>\n",
       "      <td>...</td>\n",
       "    </tr>\n",
       "    <tr>\n",
       "      <th>2654</th>\n",
       "      <td>Newington</td>\n",
       "      <td>51.3520</td>\n",
       "      <td>0.6679</td>\n",
       "      <td>United Kingdom</td>\n",
       "      <td>GB</td>\n",
       "      <td>Kent</td>\n",
       "      <td>NaN</td>\n",
       "      <td>2551</td>\n",
       "      <td>2551</td>\n",
       "    </tr>\n",
       "    <tr>\n",
       "      <th>2662</th>\n",
       "      <td>Broadway</td>\n",
       "      <td>52.0400</td>\n",
       "      <td>-1.8600</td>\n",
       "      <td>United Kingdom</td>\n",
       "      <td>GB</td>\n",
       "      <td>Worcestershire</td>\n",
       "      <td>NaN</td>\n",
       "      <td>2540</td>\n",
       "      <td>2540</td>\n",
       "    </tr>\n",
       "    <tr>\n",
       "      <th>2670</th>\n",
       "      <td>Moffat</td>\n",
       "      <td>55.3320</td>\n",
       "      <td>-3.4420</td>\n",
       "      <td>United Kingdom</td>\n",
       "      <td>GB</td>\n",
       "      <td>Dumfries and Galloway</td>\n",
       "      <td>NaN</td>\n",
       "      <td>2510</td>\n",
       "      <td>2510</td>\n",
       "    </tr>\n",
       "    <tr>\n",
       "      <th>2671</th>\n",
       "      <td>Stanton</td>\n",
       "      <td>52.3240</td>\n",
       "      <td>0.8850</td>\n",
       "      <td>United Kingdom</td>\n",
       "      <td>GB</td>\n",
       "      <td>Suffolk</td>\n",
       "      <td>NaN</td>\n",
       "      <td>2507</td>\n",
       "      <td>2507</td>\n",
       "    </tr>\n",
       "    <tr>\n",
       "      <th>2679</th>\n",
       "      <td>Broughton</td>\n",
       "      <td>52.0500</td>\n",
       "      <td>-0.6940</td>\n",
       "      <td>United Kingdom</td>\n",
       "      <td>GB</td>\n",
       "      <td>Milton Keynes</td>\n",
       "      <td>NaN</td>\n",
       "      <td>2493</td>\n",
       "      <td>2493</td>\n",
       "    </tr>\n",
       "  </tbody>\n",
       "</table>\n",
       "<p>353 rows × 9 columns</p>\n",
       "</div>"
      ],
      "text/plain": [
       "            city      lat     lng         country iso2             admin_name  \\\n",
       "0         London  51.5072 -0.1275  United Kingdom   GB        London, City of   \n",
       "1     Birmingham  52.4800 -1.9025  United Kingdom   GB             Birmingham   \n",
       "2     Manchester  53.4794 -2.2453  United Kingdom   GB             Manchester   \n",
       "3          Leeds  53.7997 -1.5492  United Kingdom   GB                  Leeds   \n",
       "4      Newcastle  55.0077 -1.6578  United Kingdom   GB    Newcastle upon Tyne   \n",
       "...          ...      ...     ...             ...  ...                    ...   \n",
       "2654   Newington  51.3520  0.6679  United Kingdom   GB                   Kent   \n",
       "2662    Broadway  52.0400 -1.8600  United Kingdom   GB         Worcestershire   \n",
       "2670      Moffat  55.3320 -3.4420  United Kingdom   GB  Dumfries and Galloway   \n",
       "2671     Stanton  52.3240  0.8850  United Kingdom   GB                Suffolk   \n",
       "2679   Broughton  52.0500 -0.6940  United Kingdom   GB          Milton Keynes   \n",
       "\n",
       "      capital  population  population_proper  \n",
       "0     primary    10979000            8825001  \n",
       "1         NaN     2897303            1137100  \n",
       "2         NaN     2705000             547627  \n",
       "3         NaN     1901934             789194  \n",
       "4         NaN     1650000             879996  \n",
       "...       ...         ...                ...  \n",
       "2654      NaN        2551               2551  \n",
       "2662      NaN        2540               2540  \n",
       "2670      NaN        2510               2510  \n",
       "2671      NaN        2507               2507  \n",
       "2679      NaN        2493               2493  \n",
       "\n",
       "[353 rows x 9 columns]"
      ]
     },
     "execution_count": 144,
     "metadata": {},
     "output_type": "execute_result"
    }
   ],
   "source": [
    "kaggle_uk_cities[kaggle_uk_cities['city'].isin(uscities['city'].values)]"
   ]
  },
  {
   "cell_type": "markdown",
   "metadata": {},
   "source": [
    "There are cities in both countries with the same name, I have to be careful"
   ]
  },
  {
   "cell_type": "code",
   "execution_count": 145,
   "metadata": {},
   "outputs": [
    {
     "data": {
      "text/html": [
       "<div>\n",
       "<style scoped>\n",
       "    .dataframe tbody tr th:only-of-type {\n",
       "        vertical-align: middle;\n",
       "    }\n",
       "\n",
       "    .dataframe tbody tr th {\n",
       "        vertical-align: top;\n",
       "    }\n",
       "\n",
       "    .dataframe thead th {\n",
       "        text-align: right;\n",
       "    }\n",
       "</style>\n",
       "<table border=\"1\" class=\"dataframe\">\n",
       "  <thead>\n",
       "    <tr style=\"text-align: right;\">\n",
       "      <th></th>\n",
       "      <th>city</th>\n",
       "      <th>city_ascii</th>\n",
       "      <th>state_id</th>\n",
       "      <th>state_name</th>\n",
       "      <th>county_fips</th>\n",
       "      <th>county_name</th>\n",
       "      <th>lat</th>\n",
       "      <th>lng</th>\n",
       "      <th>population</th>\n",
       "      <th>density</th>\n",
       "      <th>source</th>\n",
       "      <th>military</th>\n",
       "      <th>incorporated</th>\n",
       "      <th>timezone</th>\n",
       "      <th>ranking</th>\n",
       "      <th>zips</th>\n",
       "      <th>id</th>\n",
       "    </tr>\n",
       "  </thead>\n",
       "  <tbody>\n",
       "    <tr>\n",
       "      <th>1299</th>\n",
       "      <td>London</td>\n",
       "      <td>London</td>\n",
       "      <td>KY</td>\n",
       "      <td>Kentucky</td>\n",
       "      <td>21125</td>\n",
       "      <td>Laurel</td>\n",
       "      <td>37.1175</td>\n",
       "      <td>-84.0767</td>\n",
       "      <td>37714</td>\n",
       "      <td>269</td>\n",
       "      <td>polygon</td>\n",
       "      <td>False</td>\n",
       "      <td>True</td>\n",
       "      <td>America/New_York</td>\n",
       "      <td>3</td>\n",
       "      <td>40744 40741</td>\n",
       "      <td>1840015258</td>\n",
       "    </tr>\n",
       "    <tr>\n",
       "      <th>3059</th>\n",
       "      <td>London</td>\n",
       "      <td>London</td>\n",
       "      <td>OH</td>\n",
       "      <td>Ohio</td>\n",
       "      <td>39097</td>\n",
       "      <td>Madison</td>\n",
       "      <td>39.8936</td>\n",
       "      <td>-83.4376</td>\n",
       "      <td>14870</td>\n",
       "      <td>475</td>\n",
       "      <td>polygon</td>\n",
       "      <td>False</td>\n",
       "      <td>True</td>\n",
       "      <td>America/New_York</td>\n",
       "      <td>3</td>\n",
       "      <td>43140</td>\n",
       "      <td>1840000674</td>\n",
       "    </tr>\n",
       "    <tr>\n",
       "      <th>11701</th>\n",
       "      <td>London</td>\n",
       "      <td>London</td>\n",
       "      <td>CA</td>\n",
       "      <td>California</td>\n",
       "      <td>6107</td>\n",
       "      <td>Tulare</td>\n",
       "      <td>36.4810</td>\n",
       "      <td>-119.4440</td>\n",
       "      <td>1690</td>\n",
       "      <td>1036</td>\n",
       "      <td>polygon</td>\n",
       "      <td>False</td>\n",
       "      <td>False</td>\n",
       "      <td>America/Los_Angeles</td>\n",
       "      <td>3</td>\n",
       "      <td>93618</td>\n",
       "      <td>1840017692</td>\n",
       "    </tr>\n",
       "    <tr>\n",
       "      <th>14273</th>\n",
       "      <td>London</td>\n",
       "      <td>London</td>\n",
       "      <td>AR</td>\n",
       "      <td>Arkansas</td>\n",
       "      <td>5115</td>\n",
       "      <td>Pope</td>\n",
       "      <td>35.3280</td>\n",
       "      <td>-93.2417</td>\n",
       "      <td>1067</td>\n",
       "      <td>129</td>\n",
       "      <td>polygon</td>\n",
       "      <td>False</td>\n",
       "      <td>True</td>\n",
       "      <td>America/Chicago</td>\n",
       "      <td>3</td>\n",
       "      <td>72847 72802</td>\n",
       "      <td>1840015402</td>\n",
       "    </tr>\n",
       "  </tbody>\n",
       "</table>\n",
       "</div>"
      ],
      "text/plain": [
       "         city city_ascii state_id  state_name  county_fips county_name  \\\n",
       "1299   London     London       KY    Kentucky        21125      Laurel   \n",
       "3059   London     London       OH        Ohio        39097     Madison   \n",
       "11701  London     London       CA  California         6107      Tulare   \n",
       "14273  London     London       AR    Arkansas         5115        Pope   \n",
       "\n",
       "           lat       lng  population  density   source  military  \\\n",
       "1299   37.1175  -84.0767       37714      269  polygon     False   \n",
       "3059   39.8936  -83.4376       14870      475  polygon     False   \n",
       "11701  36.4810 -119.4440        1690     1036  polygon     False   \n",
       "14273  35.3280  -93.2417        1067      129  polygon     False   \n",
       "\n",
       "       incorporated             timezone  ranking         zips          id  \n",
       "1299           True     America/New_York        3  40744 40741  1840015258  \n",
       "3059           True     America/New_York        3        43140  1840000674  \n",
       "11701         False  America/Los_Angeles        3        93618  1840017692  \n",
       "14273          True      America/Chicago        3  72847 72802  1840015402  "
      ]
     },
     "execution_count": 145,
     "metadata": {},
     "output_type": "execute_result"
    }
   ],
   "source": [
    "uscities_kaggle[uscities_kaggle['city']=='London']"
   ]
  },
  {
   "cell_type": "markdown",
   "metadata": {},
   "source": [
    "### **Create a column of ``country``**"
   ]
  },
  {
   "cell_type": "code",
   "execution_count": 88,
   "metadata": {},
   "outputs": [
    {
     "data": {
      "text/html": [
       "<div>\n",
       "<style scoped>\n",
       "    .dataframe tbody tr th:only-of-type {\n",
       "        vertical-align: middle;\n",
       "    }\n",
       "\n",
       "    .dataframe tbody tr th {\n",
       "        vertical-align: top;\n",
       "    }\n",
       "\n",
       "    .dataframe thead th {\n",
       "        text-align: right;\n",
       "    }\n",
       "</style>\n",
       "<table border=\"1\" class=\"dataframe\">\n",
       "  <thead>\n",
       "    <tr style=\"text-align: right;\">\n",
       "      <th></th>\n",
       "      <th>city</th>\n",
       "      <th>state</th>\n",
       "      <th>population</th>\n",
       "    </tr>\n",
       "  </thead>\n",
       "  <tbody>\n",
       "    <tr>\n",
       "      <th>0</th>\n",
       "      <td>New York</td>\n",
       "      <td>New York</td>\n",
       "      <td>18713220</td>\n",
       "    </tr>\n",
       "    <tr>\n",
       "      <th>1</th>\n",
       "      <td>Los Angeles</td>\n",
       "      <td>California</td>\n",
       "      <td>12750807</td>\n",
       "    </tr>\n",
       "    <tr>\n",
       "      <th>2</th>\n",
       "      <td>Chicago</td>\n",
       "      <td>Illinois</td>\n",
       "      <td>8604203</td>\n",
       "    </tr>\n",
       "    <tr>\n",
       "      <th>3</th>\n",
       "      <td>Miami</td>\n",
       "      <td>Florida</td>\n",
       "      <td>6445545</td>\n",
       "    </tr>\n",
       "    <tr>\n",
       "      <th>4</th>\n",
       "      <td>Dallas</td>\n",
       "      <td>Texas</td>\n",
       "      <td>5743938</td>\n",
       "    </tr>\n",
       "  </tbody>\n",
       "</table>\n",
       "</div>"
      ],
      "text/plain": [
       "          city       state  population\n",
       "0     New York    New York    18713220\n",
       "1  Los Angeles  California    12750807\n",
       "2      Chicago    Illinois     8604203\n",
       "3        Miami     Florida     6445545\n",
       "4       Dallas       Texas     5743938"
      ]
     },
     "execution_count": 88,
     "metadata": {},
     "output_type": "execute_result"
    }
   ],
   "source": [
    "# keep only the columns I want\n",
    "uscities = uscities_kaggle[['city', 'state_name', 'population']].rename(columns={'state_name': 'state'})\n",
    "uscities.head()"
   ]
  },
  {
   "cell_type": "code",
   "execution_count": 89,
   "metadata": {},
   "outputs": [
    {
     "data": {
      "text/html": [
       "<div>\n",
       "<style scoped>\n",
       "    .dataframe tbody tr th:only-of-type {\n",
       "        vertical-align: middle;\n",
       "    }\n",
       "\n",
       "    .dataframe tbody tr th {\n",
       "        vertical-align: top;\n",
       "    }\n",
       "\n",
       "    .dataframe thead th {\n",
       "        text-align: right;\n",
       "    }\n",
       "</style>\n",
       "<table border=\"1\" class=\"dataframe\">\n",
       "  <thead>\n",
       "    <tr style=\"text-align: right;\">\n",
       "      <th></th>\n",
       "      <th>city</th>\n",
       "      <th>state</th>\n",
       "      <th>population</th>\n",
       "      <th>country</th>\n",
       "    </tr>\n",
       "  </thead>\n",
       "  <tbody>\n",
       "    <tr>\n",
       "      <th>0</th>\n",
       "      <td>New York</td>\n",
       "      <td>New York</td>\n",
       "      <td>18713220</td>\n",
       "      <td>United States</td>\n",
       "    </tr>\n",
       "  </tbody>\n",
       "</table>\n",
       "</div>"
      ],
      "text/plain": [
       "       city     state  population        country\n",
       "0  New York  New York    18713220  United States"
      ]
     },
     "execution_count": 89,
     "metadata": {},
     "output_type": "execute_result"
    }
   ],
   "source": [
    "uscities['country'] = 'United States'\n",
    "uscities.head(1)"
   ]
  },
  {
   "cell_type": "markdown",
   "metadata": {},
   "source": [
    "### **Cities with the same name**"
   ]
  },
  {
   "cell_type": "code",
   "execution_count": null,
   "metadata": {},
   "outputs": [
    {
     "data": {
      "text/plain": [
       "city\n",
       "Franklin         30\n",
       "Fairview         23\n",
       "Clinton          23\n",
       "Marion           22\n",
       "Madison          21\n",
       "                 ..\n",
       "Lebanon South     1\n",
       "South Paris       1\n",
       "Kiln              1\n",
       "Pine Air          1\n",
       "Monowi            1\n",
       "Name: count, Length: 19090, dtype: int64"
      ]
     },
     "metadata": {},
     "output_type": "display_data"
    }
   ],
   "source": [
    "# getting the cities in the US with at least one repetition\n",
    "uscities['city'].value_counts()"
   ]
  },
  {
   "cell_type": "markdown",
   "metadata": {},
   "source": [
    "Luckily in the US I have info of the state, that way I can tell these cities with the same name apart"
   ]
  },
  {
   "cell_type": "code",
   "execution_count": 194,
   "metadata": {},
   "outputs": [
    {
     "data": {
      "text/plain": [
       "city\n",
       "Wootton        4\n",
       "Whittington    3\n",
       "Bramley        3\n",
       "Clifton        3\n",
       "Broughton      3\n",
       "Whitchurch     3\n",
       "Newport        3\n",
       "Preston        2\n",
       "Blackburn      2\n",
       "Hadleigh       2\n",
       "Madeley        2\n",
       "Bottesford     2\n",
       "Haddenham      2\n",
       "Gillingham     2\n",
       "Southbourne    2\n",
       "Huntington     2\n",
       "Cheadle        2\n",
       "Hatfield       2\n",
       "Sudbury        2\n",
       "Longton        2\n",
       "Brampton       2\n",
       "Kingswood      2\n",
       "Wellington     2\n",
       "Bangor         2\n",
       "Southwick      2\n",
       "Wollaston      2\n",
       "Richmond       2\n",
       "Swinton        2\n",
       "Farnborough    2\n",
       "Bilton         2\n",
       "Hythe          2\n",
       "Branston       2\n",
       "Rothwell       2\n",
       "Holywell       2\n",
       "Ashford        2\n",
       "Moulton        2\n",
       "Hayes          2\n",
       "Eccleston      2\n",
       "Kenton         2\n",
       "Willaston      2\n",
       "Saint Ives     2\n",
       "Nelson         2\n",
       "Birstall       2\n",
       "Cowley         2\n",
       "Royston        2\n",
       "Milton         2\n",
       "Upton          2\n",
       "Stonehouse     2\n",
       "Stone          2\n",
       "Treforest      1\n",
       "Name: count, dtype: int64"
      ]
     },
     "execution_count": 194,
     "metadata": {},
     "output_type": "execute_result"
    }
   ],
   "source": [
    "# getting the cities in the UK with at least one repetition\n",
    "kaggle_uk_cities['city'].value_counts().head(50)"
   ]
  },
  {
   "cell_type": "markdown",
   "metadata": {},
   "source": [
    "Not in the UK, though..."
   ]
  },
  {
   "cell_type": "code",
   "execution_count": null,
   "metadata": {},
   "outputs": [
    {
     "data": {
      "text/plain": [
       "49"
      ]
     },
     "execution_count": 181,
     "metadata": {},
     "output_type": "execute_result"
    }
   ],
   "source": [
    "several_ukcities = kaggle_uk_cities['city'].value_counts().head(49).index\n",
    "len(several_ukcities)"
   ]
  },
  {
   "cell_type": "code",
   "execution_count": 211,
   "metadata": {},
   "outputs": [
    {
     "name": "stdout",
     "output_type": "stream",
     "text": [
      "Newport\n",
      "Preston\n",
      "Hatfield\n",
      "Bangor\n",
      "Rothwell\n"
     ]
    }
   ],
   "source": [
    "# search for cities in the UK with the same name that are the home of any of my artists\n",
    "for city in several_ukcities:\n",
    "    if city in df_coordinates_final[df_coordinates_final['country']=='United Kingdom']['city'].values:\n",
    "        print(city)"
   ]
  },
  {
   "cell_type": "markdown",
   "metadata": {},
   "source": [
    "**Drop the cities I'm not interested in**"
   ]
  },
  {
   "cell_type": "markdown",
   "metadata": {},
   "source": [
    "With the coordinates I can tell which city I want and which ones I can drop so I can properly merge the dataframes later"
   ]
  },
  {
   "cell_type": "code",
   "execution_count": 8,
   "metadata": {},
   "outputs": [
    {
     "data": {
      "text/html": [
       "<div>\n",
       "<style scoped>\n",
       "    .dataframe tbody tr th:only-of-type {\n",
       "        vertical-align: middle;\n",
       "    }\n",
       "\n",
       "    .dataframe tbody tr th {\n",
       "        vertical-align: top;\n",
       "    }\n",
       "\n",
       "    .dataframe thead th {\n",
       "        text-align: right;\n",
       "    }\n",
       "</style>\n",
       "<table border=\"1\" class=\"dataframe\">\n",
       "  <thead>\n",
       "    <tr style=\"text-align: right;\">\n",
       "      <th></th>\n",
       "      <th>artist</th>\n",
       "      <th>country</th>\n",
       "      <th>city</th>\n",
       "      <th>latitude</th>\n",
       "      <th>longitude</th>\n",
       "      <th>address</th>\n",
       "      <th>state</th>\n",
       "    </tr>\n",
       "  </thead>\n",
       "  <tbody>\n",
       "    <tr>\n",
       "      <th>694</th>\n",
       "      <td>The Pigeon Detectives</td>\n",
       "      <td>United Kingdom</td>\n",
       "      <td>Rothwell</td>\n",
       "      <td>53.749384</td>\n",
       "      <td>-1.478151</td>\n",
       "      <td>Rothwell, Leeds, West Yorkshire, England, LS26...</td>\n",
       "      <td>England</td>\n",
       "    </tr>\n",
       "  </tbody>\n",
       "</table>\n",
       "</div>"
      ],
      "text/plain": [
       "                    artist         country      city   latitude  longitude  \\\n",
       "694  The Pigeon Detectives  United Kingdom  Rothwell  53.749384  -1.478151   \n",
       "\n",
       "                                               address    state  \n",
       "694  Rothwell, Leeds, West Yorkshire, England, LS26...  England  "
      ]
     },
     "execution_count": 8,
     "metadata": {},
     "output_type": "execute_result"
    }
   ],
   "source": [
    "df_coordinates_final[df_coordinates_final['city']=='Rothwell'].query(\"country =='United Kingdom'\")"
   ]
  },
  {
   "cell_type": "code",
   "execution_count": 210,
   "metadata": {},
   "outputs": [
    {
     "data": {
      "text/html": [
       "<div>\n",
       "<style scoped>\n",
       "    .dataframe tbody tr th:only-of-type {\n",
       "        vertical-align: middle;\n",
       "    }\n",
       "\n",
       "    .dataframe tbody tr th {\n",
       "        vertical-align: top;\n",
       "    }\n",
       "\n",
       "    .dataframe thead th {\n",
       "        text-align: right;\n",
       "    }\n",
       "</style>\n",
       "<table border=\"1\" class=\"dataframe\">\n",
       "  <thead>\n",
       "    <tr style=\"text-align: right;\">\n",
       "      <th></th>\n",
       "      <th>city</th>\n",
       "      <th>lat</th>\n",
       "      <th>lng</th>\n",
       "      <th>country</th>\n",
       "      <th>iso2</th>\n",
       "      <th>admin_name</th>\n",
       "      <th>capital</th>\n",
       "      <th>population</th>\n",
       "      <th>population_proper</th>\n",
       "    </tr>\n",
       "  </thead>\n",
       "  <tbody>\n",
       "    <tr>\n",
       "      <th>556</th>\n",
       "      <td>Rothwell</td>\n",
       "      <td>53.7485</td>\n",
       "      <td>-1.4780</td>\n",
       "      <td>United Kingdom</td>\n",
       "      <td>GB</td>\n",
       "      <td>Leeds</td>\n",
       "      <td>NaN</td>\n",
       "      <td>20354</td>\n",
       "      <td>20354</td>\n",
       "    </tr>\n",
       "    <tr>\n",
       "      <th>1363</th>\n",
       "      <td>Rothwell</td>\n",
       "      <td>52.4254</td>\n",
       "      <td>-0.8029</td>\n",
       "      <td>United Kingdom</td>\n",
       "      <td>GB</td>\n",
       "      <td>Northamptonshire</td>\n",
       "      <td>NaN</td>\n",
       "      <td>7694</td>\n",
       "      <td>7694</td>\n",
       "    </tr>\n",
       "  </tbody>\n",
       "</table>\n",
       "</div>"
      ],
      "text/plain": [
       "          city      lat     lng         country iso2        admin_name  \\\n",
       "556   Rothwell  53.7485 -1.4780  United Kingdom   GB             Leeds   \n",
       "1363  Rothwell  52.4254 -0.8029  United Kingdom   GB  Northamptonshire   \n",
       "\n",
       "     capital  population  population_proper  \n",
       "556      NaN       20354              20354  \n",
       "1363     NaN        7694               7694  "
      ]
     },
     "execution_count": 210,
     "metadata": {},
     "output_type": "execute_result"
    }
   ],
   "source": [
    "kaggle_uk_cities[kaggle_uk_cities['city']=='Rothwell'].query(\"country =='United Kingdom'\")"
   ]
  },
  {
   "cell_type": "code",
   "execution_count": 212,
   "metadata": {},
   "outputs": [
    {
     "name": "stdout",
     "output_type": "stream",
     "text": [
      "Rows before dropping: 2675\n",
      "Rows after dropping: 2674\n"
     ]
    }
   ],
   "source": [
    "print(f\"Rows before dropping: {kaggle_uk_cities.shape[0]}\")\n",
    "kaggle_uk_cities.drop([1363], axis=0, inplace=True)\n",
    "print(f\"Rows after dropping: {kaggle_uk_cities.shape[0]}\")"
   ]
  },
  {
   "cell_type": "code",
   "execution_count": 215,
   "metadata": {},
   "outputs": [
    {
     "data": {
      "text/plain": [
       "(2674, 9)"
      ]
     },
     "execution_count": 215,
     "metadata": {},
     "output_type": "execute_result"
    }
   ],
   "source": [
    "kaggle_uk_cities.shape"
   ]
  },
  {
   "cell_type": "code",
   "execution_count": 216,
   "metadata": {},
   "outputs": [],
   "source": [
    "# export to csv\n",
    "kaggle_uk_cities.to_csv('Datasets/kaggle_uk_cities.csv', index=False)"
   ]
  },
  {
   "cell_type": "code",
   "execution_count": 213,
   "metadata": {},
   "outputs": [
    {
     "data": {
      "text/plain": [
       "(3995, 7)"
      ]
     },
     "execution_count": 213,
     "metadata": {},
     "output_type": "execute_result"
    }
   ],
   "source": [
    "df_coordinates_final.shape"
   ]
  },
  {
   "cell_type": "code",
   "execution_count": 217,
   "metadata": {},
   "outputs": [
    {
     "data": {
      "text/html": [
       "<div>\n",
       "<style scoped>\n",
       "    .dataframe tbody tr th:only-of-type {\n",
       "        vertical-align: middle;\n",
       "    }\n",
       "\n",
       "    .dataframe tbody tr th {\n",
       "        vertical-align: top;\n",
       "    }\n",
       "\n",
       "    .dataframe thead th {\n",
       "        text-align: right;\n",
       "    }\n",
       "</style>\n",
       "<table border=\"1\" class=\"dataframe\">\n",
       "  <thead>\n",
       "    <tr style=\"text-align: right;\">\n",
       "      <th></th>\n",
       "      <th>city</th>\n",
       "      <th>population</th>\n",
       "      <th>country</th>\n",
       "    </tr>\n",
       "  </thead>\n",
       "  <tbody>\n",
       "    <tr>\n",
       "      <th>0</th>\n",
       "      <td>London</td>\n",
       "      <td>10979000</td>\n",
       "      <td>United Kingdom</td>\n",
       "    </tr>\n",
       "  </tbody>\n",
       "</table>\n",
       "</div>"
      ],
      "text/plain": [
       "     city  population         country\n",
       "0  London    10979000  United Kingdom"
      ]
     },
     "execution_count": 217,
     "metadata": {},
     "output_type": "execute_result"
    }
   ],
   "source": [
    "# keep only the columns I want\n",
    "ukcities = kaggle_uk_cities[['city', 'population', 'country']]\n",
    "ukcities.head(1)"
   ]
  },
  {
   "cell_type": "markdown",
   "metadata": {},
   "source": [
    "Since I don't have info of ``state`` in the UK cities, I have to do 2 merges separately and then concat them"
   ]
  },
  {
   "cell_type": "code",
   "execution_count": 56,
   "metadata": {},
   "outputs": [
    {
     "data": {
      "text/plain": [
       "(828, 7)"
      ]
     },
     "execution_count": 56,
     "metadata": {},
     "output_type": "execute_result"
    }
   ],
   "source": [
    "df_uk = df_coordinates_final[df_coordinates_final['country']=='United Kingdom']\n",
    "df_uk.shape"
   ]
  },
  {
   "cell_type": "code",
   "execution_count": 251,
   "metadata": {},
   "outputs": [
    {
     "data": {
      "text/plain": [
       "(686, 8)"
      ]
     },
     "execution_count": 251,
     "metadata": {},
     "output_type": "execute_result"
    }
   ],
   "source": [
    "df_uk_merged = pd.merge(df_coordinates_final, ukcities, on=['city', 'country'])\n",
    "df_uk_merged.shape"
   ]
  },
  {
   "cell_type": "code",
   "execution_count": 237,
   "metadata": {},
   "outputs": [
    {
     "data": {
      "text/html": [
       "<div>\n",
       "<style scoped>\n",
       "    .dataframe tbody tr th:only-of-type {\n",
       "        vertical-align: middle;\n",
       "    }\n",
       "\n",
       "    .dataframe tbody tr th {\n",
       "        vertical-align: top;\n",
       "    }\n",
       "\n",
       "    .dataframe thead th {\n",
       "        text-align: right;\n",
       "    }\n",
       "</style>\n",
       "<table border=\"1\" class=\"dataframe\">\n",
       "  <thead>\n",
       "    <tr style=\"text-align: right;\">\n",
       "      <th></th>\n",
       "      <th>artist</th>\n",
       "      <th>country</th>\n",
       "      <th>city</th>\n",
       "      <th>latitude</th>\n",
       "      <th>longitude</th>\n",
       "      <th>address</th>\n",
       "      <th>state</th>\n",
       "    </tr>\n",
       "  </thead>\n",
       "  <tbody>\n",
       "    <tr>\n",
       "      <th>8</th>\n",
       "      <td>The Proclaimers</td>\n",
       "      <td>United Kingdom</td>\n",
       "      <td>Auchtermuchty</td>\n",
       "      <td>56.292085</td>\n",
       "      <td>-3.232828</td>\n",
       "      <td>Auchtermuchty, Fife, Alba / Scotland, KY14 7AP...</td>\n",
       "      <td>Alba / Scotland</td>\n",
       "    </tr>\n",
       "    <tr>\n",
       "      <th>12</th>\n",
       "      <td>Marmaduke Duke</td>\n",
       "      <td>United Kingdom</td>\n",
       "      <td>Ayrshire</td>\n",
       "      <td>55.500000</td>\n",
       "      <td>-4.500000</td>\n",
       "      <td>Ayrshire, Alba / Scotland, KA5 5NL, United Kin...</td>\n",
       "      <td>Alba / Scotland</td>\n",
       "    </tr>\n",
       "    <tr>\n",
       "      <th>22</th>\n",
       "      <td>Trigger the Bloodshed</td>\n",
       "      <td>United Kingdom</td>\n",
       "      <td>Bath/Bristol</td>\n",
       "      <td>51.386715</td>\n",
       "      <td>-2.402722</td>\n",
       "      <td>Bristol &amp; Bath Railway Path, Newbridge, Bath, ...</td>\n",
       "      <td>England</td>\n",
       "    </tr>\n",
       "    <tr>\n",
       "      <th>33</th>\n",
       "      <td>Druid</td>\n",
       "      <td>United Kingdom</td>\n",
       "      <td>Berkhamsted</td>\n",
       "      <td>51.760727</td>\n",
       "      <td>-0.565255</td>\n",
       "      <td>Berkhamsted, Dacorum, Hertfordshire, England, ...</td>\n",
       "      <td>Hertfordshire</td>\n",
       "    </tr>\n",
       "    <tr>\n",
       "      <th>34</th>\n",
       "      <td>Peter Green</td>\n",
       "      <td>United Kingdom</td>\n",
       "      <td>Bethnal Green</td>\n",
       "      <td>51.530346</td>\n",
       "      <td>-0.056163</td>\n",
       "      <td>Bethnal Green, London Borough of Tower Hamlets...</td>\n",
       "      <td>England</td>\n",
       "    </tr>\n",
       "    <tr>\n",
       "      <th>...</th>\n",
       "      <td>...</td>\n",
       "      <td>...</td>\n",
       "      <td>...</td>\n",
       "      <td>...</td>\n",
       "      <td>...</td>\n",
       "      <td>...</td>\n",
       "      <td>...</td>\n",
       "    </tr>\n",
       "    <tr>\n",
       "      <th>805</th>\n",
       "      <td>James</td>\n",
       "      <td>United Kingdom</td>\n",
       "      <td>Whalley Range</td>\n",
       "      <td>53.449363</td>\n",
       "      <td>-2.257469</td>\n",
       "      <td>Whalley Range, Manchester, Greater Manchester,...</td>\n",
       "      <td>England</td>\n",
       "    </tr>\n",
       "    <tr>\n",
       "      <th>806</th>\n",
       "      <td>Brendan Perry</td>\n",
       "      <td>United Kingdom</td>\n",
       "      <td>Whitechapel</td>\n",
       "      <td>51.517486</td>\n",
       "      <td>-0.065968</td>\n",
       "      <td>Whitechapel, London Borough of Tower Hamlets, ...</td>\n",
       "      <td>England</td>\n",
       "    </tr>\n",
       "    <tr>\n",
       "      <th>813</th>\n",
       "      <td>Al Stewart</td>\n",
       "      <td>United Kingdom</td>\n",
       "      <td>Wimborne</td>\n",
       "      <td>50.794537</td>\n",
       "      <td>-1.975959</td>\n",
       "      <td>Wimborne, New Borough Road, St Johns, Wimborne...</td>\n",
       "      <td>England</td>\n",
       "    </tr>\n",
       "    <tr>\n",
       "      <th>816</th>\n",
       "      <td>Prefab Sprout</td>\n",
       "      <td>United Kingdom</td>\n",
       "      <td>Witton Gilbert</td>\n",
       "      <td>54.805942</td>\n",
       "      <td>-1.636224</td>\n",
       "      <td>Witton Gilbert, County Durham, North East, Eng...</td>\n",
       "      <td>North East</td>\n",
       "    </tr>\n",
       "    <tr>\n",
       "      <th>827</th>\n",
       "      <td>A Forest of Stars</td>\n",
       "      <td>United Kingdom</td>\n",
       "      <td>Yorkshire</td>\n",
       "      <td>53.982527</td>\n",
       "      <td>-1.385250</td>\n",
       "      <td>Yorkshire, England, United Kingdom</td>\n",
       "      <td>Yorkshire</td>\n",
       "    </tr>\n",
       "  </tbody>\n",
       "</table>\n",
       "<p>142 rows × 7 columns</p>\n",
       "</div>"
      ],
      "text/plain": [
       "                    artist         country            city   latitude  \\\n",
       "8          The Proclaimers  United Kingdom   Auchtermuchty  56.292085   \n",
       "12          Marmaduke Duke  United Kingdom        Ayrshire  55.500000   \n",
       "22   Trigger the Bloodshed  United Kingdom    Bath/Bristol  51.386715   \n",
       "33                   Druid  United Kingdom     Berkhamsted  51.760727   \n",
       "34             Peter Green  United Kingdom   Bethnal Green  51.530346   \n",
       "..                     ...             ...             ...        ...   \n",
       "805                  James  United Kingdom   Whalley Range  53.449363   \n",
       "806          Brendan Perry  United Kingdom     Whitechapel  51.517486   \n",
       "813             Al Stewart  United Kingdom        Wimborne  50.794537   \n",
       "816          Prefab Sprout  United Kingdom  Witton Gilbert  54.805942   \n",
       "827      A Forest of Stars  United Kingdom       Yorkshire  53.982527   \n",
       "\n",
       "     longitude                                            address  \\\n",
       "8    -3.232828  Auchtermuchty, Fife, Alba / Scotland, KY14 7AP...   \n",
       "12   -4.500000  Ayrshire, Alba / Scotland, KA5 5NL, United Kin...   \n",
       "22   -2.402722  Bristol & Bath Railway Path, Newbridge, Bath, ...   \n",
       "33   -0.565255  Berkhamsted, Dacorum, Hertfordshire, England, ...   \n",
       "34   -0.056163  Bethnal Green, London Borough of Tower Hamlets...   \n",
       "..         ...                                                ...   \n",
       "805  -2.257469  Whalley Range, Manchester, Greater Manchester,...   \n",
       "806  -0.065968  Whitechapel, London Borough of Tower Hamlets, ...   \n",
       "813  -1.975959  Wimborne, New Borough Road, St Johns, Wimborne...   \n",
       "816  -1.636224  Witton Gilbert, County Durham, North East, Eng...   \n",
       "827  -1.385250                 Yorkshire, England, United Kingdom   \n",
       "\n",
       "               state  \n",
       "8    Alba / Scotland  \n",
       "12   Alba / Scotland  \n",
       "22           England  \n",
       "33     Hertfordshire  \n",
       "34           England  \n",
       "..               ...  \n",
       "805          England  \n",
       "806          England  \n",
       "813          England  \n",
       "816       North East  \n",
       "827        Yorkshire  \n",
       "\n",
       "[142 rows x 7 columns]"
      ]
     },
     "execution_count": 237,
     "metadata": {},
     "output_type": "execute_result"
    }
   ],
   "source": [
    "df_uk[~df_uk['artist'].isin(df_uk_merged['artist'].values)]"
   ]
  },
  {
   "cell_type": "markdown",
   "metadata": {},
   "source": [
    "**There are 142 brittish artists whose cities' population information I don’t have**"
   ]
  },
  {
   "cell_type": "code",
   "execution_count": 242,
   "metadata": {},
   "outputs": [
    {
     "data": {
      "text/html": [
       "<div>\n",
       "<style scoped>\n",
       "    .dataframe tbody tr th:only-of-type {\n",
       "        vertical-align: middle;\n",
       "    }\n",
       "\n",
       "    .dataframe tbody tr th {\n",
       "        vertical-align: top;\n",
       "    }\n",
       "\n",
       "    .dataframe thead th {\n",
       "        text-align: right;\n",
       "    }\n",
       "</style>\n",
       "<table border=\"1\" class=\"dataframe\">\n",
       "  <thead>\n",
       "    <tr style=\"text-align: right;\">\n",
       "      <th></th>\n",
       "      <th>city</th>\n",
       "      <th>lat</th>\n",
       "      <th>lng</th>\n",
       "      <th>country</th>\n",
       "      <th>iso2</th>\n",
       "      <th>admin_name</th>\n",
       "      <th>capital</th>\n",
       "      <th>population</th>\n",
       "      <th>population_proper</th>\n",
       "    </tr>\n",
       "  </thead>\n",
       "  <tbody>\n",
       "  </tbody>\n",
       "</table>\n",
       "</div>"
      ],
      "text/plain": [
       "Empty DataFrame\n",
       "Columns: [city, lat, lng, country, iso2, admin_name, capital, population, population_proper]\n",
       "Index: []"
      ]
     },
     "execution_count": 242,
     "metadata": {},
     "output_type": "execute_result"
    }
   ],
   "source": [
    "kaggle_uk_cities[kaggle_uk_cities['city']=='Witton Gilbert']"
   ]
  },
  {
   "cell_type": "code",
   "execution_count": 77,
   "metadata": {},
   "outputs": [
    {
     "data": {
      "text/plain": [
       "(3163, 7)"
      ]
     },
     "execution_count": 77,
     "metadata": {},
     "output_type": "execute_result"
    }
   ],
   "source": [
    "df_us = df_coordinates_final[df_coordinates_final['country']=='United States']\n",
    "df_us.shape"
   ]
  },
  {
   "cell_type": "code",
   "execution_count": 90,
   "metadata": {},
   "outputs": [
    {
     "data": {
      "text/plain": [
       "(2714, 8)"
      ]
     },
     "execution_count": 90,
     "metadata": {},
     "output_type": "execute_result"
    }
   ],
   "source": [
    "df_us_merged = pd.merge(df_coordinates_final, uscities, on=['city', 'country', 'state'])\n",
    "df_us_merged.shape"
   ]
  },
  {
   "cell_type": "code",
   "execution_count": 91,
   "metadata": {},
   "outputs": [
    {
     "data": {
      "text/plain": [
       "(449, 7)"
      ]
     },
     "execution_count": 91,
     "metadata": {},
     "output_type": "execute_result"
    }
   ],
   "source": [
    "missing_us_artists = df_us[~df_us['artist'].isin(df_us_merged['artist'].values)]\n",
    "missing_us_artists.shape"
   ]
  },
  {
   "cell_type": "markdown",
   "metadata": {},
   "source": [
    "**There are 449 american artists whose cities' population information I don’t have**"
   ]
  },
  {
   "cell_type": "code",
   "execution_count": 265,
   "metadata": {},
   "outputs": [
    {
     "data": {
      "text/plain": [
       "city\n",
       "New York City    155\n",
       "Long Island       29\n",
       "Orange County     26\n",
       "New Jersey        15\n",
       "St Louis          12\n",
       "Name: count, dtype: int64"
      ]
     },
     "execution_count": 265,
     "metadata": {},
     "output_type": "execute_result"
    }
   ],
   "source": [
    "missing_us_artists['city'].value_counts().head()"
   ]
  },
  {
   "cell_type": "code",
   "execution_count": 270,
   "metadata": {},
   "outputs": [
    {
     "data": {
      "text/html": [
       "<div>\n",
       "<style scoped>\n",
       "    .dataframe tbody tr th:only-of-type {\n",
       "        vertical-align: middle;\n",
       "    }\n",
       "\n",
       "    .dataframe tbody tr th {\n",
       "        vertical-align: top;\n",
       "    }\n",
       "\n",
       "    .dataframe thead th {\n",
       "        text-align: right;\n",
       "    }\n",
       "</style>\n",
       "<table border=\"1\" class=\"dataframe\">\n",
       "  <thead>\n",
       "    <tr style=\"text-align: right;\">\n",
       "      <th></th>\n",
       "      <th>city</th>\n",
       "      <th>state</th>\n",
       "      <th>population</th>\n",
       "      <th>country</th>\n",
       "    </tr>\n",
       "  </thead>\n",
       "  <tbody>\n",
       "    <tr>\n",
       "      <th>25650</th>\n",
       "      <td>Long Island</td>\n",
       "      <td>Kansas</td>\n",
       "      <td>121</td>\n",
       "      <td>United States</td>\n",
       "    </tr>\n",
       "  </tbody>\n",
       "</table>\n",
       "</div>"
      ],
      "text/plain": [
       "              city   state  population        country\n",
       "25650  Long Island  Kansas         121  United States"
      ]
     },
     "execution_count": 270,
     "metadata": {},
     "output_type": "execute_result"
    }
   ],
   "source": [
    "uscities[uscities['city']=='Long Island']"
   ]
  },
  {
   "cell_type": "markdown",
   "metadata": {},
   "source": [
    "Not the Long Island in New York"
   ]
  },
  {
   "cell_type": "code",
   "execution_count": 286,
   "metadata": {},
   "outputs": [
    {
     "data": {
      "text/plain": [
       "(26, 7)"
      ]
     },
     "execution_count": 286,
     "metadata": {},
     "output_type": "execute_result"
    }
   ],
   "source": [
    "df_coordinates_final[df_coordinates_final['city']=='New York'].shape"
   ]
  },
  {
   "cell_type": "code",
   "execution_count": 287,
   "metadata": {},
   "outputs": [
    {
     "data": {
      "text/plain": [
       "(155, 7)"
      ]
     },
     "execution_count": 287,
     "metadata": {},
     "output_type": "execute_result"
    }
   ],
   "source": [
    "df_coordinates_final[df_coordinates_final['city']=='New York City'].shape"
   ]
  },
  {
   "cell_type": "markdown",
   "metadata": {},
   "source": [
    "I have New York City under 2 different names"
   ]
  },
  {
   "cell_type": "markdown",
   "metadata": {},
   "source": [
    "So there's no information from big cities like New Jersey, but there's information of boroughs like Bronx, Brooklyn, etc"
   ]
  },
  {
   "cell_type": "code",
   "execution_count": 284,
   "metadata": {},
   "outputs": [
    {
     "data": {
      "text/html": [
       "<div>\n",
       "<style scoped>\n",
       "    .dataframe tbody tr th:only-of-type {\n",
       "        vertical-align: middle;\n",
       "    }\n",
       "\n",
       "    .dataframe tbody tr th {\n",
       "        vertical-align: top;\n",
       "    }\n",
       "\n",
       "    .dataframe thead th {\n",
       "        text-align: right;\n",
       "    }\n",
       "</style>\n",
       "<table border=\"1\" class=\"dataframe\">\n",
       "  <thead>\n",
       "    <tr style=\"text-align: right;\">\n",
       "      <th></th>\n",
       "      <th>artist</th>\n",
       "      <th>country</th>\n",
       "      <th>city</th>\n",
       "      <th>latitude</th>\n",
       "      <th>longitude</th>\n",
       "      <th>address</th>\n",
       "      <th>state</th>\n",
       "    </tr>\n",
       "  </thead>\n",
       "  <tbody>\n",
       "    <tr>\n",
       "      <th>2604</th>\n",
       "      <td>Ashes Divide</td>\n",
       "      <td>United States</td>\n",
       "      <td>New Jersey</td>\n",
       "      <td>40.075738</td>\n",
       "      <td>-74.404162</td>\n",
       "      <td>New Jersey, United States</td>\n",
       "      <td>New Jersey</td>\n",
       "    </tr>\n",
       "    <tr>\n",
       "      <th>2605</th>\n",
       "      <td>Bedlight For Blue Eyes</td>\n",
       "      <td>United States</td>\n",
       "      <td>New Jersey</td>\n",
       "      <td>40.075738</td>\n",
       "      <td>-74.404162</td>\n",
       "      <td>New Jersey, United States</td>\n",
       "      <td>New Jersey</td>\n",
       "    </tr>\n",
       "    <tr>\n",
       "      <th>2606</th>\n",
       "      <td>Bigwig</td>\n",
       "      <td>United States</td>\n",
       "      <td>New Jersey</td>\n",
       "      <td>40.075738</td>\n",
       "      <td>-74.404162</td>\n",
       "      <td>New Jersey, United States</td>\n",
       "      <td>New Jersey</td>\n",
       "    </tr>\n",
       "    <tr>\n",
       "      <th>2607</th>\n",
       "      <td>Disciples of Mockery</td>\n",
       "      <td>United States</td>\n",
       "      <td>New Jersey</td>\n",
       "      <td>40.075738</td>\n",
       "      <td>-74.404162</td>\n",
       "      <td>New Jersey, United States</td>\n",
       "      <td>New Jersey</td>\n",
       "    </tr>\n",
       "    <tr>\n",
       "      <th>2608</th>\n",
       "      <td>Ducktails</td>\n",
       "      <td>United States</td>\n",
       "      <td>New Jersey</td>\n",
       "      <td>40.075738</td>\n",
       "      <td>-74.404162</td>\n",
       "      <td>New Jersey, United States</td>\n",
       "      <td>New Jersey</td>\n",
       "    </tr>\n",
       "    <tr>\n",
       "      <th>2609</th>\n",
       "      <td>Funebrarum</td>\n",
       "      <td>United States</td>\n",
       "      <td>New Jersey</td>\n",
       "      <td>40.075738</td>\n",
       "      <td>-74.404162</td>\n",
       "      <td>New Jersey, United States</td>\n",
       "      <td>New Jersey</td>\n",
       "    </tr>\n",
       "    <tr>\n",
       "      <th>2610</th>\n",
       "      <td>My Chemical Romance</td>\n",
       "      <td>United States</td>\n",
       "      <td>New Jersey</td>\n",
       "      <td>34.125423</td>\n",
       "      <td>-117.481312</td>\n",
       "      <td>New Jersey, Morningside, Fontana, San Bernardi...</td>\n",
       "      <td>California</td>\n",
       "    </tr>\n",
       "    <tr>\n",
       "      <th>2611</th>\n",
       "      <td>Nokturnel</td>\n",
       "      <td>United States</td>\n",
       "      <td>New Jersey</td>\n",
       "      <td>40.075738</td>\n",
       "      <td>-74.404162</td>\n",
       "      <td>New Jersey, United States</td>\n",
       "      <td>New Jersey</td>\n",
       "    </tr>\n",
       "    <tr>\n",
       "      <th>2612</th>\n",
       "      <td>None More Black</td>\n",
       "      <td>United States</td>\n",
       "      <td>New Jersey</td>\n",
       "      <td>40.075738</td>\n",
       "      <td>-74.404162</td>\n",
       "      <td>New Jersey, United States</td>\n",
       "      <td>New Jersey</td>\n",
       "    </tr>\n",
       "    <tr>\n",
       "      <th>2613</th>\n",
       "      <td>Ours</td>\n",
       "      <td>United States</td>\n",
       "      <td>New Jersey</td>\n",
       "      <td>40.075738</td>\n",
       "      <td>-74.404162</td>\n",
       "      <td>New Jersey, United States</td>\n",
       "      <td>New Jersey</td>\n",
       "    </tr>\n",
       "    <tr>\n",
       "      <th>2614</th>\n",
       "      <td>Rorschach</td>\n",
       "      <td>United States</td>\n",
       "      <td>New Jersey</td>\n",
       "      <td>40.075738</td>\n",
       "      <td>-74.404162</td>\n",
       "      <td>New Jersey, United States</td>\n",
       "      <td>New Jersey</td>\n",
       "    </tr>\n",
       "    <tr>\n",
       "      <th>2615</th>\n",
       "      <td>Solace</td>\n",
       "      <td>United States</td>\n",
       "      <td>New Jersey</td>\n",
       "      <td>40.075738</td>\n",
       "      <td>-74.404162</td>\n",
       "      <td>New Jersey, United States</td>\n",
       "      <td>New Jersey</td>\n",
       "    </tr>\n",
       "    <tr>\n",
       "      <th>2616</th>\n",
       "      <td>Steel Train</td>\n",
       "      <td>United States</td>\n",
       "      <td>New Jersey</td>\n",
       "      <td>40.075738</td>\n",
       "      <td>-74.404162</td>\n",
       "      <td>New Jersey, United States</td>\n",
       "      <td>New Jersey</td>\n",
       "    </tr>\n",
       "    <tr>\n",
       "      <th>2617</th>\n",
       "      <td>The Wrens</td>\n",
       "      <td>United States</td>\n",
       "      <td>New Jersey</td>\n",
       "      <td>40.075738</td>\n",
       "      <td>-74.404162</td>\n",
       "      <td>New Jersey, United States</td>\n",
       "      <td>New Jersey</td>\n",
       "    </tr>\n",
       "    <tr>\n",
       "      <th>2618</th>\n",
       "      <td>Waking The Cadaver</td>\n",
       "      <td>United States</td>\n",
       "      <td>New Jersey</td>\n",
       "      <td>40.075738</td>\n",
       "      <td>-74.404162</td>\n",
       "      <td>New Jersey, United States</td>\n",
       "      <td>New Jersey</td>\n",
       "    </tr>\n",
       "  </tbody>\n",
       "</table>\n",
       "</div>"
      ],
      "text/plain": [
       "                      artist        country        city   latitude  \\\n",
       "2604            Ashes Divide  United States  New Jersey  40.075738   \n",
       "2605  Bedlight For Blue Eyes  United States  New Jersey  40.075738   \n",
       "2606                  Bigwig  United States  New Jersey  40.075738   \n",
       "2607    Disciples of Mockery  United States  New Jersey  40.075738   \n",
       "2608               Ducktails  United States  New Jersey  40.075738   \n",
       "2609              Funebrarum  United States  New Jersey  40.075738   \n",
       "2610     My Chemical Romance  United States  New Jersey  34.125423   \n",
       "2611               Nokturnel  United States  New Jersey  40.075738   \n",
       "2612         None More Black  United States  New Jersey  40.075738   \n",
       "2613                    Ours  United States  New Jersey  40.075738   \n",
       "2614               Rorschach  United States  New Jersey  40.075738   \n",
       "2615                  Solace  United States  New Jersey  40.075738   \n",
       "2616             Steel Train  United States  New Jersey  40.075738   \n",
       "2617               The Wrens  United States  New Jersey  40.075738   \n",
       "2618      Waking The Cadaver  United States  New Jersey  40.075738   \n",
       "\n",
       "       longitude                                            address  \\\n",
       "2604  -74.404162                          New Jersey, United States   \n",
       "2605  -74.404162                          New Jersey, United States   \n",
       "2606  -74.404162                          New Jersey, United States   \n",
       "2607  -74.404162                          New Jersey, United States   \n",
       "2608  -74.404162                          New Jersey, United States   \n",
       "2609  -74.404162                          New Jersey, United States   \n",
       "2610 -117.481312  New Jersey, Morningside, Fontana, San Bernardi...   \n",
       "2611  -74.404162                          New Jersey, United States   \n",
       "2612  -74.404162                          New Jersey, United States   \n",
       "2613  -74.404162                          New Jersey, United States   \n",
       "2614  -74.404162                          New Jersey, United States   \n",
       "2615  -74.404162                          New Jersey, United States   \n",
       "2616  -74.404162                          New Jersey, United States   \n",
       "2617  -74.404162                          New Jersey, United States   \n",
       "2618  -74.404162                          New Jersey, United States   \n",
       "\n",
       "           state  \n",
       "2604  New Jersey  \n",
       "2605  New Jersey  \n",
       "2606  New Jersey  \n",
       "2607  New Jersey  \n",
       "2608  New Jersey  \n",
       "2609  New Jersey  \n",
       "2610  California  \n",
       "2611  New Jersey  \n",
       "2612  New Jersey  \n",
       "2613  New Jersey  \n",
       "2614  New Jersey  \n",
       "2615  New Jersey  \n",
       "2616  New Jersey  \n",
       "2617  New Jersey  \n",
       "2618  New Jersey  "
      ]
     },
     "execution_count": 284,
     "metadata": {},
     "output_type": "execute_result"
    }
   ],
   "source": [
    "df_coordinates_final[df_coordinates_final['city']=='New Jersey']"
   ]
  },
  {
   "cell_type": "markdown",
   "metadata": {},
   "source": [
    "So it turns out I can't do the merge on the city population because I have many missing values, I'll have to do it on the **state population**"
   ]
  },
  {
   "cell_type": "code",
   "execution_count": 300,
   "metadata": {},
   "outputs": [
    {
     "data": {
      "text/html": [
       "<div>\n",
       "<style scoped>\n",
       "    .dataframe tbody tr th:only-of-type {\n",
       "        vertical-align: middle;\n",
       "    }\n",
       "\n",
       "    .dataframe tbody tr th {\n",
       "        vertical-align: top;\n",
       "    }\n",
       "\n",
       "    .dataframe thead th {\n",
       "        text-align: right;\n",
       "    }\n",
       "</style>\n",
       "<table border=\"1\" class=\"dataframe\">\n",
       "  <thead>\n",
       "    <tr style=\"text-align: right;\">\n",
       "      <th></th>\n",
       "      <th>population</th>\n",
       "    </tr>\n",
       "    <tr>\n",
       "      <th>state_name</th>\n",
       "      <th></th>\n",
       "    </tr>\n",
       "  </thead>\n",
       "  <tbody>\n",
       "    <tr>\n",
       "      <th>California</th>\n",
       "      <td>59652083</td>\n",
       "    </tr>\n",
       "    <tr>\n",
       "      <th>New York</th>\n",
       "      <td>36249123</td>\n",
       "    </tr>\n",
       "    <tr>\n",
       "      <th>Texas</th>\n",
       "      <td>33717239</td>\n",
       "    </tr>\n",
       "    <tr>\n",
       "      <th>Florida</th>\n",
       "      <td>31031088</td>\n",
       "    </tr>\n",
       "    <tr>\n",
       "      <th>Illinois</th>\n",
       "      <td>18104498</td>\n",
       "    </tr>\n",
       "  </tbody>\n",
       "</table>\n",
       "</div>"
      ],
      "text/plain": [
       "            population\n",
       "state_name            \n",
       "California    59652083\n",
       "New York      36249123\n",
       "Texas         33717239\n",
       "Florida       31031088\n",
       "Illinois      18104498"
      ]
     },
     "execution_count": 300,
     "metadata": {},
     "output_type": "execute_result"
    }
   ],
   "source": [
    "uscities_kaggle[['city', 'state_name', 'population']].groupby('state_name').agg({'population': sum}).sort_values('population', ascending=False).head()"
   ]
  },
  {
   "cell_type": "code",
   "execution_count": 288,
   "metadata": {},
   "outputs": [
    {
     "data": {
      "text/html": [
       "<div>\n",
       "<style scoped>\n",
       "    .dataframe tbody tr th:only-of-type {\n",
       "        vertical-align: middle;\n",
       "    }\n",
       "\n",
       "    .dataframe tbody tr th {\n",
       "        vertical-align: top;\n",
       "    }\n",
       "\n",
       "    .dataframe thead th {\n",
       "        text-align: right;\n",
       "    }\n",
       "</style>\n",
       "<table border=\"1\" class=\"dataframe\">\n",
       "  <thead>\n",
       "    <tr style=\"text-align: right;\">\n",
       "      <th></th>\n",
       "      <th>city</th>\n",
       "      <th>city_ascii</th>\n",
       "      <th>state_id</th>\n",
       "      <th>state_name</th>\n",
       "      <th>county_fips</th>\n",
       "      <th>county_name</th>\n",
       "      <th>lat</th>\n",
       "      <th>lng</th>\n",
       "      <th>population</th>\n",
       "      <th>density</th>\n",
       "      <th>source</th>\n",
       "      <th>military</th>\n",
       "      <th>incorporated</th>\n",
       "      <th>timezone</th>\n",
       "      <th>ranking</th>\n",
       "      <th>zips</th>\n",
       "      <th>id</th>\n",
       "    </tr>\n",
       "  </thead>\n",
       "  <tbody>\n",
       "    <tr>\n",
       "      <th>0</th>\n",
       "      <td>New York</td>\n",
       "      <td>New York</td>\n",
       "      <td>NY</td>\n",
       "      <td>New York</td>\n",
       "      <td>36061</td>\n",
       "      <td>New York</td>\n",
       "      <td>40.6943</td>\n",
       "      <td>-73.9249</td>\n",
       "      <td>18713220</td>\n",
       "      <td>10715</td>\n",
       "      <td>polygon</td>\n",
       "      <td>False</td>\n",
       "      <td>True</td>\n",
       "      <td>America/New_York</td>\n",
       "      <td>1</td>\n",
       "      <td>11229 11226 11225 11224 11222 11221 11220 1138...</td>\n",
       "      <td>1840034016</td>\n",
       "    </tr>\n",
       "    <tr>\n",
       "      <th>18</th>\n",
       "      <td>Brooklyn</td>\n",
       "      <td>Brooklyn</td>\n",
       "      <td>NY</td>\n",
       "      <td>New York</td>\n",
       "      <td>36047</td>\n",
       "      <td>Kings</td>\n",
       "      <td>40.6501</td>\n",
       "      <td>-73.9496</td>\n",
       "      <td>2559903</td>\n",
       "      <td>14221</td>\n",
       "      <td>polygon</td>\n",
       "      <td>False</td>\n",
       "      <td>True</td>\n",
       "      <td>America/New_York</td>\n",
       "      <td>1</td>\n",
       "      <td>11212 11213 11216 11233 11238 11209 11214 1122...</td>\n",
       "      <td>1840034030</td>\n",
       "    </tr>\n",
       "    <tr>\n",
       "      <th>19</th>\n",
       "      <td>Queens</td>\n",
       "      <td>Queens</td>\n",
       "      <td>NY</td>\n",
       "      <td>New York</td>\n",
       "      <td>36081</td>\n",
       "      <td>Queens</td>\n",
       "      <td>40.7498</td>\n",
       "      <td>-73.7976</td>\n",
       "      <td>2230722</td>\n",
       "      <td>7885</td>\n",
       "      <td>polygon</td>\n",
       "      <td>False</td>\n",
       "      <td>True</td>\n",
       "      <td>America/New_York</td>\n",
       "      <td>1</td>\n",
       "      <td>11361 11362 11363 11364 11354 11355 11356 1135...</td>\n",
       "      <td>1840034002</td>\n",
       "    </tr>\n",
       "    <tr>\n",
       "      <th>34</th>\n",
       "      <td>Manhattan</td>\n",
       "      <td>Manhattan</td>\n",
       "      <td>NY</td>\n",
       "      <td>New York</td>\n",
       "      <td>36061</td>\n",
       "      <td>New York</td>\n",
       "      <td>40.7834</td>\n",
       "      <td>-73.9662</td>\n",
       "      <td>1628706</td>\n",
       "      <td>27545</td>\n",
       "      <td>polygon</td>\n",
       "      <td>False</td>\n",
       "      <td>True</td>\n",
       "      <td>America/New_York</td>\n",
       "      <td>1</td>\n",
       "      <td>10026 10027 10030 10037 10039 10001 10011 1001...</td>\n",
       "      <td>1840034000</td>\n",
       "    </tr>\n",
       "    <tr>\n",
       "      <th>39</th>\n",
       "      <td>Bronx</td>\n",
       "      <td>Bronx</td>\n",
       "      <td>NY</td>\n",
       "      <td>New York</td>\n",
       "      <td>36005</td>\n",
       "      <td>Bronx</td>\n",
       "      <td>40.8501</td>\n",
       "      <td>-73.8662</td>\n",
       "      <td>1418207</td>\n",
       "      <td>12862</td>\n",
       "      <td>polygon</td>\n",
       "      <td>False</td>\n",
       "      <td>True</td>\n",
       "      <td>America/New_York</td>\n",
       "      <td>1</td>\n",
       "      <td>10453 10457 10460 10458 10467 10468 10451 1045...</td>\n",
       "      <td>1840033999</td>\n",
       "    </tr>\n",
       "  </tbody>\n",
       "</table>\n",
       "</div>"
      ],
      "text/plain": [
       "         city city_ascii state_id state_name  county_fips county_name  \\\n",
       "0    New York   New York       NY   New York        36061    New York   \n",
       "18   Brooklyn   Brooklyn       NY   New York        36047       Kings   \n",
       "19     Queens     Queens       NY   New York        36081      Queens   \n",
       "34  Manhattan  Manhattan       NY   New York        36061    New York   \n",
       "39      Bronx      Bronx       NY   New York        36005       Bronx   \n",
       "\n",
       "        lat      lng  population  density   source  military  incorporated  \\\n",
       "0   40.6943 -73.9249    18713220    10715  polygon     False          True   \n",
       "18  40.6501 -73.9496     2559903    14221  polygon     False          True   \n",
       "19  40.7498 -73.7976     2230722     7885  polygon     False          True   \n",
       "34  40.7834 -73.9662     1628706    27545  polygon     False          True   \n",
       "39  40.8501 -73.8662     1418207    12862  polygon     False          True   \n",
       "\n",
       "            timezone  ranking  \\\n",
       "0   America/New_York        1   \n",
       "18  America/New_York        1   \n",
       "19  America/New_York        1   \n",
       "34  America/New_York        1   \n",
       "39  America/New_York        1   \n",
       "\n",
       "                                                 zips          id  \n",
       "0   11229 11226 11225 11224 11222 11221 11220 1138...  1840034016  \n",
       "18  11212 11213 11216 11233 11238 11209 11214 1122...  1840034030  \n",
       "19  11361 11362 11363 11364 11354 11355 11356 1135...  1840034002  \n",
       "34  10026 10027 10030 10037 10039 10001 10011 1001...  1840034000  \n",
       "39  10453 10457 10460 10458 10467 10468 10451 1045...  1840033999  "
      ]
     },
     "execution_count": 288,
     "metadata": {},
     "output_type": "execute_result"
    }
   ],
   "source": [
    "uscities_kaggle[uscities_kaggle['state_name']=='New York'].sort_values('population', ascending=False).head()"
   ]
  },
  {
   "cell_type": "markdown",
   "metadata": {},
   "source": [
    "But I can't do a groupby, because there are boroughs inside cities, so I end up with larger populations than the real ones"
   ]
  },
  {
   "cell_type": "markdown",
   "metadata": {},
   "source": [
    "## **Kaggle dataset with states population**"
   ]
  },
  {
   "cell_type": "code",
   "execution_count": 147,
   "metadata": {},
   "outputs": [
    {
     "data": {
      "text/html": [
       "<div>\n",
       "<style scoped>\n",
       "    .dataframe tbody tr th:only-of-type {\n",
       "        vertical-align: middle;\n",
       "    }\n",
       "\n",
       "    .dataframe tbody tr th {\n",
       "        vertical-align: top;\n",
       "    }\n",
       "\n",
       "    .dataframe thead th {\n",
       "        text-align: right;\n",
       "    }\n",
       "</style>\n",
       "<table border=\"1\" class=\"dataframe\">\n",
       "  <thead>\n",
       "    <tr style=\"text-align: right;\">\n",
       "      <th></th>\n",
       "      <th>artist</th>\n",
       "      <th>country</th>\n",
       "      <th>city</th>\n",
       "      <th>latitude</th>\n",
       "      <th>longitude</th>\n",
       "      <th>address</th>\n",
       "      <th>state</th>\n",
       "    </tr>\n",
       "  </thead>\n",
       "  <tbody>\n",
       "    <tr>\n",
       "      <th>0</th>\n",
       "      <td>Nirvana</td>\n",
       "      <td>United States</td>\n",
       "      <td>Aberdeen</td>\n",
       "      <td>46.975371</td>\n",
       "      <td>-123.815722</td>\n",
       "      <td>Aberdeen, Grays Harbor County, Washington, 985...</td>\n",
       "      <td>Washington</td>\n",
       "    </tr>\n",
       "    <tr>\n",
       "      <th>1</th>\n",
       "      <td>Close Your Eyes</td>\n",
       "      <td>United States</td>\n",
       "      <td>Abilene</td>\n",
       "      <td>32.446450</td>\n",
       "      <td>-99.747591</td>\n",
       "      <td>Abilene, Taylor County, Texas, United States</td>\n",
       "      <td>Texas</td>\n",
       "    </tr>\n",
       "    <tr>\n",
       "      <th>2</th>\n",
       "      <td>Micah P. Hinson</td>\n",
       "      <td>United States</td>\n",
       "      <td>Abilene</td>\n",
       "      <td>32.446450</td>\n",
       "      <td>-99.747591</td>\n",
       "      <td>Abilene, Taylor County, Texas, United States</td>\n",
       "      <td>Texas</td>\n",
       "    </tr>\n",
       "    <tr>\n",
       "      <th>3</th>\n",
       "      <td>A Loss For Words</td>\n",
       "      <td>United States</td>\n",
       "      <td>Abington</td>\n",
       "      <td>42.104823</td>\n",
       "      <td>-70.945322</td>\n",
       "      <td>Abington, Plymouth County, Massachusetts, 0235...</td>\n",
       "      <td>Massachusetts</td>\n",
       "    </tr>\n",
       "    <tr>\n",
       "      <th>4</th>\n",
       "      <td>Pretty Boy Floyd</td>\n",
       "      <td>United States</td>\n",
       "      <td>Adairsville</td>\n",
       "      <td>34.368327</td>\n",
       "      <td>-84.934906</td>\n",
       "      <td>Adairsville, Bartow County, Georgia, 30103, Un...</td>\n",
       "      <td>Georgia</td>\n",
       "    </tr>\n",
       "    <tr>\n",
       "      <th>...</th>\n",
       "      <td>...</td>\n",
       "      <td>...</td>\n",
       "      <td>...</td>\n",
       "      <td>...</td>\n",
       "      <td>...</td>\n",
       "      <td>...</td>\n",
       "      <td>...</td>\n",
       "    </tr>\n",
       "    <tr>\n",
       "      <th>5628</th>\n",
       "      <td>Asking Alexandria</td>\n",
       "      <td>United Kingdom</td>\n",
       "      <td>York</td>\n",
       "      <td>53.959055</td>\n",
       "      <td>-1.081536</td>\n",
       "      <td>York, York and North Yorkshire, England, YO1 8...</td>\n",
       "      <td>England</td>\n",
       "    </tr>\n",
       "    <tr>\n",
       "      <th>5629</th>\n",
       "      <td>The Seahorses</td>\n",
       "      <td>United Kingdom</td>\n",
       "      <td>York</td>\n",
       "      <td>53.965658</td>\n",
       "      <td>-1.074305</td>\n",
       "      <td>York, York and North Yorkshire, England, Unite...</td>\n",
       "      <td>York and North Yorkshire</td>\n",
       "    </tr>\n",
       "    <tr>\n",
       "      <th>5630</th>\n",
       "      <td>Shed Seven</td>\n",
       "      <td>United Kingdom</td>\n",
       "      <td>York</td>\n",
       "      <td>53.965658</td>\n",
       "      <td>-1.074305</td>\n",
       "      <td>York, York and North Yorkshire, England, Unite...</td>\n",
       "      <td>York and North Yorkshire</td>\n",
       "    </tr>\n",
       "    <tr>\n",
       "      <th>5631</th>\n",
       "      <td>A Forest of Stars</td>\n",
       "      <td>United Kingdom</td>\n",
       "      <td>Yorkshire</td>\n",
       "      <td>53.982527</td>\n",
       "      <td>-1.385250</td>\n",
       "      <td>Yorkshire, England, United Kingdom</td>\n",
       "      <td>Yorkshire</td>\n",
       "    </tr>\n",
       "    <tr>\n",
       "      <th>5632</th>\n",
       "      <td>No Devotion</td>\n",
       "      <td>United Kingdom</td>\n",
       "      <td>Pontypridd</td>\n",
       "      <td>51.600105</td>\n",
       "      <td>-3.344936</td>\n",
       "      <td>Pontypridd, Rhondda Cynon Taf, Cymru / Wales, ...</td>\n",
       "      <td>Rhondda Cynon Taf</td>\n",
       "    </tr>\n",
       "  </tbody>\n",
       "</table>\n",
       "<p>5633 rows × 7 columns</p>\n",
       "</div>"
      ],
      "text/plain": [
       "                 artist         country         city   latitude   longitude  \\\n",
       "0               Nirvana   United States     Aberdeen  46.975371 -123.815722   \n",
       "1       Close Your Eyes   United States      Abilene  32.446450  -99.747591   \n",
       "2       Micah P. Hinson   United States      Abilene  32.446450  -99.747591   \n",
       "3      A Loss For Words   United States     Abington  42.104823  -70.945322   \n",
       "4      Pretty Boy Floyd   United States  Adairsville  34.368327  -84.934906   \n",
       "...                 ...             ...          ...        ...         ...   \n",
       "5628  Asking Alexandria  United Kingdom         York  53.959055   -1.081536   \n",
       "5629      The Seahorses  United Kingdom         York  53.965658   -1.074305   \n",
       "5630         Shed Seven  United Kingdom         York  53.965658   -1.074305   \n",
       "5631  A Forest of Stars  United Kingdom    Yorkshire  53.982527   -1.385250   \n",
       "5632        No Devotion  United Kingdom   Pontypridd  51.600105   -3.344936   \n",
       "\n",
       "                                                address  \\\n",
       "0     Aberdeen, Grays Harbor County, Washington, 985...   \n",
       "1          Abilene, Taylor County, Texas, United States   \n",
       "2          Abilene, Taylor County, Texas, United States   \n",
       "3     Abington, Plymouth County, Massachusetts, 0235...   \n",
       "4     Adairsville, Bartow County, Georgia, 30103, Un...   \n",
       "...                                                 ...   \n",
       "5628  York, York and North Yorkshire, England, YO1 8...   \n",
       "5629  York, York and North Yorkshire, England, Unite...   \n",
       "5630  York, York and North Yorkshire, England, Unite...   \n",
       "5631                 Yorkshire, England, United Kingdom   \n",
       "5632  Pontypridd, Rhondda Cynon Taf, Cymru / Wales, ...   \n",
       "\n",
       "                         state  \n",
       "0                   Washington  \n",
       "1                        Texas  \n",
       "2                        Texas  \n",
       "3                Massachusetts  \n",
       "4                      Georgia  \n",
       "...                        ...  \n",
       "5628                   England  \n",
       "5629  York and North Yorkshire  \n",
       "5630  York and North Yorkshire  \n",
       "5631                 Yorkshire  \n",
       "5632         Rhondda Cynon Taf  \n",
       "\n",
       "[5633 rows x 7 columns]"
      ]
     },
     "execution_count": 147,
     "metadata": {},
     "output_type": "execute_result"
    }
   ],
   "source": [
    "df_coordinates_final"
   ]
  },
  {
   "cell_type": "code",
   "execution_count": 4,
   "metadata": {},
   "outputs": [
    {
     "data": {
      "text/plain": [
       "(118, 52)"
      ]
     },
     "execution_count": 4,
     "metadata": {},
     "output_type": "execute_result"
    }
   ],
   "source": [
    "state_pops = pd.read_csv('Datasets/state_pops.csv')\n",
    "state_pops.shape"
   ]
  },
  {
   "cell_type": "code",
   "execution_count": 105,
   "metadata": {},
   "outputs": [
    {
     "data": {
      "text/html": [
       "<div>\n",
       "<style scoped>\n",
       "    .dataframe tbody tr th:only-of-type {\n",
       "        vertical-align: middle;\n",
       "    }\n",
       "\n",
       "    .dataframe tbody tr th {\n",
       "        vertical-align: top;\n",
       "    }\n",
       "\n",
       "    .dataframe thead th {\n",
       "        text-align: right;\n",
       "    }\n",
       "</style>\n",
       "<table border=\"1\" class=\"dataframe\">\n",
       "  <thead>\n",
       "    <tr style=\"text-align: right;\">\n",
       "      <th></th>\n",
       "      <th>state</th>\n",
       "      <th>state_pop</th>\n",
       "    </tr>\n",
       "  </thead>\n",
       "  <tbody>\n",
       "    <tr>\n",
       "      <th>0</th>\n",
       "      <td>Alabama</td>\n",
       "      <td>4048508</td>\n",
       "    </tr>\n",
       "    <tr>\n",
       "      <th>1</th>\n",
       "      <td>Alaska</td>\n",
       "      <td>553120</td>\n",
       "    </tr>\n",
       "    <tr>\n",
       "      <th>2</th>\n",
       "      <td>Arizona</td>\n",
       "      <td>3679056</td>\n",
       "    </tr>\n",
       "    <tr>\n",
       "      <th>3</th>\n",
       "      <td>Arkansas</td>\n",
       "      <td>2354343</td>\n",
       "    </tr>\n",
       "    <tr>\n",
       "      <th>4</th>\n",
       "      <td>California</td>\n",
       "      <td>29950111</td>\n",
       "    </tr>\n",
       "  </tbody>\n",
       "</table>\n",
       "</div>"
      ],
      "text/plain": [
       "        state  state_pop\n",
       "0     Alabama    4048508\n",
       "1      Alaska     553120\n",
       "2     Arizona    3679056\n",
       "3    Arkansas    2354343\n",
       "4  California   29950111"
      ]
     },
     "execution_count": 105,
     "metadata": {},
     "output_type": "execute_result"
    }
   ],
   "source": [
    "us_1990_pop = state_pops.iloc[90,1:].T.reset_index()\n",
    "us_1990_pop.rename(columns=({'index': 'state', 90: 'state_pop'}), inplace=True)\n",
    "us_1990_pop['state_pop'] = (us_1990_pop['state_pop']*1000000).astype(int)\n",
    "us_1990_pop = us_1990_pop.sort_values('state').reset_index(drop=True)\n",
    "us_1990_pop.head()"
   ]
  },
  {
   "cell_type": "code",
   "execution_count": 106,
   "metadata": {},
   "outputs": [
    {
     "data": {
      "text/html": [
       "<div>\n",
       "<style scoped>\n",
       "    .dataframe tbody tr th:only-of-type {\n",
       "        vertical-align: middle;\n",
       "    }\n",
       "\n",
       "    .dataframe tbody tr th {\n",
       "        vertical-align: top;\n",
       "    }\n",
       "\n",
       "    .dataframe thead th {\n",
       "        text-align: right;\n",
       "    }\n",
       "</style>\n",
       "<table border=\"1\" class=\"dataframe\">\n",
       "  <thead>\n",
       "    <tr style=\"text-align: right;\">\n",
       "      <th></th>\n",
       "      <th>state</th>\n",
       "      <th>state_pop</th>\n",
       "    </tr>\n",
       "  </thead>\n",
       "  <tbody>\n",
       "    <tr>\n",
       "      <th>0</th>\n",
       "      <td>Alabama</td>\n",
       "      <td>4048508</td>\n",
       "    </tr>\n",
       "    <tr>\n",
       "      <th>1</th>\n",
       "      <td>Alaska</td>\n",
       "      <td>553120</td>\n",
       "    </tr>\n",
       "    <tr>\n",
       "      <th>2</th>\n",
       "      <td>Arizona</td>\n",
       "      <td>3679056</td>\n",
       "    </tr>\n",
       "    <tr>\n",
       "      <th>3</th>\n",
       "      <td>Arkansas</td>\n",
       "      <td>2354343</td>\n",
       "    </tr>\n",
       "    <tr>\n",
       "      <th>4</th>\n",
       "      <td>California</td>\n",
       "      <td>29950111</td>\n",
       "    </tr>\n",
       "    <tr>\n",
       "      <th>5</th>\n",
       "      <td>Colorado</td>\n",
       "      <td>3303862</td>\n",
       "    </tr>\n",
       "    <tr>\n",
       "      <th>6</th>\n",
       "      <td>Connecticut</td>\n",
       "      <td>3289055</td>\n",
       "    </tr>\n",
       "    <tr>\n",
       "      <th>7</th>\n",
       "      <td>D.C.</td>\n",
       "      <td>603814</td>\n",
       "    </tr>\n",
       "    <tr>\n",
       "      <th>8</th>\n",
       "      <td>Delaware</td>\n",
       "      <td>669063</td>\n",
       "    </tr>\n",
       "    <tr>\n",
       "      <th>9</th>\n",
       "      <td>Florida</td>\n",
       "      <td>13018365</td>\n",
       "    </tr>\n",
       "    <tr>\n",
       "      <th>10</th>\n",
       "      <td>Georgia</td>\n",
       "      <td>6506531</td>\n",
       "    </tr>\n",
       "    <tr>\n",
       "      <th>11</th>\n",
       "      <td>Hawaii</td>\n",
       "      <td>1112703</td>\n",
       "    </tr>\n",
       "    <tr>\n",
       "      <th>12</th>\n",
       "      <td>Idaho</td>\n",
       "      <td>1011882</td>\n",
       "    </tr>\n",
       "    <tr>\n",
       "      <th>13</th>\n",
       "      <td>Illinois</td>\n",
       "      <td>11446979</td>\n",
       "    </tr>\n",
       "    <tr>\n",
       "      <th>14</th>\n",
       "      <td>Indiana</td>\n",
       "      <td>5555097</td>\n",
       "    </tr>\n",
       "    <tr>\n",
       "      <th>15</th>\n",
       "      <td>Iowa</td>\n",
       "      <td>2779769</td>\n",
       "    </tr>\n",
       "    <tr>\n",
       "      <th>16</th>\n",
       "      <td>Kansas</td>\n",
       "      <td>2480683</td>\n",
       "    </tr>\n",
       "    <tr>\n",
       "      <th>17</th>\n",
       "      <td>Kentucky</td>\n",
       "      <td>3692584</td>\n",
       "    </tr>\n",
       "    <tr>\n",
       "      <th>18</th>\n",
       "      <td>Louisiana</td>\n",
       "      <td>4219179</td>\n",
       "    </tr>\n",
       "    <tr>\n",
       "      <th>19</th>\n",
       "      <td>Maine</td>\n",
       "      <td>1231296</td>\n",
       "    </tr>\n",
       "    <tr>\n",
       "      <th>20</th>\n",
       "      <td>Maryland</td>\n",
       "      <td>4797431</td>\n",
       "    </tr>\n",
       "    <tr>\n",
       "      <th>21</th>\n",
       "      <td>Massachusetts</td>\n",
       "      <td>6018664</td>\n",
       "    </tr>\n",
       "    <tr>\n",
       "      <th>22</th>\n",
       "      <td>Michigan</td>\n",
       "      <td>9310462</td>\n",
       "    </tr>\n",
       "    <tr>\n",
       "      <th>23</th>\n",
       "      <td>Minnesota</td>\n",
       "      <td>4387282</td>\n",
       "    </tr>\n",
       "    <tr>\n",
       "      <th>24</th>\n",
       "      <td>Mississippi</td>\n",
       "      <td>2577426</td>\n",
       "    </tr>\n",
       "    <tr>\n",
       "      <th>25</th>\n",
       "      <td>Missouri</td>\n",
       "      <td>5126370</td>\n",
       "    </tr>\n",
       "    <tr>\n",
       "      <th>26</th>\n",
       "      <td>Montana</td>\n",
       "      <td>799824</td>\n",
       "    </tr>\n",
       "    <tr>\n",
       "      <th>27</th>\n",
       "      <td>Nebraska</td>\n",
       "      <td>1580663</td>\n",
       "    </tr>\n",
       "    <tr>\n",
       "      <th>28</th>\n",
       "      <td>Nevada</td>\n",
       "      <td>1218629</td>\n",
       "    </tr>\n",
       "    <tr>\n",
       "      <th>29</th>\n",
       "      <td>New Hampshire</td>\n",
       "      <td>1218629</td>\n",
       "    </tr>\n",
       "    <tr>\n",
       "      <th>30</th>\n",
       "      <td>New Jersey</td>\n",
       "      <td>7757158</td>\n",
       "    </tr>\n",
       "    <tr>\n",
       "      <th>31</th>\n",
       "      <td>New Mexico</td>\n",
       "      <td>7757158</td>\n",
       "    </tr>\n",
       "    <tr>\n",
       "      <th>32</th>\n",
       "      <td>New York</td>\n",
       "      <td>18002855</td>\n",
       "    </tr>\n",
       "    <tr>\n",
       "      <th>33</th>\n",
       "      <td>North Carolina</td>\n",
       "      <td>6656986</td>\n",
       "    </tr>\n",
       "    <tr>\n",
       "      <th>34</th>\n",
       "      <td>North Dakota</td>\n",
       "      <td>637364</td>\n",
       "    </tr>\n",
       "    <tr>\n",
       "      <th>35</th>\n",
       "      <td>Ohio</td>\n",
       "      <td>10861837</td>\n",
       "    </tr>\n",
       "    <tr>\n",
       "      <th>36</th>\n",
       "      <td>Oklahoma</td>\n",
       "      <td>3147105</td>\n",
       "    </tr>\n",
       "    <tr>\n",
       "      <th>37</th>\n",
       "      <td>Oregon</td>\n",
       "      <td>2858547</td>\n",
       "    </tr>\n",
       "    <tr>\n",
       "      <th>38</th>\n",
       "      <td>Pennsylvania</td>\n",
       "      <td>11895604</td>\n",
       "    </tr>\n",
       "    <tr>\n",
       "      <th>39</th>\n",
       "      <td>Rhode Island</td>\n",
       "      <td>1004648</td>\n",
       "    </tr>\n",
       "    <tr>\n",
       "      <th>40</th>\n",
       "      <td>South Carolina</td>\n",
       "      <td>3499064</td>\n",
       "    </tr>\n",
       "    <tr>\n",
       "      <th>41</th>\n",
       "      <td>South Dakota</td>\n",
       "      <td>696666</td>\n",
       "    </tr>\n",
       "    <tr>\n",
       "      <th>42</th>\n",
       "      <td>Tennessee</td>\n",
       "      <td>4890626</td>\n",
       "    </tr>\n",
       "    <tr>\n",
       "      <th>43</th>\n",
       "      <td>Texas</td>\n",
       "      <td>17044714</td>\n",
       "    </tr>\n",
       "    <tr>\n",
       "      <th>44</th>\n",
       "      <td>Utah</td>\n",
       "      <td>1729722</td>\n",
       "    </tr>\n",
       "    <tr>\n",
       "      <th>45</th>\n",
       "      <td>Vermont</td>\n",
       "      <td>564526</td>\n",
       "    </tr>\n",
       "    <tr>\n",
       "      <th>46</th>\n",
       "      <td>Virginia</td>\n",
       "      <td>6213526</td>\n",
       "    </tr>\n",
       "    <tr>\n",
       "      <th>47</th>\n",
       "      <td>Washington</td>\n",
       "      <td>4900780</td>\n",
       "    </tr>\n",
       "    <tr>\n",
       "      <th>48</th>\n",
       "      <td>West Virginia</td>\n",
       "      <td>1792481</td>\n",
       "    </tr>\n",
       "    <tr>\n",
       "      <th>49</th>\n",
       "      <td>Wisconsin</td>\n",
       "      <td>4902265</td>\n",
       "    </tr>\n",
       "    <tr>\n",
       "      <th>50</th>\n",
       "      <td>Wyoming</td>\n",
       "      <td>453401</td>\n",
       "    </tr>\n",
       "  </tbody>\n",
       "</table>\n",
       "</div>"
      ],
      "text/plain": [
       "             state  state_pop\n",
       "0          Alabama    4048508\n",
       "1           Alaska     553120\n",
       "2          Arizona    3679056\n",
       "3         Arkansas    2354343\n",
       "4       California   29950111\n",
       "5         Colorado    3303862\n",
       "6      Connecticut    3289055\n",
       "7             D.C.     603814\n",
       "8         Delaware     669063\n",
       "9          Florida   13018365\n",
       "10         Georgia    6506531\n",
       "11          Hawaii    1112703\n",
       "12           Idaho    1011882\n",
       "13        Illinois   11446979\n",
       "14         Indiana    5555097\n",
       "15            Iowa    2779769\n",
       "16          Kansas    2480683\n",
       "17        Kentucky    3692584\n",
       "18       Louisiana    4219179\n",
       "19           Maine    1231296\n",
       "20        Maryland    4797431\n",
       "21   Massachusetts    6018664\n",
       "22        Michigan    9310462\n",
       "23       Minnesota    4387282\n",
       "24     Mississippi    2577426\n",
       "25        Missouri    5126370\n",
       "26         Montana     799824\n",
       "27        Nebraska    1580663\n",
       "28          Nevada    1218629\n",
       "29   New Hampshire    1218629\n",
       "30      New Jersey    7757158\n",
       "31      New Mexico    7757158\n",
       "32        New York   18002855\n",
       "33  North Carolina    6656986\n",
       "34    North Dakota     637364\n",
       "35            Ohio   10861837\n",
       "36        Oklahoma    3147105\n",
       "37          Oregon    2858547\n",
       "38    Pennsylvania   11895604\n",
       "39    Rhode Island    1004648\n",
       "40  South Carolina    3499064\n",
       "41    South Dakota     696666\n",
       "42       Tennessee    4890626\n",
       "43           Texas   17044714\n",
       "44            Utah    1729722\n",
       "45         Vermont     564526\n",
       "46        Virginia    6213526\n",
       "47      Washington    4900780\n",
       "48   West Virginia    1792481\n",
       "49       Wisconsin    4902265\n",
       "50         Wyoming     453401"
      ]
     },
     "execution_count": 106,
     "metadata": {},
     "output_type": "execute_result"
    }
   ],
   "source": [
    "us_1990_pop"
   ]
  },
  {
   "cell_type": "code",
   "execution_count": 117,
   "metadata": {},
   "outputs": [
    {
     "data": {
      "text/plain": [
       "(3160, 8)"
      ]
     },
     "execution_count": 117,
     "metadata": {},
     "output_type": "execute_result"
    }
   ],
   "source": [
    "pd.merge(df_coordinates_final, us_1990_pop, on='state').shape"
   ]
  },
  {
   "cell_type": "code",
   "execution_count": 108,
   "metadata": {},
   "outputs": [
    {
     "data": {
      "text/plain": [
       "(3163, 7)"
      ]
     },
     "execution_count": 108,
     "metadata": {},
     "output_type": "execute_result"
    }
   ],
   "source": [
    "df_us.shape"
   ]
  },
  {
   "cell_type": "code",
   "execution_count": 116,
   "metadata": {},
   "outputs": [
    {
     "data": {
      "text/html": [
       "<div>\n",
       "<style scoped>\n",
       "    .dataframe tbody tr th:only-of-type {\n",
       "        vertical-align: middle;\n",
       "    }\n",
       "\n",
       "    .dataframe tbody tr th {\n",
       "        vertical-align: top;\n",
       "    }\n",
       "\n",
       "    .dataframe thead th {\n",
       "        text-align: right;\n",
       "    }\n",
       "</style>\n",
       "<table border=\"1\" class=\"dataframe\">\n",
       "  <thead>\n",
       "    <tr style=\"text-align: right;\">\n",
       "      <th></th>\n",
       "      <th>artist</th>\n",
       "      <th>country</th>\n",
       "      <th>city</th>\n",
       "      <th>latitude</th>\n",
       "      <th>longitude</th>\n",
       "      <th>address</th>\n",
       "      <th>state</th>\n",
       "    </tr>\n",
       "  </thead>\n",
       "  <tbody>\n",
       "    <tr>\n",
       "      <th>1041</th>\n",
       "      <td>El Grupo Nuevo de Omar Rodriguez Lopez</td>\n",
       "      <td>United States</td>\n",
       "      <td>Bayamón</td>\n",
       "      <td>18.344958</td>\n",
       "      <td>-66.168374</td>\n",
       "      <td>Bayamón, Puerto Rico, United States</td>\n",
       "      <td>Puerto Rico</td>\n",
       "    </tr>\n",
       "    <tr>\n",
       "      <th>1788</th>\n",
       "      <td>Plan B</td>\n",
       "      <td>United States</td>\n",
       "      <td>Guayama</td>\n",
       "      <td>18.017959</td>\n",
       "      <td>-66.146502</td>\n",
       "      <td>Guayama, Puerto Rico, United States</td>\n",
       "      <td>Puerto Rico</td>\n",
       "    </tr>\n",
       "    <tr>\n",
       "      <th>3184</th>\n",
       "      <td>Puya</td>\n",
       "      <td>United States</td>\n",
       "      <td>Puerto Rico</td>\n",
       "      <td>18.224771</td>\n",
       "      <td>-66.485829</td>\n",
       "      <td>Puerto Rico, United States</td>\n",
       "      <td>Puerto Rico</td>\n",
       "    </tr>\n",
       "  </tbody>\n",
       "</table>\n",
       "</div>"
      ],
      "text/plain": [
       "                                      artist        country         city  \\\n",
       "1041  El Grupo Nuevo de Omar Rodriguez Lopez  United States      Bayamón   \n",
       "1788                                  Plan B  United States      Guayama   \n",
       "3184                                    Puya  United States  Puerto Rico   \n",
       "\n",
       "       latitude  longitude                              address        state  \n",
       "1041  18.344958 -66.168374  Bayamón, Puerto Rico, United States  Puerto Rico  \n",
       "1788  18.017959 -66.146502  Guayama, Puerto Rico, United States  Puerto Rico  \n",
       "3184  18.224771 -66.485829           Puerto Rico, United States  Puerto Rico  "
      ]
     },
     "execution_count": 116,
     "metadata": {},
     "output_type": "execute_result"
    }
   ],
   "source": [
    "df_us[~df_us['artist'].isin(pd.merge(df_coordinates_final, us_1990_pop, on='state')['artist'].values)]"
   ]
  },
  {
   "cell_type": "markdown",
   "metadata": {},
   "source": [
    "So we basically left out Puerto Rico"
   ]
  },
  {
   "cell_type": "code",
   "execution_count": null,
   "metadata": {},
   "outputs": [],
   "source": [
    "df_coordinates_us = pd.merge(df_coordinates_final, us_1990_pop, on='state')"
   ]
  },
  {
   "cell_type": "code",
   "execution_count": 142,
   "metadata": {},
   "outputs": [
    {
     "data": {
      "text/html": [
       "<div>\n",
       "<style scoped>\n",
       "    .dataframe tbody tr th:only-of-type {\n",
       "        vertical-align: middle;\n",
       "    }\n",
       "\n",
       "    .dataframe tbody tr th {\n",
       "        vertical-align: top;\n",
       "    }\n",
       "\n",
       "    .dataframe thead th {\n",
       "        text-align: right;\n",
       "    }\n",
       "</style>\n",
       "<table border=\"1\" class=\"dataframe\">\n",
       "  <thead>\n",
       "    <tr style=\"text-align: right;\">\n",
       "      <th></th>\n",
       "      <th>artist</th>\n",
       "      <th>country</th>\n",
       "      <th>city</th>\n",
       "      <th>latitude</th>\n",
       "      <th>longitude</th>\n",
       "      <th>address</th>\n",
       "      <th>state</th>\n",
       "      <th>state_pop</th>\n",
       "    </tr>\n",
       "  </thead>\n",
       "  <tbody>\n",
       "    <tr>\n",
       "      <th>2986</th>\n",
       "      <td>Diskreet</td>\n",
       "      <td>United States</td>\n",
       "      <td>Topeka</td>\n",
       "      <td>39.049011</td>\n",
       "      <td>-95.677556</td>\n",
       "      <td>Topeka, Shawnee County, Kansas, United States</td>\n",
       "      <td>Kansas</td>\n",
       "      <td>2480683</td>\n",
       "    </tr>\n",
       "    <tr>\n",
       "      <th>2987</th>\n",
       "      <td>Kansas</td>\n",
       "      <td>United States</td>\n",
       "      <td>Topeka</td>\n",
       "      <td>39.049011</td>\n",
       "      <td>-95.677556</td>\n",
       "      <td>Topeka, Shawnee County, Kansas, United States</td>\n",
       "      <td>Kansas</td>\n",
       "      <td>2480683</td>\n",
       "    </tr>\n",
       "    <tr>\n",
       "      <th>2988</th>\n",
       "      <td>Origin</td>\n",
       "      <td>United States</td>\n",
       "      <td>Topeka</td>\n",
       "      <td>39.049011</td>\n",
       "      <td>-95.677556</td>\n",
       "      <td>Topeka, Shawnee County, Kansas, United States</td>\n",
       "      <td>Kansas</td>\n",
       "      <td>2480683</td>\n",
       "    </tr>\n",
       "  </tbody>\n",
       "</table>\n",
       "</div>"
      ],
      "text/plain": [
       "        artist        country    city   latitude  longitude  \\\n",
       "2986  Diskreet  United States  Topeka  39.049011 -95.677556   \n",
       "2987    Kansas  United States  Topeka  39.049011 -95.677556   \n",
       "2988    Origin  United States  Topeka  39.049011 -95.677556   \n",
       "\n",
       "                                            address   state  state_pop  \n",
       "2986  Topeka, Shawnee County, Kansas, United States  Kansas    2480683  \n",
       "2987  Topeka, Shawnee County, Kansas, United States  Kansas    2480683  \n",
       "2988  Topeka, Shawnee County, Kansas, United States  Kansas    2480683  "
      ]
     },
     "execution_count": 142,
     "metadata": {},
     "output_type": "execute_result"
    }
   ],
   "source": [
    "df_coordinates_us[df_coordinates_us['city']=='Topeka']"
   ]
  },
  {
   "cell_type": "code",
   "execution_count": 136,
   "metadata": {},
   "outputs": [
    {
     "data": {
      "text/plain": [
       "(3160, 8)"
      ]
     },
     "execution_count": 136,
     "metadata": {},
     "output_type": "execute_result"
    }
   ],
   "source": [
    "df_coordinates_us.shape"
   ]
  },
  {
   "cell_type": "code",
   "execution_count": 137,
   "metadata": {},
   "outputs": [
    {
     "data": {
      "text/plain": [
       "(16781, 10)"
      ]
     },
     "execution_count": 137,
     "metadata": {},
     "output_type": "execute_result"
    }
   ],
   "source": [
    "df_exploded.shape"
   ]
  },
  {
   "cell_type": "code",
   "execution_count": 140,
   "metadata": {},
   "outputs": [
    {
     "data": {
      "text/html": [
       "<div>\n",
       "<style scoped>\n",
       "    .dataframe tbody tr th:only-of-type {\n",
       "        vertical-align: middle;\n",
       "    }\n",
       "\n",
       "    .dataframe tbody tr th {\n",
       "        vertical-align: top;\n",
       "    }\n",
       "\n",
       "    .dataframe thead th {\n",
       "        text-align: right;\n",
       "    }\n",
       "</style>\n",
       "<table border=\"1\" class=\"dataframe\">\n",
       "  <thead>\n",
       "    <tr style=\"text-align: right;\">\n",
       "      <th></th>\n",
       "      <th>year</th>\n",
       "      <th>artist</th>\n",
       "      <th>title</th>\n",
       "      <th>rating</th>\n",
       "      <th>votes</th>\n",
       "      <th>album_length</th>\n",
       "      <th>tracks</th>\n",
       "      <th>avg_song_length</th>\n",
       "      <th>subgenre</th>\n",
       "      <th>style</th>\n",
       "    </tr>\n",
       "  </thead>\n",
       "  <tbody>\n",
       "    <tr>\n",
       "      <th>0</th>\n",
       "      <td>2007</td>\n",
       "      <td>!!!</td>\n",
       "      <td>Myth Takes</td>\n",
       "      <td>3.48</td>\n",
       "      <td>94</td>\n",
       "      <td>60.22</td>\n",
       "      <td>13</td>\n",
       "      <td>4.63</td>\n",
       "      <td>indie</td>\n",
       "      <td>Alternative Rock</td>\n",
       "    </tr>\n",
       "  </tbody>\n",
       "</table>\n",
       "</div>"
      ],
      "text/plain": [
       "   year artist       title  rating  votes  album_length  tracks  \\\n",
       "0  2007    !!!  Myth Takes    3.48     94         60.22      13   \n",
       "\n",
       "   avg_song_length subgenre             style  \n",
       "0             4.63    indie  Alternative Rock  "
      ]
     },
     "execution_count": 140,
     "metadata": {},
     "output_type": "execute_result"
    }
   ],
   "source": [
    "df_exploded.head(1)"
   ]
  },
  {
   "cell_type": "code",
   "execution_count": 50,
   "metadata": {},
   "outputs": [
    {
     "data": {
      "text/plain": [
       "(16781, 16)"
      ]
     },
     "execution_count": 50,
     "metadata": {},
     "output_type": "execute_result"
    }
   ],
   "source": [
    "merge = pd.merge(df_coordinates_final, df_exploded)\n",
    "merge.shape"
   ]
  },
  {
   "cell_type": "code",
   "execution_count": 62,
   "metadata": {},
   "outputs": [
    {
     "data": {
      "text/plain": [
       "style\n",
       "Alternative Rock     106\n",
       "Indie Rock            88\n",
       "Grunge                48\n",
       "Punk                  45\n",
       "Hardcore              34\n",
       "Hard Rock             34\n",
       "Heavy Metal           26\n",
       "Doom Metal            23\n",
       "Psychedelic Rock      22\n",
       "Pop Rock              21\n",
       "Emo                   16\n",
       "Folk Rock             15\n",
       "Stoner Rock           12\n",
       "Post-Hardcore         11\n",
       "Post Rock              9\n",
       "Blues Rock             9\n",
       "Pop Punk               7\n",
       "Prog Rock              6\n",
       "Metalcore              5\n",
       "Country Rock           5\n",
       "Thrash                 5\n",
       "Death Metal            5\n",
       "Black Metal            4\n",
       "Soft Rock              3\n",
       "Garage Rock            3\n",
       "Progressive Metal      3\n",
       "Classic Rock           3\n",
       "Nu Metal               3\n",
       "Art Rock               2\n",
       "Rock & Roll            2\n",
       "Post-Punk              1\n",
       "Southern Rock          1\n",
       "Name: count, dtype: int64"
      ]
     },
     "execution_count": 62,
     "metadata": {},
     "output_type": "execute_result"
    }
   ],
   "source": [
    "merge[merge['state']=='Washington']['style'].value_counts()"
   ]
  },
  {
   "cell_type": "code",
   "execution_count": 59,
   "metadata": {},
   "outputs": [
    {
     "data": {
      "text/plain": [
       "78"
      ]
     },
     "execution_count": 59,
     "metadata": {},
     "output_type": "execute_result"
    }
   ],
   "source": [
    "merge[merge['state']=='Washington'].query(\"year < 1991\")['style'].count()"
   ]
  },
  {
   "cell_type": "code",
   "execution_count": 19,
   "metadata": {},
   "outputs": [
    {
     "data": {
      "text/plain": [
       "artist\n",
       "Built to Spill    9\n",
       "Josh Ritter       7\n",
       "Treepeople        1\n",
       "Name: count, dtype: int64"
      ]
     },
     "execution_count": 19,
     "metadata": {},
     "output_type": "execute_result"
    }
   ],
   "source": [
    "merge[merge['state']=='Idaho']['artist'].value_counts()"
   ]
  },
  {
   "cell_type": "code",
   "execution_count": null,
   "metadata": {},
   "outputs": [
    {
     "data": {
      "text/plain": [
       "(12500, 17)"
      ]
     },
     "metadata": {},
     "output_type": "display_data"
    }
   ],
   "source": [
    "merge2 = pd.merge(df_coordinates_us, df_exploded)\n",
    "merge2.shape"
   ]
  },
  {
   "cell_type": "code",
   "execution_count": 131,
   "metadata": {},
   "outputs": [
    {
     "data": {
      "text/plain": [
       "style\n",
       "Death Metal          70\n",
       "Alternative Rock     56\n",
       "Punk                 50\n",
       "Hardcore             42\n",
       "Heavy Metal          40\n",
       "Pop Rock             36\n",
       "Southern Rock        32\n",
       "Hard Rock            30\n",
       "Emo                  28\n",
       "Progressive Metal    23\n",
       "Indie Rock           19\n",
       "Nu Metal             17\n",
       "Metalcore            17\n",
       "Post-Hardcore        16\n",
       "Blues Rock           16\n",
       "Thrash               13\n",
       "Pop Punk             12\n",
       "Rock & Roll          10\n",
       "Prog Rock             9\n",
       "Classic Rock          7\n",
       "Folk Rock             5\n",
       "Soft Rock             5\n",
       "Black Metal           4\n",
       "Doom Metal            4\n",
       "Post Rock             3\n",
       "Grunge                3\n",
       "Speed Metal           2\n",
       "Psychedelic Rock      2\n",
       "Stoner Rock           2\n",
       "Symphonic Rock        2\n",
       "Country Rock          2\n",
       "Space Rock            1\n",
       "Garage Rock           1\n",
       "Shoegaze              1\n",
       "Name: count, dtype: int64"
      ]
     },
     "execution_count": 131,
     "metadata": {},
     "output_type": "execute_result"
    }
   ],
   "source": [
    "merge2[merge2['state']=='Florida']['style'].value_counts()"
   ]
  },
  {
   "cell_type": "code",
   "execution_count": 130,
   "metadata": {},
   "outputs": [
    {
     "data": {
      "text/plain": [
       "artist\n",
       "The Allman Brothers Band           22\n",
       "Tom Petty and the Heartbreakers    18\n",
       "Lynyrd Skynyrd                     17\n",
       "New Found Glory                    16\n",
       "Savatage                           15\n",
       "                                   ..\n",
       "Automatic Loveletter                1\n",
       "Dark New Day                        1\n",
       "Black Tide                          1\n",
       "Astronautalis                       1\n",
       "Whole Wheat Bread                   1\n",
       "Name: count, Length: 129, dtype: int64"
      ]
     },
     "execution_count": 130,
     "metadata": {},
     "output_type": "execute_result"
    }
   ],
   "source": [
    "merge2[merge2['state']=='Florida']['artist'].value_counts()"
   ]
  },
  {
   "cell_type": "markdown",
   "metadata": {},
   "source": [
    "# **UK regions**"
   ]
  },
  {
   "cell_type": "markdown",
   "metadata": {},
   "source": [
    "## Data cleaning"
   ]
  },
  {
   "cell_type": "code",
   "execution_count": null,
   "metadata": {},
   "outputs": [
    {
     "data": {
      "text/plain": [
       "(42214, 35)"
      ]
     },
     "execution_count": 59,
     "metadata": {},
     "output_type": "execute_result"
    }
   ],
   "source": [
    "great_britain = pd.read_csv('Datasets/great_britain.csv')\n",
    "great_britain.shape"
   ]
  },
  {
   "cell_type": "code",
   "execution_count": 10,
   "metadata": {},
   "outputs": [
    {
     "data": {
      "text/html": [
       "<div>\n",
       "<style scoped>\n",
       "    .dataframe tbody tr th:only-of-type {\n",
       "        vertical-align: middle;\n",
       "    }\n",
       "\n",
       "    .dataframe tbody tr th {\n",
       "        vertical-align: top;\n",
       "    }\n",
       "\n",
       "    .dataframe thead th {\n",
       "        text-align: right;\n",
       "    }\n",
       "</style>\n",
       "<table border=\"1\" class=\"dataframe\">\n",
       "  <thead>\n",
       "    <tr style=\"text-align: right;\">\n",
       "      <th></th>\n",
       "      <th>fid</th>\n",
       "      <th>id</th>\n",
       "      <th>names_uri</th>\n",
       "      <th>name1</th>\n",
       "      <th>name1_lang</th>\n",
       "      <th>name2</th>\n",
       "      <th>name2_lang</th>\n",
       "      <th>type</th>\n",
       "      <th>local_type</th>\n",
       "      <th>x</th>\n",
       "      <th>...</th>\n",
       "      <th>district_borough</th>\n",
       "      <th>district_borough_uri</th>\n",
       "      <th>district_borough_type</th>\n",
       "      <th>county_unitary</th>\n",
       "      <th>county_unitary_uri</th>\n",
       "      <th>county_unitary_type</th>\n",
       "      <th>region</th>\n",
       "      <th>region_uri</th>\n",
       "      <th>country</th>\n",
       "      <th>country_uri</th>\n",
       "    </tr>\n",
       "  </thead>\n",
       "  <tbody>\n",
       "    <tr>\n",
       "      <th>0</th>\n",
       "      <td>1</td>\n",
       "      <td>osgb4000000074541653</td>\n",
       "      <td>http://data.ordnancesurvey.co.uk/id/4000000074...</td>\n",
       "      <td>Westing</td>\n",
       "      <td>NaN</td>\n",
       "      <td>NaN</td>\n",
       "      <td>NaN</td>\n",
       "      <td>populatedPlace</td>\n",
       "      <td>Other Settlement</td>\n",
       "      <td>457077.000</td>\n",
       "      <td>...</td>\n",
       "      <td>NaN</td>\n",
       "      <td>NaN</td>\n",
       "      <td>NaN</td>\n",
       "      <td>Shetland Islands</td>\n",
       "      <td>http://data.ordnancesurvey.co.uk/id/7000000000...</td>\n",
       "      <td>http://data.ordnancesurvey.co.uk/ontology/admi...</td>\n",
       "      <td>Scotland</td>\n",
       "      <td>http://data.ordnancesurvey.co.uk/id/7000000000...</td>\n",
       "      <td>Scotland</td>\n",
       "      <td>http://data.ordnancesurvey.co.uk/id/country/sc...</td>\n",
       "    </tr>\n",
       "    <tr>\n",
       "      <th>1</th>\n",
       "      <td>2</td>\n",
       "      <td>osgb4000000074568983</td>\n",
       "      <td>http://data.ordnancesurvey.co.uk/id/4000000074...</td>\n",
       "      <td>Midbrake</td>\n",
       "      <td>NaN</td>\n",
       "      <td>NaN</td>\n",
       "      <td>NaN</td>\n",
       "      <td>populatedPlace</td>\n",
       "      <td>Hamlet</td>\n",
       "      <td>453085.130</td>\n",
       "      <td>...</td>\n",
       "      <td>NaN</td>\n",
       "      <td>NaN</td>\n",
       "      <td>NaN</td>\n",
       "      <td>Shetland Islands</td>\n",
       "      <td>http://data.ordnancesurvey.co.uk/id/7000000000...</td>\n",
       "      <td>http://data.ordnancesurvey.co.uk/ontology/admi...</td>\n",
       "      <td>Scotland</td>\n",
       "      <td>http://data.ordnancesurvey.co.uk/id/7000000000...</td>\n",
       "      <td>Scotland</td>\n",
       "      <td>http://data.ordnancesurvey.co.uk/id/country/sc...</td>\n",
       "    </tr>\n",
       "    <tr>\n",
       "      <th>2</th>\n",
       "      <td>3</td>\n",
       "      <td>osgb4000000074557431</td>\n",
       "      <td>http://data.ordnancesurvey.co.uk/id/4000000074...</td>\n",
       "      <td>Underhoull</td>\n",
       "      <td>NaN</td>\n",
       "      <td>NaN</td>\n",
       "      <td>NaN</td>\n",
       "      <td>populatedPlace</td>\n",
       "      <td>Other Settlement</td>\n",
       "      <td>457620.646</td>\n",
       "      <td>...</td>\n",
       "      <td>NaN</td>\n",
       "      <td>NaN</td>\n",
       "      <td>NaN</td>\n",
       "      <td>Shetland Islands</td>\n",
       "      <td>http://data.ordnancesurvey.co.uk/id/7000000000...</td>\n",
       "      <td>http://data.ordnancesurvey.co.uk/ontology/admi...</td>\n",
       "      <td>Scotland</td>\n",
       "      <td>http://data.ordnancesurvey.co.uk/id/7000000000...</td>\n",
       "      <td>Scotland</td>\n",
       "      <td>http://data.ordnancesurvey.co.uk/id/country/sc...</td>\n",
       "    </tr>\n",
       "    <tr>\n",
       "      <th>3</th>\n",
       "      <td>4</td>\n",
       "      <td>osgb4000000074557428</td>\n",
       "      <td>http://data.ordnancesurvey.co.uk/id/4000000074...</td>\n",
       "      <td>Gunnister</td>\n",
       "      <td>NaN</td>\n",
       "      <td>NaN</td>\n",
       "      <td>NaN</td>\n",
       "      <td>populatedPlace</td>\n",
       "      <td>Other Settlement</td>\n",
       "      <td>458754.144</td>\n",
       "      <td>...</td>\n",
       "      <td>NaN</td>\n",
       "      <td>NaN</td>\n",
       "      <td>NaN</td>\n",
       "      <td>Shetland Islands</td>\n",
       "      <td>http://data.ordnancesurvey.co.uk/id/7000000000...</td>\n",
       "      <td>http://data.ordnancesurvey.co.uk/ontology/admi...</td>\n",
       "      <td>Scotland</td>\n",
       "      <td>http://data.ordnancesurvey.co.uk/id/7000000000...</td>\n",
       "      <td>Scotland</td>\n",
       "      <td>http://data.ordnancesurvey.co.uk/id/country/sc...</td>\n",
       "    </tr>\n",
       "    <tr>\n",
       "      <th>4</th>\n",
       "      <td>5</td>\n",
       "      <td>osgb4000000074557430</td>\n",
       "      <td>http://data.ordnancesurvey.co.uk/id/4000000074...</td>\n",
       "      <td>Wick</td>\n",
       "      <td>NaN</td>\n",
       "      <td>NaN</td>\n",
       "      <td>NaN</td>\n",
       "      <td>populatedPlace</td>\n",
       "      <td>Hamlet</td>\n",
       "      <td>457132.437</td>\n",
       "      <td>...</td>\n",
       "      <td>NaN</td>\n",
       "      <td>NaN</td>\n",
       "      <td>NaN</td>\n",
       "      <td>Shetland Islands</td>\n",
       "      <td>http://data.ordnancesurvey.co.uk/id/7000000000...</td>\n",
       "      <td>http://data.ordnancesurvey.co.uk/ontology/admi...</td>\n",
       "      <td>Scotland</td>\n",
       "      <td>http://data.ordnancesurvey.co.uk/id/7000000000...</td>\n",
       "      <td>Scotland</td>\n",
       "      <td>http://data.ordnancesurvey.co.uk/id/country/sc...</td>\n",
       "    </tr>\n",
       "  </tbody>\n",
       "</table>\n",
       "<p>5 rows × 32 columns</p>\n",
       "</div>"
      ],
      "text/plain": [
       "   fid                    id  \\\n",
       "0    1  osgb4000000074541653   \n",
       "1    2  osgb4000000074568983   \n",
       "2    3  osgb4000000074557431   \n",
       "3    4  osgb4000000074557428   \n",
       "4    5  osgb4000000074557430   \n",
       "\n",
       "                                           names_uri       name1 name1_lang  \\\n",
       "0  http://data.ordnancesurvey.co.uk/id/4000000074...     Westing        NaN   \n",
       "1  http://data.ordnancesurvey.co.uk/id/4000000074...    Midbrake        NaN   \n",
       "2  http://data.ordnancesurvey.co.uk/id/4000000074...  Underhoull        NaN   \n",
       "3  http://data.ordnancesurvey.co.uk/id/4000000074...   Gunnister        NaN   \n",
       "4  http://data.ordnancesurvey.co.uk/id/4000000074...        Wick        NaN   \n",
       "\n",
       "  name2 name2_lang            type        local_type           x  ...  \\\n",
       "0   NaN        NaN  populatedPlace  Other Settlement  457077.000  ...   \n",
       "1   NaN        NaN  populatedPlace            Hamlet  453085.130  ...   \n",
       "2   NaN        NaN  populatedPlace  Other Settlement  457620.646  ...   \n",
       "3   NaN        NaN  populatedPlace  Other Settlement  458754.144  ...   \n",
       "4   NaN        NaN  populatedPlace            Hamlet  457132.437  ...   \n",
       "\n",
       "   district_borough  district_borough_uri  district_borough_type  \\\n",
       "0               NaN                   NaN                    NaN   \n",
       "1               NaN                   NaN                    NaN   \n",
       "2               NaN                   NaN                    NaN   \n",
       "3               NaN                   NaN                    NaN   \n",
       "4               NaN                   NaN                    NaN   \n",
       "\n",
       "     county_unitary                                 county_unitary_uri  \\\n",
       "0  Shetland Islands  http://data.ordnancesurvey.co.uk/id/7000000000...   \n",
       "1  Shetland Islands  http://data.ordnancesurvey.co.uk/id/7000000000...   \n",
       "2  Shetland Islands  http://data.ordnancesurvey.co.uk/id/7000000000...   \n",
       "3  Shetland Islands  http://data.ordnancesurvey.co.uk/id/7000000000...   \n",
       "4  Shetland Islands  http://data.ordnancesurvey.co.uk/id/7000000000...   \n",
       "\n",
       "                                 county_unitary_type    region  \\\n",
       "0  http://data.ordnancesurvey.co.uk/ontology/admi...  Scotland   \n",
       "1  http://data.ordnancesurvey.co.uk/ontology/admi...  Scotland   \n",
       "2  http://data.ordnancesurvey.co.uk/ontology/admi...  Scotland   \n",
       "3  http://data.ordnancesurvey.co.uk/ontology/admi...  Scotland   \n",
       "4  http://data.ordnancesurvey.co.uk/ontology/admi...  Scotland   \n",
       "\n",
       "                                          region_uri   country  \\\n",
       "0  http://data.ordnancesurvey.co.uk/id/7000000000...  Scotland   \n",
       "1  http://data.ordnancesurvey.co.uk/id/7000000000...  Scotland   \n",
       "2  http://data.ordnancesurvey.co.uk/id/7000000000...  Scotland   \n",
       "3  http://data.ordnancesurvey.co.uk/id/7000000000...  Scotland   \n",
       "4  http://data.ordnancesurvey.co.uk/id/7000000000...  Scotland   \n",
       "\n",
       "                                         country_uri  \n",
       "0  http://data.ordnancesurvey.co.uk/id/country/sc...  \n",
       "1  http://data.ordnancesurvey.co.uk/id/country/sc...  \n",
       "2  http://data.ordnancesurvey.co.uk/id/country/sc...  \n",
       "3  http://data.ordnancesurvey.co.uk/id/country/sc...  \n",
       "4  http://data.ordnancesurvey.co.uk/id/country/sc...  \n",
       "\n",
       "[5 rows x 32 columns]"
      ]
     },
     "execution_count": 10,
     "metadata": {},
     "output_type": "execute_result"
    }
   ],
   "source": [
    "great_britain.head()"
   ]
  },
  {
   "cell_type": "code",
   "execution_count": null,
   "metadata": {},
   "outputs": [],
   "source": [
    "# drop unnecessary columns\n",
    "great_britain.drop(columns=['SAME_AS_DBPEDIA', 'SAME_AS_GEONAMES', 'RELATED_SPATIAL_OBJECT'], inplace=True)\n",
    "\n",
    "# lower all the column names\n",
    "columnas_minusc = {i:i.lower() for i in great_britain.columns}\n",
    "great_britain.rename(columns = columnas_minusc, inplace=True)"
   ]
  },
  {
   "cell_type": "code",
   "execution_count": 11,
   "metadata": {},
   "outputs": [
    {
     "data": {
      "text/plain": [
       "region\n",
       "South West                  6489\n",
       "Scotland                    5896\n",
       "South East                  5359\n",
       "West Midlands               4350\n",
       "Eastern                     4193\n",
       "North West                  3752\n",
       "Wales                       3683\n",
       "Yorkshire and the Humber    3399\n",
       "East Midlands               2997\n",
       "North East                  1409\n",
       "London                       687\n",
       "Name: count, dtype: int64"
      ]
     },
     "execution_count": 11,
     "metadata": {},
     "output_type": "execute_result"
    }
   ],
   "source": [
    "great_britain['region'].value_counts()"
   ]
  },
  {
   "cell_type": "code",
   "execution_count": 8,
   "metadata": {},
   "outputs": [
    {
     "data": {
      "text/plain": [
       "(42214, 32)"
      ]
     },
     "execution_count": 8,
     "metadata": {},
     "output_type": "execute_result"
    }
   ],
   "source": [
    "great_britain.shape"
   ]
  },
  {
   "cell_type": "code",
   "execution_count": 83,
   "metadata": {},
   "outputs": [
    {
     "data": {
      "text/plain": [
       "(41979, 9)"
      ]
     },
     "execution_count": 83,
     "metadata": {},
     "output_type": "execute_result"
    }
   ],
   "source": [
    "great_britain.drop_duplicates(inplace=True)\n",
    "great_britain.shape"
   ]
  },
  {
   "cell_type": "markdown",
   "metadata": {},
   "source": [
    "## **Cities**"
   ]
  },
  {
   "cell_type": "code",
   "execution_count": 7,
   "metadata": {},
   "outputs": [
    {
     "data": {
      "text/plain": [
       "(41979, 9)"
      ]
     },
     "execution_count": 7,
     "metadata": {},
     "output_type": "execute_result"
    }
   ],
   "source": [
    "great_britain = pd.read_csv('Datasets/great_britain_regions.csv')\n",
    "great_britain.shape"
   ]
  },
  {
   "cell_type": "code",
   "execution_count": null,
   "metadata": {},
   "outputs": [
    {
     "data": {
      "text/plain": [
       "array(['Scotland', 'North East (England)', 'North West (England)',\n",
       "       'Yorkshire and the Humber', 'East Midlands (England)', 'Wales',\n",
       "       'West Midlands (England)', 'South West (England)',\n",
       "       'South East (England)', 'East', 'London'], dtype=object)"
      ]
     },
     "metadata": {},
     "output_type": "display_data"
    }
   ],
   "source": [
    "great_britain.replace('North East', 'North East (England)', inplace=True)\n",
    "great_britain.replace('North West', 'North West (England)', inplace=True)\n",
    "great_britain.replace('South East', 'South East (England)', inplace=True)\n",
    "great_britain.replace('South West', 'South West (England)', inplace=True)\n",
    "great_britain.replace('Eastern', 'East', inplace=True)\n",
    "great_britain.replace('East Midlands', 'East Midlands (England)', inplace=True)\n",
    "great_britain.replace('West Midlands', 'West Midlands (England)', inplace=True)\n",
    "great_britain['region'].unique()"
   ]
  },
  {
   "cell_type": "code",
   "execution_count": 8,
   "metadata": {},
   "outputs": [
    {
     "data": {
      "text/html": [
       "<div>\n",
       "<style scoped>\n",
       "    .dataframe tbody tr th:only-of-type {\n",
       "        vertical-align: middle;\n",
       "    }\n",
       "\n",
       "    .dataframe tbody tr th {\n",
       "        vertical-align: top;\n",
       "    }\n",
       "\n",
       "    .dataframe thead th {\n",
       "        text-align: right;\n",
       "    }\n",
       "</style>\n",
       "<table border=\"1\" class=\"dataframe\">\n",
       "  <thead>\n",
       "    <tr style=\"text-align: right;\">\n",
       "      <th></th>\n",
       "      <th>name1</th>\n",
       "      <th>name1_lang</th>\n",
       "      <th>name2</th>\n",
       "      <th>name2_lang</th>\n",
       "      <th>local_type</th>\n",
       "      <th>district_borough</th>\n",
       "      <th>county_unitary</th>\n",
       "      <th>region</th>\n",
       "      <th>country</th>\n",
       "    </tr>\n",
       "  </thead>\n",
       "  <tbody>\n",
       "    <tr>\n",
       "      <th>0</th>\n",
       "      <td>Westing</td>\n",
       "      <td>NaN</td>\n",
       "      <td>NaN</td>\n",
       "      <td>NaN</td>\n",
       "      <td>Other Settlement</td>\n",
       "      <td>NaN</td>\n",
       "      <td>Shetland Islands</td>\n",
       "      <td>Scotland</td>\n",
       "      <td>Scotland</td>\n",
       "    </tr>\n",
       "    <tr>\n",
       "      <th>1</th>\n",
       "      <td>Midbrake</td>\n",
       "      <td>NaN</td>\n",
       "      <td>NaN</td>\n",
       "      <td>NaN</td>\n",
       "      <td>Hamlet</td>\n",
       "      <td>NaN</td>\n",
       "      <td>Shetland Islands</td>\n",
       "      <td>Scotland</td>\n",
       "      <td>Scotland</td>\n",
       "    </tr>\n",
       "    <tr>\n",
       "      <th>2</th>\n",
       "      <td>Underhoull</td>\n",
       "      <td>NaN</td>\n",
       "      <td>NaN</td>\n",
       "      <td>NaN</td>\n",
       "      <td>Other Settlement</td>\n",
       "      <td>NaN</td>\n",
       "      <td>Shetland Islands</td>\n",
       "      <td>Scotland</td>\n",
       "      <td>Scotland</td>\n",
       "    </tr>\n",
       "    <tr>\n",
       "      <th>3</th>\n",
       "      <td>Gunnister</td>\n",
       "      <td>NaN</td>\n",
       "      <td>NaN</td>\n",
       "      <td>NaN</td>\n",
       "      <td>Other Settlement</td>\n",
       "      <td>NaN</td>\n",
       "      <td>Shetland Islands</td>\n",
       "      <td>Scotland</td>\n",
       "      <td>Scotland</td>\n",
       "    </tr>\n",
       "    <tr>\n",
       "      <th>4</th>\n",
       "      <td>Wick</td>\n",
       "      <td>NaN</td>\n",
       "      <td>NaN</td>\n",
       "      <td>NaN</td>\n",
       "      <td>Hamlet</td>\n",
       "      <td>NaN</td>\n",
       "      <td>Shetland Islands</td>\n",
       "      <td>Scotland</td>\n",
       "      <td>Scotland</td>\n",
       "    </tr>\n",
       "  </tbody>\n",
       "</table>\n",
       "</div>"
      ],
      "text/plain": [
       "        name1 name1_lang name2 name2_lang        local_type district_borough  \\\n",
       "0     Westing        NaN   NaN        NaN  Other Settlement              NaN   \n",
       "1    Midbrake        NaN   NaN        NaN            Hamlet              NaN   \n",
       "2  Underhoull        NaN   NaN        NaN  Other Settlement              NaN   \n",
       "3   Gunnister        NaN   NaN        NaN  Other Settlement              NaN   \n",
       "4        Wick        NaN   NaN        NaN            Hamlet              NaN   \n",
       "\n",
       "     county_unitary    region   country  \n",
       "0  Shetland Islands  Scotland  Scotland  \n",
       "1  Shetland Islands  Scotland  Scotland  \n",
       "2  Shetland Islands  Scotland  Scotland  \n",
       "3  Shetland Islands  Scotland  Scotland  \n",
       "4  Shetland Islands  Scotland  Scotland  "
      ]
     },
     "execution_count": 8,
     "metadata": {},
     "output_type": "execute_result"
    }
   ],
   "source": [
    "great_britain.head()"
   ]
  },
  {
   "cell_type": "markdown",
   "metadata": {},
   "source": [
    "### **Artists whose cities are not in the Kaggle df (``great_britain``)**"
   ]
  },
  {
   "cell_type": "code",
   "execution_count": 37,
   "metadata": {},
   "outputs": [
    {
     "data": {
      "text/html": [
       "<div>\n",
       "<style scoped>\n",
       "    .dataframe tbody tr th:only-of-type {\n",
       "        vertical-align: middle;\n",
       "    }\n",
       "\n",
       "    .dataframe tbody tr th {\n",
       "        vertical-align: top;\n",
       "    }\n",
       "\n",
       "    .dataframe thead th {\n",
       "        text-align: right;\n",
       "    }\n",
       "</style>\n",
       "<table border=\"1\" class=\"dataframe\">\n",
       "  <thead>\n",
       "    <tr style=\"text-align: right;\">\n",
       "      <th></th>\n",
       "      <th>artist</th>\n",
       "      <th>country</th>\n",
       "      <th>city</th>\n",
       "      <th>latitude</th>\n",
       "      <th>longitude</th>\n",
       "      <th>address</th>\n",
       "      <th>state</th>\n",
       "    </tr>\n",
       "  </thead>\n",
       "  <tbody>\n",
       "    <tr>\n",
       "      <th>8</th>\n",
       "      <td>Radiohead</td>\n",
       "      <td>United Kingdom</td>\n",
       "      <td>Abingdon</td>\n",
       "      <td>51.671484</td>\n",
       "      <td>-1.277972</td>\n",
       "      <td>Abingdon, Vale of White Horse, Oxfordshire, En...</td>\n",
       "      <td>England</td>\n",
       "    </tr>\n",
       "    <tr>\n",
       "      <th>17</th>\n",
       "      <td>Marmaduke Duke</td>\n",
       "      <td>United Kingdom</td>\n",
       "      <td>Ayrshire</td>\n",
       "      <td>55.500000</td>\n",
       "      <td>-4.500000</td>\n",
       "      <td>Ayrshire, Alba / Scotland, KA5 5NL, United Kin...</td>\n",
       "      <td>Scotland</td>\n",
       "    </tr>\n",
       "    <tr>\n",
       "      <th>30</th>\n",
       "      <td>Trigger the Bloodshed</td>\n",
       "      <td>United Kingdom</td>\n",
       "      <td>Bath/Bristol</td>\n",
       "      <td>51.386715</td>\n",
       "      <td>-2.402722</td>\n",
       "      <td>Bristol &amp; Bath Railway Path, Newbridge, Bath, ...</td>\n",
       "      <td>England</td>\n",
       "    </tr>\n",
       "    <tr>\n",
       "      <th>39</th>\n",
       "      <td>Stiff Little Fingers</td>\n",
       "      <td>United Kingdom</td>\n",
       "      <td>Belfast</td>\n",
       "      <td>54.596391</td>\n",
       "      <td>-5.930183</td>\n",
       "      <td>Belfast, County Antrim, Northern Ireland / Tua...</td>\n",
       "      <td>County Antrim</td>\n",
       "    </tr>\n",
       "    <tr>\n",
       "      <th>40</th>\n",
       "      <td>Darkest Era</td>\n",
       "      <td>United Kingdom</td>\n",
       "      <td>Belfast</td>\n",
       "      <td>54.596391</td>\n",
       "      <td>-5.930183</td>\n",
       "      <td>Belfast, County Antrim, Northern Ireland / Tua...</td>\n",
       "      <td>County Antrim</td>\n",
       "    </tr>\n",
       "    <tr>\n",
       "      <th>...</th>\n",
       "      <td>...</td>\n",
       "      <td>...</td>\n",
       "      <td>...</td>\n",
       "      <td>...</td>\n",
       "      <td>...</td>\n",
       "      <td>...</td>\n",
       "      <td>...</td>\n",
       "    </tr>\n",
       "    <tr>\n",
       "      <th>1460</th>\n",
       "      <td>Al Stewart</td>\n",
       "      <td>United Kingdom</td>\n",
       "      <td>Wimborne</td>\n",
       "      <td>50.794537</td>\n",
       "      <td>-1.975959</td>\n",
       "      <td>Wimborne, New Borough Road, St Johns, Wimborne...</td>\n",
       "      <td>England</td>\n",
       "    </tr>\n",
       "    <tr>\n",
       "      <th>1481</th>\n",
       "      <td>Mammoth Weed Wizard Bastard</td>\n",
       "      <td>United Kingdom</td>\n",
       "      <td>Wrexham</td>\n",
       "      <td>53.051057</td>\n",
       "      <td>-2.922756</td>\n",
       "      <td>Wockhardt UK / CP Pharmaceuticals, Ash Road No...</td>\n",
       "      <td>Wales</td>\n",
       "    </tr>\n",
       "    <tr>\n",
       "      <th>1482</th>\n",
       "      <td>Neck Deep</td>\n",
       "      <td>United Kingdom</td>\n",
       "      <td>Wrexham</td>\n",
       "      <td>53.046508</td>\n",
       "      <td>-2.993787</td>\n",
       "      <td>Wrexham, Cymru / Wales, LL11 1AP, United Kingdom</td>\n",
       "      <td>Wales</td>\n",
       "    </tr>\n",
       "    <tr>\n",
       "      <th>1483</th>\n",
       "      <td>James Bay</td>\n",
       "      <td>United Kingdom</td>\n",
       "      <td>Wycombe</td>\n",
       "      <td>51.764221</td>\n",
       "      <td>-0.306315</td>\n",
       "      <td>Wycombe Way, The Quadrant, Sandridge, St Alban...</td>\n",
       "      <td>England</td>\n",
       "    </tr>\n",
       "    <tr>\n",
       "      <th>1493</th>\n",
       "      <td>A Forest of Stars</td>\n",
       "      <td>United Kingdom</td>\n",
       "      <td>Yorkshire</td>\n",
       "      <td>53.982527</td>\n",
       "      <td>-1.385250</td>\n",
       "      <td>Yorkshire, England, United Kingdom</td>\n",
       "      <td>Yorkshire</td>\n",
       "    </tr>\n",
       "  </tbody>\n",
       "</table>\n",
       "<p>105 rows × 7 columns</p>\n",
       "</div>"
      ],
      "text/plain": [
       "                           artist         country          city   latitude  \\\n",
       "8                       Radiohead  United Kingdom      Abingdon  51.671484   \n",
       "17                 Marmaduke Duke  United Kingdom      Ayrshire  55.500000   \n",
       "30          Trigger the Bloodshed  United Kingdom  Bath/Bristol  51.386715   \n",
       "39           Stiff Little Fingers  United Kingdom       Belfast  54.596391   \n",
       "40                    Darkest Era  United Kingdom       Belfast  54.596391   \n",
       "...                           ...             ...           ...        ...   \n",
       "1460                   Al Stewart  United Kingdom      Wimborne  50.794537   \n",
       "1481  Mammoth Weed Wizard Bastard  United Kingdom       Wrexham  53.051057   \n",
       "1482                    Neck Deep  United Kingdom       Wrexham  53.046508   \n",
       "1483                    James Bay  United Kingdom       Wycombe  51.764221   \n",
       "1493            A Forest of Stars  United Kingdom     Yorkshire  53.982527   \n",
       "\n",
       "      longitude                                            address  \\\n",
       "8     -1.277972  Abingdon, Vale of White Horse, Oxfordshire, En...   \n",
       "17    -4.500000  Ayrshire, Alba / Scotland, KA5 5NL, United Kin...   \n",
       "30    -2.402722  Bristol & Bath Railway Path, Newbridge, Bath, ...   \n",
       "39    -5.930183  Belfast, County Antrim, Northern Ireland / Tua...   \n",
       "40    -5.930183  Belfast, County Antrim, Northern Ireland / Tua...   \n",
       "...         ...                                                ...   \n",
       "1460  -1.975959  Wimborne, New Borough Road, St Johns, Wimborne...   \n",
       "1481  -2.922756  Wockhardt UK / CP Pharmaceuticals, Ash Road No...   \n",
       "1482  -2.993787   Wrexham, Cymru / Wales, LL11 1AP, United Kingdom   \n",
       "1483  -0.306315  Wycombe Way, The Quadrant, Sandridge, St Alban...   \n",
       "1493  -1.385250                 Yorkshire, England, United Kingdom   \n",
       "\n",
       "              state  \n",
       "8           England  \n",
       "17         Scotland  \n",
       "30          England  \n",
       "39    County Antrim  \n",
       "40    County Antrim  \n",
       "...             ...  \n",
       "1460        England  \n",
       "1481          Wales  \n",
       "1482          Wales  \n",
       "1483        England  \n",
       "1493      Yorkshire  \n",
       "\n",
       "[105 rows x 7 columns]"
      ]
     },
     "execution_count": 37,
     "metadata": {},
     "output_type": "execute_result"
    }
   ],
   "source": [
    "df_not_name1 = df_coordinates_uk[~df_coordinates_uk['city'].isin(great_britain['name1'].values)]\n",
    "df_not_name1"
   ]
  },
  {
   "cell_type": "code",
   "execution_count": 38,
   "metadata": {},
   "outputs": [
    {
     "data": {
      "text/html": [
       "<div>\n",
       "<style scoped>\n",
       "    .dataframe tbody tr th:only-of-type {\n",
       "        vertical-align: middle;\n",
       "    }\n",
       "\n",
       "    .dataframe tbody tr th {\n",
       "        vertical-align: top;\n",
       "    }\n",
       "\n",
       "    .dataframe thead th {\n",
       "        text-align: right;\n",
       "    }\n",
       "</style>\n",
       "<table border=\"1\" class=\"dataframe\">\n",
       "  <thead>\n",
       "    <tr style=\"text-align: right;\">\n",
       "      <th></th>\n",
       "      <th>name1</th>\n",
       "      <th>name1_lang</th>\n",
       "      <th>name2</th>\n",
       "      <th>name2_lang</th>\n",
       "      <th>local_type</th>\n",
       "      <th>district_borough</th>\n",
       "      <th>county_unitary</th>\n",
       "      <th>region</th>\n",
       "      <th>country</th>\n",
       "    </tr>\n",
       "  </thead>\n",
       "  <tbody>\n",
       "  </tbody>\n",
       "</table>\n",
       "</div>"
      ],
      "text/plain": [
       "Empty DataFrame\n",
       "Columns: [name1, name1_lang, name2, name2_lang, local_type, district_borough, county_unitary, region, country]\n",
       "Index: []"
      ]
     },
     "execution_count": 38,
     "metadata": {},
     "output_type": "execute_result"
    }
   ],
   "source": [
    "great_britain[great_britain['name1']=='Abingdon']"
   ]
  },
  {
   "cell_type": "code",
   "execution_count": 39,
   "metadata": {},
   "outputs": [
    {
     "data": {
      "text/html": [
       "<div>\n",
       "<style scoped>\n",
       "    .dataframe tbody tr th:only-of-type {\n",
       "        vertical-align: middle;\n",
       "    }\n",
       "\n",
       "    .dataframe tbody tr th {\n",
       "        vertical-align: top;\n",
       "    }\n",
       "\n",
       "    .dataframe thead th {\n",
       "        text-align: right;\n",
       "    }\n",
       "</style>\n",
       "<table border=\"1\" class=\"dataframe\">\n",
       "  <thead>\n",
       "    <tr style=\"text-align: right;\">\n",
       "      <th></th>\n",
       "      <th>artist</th>\n",
       "      <th>country</th>\n",
       "      <th>city</th>\n",
       "      <th>latitude</th>\n",
       "      <th>longitude</th>\n",
       "      <th>address</th>\n",
       "      <th>state</th>\n",
       "    </tr>\n",
       "  </thead>\n",
       "  <tbody>\n",
       "    <tr>\n",
       "      <th>8</th>\n",
       "      <td>Radiohead</td>\n",
       "      <td>United Kingdom</td>\n",
       "      <td>Abingdon</td>\n",
       "      <td>51.671484</td>\n",
       "      <td>-1.277972</td>\n",
       "      <td>Abingdon, Vale of White Horse, Oxfordshire, En...</td>\n",
       "      <td>England</td>\n",
       "    </tr>\n",
       "    <tr>\n",
       "      <th>17</th>\n",
       "      <td>Marmaduke Duke</td>\n",
       "      <td>United Kingdom</td>\n",
       "      <td>Ayrshire</td>\n",
       "      <td>55.500000</td>\n",
       "      <td>-4.500000</td>\n",
       "      <td>Ayrshire, Alba / Scotland, KA5 5NL, United Kin...</td>\n",
       "      <td>Scotland</td>\n",
       "    </tr>\n",
       "    <tr>\n",
       "      <th>30</th>\n",
       "      <td>Trigger the Bloodshed</td>\n",
       "      <td>United Kingdom</td>\n",
       "      <td>Bath/Bristol</td>\n",
       "      <td>51.386715</td>\n",
       "      <td>-2.402722</td>\n",
       "      <td>Bristol &amp; Bath Railway Path, Newbridge, Bath, ...</td>\n",
       "      <td>England</td>\n",
       "    </tr>\n",
       "    <tr>\n",
       "      <th>39</th>\n",
       "      <td>Stiff Little Fingers</td>\n",
       "      <td>United Kingdom</td>\n",
       "      <td>Belfast</td>\n",
       "      <td>54.596391</td>\n",
       "      <td>-5.930183</td>\n",
       "      <td>Belfast, County Antrim, Northern Ireland / Tua...</td>\n",
       "      <td>County Antrim</td>\n",
       "    </tr>\n",
       "    <tr>\n",
       "      <th>40</th>\n",
       "      <td>Darkest Era</td>\n",
       "      <td>United Kingdom</td>\n",
       "      <td>Belfast</td>\n",
       "      <td>54.596391</td>\n",
       "      <td>-5.930183</td>\n",
       "      <td>Belfast, County Antrim, Northern Ireland / Tua...</td>\n",
       "      <td>County Antrim</td>\n",
       "    </tr>\n",
       "    <tr>\n",
       "      <th>...</th>\n",
       "      <td>...</td>\n",
       "      <td>...</td>\n",
       "      <td>...</td>\n",
       "      <td>...</td>\n",
       "      <td>...</td>\n",
       "      <td>...</td>\n",
       "      <td>...</td>\n",
       "    </tr>\n",
       "    <tr>\n",
       "      <th>1443</th>\n",
       "      <td>Bibio</td>\n",
       "      <td>United Kingdom</td>\n",
       "      <td>West Midlands</td>\n",
       "      <td>52.505432</td>\n",
       "      <td>-1.964678</td>\n",
       "      <td>West Midlands, Warwickshire, West Midlands, En...</td>\n",
       "      <td>West Midlands</td>\n",
       "    </tr>\n",
       "    <tr>\n",
       "      <th>1444</th>\n",
       "      <td>Host</td>\n",
       "      <td>United Kingdom</td>\n",
       "      <td>West Yorkshire</td>\n",
       "      <td>53.741427</td>\n",
       "      <td>-1.720200</td>\n",
       "      <td>West Yorkshire, England, United Kingdom</td>\n",
       "      <td>West Yorkshire</td>\n",
       "    </tr>\n",
       "    <tr>\n",
       "      <th>1460</th>\n",
       "      <td>Al Stewart</td>\n",
       "      <td>United Kingdom</td>\n",
       "      <td>Wimborne</td>\n",
       "      <td>50.794537</td>\n",
       "      <td>-1.975959</td>\n",
       "      <td>Wimborne, New Borough Road, St Johns, Wimborne...</td>\n",
       "      <td>England</td>\n",
       "    </tr>\n",
       "    <tr>\n",
       "      <th>1483</th>\n",
       "      <td>James Bay</td>\n",
       "      <td>United Kingdom</td>\n",
       "      <td>Wycombe</td>\n",
       "      <td>51.764221</td>\n",
       "      <td>-0.306315</td>\n",
       "      <td>Wycombe Way, The Quadrant, Sandridge, St Alban...</td>\n",
       "      <td>England</td>\n",
       "    </tr>\n",
       "    <tr>\n",
       "      <th>1493</th>\n",
       "      <td>A Forest of Stars</td>\n",
       "      <td>United Kingdom</td>\n",
       "      <td>Yorkshire</td>\n",
       "      <td>53.982527</td>\n",
       "      <td>-1.385250</td>\n",
       "      <td>Yorkshire, England, United Kingdom</td>\n",
       "      <td>Yorkshire</td>\n",
       "    </tr>\n",
       "  </tbody>\n",
       "</table>\n",
       "<p>96 rows × 7 columns</p>\n",
       "</div>"
      ],
      "text/plain": [
       "                     artist         country            city   latitude  \\\n",
       "8                 Radiohead  United Kingdom        Abingdon  51.671484   \n",
       "17           Marmaduke Duke  United Kingdom        Ayrshire  55.500000   \n",
       "30    Trigger the Bloodshed  United Kingdom    Bath/Bristol  51.386715   \n",
       "39     Stiff Little Fingers  United Kingdom         Belfast  54.596391   \n",
       "40              Darkest Era  United Kingdom         Belfast  54.596391   \n",
       "...                     ...             ...             ...        ...   \n",
       "1443                  Bibio  United Kingdom   West Midlands  52.505432   \n",
       "1444                   Host  United Kingdom  West Yorkshire  53.741427   \n",
       "1460             Al Stewart  United Kingdom        Wimborne  50.794537   \n",
       "1483              James Bay  United Kingdom         Wycombe  51.764221   \n",
       "1493      A Forest of Stars  United Kingdom       Yorkshire  53.982527   \n",
       "\n",
       "      longitude                                            address  \\\n",
       "8     -1.277972  Abingdon, Vale of White Horse, Oxfordshire, En...   \n",
       "17    -4.500000  Ayrshire, Alba / Scotland, KA5 5NL, United Kin...   \n",
       "30    -2.402722  Bristol & Bath Railway Path, Newbridge, Bath, ...   \n",
       "39    -5.930183  Belfast, County Antrim, Northern Ireland / Tua...   \n",
       "40    -5.930183  Belfast, County Antrim, Northern Ireland / Tua...   \n",
       "...         ...                                                ...   \n",
       "1443  -1.964678  West Midlands, Warwickshire, West Midlands, En...   \n",
       "1444  -1.720200            West Yorkshire, England, United Kingdom   \n",
       "1460  -1.975959  Wimborne, New Borough Road, St Johns, Wimborne...   \n",
       "1483  -0.306315  Wycombe Way, The Quadrant, Sandridge, St Alban...   \n",
       "1493  -1.385250                 Yorkshire, England, United Kingdom   \n",
       "\n",
       "               state  \n",
       "8            England  \n",
       "17          Scotland  \n",
       "30           England  \n",
       "39     County Antrim  \n",
       "40     County Antrim  \n",
       "...              ...  \n",
       "1443   West Midlands  \n",
       "1444  West Yorkshire  \n",
       "1460         England  \n",
       "1483         England  \n",
       "1493       Yorkshire  \n",
       "\n",
       "[96 rows x 7 columns]"
      ]
     },
     "execution_count": 39,
     "metadata": {},
     "output_type": "execute_result"
    }
   ],
   "source": [
    "df_not_name1_name2 = df_coordinates_uk[~df_coordinates_uk['city'].isin(great_britain['name2'].values) & ~df_coordinates_uk['city'].isin(great_britain['name1'].values)]\n",
    "df_not_name1_name2"
   ]
  },
  {
   "cell_type": "markdown",
   "metadata": {},
   "source": [
    "**There are 96 artists whose cities are not in the df containing the info of the region (``great_britain``)**"
   ]
  },
  {
   "cell_type": "code",
   "execution_count": 40,
   "metadata": {},
   "outputs": [
    {
     "data": {
      "text/html": [
       "<div>\n",
       "<style scoped>\n",
       "    .dataframe tbody tr th:only-of-type {\n",
       "        vertical-align: middle;\n",
       "    }\n",
       "\n",
       "    .dataframe tbody tr th {\n",
       "        vertical-align: top;\n",
       "    }\n",
       "\n",
       "    .dataframe thead th {\n",
       "        text-align: right;\n",
       "    }\n",
       "</style>\n",
       "<table border=\"1\" class=\"dataframe\">\n",
       "  <thead>\n",
       "    <tr style=\"text-align: right;\">\n",
       "      <th></th>\n",
       "      <th>artist</th>\n",
       "      <th>country</th>\n",
       "      <th>city</th>\n",
       "      <th>latitude</th>\n",
       "      <th>longitude</th>\n",
       "      <th>address</th>\n",
       "      <th>state</th>\n",
       "    </tr>\n",
       "  </thead>\n",
       "  <tbody>\n",
       "    <tr>\n",
       "      <th>259</th>\n",
       "      <td>Gorky's Zygotic Mynci</td>\n",
       "      <td>United Kingdom</td>\n",
       "      <td>Carmarthen</td>\n",
       "      <td>51.859126</td>\n",
       "      <td>-4.311591</td>\n",
       "      <td>Carmarthen, Sir Gaerfyrddin / Carmarthenshire,...</td>\n",
       "      <td>Wales</td>\n",
       "    </tr>\n",
       "    <tr>\n",
       "      <th>489</th>\n",
       "      <td>Neon Neon</td>\n",
       "      <td>United Kingdom</td>\n",
       "      <td>Haverfordwest</td>\n",
       "      <td>51.802127</td>\n",
       "      <td>-4.968425</td>\n",
       "      <td>Haverfordwest, Pembrokeshire, Cymru / Wales, U...</td>\n",
       "      <td>Pembrokeshire</td>\n",
       "    </tr>\n",
       "    <tr>\n",
       "      <th>1115</th>\n",
       "      <td>Bastions</td>\n",
       "      <td>United Kingdom</td>\n",
       "      <td>Menai Bridge</td>\n",
       "      <td>53.225935</td>\n",
       "      <td>-4.163106</td>\n",
       "      <td>Porthaethwy / Menai Bridge, Ynys Môn / Isle of...</td>\n",
       "      <td>Wales</td>\n",
       "    </tr>\n",
       "    <tr>\n",
       "      <th>1121</th>\n",
       "      <td>The Blackout</td>\n",
       "      <td>United Kingdom</td>\n",
       "      <td>Merthyr Tydfil</td>\n",
       "      <td>51.745566</td>\n",
       "      <td>-3.378608</td>\n",
       "      <td>Merthyr Tydfil, Cymru / Wales, CF47 8BS, Unite...</td>\n",
       "      <td>Wales</td>\n",
       "    </tr>\n",
       "    <tr>\n",
       "      <th>1311</th>\n",
       "      <td>David Gray</td>\n",
       "      <td>United Kingdom</td>\n",
       "      <td>Solva</td>\n",
       "      <td>51.873555</td>\n",
       "      <td>-5.197917</td>\n",
       "      <td>Solva, Pembrokeshire, Cymru / Wales, SA62 6TA,...</td>\n",
       "      <td>Wales</td>\n",
       "    </tr>\n",
       "    <tr>\n",
       "      <th>1387</th>\n",
       "      <td>Badfinger</td>\n",
       "      <td>United Kingdom</td>\n",
       "      <td>Swansea</td>\n",
       "      <td>51.619596</td>\n",
       "      <td>-3.945925</td>\n",
       "      <td>Swansea, Cymru / Wales, SA1 3BN, United Kingdom</td>\n",
       "      <td>Wales</td>\n",
       "    </tr>\n",
       "    <tr>\n",
       "      <th>1388</th>\n",
       "      <td>Acrimony</td>\n",
       "      <td>United Kingdom</td>\n",
       "      <td>Swansea</td>\n",
       "      <td>51.619596</td>\n",
       "      <td>-3.945925</td>\n",
       "      <td>Swansea, Cymru / Wales, SA1 3BN, United Kingdom</td>\n",
       "      <td>Wales</td>\n",
       "    </tr>\n",
       "    <tr>\n",
       "      <th>1481</th>\n",
       "      <td>Mammoth Weed Wizard Bastard</td>\n",
       "      <td>United Kingdom</td>\n",
       "      <td>Wrexham</td>\n",
       "      <td>53.051057</td>\n",
       "      <td>-2.922756</td>\n",
       "      <td>Wockhardt UK / CP Pharmaceuticals, Ash Road No...</td>\n",
       "      <td>Wales</td>\n",
       "    </tr>\n",
       "    <tr>\n",
       "      <th>1482</th>\n",
       "      <td>Neck Deep</td>\n",
       "      <td>United Kingdom</td>\n",
       "      <td>Wrexham</td>\n",
       "      <td>53.046508</td>\n",
       "      <td>-2.993787</td>\n",
       "      <td>Wrexham, Cymru / Wales, LL11 1AP, United Kingdom</td>\n",
       "      <td>Wales</td>\n",
       "    </tr>\n",
       "  </tbody>\n",
       "</table>\n",
       "</div>"
      ],
      "text/plain": [
       "                           artist         country            city   latitude  \\\n",
       "259         Gorky's Zygotic Mynci  United Kingdom      Carmarthen  51.859126   \n",
       "489                     Neon Neon  United Kingdom   Haverfordwest  51.802127   \n",
       "1115                     Bastions  United Kingdom    Menai Bridge  53.225935   \n",
       "1121                 The Blackout  United Kingdom  Merthyr Tydfil  51.745566   \n",
       "1311                   David Gray  United Kingdom           Solva  51.873555   \n",
       "1387                    Badfinger  United Kingdom         Swansea  51.619596   \n",
       "1388                     Acrimony  United Kingdom         Swansea  51.619596   \n",
       "1481  Mammoth Weed Wizard Bastard  United Kingdom         Wrexham  53.051057   \n",
       "1482                    Neck Deep  United Kingdom         Wrexham  53.046508   \n",
       "\n",
       "      longitude                                            address  \\\n",
       "259   -4.311591  Carmarthen, Sir Gaerfyrddin / Carmarthenshire,...   \n",
       "489   -4.968425  Haverfordwest, Pembrokeshire, Cymru / Wales, U...   \n",
       "1115  -4.163106  Porthaethwy / Menai Bridge, Ynys Môn / Isle of...   \n",
       "1121  -3.378608  Merthyr Tydfil, Cymru / Wales, CF47 8BS, Unite...   \n",
       "1311  -5.197917  Solva, Pembrokeshire, Cymru / Wales, SA62 6TA,...   \n",
       "1387  -3.945925    Swansea, Cymru / Wales, SA1 3BN, United Kingdom   \n",
       "1388  -3.945925    Swansea, Cymru / Wales, SA1 3BN, United Kingdom   \n",
       "1481  -2.922756  Wockhardt UK / CP Pharmaceuticals, Ash Road No...   \n",
       "1482  -2.993787   Wrexham, Cymru / Wales, LL11 1AP, United Kingdom   \n",
       "\n",
       "              state  \n",
       "259           Wales  \n",
       "489   Pembrokeshire  \n",
       "1115          Wales  \n",
       "1121          Wales  \n",
       "1311          Wales  \n",
       "1387          Wales  \n",
       "1388          Wales  \n",
       "1481          Wales  \n",
       "1482          Wales  "
      ]
     },
     "execution_count": 40,
     "metadata": {},
     "output_type": "execute_result"
    }
   ],
   "source": [
    "df_not_name1[~df_not_name1['city'].isin(df_not_name1_name2['city'].values)]"
   ]
  },
  {
   "cell_type": "code",
   "execution_count": null,
   "metadata": {},
   "outputs": [
    {
     "data": {
      "text/html": [
       "<div>\n",
       "<style scoped>\n",
       "    .dataframe tbody tr th:only-of-type {\n",
       "        vertical-align: middle;\n",
       "    }\n",
       "\n",
       "    .dataframe tbody tr th {\n",
       "        vertical-align: top;\n",
       "    }\n",
       "\n",
       "    .dataframe thead th {\n",
       "        text-align: right;\n",
       "    }\n",
       "</style>\n",
       "<table border=\"1\" class=\"dataframe\">\n",
       "  <thead>\n",
       "    <tr style=\"text-align: right;\">\n",
       "      <th></th>\n",
       "      <th>name1</th>\n",
       "      <th>name1_lang</th>\n",
       "      <th>name2</th>\n",
       "      <th>name2_lang</th>\n",
       "      <th>local_type</th>\n",
       "      <th>district_borough</th>\n",
       "      <th>county_unitary</th>\n",
       "      <th>region</th>\n",
       "      <th>country</th>\n",
       "    </tr>\n",
       "  </thead>\n",
       "  <tbody>\n",
       "    <tr>\n",
       "      <th>18624</th>\n",
       "      <td>Hwlffordd</td>\n",
       "      <td>cym</td>\n",
       "      <td>Haverfordwest</td>\n",
       "      <td>eng</td>\n",
       "      <td>Town</td>\n",
       "      <td>NaN</td>\n",
       "      <td>Sir Benfro - Pembrokeshire</td>\n",
       "      <td>Wales</td>\n",
       "      <td>Wales</td>\n",
       "    </tr>\n",
       "  </tbody>\n",
       "</table>\n",
       "</div>"
      ],
      "text/plain": [
       "           name1 name1_lang          name2 name2_lang local_type  \\\n",
       "18624  Hwlffordd        cym  Haverfordwest        eng       Town   \n",
       "\n",
       "      district_borough              county_unitary region country  \n",
       "18624              NaN  Sir Benfro - Pembrokeshire  Wales   Wales  "
      ]
     },
     "metadata": {},
     "output_type": "display_data"
    }
   ],
   "source": [
    "great_britain[great_britain['name2']=='Haverfordwest']"
   ]
  },
  {
   "cell_type": "code",
   "execution_count": null,
   "metadata": {},
   "outputs": [],
   "source": [
    "# in these last cases the english name is the second one, and the welsh the first one. Let's change them so I can drop some columns \n",
    "replacement_dict = {\n",
    "    'Carmarthen': 'Carmarthen',\n",
    "    'Haverfordwest': 'Haverfordwest',\n",
    "    'Menai Bridge': 'Menai Bridge',\n",
    "    'Merthyr Tydfil': 'Merthyr Tydfil',\n",
    "    'Solva': 'Solva', \n",
    "    'Swansea': 'Swansea',\n",
    "    'Wrexham': 'Wrexham'\n",
    "}"
   ]
  },
  {
   "cell_type": "code",
   "execution_count": null,
   "metadata": {},
   "outputs": [],
   "source": [
    "# change the values\n",
    "for key, value in replacement_dict.items():\n",
    "    great_britain.loc[great_britain['name2'] == key, 'name1'] = value"
   ]
  },
  {
   "cell_type": "code",
   "execution_count": null,
   "metadata": {},
   "outputs": [
    {
     "data": {
      "text/html": [
       "<div>\n",
       "<style scoped>\n",
       "    .dataframe tbody tr th:only-of-type {\n",
       "        vertical-align: middle;\n",
       "    }\n",
       "\n",
       "    .dataframe tbody tr th {\n",
       "        vertical-align: top;\n",
       "    }\n",
       "\n",
       "    .dataframe thead th {\n",
       "        text-align: right;\n",
       "    }\n",
       "</style>\n",
       "<table border=\"1\" class=\"dataframe\">\n",
       "  <thead>\n",
       "    <tr style=\"text-align: right;\">\n",
       "      <th></th>\n",
       "      <th>name1</th>\n",
       "      <th>name1_lang</th>\n",
       "      <th>name2</th>\n",
       "      <th>name2_lang</th>\n",
       "      <th>local_type</th>\n",
       "      <th>district_borough</th>\n",
       "      <th>county_unitary</th>\n",
       "      <th>region</th>\n",
       "      <th>country</th>\n",
       "    </tr>\n",
       "  </thead>\n",
       "  <tbody>\n",
       "    <tr>\n",
       "      <th>18624</th>\n",
       "      <td>Haverfordwest</td>\n",
       "      <td>cym</td>\n",
       "      <td>Haverfordwest</td>\n",
       "      <td>eng</td>\n",
       "      <td>Town</td>\n",
       "      <td>NaN</td>\n",
       "      <td>Sir Benfro - Pembrokeshire</td>\n",
       "      <td>Wales</td>\n",
       "      <td>Wales</td>\n",
       "    </tr>\n",
       "  </tbody>\n",
       "</table>\n",
       "</div>"
      ],
      "text/plain": [
       "               name1 name1_lang          name2 name2_lang local_type  \\\n",
       "18624  Haverfordwest        cym  Haverfordwest        eng       Town   \n",
       "\n",
       "      district_borough              county_unitary region country  \n",
       "18624              NaN  Sir Benfro - Pembrokeshire  Wales   Wales  "
      ]
     },
     "execution_count": 47,
     "metadata": {},
     "output_type": "execute_result"
    }
   ],
   "source": [
    "# check it has been changed correctly\n",
    "great_britain[great_britain['name1']=='Haverfordwest']"
   ]
  },
  {
   "cell_type": "code",
   "execution_count": 57,
   "metadata": {},
   "outputs": [
    {
     "data": {
      "text/html": [
       "<div>\n",
       "<style scoped>\n",
       "    .dataframe tbody tr th:only-of-type {\n",
       "        vertical-align: middle;\n",
       "    }\n",
       "\n",
       "    .dataframe tbody tr th {\n",
       "        vertical-align: top;\n",
       "    }\n",
       "\n",
       "    .dataframe thead th {\n",
       "        text-align: right;\n",
       "    }\n",
       "</style>\n",
       "<table border=\"1\" class=\"dataframe\">\n",
       "  <thead>\n",
       "    <tr style=\"text-align: right;\">\n",
       "      <th></th>\n",
       "      <th>artist</th>\n",
       "      <th>country</th>\n",
       "      <th>city</th>\n",
       "      <th>latitude</th>\n",
       "      <th>longitude</th>\n",
       "      <th>address</th>\n",
       "      <th>state</th>\n",
       "    </tr>\n",
       "  </thead>\n",
       "  <tbody>\n",
       "    <tr>\n",
       "      <th>8</th>\n",
       "      <td>Radiohead</td>\n",
       "      <td>United Kingdom</td>\n",
       "      <td>Abingdon</td>\n",
       "      <td>51.671484</td>\n",
       "      <td>-1.277972</td>\n",
       "      <td>Abingdon, Vale of White Horse, Oxfordshire, En...</td>\n",
       "      <td>England</td>\n",
       "    </tr>\n",
       "    <tr>\n",
       "      <th>17</th>\n",
       "      <td>Marmaduke Duke</td>\n",
       "      <td>United Kingdom</td>\n",
       "      <td>Ayrshire</td>\n",
       "      <td>55.500000</td>\n",
       "      <td>-4.500000</td>\n",
       "      <td>Ayrshire, Alba / Scotland, KA5 5NL, United Kin...</td>\n",
       "      <td>Scotland</td>\n",
       "    </tr>\n",
       "    <tr>\n",
       "      <th>30</th>\n",
       "      <td>Trigger the Bloodshed</td>\n",
       "      <td>United Kingdom</td>\n",
       "      <td>Bath/Bristol</td>\n",
       "      <td>51.386715</td>\n",
       "      <td>-2.402722</td>\n",
       "      <td>Bristol &amp; Bath Railway Path, Newbridge, Bath, ...</td>\n",
       "      <td>England</td>\n",
       "    </tr>\n",
       "    <tr>\n",
       "      <th>39</th>\n",
       "      <td>Stiff Little Fingers</td>\n",
       "      <td>United Kingdom</td>\n",
       "      <td>Belfast</td>\n",
       "      <td>54.596391</td>\n",
       "      <td>-5.930183</td>\n",
       "      <td>Belfast, County Antrim, Northern Ireland / Tua...</td>\n",
       "      <td>County Antrim</td>\n",
       "    </tr>\n",
       "    <tr>\n",
       "      <th>40</th>\n",
       "      <td>Darkest Era</td>\n",
       "      <td>United Kingdom</td>\n",
       "      <td>Belfast</td>\n",
       "      <td>54.596391</td>\n",
       "      <td>-5.930183</td>\n",
       "      <td>Belfast, County Antrim, Northern Ireland / Tua...</td>\n",
       "      <td>County Antrim</td>\n",
       "    </tr>\n",
       "    <tr>\n",
       "      <th>...</th>\n",
       "      <td>...</td>\n",
       "      <td>...</td>\n",
       "      <td>...</td>\n",
       "      <td>...</td>\n",
       "      <td>...</td>\n",
       "      <td>...</td>\n",
       "      <td>...</td>\n",
       "    </tr>\n",
       "    <tr>\n",
       "      <th>1443</th>\n",
       "      <td>Bibio</td>\n",
       "      <td>United Kingdom</td>\n",
       "      <td>West Midlands</td>\n",
       "      <td>52.505432</td>\n",
       "      <td>-1.964678</td>\n",
       "      <td>West Midlands, Warwickshire, West Midlands, En...</td>\n",
       "      <td>West Midlands</td>\n",
       "    </tr>\n",
       "    <tr>\n",
       "      <th>1444</th>\n",
       "      <td>Host</td>\n",
       "      <td>United Kingdom</td>\n",
       "      <td>West Yorkshire</td>\n",
       "      <td>53.741427</td>\n",
       "      <td>-1.720200</td>\n",
       "      <td>West Yorkshire, England, United Kingdom</td>\n",
       "      <td>West Yorkshire</td>\n",
       "    </tr>\n",
       "    <tr>\n",
       "      <th>1460</th>\n",
       "      <td>Al Stewart</td>\n",
       "      <td>United Kingdom</td>\n",
       "      <td>Wimborne</td>\n",
       "      <td>50.794537</td>\n",
       "      <td>-1.975959</td>\n",
       "      <td>Wimborne, New Borough Road, St Johns, Wimborne...</td>\n",
       "      <td>England</td>\n",
       "    </tr>\n",
       "    <tr>\n",
       "      <th>1483</th>\n",
       "      <td>James Bay</td>\n",
       "      <td>United Kingdom</td>\n",
       "      <td>Wycombe</td>\n",
       "      <td>51.764221</td>\n",
       "      <td>-0.306315</td>\n",
       "      <td>Wycombe Way, The Quadrant, Sandridge, St Alban...</td>\n",
       "      <td>England</td>\n",
       "    </tr>\n",
       "    <tr>\n",
       "      <th>1493</th>\n",
       "      <td>A Forest of Stars</td>\n",
       "      <td>United Kingdom</td>\n",
       "      <td>Yorkshire</td>\n",
       "      <td>53.982527</td>\n",
       "      <td>-1.385250</td>\n",
       "      <td>Yorkshire, England, United Kingdom</td>\n",
       "      <td>Yorkshire</td>\n",
       "    </tr>\n",
       "  </tbody>\n",
       "</table>\n",
       "<p>96 rows × 7 columns</p>\n",
       "</div>"
      ],
      "text/plain": [
       "                     artist         country            city   latitude  \\\n",
       "8                 Radiohead  United Kingdom        Abingdon  51.671484   \n",
       "17           Marmaduke Duke  United Kingdom        Ayrshire  55.500000   \n",
       "30    Trigger the Bloodshed  United Kingdom    Bath/Bristol  51.386715   \n",
       "39     Stiff Little Fingers  United Kingdom         Belfast  54.596391   \n",
       "40              Darkest Era  United Kingdom         Belfast  54.596391   \n",
       "...                     ...             ...             ...        ...   \n",
       "1443                  Bibio  United Kingdom   West Midlands  52.505432   \n",
       "1444                   Host  United Kingdom  West Yorkshire  53.741427   \n",
       "1460             Al Stewart  United Kingdom        Wimborne  50.794537   \n",
       "1483              James Bay  United Kingdom         Wycombe  51.764221   \n",
       "1493      A Forest of Stars  United Kingdom       Yorkshire  53.982527   \n",
       "\n",
       "      longitude                                            address  \\\n",
       "8     -1.277972  Abingdon, Vale of White Horse, Oxfordshire, En...   \n",
       "17    -4.500000  Ayrshire, Alba / Scotland, KA5 5NL, United Kin...   \n",
       "30    -2.402722  Bristol & Bath Railway Path, Newbridge, Bath, ...   \n",
       "39    -5.930183  Belfast, County Antrim, Northern Ireland / Tua...   \n",
       "40    -5.930183  Belfast, County Antrim, Northern Ireland / Tua...   \n",
       "...         ...                                                ...   \n",
       "1443  -1.964678  West Midlands, Warwickshire, West Midlands, En...   \n",
       "1444  -1.720200            West Yorkshire, England, United Kingdom   \n",
       "1460  -1.975959  Wimborne, New Borough Road, St Johns, Wimborne...   \n",
       "1483  -0.306315  Wycombe Way, The Quadrant, Sandridge, St Alban...   \n",
       "1493  -1.385250                 Yorkshire, England, United Kingdom   \n",
       "\n",
       "               state  \n",
       "8            England  \n",
       "17          Scotland  \n",
       "30           England  \n",
       "39     County Antrim  \n",
       "40     County Antrim  \n",
       "...              ...  \n",
       "1443   West Midlands  \n",
       "1444  West Yorkshire  \n",
       "1460         England  \n",
       "1483         England  \n",
       "1493       Yorkshire  \n",
       "\n",
       "[96 rows x 7 columns]"
      ]
     },
     "execution_count": 57,
     "metadata": {},
     "output_type": "execute_result"
    }
   ],
   "source": [
    "df_coordinates_uk[~df_coordinates_uk['city'].isin(great_britain['name1'].values)]"
   ]
  },
  {
   "cell_type": "code",
   "execution_count": null,
   "metadata": {},
   "outputs": [
    {
     "data": {
      "text/html": [
       "<div>\n",
       "<style scoped>\n",
       "    .dataframe tbody tr th:only-of-type {\n",
       "        vertical-align: middle;\n",
       "    }\n",
       "\n",
       "    .dataframe tbody tr th {\n",
       "        vertical-align: top;\n",
       "    }\n",
       "\n",
       "    .dataframe thead th {\n",
       "        text-align: right;\n",
       "    }\n",
       "</style>\n",
       "<table border=\"1\" class=\"dataframe\">\n",
       "  <thead>\n",
       "    <tr style=\"text-align: right;\">\n",
       "      <th></th>\n",
       "      <th>name1</th>\n",
       "      <th>local_type</th>\n",
       "      <th>district_borough</th>\n",
       "      <th>county_unitary</th>\n",
       "      <th>region</th>\n",
       "      <th>country</th>\n",
       "    </tr>\n",
       "  </thead>\n",
       "  <tbody>\n",
       "    <tr>\n",
       "      <th>0</th>\n",
       "      <td>Westing</td>\n",
       "      <td>Other Settlement</td>\n",
       "      <td>NaN</td>\n",
       "      <td>Shetland Islands</td>\n",
       "      <td>Scotland</td>\n",
       "      <td>Scotland</td>\n",
       "    </tr>\n",
       "    <tr>\n",
       "      <th>1</th>\n",
       "      <td>Midbrake</td>\n",
       "      <td>Hamlet</td>\n",
       "      <td>NaN</td>\n",
       "      <td>Shetland Islands</td>\n",
       "      <td>Scotland</td>\n",
       "      <td>Scotland</td>\n",
       "    </tr>\n",
       "    <tr>\n",
       "      <th>2</th>\n",
       "      <td>Underhoull</td>\n",
       "      <td>Other Settlement</td>\n",
       "      <td>NaN</td>\n",
       "      <td>Shetland Islands</td>\n",
       "      <td>Scotland</td>\n",
       "      <td>Scotland</td>\n",
       "    </tr>\n",
       "    <tr>\n",
       "      <th>3</th>\n",
       "      <td>Gunnister</td>\n",
       "      <td>Other Settlement</td>\n",
       "      <td>NaN</td>\n",
       "      <td>Shetland Islands</td>\n",
       "      <td>Scotland</td>\n",
       "      <td>Scotland</td>\n",
       "    </tr>\n",
       "    <tr>\n",
       "      <th>4</th>\n",
       "      <td>Wick</td>\n",
       "      <td>Hamlet</td>\n",
       "      <td>NaN</td>\n",
       "      <td>Shetland Islands</td>\n",
       "      <td>Scotland</td>\n",
       "      <td>Scotland</td>\n",
       "    </tr>\n",
       "    <tr>\n",
       "      <th>...</th>\n",
       "      <td>...</td>\n",
       "      <td>...</td>\n",
       "      <td>...</td>\n",
       "      <td>...</td>\n",
       "      <td>...</td>\n",
       "      <td>...</td>\n",
       "    </tr>\n",
       "    <tr>\n",
       "      <th>41974</th>\n",
       "      <td>Birling Gap</td>\n",
       "      <td>Hamlet</td>\n",
       "      <td>Wealden</td>\n",
       "      <td>East Sussex</td>\n",
       "      <td>South East (England)</td>\n",
       "      <td>England</td>\n",
       "    </tr>\n",
       "    <tr>\n",
       "      <th>41975</th>\n",
       "      <td>East Dean</td>\n",
       "      <td>Village</td>\n",
       "      <td>Wealden</td>\n",
       "      <td>East Sussex</td>\n",
       "      <td>South East (England)</td>\n",
       "      <td>England</td>\n",
       "    </tr>\n",
       "    <tr>\n",
       "      <th>41976</th>\n",
       "      <td>Meads</td>\n",
       "      <td>Suburban Area</td>\n",
       "      <td>Eastbourne</td>\n",
       "      <td>East Sussex</td>\n",
       "      <td>South East (England)</td>\n",
       "      <td>England</td>\n",
       "    </tr>\n",
       "    <tr>\n",
       "      <th>41977</th>\n",
       "      <td>Eastbourne</td>\n",
       "      <td>Town</td>\n",
       "      <td>Eastbourne</td>\n",
       "      <td>East Sussex</td>\n",
       "      <td>South East (England)</td>\n",
       "      <td>England</td>\n",
       "    </tr>\n",
       "    <tr>\n",
       "      <th>41978</th>\n",
       "      <td>Upperton</td>\n",
       "      <td>Suburban Area</td>\n",
       "      <td>Eastbourne</td>\n",
       "      <td>East Sussex</td>\n",
       "      <td>South East (England)</td>\n",
       "      <td>England</td>\n",
       "    </tr>\n",
       "  </tbody>\n",
       "</table>\n",
       "<p>41979 rows × 6 columns</p>\n",
       "</div>"
      ],
      "text/plain": [
       "             name1        local_type district_borough    county_unitary  \\\n",
       "0          Westing  Other Settlement              NaN  Shetland Islands   \n",
       "1         Midbrake            Hamlet              NaN  Shetland Islands   \n",
       "2       Underhoull  Other Settlement              NaN  Shetland Islands   \n",
       "3        Gunnister  Other Settlement              NaN  Shetland Islands   \n",
       "4             Wick            Hamlet              NaN  Shetland Islands   \n",
       "...            ...               ...              ...               ...   \n",
       "41974  Birling Gap            Hamlet          Wealden       East Sussex   \n",
       "41975    East Dean           Village          Wealden       East Sussex   \n",
       "41976        Meads     Suburban Area       Eastbourne       East Sussex   \n",
       "41977   Eastbourne              Town       Eastbourne       East Sussex   \n",
       "41978     Upperton     Suburban Area       Eastbourne       East Sussex   \n",
       "\n",
       "                     region   country  \n",
       "0                  Scotland  Scotland  \n",
       "1                  Scotland  Scotland  \n",
       "2                  Scotland  Scotland  \n",
       "3                  Scotland  Scotland  \n",
       "4                  Scotland  Scotland  \n",
       "...                     ...       ...  \n",
       "41974  South East (England)   England  \n",
       "41975  South East (England)   England  \n",
       "41976  South East (England)   England  \n",
       "41977  South East (England)   England  \n",
       "41978  South East (England)   England  \n",
       "\n",
       "[41979 rows x 6 columns]"
      ]
     },
     "execution_count": 66,
     "metadata": {},
     "output_type": "execute_result"
    }
   ],
   "source": [
    "# now I can drop these columns, they don't contain any more information that I want\n",
    "great_britain.drop(columns=['name1_lang', 'name2', 'name2_lang'], inplace=True)\n",
    "great_britain"
   ]
  },
  {
   "cell_type": "code",
   "execution_count": null,
   "metadata": {},
   "outputs": [
    {
     "data": {
      "text/html": [
       "<div>\n",
       "<style scoped>\n",
       "    .dataframe tbody tr th:only-of-type {\n",
       "        vertical-align: middle;\n",
       "    }\n",
       "\n",
       "    .dataframe tbody tr th {\n",
       "        vertical-align: top;\n",
       "    }\n",
       "\n",
       "    .dataframe thead th {\n",
       "        text-align: right;\n",
       "    }\n",
       "</style>\n",
       "<table border=\"1\" class=\"dataframe\">\n",
       "  <thead>\n",
       "    <tr style=\"text-align: right;\">\n",
       "      <th></th>\n",
       "      <th>city</th>\n",
       "      <th>local_type</th>\n",
       "      <th>district_borough</th>\n",
       "      <th>county_unitary</th>\n",
       "      <th>region</th>\n",
       "      <th>country</th>\n",
       "    </tr>\n",
       "  </thead>\n",
       "  <tbody>\n",
       "    <tr>\n",
       "      <th>0</th>\n",
       "      <td>A' Chill</td>\n",
       "      <td>Hamlet</td>\n",
       "      <td>NaN</td>\n",
       "      <td>Highland</td>\n",
       "      <td>Scotland</td>\n",
       "      <td>Scotland</td>\n",
       "    </tr>\n",
       "  </tbody>\n",
       "</table>\n",
       "</div>"
      ],
      "text/plain": [
       "       city local_type district_borough county_unitary    region   country\n",
       "0  A' Chill     Hamlet              NaN       Highland  Scotland  Scotland"
      ]
     },
     "execution_count": 118,
     "metadata": {},
     "output_type": "execute_result"
    }
   ],
   "source": [
    "# change the name of the column\n",
    "great_britain.rename({'name1': 'city'}, axis=1, inplace=True)\n",
    "\n",
    "# sort it alphabetically by the city names and regions so they are groupped\n",
    "great_britain.sort_values(['city', 'region'], inplace=True)\n",
    "great_britain.reset_index(drop=True, inplace=True)\n",
    "\n",
    "# check it has been changed correctly\n",
    "great_britain.head(1)"
   ]
  },
  {
   "cell_type": "markdown",
   "metadata": {},
   "source": [
    "### **Cities with the same name**"
   ]
  },
  {
   "cell_type": "code",
   "execution_count": 97,
   "metadata": {},
   "outputs": [
    {
     "data": {
      "text/html": [
       "<div>\n",
       "<style scoped>\n",
       "    .dataframe tbody tr th:only-of-type {\n",
       "        vertical-align: middle;\n",
       "    }\n",
       "\n",
       "    .dataframe tbody tr th {\n",
       "        vertical-align: top;\n",
       "    }\n",
       "\n",
       "    .dataframe thead th {\n",
       "        text-align: right;\n",
       "    }\n",
       "</style>\n",
       "<table border=\"1\" class=\"dataframe\">\n",
       "  <thead>\n",
       "    <tr style=\"text-align: right;\">\n",
       "      <th></th>\n",
       "      <th>artist</th>\n",
       "      <th>city</th>\n",
       "      <th>latitude</th>\n",
       "      <th>longitude</th>\n",
       "      <th>address</th>\n",
       "      <th>state</th>\n",
       "      <th>local_type</th>\n",
       "      <th>district_borough</th>\n",
       "      <th>county_unitary</th>\n",
       "      <th>region</th>\n",
       "    </tr>\n",
       "  </thead>\n",
       "  <tbody>\n",
       "    <tr>\n",
       "      <th>0</th>\n",
       "      <td>Korpse</td>\n",
       "      <td>Aberdeen</td>\n",
       "      <td>57.142649</td>\n",
       "      <td>-2.097635</td>\n",
       "      <td>Aberdeen, Guild Street, City Centre, Aberdeen ...</td>\n",
       "      <td>Scotland</td>\n",
       "      <td>City</td>\n",
       "      <td>NaN</td>\n",
       "      <td>Aberdeen City</td>\n",
       "      <td>Scotland</td>\n",
       "    </tr>\n",
       "    <tr>\n",
       "      <th>1</th>\n",
       "      <td>Pallas</td>\n",
       "      <td>Aberdeen</td>\n",
       "      <td>57.148243</td>\n",
       "      <td>-2.092809</td>\n",
       "      <td>Aberdeen City, Alba / Scotland, United Kingdom</td>\n",
       "      <td>Aberdeen City</td>\n",
       "      <td>City</td>\n",
       "      <td>NaN</td>\n",
       "      <td>Aberdeen City</td>\n",
       "      <td>Scotland</td>\n",
       "    </tr>\n",
       "    <tr>\n",
       "      <th>2</th>\n",
       "      <td>The Xcerts</td>\n",
       "      <td>Aberdeen</td>\n",
       "      <td>57.148243</td>\n",
       "      <td>-2.092809</td>\n",
       "      <td>Aberdeen City, Alba / Scotland, United Kingdom</td>\n",
       "      <td>Aberdeen City</td>\n",
       "      <td>City</td>\n",
       "      <td>NaN</td>\n",
       "      <td>Aberdeen City</td>\n",
       "      <td>Scotland</td>\n",
       "    </tr>\n",
       "    <tr>\n",
       "      <th>3</th>\n",
       "      <td>Annie Lennox</td>\n",
       "      <td>Aberdeen</td>\n",
       "      <td>57.148243</td>\n",
       "      <td>-2.092809</td>\n",
       "      <td>Aberdeen City, Alba / Scotland, United Kingdom</td>\n",
       "      <td>Aberdeen City</td>\n",
       "      <td>City</td>\n",
       "      <td>NaN</td>\n",
       "      <td>Aberdeen City</td>\n",
       "      <td>Scotland</td>\n",
       "    </tr>\n",
       "    <tr>\n",
       "      <th>4</th>\n",
       "      <td>Hellripper</td>\n",
       "      <td>Aberdeen</td>\n",
       "      <td>57.148243</td>\n",
       "      <td>-2.092809</td>\n",
       "      <td>Aberdeen City, Alba / Scotland, United Kingdom</td>\n",
       "      <td>Aberdeen City</td>\n",
       "      <td>City</td>\n",
       "      <td>NaN</td>\n",
       "      <td>Aberdeen City</td>\n",
       "      <td>Scotland</td>\n",
       "    </tr>\n",
       "    <tr>\n",
       "      <th>...</th>\n",
       "      <td>...</td>\n",
       "      <td>...</td>\n",
       "      <td>...</td>\n",
       "      <td>...</td>\n",
       "      <td>...</td>\n",
       "      <td>...</td>\n",
       "      <td>...</td>\n",
       "      <td>...</td>\n",
       "      <td>...</td>\n",
       "      <td>...</td>\n",
       "    </tr>\n",
       "    <tr>\n",
       "      <th>2000</th>\n",
       "      <td>Glamour of the Kill</td>\n",
       "      <td>York</td>\n",
       "      <td>53.959055</td>\n",
       "      <td>-1.081536</td>\n",
       "      <td>York, York and North Yorkshire, England, YO1 8...</td>\n",
       "      <td>England</td>\n",
       "      <td>City</td>\n",
       "      <td>NaN</td>\n",
       "      <td>York</td>\n",
       "      <td>Yorkshire and the Humber</td>\n",
       "    </tr>\n",
       "    <tr>\n",
       "      <th>2001</th>\n",
       "      <td>Asking Alexandria</td>\n",
       "      <td>York</td>\n",
       "      <td>53.959055</td>\n",
       "      <td>-1.081536</td>\n",
       "      <td>York, York and North Yorkshire, England, YO1 8...</td>\n",
       "      <td>England</td>\n",
       "      <td>City</td>\n",
       "      <td>NaN</td>\n",
       "      <td>York</td>\n",
       "      <td>Yorkshire and the Humber</td>\n",
       "    </tr>\n",
       "    <tr>\n",
       "      <th>2002</th>\n",
       "      <td>The Seahorses</td>\n",
       "      <td>York</td>\n",
       "      <td>53.965658</td>\n",
       "      <td>-1.074305</td>\n",
       "      <td>York, York and North Yorkshire, England, Unite...</td>\n",
       "      <td>York and North Yorkshire</td>\n",
       "      <td>City</td>\n",
       "      <td>NaN</td>\n",
       "      <td>York</td>\n",
       "      <td>Yorkshire and the Humber</td>\n",
       "    </tr>\n",
       "    <tr>\n",
       "      <th>2003</th>\n",
       "      <td>Shed Seven</td>\n",
       "      <td>York</td>\n",
       "      <td>53.965658</td>\n",
       "      <td>-1.074305</td>\n",
       "      <td>York, York and North Yorkshire, England, Unite...</td>\n",
       "      <td>York and North Yorkshire</td>\n",
       "      <td>City</td>\n",
       "      <td>NaN</td>\n",
       "      <td>York</td>\n",
       "      <td>Yorkshire and the Humber</td>\n",
       "    </tr>\n",
       "    <tr>\n",
       "      <th>2004</th>\n",
       "      <td>No Devotion</td>\n",
       "      <td>Pontypridd</td>\n",
       "      <td>51.600105</td>\n",
       "      <td>-3.344936</td>\n",
       "      <td>Pontypridd, Rhondda Cynon Taf, Cymru / Wales, ...</td>\n",
       "      <td>Rhondda Cynon Taf</td>\n",
       "      <td>Town</td>\n",
       "      <td>NaN</td>\n",
       "      <td>Rhondda Cynon Taf - Rhondda Cynon Taf</td>\n",
       "      <td>Wales</td>\n",
       "    </tr>\n",
       "  </tbody>\n",
       "</table>\n",
       "<p>2005 rows × 10 columns</p>\n",
       "</div>"
      ],
      "text/plain": [
       "                   artist        city   latitude  longitude  \\\n",
       "0                  Korpse    Aberdeen  57.142649  -2.097635   \n",
       "1                  Pallas    Aberdeen  57.148243  -2.092809   \n",
       "2              The Xcerts    Aberdeen  57.148243  -2.092809   \n",
       "3            Annie Lennox    Aberdeen  57.148243  -2.092809   \n",
       "4              Hellripper    Aberdeen  57.148243  -2.092809   \n",
       "...                   ...         ...        ...        ...   \n",
       "2000  Glamour of the Kill        York  53.959055  -1.081536   \n",
       "2001    Asking Alexandria        York  53.959055  -1.081536   \n",
       "2002        The Seahorses        York  53.965658  -1.074305   \n",
       "2003           Shed Seven        York  53.965658  -1.074305   \n",
       "2004          No Devotion  Pontypridd  51.600105  -3.344936   \n",
       "\n",
       "                                                address  \\\n",
       "0     Aberdeen, Guild Street, City Centre, Aberdeen ...   \n",
       "1        Aberdeen City, Alba / Scotland, United Kingdom   \n",
       "2        Aberdeen City, Alba / Scotland, United Kingdom   \n",
       "3        Aberdeen City, Alba / Scotland, United Kingdom   \n",
       "4        Aberdeen City, Alba / Scotland, United Kingdom   \n",
       "...                                                 ...   \n",
       "2000  York, York and North Yorkshire, England, YO1 8...   \n",
       "2001  York, York and North Yorkshire, England, YO1 8...   \n",
       "2002  York, York and North Yorkshire, England, Unite...   \n",
       "2003  York, York and North Yorkshire, England, Unite...   \n",
       "2004  Pontypridd, Rhondda Cynon Taf, Cymru / Wales, ...   \n",
       "\n",
       "                         state local_type district_borough  \\\n",
       "0                     Scotland       City              NaN   \n",
       "1                Aberdeen City       City              NaN   \n",
       "2                Aberdeen City       City              NaN   \n",
       "3                Aberdeen City       City              NaN   \n",
       "4                Aberdeen City       City              NaN   \n",
       "...                        ...        ...              ...   \n",
       "2000                   England       City              NaN   \n",
       "2001                   England       City              NaN   \n",
       "2002  York and North Yorkshire       City              NaN   \n",
       "2003  York and North Yorkshire       City              NaN   \n",
       "2004         Rhondda Cynon Taf       Town              NaN   \n",
       "\n",
       "                             county_unitary                    region  \n",
       "0                             Aberdeen City                  Scotland  \n",
       "1                             Aberdeen City                  Scotland  \n",
       "2                             Aberdeen City                  Scotland  \n",
       "3                             Aberdeen City                  Scotland  \n",
       "4                             Aberdeen City                  Scotland  \n",
       "...                                     ...                       ...  \n",
       "2000                                   York  Yorkshire and the Humber  \n",
       "2001                                   York  Yorkshire and the Humber  \n",
       "2002                                   York  Yorkshire and the Humber  \n",
       "2003                                   York  Yorkshire and the Humber  \n",
       "2004  Rhondda Cynon Taf - Rhondda Cynon Taf                     Wales  \n",
       "\n",
       "[2005 rows x 10 columns]"
      ]
     },
     "execution_count": 97,
     "metadata": {},
     "output_type": "execute_result"
    }
   ],
   "source": [
    "merge_test = (pd.merge(df_coordinates_uk, great_britain, on='city')\n",
    ".drop(columns=['country_x', 'country_y'])\n",
    ")\n",
    "merge_test"
   ]
  },
  {
   "cell_type": "code",
   "execution_count": 94,
   "metadata": {},
   "outputs": [
    {
     "data": {
      "text/plain": [
       "(1495, 7)"
      ]
     },
     "execution_count": 94,
     "metadata": {},
     "output_type": "execute_result"
    }
   ],
   "source": [
    "df_coordinates_uk.shape"
   ]
  },
  {
   "cell_type": "markdown",
   "metadata": {},
   "source": [
    "There are 510 extra rows, meaning I have to drop the \"wrong\" cities in ``great_britain`` so that I only keep the \"correct\" city (the one where my artist is from)"
   ]
  },
  {
   "cell_type": "code",
   "execution_count": null,
   "metadata": {},
   "outputs": [
    {
     "data": {
      "text/plain": [
       "(41979, 6)"
      ]
     },
     "metadata": {},
     "output_type": "display_data"
    }
   ],
   "source": [
    "great_britain.shape"
   ]
  },
  {
   "cell_type": "markdown",
   "metadata": {},
   "source": [
    "### **Dropping wrong cities**"
   ]
  },
  {
   "cell_type": "markdown",
   "metadata": {},
   "source": [
    "**Change values**"
   ]
  },
  {
   "cell_type": "code",
   "execution_count": 281,
   "metadata": {},
   "outputs": [],
   "source": [
    "# change cities where several artists are from different cities with the same name\n",
    "df_coordinates_uk['city'] = np.where(df_coordinates_uk['artist']=='Graham Nash', 'Blackpool', df_coordinates_uk['city'])"
   ]
  },
  {
   "cell_type": "code",
   "execution_count": 495,
   "metadata": {},
   "outputs": [],
   "source": [
    "# change cities where several artists are from different cities with the same name\n",
    "df_coordinates_uk['latitude'] = np.where(df_coordinates_uk['city']=='Swindon', '51.5615327', df_coordinates_uk['latitude'])\n",
    "df_coordinates_uk['longitude'] = np.where(df_coordinates_uk['city']=='Swindon', '-1.7854322', df_coordinates_uk['longitude'])"
   ]
  },
  {
   "cell_type": "code",
   "execution_count": null,
   "metadata": {},
   "outputs": [],
   "source": [
    "# great_britain.loc[26369, 'city'] = 'Newport (Isle of Wight)'"
   ]
  },
  {
   "cell_type": "code",
   "execution_count": 199,
   "metadata": {},
   "outputs": [],
   "source": [
    "# in case I have to change some name (different languages, English/Welsh for instance)\n",
    "great_britain['city'] = np.where(great_britain['city']=='Casnewydd', 'Newport', great_britain['city'])"
   ]
  },
  {
   "cell_type": "markdown",
   "metadata": {},
   "source": [
    "**Check repeated cities**"
   ]
  },
  {
   "cell_type": "code",
   "execution_count": 570,
   "metadata": {},
   "outputs": [
    {
     "data": {
      "text/plain": [
       "(1600, 10)"
      ]
     },
     "execution_count": 570,
     "metadata": {},
     "output_type": "execute_result"
    }
   ],
   "source": [
    "# define again the merged df so it keeps updating as we delete wrong cities\n",
    "merge_test = (pd.merge(df_coordinates_uk, great_britain, on='city')\n",
    ".drop(columns=['country_x', 'country_y'])\n",
    ")\n",
    "merge_test.shape"
   ]
  },
  {
   "cell_type": "code",
   "execution_count": 571,
   "metadata": {},
   "outputs": [
    {
     "data": {
      "text/plain": [
       "artist\n",
       "Pagan Altar    3\n",
       "Steve Howe     3\n",
       "John Foxx      3\n",
       "Editors        3\n",
       "Pram           3\n",
       "Name: count, dtype: int64"
      ]
     },
     "execution_count": 571,
     "metadata": {},
     "output_type": "execute_result"
    }
   ],
   "source": [
    "# artists with more than one city (all of them but one are wrong)\n",
    "merge_test['artist'].value_counts().head()"
   ]
  },
  {
   "cell_type": "code",
   "execution_count": 565,
   "metadata": {},
   "outputs": [
    {
     "data": {
      "text/html": [
       "<div>\n",
       "<style scoped>\n",
       "    .dataframe tbody tr th:only-of-type {\n",
       "        vertical-align: middle;\n",
       "    }\n",
       "\n",
       "    .dataframe tbody tr th {\n",
       "        vertical-align: top;\n",
       "    }\n",
       "\n",
       "    .dataframe thead th {\n",
       "        text-align: right;\n",
       "    }\n",
       "</style>\n",
       "<table border=\"1\" class=\"dataframe\">\n",
       "  <thead>\n",
       "    <tr style=\"text-align: right;\">\n",
       "      <th></th>\n",
       "      <th>artist</th>\n",
       "      <th>country</th>\n",
       "      <th>city</th>\n",
       "      <th>latitude</th>\n",
       "      <th>longitude</th>\n",
       "      <th>address</th>\n",
       "      <th>state</th>\n",
       "    </tr>\n",
       "  </thead>\n",
       "  <tbody>\n",
       "    <tr>\n",
       "      <th>22</th>\n",
       "      <td>The Danse Society</td>\n",
       "      <td>United Kingdom</td>\n",
       "      <td>Barnsley</td>\n",
       "      <td>53.5527719</td>\n",
       "      <td>-1.4827755</td>\n",
       "      <td>Barnsley, South Yorkshire, England, United Kin...</td>\n",
       "      <td>South Yorkshire</td>\n",
       "    </tr>\n",
       "  </tbody>\n",
       "</table>\n",
       "</div>"
      ],
      "text/plain": [
       "               artist         country      city    latitude   longitude  \\\n",
       "22  The Danse Society  United Kingdom  Barnsley  53.5527719  -1.4827755   \n",
       "\n",
       "                                              address            state  \n",
       "22  Barnsley, South Yorkshire, England, United Kin...  South Yorkshire  "
      ]
     },
     "execution_count": 565,
     "metadata": {},
     "output_type": "execute_result"
    }
   ],
   "source": [
    "# look for the real city of origin of the artist\n",
    "df_coordinates_uk[df_coordinates_uk['artist']=='The Danse Society']"
   ]
  },
  {
   "cell_type": "code",
   "execution_count": 566,
   "metadata": {},
   "outputs": [
    {
     "data": {
      "text/html": [
       "<div>\n",
       "<style scoped>\n",
       "    .dataframe tbody tr th:only-of-type {\n",
       "        vertical-align: middle;\n",
       "    }\n",
       "\n",
       "    .dataframe tbody tr th {\n",
       "        vertical-align: top;\n",
       "    }\n",
       "\n",
       "    .dataframe thead th {\n",
       "        text-align: right;\n",
       "    }\n",
       "</style>\n",
       "<table border=\"1\" class=\"dataframe\">\n",
       "  <thead>\n",
       "    <tr style=\"text-align: right;\">\n",
       "      <th></th>\n",
       "      <th>artist</th>\n",
       "      <th>country</th>\n",
       "      <th>city</th>\n",
       "      <th>latitude</th>\n",
       "      <th>longitude</th>\n",
       "      <th>address</th>\n",
       "      <th>state</th>\n",
       "    </tr>\n",
       "  </thead>\n",
       "  <tbody>\n",
       "    <tr>\n",
       "      <th>21</th>\n",
       "      <td>Saxon</td>\n",
       "      <td>United Kingdom</td>\n",
       "      <td>Barnsley</td>\n",
       "      <td>53.5527719</td>\n",
       "      <td>-1.4827755</td>\n",
       "      <td>Barnsley, South Yorkshire, England, United Kin...</td>\n",
       "      <td>South Yorkshire</td>\n",
       "    </tr>\n",
       "    <tr>\n",
       "      <th>22</th>\n",
       "      <td>The Danse Society</td>\n",
       "      <td>United Kingdom</td>\n",
       "      <td>Barnsley</td>\n",
       "      <td>53.5527719</td>\n",
       "      <td>-1.4827755</td>\n",
       "      <td>Barnsley, South Yorkshire, England, United Kin...</td>\n",
       "      <td>South Yorkshire</td>\n",
       "    </tr>\n",
       "  </tbody>\n",
       "</table>\n",
       "</div>"
      ],
      "text/plain": [
       "               artist         country      city    latitude   longitude  \\\n",
       "21              Saxon  United Kingdom  Barnsley  53.5527719  -1.4827755   \n",
       "22  The Danse Society  United Kingdom  Barnsley  53.5527719  -1.4827755   \n",
       "\n",
       "                                              address            state  \n",
       "21  Barnsley, South Yorkshire, England, United Kin...  South Yorkshire  \n",
       "22  Barnsley, South Yorkshire, England, United Kin...  South Yorkshire  "
      ]
     },
     "execution_count": 566,
     "metadata": {},
     "output_type": "execute_result"
    }
   ],
   "source": [
    "# check there's only one city with this name I have to keep. If there were more than one, I would have to change one of them so the artists properly merged\n",
    "df_coordinates_uk[df_coordinates_uk['city']=='Barnsley']"
   ]
  },
  {
   "cell_type": "code",
   "execution_count": 569,
   "metadata": {},
   "outputs": [
    {
     "data": {
      "text/html": [
       "<div>\n",
       "<style scoped>\n",
       "    .dataframe tbody tr th:only-of-type {\n",
       "        vertical-align: middle;\n",
       "    }\n",
       "\n",
       "    .dataframe tbody tr th {\n",
       "        vertical-align: top;\n",
       "    }\n",
       "\n",
       "    .dataframe thead th {\n",
       "        text-align: right;\n",
       "    }\n",
       "</style>\n",
       "<table border=\"1\" class=\"dataframe\">\n",
       "  <thead>\n",
       "    <tr style=\"text-align: right;\">\n",
       "      <th></th>\n",
       "      <th>city</th>\n",
       "      <th>local_type</th>\n",
       "      <th>district_borough</th>\n",
       "      <th>county_unitary</th>\n",
       "      <th>region</th>\n",
       "      <th>country</th>\n",
       "    </tr>\n",
       "  </thead>\n",
       "  <tbody>\n",
       "    <tr>\n",
       "      <th>2157</th>\n",
       "      <td>Barnsley</td>\n",
       "      <td>Town</td>\n",
       "      <td>Barnsley</td>\n",
       "      <td>NaN</td>\n",
       "      <td>Yorkshire and the Humber</td>\n",
       "      <td>England</td>\n",
       "    </tr>\n",
       "  </tbody>\n",
       "</table>\n",
       "</div>"
      ],
      "text/plain": [
       "          city local_type district_borough county_unitary  \\\n",
       "2157  Barnsley       Town         Barnsley            NaN   \n",
       "\n",
       "                        region  country  \n",
       "2157  Yorkshire and the Humber  England  "
      ]
     },
     "execution_count": 569,
     "metadata": {},
     "output_type": "execute_result"
    }
   ],
   "source": [
    "# look for that city in the df with all the uk cities so I know which ones to drop\n",
    "great_britain[great_britain['city']=='Barnsley']"
   ]
  },
  {
   "cell_type": "markdown",
   "metadata": {},
   "source": [
    "**Drop incorrect cities**"
   ]
  },
  {
   "cell_type": "code",
   "execution_count": 568,
   "metadata": {},
   "outputs": [
    {
     "data": {
      "text/plain": [
       "(41779, 6)"
      ]
     },
     "execution_count": 568,
     "metadata": {},
     "output_type": "execute_result"
    }
   ],
   "source": [
    "# drop incorrect cities\n",
    "great_britain.drop(range(2157, 2159), inplace=True)\n",
    "great_britain.reset_index(drop=True, inplace=True)\n",
    "great_britain.shape"
   ]
  },
  {
   "cell_type": "code",
   "execution_count": 561,
   "metadata": {},
   "outputs": [
    {
     "data": {
      "text/plain": [
       "(41781, 6)"
      ]
     },
     "execution_count": 561,
     "metadata": {},
     "output_type": "execute_result"
    }
   ],
   "source": [
    "# drop incorrect cities\n",
    "great_britain.drop([33839, 33841], inplace=True)\n",
    "great_britain.reset_index(drop=True, inplace=True)\n",
    "great_britain.shape"
   ]
  },
  {
   "cell_type": "code",
   "execution_count": 572,
   "metadata": {},
   "outputs": [],
   "source": [
    "great_britain.to_csv('Datasets/great_britain_regions_clean.csv', index=False)"
   ]
  },
  {
   "cell_type": "code",
   "execution_count": null,
   "metadata": {},
   "outputs": [],
   "source": []
  },
  {
   "cell_type": "code",
   "execution_count": 176,
   "metadata": {},
   "outputs": [],
   "source": [
    "great_britain = pd.read_csv('Datasets/great_britain_regions_clean.csv')"
   ]
  },
  {
   "cell_type": "markdown",
   "metadata": {},
   "source": [
    "**Export to csv**"
   ]
  },
  {
   "cell_type": "code",
   "execution_count": 573,
   "metadata": {},
   "outputs": [],
   "source": [
    "df_coordinates_uk.to_csv('Datasets/df_coordinates_uk.csv', index=False)"
   ]
  },
  {
   "cell_type": "code",
   "execution_count": 203,
   "metadata": {},
   "outputs": [],
   "source": [
    "great_britain.to_csv('Datasets/great_britain_regions_clean.csv', index=False)"
   ]
  },
  {
   "cell_type": "code",
   "execution_count": null,
   "metadata": {},
   "outputs": [],
   "source": [
    "# great_britain.to_csv('Datasets/great_britain_regions.csv', index=False)"
   ]
  }
 ],
 "metadata": {
  "kernelspec": {
   "display_name": "base",
   "language": "python",
   "name": "python3"
  },
  "language_info": {
   "codemirror_mode": {
    "name": "ipython",
    "version": 3
   },
   "file_extension": ".py",
   "mimetype": "text/x-python",
   "name": "python",
   "nbconvert_exporter": "python",
   "pygments_lexer": "ipython3",
   "version": "3.12.4"
  }
 },
 "nbformat": 4,
 "nbformat_minor": 2
}
