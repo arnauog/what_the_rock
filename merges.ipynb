{
 "cells": [
  {
   "cell_type": "code",
   "execution_count": 1,
   "metadata": {},
   "outputs": [],
   "source": [
    "import numpy as np\n",
    "import pandas as pd\n",
    "from pandas import json_normalize\n",
    "import seaborn as sns\n",
    "import matplotlib.pyplot as plt\n",
    "\n",
    "from bs4 import BeautifulSoup\n",
    "import requests \n",
    "import time\n",
    "\n",
    "from selenium import webdriver \n",
    "from selenium.webdriver.common.keys import Keys \n",
    "from selenium.webdriver.common.by import By\n",
    "from selenium.webdriver.support.ui import WebDriverWait\n",
    "from selenium.webdriver.support import expected_conditions as EC\n",
    "\n",
    "from geopy.geocoders import Nominatim\n",
    "import ast\n",
    "\n",
    "import warnings\n",
    "warnings.filterwarnings(\"ignore\")\n",
    "\n",
    "from my_functions import *"
   ]
  },
  {
   "cell_type": "markdown",
   "metadata": {},
   "source": [
    "# **1. Merge ``df_masters`` & ``df_ratings``**"
   ]
  },
  {
   "cell_type": "code",
   "execution_count": 87,
   "metadata": {},
   "outputs": [
    {
     "name": "stdout",
     "output_type": "stream",
     "text": [
      "(56660, 13): df_uk_masters\n",
      "(48690, 13): df_us_masters\n",
      "(17935, 13): df_us_new_masters\n",
      "(51222, 5): df_ratings_20\n",
      "(11920, 13): df_masters_blended\n"
     ]
    }
   ],
   "source": [
    "# import the dataframes\n",
    "df_uk_masters = pd.read_csv('Datasets/df_uk_masters.csv')                         # all the albums from the UK\n",
    "df_us_masters = pd.read_csv('Datasets/df_us_masters.csv')                         # albums from the US until 1996, 1998 and 2000\n",
    "df_us_new_masters = pd.read_csv('Datasets/df_us_new_masters.csv')                         # albums from the US from 1997, 1999 and 2001\n",
    "df_ratings_20 = pd.read_csv('Datasets/df_ratings_20.csv', keep_default_na=False)  # albums with >= 20 votes, mostly from rock, worldwide\n",
    "df_masters_blended = pd.read_csv('Datasets/df_masters_blended.csv')               # albums from the UK and US (and others) with >= 10 votes \n",
    "\n",
    "# print information\n",
    "print(f'{df_uk_masters.shape}: df_uk_masters')\n",
    "print(f'{df_us_masters.shape}: df_us_masters')\n",
    "print(f'{df_us_new_masters.shape}: df_us_new_masters')\n",
    "print(f'{df_ratings_20.shape}: df_ratings_20')\n",
    "print(f'{df_masters_blended.shape}: df_masters_blended')"
   ]
  },
  {
   "cell_type": "code",
   "execution_count": 3,
   "metadata": {},
   "outputs": [
    {
     "data": {
      "text/plain": [
       "0"
      ]
     },
     "execution_count": 3,
     "metadata": {},
     "output_type": "execute_result"
    }
   ],
   "source": [
    "df_uk_masters['master_id'].isna().sum()"
   ]
  },
  {
   "cell_type": "code",
   "execution_count": null,
   "metadata": {},
   "outputs": [
    {
     "data": {
      "text/plain": [
       "0"
      ]
     },
     "execution_count": 103,
     "metadata": {},
     "output_type": "execute_result"
    }
   ],
   "source": [
    "df_uk_masters['master_id'].fillna(0, inplace=True)\n",
    "df_uk_masters['master_id'].isna().sum()"
   ]
  },
  {
   "cell_type": "markdown",
   "metadata": {},
   "source": [
    "## **Concat with the albums previously cleaned**"
   ]
  },
  {
   "cell_type": "code",
   "execution_count": 93,
   "metadata": {},
   "outputs": [
    {
     "data": {
      "text/plain": [
       "(200, 13)"
      ]
     },
     "execution_count": 93,
     "metadata": {},
     "output_type": "execute_result"
    }
   ],
   "source": [
    "df_us_2019 = pd.read_csv('Datasets/df_us_2019.csv')\n",
    "df_us_2019.shape"
   ]
  },
  {
   "cell_type": "code",
   "execution_count": 94,
   "metadata": {},
   "outputs": [
    {
     "data": {
      "text/plain": [
       "year\n",
       "2019    167\n",
       "2018      6\n",
       "2012      5\n",
       "2011      4\n",
       "2017      3\n",
       "2009      2\n",
       "2014      2\n",
       "2006      1\n",
       "1990      1\n",
       "2002      1\n",
       "Name: count, dtype: int64"
      ]
     },
     "execution_count": 94,
     "metadata": {},
     "output_type": "execute_result"
    }
   ],
   "source": [
    "df_us_2019['year'].value_counts().head(10)"
   ]
  },
  {
   "cell_type": "code",
   "execution_count": 95,
   "metadata": {},
   "outputs": [
    {
     "data": {
      "text/plain": [
       "styles\n",
       "['Progressive Metal']                                                                    19\n",
       "['Metalcore', 'Progressive Metal']                                                        8\n",
       "['Technical Death Metal', 'Progressive Metal']                                            7\n",
       "['Prog Rock', 'Progressive Metal']                                                        6\n",
       "['Space Rock']                                                                            3\n",
       "['Progressive Metal', 'Prog Rock']                                                        3\n",
       "['Art Rock', 'Krautrock', 'Psychedelic Rock', 'Prog Rock', 'Space Rock', 'Folk Rock']     3\n",
       "['Death Metal']                                                                           2\n",
       "[]                                                                                        2\n",
       "['Prog Rock']                                                                             2\n",
       "Name: count, dtype: int64"
      ]
     },
     "execution_count": 95,
     "metadata": {},
     "output_type": "execute_result"
    }
   ],
   "source": [
    "df_us_2019['styles'].value_counts().head(10)"
   ]
  },
  {
   "cell_type": "code",
   "execution_count": 96,
   "metadata": {},
   "outputs": [
    {
     "data": {
      "text/plain": [
       "(18011, 13)"
      ]
     },
     "execution_count": 96,
     "metadata": {},
     "output_type": "execute_result"
    }
   ],
   "source": [
    "df_us_new_masters = pd.read_csv('Datasets/df_us_new_masters.csv')                         # albums from the US from 1997, 1999 and 2001\n",
    "df_us_new_masters.shape"
   ]
  },
  {
   "cell_type": "code",
   "execution_count": 98,
   "metadata": {},
   "outputs": [
    {
     "data": {
      "text/plain": [
       "(18211, 13)"
      ]
     },
     "execution_count": 98,
     "metadata": {},
     "output_type": "execute_result"
    }
   ],
   "source": [
    "df_concat = pd.concat([df_us_new_masters, df_us_2019])\n",
    "df_concat.shape"
   ]
  },
  {
   "cell_type": "code",
   "execution_count": 99,
   "metadata": {},
   "outputs": [
    {
     "name": "stdout",
     "output_type": "stream",
     "text": [
      "Found 4 duplicates:\n",
      "Resulting dataset: (18207, 13)\n"
     ]
    }
   ],
   "source": [
    "check_duplicates(df_concat)"
   ]
  },
  {
   "cell_type": "code",
   "execution_count": 100,
   "metadata": {},
   "outputs": [
    {
     "data": {
      "text/plain": [
       "<Axes: xlabel='count', ylabel='year'>"
      ]
     },
     "execution_count": 100,
     "metadata": {},
     "output_type": "execute_result"
    },
    {
     "data": {
      "image/png": "[encoded data removed]",
      "text/plain": [
       "<Figure size 900x1200 with 1 Axes>"
      ]
     },
     "metadata": {},
     "output_type": "display_data"
    }
   ],
   "source": [
    "# make sure most of the albums are from the year I theoretically just got\n",
    "plt.figure(figsize=(9,12))\n",
    "sns.countplot(data=df_concat, y='year')"
   ]
  },
  {
   "cell_type": "markdown",
   "metadata": {},
   "source": [
    "**Export to csv**"
   ]
  },
  {
   "cell_type": "code",
   "execution_count": 101,
   "metadata": {},
   "outputs": [],
   "source": [
    "df_concat.to_csv('Datasets/df_us_new_masters.csv', index=False)"
   ]
  },
  {
   "cell_type": "code",
   "execution_count": 19,
   "metadata": {},
   "outputs": [],
   "source": [
    "df_masters = df_concat"
   ]
  },
  {
   "cell_type": "markdown",
   "metadata": {},
   "source": [
    "## **``df_masters`` parenthesis cleaning from ``artist``**"
   ]
  },
  {
   "cell_type": "markdown",
   "metadata": {},
   "source": [
    "### Testing"
   ]
  },
  {
   "cell_type": "markdown",
   "metadata": {},
   "source": [
    "I noticed that some artists in df_masters (so, in the Discogs API) have numbers in parenthesis in the artist name, which won't be merged with df_ratings, where there are almost no artists with numbers in parenthesis"
   ]
  },
  {
   "cell_type": "code",
   "execution_count": 59,
   "metadata": {},
   "outputs": [
    {
     "data": {
      "text/plain": [
       "27045"
      ]
     },
     "execution_count": 59,
     "metadata": {},
     "output_type": "execute_result"
    }
   ],
   "source": [
    "# all the artists in df_masters\n",
    "df_masters['artist'].nunique()"
   ]
  },
  {
   "cell_type": "code",
   "execution_count": 60,
   "metadata": {},
   "outputs": [
    {
     "data": {
      "text/plain": [
       "4816"
      ]
     },
     "execution_count": 60,
     "metadata": {},
     "output_type": "execute_result"
    }
   ],
   "source": [
    "# show the artists that have characters in parenthesis in the artist name\n",
    "df_masters_parenthesis = df_masters[df_masters['artist'].str.contains(r'\\(.*?\\)', regex=True)].sort_values('artist')\n",
    "df_masters_parenthesis['artist'].nunique()"
   ]
  },
  {
   "cell_type": "code",
   "execution_count": 34,
   "metadata": {},
   "outputs": [
    {
     "name": "stdout",
     "output_type": "stream",
     "text": [
      "(15584, 13): df_masters\n",
      "(656, 13): df_masters_parenthesis\n"
     ]
    }
   ],
   "source": [
    "# print information\n",
    "print(f'{df_masters.shape}: df_masters')\n",
    "print(f'{df_masters_parenthesis.shape}: df_masters_parenthesis')"
   ]
  },
  {
   "cell_type": "code",
   "execution_count": null,
   "metadata": {},
   "outputs": [
    {
     "data": {
      "text/plain": [
       "23683"
      ]
     },
     "execution_count": 57,
     "metadata": {},
     "output_type": "execute_result"
    }
   ],
   "source": [
    "df_ratings_10['artist'].nunique()"
   ]
  },
  {
   "cell_type": "code",
   "execution_count": null,
   "metadata": {},
   "outputs": [
    {
     "data": {
      "text/plain": [
       "0"
      ]
     },
     "execution_count": 58,
     "metadata": {},
     "output_type": "execute_result"
    }
   ],
   "source": [
    "# show the artists that have characters in parenthesis in the artist name\n",
    "df_ratings_10_parenthesis = df_ratings_10[df_ratings_10['artist'].str.contains(r'\\(.*?\\)', regex=True)].sort_values('artist')\n",
    "df_ratings_10_parenthesis['artist'].nunique()"
   ]
  },
  {
   "cell_type": "code",
   "execution_count": null,
   "metadata": {},
   "outputs": [
    {
     "name": "stdout",
     "output_type": "stream",
     "text": [
      "(79632, 5): df_ratings_top\n",
      "(1760, 5): df_ratings_top_parenthesis\n"
     ]
    }
   ],
   "source": [
    "# print information\n",
    "print(f'{df_ratings_10.shape}: df_ratings_10')\n",
    "print(f'{df_ratings_10_parenthesis.shape}: df_ratings_10_parenthesis')"
   ]
  },
  {
   "cell_type": "code",
   "execution_count": null,
   "metadata": {},
   "outputs": [
    {
     "data": {
      "text/html": [
       "<div>\n",
       "<style scoped>\n",
       "    .dataframe tbody tr th:only-of-type {\n",
       "        vertical-align: middle;\n",
       "    }\n",
       "\n",
       "    .dataframe tbody tr th {\n",
       "        vertical-align: top;\n",
       "    }\n",
       "\n",
       "    .dataframe thead th {\n",
       "        text-align: right;\n",
       "    }\n",
       "</style>\n",
       "<table border=\"1\" class=\"dataframe\">\n",
       "  <thead>\n",
       "    <tr style=\"text-align: right;\">\n",
       "      <th></th>\n",
       "      <th>album_id</th>\n",
       "      <th>artist</th>\n",
       "      <th>title</th>\n",
       "      <th>rating</th>\n",
       "      <th>votes</th>\n",
       "    </tr>\n",
       "  </thead>\n",
       "  <tbody>\n",
       "    <tr>\n",
       "      <th>66859</th>\n",
       "      <td>299052</td>\n",
       "      <td>Vacations (AUS)</td>\n",
       "      <td>Vibes and Days</td>\n",
       "      <td>3.87</td>\n",
       "      <td>15</td>\n",
       "    </tr>\n",
       "    <tr>\n",
       "      <th>66521</th>\n",
       "      <td>293448</td>\n",
       "      <td>Carnation (BE)</td>\n",
       "      <td>Chapel of Abhorrence</td>\n",
       "      <td>3.35</td>\n",
       "      <td>40</td>\n",
       "    </tr>\n",
       "    <tr>\n",
       "      <th>34007</th>\n",
       "      <td>67551</td>\n",
       "      <td>Soundtrack (Video Game)</td>\n",
       "      <td>The Legend of Zelda: Twilight Princess OST</td>\n",
       "      <td>4.23</td>\n",
       "      <td>80</td>\n",
       "    </tr>\n",
       "    <tr>\n",
       "      <th>39072</th>\n",
       "      <td>84542</td>\n",
       "      <td>Doom (JPN)</td>\n",
       "      <td>Complicated Mind</td>\n",
       "      <td>4.16</td>\n",
       "      <td>25</td>\n",
       "    </tr>\n",
       "    <tr>\n",
       "      <th>36362</th>\n",
       "      <td>74638</td>\n",
       "      <td>Tempest (Can)</td>\n",
       "      <td>Passages</td>\n",
       "      <td>3.73</td>\n",
       "      <td>37</td>\n",
       "    </tr>\n",
       "  </tbody>\n",
       "</table>\n",
       "</div>"
      ],
      "text/plain": [
       "       album_id                   artist  \\\n",
       "66859    299052          Vacations (AUS)   \n",
       "66521    293448           Carnation (BE)   \n",
       "34007     67551  Soundtrack (Video Game)   \n",
       "39072     84542               Doom (JPN)   \n",
       "36362     74638            Tempest (Can)   \n",
       "\n",
       "                                            title  rating  votes  \n",
       "66859                              Vibes and Days    3.87     15  \n",
       "66521                        Chapel of Abhorrence    3.35     40  \n",
       "34007  The Legend of Zelda: Twilight Princess OST    4.23     80  \n",
       "39072                            Complicated Mind    4.16     25  \n",
       "36362                                    Passages    3.73     37  "
      ]
     },
     "execution_count": 38,
     "metadata": {},
     "output_type": "execute_result"
    }
   ],
   "source": [
    "df_ratings_10_parenthesis.sample(5)"
   ]
  },
  {
   "cell_type": "markdown",
   "metadata": {},
   "source": [
    "In most of the artists, the information between parenthesis is the country of origin"
   ]
  },
  {
   "cell_type": "code",
   "execution_count": 39,
   "metadata": {},
   "outputs": [
    {
     "data": {
      "text/plain": [
       "2364       100% Proof\n",
       "3971       100% Proof\n",
       "2622     20/20 Vision\n",
       "1164       38 Special\n",
       "2445       38 Special\n",
       "            ...      \n",
       "3727              XIT\n",
       "3045            Ya Ya\n",
       "1735    Youth In Asia\n",
       "3931              ZED\n",
       "599              Zeno\n",
       "Name: artist, Length: 656, dtype: object"
      ]
     },
     "execution_count": 39,
     "metadata": {},
     "output_type": "execute_result"
    }
   ],
   "source": [
    "# delete these characters\n",
    "df_masters_parenthesis_clean = df_masters_parenthesis['artist'].str.replace(r'\\(.*?\\)', '', regex=True).str.strip()\n",
    "df_masters_parenthesis_clean"
   ]
  },
  {
   "cell_type": "code",
   "execution_count": null,
   "metadata": {},
   "outputs": [
    {
     "data": {
      "text/plain": [
       "52533                  \n",
       "53599                  \n",
       "35534    Slowest Runner\n",
       "35487    Slowest Runner\n",
       "13266              p.e.\n",
       "              ...      \n",
       "39716              hide\n",
       "68464              life\n",
       "70926              life\n",
       "49438              sway\n",
       "68857              オオハシ\n",
       "Name: artist, Length: 1760, dtype: object"
      ]
     },
     "execution_count": 40,
     "metadata": {},
     "output_type": "execute_result"
    }
   ],
   "source": [
    "# delete these characters\n",
    "df_ratings_10_parenthesis_clean = df_ratings_10_parenthesis['artist'].str.replace(r'\\(.*?\\)', '', regex=True).str.strip()\n",
    "df_ratings_10_parenthesis_clean"
   ]
  },
  {
   "cell_type": "code",
   "execution_count": null,
   "metadata": {},
   "outputs": [
    {
     "data": {
      "text/html": [
       "<div>\n",
       "<style scoped>\n",
       "    .dataframe tbody tr th:only-of-type {\n",
       "        vertical-align: middle;\n",
       "    }\n",
       "\n",
       "    .dataframe tbody tr th {\n",
       "        vertical-align: top;\n",
       "    }\n",
       "\n",
       "    .dataframe thead th {\n",
       "        text-align: right;\n",
       "    }\n",
       "</style>\n",
       "<table border=\"1\" class=\"dataframe\">\n",
       "  <thead>\n",
       "    <tr style=\"text-align: right;\">\n",
       "      <th></th>\n",
       "      <th>artist</th>\n",
       "    </tr>\n",
       "  </thead>\n",
       "  <tbody>\n",
       "    <tr>\n",
       "      <th>0</th>\n",
       "      <td>Alaska</td>\n",
       "    </tr>\n",
       "    <tr>\n",
       "      <th>1</th>\n",
       "      <td>Alaska</td>\n",
       "    </tr>\n",
       "    <tr>\n",
       "      <th>2</th>\n",
       "      <td>Alaska</td>\n",
       "    </tr>\n",
       "    <tr>\n",
       "      <th>3</th>\n",
       "      <td>Alaska</td>\n",
       "    </tr>\n",
       "    <tr>\n",
       "      <th>4</th>\n",
       "      <td>Attila</td>\n",
       "    </tr>\n",
       "    <tr>\n",
       "      <th>...</th>\n",
       "      <td>...</td>\n",
       "    </tr>\n",
       "    <tr>\n",
       "      <th>123</th>\n",
       "      <td>X</td>\n",
       "    </tr>\n",
       "    <tr>\n",
       "      <th>124</th>\n",
       "      <td>X</td>\n",
       "    </tr>\n",
       "    <tr>\n",
       "      <th>125</th>\n",
       "      <td>X</td>\n",
       "    </tr>\n",
       "    <tr>\n",
       "      <th>126</th>\n",
       "      <td>X</td>\n",
       "    </tr>\n",
       "    <tr>\n",
       "      <th>127</th>\n",
       "      <td>X</td>\n",
       "    </tr>\n",
       "  </tbody>\n",
       "</table>\n",
       "<p>128 rows × 1 columns</p>\n",
       "</div>"
      ],
      "text/plain": [
       "     artist\n",
       "0    Alaska\n",
       "1    Alaska\n",
       "2    Alaska\n",
       "3    Alaska\n",
       "4    Attila\n",
       "..      ...\n",
       "123       X\n",
       "124       X\n",
       "125       X\n",
       "126       X\n",
       "127       X\n",
       "\n",
       "[128 rows x 1 columns]"
      ]
     },
     "execution_count": 41,
     "metadata": {},
     "output_type": "execute_result"
    }
   ],
   "source": [
    "# merge test, all the artists that coincide on both dataframes after the parenthesis cleaning\n",
    "pd.merge(df_masters_parenthesis_clean, df_ratings_10_parenthesis_clean, on='artist')"
   ]
  },
  {
   "cell_type": "code",
   "execution_count": 45,
   "metadata": {},
   "outputs": [
    {
     "data": {
      "text/html": [
       "<div>\n",
       "<style scoped>\n",
       "    .dataframe tbody tr th:only-of-type {\n",
       "        vertical-align: middle;\n",
       "    }\n",
       "\n",
       "    .dataframe tbody tr th {\n",
       "        vertical-align: top;\n",
       "    }\n",
       "\n",
       "    .dataframe thead th {\n",
       "        text-align: right;\n",
       "    }\n",
       "</style>\n",
       "<table border=\"1\" class=\"dataframe\">\n",
       "  <thead>\n",
       "    <tr style=\"text-align: right;\">\n",
       "      <th></th>\n",
       "      <th>artist_id</th>\n",
       "      <th>master_id</th>\n",
       "      <th>main_release_id</th>\n",
       "      <th>release_country</th>\n",
       "      <th>artist</th>\n",
       "      <th>title</th>\n",
       "      <th>year</th>\n",
       "      <th>album_length</th>\n",
       "      <th>tracks</th>\n",
       "      <th>release_type</th>\n",
       "      <th>genres</th>\n",
       "      <th>styles</th>\n",
       "      <th>artist_profile</th>\n",
       "    </tr>\n",
       "  </thead>\n",
       "  <tbody>\n",
       "    <tr>\n",
       "      <th>1516</th>\n",
       "      <td>594810.0</td>\n",
       "      <td>309057.0</td>\n",
       "      <td>2702245</td>\n",
       "      <td>US</td>\n",
       "      <td>Alaska (8)</td>\n",
       "      <td>The Pack</td>\n",
       "      <td>1985</td>\n",
       "      <td>42.32</td>\n",
       "      <td>9</td>\n",
       "      <td>['LP', 'Album', 'Stereo']</td>\n",
       "      <td>['Rock']</td>\n",
       "      <td>['Hard Rock']</td>\n",
       "      <td>Alaska was a British hard rock band led by Ber...</td>\n",
       "    </tr>\n",
       "    <tr>\n",
       "      <th>2990</th>\n",
       "      <td>594810.0</td>\n",
       "      <td>591189.0</td>\n",
       "      <td>1175493</td>\n",
       "      <td>UK</td>\n",
       "      <td>Alaska (8)</td>\n",
       "      <td>Heart Of The Storm</td>\n",
       "      <td>1984</td>\n",
       "      <td>0.00</td>\n",
       "      <td>10</td>\n",
       "      <td>['LP', 'Album']</td>\n",
       "      <td>['Rock']</td>\n",
       "      <td>['Hard Rock', 'AOR']</td>\n",
       "      <td>Alaska was a British hard rock band led by Ber...</td>\n",
       "    </tr>\n",
       "  </tbody>\n",
       "</table>\n",
       "</div>"
      ],
      "text/plain": [
       "      artist_id  master_id  main_release_id release_country      artist  \\\n",
       "1516   594810.0   309057.0          2702245              US  Alaska (8)   \n",
       "2990   594810.0   591189.0          1175493              UK  Alaska (8)   \n",
       "\n",
       "                   title  year  album_length  tracks  \\\n",
       "1516            The Pack  1985         42.32       9   \n",
       "2990  Heart Of The Storm  1984          0.00      10   \n",
       "\n",
       "                   release_type    genres                styles  \\\n",
       "1516  ['LP', 'Album', 'Stereo']  ['Rock']         ['Hard Rock']   \n",
       "2990            ['LP', 'Album']  ['Rock']  ['Hard Rock', 'AOR']   \n",
       "\n",
       "                                         artist_profile  \n",
       "1516  Alaska was a British hard rock band led by Ber...  \n",
       "2990  Alaska was a British hard rock band led by Ber...  "
      ]
     },
     "execution_count": 45,
     "metadata": {},
     "output_type": "execute_result"
    }
   ],
   "source": [
    "df_masters[df_masters['artist'].str.contains('Alaska ')]"
   ]
  },
  {
   "cell_type": "code",
   "execution_count": null,
   "metadata": {},
   "outputs": [
    {
     "data": {
      "text/html": [
       "<div>\n",
       "<style scoped>\n",
       "    .dataframe tbody tr th:only-of-type {\n",
       "        vertical-align: middle;\n",
       "    }\n",
       "\n",
       "    .dataframe tbody tr th {\n",
       "        vertical-align: top;\n",
       "    }\n",
       "\n",
       "    .dataframe thead th {\n",
       "        text-align: right;\n",
       "    }\n",
       "</style>\n",
       "<table border=\"1\" class=\"dataframe\">\n",
       "  <thead>\n",
       "    <tr style=\"text-align: right;\">\n",
       "      <th></th>\n",
       "      <th>album_id</th>\n",
       "      <th>artist</th>\n",
       "      <th>title</th>\n",
       "      <th>rating</th>\n",
       "      <th>votes</th>\n",
       "    </tr>\n",
       "  </thead>\n",
       "  <tbody>\n",
       "    <tr>\n",
       "      <th>48864</th>\n",
       "      <td>135438</td>\n",
       "      <td>Alaska (USA)</td>\n",
       "      <td>Everything is Fine</td>\n",
       "      <td>3.38</td>\n",
       "      <td>12</td>\n",
       "    </tr>\n",
       "    <tr>\n",
       "      <th>57915</th>\n",
       "      <td>203926</td>\n",
       "      <td>Alaska (USA)</td>\n",
       "      <td>Shrine</td>\n",
       "      <td>3.54</td>\n",
       "      <td>12</td>\n",
       "    </tr>\n",
       "  </tbody>\n",
       "</table>\n",
       "</div>"
      ],
      "text/plain": [
       "       album_id        artist               title  rating  votes\n",
       "48864    135438  Alaska (USA)  Everything is Fine    3.38     12\n",
       "57915    203926  Alaska (USA)              Shrine    3.54     12"
      ]
     },
     "execution_count": 44,
     "metadata": {},
     "output_type": "execute_result"
    }
   ],
   "source": [
    "df_ratings_10[df_ratings_10['artist'].str.contains('Alaska ')]"
   ]
  },
  {
   "cell_type": "markdown",
   "metadata": {},
   "source": [
    "This shows that for instance **the artist 'Zebra' would not have merged** if we hadn't done that cleaning, because in ``df_masters`` it's registered under **\"Zebra (8)\"**, and in ``df_ratings`` under **\"Zebra (US)\"**"
   ]
  },
  {
   "cell_type": "markdown",
   "metadata": {},
   "source": [
    "### **Let's change the ``artist`` column for good**"
   ]
  },
  {
   "cell_type": "code",
   "execution_count": 20,
   "metadata": {},
   "outputs": [
    {
     "data": {
      "text/plain": [
       "(104518, 13)"
      ]
     },
     "execution_count": 20,
     "metadata": {},
     "output_type": "execute_result"
    }
   ],
   "source": [
    "df_masters.shape"
   ]
  },
  {
   "cell_type": "code",
   "execution_count": 21,
   "metadata": {},
   "outputs": [
    {
     "name": "stdout",
     "output_type": "stream",
     "text": [
      "54580 unique artists in df_masters\n"
     ]
    }
   ],
   "source": [
    "df_masters['artist'] = df_masters['artist'].str.replace(r'\\(.*?\\)', '', regex=True).str.strip()\n",
    "\n",
    "print(f\"{df_masters['artist'].nunique()} unique artists in df_masters\")"
   ]
  },
  {
   "cell_type": "code",
   "execution_count": 22,
   "metadata": {},
   "outputs": [
    {
     "name": "stdout",
     "output_type": "stream",
     "text": [
      "23683 unique artists in df_ratings_10\n"
     ]
    }
   ],
   "source": [
    "df_ratings_10['artist'] = df_ratings_10['artist'].str.replace(r'\\(.*?\\)', '', regex=True).str.strip()\n",
    "\n",
    "print(f\"{df_ratings_10['artist'].nunique()} unique artists in df_ratings_10\")"
   ]
  },
  {
   "cell_type": "markdown",
   "metadata": {},
   "source": [
    "## **&/and Cleaning**"
   ]
  },
  {
   "cell_type": "markdown",
   "metadata": {},
   "source": [
    "I noticed some artist and/or album names are slightly different, which will cause the merge to not properly function as I intend it.\n",
    "\n",
    "Notice the difference in the following album: \"Behold **and/&** See\""
   ]
  },
  {
   "cell_type": "code",
   "execution_count": 23,
   "metadata": {},
   "outputs": [
    {
     "data": {
      "text/html": [
       "<div>\n",
       "<style scoped>\n",
       "    .dataframe tbody tr th:only-of-type {\n",
       "        vertical-align: middle;\n",
       "    }\n",
       "\n",
       "    .dataframe tbody tr th {\n",
       "        vertical-align: top;\n",
       "    }\n",
       "\n",
       "    .dataframe thead th {\n",
       "        text-align: right;\n",
       "    }\n",
       "</style>\n",
       "<table border=\"1\" class=\"dataframe\">\n",
       "  <thead>\n",
       "    <tr style=\"text-align: right;\">\n",
       "      <th></th>\n",
       "      <th>album_id</th>\n",
       "      <th>artist</th>\n",
       "      <th>title</th>\n",
       "      <th>rating</th>\n",
       "      <th>votes</th>\n",
       "    </tr>\n",
       "  </thead>\n",
       "  <tbody>\n",
       "    <tr>\n",
       "      <th>48951</th>\n",
       "      <td>136113</td>\n",
       "      <td>Ultimate Spinach</td>\n",
       "      <td>Ultimate Spinach</td>\n",
       "      <td>3.81</td>\n",
       "      <td>27</td>\n",
       "    </tr>\n",
       "    <tr>\n",
       "      <th>51039</th>\n",
       "      <td>150508</td>\n",
       "      <td>Ultimate Spinach</td>\n",
       "      <td>Behold and See</td>\n",
       "      <td>3.89</td>\n",
       "      <td>23</td>\n",
       "    </tr>\n",
       "  </tbody>\n",
       "</table>\n",
       "</div>"
      ],
      "text/plain": [
       "       album_id            artist             title  rating  votes\n",
       "48951    136113  Ultimate Spinach  Ultimate Spinach    3.81     27\n",
       "51039    150508  Ultimate Spinach    Behold and See    3.89     23"
      ]
     },
     "execution_count": 23,
     "metadata": {},
     "output_type": "execute_result"
    }
   ],
   "source": [
    "df_ratings_10[df_ratings_10['artist']==\"Ultimate Spinach\"]"
   ]
  },
  {
   "cell_type": "code",
   "execution_count": 24,
   "metadata": {},
   "outputs": [
    {
     "data": {
      "text/html": [
       "<div>\n",
       "<style scoped>\n",
       "    .dataframe tbody tr th:only-of-type {\n",
       "        vertical-align: middle;\n",
       "    }\n",
       "\n",
       "    .dataframe tbody tr th {\n",
       "        vertical-align: top;\n",
       "    }\n",
       "\n",
       "    .dataframe thead th {\n",
       "        text-align: right;\n",
       "    }\n",
       "</style>\n",
       "<table border=\"1\" class=\"dataframe\">\n",
       "  <thead>\n",
       "    <tr style=\"text-align: right;\">\n",
       "      <th></th>\n",
       "      <th>artist_id</th>\n",
       "      <th>master_id</th>\n",
       "      <th>main_release_id</th>\n",
       "      <th>release_country</th>\n",
       "      <th>artist</th>\n",
       "      <th>title</th>\n",
       "      <th>year</th>\n",
       "      <th>album_length</th>\n",
       "      <th>tracks</th>\n",
       "      <th>release_type</th>\n",
       "      <th>genres</th>\n",
       "      <th>styles</th>\n",
       "      <th>artist_profile</th>\n",
       "    </tr>\n",
       "  </thead>\n",
       "  <tbody>\n",
       "    <tr>\n",
       "      <th>1815</th>\n",
       "      <td>407733.0</td>\n",
       "      <td>124122.0</td>\n",
       "      <td>1972400</td>\n",
       "      <td>US</td>\n",
       "      <td>Ultimate Spinach</td>\n",
       "      <td>Ultimate Spinach</td>\n",
       "      <td>1968</td>\n",
       "      <td>36.28</td>\n",
       "      <td>9</td>\n",
       "      <td>['LP', 'Album', 'Stereo']</td>\n",
       "      <td>['Rock']</td>\n",
       "      <td>['Psychedelic Rock', 'Garage Rock']</td>\n",
       "      <td>American Psychedelic Rock Band from Boston, Ma...</td>\n",
       "    </tr>\n",
       "    <tr>\n",
       "      <th>31348</th>\n",
       "      <td>407733.0</td>\n",
       "      <td>124123.0</td>\n",
       "      <td>1922050</td>\n",
       "      <td>US</td>\n",
       "      <td>Ultimate Spinach</td>\n",
       "      <td>Behold &amp; See</td>\n",
       "      <td>1968</td>\n",
       "      <td>52.07</td>\n",
       "      <td>8</td>\n",
       "      <td>['LP', 'Album', 'Stereo']</td>\n",
       "      <td>['Rock']</td>\n",
       "      <td>['Psychedelic Rock']</td>\n",
       "      <td>American Psychedelic Rock Band from Boston, Ma...</td>\n",
       "    </tr>\n",
       "    <tr>\n",
       "      <th>2441</th>\n",
       "      <td>407733.0</td>\n",
       "      <td>292196.0</td>\n",
       "      <td>1382596</td>\n",
       "      <td>US</td>\n",
       "      <td>Ultimate Spinach</td>\n",
       "      <td>Ultimate Spinach</td>\n",
       "      <td>1969</td>\n",
       "      <td>37.83</td>\n",
       "      <td>10</td>\n",
       "      <td>['LP', 'Album']</td>\n",
       "      <td>['Rock']</td>\n",
       "      <td>['Psychedelic Rock']</td>\n",
       "      <td>American Psychedelic Rock Band from Boston, Ma...</td>\n",
       "    </tr>\n",
       "  </tbody>\n",
       "</table>\n",
       "</div>"
      ],
      "text/plain": [
       "       artist_id  master_id  main_release_id release_country  \\\n",
       "1815    407733.0   124122.0          1972400              US   \n",
       "31348   407733.0   124123.0          1922050              US   \n",
       "2441    407733.0   292196.0          1382596              US   \n",
       "\n",
       "                 artist             title  year  album_length  tracks  \\\n",
       "1815   Ultimate Spinach  Ultimate Spinach  1968         36.28       9   \n",
       "31348  Ultimate Spinach      Behold & See  1968         52.07       8   \n",
       "2441   Ultimate Spinach  Ultimate Spinach  1969         37.83      10   \n",
       "\n",
       "                    release_type    genres  \\\n",
       "1815   ['LP', 'Album', 'Stereo']  ['Rock']   \n",
       "31348  ['LP', 'Album', 'Stereo']  ['Rock']   \n",
       "2441             ['LP', 'Album']  ['Rock']   \n",
       "\n",
       "                                    styles  \\\n",
       "1815   ['Psychedelic Rock', 'Garage Rock']   \n",
       "31348                 ['Psychedelic Rock']   \n",
       "2441                  ['Psychedelic Rock']   \n",
       "\n",
       "                                          artist_profile  \n",
       "1815   American Psychedelic Rock Band from Boston, Ma...  \n",
       "31348  American Psychedelic Rock Band from Boston, Ma...  \n",
       "2441   American Psychedelic Rock Band from Boston, Ma...  "
      ]
     },
     "execution_count": 24,
     "metadata": {},
     "output_type": "execute_result"
    }
   ],
   "source": [
    "df_masters[df_masters['artist']==\"Ultimate Spinach\"]"
   ]
  },
  {
   "cell_type": "code",
   "execution_count": 25,
   "metadata": {},
   "outputs": [],
   "source": [
    "df_masters[['artist', 'title']] = df_masters[['artist', 'title']].apply(lambda x: x.str.replace('&', 'and'))\n",
    "df_ratings_10[['artist', 'title']] = df_ratings_10[['artist', 'title']].apply(lambda x: x.str.replace('&', 'and'))"
   ]
  },
  {
   "cell_type": "code",
   "execution_count": 26,
   "metadata": {},
   "outputs": [
    {
     "data": {
      "text/html": [
       "<div>\n",
       "<style scoped>\n",
       "    .dataframe tbody tr th:only-of-type {\n",
       "        vertical-align: middle;\n",
       "    }\n",
       "\n",
       "    .dataframe tbody tr th {\n",
       "        vertical-align: top;\n",
       "    }\n",
       "\n",
       "    .dataframe thead th {\n",
       "        text-align: right;\n",
       "    }\n",
       "</style>\n",
       "<table border=\"1\" class=\"dataframe\">\n",
       "  <thead>\n",
       "    <tr style=\"text-align: right;\">\n",
       "      <th></th>\n",
       "      <th>artist_id</th>\n",
       "      <th>master_id</th>\n",
       "      <th>main_release_id</th>\n",
       "      <th>release_country</th>\n",
       "      <th>artist</th>\n",
       "      <th>title</th>\n",
       "      <th>year</th>\n",
       "      <th>album_length</th>\n",
       "      <th>tracks</th>\n",
       "      <th>release_type</th>\n",
       "      <th>genres</th>\n",
       "      <th>styles</th>\n",
       "      <th>artist_profile</th>\n",
       "    </tr>\n",
       "  </thead>\n",
       "  <tbody>\n",
       "    <tr>\n",
       "      <th>1815</th>\n",
       "      <td>407733.0</td>\n",
       "      <td>124122.0</td>\n",
       "      <td>1972400</td>\n",
       "      <td>US</td>\n",
       "      <td>Ultimate Spinach</td>\n",
       "      <td>Ultimate Spinach</td>\n",
       "      <td>1968</td>\n",
       "      <td>36.28</td>\n",
       "      <td>9</td>\n",
       "      <td>['LP', 'Album', 'Stereo']</td>\n",
       "      <td>['Rock']</td>\n",
       "      <td>['Psychedelic Rock', 'Garage Rock']</td>\n",
       "      <td>American Psychedelic Rock Band from Boston, Ma...</td>\n",
       "    </tr>\n",
       "    <tr>\n",
       "      <th>31348</th>\n",
       "      <td>407733.0</td>\n",
       "      <td>124123.0</td>\n",
       "      <td>1922050</td>\n",
       "      <td>US</td>\n",
       "      <td>Ultimate Spinach</td>\n",
       "      <td>Behold and See</td>\n",
       "      <td>1968</td>\n",
       "      <td>52.07</td>\n",
       "      <td>8</td>\n",
       "      <td>['LP', 'Album', 'Stereo']</td>\n",
       "      <td>['Rock']</td>\n",
       "      <td>['Psychedelic Rock']</td>\n",
       "      <td>American Psychedelic Rock Band from Boston, Ma...</td>\n",
       "    </tr>\n",
       "    <tr>\n",
       "      <th>2441</th>\n",
       "      <td>407733.0</td>\n",
       "      <td>292196.0</td>\n",
       "      <td>1382596</td>\n",
       "      <td>US</td>\n",
       "      <td>Ultimate Spinach</td>\n",
       "      <td>Ultimate Spinach</td>\n",
       "      <td>1969</td>\n",
       "      <td>37.83</td>\n",
       "      <td>10</td>\n",
       "      <td>['LP', 'Album']</td>\n",
       "      <td>['Rock']</td>\n",
       "      <td>['Psychedelic Rock']</td>\n",
       "      <td>American Psychedelic Rock Band from Boston, Ma...</td>\n",
       "    </tr>\n",
       "  </tbody>\n",
       "</table>\n",
       "</div>"
      ],
      "text/plain": [
       "       artist_id  master_id  main_release_id release_country  \\\n",
       "1815    407733.0   124122.0          1972400              US   \n",
       "31348   407733.0   124123.0          1922050              US   \n",
       "2441    407733.0   292196.0          1382596              US   \n",
       "\n",
       "                 artist             title  year  album_length  tracks  \\\n",
       "1815   Ultimate Spinach  Ultimate Spinach  1968         36.28       9   \n",
       "31348  Ultimate Spinach    Behold and See  1968         52.07       8   \n",
       "2441   Ultimate Spinach  Ultimate Spinach  1969         37.83      10   \n",
       "\n",
       "                    release_type    genres  \\\n",
       "1815   ['LP', 'Album', 'Stereo']  ['Rock']   \n",
       "31348  ['LP', 'Album', 'Stereo']  ['Rock']   \n",
       "2441             ['LP', 'Album']  ['Rock']   \n",
       "\n",
       "                                    styles  \\\n",
       "1815   ['Psychedelic Rock', 'Garage Rock']   \n",
       "31348                 ['Psychedelic Rock']   \n",
       "2441                  ['Psychedelic Rock']   \n",
       "\n",
       "                                          artist_profile  \n",
       "1815   American Psychedelic Rock Band from Boston, Ma...  \n",
       "31348  American Psychedelic Rock Band from Boston, Ma...  \n",
       "2441   American Psychedelic Rock Band from Boston, Ma...  "
      ]
     },
     "execution_count": 26,
     "metadata": {},
     "output_type": "execute_result"
    }
   ],
   "source": [
    "df_masters[df_masters['artist']==\"Ultimate Spinach\"]"
   ]
  },
  {
   "cell_type": "markdown",
   "metadata": {},
   "source": [
    "## Actual merge"
   ]
  },
  {
   "cell_type": "code",
   "execution_count": 27,
   "metadata": {},
   "outputs": [
    {
     "data": {
      "text/plain": [
       "(12463, 16)"
      ]
     },
     "execution_count": 27,
     "metadata": {},
     "output_type": "execute_result"
    }
   ],
   "source": [
    "df = pd.merge(\n",
    "    df_ratings_20.assign(artist_lower=df_ratings_20['artist'].str.lower().str.strip(), \n",
    "                      title_lower=df_ratings_20['title'].str.lower().str.strip()), \n",
    "    df_masters.assign(artist_lower=df_masters['artist'].str.lower().str.strip(), \n",
    "                      title_lower=df_masters['title'].str.lower().str.strip()), \n",
    "    on=['artist_lower', 'title_lower']\n",
    ").drop(columns=['artist_lower', 'title_lower', 'artist_y', 'title_y'])\n",
    "\n",
    "# Rename columns\n",
    "df.rename(columns={'artist_x': 'artist', 'title_x': 'title'}, inplace=True)\n",
    "\n",
    "# Change dtypes\n",
    "df['master_id'] = df['master_id'].astype(int)\n",
    "\n",
    "# print the shape\n",
    "df.shape"
   ]
  },
  {
   "cell_type": "code",
   "execution_count": 28,
   "metadata": {},
   "outputs": [
    {
     "data": {
      "text/html": [
       "<div>\n",
       "<style scoped>\n",
       "    .dataframe tbody tr th:only-of-type {\n",
       "        vertical-align: middle;\n",
       "    }\n",
       "\n",
       "    .dataframe tbody tr th {\n",
       "        vertical-align: top;\n",
       "    }\n",
       "\n",
       "    .dataframe thead th {\n",
       "        text-align: right;\n",
       "    }\n",
       "</style>\n",
       "<table border=\"1\" class=\"dataframe\">\n",
       "  <thead>\n",
       "    <tr style=\"text-align: right;\">\n",
       "      <th></th>\n",
       "      <th>album_id</th>\n",
       "      <th>artist</th>\n",
       "      <th>title</th>\n",
       "      <th>rating</th>\n",
       "      <th>votes</th>\n",
       "      <th>artist_id</th>\n",
       "      <th>master_id</th>\n",
       "      <th>main_release_id</th>\n",
       "      <th>release_country</th>\n",
       "      <th>year</th>\n",
       "      <th>album_length</th>\n",
       "      <th>tracks</th>\n",
       "      <th>release_type</th>\n",
       "      <th>genres</th>\n",
       "      <th>styles</th>\n",
       "      <th>artist_profile</th>\n",
       "    </tr>\n",
       "  </thead>\n",
       "  <tbody>\n",
       "    <tr>\n",
       "      <th>1552</th>\n",
       "      <td>4473</td>\n",
       "      <td>Bob Dylan and The Band</td>\n",
       "      <td>The Basement Tapes</td>\n",
       "      <td>4.04</td>\n",
       "      <td>291</td>\n",
       "      <td>2754841.0</td>\n",
       "      <td>0</td>\n",
       "      <td>13774158</td>\n",
       "      <td>US</td>\n",
       "      <td>1975</td>\n",
       "      <td>76.93</td>\n",
       "      <td>24</td>\n",
       "      <td>['LP', 'Album']</td>\n",
       "      <td>['Rock']</td>\n",
       "      <td>['Folk Rock', 'Country Rock', 'Classic Rock']</td>\n",
       "      <td>NaN</td>\n",
       "    </tr>\n",
       "  </tbody>\n",
       "</table>\n",
       "</div>"
      ],
      "text/plain": [
       "      album_id                  artist               title  rating  votes  \\\n",
       "1552      4473  Bob Dylan and The Band  The Basement Tapes    4.04    291   \n",
       "\n",
       "      artist_id  master_id  main_release_id release_country  year  \\\n",
       "1552  2754841.0          0         13774158              US  1975   \n",
       "\n",
       "      album_length  tracks     release_type    genres  \\\n",
       "1552         76.93      24  ['LP', 'Album']  ['Rock']   \n",
       "\n",
       "                                             styles artist_profile  \n",
       "1552  ['Folk Rock', 'Country Rock', 'Classic Rock']            NaN  "
      ]
     },
     "execution_count": 28,
     "metadata": {},
     "output_type": "execute_result"
    }
   ],
   "source": [
    "df[df['artist']=='Bob Dylan and The Band']"
   ]
  },
  {
   "cell_type": "code",
   "execution_count": 29,
   "metadata": {},
   "outputs": [
    {
     "data": {
      "text/html": [
       "<div>\n",
       "<style scoped>\n",
       "    .dataframe tbody tr th:only-of-type {\n",
       "        vertical-align: middle;\n",
       "    }\n",
       "\n",
       "    .dataframe tbody tr th {\n",
       "        vertical-align: top;\n",
       "    }\n",
       "\n",
       "    .dataframe thead th {\n",
       "        text-align: right;\n",
       "    }\n",
       "</style>\n",
       "<table border=\"1\" class=\"dataframe\">\n",
       "  <thead>\n",
       "    <tr style=\"text-align: right;\">\n",
       "      <th></th>\n",
       "      <th>album_id</th>\n",
       "      <th>artist</th>\n",
       "      <th>title</th>\n",
       "      <th>rating</th>\n",
       "      <th>votes</th>\n",
       "      <th>artist_id</th>\n",
       "      <th>master_id</th>\n",
       "      <th>main_release_id</th>\n",
       "      <th>release_country</th>\n",
       "      <th>year</th>\n",
       "      <th>album_length</th>\n",
       "      <th>tracks</th>\n",
       "      <th>release_type</th>\n",
       "      <th>genres</th>\n",
       "      <th>styles</th>\n",
       "      <th>artist_profile</th>\n",
       "    </tr>\n",
       "  </thead>\n",
       "  <tbody>\n",
       "    <tr>\n",
       "      <th>9574</th>\n",
       "      <td>108149</td>\n",
       "      <td>Nazareth</td>\n",
       "      <td>No Mean City</td>\n",
       "      <td>3.73</td>\n",
       "      <td>58</td>\n",
       "      <td>253882.0</td>\n",
       "      <td>24569</td>\n",
       "      <td>1454388</td>\n",
       "      <td>UK</td>\n",
       "      <td>1979</td>\n",
       "      <td>0.00</td>\n",
       "      <td>8</td>\n",
       "      <td>['LP', 'Album']</td>\n",
       "      <td>['Rock']</td>\n",
       "      <td>['Art Rock']</td>\n",
       "      <td>Nazareth are a Scottish hard rock band formed ...</td>\n",
       "    </tr>\n",
       "    <tr>\n",
       "      <th>5621</th>\n",
       "      <td>25566</td>\n",
       "      <td>Coalesce</td>\n",
       "      <td>0:12 Revolution in Just Listening</td>\n",
       "      <td>3.95</td>\n",
       "      <td>389</td>\n",
       "      <td>337332.0</td>\n",
       "      <td>112931</td>\n",
       "      <td>520801</td>\n",
       "      <td>US</td>\n",
       "      <td>1999</td>\n",
       "      <td>23.77</td>\n",
       "      <td>9</td>\n",
       "      <td>['Album']</td>\n",
       "      <td>['Rock']</td>\n",
       "      <td>['Metalcore', 'Math Rock']</td>\n",
       "      <td>Hardcore / metalcore band from Kansas City, US...</td>\n",
       "    </tr>\n",
       "    <tr>\n",
       "      <th>10083</th>\n",
       "      <td>147672</td>\n",
       "      <td>The Fray</td>\n",
       "      <td>Helios</td>\n",
       "      <td>1.73</td>\n",
       "      <td>65</td>\n",
       "      <td>616311.0</td>\n",
       "      <td>656887</td>\n",
       "      <td>5426001</td>\n",
       "      <td>US</td>\n",
       "      <td>2014</td>\n",
       "      <td>42.38</td>\n",
       "      <td>11</td>\n",
       "      <td>['LP', 'Album']</td>\n",
       "      <td>['Rock']</td>\n",
       "      <td>['Pop Rock']</td>\n",
       "      <td>Soft rock band from Denver, Colorado. USA.\\r\\n...</td>\n",
       "    </tr>\n",
       "    <tr>\n",
       "      <th>3794</th>\n",
       "      <td>13685</td>\n",
       "      <td>The Damned</td>\n",
       "      <td>Anything</td>\n",
       "      <td>2.64</td>\n",
       "      <td>38</td>\n",
       "      <td>152965.0</td>\n",
       "      <td>18718</td>\n",
       "      <td>1227274</td>\n",
       "      <td>UK</td>\n",
       "      <td>1986</td>\n",
       "      <td>41.00</td>\n",
       "      <td>9</td>\n",
       "      <td>['LP', 'Album', 'Limited Edition', 'Special Ed...</td>\n",
       "      <td>['Rock']</td>\n",
       "      <td>['New Wave', 'Punk']</td>\n",
       "      <td>English punk band formed in 1976 in London by ...</td>\n",
       "    </tr>\n",
       "    <tr>\n",
       "      <th>2747</th>\n",
       "      <td>8643</td>\n",
       "      <td>In the Woods...</td>\n",
       "      <td>Heart Of The Ages</td>\n",
       "      <td>3.99</td>\n",
       "      <td>217</td>\n",
       "      <td>206388.0</td>\n",
       "      <td>13598</td>\n",
       "      <td>3918054</td>\n",
       "      <td>UK</td>\n",
       "      <td>1995</td>\n",
       "      <td>59.17</td>\n",
       "      <td>7</td>\n",
       "      <td>['Album']</td>\n",
       "      <td>['Rock']</td>\n",
       "      <td>['Black Metal', 'Doom Metal']</td>\n",
       "      <td>The Norwegian band started out in 1990 as a de...</td>\n",
       "    </tr>\n",
       "  </tbody>\n",
       "</table>\n",
       "</div>"
      ],
      "text/plain": [
       "       album_id           artist                              title  rating  \\\n",
       "9574     108149         Nazareth                       No Mean City    3.73   \n",
       "5621      25566         Coalesce  0:12 Revolution in Just Listening    3.95   \n",
       "10083    147672         The Fray                             Helios    1.73   \n",
       "3794      13685       The Damned                           Anything    2.64   \n",
       "2747       8643  In the Woods...                  Heart Of The Ages    3.99   \n",
       "\n",
       "       votes  artist_id  master_id  main_release_id release_country  year  \\\n",
       "9574      58   253882.0      24569          1454388              UK  1979   \n",
       "5621     389   337332.0     112931           520801              US  1999   \n",
       "10083     65   616311.0     656887          5426001              US  2014   \n",
       "3794      38   152965.0      18718          1227274              UK  1986   \n",
       "2747     217   206388.0      13598          3918054              UK  1995   \n",
       "\n",
       "       album_length  tracks  \\\n",
       "9574           0.00       8   \n",
       "5621          23.77       9   \n",
       "10083         42.38      11   \n",
       "3794          41.00       9   \n",
       "2747          59.17       7   \n",
       "\n",
       "                                            release_type    genres  \\\n",
       "9574                                     ['LP', 'Album']  ['Rock']   \n",
       "5621                                           ['Album']  ['Rock']   \n",
       "10083                                    ['LP', 'Album']  ['Rock']   \n",
       "3794   ['LP', 'Album', 'Limited Edition', 'Special Ed...  ['Rock']   \n",
       "2747                                           ['Album']  ['Rock']   \n",
       "\n",
       "                              styles  \\\n",
       "9574                    ['Art Rock']   \n",
       "5621      ['Metalcore', 'Math Rock']   \n",
       "10083                   ['Pop Rock']   \n",
       "3794            ['New Wave', 'Punk']   \n",
       "2747   ['Black Metal', 'Doom Metal']   \n",
       "\n",
       "                                          artist_profile  \n",
       "9574   Nazareth are a Scottish hard rock band formed ...  \n",
       "5621   Hardcore / metalcore band from Kansas City, US...  \n",
       "10083  Soft rock band from Denver, Colorado. USA.\\r\\n...  \n",
       "3794   English punk band formed in 1976 in London by ...  \n",
       "2747   The Norwegian band started out in 1990 as a de...  "
      ]
     },
     "execution_count": 29,
     "metadata": {},
     "output_type": "execute_result"
    }
   ],
   "source": [
    "df.sample(5)"
   ]
  },
  {
   "cell_type": "code",
   "execution_count": 30,
   "metadata": {},
   "outputs": [
    {
     "data": {
      "text/plain": [
       "release_country\n",
       "US                 5267\n",
       "UK                 3248\n",
       "Europe             1532\n",
       "Germany             429\n",
       "UK & Europe         389\n",
       "Canada              228\n",
       "UK, Europe & US     145\n",
       "Australia           128\n",
       "Worldwide           114\n",
       "USA & Canada         99\n",
       "Name: count, dtype: int64"
      ]
     },
     "execution_count": 30,
     "metadata": {},
     "output_type": "execute_result"
    }
   ],
   "source": [
    "df['release_country'].value_counts().head(10)"
   ]
  },
  {
   "cell_type": "code",
   "execution_count": 32,
   "metadata": {},
   "outputs": [
    {
     "name": "stdout",
     "output_type": "stream",
     "text": [
      "11.92 % of the albums have more than 20 votes\n"
     ]
    }
   ],
   "source": [
    "print(f\"{round(df.shape[0] / df_masters.shape[0]*100, 2)} % of the albums have more than 20 votes\")"
   ]
  },
  {
   "cell_type": "markdown",
   "metadata": {},
   "source": [
    "### First inspection"
   ]
  },
  {
   "cell_type": "markdown",
   "metadata": {},
   "source": [
    "**Change the dtype of ``artist_id``**"
   ]
  },
  {
   "cell_type": "code",
   "execution_count": 56,
   "metadata": {},
   "outputs": [
    {
     "data": {
      "text/html": [
       "<div>\n",
       "<style scoped>\n",
       "    .dataframe tbody tr th:only-of-type {\n",
       "        vertical-align: middle;\n",
       "    }\n",
       "\n",
       "    .dataframe tbody tr th {\n",
       "        vertical-align: top;\n",
       "    }\n",
       "\n",
       "    .dataframe thead th {\n",
       "        text-align: right;\n",
       "    }\n",
       "</style>\n",
       "<table border=\"1\" class=\"dataframe\">\n",
       "  <thead>\n",
       "    <tr style=\"text-align: right;\">\n",
       "      <th></th>\n",
       "      <th>album_id</th>\n",
       "      <th>artist</th>\n",
       "      <th>title</th>\n",
       "      <th>rating</th>\n",
       "      <th>votes</th>\n",
       "      <th>artist_id</th>\n",
       "      <th>master_id</th>\n",
       "      <th>main_release_id</th>\n",
       "      <th>release_country</th>\n",
       "      <th>year</th>\n",
       "      <th>album_length</th>\n",
       "      <th>tracks</th>\n",
       "      <th>release_type</th>\n",
       "      <th>genres</th>\n",
       "      <th>styles</th>\n",
       "      <th>artist_profile</th>\n",
       "    </tr>\n",
       "  </thead>\n",
       "  <tbody>\n",
       "  </tbody>\n",
       "</table>\n",
       "</div>"
      ],
      "text/plain": [
       "Empty DataFrame\n",
       "Columns: [album_id, artist, title, rating, votes, artist_id, master_id, main_release_id, release_country, year, album_length, tracks, release_type, genres, styles, artist_profile]\n",
       "Index: []"
      ]
     },
     "execution_count": 56,
     "metadata": {},
     "output_type": "execute_result"
    }
   ],
   "source": [
    "df[df['artist_id'].isna()]"
   ]
  },
  {
   "cell_type": "code",
   "execution_count": 53,
   "metadata": {},
   "outputs": [
    {
     "data": {
      "text/html": [
       "<div>\n",
       "<style scoped>\n",
       "    .dataframe tbody tr th:only-of-type {\n",
       "        vertical-align: middle;\n",
       "    }\n",
       "\n",
       "    .dataframe tbody tr th {\n",
       "        vertical-align: top;\n",
       "    }\n",
       "\n",
       "    .dataframe thead th {\n",
       "        text-align: right;\n",
       "    }\n",
       "</style>\n",
       "<table border=\"1\" class=\"dataframe\">\n",
       "  <thead>\n",
       "    <tr style=\"text-align: right;\">\n",
       "      <th></th>\n",
       "      <th>album_id</th>\n",
       "      <th>artist</th>\n",
       "      <th>title</th>\n",
       "      <th>rating</th>\n",
       "      <th>votes</th>\n",
       "      <th>artist_id</th>\n",
       "      <th>master_id</th>\n",
       "      <th>main_release_id</th>\n",
       "      <th>release_country</th>\n",
       "      <th>year</th>\n",
       "      <th>album_length</th>\n",
       "      <th>tracks</th>\n",
       "      <th>release_type</th>\n",
       "      <th>genres</th>\n",
       "      <th>styles</th>\n",
       "      <th>artist_profile</th>\n",
       "    </tr>\n",
       "  </thead>\n",
       "  <tbody>\n",
       "    <tr>\n",
       "      <th>2206</th>\n",
       "      <td>7017</td>\n",
       "      <td>David Bowie</td>\n",
       "      <td>\"Heroes\"</td>\n",
       "      <td>4.27</td>\n",
       "      <td>1702</td>\n",
       "      <td>10263.0</td>\n",
       "      <td>0</td>\n",
       "      <td>13020767</td>\n",
       "      <td>UK</td>\n",
       "      <td>1977</td>\n",
       "      <td>40.33</td>\n",
       "      <td>10</td>\n",
       "      <td>['LP', 'Album']</td>\n",
       "      <td>['Electronic', 'Rock']</td>\n",
       "      <td>['Experimental']</td>\n",
       "      <td>British pop/rock singer, musician, songwriter,...</td>\n",
       "    </tr>\n",
       "    <tr>\n",
       "      <th>837</th>\n",
       "      <td>2031</td>\n",
       "      <td>David Bowie</td>\n",
       "      <td>Hunky Dory</td>\n",
       "      <td>4.35</td>\n",
       "      <td>1996</td>\n",
       "      <td>10263.0</td>\n",
       "      <td>0</td>\n",
       "      <td>15836400</td>\n",
       "      <td>UK</td>\n",
       "      <td>1971</td>\n",
       "      <td>41.07</td>\n",
       "      <td>11</td>\n",
       "      <td>['LP', 'Album']</td>\n",
       "      <td>['Rock']</td>\n",
       "      <td>['Glam']</td>\n",
       "      <td>British pop/rock singer, musician, songwriter,...</td>\n",
       "    </tr>\n",
       "    <tr>\n",
       "      <th>3500</th>\n",
       "      <td>11719</td>\n",
       "      <td>David Bowie</td>\n",
       "      <td>Let's Dance</td>\n",
       "      <td>3.40</td>\n",
       "      <td>875</td>\n",
       "      <td>10263.0</td>\n",
       "      <td>48753</td>\n",
       "      <td>712084</td>\n",
       "      <td>UK</td>\n",
       "      <td>1983</td>\n",
       "      <td>39.68</td>\n",
       "      <td>8</td>\n",
       "      <td>['LP', 'Album', 'Stereo']</td>\n",
       "      <td>['Rock', 'Funk / Soul', 'Pop']</td>\n",
       "      <td>['Pop Rock', 'Dance-pop', 'New Wave']</td>\n",
       "      <td>British pop/rock singer, musician, songwriter,...</td>\n",
       "    </tr>\n",
       "  </tbody>\n",
       "</table>\n",
       "</div>"
      ],
      "text/plain": [
       "      album_id       artist        title  rating  votes  artist_id  master_id  \\\n",
       "2206      7017  David Bowie     \"Heroes\"    4.27   1702    10263.0          0   \n",
       "837       2031  David Bowie   Hunky Dory    4.35   1996    10263.0          0   \n",
       "3500     11719  David Bowie  Let's Dance    3.40    875    10263.0      48753   \n",
       "\n",
       "      main_release_id release_country  year  album_length  tracks  \\\n",
       "2206         13020767              UK  1977         40.33      10   \n",
       "837          15836400              UK  1971         41.07      11   \n",
       "3500           712084              UK  1983         39.68       8   \n",
       "\n",
       "                   release_type                          genres  \\\n",
       "2206            ['LP', 'Album']          ['Electronic', 'Rock']   \n",
       "837             ['LP', 'Album']                        ['Rock']   \n",
       "3500  ['LP', 'Album', 'Stereo']  ['Rock', 'Funk / Soul', 'Pop']   \n",
       "\n",
       "                                     styles  \\\n",
       "2206                       ['Experimental']   \n",
       "837                                ['Glam']   \n",
       "3500  ['Pop Rock', 'Dance-pop', 'New Wave']   \n",
       "\n",
       "                                         artist_profile  \n",
       "2206  British pop/rock singer, musician, songwriter,...  \n",
       "837   British pop/rock singer, musician, songwriter,...  \n",
       "3500  British pop/rock singer, musician, songwriter,...  "
      ]
     },
     "execution_count": 53,
     "metadata": {},
     "output_type": "execute_result"
    }
   ],
   "source": [
    "df[df['artist']=='David Bowie'].sample(3)"
   ]
  },
  {
   "cell_type": "code",
   "execution_count": 55,
   "metadata": {},
   "outputs": [],
   "source": [
    "df.loc[7998, 'artist_id'] = 10263"
   ]
  },
  {
   "cell_type": "code",
   "execution_count": 57,
   "metadata": {},
   "outputs": [
    {
     "data": {
      "text/html": [
       "<div>\n",
       "<style scoped>\n",
       "    .dataframe tbody tr th:only-of-type {\n",
       "        vertical-align: middle;\n",
       "    }\n",
       "\n",
       "    .dataframe tbody tr th {\n",
       "        vertical-align: top;\n",
       "    }\n",
       "\n",
       "    .dataframe thead th {\n",
       "        text-align: right;\n",
       "    }\n",
       "</style>\n",
       "<table border=\"1\" class=\"dataframe\">\n",
       "  <thead>\n",
       "    <tr style=\"text-align: right;\">\n",
       "      <th></th>\n",
       "      <th>album_id</th>\n",
       "      <th>artist</th>\n",
       "      <th>title</th>\n",
       "      <th>rating</th>\n",
       "      <th>votes</th>\n",
       "      <th>artist_id</th>\n",
       "      <th>master_id</th>\n",
       "      <th>main_release_id</th>\n",
       "      <th>release_country</th>\n",
       "      <th>year</th>\n",
       "      <th>album_length</th>\n",
       "      <th>tracks</th>\n",
       "      <th>release_type</th>\n",
       "      <th>genres</th>\n",
       "      <th>styles</th>\n",
       "      <th>artist_profile</th>\n",
       "    </tr>\n",
       "  </thead>\n",
       "  <tbody>\n",
       "    <tr>\n",
       "      <th>0</th>\n",
       "      <td>37</td>\n",
       "      <td>Less Than Jake</td>\n",
       "      <td>Losing Streak</td>\n",
       "      <td>3.9</td>\n",
       "      <td>414</td>\n",
       "      <td>253327</td>\n",
       "      <td>237762</td>\n",
       "      <td>404505</td>\n",
       "      <td>US</td>\n",
       "      <td>1996</td>\n",
       "      <td>37.08</td>\n",
       "      <td>17</td>\n",
       "      <td>['Album']</td>\n",
       "      <td>['Rock']</td>\n",
       "      <td>['Ska', 'Punk']</td>\n",
       "      <td>Ska-influenced punk-rock band formed in Gaines...</td>\n",
       "    </tr>\n",
       "  </tbody>\n",
       "</table>\n",
       "</div>"
      ],
      "text/plain": [
       "   album_id          artist          title  rating  votes  artist_id  \\\n",
       "0        37  Less Than Jake  Losing Streak     3.9    414     253327   \n",
       "\n",
       "   master_id  main_release_id release_country  year  album_length  tracks  \\\n",
       "0     237762           404505              US  1996         37.08      17   \n",
       "\n",
       "  release_type    genres           styles  \\\n",
       "0    ['Album']  ['Rock']  ['Ska', 'Punk']   \n",
       "\n",
       "                                      artist_profile  \n",
       "0  Ska-influenced punk-rock band formed in Gaines...  "
      ]
     },
     "execution_count": 57,
     "metadata": {},
     "output_type": "execute_result"
    }
   ],
   "source": [
    "df['artist_id'] = df['artist_id'].astype(int)\n",
    "df.head(1)"
   ]
  },
  {
   "cell_type": "markdown",
   "metadata": {},
   "source": [
    "**Sort columns**\n",
    "\n",
    "I want to see the ``year`` next to the album ``title``, and I don't care much about the ``ids``"
   ]
  },
  {
   "cell_type": "code",
   "execution_count": 58,
   "metadata": {},
   "outputs": [
    {
     "data": {
      "text/html": [
       "<div>\n",
       "<style scoped>\n",
       "    .dataframe tbody tr th:only-of-type {\n",
       "        vertical-align: middle;\n",
       "    }\n",
       "\n",
       "    .dataframe tbody tr th {\n",
       "        vertical-align: top;\n",
       "    }\n",
       "\n",
       "    .dataframe thead th {\n",
       "        text-align: right;\n",
       "    }\n",
       "</style>\n",
       "<table border=\"1\" class=\"dataframe\">\n",
       "  <thead>\n",
       "    <tr style=\"text-align: right;\">\n",
       "      <th></th>\n",
       "      <th>album_id</th>\n",
       "      <th>artist</th>\n",
       "      <th>title</th>\n",
       "      <th>year</th>\n",
       "      <th>rating</th>\n",
       "      <th>votes</th>\n",
       "      <th>album_length</th>\n",
       "      <th>tracks</th>\n",
       "      <th>release_country</th>\n",
       "      <th>release_type</th>\n",
       "      <th>genres</th>\n",
       "      <th>styles</th>\n",
       "      <th>artist_profile</th>\n",
       "      <th>artist_id</th>\n",
       "      <th>master_id</th>\n",
       "      <th>main_release_id</th>\n",
       "    </tr>\n",
       "  </thead>\n",
       "  <tbody>\n",
       "    <tr>\n",
       "      <th>0</th>\n",
       "      <td>37</td>\n",
       "      <td>Less Than Jake</td>\n",
       "      <td>Losing Streak</td>\n",
       "      <td>1996</td>\n",
       "      <td>3.9</td>\n",
       "      <td>414</td>\n",
       "      <td>37.08</td>\n",
       "      <td>17</td>\n",
       "      <td>US</td>\n",
       "      <td>['Album']</td>\n",
       "      <td>['Rock']</td>\n",
       "      <td>['Ska', 'Punk']</td>\n",
       "      <td>Ska-influenced punk-rock band formed in Gaines...</td>\n",
       "      <td>253327</td>\n",
       "      <td>237762</td>\n",
       "      <td>404505</td>\n",
       "    </tr>\n",
       "  </tbody>\n",
       "</table>\n",
       "</div>"
      ],
      "text/plain": [
       "   album_id          artist          title  year  rating  votes  album_length  \\\n",
       "0        37  Less Than Jake  Losing Streak  1996     3.9    414         37.08   \n",
       "\n",
       "   tracks release_country release_type    genres           styles  \\\n",
       "0      17              US    ['Album']  ['Rock']  ['Ska', 'Punk']   \n",
       "\n",
       "                                      artist_profile  artist_id  master_id  \\\n",
       "0  Ska-influenced punk-rock band formed in Gaines...     253327     237762   \n",
       "\n",
       "   main_release_id  \n",
       "0           404505  "
      ]
     },
     "execution_count": 58,
     "metadata": {},
     "output_type": "execute_result"
    }
   ],
   "source": [
    "df = columns_show_ratings(df)\n",
    "df.head(1)"
   ]
  },
  {
   "cell_type": "markdown",
   "metadata": {},
   "source": [
    "**I keep only rock albums**"
   ]
  },
  {
   "cell_type": "code",
   "execution_count": null,
   "metadata": {},
   "outputs": [
    {
     "data": {
      "text/plain": [
       "(12209, 16)"
      ]
     },
     "execution_count": 60,
     "metadata": {},
     "output_type": "execute_result"
    }
   ],
   "source": [
    "# how many of them are Rock albums?\n",
    "print(f\"Rows before dropping: {df.shape[0]}\")\n",
    "df = df[df['genres'].str.contains('Rock')]\n",
    "print(f\"Rows after dropping: {df.shape[0]}\")"
   ]
  },
  {
   "cell_type": "markdown",
   "metadata": {},
   "source": [
    "**Drop compilations**"
   ]
  },
  {
   "cell_type": "code",
   "execution_count": 61,
   "metadata": {},
   "outputs": [
    {
     "data": {
      "text/plain": [
       "2"
      ]
     },
     "execution_count": 61,
     "metadata": {},
     "output_type": "execute_result"
    }
   ],
   "source": [
    "df['release_type'].isna().sum()"
   ]
  },
  {
   "cell_type": "code",
   "execution_count": 67,
   "metadata": {},
   "outputs": [
    {
     "data": {
      "text/plain": [
       "release_type\n",
       "['Album']                             5206\n",
       "['LP', 'Album']                       3246\n",
       "['LP', 'Album', 'Stereo']             1315\n",
       "['LP', 'Album', 'Limited Edition']     411\n",
       "['Album', 'Stereo']                    314\n",
       "['Album', 'Enhanced']                  174\n",
       "['Album', 'Limited Edition']           139\n",
       "['LP', 'Album', 'Mono']                117\n",
       "['LP']                                  91\n",
       "['FLAC', 'Album']                       78\n",
       "Name: count, dtype: int64"
      ]
     },
     "execution_count": 67,
     "metadata": {},
     "output_type": "execute_result"
    }
   ],
   "source": [
    "df['release_type'].value_counts().head(10)"
   ]
  },
  {
   "cell_type": "code",
   "execution_count": 63,
   "metadata": {},
   "outputs": [
    {
     "data": {
      "text/html": [
       "<div>\n",
       "<style scoped>\n",
       "    .dataframe tbody tr th:only-of-type {\n",
       "        vertical-align: middle;\n",
       "    }\n",
       "\n",
       "    .dataframe tbody tr th {\n",
       "        vertical-align: top;\n",
       "    }\n",
       "\n",
       "    .dataframe thead th {\n",
       "        text-align: right;\n",
       "    }\n",
       "</style>\n",
       "<table border=\"1\" class=\"dataframe\">\n",
       "  <thead>\n",
       "    <tr style=\"text-align: right;\">\n",
       "      <th></th>\n",
       "      <th>album_id</th>\n",
       "      <th>artist</th>\n",
       "      <th>title</th>\n",
       "      <th>year</th>\n",
       "      <th>rating</th>\n",
       "      <th>votes</th>\n",
       "      <th>album_length</th>\n",
       "      <th>tracks</th>\n",
       "      <th>release_country</th>\n",
       "      <th>release_type</th>\n",
       "      <th>genres</th>\n",
       "      <th>styles</th>\n",
       "      <th>artist_profile</th>\n",
       "      <th>artist_id</th>\n",
       "      <th>master_id</th>\n",
       "      <th>main_release_id</th>\n",
       "    </tr>\n",
       "  </thead>\n",
       "  <tbody>\n",
       "    <tr>\n",
       "      <th>1229</th>\n",
       "      <td>3415</td>\n",
       "      <td>3 Doors Down</td>\n",
       "      <td>Seventeen Days</td>\n",
       "      <td>2005</td>\n",
       "      <td>2.65</td>\n",
       "      <td>375</td>\n",
       "      <td>51.7</td>\n",
       "      <td>14</td>\n",
       "      <td>US</td>\n",
       "      <td>NaN</td>\n",
       "      <td>['Rock']</td>\n",
       "      <td>['Alternative Rock']</td>\n",
       "      <td>Alternative Rock (Modern Rock) from Escatawpa,...</td>\n",
       "      <td>166483</td>\n",
       "      <td>89121</td>\n",
       "      <td>512748</td>\n",
       "    </tr>\n",
       "    <tr>\n",
       "      <th>8799</th>\n",
       "      <td>75222</td>\n",
       "      <td>Fireworks</td>\n",
       "      <td>Gospel</td>\n",
       "      <td>2011</td>\n",
       "      <td>3.85</td>\n",
       "      <td>331</td>\n",
       "      <td>0.0</td>\n",
       "      <td>12</td>\n",
       "      <td>US</td>\n",
       "      <td>NaN</td>\n",
       "      <td>['Rock']</td>\n",
       "      <td>['Punk', 'Pop Rock']</td>\n",
       "      <td>American pop-punk band from Metro Detroit, Mic...</td>\n",
       "      <td>1922447</td>\n",
       "      <td>378800</td>\n",
       "      <td>4088584</td>\n",
       "    </tr>\n",
       "  </tbody>\n",
       "</table>\n",
       "</div>"
      ],
      "text/plain": [
       "      album_id        artist           title  year  rating  votes  \\\n",
       "1229      3415  3 Doors Down  Seventeen Days  2005    2.65    375   \n",
       "8799     75222     Fireworks          Gospel  2011    3.85    331   \n",
       "\n",
       "      album_length  tracks release_country release_type    genres  \\\n",
       "1229          51.7      14              US          NaN  ['Rock']   \n",
       "8799           0.0      12              US          NaN  ['Rock']   \n",
       "\n",
       "                    styles                                     artist_profile  \\\n",
       "1229  ['Alternative Rock']  Alternative Rock (Modern Rock) from Escatawpa,...   \n",
       "8799  ['Punk', 'Pop Rock']  American pop-punk band from Metro Detroit, Mic...   \n",
       "\n",
       "      artist_id  master_id  main_release_id  \n",
       "1229     166483      89121           512748  \n",
       "8799    1922447     378800          4088584  "
      ]
     },
     "execution_count": 63,
     "metadata": {},
     "output_type": "execute_result"
    }
   ],
   "source": [
    "df[df['release_type'].isna()]"
   ]
  },
  {
   "cell_type": "code",
   "execution_count": 65,
   "metadata": {},
   "outputs": [
    {
     "data": {
      "text/plain": [
       "\"['Album']\""
      ]
     },
     "execution_count": 65,
     "metadata": {},
     "output_type": "execute_result"
    }
   ],
   "source": [
    "df.loc[1230, 'release_type']"
   ]
  },
  {
   "cell_type": "code",
   "execution_count": 73,
   "metadata": {},
   "outputs": [],
   "source": [
    "df.loc[1229, 'release_type'] = 'Album'\n",
    "df.loc[8799, 'release_type'] = 'Album'"
   ]
  },
  {
   "cell_type": "code",
   "execution_count": 74,
   "metadata": {},
   "outputs": [
    {
     "data": {
      "text/plain": [
       "0"
      ]
     },
     "execution_count": 74,
     "metadata": {},
     "output_type": "execute_result"
    }
   ],
   "source": [
    "df['release_type'].isna().sum()"
   ]
  },
  {
   "cell_type": "code",
   "execution_count": 75,
   "metadata": {},
   "outputs": [
    {
     "name": "stdout",
     "output_type": "stream",
     "text": [
      "object\n"
     ]
    }
   ],
   "source": [
    "print(df['release_type'].dtype)"
   ]
  },
  {
   "cell_type": "code",
   "execution_count": 76,
   "metadata": {},
   "outputs": [
    {
     "data": {
      "text/plain": [
       "str"
      ]
     },
     "execution_count": 76,
     "metadata": {},
     "output_type": "execute_result"
    }
   ],
   "source": [
    "type(df.release_type[0])"
   ]
  },
  {
   "cell_type": "code",
   "execution_count": 77,
   "metadata": {},
   "outputs": [
    {
     "name": "stdout",
     "output_type": "stream",
     "text": [
      "There are 53 compilations\n"
     ]
    }
   ],
   "source": [
    "print(f'There are {df[df['release_type'].str.contains('Compilation')].shape[0]} compilations')"
   ]
  },
  {
   "cell_type": "code",
   "execution_count": null,
   "metadata": {},
   "outputs": [
    {
     "data": {
      "text/plain": [
       "(12156, 16)"
      ]
     },
     "execution_count": 78,
     "metadata": {},
     "output_type": "execute_result"
    }
   ],
   "source": [
    "print(f\"Rows before dropping: {df.shape[0]}\")\n",
    "df = df[~df['release_type'].str.contains('Compilation')]\n",
    "print(f\"Rows after dropping: {df.shape[0]}\")"
   ]
  },
  {
   "cell_type": "code",
   "execution_count": 79,
   "metadata": {},
   "outputs": [
    {
     "data": {
      "text/plain": [
       "4538"
      ]
     },
     "execution_count": 79,
     "metadata": {},
     "output_type": "execute_result"
    }
   ],
   "source": [
    "# number of unique artists\n",
    "df['artist'].nunique()"
   ]
  },
  {
   "cell_type": "markdown",
   "metadata": {},
   "source": [
    "**YOB** té **8** albums a Sputnik (``df_ratings_20``), però nomes **2** a Discogs de UK, tot i que és una banda de UK. \n",
    "\n",
    "Si apareixen al df de US, hauré de fer un concat/merge"
   ]
  },
  {
   "cell_type": "code",
   "execution_count": 80,
   "metadata": {},
   "outputs": [
    {
     "data": {
      "text/html": [
       "<div>\n",
       "<style scoped>\n",
       "    .dataframe tbody tr th:only-of-type {\n",
       "        vertical-align: middle;\n",
       "    }\n",
       "\n",
       "    .dataframe tbody tr th {\n",
       "        vertical-align: top;\n",
       "    }\n",
       "\n",
       "    .dataframe thead th {\n",
       "        text-align: right;\n",
       "    }\n",
       "</style>\n",
       "<table border=\"1\" class=\"dataframe\">\n",
       "  <thead>\n",
       "    <tr style=\"text-align: right;\">\n",
       "      <th></th>\n",
       "      <th>album_id</th>\n",
       "      <th>artist</th>\n",
       "      <th>title</th>\n",
       "      <th>year</th>\n",
       "      <th>rating</th>\n",
       "      <th>votes</th>\n",
       "      <th>album_length</th>\n",
       "      <th>tracks</th>\n",
       "      <th>release_country</th>\n",
       "      <th>release_type</th>\n",
       "      <th>genres</th>\n",
       "      <th>styles</th>\n",
       "      <th>artist_profile</th>\n",
       "      <th>artist_id</th>\n",
       "      <th>master_id</th>\n",
       "      <th>main_release_id</th>\n",
       "    </tr>\n",
       "  </thead>\n",
       "  <tbody>\n",
       "    <tr>\n",
       "      <th>8157</th>\n",
       "      <td>60241</td>\n",
       "      <td>YOB</td>\n",
       "      <td>Catharsis</td>\n",
       "      <td>2003</td>\n",
       "      <td>3.99</td>\n",
       "      <td>140</td>\n",
       "      <td>49.07</td>\n",
       "      <td>3</td>\n",
       "      <td>US</td>\n",
       "      <td>['Album']</td>\n",
       "      <td>['Rock']</td>\n",
       "      <td>['Doom Metal']</td>\n",
       "      <td>Yob is an American stoner/doom metal band from...</td>\n",
       "      <td>563922</td>\n",
       "      <td>129480</td>\n",
       "      <td>2806549</td>\n",
       "    </tr>\n",
       "    <tr>\n",
       "      <th>10264</th>\n",
       "      <td>163668</td>\n",
       "      <td>YOB</td>\n",
       "      <td>Clearing The Path To Ascend</td>\n",
       "      <td>2014</td>\n",
       "      <td>3.92</td>\n",
       "      <td>331</td>\n",
       "      <td>62.53</td>\n",
       "      <td>4</td>\n",
       "      <td>US</td>\n",
       "      <td>['Album']</td>\n",
       "      <td>['Rock']</td>\n",
       "      <td>['Doom Metal', 'Sludge Metal']</td>\n",
       "      <td>Yob is an American stoner/doom metal band from...</td>\n",
       "      <td>563922</td>\n",
       "      <td>729329</td>\n",
       "      <td>6054020</td>\n",
       "    </tr>\n",
       "  </tbody>\n",
       "</table>\n",
       "</div>"
      ],
      "text/plain": [
       "       album_id artist                        title  year  rating  votes  \\\n",
       "8157      60241    YOB                    Catharsis  2003    3.99    140   \n",
       "10264    163668    YOB  Clearing The Path To Ascend  2014    3.92    331   \n",
       "\n",
       "       album_length  tracks release_country release_type    genres  \\\n",
       "8157          49.07       3              US    ['Album']  ['Rock']   \n",
       "10264         62.53       4              US    ['Album']  ['Rock']   \n",
       "\n",
       "                               styles  \\\n",
       "8157                   ['Doom Metal']   \n",
       "10264  ['Doom Metal', 'Sludge Metal']   \n",
       "\n",
       "                                          artist_profile  artist_id  \\\n",
       "8157   Yob is an American stoner/doom metal band from...     563922   \n",
       "10264  Yob is an American stoner/doom metal band from...     563922   \n",
       "\n",
       "       master_id  main_release_id  \n",
       "8157      129480          2806549  \n",
       "10264     729329          6054020  "
      ]
     },
     "execution_count": 80,
     "metadata": {},
     "output_type": "execute_result"
    }
   ],
   "source": [
    "df[df['artist']=='YOB']"
   ]
  },
  {
   "cell_type": "code",
   "execution_count": 81,
   "metadata": {},
   "outputs": [
    {
     "data": {
      "text/html": [
       "<div>\n",
       "<style scoped>\n",
       "    .dataframe tbody tr th:only-of-type {\n",
       "        vertical-align: middle;\n",
       "    }\n",
       "\n",
       "    .dataframe tbody tr th {\n",
       "        vertical-align: top;\n",
       "    }\n",
       "\n",
       "    .dataframe thead th {\n",
       "        text-align: right;\n",
       "    }\n",
       "</style>\n",
       "<table border=\"1\" class=\"dataframe\">\n",
       "  <thead>\n",
       "    <tr style=\"text-align: right;\">\n",
       "      <th></th>\n",
       "      <th>album_id</th>\n",
       "      <th>artist</th>\n",
       "      <th>title</th>\n",
       "      <th>rating</th>\n",
       "      <th>votes</th>\n",
       "    </tr>\n",
       "  </thead>\n",
       "  <tbody>\n",
       "    <tr>\n",
       "      <th>2485</th>\n",
       "      <td>3646</td>\n",
       "      <td>YOB</td>\n",
       "      <td>The Illusion Of Motion</td>\n",
       "      <td>3.94</td>\n",
       "      <td>183</td>\n",
       "    </tr>\n",
       "    <tr>\n",
       "      <th>15507</th>\n",
       "      <td>29146</td>\n",
       "      <td>YOB</td>\n",
       "      <td>The Unreal Never Lived</td>\n",
       "      <td>4.06</td>\n",
       "      <td>225</td>\n",
       "    </tr>\n",
       "    <tr>\n",
       "      <th>19335</th>\n",
       "      <td>39606</td>\n",
       "      <td>YOB</td>\n",
       "      <td>The Great Cessation</td>\n",
       "      <td>3.90</td>\n",
       "      <td>205</td>\n",
       "    </tr>\n",
       "    <tr>\n",
       "      <th>24401</th>\n",
       "      <td>60240</td>\n",
       "      <td>YOB</td>\n",
       "      <td>Elaborations Of Carbon</td>\n",
       "      <td>3.42</td>\n",
       "      <td>73</td>\n",
       "    </tr>\n",
       "    <tr>\n",
       "      <th>24402</th>\n",
       "      <td>60241</td>\n",
       "      <td>YOB</td>\n",
       "      <td>Catharsis</td>\n",
       "      <td>3.99</td>\n",
       "      <td>140</td>\n",
       "    </tr>\n",
       "    <tr>\n",
       "      <th>28092</th>\n",
       "      <td>80046</td>\n",
       "      <td>YOB</td>\n",
       "      <td>Atma</td>\n",
       "      <td>3.78</td>\n",
       "      <td>259</td>\n",
       "    </tr>\n",
       "    <tr>\n",
       "      <th>36277</th>\n",
       "      <td>163668</td>\n",
       "      <td>YOB</td>\n",
       "      <td>Clearing The Path To Ascend</td>\n",
       "      <td>3.92</td>\n",
       "      <td>331</td>\n",
       "    </tr>\n",
       "    <tr>\n",
       "      <th>43372</th>\n",
       "      <td>282109</td>\n",
       "      <td>YOB</td>\n",
       "      <td>Our Raw Heart</td>\n",
       "      <td>3.87</td>\n",
       "      <td>295</td>\n",
       "    </tr>\n",
       "  </tbody>\n",
       "</table>\n",
       "</div>"
      ],
      "text/plain": [
       "       album_id artist                        title  rating  votes\n",
       "2485       3646    YOB       The Illusion Of Motion    3.94    183\n",
       "15507     29146    YOB       The Unreal Never Lived    4.06    225\n",
       "19335     39606    YOB          The Great Cessation    3.90    205\n",
       "24401     60240    YOB       Elaborations Of Carbon    3.42     73\n",
       "24402     60241    YOB                    Catharsis    3.99    140\n",
       "28092     80046    YOB                         Atma    3.78    259\n",
       "36277    163668    YOB  Clearing The Path To Ascend    3.92    331\n",
       "43372    282109    YOB                Our Raw Heart    3.87    295"
      ]
     },
     "execution_count": 81,
     "metadata": {},
     "output_type": "execute_result"
    }
   ],
   "source": [
    "df_ratings_20[df_ratings_20['artist']=='YOB']"
   ]
  },
  {
   "cell_type": "markdown",
   "metadata": {},
   "source": [
    "## **``df`` real cleaning**"
   ]
  },
  {
   "cell_type": "markdown",
   "metadata": {},
   "source": [
    "I want to **drop duplicates** and releases from **bands outside of the UK and the US**, I only want to keep brittish and american artists. Also **drop compilations and live albums**."
   ]
  },
  {
   "cell_type": "markdown",
   "metadata": {},
   "source": [
    "### **Drop duplicates**"
   ]
  },
  {
   "cell_type": "markdown",
   "metadata": {},
   "source": [
    "**``master_id = 0``**"
   ]
  },
  {
   "cell_type": "code",
   "execution_count": 343,
   "metadata": {},
   "outputs": [
    {
     "data": {
      "text/plain": [
       "0"
      ]
     },
     "execution_count": 343,
     "metadata": {},
     "output_type": "execute_result"
    }
   ],
   "source": [
    "df.sort_values('master_id', inplace=True, ascending=False) # so I keep the master_id=0 at the end, these would be the duplicates and I'll be able to drop them\n",
    "df.reset_index(drop=True, inplace=True)\n",
    "df[['album_id', 'artist', 'title', 'year', 'rating', 'votes', 'album_length', 'tracks']].duplicated().sum()"
   ]
  },
  {
   "cell_type": "code",
   "execution_count": 84,
   "metadata": {},
   "outputs": [
    {
     "name": "stdout",
     "output_type": "stream",
     "text": [
      "Rows before dropping: 12099\n",
      "Rows after dropping: 12099\n"
     ]
    }
   ],
   "source": [
    "# these albums are the same, except one entry has master_id=0\n",
    "print(f\"Rows before dropping: {df.shape[0]}\")\n",
    "df.drop_duplicates(subset=['artist', 'title', 'year', 'rating', 'votes', 'album_length', 'tracks'], inplace=True)\n",
    "print(f\"Rows after dropping: {df.shape[0]}\")"
   ]
  },
  {
   "cell_type": "markdown",
   "metadata": {},
   "source": [
    "**``album_length = 0``**"
   ]
  },
  {
   "cell_type": "code",
   "execution_count": 329,
   "metadata": {},
   "outputs": [
    {
     "data": {
      "text/plain": [
       "26"
      ]
     },
     "execution_count": 329,
     "metadata": {},
     "output_type": "execute_result"
    }
   ],
   "source": [
    "df.sort_values('album_length', inplace=True, ascending=False) # so I keep the album_length=0 at the end, these would be the duplicates and I'll be able to drop them\n",
    "df.reset_index(drop=True, inplace=True)\n",
    "df[['album_id', 'artist', 'title', 'year', 'rating', 'votes']].duplicated().sum()"
   ]
  },
  {
   "cell_type": "code",
   "execution_count": 335,
   "metadata": {},
   "outputs": [
    {
     "data": {
      "text/plain": [
       "album_length\n",
       "0.00     17\n",
       "76.15     1\n",
       "46.62     1\n",
       "45.02     1\n",
       "42.18     1\n",
       "39.75     1\n",
       "37.82     1\n",
       "36.98     1\n",
       "36.40     1\n",
       "18.95     1\n",
       "Name: count, dtype: int64"
      ]
     },
     "execution_count": 335,
     "metadata": {},
     "output_type": "execute_result"
    }
   ],
   "source": [
    "df[df[['album_id', 'artist', 'title', 'year', 'rating', 'votes']].duplicated()]['album_length'].value_counts()"
   ]
  },
  {
   "cell_type": "code",
   "execution_count": 336,
   "metadata": {},
   "outputs": [
    {
     "name": "stdout",
     "output_type": "stream",
     "text": [
      "Rows before dropping: 12061\n",
      "Rows after dropping: 12035\n"
     ]
    }
   ],
   "source": [
    "# most of these albums are the same, except one entry has album_length=0\n",
    "print(f\"Rows before dropping: {df.shape[0]}\")\n",
    "df.drop_duplicates(subset=['artist', 'title', 'year', 'rating', 'votes'], inplace=True)\n",
    "print(f\"Rows after dropping: {df.shape[0]}\")"
   ]
  },
  {
   "cell_type": "markdown",
   "metadata": {},
   "source": [
    "**duplicates by ``artist`` and ``title``**"
   ]
  },
  {
   "cell_type": "code",
   "execution_count": 475,
   "metadata": {},
   "outputs": [
    {
     "data": {
      "text/html": [
       "<div>\n",
       "<style scoped>\n",
       "    .dataframe tbody tr th:only-of-type {\n",
       "        vertical-align: middle;\n",
       "    }\n",
       "\n",
       "    .dataframe tbody tr th {\n",
       "        vertical-align: top;\n",
       "    }\n",
       "\n",
       "    .dataframe thead th {\n",
       "        text-align: right;\n",
       "    }\n",
       "</style>\n",
       "<table border=\"1\" class=\"dataframe\">\n",
       "  <thead>\n",
       "    <tr style=\"text-align: right;\">\n",
       "      <th></th>\n",
       "      <th>album_id</th>\n",
       "      <th>artist</th>\n",
       "      <th>title</th>\n",
       "      <th>year</th>\n",
       "      <th>rating</th>\n",
       "      <th>votes</th>\n",
       "      <th>album_length</th>\n",
       "      <th>tracks</th>\n",
       "      <th>release_country</th>\n",
       "      <th>release_type</th>\n",
       "      <th>genres</th>\n",
       "      <th>styles</th>\n",
       "      <th>artist_profile</th>\n",
       "      <th>artist_id</th>\n",
       "      <th>master_id</th>\n",
       "      <th>main_release_id</th>\n",
       "    </tr>\n",
       "  </thead>\n",
       "  <tbody>\n",
       "  </tbody>\n",
       "</table>\n",
       "</div>"
      ],
      "text/plain": [
       "Empty DataFrame\n",
       "Columns: [album_id, artist, title, year, rating, votes, album_length, tracks, release_country, release_type, genres, styles, artist_profile, artist_id, master_id, main_release_id]\n",
       "Index: []"
      ]
     },
     "execution_count": 475,
     "metadata": {},
     "output_type": "execute_result"
    }
   ],
   "source": [
    "df[df[['artist', 'title']].duplicated()].head()"
   ]
  },
  {
   "cell_type": "code",
   "execution_count": 476,
   "metadata": {},
   "outputs": [
    {
     "data": {
      "text/plain": [
       "0"
      ]
     },
     "execution_count": 476,
     "metadata": {},
     "output_type": "execute_result"
    }
   ],
   "source": [
    "df[['artist', 'title']].duplicated().sum()"
   ]
  },
  {
   "cell_type": "code",
   "execution_count": 473,
   "metadata": {},
   "outputs": [
    {
     "data": {
      "text/html": [
       "<div>\n",
       "<style scoped>\n",
       "    .dataframe tbody tr th:only-of-type {\n",
       "        vertical-align: middle;\n",
       "    }\n",
       "\n",
       "    .dataframe tbody tr th {\n",
       "        vertical-align: top;\n",
       "    }\n",
       "\n",
       "    .dataframe thead th {\n",
       "        text-align: right;\n",
       "    }\n",
       "</style>\n",
       "<table border=\"1\" class=\"dataframe\">\n",
       "  <thead>\n",
       "    <tr style=\"text-align: right;\">\n",
       "      <th></th>\n",
       "      <th>album_id</th>\n",
       "      <th>artist</th>\n",
       "      <th>title</th>\n",
       "      <th>year</th>\n",
       "      <th>rating</th>\n",
       "      <th>votes</th>\n",
       "      <th>album_length</th>\n",
       "      <th>tracks</th>\n",
       "      <th>release_country</th>\n",
       "      <th>release_type</th>\n",
       "      <th>genres</th>\n",
       "      <th>styles</th>\n",
       "      <th>artist_profile</th>\n",
       "      <th>artist_id</th>\n",
       "      <th>master_id</th>\n",
       "      <th>main_release_id</th>\n",
       "    </tr>\n",
       "  </thead>\n",
       "  <tbody>\n",
       "    <tr>\n",
       "      <th>8215</th>\n",
       "      <td>15882</td>\n",
       "      <td>The Exploited</td>\n",
       "      <td>Beat the Bastards</td>\n",
       "      <td>1996</td>\n",
       "      <td>3.64</td>\n",
       "      <td>74</td>\n",
       "      <td>51.57</td>\n",
       "      <td>13</td>\n",
       "      <td>UK</td>\n",
       "      <td>['Album']</td>\n",
       "      <td>['Rock']</td>\n",
       "      <td>['Punk']</td>\n",
       "      <td>Punk hardcore thrash band from Edinburgh, Scot...</td>\n",
       "      <td>262795</td>\n",
       "      <td>53295</td>\n",
       "      <td>498617</td>\n",
       "    </tr>\n",
       "    <tr>\n",
       "      <th>12027</th>\n",
       "      <td>15882</td>\n",
       "      <td>The Exploited</td>\n",
       "      <td>Beat the Bastards</td>\n",
       "      <td>1983</td>\n",
       "      <td>3.64</td>\n",
       "      <td>74</td>\n",
       "      <td>0.00</td>\n",
       "      <td>24</td>\n",
       "      <td>UK</td>\n",
       "      <td>['Album', 'Unofficial Release', 'Stereo']</td>\n",
       "      <td>['Rock']</td>\n",
       "      <td>['Punk']</td>\n",
       "      <td>Punk hardcore thrash band from Edinburgh, Scot...</td>\n",
       "      <td>262795</td>\n",
       "      <td>0</td>\n",
       "      <td>29731594</td>\n",
       "    </tr>\n",
       "  </tbody>\n",
       "</table>\n",
       "</div>"
      ],
      "text/plain": [
       "       album_id         artist              title  year  rating  votes  \\\n",
       "8215      15882  The Exploited  Beat the Bastards  1996    3.64     74   \n",
       "12027     15882  The Exploited  Beat the Bastards  1983    3.64     74   \n",
       "\n",
       "       album_length  tracks release_country  \\\n",
       "8215          51.57      13              UK   \n",
       "12027          0.00      24              UK   \n",
       "\n",
       "                                    release_type    genres    styles  \\\n",
       "8215                                   ['Album']  ['Rock']  ['Punk']   \n",
       "12027  ['Album', 'Unofficial Release', 'Stereo']  ['Rock']  ['Punk']   \n",
       "\n",
       "                                          artist_profile  artist_id  \\\n",
       "8215   Punk hardcore thrash band from Edinburgh, Scot...     262795   \n",
       "12027  Punk hardcore thrash band from Edinburgh, Scot...     262795   \n",
       "\n",
       "       master_id  main_release_id  \n",
       "8215       53295           498617  \n",
       "12027          0         29731594  "
      ]
     },
     "execution_count": 473,
     "metadata": {},
     "output_type": "execute_result"
    }
   ],
   "source": [
    "df[df['title']=='Beat the Bastards\t'.strip()]"
   ]
  },
  {
   "cell_type": "markdown",
   "metadata": {},
   "source": [
    "**Drop incorrect albums**"
   ]
  },
  {
   "cell_type": "code",
   "execution_count": 474,
   "metadata": {},
   "outputs": [
    {
     "name": "stdout",
     "output_type": "stream",
     "text": [
      "Rows dropped\n",
      "(12004, 16)\n"
     ]
    }
   ],
   "source": [
    "# check one by one if necessary\n",
    "try:\n",
    "    df.drop([12027], axis=0, inplace=True)\n",
    "    print('Rows dropped')\n",
    "    print(df.shape)\n",
    "except:\n",
    "    print(\"Couldn't drop these rows\")"
   ]
  },
  {
   "cell_type": "markdown",
   "metadata": {},
   "source": [
    "**Change specific values that are wrong/missing**"
   ]
  },
  {
   "cell_type": "code",
   "execution_count": 454,
   "metadata": {},
   "outputs": [],
   "source": [
    "# change specific values that are wrong/missing\n",
    "\n",
    "# df.loc[9591, 'title'] = 'Santana III'\n",
    "# df.loc[9591, 'rating'] = 4.26\n",
    "# df.loc[9591, 'votes'] = 227\n",
    "df.loc[4695, 'album_length'] = 30.25\n",
    "# df.loc[3286, 'tracks'] = 15\n",
    "# df.loc[9575, 'year'] = 1996"
   ]
  },
  {
   "cell_type": "code",
   "execution_count": 404,
   "metadata": {},
   "outputs": [
    {
     "data": {
      "text/plain": [
       "0.48333333333333334"
      ]
     },
     "execution_count": 404,
     "metadata": {},
     "output_type": "execute_result"
    }
   ],
   "source": [
    "# calculate the decimals of the album length (seconds)\n",
    "29/60"
   ]
  },
  {
   "cell_type": "markdown",
   "metadata": {},
   "source": [
    "**``df_ratings_top``**"
   ]
  },
  {
   "cell_type": "markdown",
   "metadata": {},
   "source": [
    "If there are two albums with the same name, but one is for instance an EP or a compilation I don't want to keep, I have to drop it from df,\n",
    "\n",
    "but also from ``df_ratings_top``, otherwise I will keep running into this duplicated album every time I add more albums"
   ]
  },
  {
   "cell_type": "code",
   "execution_count": 462,
   "metadata": {},
   "outputs": [
    {
     "data": {
      "text/html": [
       "<div>\n",
       "<style scoped>\n",
       "    .dataframe tbody tr th:only-of-type {\n",
       "        vertical-align: middle;\n",
       "    }\n",
       "\n",
       "    .dataframe tbody tr th {\n",
       "        vertical-align: top;\n",
       "    }\n",
       "\n",
       "    .dataframe thead th {\n",
       "        text-align: right;\n",
       "    }\n",
       "</style>\n",
       "<table border=\"1\" class=\"dataframe\">\n",
       "  <thead>\n",
       "    <tr style=\"text-align: right;\">\n",
       "      <th></th>\n",
       "      <th>album_id</th>\n",
       "      <th>artist</th>\n",
       "      <th>title</th>\n",
       "      <th>rating</th>\n",
       "      <th>votes</th>\n",
       "    </tr>\n",
       "  </thead>\n",
       "  <tbody>\n",
       "    <tr>\n",
       "      <th>2436</th>\n",
       "      <td>3581</td>\n",
       "      <td>Pepper</td>\n",
       "      <td>Kona Town</td>\n",
       "      <td>3.87</td>\n",
       "      <td>114</td>\n",
       "    </tr>\n",
       "    <tr>\n",
       "      <th>2708</th>\n",
       "      <td>3970</td>\n",
       "      <td>Pepper</td>\n",
       "      <td>In With The Old</td>\n",
       "      <td>3.46</td>\n",
       "      <td>61</td>\n",
       "    </tr>\n",
       "    <tr>\n",
       "      <th>8649</th>\n",
       "      <td>14537</td>\n",
       "      <td>Pepper</td>\n",
       "      <td>No Shame</td>\n",
       "      <td>3.34</td>\n",
       "      <td>79</td>\n",
       "    </tr>\n",
       "    <tr>\n",
       "      <th>15291</th>\n",
       "      <td>28637</td>\n",
       "      <td>Pepper</td>\n",
       "      <td>Pink Crustaceans and Good Vibrations</td>\n",
       "      <td>3.26</td>\n",
       "      <td>40</td>\n",
       "    </tr>\n",
       "    <tr>\n",
       "      <th>16813</th>\n",
       "      <td>32335</td>\n",
       "      <td>Pepper</td>\n",
       "      <td>Give'n It</td>\n",
       "      <td>3.22</td>\n",
       "      <td>20</td>\n",
       "    </tr>\n",
       "    <tr>\n",
       "      <th>33650</th>\n",
       "      <td>130639</td>\n",
       "      <td>Pepper</td>\n",
       "      <td>Pepper</td>\n",
       "      <td>2.52</td>\n",
       "      <td>21</td>\n",
       "    </tr>\n",
       "  </tbody>\n",
       "</table>\n",
       "</div>"
      ],
      "text/plain": [
       "       album_id  artist                                 title  rating  votes\n",
       "2436       3581  Pepper                             Kona Town    3.87    114\n",
       "2708       3970  Pepper                       In With The Old    3.46     61\n",
       "8649      14537  Pepper                              No Shame    3.34     79\n",
       "15291     28637  Pepper  Pink Crustaceans and Good Vibrations    3.26     40\n",
       "16813     32335  Pepper                             Give'n It    3.22     20\n",
       "33650    130639  Pepper                                Pepper    2.52     21"
      ]
     },
     "execution_count": 462,
     "metadata": {},
     "output_type": "execute_result"
    }
   ],
   "source": [
    "df_ratings_20[df_ratings_20['artist']=='Pepper'.strip()]"
   ]
  },
  {
   "cell_type": "code",
   "execution_count": 419,
   "metadata": {},
   "outputs": [
    {
     "name": "stdout",
     "output_type": "stream",
     "text": [
      "Rows dropped\n",
      "(51240, 5)\n"
     ]
    }
   ],
   "source": [
    "# check one by one if necessary\n",
    "try:\n",
    "    df_ratings_20.drop([4051], axis=0, inplace=True)\n",
    "    print('Rows dropped')\n",
    "    print(df_ratings_20.shape)\n",
    "except:\n",
    "    print(\"Couldn't drop these rows\")"
   ]
  },
  {
   "cell_type": "code",
   "execution_count": 477,
   "metadata": {},
   "outputs": [],
   "source": [
    "df_ratings_20.to_csv('Datasets/df_ratings_20.csv', index=False)"
   ]
  },
  {
   "cell_type": "markdown",
   "metadata": {},
   "source": [
    "### **Drop live albums**"
   ]
  },
  {
   "cell_type": "markdown",
   "metadata": {},
   "source": [
    "**Hauré d'eliminar tmb albums de 'MTV Unplugged'**"
   ]
  },
  {
   "cell_type": "markdown",
   "metadata": {},
   "source": [
    "Let's try to detect the live albums by the title"
   ]
  },
  {
   "cell_type": "markdown",
   "metadata": {},
   "source": [
    "#### **'Live at'**"
   ]
  },
  {
   "cell_type": "code",
   "execution_count": 478,
   "metadata": {},
   "outputs": [
    {
     "data": {
      "text/plain": [
       "(12004, 16)"
      ]
     },
     "execution_count": 478,
     "metadata": {},
     "output_type": "execute_result"
    }
   ],
   "source": [
    "df.shape"
   ]
  },
  {
   "cell_type": "code",
   "execution_count": 479,
   "metadata": {},
   "outputs": [
    {
     "name": "stdout",
     "output_type": "stream",
     "text": [
      "There are 24 albums with 'Live at ' in the title\n"
     ]
    }
   ],
   "source": [
    "print(f\"There are {df[df['title'].str.contains('Live at ', case=False)].shape[0]} albums with 'Live at ' in the title\")"
   ]
  },
  {
   "cell_type": "code",
   "execution_count": 480,
   "metadata": {},
   "outputs": [
    {
     "data": {
      "text/html": [
       "<div>\n",
       "<style scoped>\n",
       "    .dataframe tbody tr th:only-of-type {\n",
       "        vertical-align: middle;\n",
       "    }\n",
       "\n",
       "    .dataframe tbody tr th {\n",
       "        vertical-align: top;\n",
       "    }\n",
       "\n",
       "    .dataframe thead th {\n",
       "        text-align: right;\n",
       "    }\n",
       "</style>\n",
       "<table border=\"1\" class=\"dataframe\">\n",
       "  <thead>\n",
       "    <tr style=\"text-align: right;\">\n",
       "      <th></th>\n",
       "      <th>album_id</th>\n",
       "      <th>artist</th>\n",
       "      <th>title</th>\n",
       "      <th>year</th>\n",
       "      <th>rating</th>\n",
       "      <th>votes</th>\n",
       "      <th>album_length</th>\n",
       "      <th>tracks</th>\n",
       "      <th>release_country</th>\n",
       "      <th>release_type</th>\n",
       "      <th>genres</th>\n",
       "      <th>styles</th>\n",
       "      <th>artist_profile</th>\n",
       "      <th>artist_id</th>\n",
       "      <th>master_id</th>\n",
       "      <th>main_release_id</th>\n",
       "    </tr>\n",
       "  </thead>\n",
       "  <tbody>\n",
       "    <tr>\n",
       "      <th>505</th>\n",
       "      <td>413051</td>\n",
       "      <td>Anna von Hausswolff</td>\n",
       "      <td>Live at Montreux Jazz Festival</td>\n",
       "      <td>2022</td>\n",
       "      <td>4.27</td>\n",
       "      <td>43</td>\n",
       "      <td>59.63</td>\n",
       "      <td>6</td>\n",
       "      <td>UK, Europe &amp; US</td>\n",
       "      <td>['Album']</td>\n",
       "      <td>['Rock', 'Classical']</td>\n",
       "      <td>[]</td>\n",
       "      <td>Swedish singer, pianist, organist and songwrit...</td>\n",
       "      <td>1724854</td>\n",
       "      <td>2470054</td>\n",
       "      <td>21778390</td>\n",
       "    </tr>\n",
       "    <tr>\n",
       "      <th>877</th>\n",
       "      <td>341452</td>\n",
       "      <td>IDLES</td>\n",
       "      <td>A Beautiful Thing: Idles Live At Le Bataclan</td>\n",
       "      <td>2019</td>\n",
       "      <td>4.15</td>\n",
       "      <td>24</td>\n",
       "      <td>0.00</td>\n",
       "      <td>21</td>\n",
       "      <td>Worldwide</td>\n",
       "      <td>['Album']</td>\n",
       "      <td>['Rock']</td>\n",
       "      <td>['Punk', 'Post-Punk']</td>\n",
       "      <td>British heavy indie/punk band from Bristol, Lo...</td>\n",
       "      <td>2890530</td>\n",
       "      <td>1645355</td>\n",
       "      <td>14475294</td>\n",
       "    </tr>\n",
       "    <tr>\n",
       "      <th>1597</th>\n",
       "      <td>238704</td>\n",
       "      <td>Bring Me The Horizon</td>\n",
       "      <td>Live at the Royal Albert Hall</td>\n",
       "      <td>2016</td>\n",
       "      <td>3.89</td>\n",
       "      <td>91</td>\n",
       "      <td>0.00</td>\n",
       "      <td>15</td>\n",
       "      <td>Europe</td>\n",
       "      <td>['Album', 'Limited Edition']</td>\n",
       "      <td>['Rock']</td>\n",
       "      <td>['Symphonic Rock', 'Post-Hardcore']</td>\n",
       "      <td>Metalcore band from Sheffield, Yorkshire, UK, ...</td>\n",
       "      <td>1253307</td>\n",
       "      <td>1105195</td>\n",
       "      <td>9480833</td>\n",
       "    </tr>\n",
       "    <tr>\n",
       "      <th>2159</th>\n",
       "      <td>182112</td>\n",
       "      <td>King Crimson</td>\n",
       "      <td>Live at the Orpheum</td>\n",
       "      <td>2015</td>\n",
       "      <td>3.38</td>\n",
       "      <td>21</td>\n",
       "      <td>81.87</td>\n",
       "      <td>14</td>\n",
       "      <td>UK, Europe &amp; US</td>\n",
       "      <td>['Album']</td>\n",
       "      <td>['Rock']</td>\n",
       "      <td>['Prog Rock', 'Art Rock']</td>\n",
       "      <td>were an English-based progressive rock band fo...</td>\n",
       "      <td>70828</td>\n",
       "      <td>784639</td>\n",
       "      <td>6528463</td>\n",
       "    </tr>\n",
       "    <tr>\n",
       "      <th>2252</th>\n",
       "      <td>168442</td>\n",
       "      <td>Queen</td>\n",
       "      <td>Live at the Rainbow '74</td>\n",
       "      <td>2014</td>\n",
       "      <td>4.52</td>\n",
       "      <td>42</td>\n",
       "      <td>144.15</td>\n",
       "      <td>43</td>\n",
       "      <td>Europe</td>\n",
       "      <td>['Album']</td>\n",
       "      <td>['Rock']</td>\n",
       "      <td>[]</td>\n",
       "      <td>Queen is a British rock band formed in London ...</td>\n",
       "      <td>81013</td>\n",
       "      <td>729723</td>\n",
       "      <td>6058985</td>\n",
       "    </tr>\n",
       "    <tr>\n",
       "      <th>2826</th>\n",
       "      <td>46328</td>\n",
       "      <td>Derek and the Dominos</td>\n",
       "      <td>Live at the Fillmore</td>\n",
       "      <td>1994</td>\n",
       "      <td>3.89</td>\n",
       "      <td>22</td>\n",
       "      <td>122.02</td>\n",
       "      <td>13</td>\n",
       "      <td>US</td>\n",
       "      <td>['Album', 'Remastered']</td>\n",
       "      <td>['Rock', 'Blues']</td>\n",
       "      <td>['Blues Rock', 'Electric Blues', 'Classic Rock']</td>\n",
       "      <td>Blues rock band formed in the spring of 1970 a...</td>\n",
       "      <td>110252</td>\n",
       "      <td>522124</td>\n",
       "      <td>10681728</td>\n",
       "    </tr>\n",
       "    <tr>\n",
       "      <th>3165</th>\n",
       "      <td>72449</td>\n",
       "      <td>Iron Maiden</td>\n",
       "      <td>Live At The Rainbow</td>\n",
       "      <td>1981</td>\n",
       "      <td>4.22</td>\n",
       "      <td>38</td>\n",
       "      <td>0.00</td>\n",
       "      <td>7</td>\n",
       "      <td>UK</td>\n",
       "      <td>['Stereo', 'PAL']</td>\n",
       "      <td>['Rock']</td>\n",
       "      <td>['Heavy Metal']</td>\n",
       "      <td>English heavy metal band formed in Leyton, Eas...</td>\n",
       "      <td>251595</td>\n",
       "      <td>435450</td>\n",
       "      <td>2181680</td>\n",
       "    </tr>\n",
       "    <tr>\n",
       "      <th>3656</th>\n",
       "      <td>79170</td>\n",
       "      <td>Biffy Clyro</td>\n",
       "      <td>Revolutions // Live At Wembley</td>\n",
       "      <td>2011</td>\n",
       "      <td>3.99</td>\n",
       "      <td>60</td>\n",
       "      <td>103.65</td>\n",
       "      <td>53</td>\n",
       "      <td>UK</td>\n",
       "      <td>['Album']</td>\n",
       "      <td>['Rock']</td>\n",
       "      <td>['Power Pop', 'Indie Rock']</td>\n",
       "      <td>Biffy Clyro are a mainstream rock band which f...</td>\n",
       "      <td>269159</td>\n",
       "      <td>350353</td>\n",
       "      <td>2965167</td>\n",
       "    </tr>\n",
       "    <tr>\n",
       "      <th>3724</th>\n",
       "      <td>1119</td>\n",
       "      <td>Faith No More</td>\n",
       "      <td>Live at the Brixton Academy</td>\n",
       "      <td>1991</td>\n",
       "      <td>3.68</td>\n",
       "      <td>155</td>\n",
       "      <td>50.97</td>\n",
       "      <td>10</td>\n",
       "      <td>UK</td>\n",
       "      <td>['Album']</td>\n",
       "      <td>['Rock']</td>\n",
       "      <td>['Alternative Rock', 'Funk Metal']</td>\n",
       "      <td>An American rock band from San Francisco, Cali...</td>\n",
       "      <td>12937</td>\n",
       "      <td>339044</td>\n",
       "      <td>3396126</td>\n",
       "    </tr>\n",
       "    <tr>\n",
       "      <th>4057</th>\n",
       "      <td>50550</td>\n",
       "      <td>The Who</td>\n",
       "      <td>Live at the Isle of Wight Festival 1970</td>\n",
       "      <td>1996</td>\n",
       "      <td>4.42</td>\n",
       "      <td>52</td>\n",
       "      <td>112.35</td>\n",
       "      <td>30</td>\n",
       "      <td>Europe</td>\n",
       "      <td>['Album']</td>\n",
       "      <td>['Rock', 'Blues']</td>\n",
       "      <td>['Hard Rock', 'Rhythm &amp; Blues', 'Rock &amp; Roll']</td>\n",
       "      <td>English rock band formed in Hammersmith, Londo...</td>\n",
       "      <td>196766</td>\n",
       "      <td>296116</td>\n",
       "      <td>1283897</td>\n",
       "    </tr>\n",
       "    <tr>\n",
       "      <th>4592</th>\n",
       "      <td>46808</td>\n",
       "      <td>Pendulum</td>\n",
       "      <td>Live at Brixton Academy</td>\n",
       "      <td>2009</td>\n",
       "      <td>3.75</td>\n",
       "      <td>58</td>\n",
       "      <td>172.82</td>\n",
       "      <td>36</td>\n",
       "      <td>UK</td>\n",
       "      <td>['Album']</td>\n",
       "      <td>['Electronic', 'Rock']</td>\n",
       "      <td>['Breakbeat', 'Alternative Rock', 'Drum n Bass']</td>\n",
       "      <td>Electronic (drum and bass) band originally fro...</td>\n",
       "      <td>134038</td>\n",
       "      <td>239444</td>\n",
       "      <td>1957646</td>\n",
       "    </tr>\n",
       "    <tr>\n",
       "      <th>4627</th>\n",
       "      <td>69389</td>\n",
       "      <td>At the Gates</td>\n",
       "      <td>Purgatory Unleashed: Live At Wacken</td>\n",
       "      <td>2010</td>\n",
       "      <td>4.31</td>\n",
       "      <td>54</td>\n",
       "      <td>73.00</td>\n",
       "      <td>18</td>\n",
       "      <td>Europe</td>\n",
       "      <td>['Album', 'Limited Edition']</td>\n",
       "      <td>['Rock']</td>\n",
       "      <td>['Death Metal']</td>\n",
       "      <td>A death metal band from Gothenburg, Sweden, fo...</td>\n",
       "      <td>269173</td>\n",
       "      <td>236417</td>\n",
       "      <td>2650627</td>\n",
       "    </tr>\n",
       "    <tr>\n",
       "      <th>4702</th>\n",
       "      <td>3391</td>\n",
       "      <td>Testament</td>\n",
       "      <td>Live at the Fillmore</td>\n",
       "      <td>1995</td>\n",
       "      <td>3.85</td>\n",
       "      <td>61</td>\n",
       "      <td>75.22</td>\n",
       "      <td>17</td>\n",
       "      <td>Europe</td>\n",
       "      <td>['Album']</td>\n",
       "      <td>['Rock']</td>\n",
       "      <td>['Thrash']</td>\n",
       "      <td>Thrash Metal (Heavy Metal) band from San Franc...</td>\n",
       "      <td>137126</td>\n",
       "      <td>230647</td>\n",
       "      <td>403033</td>\n",
       "    </tr>\n",
       "    <tr>\n",
       "      <th>4982</th>\n",
       "      <td>2763</td>\n",
       "      <td>Ozzy Osbourne</td>\n",
       "      <td>Live At Budokan</td>\n",
       "      <td>2002</td>\n",
       "      <td>3.61</td>\n",
       "      <td>94</td>\n",
       "      <td>66.52</td>\n",
       "      <td>13</td>\n",
       "      <td>Europe</td>\n",
       "      <td>['Album']</td>\n",
       "      <td>['Rock']</td>\n",
       "      <td>['Hard Rock', 'Heavy Metal']</td>\n",
       "      <td>John Michael Osbourne, professionally known as...</td>\n",
       "      <td>59770</td>\n",
       "      <td>206003</td>\n",
       "      <td>2745991</td>\n",
       "    </tr>\n",
       "    <tr>\n",
       "      <th>5025</th>\n",
       "      <td>43402</td>\n",
       "      <td>Nirvana</td>\n",
       "      <td>Live at Reading</td>\n",
       "      <td>2009</td>\n",
       "      <td>4.28</td>\n",
       "      <td>451</td>\n",
       "      <td>77.80</td>\n",
       "      <td>24</td>\n",
       "      <td>UK, Europe &amp; US</td>\n",
       "      <td>['LP', 'Album']</td>\n",
       "      <td>['Rock']</td>\n",
       "      <td>['Alternative Rock', 'Grunge']</td>\n",
       "      <td>Rock band from Aberdeen, Washington, USA, form...</td>\n",
       "      <td>125246</td>\n",
       "      <td>201031</td>\n",
       "      <td>2070548</td>\n",
       "    </tr>\n",
       "    <tr>\n",
       "      <th>7196</th>\n",
       "      <td>73536</td>\n",
       "      <td>Jeff Buckley</td>\n",
       "      <td>Live at Sin-é</td>\n",
       "      <td>1993</td>\n",
       "      <td>3.85</td>\n",
       "      <td>41</td>\n",
       "      <td>26.63</td>\n",
       "      <td>4</td>\n",
       "      <td>US</td>\n",
       "      <td>['Maxi-Single']</td>\n",
       "      <td>['Rock']</td>\n",
       "      <td>['Folk Rock', 'Art Rock']</td>\n",
       "      <td>Jeffrey Scott Buckley (November 17, 1966 - May...</td>\n",
       "      <td>159169</td>\n",
       "      <td>81024</td>\n",
       "      <td>462898</td>\n",
       "    </tr>\n",
       "    <tr>\n",
       "      <th>9044</th>\n",
       "      <td>28660</td>\n",
       "      <td>The Fall</td>\n",
       "      <td>Live At The Witch Trials</td>\n",
       "      <td>1979</td>\n",
       "      <td>3.77</td>\n",
       "      <td>156</td>\n",
       "      <td>38.65</td>\n",
       "      <td>11</td>\n",
       "      <td>UK</td>\n",
       "      <td>['LP', 'Album']</td>\n",
       "      <td>['Rock']</td>\n",
       "      <td>['New Wave', 'Post-Punk']</td>\n",
       "      <td>Post-punk band from Greater Manchester, UK. 19...</td>\n",
       "      <td>2228</td>\n",
       "      <td>38998</td>\n",
       "      <td>372000</td>\n",
       "    </tr>\n",
       "    <tr>\n",
       "      <th>9353</th>\n",
       "      <td>78554</td>\n",
       "      <td>The Velvet Underground</td>\n",
       "      <td>Live at Max's Kansas City</td>\n",
       "      <td>1972</td>\n",
       "      <td>3.71</td>\n",
       "      <td>24</td>\n",
       "      <td>38.35</td>\n",
       "      <td>10</td>\n",
       "      <td>US</td>\n",
       "      <td>['LP', 'Album', 'Mono']</td>\n",
       "      <td>['Rock']</td>\n",
       "      <td>['Rock &amp; Roll', 'Pop Rock', 'Classic Rock']</td>\n",
       "      <td>Rock 'n' roll group from New York. Known for [...</td>\n",
       "      <td>39766</td>\n",
       "      <td>35301</td>\n",
       "      <td>4463131</td>\n",
       "    </tr>\n",
       "    <tr>\n",
       "      <th>10102</th>\n",
       "      <td>5867</td>\n",
       "      <td>Morrissey</td>\n",
       "      <td>Live at Earls Court</td>\n",
       "      <td>2005</td>\n",
       "      <td>3.99</td>\n",
       "      <td>46</td>\n",
       "      <td>74.03</td>\n",
       "      <td>18</td>\n",
       "      <td>UK</td>\n",
       "      <td>['Album']</td>\n",
       "      <td>['Rock']</td>\n",
       "      <td>['Alternative Rock', 'Indie Rock']</td>\n",
       "      <td>British singer and songwriter (born May 22, 19...</td>\n",
       "      <td>92577</td>\n",
       "      <td>26211</td>\n",
       "      <td>883798</td>\n",
       "    </tr>\n",
       "    <tr>\n",
       "      <th>10193</th>\n",
       "      <td>51003</td>\n",
       "      <td>Renaissance</td>\n",
       "      <td>Live at Carnegie Hall</td>\n",
       "      <td>1976</td>\n",
       "      <td>4.38</td>\n",
       "      <td>34</td>\n",
       "      <td>103.27</td>\n",
       "      <td>8</td>\n",
       "      <td>UK</td>\n",
       "      <td>['LP', 'Album', 'Stereo']</td>\n",
       "      <td>['Rock']</td>\n",
       "      <td>['Prog Rock', 'Symphonic Rock']</td>\n",
       "      <td>Renaissance was originally formed in London, U...</td>\n",
       "      <td>311028</td>\n",
       "      <td>25013</td>\n",
       "      <td>2127656</td>\n",
       "    </tr>\n",
       "    <tr>\n",
       "      <th>10258</th>\n",
       "      <td>53338</td>\n",
       "      <td>Dire Straits</td>\n",
       "      <td>Live At The BBC</td>\n",
       "      <td>1995</td>\n",
       "      <td>3.89</td>\n",
       "      <td>32</td>\n",
       "      <td>45.95</td>\n",
       "      <td>8</td>\n",
       "      <td>UK &amp; Europe</td>\n",
       "      <td>['Album']</td>\n",
       "      <td>['Rock']</td>\n",
       "      <td>['Classic Rock']</td>\n",
       "      <td>British rock band formed in 1977 by Mark Knopf...</td>\n",
       "      <td>103687</td>\n",
       "      <td>23804</td>\n",
       "      <td>1800933</td>\n",
       "    </tr>\n",
       "    <tr>\n",
       "      <th>10723</th>\n",
       "      <td>31383</td>\n",
       "      <td>Queen</td>\n",
       "      <td>Live at Wembley '86</td>\n",
       "      <td>1992</td>\n",
       "      <td>4.52</td>\n",
       "      <td>88</td>\n",
       "      <td>110.87</td>\n",
       "      <td>28</td>\n",
       "      <td>UK</td>\n",
       "      <td>['LP', 'Album']</td>\n",
       "      <td>['Rock']</td>\n",
       "      <td>['Pop Rock', 'Arena Rock']</td>\n",
       "      <td>Queen is a British rock band formed in London ...</td>\n",
       "      <td>81013</td>\n",
       "      <td>16421</td>\n",
       "      <td>887741</td>\n",
       "    </tr>\n",
       "    <tr>\n",
       "      <th>11767</th>\n",
       "      <td>51613</td>\n",
       "      <td>Stormtroopers of Death</td>\n",
       "      <td>Live at Budokan</td>\n",
       "      <td>1992</td>\n",
       "      <td>4.00</td>\n",
       "      <td>23</td>\n",
       "      <td>54.20</td>\n",
       "      <td>27</td>\n",
       "      <td>Japan</td>\n",
       "      <td>['Album']</td>\n",
       "      <td>['Rock']</td>\n",
       "      <td>['Thrash', 'Hardcore', 'Parody']</td>\n",
       "      <td>Stormtroopers of Death (abbreviated to SOD) ar...</td>\n",
       "      <td>255968</td>\n",
       "      <td>3183</td>\n",
       "      <td>2988095</td>\n",
       "    </tr>\n",
       "    <tr>\n",
       "      <th>11995</th>\n",
       "      <td>688</td>\n",
       "      <td>The Who</td>\n",
       "      <td>Live at Leeds</td>\n",
       "      <td>1970</td>\n",
       "      <td>4.52</td>\n",
       "      <td>374</td>\n",
       "      <td>37.15</td>\n",
       "      <td>6</td>\n",
       "      <td>UK</td>\n",
       "      <td>['LP', 'Album']</td>\n",
       "      <td>['Rock']</td>\n",
       "      <td>['Classic Rock', 'Blues Rock', 'Hard Rock']</td>\n",
       "      <td>English rock band formed in Hammersmith, Londo...</td>\n",
       "      <td>196766</td>\n",
       "      <td>0</td>\n",
       "      <td>9632840</td>\n",
       "    </tr>\n",
       "  </tbody>\n",
       "</table>\n",
       "</div>"
      ],
      "text/plain": [
       "       album_id                  artist  \\\n",
       "505      413051     Anna von Hausswolff   \n",
       "877      341452                   IDLES   \n",
       "1597     238704    Bring Me The Horizon   \n",
       "2159     182112            King Crimson   \n",
       "2252     168442                   Queen   \n",
       "2826      46328   Derek and the Dominos   \n",
       "3165      72449             Iron Maiden   \n",
       "3656      79170             Biffy Clyro   \n",
       "3724       1119           Faith No More   \n",
       "4057      50550                 The Who   \n",
       "4592      46808                Pendulum   \n",
       "4627      69389            At the Gates   \n",
       "4702       3391               Testament   \n",
       "4982       2763           Ozzy Osbourne   \n",
       "5025      43402                 Nirvana   \n",
       "7196      73536            Jeff Buckley   \n",
       "9044      28660                The Fall   \n",
       "9353      78554  The Velvet Underground   \n",
       "10102      5867               Morrissey   \n",
       "10193     51003             Renaissance   \n",
       "10258     53338            Dire Straits   \n",
       "10723     31383                   Queen   \n",
       "11767     51613  Stormtroopers of Death   \n",
       "11995       688                 The Who   \n",
       "\n",
       "                                              title  year  rating  votes  \\\n",
       "505                  Live at Montreux Jazz Festival  2022    4.27     43   \n",
       "877    A Beautiful Thing: Idles Live At Le Bataclan  2019    4.15     24   \n",
       "1597                  Live at the Royal Albert Hall  2016    3.89     91   \n",
       "2159                            Live at the Orpheum  2015    3.38     21   \n",
       "2252                        Live at the Rainbow '74  2014    4.52     42   \n",
       "2826                           Live at the Fillmore  1994    3.89     22   \n",
       "3165                            Live At The Rainbow  1981    4.22     38   \n",
       "3656                 Revolutions // Live At Wembley  2011    3.99     60   \n",
       "3724                    Live at the Brixton Academy  1991    3.68    155   \n",
       "4057        Live at the Isle of Wight Festival 1970  1996    4.42     52   \n",
       "4592                        Live at Brixton Academy  2009    3.75     58   \n",
       "4627            Purgatory Unleashed: Live At Wacken  2010    4.31     54   \n",
       "4702                           Live at the Fillmore  1995    3.85     61   \n",
       "4982                                Live At Budokan  2002    3.61     94   \n",
       "5025                                Live at Reading  2009    4.28    451   \n",
       "7196                                  Live at Sin-é  1993    3.85     41   \n",
       "9044                       Live At The Witch Trials  1979    3.77    156   \n",
       "9353                      Live at Max's Kansas City  1972    3.71     24   \n",
       "10102                           Live at Earls Court  2005    3.99     46   \n",
       "10193                         Live at Carnegie Hall  1976    4.38     34   \n",
       "10258                               Live At The BBC  1995    3.89     32   \n",
       "10723                           Live at Wembley '86  1992    4.52     88   \n",
       "11767                               Live at Budokan  1992    4.00     23   \n",
       "11995                                 Live at Leeds  1970    4.52    374   \n",
       "\n",
       "       album_length  tracks  release_country                  release_type  \\\n",
       "505           59.63       6  UK, Europe & US                     ['Album']   \n",
       "877            0.00      21        Worldwide                     ['Album']   \n",
       "1597           0.00      15           Europe  ['Album', 'Limited Edition']   \n",
       "2159          81.87      14  UK, Europe & US                     ['Album']   \n",
       "2252         144.15      43           Europe                     ['Album']   \n",
       "2826         122.02      13               US       ['Album', 'Remastered']   \n",
       "3165           0.00       7               UK             ['Stereo', 'PAL']   \n",
       "3656         103.65      53               UK                     ['Album']   \n",
       "3724          50.97      10               UK                     ['Album']   \n",
       "4057         112.35      30           Europe                     ['Album']   \n",
       "4592         172.82      36               UK                     ['Album']   \n",
       "4627          73.00      18           Europe  ['Album', 'Limited Edition']   \n",
       "4702          75.22      17           Europe                     ['Album']   \n",
       "4982          66.52      13           Europe                     ['Album']   \n",
       "5025          77.80      24  UK, Europe & US               ['LP', 'Album']   \n",
       "7196          26.63       4               US               ['Maxi-Single']   \n",
       "9044          38.65      11               UK               ['LP', 'Album']   \n",
       "9353          38.35      10               US       ['LP', 'Album', 'Mono']   \n",
       "10102         74.03      18               UK                     ['Album']   \n",
       "10193        103.27       8               UK     ['LP', 'Album', 'Stereo']   \n",
       "10258         45.95       8      UK & Europe                     ['Album']   \n",
       "10723        110.87      28               UK               ['LP', 'Album']   \n",
       "11767         54.20      27            Japan                     ['Album']   \n",
       "11995         37.15       6               UK               ['LP', 'Album']   \n",
       "\n",
       "                       genres  \\\n",
       "505     ['Rock', 'Classical']   \n",
       "877                  ['Rock']   \n",
       "1597                 ['Rock']   \n",
       "2159                 ['Rock']   \n",
       "2252                 ['Rock']   \n",
       "2826        ['Rock', 'Blues']   \n",
       "3165                 ['Rock']   \n",
       "3656                 ['Rock']   \n",
       "3724                 ['Rock']   \n",
       "4057        ['Rock', 'Blues']   \n",
       "4592   ['Electronic', 'Rock']   \n",
       "4627                 ['Rock']   \n",
       "4702                 ['Rock']   \n",
       "4982                 ['Rock']   \n",
       "5025                 ['Rock']   \n",
       "7196                 ['Rock']   \n",
       "9044                 ['Rock']   \n",
       "9353                 ['Rock']   \n",
       "10102                ['Rock']   \n",
       "10193                ['Rock']   \n",
       "10258                ['Rock']   \n",
       "10723                ['Rock']   \n",
       "11767                ['Rock']   \n",
       "11995                ['Rock']   \n",
       "\n",
       "                                                 styles  \\\n",
       "505                                                  []   \n",
       "877                               ['Punk', 'Post-Punk']   \n",
       "1597                ['Symphonic Rock', 'Post-Hardcore']   \n",
       "2159                          ['Prog Rock', 'Art Rock']   \n",
       "2252                                                 []   \n",
       "2826   ['Blues Rock', 'Electric Blues', 'Classic Rock']   \n",
       "3165                                    ['Heavy Metal']   \n",
       "3656                        ['Power Pop', 'Indie Rock']   \n",
       "3724                 ['Alternative Rock', 'Funk Metal']   \n",
       "4057     ['Hard Rock', 'Rhythm & Blues', 'Rock & Roll']   \n",
       "4592   ['Breakbeat', 'Alternative Rock', 'Drum n Bass']   \n",
       "4627                                    ['Death Metal']   \n",
       "4702                                         ['Thrash']   \n",
       "4982                       ['Hard Rock', 'Heavy Metal']   \n",
       "5025                     ['Alternative Rock', 'Grunge']   \n",
       "7196                          ['Folk Rock', 'Art Rock']   \n",
       "9044                          ['New Wave', 'Post-Punk']   \n",
       "9353        ['Rock & Roll', 'Pop Rock', 'Classic Rock']   \n",
       "10102                ['Alternative Rock', 'Indie Rock']   \n",
       "10193                   ['Prog Rock', 'Symphonic Rock']   \n",
       "10258                                  ['Classic Rock']   \n",
       "10723                        ['Pop Rock', 'Arena Rock']   \n",
       "11767                  ['Thrash', 'Hardcore', 'Parody']   \n",
       "11995       ['Classic Rock', 'Blues Rock', 'Hard Rock']   \n",
       "\n",
       "                                          artist_profile  artist_id  \\\n",
       "505    Swedish singer, pianist, organist and songwrit...    1724854   \n",
       "877    British heavy indie/punk band from Bristol, Lo...    2890530   \n",
       "1597   Metalcore band from Sheffield, Yorkshire, UK, ...    1253307   \n",
       "2159   were an English-based progressive rock band fo...      70828   \n",
       "2252   Queen is a British rock band formed in London ...      81013   \n",
       "2826   Blues rock band formed in the spring of 1970 a...     110252   \n",
       "3165   English heavy metal band formed in Leyton, Eas...     251595   \n",
       "3656   Biffy Clyro are a mainstream rock band which f...     269159   \n",
       "3724   An American rock band from San Francisco, Cali...      12937   \n",
       "4057   English rock band formed in Hammersmith, Londo...     196766   \n",
       "4592   Electronic (drum and bass) band originally fro...     134038   \n",
       "4627   A death metal band from Gothenburg, Sweden, fo...     269173   \n",
       "4702   Thrash Metal (Heavy Metal) band from San Franc...     137126   \n",
       "4982   John Michael Osbourne, professionally known as...      59770   \n",
       "5025   Rock band from Aberdeen, Washington, USA, form...     125246   \n",
       "7196   Jeffrey Scott Buckley (November 17, 1966 - May...     159169   \n",
       "9044   Post-punk band from Greater Manchester, UK. 19...       2228   \n",
       "9353   Rock 'n' roll group from New York. Known for [...      39766   \n",
       "10102  British singer and songwriter (born May 22, 19...      92577   \n",
       "10193  Renaissance was originally formed in London, U...     311028   \n",
       "10258  British rock band formed in 1977 by Mark Knopf...     103687   \n",
       "10723  Queen is a British rock band formed in London ...      81013   \n",
       "11767  Stormtroopers of Death (abbreviated to SOD) ar...     255968   \n",
       "11995  English rock band formed in Hammersmith, Londo...     196766   \n",
       "\n",
       "       master_id  main_release_id  \n",
       "505      2470054         21778390  \n",
       "877      1645355         14475294  \n",
       "1597     1105195          9480833  \n",
       "2159      784639          6528463  \n",
       "2252      729723          6058985  \n",
       "2826      522124         10681728  \n",
       "3165      435450          2181680  \n",
       "3656      350353          2965167  \n",
       "3724      339044          3396126  \n",
       "4057      296116          1283897  \n",
       "4592      239444          1957646  \n",
       "4627      236417          2650627  \n",
       "4702      230647           403033  \n",
       "4982      206003          2745991  \n",
       "5025      201031          2070548  \n",
       "7196       81024           462898  \n",
       "9044       38998           372000  \n",
       "9353       35301          4463131  \n",
       "10102      26211           883798  \n",
       "10193      25013          2127656  \n",
       "10258      23804          1800933  \n",
       "10723      16421           887741  \n",
       "11767       3183          2988095  \n",
       "11995          0          9632840  "
      ]
     },
     "execution_count": 480,
     "metadata": {},
     "output_type": "execute_result"
    }
   ],
   "source": [
    "# Let's check them before deleting them\n",
    "df[df['title'].str.contains('Live at ', case=False)]"
   ]
  },
  {
   "cell_type": "code",
   "execution_count": null,
   "metadata": {},
   "outputs": [
    {
     "data": {
      "text/plain": [
       "(11980, 16)"
      ]
     },
     "execution_count": 481,
     "metadata": {},
     "output_type": "execute_result"
    }
   ],
   "source": [
    "# correct, they are all live albums\n",
    "print(f\"Rows before dropping: {df.shape[0]}\")\n",
    "df = df[~df['title'].str.contains('Live at ', case=False)]\n",
    "print(f\"Rows after dropping: {df.shape[0]}\")"
   ]
  },
  {
   "cell_type": "markdown",
   "metadata": {},
   "source": [
    "#### **'Live in'**"
   ]
  },
  {
   "cell_type": "code",
   "execution_count": 482,
   "metadata": {},
   "outputs": [
    {
     "name": "stdout",
     "output_type": "stream",
     "text": [
      "There are 6 albums with 'Live in ' in the title\n"
     ]
    }
   ],
   "source": [
    "print(f\"There are {df[df['title'].str.contains(r'^Live in ', case=False)].shape[0]} albums with 'Live in ' in the title\")"
   ]
  },
  {
   "cell_type": "code",
   "execution_count": null,
   "metadata": {},
   "outputs": [
    {
     "data": {
      "text/html": [
       "<div>\n",
       "<style scoped>\n",
       "    .dataframe tbody tr th:only-of-type {\n",
       "        vertical-align: middle;\n",
       "    }\n",
       "\n",
       "    .dataframe tbody tr th {\n",
       "        vertical-align: top;\n",
       "    }\n",
       "\n",
       "    .dataframe thead th {\n",
       "        text-align: right;\n",
       "    }\n",
       "</style>\n",
       "<table border=\"1\" class=\"dataframe\">\n",
       "  <thead>\n",
       "    <tr style=\"text-align: right;\">\n",
       "      <th></th>\n",
       "      <th>album_id</th>\n",
       "      <th>artist</th>\n",
       "      <th>title</th>\n",
       "      <th>year</th>\n",
       "      <th>rating</th>\n",
       "      <th>votes</th>\n",
       "      <th>album_length</th>\n",
       "      <th>tracks</th>\n",
       "      <th>release_country</th>\n",
       "      <th>release_type</th>\n",
       "      <th>genres</th>\n",
       "      <th>styles</th>\n",
       "      <th>artist_profile</th>\n",
       "      <th>artist_id</th>\n",
       "      <th>master_id</th>\n",
       "      <th>main_release_id</th>\n",
       "    </tr>\n",
       "  </thead>\n",
       "  <tbody>\n",
       "    <tr>\n",
       "      <th>2646</th>\n",
       "      <td>42478</td>\n",
       "      <td>Panic! at the Disco</td>\n",
       "      <td>...Live in Chicago</td>\n",
       "      <td>2008</td>\n",
       "      <td>3.21</td>\n",
       "      <td>59</td>\n",
       "      <td>72.32</td>\n",
       "      <td>27</td>\n",
       "      <td>Europe</td>\n",
       "      <td>[]</td>\n",
       "      <td>['Rock']</td>\n",
       "      <td>['Pop Punk', 'Pop Rock']</td>\n",
       "      <td>American rock band from Las Vegas, Nevada. US\\...</td>\n",
       "      <td>553643</td>\n",
       "      <td>573038</td>\n",
       "      <td>3477215</td>\n",
       "    </tr>\n",
       "  </tbody>\n",
       "</table>\n",
       "</div>"
      ],
      "text/plain": [
       "      album_id               artist               title  year  rating  votes  \\\n",
       "2646     42478  Panic! at the Disco  ...Live in Chicago  2008    3.21     59   \n",
       "\n",
       "      album_length  tracks release_country release_type    genres  \\\n",
       "2646         72.32      27          Europe           []  ['Rock']   \n",
       "\n",
       "                        styles  \\\n",
       "2646  ['Pop Punk', 'Pop Rock']   \n",
       "\n",
       "                                         artist_profile  artist_id  master_id  \\\n",
       "2646  American rock band from Las Vegas, Nevada. US\\...     553643     573038   \n",
       "\n",
       "      main_release_id  \n",
       "2646          3477215  "
      ]
     },
     "execution_count": 491,
     "metadata": {},
     "output_type": "execute_result"
    }
   ],
   "source": [
    "# Let's check them before deleting them\n",
    "df[df['title'].str.contains(r'^Live in ', case=False)]"
   ]
  },
  {
   "cell_type": "code",
   "execution_count": 492,
   "metadata": {},
   "outputs": [
    {
     "name": "stdout",
     "output_type": "stream",
     "text": [
      "Rows before dropping: 11974\n",
      "Rows after dropping: 11973\n"
     ]
    }
   ],
   "source": [
    "# I can drop them all\n",
    "print(f\"Rows before dropping: {df.shape[0]}\")\n",
    "df = df[~df['title'].str.contains(r'^...Live in ', case=False)]\n",
    "print(f\"Rows after dropping: {df.shape[0]}\")"
   ]
  },
  {
   "cell_type": "code",
   "execution_count": 493,
   "metadata": {},
   "outputs": [
    {
     "data": {
      "text/html": [
       "<div>\n",
       "<style scoped>\n",
       "    .dataframe tbody tr th:only-of-type {\n",
       "        vertical-align: middle;\n",
       "    }\n",
       "\n",
       "    .dataframe tbody tr th {\n",
       "        vertical-align: top;\n",
       "    }\n",
       "\n",
       "    .dataframe thead th {\n",
       "        text-align: right;\n",
       "    }\n",
       "</style>\n",
       "<table border=\"1\" class=\"dataframe\">\n",
       "  <thead>\n",
       "    <tr style=\"text-align: right;\">\n",
       "      <th></th>\n",
       "      <th>album_id</th>\n",
       "      <th>artist</th>\n",
       "      <th>title</th>\n",
       "      <th>year</th>\n",
       "      <th>rating</th>\n",
       "      <th>votes</th>\n",
       "      <th>album_length</th>\n",
       "      <th>tracks</th>\n",
       "      <th>release_country</th>\n",
       "      <th>release_type</th>\n",
       "      <th>genres</th>\n",
       "      <th>styles</th>\n",
       "      <th>artist_profile</th>\n",
       "      <th>artist_id</th>\n",
       "      <th>master_id</th>\n",
       "      <th>main_release_id</th>\n",
       "    </tr>\n",
       "  </thead>\n",
       "  <tbody>\n",
       "    <tr>\n",
       "      <th>4759</th>\n",
       "      <td>16841</td>\n",
       "      <td>Low</td>\n",
       "      <td>I Could Live in Hope</td>\n",
       "      <td>1994</td>\n",
       "      <td>4.12</td>\n",
       "      <td>533</td>\n",
       "      <td>57.08</td>\n",
       "      <td>11</td>\n",
       "      <td>US</td>\n",
       "      <td>['Album']</td>\n",
       "      <td>['Rock']</td>\n",
       "      <td>['Slowcore']</td>\n",
       "      <td>American indie rock group from Duluth, Minneso...</td>\n",
       "      <td>10824</td>\n",
       "      <td>225930</td>\n",
       "      <td>545527</td>\n",
       "    </tr>\n",
       "  </tbody>\n",
       "</table>\n",
       "</div>"
      ],
      "text/plain": [
       "      album_id artist                 title  year  rating  votes  \\\n",
       "4759     16841    Low  I Could Live in Hope  1994    4.12    533   \n",
       "\n",
       "      album_length  tracks release_country release_type    genres  \\\n",
       "4759         57.08      11              US    ['Album']  ['Rock']   \n",
       "\n",
       "            styles                                     artist_profile  \\\n",
       "4759  ['Slowcore']  American indie rock group from Duluth, Minneso...   \n",
       "\n",
       "      artist_id  master_id  main_release_id  \n",
       "4759      10824     225930           545527  "
      ]
     },
     "execution_count": 493,
     "metadata": {},
     "output_type": "execute_result"
    }
   ],
   "source": [
    "# This is a studio album\n",
    "df[df['title'].str.contains('Live in ', case=True)]"
   ]
  },
  {
   "cell_type": "markdown",
   "metadata": {},
   "source": [
    "#### **'MTV Unplugged'**"
   ]
  },
  {
   "cell_type": "code",
   "execution_count": 495,
   "metadata": {},
   "outputs": [
    {
     "name": "stdout",
     "output_type": "stream",
     "text": [
      "There are 6 albums with 'MTV Unplugged' in the title\n"
     ]
    }
   ],
   "source": [
    "print(f\"There are {df[df['title'].str.contains(r'MTV Unplugged', case=False)].shape[0]} albums with 'MTV Unplugged' in the title\")"
   ]
  },
  {
   "cell_type": "code",
   "execution_count": 496,
   "metadata": {},
   "outputs": [
    {
     "data": {
      "text/html": [
       "<div>\n",
       "<style scoped>\n",
       "    .dataframe tbody tr th:only-of-type {\n",
       "        vertical-align: middle;\n",
       "    }\n",
       "\n",
       "    .dataframe tbody tr th {\n",
       "        vertical-align: top;\n",
       "    }\n",
       "\n",
       "    .dataframe thead th {\n",
       "        text-align: right;\n",
       "    }\n",
       "</style>\n",
       "<table border=\"1\" class=\"dataframe\">\n",
       "  <thead>\n",
       "    <tr style=\"text-align: right;\">\n",
       "      <th></th>\n",
       "      <th>album_id</th>\n",
       "      <th>artist</th>\n",
       "      <th>title</th>\n",
       "      <th>year</th>\n",
       "      <th>rating</th>\n",
       "      <th>votes</th>\n",
       "      <th>album_length</th>\n",
       "      <th>tracks</th>\n",
       "      <th>release_country</th>\n",
       "      <th>release_type</th>\n",
       "      <th>genres</th>\n",
       "      <th>styles</th>\n",
       "      <th>artist_profile</th>\n",
       "      <th>artist_id</th>\n",
       "      <th>master_id</th>\n",
       "      <th>main_release_id</th>\n",
       "    </tr>\n",
       "  </thead>\n",
       "  <tbody>\n",
       "    <tr>\n",
       "      <th>1270</th>\n",
       "      <td>114818</td>\n",
       "      <td>Pearl Jam</td>\n",
       "      <td>MTV Unplugged</td>\n",
       "      <td>2019</td>\n",
       "      <td>4.47</td>\n",
       "      <td>82</td>\n",
       "      <td>0.00</td>\n",
       "      <td>7</td>\n",
       "      <td>US</td>\n",
       "      <td>['LP', 'Album', 'Record Store Day']</td>\n",
       "      <td>['Rock']</td>\n",
       "      <td>['Alternative Rock', 'Grunge', 'Acoustic']</td>\n",
       "      <td>Alternative Rock (Modern Rock) band from Seatt...</td>\n",
       "      <td>175395</td>\n",
       "      <td>1330087</td>\n",
       "      <td>14464021</td>\n",
       "    </tr>\n",
       "    <tr>\n",
       "      <th>3730</th>\n",
       "      <td>23071</td>\n",
       "      <td>Shakira</td>\n",
       "      <td>MTV Unplugged</td>\n",
       "      <td>2000</td>\n",
       "      <td>3.48</td>\n",
       "      <td>24</td>\n",
       "      <td>50.58</td>\n",
       "      <td>11</td>\n",
       "      <td>Europe</td>\n",
       "      <td>['Album']</td>\n",
       "      <td>['Rock', 'Latin', 'Pop']</td>\n",
       "      <td>['Pop Rock', 'Latin Pop']</td>\n",
       "      <td>Shakira Isabel Mebarak Ripoll, professionally ...</td>\n",
       "      <td>5530</td>\n",
       "      <td>337798</td>\n",
       "      <td>915209</td>\n",
       "    </tr>\n",
       "    <tr>\n",
       "      <th>4968</th>\n",
       "      <td>4490</td>\n",
       "      <td>Bob Dylan</td>\n",
       "      <td>MTV Unplugged</td>\n",
       "      <td>1995</td>\n",
       "      <td>3.35</td>\n",
       "      <td>71</td>\n",
       "      <td>69.32</td>\n",
       "      <td>12</td>\n",
       "      <td>Europe</td>\n",
       "      <td>['Album']</td>\n",
       "      <td>['Rock']</td>\n",
       "      <td>['Folk Rock']</td>\n",
       "      <td>Born: May 24, 1941, Duluth, Minnesota, USA; si...</td>\n",
       "      <td>59792</td>\n",
       "      <td>206974</td>\n",
       "      <td>676331</td>\n",
       "    </tr>\n",
       "    <tr>\n",
       "      <th>9863</th>\n",
       "      <td>14071</td>\n",
       "      <td>Alanis Morissette</td>\n",
       "      <td>MTV Unplugged</td>\n",
       "      <td>1999</td>\n",
       "      <td>3.88</td>\n",
       "      <td>42</td>\n",
       "      <td>53.73</td>\n",
       "      <td>12</td>\n",
       "      <td>US</td>\n",
       "      <td>['Album']</td>\n",
       "      <td>['Rock', 'Pop']</td>\n",
       "      <td>['Alternative Rock', 'Acoustic', 'Pop Rock']</td>\n",
       "      <td>Canadian singer born on June 1, 1974 in Ottawa...</td>\n",
       "      <td>102789</td>\n",
       "      <td>28707</td>\n",
       "      <td>1464025</td>\n",
       "    </tr>\n",
       "    <tr>\n",
       "      <th>10347</th>\n",
       "      <td>465</td>\n",
       "      <td>Nirvana</td>\n",
       "      <td>MTV Unplugged in New York</td>\n",
       "      <td>1994</td>\n",
       "      <td>4.38</td>\n",
       "      <td>2138</td>\n",
       "      <td>53.93</td>\n",
       "      <td>14</td>\n",
       "      <td>US</td>\n",
       "      <td>['Album']</td>\n",
       "      <td>['Rock']</td>\n",
       "      <td>['Folk Rock', 'Acoustic', 'Grunge']</td>\n",
       "      <td>Rock band from Aberdeen, Washington, USA, form...</td>\n",
       "      <td>125246</td>\n",
       "      <td>22433</td>\n",
       "      <td>375980</td>\n",
       "    </tr>\n",
       "    <tr>\n",
       "      <th>10385</th>\n",
       "      <td>2122</td>\n",
       "      <td>Alice in Chains</td>\n",
       "      <td>MTV Unplugged</td>\n",
       "      <td>1996</td>\n",
       "      <td>4.34</td>\n",
       "      <td>1196</td>\n",
       "      <td>71.43</td>\n",
       "      <td>13</td>\n",
       "      <td>US</td>\n",
       "      <td>['Album']</td>\n",
       "      <td>['Rock']</td>\n",
       "      <td>['Alternative Rock', 'Acoustic', 'Grunge']</td>\n",
       "      <td>Alternative Rock (Modern Rock)  band formed in...</td>\n",
       "      <td>251846</td>\n",
       "      <td>21706</td>\n",
       "      <td>367637</td>\n",
       "    </tr>\n",
       "  </tbody>\n",
       "</table>\n",
       "</div>"
      ],
      "text/plain": [
       "       album_id             artist                      title  year  rating  \\\n",
       "1270     114818          Pearl Jam              MTV Unplugged  2019    4.47   \n",
       "3730      23071            Shakira              MTV Unplugged  2000    3.48   \n",
       "4968       4490          Bob Dylan              MTV Unplugged  1995    3.35   \n",
       "9863      14071  Alanis Morissette              MTV Unplugged  1999    3.88   \n",
       "10347       465            Nirvana  MTV Unplugged in New York  1994    4.38   \n",
       "10385      2122    Alice in Chains              MTV Unplugged  1996    4.34   \n",
       "\n",
       "       votes  album_length  tracks release_country  \\\n",
       "1270      82          0.00       7              US   \n",
       "3730      24         50.58      11          Europe   \n",
       "4968      71         69.32      12          Europe   \n",
       "9863      42         53.73      12              US   \n",
       "10347   2138         53.93      14              US   \n",
       "10385   1196         71.43      13              US   \n",
       "\n",
       "                              release_type                    genres  \\\n",
       "1270   ['LP', 'Album', 'Record Store Day']                  ['Rock']   \n",
       "3730                             ['Album']  ['Rock', 'Latin', 'Pop']   \n",
       "4968                             ['Album']                  ['Rock']   \n",
       "9863                             ['Album']           ['Rock', 'Pop']   \n",
       "10347                            ['Album']                  ['Rock']   \n",
       "10385                            ['Album']                  ['Rock']   \n",
       "\n",
       "                                             styles  \\\n",
       "1270     ['Alternative Rock', 'Grunge', 'Acoustic']   \n",
       "3730                      ['Pop Rock', 'Latin Pop']   \n",
       "4968                                  ['Folk Rock']   \n",
       "9863   ['Alternative Rock', 'Acoustic', 'Pop Rock']   \n",
       "10347           ['Folk Rock', 'Acoustic', 'Grunge']   \n",
       "10385    ['Alternative Rock', 'Acoustic', 'Grunge']   \n",
       "\n",
       "                                          artist_profile  artist_id  \\\n",
       "1270   Alternative Rock (Modern Rock) band from Seatt...     175395   \n",
       "3730   Shakira Isabel Mebarak Ripoll, professionally ...       5530   \n",
       "4968   Born: May 24, 1941, Duluth, Minnesota, USA; si...      59792   \n",
       "9863   Canadian singer born on June 1, 1974 in Ottawa...     102789   \n",
       "10347  Rock band from Aberdeen, Washington, USA, form...     125246   \n",
       "10385  Alternative Rock (Modern Rock)  band formed in...     251846   \n",
       "\n",
       "       master_id  main_release_id  \n",
       "1270     1330087         14464021  \n",
       "3730      337798           915209  \n",
       "4968      206974           676331  \n",
       "9863       28707          1464025  \n",
       "10347      22433           375980  \n",
       "10385      21706           367637  "
      ]
     },
     "execution_count": 496,
     "metadata": {},
     "output_type": "execute_result"
    }
   ],
   "source": [
    "# Let's check them before deleting them\n",
    "df[df['title'].str.contains(r'MTV Unplugged', case=False)]"
   ]
  },
  {
   "cell_type": "code",
   "execution_count": 497,
   "metadata": {},
   "outputs": [
    {
     "name": "stdout",
     "output_type": "stream",
     "text": [
      "Rows before dropping: 11973\n",
      "Rows after dropping: 11967\n"
     ]
    }
   ],
   "source": [
    "# I can drop them all\n",
    "print(f\"Rows before dropping: {df.shape[0]}\")\n",
    "df = df[~df['title'].str.contains(r'MTV Unplugged', case=False)]\n",
    "print(f\"Rows after dropping: {df.shape[0]}\")"
   ]
  },
  {
   "cell_type": "markdown",
   "metadata": {},
   "source": [
    "### **Dropping compilations sorting albums by the top rated**"
   ]
  },
  {
   "cell_type": "markdown",
   "metadata": {},
   "source": [
    "#### **'Greatest Hits'**"
   ]
  },
  {
   "cell_type": "code",
   "execution_count": 499,
   "metadata": {},
   "outputs": [
    {
     "name": "stdout",
     "output_type": "stream",
     "text": [
      "There are 2 albums with 'Greatest Hits' in the title\n"
     ]
    }
   ],
   "source": [
    "print(f\"There are {df[df['title'].str.contains(r'Greatest Hits', case=False)].shape[0]} albums with 'Greatest Hits' in the title\")"
   ]
  },
  {
   "cell_type": "code",
   "execution_count": 500,
   "metadata": {},
   "outputs": [
    {
     "data": {
      "text/html": [
       "<div>\n",
       "<style scoped>\n",
       "    .dataframe tbody tr th:only-of-type {\n",
       "        vertical-align: middle;\n",
       "    }\n",
       "\n",
       "    .dataframe tbody tr th {\n",
       "        vertical-align: top;\n",
       "    }\n",
       "\n",
       "    .dataframe thead th {\n",
       "        text-align: right;\n",
       "    }\n",
       "</style>\n",
       "<table border=\"1\" class=\"dataframe\">\n",
       "  <thead>\n",
       "    <tr style=\"text-align: right;\">\n",
       "      <th></th>\n",
       "      <th>album_id</th>\n",
       "      <th>artist</th>\n",
       "      <th>title</th>\n",
       "      <th>year</th>\n",
       "      <th>rating</th>\n",
       "      <th>votes</th>\n",
       "      <th>album_length</th>\n",
       "      <th>tracks</th>\n",
       "      <th>release_country</th>\n",
       "      <th>release_type</th>\n",
       "      <th>genres</th>\n",
       "      <th>styles</th>\n",
       "      <th>artist_profile</th>\n",
       "      <th>artist_id</th>\n",
       "      <th>master_id</th>\n",
       "      <th>main_release_id</th>\n",
       "    </tr>\n",
       "  </thead>\n",
       "  <tbody>\n",
       "    <tr>\n",
       "      <th>619</th>\n",
       "      <td>397420</td>\n",
       "      <td>Waterparks</td>\n",
       "      <td>Greatest Hits</td>\n",
       "      <td>2021</td>\n",
       "      <td>1.90</td>\n",
       "      <td>29</td>\n",
       "      <td>0.00</td>\n",
       "      <td>17</td>\n",
       "      <td>US</td>\n",
       "      <td>['LP', 'Album']</td>\n",
       "      <td>['Rock', 'Pop']</td>\n",
       "      <td>['Pop Punk', 'Pop Rock', 'Alternative Rock']</td>\n",
       "      <td>NaN</td>\n",
       "      <td>5148547</td>\n",
       "      <td>2136826</td>\n",
       "      <td>18820930</td>\n",
       "    </tr>\n",
       "    <tr>\n",
       "      <th>8989</th>\n",
       "      <td>7616</td>\n",
       "      <td>Ramones</td>\n",
       "      <td>Greatest Hits Live</td>\n",
       "      <td>1996</td>\n",
       "      <td>3.48</td>\n",
       "      <td>42</td>\n",
       "      <td>37.65</td>\n",
       "      <td>19</td>\n",
       "      <td>US</td>\n",
       "      <td>['Album']</td>\n",
       "      <td>['Rock']</td>\n",
       "      <td>['Punk']</td>\n",
       "      <td>USA punk rock band formed in 1974 and disbande...</td>\n",
       "      <td>135478</td>\n",
       "      <td>39437</td>\n",
       "      <td>561419</td>\n",
       "    </tr>\n",
       "  </tbody>\n",
       "</table>\n",
       "</div>"
      ],
      "text/plain": [
       "      album_id      artist               title  year  rating  votes  \\\n",
       "619     397420  Waterparks       Greatest Hits  2021    1.90     29   \n",
       "8989      7616     Ramones  Greatest Hits Live  1996    3.48     42   \n",
       "\n",
       "      album_length  tracks release_country     release_type           genres  \\\n",
       "619           0.00      17              US  ['LP', 'Album']  ['Rock', 'Pop']   \n",
       "8989         37.65      19              US        ['Album']         ['Rock']   \n",
       "\n",
       "                                            styles  \\\n",
       "619   ['Pop Punk', 'Pop Rock', 'Alternative Rock']   \n",
       "8989                                      ['Punk']   \n",
       "\n",
       "                                         artist_profile  artist_id  master_id  \\\n",
       "619                                                 NaN    5148547    2136826   \n",
       "8989  USA punk rock band formed in 1974 and disbande...     135478      39437   \n",
       "\n",
       "      main_release_id  \n",
       "619          18820930  \n",
       "8989           561419  "
      ]
     },
     "execution_count": 500,
     "metadata": {},
     "output_type": "execute_result"
    }
   ],
   "source": [
    "# Let's check them before deleting them\n",
    "df[df['title'].str.contains(r'Greatest Hits', case=False)]"
   ]
  },
  {
   "cell_type": "code",
   "execution_count": 501,
   "metadata": {},
   "outputs": [
    {
     "name": "stdout",
     "output_type": "stream",
     "text": [
      "Rows before dropping: 11967\n",
      "Rows after dropping: 11965\n"
     ]
    }
   ],
   "source": [
    "# I can drop them all\n",
    "print(f\"Rows before dropping: {df.shape[0]}\")\n",
    "df = df[~df['title'].str.contains(r'Greatest Hits', case=False)]\n",
    "print(f\"Rows after dropping: {df.shape[0]}\")"
   ]
  },
  {
   "cell_type": "markdown",
   "metadata": {},
   "source": [
    "#### **Sorting by the top rated and most rated**"
   ]
  },
  {
   "cell_type": "markdown",
   "metadata": {},
   "source": [
    "Usually compilations have the best songs of the band and users love them, so let's find them, even if 'Compilation' is not in ``release_type``"
   ]
  },
  {
   "cell_type": "code",
   "execution_count": 565,
   "metadata": {},
   "outputs": [
    {
     "data": {
      "text/html": [
       "<div>\n",
       "<style scoped>\n",
       "    .dataframe tbody tr th:only-of-type {\n",
       "        vertical-align: middle;\n",
       "    }\n",
       "\n",
       "    .dataframe tbody tr th {\n",
       "        vertical-align: top;\n",
       "    }\n",
       "\n",
       "    .dataframe thead th {\n",
       "        text-align: right;\n",
       "    }\n",
       "</style>\n",
       "<table border=\"1\" class=\"dataframe\">\n",
       "  <thead>\n",
       "    <tr style=\"text-align: right;\">\n",
       "      <th></th>\n",
       "      <th>album_id</th>\n",
       "      <th>artist</th>\n",
       "      <th>title</th>\n",
       "      <th>year</th>\n",
       "      <th>rating</th>\n",
       "      <th>votes</th>\n",
       "      <th>album_length</th>\n",
       "      <th>tracks</th>\n",
       "      <th>release_country</th>\n",
       "      <th>release_type</th>\n",
       "      <th>genres</th>\n",
       "      <th>styles</th>\n",
       "      <th>artist_profile</th>\n",
       "      <th>artist_id</th>\n",
       "      <th>master_id</th>\n",
       "      <th>main_release_id</th>\n",
       "    </tr>\n",
       "  </thead>\n",
       "  <tbody>\n",
       "    <tr>\n",
       "      <th>9070</th>\n",
       "      <td>65469</td>\n",
       "      <td>Neil Young</td>\n",
       "      <td>Weld</td>\n",
       "      <td>1991</td>\n",
       "      <td>4.43</td>\n",
       "      <td>79</td>\n",
       "      <td>116.53</td>\n",
       "      <td>16</td>\n",
       "      <td>Europe</td>\n",
       "      <td>['LP', 'Album', 'Stereo']</td>\n",
       "      <td>['Rock']</td>\n",
       "      <td>['Country Rock', 'Grunge', 'Classic Rock', 'Ha...</td>\n",
       "      <td>Neil Young is a Canadian-American singer-songw...</td>\n",
       "      <td>138556</td>\n",
       "      <td>38782</td>\n",
       "      <td>1271036</td>\n",
       "    </tr>\n",
       "    <tr>\n",
       "      <th>11450</th>\n",
       "      <td>222</td>\n",
       "      <td>Metallica</td>\n",
       "      <td>Ride The Lightning</td>\n",
       "      <td>1984</td>\n",
       "      <td>4.42</td>\n",
       "      <td>8013</td>\n",
       "      <td>47.33</td>\n",
       "      <td>8</td>\n",
       "      <td>US</td>\n",
       "      <td>['LP', 'Album']</td>\n",
       "      <td>['Rock']</td>\n",
       "      <td>['Thrash', 'Speed Metal']</td>\n",
       "      <td>Thrash Metal (Heavy Metal) band from Los Angel...</td>\n",
       "      <td>18839</td>\n",
       "      <td>6440</td>\n",
       "      <td>377464</td>\n",
       "    </tr>\n",
       "    <tr>\n",
       "      <th>10558</th>\n",
       "      <td>221</td>\n",
       "      <td>Iron Maiden</td>\n",
       "      <td>The Number Of The Beast</td>\n",
       "      <td>1982</td>\n",
       "      <td>4.42</td>\n",
       "      <td>4682</td>\n",
       "      <td>39.18</td>\n",
       "      <td>8</td>\n",
       "      <td>UK</td>\n",
       "      <td>['LP', 'Album', 'Stereo']</td>\n",
       "      <td>['Rock']</td>\n",
       "      <td>['Heavy Metal']</td>\n",
       "      <td>English heavy metal band formed in Leyton, Eas...</td>\n",
       "      <td>251595</td>\n",
       "      <td>18742</td>\n",
       "      <td>1466299</td>\n",
       "    </tr>\n",
       "    <tr>\n",
       "      <th>10698</th>\n",
       "      <td>243</td>\n",
       "      <td>Pixies</td>\n",
       "      <td>Doolittle</td>\n",
       "      <td>1989</td>\n",
       "      <td>4.42</td>\n",
       "      <td>3247</td>\n",
       "      <td>38.62</td>\n",
       "      <td>15</td>\n",
       "      <td>UK</td>\n",
       "      <td>['LP', 'Album', 'Limited Edition']</td>\n",
       "      <td>['Rock']</td>\n",
       "      <td>['Indie Rock']</td>\n",
       "      <td>US alternative rock band formed in early 1986 ...</td>\n",
       "      <td>231577</td>\n",
       "      <td>16764</td>\n",
       "      <td>2805906</td>\n",
       "    </tr>\n",
       "    <tr>\n",
       "      <th>11237</th>\n",
       "      <td>504</td>\n",
       "      <td>Jeff Buckley</td>\n",
       "      <td>Grace</td>\n",
       "      <td>1994</td>\n",
       "      <td>4.42</td>\n",
       "      <td>2165</td>\n",
       "      <td>51.77</td>\n",
       "      <td>10</td>\n",
       "      <td>US</td>\n",
       "      <td>['Album', 'Stereo']</td>\n",
       "      <td>['Rock']</td>\n",
       "      <td>['Alternative Rock', 'Folk Rock']</td>\n",
       "      <td>Jeffrey Scott Buckley (November 17, 1966 - May...</td>\n",
       "      <td>159169</td>\n",
       "      <td>9298</td>\n",
       "      <td>8767620</td>\n",
       "    </tr>\n",
       "    <tr>\n",
       "      <th>9138</th>\n",
       "      <td>556</td>\n",
       "      <td>The Stooges</td>\n",
       "      <td>Fun House</td>\n",
       "      <td>1970</td>\n",
       "      <td>4.42</td>\n",
       "      <td>1319</td>\n",
       "      <td>36.47</td>\n",
       "      <td>7</td>\n",
       "      <td>US</td>\n",
       "      <td>['LP', 'Album', 'Stereo']</td>\n",
       "      <td>['Rock']</td>\n",
       "      <td>['Punk', 'Hard Rock', 'Experimental', 'Garage ...</td>\n",
       "      <td>U.S. garage rock / heavy psychedelic / proto p...</td>\n",
       "      <td>39770</td>\n",
       "      <td>38209</td>\n",
       "      <td>1352562</td>\n",
       "    </tr>\n",
       "    <tr>\n",
       "      <th>6196</th>\n",
       "      <td>1016</td>\n",
       "      <td>Led Zeppelin</td>\n",
       "      <td>How The West Was Won</td>\n",
       "      <td>2003</td>\n",
       "      <td>4.42</td>\n",
       "      <td>585</td>\n",
       "      <td>150.32</td>\n",
       "      <td>18</td>\n",
       "      <td>Europe</td>\n",
       "      <td>['Album']</td>\n",
       "      <td>['Rock']</td>\n",
       "      <td>['Hard Rock', 'Classic Rock', 'Blues Rock']</td>\n",
       "      <td>The English rock band Led Zeppelin was active ...</td>\n",
       "      <td>34278</td>\n",
       "      <td>115931</td>\n",
       "      <td>1794547</td>\n",
       "    </tr>\n",
       "    <tr>\n",
       "      <th>9447</th>\n",
       "      <td>70532</td>\n",
       "      <td>Sting</td>\n",
       "      <td>Bring on the Night</td>\n",
       "      <td>1986</td>\n",
       "      <td>4.42</td>\n",
       "      <td>20</td>\n",
       "      <td>82.73</td>\n",
       "      <td>13</td>\n",
       "      <td>UK</td>\n",
       "      <td>['LP', 'Album', 'Stereo']</td>\n",
       "      <td>['Jazz', 'Rock']</td>\n",
       "      <td>['Jazz-Rock', 'Pop Rock', 'Fusion']</td>\n",
       "      <td>Musician (bassist), composer, singer-songwrite...</td>\n",
       "      <td>13961</td>\n",
       "      <td>33618</td>\n",
       "      <td>758792</td>\n",
       "    </tr>\n",
       "    <tr>\n",
       "      <th>8581</th>\n",
       "      <td>1640</td>\n",
       "      <td>At the Drive-In</td>\n",
       "      <td>Relationship of Command</td>\n",
       "      <td>2000</td>\n",
       "      <td>4.41</td>\n",
       "      <td>4560</td>\n",
       "      <td>45.32</td>\n",
       "      <td>11</td>\n",
       "      <td>US</td>\n",
       "      <td>['Album']</td>\n",
       "      <td>['Rock']</td>\n",
       "      <td>['Post-Hardcore', 'Indie Rock']</td>\n",
       "      <td>Band from El Paso, TX, formed in 1993. Flipsid...</td>\n",
       "      <td>81742</td>\n",
       "      <td>45482</td>\n",
       "      <td>383624</td>\n",
       "    </tr>\n",
       "    <tr>\n",
       "      <th>10513</th>\n",
       "      <td>829</td>\n",
       "      <td>The Smiths</td>\n",
       "      <td>The Queen Is Dead</td>\n",
       "      <td>1986</td>\n",
       "      <td>4.41</td>\n",
       "      <td>2882</td>\n",
       "      <td>36.78</td>\n",
       "      <td>10</td>\n",
       "      <td>UK</td>\n",
       "      <td>['LP', 'Album']</td>\n",
       "      <td>['Rock', 'Pop']</td>\n",
       "      <td>['Indie Pop', 'Indie Rock', 'Jangle Pop']</td>\n",
       "      <td>The Smiths were an English rock band formed in...</td>\n",
       "      <td>83080</td>\n",
       "      <td>20137</td>\n",
       "      <td>494927</td>\n",
       "    </tr>\n",
       "  </tbody>\n",
       "</table>\n",
       "</div>"
      ],
      "text/plain": [
       "       album_id           artist                    title  year  rating  \\\n",
       "9070      65469       Neil Young                     Weld  1991    4.43   \n",
       "11450       222        Metallica       Ride The Lightning  1984    4.42   \n",
       "10558       221      Iron Maiden  The Number Of The Beast  1982    4.42   \n",
       "10698       243           Pixies                Doolittle  1989    4.42   \n",
       "11237       504     Jeff Buckley                    Grace  1994    4.42   \n",
       "9138        556      The Stooges                Fun House  1970    4.42   \n",
       "6196       1016     Led Zeppelin     How The West Was Won  2003    4.42   \n",
       "9447      70532            Sting       Bring on the Night  1986    4.42   \n",
       "8581       1640  At the Drive-In  Relationship of Command  2000    4.41   \n",
       "10513       829       The Smiths        The Queen Is Dead  1986    4.41   \n",
       "\n",
       "       votes  album_length  tracks release_country  \\\n",
       "9070      79        116.53      16          Europe   \n",
       "11450   8013         47.33       8              US   \n",
       "10558   4682         39.18       8              UK   \n",
       "10698   3247         38.62      15              UK   \n",
       "11237   2165         51.77      10              US   \n",
       "9138    1319         36.47       7              US   \n",
       "6196     585        150.32      18          Europe   \n",
       "9447      20         82.73      13              UK   \n",
       "8581    4560         45.32      11              US   \n",
       "10513   2882         36.78      10              UK   \n",
       "\n",
       "                             release_type            genres  \\\n",
       "9070            ['LP', 'Album', 'Stereo']          ['Rock']   \n",
       "11450                     ['LP', 'Album']          ['Rock']   \n",
       "10558           ['LP', 'Album', 'Stereo']          ['Rock']   \n",
       "10698  ['LP', 'Album', 'Limited Edition']          ['Rock']   \n",
       "11237                 ['Album', 'Stereo']          ['Rock']   \n",
       "9138            ['LP', 'Album', 'Stereo']          ['Rock']   \n",
       "6196                            ['Album']          ['Rock']   \n",
       "9447            ['LP', 'Album', 'Stereo']  ['Jazz', 'Rock']   \n",
       "8581                            ['Album']          ['Rock']   \n",
       "10513                     ['LP', 'Album']   ['Rock', 'Pop']   \n",
       "\n",
       "                                                  styles  \\\n",
       "9070   ['Country Rock', 'Grunge', 'Classic Rock', 'Ha...   \n",
       "11450                          ['Thrash', 'Speed Metal']   \n",
       "10558                                    ['Heavy Metal']   \n",
       "10698                                     ['Indie Rock']   \n",
       "11237                  ['Alternative Rock', 'Folk Rock']   \n",
       "9138   ['Punk', 'Hard Rock', 'Experimental', 'Garage ...   \n",
       "6196         ['Hard Rock', 'Classic Rock', 'Blues Rock']   \n",
       "9447                 ['Jazz-Rock', 'Pop Rock', 'Fusion']   \n",
       "8581                     ['Post-Hardcore', 'Indie Rock']   \n",
       "10513          ['Indie Pop', 'Indie Rock', 'Jangle Pop']   \n",
       "\n",
       "                                          artist_profile  artist_id  \\\n",
       "9070   Neil Young is a Canadian-American singer-songw...     138556   \n",
       "11450  Thrash Metal (Heavy Metal) band from Los Angel...      18839   \n",
       "10558  English heavy metal band formed in Leyton, Eas...     251595   \n",
       "10698  US alternative rock band formed in early 1986 ...     231577   \n",
       "11237  Jeffrey Scott Buckley (November 17, 1966 - May...     159169   \n",
       "9138   U.S. garage rock / heavy psychedelic / proto p...      39770   \n",
       "6196   The English rock band Led Zeppelin was active ...      34278   \n",
       "9447   Musician (bassist), composer, singer-songwrite...      13961   \n",
       "8581   Band from El Paso, TX, formed in 1993. Flipsid...      81742   \n",
       "10513  The Smiths were an English rock band formed in...      83080   \n",
       "\n",
       "       master_id  main_release_id  \n",
       "9070       38782          1271036  \n",
       "11450       6440           377464  \n",
       "10558      18742          1466299  \n",
       "10698      16764          2805906  \n",
       "11237       9298          8767620  \n",
       "9138       38209          1352562  \n",
       "6196      115931          1794547  \n",
       "9447       33618           758792  \n",
       "8581       45482           383624  \n",
       "10513      20137           494927  "
      ]
     },
     "execution_count": 565,
     "metadata": {},
     "output_type": "execute_result"
    }
   ],
   "source": [
    "start_row = 50\n",
    "\n",
    "df.sort_values(['rating', 'votes'], ascending=False).iloc[start_row:start_row+10]"
   ]
  },
  {
   "cell_type": "code",
   "execution_count": 560,
   "metadata": {},
   "outputs": [
    {
     "name": "stdout",
     "output_type": "stream",
     "text": [
      "Rows dropped\n",
      "(11952, 16)\n"
     ]
    }
   ],
   "source": [
    "# check one by one if necessary\n",
    "try:\n",
    "    df.drop([3433], axis=0, inplace=True)\n",
    "    print('Rows dropped')\n",
    "    print(df.shape)\n",
    "except:\n",
    "    print(\"Couldn't drop these rows\")\n",
    "    print(df.shape)"
   ]
  },
  {
   "cell_type": "markdown",
   "metadata": {},
   "source": [
    "**drop albums also from ``df_ratings_top``** if they are live albums, compilations, bands from outside the UK or US..."
   ]
  },
  {
   "cell_type": "code",
   "execution_count": 758,
   "metadata": {},
   "outputs": [
    {
     "data": {
      "text/html": [
       "<div>\n",
       "<style scoped>\n",
       "    .dataframe tbody tr th:only-of-type {\n",
       "        vertical-align: middle;\n",
       "    }\n",
       "\n",
       "    .dataframe tbody tr th {\n",
       "        vertical-align: top;\n",
       "    }\n",
       "\n",
       "    .dataframe thead th {\n",
       "        text-align: right;\n",
       "    }\n",
       "</style>\n",
       "<table border=\"1\" class=\"dataframe\">\n",
       "  <thead>\n",
       "    <tr style=\"text-align: right;\">\n",
       "      <th></th>\n",
       "      <th>album_id</th>\n",
       "      <th>artist</th>\n",
       "      <th>title</th>\n",
       "      <th>rating</th>\n",
       "      <th>votes</th>\n",
       "    </tr>\n",
       "  </thead>\n",
       "  <tbody>\n",
       "  </tbody>\n",
       "</table>\n",
       "</div>"
      ],
      "text/plain": [
       "Empty DataFrame\n",
       "Columns: [album_id, artist, title, rating, votes]\n",
       "Index: []"
      ]
     },
     "execution_count": 758,
     "metadata": {},
     "output_type": "execute_result"
    }
   ],
   "source": [
    "df_ratings_20[df_ratings_20['artist']==\"Ulver\".strip()]"
   ]
  },
  {
   "cell_type": "code",
   "execution_count": 611,
   "metadata": {},
   "outputs": [
    {
     "name": "stdout",
     "output_type": "stream",
     "text": [
      "Rows dropped\n",
      "(51221, 5)\n"
     ]
    }
   ],
   "source": [
    "# check one by one if necessary\n",
    "try:\n",
    "    df_ratings_20.drop([7066], axis=0, inplace=True)\n",
    "    print('Rows dropped')\n",
    "    print(df_ratings_20.shape)\n",
    "except:\n",
    "    print(\"Couldn't drop these rows\")"
   ]
  },
  {
   "cell_type": "markdown",
   "metadata": {},
   "source": [
    "**Drop one artist**"
   ]
  },
  {
   "cell_type": "code",
   "execution_count": 765,
   "metadata": {},
   "outputs": [
    {
     "name": "stdout",
     "output_type": "stream",
     "text": [
      "Rows before dropping: 51158\n",
      "Rows after dropping: 51144\n"
     ]
    }
   ],
   "source": [
    "print(f\"Rows before dropping: {df_ratings_20.shape[0]}\")\n",
    "df_ratings_20 = df_ratings_20[df_ratings_20['artist']!=\"Satyricon\".strip()]\n",
    "print(f\"Rows after dropping: {df_ratings_20.shape[0]}\")"
   ]
  },
  {
   "cell_type": "markdown",
   "metadata": {},
   "source": [
    "**export again to .csv**"
   ]
  },
  {
   "cell_type": "code",
   "execution_count": 566,
   "metadata": {},
   "outputs": [],
   "source": [
    "df_ratings_20.to_csv('Datasets/df_ratings_20.csv', index=False)"
   ]
  },
  {
   "cell_type": "markdown",
   "metadata": {},
   "source": [
    "### **``year = 0``**"
   ]
  },
  {
   "cell_type": "code",
   "execution_count": 769,
   "metadata": {},
   "outputs": [
    {
     "data": {
      "text/plain": [
       "(0, 16)"
      ]
     },
     "execution_count": 769,
     "metadata": {},
     "output_type": "execute_result"
    }
   ],
   "source": [
    "df[df['year']==0].shape"
   ]
  },
  {
   "cell_type": "code",
   "execution_count": 767,
   "metadata": {},
   "outputs": [
    {
     "data": {
      "text/html": [
       "<div>\n",
       "<style scoped>\n",
       "    .dataframe tbody tr th:only-of-type {\n",
       "        vertical-align: middle;\n",
       "    }\n",
       "\n",
       "    .dataframe tbody tr th {\n",
       "        vertical-align: top;\n",
       "    }\n",
       "\n",
       "    .dataframe thead th {\n",
       "        text-align: right;\n",
       "    }\n",
       "</style>\n",
       "<table border=\"1\" class=\"dataframe\">\n",
       "  <thead>\n",
       "    <tr style=\"text-align: right;\">\n",
       "      <th></th>\n",
       "      <th>album_id</th>\n",
       "      <th>artist</th>\n",
       "      <th>title</th>\n",
       "      <th>year</th>\n",
       "      <th>rating</th>\n",
       "      <th>votes</th>\n",
       "      <th>album_length</th>\n",
       "      <th>tracks</th>\n",
       "      <th>release_country</th>\n",
       "      <th>release_type</th>\n",
       "      <th>genres</th>\n",
       "      <th>styles</th>\n",
       "      <th>artist_profile</th>\n",
       "      <th>artist_id</th>\n",
       "      <th>master_id</th>\n",
       "      <th>main_release_id</th>\n",
       "    </tr>\n",
       "  </thead>\n",
       "  <tbody>\n",
       "    <tr>\n",
       "      <th>11753</th>\n",
       "      <td>6042</td>\n",
       "      <td>Death Cab for Cutie</td>\n",
       "      <td>Something About Airplanes</td>\n",
       "      <td>0</td>\n",
       "      <td>3.52</td>\n",
       "      <td>440</td>\n",
       "      <td>43.3</td>\n",
       "      <td>10</td>\n",
       "      <td>US</td>\n",
       "      <td>['Album', 'Reissue']</td>\n",
       "      <td>['Rock']</td>\n",
       "      <td>['Indie Rock']</td>\n",
       "      <td>American indie rock band formed in Bellingham,...</td>\n",
       "      <td>280098</td>\n",
       "      <td>3443</td>\n",
       "      <td>409339</td>\n",
       "    </tr>\n",
       "  </tbody>\n",
       "</table>\n",
       "</div>"
      ],
      "text/plain": [
       "       album_id               artist                      title  year  rating  \\\n",
       "11753      6042  Death Cab for Cutie  Something About Airplanes     0    3.52   \n",
       "\n",
       "       votes  album_length  tracks release_country          release_type  \\\n",
       "11753    440          43.3      10              US  ['Album', 'Reissue']   \n",
       "\n",
       "         genres          styles  \\\n",
       "11753  ['Rock']  ['Indie Rock']   \n",
       "\n",
       "                                          artist_profile  artist_id  \\\n",
       "11753  American indie rock band formed in Bellingham,...     280098   \n",
       "\n",
       "       master_id  main_release_id  \n",
       "11753       3443           409339  "
      ]
     },
     "execution_count": 767,
     "metadata": {},
     "output_type": "execute_result"
    }
   ],
   "source": [
    "df[df['year']==0].head()"
   ]
  },
  {
   "cell_type": "code",
   "execution_count": 768,
   "metadata": {},
   "outputs": [],
   "source": [
    "df.loc[11753, 'year'] = 1998"
   ]
  },
  {
   "cell_type": "code",
   "execution_count": 733,
   "metadata": {},
   "outputs": [
    {
     "name": "stdout",
     "output_type": "stream",
     "text": [
      "Rows dropped\n",
      "(11941, 16)\n"
     ]
    }
   ],
   "source": [
    "# check one by one if necessary\n",
    "try:\n",
    "    df.drop([9935], axis=0, inplace=True)\n",
    "    print('Rows dropped')\n",
    "    print(df.shape)\n",
    "except:\n",
    "    print(\"Couldn't drop these rows\")\n",
    "    print(df.shape)"
   ]
  },
  {
   "cell_type": "markdown",
   "metadata": {},
   "source": [
    "**Drop one artist**"
   ]
  },
  {
   "cell_type": "code",
   "execution_count": 764,
   "metadata": {},
   "outputs": [
    {
     "name": "stdout",
     "output_type": "stream",
     "text": [
      "Rows before dropping: 11922\n",
      "Rows after dropping: 11920\n"
     ]
    }
   ],
   "source": [
    "print(f\"Rows before dropping: {df.shape[0]}\")\n",
    "df = df[df['artist']!=\"Satyricon\".strip()]\n",
    "print(f\"Rows after dropping: {df.shape[0]}\")"
   ]
  },
  {
   "cell_type": "markdown",
   "metadata": {},
   "source": [
    "### **Drop ratings and sort columns**"
   ]
  },
  {
   "cell_type": "code",
   "execution_count": 770,
   "metadata": {},
   "outputs": [],
   "source": [
    "df = columns_hide_ratings(df)"
   ]
  },
  {
   "cell_type": "code",
   "execution_count": 771,
   "metadata": {},
   "outputs": [
    {
     "data": {
      "text/html": [
       "<div>\n",
       "<style scoped>\n",
       "    .dataframe tbody tr th:only-of-type {\n",
       "        vertical-align: middle;\n",
       "    }\n",
       "\n",
       "    .dataframe tbody tr th {\n",
       "        vertical-align: top;\n",
       "    }\n",
       "\n",
       "    .dataframe thead th {\n",
       "        text-align: right;\n",
       "    }\n",
       "</style>\n",
       "<table border=\"1\" class=\"dataframe\">\n",
       "  <thead>\n",
       "    <tr style=\"text-align: right;\">\n",
       "      <th></th>\n",
       "      <th>artist_id</th>\n",
       "      <th>master_id</th>\n",
       "      <th>main_release_id</th>\n",
       "      <th>release_country</th>\n",
       "      <th>artist</th>\n",
       "      <th>title</th>\n",
       "      <th>year</th>\n",
       "      <th>album_length</th>\n",
       "      <th>tracks</th>\n",
       "      <th>release_type</th>\n",
       "      <th>genres</th>\n",
       "      <th>styles</th>\n",
       "      <th>artist_profile</th>\n",
       "    </tr>\n",
       "  </thead>\n",
       "  <tbody>\n",
       "    <tr>\n",
       "      <th>0</th>\n",
       "      <td>364548.0</td>\n",
       "      <td>477687.0</td>\n",
       "      <td>2863713</td>\n",
       "      <td>US</td>\n",
       "      <td>Joey Dee and The Starliters</td>\n",
       "      <td>Back At The Peppermint Lounge / Twistin'</td>\n",
       "      <td>1962</td>\n",
       "      <td>0.0</td>\n",
       "      <td>10</td>\n",
       "      <td>['LP', 'Album', 'Stereo']</td>\n",
       "      <td>['Rock', 'Pop']</td>\n",
       "      <td>['Rock &amp; Roll', 'Twist']</td>\n",
       "      <td>NaN</td>\n",
       "    </tr>\n",
       "  </tbody>\n",
       "</table>\n",
       "</div>"
      ],
      "text/plain": [
       "   artist_id  master_id  main_release_id release_country  \\\n",
       "0   364548.0   477687.0          2863713              US   \n",
       "\n",
       "                        artist                                     title  \\\n",
       "0  Joey Dee and The Starliters  Back At The Peppermint Lounge / Twistin'   \n",
       "\n",
       "   year  album_length  tracks               release_type           genres  \\\n",
       "0  1962           0.0      10  ['LP', 'Album', 'Stereo']  ['Rock', 'Pop']   \n",
       "\n",
       "                     styles artist_profile  \n",
       "0  ['Rock & Roll', 'Twist']            NaN  "
      ]
     },
     "execution_count": 771,
     "metadata": {},
     "output_type": "execute_result"
    }
   ],
   "source": [
    "df_masters.head(1)"
   ]
  },
  {
   "cell_type": "code",
   "execution_count": 772,
   "metadata": {},
   "outputs": [
    {
     "data": {
      "text/html": [
       "<div>\n",
       "<style scoped>\n",
       "    .dataframe tbody tr th:only-of-type {\n",
       "        vertical-align: middle;\n",
       "    }\n",
       "\n",
       "    .dataframe tbody tr th {\n",
       "        vertical-align: top;\n",
       "    }\n",
       "\n",
       "    .dataframe thead th {\n",
       "        text-align: right;\n",
       "    }\n",
       "</style>\n",
       "<table border=\"1\" class=\"dataframe\">\n",
       "  <thead>\n",
       "    <tr style=\"text-align: right;\">\n",
       "      <th></th>\n",
       "      <th>artist_id</th>\n",
       "      <th>master_id</th>\n",
       "      <th>main_release_id</th>\n",
       "      <th>release_country</th>\n",
       "      <th>artist</th>\n",
       "      <th>title</th>\n",
       "      <th>year</th>\n",
       "      <th>album_length</th>\n",
       "      <th>tracks</th>\n",
       "      <th>release_type</th>\n",
       "      <th>genres</th>\n",
       "      <th>styles</th>\n",
       "      <th>artist_profile</th>\n",
       "    </tr>\n",
       "  </thead>\n",
       "  <tbody>\n",
       "    <tr>\n",
       "      <th>0</th>\n",
       "      <td>15152368</td>\n",
       "      <td>3747909</td>\n",
       "      <td>31909420</td>\n",
       "      <td>NaN</td>\n",
       "      <td>As Living Arrows</td>\n",
       "      <td>Hope and Ruin</td>\n",
       "      <td>2024</td>\n",
       "      <td>0.0</td>\n",
       "      <td>8</td>\n",
       "      <td>['LP', 'Album']</td>\n",
       "      <td>['Rock']</td>\n",
       "      <td>['Post-Hardcore']</td>\n",
       "      <td>Post-screamo band from Brighton, UK\\r\\n</td>\n",
       "    </tr>\n",
       "  </tbody>\n",
       "</table>\n",
       "</div>"
      ],
      "text/plain": [
       "   artist_id  master_id  main_release_id release_country            artist  \\\n",
       "0   15152368    3747909         31909420             NaN  As Living Arrows   \n",
       "\n",
       "           title  year  album_length  tracks     release_type    genres  \\\n",
       "0  Hope and Ruin  2024           0.0       8  ['LP', 'Album']  ['Rock']   \n",
       "\n",
       "              styles                            artist_profile  \n",
       "0  ['Post-Hardcore']  Post-screamo band from Brighton, UK\\r\\n   "
      ]
     },
     "execution_count": 772,
     "metadata": {},
     "output_type": "execute_result"
    }
   ],
   "source": [
    "df.head(1)"
   ]
  },
  {
   "cell_type": "code",
   "execution_count": 773,
   "metadata": {},
   "outputs": [
    {
     "data": {
      "text/plain": [
       "4527"
      ]
     },
     "execution_count": 773,
     "metadata": {},
     "output_type": "execute_result"
    }
   ],
   "source": [
    "df['artist'].nunique()"
   ]
  },
  {
   "cell_type": "code",
   "execution_count": 774,
   "metadata": {},
   "outputs": [],
   "source": [
    "df['artist_id'] = df['artist_id'].astype(int)"
   ]
  },
  {
   "cell_type": "markdown",
   "metadata": {},
   "source": [
    "### **Export to csv**"
   ]
  },
  {
   "cell_type": "code",
   "execution_count": 776,
   "metadata": {},
   "outputs": [],
   "source": [
    "df.to_csv('Datasets/df_masters_blended.csv', index=False)"
   ]
  },
  {
   "cell_type": "code",
   "execution_count": 775,
   "metadata": {},
   "outputs": [
    {
     "data": {
      "text/plain": [
       "<Axes: xlabel='count', ylabel='year'>"
      ]
     },
     "execution_count": 775,
     "metadata": {},
     "output_type": "execute_result"
    },
    {
     "data": {
      "image/png": "[encoded data removed]",
      "text/plain": [
       "<Figure size 900x1200 with 1 Axes>"
      ]
     },
     "metadata": {},
     "output_type": "display_data"
    }
   ],
   "source": [
    "plt.figure(figsize=(9,12))\n",
    "sns.countplot(data=df, y='year')"
   ]
  },
  {
   "cell_type": "markdown",
   "metadata": {},
   "source": [
    "# **``df_uk_rock`` merge with ratings and cleaning**"
   ]
  },
  {
   "cell_type": "code",
   "execution_count": 258,
   "metadata": {},
   "outputs": [
    {
     "name": "stdout",
     "output_type": "stream",
     "text": [
      "(14300, 13): df_blend_test\n",
      "(51252, 5): df_ratings_20\n"
     ]
    }
   ],
   "source": [
    "# import the dataframes\n",
    "df_blend_test = pd.read_csv('Datasets/df_blend_test.csv')                                 # df with the albums already cleaned\n",
    "df_ratings_20 = pd.read_csv('Datasets/df_ratings_20.csv', keep_default_na=False)  # all ratings, mostly from rock, worldwide\n",
    "\n",
    "# print information\n",
    "print(f'{df_blend_test.shape}: df_blend_test')\n",
    "print(f'{df_ratings_20.shape}: df_ratings_20')"
   ]
  },
  {
   "cell_type": "code",
   "execution_count": 259,
   "metadata": {},
   "outputs": [
    {
     "data": {
      "text/html": [
       "<div>\n",
       "<style scoped>\n",
       "    .dataframe tbody tr th:only-of-type {\n",
       "        vertical-align: middle;\n",
       "    }\n",
       "\n",
       "    .dataframe tbody tr th {\n",
       "        vertical-align: top;\n",
       "    }\n",
       "\n",
       "    .dataframe thead th {\n",
       "        text-align: right;\n",
       "    }\n",
       "</style>\n",
       "<table border=\"1\" class=\"dataframe\">\n",
       "  <thead>\n",
       "    <tr style=\"text-align: right;\">\n",
       "      <th></th>\n",
       "      <th>artist_id</th>\n",
       "      <th>master_id</th>\n",
       "      <th>main_release_id</th>\n",
       "      <th>release_country</th>\n",
       "      <th>artist</th>\n",
       "      <th>title</th>\n",
       "      <th>year</th>\n",
       "      <th>album_length</th>\n",
       "      <th>tracks</th>\n",
       "      <th>release_type</th>\n",
       "      <th>genres</th>\n",
       "      <th>styles</th>\n",
       "      <th>artist_profile</th>\n",
       "    </tr>\n",
       "  </thead>\n",
       "  <tbody>\n",
       "    <tr>\n",
       "      <th>0</th>\n",
       "      <td>15152368.0</td>\n",
       "      <td>3747909</td>\n",
       "      <td>31909420</td>\n",
       "      <td>NaN</td>\n",
       "      <td>As Living Arrows</td>\n",
       "      <td>Hope and Ruin</td>\n",
       "      <td>2024</td>\n",
       "      <td>0.0</td>\n",
       "      <td>8</td>\n",
       "      <td>['LP', 'Album']</td>\n",
       "      <td>['Rock']</td>\n",
       "      <td>['Post-Hardcore']</td>\n",
       "      <td>Post-screamo band from Brighton, UK\\r\\n</td>\n",
       "    </tr>\n",
       "  </tbody>\n",
       "</table>\n",
       "</div>"
      ],
      "text/plain": [
       "    artist_id  master_id  main_release_id release_country            artist  \\\n",
       "0  15152368.0    3747909         31909420             NaN  As Living Arrows   \n",
       "\n",
       "           title  year  album_length  tracks     release_type    genres  \\\n",
       "0  Hope and Ruin  2024           0.0       8  ['LP', 'Album']  ['Rock']   \n",
       "\n",
       "              styles                            artist_profile  \n",
       "0  ['Post-Hardcore']  Post-screamo band from Brighton, UK\\r\\n   "
      ]
     },
     "execution_count": 259,
     "metadata": {},
     "output_type": "execute_result"
    }
   ],
   "source": [
    "df_blend_test.head(1)"
   ]
  },
  {
   "cell_type": "markdown",
   "metadata": {},
   "source": [
    "## Dropping columns"
   ]
  },
  {
   "cell_type": "code",
   "execution_count": 260,
   "metadata": {},
   "outputs": [
    {
     "data": {
      "text/plain": [
       "release_type\n",
       "['Album']                             5732\n",
       "['LP', 'Album']                       4052\n",
       "['LP', 'Album', 'Stereo']             1625\n",
       "['LP', 'Album', 'Limited Edition']     545\n",
       "['Album', 'Stereo']                    355\n",
       "Name: count, dtype: int64"
      ]
     },
     "execution_count": 260,
     "metadata": {},
     "output_type": "execute_result"
    }
   ],
   "source": [
    "df_blend_test.release_type.value_counts().head()"
   ]
  },
  {
   "cell_type": "code",
   "execution_count": 261,
   "metadata": {},
   "outputs": [
    {
     "data": {
      "text/html": [
       "<div>\n",
       "<style scoped>\n",
       "    .dataframe tbody tr th:only-of-type {\n",
       "        vertical-align: middle;\n",
       "    }\n",
       "\n",
       "    .dataframe tbody tr th {\n",
       "        vertical-align: top;\n",
       "    }\n",
       "\n",
       "    .dataframe thead th {\n",
       "        text-align: right;\n",
       "    }\n",
       "</style>\n",
       "<table border=\"1\" class=\"dataframe\">\n",
       "  <thead>\n",
       "    <tr style=\"text-align: right;\">\n",
       "      <th></th>\n",
       "      <th>release_country</th>\n",
       "      <th>artist</th>\n",
       "      <th>title</th>\n",
       "      <th>year</th>\n",
       "      <th>album_length</th>\n",
       "      <th>tracks</th>\n",
       "      <th>styles</th>\n",
       "      <th>artist_profile</th>\n",
       "    </tr>\n",
       "  </thead>\n",
       "  <tbody>\n",
       "    <tr>\n",
       "      <th>0</th>\n",
       "      <td>NaN</td>\n",
       "      <td>As Living Arrows</td>\n",
       "      <td>Hope and Ruin</td>\n",
       "      <td>2024</td>\n",
       "      <td>0.0</td>\n",
       "      <td>8</td>\n",
       "      <td>['Post-Hardcore']</td>\n",
       "      <td>Post-screamo band from Brighton, UK\\r\\n</td>\n",
       "    </tr>\n",
       "  </tbody>\n",
       "</table>\n",
       "</div>"
      ],
      "text/plain": [
       "  release_country            artist          title  year  album_length  \\\n",
       "0             NaN  As Living Arrows  Hope and Ruin  2024           0.0   \n",
       "\n",
       "   tracks             styles                            artist_profile  \n",
       "0       8  ['Post-Hardcore']  Post-screamo band from Brighton, UK\\r\\n   "
      ]
     },
     "execution_count": 261,
     "metadata": {},
     "output_type": "execute_result"
    }
   ],
   "source": [
    "# I can drop it, as well as other columns\n",
    "df_blend_test.drop(columns=['artist_id', 'master_id', 'main_release_id', 'release_type', 'genres'], inplace=True)\n",
    "df_blend_test.head(1)"
   ]
  },
  {
   "cell_type": "markdown",
   "metadata": {},
   "source": [
    "## Merge with ``df_ratings_top``"
   ]
  },
  {
   "cell_type": "code",
   "execution_count": 262,
   "metadata": {},
   "outputs": [
    {
     "name": "stdout",
     "output_type": "stream",
     "text": [
      "(14300, 8): df_blend_test\n",
      "(51252, 5): df_ratings_20\n"
     ]
    }
   ],
   "source": [
    "# print information\n",
    "print(f'{df_blend_test.shape}: df_blend_test')\n",
    "print(f'{df_ratings_20.shape}: df_ratings_20')"
   ]
  },
  {
   "cell_type": "code",
   "execution_count": 263,
   "metadata": {},
   "outputs": [
    {
     "data": {
      "text/plain": [
       "(11159, 10)"
      ]
     },
     "execution_count": 263,
     "metadata": {},
     "output_type": "execute_result"
    }
   ],
   "source": [
    "df = pd.merge(\n",
    "    df_ratings_20.assign(artist_lower=df_ratings_20['artist'].str.lower().str.strip(), \n",
    "                      title_lower=df_ratings_20['title'].str.lower().str.strip()), \n",
    "    df_blend_test.assign(artist_lower=df_blend_test['artist'].str.lower().str.strip(), \n",
    "                      title_lower=df_blend_test['title'].str.lower().str.strip()), \n",
    "    on=['artist_lower', 'title_lower']\n",
    ").drop(columns=['artist_lower', 'title_lower', 'artist_y', 'title_y'])\n",
    "\n",
    "# rename columns\n",
    "df.rename(columns={'artist_x': 'artist', 'title_x': 'title'}, inplace=True)\n",
    "\n",
    "# drop columns\n",
    "df.drop(columns=['album_id'], inplace=True)\n",
    "\n",
    "# print the shape\n",
    "df.shape"
   ]
  },
  {
   "cell_type": "code",
   "execution_count": 264,
   "metadata": {},
   "outputs": [
    {
     "data": {
      "text/html": [
       "<div>\n",
       "<style scoped>\n",
       "    .dataframe tbody tr th:only-of-type {\n",
       "        vertical-align: middle;\n",
       "    }\n",
       "\n",
       "    .dataframe tbody tr th {\n",
       "        vertical-align: top;\n",
       "    }\n",
       "\n",
       "    .dataframe thead th {\n",
       "        text-align: right;\n",
       "    }\n",
       "</style>\n",
       "<table border=\"1\" class=\"dataframe\">\n",
       "  <thead>\n",
       "    <tr style=\"text-align: right;\">\n",
       "      <th></th>\n",
       "      <th>artist</th>\n",
       "      <th>title</th>\n",
       "      <th>rating</th>\n",
       "      <th>votes</th>\n",
       "      <th>release_country</th>\n",
       "      <th>year</th>\n",
       "      <th>album_length</th>\n",
       "      <th>tracks</th>\n",
       "      <th>styles</th>\n",
       "      <th>artist_profile</th>\n",
       "    </tr>\n",
       "  </thead>\n",
       "  <tbody>\n",
       "    <tr>\n",
       "      <th>75</th>\n",
       "      <td>Led Zeppelin</td>\n",
       "      <td>Led Zeppelin</td>\n",
       "      <td>4.25</td>\n",
       "      <td>4088</td>\n",
       "      <td>UK</td>\n",
       "      <td>1969</td>\n",
       "      <td>39.75</td>\n",
       "      <td>9</td>\n",
       "      <td>['Blues Rock', 'Hard Rock']</td>\n",
       "      <td>The English rock band Led Zeppelin was active ...</td>\n",
       "    </tr>\n",
       "    <tr>\n",
       "      <th>144</th>\n",
       "      <td>The Who</td>\n",
       "      <td>Tommy</td>\n",
       "      <td>4.08</td>\n",
       "      <td>1357</td>\n",
       "      <td>UK</td>\n",
       "      <td>1969</td>\n",
       "      <td>76.60</td>\n",
       "      <td>24</td>\n",
       "      <td>['Rock Opera', 'Classic Rock']</td>\n",
       "      <td>English rock band formed in Hammersmith, Londo...</td>\n",
       "    </tr>\n",
       "    <tr>\n",
       "      <th>187</th>\n",
       "      <td>Weezer</td>\n",
       "      <td>Weezer</td>\n",
       "      <td>4.36</td>\n",
       "      <td>4264</td>\n",
       "      <td>US</td>\n",
       "      <td>1994</td>\n",
       "      <td>41.30</td>\n",
       "      <td>10</td>\n",
       "      <td>['Alternative Rock', 'Pop Rock', 'Pop Punk']</td>\n",
       "      <td>Rock band from Los Angeles, California, US.\\r\\...</td>\n",
       "    </tr>\n",
       "    <tr>\n",
       "      <th>278</th>\n",
       "      <td>King Crimson</td>\n",
       "      <td>Larks' Tongues in Aspic</td>\n",
       "      <td>4.29</td>\n",
       "      <td>1603</td>\n",
       "      <td>UK</td>\n",
       "      <td>1973</td>\n",
       "      <td>46.62</td>\n",
       "      <td>6</td>\n",
       "      <td>['Prog Rock', 'Experimental']</td>\n",
       "      <td>were an English-based progressive rock band fo...</td>\n",
       "    </tr>\n",
       "    <tr>\n",
       "      <th>301</th>\n",
       "      <td>Bob Dylan</td>\n",
       "      <td>Blood on the Tracks</td>\n",
       "      <td>4.45</td>\n",
       "      <td>1586</td>\n",
       "      <td>US</td>\n",
       "      <td>1975</td>\n",
       "      <td>51.67</td>\n",
       "      <td>10</td>\n",
       "      <td>['Folk Rock', 'Acoustic', 'Ballad']</td>\n",
       "      <td>Born: May 24, 1941, Duluth, Minnesota, USA; si...</td>\n",
       "    </tr>\n",
       "    <tr>\n",
       "      <th>...</th>\n",
       "      <td>...</td>\n",
       "      <td>...</td>\n",
       "      <td>...</td>\n",
       "      <td>...</td>\n",
       "      <td>...</td>\n",
       "      <td>...</td>\n",
       "      <td>...</td>\n",
       "      <td>...</td>\n",
       "      <td>...</td>\n",
       "      <td>...</td>\n",
       "    </tr>\n",
       "    <tr>\n",
       "      <th>9628</th>\n",
       "      <td>Toad</td>\n",
       "      <td>Toad</td>\n",
       "      <td>3.81</td>\n",
       "      <td>27</td>\n",
       "      <td>Italy</td>\n",
       "      <td>1971</td>\n",
       "      <td>0.00</td>\n",
       "      <td>7</td>\n",
       "      <td>['Hard Rock']</td>\n",
       "      <td>Swiss rock group.</td>\n",
       "    </tr>\n",
       "    <tr>\n",
       "      <th>10392</th>\n",
       "      <td>Panchiko</td>\n",
       "      <td>D&gt;E&gt;A&gt;T&gt;H&gt;M&gt;E&gt;T&gt;A&gt;L</td>\n",
       "      <td>3.62</td>\n",
       "      <td>69</td>\n",
       "      <td>UK</td>\n",
       "      <td>2020</td>\n",
       "      <td>48.27</td>\n",
       "      <td>11</td>\n",
       "      <td>['Indie Pop', 'Indie Rock']</td>\n",
       "      <td>Four-piece band from Nottingham, UK formed in ...</td>\n",
       "    </tr>\n",
       "    <tr>\n",
       "      <th>10396</th>\n",
       "      <td>Jerry Garcia</td>\n",
       "      <td>Garcia</td>\n",
       "      <td>4.14</td>\n",
       "      <td>28</td>\n",
       "      <td>US</td>\n",
       "      <td>1972</td>\n",
       "      <td>40.07</td>\n",
       "      <td>10</td>\n",
       "      <td>['Folk Rock', 'Psychedelic Rock']</td>\n",
       "      <td>Guitar, Banjo, pedal steel guitar and vocals.\\...</td>\n",
       "    </tr>\n",
       "    <tr>\n",
       "      <th>10916</th>\n",
       "      <td>Panchiko</td>\n",
       "      <td>D&gt;E&gt;A&gt;T&gt;H&gt;M&gt;E&gt;T&gt;A&gt;L</td>\n",
       "      <td>3.79</td>\n",
       "      <td>29</td>\n",
       "      <td>UK</td>\n",
       "      <td>2020</td>\n",
       "      <td>48.27</td>\n",
       "      <td>11</td>\n",
       "      <td>['Indie Pop', 'Indie Rock']</td>\n",
       "      <td>Four-piece band from Nottingham, UK formed in ...</td>\n",
       "    </tr>\n",
       "    <tr>\n",
       "      <th>10917</th>\n",
       "      <td>Panchiko</td>\n",
       "      <td>D&gt;E&gt;A&gt;T&gt;H&gt;M&gt;E&gt;T&gt;A&gt;L</td>\n",
       "      <td>3.79</td>\n",
       "      <td>29</td>\n",
       "      <td>UK</td>\n",
       "      <td>2020</td>\n",
       "      <td>48.27</td>\n",
       "      <td>11</td>\n",
       "      <td>['Indie Pop', 'Indie Rock']</td>\n",
       "      <td>Four-piece band from Nottingham, UK formed in ...</td>\n",
       "    </tr>\n",
       "  </tbody>\n",
       "</table>\n",
       "<p>89 rows × 10 columns</p>\n",
       "</div>"
      ],
      "text/plain": [
       "             artist                    title  rating  votes release_country  \\\n",
       "75     Led Zeppelin             Led Zeppelin    4.25   4088              UK   \n",
       "144         The Who                    Tommy    4.08   1357              UK   \n",
       "187          Weezer                   Weezer    4.36   4264              US   \n",
       "278    King Crimson  Larks' Tongues in Aspic    4.29   1603              UK   \n",
       "301       Bob Dylan      Blood on the Tracks    4.45   1586              US   \n",
       "...             ...                      ...     ...    ...             ...   \n",
       "9628           Toad                     Toad    3.81     27           Italy   \n",
       "10392      Panchiko      D>E>A>T>H>M>E>T>A>L    3.62     69              UK   \n",
       "10396  Jerry Garcia                   Garcia    4.14     28              US   \n",
       "10916      Panchiko      D>E>A>T>H>M>E>T>A>L    3.79     29              UK   \n",
       "10917      Panchiko      D>E>A>T>H>M>E>T>A>L    3.79     29              UK   \n",
       "\n",
       "       year  album_length  tracks  \\\n",
       "75     1969         39.75       9   \n",
       "144    1969         76.60      24   \n",
       "187    1994         41.30      10   \n",
       "278    1973         46.62       6   \n",
       "301    1975         51.67      10   \n",
       "...     ...           ...     ...   \n",
       "9628   1971          0.00       7   \n",
       "10392  2020         48.27      11   \n",
       "10396  1972         40.07      10   \n",
       "10916  2020         48.27      11   \n",
       "10917  2020         48.27      11   \n",
       "\n",
       "                                             styles  \\\n",
       "75                      ['Blues Rock', 'Hard Rock']   \n",
       "144                  ['Rock Opera', 'Classic Rock']   \n",
       "187    ['Alternative Rock', 'Pop Rock', 'Pop Punk']   \n",
       "278                   ['Prog Rock', 'Experimental']   \n",
       "301             ['Folk Rock', 'Acoustic', 'Ballad']   \n",
       "...                                             ...   \n",
       "9628                                  ['Hard Rock']   \n",
       "10392                   ['Indie Pop', 'Indie Rock']   \n",
       "10396             ['Folk Rock', 'Psychedelic Rock']   \n",
       "10916                   ['Indie Pop', 'Indie Rock']   \n",
       "10917                   ['Indie Pop', 'Indie Rock']   \n",
       "\n",
       "                                          artist_profile  \n",
       "75     The English rock band Led Zeppelin was active ...  \n",
       "144    English rock band formed in Hammersmith, Londo...  \n",
       "187    Rock band from Los Angeles, California, US.\\r\\...  \n",
       "278    were an English-based progressive rock band fo...  \n",
       "301    Born: May 24, 1941, Duluth, Minnesota, USA; si...  \n",
       "...                                                  ...  \n",
       "9628                                   Swiss rock group.  \n",
       "10392  Four-piece band from Nottingham, UK formed in ...  \n",
       "10396  Guitar, Banjo, pedal steel guitar and vocals.\\...  \n",
       "10916  Four-piece band from Nottingham, UK formed in ...  \n",
       "10917  Four-piece band from Nottingham, UK formed in ...  \n",
       "\n",
       "[89 rows x 10 columns]"
      ]
     },
     "execution_count": 264,
     "metadata": {},
     "output_type": "execute_result"
    }
   ],
   "source": [
    "df[df[['artist', 'title']].duplicated()]"
   ]
  },
  {
   "cell_type": "code",
   "execution_count": 265,
   "metadata": {},
   "outputs": [
    {
     "data": {
      "text/html": [
       "<div>\n",
       "<style scoped>\n",
       "    .dataframe tbody tr th:only-of-type {\n",
       "        vertical-align: middle;\n",
       "    }\n",
       "\n",
       "    .dataframe tbody tr th {\n",
       "        vertical-align: top;\n",
       "    }\n",
       "\n",
       "    .dataframe thead th {\n",
       "        text-align: right;\n",
       "    }\n",
       "</style>\n",
       "<table border=\"1\" class=\"dataframe\">\n",
       "  <thead>\n",
       "    <tr style=\"text-align: right;\">\n",
       "      <th></th>\n",
       "      <th>artist</th>\n",
       "      <th>title</th>\n",
       "      <th>rating</th>\n",
       "      <th>votes</th>\n",
       "      <th>release_country</th>\n",
       "      <th>year</th>\n",
       "      <th>album_length</th>\n",
       "      <th>tracks</th>\n",
       "      <th>styles</th>\n",
       "      <th>artist_profile</th>\n",
       "    </tr>\n",
       "  </thead>\n",
       "  <tbody>\n",
       "    <tr>\n",
       "      <th>3421</th>\n",
       "      <td>Embrace</td>\n",
       "      <td>Embrace</td>\n",
       "      <td>3.99</td>\n",
       "      <td>309</td>\n",
       "      <td>Europe</td>\n",
       "      <td>2014</td>\n",
       "      <td>46.38</td>\n",
       "      <td>10</td>\n",
       "      <td>['Indie Rock', 'Indie Pop']</td>\n",
       "      <td>English post-Britpop band from Bailiff Bridge,...</td>\n",
       "    </tr>\n",
       "    <tr>\n",
       "      <th>3423</th>\n",
       "      <td>Embrace</td>\n",
       "      <td>Embrace</td>\n",
       "      <td>3.99</td>\n",
       "      <td>309</td>\n",
       "      <td>US</td>\n",
       "      <td>1987</td>\n",
       "      <td>0.00</td>\n",
       "      <td>14</td>\n",
       "      <td>['Emo', 'Hardcore']</td>\n",
       "      <td>Embrace was short-lived band from Washington, ...</td>\n",
       "    </tr>\n",
       "    <tr>\n",
       "      <th>3857</th>\n",
       "      <td>Drowning Pool</td>\n",
       "      <td>Drowning Pool</td>\n",
       "      <td>2.53</td>\n",
       "      <td>49</td>\n",
       "      <td>US</td>\n",
       "      <td>1987</td>\n",
       "      <td>0.00</td>\n",
       "      <td>9</td>\n",
       "      <td>['Art Rock', 'Goth Rock', 'Avantgarde', 'Exper...</td>\n",
       "      <td>Drowning Pool was an avant-rock ensemble that ...</td>\n",
       "    </tr>\n",
       "    <tr>\n",
       "      <th>4713</th>\n",
       "      <td>Evanescence</td>\n",
       "      <td>Evanescence</td>\n",
       "      <td>3.46</td>\n",
       "      <td>75</td>\n",
       "      <td>UK &amp; Europe</td>\n",
       "      <td>2011</td>\n",
       "      <td>47.28</td>\n",
       "      <td>12</td>\n",
       "      <td>['Alternative Rock']</td>\n",
       "      <td>Alternative Rock / Modern Rock band founded in...</td>\n",
       "    </tr>\n",
       "    <tr>\n",
       "      <th>6806</th>\n",
       "      <td>Drowning Pool</td>\n",
       "      <td>Drowning Pool</td>\n",
       "      <td>2.81</td>\n",
       "      <td>168</td>\n",
       "      <td>US</td>\n",
       "      <td>1987</td>\n",
       "      <td>0.00</td>\n",
       "      <td>9</td>\n",
       "      <td>['Art Rock', 'Goth Rock', 'Avantgarde', 'Exper...</td>\n",
       "      <td>Drowning Pool was an avant-rock ensemble that ...</td>\n",
       "    </tr>\n",
       "    <tr>\n",
       "      <th>7903</th>\n",
       "      <td>Evanescence</td>\n",
       "      <td>Evanescence</td>\n",
       "      <td>3.13</td>\n",
       "      <td>502</td>\n",
       "      <td>UK &amp; Europe</td>\n",
       "      <td>2011</td>\n",
       "      <td>47.28</td>\n",
       "      <td>12</td>\n",
       "      <td>['Alternative Rock']</td>\n",
       "      <td>Alternative Rock / Modern Rock band founded in...</td>\n",
       "    </tr>\n",
       "    <tr>\n",
       "      <th>9628</th>\n",
       "      <td>Toad</td>\n",
       "      <td>Toad</td>\n",
       "      <td>3.81</td>\n",
       "      <td>27</td>\n",
       "      <td>Italy</td>\n",
       "      <td>1971</td>\n",
       "      <td>0.00</td>\n",
       "      <td>7</td>\n",
       "      <td>['Hard Rock']</td>\n",
       "      <td>Swiss rock group.</td>\n",
       "    </tr>\n",
       "    <tr>\n",
       "      <th>10392</th>\n",
       "      <td>Panchiko</td>\n",
       "      <td>D&gt;E&gt;A&gt;T&gt;H&gt;M&gt;E&gt;T&gt;A&gt;L</td>\n",
       "      <td>3.62</td>\n",
       "      <td>69</td>\n",
       "      <td>UK</td>\n",
       "      <td>2020</td>\n",
       "      <td>48.27</td>\n",
       "      <td>11</td>\n",
       "      <td>['Indie Pop', 'Indie Rock']</td>\n",
       "      <td>Four-piece band from Nottingham, UK formed in ...</td>\n",
       "    </tr>\n",
       "    <tr>\n",
       "      <th>10917</th>\n",
       "      <td>Panchiko</td>\n",
       "      <td>D&gt;E&gt;A&gt;T&gt;H&gt;M&gt;E&gt;T&gt;A&gt;L</td>\n",
       "      <td>3.79</td>\n",
       "      <td>29</td>\n",
       "      <td>UK</td>\n",
       "      <td>2020</td>\n",
       "      <td>48.27</td>\n",
       "      <td>11</td>\n",
       "      <td>['Indie Pop', 'Indie Rock']</td>\n",
       "      <td>Four-piece band from Nottingham, UK formed in ...</td>\n",
       "    </tr>\n",
       "  </tbody>\n",
       "</table>\n",
       "</div>"
      ],
      "text/plain": [
       "              artist                title  rating  votes release_country  \\\n",
       "3421         Embrace              Embrace    3.99    309          Europe   \n",
       "3423         Embrace              Embrace    3.99    309              US   \n",
       "3857   Drowning Pool        Drowning Pool    2.53     49              US   \n",
       "4713     Evanescence          Evanescence    3.46     75     UK & Europe   \n",
       "6806   Drowning Pool        Drowning Pool    2.81    168              US   \n",
       "7903     Evanescence          Evanescence    3.13    502     UK & Europe   \n",
       "9628            Toad                 Toad    3.81     27           Italy   \n",
       "10392       Panchiko  D>E>A>T>H>M>E>T>A>L    3.62     69              UK   \n",
       "10917       Panchiko  D>E>A>T>H>M>E>T>A>L    3.79     29              UK   \n",
       "\n",
       "       year  album_length  tracks  \\\n",
       "3421   2014         46.38      10   \n",
       "3423   1987          0.00      14   \n",
       "3857   1987          0.00       9   \n",
       "4713   2011         47.28      12   \n",
       "6806   1987          0.00       9   \n",
       "7903   2011         47.28      12   \n",
       "9628   1971          0.00       7   \n",
       "10392  2020         48.27      11   \n",
       "10917  2020         48.27      11   \n",
       "\n",
       "                                                  styles  \\\n",
       "3421                         ['Indie Rock', 'Indie Pop']   \n",
       "3423                                 ['Emo', 'Hardcore']   \n",
       "3857   ['Art Rock', 'Goth Rock', 'Avantgarde', 'Exper...   \n",
       "4713                                ['Alternative Rock']   \n",
       "6806   ['Art Rock', 'Goth Rock', 'Avantgarde', 'Exper...   \n",
       "7903                                ['Alternative Rock']   \n",
       "9628                                       ['Hard Rock']   \n",
       "10392                        ['Indie Pop', 'Indie Rock']   \n",
       "10917                        ['Indie Pop', 'Indie Rock']   \n",
       "\n",
       "                                          artist_profile  \n",
       "3421   English post-Britpop band from Bailiff Bridge,...  \n",
       "3423   Embrace was short-lived band from Washington, ...  \n",
       "3857   Drowning Pool was an avant-rock ensemble that ...  \n",
       "4713   Alternative Rock / Modern Rock band founded in...  \n",
       "6806   Drowning Pool was an avant-rock ensemble that ...  \n",
       "7903   Alternative Rock / Modern Rock band founded in...  \n",
       "9628                                   Swiss rock group.  \n",
       "10392  Four-piece band from Nottingham, UK formed in ...  \n",
       "10917  Four-piece band from Nottingham, UK formed in ...  "
      ]
     },
     "execution_count": 265,
     "metadata": {},
     "output_type": "execute_result"
    }
   ],
   "source": [
    "df[df.duplicated()]"
   ]
  },
  {
   "cell_type": "code",
   "execution_count": 48,
   "metadata": {},
   "outputs": [
    {
     "data": {
      "text/html": [
       "<div>\n",
       "<style scoped>\n",
       "    .dataframe tbody tr th:only-of-type {\n",
       "        vertical-align: middle;\n",
       "    }\n",
       "\n",
       "    .dataframe tbody tr th {\n",
       "        vertical-align: top;\n",
       "    }\n",
       "\n",
       "    .dataframe thead th {\n",
       "        text-align: right;\n",
       "    }\n",
       "</style>\n",
       "<table border=\"1\" class=\"dataframe\">\n",
       "  <thead>\n",
       "    <tr style=\"text-align: right;\">\n",
       "      <th></th>\n",
       "      <th>year</th>\n",
       "      <th>artist</th>\n",
       "      <th>title</th>\n",
       "      <th>rating</th>\n",
       "      <th>votes</th>\n",
       "      <th>album_length</th>\n",
       "      <th>tracks</th>\n",
       "      <th>styles</th>\n",
       "      <th>release_country</th>\n",
       "      <th>artist_profile</th>\n",
       "    </tr>\n",
       "  </thead>\n",
       "  <tbody>\n",
       "    <tr>\n",
       "      <th>4644</th>\n",
       "      <td>1965</td>\n",
       "      <td>The Animals</td>\n",
       "      <td>Animal Tracks</td>\n",
       "      <td>3.68</td>\n",
       "      <td>11</td>\n",
       "      <td>0.0</td>\n",
       "      <td>11</td>\n",
       "      <td>['Rhythm &amp; Blues']</td>\n",
       "      <td>UK</td>\n",
       "      <td>British blues rock band formed in the early 19...</td>\n",
       "    </tr>\n",
       "    <tr>\n",
       "      <th>4645</th>\n",
       "      <td>1965</td>\n",
       "      <td>The Animals</td>\n",
       "      <td>Animal Tracks</td>\n",
       "      <td>3.60</td>\n",
       "      <td>10</td>\n",
       "      <td>0.0</td>\n",
       "      <td>11</td>\n",
       "      <td>['Rhythm &amp; Blues']</td>\n",
       "      <td>UK</td>\n",
       "      <td>British blues rock band formed in the early 19...</td>\n",
       "    </tr>\n",
       "  </tbody>\n",
       "</table>\n",
       "</div>"
      ],
      "text/plain": [
       "      year       artist          title  rating  votes  album_length  tracks  \\\n",
       "4644  1965  The Animals  Animal Tracks    3.68     11           0.0      11   \n",
       "4645  1965  The Animals  Animal Tracks    3.60     10           0.0      11   \n",
       "\n",
       "                  styles release_country  \\\n",
       "4644  ['Rhythm & Blues']              UK   \n",
       "4645  ['Rhythm & Blues']              UK   \n",
       "\n",
       "                                         artist_profile  \n",
       "4644  British blues rock band formed in the early 19...  \n",
       "4645  British blues rock band formed in the early 19...  "
      ]
     },
     "execution_count": 48,
     "metadata": {},
     "output_type": "execute_result"
    }
   ],
   "source": [
    "df[df['title']=='Animal Tracks']"
   ]
  },
  {
   "cell_type": "code",
   "execution_count": 52,
   "metadata": {},
   "outputs": [
    {
     "data": {
      "text/html": [
       "<div>\n",
       "<style scoped>\n",
       "    .dataframe tbody tr th:only-of-type {\n",
       "        vertical-align: middle;\n",
       "    }\n",
       "\n",
       "    .dataframe tbody tr th {\n",
       "        vertical-align: top;\n",
       "    }\n",
       "\n",
       "    .dataframe thead th {\n",
       "        text-align: right;\n",
       "    }\n",
       "</style>\n",
       "<table border=\"1\" class=\"dataframe\">\n",
       "  <thead>\n",
       "    <tr style=\"text-align: right;\">\n",
       "      <th></th>\n",
       "      <th>album_id</th>\n",
       "      <th>artist</th>\n",
       "      <th>title</th>\n",
       "      <th>rating</th>\n",
       "      <th>votes</th>\n",
       "    </tr>\n",
       "  </thead>\n",
       "  <tbody>\n",
       "    <tr>\n",
       "      <th>19213</th>\n",
       "      <td>30855</td>\n",
       "      <td>The Animals</td>\n",
       "      <td>Animal Tracks</td>\n",
       "      <td>3.68</td>\n",
       "      <td>11</td>\n",
       "    </tr>\n",
       "  </tbody>\n",
       "</table>\n",
       "</div>"
      ],
      "text/plain": [
       "       album_id       artist          title  rating  votes\n",
       "19213     30855  The Animals  Animal Tracks    3.68     11"
      ]
     },
     "execution_count": 52,
     "metadata": {},
     "output_type": "execute_result"
    }
   ],
   "source": [
    "df_ratings_top[df_ratings_top['title']=='Animal Tracks']"
   ]
  },
  {
   "cell_type": "code",
   "execution_count": 50,
   "metadata": {},
   "outputs": [
    {
     "data": {
      "text/plain": [
       "(79626, 5)"
      ]
     },
     "execution_count": 50,
     "metadata": {},
     "output_type": "execute_result"
    }
   ],
   "source": [
    "df_ratings_top.shape"
   ]
  },
  {
   "cell_type": "code",
   "execution_count": 51,
   "metadata": {},
   "outputs": [
    {
     "data": {
      "text/plain": [
       "(79625, 5)"
      ]
     },
     "execution_count": 51,
     "metadata": {},
     "output_type": "execute_result"
    }
   ],
   "source": [
    "df_ratings_top.drop([19214], inplace=True)\n",
    "df_ratings_top.shape"
   ]
  },
  {
   "cell_type": "code",
   "execution_count": 11,
   "metadata": {},
   "outputs": [
    {
     "data": {
      "text/html": [
       "<div>\n",
       "<style scoped>\n",
       "    .dataframe tbody tr th:only-of-type {\n",
       "        vertical-align: middle;\n",
       "    }\n",
       "\n",
       "    .dataframe tbody tr th {\n",
       "        vertical-align: top;\n",
       "    }\n",
       "\n",
       "    .dataframe thead th {\n",
       "        text-align: right;\n",
       "    }\n",
       "</style>\n",
       "<table border=\"1\" class=\"dataframe\">\n",
       "  <thead>\n",
       "    <tr style=\"text-align: right;\">\n",
       "      <th></th>\n",
       "      <th>artist</th>\n",
       "      <th>title</th>\n",
       "      <th>rating</th>\n",
       "      <th>votes</th>\n",
       "      <th>release_country</th>\n",
       "      <th>year</th>\n",
       "      <th>album_length</th>\n",
       "      <th>tracks</th>\n",
       "      <th>styles</th>\n",
       "      <th>artist_profile</th>\n",
       "    </tr>\n",
       "  </thead>\n",
       "  <tbody>\n",
       "    <tr>\n",
       "      <th>0</th>\n",
       "      <td>Sparta</td>\n",
       "      <td>Wiretap Scars</td>\n",
       "      <td>3.79</td>\n",
       "      <td>431</td>\n",
       "      <td>US</td>\n",
       "      <td>2002</td>\n",
       "      <td>47.62</td>\n",
       "      <td>12</td>\n",
       "      <td>['Indie Rock', 'Alternative Rock']</td>\n",
       "      <td>El Paso, Texas based band. Formed in 2001 afte...</td>\n",
       "    </tr>\n",
       "    <tr>\n",
       "      <th>1</th>\n",
       "      <td>Muse</td>\n",
       "      <td>Absolution</td>\n",
       "      <td>3.99</td>\n",
       "      <td>4411</td>\n",
       "      <td>Europe</td>\n",
       "      <td>2003</td>\n",
       "      <td>52.18</td>\n",
       "      <td>14</td>\n",
       "      <td>['Alternative Rock']</td>\n",
       "      <td>Muse are an English rock band from Teignmouth,...</td>\n",
       "    </tr>\n",
       "    <tr>\n",
       "      <th>2</th>\n",
       "      <td>Muse</td>\n",
       "      <td>Showbiz</td>\n",
       "      <td>3.50</td>\n",
       "      <td>2181</td>\n",
       "      <td>UK</td>\n",
       "      <td>1999</td>\n",
       "      <td>49.65</td>\n",
       "      <td>12</td>\n",
       "      <td>['Alternative Rock', 'Prog Rock']</td>\n",
       "      <td>Muse are an English rock band from Teignmouth,...</td>\n",
       "    </tr>\n",
       "    <tr>\n",
       "      <th>3</th>\n",
       "      <td>Finch</td>\n",
       "      <td>What It Is to Burn</td>\n",
       "      <td>3.69</td>\n",
       "      <td>864</td>\n",
       "      <td>US</td>\n",
       "      <td>2002</td>\n",
       "      <td>61.18</td>\n",
       "      <td>13</td>\n",
       "      <td>['Emo', 'Post-Hardcore', 'Alternative Rock']</td>\n",
       "      <td>Finch is a post-hardcore band from Temecula, C...</td>\n",
       "    </tr>\n",
       "    <tr>\n",
       "      <th>4</th>\n",
       "      <td>Transplants</td>\n",
       "      <td>Transplants</td>\n",
       "      <td>3.35</td>\n",
       "      <td>198</td>\n",
       "      <td>US</td>\n",
       "      <td>2002</td>\n",
       "      <td>45.23</td>\n",
       "      <td>12</td>\n",
       "      <td>['Punk']</td>\n",
       "      <td>Punk rock/rap rock band Los Angeles, CA, Unite...</td>\n",
       "    </tr>\n",
       "  </tbody>\n",
       "</table>\n",
       "</div>"
      ],
      "text/plain": [
       "        artist               title  rating  votes release_country  year  \\\n",
       "0       Sparta       Wiretap Scars    3.79    431              US  2002   \n",
       "1         Muse          Absolution    3.99   4411          Europe  2003   \n",
       "2         Muse             Showbiz    3.50   2181              UK  1999   \n",
       "3        Finch  What It Is to Burn    3.69    864              US  2002   \n",
       "4  Transplants         Transplants    3.35    198              US  2002   \n",
       "\n",
       "   album_length  tracks                                        styles  \\\n",
       "0         47.62      12            ['Indie Rock', 'Alternative Rock']   \n",
       "1         52.18      14                          ['Alternative Rock']   \n",
       "2         49.65      12             ['Alternative Rock', 'Prog Rock']   \n",
       "3         61.18      13  ['Emo', 'Post-Hardcore', 'Alternative Rock']   \n",
       "4         45.23      12                                      ['Punk']   \n",
       "\n",
       "                                      artist_profile  \n",
       "0  El Paso, Texas based band. Formed in 2001 afte...  \n",
       "1  Muse are an English rock band from Teignmouth,...  \n",
       "2  Muse are an English rock band from Teignmouth,...  \n",
       "3  Finch is a post-hardcore band from Temecula, C...  \n",
       "4  Punk rock/rap rock band Los Angeles, CA, Unite...  "
      ]
     },
     "execution_count": 11,
     "metadata": {},
     "output_type": "execute_result"
    }
   ],
   "source": [
    "df.head()"
   ]
  },
  {
   "cell_type": "markdown",
   "metadata": {},
   "source": [
    "## Sort columns"
   ]
  },
  {
   "cell_type": "code",
   "execution_count": 266,
   "metadata": {},
   "outputs": [
    {
     "data": {
      "text/plain": [
       "Index(['artist', 'title', 'rating', 'votes', 'release_country', 'year',\n",
       "       'album_length', 'tracks', 'styles', 'artist_profile'],\n",
       "      dtype='object')"
      ]
     },
     "execution_count": 266,
     "metadata": {},
     "output_type": "execute_result"
    }
   ],
   "source": [
    "df.columns"
   ]
  },
  {
   "cell_type": "code",
   "execution_count": 267,
   "metadata": {},
   "outputs": [
    {
     "data": {
      "text/html": [
       "<div>\n",
       "<style scoped>\n",
       "    .dataframe tbody tr th:only-of-type {\n",
       "        vertical-align: middle;\n",
       "    }\n",
       "\n",
       "    .dataframe tbody tr th {\n",
       "        vertical-align: top;\n",
       "    }\n",
       "\n",
       "    .dataframe thead th {\n",
       "        text-align: right;\n",
       "    }\n",
       "</style>\n",
       "<table border=\"1\" class=\"dataframe\">\n",
       "  <thead>\n",
       "    <tr style=\"text-align: right;\">\n",
       "      <th></th>\n",
       "      <th>year</th>\n",
       "      <th>artist</th>\n",
       "      <th>title</th>\n",
       "      <th>rating</th>\n",
       "      <th>votes</th>\n",
       "      <th>album_length</th>\n",
       "      <th>tracks</th>\n",
       "      <th>styles</th>\n",
       "      <th>release_country</th>\n",
       "      <th>artist_profile</th>\n",
       "    </tr>\n",
       "  </thead>\n",
       "  <tbody>\n",
       "    <tr>\n",
       "      <th>0</th>\n",
       "      <td>2002</td>\n",
       "      <td>Sparta</td>\n",
       "      <td>Wiretap Scars</td>\n",
       "      <td>3.79</td>\n",
       "      <td>431</td>\n",
       "      <td>47.62</td>\n",
       "      <td>12</td>\n",
       "      <td>['Indie Rock', 'Alternative Rock']</td>\n",
       "      <td>US</td>\n",
       "      <td>El Paso, Texas based band. Formed in 2001 afte...</td>\n",
       "    </tr>\n",
       "    <tr>\n",
       "      <th>1</th>\n",
       "      <td>2003</td>\n",
       "      <td>Muse</td>\n",
       "      <td>Absolution</td>\n",
       "      <td>3.99</td>\n",
       "      <td>4411</td>\n",
       "      <td>52.18</td>\n",
       "      <td>14</td>\n",
       "      <td>['Alternative Rock']</td>\n",
       "      <td>Europe</td>\n",
       "      <td>Muse are an English rock band from Teignmouth,...</td>\n",
       "    </tr>\n",
       "    <tr>\n",
       "      <th>2</th>\n",
       "      <td>1999</td>\n",
       "      <td>Muse</td>\n",
       "      <td>Showbiz</td>\n",
       "      <td>3.50</td>\n",
       "      <td>2181</td>\n",
       "      <td>49.65</td>\n",
       "      <td>12</td>\n",
       "      <td>['Alternative Rock', 'Prog Rock']</td>\n",
       "      <td>UK</td>\n",
       "      <td>Muse are an English rock band from Teignmouth,...</td>\n",
       "    </tr>\n",
       "    <tr>\n",
       "      <th>3</th>\n",
       "      <td>2002</td>\n",
       "      <td>Finch</td>\n",
       "      <td>What It Is to Burn</td>\n",
       "      <td>3.69</td>\n",
       "      <td>864</td>\n",
       "      <td>61.18</td>\n",
       "      <td>13</td>\n",
       "      <td>['Emo', 'Post-Hardcore', 'Alternative Rock']</td>\n",
       "      <td>US</td>\n",
       "      <td>Finch is a post-hardcore band from Temecula, C...</td>\n",
       "    </tr>\n",
       "    <tr>\n",
       "      <th>4</th>\n",
       "      <td>2002</td>\n",
       "      <td>Queens of the Stone Age</td>\n",
       "      <td>Songs for the Deaf</td>\n",
       "      <td>4.26</td>\n",
       "      <td>4386</td>\n",
       "      <td>59.35</td>\n",
       "      <td>15</td>\n",
       "      <td>['Stoner Rock', 'Hard Rock']</td>\n",
       "      <td>US</td>\n",
       "      <td>Alternative Rock/Stoner band formed in 1997 in...</td>\n",
       "    </tr>\n",
       "  </tbody>\n",
       "</table>\n",
       "</div>"
      ],
      "text/plain": [
       "   year                   artist               title  rating  votes  \\\n",
       "0  2002                   Sparta       Wiretap Scars    3.79    431   \n",
       "1  2003                     Muse          Absolution    3.99   4411   \n",
       "2  1999                     Muse             Showbiz    3.50   2181   \n",
       "3  2002                    Finch  What It Is to Burn    3.69    864   \n",
       "4  2002  Queens of the Stone Age  Songs for the Deaf    4.26   4386   \n",
       "\n",
       "   album_length  tracks                                        styles  \\\n",
       "0         47.62      12            ['Indie Rock', 'Alternative Rock']   \n",
       "1         52.18      14                          ['Alternative Rock']   \n",
       "2         49.65      12             ['Alternative Rock', 'Prog Rock']   \n",
       "3         61.18      13  ['Emo', 'Post-Hardcore', 'Alternative Rock']   \n",
       "4         59.35      15                  ['Stoner Rock', 'Hard Rock']   \n",
       "\n",
       "  release_country                                     artist_profile  \n",
       "0              US  El Paso, Texas based band. Formed in 2001 afte...  \n",
       "1          Europe  Muse are an English rock band from Teignmouth,...  \n",
       "2              UK  Muse are an English rock band from Teignmouth,...  \n",
       "3              US  Finch is a post-hardcore band from Temecula, C...  \n",
       "4              US  Alternative Rock/Stoner band formed in 1997 in...  "
      ]
     },
     "execution_count": 267,
     "metadata": {},
     "output_type": "execute_result"
    }
   ],
   "source": [
    "list_of_columns = ['year', 'artist', 'title', 'rating', 'votes', 'album_length', 'tracks', 'styles', 'release_country', 'artist_profile']\n",
    "df = df.reindex(columns=list_of_columns)\n",
    "df.head()"
   ]
  },
  {
   "cell_type": "code",
   "execution_count": 268,
   "metadata": {},
   "outputs": [],
   "source": [
    "# since there are still many artists from outside the UK, I will name it 'df_uk_rock_ratings' after merging with the locations and dropping these non-brittish artists\n",
    "df.to_csv('Datasets/df_blend_ratings.csv', index=False)"
   ]
  },
  {
   "cell_type": "markdown",
   "metadata": {},
   "source": [
    "# **Statistics**"
   ]
  },
  {
   "cell_type": "code",
   "execution_count": 3,
   "metadata": {},
   "outputs": [
    {
     "data": {
      "text/plain": [
       "(12059, 10)"
      ]
     },
     "execution_count": 3,
     "metadata": {},
     "output_type": "execute_result"
    }
   ],
   "source": [
    "# import the df\n",
    "df = pd.read_csv('Datasets/df_rock_ratings.csv')\n",
    "df.shape "
   ]
  },
  {
   "cell_type": "code",
   "execution_count": 10,
   "metadata": {},
   "outputs": [
    {
     "data": {
      "text/plain": [
       "5095"
      ]
     },
     "execution_count": 10,
     "metadata": {},
     "output_type": "execute_result"
    }
   ],
   "source": [
    "df.artist.nunique()"
   ]
  },
  {
   "cell_type": "code",
   "execution_count": 4,
   "metadata": {},
   "outputs": [
    {
     "data": {
      "text/plain": [
       "199.27423501119495"
      ]
     },
     "execution_count": 4,
     "metadata": {},
     "output_type": "execute_result"
    }
   ],
   "source": [
    "# average number of votes\n",
    "np.mean(df['votes'])"
   ]
  },
  {
   "cell_type": "code",
   "execution_count": 5,
   "metadata": {},
   "outputs": [
    {
     "data": {
      "text/plain": [
       "<Axes: xlabel='rating', ylabel='Count'>"
      ]
     },
     "execution_count": 5,
     "metadata": {},
     "output_type": "execute_result"
    },
    {
     "data": {
      "image/png": "[encoded data removed]",
      "text/plain": [
       "<Figure size 1000x300 with 1 Axes>"
      ]
     },
     "metadata": {},
     "output_type": "display_data"
    }
   ],
   "source": [
    "plt.figure(figsize=(10,3))\n",
    "sns.histplot(data=df[df['votes']>100], x='rating')"
   ]
  },
  {
   "cell_type": "code",
   "execution_count": 6,
   "metadata": {},
   "outputs": [
    {
     "data": {
      "text/plain": [
       "<Axes: xlabel='votes', ylabel='Count'>"
      ]
     },
     "execution_count": 6,
     "metadata": {},
     "output_type": "execute_result"
    },
    {
     "data": {
      "image/png": "[encoded data removed]",
      "text/plain": [
       "<Figure size 1000x300 with 1 Axes>"
      ]
     },
     "metadata": {},
     "output_type": "display_data"
    }
   ],
   "source": [
    "plt.figure(figsize=(10,3))\n",
    "sns.histplot(data=df, x='votes', bins=30)"
   ]
  },
  {
   "cell_type": "code",
   "execution_count": 17,
   "metadata": {},
   "outputs": [
    {
     "data": {
      "text/plain": [
       "(9380, 10)"
      ]
     },
     "execution_count": 17,
     "metadata": {},
     "output_type": "execute_result"
    }
   ],
   "source": [
    "df[df['votes']>=20].shape"
   ]
  },
  {
   "cell_type": "code",
   "execution_count": 20,
   "metadata": {},
   "outputs": [
    {
     "data": {
      "text/plain": [
       "3823"
      ]
     },
     "execution_count": 20,
     "metadata": {},
     "output_type": "execute_result"
    }
   ],
   "source": [
    "df[df['votes']>=20].artist.nunique()"
   ]
  },
  {
   "cell_type": "code",
   "execution_count": 44,
   "metadata": {},
   "outputs": [
    {
     "name": "stdout",
     "output_type": "stream",
     "text": [
      "9380 of 12059 albums have more than 20 votes\n",
      "This represents 77.78 % of the albums\n"
     ]
    }
   ],
   "source": [
    "votes = 20\n",
    "\n",
    "print(f\"{df[df['votes']>=votes].shape[0]} of {df.shape[0]} albums have more than {votes} votes\")\n",
    "print(f\"This represents {round(df[df['votes']>=votes].shape[0] / df.shape[0] *100, 2)} % of the albums\")"
   ]
  },
  {
   "cell_type": "code",
   "execution_count": 45,
   "metadata": {},
   "outputs": [
    {
     "data": {
      "text/plain": [
       "(9380, 10)"
      ]
     },
     "execution_count": 45,
     "metadata": {},
     "output_type": "execute_result"
    }
   ],
   "source": [
    "df_rock_ratings_20 = df[df['votes']>=20]\n",
    "df_rock_ratings_20.shape"
   ]
  },
  {
   "cell_type": "code",
   "execution_count": 46,
   "metadata": {},
   "outputs": [
    {
     "data": {
      "text/html": [
       "<div>\n",
       "<style scoped>\n",
       "    .dataframe tbody tr th:only-of-type {\n",
       "        vertical-align: middle;\n",
       "    }\n",
       "\n",
       "    .dataframe tbody tr th {\n",
       "        vertical-align: top;\n",
       "    }\n",
       "\n",
       "    .dataframe thead th {\n",
       "        text-align: right;\n",
       "    }\n",
       "</style>\n",
       "<table border=\"1\" class=\"dataframe\">\n",
       "  <thead>\n",
       "    <tr style=\"text-align: right;\">\n",
       "      <th></th>\n",
       "      <th>year</th>\n",
       "      <th>artist</th>\n",
       "      <th>title</th>\n",
       "      <th>rating</th>\n",
       "      <th>votes</th>\n",
       "      <th>album_length</th>\n",
       "      <th>tracks</th>\n",
       "      <th>styles</th>\n",
       "      <th>release_country</th>\n",
       "      <th>artist_profile</th>\n",
       "    </tr>\n",
       "  </thead>\n",
       "  <tbody>\n",
       "    <tr>\n",
       "      <th>0</th>\n",
       "      <td>2002</td>\n",
       "      <td>Sparta</td>\n",
       "      <td>Wiretap Scars</td>\n",
       "      <td>3.79</td>\n",
       "      <td>431</td>\n",
       "      <td>47.62</td>\n",
       "      <td>12</td>\n",
       "      <td>['Indie Rock', 'Alternative Rock']</td>\n",
       "      <td>US</td>\n",
       "      <td>El Paso, Texas based band. Formed in 2001 afte...</td>\n",
       "    </tr>\n",
       "    <tr>\n",
       "      <th>1</th>\n",
       "      <td>2003</td>\n",
       "      <td>Muse</td>\n",
       "      <td>Absolution</td>\n",
       "      <td>3.99</td>\n",
       "      <td>4411</td>\n",
       "      <td>52.18</td>\n",
       "      <td>14</td>\n",
       "      <td>['Alternative Rock']</td>\n",
       "      <td>Europe</td>\n",
       "      <td>Muse are an English rock band from Teignmouth,...</td>\n",
       "    </tr>\n",
       "    <tr>\n",
       "      <th>2</th>\n",
       "      <td>1999</td>\n",
       "      <td>Muse</td>\n",
       "      <td>Showbiz</td>\n",
       "      <td>3.50</td>\n",
       "      <td>2181</td>\n",
       "      <td>49.65</td>\n",
       "      <td>12</td>\n",
       "      <td>['Alternative Rock', 'Prog Rock']</td>\n",
       "      <td>UK</td>\n",
       "      <td>Muse are an English rock band from Teignmouth,...</td>\n",
       "    </tr>\n",
       "    <tr>\n",
       "      <th>3</th>\n",
       "      <td>2002</td>\n",
       "      <td>Finch</td>\n",
       "      <td>What It Is to Burn</td>\n",
       "      <td>3.69</td>\n",
       "      <td>864</td>\n",
       "      <td>61.18</td>\n",
       "      <td>13</td>\n",
       "      <td>['Emo', 'Post-Hardcore', 'Alternative Rock']</td>\n",
       "      <td>US</td>\n",
       "      <td>Finch is a post-hardcore band from Temecula, C...</td>\n",
       "    </tr>\n",
       "    <tr>\n",
       "      <th>4</th>\n",
       "      <td>2002</td>\n",
       "      <td>Transplants</td>\n",
       "      <td>Transplants</td>\n",
       "      <td>3.35</td>\n",
       "      <td>198</td>\n",
       "      <td>45.23</td>\n",
       "      <td>12</td>\n",
       "      <td>['Punk']</td>\n",
       "      <td>US</td>\n",
       "      <td>Punk rock/rap rock band Los Angeles, CA, Unite...</td>\n",
       "    </tr>\n",
       "  </tbody>\n",
       "</table>\n",
       "</div>"
      ],
      "text/plain": [
       "   year       artist               title  rating  votes  album_length  tracks  \\\n",
       "0  2002       Sparta       Wiretap Scars    3.79    431         47.62      12   \n",
       "1  2003         Muse          Absolution    3.99   4411         52.18      14   \n",
       "2  1999         Muse             Showbiz    3.50   2181         49.65      12   \n",
       "3  2002        Finch  What It Is to Burn    3.69    864         61.18      13   \n",
       "4  2002  Transplants         Transplants    3.35    198         45.23      12   \n",
       "\n",
       "                                         styles release_country  \\\n",
       "0            ['Indie Rock', 'Alternative Rock']              US   \n",
       "1                          ['Alternative Rock']          Europe   \n",
       "2             ['Alternative Rock', 'Prog Rock']              UK   \n",
       "3  ['Emo', 'Post-Hardcore', 'Alternative Rock']              US   \n",
       "4                                      ['Punk']              US   \n",
       "\n",
       "                                      artist_profile  \n",
       "0  El Paso, Texas based band. Formed in 2001 afte...  \n",
       "1  Muse are an English rock band from Teignmouth,...  \n",
       "2  Muse are an English rock band from Teignmouth,...  \n",
       "3  Finch is a post-hardcore band from Temecula, C...  \n",
       "4  Punk rock/rap rock band Los Angeles, CA, Unite...  "
      ]
     },
     "execution_count": 46,
     "metadata": {},
     "output_type": "execute_result"
    }
   ],
   "source": [
    "df_rock_ratings_20.head()"
   ]
  },
  {
   "cell_type": "code",
   "execution_count": 47,
   "metadata": {},
   "outputs": [],
   "source": [
    "df_rock_ratings_20.to_csv('Datasets/df_rock_ratings_20.csv', index=False)"
   ]
  }
 ],
 "metadata": {
  "kernelspec": {
   "display_name": "base",
   "language": "python",
   "name": "python3"
  },
  "language_info": {
   "codemirror_mode": {
    "name": "ipython",
    "version": 3
   },
   "file_extension": ".py",
   "mimetype": "text/x-python",
   "name": "python",
   "nbconvert_exporter": "python",
   "pygments_lexer": "ipython3",
   "version": "3.12.4"
  }
 },
 "nbformat": 4,
 "nbformat_minor": 2
}
