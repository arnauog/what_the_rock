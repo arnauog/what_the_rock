{
 "cells": [
  {
   "cell_type": "code",
   "execution_count": 2,
   "metadata": {},
   "outputs": [],
   "source": [
    "import numpy as np\n",
    "import pandas as pd\n",
    "from pandas import json_normalize\n",
    "import seaborn as sns\n",
    "import matplotlib.pyplot as plt\n",
    "\n",
    "from bs4 import BeautifulSoup\n",
    "import requests \n",
    "import time\n",
    "\n",
    "from selenium import webdriver \n",
    "from selenium.webdriver.common.keys import Keys \n",
    "from selenium.webdriver.common.by import By\n",
    "from selenium.webdriver.support.ui import WebDriverWait\n",
    "from selenium.webdriver.support import expected_conditions as EC\n",
    "\n",
    "from geopy.geocoders import Nominatim\n",
    "\n",
    "import warnings\n",
    "warnings.filterwarnings(\"ignore\")\n",
    "\n",
    "from my_functions import *"
   ]
  },
  {
   "cell_type": "code",
   "execution_count": 137,
   "metadata": {},
   "outputs": [
    {
     "data": {
      "text/plain": [
       "(56660, 13)"
      ]
     },
     "execution_count": 137,
     "metadata": {},
     "output_type": "execute_result"
    }
   ],
   "source": [
    "# all rock releases in the UK\n",
    "df_masters_scrapped = pd.read_csv('Datasets/df_masters.csv')\n",
    "df_masters_scrapped.shape"
   ]
  },
  {
   "cell_type": "code",
   "execution_count": 144,
   "metadata": {},
   "outputs": [
    {
     "data": {
      "text/html": [
       "<div>\n",
       "<style scoped>\n",
       "    .dataframe tbody tr th:only-of-type {\n",
       "        vertical-align: middle;\n",
       "    }\n",
       "\n",
       "    .dataframe tbody tr th {\n",
       "        vertical-align: top;\n",
       "    }\n",
       "\n",
       "    .dataframe thead th {\n",
       "        text-align: right;\n",
       "    }\n",
       "</style>\n",
       "<table border=\"1\" class=\"dataframe\">\n",
       "  <thead>\n",
       "    <tr style=\"text-align: right;\">\n",
       "      <th></th>\n",
       "      <th>artist_id</th>\n",
       "      <th>master_id</th>\n",
       "      <th>main_release_id</th>\n",
       "      <th>release_country</th>\n",
       "      <th>artist</th>\n",
       "      <th>title</th>\n",
       "      <th>year</th>\n",
       "      <th>album_length</th>\n",
       "      <th>tracks</th>\n",
       "      <th>release_type</th>\n",
       "      <th>genres</th>\n",
       "      <th>styles</th>\n",
       "      <th>artist_profile</th>\n",
       "    </tr>\n",
       "  </thead>\n",
       "  <tbody>\n",
       "    <tr>\n",
       "      <th>50199</th>\n",
       "      <td>192160.0</td>\n",
       "      <td>375118.0</td>\n",
       "      <td>3845130</td>\n",
       "      <td>US</td>\n",
       "      <td>Chubby Checker</td>\n",
       "      <td>For Twisters Only</td>\n",
       "      <td>1960</td>\n",
       "      <td>28.93</td>\n",
       "      <td>12</td>\n",
       "      <td>['LP', 'Album', 'Mono']</td>\n",
       "      <td>['Rock']</td>\n",
       "      <td>['Rock &amp; Roll', 'Rhythm &amp; Blues', 'Twist']</td>\n",
       "      <td>American rock’n’roll vocalist, best known for ...</td>\n",
       "    </tr>\n",
       "  </tbody>\n",
       "</table>\n",
       "</div>"
      ],
      "text/plain": [
       "       artist_id  master_id  main_release_id release_country          artist  \\\n",
       "50199   192160.0   375118.0          3845130              US  Chubby Checker   \n",
       "\n",
       "                   title  year  album_length  tracks             release_type  \\\n",
       "50199  For Twisters Only  1960         28.93      12  ['LP', 'Album', 'Mono']   \n",
       "\n",
       "         genres                                      styles  \\\n",
       "50199  ['Rock']  ['Rock & Roll', 'Rhythm & Blues', 'Twist']   \n",
       "\n",
       "                                          artist_profile  \n",
       "50199  American rock’n’roll vocalist, best known for ...  "
      ]
     },
     "execution_count": 144,
     "metadata": {},
     "output_type": "execute_result"
    }
   ],
   "source": [
    "df_masters_scrapped[df_masters_scrapped['master_id']==375118]"
   ]
  },
  {
   "cell_type": "markdown",
   "metadata": {},
   "source": [
    "# **1. Merge ``df_masters`` & ``df_ratings``**"
   ]
  },
  {
   "cell_type": "code",
   "execution_count": 126,
   "metadata": {},
   "outputs": [
    {
     "name": "stdout",
     "output_type": "stream",
     "text": [
      "(1685, 13): df_masters_id0_1998\n",
      "(12060, 13): df_uk_rock_ratings\n",
      "(79626, 5): df_ratings_top\n"
     ]
    }
   ],
   "source": [
    "# import the dataframes\n",
    "df_masters = pd.read_csv('Datasets/df_masters_id0_1998.csv')                         # all rock releases in the UK\n",
    "df_uk_rock_ratings = pd.read_csv('Datasets/df_uk_rock_ratings.csv')                 # df with the albums already cleaned\n",
    "df_ratings_top = pd.read_csv('Datasets/df_ratings_top.csv', keep_default_na=False)  # all ratings, mostly from rock, worldwide\n",
    "\n",
    "# print information\n",
    "print(f'{df_masters.shape}: df_masters_id0_1998')\n",
    "print(f'{df_uk_rock_ratings.shape}: df_uk_rock_ratings')\n",
    "print(f'{df_ratings_top.shape}: df_ratings_top')"
   ]
  },
  {
   "cell_type": "code",
   "execution_count": 63,
   "metadata": {},
   "outputs": [
    {
     "data": {
      "text/html": [
       "<div>\n",
       "<style scoped>\n",
       "    .dataframe tbody tr th:only-of-type {\n",
       "        vertical-align: middle;\n",
       "    }\n",
       "\n",
       "    .dataframe tbody tr th {\n",
       "        vertical-align: top;\n",
       "    }\n",
       "\n",
       "    .dataframe thead th {\n",
       "        text-align: right;\n",
       "    }\n",
       "</style>\n",
       "<table border=\"1\" class=\"dataframe\">\n",
       "  <thead>\n",
       "    <tr style=\"text-align: right;\">\n",
       "      <th></th>\n",
       "      <th>album_id</th>\n",
       "      <th>artist</th>\n",
       "      <th>title</th>\n",
       "      <th>rating</th>\n",
       "      <th>votes</th>\n",
       "    </tr>\n",
       "  </thead>\n",
       "  <tbody>\n",
       "    <tr>\n",
       "      <th>0</th>\n",
       "      <td>37</td>\n",
       "      <td>Less Than Jake</td>\n",
       "      <td>Losing Streak</td>\n",
       "      <td>3.9</td>\n",
       "      <td>414</td>\n",
       "    </tr>\n",
       "  </tbody>\n",
       "</table>\n",
       "</div>"
      ],
      "text/plain": [
       "   album_id          artist          title  rating  votes\n",
       "0        37  Less Than Jake  Losing Streak     3.9    414"
      ]
     },
     "execution_count": 63,
     "metadata": {},
     "output_type": "execute_result"
    }
   ],
   "source": [
    "df_ratings_top.head(1)"
   ]
  },
  {
   "cell_type": "code",
   "execution_count": 64,
   "metadata": {},
   "outputs": [
    {
     "data": {
      "text/html": [
       "<div>\n",
       "<style scoped>\n",
       "    .dataframe tbody tr th:only-of-type {\n",
       "        vertical-align: middle;\n",
       "    }\n",
       "\n",
       "    .dataframe tbody tr th {\n",
       "        vertical-align: top;\n",
       "    }\n",
       "\n",
       "    .dataframe thead th {\n",
       "        text-align: right;\n",
       "    }\n",
       "</style>\n",
       "<table border=\"1\" class=\"dataframe\">\n",
       "  <thead>\n",
       "    <tr style=\"text-align: right;\">\n",
       "      <th></th>\n",
       "      <th>artist_id</th>\n",
       "      <th>master_id</th>\n",
       "      <th>main_release_id</th>\n",
       "      <th>release_country</th>\n",
       "      <th>artist</th>\n",
       "      <th>title</th>\n",
       "      <th>year</th>\n",
       "      <th>album_length</th>\n",
       "      <th>tracks</th>\n",
       "      <th>release_type</th>\n",
       "      <th>genres</th>\n",
       "      <th>styles</th>\n",
       "      <th>artist_profile</th>\n",
       "    </tr>\n",
       "  </thead>\n",
       "  <tbody>\n",
       "    <tr>\n",
       "      <th>0</th>\n",
       "      <td>15033166.0</td>\n",
       "      <td>0</td>\n",
       "      <td>31643455</td>\n",
       "      <td>UK</td>\n",
       "      <td>Isabel Shrine</td>\n",
       "      <td>What A Difference A Week Makes</td>\n",
       "      <td>1998</td>\n",
       "      <td>0.0</td>\n",
       "      <td>6</td>\n",
       "      <td>['Album', 'Mini-Album']</td>\n",
       "      <td>['Rock']</td>\n",
       "      <td>['Goth Rock', 'Darkwave']</td>\n",
       "      <td>NaN</td>\n",
       "    </tr>\n",
       "  </tbody>\n",
       "</table>\n",
       "</div>"
      ],
      "text/plain": [
       "    artist_id  master_id  main_release_id release_country         artist  \\\n",
       "0  15033166.0          0         31643455              UK  Isabel Shrine   \n",
       "\n",
       "                            title  year  album_length  tracks  \\\n",
       "0  What A Difference A Week Makes  1998           0.0       6   \n",
       "\n",
       "              release_type    genres                     styles artist_profile  \n",
       "0  ['Album', 'Mini-Album']  ['Rock']  ['Goth Rock', 'Darkwave']            NaN  "
      ]
     },
     "execution_count": 64,
     "metadata": {},
     "output_type": "execute_result"
    }
   ],
   "source": [
    "df_masters.head(1)"
   ]
  },
  {
   "cell_type": "code",
   "execution_count": 65,
   "metadata": {},
   "outputs": [
    {
     "data": {
      "text/plain": [
       "0"
      ]
     },
     "execution_count": 65,
     "metadata": {},
     "output_type": "execute_result"
    }
   ],
   "source": [
    "df_masters['master_id'].isna().sum()"
   ]
  },
  {
   "cell_type": "code",
   "execution_count": 66,
   "metadata": {},
   "outputs": [
    {
     "data": {
      "text/plain": [
       "0"
      ]
     },
     "execution_count": 66,
     "metadata": {},
     "output_type": "execute_result"
    }
   ],
   "source": [
    "df_masters['master_id'].fillna(0, inplace=True)\n",
    "df_masters['master_id'].isna().sum()"
   ]
  },
  {
   "cell_type": "markdown",
   "metadata": {},
   "source": [
    "## **Concat with the albums previously cleaned**"
   ]
  },
  {
   "cell_type": "code",
   "execution_count": 67,
   "metadata": {},
   "outputs": [
    {
     "data": {
      "text/plain": [
       "(12056, 13)"
      ]
     },
     "execution_count": 67,
     "metadata": {},
     "output_type": "execute_result"
    }
   ],
   "source": [
    "df_uk_rock_ratings.shape"
   ]
  },
  {
   "cell_type": "code",
   "execution_count": 68,
   "metadata": {},
   "outputs": [
    {
     "data": {
      "text/plain": [
       "(1685, 13)"
      ]
     },
     "execution_count": 68,
     "metadata": {},
     "output_type": "execute_result"
    }
   ],
   "source": [
    "df_masters.shape"
   ]
  },
  {
   "cell_type": "code",
   "execution_count": 69,
   "metadata": {},
   "outputs": [
    {
     "data": {
      "text/plain": [
       "(13741, 13)"
      ]
     },
     "execution_count": 69,
     "metadata": {},
     "output_type": "execute_result"
    }
   ],
   "source": [
    "df_concat = pd.concat([df_uk_rock_ratings, df_masters])\n",
    "df_concat.shape"
   ]
  },
  {
   "cell_type": "code",
   "execution_count": 70,
   "metadata": {},
   "outputs": [],
   "source": [
    "df_masters = df_concat"
   ]
  },
  {
   "cell_type": "markdown",
   "metadata": {},
   "source": [
    "## **``df_masters`` parenthesis cleaning from ``artist``**"
   ]
  },
  {
   "cell_type": "markdown",
   "metadata": {},
   "source": [
    "### Testing"
   ]
  },
  {
   "cell_type": "markdown",
   "metadata": {},
   "source": [
    "I noticed that some artists in df_masters (so, in the Discogs API) have numbers in parenthesis in the artist name, which won't be merged with df_ratings, where there are almost no artists with numbers in parenthesis"
   ]
  },
  {
   "cell_type": "code",
   "execution_count": 16,
   "metadata": {},
   "outputs": [
    {
     "data": {
      "text/plain": [
       "7989"
      ]
     },
     "execution_count": 16,
     "metadata": {},
     "output_type": "execute_result"
    }
   ],
   "source": [
    "# all the artists in df_masters\n",
    "df_masters['artist'].nunique()"
   ]
  },
  {
   "cell_type": "code",
   "execution_count": 17,
   "metadata": {},
   "outputs": [
    {
     "data": {
      "text/plain": [
       "588"
      ]
     },
     "execution_count": 17,
     "metadata": {},
     "output_type": "execute_result"
    }
   ],
   "source": [
    "# show the artists that have characters in parenthesis in the artist name\n",
    "df_masters_parenthesis = df_masters[df_masters['artist'].str.contains(r'\\(.*?\\)', regex=True)].sort_values('artist')\n",
    "df_masters_parenthesis['artist'].nunique()"
   ]
  },
  {
   "cell_type": "code",
   "execution_count": 34,
   "metadata": {},
   "outputs": [
    {
     "name": "stdout",
     "output_type": "stream",
     "text": [
      "(15584, 13): df_masters\n",
      "(656, 13): df_masters_parenthesis\n"
     ]
    }
   ],
   "source": [
    "# print information\n",
    "print(f'{df_masters.shape}: df_masters')\n",
    "print(f'{df_masters_parenthesis.shape}: df_masters_parenthesis')"
   ]
  },
  {
   "cell_type": "code",
   "execution_count": 35,
   "metadata": {},
   "outputs": [
    {
     "data": {
      "text/plain": [
       "23855"
      ]
     },
     "execution_count": 35,
     "metadata": {},
     "output_type": "execute_result"
    }
   ],
   "source": [
    "df_ratings_top['artist'].nunique()"
   ]
  },
  {
   "cell_type": "code",
   "execution_count": 36,
   "metadata": {},
   "outputs": [
    {
     "data": {
      "text/plain": [
       "701"
      ]
     },
     "execution_count": 36,
     "metadata": {},
     "output_type": "execute_result"
    }
   ],
   "source": [
    "# show the artists that have characters in parenthesis in the artist name\n",
    "df_ratings_top_parenthesis = df_ratings_top[df_ratings_top['artist'].str.contains(r'\\(.*?\\)', regex=True)].sort_values('artist')\n",
    "df_ratings_top_parenthesis['artist'].nunique()"
   ]
  },
  {
   "cell_type": "code",
   "execution_count": 37,
   "metadata": {},
   "outputs": [
    {
     "name": "stdout",
     "output_type": "stream",
     "text": [
      "(79632, 5): df_ratings_top\n",
      "(1760, 5): df_ratings_top_parenthesis\n"
     ]
    }
   ],
   "source": [
    "# print information\n",
    "print(f'{df_ratings_top.shape}: df_ratings_top')\n",
    "print(f'{df_ratings_top_parenthesis.shape}: df_ratings_top_parenthesis')"
   ]
  },
  {
   "cell_type": "code",
   "execution_count": 38,
   "metadata": {},
   "outputs": [
    {
     "data": {
      "text/html": [
       "<div>\n",
       "<style scoped>\n",
       "    .dataframe tbody tr th:only-of-type {\n",
       "        vertical-align: middle;\n",
       "    }\n",
       "\n",
       "    .dataframe tbody tr th {\n",
       "        vertical-align: top;\n",
       "    }\n",
       "\n",
       "    .dataframe thead th {\n",
       "        text-align: right;\n",
       "    }\n",
       "</style>\n",
       "<table border=\"1\" class=\"dataframe\">\n",
       "  <thead>\n",
       "    <tr style=\"text-align: right;\">\n",
       "      <th></th>\n",
       "      <th>album_id</th>\n",
       "      <th>artist</th>\n",
       "      <th>title</th>\n",
       "      <th>rating</th>\n",
       "      <th>votes</th>\n",
       "    </tr>\n",
       "  </thead>\n",
       "  <tbody>\n",
       "    <tr>\n",
       "      <th>66859</th>\n",
       "      <td>299052</td>\n",
       "      <td>Vacations (AUS)</td>\n",
       "      <td>Vibes and Days</td>\n",
       "      <td>3.87</td>\n",
       "      <td>15</td>\n",
       "    </tr>\n",
       "    <tr>\n",
       "      <th>66521</th>\n",
       "      <td>293448</td>\n",
       "      <td>Carnation (BE)</td>\n",
       "      <td>Chapel of Abhorrence</td>\n",
       "      <td>3.35</td>\n",
       "      <td>40</td>\n",
       "    </tr>\n",
       "    <tr>\n",
       "      <th>34007</th>\n",
       "      <td>67551</td>\n",
       "      <td>Soundtrack (Video Game)</td>\n",
       "      <td>The Legend of Zelda: Twilight Princess OST</td>\n",
       "      <td>4.23</td>\n",
       "      <td>80</td>\n",
       "    </tr>\n",
       "    <tr>\n",
       "      <th>39072</th>\n",
       "      <td>84542</td>\n",
       "      <td>Doom (JPN)</td>\n",
       "      <td>Complicated Mind</td>\n",
       "      <td>4.16</td>\n",
       "      <td>25</td>\n",
       "    </tr>\n",
       "    <tr>\n",
       "      <th>36362</th>\n",
       "      <td>74638</td>\n",
       "      <td>Tempest (Can)</td>\n",
       "      <td>Passages</td>\n",
       "      <td>3.73</td>\n",
       "      <td>37</td>\n",
       "    </tr>\n",
       "  </tbody>\n",
       "</table>\n",
       "</div>"
      ],
      "text/plain": [
       "       album_id                   artist  \\\n",
       "66859    299052          Vacations (AUS)   \n",
       "66521    293448           Carnation (BE)   \n",
       "34007     67551  Soundtrack (Video Game)   \n",
       "39072     84542               Doom (JPN)   \n",
       "36362     74638            Tempest (Can)   \n",
       "\n",
       "                                            title  rating  votes  \n",
       "66859                              Vibes and Days    3.87     15  \n",
       "66521                        Chapel of Abhorrence    3.35     40  \n",
       "34007  The Legend of Zelda: Twilight Princess OST    4.23     80  \n",
       "39072                            Complicated Mind    4.16     25  \n",
       "36362                                    Passages    3.73     37  "
      ]
     },
     "execution_count": 38,
     "metadata": {},
     "output_type": "execute_result"
    }
   ],
   "source": [
    "df_ratings_top_parenthesis.sample(5)"
   ]
  },
  {
   "cell_type": "markdown",
   "metadata": {},
   "source": [
    "In most of the artists, the information between parenthesis is the country of origin"
   ]
  },
  {
   "cell_type": "code",
   "execution_count": 39,
   "metadata": {},
   "outputs": [
    {
     "data": {
      "text/plain": [
       "2364       100% Proof\n",
       "3971       100% Proof\n",
       "2622     20/20 Vision\n",
       "1164       38 Special\n",
       "2445       38 Special\n",
       "            ...      \n",
       "3727              XIT\n",
       "3045            Ya Ya\n",
       "1735    Youth In Asia\n",
       "3931              ZED\n",
       "599              Zeno\n",
       "Name: artist, Length: 656, dtype: object"
      ]
     },
     "execution_count": 39,
     "metadata": {},
     "output_type": "execute_result"
    }
   ],
   "source": [
    "# delete these characters\n",
    "df_masters_parenthesis_clean = df_masters_parenthesis['artist'].str.replace(r'\\(.*?\\)', '', regex=True).str.strip()\n",
    "df_masters_parenthesis_clean"
   ]
  },
  {
   "cell_type": "code",
   "execution_count": 40,
   "metadata": {},
   "outputs": [
    {
     "data": {
      "text/plain": [
       "52533                  \n",
       "53599                  \n",
       "35534    Slowest Runner\n",
       "35487    Slowest Runner\n",
       "13266              p.e.\n",
       "              ...      \n",
       "39716              hide\n",
       "68464              life\n",
       "70926              life\n",
       "49438              sway\n",
       "68857              オオハシ\n",
       "Name: artist, Length: 1760, dtype: object"
      ]
     },
     "execution_count": 40,
     "metadata": {},
     "output_type": "execute_result"
    }
   ],
   "source": [
    "# delete these characters\n",
    "df_ratings_top_parenthesis_clean = df_ratings_top_parenthesis['artist'].str.replace(r'\\(.*?\\)', '', regex=True).str.strip()\n",
    "df_ratings_top_parenthesis_clean"
   ]
  },
  {
   "cell_type": "code",
   "execution_count": 41,
   "metadata": {},
   "outputs": [
    {
     "data": {
      "text/html": [
       "<div>\n",
       "<style scoped>\n",
       "    .dataframe tbody tr th:only-of-type {\n",
       "        vertical-align: middle;\n",
       "    }\n",
       "\n",
       "    .dataframe tbody tr th {\n",
       "        vertical-align: top;\n",
       "    }\n",
       "\n",
       "    .dataframe thead th {\n",
       "        text-align: right;\n",
       "    }\n",
       "</style>\n",
       "<table border=\"1\" class=\"dataframe\">\n",
       "  <thead>\n",
       "    <tr style=\"text-align: right;\">\n",
       "      <th></th>\n",
       "      <th>artist</th>\n",
       "    </tr>\n",
       "  </thead>\n",
       "  <tbody>\n",
       "    <tr>\n",
       "      <th>0</th>\n",
       "      <td>Alaska</td>\n",
       "    </tr>\n",
       "    <tr>\n",
       "      <th>1</th>\n",
       "      <td>Alaska</td>\n",
       "    </tr>\n",
       "    <tr>\n",
       "      <th>2</th>\n",
       "      <td>Alaska</td>\n",
       "    </tr>\n",
       "    <tr>\n",
       "      <th>3</th>\n",
       "      <td>Alaska</td>\n",
       "    </tr>\n",
       "    <tr>\n",
       "      <th>4</th>\n",
       "      <td>Attila</td>\n",
       "    </tr>\n",
       "    <tr>\n",
       "      <th>...</th>\n",
       "      <td>...</td>\n",
       "    </tr>\n",
       "    <tr>\n",
       "      <th>123</th>\n",
       "      <td>X</td>\n",
       "    </tr>\n",
       "    <tr>\n",
       "      <th>124</th>\n",
       "      <td>X</td>\n",
       "    </tr>\n",
       "    <tr>\n",
       "      <th>125</th>\n",
       "      <td>X</td>\n",
       "    </tr>\n",
       "    <tr>\n",
       "      <th>126</th>\n",
       "      <td>X</td>\n",
       "    </tr>\n",
       "    <tr>\n",
       "      <th>127</th>\n",
       "      <td>X</td>\n",
       "    </tr>\n",
       "  </tbody>\n",
       "</table>\n",
       "<p>128 rows × 1 columns</p>\n",
       "</div>"
      ],
      "text/plain": [
       "     artist\n",
       "0    Alaska\n",
       "1    Alaska\n",
       "2    Alaska\n",
       "3    Alaska\n",
       "4    Attila\n",
       "..      ...\n",
       "123       X\n",
       "124       X\n",
       "125       X\n",
       "126       X\n",
       "127       X\n",
       "\n",
       "[128 rows x 1 columns]"
      ]
     },
     "execution_count": 41,
     "metadata": {},
     "output_type": "execute_result"
    }
   ],
   "source": [
    "# merge test, all the artists that coincide on both dataframes after the parenthesis cleaning\n",
    "pd.merge(df_masters_parenthesis_clean, df_ratings_top_parenthesis_clean, on='artist')"
   ]
  },
  {
   "cell_type": "code",
   "execution_count": 45,
   "metadata": {},
   "outputs": [
    {
     "data": {
      "text/html": [
       "<div>\n",
       "<style scoped>\n",
       "    .dataframe tbody tr th:only-of-type {\n",
       "        vertical-align: middle;\n",
       "    }\n",
       "\n",
       "    .dataframe tbody tr th {\n",
       "        vertical-align: top;\n",
       "    }\n",
       "\n",
       "    .dataframe thead th {\n",
       "        text-align: right;\n",
       "    }\n",
       "</style>\n",
       "<table border=\"1\" class=\"dataframe\">\n",
       "  <thead>\n",
       "    <tr style=\"text-align: right;\">\n",
       "      <th></th>\n",
       "      <th>artist_id</th>\n",
       "      <th>master_id</th>\n",
       "      <th>main_release_id</th>\n",
       "      <th>release_country</th>\n",
       "      <th>artist</th>\n",
       "      <th>title</th>\n",
       "      <th>year</th>\n",
       "      <th>album_length</th>\n",
       "      <th>tracks</th>\n",
       "      <th>release_type</th>\n",
       "      <th>genres</th>\n",
       "      <th>styles</th>\n",
       "      <th>artist_profile</th>\n",
       "    </tr>\n",
       "  </thead>\n",
       "  <tbody>\n",
       "    <tr>\n",
       "      <th>1516</th>\n",
       "      <td>594810.0</td>\n",
       "      <td>309057.0</td>\n",
       "      <td>2702245</td>\n",
       "      <td>US</td>\n",
       "      <td>Alaska (8)</td>\n",
       "      <td>The Pack</td>\n",
       "      <td>1985</td>\n",
       "      <td>42.32</td>\n",
       "      <td>9</td>\n",
       "      <td>['LP', 'Album', 'Stereo']</td>\n",
       "      <td>['Rock']</td>\n",
       "      <td>['Hard Rock']</td>\n",
       "      <td>Alaska was a British hard rock band led by Ber...</td>\n",
       "    </tr>\n",
       "    <tr>\n",
       "      <th>2990</th>\n",
       "      <td>594810.0</td>\n",
       "      <td>591189.0</td>\n",
       "      <td>1175493</td>\n",
       "      <td>UK</td>\n",
       "      <td>Alaska (8)</td>\n",
       "      <td>Heart Of The Storm</td>\n",
       "      <td>1984</td>\n",
       "      <td>0.00</td>\n",
       "      <td>10</td>\n",
       "      <td>['LP', 'Album']</td>\n",
       "      <td>['Rock']</td>\n",
       "      <td>['Hard Rock', 'AOR']</td>\n",
       "      <td>Alaska was a British hard rock band led by Ber...</td>\n",
       "    </tr>\n",
       "  </tbody>\n",
       "</table>\n",
       "</div>"
      ],
      "text/plain": [
       "      artist_id  master_id  main_release_id release_country      artist  \\\n",
       "1516   594810.0   309057.0          2702245              US  Alaska (8)   \n",
       "2990   594810.0   591189.0          1175493              UK  Alaska (8)   \n",
       "\n",
       "                   title  year  album_length  tracks  \\\n",
       "1516            The Pack  1985         42.32       9   \n",
       "2990  Heart Of The Storm  1984          0.00      10   \n",
       "\n",
       "                   release_type    genres                styles  \\\n",
       "1516  ['LP', 'Album', 'Stereo']  ['Rock']         ['Hard Rock']   \n",
       "2990            ['LP', 'Album']  ['Rock']  ['Hard Rock', 'AOR']   \n",
       "\n",
       "                                         artist_profile  \n",
       "1516  Alaska was a British hard rock band led by Ber...  \n",
       "2990  Alaska was a British hard rock band led by Ber...  "
      ]
     },
     "execution_count": 45,
     "metadata": {},
     "output_type": "execute_result"
    }
   ],
   "source": [
    "df_masters[df_masters['artist'].str.contains('Alaska ')]"
   ]
  },
  {
   "cell_type": "code",
   "execution_count": 44,
   "metadata": {},
   "outputs": [
    {
     "data": {
      "text/html": [
       "<div>\n",
       "<style scoped>\n",
       "    .dataframe tbody tr th:only-of-type {\n",
       "        vertical-align: middle;\n",
       "    }\n",
       "\n",
       "    .dataframe tbody tr th {\n",
       "        vertical-align: top;\n",
       "    }\n",
       "\n",
       "    .dataframe thead th {\n",
       "        text-align: right;\n",
       "    }\n",
       "</style>\n",
       "<table border=\"1\" class=\"dataframe\">\n",
       "  <thead>\n",
       "    <tr style=\"text-align: right;\">\n",
       "      <th></th>\n",
       "      <th>album_id</th>\n",
       "      <th>artist</th>\n",
       "      <th>title</th>\n",
       "      <th>rating</th>\n",
       "      <th>votes</th>\n",
       "    </tr>\n",
       "  </thead>\n",
       "  <tbody>\n",
       "    <tr>\n",
       "      <th>48864</th>\n",
       "      <td>135438</td>\n",
       "      <td>Alaska (USA)</td>\n",
       "      <td>Everything is Fine</td>\n",
       "      <td>3.38</td>\n",
       "      <td>12</td>\n",
       "    </tr>\n",
       "    <tr>\n",
       "      <th>57915</th>\n",
       "      <td>203926</td>\n",
       "      <td>Alaska (USA)</td>\n",
       "      <td>Shrine</td>\n",
       "      <td>3.54</td>\n",
       "      <td>12</td>\n",
       "    </tr>\n",
       "  </tbody>\n",
       "</table>\n",
       "</div>"
      ],
      "text/plain": [
       "       album_id        artist               title  rating  votes\n",
       "48864    135438  Alaska (USA)  Everything is Fine    3.38     12\n",
       "57915    203926  Alaska (USA)              Shrine    3.54     12"
      ]
     },
     "execution_count": 44,
     "metadata": {},
     "output_type": "execute_result"
    }
   ],
   "source": [
    "df_ratings_top[df_ratings_top['artist'].str.contains('Alaska ')]"
   ]
  },
  {
   "cell_type": "markdown",
   "metadata": {},
   "source": [
    "This shows that for instance **the artist 'Zebra' would not have merged** if we hadn't done that cleaning, because in ``df_masters`` it's registered under **\"Zebra (8)\"**, and in ``df_ratings`` under **\"Zebra (US)\"**"
   ]
  },
  {
   "cell_type": "markdown",
   "metadata": {},
   "source": [
    "### **Let's change the ``artist`` column for good**"
   ]
  },
  {
   "cell_type": "code",
   "execution_count": 71,
   "metadata": {},
   "outputs": [
    {
     "name": "stdout",
     "output_type": "stream",
     "text": [
      "6482 unique artists in df_masters\n"
     ]
    }
   ],
   "source": [
    "df_masters['artist'] = df_masters['artist'].str.replace(r'\\(.*?\\)', '', regex=True).str.strip()\n",
    "\n",
    "print(f\"{df_masters['artist'].nunique()} unique artists in df_masters\")"
   ]
  },
  {
   "cell_type": "code",
   "execution_count": 72,
   "metadata": {},
   "outputs": [
    {
     "name": "stdout",
     "output_type": "stream",
     "text": [
      "23683 unique artists in df_ratings_top\n"
     ]
    }
   ],
   "source": [
    "df_ratings_top['artist'] = df_ratings_top['artist'].str.replace(r'\\(.*?\\)', '', regex=True).str.strip()\n",
    "\n",
    "print(f\"{df_ratings_top['artist'].nunique()} unique artists in df_ratings_top\")"
   ]
  },
  {
   "cell_type": "markdown",
   "metadata": {},
   "source": [
    "## &/and Cleaning"
   ]
  },
  {
   "cell_type": "markdown",
   "metadata": {},
   "source": [
    "I noticed some artist and/or album names are slightly different, which will cause the merge to not properly function as I intend it.\n",
    "\n",
    "Notice the difference in the following album: \"Behold **and/&** See\""
   ]
  },
  {
   "cell_type": "code",
   "execution_count": 73,
   "metadata": {},
   "outputs": [
    {
     "data": {
      "text/html": [
       "<div>\n",
       "<style scoped>\n",
       "    .dataframe tbody tr th:only-of-type {\n",
       "        vertical-align: middle;\n",
       "    }\n",
       "\n",
       "    .dataframe tbody tr th {\n",
       "        vertical-align: top;\n",
       "    }\n",
       "\n",
       "    .dataframe thead th {\n",
       "        text-align: right;\n",
       "    }\n",
       "</style>\n",
       "<table border=\"1\" class=\"dataframe\">\n",
       "  <thead>\n",
       "    <tr style=\"text-align: right;\">\n",
       "      <th></th>\n",
       "      <th>album_id</th>\n",
       "      <th>artist</th>\n",
       "      <th>title</th>\n",
       "      <th>rating</th>\n",
       "      <th>votes</th>\n",
       "    </tr>\n",
       "  </thead>\n",
       "  <tbody>\n",
       "    <tr>\n",
       "      <th>48952</th>\n",
       "      <td>136113</td>\n",
       "      <td>Ultimate Spinach</td>\n",
       "      <td>Ultimate Spinach</td>\n",
       "      <td>3.81</td>\n",
       "      <td>27</td>\n",
       "    </tr>\n",
       "    <tr>\n",
       "      <th>51040</th>\n",
       "      <td>150508</td>\n",
       "      <td>Ultimate Spinach</td>\n",
       "      <td>Behold and See</td>\n",
       "      <td>3.89</td>\n",
       "      <td>23</td>\n",
       "    </tr>\n",
       "  </tbody>\n",
       "</table>\n",
       "</div>"
      ],
      "text/plain": [
       "       album_id            artist             title  rating  votes\n",
       "48952    136113  Ultimate Spinach  Ultimate Spinach    3.81     27\n",
       "51040    150508  Ultimate Spinach    Behold and See    3.89     23"
      ]
     },
     "execution_count": 73,
     "metadata": {},
     "output_type": "execute_result"
    }
   ],
   "source": [
    "df_ratings_top[df_ratings_top['artist']==\"Ultimate Spinach\"]"
   ]
  },
  {
   "cell_type": "code",
   "execution_count": 74,
   "metadata": {},
   "outputs": [
    {
     "data": {
      "text/html": [
       "<div>\n",
       "<style scoped>\n",
       "    .dataframe tbody tr th:only-of-type {\n",
       "        vertical-align: middle;\n",
       "    }\n",
       "\n",
       "    .dataframe tbody tr th {\n",
       "        vertical-align: top;\n",
       "    }\n",
       "\n",
       "    .dataframe thead th {\n",
       "        text-align: right;\n",
       "    }\n",
       "</style>\n",
       "<table border=\"1\" class=\"dataframe\">\n",
       "  <thead>\n",
       "    <tr style=\"text-align: right;\">\n",
       "      <th></th>\n",
       "      <th>artist_id</th>\n",
       "      <th>master_id</th>\n",
       "      <th>main_release_id</th>\n",
       "      <th>release_country</th>\n",
       "      <th>artist</th>\n",
       "      <th>title</th>\n",
       "      <th>year</th>\n",
       "      <th>album_length</th>\n",
       "      <th>tracks</th>\n",
       "      <th>release_type</th>\n",
       "      <th>genres</th>\n",
       "      <th>styles</th>\n",
       "      <th>artist_profile</th>\n",
       "    </tr>\n",
       "  </thead>\n",
       "  <tbody>\n",
       "  </tbody>\n",
       "</table>\n",
       "</div>"
      ],
      "text/plain": [
       "Empty DataFrame\n",
       "Columns: [artist_id, master_id, main_release_id, release_country, artist, title, year, album_length, tracks, release_type, genres, styles, artist_profile]\n",
       "Index: []"
      ]
     },
     "execution_count": 74,
     "metadata": {},
     "output_type": "execute_result"
    }
   ],
   "source": [
    "df_masters[df_masters['artist']==\"Ultimate Spinach\"]"
   ]
  },
  {
   "cell_type": "code",
   "execution_count": 75,
   "metadata": {},
   "outputs": [],
   "source": [
    "df_masters[['artist', 'title']] = df_masters[['artist', 'title']].apply(lambda x: x.str.replace('&', 'and'))\n",
    "df_ratings_top[['artist', 'title']] = df_ratings_top[['artist', 'title']].apply(lambda x: x.str.replace('&', 'and'))"
   ]
  },
  {
   "cell_type": "code",
   "execution_count": 16,
   "metadata": {},
   "outputs": [
    {
     "data": {
      "text/html": [
       "<div>\n",
       "<style scoped>\n",
       "    .dataframe tbody tr th:only-of-type {\n",
       "        vertical-align: middle;\n",
       "    }\n",
       "\n",
       "    .dataframe tbody tr th {\n",
       "        vertical-align: top;\n",
       "    }\n",
       "\n",
       "    .dataframe thead th {\n",
       "        text-align: right;\n",
       "    }\n",
       "</style>\n",
       "<table border=\"1\" class=\"dataframe\">\n",
       "  <thead>\n",
       "    <tr style=\"text-align: right;\">\n",
       "      <th></th>\n",
       "      <th>artist_id</th>\n",
       "      <th>master_id</th>\n",
       "      <th>main_release_id</th>\n",
       "      <th>release_country</th>\n",
       "      <th>artist</th>\n",
       "      <th>title</th>\n",
       "      <th>year</th>\n",
       "      <th>album_length</th>\n",
       "      <th>tracks</th>\n",
       "      <th>release_type</th>\n",
       "      <th>genres</th>\n",
       "      <th>styles</th>\n",
       "      <th>artist_profile</th>\n",
       "    </tr>\n",
       "  </thead>\n",
       "  <tbody>\n",
       "  </tbody>\n",
       "</table>\n",
       "</div>"
      ],
      "text/plain": [
       "Empty DataFrame\n",
       "Columns: [artist_id, master_id, main_release_id, release_country, artist, title, year, album_length, tracks, release_type, genres, styles, artist_profile]\n",
       "Index: []"
      ]
     },
     "execution_count": 16,
     "metadata": {},
     "output_type": "execute_result"
    }
   ],
   "source": [
    "df_masters[df_masters['artist']==\"Ultimate Spinach\"]"
   ]
  },
  {
   "cell_type": "markdown",
   "metadata": {},
   "source": [
    "## Actual merge"
   ]
  },
  {
   "cell_type": "code",
   "execution_count": 76,
   "metadata": {},
   "outputs": [
    {
     "data": {
      "text/plain": [
       "(12063, 16)"
      ]
     },
     "execution_count": 76,
     "metadata": {},
     "output_type": "execute_result"
    }
   ],
   "source": [
    "df = pd.merge(\n",
    "    df_ratings_top.assign(artist_lower=df_ratings_top['artist'].str.lower().str.strip(), \n",
    "                      title_lower=df_ratings_top['title'].str.lower().str.strip()), \n",
    "    df_masters.assign(artist_lower=df_masters['artist'].str.lower().str.strip(), \n",
    "                      title_lower=df_masters['title'].str.lower().str.strip()), \n",
    "    on=['artist_lower', 'title_lower']\n",
    ").drop(columns=['artist_lower', 'title_lower', 'artist_y', 'title_y'])\n",
    "\n",
    "# Rename columns\n",
    "df.rename(columns={'artist_x': 'artist', 'title_x': 'title'}, inplace=True)\n",
    "\n",
    "# Change dtypes\n",
    "df['master_id'] = df['master_id'].astype(int)\n",
    "\n",
    "# print the shape\n",
    "df.shape"
   ]
  },
  {
   "cell_type": "code",
   "execution_count": 77,
   "metadata": {},
   "outputs": [
    {
     "name": "stdout",
     "output_type": "stream",
     "text": [
      "7 new albums added\n",
      "This is 0.05 % of the albums I just got\n"
     ]
    }
   ],
   "source": [
    "row_diff = df.shape[0] - df_uk_rock_ratings.shape[0]\n",
    "new_albums_percentage = round(row_diff / df_masters.shape[0]*100,2)\n",
    "\n",
    "print(f\"{row_diff} new albums added\")\n",
    "print(f\"This is {new_albums_percentage} % of the albums I just got\")"
   ]
  },
  {
   "cell_type": "code",
   "execution_count": 78,
   "metadata": {},
   "outputs": [
    {
     "data": {
      "text/html": [
       "<div>\n",
       "<style scoped>\n",
       "    .dataframe tbody tr th:only-of-type {\n",
       "        vertical-align: middle;\n",
       "    }\n",
       "\n",
       "    .dataframe tbody tr th {\n",
       "        vertical-align: top;\n",
       "    }\n",
       "\n",
       "    .dataframe thead th {\n",
       "        text-align: right;\n",
       "    }\n",
       "</style>\n",
       "<table border=\"1\" class=\"dataframe\">\n",
       "  <thead>\n",
       "    <tr style=\"text-align: right;\">\n",
       "      <th></th>\n",
       "      <th>album_id</th>\n",
       "      <th>artist</th>\n",
       "      <th>title</th>\n",
       "      <th>rating</th>\n",
       "      <th>votes</th>\n",
       "      <th>artist_id</th>\n",
       "      <th>master_id</th>\n",
       "      <th>main_release_id</th>\n",
       "      <th>release_country</th>\n",
       "      <th>year</th>\n",
       "      <th>album_length</th>\n",
       "      <th>tracks</th>\n",
       "      <th>release_type</th>\n",
       "      <th>genres</th>\n",
       "      <th>styles</th>\n",
       "      <th>artist_profile</th>\n",
       "    </tr>\n",
       "  </thead>\n",
       "  <tbody>\n",
       "    <tr>\n",
       "      <th>0</th>\n",
       "      <td>40</td>\n",
       "      <td>Sparta</td>\n",
       "      <td>Wiretap Scars</td>\n",
       "      <td>3.79</td>\n",
       "      <td>431</td>\n",
       "      <td>253712.0</td>\n",
       "      <td>158153</td>\n",
       "      <td>426893</td>\n",
       "      <td>US</td>\n",
       "      <td>2002</td>\n",
       "      <td>47.62</td>\n",
       "      <td>12</td>\n",
       "      <td>['Album']</td>\n",
       "      <td>['Rock']</td>\n",
       "      <td>['Indie Rock', 'Alternative Rock']</td>\n",
       "      <td>El Paso, Texas based band. Formed in 2001 afte...</td>\n",
       "    </tr>\n",
       "  </tbody>\n",
       "</table>\n",
       "</div>"
      ],
      "text/plain": [
       "   album_id  artist          title  rating  votes  artist_id  master_id  \\\n",
       "0        40  Sparta  Wiretap Scars    3.79    431   253712.0     158153   \n",
       "\n",
       "   main_release_id release_country  year  album_length  tracks release_type  \\\n",
       "0           426893              US  2002         47.62      12    ['Album']   \n",
       "\n",
       "     genres                              styles  \\\n",
       "0  ['Rock']  ['Indie Rock', 'Alternative Rock']   \n",
       "\n",
       "                                      artist_profile  \n",
       "0  El Paso, Texas based band. Formed in 2001 afte...  "
      ]
     },
     "execution_count": 78,
     "metadata": {},
     "output_type": "execute_result"
    }
   ],
   "source": [
    "df.head(1)"
   ]
  },
  {
   "cell_type": "code",
   "execution_count": 79,
   "metadata": {},
   "outputs": [
    {
     "name": "stdout",
     "output_type": "stream",
     "text": [
      "87.79 % of the albums have ratings\n"
     ]
    }
   ],
   "source": [
    "print(f\"{round(df.shape[0] / df_masters.shape[0]*100, 2)} % of the albums have ratings\")"
   ]
  },
  {
   "cell_type": "markdown",
   "metadata": {},
   "source": [
    "### First inspection"
   ]
  },
  {
   "cell_type": "markdown",
   "metadata": {},
   "source": [
    "**Change the dtype of ``artist_id``**"
   ]
  },
  {
   "cell_type": "code",
   "execution_count": 80,
   "metadata": {},
   "outputs": [
    {
     "data": {
      "text/html": [
       "<div>\n",
       "<style scoped>\n",
       "    .dataframe tbody tr th:only-of-type {\n",
       "        vertical-align: middle;\n",
       "    }\n",
       "\n",
       "    .dataframe tbody tr th {\n",
       "        vertical-align: top;\n",
       "    }\n",
       "\n",
       "    .dataframe thead th {\n",
       "        text-align: right;\n",
       "    }\n",
       "</style>\n",
       "<table border=\"1\" class=\"dataframe\">\n",
       "  <thead>\n",
       "    <tr style=\"text-align: right;\">\n",
       "      <th></th>\n",
       "      <th>album_id</th>\n",
       "      <th>artist</th>\n",
       "      <th>title</th>\n",
       "      <th>rating</th>\n",
       "      <th>votes</th>\n",
       "      <th>artist_id</th>\n",
       "      <th>master_id</th>\n",
       "      <th>main_release_id</th>\n",
       "      <th>release_country</th>\n",
       "      <th>year</th>\n",
       "      <th>album_length</th>\n",
       "      <th>tracks</th>\n",
       "      <th>release_type</th>\n",
       "      <th>genres</th>\n",
       "      <th>styles</th>\n",
       "      <th>artist_profile</th>\n",
       "    </tr>\n",
       "  </thead>\n",
       "  <tbody>\n",
       "    <tr>\n",
       "      <th>7046</th>\n",
       "      <td>72484</td>\n",
       "      <td>George Michael</td>\n",
       "      <td>Older</td>\n",
       "      <td>4.0</td>\n",
       "      <td>77</td>\n",
       "      <td>NaN</td>\n",
       "      <td>0</td>\n",
       "      <td>6272825</td>\n",
       "      <td>UK</td>\n",
       "      <td>1996</td>\n",
       "      <td>58.72</td>\n",
       "      <td>11</td>\n",
       "      <td>['Album', 'Promo']</td>\n",
       "      <td>['Electronic', 'Jazz', 'Rock']</td>\n",
       "      <td>['Downtempo', 'Synth-pop', 'Contemporary Jazz']</td>\n",
       "      <td>NaN</td>\n",
       "    </tr>\n",
       "  </tbody>\n",
       "</table>\n",
       "</div>"
      ],
      "text/plain": [
       "      album_id          artist  title  rating  votes  artist_id  master_id  \\\n",
       "7046     72484  George Michael  Older     4.0     77        NaN          0   \n",
       "\n",
       "      main_release_id release_country  year  album_length  tracks  \\\n",
       "7046          6272825              UK  1996         58.72      11   \n",
       "\n",
       "            release_type                          genres  \\\n",
       "7046  ['Album', 'Promo']  ['Electronic', 'Jazz', 'Rock']   \n",
       "\n",
       "                                               styles artist_profile  \n",
       "7046  ['Downtempo', 'Synth-pop', 'Contemporary Jazz']            NaN  "
      ]
     },
     "execution_count": 80,
     "metadata": {},
     "output_type": "execute_result"
    }
   ],
   "source": [
    "df[df['artist_id'].isna()]"
   ]
  },
  {
   "cell_type": "code",
   "execution_count": 37,
   "metadata": {},
   "outputs": [
    {
     "data": {
      "text/html": [
       "<div>\n",
       "<style scoped>\n",
       "    .dataframe tbody tr th:only-of-type {\n",
       "        vertical-align: middle;\n",
       "    }\n",
       "\n",
       "    .dataframe tbody tr th {\n",
       "        vertical-align: top;\n",
       "    }\n",
       "\n",
       "    .dataframe thead th {\n",
       "        text-align: right;\n",
       "    }\n",
       "</style>\n",
       "<table border=\"1\" class=\"dataframe\">\n",
       "  <thead>\n",
       "    <tr style=\"text-align: right;\">\n",
       "      <th></th>\n",
       "      <th>album_id</th>\n",
       "      <th>artist</th>\n",
       "      <th>title</th>\n",
       "      <th>rating</th>\n",
       "      <th>votes</th>\n",
       "      <th>artist_id</th>\n",
       "      <th>master_id</th>\n",
       "      <th>main_release_id</th>\n",
       "      <th>release_country</th>\n",
       "      <th>year</th>\n",
       "      <th>album_length</th>\n",
       "      <th>tracks</th>\n",
       "      <th>release_type</th>\n",
       "      <th>genres</th>\n",
       "      <th>styles</th>\n",
       "      <th>artist_profile</th>\n",
       "    </tr>\n",
       "  </thead>\n",
       "  <tbody>\n",
       "    <tr>\n",
       "      <th>7052</th>\n",
       "      <td>72484</td>\n",
       "      <td>George Michael</td>\n",
       "      <td>Older</td>\n",
       "      <td>4.00</td>\n",
       "      <td>77</td>\n",
       "      <td>NaN</td>\n",
       "      <td>0</td>\n",
       "      <td>6272825</td>\n",
       "      <td>UK</td>\n",
       "      <td>1996</td>\n",
       "      <td>58.72</td>\n",
       "      <td>11</td>\n",
       "      <td>['Album', 'Promo']</td>\n",
       "      <td>['Electronic', 'Jazz', 'Rock']</td>\n",
       "      <td>['Downtempo', 'Synth-pop', 'Contemporary Jazz']</td>\n",
       "      <td>NaN</td>\n",
       "    </tr>\n",
       "    <tr>\n",
       "      <th>956</th>\n",
       "      <td>4070</td>\n",
       "      <td>George Michael</td>\n",
       "      <td>Faith</td>\n",
       "      <td>3.66</td>\n",
       "      <td>142</td>\n",
       "      <td>32990.0</td>\n",
       "      <td>96689</td>\n",
       "      <td>413315</td>\n",
       "      <td>Europe</td>\n",
       "      <td>1987</td>\n",
       "      <td>47.52</td>\n",
       "      <td>9</td>\n",
       "      <td>['LP', 'Album', 'Stereo']</td>\n",
       "      <td>['Electronic', 'Rock', 'Funk / Soul', 'Pop']</td>\n",
       "      <td>['Soft Rock', 'Pop Rock']</td>\n",
       "      <td>George Michael (born 25 June 1963, East Finchl...</td>\n",
       "    </tr>\n",
       "  </tbody>\n",
       "</table>\n",
       "</div>"
      ],
      "text/plain": [
       "      album_id          artist  title  rating  votes  artist_id  master_id  \\\n",
       "7052     72484  George Michael  Older    4.00     77        NaN          0   \n",
       "956       4070  George Michael  Faith    3.66    142    32990.0      96689   \n",
       "\n",
       "      main_release_id release_country  year  album_length  tracks  \\\n",
       "7052          6272825              UK  1996         58.72      11   \n",
       "956            413315          Europe  1987         47.52       9   \n",
       "\n",
       "                   release_type                                        genres  \\\n",
       "7052         ['Album', 'Promo']                ['Electronic', 'Jazz', 'Rock']   \n",
       "956   ['LP', 'Album', 'Stereo']  ['Electronic', 'Rock', 'Funk / Soul', 'Pop']   \n",
       "\n",
       "                                               styles  \\\n",
       "7052  ['Downtempo', 'Synth-pop', 'Contemporary Jazz']   \n",
       "956                         ['Soft Rock', 'Pop Rock']   \n",
       "\n",
       "                                         artist_profile  \n",
       "7052                                                NaN  \n",
       "956   George Michael (born 25 June 1963, East Finchl...  "
      ]
     },
     "execution_count": 37,
     "metadata": {},
     "output_type": "execute_result"
    }
   ],
   "source": [
    "df[df['artist']=='George Michael'].sample(2)"
   ]
  },
  {
   "cell_type": "code",
   "execution_count": 81,
   "metadata": {},
   "outputs": [],
   "source": [
    "df.loc[7046, 'artist_id'] = 32990"
   ]
  },
  {
   "cell_type": "code",
   "execution_count": 82,
   "metadata": {},
   "outputs": [],
   "source": [
    "df['artist_id'] = df['artist_id'].astype(int)"
   ]
  },
  {
   "cell_type": "code",
   "execution_count": 83,
   "metadata": {},
   "outputs": [
    {
     "data": {
      "text/html": [
       "<div>\n",
       "<style scoped>\n",
       "    .dataframe tbody tr th:only-of-type {\n",
       "        vertical-align: middle;\n",
       "    }\n",
       "\n",
       "    .dataframe tbody tr th {\n",
       "        vertical-align: top;\n",
       "    }\n",
       "\n",
       "    .dataframe thead th {\n",
       "        text-align: right;\n",
       "    }\n",
       "</style>\n",
       "<table border=\"1\" class=\"dataframe\">\n",
       "  <thead>\n",
       "    <tr style=\"text-align: right;\">\n",
       "      <th></th>\n",
       "      <th>album_id</th>\n",
       "      <th>artist</th>\n",
       "      <th>title</th>\n",
       "      <th>rating</th>\n",
       "      <th>votes</th>\n",
       "      <th>artist_id</th>\n",
       "      <th>master_id</th>\n",
       "      <th>main_release_id</th>\n",
       "      <th>release_country</th>\n",
       "      <th>year</th>\n",
       "      <th>album_length</th>\n",
       "      <th>tracks</th>\n",
       "      <th>release_type</th>\n",
       "      <th>genres</th>\n",
       "      <th>styles</th>\n",
       "      <th>artist_profile</th>\n",
       "    </tr>\n",
       "  </thead>\n",
       "  <tbody>\n",
       "    <tr>\n",
       "      <th>0</th>\n",
       "      <td>40</td>\n",
       "      <td>Sparta</td>\n",
       "      <td>Wiretap Scars</td>\n",
       "      <td>3.79</td>\n",
       "      <td>431</td>\n",
       "      <td>253712</td>\n",
       "      <td>158153</td>\n",
       "      <td>426893</td>\n",
       "      <td>US</td>\n",
       "      <td>2002</td>\n",
       "      <td>47.62</td>\n",
       "      <td>12</td>\n",
       "      <td>['Album']</td>\n",
       "      <td>['Rock']</td>\n",
       "      <td>['Indie Rock', 'Alternative Rock']</td>\n",
       "      <td>El Paso, Texas based band. Formed in 2001 afte...</td>\n",
       "    </tr>\n",
       "  </tbody>\n",
       "</table>\n",
       "</div>"
      ],
      "text/plain": [
       "   album_id  artist          title  rating  votes  artist_id  master_id  \\\n",
       "0        40  Sparta  Wiretap Scars    3.79    431     253712     158153   \n",
       "\n",
       "   main_release_id release_country  year  album_length  tracks release_type  \\\n",
       "0           426893              US  2002         47.62      12    ['Album']   \n",
       "\n",
       "     genres                              styles  \\\n",
       "0  ['Rock']  ['Indie Rock', 'Alternative Rock']   \n",
       "\n",
       "                                      artist_profile  \n",
       "0  El Paso, Texas based band. Formed in 2001 afte...  "
      ]
     },
     "execution_count": 83,
     "metadata": {},
     "output_type": "execute_result"
    }
   ],
   "source": [
    "df.head(1)"
   ]
  },
  {
   "cell_type": "markdown",
   "metadata": {},
   "source": [
    "**Sort columns**\n",
    "\n",
    "I want to see the ``year`` next to the album ``title``, and I don't care much about the ``ids``"
   ]
  },
  {
   "cell_type": "code",
   "execution_count": 84,
   "metadata": {},
   "outputs": [],
   "source": [
    "df = columns_show_ratings(df)"
   ]
  },
  {
   "cell_type": "code",
   "execution_count": 85,
   "metadata": {},
   "outputs": [
    {
     "data": {
      "text/html": [
       "<div>\n",
       "<style scoped>\n",
       "    .dataframe tbody tr th:only-of-type {\n",
       "        vertical-align: middle;\n",
       "    }\n",
       "\n",
       "    .dataframe tbody tr th {\n",
       "        vertical-align: top;\n",
       "    }\n",
       "\n",
       "    .dataframe thead th {\n",
       "        text-align: right;\n",
       "    }\n",
       "</style>\n",
       "<table border=\"1\" class=\"dataframe\">\n",
       "  <thead>\n",
       "    <tr style=\"text-align: right;\">\n",
       "      <th></th>\n",
       "      <th>album_id</th>\n",
       "      <th>artist</th>\n",
       "      <th>title</th>\n",
       "      <th>year</th>\n",
       "      <th>rating</th>\n",
       "      <th>votes</th>\n",
       "      <th>album_length</th>\n",
       "      <th>tracks</th>\n",
       "      <th>release_country</th>\n",
       "      <th>release_type</th>\n",
       "      <th>genres</th>\n",
       "      <th>styles</th>\n",
       "      <th>artist_profile</th>\n",
       "      <th>artist_id</th>\n",
       "      <th>master_id</th>\n",
       "      <th>main_release_id</th>\n",
       "    </tr>\n",
       "  </thead>\n",
       "  <tbody>\n",
       "    <tr>\n",
       "      <th>0</th>\n",
       "      <td>40</td>\n",
       "      <td>Sparta</td>\n",
       "      <td>Wiretap Scars</td>\n",
       "      <td>2002</td>\n",
       "      <td>3.79</td>\n",
       "      <td>431</td>\n",
       "      <td>47.62</td>\n",
       "      <td>12</td>\n",
       "      <td>US</td>\n",
       "      <td>['Album']</td>\n",
       "      <td>['Rock']</td>\n",
       "      <td>['Indie Rock', 'Alternative Rock']</td>\n",
       "      <td>El Paso, Texas based band. Formed in 2001 afte...</td>\n",
       "      <td>253712</td>\n",
       "      <td>158153</td>\n",
       "      <td>426893</td>\n",
       "    </tr>\n",
       "  </tbody>\n",
       "</table>\n",
       "</div>"
      ],
      "text/plain": [
       "   album_id  artist          title  year  rating  votes  album_length  tracks  \\\n",
       "0        40  Sparta  Wiretap Scars  2002    3.79    431         47.62      12   \n",
       "\n",
       "  release_country release_type    genres                              styles  \\\n",
       "0              US    ['Album']  ['Rock']  ['Indie Rock', 'Alternative Rock']   \n",
       "\n",
       "                                      artist_profile  artist_id  master_id  \\\n",
       "0  El Paso, Texas based band. Formed in 2001 afte...     253712     158153   \n",
       "\n",
       "   main_release_id  \n",
       "0           426893  "
      ]
     },
     "execution_count": 85,
     "metadata": {},
     "output_type": "execute_result"
    }
   ],
   "source": [
    "df.head(1)"
   ]
  },
  {
   "cell_type": "markdown",
   "metadata": {},
   "source": [
    "**I keep only rock albums**"
   ]
  },
  {
   "cell_type": "code",
   "execution_count": 164,
   "metadata": {},
   "outputs": [
    {
     "data": {
      "text/plain": [
       "(54744, 13)"
      ]
     },
     "execution_count": 164,
     "metadata": {},
     "output_type": "execute_result"
    }
   ],
   "source": [
    "# how many of them are Rock albums?\n",
    "df = df[df['genres'].str.contains('Rock')]\n",
    "df.shape"
   ]
  },
  {
   "cell_type": "markdown",
   "metadata": {},
   "source": [
    "**Drop compilations**"
   ]
  },
  {
   "cell_type": "code",
   "execution_count": 157,
   "metadata": {},
   "outputs": [
    {
     "data": {
      "text/plain": [
       "32"
      ]
     },
     "execution_count": 157,
     "metadata": {},
     "output_type": "execute_result"
    }
   ],
   "source": [
    "df['release_type'].isna().sum()"
   ]
  },
  {
   "cell_type": "code",
   "execution_count": null,
   "metadata": {},
   "outputs": [],
   "source": [
    "df[df['release_type'].isna()]"
   ]
  },
  {
   "cell_type": "code",
   "execution_count": 170,
   "metadata": {},
   "outputs": [
    {
     "data": {
      "text/plain": [
       "0"
      ]
     },
     "execution_count": 170,
     "metadata": {},
     "output_type": "execute_result"
    }
   ],
   "source": [
    "# it's an american band, so I can just drop it\n",
    "df.dropna(subset='release_type', inplace=True)\n",
    "df['release_type'].isna().sum()"
   ]
  },
  {
   "cell_type": "code",
   "execution_count": 171,
   "metadata": {},
   "outputs": [
    {
     "name": "stdout",
     "output_type": "stream",
     "text": [
      "There are 1387 compilations\n"
     ]
    }
   ],
   "source": [
    "print(f'There are {df[df['release_type'].str.contains('Compilation')].shape[0]} compilations')"
   ]
  },
  {
   "cell_type": "code",
   "execution_count": 90,
   "metadata": {},
   "outputs": [
    {
     "data": {
      "text/plain": [
       "(12063, 16)"
      ]
     },
     "execution_count": 90,
     "metadata": {},
     "output_type": "execute_result"
    }
   ],
   "source": [
    "df = df[~df['release_type'].str.contains('Compilation')]\n",
    "df.shape"
   ]
  },
  {
   "cell_type": "code",
   "execution_count": 163,
   "metadata": {},
   "outputs": [
    {
     "data": {
      "text/plain": [
       "26305"
      ]
     },
     "execution_count": 163,
     "metadata": {},
     "output_type": "execute_result"
    }
   ],
   "source": [
    "# number of unique artists\n",
    "df['artist'].nunique()"
   ]
  },
  {
   "cell_type": "markdown",
   "metadata": {},
   "source": [
    "## ``df`` real cleaning"
   ]
  },
  {
   "cell_type": "markdown",
   "metadata": {},
   "source": [
    "I want to **drop duplicates** and releases from **bands outside of the UK**, I only want to keep brittish artists. Also **drop compilations and live albums**."
   ]
  },
  {
   "cell_type": "markdown",
   "metadata": {},
   "source": [
    "**Deleting artists from outside the UK**"
   ]
  },
  {
   "cell_type": "code",
   "execution_count": 92,
   "metadata": {},
   "outputs": [
    {
     "name": "stdout",
     "output_type": "stream",
     "text": [
      "Initial artists: 5094\n",
      "Final artists: 5094\n"
     ]
    }
   ],
   "source": [
    "delete_non_uk_artists(df)"
   ]
  },
  {
   "cell_type": "markdown",
   "metadata": {},
   "source": [
    "### Drop duplicates"
   ]
  },
  {
   "cell_type": "code",
   "execution_count": 94,
   "metadata": {},
   "outputs": [
    {
     "data": {
      "text/plain": [
       "1"
      ]
     },
     "execution_count": 94,
     "metadata": {},
     "output_type": "execute_result"
    }
   ],
   "source": [
    "df[['artist', 'title', 'year', 'rating', 'votes', 'album_length', 'tracks']].duplicated().sum()"
   ]
  },
  {
   "cell_type": "code",
   "execution_count": 95,
   "metadata": {},
   "outputs": [],
   "source": [
    "# these albums are the same, except one entry has master_id=0\n",
    "df.drop_duplicates(subset=['artist', 'title', 'year', 'rating', 'votes', 'album_length', 'tracks'], inplace=True)"
   ]
  },
  {
   "cell_type": "code",
   "execution_count": 96,
   "metadata": {},
   "outputs": [
    {
     "data": {
      "text/plain": [
       "2"
      ]
     },
     "execution_count": 96,
     "metadata": {},
     "output_type": "execute_result"
    }
   ],
   "source": [
    "# the real duplicated albums\n",
    "df[['artist', 'title']].duplicated().sum()"
   ]
  },
  {
   "cell_type": "code",
   "execution_count": 106,
   "metadata": {},
   "outputs": [
    {
     "data": {
      "text/html": [
       "<div>\n",
       "<style scoped>\n",
       "    .dataframe tbody tr th:only-of-type {\n",
       "        vertical-align: middle;\n",
       "    }\n",
       "\n",
       "    .dataframe tbody tr th {\n",
       "        vertical-align: top;\n",
       "    }\n",
       "\n",
       "    .dataframe thead th {\n",
       "        text-align: right;\n",
       "    }\n",
       "</style>\n",
       "<table border=\"1\" class=\"dataframe\">\n",
       "  <thead>\n",
       "    <tr style=\"text-align: right;\">\n",
       "      <th></th>\n",
       "      <th>album_id</th>\n",
       "      <th>artist</th>\n",
       "      <th>title</th>\n",
       "      <th>year</th>\n",
       "      <th>rating</th>\n",
       "      <th>votes</th>\n",
       "      <th>album_length</th>\n",
       "      <th>tracks</th>\n",
       "      <th>release_country</th>\n",
       "      <th>release_type</th>\n",
       "      <th>genres</th>\n",
       "      <th>styles</th>\n",
       "      <th>artist_profile</th>\n",
       "      <th>artist_id</th>\n",
       "      <th>master_id</th>\n",
       "      <th>main_release_id</th>\n",
       "    </tr>\n",
       "  </thead>\n",
       "  <tbody>\n",
       "  </tbody>\n",
       "</table>\n",
       "</div>"
      ],
      "text/plain": [
       "Empty DataFrame\n",
       "Columns: [album_id, artist, title, year, rating, votes, album_length, tracks, release_country, release_type, genres, styles, artist_profile, artist_id, master_id, main_release_id]\n",
       "Index: []"
      ]
     },
     "execution_count": 106,
     "metadata": {},
     "output_type": "execute_result"
    }
   ],
   "source": [
    "# check one by one\n",
    "df[df[['artist', 'title']].duplicated()].tail()"
   ]
  },
  {
   "cell_type": "markdown",
   "metadata": {},
   "source": [
    "**Check these duplicated albums in the original dataframes**"
   ]
  },
  {
   "cell_type": "code",
   "execution_count": 105,
   "metadata": {},
   "outputs": [
    {
     "data": {
      "text/html": [
       "<div>\n",
       "<style scoped>\n",
       "    .dataframe tbody tr th:only-of-type {\n",
       "        vertical-align: middle;\n",
       "    }\n",
       "\n",
       "    .dataframe tbody tr th {\n",
       "        vertical-align: top;\n",
       "    }\n",
       "\n",
       "    .dataframe thead th {\n",
       "        text-align: right;\n",
       "    }\n",
       "</style>\n",
       "<table border=\"1\" class=\"dataframe\">\n",
       "  <thead>\n",
       "    <tr style=\"text-align: right;\">\n",
       "      <th></th>\n",
       "      <th>album_id</th>\n",
       "      <th>artist</th>\n",
       "      <th>title</th>\n",
       "      <th>year</th>\n",
       "      <th>rating</th>\n",
       "      <th>votes</th>\n",
       "      <th>album_length</th>\n",
       "      <th>tracks</th>\n",
       "      <th>release_country</th>\n",
       "      <th>release_type</th>\n",
       "      <th>genres</th>\n",
       "      <th>styles</th>\n",
       "      <th>artist_profile</th>\n",
       "      <th>artist_id</th>\n",
       "      <th>master_id</th>\n",
       "      <th>main_release_id</th>\n",
       "    </tr>\n",
       "  </thead>\n",
       "  <tbody>\n",
       "    <tr>\n",
       "      <th>169</th>\n",
       "      <td>620</td>\n",
       "      <td>Black Sabbath</td>\n",
       "      <td>Master Of Reality</td>\n",
       "      <td>1971</td>\n",
       "      <td>4.45</td>\n",
       "      <td>3756</td>\n",
       "      <td>34.48</td>\n",
       "      <td>8</td>\n",
       "      <td>UK</td>\n",
       "      <td>['LP', 'Album', 'Stereo']</td>\n",
       "      <td>['Rock']</td>\n",
       "      <td>['Heavy Metal', 'Doom Metal']</td>\n",
       "      <td>Considered by many to be the first heavy metal...</td>\n",
       "      <td>144998</td>\n",
       "      <td>4844</td>\n",
       "      <td>590773</td>\n",
       "    </tr>\n",
       "  </tbody>\n",
       "</table>\n",
       "</div>"
      ],
      "text/plain": [
       "     album_id         artist              title  year  rating  votes  \\\n",
       "169       620  Black Sabbath  Master Of Reality  1971    4.45   3756   \n",
       "\n",
       "     album_length  tracks release_country               release_type  \\\n",
       "169         34.48       8              UK  ['LP', 'Album', 'Stereo']   \n",
       "\n",
       "       genres                         styles  \\\n",
       "169  ['Rock']  ['Heavy Metal', 'Doom Metal']   \n",
       "\n",
       "                                        artist_profile  artist_id  master_id  \\\n",
       "169  Considered by many to be the first heavy metal...     144998       4844   \n",
       "\n",
       "     main_release_id  \n",
       "169           590773  "
      ]
     },
     "execution_count": 105,
     "metadata": {},
     "output_type": "execute_result"
    }
   ],
   "source": [
    "# to see the difference between the duplicated albums searching for the album name\n",
    "df[df['title']==\"Master Of Reality\"].sort_values('year')"
   ]
  },
  {
   "cell_type": "markdown",
   "metadata": {},
   "source": [
    "**Drop incorrect albums**"
   ]
  },
  {
   "cell_type": "code",
   "execution_count": 102,
   "metadata": {},
   "outputs": [
    {
     "name": "stdout",
     "output_type": "stream",
     "text": [
      "Rows dropped\n",
      "(12060, 16)\n"
     ]
    }
   ],
   "source": [
    "# check one by one if necessary\n",
    "try:\n",
    "    df.drop([170], axis=0, inplace=True)\n",
    "    print('Rows dropped')\n",
    "    print(df.shape)\n",
    "except:\n",
    "    print(\"Couldn't drop these rows\")\n",
    "    print(df.shape)"
   ]
  },
  {
   "cell_type": "markdown",
   "metadata": {},
   "source": [
    "**Change specific values that are wrong/missing**"
   ]
  },
  {
   "cell_type": "code",
   "execution_count": 104,
   "metadata": {},
   "outputs": [],
   "source": [
    "# change specific values that are wrong/missing\n",
    "\n",
    "# df.loc[1615, 'title'] = 'Heroes'\n",
    "# df.loc[8365, 'rating'] = 3.62\n",
    "# df.loc[8365, 'votes'] = 13\n",
    "df.loc[169, 'album_length'] = 34.48\n",
    "# df.loc[8002, 'tracks'] = 14"
   ]
  },
  {
   "cell_type": "code",
   "execution_count": 103,
   "metadata": {},
   "outputs": [
    {
     "data": {
      "text/plain": [
       "0.48333333333333334"
      ]
     },
     "execution_count": 103,
     "metadata": {},
     "output_type": "execute_result"
    }
   ],
   "source": [
    "# calculate the decimals of the album length (seconds)\n",
    "29/60"
   ]
  },
  {
   "cell_type": "markdown",
   "metadata": {},
   "source": [
    "**``df_ratings_top``**"
   ]
  },
  {
   "cell_type": "markdown",
   "metadata": {},
   "source": [
    "If there are two albums with the same name, but one is for instance an EP or a compilation I don't want to keep, I have to drop it from df,\n",
    "\n",
    "but also from df_ratings_top, otherwise I will keep running into this duplicated album every time I add more albums"
   ]
  },
  {
   "cell_type": "code",
   "execution_count": 183,
   "metadata": {},
   "outputs": [
    {
     "data": {
      "text/html": [
       "<div>\n",
       "<style scoped>\n",
       "    .dataframe tbody tr th:only-of-type {\n",
       "        vertical-align: middle;\n",
       "    }\n",
       "\n",
       "    .dataframe tbody tr th {\n",
       "        vertical-align: top;\n",
       "    }\n",
       "\n",
       "    .dataframe thead th {\n",
       "        text-align: right;\n",
       "    }\n",
       "</style>\n",
       "<table border=\"1\" class=\"dataframe\">\n",
       "  <thead>\n",
       "    <tr style=\"text-align: right;\">\n",
       "      <th></th>\n",
       "      <th>album_id</th>\n",
       "      <th>artist</th>\n",
       "      <th>title</th>\n",
       "      <th>rating</th>\n",
       "      <th>votes</th>\n",
       "    </tr>\n",
       "  </thead>\n",
       "  <tbody>\n",
       "    <tr>\n",
       "      <th>3641</th>\n",
       "      <td>5562</td>\n",
       "      <td>New York Dolls</td>\n",
       "      <td>New York Dolls</td>\n",
       "      <td>3.97</td>\n",
       "      <td>386</td>\n",
       "    </tr>\n",
       "    <tr>\n",
       "      <th>5724</th>\n",
       "      <td>8501</td>\n",
       "      <td>New York Dolls</td>\n",
       "      <td>Too Much Too Soon</td>\n",
       "      <td>3.77</td>\n",
       "      <td>127</td>\n",
       "    </tr>\n",
       "    <tr>\n",
       "      <th>7344</th>\n",
       "      <td>10865</td>\n",
       "      <td>New York Dolls</td>\n",
       "      <td>One Day It Will Please Us To Remember...</td>\n",
       "      <td>3.06</td>\n",
       "      <td>52</td>\n",
       "    </tr>\n",
       "    <tr>\n",
       "      <th>33315</th>\n",
       "      <td>65305</td>\n",
       "      <td>New York Dolls</td>\n",
       "      <td>Rock'n Roll</td>\n",
       "      <td>4.00</td>\n",
       "      <td>11</td>\n",
       "    </tr>\n",
       "    <tr>\n",
       "      <th>36151</th>\n",
       "      <td>74079</td>\n",
       "      <td>New York Dolls</td>\n",
       "      <td>Cause I Sez So</td>\n",
       "      <td>2.71</td>\n",
       "      <td>29</td>\n",
       "    </tr>\n",
       "    <tr>\n",
       "      <th>36152</th>\n",
       "      <td>74083</td>\n",
       "      <td>New York Dolls</td>\n",
       "      <td>Dancing Backward In High Heels</td>\n",
       "      <td>2.35</td>\n",
       "      <td>24</td>\n",
       "    </tr>\n",
       "  </tbody>\n",
       "</table>\n",
       "</div>"
      ],
      "text/plain": [
       "       album_id          artist                                     title  \\\n",
       "3641       5562  New York Dolls                            New York Dolls   \n",
       "5724       8501  New York Dolls                         Too Much Too Soon   \n",
       "7344      10865  New York Dolls  One Day It Will Please Us To Remember...   \n",
       "33315     65305  New York Dolls                               Rock'n Roll   \n",
       "36151     74079  New York Dolls                            Cause I Sez So   \n",
       "36152     74083  New York Dolls            Dancing Backward In High Heels   \n",
       "\n",
       "       rating  votes  \n",
       "3641     3.97    386  \n",
       "5724     3.77    127  \n",
       "7344     3.06     52  \n",
       "33315    4.00     11  \n",
       "36151    2.71     29  \n",
       "36152    2.35     24  "
      ]
     },
     "execution_count": 183,
     "metadata": {},
     "output_type": "execute_result"
    }
   ],
   "source": [
    "df_ratings_top[df_ratings_top['artist']=='New York Dolls']"
   ]
  },
  {
   "cell_type": "code",
   "execution_count": 116,
   "metadata": {},
   "outputs": [
    {
     "data": {
      "text/html": [
       "<div>\n",
       "<style scoped>\n",
       "    .dataframe tbody tr th:only-of-type {\n",
       "        vertical-align: middle;\n",
       "    }\n",
       "\n",
       "    .dataframe tbody tr th {\n",
       "        vertical-align: top;\n",
       "    }\n",
       "\n",
       "    .dataframe thead th {\n",
       "        text-align: right;\n",
       "    }\n",
       "</style>\n",
       "<table border=\"1\" class=\"dataframe\">\n",
       "  <thead>\n",
       "    <tr style=\"text-align: right;\">\n",
       "      <th></th>\n",
       "      <th>album_id</th>\n",
       "      <th>artist</th>\n",
       "      <th>title</th>\n",
       "      <th>rating</th>\n",
       "      <th>votes</th>\n",
       "    </tr>\n",
       "  </thead>\n",
       "  <tbody>\n",
       "    <tr>\n",
       "      <th>19214</th>\n",
       "      <td>30855</td>\n",
       "      <td>The Animals</td>\n",
       "      <td>Animal Tracks</td>\n",
       "      <td>3.68</td>\n",
       "      <td>11</td>\n",
       "    </tr>\n",
       "    <tr>\n",
       "      <th>19215</th>\n",
       "      <td>30856</td>\n",
       "      <td>The Animals</td>\n",
       "      <td>Animal Tracks</td>\n",
       "      <td>3.60</td>\n",
       "      <td>10</td>\n",
       "    </tr>\n",
       "  </tbody>\n",
       "</table>\n",
       "</div>"
      ],
      "text/plain": [
       "       album_id       artist          title  rating  votes\n",
       "19214     30855  The Animals  Animal Tracks    3.68     11\n",
       "19215     30856  The Animals  Animal Tracks    3.60     10"
      ]
     },
     "execution_count": 116,
     "metadata": {},
     "output_type": "execute_result"
    }
   ],
   "source": [
    "df_ratings_top[df_ratings_top['title']=='Animal Tracks']"
   ]
  },
  {
   "cell_type": "code",
   "execution_count": 117,
   "metadata": {},
   "outputs": [
    {
     "name": "stdout",
     "output_type": "stream",
     "text": [
      "Rows dropped\n",
      "(79626, 5)\n"
     ]
    }
   ],
   "source": [
    "# check one by one if necessary\n",
    "try:\n",
    "    df_ratings_top.drop([4853], axis=0, inplace=True)\n",
    "    print('Rows dropped')\n",
    "    print(df_ratings_top.shape)\n",
    "except:\n",
    "    print(\"Couldn't drop these rows\")\n",
    "    print(df_ratings_top.shape)"
   ]
  },
  {
   "cell_type": "code",
   "execution_count": 250,
   "metadata": {},
   "outputs": [],
   "source": [
    "df_ratings_top.to_csv('Datasets/df_ratings_top.csv', index=False)"
   ]
  },
  {
   "cell_type": "markdown",
   "metadata": {},
   "source": [
    "### **Drop live albums**"
   ]
  },
  {
   "cell_type": "markdown",
   "metadata": {},
   "source": [
    "Let's try to detect the live albums by the title"
   ]
  },
  {
   "cell_type": "markdown",
   "metadata": {},
   "source": [
    "**'Live at'**"
   ]
  },
  {
   "cell_type": "code",
   "execution_count": 107,
   "metadata": {},
   "outputs": [
    {
     "data": {
      "text/plain": [
       "(12060, 16)"
      ]
     },
     "execution_count": 107,
     "metadata": {},
     "output_type": "execute_result"
    }
   ],
   "source": [
    "df.shape"
   ]
  },
  {
   "cell_type": "code",
   "execution_count": 108,
   "metadata": {},
   "outputs": [
    {
     "name": "stdout",
     "output_type": "stream",
     "text": [
      "There are 0 albums with 'Live at ' in the title\n"
     ]
    }
   ],
   "source": [
    "print(f\"There are {df[df['title'].str.contains('Live at ', case=False)].shape[0]} albums with 'Live at ' in the title\")"
   ]
  },
  {
   "cell_type": "code",
   "execution_count": 109,
   "metadata": {},
   "outputs": [
    {
     "data": {
      "text/html": [
       "<div>\n",
       "<style scoped>\n",
       "    .dataframe tbody tr th:only-of-type {\n",
       "        vertical-align: middle;\n",
       "    }\n",
       "\n",
       "    .dataframe tbody tr th {\n",
       "        vertical-align: top;\n",
       "    }\n",
       "\n",
       "    .dataframe thead th {\n",
       "        text-align: right;\n",
       "    }\n",
       "</style>\n",
       "<table border=\"1\" class=\"dataframe\">\n",
       "  <thead>\n",
       "    <tr style=\"text-align: right;\">\n",
       "      <th></th>\n",
       "      <th>album_id</th>\n",
       "      <th>artist</th>\n",
       "      <th>title</th>\n",
       "      <th>year</th>\n",
       "      <th>rating</th>\n",
       "      <th>votes</th>\n",
       "      <th>album_length</th>\n",
       "      <th>tracks</th>\n",
       "      <th>release_country</th>\n",
       "      <th>release_type</th>\n",
       "      <th>genres</th>\n",
       "      <th>styles</th>\n",
       "      <th>artist_profile</th>\n",
       "      <th>artist_id</th>\n",
       "      <th>master_id</th>\n",
       "      <th>main_release_id</th>\n",
       "    </tr>\n",
       "  </thead>\n",
       "  <tbody>\n",
       "  </tbody>\n",
       "</table>\n",
       "</div>"
      ],
      "text/plain": [
       "Empty DataFrame\n",
       "Columns: [album_id, artist, title, year, rating, votes, album_length, tracks, release_country, release_type, genres, styles, artist_profile, artist_id, master_id, main_release_id]\n",
       "Index: []"
      ]
     },
     "execution_count": 109,
     "metadata": {},
     "output_type": "execute_result"
    }
   ],
   "source": [
    "# Let's check them before deleting them\n",
    "df[df['title'].str.contains('Live at ', case=False)]"
   ]
  },
  {
   "cell_type": "code",
   "execution_count": 110,
   "metadata": {},
   "outputs": [
    {
     "data": {
      "text/plain": [
       "(12060, 16)"
      ]
     },
     "execution_count": 110,
     "metadata": {},
     "output_type": "execute_result"
    }
   ],
   "source": [
    "# correct, they are all live albums\n",
    "df = df[~df['title'].str.contains('Live at ', case=False)]\n",
    "df.shape"
   ]
  },
  {
   "cell_type": "markdown",
   "metadata": {},
   "source": [
    "**'Live in'**"
   ]
  },
  {
   "cell_type": "code",
   "execution_count": 111,
   "metadata": {},
   "outputs": [
    {
     "name": "stdout",
     "output_type": "stream",
     "text": [
      "There are 0 albums with 'Live in ' in the title\n"
     ]
    }
   ],
   "source": [
    "print(f\"There are {df[df['title'].str.contains(r'^Live in ', case=False)].shape[0]} albums with 'Live in ' in the title\")"
   ]
  },
  {
   "cell_type": "code",
   "execution_count": 112,
   "metadata": {},
   "outputs": [
    {
     "data": {
      "text/html": [
       "<div>\n",
       "<style scoped>\n",
       "    .dataframe tbody tr th:only-of-type {\n",
       "        vertical-align: middle;\n",
       "    }\n",
       "\n",
       "    .dataframe tbody tr th {\n",
       "        vertical-align: top;\n",
       "    }\n",
       "\n",
       "    .dataframe thead th {\n",
       "        text-align: right;\n",
       "    }\n",
       "</style>\n",
       "<table border=\"1\" class=\"dataframe\">\n",
       "  <thead>\n",
       "    <tr style=\"text-align: right;\">\n",
       "      <th></th>\n",
       "      <th>album_id</th>\n",
       "      <th>artist</th>\n",
       "      <th>title</th>\n",
       "      <th>year</th>\n",
       "      <th>rating</th>\n",
       "      <th>votes</th>\n",
       "      <th>album_length</th>\n",
       "      <th>tracks</th>\n",
       "      <th>release_country</th>\n",
       "      <th>release_type</th>\n",
       "      <th>genres</th>\n",
       "      <th>styles</th>\n",
       "      <th>artist_profile</th>\n",
       "      <th>artist_id</th>\n",
       "      <th>master_id</th>\n",
       "      <th>main_release_id</th>\n",
       "    </tr>\n",
       "  </thead>\n",
       "  <tbody>\n",
       "  </tbody>\n",
       "</table>\n",
       "</div>"
      ],
      "text/plain": [
       "Empty DataFrame\n",
       "Columns: [album_id, artist, title, year, rating, votes, album_length, tracks, release_country, release_type, genres, styles, artist_profile, artist_id, master_id, main_release_id]\n",
       "Index: []"
      ]
     },
     "execution_count": 112,
     "metadata": {},
     "output_type": "execute_result"
    }
   ],
   "source": [
    "# Let's check them before deleting them\n",
    "df[df['title'].str.contains(r'^Live in ', case=False)]"
   ]
  },
  {
   "cell_type": "code",
   "execution_count": 113,
   "metadata": {},
   "outputs": [
    {
     "data": {
      "text/plain": [
       "(12060, 16)"
      ]
     },
     "execution_count": 113,
     "metadata": {},
     "output_type": "execute_result"
    }
   ],
   "source": [
    "# I can drop them all\n",
    "df = df[~df['title'].str.contains(r'^Live in ', case=False)]\n",
    "df.shape"
   ]
  },
  {
   "cell_type": "code",
   "execution_count": 114,
   "metadata": {},
   "outputs": [
    {
     "data": {
      "text/html": [
       "<div>\n",
       "<style scoped>\n",
       "    .dataframe tbody tr th:only-of-type {\n",
       "        vertical-align: middle;\n",
       "    }\n",
       "\n",
       "    .dataframe tbody tr th {\n",
       "        vertical-align: top;\n",
       "    }\n",
       "\n",
       "    .dataframe thead th {\n",
       "        text-align: right;\n",
       "    }\n",
       "</style>\n",
       "<table border=\"1\" class=\"dataframe\">\n",
       "  <thead>\n",
       "    <tr style=\"text-align: right;\">\n",
       "      <th></th>\n",
       "      <th>album_id</th>\n",
       "      <th>artist</th>\n",
       "      <th>title</th>\n",
       "      <th>year</th>\n",
       "      <th>rating</th>\n",
       "      <th>votes</th>\n",
       "      <th>album_length</th>\n",
       "      <th>tracks</th>\n",
       "      <th>release_country</th>\n",
       "      <th>release_type</th>\n",
       "      <th>genres</th>\n",
       "      <th>styles</th>\n",
       "      <th>artist_profile</th>\n",
       "      <th>artist_id</th>\n",
       "      <th>master_id</th>\n",
       "      <th>main_release_id</th>\n",
       "    </tr>\n",
       "  </thead>\n",
       "  <tbody>\n",
       "    <tr>\n",
       "      <th>10466</th>\n",
       "      <td>274989</td>\n",
       "      <td>IAMX</td>\n",
       "      <td>Alive In New Light</td>\n",
       "      <td>2018</td>\n",
       "      <td>3.42</td>\n",
       "      <td>12</td>\n",
       "      <td>40.13</td>\n",
       "      <td>9</td>\n",
       "      <td>UK &amp; Europe</td>\n",
       "      <td>['Album']</td>\n",
       "      <td>['Electronic', 'Rock']</td>\n",
       "      <td>['Alternative Rock', 'Electro']</td>\n",
       "      <td>IAMX is the solo musical project of [a209168] ...</td>\n",
       "      <td>192242</td>\n",
       "      <td>1318851</td>\n",
       "      <td>11504248</td>\n",
       "    </tr>\n",
       "  </tbody>\n",
       "</table>\n",
       "</div>"
      ],
      "text/plain": [
       "       album_id artist               title  year  rating  votes  album_length  \\\n",
       "10466    274989   IAMX  Alive In New Light  2018    3.42     12         40.13   \n",
       "\n",
       "       tracks release_country release_type                  genres  \\\n",
       "10466       9     UK & Europe    ['Album']  ['Electronic', 'Rock']   \n",
       "\n",
       "                                styles  \\\n",
       "10466  ['Alternative Rock', 'Electro']   \n",
       "\n",
       "                                          artist_profile  artist_id  \\\n",
       "10466  IAMX is the solo musical project of [a209168] ...     192242   \n",
       "\n",
       "       master_id  main_release_id  \n",
       "10466    1318851         11504248  "
      ]
     },
     "execution_count": 114,
     "metadata": {},
     "output_type": "execute_result"
    }
   ],
   "source": [
    "# This is a studio album\n",
    "df[df['title'].str.contains('Live in ', case=False)]"
   ]
  },
  {
   "cell_type": "markdown",
   "metadata": {},
   "source": [
    "### **Dropping compilations sorting albums by the top rated**"
   ]
  },
  {
   "cell_type": "markdown",
   "metadata": {},
   "source": [
    "Usually compilations have the best songs of the band and users love them, so let's find them, even if 'Compilation' is not in ``release_type``"
   ]
  },
  {
   "cell_type": "code",
   "execution_count": 326,
   "metadata": {},
   "outputs": [
    {
     "data": {
      "text/html": [
       "<div>\n",
       "<style scoped>\n",
       "    .dataframe tbody tr th:only-of-type {\n",
       "        vertical-align: middle;\n",
       "    }\n",
       "\n",
       "    .dataframe tbody tr th {\n",
       "        vertical-align: top;\n",
       "    }\n",
       "\n",
       "    .dataframe thead th {\n",
       "        text-align: right;\n",
       "    }\n",
       "</style>\n",
       "<table border=\"1\" class=\"dataframe\">\n",
       "  <thead>\n",
       "    <tr style=\"text-align: right;\">\n",
       "      <th></th>\n",
       "      <th>album_id</th>\n",
       "      <th>artist</th>\n",
       "      <th>title</th>\n",
       "      <th>year</th>\n",
       "      <th>rating</th>\n",
       "      <th>votes</th>\n",
       "      <th>album_length</th>\n",
       "      <th>tracks</th>\n",
       "      <th>release_country</th>\n",
       "      <th>release_type</th>\n",
       "      <th>genres</th>\n",
       "      <th>styles</th>\n",
       "      <th>artist_profile</th>\n",
       "      <th>artist_id</th>\n",
       "      <th>master_id</th>\n",
       "      <th>main_release_id</th>\n",
       "    </tr>\n",
       "  </thead>\n",
       "  <tbody>\n",
       "    <tr>\n",
       "      <th>407</th>\n",
       "      <td>1484</td>\n",
       "      <td>Radiohead</td>\n",
       "      <td>OK Computer</td>\n",
       "      <td>1997</td>\n",
       "      <td>4.54</td>\n",
       "      <td>9186</td>\n",
       "      <td>0.00</td>\n",
       "      <td>16</td>\n",
       "      <td>Worldwide</td>\n",
       "      <td>['LP', 'Album']</td>\n",
       "      <td>['Electronic', 'Rock']</td>\n",
       "      <td>['Alternative Rock']</td>\n",
       "      <td>Electronic and alternative rock (modern rock) ...</td>\n",
       "      <td>3840</td>\n",
       "      <td>21491</td>\n",
       "      <td>4950798</td>\n",
       "    </tr>\n",
       "    <tr>\n",
       "      <th>22</th>\n",
       "      <td>130</td>\n",
       "      <td>Pink Floyd</td>\n",
       "      <td>The Dark Side Of The Moon</td>\n",
       "      <td>1973</td>\n",
       "      <td>4.55</td>\n",
       "      <td>8048</td>\n",
       "      <td>0.00</td>\n",
       "      <td>10</td>\n",
       "      <td>UK</td>\n",
       "      <td>['LP', 'Album', 'Stereo']</td>\n",
       "      <td>['Rock']</td>\n",
       "      <td>['Prog Rock', 'Psychedelic Rock']</td>\n",
       "      <td>Pink Floyd was an English rock band from Londo...</td>\n",
       "      <td>45467</td>\n",
       "      <td>10362</td>\n",
       "      <td>1873013</td>\n",
       "    </tr>\n",
       "    <tr>\n",
       "      <th>51</th>\n",
       "      <td>226</td>\n",
       "      <td>Radiohead</td>\n",
       "      <td>Kid A</td>\n",
       "      <td>2000</td>\n",
       "      <td>4.43</td>\n",
       "      <td>7685</td>\n",
       "      <td>46.72</td>\n",
       "      <td>15</td>\n",
       "      <td>UK</td>\n",
       "      <td>['10\"', '33 ⅓ RPM', 'Album', 'Stereo']</td>\n",
       "      <td>['Electronic', 'Rock']</td>\n",
       "      <td>['Alternative Rock', 'IDM', 'Experimental']</td>\n",
       "      <td>Electronic and alternative rock (modern rock) ...</td>\n",
       "      <td>3840</td>\n",
       "      <td>21501</td>\n",
       "      <td>74743</td>\n",
       "    </tr>\n",
       "    <tr>\n",
       "      <th>142</th>\n",
       "      <td>531</td>\n",
       "      <td>Pink Floyd</td>\n",
       "      <td>Wish You Were Here</td>\n",
       "      <td>1975</td>\n",
       "      <td>4.63</td>\n",
       "      <td>7065</td>\n",
       "      <td>0.00</td>\n",
       "      <td>5</td>\n",
       "      <td>UK</td>\n",
       "      <td>['LP', 'Album', 'Stereo']</td>\n",
       "      <td>['Rock']</td>\n",
       "      <td>['Prog Rock']</td>\n",
       "      <td>Pink Floyd was an English rock band from Londo...</td>\n",
       "      <td>45467</td>\n",
       "      <td>11703</td>\n",
       "      <td>16211812</td>\n",
       "    </tr>\n",
       "    <tr>\n",
       "      <th>3670</th>\n",
       "      <td>21735</td>\n",
       "      <td>Radiohead</td>\n",
       "      <td>In Rainbows</td>\n",
       "      <td>2007</td>\n",
       "      <td>4.30</td>\n",
       "      <td>6734</td>\n",
       "      <td>42.63</td>\n",
       "      <td>10</td>\n",
       "      <td>Europe</td>\n",
       "      <td>['LP', 'Album']</td>\n",
       "      <td>['Electronic', 'Rock']</td>\n",
       "      <td>['Alternative Rock', 'Art Rock', 'Experimental...</td>\n",
       "      <td>Electronic and alternative rock (modern rock) ...</td>\n",
       "      <td>3840</td>\n",
       "      <td>21520</td>\n",
       "      <td>1174296</td>\n",
       "    </tr>\n",
       "    <tr>\n",
       "      <th>19</th>\n",
       "      <td>110</td>\n",
       "      <td>Radiohead</td>\n",
       "      <td>The Bends</td>\n",
       "      <td>1995</td>\n",
       "      <td>4.10</td>\n",
       "      <td>6445</td>\n",
       "      <td>48.60</td>\n",
       "      <td>12</td>\n",
       "      <td>UK</td>\n",
       "      <td>['LP', 'Album']</td>\n",
       "      <td>['Rock']</td>\n",
       "      <td>['Alternative Rock']</td>\n",
       "      <td>Electronic and alternative rock (modern rock) ...</td>\n",
       "      <td>3840</td>\n",
       "      <td>17008</td>\n",
       "      <td>5629921</td>\n",
       "    </tr>\n",
       "    <tr>\n",
       "      <th>431</th>\n",
       "      <td>1634</td>\n",
       "      <td>Pink Floyd</td>\n",
       "      <td>The Wall</td>\n",
       "      <td>1979</td>\n",
       "      <td>4.26</td>\n",
       "      <td>5917</td>\n",
       "      <td>80.62</td>\n",
       "      <td>26</td>\n",
       "      <td>UK</td>\n",
       "      <td>['LP', 'Album', 'Stereo']</td>\n",
       "      <td>['Rock']</td>\n",
       "      <td>['Prog Rock', 'Art Rock']</td>\n",
       "      <td>Pink Floyd was an English rock band from Londo...</td>\n",
       "      <td>45467</td>\n",
       "      <td>11329</td>\n",
       "      <td>27371856</td>\n",
       "    </tr>\n",
       "    <tr>\n",
       "      <th>38</th>\n",
       "      <td>185</td>\n",
       "      <td>Pink Floyd</td>\n",
       "      <td>Animals</td>\n",
       "      <td>1977</td>\n",
       "      <td>4.51</td>\n",
       "      <td>5420</td>\n",
       "      <td>41.52</td>\n",
       "      <td>5</td>\n",
       "      <td>UK</td>\n",
       "      <td>['LP', 'Album', 'Stereo']</td>\n",
       "      <td>['Rock']</td>\n",
       "      <td>['Prog Rock']</td>\n",
       "      <td>Pink Floyd was an English rock band from Londo...</td>\n",
       "      <td>45467</td>\n",
       "      <td>10370</td>\n",
       "      <td>391322</td>\n",
       "    </tr>\n",
       "    <tr>\n",
       "      <th>9</th>\n",
       "      <td>67</td>\n",
       "      <td>Black Sabbath</td>\n",
       "      <td>Paranoid</td>\n",
       "      <td>1970</td>\n",
       "      <td>4.52</td>\n",
       "      <td>5144</td>\n",
       "      <td>0.00</td>\n",
       "      <td>8</td>\n",
       "      <td>UK</td>\n",
       "      <td>['LP', 'Album']</td>\n",
       "      <td>['Rock']</td>\n",
       "      <td>['Hard Rock', 'Heavy Metal']</td>\n",
       "      <td>Considered by many to be the first heavy metal...</td>\n",
       "      <td>144998</td>\n",
       "      <td>302</td>\n",
       "      <td>696772</td>\n",
       "    </tr>\n",
       "    <tr>\n",
       "      <th>17</th>\n",
       "      <td>96</td>\n",
       "      <td>Radiohead</td>\n",
       "      <td>Amnesiac</td>\n",
       "      <td>2001</td>\n",
       "      <td>3.91</td>\n",
       "      <td>5058</td>\n",
       "      <td>0.00</td>\n",
       "      <td>11</td>\n",
       "      <td>Europe</td>\n",
       "      <td>['LP', '10\"', 'Album']</td>\n",
       "      <td>['Electronic', 'Rock']</td>\n",
       "      <td>['Alternative Rock', 'Experimental']</td>\n",
       "      <td>Electronic and alternative rock (modern rock) ...</td>\n",
       "      <td>3840</td>\n",
       "      <td>2507</td>\n",
       "      <td>173980</td>\n",
       "    </tr>\n",
       "  </tbody>\n",
       "</table>\n",
       "</div>"
      ],
      "text/plain": [
       "      album_id         artist                      title  year  rating  votes  \\\n",
       "407       1484      Radiohead                OK Computer  1997    4.54   9186   \n",
       "22         130     Pink Floyd  The Dark Side Of The Moon  1973    4.55   8048   \n",
       "51         226      Radiohead                      Kid A  2000    4.43   7685   \n",
       "142        531     Pink Floyd         Wish You Were Here  1975    4.63   7065   \n",
       "3670     21735      Radiohead                In Rainbows  2007    4.30   6734   \n",
       "19         110      Radiohead                  The Bends  1995    4.10   6445   \n",
       "431       1634     Pink Floyd                   The Wall  1979    4.26   5917   \n",
       "38         185     Pink Floyd                    Animals  1977    4.51   5420   \n",
       "9           67  Black Sabbath                   Paranoid  1970    4.52   5144   \n",
       "17          96      Radiohead                   Amnesiac  2001    3.91   5058   \n",
       "\n",
       "      album_length  tracks release_country  \\\n",
       "407           0.00      16       Worldwide   \n",
       "22            0.00      10              UK   \n",
       "51           46.72      15              UK   \n",
       "142           0.00       5              UK   \n",
       "3670         42.63      10          Europe   \n",
       "19           48.60      12              UK   \n",
       "431          80.62      26              UK   \n",
       "38           41.52       5              UK   \n",
       "9             0.00       8              UK   \n",
       "17            0.00      11          Europe   \n",
       "\n",
       "                                release_type                  genres  \\\n",
       "407                          ['LP', 'Album']  ['Electronic', 'Rock']   \n",
       "22                 ['LP', 'Album', 'Stereo']                ['Rock']   \n",
       "51    ['10\"', '33 ⅓ RPM', 'Album', 'Stereo']  ['Electronic', 'Rock']   \n",
       "142                ['LP', 'Album', 'Stereo']                ['Rock']   \n",
       "3670                         ['LP', 'Album']  ['Electronic', 'Rock']   \n",
       "19                           ['LP', 'Album']                ['Rock']   \n",
       "431                ['LP', 'Album', 'Stereo']                ['Rock']   \n",
       "38                 ['LP', 'Album', 'Stereo']                ['Rock']   \n",
       "9                            ['LP', 'Album']                ['Rock']   \n",
       "17                    ['LP', '10\"', 'Album']  ['Electronic', 'Rock']   \n",
       "\n",
       "                                                 styles  \\\n",
       "407                                ['Alternative Rock']   \n",
       "22                    ['Prog Rock', 'Psychedelic Rock']   \n",
       "51          ['Alternative Rock', 'IDM', 'Experimental']   \n",
       "142                                       ['Prog Rock']   \n",
       "3670  ['Alternative Rock', 'Art Rock', 'Experimental...   \n",
       "19                                 ['Alternative Rock']   \n",
       "431                           ['Prog Rock', 'Art Rock']   \n",
       "38                                        ['Prog Rock']   \n",
       "9                          ['Hard Rock', 'Heavy Metal']   \n",
       "17                 ['Alternative Rock', 'Experimental']   \n",
       "\n",
       "                                         artist_profile  artist_id  master_id  \\\n",
       "407   Electronic and alternative rock (modern rock) ...       3840      21491   \n",
       "22    Pink Floyd was an English rock band from Londo...      45467      10362   \n",
       "51    Electronic and alternative rock (modern rock) ...       3840      21501   \n",
       "142   Pink Floyd was an English rock band from Londo...      45467      11703   \n",
       "3670  Electronic and alternative rock (modern rock) ...       3840      21520   \n",
       "19    Electronic and alternative rock (modern rock) ...       3840      17008   \n",
       "431   Pink Floyd was an English rock band from Londo...      45467      11329   \n",
       "38    Pink Floyd was an English rock band from Londo...      45467      10370   \n",
       "9     Considered by many to be the first heavy metal...     144998        302   \n",
       "17    Electronic and alternative rock (modern rock) ...       3840       2507   \n",
       "\n",
       "      main_release_id  \n",
       "407           4950798  \n",
       "22            1873013  \n",
       "51              74743  \n",
       "142          16211812  \n",
       "3670          1174296  \n",
       "19            5629921  \n",
       "431          27371856  \n",
       "38             391322  \n",
       "9              696772  \n",
       "17             173980  "
      ]
     },
     "execution_count": 326,
     "metadata": {},
     "output_type": "execute_result"
    }
   ],
   "source": [
    "start_row = 0\n",
    "\n",
    "df.sort_values(['votes'], ascending=False).iloc[start_row:start_row+10]"
   ]
  },
  {
   "cell_type": "code",
   "execution_count": 325,
   "metadata": {},
   "outputs": [
    {
     "name": "stdout",
     "output_type": "stream",
     "text": [
      "Rows dropped\n",
      "(11739, 16)\n"
     ]
    }
   ],
   "source": [
    "# check one by one if necessary\n",
    "try:\n",
    "    df.drop([9140], axis=0, inplace=True)\n",
    "    print('Rows dropped')\n",
    "    print(df.shape)\n",
    "except:\n",
    "    print(\"Couldn't drop these rows\")\n",
    "    print(df.shape)"
   ]
  },
  {
   "cell_type": "markdown",
   "metadata": {},
   "source": [
    "### **Drop ratings and sort columns**"
   ]
  },
  {
   "cell_type": "code",
   "execution_count": 115,
   "metadata": {},
   "outputs": [],
   "source": [
    "df = columns_hide_ratings(df)"
   ]
  },
  {
   "cell_type": "code",
   "execution_count": 117,
   "metadata": {},
   "outputs": [
    {
     "data": {
      "text/html": [
       "<div>\n",
       "<style scoped>\n",
       "    .dataframe tbody tr th:only-of-type {\n",
       "        vertical-align: middle;\n",
       "    }\n",
       "\n",
       "    .dataframe tbody tr th {\n",
       "        vertical-align: top;\n",
       "    }\n",
       "\n",
       "    .dataframe thead th {\n",
       "        text-align: right;\n",
       "    }\n",
       "</style>\n",
       "<table border=\"1\" class=\"dataframe\">\n",
       "  <thead>\n",
       "    <tr style=\"text-align: right;\">\n",
       "      <th></th>\n",
       "      <th>artist_id</th>\n",
       "      <th>master_id</th>\n",
       "      <th>main_release_id</th>\n",
       "      <th>release_country</th>\n",
       "      <th>artist</th>\n",
       "      <th>title</th>\n",
       "      <th>year</th>\n",
       "      <th>album_length</th>\n",
       "      <th>tracks</th>\n",
       "      <th>release_type</th>\n",
       "      <th>genres</th>\n",
       "      <th>styles</th>\n",
       "      <th>artist_profile</th>\n",
       "    </tr>\n",
       "  </thead>\n",
       "  <tbody>\n",
       "    <tr>\n",
       "      <th>0</th>\n",
       "      <td>253712.0</td>\n",
       "      <td>158153</td>\n",
       "      <td>426893</td>\n",
       "      <td>US</td>\n",
       "      <td>Sparta</td>\n",
       "      <td>Wiretap Scars</td>\n",
       "      <td>2002</td>\n",
       "      <td>47.62</td>\n",
       "      <td>12</td>\n",
       "      <td>['Album']</td>\n",
       "      <td>['Rock']</td>\n",
       "      <td>['Indie Rock', 'Alternative Rock']</td>\n",
       "      <td>El Paso, Texas based band. Formed in 2001 afte...</td>\n",
       "    </tr>\n",
       "  </tbody>\n",
       "</table>\n",
       "</div>"
      ],
      "text/plain": [
       "   artist_id  master_id  main_release_id release_country  artist  \\\n",
       "0   253712.0     158153           426893              US  Sparta   \n",
       "\n",
       "           title  year  album_length  tracks release_type    genres  \\\n",
       "0  Wiretap Scars  2002         47.62      12    ['Album']  ['Rock']   \n",
       "\n",
       "                               styles  \\\n",
       "0  ['Indie Rock', 'Alternative Rock']   \n",
       "\n",
       "                                      artist_profile  \n",
       "0  El Paso, Texas based band. Formed in 2001 afte...  "
      ]
     },
     "execution_count": 117,
     "metadata": {},
     "output_type": "execute_result"
    }
   ],
   "source": [
    "df_masters.head(1)"
   ]
  },
  {
   "cell_type": "code",
   "execution_count": 118,
   "metadata": {},
   "outputs": [
    {
     "data": {
      "text/html": [
       "<div>\n",
       "<style scoped>\n",
       "    .dataframe tbody tr th:only-of-type {\n",
       "        vertical-align: middle;\n",
       "    }\n",
       "\n",
       "    .dataframe tbody tr th {\n",
       "        vertical-align: top;\n",
       "    }\n",
       "\n",
       "    .dataframe thead th {\n",
       "        text-align: right;\n",
       "    }\n",
       "</style>\n",
       "<table border=\"1\" class=\"dataframe\">\n",
       "  <thead>\n",
       "    <tr style=\"text-align: right;\">\n",
       "      <th></th>\n",
       "      <th>artist_id</th>\n",
       "      <th>master_id</th>\n",
       "      <th>main_release_id</th>\n",
       "      <th>release_country</th>\n",
       "      <th>artist</th>\n",
       "      <th>title</th>\n",
       "      <th>year</th>\n",
       "      <th>album_length</th>\n",
       "      <th>tracks</th>\n",
       "      <th>release_type</th>\n",
       "      <th>genres</th>\n",
       "      <th>styles</th>\n",
       "      <th>artist_profile</th>\n",
       "    </tr>\n",
       "  </thead>\n",
       "  <tbody>\n",
       "    <tr>\n",
       "      <th>0</th>\n",
       "      <td>253712</td>\n",
       "      <td>158153</td>\n",
       "      <td>426893</td>\n",
       "      <td>US</td>\n",
       "      <td>Sparta</td>\n",
       "      <td>Wiretap Scars</td>\n",
       "      <td>2002</td>\n",
       "      <td>47.62</td>\n",
       "      <td>12</td>\n",
       "      <td>['Album']</td>\n",
       "      <td>['Rock']</td>\n",
       "      <td>['Indie Rock', 'Alternative Rock']</td>\n",
       "      <td>El Paso, Texas based band. Formed in 2001 afte...</td>\n",
       "    </tr>\n",
       "  </tbody>\n",
       "</table>\n",
       "</div>"
      ],
      "text/plain": [
       "   artist_id  master_id  main_release_id release_country  artist  \\\n",
       "0     253712     158153           426893              US  Sparta   \n",
       "\n",
       "           title  year  album_length  tracks release_type    genres  \\\n",
       "0  Wiretap Scars  2002         47.62      12    ['Album']  ['Rock']   \n",
       "\n",
       "                               styles  \\\n",
       "0  ['Indie Rock', 'Alternative Rock']   \n",
       "\n",
       "                                      artist_profile  \n",
       "0  El Paso, Texas based band. Formed in 2001 afte...  "
      ]
     },
     "execution_count": 118,
     "metadata": {},
     "output_type": "execute_result"
    }
   ],
   "source": [
    "df.head(1)"
   ]
  },
  {
   "cell_type": "code",
   "execution_count": 119,
   "metadata": {},
   "outputs": [],
   "source": [
    "df['artist_id'] = df['artist_id'].astype(int)"
   ]
  },
  {
   "cell_type": "markdown",
   "metadata": {},
   "source": [
    "### **``year = 0``**"
   ]
  },
  {
   "cell_type": "code",
   "execution_count": null,
   "metadata": {},
   "outputs": [
    {
     "data": {
      "text/plain": [
       "(11752, 13)"
      ]
     },
     "execution_count": 2,
     "metadata": {},
     "output_type": "execute_result"
    }
   ],
   "source": [
    "# df = pd.read_csv('Datasets/df_uk_rock_ratings.csv')\n",
    "# df.shape"
   ]
  },
  {
   "cell_type": "code",
   "execution_count": 120,
   "metadata": {},
   "outputs": [
    {
     "data": {
      "text/plain": [
       "(0, 13)"
      ]
     },
     "execution_count": 120,
     "metadata": {},
     "output_type": "execute_result"
    }
   ],
   "source": [
    "df[df['year']==0].shape"
   ]
  },
  {
   "cell_type": "code",
   "execution_count": 121,
   "metadata": {},
   "outputs": [
    {
     "data": {
      "text/html": [
       "<div>\n",
       "<style scoped>\n",
       "    .dataframe tbody tr th:only-of-type {\n",
       "        vertical-align: middle;\n",
       "    }\n",
       "\n",
       "    .dataframe tbody tr th {\n",
       "        vertical-align: top;\n",
       "    }\n",
       "\n",
       "    .dataframe thead th {\n",
       "        text-align: right;\n",
       "    }\n",
       "</style>\n",
       "<table border=\"1\" class=\"dataframe\">\n",
       "  <thead>\n",
       "    <tr style=\"text-align: right;\">\n",
       "      <th></th>\n",
       "      <th>artist_id</th>\n",
       "      <th>master_id</th>\n",
       "      <th>main_release_id</th>\n",
       "      <th>release_country</th>\n",
       "      <th>artist</th>\n",
       "      <th>title</th>\n",
       "      <th>year</th>\n",
       "      <th>album_length</th>\n",
       "      <th>tracks</th>\n",
       "      <th>release_type</th>\n",
       "      <th>genres</th>\n",
       "      <th>styles</th>\n",
       "      <th>artist_profile</th>\n",
       "    </tr>\n",
       "  </thead>\n",
       "  <tbody>\n",
       "  </tbody>\n",
       "</table>\n",
       "</div>"
      ],
      "text/plain": [
       "Empty DataFrame\n",
       "Columns: [artist_id, master_id, main_release_id, release_country, artist, title, year, album_length, tracks, release_type, genres, styles, artist_profile]\n",
       "Index: []"
      ]
     },
     "execution_count": 121,
     "metadata": {},
     "output_type": "execute_result"
    }
   ],
   "source": [
    "df[df['year']==0].head()"
   ]
  },
  {
   "cell_type": "code",
   "execution_count": null,
   "metadata": {},
   "outputs": [],
   "source": [
    "# df.loc[6659, 'year'] = 1971"
   ]
  },
  {
   "cell_type": "code",
   "execution_count": 266,
   "metadata": {},
   "outputs": [
    {
     "name": "stdout",
     "output_type": "stream",
     "text": [
      "Initial artists: 5095\n",
      "Final artists: 5094\n"
     ]
    }
   ],
   "source": [
    "non_uk_artists = ['Evanescence', \"Stake\", \"Embrace\", 'Ultimate Spinach', 'Jeff Buckley', 'Four Year Strong', 'Todd Rundgren', 'Lunatic Soul', 'Throwing Muses', 'The Cramps', 'American Football',\n",
    "                'MD.45', 'Quiet Riot', 'Nine Inch Nails', 'Red House Painters', 'The Bronx', 'Weezer', 'Panchiko', 'Megadeth', 'The Band', 'Enslaved', 'Thin Lizzy', 'The Lucksmiths', 'Opeth',\n",
    "                'Talking Heads', 'Rory Gallagher', 'Pearl Jam', 'My Bloody Valentine', 'The Doors', 'The Beach Boys', 'Metallica', 'Death', 'Bob Dylan', 'Tom Waits', 'Tool', 'Brand New',\n",
    "                'Alice in Chains', 'Rush', 'Willie Nelson', 'Phil Lynott', 'Dead Can Dance', 'Bon Jovi', 'Paul Simon', 'At the Drive-In', 'Deftones', 'System of a Down', 'Green Day', 'Linkin Park',\n",
    "                'Slayer', 'Neutral Milk Hotel', 'The Mars Volta', 'Rage Against the Machine', 'Mastodon', 'Queens of the Stone Age', 'Beach House', 'Turnover', 'A Day To Remember', 'Sahg', 'Rival Sons',\n",
    "                'Minus the Bear', 'The Incredible Bongo Band', 'Jimi Hendrix', 'Framing Hanley', 'Bon Iver', 'Alter Bridge', 'Death From Above 1979', 'The Smashing Pumpkins', 'Arcade Fire',\n",
    "                'Red Hot Chili Peppers', 'Nirvana', 'Between the Buried and Me', 'Something Corporate', 'blink-182', 'Pantera', 'Deafheaven', 'My Chemical Romance', 'Slipknot', 'Soundgarden',\n",
    "                \"Guns N' Roses\", 'Converge', 'Pixies', 'Protest the Hero', 'Poison the Well', 'Death Cab for Cutie', 'Ephel Duath', 'Blind Melon', 'Behemoth', 'Insomnium', 'Ben Harper', 'The Replacements',\n",
    "                'Caribou', 'Samiam', 'Satyricon', 'Sponge', 'Midlake', 'Frank Zappa', 'M. Ward', 'The Brian Jonestown Massacre', 'Cinderella', 'Ulver', 'Further Seems Forever', 'Babylon A.D.',\n",
    "                'Severed Savior', 'Threshold', 'Soul Asylum', 'Red Krayola', 'Art Garfunkel', 'Chicago'\n",
    "                    ]\n",
    "\n",
    "print(f\"Initial artists: {df['artist'].nunique()}\")\n",
    "df['artist'] = df['artist'].apply(lambda x: np.nan if x in non_uk_artists else x)\n",
    "df.dropna(subset=['artist'], inplace=True)\n",
    "print(f\"Final artists: {df['artist'].nunique()}\")"
   ]
  },
  {
   "cell_type": "code",
   "execution_count": 28,
   "metadata": {},
   "outputs": [
    {
     "name": "stdout",
     "output_type": "stream",
     "text": [
      "Rows dropped\n",
      "(11682, 13)\n"
     ]
    }
   ],
   "source": [
    "# check one by one if necessary\n",
    "try:\n",
    "    df.drop([1434], axis=0, inplace=True)\n",
    "    print('Rows dropped')\n",
    "    print(df.shape)\n",
    "except:\n",
    "    print(\"Couldn't drop these rows\")\n",
    "    print(df.shape)"
   ]
  },
  {
   "cell_type": "markdown",
   "metadata": {},
   "source": [
    "### **Export to csv**"
   ]
  },
  {
   "cell_type": "code",
   "execution_count": 124,
   "metadata": {},
   "outputs": [],
   "source": [
    "df.to_csv('Datasets/df_uk_rock_ratings.csv', index=False)"
   ]
  },
  {
   "cell_type": "code",
   "execution_count": 251,
   "metadata": {},
   "outputs": [
    {
     "data": {
      "text/plain": [
       "(13480, 13)"
      ]
     },
     "execution_count": 251,
     "metadata": {},
     "output_type": "execute_result"
    }
   ],
   "source": [
    "df_masters_id0 = pd.read_csv('Datasets/df_masters_id0.csv')\n",
    "df_masters_id0.shape"
   ]
  },
  {
   "cell_type": "code",
   "execution_count": 125,
   "metadata": {},
   "outputs": [
    {
     "data": {
      "text/plain": [
       "<Axes: xlabel='count', ylabel='year'>"
      ]
     },
     "execution_count": 125,
     "metadata": {},
     "output_type": "execute_result"
    },
    {
     "data": {
      "image/png": "[encoded data removed]",
      "text/plain": [
       "<Figure size 900x1200 with 1 Axes>"
      ]
     },
     "metadata": {},
     "output_type": "display_data"
    }
   ],
   "source": [
    "plt.figure(figsize=(9,12))\n",
    "sns.countplot(data=df, y='year')"
   ]
  },
  {
   "cell_type": "markdown",
   "metadata": {},
   "source": [
    "# **``df_uk_rock`` merge with ratings and cleaning**"
   ]
  },
  {
   "cell_type": "code",
   "execution_count": 3,
   "metadata": {},
   "outputs": [
    {
     "name": "stdout",
     "output_type": "stream",
     "text": [
      "(12060, 13): df_uk_rock\n",
      "(79626, 5): df_ratings_top\n"
     ]
    }
   ],
   "source": [
    "# import the dataframes\n",
    "df_uk_rock = pd.read_csv('Datasets/df_uk_rock.csv')                                 # df with the albums already cleaned\n",
    "df_ratings_top = pd.read_csv('Datasets/df_ratings_top.csv', keep_default_na=False)  # all ratings, mostly from rock, worldwide\n",
    "\n",
    "# print information\n",
    "print(f'{df_uk_rock.shape}: df_uk_rock')\n",
    "print(f'{df_ratings_top.shape}: df_ratings_top')"
   ]
  },
  {
   "cell_type": "code",
   "execution_count": 4,
   "metadata": {},
   "outputs": [
    {
     "data": {
      "text/html": [
       "<div>\n",
       "<style scoped>\n",
       "    .dataframe tbody tr th:only-of-type {\n",
       "        vertical-align: middle;\n",
       "    }\n",
       "\n",
       "    .dataframe tbody tr th {\n",
       "        vertical-align: top;\n",
       "    }\n",
       "\n",
       "    .dataframe thead th {\n",
       "        text-align: right;\n",
       "    }\n",
       "</style>\n",
       "<table border=\"1\" class=\"dataframe\">\n",
       "  <thead>\n",
       "    <tr style=\"text-align: right;\">\n",
       "      <th></th>\n",
       "      <th>artist_id</th>\n",
       "      <th>master_id</th>\n",
       "      <th>main_release_id</th>\n",
       "      <th>release_country</th>\n",
       "      <th>artist</th>\n",
       "      <th>title</th>\n",
       "      <th>year</th>\n",
       "      <th>album_length</th>\n",
       "      <th>tracks</th>\n",
       "      <th>release_type</th>\n",
       "      <th>genres</th>\n",
       "      <th>styles</th>\n",
       "      <th>artist_profile</th>\n",
       "    </tr>\n",
       "  </thead>\n",
       "  <tbody>\n",
       "    <tr>\n",
       "      <th>0</th>\n",
       "      <td>253712</td>\n",
       "      <td>158153</td>\n",
       "      <td>426893</td>\n",
       "      <td>US</td>\n",
       "      <td>Sparta</td>\n",
       "      <td>Wiretap Scars</td>\n",
       "      <td>2002</td>\n",
       "      <td>47.62</td>\n",
       "      <td>12</td>\n",
       "      <td>['Album']</td>\n",
       "      <td>['Rock']</td>\n",
       "      <td>['Indie Rock', 'Alternative Rock']</td>\n",
       "      <td>El Paso, Texas based band. Formed in 2001 afte...</td>\n",
       "    </tr>\n",
       "  </tbody>\n",
       "</table>\n",
       "</div>"
      ],
      "text/plain": [
       "   artist_id  master_id  main_release_id release_country  artist  \\\n",
       "0     253712     158153           426893              US  Sparta   \n",
       "\n",
       "           title  year  album_length  tracks release_type    genres  \\\n",
       "0  Wiretap Scars  2002         47.62      12    ['Album']  ['Rock']   \n",
       "\n",
       "                               styles  \\\n",
       "0  ['Indie Rock', 'Alternative Rock']   \n",
       "\n",
       "                                      artist_profile  \n",
       "0  El Paso, Texas based band. Formed in 2001 afte...  "
      ]
     },
     "execution_count": 4,
     "metadata": {},
     "output_type": "execute_result"
    }
   ],
   "source": [
    "df_uk_rock.head(1)"
   ]
  },
  {
   "cell_type": "code",
   "execution_count": 5,
   "metadata": {},
   "outputs": [
    {
     "data": {
      "text/html": [
       "<div>\n",
       "<style scoped>\n",
       "    .dataframe tbody tr th:only-of-type {\n",
       "        vertical-align: middle;\n",
       "    }\n",
       "\n",
       "    .dataframe tbody tr th {\n",
       "        vertical-align: top;\n",
       "    }\n",
       "\n",
       "    .dataframe thead th {\n",
       "        text-align: right;\n",
       "    }\n",
       "</style>\n",
       "<table border=\"1\" class=\"dataframe\">\n",
       "  <thead>\n",
       "    <tr style=\"text-align: right;\">\n",
       "      <th></th>\n",
       "      <th>album_id</th>\n",
       "      <th>artist</th>\n",
       "      <th>title</th>\n",
       "      <th>rating</th>\n",
       "      <th>votes</th>\n",
       "    </tr>\n",
       "  </thead>\n",
       "  <tbody>\n",
       "    <tr>\n",
       "      <th>0</th>\n",
       "      <td>37</td>\n",
       "      <td>Less Than Jake</td>\n",
       "      <td>Losing Streak</td>\n",
       "      <td>3.9</td>\n",
       "      <td>414</td>\n",
       "    </tr>\n",
       "  </tbody>\n",
       "</table>\n",
       "</div>"
      ],
      "text/plain": [
       "   album_id          artist          title  rating  votes\n",
       "0        37  Less Than Jake  Losing Streak     3.9    414"
      ]
     },
     "execution_count": 5,
     "metadata": {},
     "output_type": "execute_result"
    }
   ],
   "source": [
    "df_ratings_top.head(1)"
   ]
  },
  {
   "cell_type": "markdown",
   "metadata": {},
   "source": [
    "### Dropping columns"
   ]
  },
  {
   "cell_type": "code",
   "execution_count": 6,
   "metadata": {},
   "outputs": [
    {
     "data": {
      "text/plain": [
       "release_type\n",
       "['Album']                             4915\n",
       "['LP', 'Album']                       3199\n",
       "['LP', 'Album', 'Stereo']             1368\n",
       "['LP', 'Album', 'Limited Edition']     513\n",
       "['Album', 'Stereo']                    316\n",
       "['Album', 'Enhanced']                  171\n",
       "['Album', 'Limited Edition']           150\n",
       "['LP']                                 113\n",
       "['LP', 'Album', 'Mono']                107\n",
       "['FLAC', 'Album']                       97\n",
       "Name: count, dtype: int64"
      ]
     },
     "execution_count": 6,
     "metadata": {},
     "output_type": "execute_result"
    }
   ],
   "source": [
    "df_uk_rock.release_type.value_counts().head(10)"
   ]
  },
  {
   "cell_type": "code",
   "execution_count": 7,
   "metadata": {},
   "outputs": [
    {
     "data": {
      "text/html": [
       "<div>\n",
       "<style scoped>\n",
       "    .dataframe tbody tr th:only-of-type {\n",
       "        vertical-align: middle;\n",
       "    }\n",
       "\n",
       "    .dataframe tbody tr th {\n",
       "        vertical-align: top;\n",
       "    }\n",
       "\n",
       "    .dataframe thead th {\n",
       "        text-align: right;\n",
       "    }\n",
       "</style>\n",
       "<table border=\"1\" class=\"dataframe\">\n",
       "  <thead>\n",
       "    <tr style=\"text-align: right;\">\n",
       "      <th></th>\n",
       "      <th>release_country</th>\n",
       "      <th>artist</th>\n",
       "      <th>title</th>\n",
       "      <th>year</th>\n",
       "      <th>album_length</th>\n",
       "      <th>tracks</th>\n",
       "      <th>styles</th>\n",
       "      <th>artist_profile</th>\n",
       "    </tr>\n",
       "  </thead>\n",
       "  <tbody>\n",
       "    <tr>\n",
       "      <th>0</th>\n",
       "      <td>US</td>\n",
       "      <td>Sparta</td>\n",
       "      <td>Wiretap Scars</td>\n",
       "      <td>2002</td>\n",
       "      <td>47.62</td>\n",
       "      <td>12</td>\n",
       "      <td>['Indie Rock', 'Alternative Rock']</td>\n",
       "      <td>El Paso, Texas based band. Formed in 2001 afte...</td>\n",
       "    </tr>\n",
       "  </tbody>\n",
       "</table>\n",
       "</div>"
      ],
      "text/plain": [
       "  release_country  artist          title  year  album_length  tracks  \\\n",
       "0              US  Sparta  Wiretap Scars  2002         47.62      12   \n",
       "\n",
       "                               styles  \\\n",
       "0  ['Indie Rock', 'Alternative Rock']   \n",
       "\n",
       "                                      artist_profile  \n",
       "0  El Paso, Texas based band. Formed in 2001 afte...  "
      ]
     },
     "execution_count": 7,
     "metadata": {},
     "output_type": "execute_result"
    }
   ],
   "source": [
    "# I can drop it, as well as other columns\n",
    "df_uk_rock.drop(columns=['artist_id', 'master_id', 'main_release_id', 'release_type', 'genres'], inplace=True)\n",
    "df_uk_rock.head(1)"
   ]
  },
  {
   "cell_type": "markdown",
   "metadata": {},
   "source": [
    "### Merge with ``df_ratings_top``"
   ]
  },
  {
   "cell_type": "code",
   "execution_count": 10,
   "metadata": {},
   "outputs": [
    {
     "name": "stdout",
     "output_type": "stream",
     "text": [
      "(12060, 8): df_uk_rock\n",
      "(79626, 5): df_ratings_top\n"
     ]
    }
   ],
   "source": [
    "# print information\n",
    "print(f'{df_uk_rock.shape}: df_uk_rock')\n",
    "print(f'{df_ratings_top.shape}: df_ratings_top')"
   ]
  },
  {
   "cell_type": "code",
   "execution_count": 37,
   "metadata": {},
   "outputs": [
    {
     "data": {
      "text/plain": [
       "(12061, 10)"
      ]
     },
     "execution_count": 37,
     "metadata": {},
     "output_type": "execute_result"
    }
   ],
   "source": [
    "df = pd.merge(\n",
    "    df_ratings_top.assign(artist_lower=df_ratings_top['artist'].str.lower().str.strip(), \n",
    "                      title_lower=df_ratings_top['title'].str.lower().str.strip()), \n",
    "    df_uk_rock.assign(artist_lower=df_uk_rock['artist'].str.lower().str.strip(), \n",
    "                      title_lower=df_uk_rock['title'].str.lower().str.strip()), \n",
    "    on=['artist_lower', 'title_lower']\n",
    ").drop(columns=['artist_lower', 'title_lower', 'artist_y', 'title_y'])\n",
    "\n",
    "# rename columns\n",
    "df.rename(columns={'artist_x': 'artist', 'title_x': 'title'}, inplace=True)\n",
    "\n",
    "# drop columns\n",
    "df.drop(columns=['album_id'], inplace=True)\n",
    "\n",
    "# print the shape\n",
    "df.shape"
   ]
  },
  {
   "cell_type": "code",
   "execution_count": 38,
   "metadata": {},
   "outputs": [
    {
     "data": {
      "text/html": [
       "<div>\n",
       "<style scoped>\n",
       "    .dataframe tbody tr th:only-of-type {\n",
       "        vertical-align: middle;\n",
       "    }\n",
       "\n",
       "    .dataframe tbody tr th {\n",
       "        vertical-align: top;\n",
       "    }\n",
       "\n",
       "    .dataframe thead th {\n",
       "        text-align: right;\n",
       "    }\n",
       "</style>\n",
       "<table border=\"1\" class=\"dataframe\">\n",
       "  <thead>\n",
       "    <tr style=\"text-align: right;\">\n",
       "      <th></th>\n",
       "      <th>artist</th>\n",
       "      <th>title</th>\n",
       "      <th>rating</th>\n",
       "      <th>votes</th>\n",
       "      <th>release_country</th>\n",
       "      <th>year</th>\n",
       "      <th>album_length</th>\n",
       "      <th>tracks</th>\n",
       "      <th>styles</th>\n",
       "      <th>artist_profile</th>\n",
       "    </tr>\n",
       "  </thead>\n",
       "  <tbody>\n",
       "    <tr>\n",
       "      <th>0</th>\n",
       "      <td>Sparta</td>\n",
       "      <td>Wiretap Scars</td>\n",
       "      <td>3.79</td>\n",
       "      <td>431</td>\n",
       "      <td>US</td>\n",
       "      <td>2002</td>\n",
       "      <td>47.62</td>\n",
       "      <td>12</td>\n",
       "      <td>['Indie Rock', 'Alternative Rock']</td>\n",
       "      <td>El Paso, Texas based band. Formed in 2001 afte...</td>\n",
       "    </tr>\n",
       "    <tr>\n",
       "      <th>1</th>\n",
       "      <td>Muse</td>\n",
       "      <td>Absolution</td>\n",
       "      <td>3.99</td>\n",
       "      <td>4411</td>\n",
       "      <td>Europe</td>\n",
       "      <td>2003</td>\n",
       "      <td>52.18</td>\n",
       "      <td>14</td>\n",
       "      <td>['Alternative Rock']</td>\n",
       "      <td>Muse are an English rock band from Teignmouth,...</td>\n",
       "    </tr>\n",
       "    <tr>\n",
       "      <th>2</th>\n",
       "      <td>Muse</td>\n",
       "      <td>Showbiz</td>\n",
       "      <td>3.50</td>\n",
       "      <td>2181</td>\n",
       "      <td>UK</td>\n",
       "      <td>1999</td>\n",
       "      <td>49.65</td>\n",
       "      <td>12</td>\n",
       "      <td>['Alternative Rock', 'Prog Rock']</td>\n",
       "      <td>Muse are an English rock band from Teignmouth,...</td>\n",
       "    </tr>\n",
       "    <tr>\n",
       "      <th>3</th>\n",
       "      <td>Finch</td>\n",
       "      <td>What It Is to Burn</td>\n",
       "      <td>3.69</td>\n",
       "      <td>864</td>\n",
       "      <td>US</td>\n",
       "      <td>2002</td>\n",
       "      <td>61.18</td>\n",
       "      <td>13</td>\n",
       "      <td>['Emo', 'Post-Hardcore', 'Alternative Rock']</td>\n",
       "      <td>Finch is a post-hardcore band from Temecula, C...</td>\n",
       "    </tr>\n",
       "    <tr>\n",
       "      <th>4</th>\n",
       "      <td>Transplants</td>\n",
       "      <td>Transplants</td>\n",
       "      <td>3.35</td>\n",
       "      <td>198</td>\n",
       "      <td>US</td>\n",
       "      <td>2002</td>\n",
       "      <td>45.23</td>\n",
       "      <td>12</td>\n",
       "      <td>['Punk']</td>\n",
       "      <td>Punk rock/rap rock band Los Angeles, CA, Unite...</td>\n",
       "    </tr>\n",
       "  </tbody>\n",
       "</table>\n",
       "</div>"
      ],
      "text/plain": [
       "        artist               title  rating  votes release_country  year  \\\n",
       "0       Sparta       Wiretap Scars    3.79    431              US  2002   \n",
       "1         Muse          Absolution    3.99   4411          Europe  2003   \n",
       "2         Muse             Showbiz    3.50   2181              UK  1999   \n",
       "3        Finch  What It Is to Burn    3.69    864              US  2002   \n",
       "4  Transplants         Transplants    3.35    198              US  2002   \n",
       "\n",
       "   album_length  tracks                                        styles  \\\n",
       "0         47.62      12            ['Indie Rock', 'Alternative Rock']   \n",
       "1         52.18      14                          ['Alternative Rock']   \n",
       "2         49.65      12             ['Alternative Rock', 'Prog Rock']   \n",
       "3         61.18      13  ['Emo', 'Post-Hardcore', 'Alternative Rock']   \n",
       "4         45.23      12                                      ['Punk']   \n",
       "\n",
       "                                      artist_profile  \n",
       "0  El Paso, Texas based band. Formed in 2001 afte...  \n",
       "1  Muse are an English rock band from Teignmouth,...  \n",
       "2  Muse are an English rock band from Teignmouth,...  \n",
       "3  Finch is a post-hardcore band from Temecula, C...  \n",
       "4  Punk rock/rap rock band Los Angeles, CA, Unite...  "
      ]
     },
     "execution_count": 38,
     "metadata": {},
     "output_type": "execute_result"
    }
   ],
   "source": [
    "df.head()"
   ]
  },
  {
   "cell_type": "markdown",
   "metadata": {},
   "source": [
    "### Sort columns"
   ]
  },
  {
   "cell_type": "code",
   "execution_count": 39,
   "metadata": {},
   "outputs": [
    {
     "data": {
      "text/plain": [
       "Index(['artist', 'title', 'rating', 'votes', 'release_country', 'year',\n",
       "       'album_length', 'tracks', 'styles', 'artist_profile'],\n",
       "      dtype='object')"
      ]
     },
     "execution_count": 39,
     "metadata": {},
     "output_type": "execute_result"
    }
   ],
   "source": [
    "df.columns"
   ]
  },
  {
   "cell_type": "code",
   "execution_count": 42,
   "metadata": {},
   "outputs": [
    {
     "data": {
      "text/html": [
       "<div>\n",
       "<style scoped>\n",
       "    .dataframe tbody tr th:only-of-type {\n",
       "        vertical-align: middle;\n",
       "    }\n",
       "\n",
       "    .dataframe tbody tr th {\n",
       "        vertical-align: top;\n",
       "    }\n",
       "\n",
       "    .dataframe thead th {\n",
       "        text-align: right;\n",
       "    }\n",
       "</style>\n",
       "<table border=\"1\" class=\"dataframe\">\n",
       "  <thead>\n",
       "    <tr style=\"text-align: right;\">\n",
       "      <th></th>\n",
       "      <th>year</th>\n",
       "      <th>artist</th>\n",
       "      <th>title</th>\n",
       "      <th>rating</th>\n",
       "      <th>votes</th>\n",
       "      <th>album_length</th>\n",
       "      <th>tracks</th>\n",
       "      <th>styles</th>\n",
       "      <th>release_country</th>\n",
       "      <th>artist_profile</th>\n",
       "    </tr>\n",
       "  </thead>\n",
       "  <tbody>\n",
       "    <tr>\n",
       "      <th>0</th>\n",
       "      <td>2002</td>\n",
       "      <td>Sparta</td>\n",
       "      <td>Wiretap Scars</td>\n",
       "      <td>3.79</td>\n",
       "      <td>431</td>\n",
       "      <td>47.62</td>\n",
       "      <td>12</td>\n",
       "      <td>['Indie Rock', 'Alternative Rock']</td>\n",
       "      <td>US</td>\n",
       "      <td>El Paso, Texas based band. Formed in 2001 afte...</td>\n",
       "    </tr>\n",
       "    <tr>\n",
       "      <th>1</th>\n",
       "      <td>2003</td>\n",
       "      <td>Muse</td>\n",
       "      <td>Absolution</td>\n",
       "      <td>3.99</td>\n",
       "      <td>4411</td>\n",
       "      <td>52.18</td>\n",
       "      <td>14</td>\n",
       "      <td>['Alternative Rock']</td>\n",
       "      <td>Europe</td>\n",
       "      <td>Muse are an English rock band from Teignmouth,...</td>\n",
       "    </tr>\n",
       "    <tr>\n",
       "      <th>2</th>\n",
       "      <td>1999</td>\n",
       "      <td>Muse</td>\n",
       "      <td>Showbiz</td>\n",
       "      <td>3.50</td>\n",
       "      <td>2181</td>\n",
       "      <td>49.65</td>\n",
       "      <td>12</td>\n",
       "      <td>['Alternative Rock', 'Prog Rock']</td>\n",
       "      <td>UK</td>\n",
       "      <td>Muse are an English rock band from Teignmouth,...</td>\n",
       "    </tr>\n",
       "    <tr>\n",
       "      <th>3</th>\n",
       "      <td>2002</td>\n",
       "      <td>Finch</td>\n",
       "      <td>What It Is to Burn</td>\n",
       "      <td>3.69</td>\n",
       "      <td>864</td>\n",
       "      <td>61.18</td>\n",
       "      <td>13</td>\n",
       "      <td>['Emo', 'Post-Hardcore', 'Alternative Rock']</td>\n",
       "      <td>US</td>\n",
       "      <td>Finch is a post-hardcore band from Temecula, C...</td>\n",
       "    </tr>\n",
       "    <tr>\n",
       "      <th>4</th>\n",
       "      <td>2002</td>\n",
       "      <td>Transplants</td>\n",
       "      <td>Transplants</td>\n",
       "      <td>3.35</td>\n",
       "      <td>198</td>\n",
       "      <td>45.23</td>\n",
       "      <td>12</td>\n",
       "      <td>['Punk']</td>\n",
       "      <td>US</td>\n",
       "      <td>Punk rock/rap rock band Los Angeles, CA, Unite...</td>\n",
       "    </tr>\n",
       "  </tbody>\n",
       "</table>\n",
       "</div>"
      ],
      "text/plain": [
       "   year       artist               title  rating  votes  album_length  tracks  \\\n",
       "0  2002       Sparta       Wiretap Scars    3.79    431         47.62      12   \n",
       "1  2003         Muse          Absolution    3.99   4411         52.18      14   \n",
       "2  1999         Muse             Showbiz    3.50   2181         49.65      12   \n",
       "3  2002        Finch  What It Is to Burn    3.69    864         61.18      13   \n",
       "4  2002  Transplants         Transplants    3.35    198         45.23      12   \n",
       "\n",
       "                                         styles release_country  \\\n",
       "0            ['Indie Rock', 'Alternative Rock']              US   \n",
       "1                          ['Alternative Rock']          Europe   \n",
       "2             ['Alternative Rock', 'Prog Rock']              UK   \n",
       "3  ['Emo', 'Post-Hardcore', 'Alternative Rock']              US   \n",
       "4                                      ['Punk']              US   \n",
       "\n",
       "                                      artist_profile  \n",
       "0  El Paso, Texas based band. Formed in 2001 afte...  \n",
       "1  Muse are an English rock band from Teignmouth,...  \n",
       "2  Muse are an English rock band from Teignmouth,...  \n",
       "3  Finch is a post-hardcore band from Temecula, C...  \n",
       "4  Punk rock/rap rock band Los Angeles, CA, Unite...  "
      ]
     },
     "execution_count": 42,
     "metadata": {},
     "output_type": "execute_result"
    }
   ],
   "source": [
    "list_of_columns = ['year', 'artist', 'title', 'rating', 'votes', 'album_length', 'tracks', 'styles', 'release_country', 'artist_profile']\n",
    "df = df.reindex(columns=list_of_columns)\n",
    "df.head()"
   ]
  },
  {
   "cell_type": "code",
   "execution_count": 43,
   "metadata": {},
   "outputs": [],
   "source": [
    "# since there are still many artists from outside the UK, I will name it 'df_uk_rock_ratings' after merging with the locations and dropping these non-brittish artists\n",
    "df.to_csv('Datasets/df_rock_ratings.csv', index=False)"
   ]
  },
  {
   "cell_type": "code",
   "execution_count": null,
   "metadata": {},
   "outputs": [],
   "source": []
  },
  {
   "cell_type": "code",
   "execution_count": null,
   "metadata": {},
   "outputs": [],
   "source": []
  },
  {
   "cell_type": "code",
   "execution_count": null,
   "metadata": {},
   "outputs": [],
   "source": []
  },
  {
   "cell_type": "markdown",
   "metadata": {},
   "source": [
    "## Statistics"
   ]
  },
  {
   "cell_type": "code",
   "execution_count": 174,
   "metadata": {},
   "outputs": [
    {
     "ename": "KeyError",
     "evalue": "'votes'",
     "output_type": "error",
     "traceback": [
      "\u001b[1;31m---------------------------------------------------------------------------\u001b[0m",
      "\u001b[1;31mKeyError\u001b[0m                                  Traceback (most recent call last)",
      "File \u001b[1;32mc:\\Users\\Arnaldur\\anaconda3\\Lib\\site-packages\\pandas\\core\\indexes\\base.py:3805\u001b[0m, in \u001b[0;36mIndex.get_loc\u001b[1;34m(self, key)\u001b[0m\n\u001b[0;32m   3804\u001b[0m \u001b[38;5;28;01mtry\u001b[39;00m:\n\u001b[1;32m-> 3805\u001b[0m     \u001b[38;5;28;01mreturn\u001b[39;00m \u001b[38;5;28mself\u001b[39m\u001b[38;5;241m.\u001b[39m_engine\u001b[38;5;241m.\u001b[39mget_loc(casted_key)\n\u001b[0;32m   3806\u001b[0m \u001b[38;5;28;01mexcept\u001b[39;00m \u001b[38;5;167;01mKeyError\u001b[39;00m \u001b[38;5;28;01mas\u001b[39;00m err:\n",
      "File \u001b[1;32mindex.pyx:167\u001b[0m, in \u001b[0;36mpandas._libs.index.IndexEngine.get_loc\u001b[1;34m()\u001b[0m\n",
      "File \u001b[1;32mindex.pyx:196\u001b[0m, in \u001b[0;36mpandas._libs.index.IndexEngine.get_loc\u001b[1;34m()\u001b[0m\n",
      "File \u001b[1;32mpandas\\\\_libs\\\\hashtable_class_helper.pxi:7081\u001b[0m, in \u001b[0;36mpandas._libs.hashtable.PyObjectHashTable.get_item\u001b[1;34m()\u001b[0m\n",
      "File \u001b[1;32mpandas\\\\_libs\\\\hashtable_class_helper.pxi:7089\u001b[0m, in \u001b[0;36mpandas._libs.hashtable.PyObjectHashTable.get_item\u001b[1;34m()\u001b[0m\n",
      "\u001b[1;31mKeyError\u001b[0m: 'votes'",
      "\nThe above exception was the direct cause of the following exception:\n",
      "\u001b[1;31mKeyError\u001b[0m                                  Traceback (most recent call last)",
      "Cell \u001b[1;32mIn[174], line 2\u001b[0m\n\u001b[0;32m      1\u001b[0m \u001b[38;5;66;03m# average number of votes\u001b[39;00m\n\u001b[1;32m----> 2\u001b[0m np\u001b[38;5;241m.\u001b[39mmean(df[\u001b[38;5;124m'\u001b[39m\u001b[38;5;124mvotes\u001b[39m\u001b[38;5;124m'\u001b[39m])\n",
      "File \u001b[1;32mc:\\Users\\Arnaldur\\anaconda3\\Lib\\site-packages\\pandas\\core\\frame.py:4102\u001b[0m, in \u001b[0;36mDataFrame.__getitem__\u001b[1;34m(self, key)\u001b[0m\n\u001b[0;32m   4100\u001b[0m \u001b[38;5;28;01mif\u001b[39;00m \u001b[38;5;28mself\u001b[39m\u001b[38;5;241m.\u001b[39mcolumns\u001b[38;5;241m.\u001b[39mnlevels \u001b[38;5;241m>\u001b[39m \u001b[38;5;241m1\u001b[39m:\n\u001b[0;32m   4101\u001b[0m     \u001b[38;5;28;01mreturn\u001b[39;00m \u001b[38;5;28mself\u001b[39m\u001b[38;5;241m.\u001b[39m_getitem_multilevel(key)\n\u001b[1;32m-> 4102\u001b[0m indexer \u001b[38;5;241m=\u001b[39m \u001b[38;5;28mself\u001b[39m\u001b[38;5;241m.\u001b[39mcolumns\u001b[38;5;241m.\u001b[39mget_loc(key)\n\u001b[0;32m   4103\u001b[0m \u001b[38;5;28;01mif\u001b[39;00m is_integer(indexer):\n\u001b[0;32m   4104\u001b[0m     indexer \u001b[38;5;241m=\u001b[39m [indexer]\n",
      "File \u001b[1;32mc:\\Users\\Arnaldur\\anaconda3\\Lib\\site-packages\\pandas\\core\\indexes\\base.py:3812\u001b[0m, in \u001b[0;36mIndex.get_loc\u001b[1;34m(self, key)\u001b[0m\n\u001b[0;32m   3807\u001b[0m     \u001b[38;5;28;01mif\u001b[39;00m \u001b[38;5;28misinstance\u001b[39m(casted_key, \u001b[38;5;28mslice\u001b[39m) \u001b[38;5;129;01mor\u001b[39;00m (\n\u001b[0;32m   3808\u001b[0m         \u001b[38;5;28misinstance\u001b[39m(casted_key, abc\u001b[38;5;241m.\u001b[39mIterable)\n\u001b[0;32m   3809\u001b[0m         \u001b[38;5;129;01mand\u001b[39;00m \u001b[38;5;28many\u001b[39m(\u001b[38;5;28misinstance\u001b[39m(x, \u001b[38;5;28mslice\u001b[39m) \u001b[38;5;28;01mfor\u001b[39;00m x \u001b[38;5;129;01min\u001b[39;00m casted_key)\n\u001b[0;32m   3810\u001b[0m     ):\n\u001b[0;32m   3811\u001b[0m         \u001b[38;5;28;01mraise\u001b[39;00m InvalidIndexError(key)\n\u001b[1;32m-> 3812\u001b[0m     \u001b[38;5;28;01mraise\u001b[39;00m \u001b[38;5;167;01mKeyError\u001b[39;00m(key) \u001b[38;5;28;01mfrom\u001b[39;00m \u001b[38;5;21;01merr\u001b[39;00m\n\u001b[0;32m   3813\u001b[0m \u001b[38;5;28;01mexcept\u001b[39;00m \u001b[38;5;167;01mTypeError\u001b[39;00m:\n\u001b[0;32m   3814\u001b[0m     \u001b[38;5;66;03m# If we have a listlike key, _check_indexing_error will raise\u001b[39;00m\n\u001b[0;32m   3815\u001b[0m     \u001b[38;5;66;03m#  InvalidIndexError. Otherwise we fall through and re-raise\u001b[39;00m\n\u001b[0;32m   3816\u001b[0m     \u001b[38;5;66;03m#  the TypeError.\u001b[39;00m\n\u001b[0;32m   3817\u001b[0m     \u001b[38;5;28mself\u001b[39m\u001b[38;5;241m.\u001b[39m_check_indexing_error(key)\n",
      "\u001b[1;31mKeyError\u001b[0m: 'votes'"
     ]
    }
   ],
   "source": [
    "# average number of votes\n",
    "np.mean(df['votes'])"
   ]
  },
  {
   "cell_type": "code",
   "execution_count": 417,
   "metadata": {},
   "outputs": [
    {
     "ename": "KeyError",
     "evalue": "'votes'",
     "output_type": "error",
     "traceback": [
      "\u001b[1;31m---------------------------------------------------------------------------\u001b[0m",
      "\u001b[1;31mKeyError\u001b[0m                                  Traceback (most recent call last)",
      "File \u001b[1;32mc:\\Users\\Y913836\\AppData\\Local\\anaconda3\\Lib\\site-packages\\pandas\\core\\indexes\\base.py:3805\u001b[0m, in \u001b[0;36mIndex.get_loc\u001b[1;34m(self, key)\u001b[0m\n\u001b[0;32m   3804\u001b[0m \u001b[38;5;28;01mtry\u001b[39;00m:\n\u001b[1;32m-> 3805\u001b[0m     \u001b[38;5;28;01mreturn\u001b[39;00m \u001b[38;5;28mself\u001b[39m\u001b[38;5;241m.\u001b[39m_engine\u001b[38;5;241m.\u001b[39mget_loc(casted_key)\n\u001b[0;32m   3806\u001b[0m \u001b[38;5;28;01mexcept\u001b[39;00m \u001b[38;5;167;01mKeyError\u001b[39;00m \u001b[38;5;28;01mas\u001b[39;00m err:\n",
      "File \u001b[1;32mindex.pyx:167\u001b[0m, in \u001b[0;36mpandas._libs.index.IndexEngine.get_loc\u001b[1;34m()\u001b[0m\n",
      "File \u001b[1;32mindex.pyx:196\u001b[0m, in \u001b[0;36mpandas._libs.index.IndexEngine.get_loc\u001b[1;34m()\u001b[0m\n",
      "File \u001b[1;32mpandas\\\\_libs\\\\hashtable_class_helper.pxi:7081\u001b[0m, in \u001b[0;36mpandas._libs.hashtable.PyObjectHashTable.get_item\u001b[1;34m()\u001b[0m\n",
      "File \u001b[1;32mpandas\\\\_libs\\\\hashtable_class_helper.pxi:7089\u001b[0m, in \u001b[0;36mpandas._libs.hashtable.PyObjectHashTable.get_item\u001b[1;34m()\u001b[0m\n",
      "\u001b[1;31mKeyError\u001b[0m: 'votes'",
      "\nThe above exception was the direct cause of the following exception:\n",
      "\u001b[1;31mKeyError\u001b[0m                                  Traceback (most recent call last)",
      "Cell \u001b[1;32mIn[417], line 2\u001b[0m\n\u001b[0;32m      1\u001b[0m plt\u001b[38;5;241m.\u001b[39mfigure(figsize\u001b[38;5;241m=\u001b[39m(\u001b[38;5;241m15\u001b[39m,\u001b[38;5;241m5\u001b[39m))\n\u001b[1;32m----> 2\u001b[0m sns\u001b[38;5;241m.\u001b[39mhistplot(data\u001b[38;5;241m=\u001b[39mdf[df[\u001b[38;5;124m'\u001b[39m\u001b[38;5;124mvotes\u001b[39m\u001b[38;5;124m'\u001b[39m]\u001b[38;5;241m>\u001b[39m\u001b[38;5;241m100\u001b[39m], x\u001b[38;5;241m=\u001b[39m\u001b[38;5;124m'\u001b[39m\u001b[38;5;124mrating\u001b[39m\u001b[38;5;124m'\u001b[39m)\n",
      "File \u001b[1;32mc:\\Users\\Y913836\\AppData\\Local\\anaconda3\\Lib\\site-packages\\pandas\\core\\frame.py:4102\u001b[0m, in \u001b[0;36mDataFrame.__getitem__\u001b[1;34m(self, key)\u001b[0m\n\u001b[0;32m   4100\u001b[0m \u001b[38;5;28;01mif\u001b[39;00m \u001b[38;5;28mself\u001b[39m\u001b[38;5;241m.\u001b[39mcolumns\u001b[38;5;241m.\u001b[39mnlevels \u001b[38;5;241m>\u001b[39m \u001b[38;5;241m1\u001b[39m:\n\u001b[0;32m   4101\u001b[0m     \u001b[38;5;28;01mreturn\u001b[39;00m \u001b[38;5;28mself\u001b[39m\u001b[38;5;241m.\u001b[39m_getitem_multilevel(key)\n\u001b[1;32m-> 4102\u001b[0m indexer \u001b[38;5;241m=\u001b[39m \u001b[38;5;28mself\u001b[39m\u001b[38;5;241m.\u001b[39mcolumns\u001b[38;5;241m.\u001b[39mget_loc(key)\n\u001b[0;32m   4103\u001b[0m \u001b[38;5;28;01mif\u001b[39;00m is_integer(indexer):\n\u001b[0;32m   4104\u001b[0m     indexer \u001b[38;5;241m=\u001b[39m [indexer]\n",
      "File \u001b[1;32mc:\\Users\\Y913836\\AppData\\Local\\anaconda3\\Lib\\site-packages\\pandas\\core\\indexes\\base.py:3812\u001b[0m, in \u001b[0;36mIndex.get_loc\u001b[1;34m(self, key)\u001b[0m\n\u001b[0;32m   3807\u001b[0m     \u001b[38;5;28;01mif\u001b[39;00m \u001b[38;5;28misinstance\u001b[39m(casted_key, \u001b[38;5;28mslice\u001b[39m) \u001b[38;5;129;01mor\u001b[39;00m (\n\u001b[0;32m   3808\u001b[0m         \u001b[38;5;28misinstance\u001b[39m(casted_key, abc\u001b[38;5;241m.\u001b[39mIterable)\n\u001b[0;32m   3809\u001b[0m         \u001b[38;5;129;01mand\u001b[39;00m \u001b[38;5;28many\u001b[39m(\u001b[38;5;28misinstance\u001b[39m(x, \u001b[38;5;28mslice\u001b[39m) \u001b[38;5;28;01mfor\u001b[39;00m x \u001b[38;5;129;01min\u001b[39;00m casted_key)\n\u001b[0;32m   3810\u001b[0m     ):\n\u001b[0;32m   3811\u001b[0m         \u001b[38;5;28;01mraise\u001b[39;00m InvalidIndexError(key)\n\u001b[1;32m-> 3812\u001b[0m     \u001b[38;5;28;01mraise\u001b[39;00m \u001b[38;5;167;01mKeyError\u001b[39;00m(key) \u001b[38;5;28;01mfrom\u001b[39;00m \u001b[38;5;21;01merr\u001b[39;00m\n\u001b[0;32m   3813\u001b[0m \u001b[38;5;28;01mexcept\u001b[39;00m \u001b[38;5;167;01mTypeError\u001b[39;00m:\n\u001b[0;32m   3814\u001b[0m     \u001b[38;5;66;03m# If we have a listlike key, _check_indexing_error will raise\u001b[39;00m\n\u001b[0;32m   3815\u001b[0m     \u001b[38;5;66;03m#  InvalidIndexError. Otherwise we fall through and re-raise\u001b[39;00m\n\u001b[0;32m   3816\u001b[0m     \u001b[38;5;66;03m#  the TypeError.\u001b[39;00m\n\u001b[0;32m   3817\u001b[0m     \u001b[38;5;28mself\u001b[39m\u001b[38;5;241m.\u001b[39m_check_indexing_error(key)\n",
      "\u001b[1;31mKeyError\u001b[0m: 'votes'"
     ]
    },
    {
     "data": {
      "text/plain": [
       "<Figure size 1500x500 with 0 Axes>"
      ]
     },
     "metadata": {},
     "output_type": "display_data"
    }
   ],
   "source": [
    "plt.figure(figsize=(15,5))\n",
    "sns.histplot(data=df[df['votes']>100], x='rating')"
   ]
  },
  {
   "cell_type": "code",
   "execution_count": 35,
   "metadata": {},
   "outputs": [
    {
     "data": {
      "text/plain": [
       "<Axes: xlabel='votes', ylabel='Count'>"
      ]
     },
     "execution_count": 35,
     "metadata": {},
     "output_type": "execute_result"
    },
    {
     "data": {
      "image/png": "[encoded data removed]",
      "text/plain": [
       "<Figure size 1500x500 with 1 Axes>"
      ]
     },
     "metadata": {},
     "output_type": "display_data"
    }
   ],
   "source": [
    "plt.figure(figsize=(15,5))\n",
    "sns.histplot(data=df_masters_ratings[df_masters_ratings['votes']>1], x='votes', bins=30)"
   ]
  }
 ],
 "metadata": {
  "kernelspec": {
   "display_name": "base",
   "language": "python",
   "name": "python3"
  },
  "language_info": {
   "codemirror_mode": {
    "name": "ipython",
    "version": 3
   },
   "file_extension": ".py",
   "mimetype": "text/x-python",
   "name": "python",
   "nbconvert_exporter": "python",
   "pygments_lexer": "ipython3",
   "version": "3.12.4"
  }
 },
 "nbformat": 4,
 "nbformat_minor": 2
}
