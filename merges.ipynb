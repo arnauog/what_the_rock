{
 "cells": [
  {
   "cell_type": "code",
   "execution_count": 1,
   "metadata": {},
   "outputs": [],
   "source": [
    "import numpy as np\n",
    "import pandas as pd\n",
    "from pandas import json_normalize\n",
    "import seaborn as sns\n",
    "import matplotlib.pyplot as plt\n",
    "\n",
    "from bs4 import BeautifulSoup\n",
    "import requests \n",
    "import time\n",
    "\n",
    "from selenium import webdriver \n",
    "from selenium.webdriver.common.keys import Keys \n",
    "from selenium.webdriver.common.by import By\n",
    "from selenium.webdriver.support.ui import WebDriverWait\n",
    "from selenium.webdriver.support import expected_conditions as EC\n",
    "\n",
    "from geopy.geocoders import Nominatim\n",
    "\n",
    "import warnings\n",
    "warnings.filterwarnings(\"ignore\")\n",
    "\n",
    "from my_functions import *"
   ]
  },
  {
   "cell_type": "code",
   "execution_count": 2,
   "metadata": {},
   "outputs": [
    {
     "data": {
      "text/plain": [
       "(56660, 13)"
      ]
     },
     "execution_count": 2,
     "metadata": {},
     "output_type": "execute_result"
    }
   ],
   "source": [
    "# all rock releases in the UK\n",
    "df_masters = pd.read_csv('Datasets/df_masters.csv')\n",
    "df_masters.shape"
   ]
  },
  {
   "cell_type": "code",
   "execution_count": 6,
   "metadata": {},
   "outputs": [
    {
     "data": {
      "text/html": [
       "<div>\n",
       "<style scoped>\n",
       "    .dataframe tbody tr th:only-of-type {\n",
       "        vertical-align: middle;\n",
       "    }\n",
       "\n",
       "    .dataframe tbody tr th {\n",
       "        vertical-align: top;\n",
       "    }\n",
       "\n",
       "    .dataframe thead th {\n",
       "        text-align: right;\n",
       "    }\n",
       "</style>\n",
       "<table border=\"1\" class=\"dataframe\">\n",
       "  <thead>\n",
       "    <tr style=\"text-align: right;\">\n",
       "      <th></th>\n",
       "      <th>artist_id</th>\n",
       "      <th>master_id</th>\n",
       "      <th>main_release_id</th>\n",
       "      <th>release_country</th>\n",
       "      <th>artist</th>\n",
       "      <th>title</th>\n",
       "      <th>year</th>\n",
       "      <th>album_length</th>\n",
       "      <th>tracks</th>\n",
       "      <th>release_type</th>\n",
       "      <th>genres</th>\n",
       "      <th>styles</th>\n",
       "      <th>artist_profile</th>\n",
       "    </tr>\n",
       "  </thead>\n",
       "  <tbody>\n",
       "    <tr>\n",
       "      <th>29280</th>\n",
       "      <td>123001.0</td>\n",
       "      <td>87188.0</td>\n",
       "      <td>605875</td>\n",
       "      <td>UK</td>\n",
       "      <td>Saloon</td>\n",
       "      <td>If We Meet In The Future</td>\n",
       "      <td>2003</td>\n",
       "      <td>0.0</td>\n",
       "      <td>10</td>\n",
       "      <td>['Album']</td>\n",
       "      <td>['Electronic', 'Rock']</td>\n",
       "      <td>['Downtempo', 'Synth-pop', 'Indie Rock', 'Ambi...</td>\n",
       "      <td>Saloon was formed in late 1997 by Adam Cresswe...</td>\n",
       "    </tr>\n",
       "  </tbody>\n",
       "</table>\n",
       "</div>"
      ],
      "text/plain": [
       "       artist_id  master_id  main_release_id release_country  artist  \\\n",
       "29280   123001.0    87188.0           605875              UK  Saloon   \n",
       "\n",
       "                          title  year  album_length  tracks release_type  \\\n",
       "29280  If We Meet In The Future  2003           0.0      10    ['Album']   \n",
       "\n",
       "                       genres  \\\n",
       "29280  ['Electronic', 'Rock']   \n",
       "\n",
       "                                                  styles  \\\n",
       "29280  ['Downtempo', 'Synth-pop', 'Indie Rock', 'Ambi...   \n",
       "\n",
       "                                          artist_profile  \n",
       "29280  Saloon was formed in late 1997 by Adam Cresswe...  "
      ]
     },
     "execution_count": 6,
     "metadata": {},
     "output_type": "execute_result"
    }
   ],
   "source": [
    "df_masters[df_masters['title']==\"If We Meet In The Future\"]"
   ]
  },
  {
   "cell_type": "markdown",
   "metadata": {},
   "source": [
    "# Merge one small ``df`` with ``df_ratings``"
   ]
  },
  {
   "cell_type": "code",
   "execution_count": 197,
   "metadata": {},
   "outputs": [
    {
     "name": "stdout",
     "output_type": "stream",
     "text": [
      "(13480, 13): df_masters_id0\n",
      "(352768, 5): df_ratings\n"
     ]
    }
   ],
   "source": [
    "# import the dataframes\n",
    "df_masters_id0 = pd.read_csv('Datasets/df_masters_id0.csv')                     # all rock releases in the UK\n",
    "df_ratings = pd.read_csv('Datasets/df_ratings.csv', keep_default_na=False)      # all ratings, mostly from rock, worldwide\n",
    "\n",
    "# print information\n",
    "print(f'{df_masters_id0.shape}: df_masters_id0')\n",
    "print(f'{df_ratings.shape}: df_ratings')"
   ]
  },
  {
   "cell_type": "code",
   "execution_count": 198,
   "metadata": {},
   "outputs": [
    {
     "data": {
      "text/html": [
       "<div>\n",
       "<style scoped>\n",
       "    .dataframe tbody tr th:only-of-type {\n",
       "        vertical-align: middle;\n",
       "    }\n",
       "\n",
       "    .dataframe tbody tr th {\n",
       "        vertical-align: top;\n",
       "    }\n",
       "\n",
       "    .dataframe thead th {\n",
       "        text-align: right;\n",
       "    }\n",
       "</style>\n",
       "<table border=\"1\" class=\"dataframe\">\n",
       "  <thead>\n",
       "    <tr style=\"text-align: right;\">\n",
       "      <th></th>\n",
       "      <th>artist</th>\n",
       "      <th>title</th>\n",
       "      <th>artist_id</th>\n",
       "      <th>master_id</th>\n",
       "      <th>main_release_id</th>\n",
       "      <th>release_country</th>\n",
       "      <th>year</th>\n",
       "      <th>album_length</th>\n",
       "      <th>tracks</th>\n",
       "      <th>release_type</th>\n",
       "      <th>genres</th>\n",
       "      <th>styles</th>\n",
       "      <th>artist_profile</th>\n",
       "    </tr>\n",
       "  </thead>\n",
       "  <tbody>\n",
       "    <tr>\n",
       "      <th>0</th>\n",
       "      <td>Blasfeme</td>\n",
       "      <td>Black Legion</td>\n",
       "      <td>8287884.0</td>\n",
       "      <td>0</td>\n",
       "      <td>32987169</td>\n",
       "      <td>UK</td>\n",
       "      <td>2024</td>\n",
       "      <td>32.33</td>\n",
       "      <td>7</td>\n",
       "      <td>['Album', 'Limited Edition']</td>\n",
       "      <td>['Rock']</td>\n",
       "      <td>['Black Metal']</td>\n",
       "      <td>Blasfeme is a two piece black metal force, fue...</td>\n",
       "    </tr>\n",
       "  </tbody>\n",
       "</table>\n",
       "</div>"
      ],
      "text/plain": [
       "     artist         title  artist_id  master_id  main_release_id  \\\n",
       "0  Blasfeme  Black Legion  8287884.0          0         32987169   \n",
       "\n",
       "  release_country  year  album_length  tracks                  release_type  \\\n",
       "0              UK  2024         32.33       7  ['Album', 'Limited Edition']   \n",
       "\n",
       "     genres           styles  \\\n",
       "0  ['Rock']  ['Black Metal']   \n",
       "\n",
       "                                      artist_profile  \n",
       "0  Blasfeme is a two piece black metal force, fue...  "
      ]
     },
     "execution_count": 198,
     "metadata": {},
     "output_type": "execute_result"
    }
   ],
   "source": [
    "df_masters_id0.head(1)"
   ]
  },
  {
   "cell_type": "markdown",
   "metadata": {},
   "source": [
    "## Sort columns"
   ]
  },
  {
   "cell_type": "code",
   "execution_count": 199,
   "metadata": {},
   "outputs": [
    {
     "data": {
      "text/html": [
       "<div>\n",
       "<style scoped>\n",
       "    .dataframe tbody tr th:only-of-type {\n",
       "        vertical-align: middle;\n",
       "    }\n",
       "\n",
       "    .dataframe tbody tr th {\n",
       "        vertical-align: top;\n",
       "    }\n",
       "\n",
       "    .dataframe thead th {\n",
       "        text-align: right;\n",
       "    }\n",
       "</style>\n",
       "<table border=\"1\" class=\"dataframe\">\n",
       "  <thead>\n",
       "    <tr style=\"text-align: right;\">\n",
       "      <th></th>\n",
       "      <th>artist</th>\n",
       "      <th>title</th>\n",
       "      <th>artist_id</th>\n",
       "      <th>master_id</th>\n",
       "      <th>main_release_id</th>\n",
       "      <th>release_country</th>\n",
       "      <th>year</th>\n",
       "      <th>album_length</th>\n",
       "      <th>tracks</th>\n",
       "      <th>release_type</th>\n",
       "      <th>genres</th>\n",
       "      <th>styles</th>\n",
       "      <th>artist_profile</th>\n",
       "    </tr>\n",
       "  </thead>\n",
       "  <tbody>\n",
       "    <tr>\n",
       "      <th>0</th>\n",
       "      <td>Blasfeme</td>\n",
       "      <td>Black Legion</td>\n",
       "      <td>8287884.0</td>\n",
       "      <td>0</td>\n",
       "      <td>32987169</td>\n",
       "      <td>UK</td>\n",
       "      <td>2024</td>\n",
       "      <td>32.33</td>\n",
       "      <td>7</td>\n",
       "      <td>['Album', 'Limited Edition']</td>\n",
       "      <td>['Rock']</td>\n",
       "      <td>['Black Metal']</td>\n",
       "      <td>Blasfeme is a two piece black metal force, fue...</td>\n",
       "    </tr>\n",
       "  </tbody>\n",
       "</table>\n",
       "</div>"
      ],
      "text/plain": [
       "     artist         title  artist_id  master_id  main_release_id  \\\n",
       "0  Blasfeme  Black Legion  8287884.0          0         32987169   \n",
       "\n",
       "  release_country  year  album_length  tracks                  release_type  \\\n",
       "0              UK  2024         32.33       7  ['Album', 'Limited Edition']   \n",
       "\n",
       "     genres           styles  \\\n",
       "0  ['Rock']  ['Black Metal']   \n",
       "\n",
       "                                      artist_profile  \n",
       "0  Blasfeme is a two piece black metal force, fue...  "
      ]
     },
     "execution_count": 199,
     "metadata": {},
     "output_type": "execute_result"
    }
   ],
   "source": [
    "df_masters_id0.head(1)"
   ]
  },
  {
   "cell_type": "code",
   "execution_count": 200,
   "metadata": {},
   "outputs": [],
   "source": [
    "list_of_columns = ['artist_id', 'master_id', 'main_release_id', 'release_country',\n",
    "       'artist', 'title', 'year', 'album_length', 'tracks', 'release_type',\n",
    "       'genres', 'styles', 'artist_profile']"
   ]
  },
  {
   "cell_type": "code",
   "execution_count": 201,
   "metadata": {},
   "outputs": [
    {
     "data": {
      "text/html": [
       "<div>\n",
       "<style scoped>\n",
       "    .dataframe tbody tr th:only-of-type {\n",
       "        vertical-align: middle;\n",
       "    }\n",
       "\n",
       "    .dataframe tbody tr th {\n",
       "        vertical-align: top;\n",
       "    }\n",
       "\n",
       "    .dataframe thead th {\n",
       "        text-align: right;\n",
       "    }\n",
       "</style>\n",
       "<table border=\"1\" class=\"dataframe\">\n",
       "  <thead>\n",
       "    <tr style=\"text-align: right;\">\n",
       "      <th></th>\n",
       "      <th>artist_id</th>\n",
       "      <th>master_id</th>\n",
       "      <th>main_release_id</th>\n",
       "      <th>release_country</th>\n",
       "      <th>artist</th>\n",
       "      <th>title</th>\n",
       "      <th>year</th>\n",
       "      <th>album_length</th>\n",
       "      <th>tracks</th>\n",
       "      <th>release_type</th>\n",
       "      <th>genres</th>\n",
       "      <th>styles</th>\n",
       "      <th>artist_profile</th>\n",
       "    </tr>\n",
       "  </thead>\n",
       "  <tbody>\n",
       "    <tr>\n",
       "      <th>0</th>\n",
       "      <td>8287884.0</td>\n",
       "      <td>0</td>\n",
       "      <td>32987169</td>\n",
       "      <td>UK</td>\n",
       "      <td>Blasfeme</td>\n",
       "      <td>Black Legion</td>\n",
       "      <td>2024</td>\n",
       "      <td>32.33</td>\n",
       "      <td>7</td>\n",
       "      <td>['Album', 'Limited Edition']</td>\n",
       "      <td>['Rock']</td>\n",
       "      <td>['Black Metal']</td>\n",
       "      <td>Blasfeme is a two piece black metal force, fue...</td>\n",
       "    </tr>\n",
       "  </tbody>\n",
       "</table>\n",
       "</div>"
      ],
      "text/plain": [
       "   artist_id  master_id  main_release_id release_country    artist  \\\n",
       "0  8287884.0          0         32987169              UK  Blasfeme   \n",
       "\n",
       "          title  year  album_length  tracks                  release_type  \\\n",
       "0  Black Legion  2024         32.33       7  ['Album', 'Limited Edition']   \n",
       "\n",
       "     genres           styles  \\\n",
       "0  ['Rock']  ['Black Metal']   \n",
       "\n",
       "                                      artist_profile  \n",
       "0  Blasfeme is a two piece black metal force, fue...  "
      ]
     },
     "execution_count": 201,
     "metadata": {},
     "output_type": "execute_result"
    }
   ],
   "source": [
    "df_masters_id0 = df_masters_id0.reindex(columns=list_of_columns)\n",
    "df_masters_id0.head(1)"
   ]
  },
  {
   "cell_type": "markdown",
   "metadata": {},
   "source": [
    "## Cleaning"
   ]
  },
  {
   "cell_type": "markdown",
   "metadata": {},
   "source": [
    "I noticed some artist and/or album names are slightly different, which will cause the merge to not properly function as I intend it."
   ]
  },
  {
   "cell_type": "code",
   "execution_count": 202,
   "metadata": {},
   "outputs": [],
   "source": [
    "df_masters_id0[['artist', 'title']] = df_masters_id0[['artist', 'title']].apply(lambda x: x.str.replace('&', 'and'))\n",
    "df_ratings[['artist', 'title']] = df_ratings[['artist', 'title']].apply(lambda x: x.str.replace('&', 'and'))"
   ]
  },
  {
   "cell_type": "markdown",
   "metadata": {},
   "source": [
    "## Actual merge"
   ]
  },
  {
   "cell_type": "code",
   "execution_count": 253,
   "metadata": {},
   "outputs": [
    {
     "data": {
      "text/plain": [
       "(703, 16)"
      ]
     },
     "execution_count": 253,
     "metadata": {},
     "output_type": "execute_result"
    }
   ],
   "source": [
    "df_masters_id0_ratings = pd.merge(\n",
    "    df_ratings.assign(artist_lower=df_ratings['artist'].str.lower().str.strip(), \n",
    "                      title_lower=df_ratings['title'].str.lower().str.strip()), \n",
    "    df_masters_id0.assign(artist_lower=df_masters_id0['artist'].str.lower().str.strip(), \n",
    "                      title_lower=df_masters_id0['title'].str.lower().str.strip()), \n",
    "    on=['artist_lower', 'title_lower']\n",
    ").drop(columns=['artist_lower', 'title_lower', 'artist_y', 'title_y'])\n",
    "\n",
    "# Rename columns\n",
    "df_masters_id0_ratings.rename(columns={'artist_x': 'artist', 'title_x': 'title'}, inplace=True)\n",
    "\n",
    "# Change dtypes\n",
    "df_masters_id0_ratings['master_id'] = df_masters_id0_ratings['master_id'].astype(int)\n",
    "\n",
    "# print the shape\n",
    "df_masters_id0_ratings.shape"
   ]
  },
  {
   "cell_type": "code",
   "execution_count": 254,
   "metadata": {},
   "outputs": [
    {
     "name": "stdout",
     "output_type": "stream",
     "text": [
      "Only 28.78 % of the albums have ratings\n"
     ]
    }
   ],
   "source": [
    "print(f\"Only {round(df_masters_id0.shape[0] / df_masters.shape[0]*100, 2)} % of the albums have ratings\")"
   ]
  },
  {
   "cell_type": "markdown",
   "metadata": {},
   "source": [
    "**I keep only the albums that have at least 10 votes**"
   ]
  },
  {
   "cell_type": "code",
   "execution_count": 255,
   "metadata": {},
   "outputs": [
    {
     "data": {
      "text/plain": [
       "(203, 16)"
      ]
     },
     "execution_count": 255,
     "metadata": {},
     "output_type": "execute_result"
    }
   ],
   "source": [
    "# how many of them have at least 10 votes?\n",
    "df = df_masters_id0_ratings[df_masters_id0_ratings['votes']>=10]\n",
    "df.shape"
   ]
  },
  {
   "cell_type": "markdown",
   "metadata": {},
   "source": [
    "**I keep only rock albums**"
   ]
  },
  {
   "cell_type": "code",
   "execution_count": 256,
   "metadata": {},
   "outputs": [
    {
     "data": {
      "text/plain": [
       "(203, 16)"
      ]
     },
     "execution_count": 256,
     "metadata": {},
     "output_type": "execute_result"
    }
   ],
   "source": [
    "# how many of them are Rock albums?\n",
    "df = df[df['genres'].str.contains('Rock')]\n",
    "df.shape"
   ]
  },
  {
   "cell_type": "markdown",
   "metadata": {},
   "source": [
    "**Drop compilations**"
   ]
  },
  {
   "cell_type": "code",
   "execution_count": 257,
   "metadata": {},
   "outputs": [
    {
     "data": {
      "text/plain": [
       "(200, 16)"
      ]
     },
     "execution_count": 257,
     "metadata": {},
     "output_type": "execute_result"
    }
   ],
   "source": [
    "df = df[~df['release_type'].str.contains('Compilation')]\n",
    "df.shape"
   ]
  },
  {
   "cell_type": "code",
   "execution_count": 258,
   "metadata": {},
   "outputs": [
    {
     "data": {
      "text/plain": [
       "178"
      ]
     },
     "execution_count": 258,
     "metadata": {},
     "output_type": "execute_result"
    }
   ],
   "source": [
    "# number of unique artists\n",
    "df['artist'].nunique()"
   ]
  },
  {
   "cell_type": "markdown",
   "metadata": {},
   "source": [
    "## Concat with the albums previously cleaned"
   ]
  },
  {
   "cell_type": "code",
   "execution_count": 259,
   "metadata": {},
   "outputs": [
    {
     "data": {
      "text/plain": [
       "(9918, 13)"
      ]
     },
     "execution_count": 259,
     "metadata": {},
     "output_type": "execute_result"
    }
   ],
   "source": [
    "df_masters_ratings_uk = pd.read_csv('Datasets/df_masters_ratings_uk.csv')         # df with the albums already cleaned\n",
    "df_masters_ratings_uk.shape"
   ]
  },
  {
   "cell_type": "code",
   "execution_count": 264,
   "metadata": {},
   "outputs": [
    {
     "data": {
      "text/html": [
       "<div>\n",
       "<style scoped>\n",
       "    .dataframe tbody tr th:only-of-type {\n",
       "        vertical-align: middle;\n",
       "    }\n",
       "\n",
       "    .dataframe tbody tr th {\n",
       "        vertical-align: top;\n",
       "    }\n",
       "\n",
       "    .dataframe thead th {\n",
       "        text-align: right;\n",
       "    }\n",
       "</style>\n",
       "<table border=\"1\" class=\"dataframe\">\n",
       "  <thead>\n",
       "    <tr style=\"text-align: right;\">\n",
       "      <th></th>\n",
       "      <th>artist_id</th>\n",
       "      <th>master_id</th>\n",
       "      <th>main_release_id</th>\n",
       "      <th>release_country</th>\n",
       "      <th>artist</th>\n",
       "      <th>title</th>\n",
       "      <th>year</th>\n",
       "      <th>album_length</th>\n",
       "      <th>tracks</th>\n",
       "      <th>release_type</th>\n",
       "      <th>genres</th>\n",
       "      <th>styles</th>\n",
       "      <th>artist_profile</th>\n",
       "    </tr>\n",
       "  </thead>\n",
       "  <tbody>\n",
       "    <tr>\n",
       "      <th>0</th>\n",
       "      <td>253712</td>\n",
       "      <td>158153</td>\n",
       "      <td>426893</td>\n",
       "      <td>US</td>\n",
       "      <td>Sparta</td>\n",
       "      <td>Wiretap Scars</td>\n",
       "      <td>2002</td>\n",
       "      <td>47.62</td>\n",
       "      <td>12</td>\n",
       "      <td>['Album']</td>\n",
       "      <td>['Rock']</td>\n",
       "      <td>['Indie Rock', 'Alternative Rock']</td>\n",
       "      <td>El Paso, Texas based band. Formed in 2001 afte...</td>\n",
       "    </tr>\n",
       "  </tbody>\n",
       "</table>\n",
       "</div>"
      ],
      "text/plain": [
       "   artist_id  master_id  main_release_id release_country  artist  \\\n",
       "0     253712     158153           426893              US  Sparta   \n",
       "\n",
       "           title  year  album_length  tracks release_type    genres  \\\n",
       "0  Wiretap Scars  2002         47.62      12    ['Album']  ['Rock']   \n",
       "\n",
       "                               styles  \\\n",
       "0  ['Indie Rock', 'Alternative Rock']   \n",
       "\n",
       "                                      artist_profile  \n",
       "0  El Paso, Texas based band. Formed in 2001 afte...  "
      ]
     },
     "execution_count": 264,
     "metadata": {},
     "output_type": "execute_result"
    }
   ],
   "source": [
    "df_masters_ratings_uk.head(1)"
   ]
  },
  {
   "cell_type": "markdown",
   "metadata": {},
   "source": [
    "**Sort columns**"
   ]
  },
  {
   "cell_type": "code",
   "execution_count": 263,
   "metadata": {},
   "outputs": [],
   "source": [
    "list_of_columns = ['artist_id', 'master_id', 'main_release_id', 'release_country',\n",
    "       'artist', 'title', 'year', 'album_length', 'tracks', 'release_type',\n",
    "       'genres', 'styles', 'artist_profile']"
   ]
  },
  {
   "cell_type": "code",
   "execution_count": 265,
   "metadata": {},
   "outputs": [
    {
     "data": {
      "text/html": [
       "<div>\n",
       "<style scoped>\n",
       "    .dataframe tbody tr th:only-of-type {\n",
       "        vertical-align: middle;\n",
       "    }\n",
       "\n",
       "    .dataframe tbody tr th {\n",
       "        vertical-align: top;\n",
       "    }\n",
       "\n",
       "    .dataframe thead th {\n",
       "        text-align: right;\n",
       "    }\n",
       "</style>\n",
       "<table border=\"1\" class=\"dataframe\">\n",
       "  <thead>\n",
       "    <tr style=\"text-align: right;\">\n",
       "      <th></th>\n",
       "      <th>artist_id</th>\n",
       "      <th>master_id</th>\n",
       "      <th>main_release_id</th>\n",
       "      <th>release_country</th>\n",
       "      <th>artist</th>\n",
       "      <th>title</th>\n",
       "      <th>year</th>\n",
       "      <th>album_length</th>\n",
       "      <th>tracks</th>\n",
       "      <th>release_type</th>\n",
       "      <th>genres</th>\n",
       "      <th>styles</th>\n",
       "      <th>artist_profile</th>\n",
       "    </tr>\n",
       "  </thead>\n",
       "  <tbody>\n",
       "    <tr>\n",
       "      <th>0</th>\n",
       "      <td>261436.0</td>\n",
       "      <td>0</td>\n",
       "      <td>13477274</td>\n",
       "      <td>UK</td>\n",
       "      <td>Lostprophets</td>\n",
       "      <td>Start Something</td>\n",
       "      <td>2006</td>\n",
       "      <td>0.0</td>\n",
       "      <td>13</td>\n",
       "      <td>['LP', 'Album', 'Limited Edition']</td>\n",
       "      <td>['Rock']</td>\n",
       "      <td>['Alternative Rock', 'Nu Metal']</td>\n",
       "      <td>Alternative Rock / Modern Rock band from Ponty...</td>\n",
       "    </tr>\n",
       "  </tbody>\n",
       "</table>\n",
       "</div>"
      ],
      "text/plain": [
       "   artist_id  master_id  main_release_id release_country        artist  \\\n",
       "0   261436.0          0         13477274              UK  Lostprophets   \n",
       "\n",
       "             title  year  album_length  tracks  \\\n",
       "0  Start Something  2006           0.0      13   \n",
       "\n",
       "                         release_type    genres  \\\n",
       "0  ['LP', 'Album', 'Limited Edition']  ['Rock']   \n",
       "\n",
       "                             styles  \\\n",
       "0  ['Alternative Rock', 'Nu Metal']   \n",
       "\n",
       "                                      artist_profile  \n",
       "0  Alternative Rock / Modern Rock band from Ponty...  "
      ]
     },
     "execution_count": 265,
     "metadata": {},
     "output_type": "execute_result"
    }
   ],
   "source": [
    "df = df.reindex(columns=list_of_columns)\n",
    "df.head(1)"
   ]
  },
  {
   "cell_type": "code",
   "execution_count": 266,
   "metadata": {},
   "outputs": [
    {
     "data": {
      "text/plain": [
       "(10118, 13)"
      ]
     },
     "execution_count": 266,
     "metadata": {},
     "output_type": "execute_result"
    }
   ],
   "source": [
    "df_concat = pd.concat([df_masters_ratings_uk, df])\n",
    "df_concat.shape"
   ]
  },
  {
   "cell_type": "markdown",
   "metadata": {},
   "source": [
    "## ``df_masters_ratings`` cleaning"
   ]
  },
  {
   "cell_type": "markdown",
   "metadata": {},
   "source": [
    "I want to **drop duplicates** and releases from **bands outside of the UK**, I only want to keep brittish artists. Also **drop compilations and live albums**."
   ]
  },
  {
   "cell_type": "code",
   "execution_count": 267,
   "metadata": {},
   "outputs": [
    {
     "data": {
      "text/plain": [
       "1"
      ]
     },
     "execution_count": 267,
     "metadata": {},
     "output_type": "execute_result"
    }
   ],
   "source": [
    "df[['artist', 'title']].duplicated().sum()"
   ]
  },
  {
   "cell_type": "code",
   "execution_count": 268,
   "metadata": {},
   "outputs": [
    {
     "data": {
      "text/html": [
       "<div>\n",
       "<style scoped>\n",
       "    .dataframe tbody tr th:only-of-type {\n",
       "        vertical-align: middle;\n",
       "    }\n",
       "\n",
       "    .dataframe tbody tr th {\n",
       "        vertical-align: top;\n",
       "    }\n",
       "\n",
       "    .dataframe thead th {\n",
       "        text-align: right;\n",
       "    }\n",
       "</style>\n",
       "<table border=\"1\" class=\"dataframe\">\n",
       "  <thead>\n",
       "    <tr style=\"text-align: right;\">\n",
       "      <th></th>\n",
       "      <th>artist_id</th>\n",
       "      <th>master_id</th>\n",
       "      <th>main_release_id</th>\n",
       "      <th>release_country</th>\n",
       "      <th>artist</th>\n",
       "      <th>title</th>\n",
       "      <th>year</th>\n",
       "      <th>album_length</th>\n",
       "      <th>tracks</th>\n",
       "      <th>release_type</th>\n",
       "      <th>genres</th>\n",
       "      <th>styles</th>\n",
       "      <th>artist_profile</th>\n",
       "    </tr>\n",
       "  </thead>\n",
       "  <tbody>\n",
       "    <tr>\n",
       "      <th>331</th>\n",
       "      <td>6516.0</td>\n",
       "      <td>0</td>\n",
       "      <td>18745387</td>\n",
       "      <td>UK</td>\n",
       "      <td>My Bloody Valentine</td>\n",
       "      <td>m b v</td>\n",
       "      <td>2013</td>\n",
       "      <td>46.62</td>\n",
       "      <td>9</td>\n",
       "      <td>['Album']</td>\n",
       "      <td>['Rock', 'Pop']</td>\n",
       "      <td>['Shoegaze']</td>\n",
       "      <td>My Bloody Valentine are an Irish-English rock ...</td>\n",
       "    </tr>\n",
       "  </tbody>\n",
       "</table>\n",
       "</div>"
      ],
      "text/plain": [
       "     artist_id  master_id  main_release_id release_country  \\\n",
       "331     6516.0          0         18745387              UK   \n",
       "\n",
       "                  artist  title  year  album_length  tracks release_type  \\\n",
       "331  My Bloody Valentine  m b v  2013         46.62       9    ['Album']   \n",
       "\n",
       "              genres        styles  \\\n",
       "331  ['Rock', 'Pop']  ['Shoegaze']   \n",
       "\n",
       "                                        artist_profile  \n",
       "331  My Bloody Valentine are an Irish-English rock ...  "
      ]
     },
     "execution_count": 268,
     "metadata": {},
     "output_type": "execute_result"
    }
   ],
   "source": [
    "df[df[['artist', 'title']].duplicated()].tail()"
   ]
  },
  {
   "cell_type": "code",
   "execution_count": 91,
   "metadata": {},
   "outputs": [
    {
     "data": {
      "text/html": [
       "<div>\n",
       "<style scoped>\n",
       "    .dataframe tbody tr th:only-of-type {\n",
       "        vertical-align: middle;\n",
       "    }\n",
       "\n",
       "    .dataframe tbody tr th {\n",
       "        vertical-align: top;\n",
       "    }\n",
       "\n",
       "    .dataframe thead th {\n",
       "        text-align: right;\n",
       "    }\n",
       "</style>\n",
       "<table border=\"1\" class=\"dataframe\">\n",
       "  <thead>\n",
       "    <tr style=\"text-align: right;\">\n",
       "      <th></th>\n",
       "      <th>album_id</th>\n",
       "      <th>artist</th>\n",
       "      <th>title</th>\n",
       "      <th>year</th>\n",
       "      <th>rating</th>\n",
       "      <th>votes</th>\n",
       "      <th>album_length</th>\n",
       "      <th>tracks</th>\n",
       "      <th>release_country</th>\n",
       "      <th>release_type</th>\n",
       "      <th>genres</th>\n",
       "      <th>styles</th>\n",
       "      <th>artist_profile</th>\n",
       "      <th>artist_id</th>\n",
       "      <th>master_id</th>\n",
       "      <th>main_release_id</th>\n",
       "    </tr>\n",
       "  </thead>\n",
       "  <tbody>\n",
       "    <tr>\n",
       "      <th>330</th>\n",
       "      <td>121604</td>\n",
       "      <td>My Bloody Valentine</td>\n",
       "      <td>m b v</td>\n",
       "      <td>2013</td>\n",
       "      <td>3.79</td>\n",
       "      <td>1548</td>\n",
       "      <td>46.62</td>\n",
       "      <td>9</td>\n",
       "      <td>UK</td>\n",
       "      <td>['LP', 'Album']</td>\n",
       "      <td>['Rock']</td>\n",
       "      <td>['Shoegaze']</td>\n",
       "      <td>NaN</td>\n",
       "      <td>NaN</td>\n",
       "      <td>0</td>\n",
       "      <td>4259634</td>\n",
       "    </tr>\n",
       "    <tr>\n",
       "      <th>331</th>\n",
       "      <td>121604</td>\n",
       "      <td>My Bloody Valentine</td>\n",
       "      <td>m b v</td>\n",
       "      <td>2013</td>\n",
       "      <td>3.79</td>\n",
       "      <td>1548</td>\n",
       "      <td>46.62</td>\n",
       "      <td>9</td>\n",
       "      <td>UK</td>\n",
       "      <td>['Album']</td>\n",
       "      <td>['Rock', 'Pop']</td>\n",
       "      <td>['Shoegaze']</td>\n",
       "      <td>My Bloody Valentine are an Irish-English rock ...</td>\n",
       "      <td>6516.0</td>\n",
       "      <td>0</td>\n",
       "      <td>18745387</td>\n",
       "    </tr>\n",
       "  </tbody>\n",
       "</table>\n",
       "</div>"
      ],
      "text/plain": [
       "     album_id               artist  title  year  rating  votes  album_length  \\\n",
       "330    121604  My Bloody Valentine  m b v  2013    3.79   1548         46.62   \n",
       "331    121604  My Bloody Valentine  m b v  2013    3.79   1548         46.62   \n",
       "\n",
       "     tracks release_country     release_type           genres        styles  \\\n",
       "330       9              UK  ['LP', 'Album']         ['Rock']  ['Shoegaze']   \n",
       "331       9              UK        ['Album']  ['Rock', 'Pop']  ['Shoegaze']   \n",
       "\n",
       "                                        artist_profile  artist_id  master_id  \\\n",
       "330                                                NaN        NaN          0   \n",
       "331  My Bloody Valentine are an Irish-English rock ...     6516.0          0   \n",
       "\n",
       "     main_release_id  \n",
       "330          4259634  \n",
       "331         18745387  "
      ]
     },
     "execution_count": 91,
     "metadata": {},
     "output_type": "execute_result"
    }
   ],
   "source": [
    "df[df['artist']=='My Bloody Valentine'].sort_values('year')"
   ]
  },
  {
   "cell_type": "code",
   "execution_count": null,
   "metadata": {},
   "outputs": [],
   "source": [
    "df[df['title']=='MyValentine'].sort_values('year')"
   ]
  },
  {
   "cell_type": "code",
   "execution_count": null,
   "metadata": {},
   "outputs": [
    {
     "name": "stdout",
     "output_type": "stream",
     "text": [
      "Rows dropped\n",
      "(10054, 16)\n"
     ]
    }
   ],
   "source": [
    "# check one by one if necessary\n",
    "try:\n",
    "    df.drop([256], axis=0, inplace=True)\n",
    "    print('Rows dropped')\n",
    "    print(df.shape)\n",
    "except:\n",
    "    print(\"Couldn't drop these rows\")\n",
    "    print(df.shape)"
   ]
  },
  {
   "cell_type": "code",
   "execution_count": null,
   "metadata": {},
   "outputs": [],
   "source": [
    "# df.loc[4736, 'title'] = 'The Butterfly Album'\n",
    "# df.loc[4736, 'rating'] = 3.65\n",
    "# df.loc[4736, 'votes'] = 27\n",
    "# df.loc[1990, 'album_length'] = 43.43\n",
    "# df.loc[4737, 'tracks'] = 10"
   ]
  },
  {
   "cell_type": "code",
   "execution_count": null,
   "metadata": {},
   "outputs": [
    {
     "data": {
      "text/plain": [
       "0.43333333333333335"
      ]
     },
     "metadata": {},
     "output_type": "display_data"
    }
   ],
   "source": [
    "26/60"
   ]
  },
  {
   "cell_type": "markdown",
   "metadata": {},
   "source": [
    "**Deleting artists from outside the UK**"
   ]
  },
  {
   "cell_type": "markdown",
   "metadata": {},
   "source": [
    "While checking online for these duplicated albums, I can see the country of origin, and if it's not the UK I drop directly these bands"
   ]
  },
  {
   "cell_type": "code",
   "execution_count": 92,
   "metadata": {},
   "outputs": [],
   "source": [
    "df.artist = np.where(df['artist']=='My Bloody Valentine', np.nan, df['artist'])\n",
    "\n",
    "df.dropna(subset=['artist'], inplace=True)"
   ]
  },
  {
   "cell_type": "code",
   "execution_count": 94,
   "metadata": {},
   "outputs": [
    {
     "data": {
      "text/plain": [
       "177"
      ]
     },
     "execution_count": 94,
     "metadata": {},
     "output_type": "execute_result"
    }
   ],
   "source": [
    "# number of unique artists, before there were 178\n",
    "df['artist'].nunique()"
   ]
  },
  {
   "cell_type": "markdown",
   "metadata": {},
   "source": [
    "### **Drop live albums**"
   ]
  },
  {
   "cell_type": "markdown",
   "metadata": {},
   "source": [
    "Let's try to detect the live albums by the title"
   ]
  },
  {
   "cell_type": "markdown",
   "metadata": {},
   "source": [
    "**'Live at'**"
   ]
  },
  {
   "cell_type": "code",
   "execution_count": 95,
   "metadata": {},
   "outputs": [
    {
     "data": {
      "text/plain": [
       "(198, 16)"
      ]
     },
     "execution_count": 95,
     "metadata": {},
     "output_type": "execute_result"
    }
   ],
   "source": [
    "df.shape"
   ]
  },
  {
   "cell_type": "code",
   "execution_count": 96,
   "metadata": {},
   "outputs": [
    {
     "name": "stdout",
     "output_type": "stream",
     "text": [
      "There are 0 albums with 'Live at' in the title\n"
     ]
    }
   ],
   "source": [
    "print(f\"There are {df[df['title'].str.contains('Live at')].shape[0]} albums with 'Live at' in the title\")"
   ]
  },
  {
   "cell_type": "code",
   "execution_count": 97,
   "metadata": {},
   "outputs": [
    {
     "data": {
      "text/html": [
       "<div>\n",
       "<style scoped>\n",
       "    .dataframe tbody tr th:only-of-type {\n",
       "        vertical-align: middle;\n",
       "    }\n",
       "\n",
       "    .dataframe tbody tr th {\n",
       "        vertical-align: top;\n",
       "    }\n",
       "\n",
       "    .dataframe thead th {\n",
       "        text-align: right;\n",
       "    }\n",
       "</style>\n",
       "<table border=\"1\" class=\"dataframe\">\n",
       "  <thead>\n",
       "    <tr style=\"text-align: right;\">\n",
       "      <th></th>\n",
       "      <th>album_id</th>\n",
       "      <th>artist</th>\n",
       "      <th>title</th>\n",
       "      <th>year</th>\n",
       "      <th>rating</th>\n",
       "      <th>votes</th>\n",
       "      <th>album_length</th>\n",
       "      <th>tracks</th>\n",
       "      <th>release_country</th>\n",
       "      <th>release_type</th>\n",
       "      <th>genres</th>\n",
       "      <th>styles</th>\n",
       "      <th>artist_profile</th>\n",
       "      <th>artist_id</th>\n",
       "      <th>master_id</th>\n",
       "      <th>main_release_id</th>\n",
       "    </tr>\n",
       "  </thead>\n",
       "  <tbody>\n",
       "  </tbody>\n",
       "</table>\n",
       "</div>"
      ],
      "text/plain": [
       "Empty DataFrame\n",
       "Columns: [album_id, artist, title, year, rating, votes, album_length, tracks, release_country, release_type, genres, styles, artist_profile, artist_id, master_id, main_release_id]\n",
       "Index: []"
      ]
     },
     "execution_count": 97,
     "metadata": {},
     "output_type": "execute_result"
    }
   ],
   "source": [
    "# Let's check them before deleting them\n",
    "df[df['title'].str.contains('Live at')]"
   ]
  },
  {
   "cell_type": "code",
   "execution_count": 98,
   "metadata": {},
   "outputs": [
    {
     "data": {
      "text/plain": [
       "(198, 16)"
      ]
     },
     "execution_count": 98,
     "metadata": {},
     "output_type": "execute_result"
    }
   ],
   "source": [
    "# correct, they are all live albums\n",
    "df = df[~df['title'].str.contains('Live at')]\n",
    "df.shape"
   ]
  },
  {
   "cell_type": "markdown",
   "metadata": {},
   "source": [
    "**'Live in'**"
   ]
  },
  {
   "cell_type": "code",
   "execution_count": 99,
   "metadata": {},
   "outputs": [
    {
     "name": "stdout",
     "output_type": "stream",
     "text": [
      "There are 0 albums with 'Live in' in the title\n"
     ]
    }
   ],
   "source": [
    "print(f\"There are {df[df['title'].str.contains('Live in')].shape[0]} albums with 'Live in' in the title\")"
   ]
  },
  {
   "cell_type": "code",
   "execution_count": 100,
   "metadata": {},
   "outputs": [
    {
     "data": {
      "text/html": [
       "<div>\n",
       "<style scoped>\n",
       "    .dataframe tbody tr th:only-of-type {\n",
       "        vertical-align: middle;\n",
       "    }\n",
       "\n",
       "    .dataframe tbody tr th {\n",
       "        vertical-align: top;\n",
       "    }\n",
       "\n",
       "    .dataframe thead th {\n",
       "        text-align: right;\n",
       "    }\n",
       "</style>\n",
       "<table border=\"1\" class=\"dataframe\">\n",
       "  <thead>\n",
       "    <tr style=\"text-align: right;\">\n",
       "      <th></th>\n",
       "      <th>album_id</th>\n",
       "      <th>artist</th>\n",
       "      <th>title</th>\n",
       "      <th>year</th>\n",
       "      <th>rating</th>\n",
       "      <th>votes</th>\n",
       "      <th>album_length</th>\n",
       "      <th>tracks</th>\n",
       "      <th>release_country</th>\n",
       "      <th>release_type</th>\n",
       "      <th>genres</th>\n",
       "      <th>styles</th>\n",
       "      <th>artist_profile</th>\n",
       "      <th>artist_id</th>\n",
       "      <th>master_id</th>\n",
       "      <th>main_release_id</th>\n",
       "    </tr>\n",
       "  </thead>\n",
       "  <tbody>\n",
       "  </tbody>\n",
       "</table>\n",
       "</div>"
      ],
      "text/plain": [
       "Empty DataFrame\n",
       "Columns: [album_id, artist, title, year, rating, votes, album_length, tracks, release_country, release_type, genres, styles, artist_profile, artist_id, master_id, main_release_id]\n",
       "Index: []"
      ]
     },
     "execution_count": 100,
     "metadata": {},
     "output_type": "execute_result"
    }
   ],
   "source": [
    "# Let's check them before deleting them\n",
    "df[df['title'].str.contains('Live in')]"
   ]
  },
  {
   "cell_type": "code",
   "execution_count": null,
   "metadata": {},
   "outputs": [
    {
     "data": {
      "text/plain": [
       "(198, 16)"
      ]
     },
     "execution_count": 101,
     "metadata": {},
     "output_type": "execute_result"
    }
   ],
   "source": [
    "# I can drop them all\n",
    "df = df[~df['title'].str.contains('Live in')]\n",
    "df.shape"
   ]
  },
  {
   "cell_type": "markdown",
   "metadata": {},
   "source": [
    "### **Dropping compilations sorting albums by the top rated**"
   ]
  },
  {
   "cell_type": "markdown",
   "metadata": {},
   "source": [
    "Usually compilations have the best songs of the band and users love them, so let's find them, even if 'Compilation' is not in ``release_type``"
   ]
  },
  {
   "cell_type": "code",
   "execution_count": 102,
   "metadata": {},
   "outputs": [
    {
     "data": {
      "text/html": [
       "<div>\n",
       "<style scoped>\n",
       "    .dataframe tbody tr th:only-of-type {\n",
       "        vertical-align: middle;\n",
       "    }\n",
       "\n",
       "    .dataframe tbody tr th {\n",
       "        vertical-align: top;\n",
       "    }\n",
       "\n",
       "    .dataframe thead th {\n",
       "        text-align: right;\n",
       "    }\n",
       "</style>\n",
       "<table border=\"1\" class=\"dataframe\">\n",
       "  <thead>\n",
       "    <tr style=\"text-align: right;\">\n",
       "      <th></th>\n",
       "      <th>album_id</th>\n",
       "      <th>artist</th>\n",
       "      <th>title</th>\n",
       "      <th>year</th>\n",
       "      <th>rating</th>\n",
       "      <th>votes</th>\n",
       "      <th>album_length</th>\n",
       "      <th>tracks</th>\n",
       "      <th>release_country</th>\n",
       "      <th>release_type</th>\n",
       "      <th>genres</th>\n",
       "      <th>styles</th>\n",
       "      <th>artist_profile</th>\n",
       "      <th>artist_id</th>\n",
       "      <th>master_id</th>\n",
       "      <th>main_release_id</th>\n",
       "    </tr>\n",
       "  </thead>\n",
       "  <tbody>\n",
       "    <tr>\n",
       "      <th>1</th>\n",
       "      <td>185</td>\n",
       "      <td>Pink Floyd</td>\n",
       "      <td>Animals</td>\n",
       "      <td>2014</td>\n",
       "      <td>4.51</td>\n",
       "      <td>5420</td>\n",
       "      <td>41.52</td>\n",
       "      <td>5</td>\n",
       "      <td>UK</td>\n",
       "      <td>['LP', 'Album', 'Unofficial Release', 'Stereo']</td>\n",
       "      <td>['Rock']</td>\n",
       "      <td>['Prog Rock']</td>\n",
       "      <td>Pink Floyd was an English rock band from Londo...</td>\n",
       "      <td>45467.0</td>\n",
       "      <td>0</td>\n",
       "      <td>7139102</td>\n",
       "    </tr>\n",
       "    <tr>\n",
       "      <th>7</th>\n",
       "      <td>871</td>\n",
       "      <td>Nick Drake</td>\n",
       "      <td>Pink Moon</td>\n",
       "      <td>2009</td>\n",
       "      <td>4.46</td>\n",
       "      <td>2173</td>\n",
       "      <td>0.00</td>\n",
       "      <td>11</td>\n",
       "      <td>UK</td>\n",
       "      <td>['LP', 'Album', 'Reissue']</td>\n",
       "      <td>['Rock', 'Folk, World, &amp; Country']</td>\n",
       "      <td>['Folk', 'Acoustic', 'Folk Rock']</td>\n",
       "      <td>British folk singer-songwriter and guitarist (...</td>\n",
       "      <td>28085.0</td>\n",
       "      <td>0</td>\n",
       "      <td>1994905</td>\n",
       "    </tr>\n",
       "    <tr>\n",
       "      <th>17</th>\n",
       "      <td>2261</td>\n",
       "      <td>Howards Alias</td>\n",
       "      <td>The Answer Is Never</td>\n",
       "      <td>2004</td>\n",
       "      <td>4.45</td>\n",
       "      <td>11</td>\n",
       "      <td>0.00</td>\n",
       "      <td>16</td>\n",
       "      <td>UK</td>\n",
       "      <td>['Album']</td>\n",
       "      <td>['Rock', 'Reggae']</td>\n",
       "      <td>['Punk', 'Ska', 'Indie Rock']</td>\n",
       "      <td>Band in the modern UK underground punk scene, ...</td>\n",
       "      <td>918301.0</td>\n",
       "      <td>0</td>\n",
       "      <td>6478802</td>\n",
       "    </tr>\n",
       "    <tr>\n",
       "      <th>2</th>\n",
       "      <td>479</td>\n",
       "      <td>Neutral Milk Hotel</td>\n",
       "      <td>In the Aeroplane Over the Sea</td>\n",
       "      <td>2005</td>\n",
       "      <td>4.38</td>\n",
       "      <td>4961</td>\n",
       "      <td>0.00</td>\n",
       "      <td>11</td>\n",
       "      <td>UK</td>\n",
       "      <td>['Album', 'Promo']</td>\n",
       "      <td>['Rock']</td>\n",
       "      <td>['Alternative Rock', 'Lo-Fi', 'Indie Rock']</td>\n",
       "      <td>NaN</td>\n",
       "      <td>252434.0</td>\n",
       "      <td>0</td>\n",
       "      <td>4712858</td>\n",
       "    </tr>\n",
       "    <tr>\n",
       "      <th>25</th>\n",
       "      <td>4044</td>\n",
       "      <td>Howards Alias</td>\n",
       "      <td>Beat Heart, Beat</td>\n",
       "      <td>2005</td>\n",
       "      <td>4.38</td>\n",
       "      <td>13</td>\n",
       "      <td>0.00</td>\n",
       "      <td>13</td>\n",
       "      <td>UK</td>\n",
       "      <td>['Album']</td>\n",
       "      <td>['Rock']</td>\n",
       "      <td>['Punk']</td>\n",
       "      <td>Band in the modern UK underground punk scene, ...</td>\n",
       "      <td>918301.0</td>\n",
       "      <td>0</td>\n",
       "      <td>3601428</td>\n",
       "    </tr>\n",
       "    <tr>\n",
       "      <th>220</th>\n",
       "      <td>80367</td>\n",
       "      <td>Enter Shikari</td>\n",
       "      <td>Live From Planet Earth</td>\n",
       "      <td>2011</td>\n",
       "      <td>4.29</td>\n",
       "      <td>35</td>\n",
       "      <td>0.00</td>\n",
       "      <td>21</td>\n",
       "      <td>UK &amp; Europe</td>\n",
       "      <td>['Album']</td>\n",
       "      <td>['Electronic', 'Rock']</td>\n",
       "      <td>['Hardcore']</td>\n",
       "      <td>NaN</td>\n",
       "      <td>NaN</td>\n",
       "      <td>0</td>\n",
       "      <td>2985898</td>\n",
       "    </tr>\n",
       "    <tr>\n",
       "      <th>61</th>\n",
       "      <td>21932</td>\n",
       "      <td>Bon Iver</td>\n",
       "      <td>For Emma, Forever Ago</td>\n",
       "      <td>2011</td>\n",
       "      <td>4.25</td>\n",
       "      <td>3551</td>\n",
       "      <td>37.18</td>\n",
       "      <td>9</td>\n",
       "      <td>UK</td>\n",
       "      <td>['LP', 'Album']</td>\n",
       "      <td>['Rock', 'Folk, World, &amp; Country']</td>\n",
       "      <td>['Folk Rock', 'Acoustic', 'Indie Rock', 'Folk']</td>\n",
       "      <td>American indie folk band started 2007 as a sol...</td>\n",
       "      <td>1042739.0</td>\n",
       "      <td>0</td>\n",
       "      <td>4968048</td>\n",
       "    </tr>\n",
       "    <tr>\n",
       "      <th>3</th>\n",
       "      <td>635</td>\n",
       "      <td>The Doors</td>\n",
       "      <td>Strange Days</td>\n",
       "      <td>2006</td>\n",
       "      <td>4.22</td>\n",
       "      <td>1372</td>\n",
       "      <td>0.00</td>\n",
       "      <td>12</td>\n",
       "      <td>UK &amp; Europe</td>\n",
       "      <td>['HDCD', 'Album', 'Remastered']</td>\n",
       "      <td>['Rock']</td>\n",
       "      <td>[]</td>\n",
       "      <td>American psychedelic rock/blues rock band form...</td>\n",
       "      <td>56798.0</td>\n",
       "      <td>0</td>\n",
       "      <td>13686687</td>\n",
       "    </tr>\n",
       "    <tr>\n",
       "      <th>18</th>\n",
       "      <td>2419</td>\n",
       "      <td>Cult of Luna</td>\n",
       "      <td>Salvation</td>\n",
       "      <td>2004</td>\n",
       "      <td>4.21</td>\n",
       "      <td>1162</td>\n",
       "      <td>73.88</td>\n",
       "      <td>8</td>\n",
       "      <td>UK</td>\n",
       "      <td>['Album']</td>\n",
       "      <td>['Rock']</td>\n",
       "      <td>['Sludge Metal', 'Hardcore', 'Post Rock', 'Exp...</td>\n",
       "      <td>Swedish metal band with members from Luleå and...</td>\n",
       "      <td>260046.0</td>\n",
       "      <td>0</td>\n",
       "      <td>8361591</td>\n",
       "    </tr>\n",
       "    <tr>\n",
       "      <th>16</th>\n",
       "      <td>1890</td>\n",
       "      <td>Queen</td>\n",
       "      <td>Queen II</td>\n",
       "      <td>2015</td>\n",
       "      <td>4.17</td>\n",
       "      <td>1080</td>\n",
       "      <td>0.00</td>\n",
       "      <td>13</td>\n",
       "      <td>UK &amp; Europe</td>\n",
       "      <td>['LP', 'Single Sided', 'Album', 'Etched', 'Rei...</td>\n",
       "      <td>['Rock']</td>\n",
       "      <td>['Hard Rock', 'Arena Rock', 'Glam']</td>\n",
       "      <td>Queen is a British rock band formed in London ...</td>\n",
       "      <td>81013.0</td>\n",
       "      <td>0</td>\n",
       "      <td>28175128</td>\n",
       "    </tr>\n",
       "  </tbody>\n",
       "</table>\n",
       "</div>"
      ],
      "text/plain": [
       "     album_id              artist                          title  year  \\\n",
       "1         185          Pink Floyd                        Animals  2014   \n",
       "7         871          Nick Drake                      Pink Moon  2009   \n",
       "17       2261       Howards Alias            The Answer Is Never  2004   \n",
       "2         479  Neutral Milk Hotel  In the Aeroplane Over the Sea  2005   \n",
       "25       4044       Howards Alias               Beat Heart, Beat  2005   \n",
       "220     80367       Enter Shikari         Live From Planet Earth  2011   \n",
       "61      21932            Bon Iver          For Emma, Forever Ago  2011   \n",
       "3         635           The Doors                   Strange Days  2006   \n",
       "18       2419        Cult of Luna                      Salvation  2004   \n",
       "16       1890               Queen                       Queen II  2015   \n",
       "\n",
       "     rating  votes  album_length  tracks release_country  \\\n",
       "1      4.51   5420         41.52       5              UK   \n",
       "7      4.46   2173          0.00      11              UK   \n",
       "17     4.45     11          0.00      16              UK   \n",
       "2      4.38   4961          0.00      11              UK   \n",
       "25     4.38     13          0.00      13              UK   \n",
       "220    4.29     35          0.00      21     UK & Europe   \n",
       "61     4.25   3551         37.18       9              UK   \n",
       "3      4.22   1372          0.00      12     UK & Europe   \n",
       "18     4.21   1162         73.88       8              UK   \n",
       "16     4.17   1080          0.00      13     UK & Europe   \n",
       "\n",
       "                                          release_type  \\\n",
       "1      ['LP', 'Album', 'Unofficial Release', 'Stereo']   \n",
       "7                           ['LP', 'Album', 'Reissue']   \n",
       "17                                           ['Album']   \n",
       "2                                   ['Album', 'Promo']   \n",
       "25                                           ['Album']   \n",
       "220                                          ['Album']   \n",
       "61                                     ['LP', 'Album']   \n",
       "3                      ['HDCD', 'Album', 'Remastered']   \n",
       "18                                           ['Album']   \n",
       "16   ['LP', 'Single Sided', 'Album', 'Etched', 'Rei...   \n",
       "\n",
       "                                 genres  \\\n",
       "1                              ['Rock']   \n",
       "7    ['Rock', 'Folk, World, & Country']   \n",
       "17                   ['Rock', 'Reggae']   \n",
       "2                              ['Rock']   \n",
       "25                             ['Rock']   \n",
       "220              ['Electronic', 'Rock']   \n",
       "61   ['Rock', 'Folk, World, & Country']   \n",
       "3                              ['Rock']   \n",
       "18                             ['Rock']   \n",
       "16                             ['Rock']   \n",
       "\n",
       "                                                styles  \\\n",
       "1                                        ['Prog Rock']   \n",
       "7                    ['Folk', 'Acoustic', 'Folk Rock']   \n",
       "17                       ['Punk', 'Ska', 'Indie Rock']   \n",
       "2          ['Alternative Rock', 'Lo-Fi', 'Indie Rock']   \n",
       "25                                            ['Punk']   \n",
       "220                                       ['Hardcore']   \n",
       "61     ['Folk Rock', 'Acoustic', 'Indie Rock', 'Folk']   \n",
       "3                                                   []   \n",
       "18   ['Sludge Metal', 'Hardcore', 'Post Rock', 'Exp...   \n",
       "16                 ['Hard Rock', 'Arena Rock', 'Glam']   \n",
       "\n",
       "                                        artist_profile  artist_id  master_id  \\\n",
       "1    Pink Floyd was an English rock band from Londo...    45467.0          0   \n",
       "7    British folk singer-songwriter and guitarist (...    28085.0          0   \n",
       "17   Band in the modern UK underground punk scene, ...   918301.0          0   \n",
       "2                                                  NaN   252434.0          0   \n",
       "25   Band in the modern UK underground punk scene, ...   918301.0          0   \n",
       "220                                                NaN        NaN          0   \n",
       "61   American indie folk band started 2007 as a sol...  1042739.0          0   \n",
       "3    American psychedelic rock/blues rock band form...    56798.0          0   \n",
       "18   Swedish metal band with members from Luleå and...   260046.0          0   \n",
       "16   Queen is a British rock band formed in London ...    81013.0          0   \n",
       "\n",
       "     main_release_id  \n",
       "1            7139102  \n",
       "7            1994905  \n",
       "17           6478802  \n",
       "2            4712858  \n",
       "25           3601428  \n",
       "220          2985898  \n",
       "61           4968048  \n",
       "3           13686687  \n",
       "18           8361591  \n",
       "16          28175128  "
      ]
     },
     "execution_count": 102,
     "metadata": {},
     "output_type": "execute_result"
    }
   ],
   "source": [
    "start_row = 0\n",
    "\n",
    "df.sort_values(['rating', 'votes'], ascending=False).iloc[start_row:start_row+10]"
   ]
  },
  {
   "cell_type": "code",
   "execution_count": null,
   "metadata": {},
   "outputs": [
    {
     "data": {
      "text/plain": [
       "(10044, 16)"
      ]
     },
     "metadata": {},
     "output_type": "display_data"
    }
   ],
   "source": [
    "df.shape"
   ]
  },
  {
   "cell_type": "code",
   "execution_count": null,
   "metadata": {},
   "outputs": [
    {
     "name": "stdout",
     "output_type": "stream",
     "text": [
      "Couldn't drop these rows\n",
      "(9927, 16)\n"
     ]
    }
   ],
   "source": [
    "# check one by one if necessary\n",
    "try:\n",
    "    df.drop([6441], axis=0, inplace=True)\n",
    "    print('Rows dropped')\n",
    "    print(df.shape)\n",
    "except:\n",
    "    print(\"Couldn't drop these rows\")\n",
    "    print(df.shape)"
   ]
  },
  {
   "cell_type": "markdown",
   "metadata": {},
   "source": [
    "While checking online for these duplicated albums, I can see the country of origin, and if it's not the UK I drop directly these bands"
   ]
  },
  {
   "cell_type": "code",
   "execution_count": null,
   "metadata": {},
   "outputs": [],
   "source": [
    "df.artist = np.where(df['artist']=='Megadeth', np.nan, df['artist'])\n",
    "df.artist = np.where(df['artist']=='Enslaved', np.nan, df['artist'])\n",
    "df.artist = np.where(df['artist']=='Thin Lizzy', np.nan, df['artist'])\n",
    "df.artist = np.where(df['artist']=='The Lucksmiths', np.nan, df['artist'])\n",
    "df.artist = np.where(df['artist']=='Opeth', np.nan, df['artist'])\n",
    "df.artist = np.where(df['artist']=='Talking Heads', np.nan, df['artist'])\n",
    "df.artist = np.where(df['artist']=='Rory Gallagher', np.nan, df['artist'])\n",
    "df.artist = np.where(df['artist']=='Pearl Jam', np.nan, df['artist'])\n",
    "\n",
    "df.artist = np.where(df['artist']=='The Doors', np.nan, df['artist'])\n",
    "df.artist = np.where(df['artist']=='The Beach Boys', np.nan, df['artist'])\n",
    "df.artist = np.where(df['artist']=='Metallica', np.nan, df['artist'])\n",
    "\n",
    "df.dropna(subset=['artist'], inplace=True)"
   ]
  },
  {
   "cell_type": "code",
   "execution_count": null,
   "metadata": {},
   "outputs": [
    {
     "data": {
      "text/plain": [
       "4173"
      ]
     },
     "metadata": {},
     "output_type": "display_data"
    }
   ],
   "source": [
    "# number of unique artists, before there were 4197\n",
    "df['artist'].nunique()"
   ]
  },
  {
   "cell_type": "markdown",
   "metadata": {},
   "source": [
    "### **Export to csv**"
   ]
  },
  {
   "cell_type": "code",
   "execution_count": null,
   "metadata": {},
   "outputs": [],
   "source": [
    "df.to_csv('Datasets/df_uk_rock_ratings.csv', index=False)"
   ]
  },
  {
   "cell_type": "code",
   "execution_count": null,
   "metadata": {},
   "outputs": [],
   "source": [
    "df.shape"
   ]
  },
  {
   "cell_type": "code",
   "execution_count": null,
   "metadata": {},
   "outputs": [
    {
     "data": {
      "text/plain": [
       "(9927, 13)"
      ]
     },
     "metadata": {},
     "output_type": "display_data"
    }
   ],
   "source": [
    "df.drop(columns=['album_id', 'artist', 'title'], inplace=True)\n",
    "df.shape"
   ]
  },
  {
   "cell_type": "code",
   "execution_count": null,
   "metadata": {},
   "outputs": [],
   "source": [
    "df.to_csv('Datasets/df_masters_ratings_uk.csv', index=False)"
   ]
  },
  {
   "cell_type": "markdown",
   "metadata": {},
   "source": [
    "# **1. Merge ``df_masters`` & ``df_ratings``**"
   ]
  },
  {
   "cell_type": "code",
   "execution_count": 7,
   "metadata": {},
   "outputs": [
    {
     "name": "stdout",
     "output_type": "stream",
     "text": [
      "(5944, 13): df_masters_70s\n",
      "(11600, 13): df_uk_rock_ratings\n",
      "(79627, 5): df_ratings_top\n"
     ]
    }
   ],
   "source": [
    "# import the dataframes\n",
    "df_masters = pd.read_csv('Datasets/df_masters_70s.csv')                         # all rock releases in the UK\n",
    "df_uk_rock_ratings = pd.read_csv('Datasets/df_uk_rock_ratings.csv')                 # df with the albums already cleaned\n",
    "df_ratings_top = pd.read_csv('Datasets/df_ratings_top.csv', keep_default_na=False)  # all ratings, mostly from rock, worldwide\n",
    "\n",
    "# print information\n",
    "print(f'{df_masters.shape}: df_masters_70s')\n",
    "print(f'{df_uk_rock_ratings.shape}: df_uk_rock_ratings')\n",
    "print(f'{df_ratings_top.shape}: df_ratings_top')"
   ]
  },
  {
   "cell_type": "code",
   "execution_count": 8,
   "metadata": {},
   "outputs": [
    {
     "data": {
      "text/html": [
       "<div>\n",
       "<style scoped>\n",
       "    .dataframe tbody tr th:only-of-type {\n",
       "        vertical-align: middle;\n",
       "    }\n",
       "\n",
       "    .dataframe tbody tr th {\n",
       "        vertical-align: top;\n",
       "    }\n",
       "\n",
       "    .dataframe thead th {\n",
       "        text-align: right;\n",
       "    }\n",
       "</style>\n",
       "<table border=\"1\" class=\"dataframe\">\n",
       "  <thead>\n",
       "    <tr style=\"text-align: right;\">\n",
       "      <th></th>\n",
       "      <th>album_id</th>\n",
       "      <th>artist</th>\n",
       "      <th>title</th>\n",
       "      <th>rating</th>\n",
       "      <th>votes</th>\n",
       "    </tr>\n",
       "  </thead>\n",
       "  <tbody>\n",
       "    <tr>\n",
       "      <th>0</th>\n",
       "      <td>37</td>\n",
       "      <td>Less Than Jake</td>\n",
       "      <td>Losing Streak</td>\n",
       "      <td>3.9</td>\n",
       "      <td>414</td>\n",
       "    </tr>\n",
       "  </tbody>\n",
       "</table>\n",
       "</div>"
      ],
      "text/plain": [
       "   album_id          artist          title  rating  votes\n",
       "0        37  Less Than Jake  Losing Streak     3.9    414"
      ]
     },
     "execution_count": 8,
     "metadata": {},
     "output_type": "execute_result"
    }
   ],
   "source": [
    "df_ratings_top.head(1)"
   ]
  },
  {
   "cell_type": "code",
   "execution_count": 9,
   "metadata": {},
   "outputs": [
    {
     "data": {
      "text/html": [
       "<div>\n",
       "<style scoped>\n",
       "    .dataframe tbody tr th:only-of-type {\n",
       "        vertical-align: middle;\n",
       "    }\n",
       "\n",
       "    .dataframe tbody tr th {\n",
       "        vertical-align: top;\n",
       "    }\n",
       "\n",
       "    .dataframe thead th {\n",
       "        text-align: right;\n",
       "    }\n",
       "</style>\n",
       "<table border=\"1\" class=\"dataframe\">\n",
       "  <thead>\n",
       "    <tr style=\"text-align: right;\">\n",
       "      <th></th>\n",
       "      <th>artist_id</th>\n",
       "      <th>master_id</th>\n",
       "      <th>main_release_id</th>\n",
       "      <th>release_country</th>\n",
       "      <th>artist</th>\n",
       "      <th>title</th>\n",
       "      <th>year</th>\n",
       "      <th>album_length</th>\n",
       "      <th>tracks</th>\n",
       "      <th>release_type</th>\n",
       "      <th>genres</th>\n",
       "      <th>styles</th>\n",
       "      <th>artist_profile</th>\n",
       "    </tr>\n",
       "  </thead>\n",
       "  <tbody>\n",
       "    <tr>\n",
       "      <th>0</th>\n",
       "      <td>364548.0</td>\n",
       "      <td>477687.0</td>\n",
       "      <td>2863713</td>\n",
       "      <td>US</td>\n",
       "      <td>Joey Dee &amp; The Starliters</td>\n",
       "      <td>Back At The Peppermint Lounge / Twistin'</td>\n",
       "      <td>1962</td>\n",
       "      <td>0.0</td>\n",
       "      <td>10</td>\n",
       "      <td>['LP', 'Album', 'Stereo']</td>\n",
       "      <td>['Rock', 'Pop']</td>\n",
       "      <td>['Rock &amp; Roll', 'Twist']</td>\n",
       "      <td>NaN</td>\n",
       "    </tr>\n",
       "  </tbody>\n",
       "</table>\n",
       "</div>"
      ],
      "text/plain": [
       "   artist_id  master_id  main_release_id release_country  \\\n",
       "0   364548.0   477687.0          2863713              US   \n",
       "\n",
       "                      artist                                     title  year  \\\n",
       "0  Joey Dee & The Starliters  Back At The Peppermint Lounge / Twistin'  1962   \n",
       "\n",
       "   album_length  tracks               release_type           genres  \\\n",
       "0           0.0      10  ['LP', 'Album', 'Stereo']  ['Rock', 'Pop']   \n",
       "\n",
       "                     styles artist_profile  \n",
       "0  ['Rock & Roll', 'Twist']            NaN  "
      ]
     },
     "execution_count": 9,
     "metadata": {},
     "output_type": "execute_result"
    }
   ],
   "source": [
    "df_masters.head(1)"
   ]
  },
  {
   "cell_type": "code",
   "execution_count": 10,
   "metadata": {},
   "outputs": [
    {
     "data": {
      "text/plain": [
       "619"
      ]
     },
     "execution_count": 10,
     "metadata": {},
     "output_type": "execute_result"
    }
   ],
   "source": [
    "df_masters['master_id'].isna().sum()"
   ]
  },
  {
   "cell_type": "code",
   "execution_count": 11,
   "metadata": {},
   "outputs": [
    {
     "data": {
      "text/plain": [
       "0"
      ]
     },
     "execution_count": 11,
     "metadata": {},
     "output_type": "execute_result"
    }
   ],
   "source": [
    "df_masters['master_id'].fillna(0, inplace=True)\n",
    "df_masters['master_id'].isna().sum()"
   ]
  },
  {
   "cell_type": "markdown",
   "metadata": {},
   "source": [
    "## **Concat with the albums previously cleaned**"
   ]
  },
  {
   "cell_type": "code",
   "execution_count": 12,
   "metadata": {},
   "outputs": [
    {
     "data": {
      "text/plain": [
       "(11600, 13)"
      ]
     },
     "execution_count": 12,
     "metadata": {},
     "output_type": "execute_result"
    }
   ],
   "source": [
    "df_uk_rock_ratings.shape"
   ]
  },
  {
   "cell_type": "code",
   "execution_count": 13,
   "metadata": {},
   "outputs": [
    {
     "data": {
      "text/plain": [
       "(5944, 13)"
      ]
     },
     "execution_count": 13,
     "metadata": {},
     "output_type": "execute_result"
    }
   ],
   "source": [
    "df_masters.shape"
   ]
  },
  {
   "cell_type": "code",
   "execution_count": 14,
   "metadata": {},
   "outputs": [
    {
     "data": {
      "text/plain": [
       "(17544, 13)"
      ]
     },
     "execution_count": 14,
     "metadata": {},
     "output_type": "execute_result"
    }
   ],
   "source": [
    "df_concat = pd.concat([df_uk_rock_ratings, df_masters])\n",
    "df_concat.shape"
   ]
  },
  {
   "cell_type": "code",
   "execution_count": 15,
   "metadata": {},
   "outputs": [],
   "source": [
    "df_masters = df_concat"
   ]
  },
  {
   "cell_type": "markdown",
   "metadata": {},
   "source": [
    "## **``df_masters`` parenthesis cleaning from ``artist``**"
   ]
  },
  {
   "cell_type": "markdown",
   "metadata": {},
   "source": [
    "### Testing"
   ]
  },
  {
   "cell_type": "markdown",
   "metadata": {},
   "source": [
    "I noticed that some artists in df_masters (so, in the Discogs API) have numbers in parenthesis in the artist name, which won't be merged with df_ratings, where there are almost no artists with numbers in parenthesis"
   ]
  },
  {
   "cell_type": "code",
   "execution_count": 16,
   "metadata": {},
   "outputs": [
    {
     "data": {
      "text/plain": [
       "7989"
      ]
     },
     "execution_count": 16,
     "metadata": {},
     "output_type": "execute_result"
    }
   ],
   "source": [
    "# all the artists in df_masters\n",
    "df_masters['artist'].nunique()"
   ]
  },
  {
   "cell_type": "code",
   "execution_count": 17,
   "metadata": {},
   "outputs": [
    {
     "data": {
      "text/plain": [
       "588"
      ]
     },
     "execution_count": 17,
     "metadata": {},
     "output_type": "execute_result"
    }
   ],
   "source": [
    "# show the artists that have characters in parenthesis in the artist name\n",
    "df_masters_parenthesis = df_masters[df_masters['artist'].str.contains(r'\\(.*?\\)', regex=True)].sort_values('artist')\n",
    "df_masters_parenthesis['artist'].nunique()"
   ]
  },
  {
   "cell_type": "code",
   "execution_count": 34,
   "metadata": {},
   "outputs": [
    {
     "name": "stdout",
     "output_type": "stream",
     "text": [
      "(15584, 13): df_masters\n",
      "(656, 13): df_masters_parenthesis\n"
     ]
    }
   ],
   "source": [
    "# print information\n",
    "print(f'{df_masters.shape}: df_masters')\n",
    "print(f'{df_masters_parenthesis.shape}: df_masters_parenthesis')"
   ]
  },
  {
   "cell_type": "code",
   "execution_count": 35,
   "metadata": {},
   "outputs": [
    {
     "data": {
      "text/plain": [
       "23855"
      ]
     },
     "execution_count": 35,
     "metadata": {},
     "output_type": "execute_result"
    }
   ],
   "source": [
    "df_ratings_top['artist'].nunique()"
   ]
  },
  {
   "cell_type": "code",
   "execution_count": 36,
   "metadata": {},
   "outputs": [
    {
     "data": {
      "text/plain": [
       "701"
      ]
     },
     "execution_count": 36,
     "metadata": {},
     "output_type": "execute_result"
    }
   ],
   "source": [
    "# show the artists that have characters in parenthesis in the artist name\n",
    "df_ratings_top_parenthesis = df_ratings_top[df_ratings_top['artist'].str.contains(r'\\(.*?\\)', regex=True)].sort_values('artist')\n",
    "df_ratings_top_parenthesis['artist'].nunique()"
   ]
  },
  {
   "cell_type": "code",
   "execution_count": 37,
   "metadata": {},
   "outputs": [
    {
     "name": "stdout",
     "output_type": "stream",
     "text": [
      "(79632, 5): df_ratings_top\n",
      "(1760, 5): df_ratings_top_parenthesis\n"
     ]
    }
   ],
   "source": [
    "# print information\n",
    "print(f'{df_ratings_top.shape}: df_ratings_top')\n",
    "print(f'{df_ratings_top_parenthesis.shape}: df_ratings_top_parenthesis')"
   ]
  },
  {
   "cell_type": "code",
   "execution_count": 38,
   "metadata": {},
   "outputs": [
    {
     "data": {
      "text/html": [
       "<div>\n",
       "<style scoped>\n",
       "    .dataframe tbody tr th:only-of-type {\n",
       "        vertical-align: middle;\n",
       "    }\n",
       "\n",
       "    .dataframe tbody tr th {\n",
       "        vertical-align: top;\n",
       "    }\n",
       "\n",
       "    .dataframe thead th {\n",
       "        text-align: right;\n",
       "    }\n",
       "</style>\n",
       "<table border=\"1\" class=\"dataframe\">\n",
       "  <thead>\n",
       "    <tr style=\"text-align: right;\">\n",
       "      <th></th>\n",
       "      <th>album_id</th>\n",
       "      <th>artist</th>\n",
       "      <th>title</th>\n",
       "      <th>rating</th>\n",
       "      <th>votes</th>\n",
       "    </tr>\n",
       "  </thead>\n",
       "  <tbody>\n",
       "    <tr>\n",
       "      <th>66859</th>\n",
       "      <td>299052</td>\n",
       "      <td>Vacations (AUS)</td>\n",
       "      <td>Vibes and Days</td>\n",
       "      <td>3.87</td>\n",
       "      <td>15</td>\n",
       "    </tr>\n",
       "    <tr>\n",
       "      <th>66521</th>\n",
       "      <td>293448</td>\n",
       "      <td>Carnation (BE)</td>\n",
       "      <td>Chapel of Abhorrence</td>\n",
       "      <td>3.35</td>\n",
       "      <td>40</td>\n",
       "    </tr>\n",
       "    <tr>\n",
       "      <th>34007</th>\n",
       "      <td>67551</td>\n",
       "      <td>Soundtrack (Video Game)</td>\n",
       "      <td>The Legend of Zelda: Twilight Princess OST</td>\n",
       "      <td>4.23</td>\n",
       "      <td>80</td>\n",
       "    </tr>\n",
       "    <tr>\n",
       "      <th>39072</th>\n",
       "      <td>84542</td>\n",
       "      <td>Doom (JPN)</td>\n",
       "      <td>Complicated Mind</td>\n",
       "      <td>4.16</td>\n",
       "      <td>25</td>\n",
       "    </tr>\n",
       "    <tr>\n",
       "      <th>36362</th>\n",
       "      <td>74638</td>\n",
       "      <td>Tempest (Can)</td>\n",
       "      <td>Passages</td>\n",
       "      <td>3.73</td>\n",
       "      <td>37</td>\n",
       "    </tr>\n",
       "  </tbody>\n",
       "</table>\n",
       "</div>"
      ],
      "text/plain": [
       "       album_id                   artist  \\\n",
       "66859    299052          Vacations (AUS)   \n",
       "66521    293448           Carnation (BE)   \n",
       "34007     67551  Soundtrack (Video Game)   \n",
       "39072     84542               Doom (JPN)   \n",
       "36362     74638            Tempest (Can)   \n",
       "\n",
       "                                            title  rating  votes  \n",
       "66859                              Vibes and Days    3.87     15  \n",
       "66521                        Chapel of Abhorrence    3.35     40  \n",
       "34007  The Legend of Zelda: Twilight Princess OST    4.23     80  \n",
       "39072                            Complicated Mind    4.16     25  \n",
       "36362                                    Passages    3.73     37  "
      ]
     },
     "execution_count": 38,
     "metadata": {},
     "output_type": "execute_result"
    }
   ],
   "source": [
    "df_ratings_top_parenthesis.sample(5)"
   ]
  },
  {
   "cell_type": "markdown",
   "metadata": {},
   "source": [
    "In most of the artists, the information between parenthesis is the country of origin"
   ]
  },
  {
   "cell_type": "code",
   "execution_count": 39,
   "metadata": {},
   "outputs": [
    {
     "data": {
      "text/plain": [
       "2364       100% Proof\n",
       "3971       100% Proof\n",
       "2622     20/20 Vision\n",
       "1164       38 Special\n",
       "2445       38 Special\n",
       "            ...      \n",
       "3727              XIT\n",
       "3045            Ya Ya\n",
       "1735    Youth In Asia\n",
       "3931              ZED\n",
       "599              Zeno\n",
       "Name: artist, Length: 656, dtype: object"
      ]
     },
     "execution_count": 39,
     "metadata": {},
     "output_type": "execute_result"
    }
   ],
   "source": [
    "# delete these characters\n",
    "df_masters_parenthesis_clean = df_masters_parenthesis['artist'].str.replace(r'\\(.*?\\)', '', regex=True).str.strip()\n",
    "df_masters_parenthesis_clean"
   ]
  },
  {
   "cell_type": "code",
   "execution_count": 40,
   "metadata": {},
   "outputs": [
    {
     "data": {
      "text/plain": [
       "52533                  \n",
       "53599                  \n",
       "35534    Slowest Runner\n",
       "35487    Slowest Runner\n",
       "13266              p.e.\n",
       "              ...      \n",
       "39716              hide\n",
       "68464              life\n",
       "70926              life\n",
       "49438              sway\n",
       "68857              オオハシ\n",
       "Name: artist, Length: 1760, dtype: object"
      ]
     },
     "execution_count": 40,
     "metadata": {},
     "output_type": "execute_result"
    }
   ],
   "source": [
    "# delete these characters\n",
    "df_ratings_top_parenthesis_clean = df_ratings_top_parenthesis['artist'].str.replace(r'\\(.*?\\)', '', regex=True).str.strip()\n",
    "df_ratings_top_parenthesis_clean"
   ]
  },
  {
   "cell_type": "code",
   "execution_count": 41,
   "metadata": {},
   "outputs": [
    {
     "data": {
      "text/html": [
       "<div>\n",
       "<style scoped>\n",
       "    .dataframe tbody tr th:only-of-type {\n",
       "        vertical-align: middle;\n",
       "    }\n",
       "\n",
       "    .dataframe tbody tr th {\n",
       "        vertical-align: top;\n",
       "    }\n",
       "\n",
       "    .dataframe thead th {\n",
       "        text-align: right;\n",
       "    }\n",
       "</style>\n",
       "<table border=\"1\" class=\"dataframe\">\n",
       "  <thead>\n",
       "    <tr style=\"text-align: right;\">\n",
       "      <th></th>\n",
       "      <th>artist</th>\n",
       "    </tr>\n",
       "  </thead>\n",
       "  <tbody>\n",
       "    <tr>\n",
       "      <th>0</th>\n",
       "      <td>Alaska</td>\n",
       "    </tr>\n",
       "    <tr>\n",
       "      <th>1</th>\n",
       "      <td>Alaska</td>\n",
       "    </tr>\n",
       "    <tr>\n",
       "      <th>2</th>\n",
       "      <td>Alaska</td>\n",
       "    </tr>\n",
       "    <tr>\n",
       "      <th>3</th>\n",
       "      <td>Alaska</td>\n",
       "    </tr>\n",
       "    <tr>\n",
       "      <th>4</th>\n",
       "      <td>Attila</td>\n",
       "    </tr>\n",
       "    <tr>\n",
       "      <th>...</th>\n",
       "      <td>...</td>\n",
       "    </tr>\n",
       "    <tr>\n",
       "      <th>123</th>\n",
       "      <td>X</td>\n",
       "    </tr>\n",
       "    <tr>\n",
       "      <th>124</th>\n",
       "      <td>X</td>\n",
       "    </tr>\n",
       "    <tr>\n",
       "      <th>125</th>\n",
       "      <td>X</td>\n",
       "    </tr>\n",
       "    <tr>\n",
       "      <th>126</th>\n",
       "      <td>X</td>\n",
       "    </tr>\n",
       "    <tr>\n",
       "      <th>127</th>\n",
       "      <td>X</td>\n",
       "    </tr>\n",
       "  </tbody>\n",
       "</table>\n",
       "<p>128 rows × 1 columns</p>\n",
       "</div>"
      ],
      "text/plain": [
       "     artist\n",
       "0    Alaska\n",
       "1    Alaska\n",
       "2    Alaska\n",
       "3    Alaska\n",
       "4    Attila\n",
       "..      ...\n",
       "123       X\n",
       "124       X\n",
       "125       X\n",
       "126       X\n",
       "127       X\n",
       "\n",
       "[128 rows x 1 columns]"
      ]
     },
     "execution_count": 41,
     "metadata": {},
     "output_type": "execute_result"
    }
   ],
   "source": [
    "# merge test, all the artists that coincide on both dataframes after the parenthesis cleaning\n",
    "pd.merge(df_masters_parenthesis_clean, df_ratings_top_parenthesis_clean, on='artist')"
   ]
  },
  {
   "cell_type": "code",
   "execution_count": 45,
   "metadata": {},
   "outputs": [
    {
     "data": {
      "text/html": [
       "<div>\n",
       "<style scoped>\n",
       "    .dataframe tbody tr th:only-of-type {\n",
       "        vertical-align: middle;\n",
       "    }\n",
       "\n",
       "    .dataframe tbody tr th {\n",
       "        vertical-align: top;\n",
       "    }\n",
       "\n",
       "    .dataframe thead th {\n",
       "        text-align: right;\n",
       "    }\n",
       "</style>\n",
       "<table border=\"1\" class=\"dataframe\">\n",
       "  <thead>\n",
       "    <tr style=\"text-align: right;\">\n",
       "      <th></th>\n",
       "      <th>artist_id</th>\n",
       "      <th>master_id</th>\n",
       "      <th>main_release_id</th>\n",
       "      <th>release_country</th>\n",
       "      <th>artist</th>\n",
       "      <th>title</th>\n",
       "      <th>year</th>\n",
       "      <th>album_length</th>\n",
       "      <th>tracks</th>\n",
       "      <th>release_type</th>\n",
       "      <th>genres</th>\n",
       "      <th>styles</th>\n",
       "      <th>artist_profile</th>\n",
       "    </tr>\n",
       "  </thead>\n",
       "  <tbody>\n",
       "    <tr>\n",
       "      <th>1516</th>\n",
       "      <td>594810.0</td>\n",
       "      <td>309057.0</td>\n",
       "      <td>2702245</td>\n",
       "      <td>US</td>\n",
       "      <td>Alaska (8)</td>\n",
       "      <td>The Pack</td>\n",
       "      <td>1985</td>\n",
       "      <td>42.32</td>\n",
       "      <td>9</td>\n",
       "      <td>['LP', 'Album', 'Stereo']</td>\n",
       "      <td>['Rock']</td>\n",
       "      <td>['Hard Rock']</td>\n",
       "      <td>Alaska was a British hard rock band led by Ber...</td>\n",
       "    </tr>\n",
       "    <tr>\n",
       "      <th>2990</th>\n",
       "      <td>594810.0</td>\n",
       "      <td>591189.0</td>\n",
       "      <td>1175493</td>\n",
       "      <td>UK</td>\n",
       "      <td>Alaska (8)</td>\n",
       "      <td>Heart Of The Storm</td>\n",
       "      <td>1984</td>\n",
       "      <td>0.00</td>\n",
       "      <td>10</td>\n",
       "      <td>['LP', 'Album']</td>\n",
       "      <td>['Rock']</td>\n",
       "      <td>['Hard Rock', 'AOR']</td>\n",
       "      <td>Alaska was a British hard rock band led by Ber...</td>\n",
       "    </tr>\n",
       "  </tbody>\n",
       "</table>\n",
       "</div>"
      ],
      "text/plain": [
       "      artist_id  master_id  main_release_id release_country      artist  \\\n",
       "1516   594810.0   309057.0          2702245              US  Alaska (8)   \n",
       "2990   594810.0   591189.0          1175493              UK  Alaska (8)   \n",
       "\n",
       "                   title  year  album_length  tracks  \\\n",
       "1516            The Pack  1985         42.32       9   \n",
       "2990  Heart Of The Storm  1984          0.00      10   \n",
       "\n",
       "                   release_type    genres                styles  \\\n",
       "1516  ['LP', 'Album', 'Stereo']  ['Rock']         ['Hard Rock']   \n",
       "2990            ['LP', 'Album']  ['Rock']  ['Hard Rock', 'AOR']   \n",
       "\n",
       "                                         artist_profile  \n",
       "1516  Alaska was a British hard rock band led by Ber...  \n",
       "2990  Alaska was a British hard rock band led by Ber...  "
      ]
     },
     "execution_count": 45,
     "metadata": {},
     "output_type": "execute_result"
    }
   ],
   "source": [
    "df_masters[df_masters['artist'].str.contains('Alaska ')]"
   ]
  },
  {
   "cell_type": "code",
   "execution_count": 44,
   "metadata": {},
   "outputs": [
    {
     "data": {
      "text/html": [
       "<div>\n",
       "<style scoped>\n",
       "    .dataframe tbody tr th:only-of-type {\n",
       "        vertical-align: middle;\n",
       "    }\n",
       "\n",
       "    .dataframe tbody tr th {\n",
       "        vertical-align: top;\n",
       "    }\n",
       "\n",
       "    .dataframe thead th {\n",
       "        text-align: right;\n",
       "    }\n",
       "</style>\n",
       "<table border=\"1\" class=\"dataframe\">\n",
       "  <thead>\n",
       "    <tr style=\"text-align: right;\">\n",
       "      <th></th>\n",
       "      <th>album_id</th>\n",
       "      <th>artist</th>\n",
       "      <th>title</th>\n",
       "      <th>rating</th>\n",
       "      <th>votes</th>\n",
       "    </tr>\n",
       "  </thead>\n",
       "  <tbody>\n",
       "    <tr>\n",
       "      <th>48864</th>\n",
       "      <td>135438</td>\n",
       "      <td>Alaska (USA)</td>\n",
       "      <td>Everything is Fine</td>\n",
       "      <td>3.38</td>\n",
       "      <td>12</td>\n",
       "    </tr>\n",
       "    <tr>\n",
       "      <th>57915</th>\n",
       "      <td>203926</td>\n",
       "      <td>Alaska (USA)</td>\n",
       "      <td>Shrine</td>\n",
       "      <td>3.54</td>\n",
       "      <td>12</td>\n",
       "    </tr>\n",
       "  </tbody>\n",
       "</table>\n",
       "</div>"
      ],
      "text/plain": [
       "       album_id        artist               title  rating  votes\n",
       "48864    135438  Alaska (USA)  Everything is Fine    3.38     12\n",
       "57915    203926  Alaska (USA)              Shrine    3.54     12"
      ]
     },
     "execution_count": 44,
     "metadata": {},
     "output_type": "execute_result"
    }
   ],
   "source": [
    "df_ratings_top[df_ratings_top['artist'].str.contains('Alaska ')]"
   ]
  },
  {
   "cell_type": "markdown",
   "metadata": {},
   "source": [
    "This shows that for instance **the artist 'Zebra' would not have merged** if we hadn't done that cleaning, because in ``df_masters`` it's registered under **\"Zebra (8)\"**, and in ``df_ratings`` under **\"Zebra (US)\"**"
   ]
  },
  {
   "cell_type": "markdown",
   "metadata": {},
   "source": [
    "### **Let's change the ``artist`` column for good**"
   ]
  },
  {
   "cell_type": "code",
   "execution_count": 18,
   "metadata": {},
   "outputs": [
    {
     "name": "stdout",
     "output_type": "stream",
     "text": [
      "7917 unique artists in df_masters\n"
     ]
    }
   ],
   "source": [
    "df_masters['artist'] = df_masters['artist'].str.replace(r'\\(.*?\\)', '', regex=True).str.strip()\n",
    "\n",
    "print(f\"{df_masters['artist'].nunique()} unique artists in df_masters\")"
   ]
  },
  {
   "cell_type": "code",
   "execution_count": 19,
   "metadata": {},
   "outputs": [
    {
     "name": "stdout",
     "output_type": "stream",
     "text": [
      "23683 unique artists in df_ratings_top\n"
     ]
    }
   ],
   "source": [
    "df_ratings_top['artist'] = df_ratings_top['artist'].str.replace(r'\\(.*?\\)', '', regex=True).str.strip()\n",
    "\n",
    "print(f\"{df_ratings_top['artist'].nunique()} unique artists in df_ratings_top\")"
   ]
  },
  {
   "cell_type": "markdown",
   "metadata": {},
   "source": [
    "## Sort columns"
   ]
  },
  {
   "cell_type": "code",
   "execution_count": 48,
   "metadata": {},
   "outputs": [
    {
     "data": {
      "text/plain": [
       "Index(['artist_id', 'master_id', 'main_release_id', 'release_country',\n",
       "       'artist', 'title', 'year', 'album_length', 'tracks', 'release_type',\n",
       "       'genres', 'styles', 'artist_profile'],\n",
       "      dtype='object')"
      ]
     },
     "execution_count": 48,
     "metadata": {},
     "output_type": "execute_result"
    }
   ],
   "source": [
    "df_masters.columns"
   ]
  },
  {
   "cell_type": "code",
   "execution_count": 49,
   "metadata": {},
   "outputs": [
    {
     "data": {
      "text/html": [
       "<div>\n",
       "<style scoped>\n",
       "    .dataframe tbody tr th:only-of-type {\n",
       "        vertical-align: middle;\n",
       "    }\n",
       "\n",
       "    .dataframe tbody tr th {\n",
       "        vertical-align: top;\n",
       "    }\n",
       "\n",
       "    .dataframe thead th {\n",
       "        text-align: right;\n",
       "    }\n",
       "</style>\n",
       "<table border=\"1\" class=\"dataframe\">\n",
       "  <thead>\n",
       "    <tr style=\"text-align: right;\">\n",
       "      <th></th>\n",
       "      <th>artist_id</th>\n",
       "      <th>master_id</th>\n",
       "      <th>main_release_id</th>\n",
       "      <th>release_country</th>\n",
       "      <th>artist</th>\n",
       "      <th>title</th>\n",
       "      <th>year</th>\n",
       "      <th>album_length</th>\n",
       "      <th>tracks</th>\n",
       "      <th>release_type</th>\n",
       "      <th>genres</th>\n",
       "      <th>styles</th>\n",
       "      <th>artist_profile</th>\n",
       "    </tr>\n",
       "  </thead>\n",
       "  <tbody>\n",
       "    <tr>\n",
       "      <th>0</th>\n",
       "      <td>253712.0</td>\n",
       "      <td>158153.0</td>\n",
       "      <td>426893</td>\n",
       "      <td>US</td>\n",
       "      <td>Sparta</td>\n",
       "      <td>Wiretap Scars</td>\n",
       "      <td>2002</td>\n",
       "      <td>47.62</td>\n",
       "      <td>12</td>\n",
       "      <td>['Album']</td>\n",
       "      <td>['Rock']</td>\n",
       "      <td>['Indie Rock', 'Alternative Rock']</td>\n",
       "      <td>El Paso, Texas based band. Formed in 2001 afte...</td>\n",
       "    </tr>\n",
       "  </tbody>\n",
       "</table>\n",
       "</div>"
      ],
      "text/plain": [
       "   artist_id  master_id  main_release_id release_country  artist  \\\n",
       "0   253712.0   158153.0           426893              US  Sparta   \n",
       "\n",
       "           title  year  album_length  tracks release_type    genres  \\\n",
       "0  Wiretap Scars  2002         47.62      12    ['Album']  ['Rock']   \n",
       "\n",
       "                               styles  \\\n",
       "0  ['Indie Rock', 'Alternative Rock']   \n",
       "\n",
       "                                      artist_profile  \n",
       "0  El Paso, Texas based band. Formed in 2001 afte...  "
      ]
     },
     "execution_count": 49,
     "metadata": {},
     "output_type": "execute_result"
    }
   ],
   "source": [
    "df_masters.head(1)"
   ]
  },
  {
   "cell_type": "code",
   "execution_count": 50,
   "metadata": {},
   "outputs": [],
   "source": [
    "list_of_columns = ['artist_id', 'master_id', 'main_release_id', 'release_country',\n",
    "       'artist', 'title', 'year', 'album_length', 'tracks', 'release_type',\n",
    "       'genres', 'styles', 'artist_profile']"
   ]
  },
  {
   "cell_type": "code",
   "execution_count": 51,
   "metadata": {},
   "outputs": [
    {
     "data": {
      "text/html": [
       "<div>\n",
       "<style scoped>\n",
       "    .dataframe tbody tr th:only-of-type {\n",
       "        vertical-align: middle;\n",
       "    }\n",
       "\n",
       "    .dataframe tbody tr th {\n",
       "        vertical-align: top;\n",
       "    }\n",
       "\n",
       "    .dataframe thead th {\n",
       "        text-align: right;\n",
       "    }\n",
       "</style>\n",
       "<table border=\"1\" class=\"dataframe\">\n",
       "  <thead>\n",
       "    <tr style=\"text-align: right;\">\n",
       "      <th></th>\n",
       "      <th>artist_id</th>\n",
       "      <th>master_id</th>\n",
       "      <th>main_release_id</th>\n",
       "      <th>release_country</th>\n",
       "      <th>artist</th>\n",
       "      <th>title</th>\n",
       "      <th>year</th>\n",
       "      <th>album_length</th>\n",
       "      <th>tracks</th>\n",
       "      <th>release_type</th>\n",
       "      <th>genres</th>\n",
       "      <th>styles</th>\n",
       "      <th>artist_profile</th>\n",
       "    </tr>\n",
       "  </thead>\n",
       "  <tbody>\n",
       "    <tr>\n",
       "      <th>0</th>\n",
       "      <td>253712</td>\n",
       "      <td>158153</td>\n",
       "      <td>426893</td>\n",
       "      <td>US</td>\n",
       "      <td>Sparta</td>\n",
       "      <td>Wiretap Scars</td>\n",
       "      <td>2002</td>\n",
       "      <td>47.62</td>\n",
       "      <td>12</td>\n",
       "      <td>['Album']</td>\n",
       "      <td>['Rock']</td>\n",
       "      <td>['Indie Rock', 'Alternative Rock']</td>\n",
       "      <td>El Paso, Texas based band. Formed in 2001 afte...</td>\n",
       "    </tr>\n",
       "  </tbody>\n",
       "</table>\n",
       "</div>"
      ],
      "text/plain": [
       "   artist_id  master_id  main_release_id release_country  artist  \\\n",
       "0     253712     158153           426893              US  Sparta   \n",
       "\n",
       "           title  year  album_length  tracks release_type    genres  \\\n",
       "0  Wiretap Scars  2002         47.62      12    ['Album']  ['Rock']   \n",
       "\n",
       "                               styles  \\\n",
       "0  ['Indie Rock', 'Alternative Rock']   \n",
       "\n",
       "                                      artist_profile  \n",
       "0  El Paso, Texas based band. Formed in 2001 afte...  "
      ]
     },
     "execution_count": 51,
     "metadata": {},
     "output_type": "execute_result"
    }
   ],
   "source": [
    "df_uk_rock_ratings = df_uk_rock_ratings.reindex(columns=list_of_columns)\n",
    "df_uk_rock_ratings.head(1)"
   ]
  },
  {
   "cell_type": "code",
   "execution_count": null,
   "metadata": {},
   "outputs": [],
   "source": [
    "# df_masters.to_csv('Datasets/df_masters.csv', index=False)"
   ]
  },
  {
   "cell_type": "markdown",
   "metadata": {},
   "source": [
    "## &/and Cleaning"
   ]
  },
  {
   "cell_type": "markdown",
   "metadata": {},
   "source": [
    "I noticed some artist and/or album names are slightly different, which will cause the merge to not properly function as I intend it.\n",
    "\n",
    "Notice the difference in the following album: \"Behold **and/&** See\""
   ]
  },
  {
   "cell_type": "code",
   "execution_count": 20,
   "metadata": {},
   "outputs": [
    {
     "data": {
      "text/html": [
       "<div>\n",
       "<style scoped>\n",
       "    .dataframe tbody tr th:only-of-type {\n",
       "        vertical-align: middle;\n",
       "    }\n",
       "\n",
       "    .dataframe tbody tr th {\n",
       "        vertical-align: top;\n",
       "    }\n",
       "\n",
       "    .dataframe thead th {\n",
       "        text-align: right;\n",
       "    }\n",
       "</style>\n",
       "<table border=\"1\" class=\"dataframe\">\n",
       "  <thead>\n",
       "    <tr style=\"text-align: right;\">\n",
       "      <th></th>\n",
       "      <th>album_id</th>\n",
       "      <th>artist</th>\n",
       "      <th>title</th>\n",
       "      <th>rating</th>\n",
       "      <th>votes</th>\n",
       "    </tr>\n",
       "  </thead>\n",
       "  <tbody>\n",
       "    <tr>\n",
       "      <th>48953</th>\n",
       "      <td>136113</td>\n",
       "      <td>Ultimate Spinach</td>\n",
       "      <td>Ultimate Spinach</td>\n",
       "      <td>3.81</td>\n",
       "      <td>27</td>\n",
       "    </tr>\n",
       "    <tr>\n",
       "      <th>51041</th>\n",
       "      <td>150508</td>\n",
       "      <td>Ultimate Spinach</td>\n",
       "      <td>Behold and See</td>\n",
       "      <td>3.89</td>\n",
       "      <td>23</td>\n",
       "    </tr>\n",
       "  </tbody>\n",
       "</table>\n",
       "</div>"
      ],
      "text/plain": [
       "       album_id            artist             title  rating  votes\n",
       "48953    136113  Ultimate Spinach  Ultimate Spinach    3.81     27\n",
       "51041    150508  Ultimate Spinach    Behold and See    3.89     23"
      ]
     },
     "execution_count": 20,
     "metadata": {},
     "output_type": "execute_result"
    }
   ],
   "source": [
    "df_ratings_top[df_ratings_top['artist']==\"Ultimate Spinach\"]"
   ]
  },
  {
   "cell_type": "code",
   "execution_count": 21,
   "metadata": {},
   "outputs": [
    {
     "data": {
      "text/html": [
       "<div>\n",
       "<style scoped>\n",
       "    .dataframe tbody tr th:only-of-type {\n",
       "        vertical-align: middle;\n",
       "    }\n",
       "\n",
       "    .dataframe tbody tr th {\n",
       "        vertical-align: top;\n",
       "    }\n",
       "\n",
       "    .dataframe thead th {\n",
       "        text-align: right;\n",
       "    }\n",
       "</style>\n",
       "<table border=\"1\" class=\"dataframe\">\n",
       "  <thead>\n",
       "    <tr style=\"text-align: right;\">\n",
       "      <th></th>\n",
       "      <th>artist_id</th>\n",
       "      <th>master_id</th>\n",
       "      <th>main_release_id</th>\n",
       "      <th>release_country</th>\n",
       "      <th>artist</th>\n",
       "      <th>title</th>\n",
       "      <th>year</th>\n",
       "      <th>album_length</th>\n",
       "      <th>tracks</th>\n",
       "      <th>release_type</th>\n",
       "      <th>genres</th>\n",
       "      <th>styles</th>\n",
       "      <th>artist_profile</th>\n",
       "    </tr>\n",
       "  </thead>\n",
       "  <tbody>\n",
       "    <tr>\n",
       "      <th>1815</th>\n",
       "      <td>407733.0</td>\n",
       "      <td>124122.0</td>\n",
       "      <td>1972400</td>\n",
       "      <td>US</td>\n",
       "      <td>Ultimate Spinach</td>\n",
       "      <td>Ultimate Spinach</td>\n",
       "      <td>1968</td>\n",
       "      <td>36.28</td>\n",
       "      <td>9</td>\n",
       "      <td>['LP', 'Album', 'Stereo']</td>\n",
       "      <td>['Rock']</td>\n",
       "      <td>['Psychedelic Rock', 'Garage Rock']</td>\n",
       "      <td>American Psychedelic Rock Band from Boston, Ma...</td>\n",
       "    </tr>\n",
       "  </tbody>\n",
       "</table>\n",
       "</div>"
      ],
      "text/plain": [
       "      artist_id  master_id  main_release_id release_country            artist  \\\n",
       "1815   407733.0   124122.0          1972400              US  Ultimate Spinach   \n",
       "\n",
       "                 title  year  album_length  tracks               release_type  \\\n",
       "1815  Ultimate Spinach  1968         36.28       9  ['LP', 'Album', 'Stereo']   \n",
       "\n",
       "        genres                               styles  \\\n",
       "1815  ['Rock']  ['Psychedelic Rock', 'Garage Rock']   \n",
       "\n",
       "                                         artist_profile  \n",
       "1815  American Psychedelic Rock Band from Boston, Ma...  "
      ]
     },
     "execution_count": 21,
     "metadata": {},
     "output_type": "execute_result"
    }
   ],
   "source": [
    "df_masters[df_masters['artist']==\"Ultimate Spinach\"]"
   ]
  },
  {
   "cell_type": "code",
   "execution_count": 22,
   "metadata": {},
   "outputs": [],
   "source": [
    "df_masters[['artist', 'title']] = df_masters[['artist', 'title']].apply(lambda x: x.str.replace('&', 'and'))\n",
    "df_ratings_top[['artist', 'title']] = df_ratings_top[['artist', 'title']].apply(lambda x: x.str.replace('&', 'and'))"
   ]
  },
  {
   "cell_type": "code",
   "execution_count": 16,
   "metadata": {},
   "outputs": [
    {
     "data": {
      "text/html": [
       "<div>\n",
       "<style scoped>\n",
       "    .dataframe tbody tr th:only-of-type {\n",
       "        vertical-align: middle;\n",
       "    }\n",
       "\n",
       "    .dataframe tbody tr th {\n",
       "        vertical-align: top;\n",
       "    }\n",
       "\n",
       "    .dataframe thead th {\n",
       "        text-align: right;\n",
       "    }\n",
       "</style>\n",
       "<table border=\"1\" class=\"dataframe\">\n",
       "  <thead>\n",
       "    <tr style=\"text-align: right;\">\n",
       "      <th></th>\n",
       "      <th>artist_id</th>\n",
       "      <th>master_id</th>\n",
       "      <th>main_release_id</th>\n",
       "      <th>release_country</th>\n",
       "      <th>artist</th>\n",
       "      <th>title</th>\n",
       "      <th>year</th>\n",
       "      <th>album_length</th>\n",
       "      <th>tracks</th>\n",
       "      <th>release_type</th>\n",
       "      <th>genres</th>\n",
       "      <th>styles</th>\n",
       "      <th>artist_profile</th>\n",
       "    </tr>\n",
       "  </thead>\n",
       "  <tbody>\n",
       "  </tbody>\n",
       "</table>\n",
       "</div>"
      ],
      "text/plain": [
       "Empty DataFrame\n",
       "Columns: [artist_id, master_id, main_release_id, release_country, artist, title, year, album_length, tracks, release_type, genres, styles, artist_profile]\n",
       "Index: []"
      ]
     },
     "execution_count": 16,
     "metadata": {},
     "output_type": "execute_result"
    }
   ],
   "source": [
    "df_masters[df_masters['artist']==\"Ultimate Spinach\"]"
   ]
  },
  {
   "cell_type": "markdown",
   "metadata": {},
   "source": [
    "## Actual merge"
   ]
  },
  {
   "cell_type": "code",
   "execution_count": 23,
   "metadata": {},
   "outputs": [
    {
     "data": {
      "text/plain": [
       "(12365, 16)"
      ]
     },
     "execution_count": 23,
     "metadata": {},
     "output_type": "execute_result"
    }
   ],
   "source": [
    "df = pd.merge(\n",
    "    df_ratings_top.assign(artist_lower=df_ratings_top['artist'].str.lower().str.strip(), \n",
    "                      title_lower=df_ratings_top['title'].str.lower().str.strip()), \n",
    "    df_masters.assign(artist_lower=df_masters['artist'].str.lower().str.strip(), \n",
    "                      title_lower=df_masters['title'].str.lower().str.strip()), \n",
    "    on=['artist_lower', 'title_lower']\n",
    ").drop(columns=['artist_lower', 'title_lower', 'artist_y', 'title_y'])\n",
    "\n",
    "# Rename columns\n",
    "df.rename(columns={'artist_x': 'artist', 'title_x': 'title'}, inplace=True)\n",
    "\n",
    "# Change dtypes\n",
    "df['master_id'] = df['master_id'].astype(int)\n",
    "\n",
    "# print the shape\n",
    "df.shape"
   ]
  },
  {
   "cell_type": "code",
   "execution_count": 24,
   "metadata": {},
   "outputs": [
    {
     "data": {
      "text/html": [
       "<div>\n",
       "<style scoped>\n",
       "    .dataframe tbody tr th:only-of-type {\n",
       "        vertical-align: middle;\n",
       "    }\n",
       "\n",
       "    .dataframe tbody tr th {\n",
       "        vertical-align: top;\n",
       "    }\n",
       "\n",
       "    .dataframe thead th {\n",
       "        text-align: right;\n",
       "    }\n",
       "</style>\n",
       "<table border=\"1\" class=\"dataframe\">\n",
       "  <thead>\n",
       "    <tr style=\"text-align: right;\">\n",
       "      <th></th>\n",
       "      <th>album_id</th>\n",
       "      <th>artist</th>\n",
       "      <th>title</th>\n",
       "      <th>rating</th>\n",
       "      <th>votes</th>\n",
       "      <th>artist_id</th>\n",
       "      <th>master_id</th>\n",
       "      <th>main_release_id</th>\n",
       "      <th>release_country</th>\n",
       "      <th>year</th>\n",
       "      <th>album_length</th>\n",
       "      <th>tracks</th>\n",
       "      <th>release_type</th>\n",
       "      <th>genres</th>\n",
       "      <th>styles</th>\n",
       "      <th>artist_profile</th>\n",
       "    </tr>\n",
       "  </thead>\n",
       "  <tbody>\n",
       "    <tr>\n",
       "      <th>0</th>\n",
       "      <td>40</td>\n",
       "      <td>Sparta</td>\n",
       "      <td>Wiretap Scars</td>\n",
       "      <td>3.79</td>\n",
       "      <td>431</td>\n",
       "      <td>253712.0</td>\n",
       "      <td>158153</td>\n",
       "      <td>426893</td>\n",
       "      <td>US</td>\n",
       "      <td>2002</td>\n",
       "      <td>47.62</td>\n",
       "      <td>12</td>\n",
       "      <td>['Album']</td>\n",
       "      <td>['Rock']</td>\n",
       "      <td>['Indie Rock', 'Alternative Rock']</td>\n",
       "      <td>El Paso, Texas based band. Formed in 2001 afte...</td>\n",
       "    </tr>\n",
       "  </tbody>\n",
       "</table>\n",
       "</div>"
      ],
      "text/plain": [
       "   album_id  artist          title  rating  votes  artist_id  master_id  \\\n",
       "0        40  Sparta  Wiretap Scars    3.79    431   253712.0     158153   \n",
       "\n",
       "   main_release_id release_country  year  album_length  tracks release_type  \\\n",
       "0           426893              US  2002         47.62      12    ['Album']   \n",
       "\n",
       "     genres                              styles  \\\n",
       "0  ['Rock']  ['Indie Rock', 'Alternative Rock']   \n",
       "\n",
       "                                      artist_profile  \n",
       "0  El Paso, Texas based band. Formed in 2001 afte...  "
      ]
     },
     "execution_count": 24,
     "metadata": {},
     "output_type": "execute_result"
    }
   ],
   "source": [
    "df.head(1)"
   ]
  },
  {
   "cell_type": "code",
   "execution_count": 25,
   "metadata": {},
   "outputs": [
    {
     "name": "stdout",
     "output_type": "stream",
     "text": [
      "70.48 % of the albums have ratings\n"
     ]
    }
   ],
   "source": [
    "print(f\"{round(df.shape[0] / df_masters.shape[0]*100, 2)} % of the albums have ratings\")"
   ]
  },
  {
   "cell_type": "markdown",
   "metadata": {},
   "source": [
    "### First inspection"
   ]
  },
  {
   "cell_type": "markdown",
   "metadata": {},
   "source": [
    "**Change the dtype of ``artist_id``**"
   ]
  },
  {
   "cell_type": "code",
   "execution_count": 42,
   "metadata": {},
   "outputs": [
    {
     "data": {
      "text/html": [
       "<div>\n",
       "<style scoped>\n",
       "    .dataframe tbody tr th:only-of-type {\n",
       "        vertical-align: middle;\n",
       "    }\n",
       "\n",
       "    .dataframe tbody tr th {\n",
       "        vertical-align: top;\n",
       "    }\n",
       "\n",
       "    .dataframe thead th {\n",
       "        text-align: right;\n",
       "    }\n",
       "</style>\n",
       "<table border=\"1\" class=\"dataframe\">\n",
       "  <thead>\n",
       "    <tr style=\"text-align: right;\">\n",
       "      <th></th>\n",
       "      <th>album_id</th>\n",
       "      <th>artist</th>\n",
       "      <th>title</th>\n",
       "      <th>rating</th>\n",
       "      <th>votes</th>\n",
       "      <th>artist_id</th>\n",
       "      <th>master_id</th>\n",
       "      <th>main_release_id</th>\n",
       "      <th>release_country</th>\n",
       "      <th>year</th>\n",
       "      <th>album_length</th>\n",
       "      <th>tracks</th>\n",
       "      <th>release_type</th>\n",
       "      <th>genres</th>\n",
       "      <th>styles</th>\n",
       "      <th>artist_profile</th>\n",
       "    </tr>\n",
       "  </thead>\n",
       "  <tbody>\n",
       "  </tbody>\n",
       "</table>\n",
       "</div>"
      ],
      "text/plain": [
       "Empty DataFrame\n",
       "Columns: [album_id, artist, title, rating, votes, artist_id, master_id, main_release_id, release_country, year, album_length, tracks, release_type, genres, styles, artist_profile]\n",
       "Index: []"
      ]
     },
     "execution_count": 42,
     "metadata": {},
     "output_type": "execute_result"
    }
   ],
   "source": [
    "df[df['artist_id'].isna()]"
   ]
  },
  {
   "cell_type": "code",
   "execution_count": 36,
   "metadata": {},
   "outputs": [
    {
     "data": {
      "text/html": [
       "<div>\n",
       "<style scoped>\n",
       "    .dataframe tbody tr th:only-of-type {\n",
       "        vertical-align: middle;\n",
       "    }\n",
       "\n",
       "    .dataframe tbody tr th {\n",
       "        vertical-align: top;\n",
       "    }\n",
       "\n",
       "    .dataframe thead th {\n",
       "        text-align: right;\n",
       "    }\n",
       "</style>\n",
       "<table border=\"1\" class=\"dataframe\">\n",
       "  <thead>\n",
       "    <tr style=\"text-align: right;\">\n",
       "      <th></th>\n",
       "      <th>album_id</th>\n",
       "      <th>artist</th>\n",
       "      <th>title</th>\n",
       "      <th>rating</th>\n",
       "      <th>votes</th>\n",
       "      <th>artist_id</th>\n",
       "      <th>master_id</th>\n",
       "      <th>main_release_id</th>\n",
       "      <th>release_country</th>\n",
       "      <th>year</th>\n",
       "      <th>album_length</th>\n",
       "      <th>tracks</th>\n",
       "      <th>release_type</th>\n",
       "      <th>genres</th>\n",
       "      <th>styles</th>\n",
       "      <th>artist_profile</th>\n",
       "    </tr>\n",
       "  </thead>\n",
       "  <tbody>\n",
       "    <tr>\n",
       "      <th>974</th>\n",
       "      <td>3863</td>\n",
       "      <td>David Bowie</td>\n",
       "      <td>Earthling</td>\n",
       "      <td>3.38</td>\n",
       "      <td>581</td>\n",
       "      <td>10263.0</td>\n",
       "      <td>49746</td>\n",
       "      <td>132275</td>\n",
       "      <td>Europe</td>\n",
       "      <td>1997</td>\n",
       "      <td>49.00</td>\n",
       "      <td>9</td>\n",
       "      <td>['Album']</td>\n",
       "      <td>['Electronic', 'Rock']</td>\n",
       "      <td>['Drum n Bass', 'Pop Rock', 'Art Rock']</td>\n",
       "      <td>British pop/rock singer, musician, songwriter,...</td>\n",
       "    </tr>\n",
       "    <tr>\n",
       "      <th>1328</th>\n",
       "      <td>5686</td>\n",
       "      <td>David Bowie</td>\n",
       "      <td>Station to Station</td>\n",
       "      <td>4.38</td>\n",
       "      <td>1515</td>\n",
       "      <td>10263.0</td>\n",
       "      <td>0</td>\n",
       "      <td>27656526</td>\n",
       "      <td>UK</td>\n",
       "      <td>1976</td>\n",
       "      <td>0.00</td>\n",
       "      <td>6</td>\n",
       "      <td>['Album']</td>\n",
       "      <td>['Rock', 'Funk / Soul']</td>\n",
       "      <td>['Rhythm &amp; Blues', 'Classic Rock']</td>\n",
       "      <td>British pop/rock singer, musician, songwriter,...</td>\n",
       "    </tr>\n",
       "    <tr>\n",
       "      <th>241</th>\n",
       "      <td>801</td>\n",
       "      <td>David Bowie</td>\n",
       "      <td>The Man Who Sold the World</td>\n",
       "      <td>3.92</td>\n",
       "      <td>1156</td>\n",
       "      <td>10263.0</td>\n",
       "      <td>1929</td>\n",
       "      <td>710468</td>\n",
       "      <td>US</td>\n",
       "      <td>1970</td>\n",
       "      <td>40.65</td>\n",
       "      <td>9</td>\n",
       "      <td>['LP', 'Album', 'Stereo']</td>\n",
       "      <td>['Rock']</td>\n",
       "      <td>['Hard Rock', 'Glam']</td>\n",
       "      <td>British pop/rock singer, musician, songwriter,...</td>\n",
       "    </tr>\n",
       "    <tr>\n",
       "      <th>7657</th>\n",
       "      <td>82402</td>\n",
       "      <td>David Bowie</td>\n",
       "      <td>David Live</td>\n",
       "      <td>3.31</td>\n",
       "      <td>58</td>\n",
       "      <td>10263.0</td>\n",
       "      <td>43605</td>\n",
       "      <td>26099011</td>\n",
       "      <td>UK</td>\n",
       "      <td>1974</td>\n",
       "      <td>0.00</td>\n",
       "      <td>17</td>\n",
       "      <td>['LP', 'Album', 'Stereo']</td>\n",
       "      <td>['Rock']</td>\n",
       "      <td>['Art Rock', 'Glam']</td>\n",
       "      <td>British pop/rock singer, musician, songwriter,...</td>\n",
       "    </tr>\n",
       "    <tr>\n",
       "      <th>245</th>\n",
       "      <td>809</td>\n",
       "      <td>David Bowie</td>\n",
       "      <td>The Rise and Fall of Ziggy Stardust and the Sp...</td>\n",
       "      <td>4.55</td>\n",
       "      <td>2925</td>\n",
       "      <td>10263.0</td>\n",
       "      <td>1561</td>\n",
       "      <td>618952</td>\n",
       "      <td>UK</td>\n",
       "      <td>1972</td>\n",
       "      <td>38.48</td>\n",
       "      <td>11</td>\n",
       "      <td>['LP', 'Album', 'Stereo']</td>\n",
       "      <td>['Rock']</td>\n",
       "      <td>['Glam', 'Classic Rock']</td>\n",
       "      <td>British pop/rock singer, musician, songwriter,...</td>\n",
       "    </tr>\n",
       "  </tbody>\n",
       "</table>\n",
       "</div>"
      ],
      "text/plain": [
       "      album_id       artist  \\\n",
       "974       3863  David Bowie   \n",
       "1328      5686  David Bowie   \n",
       "241        801  David Bowie   \n",
       "7657     82402  David Bowie   \n",
       "245        809  David Bowie   \n",
       "\n",
       "                                                  title  rating  votes  \\\n",
       "974                                           Earthling    3.38    581   \n",
       "1328                                 Station to Station    4.38   1515   \n",
       "241                          The Man Who Sold the World    3.92   1156   \n",
       "7657                                         David Live    3.31     58   \n",
       "245   The Rise and Fall of Ziggy Stardust and the Sp...    4.55   2925   \n",
       "\n",
       "      artist_id  master_id  main_release_id release_country  year  \\\n",
       "974     10263.0      49746           132275          Europe  1997   \n",
       "1328    10263.0          0         27656526              UK  1976   \n",
       "241     10263.0       1929           710468              US  1970   \n",
       "7657    10263.0      43605         26099011              UK  1974   \n",
       "245     10263.0       1561           618952              UK  1972   \n",
       "\n",
       "      album_length  tracks               release_type  \\\n",
       "974          49.00       9                  ['Album']   \n",
       "1328          0.00       6                  ['Album']   \n",
       "241          40.65       9  ['LP', 'Album', 'Stereo']   \n",
       "7657          0.00      17  ['LP', 'Album', 'Stereo']   \n",
       "245          38.48      11  ['LP', 'Album', 'Stereo']   \n",
       "\n",
       "                       genres                                   styles  \\\n",
       "974    ['Electronic', 'Rock']  ['Drum n Bass', 'Pop Rock', 'Art Rock']   \n",
       "1328  ['Rock', 'Funk / Soul']       ['Rhythm & Blues', 'Classic Rock']   \n",
       "241                  ['Rock']                    ['Hard Rock', 'Glam']   \n",
       "7657                 ['Rock']                     ['Art Rock', 'Glam']   \n",
       "245                  ['Rock']                 ['Glam', 'Classic Rock']   \n",
       "\n",
       "                                         artist_profile  \n",
       "974   British pop/rock singer, musician, songwriter,...  \n",
       "1328  British pop/rock singer, musician, songwriter,...  \n",
       "241   British pop/rock singer, musician, songwriter,...  \n",
       "7657  British pop/rock singer, musician, songwriter,...  \n",
       "245   British pop/rock singer, musician, songwriter,...  "
      ]
     },
     "execution_count": 36,
     "metadata": {},
     "output_type": "execute_result"
    }
   ],
   "source": [
    "df[df['artist']=='David Bowie'].sample(5)"
   ]
  },
  {
   "cell_type": "code",
   "execution_count": 41,
   "metadata": {},
   "outputs": [],
   "source": [
    "df.loc[6544, 'artist_id'] = 10263"
   ]
  },
  {
   "cell_type": "code",
   "execution_count": 43,
   "metadata": {},
   "outputs": [],
   "source": [
    "df['artist_id'] = df['artist_id'].astype(int)"
   ]
  },
  {
   "cell_type": "code",
   "execution_count": 44,
   "metadata": {},
   "outputs": [
    {
     "data": {
      "text/html": [
       "<div>\n",
       "<style scoped>\n",
       "    .dataframe tbody tr th:only-of-type {\n",
       "        vertical-align: middle;\n",
       "    }\n",
       "\n",
       "    .dataframe tbody tr th {\n",
       "        vertical-align: top;\n",
       "    }\n",
       "\n",
       "    .dataframe thead th {\n",
       "        text-align: right;\n",
       "    }\n",
       "</style>\n",
       "<table border=\"1\" class=\"dataframe\">\n",
       "  <thead>\n",
       "    <tr style=\"text-align: right;\">\n",
       "      <th></th>\n",
       "      <th>album_id</th>\n",
       "      <th>artist</th>\n",
       "      <th>title</th>\n",
       "      <th>rating</th>\n",
       "      <th>votes</th>\n",
       "      <th>artist_id</th>\n",
       "      <th>master_id</th>\n",
       "      <th>main_release_id</th>\n",
       "      <th>release_country</th>\n",
       "      <th>year</th>\n",
       "      <th>album_length</th>\n",
       "      <th>tracks</th>\n",
       "      <th>release_type</th>\n",
       "      <th>genres</th>\n",
       "      <th>styles</th>\n",
       "      <th>artist_profile</th>\n",
       "    </tr>\n",
       "  </thead>\n",
       "  <tbody>\n",
       "    <tr>\n",
       "      <th>0</th>\n",
       "      <td>40</td>\n",
       "      <td>Sparta</td>\n",
       "      <td>Wiretap Scars</td>\n",
       "      <td>3.79</td>\n",
       "      <td>431</td>\n",
       "      <td>253712</td>\n",
       "      <td>158153</td>\n",
       "      <td>426893</td>\n",
       "      <td>US</td>\n",
       "      <td>2002</td>\n",
       "      <td>47.62</td>\n",
       "      <td>12</td>\n",
       "      <td>['Album']</td>\n",
       "      <td>['Rock']</td>\n",
       "      <td>['Indie Rock', 'Alternative Rock']</td>\n",
       "      <td>El Paso, Texas based band. Formed in 2001 afte...</td>\n",
       "    </tr>\n",
       "  </tbody>\n",
       "</table>\n",
       "</div>"
      ],
      "text/plain": [
       "   album_id  artist          title  rating  votes  artist_id  master_id  \\\n",
       "0        40  Sparta  Wiretap Scars    3.79    431     253712     158153   \n",
       "\n",
       "   main_release_id release_country  year  album_length  tracks release_type  \\\n",
       "0           426893              US  2002         47.62      12    ['Album']   \n",
       "\n",
       "     genres                              styles  \\\n",
       "0  ['Rock']  ['Indie Rock', 'Alternative Rock']   \n",
       "\n",
       "                                      artist_profile  \n",
       "0  El Paso, Texas based band. Formed in 2001 afte...  "
      ]
     },
     "execution_count": 44,
     "metadata": {},
     "output_type": "execute_result"
    }
   ],
   "source": [
    "df.head(1)"
   ]
  },
  {
   "cell_type": "markdown",
   "metadata": {},
   "source": [
    "**Sort columns**\n",
    "\n",
    "I want to see the ``year`` next to the album ``title``, and I don't care much about the ``ids``"
   ]
  },
  {
   "cell_type": "code",
   "execution_count": 45,
   "metadata": {},
   "outputs": [],
   "source": [
    "df = columns_show_ratings(df)"
   ]
  },
  {
   "cell_type": "code",
   "execution_count": 47,
   "metadata": {},
   "outputs": [
    {
     "data": {
      "text/html": [
       "<div>\n",
       "<style scoped>\n",
       "    .dataframe tbody tr th:only-of-type {\n",
       "        vertical-align: middle;\n",
       "    }\n",
       "\n",
       "    .dataframe tbody tr th {\n",
       "        vertical-align: top;\n",
       "    }\n",
       "\n",
       "    .dataframe thead th {\n",
       "        text-align: right;\n",
       "    }\n",
       "</style>\n",
       "<table border=\"1\" class=\"dataframe\">\n",
       "  <thead>\n",
       "    <tr style=\"text-align: right;\">\n",
       "      <th></th>\n",
       "      <th>album_id</th>\n",
       "      <th>artist</th>\n",
       "      <th>title</th>\n",
       "      <th>year</th>\n",
       "      <th>rating</th>\n",
       "      <th>votes</th>\n",
       "      <th>album_length</th>\n",
       "      <th>tracks</th>\n",
       "      <th>release_country</th>\n",
       "      <th>release_type</th>\n",
       "      <th>genres</th>\n",
       "      <th>styles</th>\n",
       "      <th>artist_profile</th>\n",
       "      <th>artist_id</th>\n",
       "      <th>master_id</th>\n",
       "      <th>main_release_id</th>\n",
       "    </tr>\n",
       "  </thead>\n",
       "  <tbody>\n",
       "    <tr>\n",
       "      <th>0</th>\n",
       "      <td>40</td>\n",
       "      <td>Sparta</td>\n",
       "      <td>Wiretap Scars</td>\n",
       "      <td>2002</td>\n",
       "      <td>3.79</td>\n",
       "      <td>431</td>\n",
       "      <td>47.62</td>\n",
       "      <td>12</td>\n",
       "      <td>US</td>\n",
       "      <td>['Album']</td>\n",
       "      <td>['Rock']</td>\n",
       "      <td>['Indie Rock', 'Alternative Rock']</td>\n",
       "      <td>El Paso, Texas based band. Formed in 2001 afte...</td>\n",
       "      <td>253712</td>\n",
       "      <td>158153</td>\n",
       "      <td>426893</td>\n",
       "    </tr>\n",
       "  </tbody>\n",
       "</table>\n",
       "</div>"
      ],
      "text/plain": [
       "   album_id  artist          title  year  rating  votes  album_length  tracks  \\\n",
       "0        40  Sparta  Wiretap Scars  2002    3.79    431         47.62      12   \n",
       "\n",
       "  release_country release_type    genres                              styles  \\\n",
       "0              US    ['Album']  ['Rock']  ['Indie Rock', 'Alternative Rock']   \n",
       "\n",
       "                                      artist_profile  artist_id  master_id  \\\n",
       "0  El Paso, Texas based band. Formed in 2001 afte...     253712     158153   \n",
       "\n",
       "   main_release_id  \n",
       "0           426893  "
      ]
     },
     "execution_count": 47,
     "metadata": {},
     "output_type": "execute_result"
    }
   ],
   "source": [
    "df.head(1)"
   ]
  },
  {
   "cell_type": "markdown",
   "metadata": {},
   "source": [
    "**I keep only rock albums**"
   ]
  },
  {
   "cell_type": "code",
   "execution_count": 48,
   "metadata": {},
   "outputs": [
    {
     "data": {
      "text/plain": [
       "(12329, 16)"
      ]
     },
     "execution_count": 48,
     "metadata": {},
     "output_type": "execute_result"
    }
   ],
   "source": [
    "# how many of them are Rock albums?\n",
    "df = df[df['genres'].str.contains('Rock')]\n",
    "df.shape"
   ]
  },
  {
   "cell_type": "markdown",
   "metadata": {},
   "source": [
    "**Drop compilations**"
   ]
  },
  {
   "cell_type": "code",
   "execution_count": 49,
   "metadata": {},
   "outputs": [
    {
     "data": {
      "text/plain": [
       "0"
      ]
     },
     "execution_count": 49,
     "metadata": {},
     "output_type": "execute_result"
    }
   ],
   "source": [
    "df['release_type'].isna().sum()"
   ]
  },
  {
   "cell_type": "code",
   "execution_count": 50,
   "metadata": {},
   "outputs": [
    {
     "data": {
      "text/html": [
       "<div>\n",
       "<style scoped>\n",
       "    .dataframe tbody tr th:only-of-type {\n",
       "        vertical-align: middle;\n",
       "    }\n",
       "\n",
       "    .dataframe tbody tr th {\n",
       "        vertical-align: top;\n",
       "    }\n",
       "\n",
       "    .dataframe thead th {\n",
       "        text-align: right;\n",
       "    }\n",
       "</style>\n",
       "<table border=\"1\" class=\"dataframe\">\n",
       "  <thead>\n",
       "    <tr style=\"text-align: right;\">\n",
       "      <th></th>\n",
       "      <th>album_id</th>\n",
       "      <th>artist</th>\n",
       "      <th>title</th>\n",
       "      <th>year</th>\n",
       "      <th>rating</th>\n",
       "      <th>votes</th>\n",
       "      <th>album_length</th>\n",
       "      <th>tracks</th>\n",
       "      <th>release_country</th>\n",
       "      <th>release_type</th>\n",
       "      <th>genres</th>\n",
       "      <th>styles</th>\n",
       "      <th>artist_profile</th>\n",
       "      <th>artist_id</th>\n",
       "      <th>master_id</th>\n",
       "      <th>main_release_id</th>\n",
       "    </tr>\n",
       "  </thead>\n",
       "  <tbody>\n",
       "  </tbody>\n",
       "</table>\n",
       "</div>"
      ],
      "text/plain": [
       "Empty DataFrame\n",
       "Columns: [album_id, artist, title, year, rating, votes, album_length, tracks, release_country, release_type, genres, styles, artist_profile, artist_id, master_id, main_release_id]\n",
       "Index: []"
      ]
     },
     "execution_count": 50,
     "metadata": {},
     "output_type": "execute_result"
    }
   ],
   "source": [
    "df[df['release_type'].isna()]"
   ]
  },
  {
   "cell_type": "code",
   "execution_count": 569,
   "metadata": {},
   "outputs": [
    {
     "ename": "SyntaxError",
     "evalue": "invalid syntax (3752154290.py, line 2)",
     "output_type": "error",
     "traceback": [
      "\u001b[1;36m  Cell \u001b[1;32mIn[569], line 2\u001b[1;36m\u001b[0m\n\u001b[1;33m    df.drop(, inplace=True)\u001b[0m\n\u001b[1;37m            ^\u001b[0m\n\u001b[1;31mSyntaxError\u001b[0m\u001b[1;31m:\u001b[0m invalid syntax\n"
     ]
    }
   ],
   "source": [
    "# it's an american band, so I can just drop it\n",
    "df.drop(, inplace=True)\n",
    "df['release_type'].isna().sum()"
   ]
  },
  {
   "cell_type": "code",
   "execution_count": 51,
   "metadata": {},
   "outputs": [
    {
     "data": {
      "text/plain": [
       "(12316, 16)"
      ]
     },
     "execution_count": 51,
     "metadata": {},
     "output_type": "execute_result"
    }
   ],
   "source": [
    "df = df[~df['release_type'].str.contains('Compilation')]\n",
    "df.shape"
   ]
  },
  {
   "cell_type": "code",
   "execution_count": 52,
   "metadata": {},
   "outputs": [
    {
     "data": {
      "text/plain": [
       "5115"
      ]
     },
     "execution_count": 52,
     "metadata": {},
     "output_type": "execute_result"
    }
   ],
   "source": [
    "# number of unique artists\n",
    "df['artist'].nunique()"
   ]
  },
  {
   "cell_type": "markdown",
   "metadata": {},
   "source": [
    "## ``df`` real cleaning"
   ]
  },
  {
   "cell_type": "markdown",
   "metadata": {},
   "source": [
    "I want to **drop duplicates** and releases from **bands outside of the UK**, I only want to keep brittish artists. Also **drop compilations and live albums**."
   ]
  },
  {
   "cell_type": "markdown",
   "metadata": {},
   "source": [
    "**Deleting artists from outside the UK**"
   ]
  },
  {
   "cell_type": "code",
   "execution_count": 53,
   "metadata": {},
   "outputs": [
    {
     "name": "stdout",
     "output_type": "stream",
     "text": [
      "Initial artists: 5115\n",
      "Final artists: 5102\n"
     ]
    }
   ],
   "source": [
    "delete_non_uk_artists(df)"
   ]
  },
  {
   "cell_type": "markdown",
   "metadata": {},
   "source": [
    "### Drop duplicates"
   ]
  },
  {
   "cell_type": "code",
   "execution_count": 55,
   "metadata": {},
   "outputs": [
    {
     "data": {
      "text/plain": [
       "118"
      ]
     },
     "execution_count": 55,
     "metadata": {},
     "output_type": "execute_result"
    }
   ],
   "source": [
    "df[['artist', 'title', 'year', 'rating', 'votes', 'album_length', 'tracks']].duplicated().sum()"
   ]
  },
  {
   "cell_type": "code",
   "execution_count": 56,
   "metadata": {},
   "outputs": [],
   "source": [
    "# these albums are the same, except one entry has master_id=0\n",
    "df.drop_duplicates(subset=['artist', 'title', 'year', 'rating', 'votes', 'album_length', 'tracks'], inplace=True)"
   ]
  },
  {
   "cell_type": "code",
   "execution_count": 247,
   "metadata": {},
   "outputs": [
    {
     "data": {
      "text/plain": [
       "0"
      ]
     },
     "execution_count": 247,
     "metadata": {},
     "output_type": "execute_result"
    }
   ],
   "source": [
    "# the real duplicated albums\n",
    "df[['artist', 'title']].duplicated().sum()"
   ]
  },
  {
   "cell_type": "code",
   "execution_count": 248,
   "metadata": {},
   "outputs": [
    {
     "data": {
      "text/html": [
       "<div>\n",
       "<style scoped>\n",
       "    .dataframe tbody tr th:only-of-type {\n",
       "        vertical-align: middle;\n",
       "    }\n",
       "\n",
       "    .dataframe tbody tr th {\n",
       "        vertical-align: top;\n",
       "    }\n",
       "\n",
       "    .dataframe thead th {\n",
       "        text-align: right;\n",
       "    }\n",
       "</style>\n",
       "<table border=\"1\" class=\"dataframe\">\n",
       "  <thead>\n",
       "    <tr style=\"text-align: right;\">\n",
       "      <th></th>\n",
       "      <th>album_id</th>\n",
       "      <th>artist</th>\n",
       "      <th>title</th>\n",
       "      <th>year</th>\n",
       "      <th>rating</th>\n",
       "      <th>votes</th>\n",
       "      <th>album_length</th>\n",
       "      <th>tracks</th>\n",
       "      <th>release_country</th>\n",
       "      <th>release_type</th>\n",
       "      <th>genres</th>\n",
       "      <th>styles</th>\n",
       "      <th>artist_profile</th>\n",
       "      <th>artist_id</th>\n",
       "      <th>master_id</th>\n",
       "      <th>main_release_id</th>\n",
       "    </tr>\n",
       "  </thead>\n",
       "  <tbody>\n",
       "  </tbody>\n",
       "</table>\n",
       "</div>"
      ],
      "text/plain": [
       "Empty DataFrame\n",
       "Columns: [album_id, artist, title, year, rating, votes, album_length, tracks, release_country, release_type, genres, styles, artist_profile, artist_id, master_id, main_release_id]\n",
       "Index: []"
      ]
     },
     "execution_count": 248,
     "metadata": {},
     "output_type": "execute_result"
    }
   ],
   "source": [
    "# check one by one\n",
    "df[df[['artist', 'title']].duplicated()].tail()"
   ]
  },
  {
   "cell_type": "markdown",
   "metadata": {},
   "source": [
    "**Check these duplicated albums in the original dataframes**"
   ]
  },
  {
   "cell_type": "code",
   "execution_count": 249,
   "metadata": {},
   "outputs": [
    {
     "data": {
      "text/html": [
       "<div>\n",
       "<style scoped>\n",
       "    .dataframe tbody tr th:only-of-type {\n",
       "        vertical-align: middle;\n",
       "    }\n",
       "\n",
       "    .dataframe tbody tr th {\n",
       "        vertical-align: top;\n",
       "    }\n",
       "\n",
       "    .dataframe thead th {\n",
       "        text-align: right;\n",
       "    }\n",
       "</style>\n",
       "<table border=\"1\" class=\"dataframe\">\n",
       "  <thead>\n",
       "    <tr style=\"text-align: right;\">\n",
       "      <th></th>\n",
       "      <th>album_id</th>\n",
       "      <th>artist</th>\n",
       "      <th>title</th>\n",
       "      <th>year</th>\n",
       "      <th>rating</th>\n",
       "      <th>votes</th>\n",
       "      <th>album_length</th>\n",
       "      <th>tracks</th>\n",
       "      <th>release_country</th>\n",
       "      <th>release_type</th>\n",
       "      <th>genres</th>\n",
       "      <th>styles</th>\n",
       "      <th>artist_profile</th>\n",
       "      <th>artist_id</th>\n",
       "      <th>master_id</th>\n",
       "      <th>main_release_id</th>\n",
       "    </tr>\n",
       "  </thead>\n",
       "  <tbody>\n",
       "    <tr>\n",
       "      <th>36</th>\n",
       "      <td>171</td>\n",
       "      <td>Pink Floyd</td>\n",
       "      <td>The Piper At The Gates Of Dawn</td>\n",
       "      <td>1967</td>\n",
       "      <td>3.98</td>\n",
       "      <td>2858</td>\n",
       "      <td>41.9</td>\n",
       "      <td>11</td>\n",
       "      <td>UK</td>\n",
       "      <td>['LP', 'Album', 'Mono']</td>\n",
       "      <td>['Rock']</td>\n",
       "      <td>['Psychedelic Rock', 'Experimental']</td>\n",
       "      <td>Pink Floyd was an English rock band from Londo...</td>\n",
       "      <td>45467</td>\n",
       "      <td>19546</td>\n",
       "      <td>2901203</td>\n",
       "    </tr>\n",
       "  </tbody>\n",
       "</table>\n",
       "</div>"
      ],
      "text/plain": [
       "    album_id      artist                           title  year  rating  votes  \\\n",
       "36       171  Pink Floyd  The Piper At The Gates Of Dawn  1967    3.98   2858   \n",
       "\n",
       "    album_length  tracks release_country             release_type    genres  \\\n",
       "36          41.9      11              UK  ['LP', 'Album', 'Mono']  ['Rock']   \n",
       "\n",
       "                                  styles  \\\n",
       "36  ['Psychedelic Rock', 'Experimental']   \n",
       "\n",
       "                                       artist_profile  artist_id  master_id  \\\n",
       "36  Pink Floyd was an English rock band from Londo...      45467      19546   \n",
       "\n",
       "    main_release_id  \n",
       "36          2901203  "
      ]
     },
     "execution_count": 249,
     "metadata": {},
     "output_type": "execute_result"
    }
   ],
   "source": [
    "# to see the difference between the duplicated albums searching for the album name\n",
    "df[df['title']==\"The Piper At The Gates Of Dawn\"].sort_values('year')"
   ]
  },
  {
   "cell_type": "markdown",
   "metadata": {},
   "source": [
    "**Drop incorrect albums**"
   ]
  },
  {
   "cell_type": "code",
   "execution_count": 246,
   "metadata": {},
   "outputs": [
    {
     "name": "stdout",
     "output_type": "stream",
     "text": [
      "Rows dropped\n",
      "(12075, 16)\n"
     ]
    }
   ],
   "source": [
    "# check one by one if necessary\n",
    "try:\n",
    "    df.drop([37], axis=0, inplace=True)\n",
    "    print('Rows dropped')\n",
    "    print(df.shape)\n",
    "except:\n",
    "    print(\"Couldn't drop these rows\")\n",
    "    print(df.shape)"
   ]
  },
  {
   "cell_type": "markdown",
   "metadata": {},
   "source": [
    "**Change specific values that are wrong/missing**"
   ]
  },
  {
   "cell_type": "code",
   "execution_count": 215,
   "metadata": {},
   "outputs": [],
   "source": [
    "# change specific values that are wrong/missing\n",
    "\n",
    "# df.loc[1615, 'title'] = 'Heroes'\n",
    "# df.loc[8365, 'rating'] = 3.62\n",
    "# df.loc[8365, 'votes'] = 13\n",
    "df.loc[621, 'album_length'] = 33.44\n",
    "# df.loc[8002, 'tracks'] = 14"
   ]
  },
  {
   "cell_type": "code",
   "execution_count": 202,
   "metadata": {},
   "outputs": [
    {
     "data": {
      "text/plain": [
       "0.2833333333333333"
      ]
     },
     "execution_count": 202,
     "metadata": {},
     "output_type": "execute_result"
    }
   ],
   "source": [
    "# calculate the decimals of the album length (seconds)\n",
    "17/60"
   ]
  },
  {
   "cell_type": "markdown",
   "metadata": {},
   "source": [
    "**``df_ratings_top``**"
   ]
  },
  {
   "cell_type": "markdown",
   "metadata": {},
   "source": [
    "If there are two albums with the same name, but one is for instance an EP or a compilation I don't want to keep, I have to drop it from df,\n",
    "\n",
    "but also from df_ratings_top, otherwise I will keep running into this duplicated album every time I add more albums"
   ]
  },
  {
   "cell_type": "code",
   "execution_count": 183,
   "metadata": {},
   "outputs": [
    {
     "data": {
      "text/html": [
       "<div>\n",
       "<style scoped>\n",
       "    .dataframe tbody tr th:only-of-type {\n",
       "        vertical-align: middle;\n",
       "    }\n",
       "\n",
       "    .dataframe tbody tr th {\n",
       "        vertical-align: top;\n",
       "    }\n",
       "\n",
       "    .dataframe thead th {\n",
       "        text-align: right;\n",
       "    }\n",
       "</style>\n",
       "<table border=\"1\" class=\"dataframe\">\n",
       "  <thead>\n",
       "    <tr style=\"text-align: right;\">\n",
       "      <th></th>\n",
       "      <th>album_id</th>\n",
       "      <th>artist</th>\n",
       "      <th>title</th>\n",
       "      <th>rating</th>\n",
       "      <th>votes</th>\n",
       "    </tr>\n",
       "  </thead>\n",
       "  <tbody>\n",
       "    <tr>\n",
       "      <th>3641</th>\n",
       "      <td>5562</td>\n",
       "      <td>New York Dolls</td>\n",
       "      <td>New York Dolls</td>\n",
       "      <td>3.97</td>\n",
       "      <td>386</td>\n",
       "    </tr>\n",
       "    <tr>\n",
       "      <th>5724</th>\n",
       "      <td>8501</td>\n",
       "      <td>New York Dolls</td>\n",
       "      <td>Too Much Too Soon</td>\n",
       "      <td>3.77</td>\n",
       "      <td>127</td>\n",
       "    </tr>\n",
       "    <tr>\n",
       "      <th>7344</th>\n",
       "      <td>10865</td>\n",
       "      <td>New York Dolls</td>\n",
       "      <td>One Day It Will Please Us To Remember...</td>\n",
       "      <td>3.06</td>\n",
       "      <td>52</td>\n",
       "    </tr>\n",
       "    <tr>\n",
       "      <th>33315</th>\n",
       "      <td>65305</td>\n",
       "      <td>New York Dolls</td>\n",
       "      <td>Rock'n Roll</td>\n",
       "      <td>4.00</td>\n",
       "      <td>11</td>\n",
       "    </tr>\n",
       "    <tr>\n",
       "      <th>36151</th>\n",
       "      <td>74079</td>\n",
       "      <td>New York Dolls</td>\n",
       "      <td>Cause I Sez So</td>\n",
       "      <td>2.71</td>\n",
       "      <td>29</td>\n",
       "    </tr>\n",
       "    <tr>\n",
       "      <th>36152</th>\n",
       "      <td>74083</td>\n",
       "      <td>New York Dolls</td>\n",
       "      <td>Dancing Backward In High Heels</td>\n",
       "      <td>2.35</td>\n",
       "      <td>24</td>\n",
       "    </tr>\n",
       "  </tbody>\n",
       "</table>\n",
       "</div>"
      ],
      "text/plain": [
       "       album_id          artist                                     title  \\\n",
       "3641       5562  New York Dolls                            New York Dolls   \n",
       "5724       8501  New York Dolls                         Too Much Too Soon   \n",
       "7344      10865  New York Dolls  One Day It Will Please Us To Remember...   \n",
       "33315     65305  New York Dolls                               Rock'n Roll   \n",
       "36151     74079  New York Dolls                            Cause I Sez So   \n",
       "36152     74083  New York Dolls            Dancing Backward In High Heels   \n",
       "\n",
       "       rating  votes  \n",
       "3641     3.97    386  \n",
       "5724     3.77    127  \n",
       "7344     3.06     52  \n",
       "33315    4.00     11  \n",
       "36151    2.71     29  \n",
       "36152    2.35     24  "
      ]
     },
     "execution_count": 183,
     "metadata": {},
     "output_type": "execute_result"
    }
   ],
   "source": [
    "df_ratings_top[df_ratings_top['artist']=='New York Dolls']"
   ]
  },
  {
   "cell_type": "code",
   "execution_count": 116,
   "metadata": {},
   "outputs": [
    {
     "data": {
      "text/html": [
       "<div>\n",
       "<style scoped>\n",
       "    .dataframe tbody tr th:only-of-type {\n",
       "        vertical-align: middle;\n",
       "    }\n",
       "\n",
       "    .dataframe tbody tr th {\n",
       "        vertical-align: top;\n",
       "    }\n",
       "\n",
       "    .dataframe thead th {\n",
       "        text-align: right;\n",
       "    }\n",
       "</style>\n",
       "<table border=\"1\" class=\"dataframe\">\n",
       "  <thead>\n",
       "    <tr style=\"text-align: right;\">\n",
       "      <th></th>\n",
       "      <th>album_id</th>\n",
       "      <th>artist</th>\n",
       "      <th>title</th>\n",
       "      <th>rating</th>\n",
       "      <th>votes</th>\n",
       "    </tr>\n",
       "  </thead>\n",
       "  <tbody>\n",
       "    <tr>\n",
       "      <th>19214</th>\n",
       "      <td>30855</td>\n",
       "      <td>The Animals</td>\n",
       "      <td>Animal Tracks</td>\n",
       "      <td>3.68</td>\n",
       "      <td>11</td>\n",
       "    </tr>\n",
       "    <tr>\n",
       "      <th>19215</th>\n",
       "      <td>30856</td>\n",
       "      <td>The Animals</td>\n",
       "      <td>Animal Tracks</td>\n",
       "      <td>3.60</td>\n",
       "      <td>10</td>\n",
       "    </tr>\n",
       "  </tbody>\n",
       "</table>\n",
       "</div>"
      ],
      "text/plain": [
       "       album_id       artist          title  rating  votes\n",
       "19214     30855  The Animals  Animal Tracks    3.68     11\n",
       "19215     30856  The Animals  Animal Tracks    3.60     10"
      ]
     },
     "execution_count": 116,
     "metadata": {},
     "output_type": "execute_result"
    }
   ],
   "source": [
    "df_ratings_top[df_ratings_top['title']=='Animal Tracks']"
   ]
  },
  {
   "cell_type": "code",
   "execution_count": 117,
   "metadata": {},
   "outputs": [
    {
     "name": "stdout",
     "output_type": "stream",
     "text": [
      "Rows dropped\n",
      "(79626, 5)\n"
     ]
    }
   ],
   "source": [
    "# check one by one if necessary\n",
    "try:\n",
    "    df_ratings_top.drop([4853], axis=0, inplace=True)\n",
    "    print('Rows dropped')\n",
    "    print(df_ratings_top.shape)\n",
    "except:\n",
    "    print(\"Couldn't drop these rows\")\n",
    "    print(df_ratings_top.shape)"
   ]
  },
  {
   "cell_type": "code",
   "execution_count": 250,
   "metadata": {},
   "outputs": [],
   "source": [
    "df_ratings_top.to_csv('Datasets/df_ratings_top.csv', index=False)"
   ]
  },
  {
   "cell_type": "markdown",
   "metadata": {},
   "source": [
    "### **Drop live albums**"
   ]
  },
  {
   "cell_type": "markdown",
   "metadata": {},
   "source": [
    "Let's try to detect the live albums by the title"
   ]
  },
  {
   "cell_type": "markdown",
   "metadata": {},
   "source": [
    "**'Live at'**"
   ]
  },
  {
   "cell_type": "code",
   "execution_count": 251,
   "metadata": {},
   "outputs": [
    {
     "data": {
      "text/plain": [
       "(12075, 16)"
      ]
     },
     "execution_count": 251,
     "metadata": {},
     "output_type": "execute_result"
    }
   ],
   "source": [
    "df.shape"
   ]
  },
  {
   "cell_type": "code",
   "execution_count": 36,
   "metadata": {},
   "outputs": [
    {
     "name": "stdout",
     "output_type": "stream",
     "text": [
      "There are 2 albums with 'Live at ' in the title\n"
     ]
    }
   ],
   "source": [
    "print(f\"There are {df[df['title'].str.contains('Live at ', case=False)].shape[0]} albums with 'Live at ' in the title\")"
   ]
  },
  {
   "cell_type": "code",
   "execution_count": 37,
   "metadata": {},
   "outputs": [
    {
     "data": {
      "text/html": [
       "<div>\n",
       "<style scoped>\n",
       "    .dataframe tbody tr th:only-of-type {\n",
       "        vertical-align: middle;\n",
       "    }\n",
       "\n",
       "    .dataframe tbody tr th {\n",
       "        vertical-align: top;\n",
       "    }\n",
       "\n",
       "    .dataframe thead th {\n",
       "        text-align: right;\n",
       "    }\n",
       "</style>\n",
       "<table border=\"1\" class=\"dataframe\">\n",
       "  <thead>\n",
       "    <tr style=\"text-align: right;\">\n",
       "      <th></th>\n",
       "      <th>album_id</th>\n",
       "      <th>artist</th>\n",
       "      <th>title</th>\n",
       "      <th>year</th>\n",
       "      <th>rating</th>\n",
       "      <th>votes</th>\n",
       "      <th>album_length</th>\n",
       "      <th>tracks</th>\n",
       "      <th>release_country</th>\n",
       "      <th>release_type</th>\n",
       "      <th>genres</th>\n",
       "      <th>styles</th>\n",
       "      <th>artist_profile</th>\n",
       "      <th>artist_id</th>\n",
       "      <th>master_id</th>\n",
       "      <th>main_release_id</th>\n",
       "    </tr>\n",
       "  </thead>\n",
       "  <tbody>\n",
       "    <tr>\n",
       "      <th>6708</th>\n",
       "      <td>68348</td>\n",
       "      <td>Ten Years After</td>\n",
       "      <td>Live at the Fillmore East 1970</td>\n",
       "      <td>2001</td>\n",
       "      <td>4.30</td>\n",
       "      <td>10</td>\n",
       "      <td>114.45</td>\n",
       "      <td>12</td>\n",
       "      <td>Europe</td>\n",
       "      <td>['Album']</td>\n",
       "      <td>['Rock', 'Blues']</td>\n",
       "      <td>['Blues Rock', 'Rock &amp; Roll']</td>\n",
       "      <td>Ten Years After is a British blues and blues r...</td>\n",
       "      <td>253987</td>\n",
       "      <td>769839</td>\n",
       "      <td>7758916</td>\n",
       "    </tr>\n",
       "    <tr>\n",
       "      <th>11679</th>\n",
       "      <td>413051</td>\n",
       "      <td>Anna von Hausswolff</td>\n",
       "      <td>Live at Montreux Jazz Festival</td>\n",
       "      <td>2022</td>\n",
       "      <td>4.27</td>\n",
       "      <td>43</td>\n",
       "      <td>59.63</td>\n",
       "      <td>6</td>\n",
       "      <td>UK, Europe &amp; US</td>\n",
       "      <td>['Album']</td>\n",
       "      <td>['Rock', 'Classical']</td>\n",
       "      <td>[]</td>\n",
       "      <td>Swedish singer, pianist, organist and songwrit...</td>\n",
       "      <td>1724854</td>\n",
       "      <td>2470054</td>\n",
       "      <td>21778390</td>\n",
       "    </tr>\n",
       "  </tbody>\n",
       "</table>\n",
       "</div>"
      ],
      "text/plain": [
       "       album_id               artist                           title  year  \\\n",
       "6708      68348      Ten Years After  Live at the Fillmore East 1970  2001   \n",
       "11679    413051  Anna von Hausswolff  Live at Montreux Jazz Festival  2022   \n",
       "\n",
       "       rating  votes  album_length  tracks  release_country release_type  \\\n",
       "6708     4.30     10        114.45      12           Europe    ['Album']   \n",
       "11679    4.27     43         59.63       6  UK, Europe & US    ['Album']   \n",
       "\n",
       "                      genres                         styles  \\\n",
       "6708       ['Rock', 'Blues']  ['Blues Rock', 'Rock & Roll']   \n",
       "11679  ['Rock', 'Classical']                             []   \n",
       "\n",
       "                                          artist_profile  artist_id  \\\n",
       "6708   Ten Years After is a British blues and blues r...     253987   \n",
       "11679  Swedish singer, pianist, organist and songwrit...    1724854   \n",
       "\n",
       "       master_id  main_release_id  \n",
       "6708      769839          7758916  \n",
       "11679    2470054         21778390  "
      ]
     },
     "execution_count": 37,
     "metadata": {},
     "output_type": "execute_result"
    }
   ],
   "source": [
    "# Let's check them before deleting them\n",
    "df[df['title'].str.contains('Live at ', case=False)]"
   ]
  },
  {
   "cell_type": "code",
   "execution_count": 38,
   "metadata": {},
   "outputs": [
    {
     "data": {
      "text/plain": [
       "(11600, 16)"
      ]
     },
     "execution_count": 38,
     "metadata": {},
     "output_type": "execute_result"
    }
   ],
   "source": [
    "# correct, they are all live albums\n",
    "df = df[~df['title'].str.contains('Live at ', case=False)]\n",
    "df.shape"
   ]
  },
  {
   "cell_type": "markdown",
   "metadata": {},
   "source": [
    "**'Live in'**"
   ]
  },
  {
   "cell_type": "code",
   "execution_count": 39,
   "metadata": {},
   "outputs": [
    {
     "name": "stdout",
     "output_type": "stream",
     "text": [
      "There are 0 albums with 'Live in ' in the title\n"
     ]
    }
   ],
   "source": [
    "print(f\"There are {df[df['title'].str.contains(r'^Live in ', case=False)].shape[0]} albums with 'Live in ' in the title\")"
   ]
  },
  {
   "cell_type": "code",
   "execution_count": 40,
   "metadata": {},
   "outputs": [
    {
     "data": {
      "text/html": [
       "<div>\n",
       "<style scoped>\n",
       "    .dataframe tbody tr th:only-of-type {\n",
       "        vertical-align: middle;\n",
       "    }\n",
       "\n",
       "    .dataframe tbody tr th {\n",
       "        vertical-align: top;\n",
       "    }\n",
       "\n",
       "    .dataframe thead th {\n",
       "        text-align: right;\n",
       "    }\n",
       "</style>\n",
       "<table border=\"1\" class=\"dataframe\">\n",
       "  <thead>\n",
       "    <tr style=\"text-align: right;\">\n",
       "      <th></th>\n",
       "      <th>album_id</th>\n",
       "      <th>artist</th>\n",
       "      <th>title</th>\n",
       "      <th>year</th>\n",
       "      <th>rating</th>\n",
       "      <th>votes</th>\n",
       "      <th>album_length</th>\n",
       "      <th>tracks</th>\n",
       "      <th>release_country</th>\n",
       "      <th>release_type</th>\n",
       "      <th>genres</th>\n",
       "      <th>styles</th>\n",
       "      <th>artist_profile</th>\n",
       "      <th>artist_id</th>\n",
       "      <th>master_id</th>\n",
       "      <th>main_release_id</th>\n",
       "    </tr>\n",
       "  </thead>\n",
       "  <tbody>\n",
       "  </tbody>\n",
       "</table>\n",
       "</div>"
      ],
      "text/plain": [
       "Empty DataFrame\n",
       "Columns: [album_id, artist, title, year, rating, votes, album_length, tracks, release_country, release_type, genres, styles, artist_profile, artist_id, master_id, main_release_id]\n",
       "Index: []"
      ]
     },
     "execution_count": 40,
     "metadata": {},
     "output_type": "execute_result"
    }
   ],
   "source": [
    "# Let's check them before deleting them\n",
    "df[df['title'].str.contains(r'^Live in ', case=False)]"
   ]
  },
  {
   "cell_type": "code",
   "execution_count": 41,
   "metadata": {},
   "outputs": [
    {
     "data": {
      "text/plain": [
       "(11600, 16)"
      ]
     },
     "execution_count": 41,
     "metadata": {},
     "output_type": "execute_result"
    }
   ],
   "source": [
    "# I can drop them all\n",
    "df = df[~df['title'].str.contains(r'^Live in ', case=False)]\n",
    "df.shape"
   ]
  },
  {
   "cell_type": "code",
   "execution_count": 42,
   "metadata": {},
   "outputs": [
    {
     "data": {
      "text/html": [
       "<div>\n",
       "<style scoped>\n",
       "    .dataframe tbody tr th:only-of-type {\n",
       "        vertical-align: middle;\n",
       "    }\n",
       "\n",
       "    .dataframe tbody tr th {\n",
       "        vertical-align: top;\n",
       "    }\n",
       "\n",
       "    .dataframe thead th {\n",
       "        text-align: right;\n",
       "    }\n",
       "</style>\n",
       "<table border=\"1\" class=\"dataframe\">\n",
       "  <thead>\n",
       "    <tr style=\"text-align: right;\">\n",
       "      <th></th>\n",
       "      <th>album_id</th>\n",
       "      <th>artist</th>\n",
       "      <th>title</th>\n",
       "      <th>year</th>\n",
       "      <th>rating</th>\n",
       "      <th>votes</th>\n",
       "      <th>album_length</th>\n",
       "      <th>tracks</th>\n",
       "      <th>release_country</th>\n",
       "      <th>release_type</th>\n",
       "      <th>genres</th>\n",
       "      <th>styles</th>\n",
       "      <th>artist_profile</th>\n",
       "      <th>artist_id</th>\n",
       "      <th>master_id</th>\n",
       "      <th>main_release_id</th>\n",
       "    </tr>\n",
       "  </thead>\n",
       "  <tbody>\n",
       "    <tr>\n",
       "      <th>10478</th>\n",
       "      <td>274989</td>\n",
       "      <td>IAMX</td>\n",
       "      <td>Alive In New Light</td>\n",
       "      <td>2018</td>\n",
       "      <td>3.42</td>\n",
       "      <td>12</td>\n",
       "      <td>40.13</td>\n",
       "      <td>9</td>\n",
       "      <td>UK &amp; Europe</td>\n",
       "      <td>['Album']</td>\n",
       "      <td>['Electronic', 'Rock']</td>\n",
       "      <td>['Alternative Rock', 'Electro']</td>\n",
       "      <td>IAMX is the solo musical project of [a209168] ...</td>\n",
       "      <td>192242</td>\n",
       "      <td>1318851</td>\n",
       "      <td>11504248</td>\n",
       "    </tr>\n",
       "  </tbody>\n",
       "</table>\n",
       "</div>"
      ],
      "text/plain": [
       "       album_id artist               title  year  rating  votes  album_length  \\\n",
       "10478    274989   IAMX  Alive In New Light  2018    3.42     12         40.13   \n",
       "\n",
       "       tracks release_country release_type                  genres  \\\n",
       "10478       9     UK & Europe    ['Album']  ['Electronic', 'Rock']   \n",
       "\n",
       "                                styles  \\\n",
       "10478  ['Alternative Rock', 'Electro']   \n",
       "\n",
       "                                          artist_profile  artist_id  \\\n",
       "10478  IAMX is the solo musical project of [a209168] ...     192242   \n",
       "\n",
       "       master_id  main_release_id  \n",
       "10478    1318851         11504248  "
      ]
     },
     "execution_count": 42,
     "metadata": {},
     "output_type": "execute_result"
    }
   ],
   "source": [
    "# This is a studio album\n",
    "df[df['title'].str.contains('Live in ', case=False)]"
   ]
  },
  {
   "cell_type": "markdown",
   "metadata": {},
   "source": [
    "### **Dropping compilations sorting albums by the top rated**"
   ]
  },
  {
   "cell_type": "markdown",
   "metadata": {},
   "source": [
    "Usually compilations have the best songs of the band and users love them, so let's find them, even if 'Compilation' is not in ``release_type``"
   ]
  },
  {
   "cell_type": "code",
   "execution_count": 43,
   "metadata": {},
   "outputs": [
    {
     "data": {
      "text/html": [
       "<div>\n",
       "<style scoped>\n",
       "    .dataframe tbody tr th:only-of-type {\n",
       "        vertical-align: middle;\n",
       "    }\n",
       "\n",
       "    .dataframe tbody tr th {\n",
       "        vertical-align: top;\n",
       "    }\n",
       "\n",
       "    .dataframe thead th {\n",
       "        text-align: right;\n",
       "    }\n",
       "</style>\n",
       "<table border=\"1\" class=\"dataframe\">\n",
       "  <thead>\n",
       "    <tr style=\"text-align: right;\">\n",
       "      <th></th>\n",
       "      <th>album_id</th>\n",
       "      <th>artist</th>\n",
       "      <th>title</th>\n",
       "      <th>year</th>\n",
       "      <th>rating</th>\n",
       "      <th>votes</th>\n",
       "      <th>album_length</th>\n",
       "      <th>tracks</th>\n",
       "      <th>release_country</th>\n",
       "      <th>release_type</th>\n",
       "      <th>genres</th>\n",
       "      <th>styles</th>\n",
       "      <th>artist_profile</th>\n",
       "      <th>artist_id</th>\n",
       "      <th>master_id</th>\n",
       "      <th>main_release_id</th>\n",
       "    </tr>\n",
       "  </thead>\n",
       "  <tbody>\n",
       "    <tr>\n",
       "      <th>406</th>\n",
       "      <td>1484</td>\n",
       "      <td>Radiohead</td>\n",
       "      <td>OK Computer</td>\n",
       "      <td>1997</td>\n",
       "      <td>4.54</td>\n",
       "      <td>9186</td>\n",
       "      <td>0.00</td>\n",
       "      <td>16</td>\n",
       "      <td>Worldwide</td>\n",
       "      <td>['LP', 'Album']</td>\n",
       "      <td>['Electronic', 'Rock']</td>\n",
       "      <td>['Alternative Rock']</td>\n",
       "      <td>Electronic and alternative rock (modern rock) ...</td>\n",
       "      <td>3840</td>\n",
       "      <td>21491</td>\n",
       "      <td>4950798</td>\n",
       "    </tr>\n",
       "    <tr>\n",
       "      <th>23</th>\n",
       "      <td>130</td>\n",
       "      <td>Pink Floyd</td>\n",
       "      <td>The Dark Side Of The Moon</td>\n",
       "      <td>1973</td>\n",
       "      <td>4.55</td>\n",
       "      <td>8048</td>\n",
       "      <td>0.00</td>\n",
       "      <td>10</td>\n",
       "      <td>UK</td>\n",
       "      <td>['LP', 'Album', 'Stereo']</td>\n",
       "      <td>['Rock']</td>\n",
       "      <td>['Prog Rock', 'Psychedelic Rock']</td>\n",
       "      <td>Pink Floyd was an English rock band from Londo...</td>\n",
       "      <td>45467</td>\n",
       "      <td>10362</td>\n",
       "      <td>1873013</td>\n",
       "    </tr>\n",
       "    <tr>\n",
       "      <th>53</th>\n",
       "      <td>226</td>\n",
       "      <td>Radiohead</td>\n",
       "      <td>Kid A</td>\n",
       "      <td>2000</td>\n",
       "      <td>4.43</td>\n",
       "      <td>7685</td>\n",
       "      <td>46.72</td>\n",
       "      <td>15</td>\n",
       "      <td>UK</td>\n",
       "      <td>['10\"', '33 ⅓ RPM', 'Album', 'Stereo']</td>\n",
       "      <td>['Electronic', 'Rock']</td>\n",
       "      <td>['Alternative Rock', 'IDM', 'Experimental']</td>\n",
       "      <td>Electronic and alternative rock (modern rock) ...</td>\n",
       "      <td>3840</td>\n",
       "      <td>21501</td>\n",
       "      <td>74743</td>\n",
       "    </tr>\n",
       "    <tr>\n",
       "      <th>143</th>\n",
       "      <td>531</td>\n",
       "      <td>Pink Floyd</td>\n",
       "      <td>Wish You Were Here</td>\n",
       "      <td>1975</td>\n",
       "      <td>4.63</td>\n",
       "      <td>7065</td>\n",
       "      <td>0.00</td>\n",
       "      <td>5</td>\n",
       "      <td>UK</td>\n",
       "      <td>['LP', 'Album', 'Stereo']</td>\n",
       "      <td>['Rock']</td>\n",
       "      <td>['Prog Rock']</td>\n",
       "      <td>Pink Floyd was an English rock band from Londo...</td>\n",
       "      <td>45467</td>\n",
       "      <td>11703</td>\n",
       "      <td>16211812</td>\n",
       "    </tr>\n",
       "    <tr>\n",
       "      <th>3630</th>\n",
       "      <td>21735</td>\n",
       "      <td>Radiohead</td>\n",
       "      <td>In Rainbows</td>\n",
       "      <td>2007</td>\n",
       "      <td>4.30</td>\n",
       "      <td>6734</td>\n",
       "      <td>42.63</td>\n",
       "      <td>10</td>\n",
       "      <td>Europe</td>\n",
       "      <td>['LP', 'Album']</td>\n",
       "      <td>['Electronic', 'Rock']</td>\n",
       "      <td>['Alternative Rock', 'Art Rock', 'Experimental...</td>\n",
       "      <td>Electronic and alternative rock (modern rock) ...</td>\n",
       "      <td>3840</td>\n",
       "      <td>21520</td>\n",
       "      <td>1174296</td>\n",
       "    </tr>\n",
       "    <tr>\n",
       "      <th>20</th>\n",
       "      <td>110</td>\n",
       "      <td>Radiohead</td>\n",
       "      <td>The Bends</td>\n",
       "      <td>1995</td>\n",
       "      <td>4.10</td>\n",
       "      <td>6445</td>\n",
       "      <td>48.60</td>\n",
       "      <td>12</td>\n",
       "      <td>UK</td>\n",
       "      <td>['LP', 'Album']</td>\n",
       "      <td>['Rock']</td>\n",
       "      <td>['Alternative Rock']</td>\n",
       "      <td>Electronic and alternative rock (modern rock) ...</td>\n",
       "      <td>3840</td>\n",
       "      <td>17008</td>\n",
       "      <td>5629921</td>\n",
       "    </tr>\n",
       "    <tr>\n",
       "      <th>433</th>\n",
       "      <td>1634</td>\n",
       "      <td>Pink Floyd</td>\n",
       "      <td>The Wall</td>\n",
       "      <td>1979</td>\n",
       "      <td>4.26</td>\n",
       "      <td>5917</td>\n",
       "      <td>80.62</td>\n",
       "      <td>26</td>\n",
       "      <td>UK</td>\n",
       "      <td>['LP', 'Album', 'Stereo']</td>\n",
       "      <td>['Rock']</td>\n",
       "      <td>['Prog Rock', 'Art Rock']</td>\n",
       "      <td>Pink Floyd was an English rock band from Londo...</td>\n",
       "      <td>45467</td>\n",
       "      <td>11329</td>\n",
       "      <td>27371856</td>\n",
       "    </tr>\n",
       "    <tr>\n",
       "      <th>40</th>\n",
       "      <td>185</td>\n",
       "      <td>Pink Floyd</td>\n",
       "      <td>Animals</td>\n",
       "      <td>1977</td>\n",
       "      <td>4.51</td>\n",
       "      <td>5420</td>\n",
       "      <td>41.52</td>\n",
       "      <td>5</td>\n",
       "      <td>UK</td>\n",
       "      <td>['LP', 'Album', 'Stereo']</td>\n",
       "      <td>['Rock']</td>\n",
       "      <td>['Prog Rock']</td>\n",
       "      <td>Pink Floyd was an English rock band from Londo...</td>\n",
       "      <td>45467</td>\n",
       "      <td>10370</td>\n",
       "      <td>391322</td>\n",
       "    </tr>\n",
       "    <tr>\n",
       "      <th>10</th>\n",
       "      <td>67</td>\n",
       "      <td>Black Sabbath</td>\n",
       "      <td>Paranoid</td>\n",
       "      <td>1970</td>\n",
       "      <td>4.52</td>\n",
       "      <td>5144</td>\n",
       "      <td>0.00</td>\n",
       "      <td>8</td>\n",
       "      <td>UK</td>\n",
       "      <td>['LP', 'Album']</td>\n",
       "      <td>['Rock']</td>\n",
       "      <td>['Hard Rock', 'Heavy Metal']</td>\n",
       "      <td>Considered by many to be the first heavy metal...</td>\n",
       "      <td>144998</td>\n",
       "      <td>302</td>\n",
       "      <td>696772</td>\n",
       "    </tr>\n",
       "    <tr>\n",
       "      <th>18</th>\n",
       "      <td>96</td>\n",
       "      <td>Radiohead</td>\n",
       "      <td>Amnesiac</td>\n",
       "      <td>2001</td>\n",
       "      <td>3.91</td>\n",
       "      <td>5058</td>\n",
       "      <td>0.00</td>\n",
       "      <td>11</td>\n",
       "      <td>Europe</td>\n",
       "      <td>['LP', '10\"', 'Album']</td>\n",
       "      <td>['Electronic', 'Rock']</td>\n",
       "      <td>['Alternative Rock', 'Experimental']</td>\n",
       "      <td>Electronic and alternative rock (modern rock) ...</td>\n",
       "      <td>3840</td>\n",
       "      <td>2507</td>\n",
       "      <td>173980</td>\n",
       "    </tr>\n",
       "  </tbody>\n",
       "</table>\n",
       "</div>"
      ],
      "text/plain": [
       "      album_id         artist                      title  year  rating  votes  \\\n",
       "406       1484      Radiohead                OK Computer  1997    4.54   9186   \n",
       "23         130     Pink Floyd  The Dark Side Of The Moon  1973    4.55   8048   \n",
       "53         226      Radiohead                      Kid A  2000    4.43   7685   \n",
       "143        531     Pink Floyd         Wish You Were Here  1975    4.63   7065   \n",
       "3630     21735      Radiohead                In Rainbows  2007    4.30   6734   \n",
       "20         110      Radiohead                  The Bends  1995    4.10   6445   \n",
       "433       1634     Pink Floyd                   The Wall  1979    4.26   5917   \n",
       "40         185     Pink Floyd                    Animals  1977    4.51   5420   \n",
       "10          67  Black Sabbath                   Paranoid  1970    4.52   5144   \n",
       "18          96      Radiohead                   Amnesiac  2001    3.91   5058   \n",
       "\n",
       "      album_length  tracks release_country  \\\n",
       "406           0.00      16       Worldwide   \n",
       "23            0.00      10              UK   \n",
       "53           46.72      15              UK   \n",
       "143           0.00       5              UK   \n",
       "3630         42.63      10          Europe   \n",
       "20           48.60      12              UK   \n",
       "433          80.62      26              UK   \n",
       "40           41.52       5              UK   \n",
       "10            0.00       8              UK   \n",
       "18            0.00      11          Europe   \n",
       "\n",
       "                                release_type                  genres  \\\n",
       "406                          ['LP', 'Album']  ['Electronic', 'Rock']   \n",
       "23                 ['LP', 'Album', 'Stereo']                ['Rock']   \n",
       "53    ['10\"', '33 ⅓ RPM', 'Album', 'Stereo']  ['Electronic', 'Rock']   \n",
       "143                ['LP', 'Album', 'Stereo']                ['Rock']   \n",
       "3630                         ['LP', 'Album']  ['Electronic', 'Rock']   \n",
       "20                           ['LP', 'Album']                ['Rock']   \n",
       "433                ['LP', 'Album', 'Stereo']                ['Rock']   \n",
       "40                 ['LP', 'Album', 'Stereo']                ['Rock']   \n",
       "10                           ['LP', 'Album']                ['Rock']   \n",
       "18                    ['LP', '10\"', 'Album']  ['Electronic', 'Rock']   \n",
       "\n",
       "                                                 styles  \\\n",
       "406                                ['Alternative Rock']   \n",
       "23                    ['Prog Rock', 'Psychedelic Rock']   \n",
       "53          ['Alternative Rock', 'IDM', 'Experimental']   \n",
       "143                                       ['Prog Rock']   \n",
       "3630  ['Alternative Rock', 'Art Rock', 'Experimental...   \n",
       "20                                 ['Alternative Rock']   \n",
       "433                           ['Prog Rock', 'Art Rock']   \n",
       "40                                        ['Prog Rock']   \n",
       "10                         ['Hard Rock', 'Heavy Metal']   \n",
       "18                 ['Alternative Rock', 'Experimental']   \n",
       "\n",
       "                                         artist_profile  artist_id  master_id  \\\n",
       "406   Electronic and alternative rock (modern rock) ...       3840      21491   \n",
       "23    Pink Floyd was an English rock band from Londo...      45467      10362   \n",
       "53    Electronic and alternative rock (modern rock) ...       3840      21501   \n",
       "143   Pink Floyd was an English rock band from Londo...      45467      11703   \n",
       "3630  Electronic and alternative rock (modern rock) ...       3840      21520   \n",
       "20    Electronic and alternative rock (modern rock) ...       3840      17008   \n",
       "433   Pink Floyd was an English rock band from Londo...      45467      11329   \n",
       "40    Pink Floyd was an English rock band from Londo...      45467      10370   \n",
       "10    Considered by many to be the first heavy metal...     144998        302   \n",
       "18    Electronic and alternative rock (modern rock) ...       3840       2507   \n",
       "\n",
       "      main_release_id  \n",
       "406           4950798  \n",
       "23            1873013  \n",
       "53              74743  \n",
       "143          16211812  \n",
       "3630          1174296  \n",
       "20            5629921  \n",
       "433          27371856  \n",
       "40             391322  \n",
       "10             696772  \n",
       "18             173980  "
      ]
     },
     "execution_count": 43,
     "metadata": {},
     "output_type": "execute_result"
    }
   ],
   "source": [
    "start_row = 0\n",
    "\n",
    "df.sort_values(['votes'], ascending=False).iloc[start_row:start_row+10]"
   ]
  },
  {
   "cell_type": "code",
   "execution_count": 325,
   "metadata": {},
   "outputs": [
    {
     "name": "stdout",
     "output_type": "stream",
     "text": [
      "Rows dropped\n",
      "(11739, 16)\n"
     ]
    }
   ],
   "source": [
    "# check one by one if necessary\n",
    "try:\n",
    "    df.drop([9140], axis=0, inplace=True)\n",
    "    print('Rows dropped')\n",
    "    print(df.shape)\n",
    "except:\n",
    "    print(\"Couldn't drop these rows\")\n",
    "    print(df.shape)"
   ]
  },
  {
   "cell_type": "markdown",
   "metadata": {},
   "source": [
    "### **Sort columns**"
   ]
  },
  {
   "cell_type": "code",
   "execution_count": 44,
   "metadata": {},
   "outputs": [],
   "source": [
    "df = columns_hide_ratings(df)"
   ]
  },
  {
   "cell_type": "code",
   "execution_count": 45,
   "metadata": {},
   "outputs": [
    {
     "data": {
      "text/html": [
       "<div>\n",
       "<style scoped>\n",
       "    .dataframe tbody tr th:only-of-type {\n",
       "        vertical-align: middle;\n",
       "    }\n",
       "\n",
       "    .dataframe tbody tr th {\n",
       "        vertical-align: top;\n",
       "    }\n",
       "\n",
       "    .dataframe thead th {\n",
       "        text-align: right;\n",
       "    }\n",
       "</style>\n",
       "<table border=\"1\" class=\"dataframe\">\n",
       "  <thead>\n",
       "    <tr style=\"text-align: right;\">\n",
       "      <th></th>\n",
       "      <th>artist_id</th>\n",
       "      <th>master_id</th>\n",
       "      <th>main_release_id</th>\n",
       "      <th>release_country</th>\n",
       "      <th>artist</th>\n",
       "      <th>title</th>\n",
       "      <th>year</th>\n",
       "      <th>album_length</th>\n",
       "      <th>tracks</th>\n",
       "      <th>release_type</th>\n",
       "      <th>genres</th>\n",
       "      <th>styles</th>\n",
       "      <th>artist_profile</th>\n",
       "    </tr>\n",
       "  </thead>\n",
       "  <tbody>\n",
       "    <tr>\n",
       "      <th>0</th>\n",
       "      <td>253712.0</td>\n",
       "      <td>158153</td>\n",
       "      <td>426893</td>\n",
       "      <td>US</td>\n",
       "      <td>Sparta</td>\n",
       "      <td>Wiretap Scars</td>\n",
       "      <td>2002</td>\n",
       "      <td>47.62</td>\n",
       "      <td>12</td>\n",
       "      <td>['Album']</td>\n",
       "      <td>['Rock']</td>\n",
       "      <td>['Indie Rock', 'Alternative Rock']</td>\n",
       "      <td>El Paso, Texas based band. Formed in 2001 afte...</td>\n",
       "    </tr>\n",
       "  </tbody>\n",
       "</table>\n",
       "</div>"
      ],
      "text/plain": [
       "   artist_id  master_id  main_release_id release_country  artist  \\\n",
       "0   253712.0     158153           426893              US  Sparta   \n",
       "\n",
       "           title  year  album_length  tracks release_type    genres  \\\n",
       "0  Wiretap Scars  2002         47.62      12    ['Album']  ['Rock']   \n",
       "\n",
       "                               styles  \\\n",
       "0  ['Indie Rock', 'Alternative Rock']   \n",
       "\n",
       "                                      artist_profile  \n",
       "0  El Paso, Texas based band. Formed in 2001 afte...  "
      ]
     },
     "execution_count": 45,
     "metadata": {},
     "output_type": "execute_result"
    }
   ],
   "source": [
    "df_masters.head(1)"
   ]
  },
  {
   "cell_type": "code",
   "execution_count": 46,
   "metadata": {},
   "outputs": [
    {
     "data": {
      "text/html": [
       "<div>\n",
       "<style scoped>\n",
       "    .dataframe tbody tr th:only-of-type {\n",
       "        vertical-align: middle;\n",
       "    }\n",
       "\n",
       "    .dataframe tbody tr th {\n",
       "        vertical-align: top;\n",
       "    }\n",
       "\n",
       "    .dataframe thead th {\n",
       "        text-align: right;\n",
       "    }\n",
       "</style>\n",
       "<table border=\"1\" class=\"dataframe\">\n",
       "  <thead>\n",
       "    <tr style=\"text-align: right;\">\n",
       "      <th></th>\n",
       "      <th>artist_id</th>\n",
       "      <th>master_id</th>\n",
       "      <th>main_release_id</th>\n",
       "      <th>release_country</th>\n",
       "      <th>artist</th>\n",
       "      <th>title</th>\n",
       "      <th>year</th>\n",
       "      <th>album_length</th>\n",
       "      <th>tracks</th>\n",
       "      <th>release_type</th>\n",
       "      <th>genres</th>\n",
       "      <th>styles</th>\n",
       "      <th>artist_profile</th>\n",
       "    </tr>\n",
       "  </thead>\n",
       "  <tbody>\n",
       "    <tr>\n",
       "      <th>0</th>\n",
       "      <td>253712</td>\n",
       "      <td>158153</td>\n",
       "      <td>426893</td>\n",
       "      <td>US</td>\n",
       "      <td>Sparta</td>\n",
       "      <td>Wiretap Scars</td>\n",
       "      <td>2002</td>\n",
       "      <td>47.62</td>\n",
       "      <td>12</td>\n",
       "      <td>['Album']</td>\n",
       "      <td>['Rock']</td>\n",
       "      <td>['Indie Rock', 'Alternative Rock']</td>\n",
       "      <td>El Paso, Texas based band. Formed in 2001 afte...</td>\n",
       "    </tr>\n",
       "  </tbody>\n",
       "</table>\n",
       "</div>"
      ],
      "text/plain": [
       "   artist_id  master_id  main_release_id release_country  artist  \\\n",
       "0     253712     158153           426893              US  Sparta   \n",
       "\n",
       "           title  year  album_length  tracks release_type    genres  \\\n",
       "0  Wiretap Scars  2002         47.62      12    ['Album']  ['Rock']   \n",
       "\n",
       "                               styles  \\\n",
       "0  ['Indie Rock', 'Alternative Rock']   \n",
       "\n",
       "                                      artist_profile  \n",
       "0  El Paso, Texas based band. Formed in 2001 afte...  "
      ]
     },
     "execution_count": 46,
     "metadata": {},
     "output_type": "execute_result"
    }
   ],
   "source": [
    "df.head(1)"
   ]
  },
  {
   "cell_type": "code",
   "execution_count": 335,
   "metadata": {},
   "outputs": [],
   "source": [
    "df['artist_id'] = df['artist_id'].astype(int)"
   ]
  },
  {
   "cell_type": "markdown",
   "metadata": {},
   "source": [
    "### **``year = 0``**"
   ]
  },
  {
   "cell_type": "code",
   "execution_count": null,
   "metadata": {},
   "outputs": [
    {
     "data": {
      "text/plain": [
       "(11752, 13)"
      ]
     },
     "execution_count": 2,
     "metadata": {},
     "output_type": "execute_result"
    }
   ],
   "source": [
    "# df = pd.read_csv('Datasets/df_uk_rock_ratings.csv')\n",
    "# df.shape"
   ]
  },
  {
   "cell_type": "code",
   "execution_count": 48,
   "metadata": {},
   "outputs": [
    {
     "data": {
      "text/plain": [
       "(0, 13)"
      ]
     },
     "execution_count": 48,
     "metadata": {},
     "output_type": "execute_result"
    }
   ],
   "source": [
    "df[df['year']==0].shape"
   ]
  },
  {
   "cell_type": "code",
   "execution_count": 49,
   "metadata": {},
   "outputs": [
    {
     "data": {
      "text/html": [
       "<div>\n",
       "<style scoped>\n",
       "    .dataframe tbody tr th:only-of-type {\n",
       "        vertical-align: middle;\n",
       "    }\n",
       "\n",
       "    .dataframe tbody tr th {\n",
       "        vertical-align: top;\n",
       "    }\n",
       "\n",
       "    .dataframe thead th {\n",
       "        text-align: right;\n",
       "    }\n",
       "</style>\n",
       "<table border=\"1\" class=\"dataframe\">\n",
       "  <thead>\n",
       "    <tr style=\"text-align: right;\">\n",
       "      <th></th>\n",
       "      <th>artist_id</th>\n",
       "      <th>master_id</th>\n",
       "      <th>main_release_id</th>\n",
       "      <th>release_country</th>\n",
       "      <th>artist</th>\n",
       "      <th>title</th>\n",
       "      <th>year</th>\n",
       "      <th>album_length</th>\n",
       "      <th>tracks</th>\n",
       "      <th>release_type</th>\n",
       "      <th>genres</th>\n",
       "      <th>styles</th>\n",
       "      <th>artist_profile</th>\n",
       "    </tr>\n",
       "  </thead>\n",
       "  <tbody>\n",
       "  </tbody>\n",
       "</table>\n",
       "</div>"
      ],
      "text/plain": [
       "Empty DataFrame\n",
       "Columns: [artist_id, master_id, main_release_id, release_country, artist, title, year, album_length, tracks, release_type, genres, styles, artist_profile]\n",
       "Index: []"
      ]
     },
     "execution_count": 49,
     "metadata": {},
     "output_type": "execute_result"
    }
   ],
   "source": [
    "df[df['year']==0].head()"
   ]
  },
  {
   "cell_type": "code",
   "execution_count": 67,
   "metadata": {},
   "outputs": [],
   "source": [
    "df.loc[6659, 'year'] = 1971"
   ]
  },
  {
   "cell_type": "code",
   "execution_count": 64,
   "metadata": {},
   "outputs": [
    {
     "name": "stdout",
     "output_type": "stream",
     "text": [
      "Initial artists: 5003\n",
      "Final artists: 5002\n"
     ]
    }
   ],
   "source": [
    "non_uk_artists = ['Evanescence', \"Stake\", \"Embrace\", 'Ultimate Spinach', 'Jeff Buckley', 'Four Year Strong', 'Todd Rundgren', 'Lunatic Soul', 'Throwing Muses', 'The Cramps', 'American Football',\n",
    "                'MD.45', 'Quiet Riot', 'Nine Inch Nails', 'Red House Painters', 'The Bronx', 'Weezer', 'Panchiko', 'Megadeth', 'The Band', 'Enslaved', 'Thin Lizzy', 'The Lucksmiths', 'Opeth',\n",
    "                'Talking Heads', 'Rory Gallagher', 'Pearl Jam', 'My Bloody Valentine', 'The Doors', 'The Beach Boys', 'Metallica', 'Death', 'Bob Dylan', 'Tom Waits', 'Tool', 'Brand New',\n",
    "                'Alice in Chains', 'Rush', 'Willie Nelson', 'Phil Lynott', 'Dead Can Dance', 'Bon Jovi', 'Paul Simon', 'At the Drive-In', 'Deftones', 'System of a Down', 'Green Day', 'Linkin Park',\n",
    "                'Slayer', 'Neutral Milk Hotel', 'The Mars Volta', 'Rage Against the Machine', 'Mastodon', 'Queens of the Stone Age', 'Beach House', 'Turnover', 'A Day To Remember', 'Sahg', 'Rival Sons',\n",
    "                'Minus the Bear', 'The Incredible Bongo Band', 'Jimi Hendrix', 'Framing Hanley', 'Bon Iver', 'Alter Bridge', 'Death From Above 1979', 'The Smashing Pumpkins', 'Arcade Fire',\n",
    "                'Red Hot Chili Peppers', 'Nirvana', 'Between the Buried and Me', 'Something Corporate', 'blink-182', 'Pantera', 'Deafheaven', 'My Chemical Romance', 'Slipknot', 'Soundgarden',\n",
    "                \"Guns N' Roses\", 'Converge', 'Pixies', 'Protest the Hero', 'Poison the Well', 'Death Cab for Cutie', 'Ephel Duath', 'Blind Melon', 'Behemoth', 'Insomnium', 'Ben Harper', 'The Replacements',\n",
    "                'Caribou', 'Samiam', 'Satyricon', 'Sponge', 'Midlake', 'Frank Zappa', 'M. Ward', 'The Brian Jonestown Massacre', 'Cinderella', 'Ulver', 'Further Seems Forever', 'Babylon A.D.',\n",
    "                'Severed Savior', 'Threshold', 'Soul Asylum', 'Red Krayola', 'Art Garfunkel'\n",
    "                    ]\n",
    "\n",
    "print(f\"Initial artists: {df['artist'].nunique()}\")\n",
    "df['artist'] = df['artist'].apply(lambda x: np.nan if x in non_uk_artists else x)\n",
    "df.dropna(subset=['artist'], inplace=True)\n",
    "print(f\"Final artists: {df['artist'].nunique()}\")"
   ]
  },
  {
   "cell_type": "code",
   "execution_count": 28,
   "metadata": {},
   "outputs": [
    {
     "name": "stdout",
     "output_type": "stream",
     "text": [
      "Rows dropped\n",
      "(11682, 13)\n"
     ]
    }
   ],
   "source": [
    "# check one by one if necessary\n",
    "try:\n",
    "    df.drop([1434], axis=0, inplace=True)\n",
    "    print('Rows dropped')\n",
    "    print(df.shape)\n",
    "except:\n",
    "    print(\"Couldn't drop these rows\")\n",
    "    print(df.shape)"
   ]
  },
  {
   "cell_type": "markdown",
   "metadata": {},
   "source": [
    "### **Export to csv**"
   ]
  },
  {
   "cell_type": "code",
   "execution_count": 50,
   "metadata": {},
   "outputs": [],
   "source": [
    "df.to_csv('Datasets/df_uk_rock_ratings.csv', index=False)"
   ]
  },
  {
   "cell_type": "code",
   "execution_count": 251,
   "metadata": {},
   "outputs": [
    {
     "data": {
      "text/plain": [
       "(13480, 13)"
      ]
     },
     "execution_count": 251,
     "metadata": {},
     "output_type": "execute_result"
    }
   ],
   "source": [
    "df_masters_id0 = pd.read_csv('Datasets/df_masters_id0.csv')\n",
    "df_masters_id0.shape"
   ]
  },
  {
   "cell_type": "code",
   "execution_count": 252,
   "metadata": {},
   "outputs": [
    {
     "data": {
      "text/plain": [
       "(4164, 13)"
      ]
     },
     "execution_count": 252,
     "metadata": {},
     "output_type": "execute_result"
    }
   ],
   "source": [
    "df_masters_uk_2015 = pd.read_csv('Datasets/df_masters_uk_2015.csv')\n",
    "df_masters_uk_2015.shape"
   ]
  },
  {
   "cell_type": "code",
   "execution_count": 51,
   "metadata": {},
   "outputs": [
    {
     "data": {
      "text/plain": [
       "<Axes: xlabel='count', ylabel='year'>"
      ]
     },
     "execution_count": 51,
     "metadata": {},
     "output_type": "execute_result"
    },
    {
     "data": {
      "image/png": "[encoded data removed]",
      "text/plain": [
       "<Figure size 900x1200 with 1 Axes>"
      ]
     },
     "metadata": {},
     "output_type": "display_data"
    }
   ],
   "source": [
    "plt.figure(figsize=(9,12))\n",
    "sns.countplot(data=df, y='year')"
   ]
  },
  {
   "cell_type": "code",
   "execution_count": null,
   "metadata": {},
   "outputs": [],
   "source": [
    "df.shape"
   ]
  },
  {
   "cell_type": "code",
   "execution_count": null,
   "metadata": {},
   "outputs": [
    {
     "data": {
      "text/plain": [
       "(9927, 13)"
      ]
     },
     "execution_count": 65,
     "metadata": {},
     "output_type": "execute_result"
    }
   ],
   "source": [
    "df.drop(columns=['album_id', 'rating', 'votes'], inplace=True)\n",
    "df.shape"
   ]
  },
  {
   "cell_type": "code",
   "execution_count": 196,
   "metadata": {},
   "outputs": [],
   "source": [
    "df.to_csv('Datasets/df_masters_ratings_uk.csv', index=False)"
   ]
  },
  {
   "cell_type": "markdown",
   "metadata": {},
   "source": [
    "## Statistics"
   ]
  },
  {
   "cell_type": "code",
   "execution_count": 418,
   "metadata": {},
   "outputs": [
    {
     "ename": "KeyError",
     "evalue": "'votes'",
     "output_type": "error",
     "traceback": [
      "\u001b[1;31m---------------------------------------------------------------------------\u001b[0m",
      "\u001b[1;31mKeyError\u001b[0m                                  Traceback (most recent call last)",
      "File \u001b[1;32mc:\\Users\\Y913836\\AppData\\Local\\anaconda3\\Lib\\site-packages\\pandas\\core\\indexes\\base.py:3805\u001b[0m, in \u001b[0;36mIndex.get_loc\u001b[1;34m(self, key)\u001b[0m\n\u001b[0;32m   3804\u001b[0m \u001b[38;5;28;01mtry\u001b[39;00m:\n\u001b[1;32m-> 3805\u001b[0m     \u001b[38;5;28;01mreturn\u001b[39;00m \u001b[38;5;28mself\u001b[39m\u001b[38;5;241m.\u001b[39m_engine\u001b[38;5;241m.\u001b[39mget_loc(casted_key)\n\u001b[0;32m   3806\u001b[0m \u001b[38;5;28;01mexcept\u001b[39;00m \u001b[38;5;167;01mKeyError\u001b[39;00m \u001b[38;5;28;01mas\u001b[39;00m err:\n",
      "File \u001b[1;32mindex.pyx:167\u001b[0m, in \u001b[0;36mpandas._libs.index.IndexEngine.get_loc\u001b[1;34m()\u001b[0m\n",
      "File \u001b[1;32mindex.pyx:196\u001b[0m, in \u001b[0;36mpandas._libs.index.IndexEngine.get_loc\u001b[1;34m()\u001b[0m\n",
      "File \u001b[1;32mpandas\\\\_libs\\\\hashtable_class_helper.pxi:7081\u001b[0m, in \u001b[0;36mpandas._libs.hashtable.PyObjectHashTable.get_item\u001b[1;34m()\u001b[0m\n",
      "File \u001b[1;32mpandas\\\\_libs\\\\hashtable_class_helper.pxi:7089\u001b[0m, in \u001b[0;36mpandas._libs.hashtable.PyObjectHashTable.get_item\u001b[1;34m()\u001b[0m\n",
      "\u001b[1;31mKeyError\u001b[0m: 'votes'",
      "\nThe above exception was the direct cause of the following exception:\n",
      "\u001b[1;31mKeyError\u001b[0m                                  Traceback (most recent call last)",
      "Cell \u001b[1;32mIn[418], line 2\u001b[0m\n\u001b[0;32m      1\u001b[0m \u001b[38;5;66;03m# average number of votes\u001b[39;00m\n\u001b[1;32m----> 2\u001b[0m np\u001b[38;5;241m.\u001b[39mmean(df[\u001b[38;5;124m'\u001b[39m\u001b[38;5;124mvotes\u001b[39m\u001b[38;5;124m'\u001b[39m])\n",
      "File \u001b[1;32mc:\\Users\\Y913836\\AppData\\Local\\anaconda3\\Lib\\site-packages\\pandas\\core\\frame.py:4102\u001b[0m, in \u001b[0;36mDataFrame.__getitem__\u001b[1;34m(self, key)\u001b[0m\n\u001b[0;32m   4100\u001b[0m \u001b[38;5;28;01mif\u001b[39;00m \u001b[38;5;28mself\u001b[39m\u001b[38;5;241m.\u001b[39mcolumns\u001b[38;5;241m.\u001b[39mnlevels \u001b[38;5;241m>\u001b[39m \u001b[38;5;241m1\u001b[39m:\n\u001b[0;32m   4101\u001b[0m     \u001b[38;5;28;01mreturn\u001b[39;00m \u001b[38;5;28mself\u001b[39m\u001b[38;5;241m.\u001b[39m_getitem_multilevel(key)\n\u001b[1;32m-> 4102\u001b[0m indexer \u001b[38;5;241m=\u001b[39m \u001b[38;5;28mself\u001b[39m\u001b[38;5;241m.\u001b[39mcolumns\u001b[38;5;241m.\u001b[39mget_loc(key)\n\u001b[0;32m   4103\u001b[0m \u001b[38;5;28;01mif\u001b[39;00m is_integer(indexer):\n\u001b[0;32m   4104\u001b[0m     indexer \u001b[38;5;241m=\u001b[39m [indexer]\n",
      "File \u001b[1;32mc:\\Users\\Y913836\\AppData\\Local\\anaconda3\\Lib\\site-packages\\pandas\\core\\indexes\\base.py:3812\u001b[0m, in \u001b[0;36mIndex.get_loc\u001b[1;34m(self, key)\u001b[0m\n\u001b[0;32m   3807\u001b[0m     \u001b[38;5;28;01mif\u001b[39;00m \u001b[38;5;28misinstance\u001b[39m(casted_key, \u001b[38;5;28mslice\u001b[39m) \u001b[38;5;129;01mor\u001b[39;00m (\n\u001b[0;32m   3808\u001b[0m         \u001b[38;5;28misinstance\u001b[39m(casted_key, abc\u001b[38;5;241m.\u001b[39mIterable)\n\u001b[0;32m   3809\u001b[0m         \u001b[38;5;129;01mand\u001b[39;00m \u001b[38;5;28many\u001b[39m(\u001b[38;5;28misinstance\u001b[39m(x, \u001b[38;5;28mslice\u001b[39m) \u001b[38;5;28;01mfor\u001b[39;00m x \u001b[38;5;129;01min\u001b[39;00m casted_key)\n\u001b[0;32m   3810\u001b[0m     ):\n\u001b[0;32m   3811\u001b[0m         \u001b[38;5;28;01mraise\u001b[39;00m InvalidIndexError(key)\n\u001b[1;32m-> 3812\u001b[0m     \u001b[38;5;28;01mraise\u001b[39;00m \u001b[38;5;167;01mKeyError\u001b[39;00m(key) \u001b[38;5;28;01mfrom\u001b[39;00m \u001b[38;5;21;01merr\u001b[39;00m\n\u001b[0;32m   3813\u001b[0m \u001b[38;5;28;01mexcept\u001b[39;00m \u001b[38;5;167;01mTypeError\u001b[39;00m:\n\u001b[0;32m   3814\u001b[0m     \u001b[38;5;66;03m# If we have a listlike key, _check_indexing_error will raise\u001b[39;00m\n\u001b[0;32m   3815\u001b[0m     \u001b[38;5;66;03m#  InvalidIndexError. Otherwise we fall through and re-raise\u001b[39;00m\n\u001b[0;32m   3816\u001b[0m     \u001b[38;5;66;03m#  the TypeError.\u001b[39;00m\n\u001b[0;32m   3817\u001b[0m     \u001b[38;5;28mself\u001b[39m\u001b[38;5;241m.\u001b[39m_check_indexing_error(key)\n",
      "\u001b[1;31mKeyError\u001b[0m: 'votes'"
     ]
    }
   ],
   "source": [
    "# average number of votes\n",
    "np.mean(df['votes'])"
   ]
  },
  {
   "cell_type": "code",
   "execution_count": 417,
   "metadata": {},
   "outputs": [
    {
     "ename": "KeyError",
     "evalue": "'votes'",
     "output_type": "error",
     "traceback": [
      "\u001b[1;31m---------------------------------------------------------------------------\u001b[0m",
      "\u001b[1;31mKeyError\u001b[0m                                  Traceback (most recent call last)",
      "File \u001b[1;32mc:\\Users\\Y913836\\AppData\\Local\\anaconda3\\Lib\\site-packages\\pandas\\core\\indexes\\base.py:3805\u001b[0m, in \u001b[0;36mIndex.get_loc\u001b[1;34m(self, key)\u001b[0m\n\u001b[0;32m   3804\u001b[0m \u001b[38;5;28;01mtry\u001b[39;00m:\n\u001b[1;32m-> 3805\u001b[0m     \u001b[38;5;28;01mreturn\u001b[39;00m \u001b[38;5;28mself\u001b[39m\u001b[38;5;241m.\u001b[39m_engine\u001b[38;5;241m.\u001b[39mget_loc(casted_key)\n\u001b[0;32m   3806\u001b[0m \u001b[38;5;28;01mexcept\u001b[39;00m \u001b[38;5;167;01mKeyError\u001b[39;00m \u001b[38;5;28;01mas\u001b[39;00m err:\n",
      "File \u001b[1;32mindex.pyx:167\u001b[0m, in \u001b[0;36mpandas._libs.index.IndexEngine.get_loc\u001b[1;34m()\u001b[0m\n",
      "File \u001b[1;32mindex.pyx:196\u001b[0m, in \u001b[0;36mpandas._libs.index.IndexEngine.get_loc\u001b[1;34m()\u001b[0m\n",
      "File \u001b[1;32mpandas\\\\_libs\\\\hashtable_class_helper.pxi:7081\u001b[0m, in \u001b[0;36mpandas._libs.hashtable.PyObjectHashTable.get_item\u001b[1;34m()\u001b[0m\n",
      "File \u001b[1;32mpandas\\\\_libs\\\\hashtable_class_helper.pxi:7089\u001b[0m, in \u001b[0;36mpandas._libs.hashtable.PyObjectHashTable.get_item\u001b[1;34m()\u001b[0m\n",
      "\u001b[1;31mKeyError\u001b[0m: 'votes'",
      "\nThe above exception was the direct cause of the following exception:\n",
      "\u001b[1;31mKeyError\u001b[0m                                  Traceback (most recent call last)",
      "Cell \u001b[1;32mIn[417], line 2\u001b[0m\n\u001b[0;32m      1\u001b[0m plt\u001b[38;5;241m.\u001b[39mfigure(figsize\u001b[38;5;241m=\u001b[39m(\u001b[38;5;241m15\u001b[39m,\u001b[38;5;241m5\u001b[39m))\n\u001b[1;32m----> 2\u001b[0m sns\u001b[38;5;241m.\u001b[39mhistplot(data\u001b[38;5;241m=\u001b[39mdf[df[\u001b[38;5;124m'\u001b[39m\u001b[38;5;124mvotes\u001b[39m\u001b[38;5;124m'\u001b[39m]\u001b[38;5;241m>\u001b[39m\u001b[38;5;241m100\u001b[39m], x\u001b[38;5;241m=\u001b[39m\u001b[38;5;124m'\u001b[39m\u001b[38;5;124mrating\u001b[39m\u001b[38;5;124m'\u001b[39m)\n",
      "File \u001b[1;32mc:\\Users\\Y913836\\AppData\\Local\\anaconda3\\Lib\\site-packages\\pandas\\core\\frame.py:4102\u001b[0m, in \u001b[0;36mDataFrame.__getitem__\u001b[1;34m(self, key)\u001b[0m\n\u001b[0;32m   4100\u001b[0m \u001b[38;5;28;01mif\u001b[39;00m \u001b[38;5;28mself\u001b[39m\u001b[38;5;241m.\u001b[39mcolumns\u001b[38;5;241m.\u001b[39mnlevels \u001b[38;5;241m>\u001b[39m \u001b[38;5;241m1\u001b[39m:\n\u001b[0;32m   4101\u001b[0m     \u001b[38;5;28;01mreturn\u001b[39;00m \u001b[38;5;28mself\u001b[39m\u001b[38;5;241m.\u001b[39m_getitem_multilevel(key)\n\u001b[1;32m-> 4102\u001b[0m indexer \u001b[38;5;241m=\u001b[39m \u001b[38;5;28mself\u001b[39m\u001b[38;5;241m.\u001b[39mcolumns\u001b[38;5;241m.\u001b[39mget_loc(key)\n\u001b[0;32m   4103\u001b[0m \u001b[38;5;28;01mif\u001b[39;00m is_integer(indexer):\n\u001b[0;32m   4104\u001b[0m     indexer \u001b[38;5;241m=\u001b[39m [indexer]\n",
      "File \u001b[1;32mc:\\Users\\Y913836\\AppData\\Local\\anaconda3\\Lib\\site-packages\\pandas\\core\\indexes\\base.py:3812\u001b[0m, in \u001b[0;36mIndex.get_loc\u001b[1;34m(self, key)\u001b[0m\n\u001b[0;32m   3807\u001b[0m     \u001b[38;5;28;01mif\u001b[39;00m \u001b[38;5;28misinstance\u001b[39m(casted_key, \u001b[38;5;28mslice\u001b[39m) \u001b[38;5;129;01mor\u001b[39;00m (\n\u001b[0;32m   3808\u001b[0m         \u001b[38;5;28misinstance\u001b[39m(casted_key, abc\u001b[38;5;241m.\u001b[39mIterable)\n\u001b[0;32m   3809\u001b[0m         \u001b[38;5;129;01mand\u001b[39;00m \u001b[38;5;28many\u001b[39m(\u001b[38;5;28misinstance\u001b[39m(x, \u001b[38;5;28mslice\u001b[39m) \u001b[38;5;28;01mfor\u001b[39;00m x \u001b[38;5;129;01min\u001b[39;00m casted_key)\n\u001b[0;32m   3810\u001b[0m     ):\n\u001b[0;32m   3811\u001b[0m         \u001b[38;5;28;01mraise\u001b[39;00m InvalidIndexError(key)\n\u001b[1;32m-> 3812\u001b[0m     \u001b[38;5;28;01mraise\u001b[39;00m \u001b[38;5;167;01mKeyError\u001b[39;00m(key) \u001b[38;5;28;01mfrom\u001b[39;00m \u001b[38;5;21;01merr\u001b[39;00m\n\u001b[0;32m   3813\u001b[0m \u001b[38;5;28;01mexcept\u001b[39;00m \u001b[38;5;167;01mTypeError\u001b[39;00m:\n\u001b[0;32m   3814\u001b[0m     \u001b[38;5;66;03m# If we have a listlike key, _check_indexing_error will raise\u001b[39;00m\n\u001b[0;32m   3815\u001b[0m     \u001b[38;5;66;03m#  InvalidIndexError. Otherwise we fall through and re-raise\u001b[39;00m\n\u001b[0;32m   3816\u001b[0m     \u001b[38;5;66;03m#  the TypeError.\u001b[39;00m\n\u001b[0;32m   3817\u001b[0m     \u001b[38;5;28mself\u001b[39m\u001b[38;5;241m.\u001b[39m_check_indexing_error(key)\n",
      "\u001b[1;31mKeyError\u001b[0m: 'votes'"
     ]
    },
    {
     "data": {
      "text/plain": [
       "<Figure size 1500x500 with 0 Axes>"
      ]
     },
     "metadata": {},
     "output_type": "display_data"
    }
   ],
   "source": [
    "plt.figure(figsize=(15,5))\n",
    "sns.histplot(data=df[df['votes']>100], x='rating')"
   ]
  },
  {
   "cell_type": "code",
   "execution_count": 35,
   "metadata": {},
   "outputs": [
    {
     "data": {
      "text/plain": [
       "<Axes: xlabel='votes', ylabel='Count'>"
      ]
     },
     "execution_count": 35,
     "metadata": {},
     "output_type": "execute_result"
    },
    {
     "data": {
      "image/png": "[encoded data removed]",
      "text/plain": [
       "<Figure size 1500x500 with 1 Axes>"
      ]
     },
     "metadata": {},
     "output_type": "display_data"
    }
   ],
   "source": [
    "plt.figure(figsize=(15,5))\n",
    "sns.histplot(data=df_masters_ratings[df_masters_ratings['votes']>1], x='votes', bins=30)"
   ]
  },
  {
   "cell_type": "code",
   "execution_count": 54,
   "metadata": {},
   "outputs": [
    {
     "data": {
      "text/plain": [
       "<Axes: xlabel='count', ylabel='year'>"
      ]
     },
     "execution_count": 54,
     "metadata": {},
     "output_type": "execute_result"
    },
    {
     "data": {
      "image/png": "[encoded data removed]",
      "text/plain": [
       "<Figure size 900x1200 with 1 Axes>"
      ]
     },
     "metadata": {},
     "output_type": "display_data"
    }
   ],
   "source": [
    "plt.figure(figsize=(9,12))\n",
    "sns.countplot(data=df, y='year')"
   ]
  },
  {
   "cell_type": "code",
   "execution_count": null,
   "metadata": {},
   "outputs": [],
   "source": []
  },
  {
   "cell_type": "markdown",
   "metadata": {},
   "source": [
    "# Merge with prog albums"
   ]
  },
  {
   "cell_type": "code",
   "execution_count": null,
   "metadata": {},
   "outputs": [
    {
     "data": {
      "text/plain": [
       "(3763, 13)"
      ]
     },
     "metadata": {},
     "output_type": "display_data"
    }
   ],
   "source": [
    "df_masters[df_masters['styles'].str.contains('Prog Rock')].shape"
   ]
  },
  {
   "cell_type": "code",
   "execution_count": 65,
   "metadata": {},
   "outputs": [
    {
     "data": {
      "text/plain": [
       "(12589, 4)"
      ]
     },
     "execution_count": 65,
     "metadata": {},
     "output_type": "execute_result"
    }
   ],
   "source": [
    "df_prog_artists = pd.read_csv('Datasets/df_prog_artists.csv')\n",
    "df_prog_artists.shape"
   ]
  },
  {
   "cell_type": "markdown",
   "metadata": {},
   "source": [
    "Since by default ``pd.merge`` is case-sensitive, I will create a temporary column with ``assign`` to merge the dataframes and then drop this temporary column and the one from ``df_prog_artists``, which I don't like because it's in uppercase"
   ]
  },
  {
   "cell_type": "code",
   "execution_count": 32,
   "metadata": {},
   "outputs": [
    {
     "data": {
      "text/html": [
       "<div>\n",
       "<style scoped>\n",
       "    .dataframe tbody tr th:only-of-type {\n",
       "        vertical-align: middle;\n",
       "    }\n",
       "\n",
       "    .dataframe tbody tr th {\n",
       "        vertical-align: top;\n",
       "    }\n",
       "\n",
       "    .dataframe thead th {\n",
       "        text-align: right;\n",
       "    }\n",
       "</style>\n",
       "<table border=\"1\" class=\"dataframe\">\n",
       "  <thead>\n",
       "    <tr style=\"text-align: right;\">\n",
       "      <th></th>\n",
       "      <th>album_id</th>\n",
       "      <th>artist</th>\n",
       "      <th>title</th>\n",
       "      <th>rating</th>\n",
       "      <th>votes</th>\n",
       "      <th>style</th>\n",
       "      <th>country</th>\n",
       "    </tr>\n",
       "  </thead>\n",
       "  <tbody>\n",
       "    <tr>\n",
       "      <th>0</th>\n",
       "      <td>41</td>\n",
       "      <td>Muse</td>\n",
       "      <td>Absolution</td>\n",
       "      <td>3.99</td>\n",
       "      <td>4411</td>\n",
       "      <td>Prog Related</td>\n",
       "      <td>United Kingdom</td>\n",
       "    </tr>\n",
       "    <tr>\n",
       "      <th>1</th>\n",
       "      <td>42</td>\n",
       "      <td>Muse</td>\n",
       "      <td>Showbiz</td>\n",
       "      <td>3.50</td>\n",
       "      <td>2181</td>\n",
       "      <td>Prog Related</td>\n",
       "      <td>United Kingdom</td>\n",
       "    </tr>\n",
       "    <tr>\n",
       "      <th>2</th>\n",
       "      <td>45</td>\n",
       "      <td>Finch</td>\n",
       "      <td>What It Is to Burn</td>\n",
       "      <td>3.69</td>\n",
       "      <td>864</td>\n",
       "      <td>Symphonic Prog</td>\n",
       "      <td>Netherlands</td>\n",
       "    </tr>\n",
       "    <tr>\n",
       "      <th>3</th>\n",
       "      <td>53</td>\n",
       "      <td>Dream Theater</td>\n",
       "      <td>Train of Thought</td>\n",
       "      <td>3.87</td>\n",
       "      <td>2670</td>\n",
       "      <td>Progressive Metal</td>\n",
       "      <td>United States</td>\n",
       "    </tr>\n",
       "    <tr>\n",
       "      <th>4</th>\n",
       "      <td>67</td>\n",
       "      <td>Black Sabbath</td>\n",
       "      <td>Paranoid</td>\n",
       "      <td>4.52</td>\n",
       "      <td>5144</td>\n",
       "      <td>Prog Related</td>\n",
       "      <td>United Kingdom</td>\n",
       "    </tr>\n",
       "    <tr>\n",
       "      <th>...</th>\n",
       "      <td>...</td>\n",
       "      <td>...</td>\n",
       "      <td>...</td>\n",
       "      <td>...</td>\n",
       "      <td>...</td>\n",
       "      <td>...</td>\n",
       "      <td>...</td>\n",
       "    </tr>\n",
       "    <tr>\n",
       "      <th>22142</th>\n",
       "      <td>516781</td>\n",
       "      <td>Buckethead</td>\n",
       "      <td>Castello Dwellers</td>\n",
       "      <td>4.50</td>\n",
       "      <td>1</td>\n",
       "      <td>Prog Related</td>\n",
       "      <td>United States</td>\n",
       "    </tr>\n",
       "    <tr>\n",
       "      <th>22143</th>\n",
       "      <td>516782</td>\n",
       "      <td>Buckethead</td>\n",
       "      <td>Signaling Across Time</td>\n",
       "      <td>4.00</td>\n",
       "      <td>1</td>\n",
       "      <td>Prog Related</td>\n",
       "      <td>United States</td>\n",
       "    </tr>\n",
       "    <tr>\n",
       "      <th>22144</th>\n",
       "      <td>516783</td>\n",
       "      <td>Buckethead</td>\n",
       "      <td>The Mines of Sigismund Fugger</td>\n",
       "      <td>4.00</td>\n",
       "      <td>1</td>\n",
       "      <td>Prog Related</td>\n",
       "      <td>United States</td>\n",
       "    </tr>\n",
       "    <tr>\n",
       "      <th>22145</th>\n",
       "      <td>516817</td>\n",
       "      <td>Jack O' The Clock</td>\n",
       "      <td>Portraits</td>\n",
       "      <td>4.00</td>\n",
       "      <td>1</td>\n",
       "      <td>Prog Folk</td>\n",
       "      <td>United States</td>\n",
       "    </tr>\n",
       "    <tr>\n",
       "      <th>22146</th>\n",
       "      <td>517078</td>\n",
       "      <td>Edge of Sanity</td>\n",
       "      <td>The Spectral Sorrows (Remix 2024)</td>\n",
       "      <td>4.50</td>\n",
       "      <td>1</td>\n",
       "      <td>Tech/Extreme Prog Metal</td>\n",
       "      <td>Sweden</td>\n",
       "    </tr>\n",
       "  </tbody>\n",
       "</table>\n",
       "<p>22147 rows × 7 columns</p>\n",
       "</div>"
      ],
      "text/plain": [
       "       album_id             artist                              title  rating  \\\n",
       "0            41               Muse                         Absolution    3.99   \n",
       "1            42               Muse                            Showbiz    3.50   \n",
       "2            45              Finch                 What It Is to Burn    3.69   \n",
       "3            53      Dream Theater                   Train of Thought    3.87   \n",
       "4            67      Black Sabbath                           Paranoid    4.52   \n",
       "...         ...                ...                                ...     ...   \n",
       "22142    516781         Buckethead                  Castello Dwellers    4.50   \n",
       "22143    516782         Buckethead              Signaling Across Time    4.00   \n",
       "22144    516783         Buckethead      The Mines of Sigismund Fugger    4.00   \n",
       "22145    516817  Jack O' The Clock                          Portraits    4.00   \n",
       "22146    517078     Edge of Sanity  The Spectral Sorrows (Remix 2024)    4.50   \n",
       "\n",
       "       votes                    style         country  \n",
       "0       4411             Prog Related  United Kingdom  \n",
       "1       2181             Prog Related  United Kingdom  \n",
       "2        864           Symphonic Prog     Netherlands  \n",
       "3       2670        Progressive Metal   United States  \n",
       "4       5144             Prog Related  United Kingdom  \n",
       "...      ...                      ...             ...  \n",
       "22142      1             Prog Related   United States  \n",
       "22143      1             Prog Related   United States  \n",
       "22144      1             Prog Related   United States  \n",
       "22145      1                Prog Folk   United States  \n",
       "22146      1  Tech/Extreme Prog Metal          Sweden  \n",
       "\n",
       "[22147 rows x 7 columns]"
      ]
     },
     "execution_count": 32,
     "metadata": {},
     "output_type": "execute_result"
    }
   ],
   "source": [
    "df_prog_ratings = pd.merge(\n",
    "    df_ratings.assign(artist_lower=df_ratings['artist'].str.lower()), \n",
    "    df_prog_artists.assign(artist_lower=df_prog_artists['artist'].str.lower()), \n",
    "    on='artist_lower'\n",
    ").drop(columns=['artist_lower', 'artist_y', 'href'])\n",
    "# drop columns I don't need anymore\n",
    "\n",
    "# rename columns\n",
    "df_prog_ratings.rename(columns={'artist_x': 'artist'}, inplace=True)\n",
    "\n",
    "# show the df\n",
    "df_prog_ratings"
   ]
  },
  {
   "cell_type": "code",
   "execution_count": 66,
   "metadata": {},
   "outputs": [
    {
     "data": {
      "text/html": [
       "<div>\n",
       "<style scoped>\n",
       "    .dataframe tbody tr th:only-of-type {\n",
       "        vertical-align: middle;\n",
       "    }\n",
       "\n",
       "    .dataframe tbody tr th {\n",
       "        vertical-align: top;\n",
       "    }\n",
       "\n",
       "    .dataframe thead th {\n",
       "        text-align: right;\n",
       "    }\n",
       "</style>\n",
       "<table border=\"1\" class=\"dataframe\">\n",
       "  <thead>\n",
       "    <tr style=\"text-align: right;\">\n",
       "      <th></th>\n",
       "      <th>album_id</th>\n",
       "      <th>artist</th>\n",
       "      <th>title</th>\n",
       "      <th>rating</th>\n",
       "      <th>votes</th>\n",
       "      <th>style</th>\n",
       "      <th>country</th>\n",
       "    </tr>\n",
       "  </thead>\n",
       "  <tbody>\n",
       "    <tr>\n",
       "      <th>0</th>\n",
       "      <td>41</td>\n",
       "      <td>Muse</td>\n",
       "      <td>Absolution</td>\n",
       "      <td>3.99</td>\n",
       "      <td>4411</td>\n",
       "      <td>Prog Related</td>\n",
       "      <td>United Kingdom</td>\n",
       "    </tr>\n",
       "    <tr>\n",
       "      <th>1</th>\n",
       "      <td>42</td>\n",
       "      <td>Muse</td>\n",
       "      <td>Showbiz</td>\n",
       "      <td>3.50</td>\n",
       "      <td>2181</td>\n",
       "      <td>Prog Related</td>\n",
       "      <td>United Kingdom</td>\n",
       "    </tr>\n",
       "    <tr>\n",
       "      <th>2</th>\n",
       "      <td>45</td>\n",
       "      <td>Finch</td>\n",
       "      <td>What It Is to Burn</td>\n",
       "      <td>3.69</td>\n",
       "      <td>864</td>\n",
       "      <td>Symphonic Prog</td>\n",
       "      <td>Netherlands</td>\n",
       "    </tr>\n",
       "    <tr>\n",
       "      <th>3</th>\n",
       "      <td>53</td>\n",
       "      <td>Dream Theater</td>\n",
       "      <td>Train of Thought</td>\n",
       "      <td>3.87</td>\n",
       "      <td>2670</td>\n",
       "      <td>Progressive Metal</td>\n",
       "      <td>United States</td>\n",
       "    </tr>\n",
       "    <tr>\n",
       "      <th>4</th>\n",
       "      <td>67</td>\n",
       "      <td>Black Sabbath</td>\n",
       "      <td>Paranoid</td>\n",
       "      <td>4.52</td>\n",
       "      <td>5144</td>\n",
       "      <td>Prog Related</td>\n",
       "      <td>United Kingdom</td>\n",
       "    </tr>\n",
       "    <tr>\n",
       "      <th>...</th>\n",
       "      <td>...</td>\n",
       "      <td>...</td>\n",
       "      <td>...</td>\n",
       "      <td>...</td>\n",
       "      <td>...</td>\n",
       "      <td>...</td>\n",
       "      <td>...</td>\n",
       "    </tr>\n",
       "    <tr>\n",
       "      <th>22026</th>\n",
       "      <td>509781</td>\n",
       "      <td>Vylet Pony</td>\n",
       "      <td>Monarch of Monsters</td>\n",
       "      <td>3.77</td>\n",
       "      <td>13</td>\n",
       "      <td>Eclectic Prog</td>\n",
       "      <td>United States</td>\n",
       "    </tr>\n",
       "    <tr>\n",
       "      <th>22043</th>\n",
       "      <td>510543</td>\n",
       "      <td>Eidola</td>\n",
       "      <td>Mend</td>\n",
       "      <td>2.63</td>\n",
       "      <td>41</td>\n",
       "      <td>Experimental/Post Metal</td>\n",
       "      <td>United States</td>\n",
       "    </tr>\n",
       "    <tr>\n",
       "      <th>22046</th>\n",
       "      <td>510919</td>\n",
       "      <td>Ulver</td>\n",
       "      <td>Liminal Animals</td>\n",
       "      <td>3.26</td>\n",
       "      <td>73</td>\n",
       "      <td>Post Rock/Math rock</td>\n",
       "      <td>Norway</td>\n",
       "    </tr>\n",
       "    <tr>\n",
       "      <th>22137</th>\n",
       "      <td>516387</td>\n",
       "      <td>Obscura</td>\n",
       "      <td>A Sonication</td>\n",
       "      <td>2.75</td>\n",
       "      <td>48</td>\n",
       "      <td>Rock Progressivo Italiano</td>\n",
       "      <td>Italy</td>\n",
       "    </tr>\n",
       "    <tr>\n",
       "      <th>22138</th>\n",
       "      <td>516387</td>\n",
       "      <td>Obscura</td>\n",
       "      <td>A Sonication</td>\n",
       "      <td>2.75</td>\n",
       "      <td>48</td>\n",
       "      <td>Tech/Extreme Prog Metal</td>\n",
       "      <td>Germany</td>\n",
       "    </tr>\n",
       "  </tbody>\n",
       "</table>\n",
       "<p>9312 rows × 7 columns</p>\n",
       "</div>"
      ],
      "text/plain": [
       "       album_id         artist                title  rating  votes  \\\n",
       "0            41           Muse           Absolution    3.99   4411   \n",
       "1            42           Muse              Showbiz    3.50   2181   \n",
       "2            45          Finch   What It Is to Burn    3.69    864   \n",
       "3            53  Dream Theater     Train of Thought    3.87   2670   \n",
       "4            67  Black Sabbath             Paranoid    4.52   5144   \n",
       "...         ...            ...                  ...     ...    ...   \n",
       "22026    509781     Vylet Pony  Monarch of Monsters    3.77     13   \n",
       "22043    510543         Eidola                 Mend    2.63     41   \n",
       "22046    510919          Ulver      Liminal Animals    3.26     73   \n",
       "22137    516387        Obscura         A Sonication    2.75     48   \n",
       "22138    516387        Obscura         A Sonication    2.75     48   \n",
       "\n",
       "                           style         country  \n",
       "0                   Prog Related  United Kingdom  \n",
       "1                   Prog Related  United Kingdom  \n",
       "2                 Symphonic Prog     Netherlands  \n",
       "3              Progressive Metal   United States  \n",
       "4                   Prog Related  United Kingdom  \n",
       "...                          ...             ...  \n",
       "22026              Eclectic Prog   United States  \n",
       "22043    Experimental/Post Metal   United States  \n",
       "22046        Post Rock/Math rock          Norway  \n",
       "22137  Rock Progressivo Italiano           Italy  \n",
       "22138    Tech/Extreme Prog Metal         Germany  \n",
       "\n",
       "[9312 rows x 7 columns]"
      ]
     },
     "execution_count": 66,
     "metadata": {},
     "output_type": "execute_result"
    }
   ],
   "source": [
    "df_prog_ratings[df_prog_ratings['votes']>10]"
   ]
  },
  {
   "cell_type": "code",
   "execution_count": 36,
   "metadata": {},
   "outputs": [
    {
     "data": {
      "text/html": [
       "<div>\n",
       "<style scoped>\n",
       "    .dataframe tbody tr th:only-of-type {\n",
       "        vertical-align: middle;\n",
       "    }\n",
       "\n",
       "    .dataframe tbody tr th {\n",
       "        vertical-align: top;\n",
       "    }\n",
       "\n",
       "    .dataframe thead th {\n",
       "        text-align: right;\n",
       "    }\n",
       "</style>\n",
       "<table border=\"1\" class=\"dataframe\">\n",
       "  <thead>\n",
       "    <tr style=\"text-align: right;\">\n",
       "      <th></th>\n",
       "      <th>album_id</th>\n",
       "      <th>artist</th>\n",
       "      <th>title</th>\n",
       "      <th>rating</th>\n",
       "      <th>votes</th>\n",
       "      <th>style</th>\n",
       "      <th>country</th>\n",
       "      <th>artist_id</th>\n",
       "      <th>master_id</th>\n",
       "      <th>main_release_id</th>\n",
       "      <th>release_country</th>\n",
       "      <th>year</th>\n",
       "      <th>album_length</th>\n",
       "      <th>tracks</th>\n",
       "      <th>release_type</th>\n",
       "      <th>genres</th>\n",
       "      <th>styles</th>\n",
       "      <th>artist_profile</th>\n",
       "    </tr>\n",
       "  </thead>\n",
       "  <tbody>\n",
       "    <tr>\n",
       "      <th>0</th>\n",
       "      <td>41</td>\n",
       "      <td>Muse</td>\n",
       "      <td>Absolution</td>\n",
       "      <td>3.99</td>\n",
       "      <td>4411</td>\n",
       "      <td>Prog Related</td>\n",
       "      <td>United Kingdom</td>\n",
       "      <td>1003</td>\n",
       "      <td>11052</td>\n",
       "      <td>7781939</td>\n",
       "      <td>Europe</td>\n",
       "      <td>2003</td>\n",
       "      <td>52.18</td>\n",
       "      <td>14</td>\n",
       "      <td>['Album', 'Stereo']</td>\n",
       "      <td>['Rock']</td>\n",
       "      <td>['Alternative Rock']</td>\n",
       "      <td>Muse are an English rock band from Teignmouth,...</td>\n",
       "    </tr>\n",
       "    <tr>\n",
       "      <th>1</th>\n",
       "      <td>42</td>\n",
       "      <td>Muse</td>\n",
       "      <td>Showbiz</td>\n",
       "      <td>3.50</td>\n",
       "      <td>2181</td>\n",
       "      <td>Prog Related</td>\n",
       "      <td>United Kingdom</td>\n",
       "      <td>1003</td>\n",
       "      <td>11001</td>\n",
       "      <td>446060</td>\n",
       "      <td>UK</td>\n",
       "      <td>1999</td>\n",
       "      <td>49.65</td>\n",
       "      <td>12</td>\n",
       "      <td>['Album', 'Stereo']</td>\n",
       "      <td>['Rock']</td>\n",
       "      <td>['Alternative Rock', 'Prog Rock']</td>\n",
       "      <td>Muse are an English rock band from Teignmouth,...</td>\n",
       "    </tr>\n",
       "    <tr>\n",
       "      <th>2</th>\n",
       "      <td>67</td>\n",
       "      <td>Black Sabbath</td>\n",
       "      <td>Paranoid</td>\n",
       "      <td>4.52</td>\n",
       "      <td>5144</td>\n",
       "      <td>Prog Related</td>\n",
       "      <td>United Kingdom</td>\n",
       "      <td>144998</td>\n",
       "      <td>302</td>\n",
       "      <td>696772</td>\n",
       "      <td>UK</td>\n",
       "      <td>1970</td>\n",
       "      <td>0.00</td>\n",
       "      <td>8</td>\n",
       "      <td>['LP', 'Album']</td>\n",
       "      <td>['Rock']</td>\n",
       "      <td>['Hard Rock', 'Heavy Metal']</td>\n",
       "      <td>Considered by many to be the first heavy metal...</td>\n",
       "    </tr>\n",
       "    <tr>\n",
       "      <th>3</th>\n",
       "      <td>70</td>\n",
       "      <td>Yes</td>\n",
       "      <td>Relayer</td>\n",
       "      <td>4.19</td>\n",
       "      <td>1114</td>\n",
       "      <td>Symphonic Prog</td>\n",
       "      <td>United Kingdom</td>\n",
       "      <td>50263</td>\n",
       "      <td>35126</td>\n",
       "      <td>4506926</td>\n",
       "      <td>UK</td>\n",
       "      <td>1974</td>\n",
       "      <td>40.47</td>\n",
       "      <td>3</td>\n",
       "      <td>['LP', 'Album', 'Stereo']</td>\n",
       "      <td>['Rock']</td>\n",
       "      <td>['Prog Rock']</td>\n",
       "      <td>Yes are an English rock band who achieved worl...</td>\n",
       "    </tr>\n",
       "    <tr>\n",
       "      <th>4</th>\n",
       "      <td>77</td>\n",
       "      <td>Iron Maiden</td>\n",
       "      <td>Dance Of Death</td>\n",
       "      <td>3.59</td>\n",
       "      <td>2074</td>\n",
       "      <td>Prog Related</td>\n",
       "      <td>United Kingdom</td>\n",
       "      <td>251595</td>\n",
       "      <td>21512</td>\n",
       "      <td>8663555</td>\n",
       "      <td>Europe</td>\n",
       "      <td>2003</td>\n",
       "      <td>67.95</td>\n",
       "      <td>11</td>\n",
       "      <td>['Album']</td>\n",
       "      <td>['Rock']</td>\n",
       "      <td>['Heavy Metal']</td>\n",
       "      <td>English heavy metal band formed in Leyton, Eas...</td>\n",
       "    </tr>\n",
       "    <tr>\n",
       "      <th>...</th>\n",
       "      <td>...</td>\n",
       "      <td>...</td>\n",
       "      <td>...</td>\n",
       "      <td>...</td>\n",
       "      <td>...</td>\n",
       "      <td>...</td>\n",
       "      <td>...</td>\n",
       "      <td>...</td>\n",
       "      <td>...</td>\n",
       "      <td>...</td>\n",
       "      <td>...</td>\n",
       "      <td>...</td>\n",
       "      <td>...</td>\n",
       "      <td>...</td>\n",
       "      <td>...</td>\n",
       "      <td>...</td>\n",
       "      <td>...</td>\n",
       "      <td>...</td>\n",
       "    </tr>\n",
       "    <tr>\n",
       "      <th>1573</th>\n",
       "      <td>502885</td>\n",
       "      <td>Hats Off Gentlemen It's Adequate</td>\n",
       "      <td>Nostalgia For Infinity</td>\n",
       "      <td>3.50</td>\n",
       "      <td>1</td>\n",
       "      <td>Crossover Prog</td>\n",
       "      <td>United Kingdom</td>\n",
       "      <td>6476937</td>\n",
       "      <td>2726864</td>\n",
       "      <td>15871538</td>\n",
       "      <td>UK</td>\n",
       "      <td>2020</td>\n",
       "      <td>47.98</td>\n",
       "      <td>8</td>\n",
       "      <td>['Album', 'Stereo']</td>\n",
       "      <td>['Rock']</td>\n",
       "      <td>['Prog Rock']</td>\n",
       "      <td>NaN</td>\n",
       "    </tr>\n",
       "    <tr>\n",
       "      <th>1574</th>\n",
       "      <td>502886</td>\n",
       "      <td>Hats Off Gentlemen It's Adequate</td>\n",
       "      <td>The Confidence Trick</td>\n",
       "      <td>4.00</td>\n",
       "      <td>1</td>\n",
       "      <td>Crossover Prog</td>\n",
       "      <td>United Kingdom</td>\n",
       "      <td>6476937</td>\n",
       "      <td>2726867</td>\n",
       "      <td>23954783</td>\n",
       "      <td>UK</td>\n",
       "      <td>2022</td>\n",
       "      <td>68.12</td>\n",
       "      <td>13</td>\n",
       "      <td>['Album', 'Stereo']</td>\n",
       "      <td>['Rock']</td>\n",
       "      <td>['Prog Rock']</td>\n",
       "      <td>NaN</td>\n",
       "    </tr>\n",
       "    <tr>\n",
       "      <th>1575</th>\n",
       "      <td>505233</td>\n",
       "      <td>Efterklang</td>\n",
       "      <td>Things We Have In Common</td>\n",
       "      <td>3.50</td>\n",
       "      <td>2</td>\n",
       "      <td>Post Rock/Math rock</td>\n",
       "      <td>Denmark</td>\n",
       "      <td>234846</td>\n",
       "      <td>3612478</td>\n",
       "      <td>31842014</td>\n",
       "      <td>UK, Europe &amp; US</td>\n",
       "      <td>2024</td>\n",
       "      <td>0.00</td>\n",
       "      <td>9</td>\n",
       "      <td>['LP', 'Album']</td>\n",
       "      <td>['Electronic', 'Rock', 'Pop']</td>\n",
       "      <td>['Abstract', 'Indie Rock', 'Folk Rock']</td>\n",
       "      <td>Experimental indie/post-rock/orchestral band f...</td>\n",
       "    </tr>\n",
       "    <tr>\n",
       "      <th>1576</th>\n",
       "      <td>505271</td>\n",
       "      <td>Delta Sleep</td>\n",
       "      <td>Blue Garden</td>\n",
       "      <td>3.24</td>\n",
       "      <td>23</td>\n",
       "      <td>Crossover Prog</td>\n",
       "      <td>United Kingdom</td>\n",
       "      <td>3352599</td>\n",
       "      <td>3633390</td>\n",
       "      <td>32079486</td>\n",
       "      <td>US</td>\n",
       "      <td>2024</td>\n",
       "      <td>42.80</td>\n",
       "      <td>12</td>\n",
       "      <td>['LP', 'Album', 'Limited Edition']</td>\n",
       "      <td>['Rock']</td>\n",
       "      <td>['Math Rock', 'Indie Rock']</td>\n",
       "      <td>Formed in 2008 as 'Sávlön' in Canterbury, UK, ...</td>\n",
       "    </tr>\n",
       "    <tr>\n",
       "      <th>1577</th>\n",
       "      <td>509866</td>\n",
       "      <td>Marillion</td>\n",
       "      <td>Marbles Live</td>\n",
       "      <td>4.00</td>\n",
       "      <td>1</td>\n",
       "      <td>Neo-Prog</td>\n",
       "      <td>United Kingdom</td>\n",
       "      <td>218108</td>\n",
       "      <td>1121282</td>\n",
       "      <td>2286871</td>\n",
       "      <td>UK &amp; Europe</td>\n",
       "      <td>2005</td>\n",
       "      <td>72.07</td>\n",
       "      <td>11</td>\n",
       "      <td>['Album']</td>\n",
       "      <td>['Rock']</td>\n",
       "      <td>['Prog Rock']</td>\n",
       "      <td>Marillion formed in Aylesbury, Buckinghamshire...</td>\n",
       "    </tr>\n",
       "  </tbody>\n",
       "</table>\n",
       "<p>1578 rows × 18 columns</p>\n",
       "</div>"
      ],
      "text/plain": [
       "      album_id                            artist                     title  \\\n",
       "0           41                              Muse                Absolution   \n",
       "1           42                              Muse                   Showbiz   \n",
       "2           67                     Black Sabbath                  Paranoid   \n",
       "3           70                               Yes                   Relayer   \n",
       "4           77                       Iron Maiden            Dance Of Death   \n",
       "...        ...                               ...                       ...   \n",
       "1573    502885  Hats Off Gentlemen It's Adequate    Nostalgia For Infinity   \n",
       "1574    502886  Hats Off Gentlemen It's Adequate      The Confidence Trick   \n",
       "1575    505233                        Efterklang  Things We Have In Common   \n",
       "1576    505271                       Delta Sleep               Blue Garden   \n",
       "1577    509866                         Marillion              Marbles Live   \n",
       "\n",
       "      rating  votes                style         country  artist_id  \\\n",
       "0       3.99   4411         Prog Related  United Kingdom       1003   \n",
       "1       3.50   2181         Prog Related  United Kingdom       1003   \n",
       "2       4.52   5144         Prog Related  United Kingdom     144998   \n",
       "3       4.19   1114       Symphonic Prog  United Kingdom      50263   \n",
       "4       3.59   2074         Prog Related  United Kingdom     251595   \n",
       "...      ...    ...                  ...             ...        ...   \n",
       "1573    3.50      1       Crossover Prog  United Kingdom    6476937   \n",
       "1574    4.00      1       Crossover Prog  United Kingdom    6476937   \n",
       "1575    3.50      2  Post Rock/Math rock         Denmark     234846   \n",
       "1576    3.24     23       Crossover Prog  United Kingdom    3352599   \n",
       "1577    4.00      1             Neo-Prog  United Kingdom     218108   \n",
       "\n",
       "      master_id  main_release_id  release_country  year  album_length  tracks  \\\n",
       "0         11052          7781939           Europe  2003         52.18      14   \n",
       "1         11001           446060               UK  1999         49.65      12   \n",
       "2           302           696772               UK  1970          0.00       8   \n",
       "3         35126          4506926               UK  1974         40.47       3   \n",
       "4         21512          8663555           Europe  2003         67.95      11   \n",
       "...         ...              ...              ...   ...           ...     ...   \n",
       "1573    2726864         15871538               UK  2020         47.98       8   \n",
       "1574    2726867         23954783               UK  2022         68.12      13   \n",
       "1575    3612478         31842014  UK, Europe & US  2024          0.00       9   \n",
       "1576    3633390         32079486               US  2024         42.80      12   \n",
       "1577    1121282          2286871      UK & Europe  2005         72.07      11   \n",
       "\n",
       "                            release_type                         genres  \\\n",
       "0                    ['Album', 'Stereo']                       ['Rock']   \n",
       "1                    ['Album', 'Stereo']                       ['Rock']   \n",
       "2                        ['LP', 'Album']                       ['Rock']   \n",
       "3              ['LP', 'Album', 'Stereo']                       ['Rock']   \n",
       "4                              ['Album']                       ['Rock']   \n",
       "...                                  ...                            ...   \n",
       "1573                 ['Album', 'Stereo']                       ['Rock']   \n",
       "1574                 ['Album', 'Stereo']                       ['Rock']   \n",
       "1575                     ['LP', 'Album']  ['Electronic', 'Rock', 'Pop']   \n",
       "1576  ['LP', 'Album', 'Limited Edition']                       ['Rock']   \n",
       "1577                           ['Album']                       ['Rock']   \n",
       "\n",
       "                                       styles  \\\n",
       "0                        ['Alternative Rock']   \n",
       "1           ['Alternative Rock', 'Prog Rock']   \n",
       "2                ['Hard Rock', 'Heavy Metal']   \n",
       "3                               ['Prog Rock']   \n",
       "4                             ['Heavy Metal']   \n",
       "...                                       ...   \n",
       "1573                            ['Prog Rock']   \n",
       "1574                            ['Prog Rock']   \n",
       "1575  ['Abstract', 'Indie Rock', 'Folk Rock']   \n",
       "1576              ['Math Rock', 'Indie Rock']   \n",
       "1577                            ['Prog Rock']   \n",
       "\n",
       "                                         artist_profile  \n",
       "0     Muse are an English rock band from Teignmouth,...  \n",
       "1     Muse are an English rock band from Teignmouth,...  \n",
       "2     Considered by many to be the first heavy metal...  \n",
       "3     Yes are an English rock band who achieved worl...  \n",
       "4     English heavy metal band formed in Leyton, Eas...  \n",
       "...                                                 ...  \n",
       "1573                                                NaN  \n",
       "1574                                                NaN  \n",
       "1575  Experimental indie/post-rock/orchestral band f...  \n",
       "1576  Formed in 2008 as 'Sávlön' in Canterbury, UK, ...  \n",
       "1577  Marillion formed in Aylesbury, Buckinghamshire...  \n",
       "\n",
       "[1578 rows x 18 columns]"
      ]
     },
     "execution_count": 36,
     "metadata": {},
     "output_type": "execute_result"
    }
   ],
   "source": [
    "df_prog = pd.merge(df_prog_ratings, df_masters, on=['artist', 'title'])\n",
    "df_prog"
   ]
  },
  {
   "cell_type": "code",
   "execution_count": 37,
   "metadata": {},
   "outputs": [
    {
     "data": {
      "text/html": [
       "<div>\n",
       "<style scoped>\n",
       "    .dataframe tbody tr th:only-of-type {\n",
       "        vertical-align: middle;\n",
       "    }\n",
       "\n",
       "    .dataframe tbody tr th {\n",
       "        vertical-align: top;\n",
       "    }\n",
       "\n",
       "    .dataframe thead th {\n",
       "        text-align: right;\n",
       "    }\n",
       "</style>\n",
       "<table border=\"1\" class=\"dataframe\">\n",
       "  <thead>\n",
       "    <tr style=\"text-align: right;\">\n",
       "      <th></th>\n",
       "      <th>album_id</th>\n",
       "      <th>artist</th>\n",
       "      <th>title</th>\n",
       "      <th>rating</th>\n",
       "      <th>votes</th>\n",
       "      <th>style</th>\n",
       "      <th>country</th>\n",
       "      <th>artist_id</th>\n",
       "      <th>master_id</th>\n",
       "      <th>main_release_id</th>\n",
       "      <th>release_country</th>\n",
       "      <th>year</th>\n",
       "      <th>album_length</th>\n",
       "      <th>tracks</th>\n",
       "      <th>release_type</th>\n",
       "      <th>genres</th>\n",
       "      <th>styles</th>\n",
       "      <th>artist_profile</th>\n",
       "    </tr>\n",
       "  </thead>\n",
       "  <tbody>\n",
       "    <tr>\n",
       "      <th>0</th>\n",
       "      <td>41</td>\n",
       "      <td>Muse</td>\n",
       "      <td>Absolution</td>\n",
       "      <td>3.99</td>\n",
       "      <td>4411</td>\n",
       "      <td>Prog Related</td>\n",
       "      <td>United Kingdom</td>\n",
       "      <td>1003</td>\n",
       "      <td>11052</td>\n",
       "      <td>7781939</td>\n",
       "      <td>Europe</td>\n",
       "      <td>2003</td>\n",
       "      <td>52.18</td>\n",
       "      <td>14</td>\n",
       "      <td>['Album', 'Stereo']</td>\n",
       "      <td>['Rock']</td>\n",
       "      <td>['Alternative Rock']</td>\n",
       "      <td>Muse are an English rock band from Teignmouth,...</td>\n",
       "    </tr>\n",
       "    <tr>\n",
       "      <th>1</th>\n",
       "      <td>42</td>\n",
       "      <td>Muse</td>\n",
       "      <td>Showbiz</td>\n",
       "      <td>3.50</td>\n",
       "      <td>2181</td>\n",
       "      <td>Prog Related</td>\n",
       "      <td>United Kingdom</td>\n",
       "      <td>1003</td>\n",
       "      <td>11001</td>\n",
       "      <td>446060</td>\n",
       "      <td>UK</td>\n",
       "      <td>1999</td>\n",
       "      <td>49.65</td>\n",
       "      <td>12</td>\n",
       "      <td>['Album', 'Stereo']</td>\n",
       "      <td>['Rock']</td>\n",
       "      <td>['Alternative Rock', 'Prog Rock']</td>\n",
       "      <td>Muse are an English rock band from Teignmouth,...</td>\n",
       "    </tr>\n",
       "    <tr>\n",
       "      <th>2</th>\n",
       "      <td>67</td>\n",
       "      <td>Black Sabbath</td>\n",
       "      <td>Paranoid</td>\n",
       "      <td>4.52</td>\n",
       "      <td>5144</td>\n",
       "      <td>Prog Related</td>\n",
       "      <td>United Kingdom</td>\n",
       "      <td>144998</td>\n",
       "      <td>302</td>\n",
       "      <td>696772</td>\n",
       "      <td>UK</td>\n",
       "      <td>1970</td>\n",
       "      <td>0.00</td>\n",
       "      <td>8</td>\n",
       "      <td>['LP', 'Album']</td>\n",
       "      <td>['Rock']</td>\n",
       "      <td>['Hard Rock', 'Heavy Metal']</td>\n",
       "      <td>Considered by many to be the first heavy metal...</td>\n",
       "    </tr>\n",
       "    <tr>\n",
       "      <th>3</th>\n",
       "      <td>70</td>\n",
       "      <td>Yes</td>\n",
       "      <td>Relayer</td>\n",
       "      <td>4.19</td>\n",
       "      <td>1114</td>\n",
       "      <td>Symphonic Prog</td>\n",
       "      <td>United Kingdom</td>\n",
       "      <td>50263</td>\n",
       "      <td>35126</td>\n",
       "      <td>4506926</td>\n",
       "      <td>UK</td>\n",
       "      <td>1974</td>\n",
       "      <td>40.47</td>\n",
       "      <td>3</td>\n",
       "      <td>['LP', 'Album', 'Stereo']</td>\n",
       "      <td>['Rock']</td>\n",
       "      <td>['Prog Rock']</td>\n",
       "      <td>Yes are an English rock band who achieved worl...</td>\n",
       "    </tr>\n",
       "    <tr>\n",
       "      <th>4</th>\n",
       "      <td>77</td>\n",
       "      <td>Iron Maiden</td>\n",
       "      <td>Dance Of Death</td>\n",
       "      <td>3.59</td>\n",
       "      <td>2074</td>\n",
       "      <td>Prog Related</td>\n",
       "      <td>United Kingdom</td>\n",
       "      <td>251595</td>\n",
       "      <td>21512</td>\n",
       "      <td>8663555</td>\n",
       "      <td>Europe</td>\n",
       "      <td>2003</td>\n",
       "      <td>67.95</td>\n",
       "      <td>11</td>\n",
       "      <td>['Album']</td>\n",
       "      <td>['Rock']</td>\n",
       "      <td>['Heavy Metal']</td>\n",
       "      <td>English heavy metal band formed in Leyton, Eas...</td>\n",
       "    </tr>\n",
       "    <tr>\n",
       "      <th>...</th>\n",
       "      <td>...</td>\n",
       "      <td>...</td>\n",
       "      <td>...</td>\n",
       "      <td>...</td>\n",
       "      <td>...</td>\n",
       "      <td>...</td>\n",
       "      <td>...</td>\n",
       "      <td>...</td>\n",
       "      <td>...</td>\n",
       "      <td>...</td>\n",
       "      <td>...</td>\n",
       "      <td>...</td>\n",
       "      <td>...</td>\n",
       "      <td>...</td>\n",
       "      <td>...</td>\n",
       "      <td>...</td>\n",
       "      <td>...</td>\n",
       "      <td>...</td>\n",
       "    </tr>\n",
       "    <tr>\n",
       "      <th>1562</th>\n",
       "      <td>484810</td>\n",
       "      <td>Plantoid</td>\n",
       "      <td>Terrapath</td>\n",
       "      <td>3.59</td>\n",
       "      <td>19</td>\n",
       "      <td>Eclectic Prog</td>\n",
       "      <td>United Kingdom</td>\n",
       "      <td>13894711</td>\n",
       "      <td>3384352</td>\n",
       "      <td>29671858</td>\n",
       "      <td>UK</td>\n",
       "      <td>2024</td>\n",
       "      <td>39.25</td>\n",
       "      <td>10</td>\n",
       "      <td>['LP', 'Album', 'Special Edition']</td>\n",
       "      <td>['Jazz', 'Rock']</td>\n",
       "      <td>['Prog Rock', 'Psychedelic Rock']</td>\n",
       "      <td>The band began as the brainchild of Chloe Spen...</td>\n",
       "    </tr>\n",
       "    <tr>\n",
       "      <th>1563</th>\n",
       "      <td>486448</td>\n",
       "      <td>Ihsahn</td>\n",
       "      <td>Ihsahn</td>\n",
       "      <td>3.81</td>\n",
       "      <td>193</td>\n",
       "      <td>Tech/Extreme Prog Metal</td>\n",
       "      <td>Norway</td>\n",
       "      <td>122289</td>\n",
       "      <td>3395569</td>\n",
       "      <td>29815420</td>\n",
       "      <td>NaN</td>\n",
       "      <td>2024</td>\n",
       "      <td>0.00</td>\n",
       "      <td>11</td>\n",
       "      <td>['WAV', 'Album', 'Stereo']</td>\n",
       "      <td>['Rock']</td>\n",
       "      <td>['Progressive Metal', 'Avantgarde']</td>\n",
       "      <td>Composer, singer and multi-instrumentalist fro...</td>\n",
       "    </tr>\n",
       "    <tr>\n",
       "      <th>1566</th>\n",
       "      <td>490484</td>\n",
       "      <td>Dirty Three</td>\n",
       "      <td>Love Changes Everything</td>\n",
       "      <td>3.32</td>\n",
       "      <td>18</td>\n",
       "      <td>Post Rock/Math rock</td>\n",
       "      <td>Australia</td>\n",
       "      <td>65791</td>\n",
       "      <td>3517705</td>\n",
       "      <td>30983092</td>\n",
       "      <td>Australia &amp; New Zealand</td>\n",
       "      <td>2024</td>\n",
       "      <td>41.33</td>\n",
       "      <td>6</td>\n",
       "      <td>['LP', 'Album', 'Stereo']</td>\n",
       "      <td>['Rock']</td>\n",
       "      <td>['Post Rock']</td>\n",
       "      <td>Australian instrumental rock band founded duri...</td>\n",
       "    </tr>\n",
       "    <tr>\n",
       "      <th>1571</th>\n",
       "      <td>495923</td>\n",
       "      <td>Kingcrow</td>\n",
       "      <td>Hopium</td>\n",
       "      <td>3.49</td>\n",
       "      <td>20</td>\n",
       "      <td>Progressive Metal</td>\n",
       "      <td>Italy</td>\n",
       "      <td>1986621</td>\n",
       "      <td>3588815</td>\n",
       "      <td>31565200</td>\n",
       "      <td>UK, Europe &amp; US</td>\n",
       "      <td>2024</td>\n",
       "      <td>53.33</td>\n",
       "      <td>10</td>\n",
       "      <td>['Album']</td>\n",
       "      <td>['Rock']</td>\n",
       "      <td>['Progressive Metal', 'Prog Rock']</td>\n",
       "      <td>Kingcrow are an Italian band born in Anguillar...</td>\n",
       "    </tr>\n",
       "    <tr>\n",
       "      <th>1576</th>\n",
       "      <td>505271</td>\n",
       "      <td>Delta Sleep</td>\n",
       "      <td>Blue Garden</td>\n",
       "      <td>3.24</td>\n",
       "      <td>23</td>\n",
       "      <td>Crossover Prog</td>\n",
       "      <td>United Kingdom</td>\n",
       "      <td>3352599</td>\n",
       "      <td>3633390</td>\n",
       "      <td>32079486</td>\n",
       "      <td>US</td>\n",
       "      <td>2024</td>\n",
       "      <td>42.80</td>\n",
       "      <td>12</td>\n",
       "      <td>['LP', 'Album', 'Limited Edition']</td>\n",
       "      <td>['Rock']</td>\n",
       "      <td>['Math Rock', 'Indie Rock']</td>\n",
       "      <td>Formed in 2008 as 'Sávlön' in Canterbury, UK, ...</td>\n",
       "    </tr>\n",
       "  </tbody>\n",
       "</table>\n",
       "<p>1082 rows × 18 columns</p>\n",
       "</div>"
      ],
      "text/plain": [
       "      album_id         artist                    title  rating  votes  \\\n",
       "0           41           Muse               Absolution    3.99   4411   \n",
       "1           42           Muse                  Showbiz    3.50   2181   \n",
       "2           67  Black Sabbath                 Paranoid    4.52   5144   \n",
       "3           70            Yes                  Relayer    4.19   1114   \n",
       "4           77    Iron Maiden           Dance Of Death    3.59   2074   \n",
       "...        ...            ...                      ...     ...    ...   \n",
       "1562    484810       Plantoid                Terrapath    3.59     19   \n",
       "1563    486448         Ihsahn                   Ihsahn    3.81    193   \n",
       "1566    490484    Dirty Three  Love Changes Everything    3.32     18   \n",
       "1571    495923       Kingcrow                   Hopium    3.49     20   \n",
       "1576    505271    Delta Sleep              Blue Garden    3.24     23   \n",
       "\n",
       "                        style         country  artist_id  master_id  \\\n",
       "0                Prog Related  United Kingdom       1003      11052   \n",
       "1                Prog Related  United Kingdom       1003      11001   \n",
       "2                Prog Related  United Kingdom     144998        302   \n",
       "3              Symphonic Prog  United Kingdom      50263      35126   \n",
       "4                Prog Related  United Kingdom     251595      21512   \n",
       "...                       ...             ...        ...        ...   \n",
       "1562            Eclectic Prog  United Kingdom   13894711    3384352   \n",
       "1563  Tech/Extreme Prog Metal          Norway     122289    3395569   \n",
       "1566      Post Rock/Math rock       Australia      65791    3517705   \n",
       "1571        Progressive Metal           Italy    1986621    3588815   \n",
       "1576           Crossover Prog  United Kingdom    3352599    3633390   \n",
       "\n",
       "      main_release_id          release_country  year  album_length  tracks  \\\n",
       "0             7781939                   Europe  2003         52.18      14   \n",
       "1              446060                       UK  1999         49.65      12   \n",
       "2              696772                       UK  1970          0.00       8   \n",
       "3             4506926                       UK  1974         40.47       3   \n",
       "4             8663555                   Europe  2003         67.95      11   \n",
       "...               ...                      ...   ...           ...     ...   \n",
       "1562         29671858                       UK  2024         39.25      10   \n",
       "1563         29815420                      NaN  2024          0.00      11   \n",
       "1566         30983092  Australia & New Zealand  2024         41.33       6   \n",
       "1571         31565200          UK, Europe & US  2024         53.33      10   \n",
       "1576         32079486                       US  2024         42.80      12   \n",
       "\n",
       "                            release_type            genres  \\\n",
       "0                    ['Album', 'Stereo']          ['Rock']   \n",
       "1                    ['Album', 'Stereo']          ['Rock']   \n",
       "2                        ['LP', 'Album']          ['Rock']   \n",
       "3              ['LP', 'Album', 'Stereo']          ['Rock']   \n",
       "4                              ['Album']          ['Rock']   \n",
       "...                                  ...               ...   \n",
       "1562  ['LP', 'Album', 'Special Edition']  ['Jazz', 'Rock']   \n",
       "1563          ['WAV', 'Album', 'Stereo']          ['Rock']   \n",
       "1566           ['LP', 'Album', 'Stereo']          ['Rock']   \n",
       "1571                           ['Album']          ['Rock']   \n",
       "1576  ['LP', 'Album', 'Limited Edition']          ['Rock']   \n",
       "\n",
       "                                   styles  \\\n",
       "0                    ['Alternative Rock']   \n",
       "1       ['Alternative Rock', 'Prog Rock']   \n",
       "2            ['Hard Rock', 'Heavy Metal']   \n",
       "3                           ['Prog Rock']   \n",
       "4                         ['Heavy Metal']   \n",
       "...                                   ...   \n",
       "1562    ['Prog Rock', 'Psychedelic Rock']   \n",
       "1563  ['Progressive Metal', 'Avantgarde']   \n",
       "1566                        ['Post Rock']   \n",
       "1571   ['Progressive Metal', 'Prog Rock']   \n",
       "1576          ['Math Rock', 'Indie Rock']   \n",
       "\n",
       "                                         artist_profile  \n",
       "0     Muse are an English rock band from Teignmouth,...  \n",
       "1     Muse are an English rock band from Teignmouth,...  \n",
       "2     Considered by many to be the first heavy metal...  \n",
       "3     Yes are an English rock band who achieved worl...  \n",
       "4     English heavy metal band formed in Leyton, Eas...  \n",
       "...                                                 ...  \n",
       "1562  The band began as the brainchild of Chloe Spen...  \n",
       "1563  Composer, singer and multi-instrumentalist fro...  \n",
       "1566  Australian instrumental rock band founded duri...  \n",
       "1571  Kingcrow are an Italian band born in Anguillar...  \n",
       "1576  Formed in 2008 as 'Sávlön' in Canterbury, UK, ...  \n",
       "\n",
       "[1082 rows x 18 columns]"
      ]
     },
     "execution_count": 37,
     "metadata": {},
     "output_type": "execute_result"
    }
   ],
   "source": [
    "df_prog[df_prog['votes']>10]"
   ]
  },
  {
   "cell_type": "code",
   "execution_count": 38,
   "metadata": {},
   "outputs": [
    {
     "data": {
      "text/plain": [
       "351"
      ]
     },
     "execution_count": 38,
     "metadata": {},
     "output_type": "execute_result"
    }
   ],
   "source": [
    "df_prog[df_prog['votes']>10].artist.nunique()"
   ]
  },
  {
   "cell_type": "markdown",
   "metadata": {},
   "source": [
    "# Concat with the previous ``df_master_id_0``"
   ]
  },
  {
   "cell_type": "code",
   "execution_count": 7,
   "metadata": {},
   "outputs": [
    {
     "data": {
      "text/plain": [
       "(850, 13)"
      ]
     },
     "execution_count": 7,
     "metadata": {},
     "output_type": "execute_result"
    }
   ],
   "source": [
    "df_masters_id0_2003 = pd.read_csv('Datasets/df_masters_id0_2003.csv')\n",
    "df_masters_id0_2003.shape"
   ]
  },
  {
   "cell_type": "code",
   "execution_count": 15,
   "metadata": {},
   "outputs": [
    {
     "data": {
      "text/plain": [
       "year\n",
       "2003    850\n",
       "Name: count, dtype: int64"
      ]
     },
     "execution_count": 15,
     "metadata": {},
     "output_type": "execute_result"
    }
   ],
   "source": [
    "df_masters_id0_2003.year.value_counts()"
   ]
  },
  {
   "cell_type": "code",
   "execution_count": 4,
   "metadata": {},
   "outputs": [
    {
     "data": {
      "text/plain": [
       "(844, 13)"
      ]
     },
     "execution_count": 4,
     "metadata": {},
     "output_type": "execute_result"
    }
   ],
   "source": [
    "df_masters_id0 = pd.read_csv('Datasets/df_masters_id0.csv')\n",
    "df_masters_id0.shape"
   ]
  },
  {
   "cell_type": "code",
   "execution_count": 5,
   "metadata": {},
   "outputs": [
    {
     "data": {
      "text/plain": [
       "year\n",
       "2004    791\n",
       "2024     21\n",
       "2002     12\n",
       "2000      9\n",
       "2003      7\n",
       "2001      4\n",
       "Name: count, dtype: int64"
      ]
     },
     "execution_count": 5,
     "metadata": {},
     "output_type": "execute_result"
    }
   ],
   "source": [
    "df_masters_id0.year.value_counts()"
   ]
  },
  {
   "cell_type": "code",
   "execution_count": 18,
   "metadata": {},
   "outputs": [
    {
     "data": {
      "text/plain": [
       "(2329, 13)"
      ]
     },
     "execution_count": 18,
     "metadata": {},
     "output_type": "execute_result"
    }
   ],
   "source": [
    "df_masters_id0_concat = pd.concat([df_masters_id0_2001, df_masters_id0_2002, df_masters_id0_2003])\n",
    "df_masters_id0_concat.shape"
   ]
  },
  {
   "cell_type": "code",
   "execution_count": 19,
   "metadata": {},
   "outputs": [
    {
     "data": {
      "text/plain": [
       "year\n",
       "2003    850\n",
       "2002    778\n",
       "2001    701\n",
       "Name: count, dtype: int64"
      ]
     },
     "execution_count": 19,
     "metadata": {},
     "output_type": "execute_result"
    }
   ],
   "source": [
    "df_masters_id0_concat.year.value_counts()"
   ]
  },
  {
   "cell_type": "code",
   "execution_count": null,
   "metadata": {},
   "outputs": [],
   "source": []
  },
  {
   "cell_type": "markdown",
   "metadata": {},
   "source": [
    "# ``df_id0_ratings`` cleaning"
   ]
  },
  {
   "cell_type": "markdown",
   "metadata": {},
   "source": [
    "## Dropping duplicated albums"
   ]
  },
  {
   "cell_type": "code",
   "execution_count": 29,
   "metadata": {},
   "outputs": [
    {
     "data": {
      "text/plain": [
       "2"
      ]
     },
     "execution_count": 29,
     "metadata": {},
     "output_type": "execute_result"
    }
   ],
   "source": [
    "# check if there are duplicates\n",
    "df_id0_ratings.duplicated().sum()"
   ]
  },
  {
   "cell_type": "code",
   "execution_count": 30,
   "metadata": {},
   "outputs": [
    {
     "data": {
      "text/plain": [
       "26"
      ]
     },
     "execution_count": 30,
     "metadata": {},
     "output_type": "execute_result"
    }
   ],
   "source": [
    "# drop duplicates\n",
    "df_id0_ratings.drop_duplicates(subset=['artist', 'title'], inplace=True)\n",
    "df_id0_ratings.shape[0]"
   ]
  },
  {
   "cell_type": "markdown",
   "metadata": {},
   "source": [
    "**Dropping live albums, compilations...**"
   ]
  },
  {
   "cell_type": "code",
   "execution_count": 31,
   "metadata": {},
   "outputs": [
    {
     "data": {
      "text/plain": [
       "26"
      ]
     },
     "execution_count": 31,
     "metadata": {},
     "output_type": "execute_result"
    }
   ],
   "source": [
    "# drop compilations\n",
    "df_id0_ratings = df_id0_ratings[~df_id0_ratings['release_type'].str.contains('Compilation')]\n",
    "df_id0_ratings.shape[0]"
   ]
  },
  {
   "cell_type": "code",
   "execution_count": 34,
   "metadata": {},
   "outputs": [
    {
     "data": {
      "text/html": [
       "<div>\n",
       "<style scoped>\n",
       "    .dataframe tbody tr th:only-of-type {\n",
       "        vertical-align: middle;\n",
       "    }\n",
       "\n",
       "    .dataframe tbody tr th {\n",
       "        vertical-align: top;\n",
       "    }\n",
       "\n",
       "    .dataframe thead th {\n",
       "        text-align: right;\n",
       "    }\n",
       "</style>\n",
       "<table border=\"1\" class=\"dataframe\">\n",
       "  <thead>\n",
       "    <tr style=\"text-align: right;\">\n",
       "      <th></th>\n",
       "      <th>album_id</th>\n",
       "      <th>artist</th>\n",
       "      <th>title</th>\n",
       "      <th>rating</th>\n",
       "      <th>votes</th>\n",
       "      <th>artist_id</th>\n",
       "      <th>master_id</th>\n",
       "      <th>main_release_id</th>\n",
       "      <th>release_country</th>\n",
       "      <th>year</th>\n",
       "      <th>album_length</th>\n",
       "      <th>tracks</th>\n",
       "      <th>release_type</th>\n",
       "      <th>genres</th>\n",
       "      <th>styles</th>\n",
       "      <th>artist_profile</th>\n",
       "    </tr>\n",
       "  </thead>\n",
       "  <tbody>\n",
       "    <tr>\n",
       "      <th>10</th>\n",
       "      <td>1758</td>\n",
       "      <td>Counting Crows</td>\n",
       "      <td>Hard Candy</td>\n",
       "      <td>3.35</td>\n",
       "      <td>138</td>\n",
       "      <td>262643.0</td>\n",
       "      <td>NaN</td>\n",
       "      <td>30989143</td>\n",
       "      <td>UK</td>\n",
       "      <td>2002</td>\n",
       "      <td>0.00</td>\n",
       "      <td>15</td>\n",
       "      <td>['Album', 'Unofficial Release']</td>\n",
       "      <td>['Rock']</td>\n",
       "      <td>['Southern Rock', 'Alternative Rock']</td>\n",
       "      <td>Counting Crows is an American rock band from B...</td>\n",
       "    </tr>\n",
       "    <tr>\n",
       "      <th>44</th>\n",
       "      <td>123688</td>\n",
       "      <td>The Little Explorer</td>\n",
       "      <td>The Little Explorer</td>\n",
       "      <td>3.80</td>\n",
       "      <td>27</td>\n",
       "      <td>1100295.0</td>\n",
       "      <td>NaN</td>\n",
       "      <td>2747168</td>\n",
       "      <td>UK</td>\n",
       "      <td>2003</td>\n",
       "      <td>0.00</td>\n",
       "      <td>8</td>\n",
       "      <td>['Album']</td>\n",
       "      <td>['Rock']</td>\n",
       "      <td>['Emo']</td>\n",
       "      <td>NaN</td>\n",
       "    </tr>\n",
       "    <tr>\n",
       "      <th>38</th>\n",
       "      <td>79784</td>\n",
       "      <td>Tygers Of Pan Tang</td>\n",
       "      <td>Mystical</td>\n",
       "      <td>2.30</td>\n",
       "      <td>10</td>\n",
       "      <td>407694.0</td>\n",
       "      <td>NaN</td>\n",
       "      <td>4632749</td>\n",
       "      <td>UK</td>\n",
       "      <td>2001</td>\n",
       "      <td>49.37</td>\n",
       "      <td>11</td>\n",
       "      <td>['Album']</td>\n",
       "      <td>['Rock']</td>\n",
       "      <td>['Heavy Metal', 'Hard Rock']</td>\n",
       "      <td>British Heavy Metal band from Whitley Bay form...</td>\n",
       "    </tr>\n",
       "    <tr>\n",
       "      <th>12</th>\n",
       "      <td>6347</td>\n",
       "      <td>Howards Alias</td>\n",
       "      <td>The Chameleon Script</td>\n",
       "      <td>4.11</td>\n",
       "      <td>9</td>\n",
       "      <td>918301.0</td>\n",
       "      <td>NaN</td>\n",
       "      <td>1393346</td>\n",
       "      <td>UK</td>\n",
       "      <td>2002</td>\n",
       "      <td>37.03</td>\n",
       "      <td>11</td>\n",
       "      <td>['Album']</td>\n",
       "      <td>['Rock']</td>\n",
       "      <td>['Ska', 'Punk', 'Indie Rock']</td>\n",
       "      <td>Band in the modern UK underground punk scene, ...</td>\n",
       "    </tr>\n",
       "    <tr>\n",
       "      <th>17</th>\n",
       "      <td>17416</td>\n",
       "      <td>The String Cheese Incident</td>\n",
       "      <td>Untying The Not</td>\n",
       "      <td>3.43</td>\n",
       "      <td>7</td>\n",
       "      <td>246185.0</td>\n",
       "      <td>NaN</td>\n",
       "      <td>32414148</td>\n",
       "      <td>UK &amp; Europe</td>\n",
       "      <td>2003</td>\n",
       "      <td>54.35</td>\n",
       "      <td>13</td>\n",
       "      <td>['Album']</td>\n",
       "      <td>['Jazz', 'Rock', 'Folk, World, &amp; Country']</td>\n",
       "      <td>['Bluegrass', 'Alternative Rock', 'Jazz-Rock',...</td>\n",
       "      <td>The String Cheese Incident (SCI) is an America...</td>\n",
       "    </tr>\n",
       "    <tr>\n",
       "      <th>28</th>\n",
       "      <td>34630</td>\n",
       "      <td>Darkflight</td>\n",
       "      <td>Under The Shadow Of Fear</td>\n",
       "      <td>3.17</td>\n",
       "      <td>6</td>\n",
       "      <td>334729.0</td>\n",
       "      <td>NaN</td>\n",
       "      <td>1301861</td>\n",
       "      <td>UK</td>\n",
       "      <td>2003</td>\n",
       "      <td>40.35</td>\n",
       "      <td>8</td>\n",
       "      <td>['Album']</td>\n",
       "      <td>['Rock']</td>\n",
       "      <td>['Black Metal', 'Doom Metal']</td>\n",
       "      <td>Atmospheric black/doom metal duo from Varna, B...</td>\n",
       "    </tr>\n",
       "    <tr>\n",
       "      <th>34</th>\n",
       "      <td>61038</td>\n",
       "      <td>Sputniks Down</td>\n",
       "      <td>Much Was Decided Before You Were Born</td>\n",
       "      <td>2.08</td>\n",
       "      <td>6</td>\n",
       "      <td>43018.0</td>\n",
       "      <td>NaN</td>\n",
       "      <td>594879</td>\n",
       "      <td>UK</td>\n",
       "      <td>2001</td>\n",
       "      <td>47.18</td>\n",
       "      <td>7</td>\n",
       "      <td>['Album']</td>\n",
       "      <td>['Electronic', 'Rock']</td>\n",
       "      <td>['Post Rock']</td>\n",
       "      <td>Sputniks Down were a Scottish band, made up of...</td>\n",
       "    </tr>\n",
       "    <tr>\n",
       "      <th>8</th>\n",
       "      <td>1651</td>\n",
       "      <td>Miocene</td>\n",
       "      <td>Cellular Memory</td>\n",
       "      <td>3.75</td>\n",
       "      <td>6</td>\n",
       "      <td>958779.0</td>\n",
       "      <td>NaN</td>\n",
       "      <td>1809183</td>\n",
       "      <td>UK</td>\n",
       "      <td>2002</td>\n",
       "      <td>40.60</td>\n",
       "      <td>6</td>\n",
       "      <td>['Album']</td>\n",
       "      <td>['Rock']</td>\n",
       "      <td>[]</td>\n",
       "      <td>Forming in 1998, but consolidating their line-...</td>\n",
       "    </tr>\n",
       "    <tr>\n",
       "      <th>52</th>\n",
       "      <td>188309</td>\n",
       "      <td>Karnataka</td>\n",
       "      <td>Delicate Flame Of Desire</td>\n",
       "      <td>3.80</td>\n",
       "      <td>5</td>\n",
       "      <td>1420825.0</td>\n",
       "      <td>NaN</td>\n",
       "      <td>1726424</td>\n",
       "      <td>UK</td>\n",
       "      <td>2003</td>\n",
       "      <td>61.50</td>\n",
       "      <td>9</td>\n",
       "      <td>['Album']</td>\n",
       "      <td>['Rock']</td>\n",
       "      <td>['Folk Rock', 'Prog Rock']</td>\n",
       "      <td>Progressive Rock band from Swansea, Wales, UK</td>\n",
       "    </tr>\n",
       "    <tr>\n",
       "      <th>35</th>\n",
       "      <td>61942</td>\n",
       "      <td>Fallen To</td>\n",
       "      <td>The Mark</td>\n",
       "      <td>2.67</td>\n",
       "      <td>3</td>\n",
       "      <td>1198317.0</td>\n",
       "      <td>NaN</td>\n",
       "      <td>3005917</td>\n",
       "      <td>UK</td>\n",
       "      <td>2002</td>\n",
       "      <td>43.80</td>\n",
       "      <td>11</td>\n",
       "      <td>['Album']</td>\n",
       "      <td>['Rock']</td>\n",
       "      <td>['Nu Metal']</td>\n",
       "      <td>NaN</td>\n",
       "    </tr>\n",
       "    <tr>\n",
       "      <th>43</th>\n",
       "      <td>116606</td>\n",
       "      <td>Ironsword</td>\n",
       "      <td>Ironsword</td>\n",
       "      <td>3.50</td>\n",
       "      <td>3</td>\n",
       "      <td>1523142.0</td>\n",
       "      <td>NaN</td>\n",
       "      <td>1866645</td>\n",
       "      <td>UK</td>\n",
       "      <td>2002</td>\n",
       "      <td>0.00</td>\n",
       "      <td>11</td>\n",
       "      <td>['Album']</td>\n",
       "      <td>['Rock']</td>\n",
       "      <td>['Heavy Metal']</td>\n",
       "      <td>Epic heavy metal band from Portugal.</td>\n",
       "    </tr>\n",
       "    <tr>\n",
       "      <th>47</th>\n",
       "      <td>135560</td>\n",
       "      <td>Man</td>\n",
       "      <td>Undrugged</td>\n",
       "      <td>3.25</td>\n",
       "      <td>2</td>\n",
       "      <td>86936.0</td>\n",
       "      <td>NaN</td>\n",
       "      <td>4183562</td>\n",
       "      <td>UK</td>\n",
       "      <td>2002</td>\n",
       "      <td>49.07</td>\n",
       "      <td>11</td>\n",
       "      <td>['Album']</td>\n",
       "      <td>['Rock']</td>\n",
       "      <td>['Acoustic', 'Blues Rock', 'Psychedelic Rock']</td>\n",
       "      <td>Welsh band founded in 1968, broke up at the en...</td>\n",
       "    </tr>\n",
       "    <tr>\n",
       "      <th>40</th>\n",
       "      <td>95961</td>\n",
       "      <td>Crosstide</td>\n",
       "      <td>Seventeen Nautical Miles</td>\n",
       "      <td>3.25</td>\n",
       "      <td>2</td>\n",
       "      <td>1098067.0</td>\n",
       "      <td>NaN</td>\n",
       "      <td>9778795</td>\n",
       "      <td>UK</td>\n",
       "      <td>2002</td>\n",
       "      <td>0.00</td>\n",
       "      <td>10</td>\n",
       "      <td>['Album', 'Stereo']</td>\n",
       "      <td>['Rock']</td>\n",
       "      <td>['Indie Rock', 'Emo']</td>\n",
       "      <td>A band from Milwaukie, Oregon.</td>\n",
       "    </tr>\n",
       "    <tr>\n",
       "      <th>53</th>\n",
       "      <td>191072</td>\n",
       "      <td>Backworld</td>\n",
       "      <td>Of Silver Sleep</td>\n",
       "      <td>4.00</td>\n",
       "      <td>2</td>\n",
       "      <td>106943.0</td>\n",
       "      <td>NaN</td>\n",
       "      <td>404964</td>\n",
       "      <td>UK</td>\n",
       "      <td>2001</td>\n",
       "      <td>45.12</td>\n",
       "      <td>11</td>\n",
       "      <td>['Album']</td>\n",
       "      <td>['Rock']</td>\n",
       "      <td>['Folk Rock', 'Neofolk']</td>\n",
       "      <td>Folk/Psychedelic project of American singer an...</td>\n",
       "    </tr>\n",
       "    <tr>\n",
       "      <th>54</th>\n",
       "      <td>195028</td>\n",
       "      <td>Jon Gomm</td>\n",
       "      <td>Hypertension</td>\n",
       "      <td>4.25</td>\n",
       "      <td>2</td>\n",
       "      <td>1216628.0</td>\n",
       "      <td>NaN</td>\n",
       "      <td>3642829</td>\n",
       "      <td>UK</td>\n",
       "      <td>2003</td>\n",
       "      <td>57.47</td>\n",
       "      <td>11</td>\n",
       "      <td>['Album']</td>\n",
       "      <td>['Rock', 'Pop']</td>\n",
       "      <td>['Acoustic']</td>\n",
       "      <td>Jon Gomm is an acoustic singer-songwriter with...</td>\n",
       "    </tr>\n",
       "    <tr>\n",
       "      <th>62</th>\n",
       "      <td>422507</td>\n",
       "      <td>Colin Vearncombe</td>\n",
       "      <td>Smoke Up Close</td>\n",
       "      <td>3.50</td>\n",
       "      <td>1</td>\n",
       "      <td>335255.0</td>\n",
       "      <td>NaN</td>\n",
       "      <td>1237688</td>\n",
       "      <td>UK</td>\n",
       "      <td>2002</td>\n",
       "      <td>129.58</td>\n",
       "      <td>30</td>\n",
       "      <td>['Album']</td>\n",
       "      <td>['Rock']</td>\n",
       "      <td>['Acoustic']</td>\n",
       "      <td>English musician and singer-songwriter, born 2...</td>\n",
       "    </tr>\n",
       "    <tr>\n",
       "      <th>23</th>\n",
       "      <td>29578</td>\n",
       "      <td>Arkam Asylum</td>\n",
       "      <td>Running With Scissors</td>\n",
       "      <td>4.00</td>\n",
       "      <td>1</td>\n",
       "      <td>224851.0</td>\n",
       "      <td>NaN</td>\n",
       "      <td>834199</td>\n",
       "      <td>UK</td>\n",
       "      <td>2003</td>\n",
       "      <td>39.80</td>\n",
       "      <td>15</td>\n",
       "      <td>['Album']</td>\n",
       "      <td>['Electronic', 'Rock']</td>\n",
       "      <td>['Electro', 'Hard Rock', 'Industrial']</td>\n",
       "      <td>Formed in 1999, Arkam Asylum have built a fier...</td>\n",
       "    </tr>\n",
       "    <tr>\n",
       "      <th>51</th>\n",
       "      <td>182052</td>\n",
       "      <td>Psychic TV</td>\n",
       "      <td>Live In Thee Mean Fiddler</td>\n",
       "      <td>3.50</td>\n",
       "      <td>1</td>\n",
       "      <td>17926.0</td>\n",
       "      <td>NaN</td>\n",
       "      <td>1060839</td>\n",
       "      <td>UK</td>\n",
       "      <td>2003</td>\n",
       "      <td>59.90</td>\n",
       "      <td>12</td>\n",
       "      <td>['Album', 'Limited Edition', 'Numbered']</td>\n",
       "      <td>['Electronic', 'Rock']</td>\n",
       "      <td>['Acid House', 'Acid Rock', 'Avantgarde', 'Exp...</td>\n",
       "      <td>Formed: 1981 in Hackney, London, United Kingdo...</td>\n",
       "    </tr>\n",
       "    <tr>\n",
       "      <th>49</th>\n",
       "      <td>182050</td>\n",
       "      <td>Psychic TV</td>\n",
       "      <td>Live In Thee East Village</td>\n",
       "      <td>3.00</td>\n",
       "      <td>1</td>\n",
       "      <td>17926.0</td>\n",
       "      <td>NaN</td>\n",
       "      <td>1060754</td>\n",
       "      <td>UK</td>\n",
       "      <td>2003</td>\n",
       "      <td>73.28</td>\n",
       "      <td>7</td>\n",
       "      <td>['Album', 'Limited Edition', 'Numbered']</td>\n",
       "      <td>['Rock']</td>\n",
       "      <td>['Avantgarde', 'Experimental']</td>\n",
       "      <td>Formed: 1981 in Hackney, London, United Kingdo...</td>\n",
       "    </tr>\n",
       "    <tr>\n",
       "      <th>50</th>\n",
       "      <td>182051</td>\n",
       "      <td>Psychic TV</td>\n",
       "      <td>Live In Europa I</td>\n",
       "      <td>2.50</td>\n",
       "      <td>1</td>\n",
       "      <td>17926.0</td>\n",
       "      <td>NaN</td>\n",
       "      <td>1060824</td>\n",
       "      <td>UK</td>\n",
       "      <td>2003</td>\n",
       "      <td>0.00</td>\n",
       "      <td>14</td>\n",
       "      <td>['Album', 'Limited Edition', 'Numbered']</td>\n",
       "      <td>['Rock']</td>\n",
       "      <td>['Avantgarde', 'Industrial', 'Alternative Rock...</td>\n",
       "      <td>Formed: 1981 in Hackney, London, United Kingdo...</td>\n",
       "    </tr>\n",
       "    <tr>\n",
       "      <th>58</th>\n",
       "      <td>355880</td>\n",
       "      <td>Politicide</td>\n",
       "      <td>Jihad</td>\n",
       "      <td>4.00</td>\n",
       "      <td>1</td>\n",
       "      <td>399737.0</td>\n",
       "      <td>NaN</td>\n",
       "      <td>2236097</td>\n",
       "      <td>UK</td>\n",
       "      <td>2002</td>\n",
       "      <td>0.00</td>\n",
       "      <td>12</td>\n",
       "      <td>['Album']</td>\n",
       "      <td>['Rock']</td>\n",
       "      <td>['Punk']</td>\n",
       "      <td>NaN</td>\n",
       "    </tr>\n",
       "    <tr>\n",
       "      <th>61</th>\n",
       "      <td>401585</td>\n",
       "      <td>50 Caliber</td>\n",
       "      <td>Internal Bleeding</td>\n",
       "      <td>3.50</td>\n",
       "      <td>1</td>\n",
       "      <td>1101315.0</td>\n",
       "      <td>NaN</td>\n",
       "      <td>2964233</td>\n",
       "      <td>UK</td>\n",
       "      <td>2002</td>\n",
       "      <td>13.87</td>\n",
       "      <td>5</td>\n",
       "      <td>['Mini-Album']</td>\n",
       "      <td>['Rock']</td>\n",
       "      <td>['Hardcore', 'Deathcore', 'Metalcore']</td>\n",
       "      <td>English death metal-influenced metalcore/hardc...</td>\n",
       "    </tr>\n",
       "    <tr>\n",
       "      <th>55</th>\n",
       "      <td>221945</td>\n",
       "      <td>Al Atkins</td>\n",
       "      <td>Heavy Thoughts</td>\n",
       "      <td>4.00</td>\n",
       "      <td>1</td>\n",
       "      <td>2202133.0</td>\n",
       "      <td>NaN</td>\n",
       "      <td>5709584</td>\n",
       "      <td>UK</td>\n",
       "      <td>2003</td>\n",
       "      <td>54.45</td>\n",
       "      <td>11</td>\n",
       "      <td>['Album', 'Reissue']</td>\n",
       "      <td>['Rock']</td>\n",
       "      <td>['Heavy Metal']</td>\n",
       "      <td>English heavy metal vocalist, born on 11 Octob...</td>\n",
       "    </tr>\n",
       "    <tr>\n",
       "      <th>18</th>\n",
       "      <td>19689</td>\n",
       "      <td>Madman Is Absolute</td>\n",
       "      <td>Compliance Is Compulsory</td>\n",
       "      <td>4.50</td>\n",
       "      <td>1</td>\n",
       "      <td>3157151.0</td>\n",
       "      <td>NaN</td>\n",
       "      <td>9567732</td>\n",
       "      <td>UK</td>\n",
       "      <td>2002</td>\n",
       "      <td>0.00</td>\n",
       "      <td>7</td>\n",
       "      <td>['Mini-Album']</td>\n",
       "      <td>['Rock']</td>\n",
       "      <td>['Metalcore']</td>\n",
       "      <td>NaN</td>\n",
       "    </tr>\n",
       "    <tr>\n",
       "      <th>60</th>\n",
       "      <td>381242</td>\n",
       "      <td>Simian</td>\n",
       "      <td>Chemistry Is What We Are</td>\n",
       "      <td>4.50</td>\n",
       "      <td>1</td>\n",
       "      <td>17226.0</td>\n",
       "      <td>NaN</td>\n",
       "      <td>10237676</td>\n",
       "      <td>UK</td>\n",
       "      <td>2001</td>\n",
       "      <td>43.33</td>\n",
       "      <td>11</td>\n",
       "      <td>['Album', 'Enhanced']</td>\n",
       "      <td>['Electronic', 'Rock']</td>\n",
       "      <td>['Abstract', 'Indie Rock']</td>\n",
       "      <td>British electronic rock group founded in Manch...</td>\n",
       "    </tr>\n",
       "    <tr>\n",
       "      <th>59</th>\n",
       "      <td>374008</td>\n",
       "      <td>Yay Us</td>\n",
       "      <td>All The Heroes Are Dead, Here We Are</td>\n",
       "      <td>4.50</td>\n",
       "      <td>1</td>\n",
       "      <td>7983350.0</td>\n",
       "      <td>NaN</td>\n",
       "      <td>15546847</td>\n",
       "      <td>UK</td>\n",
       "      <td>2002</td>\n",
       "      <td>32.80</td>\n",
       "      <td>10</td>\n",
       "      <td>['Album', 'Limited Edition', 'Stereo']</td>\n",
       "      <td>['Rock']</td>\n",
       "      <td>['Indie Rock', 'Garage Rock', 'Pop Punk', 'New...</td>\n",
       "      <td>NaN</td>\n",
       "    </tr>\n",
       "  </tbody>\n",
       "</table>\n",
       "</div>"
      ],
      "text/plain": [
       "    album_id                      artist  \\\n",
       "10      1758              Counting Crows   \n",
       "44    123688         The Little Explorer   \n",
       "38     79784          Tygers Of Pan Tang   \n",
       "12      6347               Howards Alias   \n",
       "17     17416  The String Cheese Incident   \n",
       "28     34630                  Darkflight   \n",
       "34     61038               Sputniks Down   \n",
       "8       1651                     Miocene   \n",
       "52    188309                   Karnataka   \n",
       "35     61942                   Fallen To   \n",
       "43    116606                   Ironsword   \n",
       "47    135560                         Man   \n",
       "40     95961                   Crosstide   \n",
       "53    191072                   Backworld   \n",
       "54    195028                    Jon Gomm   \n",
       "62    422507            Colin Vearncombe   \n",
       "23     29578                Arkam Asylum   \n",
       "51    182052                  Psychic TV   \n",
       "49    182050                  Psychic TV   \n",
       "50    182051                  Psychic TV   \n",
       "58    355880                  Politicide   \n",
       "61    401585                  50 Caliber   \n",
       "55    221945                   Al Atkins   \n",
       "18     19689          Madman Is Absolute   \n",
       "60    381242                      Simian   \n",
       "59    374008                      Yay Us   \n",
       "\n",
       "                                    title  rating  votes  artist_id  \\\n",
       "10                             Hard Candy    3.35    138   262643.0   \n",
       "44                    The Little Explorer    3.80     27  1100295.0   \n",
       "38                               Mystical    2.30     10   407694.0   \n",
       "12                   The Chameleon Script    4.11      9   918301.0   \n",
       "17                        Untying The Not    3.43      7   246185.0   \n",
       "28               Under The Shadow Of Fear    3.17      6   334729.0   \n",
       "34  Much Was Decided Before You Were Born    2.08      6    43018.0   \n",
       "8                         Cellular Memory    3.75      6   958779.0   \n",
       "52               Delicate Flame Of Desire    3.80      5  1420825.0   \n",
       "35                               The Mark    2.67      3  1198317.0   \n",
       "43                              Ironsword    3.50      3  1523142.0   \n",
       "47                              Undrugged    3.25      2    86936.0   \n",
       "40               Seventeen Nautical Miles    3.25      2  1098067.0   \n",
       "53                        Of Silver Sleep    4.00      2   106943.0   \n",
       "54                           Hypertension    4.25      2  1216628.0   \n",
       "62                         Smoke Up Close    3.50      1   335255.0   \n",
       "23                  Running With Scissors    4.00      1   224851.0   \n",
       "51              Live In Thee Mean Fiddler    3.50      1    17926.0   \n",
       "49              Live In Thee East Village    3.00      1    17926.0   \n",
       "50                       Live In Europa I    2.50      1    17926.0   \n",
       "58                                  Jihad    4.00      1   399737.0   \n",
       "61                      Internal Bleeding    3.50      1  1101315.0   \n",
       "55                         Heavy Thoughts    4.00      1  2202133.0   \n",
       "18               Compliance Is Compulsory    4.50      1  3157151.0   \n",
       "60               Chemistry Is What We Are    4.50      1    17226.0   \n",
       "59   All The Heroes Are Dead, Here We Are    4.50      1  7983350.0   \n",
       "\n",
       "    master_id  main_release_id release_country  year  album_length  tracks  \\\n",
       "10        NaN         30989143              UK  2002          0.00      15   \n",
       "44        NaN          2747168              UK  2003          0.00       8   \n",
       "38        NaN          4632749              UK  2001         49.37      11   \n",
       "12        NaN          1393346              UK  2002         37.03      11   \n",
       "17        NaN         32414148     UK & Europe  2003         54.35      13   \n",
       "28        NaN          1301861              UK  2003         40.35       8   \n",
       "34        NaN           594879              UK  2001         47.18       7   \n",
       "8         NaN          1809183              UK  2002         40.60       6   \n",
       "52        NaN          1726424              UK  2003         61.50       9   \n",
       "35        NaN          3005917              UK  2002         43.80      11   \n",
       "43        NaN          1866645              UK  2002          0.00      11   \n",
       "47        NaN          4183562              UK  2002         49.07      11   \n",
       "40        NaN          9778795              UK  2002          0.00      10   \n",
       "53        NaN           404964              UK  2001         45.12      11   \n",
       "54        NaN          3642829              UK  2003         57.47      11   \n",
       "62        NaN          1237688              UK  2002        129.58      30   \n",
       "23        NaN           834199              UK  2003         39.80      15   \n",
       "51        NaN          1060839              UK  2003         59.90      12   \n",
       "49        NaN          1060754              UK  2003         73.28       7   \n",
       "50        NaN          1060824              UK  2003          0.00      14   \n",
       "58        NaN          2236097              UK  2002          0.00      12   \n",
       "61        NaN          2964233              UK  2002         13.87       5   \n",
       "55        NaN          5709584              UK  2003         54.45      11   \n",
       "18        NaN          9567732              UK  2002          0.00       7   \n",
       "60        NaN         10237676              UK  2001         43.33      11   \n",
       "59        NaN         15546847              UK  2002         32.80      10   \n",
       "\n",
       "                                release_type  \\\n",
       "10           ['Album', 'Unofficial Release']   \n",
       "44                                 ['Album']   \n",
       "38                                 ['Album']   \n",
       "12                                 ['Album']   \n",
       "17                                 ['Album']   \n",
       "28                                 ['Album']   \n",
       "34                                 ['Album']   \n",
       "8                                  ['Album']   \n",
       "52                                 ['Album']   \n",
       "35                                 ['Album']   \n",
       "43                                 ['Album']   \n",
       "47                                 ['Album']   \n",
       "40                       ['Album', 'Stereo']   \n",
       "53                                 ['Album']   \n",
       "54                                 ['Album']   \n",
       "62                                 ['Album']   \n",
       "23                                 ['Album']   \n",
       "51  ['Album', 'Limited Edition', 'Numbered']   \n",
       "49  ['Album', 'Limited Edition', 'Numbered']   \n",
       "50  ['Album', 'Limited Edition', 'Numbered']   \n",
       "58                                 ['Album']   \n",
       "61                            ['Mini-Album']   \n",
       "55                      ['Album', 'Reissue']   \n",
       "18                            ['Mini-Album']   \n",
       "60                     ['Album', 'Enhanced']   \n",
       "59    ['Album', 'Limited Edition', 'Stereo']   \n",
       "\n",
       "                                        genres  \\\n",
       "10                                    ['Rock']   \n",
       "44                                    ['Rock']   \n",
       "38                                    ['Rock']   \n",
       "12                                    ['Rock']   \n",
       "17  ['Jazz', 'Rock', 'Folk, World, & Country']   \n",
       "28                                    ['Rock']   \n",
       "34                      ['Electronic', 'Rock']   \n",
       "8                                     ['Rock']   \n",
       "52                                    ['Rock']   \n",
       "35                                    ['Rock']   \n",
       "43                                    ['Rock']   \n",
       "47                                    ['Rock']   \n",
       "40                                    ['Rock']   \n",
       "53                                    ['Rock']   \n",
       "54                             ['Rock', 'Pop']   \n",
       "62                                    ['Rock']   \n",
       "23                      ['Electronic', 'Rock']   \n",
       "51                      ['Electronic', 'Rock']   \n",
       "49                                    ['Rock']   \n",
       "50                                    ['Rock']   \n",
       "58                                    ['Rock']   \n",
       "61                                    ['Rock']   \n",
       "55                                    ['Rock']   \n",
       "18                                    ['Rock']   \n",
       "60                      ['Electronic', 'Rock']   \n",
       "59                                    ['Rock']   \n",
       "\n",
       "                                               styles  \\\n",
       "10              ['Southern Rock', 'Alternative Rock']   \n",
       "44                                            ['Emo']   \n",
       "38                       ['Heavy Metal', 'Hard Rock']   \n",
       "12                      ['Ska', 'Punk', 'Indie Rock']   \n",
       "17  ['Bluegrass', 'Alternative Rock', 'Jazz-Rock',...   \n",
       "28                      ['Black Metal', 'Doom Metal']   \n",
       "34                                      ['Post Rock']   \n",
       "8                                                  []   \n",
       "52                         ['Folk Rock', 'Prog Rock']   \n",
       "35                                       ['Nu Metal']   \n",
       "43                                    ['Heavy Metal']   \n",
       "47     ['Acoustic', 'Blues Rock', 'Psychedelic Rock']   \n",
       "40                              ['Indie Rock', 'Emo']   \n",
       "53                           ['Folk Rock', 'Neofolk']   \n",
       "54                                       ['Acoustic']   \n",
       "62                                       ['Acoustic']   \n",
       "23             ['Electro', 'Hard Rock', 'Industrial']   \n",
       "51  ['Acid House', 'Acid Rock', 'Avantgarde', 'Exp...   \n",
       "49                     ['Avantgarde', 'Experimental']   \n",
       "50  ['Avantgarde', 'Industrial', 'Alternative Rock...   \n",
       "58                                           ['Punk']   \n",
       "61             ['Hardcore', 'Deathcore', 'Metalcore']   \n",
       "55                                    ['Heavy Metal']   \n",
       "18                                      ['Metalcore']   \n",
       "60                         ['Abstract', 'Indie Rock']   \n",
       "59  ['Indie Rock', 'Garage Rock', 'Pop Punk', 'New...   \n",
       "\n",
       "                                       artist_profile  \n",
       "10  Counting Crows is an American rock band from B...  \n",
       "44                                                NaN  \n",
       "38  British Heavy Metal band from Whitley Bay form...  \n",
       "12  Band in the modern UK underground punk scene, ...  \n",
       "17  The String Cheese Incident (SCI) is an America...  \n",
       "28  Atmospheric black/doom metal duo from Varna, B...  \n",
       "34  Sputniks Down were a Scottish band, made up of...  \n",
       "8   Forming in 1998, but consolidating their line-...  \n",
       "52      Progressive Rock band from Swansea, Wales, UK  \n",
       "35                                                NaN  \n",
       "43               Epic heavy metal band from Portugal.  \n",
       "47  Welsh band founded in 1968, broke up at the en...  \n",
       "40                     A band from Milwaukie, Oregon.  \n",
       "53  Folk/Psychedelic project of American singer an...  \n",
       "54  Jon Gomm is an acoustic singer-songwriter with...  \n",
       "62  English musician and singer-songwriter, born 2...  \n",
       "23  Formed in 1999, Arkam Asylum have built a fier...  \n",
       "51  Formed: 1981 in Hackney, London, United Kingdo...  \n",
       "49  Formed: 1981 in Hackney, London, United Kingdo...  \n",
       "50  Formed: 1981 in Hackney, London, United Kingdo...  \n",
       "58                                                NaN  \n",
       "61  English death metal-influenced metalcore/hardc...  \n",
       "55  English heavy metal vocalist, born on 11 Octob...  \n",
       "18                                                NaN  \n",
       "60  British electronic rock group founded in Manch...  \n",
       "59                                                NaN  "
      ]
     },
     "execution_count": 34,
     "metadata": {},
     "output_type": "execute_result"
    }
   ],
   "source": [
    "df_id0_ratings.sort_values(['votes', 'title', 'artist'], ascending=False)"
   ]
  },
  {
   "cell_type": "code",
   "execution_count": 35,
   "metadata": {},
   "outputs": [
    {
     "name": "stdout",
     "output_type": "stream",
     "text": [
      "Rows dropped\n",
      "(23, 16)\n"
     ]
    }
   ],
   "source": [
    "# check one by one if necessary\n",
    "try:\n",
    "    df_id0_ratings.drop([49, 50, 51], axis=0, inplace=True)\n",
    "    print('Rows dropped')\n",
    "    print(df_id0_ratings.shape)\n",
    "except:\n",
    "    print(\"Couldn't drop these rows\")\n",
    "    print(df_id0_ratings.shape)"
   ]
  },
  {
   "cell_type": "markdown",
   "metadata": {},
   "source": [
    "## Concat with the previous ``df_master_id_0``"
   ]
  },
  {
   "cell_type": "code",
   "execution_count": 36,
   "metadata": {},
   "outputs": [
    {
     "data": {
      "text/plain": [
       "(30, 16)"
      ]
     },
     "execution_count": 36,
     "metadata": {},
     "output_type": "execute_result"
    }
   ],
   "source": [
    "df_masters_id0 = pd.read_csv('Datasets/df_masters_id0.csv')\n",
    "df_masters_id0.shape"
   ]
  },
  {
   "cell_type": "code",
   "execution_count": 37,
   "metadata": {},
   "outputs": [
    {
     "data": {
      "text/plain": [
       "(53, 16)"
      ]
     },
     "execution_count": 37,
     "metadata": {},
     "output_type": "execute_result"
    }
   ],
   "source": [
    "df_masters_id0_concat = pd.concat([df_masters_id0, df_id0_ratings])\n",
    "df_masters_id0_concat.shape"
   ]
  },
  {
   "cell_type": "markdown",
   "metadata": {},
   "source": [
    "## **Export to csv**"
   ]
  },
  {
   "cell_type": "code",
   "execution_count": 49,
   "metadata": {},
   "outputs": [],
   "source": [
    "df_masters.to_csv('Datasets/df_masters.csv', index=False)"
   ]
  },
  {
   "cell_type": "code",
   "execution_count": 40,
   "metadata": {},
   "outputs": [],
   "source": [
    "df_masters_id0_concat.to_csv('Datasets/df_masters_id0.csv', index=False)"
   ]
  },
  {
   "cell_type": "code",
   "execution_count": 3,
   "metadata": {},
   "outputs": [
    {
     "data": {
      "text/plain": [
       "(30, 16)"
      ]
     },
     "execution_count": 3,
     "metadata": {},
     "output_type": "execute_result"
    }
   ],
   "source": [
    "df_masters_id0 = pd.read_csv('Datasets/df_masters_id0.csv')\n",
    "df_masters_id0.shape"
   ]
  },
  {
   "cell_type": "code",
   "execution_count": 4,
   "metadata": {},
   "outputs": [
    {
     "data": {
      "text/html": [
       "<div>\n",
       "<style scoped>\n",
       "    .dataframe tbody tr th:only-of-type {\n",
       "        vertical-align: middle;\n",
       "    }\n",
       "\n",
       "    .dataframe tbody tr th {\n",
       "        vertical-align: top;\n",
       "    }\n",
       "\n",
       "    .dataframe thead th {\n",
       "        text-align: right;\n",
       "    }\n",
       "</style>\n",
       "<table border=\"1\" class=\"dataframe\">\n",
       "  <thead>\n",
       "    <tr style=\"text-align: right;\">\n",
       "      <th></th>\n",
       "      <th>album_id</th>\n",
       "      <th>artist</th>\n",
       "      <th>title</th>\n",
       "      <th>rating</th>\n",
       "      <th>votes</th>\n",
       "      <th>artist_id</th>\n",
       "      <th>master_id</th>\n",
       "      <th>main_release_id</th>\n",
       "      <th>release_country</th>\n",
       "      <th>year</th>\n",
       "      <th>album_length</th>\n",
       "      <th>tracks</th>\n",
       "      <th>release_type</th>\n",
       "      <th>genres</th>\n",
       "      <th>styles</th>\n",
       "      <th>artist_profile</th>\n",
       "    </tr>\n",
       "  </thead>\n",
       "  <tbody>\n",
       "    <tr>\n",
       "      <th>0</th>\n",
       "      <td>498666</td>\n",
       "      <td>Blasfeme</td>\n",
       "      <td>Black Legion</td>\n",
       "      <td>3.59</td>\n",
       "      <td>33</td>\n",
       "      <td>8287884.0</td>\n",
       "      <td>NaN</td>\n",
       "      <td>32987169</td>\n",
       "      <td>UK</td>\n",
       "      <td>2024</td>\n",
       "      <td>32.33</td>\n",
       "      <td>7</td>\n",
       "      <td>['Album', 'Limited Edition']</td>\n",
       "      <td>['Rock']</td>\n",
       "      <td>['Black Metal']</td>\n",
       "      <td>Blasfeme is a two piece black metal force, fue...</td>\n",
       "    </tr>\n",
       "    <tr>\n",
       "      <th>1</th>\n",
       "      <td>507340</td>\n",
       "      <td>Dawnwalker</td>\n",
       "      <td>The Unknowing</td>\n",
       "      <td>3.68</td>\n",
       "      <td>11</td>\n",
       "      <td>7622357.0</td>\n",
       "      <td>NaN</td>\n",
       "      <td>32331393</td>\n",
       "      <td>UK</td>\n",
       "      <td>2024</td>\n",
       "      <td>0.00</td>\n",
       "      <td>9</td>\n",
       "      <td>['LP', 'Album']</td>\n",
       "      <td>['Rock']</td>\n",
       "      <td>['Prog Rock']</td>\n",
       "      <td>Post-Metal/Rock band from London, UK.</td>\n",
       "    </tr>\n",
       "    <tr>\n",
       "      <th>2</th>\n",
       "      <td>504016</td>\n",
       "      <td>Trash Boat</td>\n",
       "      <td>Heaven Can Wait</td>\n",
       "      <td>2.64</td>\n",
       "      <td>11</td>\n",
       "      <td>3896679.0</td>\n",
       "      <td>NaN</td>\n",
       "      <td>32921493</td>\n",
       "      <td>UK</td>\n",
       "      <td>2024</td>\n",
       "      <td>36.03</td>\n",
       "      <td>11</td>\n",
       "      <td>['12\"', '33 ⅓ RPM', 'Album', 'Stereo']</td>\n",
       "      <td>['Rock']</td>\n",
       "      <td>['Hardcore']</td>\n",
       "      <td>NaN</td>\n",
       "    </tr>\n",
       "    <tr>\n",
       "      <th>3</th>\n",
       "      <td>512234</td>\n",
       "      <td>Caelestra</td>\n",
       "      <td>Bastion</td>\n",
       "      <td>3.95</td>\n",
       "      <td>10</td>\n",
       "      <td>8367186.0</td>\n",
       "      <td>NaN</td>\n",
       "      <td>32682639</td>\n",
       "      <td>UK</td>\n",
       "      <td>2024</td>\n",
       "      <td>48.65</td>\n",
       "      <td>6</td>\n",
       "      <td>['Album']</td>\n",
       "      <td>['Rock']</td>\n",
       "      <td>['Progressive Metal', 'Post-Metal', 'Black Met...</td>\n",
       "      <td>Caelestra. Bristol, UK. The creation of Fever ...</td>\n",
       "    </tr>\n",
       "    <tr>\n",
       "      <th>4</th>\n",
       "      <td>496271</td>\n",
       "      <td>Other Half</td>\n",
       "      <td>Dark Ageism</td>\n",
       "      <td>3.64</td>\n",
       "      <td>5</td>\n",
       "      <td>4456943.0</td>\n",
       "      <td>NaN</td>\n",
       "      <td>31040566</td>\n",
       "      <td>UK</td>\n",
       "      <td>2024</td>\n",
       "      <td>0.00</td>\n",
       "      <td>12</td>\n",
       "      <td>['LP', 'Album', 'Limited Edition']</td>\n",
       "      <td>['Rock']</td>\n",
       "      <td>['Post-Hardcore', 'Punk']</td>\n",
       "      <td>NaN</td>\n",
       "    </tr>\n",
       "    <tr>\n",
       "      <th>5</th>\n",
       "      <td>490535</td>\n",
       "      <td>Ildganger</td>\n",
       "      <td>For Hver Tanke Mister Sj​æ​len Atter Farve</td>\n",
       "      <td>3.62</td>\n",
       "      <td>4</td>\n",
       "      <td>12767564.0</td>\n",
       "      <td>NaN</td>\n",
       "      <td>30251867</td>\n",
       "      <td>UK</td>\n",
       "      <td>2024</td>\n",
       "      <td>0.00</td>\n",
       "      <td>5</td>\n",
       "      <td>['LP', 'Album', 'Limited Edition']</td>\n",
       "      <td>['Rock']</td>\n",
       "      <td>['Black Metal']</td>\n",
       "      <td>Black Metal project from Aarhus, Denmark.</td>\n",
       "    </tr>\n",
       "    <tr>\n",
       "      <th>6</th>\n",
       "      <td>496009</td>\n",
       "      <td>Gnod</td>\n",
       "      <td>Spot Land</td>\n",
       "      <td>3.12</td>\n",
       "      <td>4</td>\n",
       "      <td>1107254.0</td>\n",
       "      <td>NaN</td>\n",
       "      <td>30624286</td>\n",
       "      <td>UK</td>\n",
       "      <td>2024</td>\n",
       "      <td>0.00</td>\n",
       "      <td>5</td>\n",
       "      <td>['LP', 'Album', 'Limited Edition']</td>\n",
       "      <td>['Electronic', 'Rock']</td>\n",
       "      <td>['Alternative Rock', 'Industrial', 'Drone', 'M...</td>\n",
       "      <td>Gnod are a British rock band from Salford, Gre...</td>\n",
       "    </tr>\n",
       "    <tr>\n",
       "      <th>7</th>\n",
       "      <td>487309</td>\n",
       "      <td>Ilat Mahru</td>\n",
       "      <td>Incipit Akkadian</td>\n",
       "      <td>3.50</td>\n",
       "      <td>3</td>\n",
       "      <td>12679967.0</td>\n",
       "      <td>NaN</td>\n",
       "      <td>30173384</td>\n",
       "      <td>UK</td>\n",
       "      <td>2024</td>\n",
       "      <td>34.33</td>\n",
       "      <td>4</td>\n",
       "      <td>['Mini-Album', 'Limited Edition']</td>\n",
       "      <td>['Rock']</td>\n",
       "      <td>['Black Metal']</td>\n",
       "      <td>NaN</td>\n",
       "    </tr>\n",
       "    <tr>\n",
       "      <th>8</th>\n",
       "      <td>492912</td>\n",
       "      <td>Perseus</td>\n",
       "      <td>Into The Silence</td>\n",
       "      <td>3.50</td>\n",
       "      <td>3</td>\n",
       "      <td>220153.0</td>\n",
       "      <td>NaN</td>\n",
       "      <td>30422189</td>\n",
       "      <td>UK</td>\n",
       "      <td>2024</td>\n",
       "      <td>44.37</td>\n",
       "      <td>11</td>\n",
       "      <td>['Album', 'Limited Edition']</td>\n",
       "      <td>['Rock']</td>\n",
       "      <td>['Heavy Metal', 'Power Metal']</td>\n",
       "      <td>Heavy/power metal band from Italy</td>\n",
       "    </tr>\n",
       "    <tr>\n",
       "      <th>9</th>\n",
       "      <td>505338</td>\n",
       "      <td>Thank</td>\n",
       "      <td>I Have A Physical Body That Can Be Harmed</td>\n",
       "      <td>3.75</td>\n",
       "      <td>2</td>\n",
       "      <td>6092482.0</td>\n",
       "      <td>NaN</td>\n",
       "      <td>32117175</td>\n",
       "      <td>UK</td>\n",
       "      <td>2024</td>\n",
       "      <td>0.00</td>\n",
       "      <td>10</td>\n",
       "      <td>['LP', 'Album']</td>\n",
       "      <td>['Hip Hop', 'Rock']</td>\n",
       "      <td>['Noise Rock', 'Post-Punk', 'No Wave']</td>\n",
       "      <td>Noise rock / post-punk / no wave band from Lee...</td>\n",
       "    </tr>\n",
       "    <tr>\n",
       "      <th>10</th>\n",
       "      <td>435975</td>\n",
       "      <td>Lungtoucher</td>\n",
       "      <td>Sin Eater</td>\n",
       "      <td>2.50</td>\n",
       "      <td>1</td>\n",
       "      <td>7981115.0</td>\n",
       "      <td>NaN</td>\n",
       "      <td>30252140</td>\n",
       "      <td>UK</td>\n",
       "      <td>2024</td>\n",
       "      <td>0.00</td>\n",
       "      <td>9</td>\n",
       "      <td>['LP', 'Album', 'Limited Edition', 'Numbered']</td>\n",
       "      <td>['Rock']</td>\n",
       "      <td>['Black Metal', 'Blackgaze', 'Post-Punk']</td>\n",
       "      <td>One man black metal from South West England</td>\n",
       "    </tr>\n",
       "    <tr>\n",
       "      <th>11</th>\n",
       "      <td>487227</td>\n",
       "      <td>C Turtle</td>\n",
       "      <td>Expensive Thrills</td>\n",
       "      <td>4.00</td>\n",
       "      <td>1</td>\n",
       "      <td>11916422.0</td>\n",
       "      <td>NaN</td>\n",
       "      <td>30035518</td>\n",
       "      <td>UK</td>\n",
       "      <td>2024</td>\n",
       "      <td>0.00</td>\n",
       "      <td>10</td>\n",
       "      <td>['LP', 'Album', 'Limited Edition']</td>\n",
       "      <td>['Rock']</td>\n",
       "      <td>['Indie Rock']</td>\n",
       "      <td>\\t\\r\\nC Turtle is a London based lo-fi rock gr...</td>\n",
       "    </tr>\n",
       "    <tr>\n",
       "      <th>12</th>\n",
       "      <td>495612</td>\n",
       "      <td>Lucta</td>\n",
       "      <td>Eterna Lotta</td>\n",
       "      <td>3.00</td>\n",
       "      <td>1</td>\n",
       "      <td>6878726.0</td>\n",
       "      <td>NaN</td>\n",
       "      <td>31384628</td>\n",
       "      <td>UK</td>\n",
       "      <td>2024</td>\n",
       "      <td>0.00</td>\n",
       "      <td>9</td>\n",
       "      <td>['LP', '45 RPM', 'Album']</td>\n",
       "      <td>['Rock']</td>\n",
       "      <td>['Hardcore', 'Punk']</td>\n",
       "      <td>Hardcore Punk band from Milano - Sondrio, Italy.</td>\n",
       "    </tr>\n",
       "    <tr>\n",
       "      <th>13</th>\n",
       "      <td>499347</td>\n",
       "      <td>Turin</td>\n",
       "      <td>The Unforgiving Reality In Nothing</td>\n",
       "      <td>4.00</td>\n",
       "      <td>1</td>\n",
       "      <td>14828089.0</td>\n",
       "      <td>NaN</td>\n",
       "      <td>32964687</td>\n",
       "      <td>UK</td>\n",
       "      <td>2024</td>\n",
       "      <td>0.00</td>\n",
       "      <td>10</td>\n",
       "      <td>['Album']</td>\n",
       "      <td>['Rock']</td>\n",
       "      <td>['Deathcore']</td>\n",
       "      <td>NaN</td>\n",
       "    </tr>\n",
       "    <tr>\n",
       "      <th>14</th>\n",
       "      <td>499630</td>\n",
       "      <td>Ink &amp; Fire</td>\n",
       "      <td>Emblazoned Visions Yield Eternity</td>\n",
       "      <td>3.50</td>\n",
       "      <td>1</td>\n",
       "      <td>12250363.0</td>\n",
       "      <td>NaN</td>\n",
       "      <td>31239661</td>\n",
       "      <td>UK</td>\n",
       "      <td>2024</td>\n",
       "      <td>0.00</td>\n",
       "      <td>10</td>\n",
       "      <td>['LP', 'Album', 'Limited Edition']</td>\n",
       "      <td>['Rock']</td>\n",
       "      <td>['Black Metal']</td>\n",
       "      <td>Black metal from Chicago, USA.</td>\n",
       "    </tr>\n",
       "    <tr>\n",
       "      <th>15</th>\n",
       "      <td>500479</td>\n",
       "      <td>Campfire Social</td>\n",
       "      <td>They Sound The Same Underwater</td>\n",
       "      <td>4.50</td>\n",
       "      <td>1</td>\n",
       "      <td>7295436.0</td>\n",
       "      <td>NaN</td>\n",
       "      <td>31595047</td>\n",
       "      <td>UK</td>\n",
       "      <td>2024</td>\n",
       "      <td>42.00</td>\n",
       "      <td>11</td>\n",
       "      <td>['LP', 'Album']</td>\n",
       "      <td>['Rock']</td>\n",
       "      <td>['Emo']</td>\n",
       "      <td>Emo/Indie Collective, Campfire Social, craft a...</td>\n",
       "    </tr>\n",
       "    <tr>\n",
       "      <th>16</th>\n",
       "      <td>504432</td>\n",
       "      <td>Sans Froid</td>\n",
       "      <td>Hello, Boil Brain</td>\n",
       "      <td>3.50</td>\n",
       "      <td>1</td>\n",
       "      <td>15246549.0</td>\n",
       "      <td>NaN</td>\n",
       "      <td>32112297</td>\n",
       "      <td>UK</td>\n",
       "      <td>2024</td>\n",
       "      <td>29.53</td>\n",
       "      <td>8</td>\n",
       "      <td>['Album']</td>\n",
       "      <td>['Rock']</td>\n",
       "      <td>['Art Rock', 'Alternative Rock', 'Post Rock']</td>\n",
       "      <td>NaN</td>\n",
       "    </tr>\n",
       "    <tr>\n",
       "      <th>17</th>\n",
       "      <td>506481</td>\n",
       "      <td>Thumbsucker</td>\n",
       "      <td>Infinite Regret</td>\n",
       "      <td>3.50</td>\n",
       "      <td>1</td>\n",
       "      <td>15018124.0</td>\n",
       "      <td>NaN</td>\n",
       "      <td>31611301</td>\n",
       "      <td>UK</td>\n",
       "      <td>2024</td>\n",
       "      <td>17.90</td>\n",
       "      <td>20</td>\n",
       "      <td>['LP', '45 RPM', 'Album']</td>\n",
       "      <td>['Rock']</td>\n",
       "      <td>['Power Violence', 'Hardcore', 'Punk']</td>\n",
       "      <td>Hardcore powerviolence band from Leicester, UK</td>\n",
       "    </tr>\n",
       "    <tr>\n",
       "      <th>18</th>\n",
       "      <td>492316</td>\n",
       "      <td>Flamebearer</td>\n",
       "      <td>Brazen</td>\n",
       "      <td>3.50</td>\n",
       "      <td>1</td>\n",
       "      <td>10818784.0</td>\n",
       "      <td>NaN</td>\n",
       "      <td>30650458</td>\n",
       "      <td>UK</td>\n",
       "      <td>2024</td>\n",
       "      <td>0.00</td>\n",
       "      <td>9</td>\n",
       "      <td>['Album', 'Limited Edition']</td>\n",
       "      <td>['Rock']</td>\n",
       "      <td>['Heavy Metal', 'Stoner Rock']</td>\n",
       "      <td>Flamebearer are from London and a four-piece h...</td>\n",
       "    </tr>\n",
       "    <tr>\n",
       "      <th>19</th>\n",
       "      <td>491060</td>\n",
       "      <td>Cincinatti Bowtie</td>\n",
       "      <td>Chronicles of the Damned</td>\n",
       "      <td>3.50</td>\n",
       "      <td>1</td>\n",
       "      <td>9475702.0</td>\n",
       "      <td>NaN</td>\n",
       "      <td>31322250</td>\n",
       "      <td>UK</td>\n",
       "      <td>2024</td>\n",
       "      <td>0.00</td>\n",
       "      <td>14</td>\n",
       "      <td>['Album']</td>\n",
       "      <td>['Rock']</td>\n",
       "      <td>['Deathcore']</td>\n",
       "      <td>NaN</td>\n",
       "    </tr>\n",
       "    <tr>\n",
       "      <th>20</th>\n",
       "      <td>484676</td>\n",
       "      <td>Svitogor</td>\n",
       "      <td>The Howling Void</td>\n",
       "      <td>3.50</td>\n",
       "      <td>1</td>\n",
       "      <td>14041978.0</td>\n",
       "      <td>NaN</td>\n",
       "      <td>29507386</td>\n",
       "      <td>UK</td>\n",
       "      <td>2024</td>\n",
       "      <td>60.53</td>\n",
       "      <td>10</td>\n",
       "      <td>['Album', 'Stereo']</td>\n",
       "      <td>['Rock']</td>\n",
       "      <td>['Black Metal']</td>\n",
       "      <td>Svitogor is a Croatian Black Metal band founde...</td>\n",
       "    </tr>\n",
       "    <tr>\n",
       "      <th>21</th>\n",
       "      <td>31204</td>\n",
       "      <td>Paul McCartney</td>\n",
       "      <td>Liverpool Sound Collage</td>\n",
       "      <td>2.67</td>\n",
       "      <td>9</td>\n",
       "      <td>35301.0</td>\n",
       "      <td>NaN</td>\n",
       "      <td>14331959</td>\n",
       "      <td>UK &amp; Europe</td>\n",
       "      <td>2000</td>\n",
       "      <td>58.30</td>\n",
       "      <td>5</td>\n",
       "      <td>['Album']</td>\n",
       "      <td>['Electronic', 'Rock']</td>\n",
       "      <td>['Dub', 'Downtempo']</td>\n",
       "      <td>Sir James Paul McCartney CH MBE (born 18 June ...</td>\n",
       "    </tr>\n",
       "    <tr>\n",
       "      <th>22</th>\n",
       "      <td>63917</td>\n",
       "      <td>Karnataka</td>\n",
       "      <td>The Storm</td>\n",
       "      <td>3.75</td>\n",
       "      <td>4</td>\n",
       "      <td>1420825.0</td>\n",
       "      <td>NaN</td>\n",
       "      <td>1727511</td>\n",
       "      <td>UK</td>\n",
       "      <td>2000</td>\n",
       "      <td>57.30</td>\n",
       "      <td>10</td>\n",
       "      <td>['Album']</td>\n",
       "      <td>['Rock']</td>\n",
       "      <td>['Folk Rock', 'Prog Rock']</td>\n",
       "      <td>Progressive Rock band from Swansea, Wales, UK</td>\n",
       "    </tr>\n",
       "    <tr>\n",
       "      <th>23</th>\n",
       "      <td>43394</td>\n",
       "      <td>Sol Invictus</td>\n",
       "      <td>Trieste</td>\n",
       "      <td>2.67</td>\n",
       "      <td>3</td>\n",
       "      <td>49848.0</td>\n",
       "      <td>NaN</td>\n",
       "      <td>237520</td>\n",
       "      <td>UK</td>\n",
       "      <td>2000</td>\n",
       "      <td>60.47</td>\n",
       "      <td>17</td>\n",
       "      <td>['Album']</td>\n",
       "      <td>['Electronic', 'Rock']</td>\n",
       "      <td>['Modern Classical', 'Neofolk']</td>\n",
       "      <td>After playing in British punk band [a=Crisis (...</td>\n",
       "    </tr>\n",
       "    <tr>\n",
       "      <th>24</th>\n",
       "      <td>79196</td>\n",
       "      <td>The Berzerker</td>\n",
       "      <td>Demo's 1998</td>\n",
       "      <td>3.75</td>\n",
       "      <td>2</td>\n",
       "      <td>18529.0</td>\n",
       "      <td>NaN</td>\n",
       "      <td>2900736</td>\n",
       "      <td>UK</td>\n",
       "      <td>2000</td>\n",
       "      <td>27.50</td>\n",
       "      <td>12</td>\n",
       "      <td>['Album', 'Promo']</td>\n",
       "      <td>['Rock']</td>\n",
       "      <td>['Grindcore', 'Death Metal']</td>\n",
       "      <td>\"The Berzerker is about musically fulfilling t...</td>\n",
       "    </tr>\n",
       "    <tr>\n",
       "      <th>25</th>\n",
       "      <td>323701</td>\n",
       "      <td>Tom Hingley</td>\n",
       "      <td>Keep Britain Untidy</td>\n",
       "      <td>2.50</td>\n",
       "      <td>2</td>\n",
       "      <td>65105.0</td>\n",
       "      <td>NaN</td>\n",
       "      <td>526333</td>\n",
       "      <td>UK</td>\n",
       "      <td>2000</td>\n",
       "      <td>40.53</td>\n",
       "      <td>11</td>\n",
       "      <td>['Album']</td>\n",
       "      <td>['Rock']</td>\n",
       "      <td>['Acoustic', 'Indie Rock']</td>\n",
       "      <td>Vocals, born 9th July 1965, Oxford, England.</td>\n",
       "    </tr>\n",
       "    <tr>\n",
       "      <th>26</th>\n",
       "      <td>23495</td>\n",
       "      <td>Whipping Boy</td>\n",
       "      <td>Whipping Boy</td>\n",
       "      <td>4.00</td>\n",
       "      <td>1</td>\n",
       "      <td>285540.0</td>\n",
       "      <td>NaN</td>\n",
       "      <td>441647</td>\n",
       "      <td>UK</td>\n",
       "      <td>2000</td>\n",
       "      <td>43.32</td>\n",
       "      <td>11</td>\n",
       "      <td>['Album']</td>\n",
       "      <td>['Rock']</td>\n",
       "      <td>['Alternative Rock', 'Indie Rock']</td>\n",
       "      <td>Irish rock band. Originally active from 1988–1...</td>\n",
       "    </tr>\n",
       "    <tr>\n",
       "      <th>27</th>\n",
       "      <td>124844</td>\n",
       "      <td>Geoff Farina</td>\n",
       "      <td>Reverse Eclipse</td>\n",
       "      <td>3.50</td>\n",
       "      <td>1</td>\n",
       "      <td>480330.0</td>\n",
       "      <td>NaN</td>\n",
       "      <td>2094438</td>\n",
       "      <td>UK</td>\n",
       "      <td>2000</td>\n",
       "      <td>37.48</td>\n",
       "      <td>13</td>\n",
       "      <td>['Album']</td>\n",
       "      <td>['Jazz', 'Rock']</td>\n",
       "      <td>[]</td>\n",
       "      <td>American singer and guitarist, best known as f...</td>\n",
       "    </tr>\n",
       "    <tr>\n",
       "      <th>28</th>\n",
       "      <td>450977</td>\n",
       "      <td>Ostara</td>\n",
       "      <td>Secret Homeland</td>\n",
       "      <td>2.50</td>\n",
       "      <td>1</td>\n",
       "      <td>161472.0</td>\n",
       "      <td>NaN</td>\n",
       "      <td>238628</td>\n",
       "      <td>UK</td>\n",
       "      <td>2000</td>\n",
       "      <td>67.93</td>\n",
       "      <td>12</td>\n",
       "      <td>['Album']</td>\n",
       "      <td>['Rock']</td>\n",
       "      <td>['Pop Rock', 'Neofolk']</td>\n",
       "      <td>NaN</td>\n",
       "    </tr>\n",
       "    <tr>\n",
       "      <th>29</th>\n",
       "      <td>492998</td>\n",
       "      <td>James Grant</td>\n",
       "      <td>My Thrawn Glory</td>\n",
       "      <td>4.00</td>\n",
       "      <td>1</td>\n",
       "      <td>587239.0</td>\n",
       "      <td>NaN</td>\n",
       "      <td>3158255</td>\n",
       "      <td>UK</td>\n",
       "      <td>2000</td>\n",
       "      <td>49.83</td>\n",
       "      <td>13</td>\n",
       "      <td>['Album']</td>\n",
       "      <td>['Rock', 'Blues']</td>\n",
       "      <td>['Indie Rock']</td>\n",
       "      <td>James Grant's music career began in 1982 as so...</td>\n",
       "    </tr>\n",
       "  </tbody>\n",
       "</table>\n",
       "</div>"
      ],
      "text/plain": [
       "    album_id             artist                                       title  \\\n",
       "0     498666           Blasfeme                                Black Legion   \n",
       "1     507340         Dawnwalker                               The Unknowing   \n",
       "2     504016         Trash Boat                             Heaven Can Wait   \n",
       "3     512234          Caelestra                                     Bastion   \n",
       "4     496271         Other Half                                 Dark Ageism   \n",
       "5     490535          Ildganger  For Hver Tanke Mister Sj​æ​len Atter Farve   \n",
       "6     496009               Gnod                                   Spot Land   \n",
       "7     487309         Ilat Mahru                            Incipit Akkadian   \n",
       "8     492912            Perseus                            Into The Silence   \n",
       "9     505338              Thank   I Have A Physical Body That Can Be Harmed   \n",
       "10    435975        Lungtoucher                                   Sin Eater   \n",
       "11    487227           C Turtle                           Expensive Thrills   \n",
       "12    495612              Lucta                                Eterna Lotta   \n",
       "13    499347              Turin          The Unforgiving Reality In Nothing   \n",
       "14    499630         Ink & Fire           Emblazoned Visions Yield Eternity   \n",
       "15    500479    Campfire Social              They Sound The Same Underwater   \n",
       "16    504432         Sans Froid                           Hello, Boil Brain   \n",
       "17    506481        Thumbsucker                             Infinite Regret   \n",
       "18    492316        Flamebearer                                      Brazen   \n",
       "19    491060  Cincinatti Bowtie                    Chronicles of the Damned   \n",
       "20    484676           Svitogor                            The Howling Void   \n",
       "21     31204     Paul McCartney                     Liverpool Sound Collage   \n",
       "22     63917          Karnataka                                   The Storm   \n",
       "23     43394       Sol Invictus                                     Trieste   \n",
       "24     79196      The Berzerker                                 Demo's 1998   \n",
       "25    323701        Tom Hingley                         Keep Britain Untidy   \n",
       "26     23495       Whipping Boy                                Whipping Boy   \n",
       "27    124844       Geoff Farina                             Reverse Eclipse   \n",
       "28    450977             Ostara                             Secret Homeland   \n",
       "29    492998        James Grant                             My Thrawn Glory   \n",
       "\n",
       "    rating  votes   artist_id  master_id  main_release_id release_country  \\\n",
       "0     3.59     33   8287884.0        NaN         32987169              UK   \n",
       "1     3.68     11   7622357.0        NaN         32331393              UK   \n",
       "2     2.64     11   3896679.0        NaN         32921493              UK   \n",
       "3     3.95     10   8367186.0        NaN         32682639              UK   \n",
       "4     3.64      5   4456943.0        NaN         31040566              UK   \n",
       "5     3.62      4  12767564.0        NaN         30251867              UK   \n",
       "6     3.12      4   1107254.0        NaN         30624286              UK   \n",
       "7     3.50      3  12679967.0        NaN         30173384              UK   \n",
       "8     3.50      3    220153.0        NaN         30422189              UK   \n",
       "9     3.75      2   6092482.0        NaN         32117175              UK   \n",
       "10    2.50      1   7981115.0        NaN         30252140              UK   \n",
       "11    4.00      1  11916422.0        NaN         30035518              UK   \n",
       "12    3.00      1   6878726.0        NaN         31384628              UK   \n",
       "13    4.00      1  14828089.0        NaN         32964687              UK   \n",
       "14    3.50      1  12250363.0        NaN         31239661              UK   \n",
       "15    4.50      1   7295436.0        NaN         31595047              UK   \n",
       "16    3.50      1  15246549.0        NaN         32112297              UK   \n",
       "17    3.50      1  15018124.0        NaN         31611301              UK   \n",
       "18    3.50      1  10818784.0        NaN         30650458              UK   \n",
       "19    3.50      1   9475702.0        NaN         31322250              UK   \n",
       "20    3.50      1  14041978.0        NaN         29507386              UK   \n",
       "21    2.67      9     35301.0        NaN         14331959     UK & Europe   \n",
       "22    3.75      4   1420825.0        NaN          1727511              UK   \n",
       "23    2.67      3     49848.0        NaN           237520              UK   \n",
       "24    3.75      2     18529.0        NaN          2900736              UK   \n",
       "25    2.50      2     65105.0        NaN           526333              UK   \n",
       "26    4.00      1    285540.0        NaN           441647              UK   \n",
       "27    3.50      1    480330.0        NaN          2094438              UK   \n",
       "28    2.50      1    161472.0        NaN           238628              UK   \n",
       "29    4.00      1    587239.0        NaN          3158255              UK   \n",
       "\n",
       "    year  album_length  tracks  \\\n",
       "0   2024         32.33       7   \n",
       "1   2024          0.00       9   \n",
       "2   2024         36.03      11   \n",
       "3   2024         48.65       6   \n",
       "4   2024          0.00      12   \n",
       "5   2024          0.00       5   \n",
       "6   2024          0.00       5   \n",
       "7   2024         34.33       4   \n",
       "8   2024         44.37      11   \n",
       "9   2024          0.00      10   \n",
       "10  2024          0.00       9   \n",
       "11  2024          0.00      10   \n",
       "12  2024          0.00       9   \n",
       "13  2024          0.00      10   \n",
       "14  2024          0.00      10   \n",
       "15  2024         42.00      11   \n",
       "16  2024         29.53       8   \n",
       "17  2024         17.90      20   \n",
       "18  2024          0.00       9   \n",
       "19  2024          0.00      14   \n",
       "20  2024         60.53      10   \n",
       "21  2000         58.30       5   \n",
       "22  2000         57.30      10   \n",
       "23  2000         60.47      17   \n",
       "24  2000         27.50      12   \n",
       "25  2000         40.53      11   \n",
       "26  2000         43.32      11   \n",
       "27  2000         37.48      13   \n",
       "28  2000         67.93      12   \n",
       "29  2000         49.83      13   \n",
       "\n",
       "                                      release_type                  genres  \\\n",
       "0                     ['Album', 'Limited Edition']                ['Rock']   \n",
       "1                                  ['LP', 'Album']                ['Rock']   \n",
       "2           ['12\"', '33 ⅓ RPM', 'Album', 'Stereo']                ['Rock']   \n",
       "3                                        ['Album']                ['Rock']   \n",
       "4               ['LP', 'Album', 'Limited Edition']                ['Rock']   \n",
       "5               ['LP', 'Album', 'Limited Edition']                ['Rock']   \n",
       "6               ['LP', 'Album', 'Limited Edition']  ['Electronic', 'Rock']   \n",
       "7                ['Mini-Album', 'Limited Edition']                ['Rock']   \n",
       "8                     ['Album', 'Limited Edition']                ['Rock']   \n",
       "9                                  ['LP', 'Album']     ['Hip Hop', 'Rock']   \n",
       "10  ['LP', 'Album', 'Limited Edition', 'Numbered']                ['Rock']   \n",
       "11              ['LP', 'Album', 'Limited Edition']                ['Rock']   \n",
       "12                       ['LP', '45 RPM', 'Album']                ['Rock']   \n",
       "13                                       ['Album']                ['Rock']   \n",
       "14              ['LP', 'Album', 'Limited Edition']                ['Rock']   \n",
       "15                                 ['LP', 'Album']                ['Rock']   \n",
       "16                                       ['Album']                ['Rock']   \n",
       "17                       ['LP', '45 RPM', 'Album']                ['Rock']   \n",
       "18                    ['Album', 'Limited Edition']                ['Rock']   \n",
       "19                                       ['Album']                ['Rock']   \n",
       "20                             ['Album', 'Stereo']                ['Rock']   \n",
       "21                                       ['Album']  ['Electronic', 'Rock']   \n",
       "22                                       ['Album']                ['Rock']   \n",
       "23                                       ['Album']  ['Electronic', 'Rock']   \n",
       "24                              ['Album', 'Promo']                ['Rock']   \n",
       "25                                       ['Album']                ['Rock']   \n",
       "26                                       ['Album']                ['Rock']   \n",
       "27                                       ['Album']        ['Jazz', 'Rock']   \n",
       "28                                       ['Album']                ['Rock']   \n",
       "29                                       ['Album']       ['Rock', 'Blues']   \n",
       "\n",
       "                                               styles  \\\n",
       "0                                     ['Black Metal']   \n",
       "1                                       ['Prog Rock']   \n",
       "2                                        ['Hardcore']   \n",
       "3   ['Progressive Metal', 'Post-Metal', 'Black Met...   \n",
       "4                           ['Post-Hardcore', 'Punk']   \n",
       "5                                     ['Black Metal']   \n",
       "6   ['Alternative Rock', 'Industrial', 'Drone', 'M...   \n",
       "7                                     ['Black Metal']   \n",
       "8                      ['Heavy Metal', 'Power Metal']   \n",
       "9              ['Noise Rock', 'Post-Punk', 'No Wave']   \n",
       "10          ['Black Metal', 'Blackgaze', 'Post-Punk']   \n",
       "11                                     ['Indie Rock']   \n",
       "12                               ['Hardcore', 'Punk']   \n",
       "13                                      ['Deathcore']   \n",
       "14                                    ['Black Metal']   \n",
       "15                                            ['Emo']   \n",
       "16      ['Art Rock', 'Alternative Rock', 'Post Rock']   \n",
       "17             ['Power Violence', 'Hardcore', 'Punk']   \n",
       "18                     ['Heavy Metal', 'Stoner Rock']   \n",
       "19                                      ['Deathcore']   \n",
       "20                                    ['Black Metal']   \n",
       "21                               ['Dub', 'Downtempo']   \n",
       "22                         ['Folk Rock', 'Prog Rock']   \n",
       "23                    ['Modern Classical', 'Neofolk']   \n",
       "24                       ['Grindcore', 'Death Metal']   \n",
       "25                         ['Acoustic', 'Indie Rock']   \n",
       "26                 ['Alternative Rock', 'Indie Rock']   \n",
       "27                                                 []   \n",
       "28                            ['Pop Rock', 'Neofolk']   \n",
       "29                                     ['Indie Rock']   \n",
       "\n",
       "                                       artist_profile  \n",
       "0   Blasfeme is a two piece black metal force, fue...  \n",
       "1               Post-Metal/Rock band from London, UK.  \n",
       "2                                                 NaN  \n",
       "3   Caelestra. Bristol, UK. The creation of Fever ...  \n",
       "4                                                 NaN  \n",
       "5           Black Metal project from Aarhus, Denmark.  \n",
       "6   Gnod are a British rock band from Salford, Gre...  \n",
       "7                                                 NaN  \n",
       "8                   Heavy/power metal band from Italy  \n",
       "9   Noise rock / post-punk / no wave band from Lee...  \n",
       "10        One man black metal from South West England  \n",
       "11  \\t\\r\\nC Turtle is a London based lo-fi rock gr...  \n",
       "12   Hardcore Punk band from Milano - Sondrio, Italy.  \n",
       "13                                                NaN  \n",
       "14                     Black metal from Chicago, USA.  \n",
       "15  Emo/Indie Collective, Campfire Social, craft a...  \n",
       "16                                                NaN  \n",
       "17     Hardcore powerviolence band from Leicester, UK  \n",
       "18  Flamebearer are from London and a four-piece h...  \n",
       "19                                                NaN  \n",
       "20  Svitogor is a Croatian Black Metal band founde...  \n",
       "21  Sir James Paul McCartney CH MBE (born 18 June ...  \n",
       "22      Progressive Rock band from Swansea, Wales, UK  \n",
       "23  After playing in British punk band [a=Crisis (...  \n",
       "24  \"The Berzerker is about musically fulfilling t...  \n",
       "25       Vocals, born 9th July 1965, Oxford, England.  \n",
       "26  Irish rock band. Originally active from 1988–1...  \n",
       "27  American singer and guitarist, best known as f...  \n",
       "28                                                NaN  \n",
       "29  James Grant's music career began in 1982 as so...  "
      ]
     },
     "execution_count": 4,
     "metadata": {},
     "output_type": "execute_result"
    }
   ],
   "source": [
    "df_masters_id0"
   ]
  },
  {
   "cell_type": "code",
   "execution_count": null,
   "metadata": {},
   "outputs": [],
   "source": []
  },
  {
   "cell_type": "markdown",
   "metadata": {},
   "source": [
    "# ``df_masters`` cleaning"
   ]
  },
  {
   "cell_type": "code",
   "execution_count": 16,
   "metadata": {},
   "outputs": [
    {
     "data": {
      "text/html": [
       "<div>\n",
       "<style scoped>\n",
       "    .dataframe tbody tr th:only-of-type {\n",
       "        vertical-align: middle;\n",
       "    }\n",
       "\n",
       "    .dataframe tbody tr th {\n",
       "        vertical-align: top;\n",
       "    }\n",
       "\n",
       "    .dataframe thead th {\n",
       "        text-align: right;\n",
       "    }\n",
       "</style>\n",
       "<table border=\"1\" class=\"dataframe\">\n",
       "  <thead>\n",
       "    <tr style=\"text-align: right;\">\n",
       "      <th></th>\n",
       "      <th>artist_id</th>\n",
       "      <th>master_id</th>\n",
       "      <th>main_release_id</th>\n",
       "      <th>release_country</th>\n",
       "      <th>artist</th>\n",
       "      <th>title</th>\n",
       "      <th>year</th>\n",
       "      <th>album_length</th>\n",
       "      <th>tracks</th>\n",
       "      <th>release_type</th>\n",
       "      <th>genres</th>\n",
       "      <th>styles</th>\n",
       "      <th>artist_profile</th>\n",
       "    </tr>\n",
       "  </thead>\n",
       "  <tbody>\n",
       "    <tr>\n",
       "      <th>87</th>\n",
       "      <td>252121</td>\n",
       "      <td>NaN</td>\n",
       "      <td>11119495</td>\n",
       "      <td>UK</td>\n",
       "      <td>Judas Priest</td>\n",
       "      <td>Screaming For Vengeance</td>\n",
       "      <td>1982</td>\n",
       "      <td>38.28</td>\n",
       "      <td>10</td>\n",
       "      <td>['LP', 'Album']</td>\n",
       "      <td>['Rock']</td>\n",
       "      <td>['Heavy Metal']</td>\n",
       "      <td>British Heavy Metal band preceding the ‘New Wa...</td>\n",
       "    </tr>\n",
       "    <tr>\n",
       "      <th>255</th>\n",
       "      <td>446450</td>\n",
       "      <td>NaN</td>\n",
       "      <td>2035504</td>\n",
       "      <td>UK</td>\n",
       "      <td>The Del-Byzanteens</td>\n",
       "      <td>Lies To Live By</td>\n",
       "      <td>1982</td>\n",
       "      <td>31.15</td>\n",
       "      <td>7</td>\n",
       "      <td>['LP', 'Album']</td>\n",
       "      <td>['Rock']</td>\n",
       "      <td>['New Wave', 'Avantgarde']</td>\n",
       "      <td>American group based in New York, featuring fl...</td>\n",
       "    </tr>\n",
       "    <tr>\n",
       "      <th>258</th>\n",
       "      <td>130830</td>\n",
       "      <td>NaN</td>\n",
       "      <td>5604035</td>\n",
       "      <td>UK</td>\n",
       "      <td>Felt</td>\n",
       "      <td>Crumbling The Antiseptic Beauty</td>\n",
       "      <td>1982</td>\n",
       "      <td>0.00</td>\n",
       "      <td>6</td>\n",
       "      <td>['LP', 'Album']</td>\n",
       "      <td>['Rock']</td>\n",
       "      <td>['Alternative Rock', 'Ethereal']</td>\n",
       "      <td>English indie pop band from Water Orton, Warwi...</td>\n",
       "    </tr>\n",
       "    <tr>\n",
       "      <th>297</th>\n",
       "      <td>161785</td>\n",
       "      <td>NaN</td>\n",
       "      <td>13695605</td>\n",
       "      <td>UK</td>\n",
       "      <td>Theatre Of Hate</td>\n",
       "      <td>Westworld</td>\n",
       "      <td>1982</td>\n",
       "      <td>0.00</td>\n",
       "      <td>10</td>\n",
       "      <td>['LP', 'Album']</td>\n",
       "      <td>['Rock']</td>\n",
       "      <td>['Goth Rock']</td>\n",
       "      <td>Theatre of Hate are a British post-punk band w...</td>\n",
       "    </tr>\n",
       "    <tr>\n",
       "      <th>304</th>\n",
       "      <td>251595</td>\n",
       "      <td>NaN</td>\n",
       "      <td>17855461</td>\n",
       "      <td>UK</td>\n",
       "      <td>Iron Maiden</td>\n",
       "      <td>The Number Of The Beast</td>\n",
       "      <td>1982</td>\n",
       "      <td>39.18</td>\n",
       "      <td>8</td>\n",
       "      <td>['LP', 'Album', 'Stereo']</td>\n",
       "      <td>['Rock']</td>\n",
       "      <td>['Heavy Metal']</td>\n",
       "      <td>English heavy metal band formed in Leyton, Eas...</td>\n",
       "    </tr>\n",
       "    <tr>\n",
       "      <th>...</th>\n",
       "      <td>...</td>\n",
       "      <td>...</td>\n",
       "      <td>...</td>\n",
       "      <td>...</td>\n",
       "      <td>...</td>\n",
       "      <td>...</td>\n",
       "      <td>...</td>\n",
       "      <td>...</td>\n",
       "      <td>...</td>\n",
       "      <td>...</td>\n",
       "      <td>...</td>\n",
       "      <td>...</td>\n",
       "      <td>...</td>\n",
       "    </tr>\n",
       "    <tr>\n",
       "      <th>43861</th>\n",
       "      <td>4637602</td>\n",
       "      <td>1510124.0</td>\n",
       "      <td>13288778</td>\n",
       "      <td>Europe</td>\n",
       "      <td>A Mote Of Dust</td>\n",
       "      <td>A Mote Of Dust</td>\n",
       "      <td>2019</td>\n",
       "      <td>0.00</td>\n",
       "      <td>10</td>\n",
       "      <td>['LP', 'Album', 'Limited Edition']</td>\n",
       "      <td>['Rock']</td>\n",
       "      <td>['Post Rock', 'Folk Rock']</td>\n",
       "      <td>Solo project of  Craig b (Aereogramme, The Unw...</td>\n",
       "    </tr>\n",
       "    <tr>\n",
       "      <th>43887</th>\n",
       "      <td>159169</td>\n",
       "      <td>81033.0</td>\n",
       "      <td>378703</td>\n",
       "      <td>US</td>\n",
       "      <td>Jeff Buckley</td>\n",
       "      <td>Live At Sin-é</td>\n",
       "      <td>2003</td>\n",
       "      <td>160.95</td>\n",
       "      <td>38</td>\n",
       "      <td>[]</td>\n",
       "      <td>['Rock']</td>\n",
       "      <td>['Alternative Rock', 'Folk Rock']</td>\n",
       "      <td>Jeffrey Scott Buckley (November 17, 1966 - May...</td>\n",
       "    </tr>\n",
       "    <tr>\n",
       "      <th>44015</th>\n",
       "      <td>50263</td>\n",
       "      <td>555721.0</td>\n",
       "      <td>10747602</td>\n",
       "      <td>US</td>\n",
       "      <td>Yes</td>\n",
       "      <td>Yessongs</td>\n",
       "      <td>1984</td>\n",
       "      <td>70.00</td>\n",
       "      <td>1</td>\n",
       "      <td>['Stereo', 'NTSC']</td>\n",
       "      <td>['Rock']</td>\n",
       "      <td>['Prog Rock']</td>\n",
       "      <td>Yes are an English rock band who achieved worl...</td>\n",
       "    </tr>\n",
       "    <tr>\n",
       "      <th>44050</th>\n",
       "      <td>218108</td>\n",
       "      <td>16135.0</td>\n",
       "      <td>861751</td>\n",
       "      <td>Europe</td>\n",
       "      <td>Marillion</td>\n",
       "      <td>Brave</td>\n",
       "      <td>1994</td>\n",
       "      <td>71.03</td>\n",
       "      <td>11</td>\n",
       "      <td>['Album']</td>\n",
       "      <td>['Rock']</td>\n",
       "      <td>['Classic Rock', 'Prog Rock', 'Symphonic Rock']</td>\n",
       "      <td>Marillion formed in Aylesbury, Buckinghamshire...</td>\n",
       "    </tr>\n",
       "    <tr>\n",
       "      <th>45239</th>\n",
       "      <td>5746237</td>\n",
       "      <td>1204740.0</td>\n",
       "      <td>10265406</td>\n",
       "      <td>UK</td>\n",
       "      <td>Parental Petulance</td>\n",
       "      <td>Parental Petulance</td>\n",
       "      <td>2017</td>\n",
       "      <td>19.23</td>\n",
       "      <td>13</td>\n",
       "      <td>['WAV', 'Album']</td>\n",
       "      <td>['Rock']</td>\n",
       "      <td>['Punk']</td>\n",
       "      <td>Parent Punk band from Peoria, Illinois.</td>\n",
       "    </tr>\n",
       "  </tbody>\n",
       "</table>\n",
       "<p>104 rows × 13 columns</p>\n",
       "</div>"
      ],
      "text/plain": [
       "       artist_id  master_id  main_release_id release_country  \\\n",
       "87        252121        NaN         11119495              UK   \n",
       "255       446450        NaN          2035504              UK   \n",
       "258       130830        NaN          5604035              UK   \n",
       "297       161785        NaN         13695605              UK   \n",
       "304       251595        NaN         17855461              UK   \n",
       "...          ...        ...              ...             ...   \n",
       "43861    4637602  1510124.0         13288778          Europe   \n",
       "43887     159169    81033.0           378703              US   \n",
       "44015      50263   555721.0         10747602              US   \n",
       "44050     218108    16135.0           861751          Europe   \n",
       "45239    5746237  1204740.0         10265406              UK   \n",
       "\n",
       "                   artist                            title  year  \\\n",
       "87           Judas Priest          Screaming For Vengeance  1982   \n",
       "255    The Del-Byzanteens                  Lies To Live By  1982   \n",
       "258                  Felt  Crumbling The Antiseptic Beauty  1982   \n",
       "297       Theatre Of Hate                        Westworld  1982   \n",
       "304           Iron Maiden          The Number Of The Beast  1982   \n",
       "...                   ...                              ...   ...   \n",
       "43861      A Mote Of Dust                   A Mote Of Dust  2019   \n",
       "43887        Jeff Buckley                    Live At Sin-é  2003   \n",
       "44015                 Yes                         Yessongs  1984   \n",
       "44050           Marillion                            Brave  1994   \n",
       "45239  Parental Petulance               Parental Petulance  2017   \n",
       "\n",
       "       album_length  tracks                        release_type    genres  \\\n",
       "87            38.28      10                     ['LP', 'Album']  ['Rock']   \n",
       "255           31.15       7                     ['LP', 'Album']  ['Rock']   \n",
       "258            0.00       6                     ['LP', 'Album']  ['Rock']   \n",
       "297            0.00      10                     ['LP', 'Album']  ['Rock']   \n",
       "304           39.18       8           ['LP', 'Album', 'Stereo']  ['Rock']   \n",
       "...             ...     ...                                 ...       ...   \n",
       "43861          0.00      10  ['LP', 'Album', 'Limited Edition']  ['Rock']   \n",
       "43887        160.95      38                                  []  ['Rock']   \n",
       "44015         70.00       1                  ['Stereo', 'NTSC']  ['Rock']   \n",
       "44050         71.03      11                           ['Album']  ['Rock']   \n",
       "45239         19.23      13                    ['WAV', 'Album']  ['Rock']   \n",
       "\n",
       "                                                styles  \\\n",
       "87                                     ['Heavy Metal']   \n",
       "255                         ['New Wave', 'Avantgarde']   \n",
       "258                   ['Alternative Rock', 'Ethereal']   \n",
       "297                                      ['Goth Rock']   \n",
       "304                                    ['Heavy Metal']   \n",
       "...                                                ...   \n",
       "43861                       ['Post Rock', 'Folk Rock']   \n",
       "43887                ['Alternative Rock', 'Folk Rock']   \n",
       "44015                                    ['Prog Rock']   \n",
       "44050  ['Classic Rock', 'Prog Rock', 'Symphonic Rock']   \n",
       "45239                                         ['Punk']   \n",
       "\n",
       "                                          artist_profile  \n",
       "87     British Heavy Metal band preceding the ‘New Wa...  \n",
       "255    American group based in New York, featuring fl...  \n",
       "258    English indie pop band from Water Orton, Warwi...  \n",
       "297    Theatre of Hate are a British post-punk band w...  \n",
       "304    English heavy metal band formed in Leyton, Eas...  \n",
       "...                                                  ...  \n",
       "43861  Solo project of  Craig b (Aereogramme, The Unw...  \n",
       "43887  Jeffrey Scott Buckley (November 17, 1966 - May...  \n",
       "44015  Yes are an English rock band who achieved worl...  \n",
       "44050  Marillion formed in Aylesbury, Buckinghamshire...  \n",
       "45239            Parent Punk band from Peoria, Illinois.  \n",
       "\n",
       "[104 rows x 13 columns]"
      ]
     },
     "execution_count": 16,
     "metadata": {},
     "output_type": "execute_result"
    }
   ],
   "source": [
    "df_masters[df_masters[['artist', 'title']].duplicated()]"
   ]
  },
  {
   "cell_type": "code",
   "execution_count": 15,
   "metadata": {},
   "outputs": [
    {
     "data": {
      "text/plain": [
       "(45374, 13)"
      ]
     },
     "execution_count": 15,
     "metadata": {},
     "output_type": "execute_result"
    }
   ],
   "source": [
    "df_masters.shape"
   ]
  },
  {
   "cell_type": "code",
   "execution_count": 47,
   "metadata": {},
   "outputs": [
    {
     "data": {
      "text/html": [
       "<div>\n",
       "<style scoped>\n",
       "    .dataframe tbody tr th:only-of-type {\n",
       "        vertical-align: middle;\n",
       "    }\n",
       "\n",
       "    .dataframe tbody tr th {\n",
       "        vertical-align: top;\n",
       "    }\n",
       "\n",
       "    .dataframe thead th {\n",
       "        text-align: right;\n",
       "    }\n",
       "</style>\n",
       "<table border=\"1\" class=\"dataframe\">\n",
       "  <thead>\n",
       "    <tr style=\"text-align: right;\">\n",
       "      <th></th>\n",
       "      <th>artist_id</th>\n",
       "      <th>master_id</th>\n",
       "      <th>main_release_id</th>\n",
       "      <th>release_country</th>\n",
       "      <th>artist</th>\n",
       "      <th>title</th>\n",
       "      <th>year</th>\n",
       "      <th>album_length</th>\n",
       "      <th>tracks</th>\n",
       "      <th>release_type</th>\n",
       "      <th>genres</th>\n",
       "      <th>styles</th>\n",
       "      <th>artist_profile</th>\n",
       "    </tr>\n",
       "  </thead>\n",
       "  <tbody>\n",
       "  </tbody>\n",
       "</table>\n",
       "</div>"
      ],
      "text/plain": [
       "Empty DataFrame\n",
       "Columns: [artist_id, master_id, main_release_id, release_country, artist, title, year, album_length, tracks, release_type, genres, styles, artist_profile]\n",
       "Index: []"
      ]
     },
     "execution_count": 47,
     "metadata": {},
     "output_type": "execute_result"
    }
   ],
   "source": [
    "df_masters[df_masters['artist']==\"Kingston Wall\"]"
   ]
  },
  {
   "cell_type": "code",
   "execution_count": null,
   "metadata": {},
   "outputs": [],
   "source": [
    "# check one by one if necessary\n",
    "try:\n",
    "    df_id0_ratings.drop([49, 50, 51], axis=0, inplace=True)\n",
    "    print('Rows dropped')\n",
    "    print(df_id0_ratings.shape)\n",
    "except:\n",
    "    print(\"Couldn't drop these rows\")\n",
    "    print(df_id0_ratings.shape)"
   ]
  },
  {
   "cell_type": "code",
   "execution_count": 44,
   "metadata": {},
   "outputs": [
    {
     "data": {
      "text/html": [
       "<div>\n",
       "<style scoped>\n",
       "    .dataframe tbody tr th:only-of-type {\n",
       "        vertical-align: middle;\n",
       "    }\n",
       "\n",
       "    .dataframe tbody tr th {\n",
       "        vertical-align: top;\n",
       "    }\n",
       "\n",
       "    .dataframe thead th {\n",
       "        text-align: right;\n",
       "    }\n",
       "</style>\n",
       "<table border=\"1\" class=\"dataframe\">\n",
       "  <thead>\n",
       "    <tr style=\"text-align: right;\">\n",
       "      <th></th>\n",
       "      <th>album_id</th>\n",
       "      <th>artist</th>\n",
       "      <th>title</th>\n",
       "      <th>rating</th>\n",
       "      <th>votes</th>\n",
       "    </tr>\n",
       "  </thead>\n",
       "  <tbody>\n",
       "    <tr>\n",
       "      <th>11887</th>\n",
       "      <td>15257</td>\n",
       "      <td>Kingston Wall</td>\n",
       "      <td>Kingston Wall II</td>\n",
       "      <td>4.23</td>\n",
       "      <td>90</td>\n",
       "    </tr>\n",
       "    <tr>\n",
       "      <th>15401</th>\n",
       "      <td>19434</td>\n",
       "      <td>Kingston Wall</td>\n",
       "      <td>Kingston Wall I</td>\n",
       "      <td>4.11</td>\n",
       "      <td>51</td>\n",
       "    </tr>\n",
       "    <tr>\n",
       "      <th>23213</th>\n",
       "      <td>28724</td>\n",
       "      <td>Kingston Wall</td>\n",
       "      <td>III - Tri-Logy</td>\n",
       "      <td>3.94</td>\n",
       "      <td>45</td>\n",
       "    </tr>\n",
       "    <tr>\n",
       "      <th>137350</th>\n",
       "      <td>174775</td>\n",
       "      <td>Kingston Wall</td>\n",
       "      <td>Freakout Remixes</td>\n",
       "      <td>3.00</td>\n",
       "      <td>1</td>\n",
       "    </tr>\n",
       "  </tbody>\n",
       "</table>\n",
       "</div>"
      ],
      "text/plain": [
       "        album_id         artist             title  rating  votes\n",
       "11887      15257  Kingston Wall  Kingston Wall II    4.23     90\n",
       "15401      19434  Kingston Wall   Kingston Wall I    4.11     51\n",
       "23213      28724  Kingston Wall    III - Tri-Logy    3.94     45\n",
       "137350    174775  Kingston Wall  Freakout Remixes    3.00      1"
      ]
     },
     "execution_count": 44,
     "metadata": {},
     "output_type": "execute_result"
    }
   ],
   "source": [
    "artist = \"Kingston Wall\"\n",
    "\n",
    "df_ratings[df_ratings['artist']==artist]"
   ]
  }
 ],
 "metadata": {
  "kernelspec": {
   "display_name": "base",
   "language": "python",
   "name": "python3"
  },
  "language_info": {
   "codemirror_mode": {
    "name": "ipython",
    "version": 3
   },
   "file_extension": ".py",
   "mimetype": "text/x-python",
   "name": "python",
   "nbconvert_exporter": "python",
   "pygments_lexer": "ipython3",
   "version": "3.12.4"
  }
 },
 "nbformat": 4,
 "nbformat_minor": 2
}
