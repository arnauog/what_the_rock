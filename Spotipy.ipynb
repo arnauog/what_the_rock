{
 "cells": [
  {
   "cell_type": "code",
   "execution_count": 1,
   "metadata": {},
   "outputs": [],
   "source": [
    "import numpy as np\n",
    "import pandas as pd\n",
    "from pandas import json_normalize\n",
    "import seaborn as sns\n",
    "import matplotlib.pyplot as plt\n",
    "\n",
    "import requests\n",
    "import time\n",
    "import ast\n",
    "import random\n",
    "\n",
    "# Spotipy\n",
    "from dotenv import load_dotenv\n",
    "import os\n",
    "import spotipy\n",
    "from spotipy.oauth2 import SpotifyClientCredentials\n",
    "\n",
    "import warnings\n",
    "warnings.filterwarnings(\"ignore\")\n",
    "\n",
    "from my_functions import *"
   ]
  },
  {
   "cell_type": "code",
   "execution_count": 2,
   "metadata": {},
   "outputs": [
    {
     "name": "stdout",
     "output_type": "stream",
     "text": [
      "(11346, 13): df_masters\n",
      "(51222, 5): df_ratings_20\n",
      "(9667, 13): df_masters_blended\n"
     ]
    }
   ],
   "source": [
    "# import the dataframes\n",
    "df_masters = pd.read_csv('Datasets/df_masters.csv')               # albums from the UK and US (until 2000) with >= 20 votes \n",
    "df_ratings_20 = pd.read_csv('Datasets/df_ratings_20.csv', keep_default_na=False)  # albums with >= 20 votes, mostly from rock, worldwide\n",
    "df_masters_blended = pd.read_csv('Datasets/df_masters_blended.csv')               # albums from the UK and US (until 2000) with >= 20 votes \n",
    "\n",
    "# print information\n",
    "print(f'{df_masters.shape}: df_masters')\n",
    "print(f'{df_ratings_20.shape}: df_ratings_20')\n",
    "print(f'{df_masters_blended.shape}: df_masters_blended')"
   ]
  },
  {
   "cell_type": "code",
   "execution_count": 3,
   "metadata": {},
   "outputs": [
    {
     "data": {
      "text/html": [
       "<div>\n",
       "<style scoped>\n",
       "    .dataframe tbody tr th:only-of-type {\n",
       "        vertical-align: middle;\n",
       "    }\n",
       "\n",
       "    .dataframe tbody tr th {\n",
       "        vertical-align: top;\n",
       "    }\n",
       "\n",
       "    .dataframe thead th {\n",
       "        text-align: right;\n",
       "    }\n",
       "</style>\n",
       "<table border=\"1\" class=\"dataframe\">\n",
       "  <thead>\n",
       "    <tr style=\"text-align: right;\">\n",
       "      <th></th>\n",
       "      <th>artist_id</th>\n",
       "      <th>master_id</th>\n",
       "      <th>main_release_id</th>\n",
       "      <th>release_country</th>\n",
       "      <th>artist</th>\n",
       "      <th>title</th>\n",
       "      <th>year</th>\n",
       "      <th>album_length</th>\n",
       "      <th>tracks</th>\n",
       "      <th>release_type</th>\n",
       "      <th>genres</th>\n",
       "      <th>styles</th>\n",
       "      <th>artist_profile</th>\n",
       "    </tr>\n",
       "  </thead>\n",
       "  <tbody>\n",
       "    <tr>\n",
       "      <th>0</th>\n",
       "      <td>2190314</td>\n",
       "      <td>3731373</td>\n",
       "      <td>32952558</td>\n",
       "      <td>US</td>\n",
       "      <td>Just Surrender</td>\n",
       "      <td>Phoenix</td>\n",
       "      <td>2010</td>\n",
       "      <td>0.00</td>\n",
       "      <td>13</td>\n",
       "      <td>['Album']</td>\n",
       "      <td>['Rock']</td>\n",
       "      <td>['Alternative Rock', 'Pop Punk']</td>\n",
       "      <td>Band from Dover Plains, New York, formerly kno...</td>\n",
       "    </tr>\n",
       "    <tr>\n",
       "      <th>1</th>\n",
       "      <td>315009</td>\n",
       "      <td>3624404</td>\n",
       "      <td>1233426</td>\n",
       "      <td>US</td>\n",
       "      <td>Saccharine Trust</td>\n",
       "      <td>Surviving You, Always</td>\n",
       "      <td>1984</td>\n",
       "      <td>39.70</td>\n",
       "      <td>12</td>\n",
       "      <td>['LP', 'Album']</td>\n",
       "      <td>['Rock']</td>\n",
       "      <td>['Punk', 'Avantgarde', 'Experimental']</td>\n",
       "      <td>American rock band from California, formed in ...</td>\n",
       "    </tr>\n",
       "    <tr>\n",
       "      <th>2</th>\n",
       "      <td>983148</td>\n",
       "      <td>3466594</td>\n",
       "      <td>1098693</td>\n",
       "      <td>US</td>\n",
       "      <td>Skycamefalling</td>\n",
       "      <td>10.21</td>\n",
       "      <td>2000</td>\n",
       "      <td>63.65</td>\n",
       "      <td>12</td>\n",
       "      <td>['Album', 'Enhanced']</td>\n",
       "      <td>['Rock']</td>\n",
       "      <td>['Metalcore', 'Post-Hardcore']</td>\n",
       "      <td>Metalcore band from Long Island, NY.</td>\n",
       "    </tr>\n",
       "    <tr>\n",
       "      <th>3</th>\n",
       "      <td>108050</td>\n",
       "      <td>3347596</td>\n",
       "      <td>11050388</td>\n",
       "      <td>US</td>\n",
       "      <td>Daniel Johnston</td>\n",
       "      <td>Songs of Pain</td>\n",
       "      <td>1983</td>\n",
       "      <td>0.00</td>\n",
       "      <td>21</td>\n",
       "      <td>['Album']</td>\n",
       "      <td>['Rock']</td>\n",
       "      <td>['Lo-Fi']</td>\n",
       "      <td>Daniel Johnston (born January 22, 1961, Sacram...</td>\n",
       "    </tr>\n",
       "    <tr>\n",
       "      <th>4</th>\n",
       "      <td>492915</td>\n",
       "      <td>3092328</td>\n",
       "      <td>2476600</td>\n",
       "      <td>UK</td>\n",
       "      <td>Skyclad</td>\n",
       "      <td>A Semblance of Normality</td>\n",
       "      <td>2004</td>\n",
       "      <td>47.33</td>\n",
       "      <td>13</td>\n",
       "      <td>['Album']</td>\n",
       "      <td>['Rock']</td>\n",
       "      <td>['Folk Rock']</td>\n",
       "      <td>Skyclad was formed in 1990 by Martin Walkyier ...</td>\n",
       "    </tr>\n",
       "  </tbody>\n",
       "</table>\n",
       "</div>"
      ],
      "text/plain": [
       "   artist_id  master_id  main_release_id release_country            artist  \\\n",
       "0    2190314    3731373         32952558              US    Just Surrender   \n",
       "1     315009    3624404          1233426              US  Saccharine Trust   \n",
       "2     983148    3466594          1098693              US    Skycamefalling   \n",
       "3     108050    3347596         11050388              US   Daniel Johnston   \n",
       "4     492915    3092328          2476600              UK           Skyclad   \n",
       "\n",
       "                      title  year  album_length  tracks  \\\n",
       "0                   Phoenix  2010          0.00      13   \n",
       "1     Surviving You, Always  1984         39.70      12   \n",
       "2                     10.21  2000         63.65      12   \n",
       "3             Songs of Pain  1983          0.00      21   \n",
       "4  A Semblance of Normality  2004         47.33      13   \n",
       "\n",
       "            release_type    genres                                  styles  \\\n",
       "0              ['Album']  ['Rock']        ['Alternative Rock', 'Pop Punk']   \n",
       "1        ['LP', 'Album']  ['Rock']  ['Punk', 'Avantgarde', 'Experimental']   \n",
       "2  ['Album', 'Enhanced']  ['Rock']          ['Metalcore', 'Post-Hardcore']   \n",
       "3              ['Album']  ['Rock']                               ['Lo-Fi']   \n",
       "4              ['Album']  ['Rock']                           ['Folk Rock']   \n",
       "\n",
       "                                      artist_profile  \n",
       "0  Band from Dover Plains, New York, formerly kno...  \n",
       "1  American rock band from California, formed in ...  \n",
       "2               Metalcore band from Long Island, NY.  \n",
       "3  Daniel Johnston (born January 22, 1961, Sacram...  \n",
       "4  Skyclad was formed in 1990 by Martin Walkyier ...  "
      ]
     },
     "execution_count": 3,
     "metadata": {},
     "output_type": "execute_result"
    }
   ],
   "source": [
    "df_masters.head()"
   ]
  },
  {
   "cell_type": "markdown",
   "metadata": {},
   "source": [
    "# **``album_length``**"
   ]
  },
  {
   "cell_type": "code",
   "execution_count": 4,
   "metadata": {},
   "outputs": [
    {
     "data": {
      "text/plain": [
       "(11346, 13)"
      ]
     },
     "execution_count": 4,
     "metadata": {},
     "output_type": "execute_result"
    }
   ],
   "source": [
    "df = df_masters\n",
    "df.shape"
   ]
  },
  {
   "cell_type": "code",
   "execution_count": 5,
   "metadata": {},
   "outputs": [
    {
     "name": "stdout",
     "output_type": "stream",
     "text": [
      "albums missing album_length: 2201 \n",
      "% missing album_length: 19.4%\n"
     ]
    }
   ],
   "source": [
    "percentage_album_length_missing = round((df['album_length']==0).sum() / df.shape[0] * 100, 2)\n",
    "\n",
    "print(f\"albums missing album_length: {(df['album_length']==0).sum()} \")\n",
    "print(f'% missing album_length: {percentage_album_length_missing}%')"
   ]
  },
  {
   "cell_type": "code",
   "execution_count": 6,
   "metadata": {},
   "outputs": [
    {
     "data": {
      "text/plain": [
       "(2201, 13)"
      ]
     },
     "execution_count": 6,
     "metadata": {},
     "output_type": "execute_result"
    }
   ],
   "source": [
    "df_length_0 = df[df['album_length']==0].sort_values(['artist', 'year', 'title'])\n",
    "df_length_0.shape"
   ]
  },
  {
   "cell_type": "code",
   "execution_count": 18,
   "metadata": {},
   "outputs": [
    {
     "data": {
      "text/html": [
       "<div>\n",
       "<style scoped>\n",
       "    .dataframe tbody tr th:only-of-type {\n",
       "        vertical-align: middle;\n",
       "    }\n",
       "\n",
       "    .dataframe tbody tr th {\n",
       "        vertical-align: top;\n",
       "    }\n",
       "\n",
       "    .dataframe thead th {\n",
       "        text-align: right;\n",
       "    }\n",
       "</style>\n",
       "<table border=\"1\" class=\"dataframe\">\n",
       "  <thead>\n",
       "    <tr style=\"text-align: right;\">\n",
       "      <th></th>\n",
       "      <th>artist_id</th>\n",
       "      <th>master_id</th>\n",
       "      <th>main_release_id</th>\n",
       "      <th>release_country</th>\n",
       "      <th>artist</th>\n",
       "      <th>title</th>\n",
       "      <th>year</th>\n",
       "      <th>album_length</th>\n",
       "      <th>tracks</th>\n",
       "      <th>release_type</th>\n",
       "      <th>genres</th>\n",
       "      <th>styles</th>\n",
       "      <th>artist_profile</th>\n",
       "    </tr>\n",
       "  </thead>\n",
       "  <tbody>\n",
       "    <tr>\n",
       "      <th>5423</th>\n",
       "      <td>39775</td>\n",
       "      <td>30521</td>\n",
       "      <td>1615490</td>\n",
       "      <td>UK</td>\n",
       "      <td>10cc</td>\n",
       "      <td>Deceptive Bends</td>\n",
       "      <td>1977</td>\n",
       "      <td>0.0</td>\n",
       "      <td>9</td>\n",
       "      <td>['LP', 'Album', 'Stereo']</td>\n",
       "      <td>['Rock']</td>\n",
       "      <td>['Pop Rock']</td>\n",
       "      <td>Major 70s UK (founded in Stockport, Greater Ma...</td>\n",
       "    </tr>\n",
       "    <tr>\n",
       "      <th>11075</th>\n",
       "      <td>317719</td>\n",
       "      <td>107693</td>\n",
       "      <td>1611310</td>\n",
       "      <td>US</td>\n",
       "      <td>16</td>\n",
       "      <td>Bridges to Burn</td>\n",
       "      <td>2009</td>\n",
       "      <td>0.0</td>\n",
       "      <td>12</td>\n",
       "      <td>['LP', 'Album', 'Limited Edition']</td>\n",
       "      <td>['Rock']</td>\n",
       "      <td>['Hardcore', 'Downtempo', 'Southern Rock']</td>\n",
       "      <td>American sludge metal band from San Diego, Cal...</td>\n",
       "    </tr>\n",
       "    <tr>\n",
       "      <th>151</th>\n",
       "      <td>21148</td>\n",
       "      <td>702877</td>\n",
       "      <td>3947624</td>\n",
       "      <td>UK</td>\n",
       "      <td>23 Skidoo</td>\n",
       "      <td>Seven Songs</td>\n",
       "      <td>1982</td>\n",
       "      <td>0.0</td>\n",
       "      <td>8</td>\n",
       "      <td>['Album']</td>\n",
       "      <td>['Electronic', 'Rock']</td>\n",
       "      <td>['Tribal', 'Industrial']</td>\n",
       "      <td>23 Skidoo are a British band playing a fusion ...</td>\n",
       "    </tr>\n",
       "    <tr>\n",
       "      <th>10670</th>\n",
       "      <td>513958</td>\n",
       "      <td>0</td>\n",
       "      <td>4834521</td>\n",
       "      <td>US</td>\n",
       "      <td>3</td>\n",
       "      <td>Summercamp Nightmare</td>\n",
       "      <td>2003</td>\n",
       "      <td>0.0</td>\n",
       "      <td>12</td>\n",
       "      <td>['Album']</td>\n",
       "      <td>['Rock']</td>\n",
       "      <td>['Prog Rock', 'Heavy Metal']</td>\n",
       "      <td>American progressive rock/metal band from Wood...</td>\n",
       "    </tr>\n",
       "    <tr>\n",
       "      <th>10624</th>\n",
       "      <td>513958</td>\n",
       "      <td>429178</td>\n",
       "      <td>9441550</td>\n",
       "      <td>US</td>\n",
       "      <td>3</td>\n",
       "      <td>Wake Pig</td>\n",
       "      <td>2004</td>\n",
       "      <td>0.0</td>\n",
       "      <td>11</td>\n",
       "      <td>['Album']</td>\n",
       "      <td>['Rock']</td>\n",
       "      <td>['Alternative Rock', 'Hard Rock', 'Heavy Metal']</td>\n",
       "      <td>American progressive rock/metal band from Wood...</td>\n",
       "    </tr>\n",
       "    <tr>\n",
       "      <th>10621</th>\n",
       "      <td>513958</td>\n",
       "      <td>429183</td>\n",
       "      <td>3436139</td>\n",
       "      <td>US</td>\n",
       "      <td>3</td>\n",
       "      <td>The End is Begun</td>\n",
       "      <td>2007</td>\n",
       "      <td>0.0</td>\n",
       "      <td>13</td>\n",
       "      <td>['Album']</td>\n",
       "      <td>['Rock']</td>\n",
       "      <td>['Heavy Metal']</td>\n",
       "      <td>American progressive rock/metal band from Wood...</td>\n",
       "    </tr>\n",
       "    <tr>\n",
       "      <th>10697</th>\n",
       "      <td>333297</td>\n",
       "      <td>0</td>\n",
       "      <td>1738205</td>\n",
       "      <td>US</td>\n",
       "      <td>40 Below Summer</td>\n",
       "      <td>Rain</td>\n",
       "      <td>2007</td>\n",
       "      <td>0.0</td>\n",
       "      <td>12</td>\n",
       "      <td>['Album', 'Reissue']</td>\n",
       "      <td>['Rock']</td>\n",
       "      <td>['Alternative Metal', 'Nu Metal']</td>\n",
       "      <td>40 Below Summer is an American nu metal band f...</td>\n",
       "    </tr>\n",
       "    <tr>\n",
       "      <th>6194</th>\n",
       "      <td>253271</td>\n",
       "      <td>17234</td>\n",
       "      <td>381848</td>\n",
       "      <td>US</td>\n",
       "      <td>7 Seconds</td>\n",
       "      <td>The Crew</td>\n",
       "      <td>1984</td>\n",
       "      <td>0.0</td>\n",
       "      <td>18</td>\n",
       "      <td>['LP', 'Album']</td>\n",
       "      <td>['Rock']</td>\n",
       "      <td>['Punk', 'Hardcore']</td>\n",
       "      <td>Punk band originally from Reno, Nevada, formed...</td>\n",
       "    </tr>\n",
       "    <tr>\n",
       "      <th>6195</th>\n",
       "      <td>253271</td>\n",
       "      <td>17226</td>\n",
       "      <td>3944276</td>\n",
       "      <td>US</td>\n",
       "      <td>7 Seconds</td>\n",
       "      <td>New Wind</td>\n",
       "      <td>1986</td>\n",
       "      <td>0.0</td>\n",
       "      <td>13</td>\n",
       "      <td>['LP', 'Album']</td>\n",
       "      <td>['Rock']</td>\n",
       "      <td>['Punk', 'Hardcore']</td>\n",
       "      <td>Punk band originally from Reno, Nevada, formed...</td>\n",
       "    </tr>\n",
       "    <tr>\n",
       "      <th>5392</th>\n",
       "      <td>11203</td>\n",
       "      <td>30962</td>\n",
       "      <td>1453338</td>\n",
       "      <td>UK</td>\n",
       "      <td>A Certain Ratio</td>\n",
       "      <td>The Graveyard and The Ballroom</td>\n",
       "      <td>1980</td>\n",
       "      <td>0.0</td>\n",
       "      <td>16</td>\n",
       "      <td>['Album']</td>\n",
       "      <td>['Electronic', 'Rock']</td>\n",
       "      <td>['Leftfield', 'New Wave']</td>\n",
       "      <td>British post punk &amp; indie funk band formed in ...</td>\n",
       "    </tr>\n",
       "  </tbody>\n",
       "</table>\n",
       "</div>"
      ],
      "text/plain": [
       "       artist_id  master_id  main_release_id release_country           artist  \\\n",
       "5423       39775      30521          1615490              UK             10cc   \n",
       "11075     317719     107693          1611310              US               16   \n",
       "151        21148     702877          3947624              UK        23 Skidoo   \n",
       "10670     513958          0          4834521              US                3   \n",
       "10624     513958     429178          9441550              US                3   \n",
       "10621     513958     429183          3436139              US                3   \n",
       "10697     333297          0          1738205              US  40 Below Summer   \n",
       "6194      253271      17234           381848              US        7 Seconds   \n",
       "6195      253271      17226          3944276              US        7 Seconds   \n",
       "5392       11203      30962          1453338              UK  A Certain Ratio   \n",
       "\n",
       "                                title  year  album_length  tracks  \\\n",
       "5423                  Deceptive Bends  1977           0.0       9   \n",
       "11075                 Bridges to Burn  2009           0.0      12   \n",
       "151                       Seven Songs  1982           0.0       8   \n",
       "10670            Summercamp Nightmare  2003           0.0      12   \n",
       "10624                        Wake Pig  2004           0.0      11   \n",
       "10621                The End is Begun  2007           0.0      13   \n",
       "10697                            Rain  2007           0.0      12   \n",
       "6194                         The Crew  1984           0.0      18   \n",
       "6195                         New Wind  1986           0.0      13   \n",
       "5392   The Graveyard and The Ballroom  1980           0.0      16   \n",
       "\n",
       "                             release_type                  genres  \\\n",
       "5423            ['LP', 'Album', 'Stereo']                ['Rock']   \n",
       "11075  ['LP', 'Album', 'Limited Edition']                ['Rock']   \n",
       "151                             ['Album']  ['Electronic', 'Rock']   \n",
       "10670                           ['Album']                ['Rock']   \n",
       "10624                           ['Album']                ['Rock']   \n",
       "10621                           ['Album']                ['Rock']   \n",
       "10697                ['Album', 'Reissue']                ['Rock']   \n",
       "6194                      ['LP', 'Album']                ['Rock']   \n",
       "6195                      ['LP', 'Album']                ['Rock']   \n",
       "5392                            ['Album']  ['Electronic', 'Rock']   \n",
       "\n",
       "                                                 styles  \\\n",
       "5423                                       ['Pop Rock']   \n",
       "11075        ['Hardcore', 'Downtempo', 'Southern Rock']   \n",
       "151                            ['Tribal', 'Industrial']   \n",
       "10670                      ['Prog Rock', 'Heavy Metal']   \n",
       "10624  ['Alternative Rock', 'Hard Rock', 'Heavy Metal']   \n",
       "10621                                   ['Heavy Metal']   \n",
       "10697                 ['Alternative Metal', 'Nu Metal']   \n",
       "6194                               ['Punk', 'Hardcore']   \n",
       "6195                               ['Punk', 'Hardcore']   \n",
       "5392                          ['Leftfield', 'New Wave']   \n",
       "\n",
       "                                          artist_profile  \n",
       "5423   Major 70s UK (founded in Stockport, Greater Ma...  \n",
       "11075  American sludge metal band from San Diego, Cal...  \n",
       "151    23 Skidoo are a British band playing a fusion ...  \n",
       "10670  American progressive rock/metal band from Wood...  \n",
       "10624  American progressive rock/metal band from Wood...  \n",
       "10621  American progressive rock/metal band from Wood...  \n",
       "10697  40 Below Summer is an American nu metal band f...  \n",
       "6194   Punk band originally from Reno, Nevada, formed...  \n",
       "6195   Punk band originally from Reno, Nevada, formed...  \n",
       "5392   British post punk & indie funk band formed in ...  "
      ]
     },
     "execution_count": 18,
     "metadata": {},
     "output_type": "execute_result"
    }
   ],
   "source": [
    "df_length_0.iloc[5:15]"
   ]
  },
  {
   "cell_type": "markdown",
   "metadata": {},
   "source": [
    "**Albums with ``album_length = 0`` that I've gotten with Spotipy**"
   ]
  },
  {
   "cell_type": "code",
   "execution_count": 9,
   "metadata": {},
   "outputs": [
    {
     "data": {
      "text/plain": [
       "(1922, 5)"
      ]
     },
     "execution_count": 9,
     "metadata": {},
     "output_type": "execute_result"
    }
   ],
   "source": [
    "df_lengths_missing_concat = pd.read_csv('Datasets/df_lengths_missing_concat.csv')\n",
    "df_lengths_missing_concat.shape"
   ]
  },
  {
   "cell_type": "code",
   "execution_count": 17,
   "metadata": {},
   "outputs": [
    {
     "data": {
      "text/html": [
       "<div>\n",
       "<style scoped>\n",
       "    .dataframe tbody tr th:only-of-type {\n",
       "        vertical-align: middle;\n",
       "    }\n",
       "\n",
       "    .dataframe tbody tr th {\n",
       "        vertical-align: top;\n",
       "    }\n",
       "\n",
       "    .dataframe thead th {\n",
       "        text-align: right;\n",
       "    }\n",
       "</style>\n",
       "<table border=\"1\" class=\"dataframe\">\n",
       "  <thead>\n",
       "    <tr style=\"text-align: right;\">\n",
       "      <th></th>\n",
       "      <th>artist</th>\n",
       "      <th>title</th>\n",
       "      <th>name</th>\n",
       "      <th>album_length</th>\n",
       "      <th>tracks</th>\n",
       "    </tr>\n",
       "  </thead>\n",
       "  <tbody>\n",
       "    <tr>\n",
       "      <th>4</th>\n",
       "      <td>10cc</td>\n",
       "      <td>Deceptive Bends</td>\n",
       "      <td>deceptive bends</td>\n",
       "      <td>51.21</td>\n",
       "      <td>12</td>\n",
       "    </tr>\n",
       "    <tr>\n",
       "      <th>5</th>\n",
       "      <td>23 Skidoo</td>\n",
       "      <td>Seven Songs</td>\n",
       "      <td>seven songs</td>\n",
       "      <td>71.22</td>\n",
       "      <td>14</td>\n",
       "    </tr>\n",
       "    <tr>\n",
       "      <th>6</th>\n",
       "      <td>2:54</td>\n",
       "      <td>2:54</td>\n",
       "      <td>2:54</td>\n",
       "      <td>41.95</td>\n",
       "      <td>10</td>\n",
       "    </tr>\n",
       "    <tr>\n",
       "      <th>7</th>\n",
       "      <td>7 Seconds</td>\n",
       "      <td>The Crew</td>\n",
       "      <td>the crew</td>\n",
       "      <td>30.01</td>\n",
       "      <td>24</td>\n",
       "    </tr>\n",
       "    <tr>\n",
       "      <th>8</th>\n",
       "      <td>7 Seconds</td>\n",
       "      <td>New Wind</td>\n",
       "      <td>new wind</td>\n",
       "      <td>38.97</td>\n",
       "      <td>14</td>\n",
       "    </tr>\n",
       "    <tr>\n",
       "      <th>9</th>\n",
       "      <td>A Global Threat</td>\n",
       "      <td>Until We Die</td>\n",
       "      <td>until we die</td>\n",
       "      <td>27.51</td>\n",
       "      <td>14</td>\n",
       "    </tr>\n",
       "  </tbody>\n",
       "</table>\n",
       "</div>"
      ],
      "text/plain": [
       "            artist            title             name  album_length  tracks\n",
       "4             10cc  Deceptive Bends  deceptive bends         51.21      12\n",
       "5        23 Skidoo      Seven Songs      seven songs         71.22      14\n",
       "6             2:54             2:54             2:54         41.95      10\n",
       "7        7 Seconds         The Crew         the crew         30.01      24\n",
       "8        7 Seconds         New Wind         new wind         38.97      14\n",
       "9  A Global Threat     Until We Die     until we die         27.51      14"
      ]
     },
     "execution_count": 17,
     "metadata": {},
     "output_type": "execute_result"
    }
   ],
   "source": [
    "df_lengths_missing_concat.iloc[4:10]"
   ]
  },
  {
   "cell_type": "markdown",
   "metadata": {},
   "source": [
    "**Albums that still have ``album_length = 0`` and I haven't gotten with Spotipy**"
   ]
  },
  {
   "cell_type": "code",
   "execution_count": 34,
   "metadata": {},
   "outputs": [
    {
     "data": {
      "text/plain": [
       "(1044, 13)"
      ]
     },
     "execution_count": 34,
     "metadata": {},
     "output_type": "execute_result"
    }
   ],
   "source": [
    "df_length_to_do = df_length_0[~df_length_0['title'].isin(df_lengths_missing_concat['title'].values)]\n",
    "df_length_to_do.shape"
   ]
  },
  {
   "cell_type": "code",
   "execution_count": 36,
   "metadata": {},
   "outputs": [
    {
     "data": {
      "text/html": [
       "<div>\n",
       "<style scoped>\n",
       "    .dataframe tbody tr th:only-of-type {\n",
       "        vertical-align: middle;\n",
       "    }\n",
       "\n",
       "    .dataframe tbody tr th {\n",
       "        vertical-align: top;\n",
       "    }\n",
       "\n",
       "    .dataframe thead th {\n",
       "        text-align: right;\n",
       "    }\n",
       "</style>\n",
       "<table border=\"1\" class=\"dataframe\">\n",
       "  <thead>\n",
       "    <tr style=\"text-align: right;\">\n",
       "      <th></th>\n",
       "      <th>artist_id</th>\n",
       "      <th>master_id</th>\n",
       "      <th>main_release_id</th>\n",
       "      <th>release_country</th>\n",
       "      <th>artist</th>\n",
       "      <th>title</th>\n",
       "      <th>year</th>\n",
       "      <th>album_length</th>\n",
       "      <th>tracks</th>\n",
       "      <th>release_type</th>\n",
       "      <th>genres</th>\n",
       "      <th>styles</th>\n",
       "      <th>artist_profile</th>\n",
       "    </tr>\n",
       "  </thead>\n",
       "  <tbody>\n",
       "    <tr>\n",
       "      <th>11125</th>\n",
       "      <td>371750</td>\n",
       "      <td>326966</td>\n",
       "      <td>1117204</td>\n",
       "      <td>US</td>\n",
       "      <td>108</td>\n",
       "      <td>A New Beat From A Dead Heart</td>\n",
       "      <td>2007</td>\n",
       "      <td>0.0</td>\n",
       "      <td>13</td>\n",
       "      <td>['LP', 'Album']</td>\n",
       "      <td>['Rock']</td>\n",
       "      <td>['Hardcore']</td>\n",
       "      <td>Metallic hardcore band from New York City, USA...</td>\n",
       "    </tr>\n",
       "    <tr>\n",
       "      <th>11075</th>\n",
       "      <td>317719</td>\n",
       "      <td>107693</td>\n",
       "      <td>1611310</td>\n",
       "      <td>US</td>\n",
       "      <td>16</td>\n",
       "      <td>Bridges to Burn</td>\n",
       "      <td>2009</td>\n",
       "      <td>0.0</td>\n",
       "      <td>12</td>\n",
       "      <td>['LP', 'Album', 'Limited Edition']</td>\n",
       "      <td>['Rock']</td>\n",
       "      <td>['Hardcore', 'Downtempo', 'Southern Rock']</td>\n",
       "      <td>American sludge metal band from San Diego, Cal...</td>\n",
       "    </tr>\n",
       "    <tr>\n",
       "      <th>10670</th>\n",
       "      <td>513958</td>\n",
       "      <td>0</td>\n",
       "      <td>4834521</td>\n",
       "      <td>US</td>\n",
       "      <td>3</td>\n",
       "      <td>Summercamp Nightmare</td>\n",
       "      <td>2003</td>\n",
       "      <td>0.0</td>\n",
       "      <td>12</td>\n",
       "      <td>['Album']</td>\n",
       "      <td>['Rock']</td>\n",
       "      <td>['Prog Rock', 'Heavy Metal']</td>\n",
       "      <td>American progressive rock/metal band from Wood...</td>\n",
       "    </tr>\n",
       "    <tr>\n",
       "      <th>10624</th>\n",
       "      <td>513958</td>\n",
       "      <td>429178</td>\n",
       "      <td>9441550</td>\n",
       "      <td>US</td>\n",
       "      <td>3</td>\n",
       "      <td>Wake Pig</td>\n",
       "      <td>2004</td>\n",
       "      <td>0.0</td>\n",
       "      <td>11</td>\n",
       "      <td>['Album']</td>\n",
       "      <td>['Rock']</td>\n",
       "      <td>['Alternative Rock', 'Hard Rock', 'Heavy Metal']</td>\n",
       "      <td>American progressive rock/metal band from Wood...</td>\n",
       "    </tr>\n",
       "    <tr>\n",
       "      <th>10621</th>\n",
       "      <td>513958</td>\n",
       "      <td>429183</td>\n",
       "      <td>3436139</td>\n",
       "      <td>US</td>\n",
       "      <td>3</td>\n",
       "      <td>The End is Begun</td>\n",
       "      <td>2007</td>\n",
       "      <td>0.0</td>\n",
       "      <td>13</td>\n",
       "      <td>['Album']</td>\n",
       "      <td>['Rock']</td>\n",
       "      <td>['Heavy Metal']</td>\n",
       "      <td>American progressive rock/metal band from Wood...</td>\n",
       "    </tr>\n",
       "    <tr>\n",
       "      <th>10697</th>\n",
       "      <td>333297</td>\n",
       "      <td>0</td>\n",
       "      <td>1738205</td>\n",
       "      <td>US</td>\n",
       "      <td>40 Below Summer</td>\n",
       "      <td>Rain</td>\n",
       "      <td>2007</td>\n",
       "      <td>0.0</td>\n",
       "      <td>12</td>\n",
       "      <td>['Album', 'Reissue']</td>\n",
       "      <td>['Rock']</td>\n",
       "      <td>['Alternative Metal', 'Nu Metal']</td>\n",
       "      <td>40 Below Summer is an American nu metal band f...</td>\n",
       "    </tr>\n",
       "    <tr>\n",
       "      <th>5392</th>\n",
       "      <td>11203</td>\n",
       "      <td>30962</td>\n",
       "      <td>1453338</td>\n",
       "      <td>UK</td>\n",
       "      <td>A Certain Ratio</td>\n",
       "      <td>The Graveyard and The Ballroom</td>\n",
       "      <td>1980</td>\n",
       "      <td>0.0</td>\n",
       "      <td>16</td>\n",
       "      <td>['Album']</td>\n",
       "      <td>['Electronic', 'Rock']</td>\n",
       "      <td>['Leftfield', 'New Wave']</td>\n",
       "      <td>British post punk &amp; indie funk band formed in ...</td>\n",
       "    </tr>\n",
       "    <tr>\n",
       "      <th>10523</th>\n",
       "      <td>992312</td>\n",
       "      <td>176104</td>\n",
       "      <td>3397211</td>\n",
       "      <td>US</td>\n",
       "      <td>A Day In Black And White</td>\n",
       "      <td>Notes</td>\n",
       "      <td>2005</td>\n",
       "      <td>0.0</td>\n",
       "      <td>11</td>\n",
       "      <td>['LP']</td>\n",
       "      <td>['Rock']</td>\n",
       "      <td>['Emo', 'Punk', 'Indie Rock']</td>\n",
       "      <td>American indie rock band from Washington D.C.</td>\n",
       "    </tr>\n",
       "    <tr>\n",
       "      <th>10955</th>\n",
       "      <td>2226494</td>\n",
       "      <td>739888</td>\n",
       "      <td>6145762</td>\n",
       "      <td>US</td>\n",
       "      <td>A Great Big Pile of Leaves</td>\n",
       "      <td>Have You Seen My Prefrontal Cortex?</td>\n",
       "      <td>2010</td>\n",
       "      <td>0.0</td>\n",
       "      <td>13</td>\n",
       "      <td>['Album']</td>\n",
       "      <td>['Rock']</td>\n",
       "      <td>['Pop Rock', 'Indie Rock']</td>\n",
       "      <td>An indie-rock band from Brooklyn, New York for...</td>\n",
       "    </tr>\n",
       "    <tr>\n",
       "      <th>11066</th>\n",
       "      <td>1915201</td>\n",
       "      <td>348342</td>\n",
       "      <td>2403844</td>\n",
       "      <td>US</td>\n",
       "      <td>A Pale Horse Named Death</td>\n",
       "      <td>And Hell Will Follow Me</td>\n",
       "      <td>2010</td>\n",
       "      <td>0.0</td>\n",
       "      <td>13</td>\n",
       "      <td>['Album', 'Limited Edition']</td>\n",
       "      <td>['Rock']</td>\n",
       "      <td>['Alternative Rock', 'Goth Rock']</td>\n",
       "      <td>A Pale Horse Named Death is an American Rock/M...</td>\n",
       "    </tr>\n",
       "  </tbody>\n",
       "</table>\n",
       "</div>"
      ],
      "text/plain": [
       "       artist_id  master_id  main_release_id release_country  \\\n",
       "11125     371750     326966          1117204              US   \n",
       "11075     317719     107693          1611310              US   \n",
       "10670     513958          0          4834521              US   \n",
       "10624     513958     429178          9441550              US   \n",
       "10621     513958     429183          3436139              US   \n",
       "10697     333297          0          1738205              US   \n",
       "5392       11203      30962          1453338              UK   \n",
       "10523     992312     176104          3397211              US   \n",
       "10955    2226494     739888          6145762              US   \n",
       "11066    1915201     348342          2403844              US   \n",
       "\n",
       "                           artist                                title  year  \\\n",
       "11125                         108         A New Beat From A Dead Heart  2007   \n",
       "11075                          16                      Bridges to Burn  2009   \n",
       "10670                           3                 Summercamp Nightmare  2003   \n",
       "10624                           3                             Wake Pig  2004   \n",
       "10621                           3                     The End is Begun  2007   \n",
       "10697             40 Below Summer                                 Rain  2007   \n",
       "5392              A Certain Ratio       The Graveyard and The Ballroom  1980   \n",
       "10523    A Day In Black And White                                Notes  2005   \n",
       "10955  A Great Big Pile of Leaves  Have You Seen My Prefrontal Cortex?  2010   \n",
       "11066    A Pale Horse Named Death              And Hell Will Follow Me  2010   \n",
       "\n",
       "       album_length  tracks                        release_type  \\\n",
       "11125           0.0      13                     ['LP', 'Album']   \n",
       "11075           0.0      12  ['LP', 'Album', 'Limited Edition']   \n",
       "10670           0.0      12                           ['Album']   \n",
       "10624           0.0      11                           ['Album']   \n",
       "10621           0.0      13                           ['Album']   \n",
       "10697           0.0      12                ['Album', 'Reissue']   \n",
       "5392            0.0      16                           ['Album']   \n",
       "10523           0.0      11                              ['LP']   \n",
       "10955           0.0      13                           ['Album']   \n",
       "11066           0.0      13        ['Album', 'Limited Edition']   \n",
       "\n",
       "                       genres  \\\n",
       "11125                ['Rock']   \n",
       "11075                ['Rock']   \n",
       "10670                ['Rock']   \n",
       "10624                ['Rock']   \n",
       "10621                ['Rock']   \n",
       "10697                ['Rock']   \n",
       "5392   ['Electronic', 'Rock']   \n",
       "10523                ['Rock']   \n",
       "10955                ['Rock']   \n",
       "11066                ['Rock']   \n",
       "\n",
       "                                                 styles  \\\n",
       "11125                                      ['Hardcore']   \n",
       "11075        ['Hardcore', 'Downtempo', 'Southern Rock']   \n",
       "10670                      ['Prog Rock', 'Heavy Metal']   \n",
       "10624  ['Alternative Rock', 'Hard Rock', 'Heavy Metal']   \n",
       "10621                                   ['Heavy Metal']   \n",
       "10697                 ['Alternative Metal', 'Nu Metal']   \n",
       "5392                          ['Leftfield', 'New Wave']   \n",
       "10523                     ['Emo', 'Punk', 'Indie Rock']   \n",
       "10955                        ['Pop Rock', 'Indie Rock']   \n",
       "11066                 ['Alternative Rock', 'Goth Rock']   \n",
       "\n",
       "                                          artist_profile  \n",
       "11125  Metallic hardcore band from New York City, USA...  \n",
       "11075  American sludge metal band from San Diego, Cal...  \n",
       "10670  American progressive rock/metal band from Wood...  \n",
       "10624  American progressive rock/metal band from Wood...  \n",
       "10621  American progressive rock/metal band from Wood...  \n",
       "10697  40 Below Summer is an American nu metal band f...  \n",
       "5392   British post punk & indie funk band formed in ...  \n",
       "10523      American indie rock band from Washington D.C.  \n",
       "10955  An indie-rock band from Brooklyn, New York for...  \n",
       "11066  A Pale Horse Named Death is an American Rock/M...  "
      ]
     },
     "execution_count": 36,
     "metadata": {},
     "output_type": "execute_result"
    }
   ],
   "source": [
    "df_length_to_do.head(10)"
   ]
  },
  {
   "cell_type": "code",
   "execution_count": 61,
   "metadata": {},
   "outputs": [],
   "source": [
    "df_length_to_do.to_csv('Datasets/df_length_to_do.csv', index=False)"
   ]
  },
  {
   "cell_type": "markdown",
   "metadata": {},
   "source": [
    "## **``Spotipy`` (Spotify API)**"
   ]
  },
  {
   "cell_type": "code",
   "execution_count": 7,
   "metadata": {},
   "outputs": [
    {
     "data": {
      "text/plain": [
       "True"
      ]
     },
     "execution_count": 7,
     "metadata": {},
     "output_type": "execute_result"
    }
   ],
   "source": [
    "load_dotenv()"
   ]
  },
  {
   "cell_type": "code",
   "execution_count": 8,
   "metadata": {},
   "outputs": [],
   "source": [
    "user = os.getenv('client_id')\n",
    "password = os.getenv('client_secret')\n",
    "\n",
    "# Initialize Spotipy with user credentials\n",
    "sp = spotipy.Spotify(auth_manager=SpotifyClientCredentials(client_id = user,\n",
    "                                                           client_secret = password), requests_timeout=10)"
   ]
  },
  {
   "cell_type": "markdown",
   "metadata": {},
   "source": [
    "### Testing"
   ]
  },
  {
   "cell_type": "code",
   "execution_count": 24,
   "metadata": {},
   "outputs": [],
   "source": [
    "def get_all_albums(artist_id):\n",
    "    albums = []\n",
    "    results = sp.artist_albums(artist_id, limit=50)  # First request\n",
    "\n",
    "    while results:\n",
    "        albums.extend(results['items'])  # Store the albums\n",
    "        if results['next']:  # Check if there's another page\n",
    "            results = sp.next(results)  # Fetch next page\n",
    "        else:\n",
    "            break  # Stop when no more pages\n",
    "\n",
    "    return albums"
   ]
  },
  {
   "cell_type": "code",
   "execution_count": 22,
   "metadata": {},
   "outputs": [
    {
     "name": "stdout",
     "output_type": "stream",
     "text": [
      "artist found: 108 with id '3j2S24uHONLPeKvYjG14oH'\n"
     ]
    }
   ],
   "source": [
    "artist = '108'\n",
    "\n",
    "results = sp.search(q = artist\n",
    "                    , type = 'artist'\n",
    "                    , limit = 5)\n",
    "\n",
    "# theorically the artist should be the first result\n",
    "artist_name = results['artists']['items'][0]['name']\n",
    "artist_id = results['artists']['items'][0]['id'] # get the artist_id\n",
    "\n",
    "if artist_name.lower() == artist.lower():\n",
    "    print(f\"artist found: {artist_name} with id '{artist_id}'\")\n",
    "else:\n",
    "    print(f\"Cannot find '{artist}', try some other one\")"
   ]
  },
  {
   "cell_type": "code",
   "execution_count": 26,
   "metadata": {},
   "outputs": [],
   "source": [
    "albums = get_all_albums(artist_id)"
   ]
  },
  {
   "cell_type": "code",
   "execution_count": 27,
   "metadata": {},
   "outputs": [
    {
     "name": "stdout",
     "output_type": "stream",
     "text": [
      "18.61\n",
      "A New Beat from a Dead Heart\n",
      "Creation. Sustenance. Destruction.\n",
      "Songs Of Separation\n",
      "Violent World: A Tribute To The Misfits\n"
     ]
    }
   ],
   "source": [
    "for i in albums:\n",
    "    print(i['name'])"
   ]
  },
  {
   "cell_type": "code",
   "execution_count": 28,
   "metadata": {},
   "outputs": [
    {
     "name": "stdout",
     "output_type": "stream",
     "text": [
      "artist found\n",
      "108\n",
      "18.61\n",
      "A New Beat from a Dead Heart\n",
      "album found\n",
      "artist found\n",
      "108\n",
      "Mission Infinite\n",
      "artist found\n",
      "108\n",
      "05s identity\n",
      "Metta Muzik, Vol. 2\n",
      "Flex skill\n",
      "RE:BORN\n",
      "OVER THE BORDER\n",
      "kitanoshiro (feat. 108)\n",
      "Empty Heart (feat. ZiiFlex a.k.a ZIMA) [Remix]\n"
     ]
    }
   ],
   "source": [
    "artist = '108'\n",
    "title = 'A New Beat From A Dead Heart'\n",
    "\n",
    "results = sp.search(q = artist\n",
    "                    , type = 'artist'\n",
    "                    , limit = 5)\n",
    "\n",
    "artists = results['artists']['items']\n",
    "artists_ids = results['artists']['items'] # get the artist_id\n",
    "\n",
    "for i in range(len(artists)):\n",
    "    # artist = artists[i]['name']\n",
    "    try:\n",
    "        # look for my artist\n",
    "        if artist.lower().replace('and', '&') == artists[i]['name'].lower():\n",
    "            # if it finds my artist:\n",
    "            artist_id = artists_ids[i]['id']\n",
    "            print('artist found')\n",
    "            print(artist)\n",
    "\n",
    "            artist_albums = get_all_albums(artist_id)\n",
    "\n",
    "            for album in artist_albums:\n",
    "\n",
    "                print(album['name'])\n",
    "\n",
    "                # look for my album\n",
    "                if album['name'].lower().replace('and', '&') == (title.lower().replace('and', '&')):\n",
    "                    print('album found')\n",
    "                    album_id = album['id']\n",
    "                    results = sp.album(album_id)\n",
    "                    tracks = results['tracks']['items']\n",
    "                    song_durations = [song['duration_ms']/60000 for song in tracks]\n",
    "                    \n",
    "                    album_length = round(sum(song_durations), 2)\n",
    "\n",
    "                    break   # once it finds the album, stop\n",
    "    except:\n",
    "        print('error')            "
   ]
  },
  {
   "cell_type": "code",
   "execution_count": 29,
   "metadata": {},
   "outputs": [
    {
     "data": {
      "text/plain": [
       "34.65"
      ]
     },
     "execution_count": 29,
     "metadata": {},
     "output_type": "execute_result"
    }
   ],
   "source": [
    "album_length"
   ]
  },
  {
   "cell_type": "markdown",
   "metadata": {},
   "source": [
    "Here we can see that the album is found, though not on the exact same name, it doesn't do an exact match because there are other parts in the title, such as **'Deluxe Edition'** or **'Remastered'**"
   ]
  },
  {
   "cell_type": "code",
   "execution_count": 1078,
   "metadata": {},
   "outputs": [
    {
     "data": {
      "text/plain": [
       "31"
      ]
     },
     "execution_count": 1078,
     "metadata": {},
     "output_type": "execute_result"
    }
   ],
   "source": [
    "len(artist_albums)"
   ]
  },
  {
   "cell_type": "code",
   "execution_count": 1082,
   "metadata": {},
   "outputs": [
    {
     "data": {
      "text/plain": [
       "'Kings of the Wild Frontier (Deluxe Edition)'"
      ]
     },
     "execution_count": 1082,
     "metadata": {},
     "output_type": "execute_result"
    }
   ],
   "source": [
    "artist_albums[0]['name']"
   ]
  },
  {
   "cell_type": "code",
   "execution_count": 952,
   "metadata": {},
   "outputs": [
    {
     "data": {
      "text/plain": [
       "'2jK54ZlZhTF1TxygsVeR05'"
      ]
     },
     "execution_count": 952,
     "metadata": {},
     "output_type": "execute_result"
    }
   ],
   "source": [
    "artist_id"
   ]
  },
  {
   "cell_type": "markdown",
   "metadata": {},
   "source": [
    "### **define the functions**"
   ]
  },
  {
   "cell_type": "code",
   "execution_count": 30,
   "metadata": {},
   "outputs": [],
   "source": [
    "def get_album_length(df):\n",
    "    count = 0\n",
    "    scraped = 0\n",
    "\n",
    "    # create empty lists\n",
    "    artists_list = []\n",
    "    albums_list = []\n",
    "    albums_lengths = []\n",
    "    tracks_list = []\n",
    "    album_name_list = []\n",
    "\n",
    "    for artist in df['artist'].unique():\n",
    "        time.sleep(1)\n",
    "\n",
    "        results = sp.search(q = artist\n",
    "                            , type = 'artist'\n",
    "                            , limit = 5)\n",
    "\n",
    "        artists = results['artists']['items']\n",
    "        artists_ids = results['artists']['items'] # get the artist_id\n",
    "\n",
    "        for i in range(len(artists)):\n",
    "            artist_name = artists[i]['name'].lower()\n",
    "            artist_name_and = artist.replace('and', '&').lower()\n",
    "            try:\n",
    "                # look for my artist\n",
    "                if artist_name == artist.lower() or artist_name == artist_name_and:\n",
    "                    \n",
    "                    # if it finds my artist:\n",
    "                    artist_id = artists_ids[i]['id']\n",
    "                    artist_albums = get_all_albums(artist_id)\n",
    "                    \n",
    "                    for title in df[df['artist']==artist]['title'].values:\n",
    "                        time.sleep(1)\n",
    "                        count+=1\n",
    "                        title_clean = title.replace('and', '&').lower()\n",
    "\n",
    "                        for album in artist_albums:\n",
    "                            album_name = album['name'].lower()\n",
    "                               \n",
    "                            if title_clean == album_name:\n",
    "                                artists_list.append(artist)\n",
    "                                albums_list.append(title)\n",
    "                                album_name_list.append(album_name)\n",
    "\n",
    "                                album_id = album['id']\n",
    "                                results = sp.album(album_id)\n",
    "                                tracks = results['tracks']['items']\n",
    "                                tracks_list.append(len(tracks))\n",
    "                                \n",
    "                                song_durations = [song['duration_ms']/60000 for song in tracks]\n",
    "                                \n",
    "                                album_length = round(sum(song_durations), 2)\n",
    "                                albums_lengths.append(album_length)\n",
    "                                scraped+=1\n",
    "\n",
    "                            # once it finds the album, stop\n",
    "                                print(f\"{scraped}/{count}: {artist} - {title}, exact match\")\n",
    "                                break\n",
    "                        else:\n",
    "                            for album in artist_albums:\n",
    "                                album_name = album['name'].lower()\n",
    "\n",
    "                                if title_clean in album_name:\n",
    "                                    artists_list.append(artist)\n",
    "                                    albums_list.append(title)\n",
    "                                    album_name_list.append(album_name)\n",
    "\n",
    "                                    album_id = album['id']\n",
    "                                    results = sp.album(album_id)\n",
    "                                    tracks = results['tracks']['items']\n",
    "                                    tracks_list.append(len(tracks))\n",
    "\n",
    "                                    song_durations = [song['duration_ms']/60000 for song in tracks]\n",
    "                                    \n",
    "                                    album_length = round(sum(song_durations), 2)\n",
    "                                    albums_lengths.append(album_length)\n",
    "                                    scraped+=1\n",
    "\n",
    "                                # once it finds the album, stop\n",
    "                                    print(f\"{scraped}/{count}: {artist} - {title}, similar match\")\n",
    "                                    break\n",
    "\n",
    "                # when it checks all the albums of that artist, stop    \n",
    "                    break\n",
    "\n",
    "            except:\n",
    "                print('error')\n",
    "                albums_lengths.append(np.nan)\n",
    "                tracks_list.append(np.nan)\n",
    "                break\n",
    "\n",
    "        lists = [artists_list, albums_list, album_name_list, albums_lengths, tracks_list]\n",
    "\n",
    "    # Check if all lists have the same length\n",
    "        lengths = [len(lst) for lst in lists]\n",
    "\n",
    "        if len(set(lengths)) != 1:\n",
    "            print(\"Lengths are not the same.\")\n",
    "            break # stop the loop, I won't be able to store the data if I have one value missing\n",
    "\n",
    "    df_lengths_missing = pd.DataFrame({'artist': artists_list,\n",
    "                                    'title': albums_list,\n",
    "                                    'name': album_name_list,\n",
    "                                    'album_length': albums_lengths,\n",
    "                                    'tracks': tracks_list})\n",
    "    return df_lengths_missing"
   ]
  },
  {
   "cell_type": "code",
   "execution_count": 9,
   "metadata": {},
   "outputs": [],
   "source": [
    "def get_all_albums(artist_id):\n",
    "    albums = []\n",
    "    results = sp.artist_albums(artist_id, limit=50)  # First request\n",
    "\n",
    "    while results:\n",
    "        albums.extend(results['items'])  # Store the albums\n",
    "        if results['next']:  # Check if there's another page\n",
    "            results = sp.next(results)  # Fetch next page\n",
    "        else:\n",
    "            break  # Stop when no more pages\n",
    "\n",
    "    return albums"
   ]
  },
  {
   "cell_type": "markdown",
   "metadata": {},
   "source": [
    "**La següent funciona però no és la millor**"
   ]
  },
  {
   "cell_type": "code",
   "execution_count": 160,
   "metadata": {},
   "outputs": [],
   "source": [
    "def get_album_length(df):\n",
    "    count = 0\n",
    "    scraped = 0\n",
    "\n",
    "    # create empty lists\n",
    "    artists_list = []\n",
    "    albums_list = []\n",
    "    albums_lengths = []\n",
    "    tracks_list = []\n",
    "\n",
    "    for artist, title in df[['artist', 'title']].values:\n",
    "        time.sleep(1)\n",
    "        count+=1\n",
    "\n",
    "        artists_list.append(artist)\n",
    "        albums_list.append(title)\n",
    "\n",
    "        results = sp.search(q = artist\n",
    "                            , type = 'artist'\n",
    "                            , limit = 5)\n",
    "\n",
    "        artists = results['artists']['items']\n",
    "        artists_ids = results['artists']['items'] # get the artist_id\n",
    "\n",
    "        for i in range(len(artists)):\n",
    "            artist_name = artists[i]['name'].lower()\n",
    "            artist_name_and = artist.replace('and', '&').lower()\n",
    "            try:\n",
    "                # look for my artist\n",
    "                if artist_name == artist.lower() or artist_name == artist_name_and:\n",
    "                    # if it finds my artist:\n",
    "                    artist_id = artists_ids[i]['id']\n",
    "\n",
    "                    artist_albums = get_all_albums(artist_id)\n",
    "\n",
    "                    for album in artist_albums:\n",
    "                        album_name = album['name'].lower()        \n",
    "                        title_name_and = title.replace('and', '&').lower()\n",
    "                        if title.lower() in album_name or title_name_and in album_name:\n",
    "                            album_id = album['id']\n",
    "                            results = sp.album(album_id)\n",
    "                            tracks = results['tracks']['items']\n",
    "                            tracks_list.append(len(tracks))\n",
    "                            song_durations = [song['duration_ms']/60000 for song in tracks]\n",
    "                            \n",
    "                            album_length = round(sum(song_durations), 2)\n",
    "                            albums_lengths.append(album_length)\n",
    "                            scraped+=1\n",
    "                            break   # once it finds the album, stop\n",
    "                    else:\n",
    "                        continue\n",
    "                    break \n",
    "            except:\n",
    "                print('error')\n",
    "                albums_lengths.append(np.nan)\n",
    "                tracks_list.append(np.nan)\n",
    "                break\n",
    "        \n",
    "        else:\n",
    "            albums_lengths.append(np.nan)\n",
    "            tracks_list.append(np.nan)\n",
    "\n",
    "        print(f\"{scraped}/{count}: {artist} - {title}\")\n",
    "\n",
    "        lists = [artists_list, albums_list, albums_lengths, tracks_list]\n",
    "\n",
    "    # Check if all lists have the same length\n",
    "        lengths = [len(lst) for lst in lists]\n",
    "        if len(set(lengths)) != 1:\n",
    "            print(\"Lengths are not the same.\")\n",
    "            break # stop the loop, I won't be able to store the data if I have one value missing\n",
    "\n",
    "    df_lengths_missing = pd.DataFrame({'artist': artists_list,\n",
    "                                    'title': albums_list,\n",
    "                                    'album_length': albums_lengths,\n",
    "                                    'tracks': tracks_list})\n",
    "    return df_lengths_missing"
   ]
  },
  {
   "cell_type": "markdown",
   "metadata": {},
   "source": [
    "### **Get the ``album_length`` from Spotipy**"
   ]
  },
  {
   "cell_type": "code",
   "execution_count": null,
   "metadata": {},
   "outputs": [
    {
     "name": "stdout",
     "output_type": "stream",
     "text": [
      "1/2: Corpus Christi - The Darker Shades Of White, exact match\n",
      "2/5: Crime In Stereo - I Was Trying to Describe You to Someone, exact match\n",
      "3/8: Damien Jurado - Caught In the Trees, exact match\n",
      "4/9: Damiera - M(US)IC, exact match\n",
      "5/10: Daniel Striped Tiger - Capital Cities, exact match\n"
     ]
    },
    {
     "name": "stderr",
     "output_type": "stream",
     "text": [
      "WARNING:root:Your application has reached a rate/request limit. Retry will occur after: None\n"
     ]
    },
    {
     "name": "stdout",
     "output_type": "stream",
     "text": [
      "6/12: Dark Castle - Spirited Migration, exact match\n",
      "7/13: Darkest Hour - So Sedated, so Secure, similar match\n",
      "8/15: Dax Riggs - Say Goodnight To The World, exact match\n",
      "9/16: Dead Hearts - Bitter Verses, exact match\n",
      "10/17: Dead Meadow - Howls From the Hills, exact match\n",
      "11/19: Dead Poetic - Vices, exact match\n",
      "12/21: Dead to Me - Cuban Ballerina, exact match\n",
      "13/22: Dead to Me - African Elephants, exact match\n",
      "14/23: Death Before Dishonor - Count Me In, exact match\n",
      "15/24: Death Cab for Cutie - You Can Play These Songs With Chords, exact match\n",
      "16/26: Decyfer Down - End of Grey, exact match\n",
      "17/27: Deer Tick - The Black Dirt Sessions, exact match\n",
      "18/28: Defiance, Ohio - The Fear, The Fear, The Fear, exact match\n",
      "19/29: Defiance, Ohio - Midwestern Minutes, exact match\n",
      "20/30: Dekapitator - The Storm Before The Calm, exact match\n",
      "21/31: Derek Sherinian - Blood of the Snake, exact match\n",
      "22/33: Dillinger Four - Situationist Comedy, exact match\n",
      "23/34: Dirty Projectors - The Glad Fact, exact match\n",
      "24/39: Dommin - Love Is Gone, exact match\n",
      "25/40: Dream Theater - Chaos in Motion, similar match\n",
      "26/41: Driftless Pony Club - Cholera, exact match\n",
      "27/42: Drive-By Truckers - Southern Rock Opera, exact match\n",
      "28/44: Dropkick Murphys - Do or Die, exact match\n",
      "29/45: Drowning Pool - Desensitized, exact match\n",
      "30/49: Dystopia - Dystopia, exact match\n",
      "31/50: Eagle Twin - The Unkindness of Crows, exact match\n",
      "32/51: Earthless - Rhythms from a Cosmic Sky, exact match\n",
      "33/52: Edison Glass - Time Is Fiction, exact match\n",
      "34/54: Egypt Central - Egypt Central, exact match\n",
      "35/55: Eisley - Combinations, similar match\n",
      "36/56: El Ten Eleven - Every Direction is North, exact match\n",
      "37/57: El Ten Eleven - It's Still Like a Secret, exact match\n",
      "38/58: Electric Wizard - Electric Wizard, similar match\n",
      "39/62: Emptyself - Emptyself, exact match\n",
      "40/63: Endwell - Consequences, exact match\n",
      "41/64: Engine Down - Under the Pretense of Present Tense, exact match\n",
      "42/67: Evergreen Terrace - Almost Home, exact match\n",
      "43/68: Every Avenue - Picture Perfect, exact match\n",
      "44/69: Every Bridge Burned - Aun Aprendo, exact match\n",
      "45/70: Every Time I Die - The Big Dirty, exact match\n",
      "46/71: Every Time I Die - New Junk Aesthetic, similar match\n",
      "47/72: Evil Army - Evil Army, exact match\n",
      "48/73: Exmortus - In Hatred's Flame, exact match\n",
      "49/76: Fake Problems - How Far Our Bodies Go, exact match\n",
      "50/77: Fake Problems - It's Great to Be Alive, exact match\n",
      "51/78: Fake Problems - Real Ghosts Caught on Tape, exact match\n",
      "52/79: Falling Up - Captiva, exact match\n",
      "53/81: Far-Less - A Toast to Bad Taste, exact match\n",
      "54/82: Fiona Apple - Extraordinary Machine, exact match\n",
      "55/83: First Blood - Silence Is Betrayal, exact match\n",
      "56/84: Five For Fighting - Two Lights, exact match\n",
      "57/87: Flatfoot 56 - Jungle of the Midwest Sea, exact match\n",
      "58/89: Flogging Molly - Float, exact match\n",
      "59/92: Foghat - Foghat Live, similar match\n",
      "60/94: Forbidden - Omega Wave, exact match\n",
      "61/98: Fu Manchu - The Action is Go, exact match\n",
      "62/99: Fu Manchu - King of the Road, exact match\n"
     ]
    },
    {
     "data": {
      "text/plain": [
       "(62, 5)"
      ]
     },
     "execution_count": 55,
     "metadata": {},
     "output_type": "execute_result"
    }
   ],
   "source": [
    "start_index = 300\n",
    "end_index = start_index + 100\n",
    "\n",
    "df_lengths_missing = get_album_length(df_length_to_do.iloc[start_index:end_index])\n",
    "df_lengths_missing.shape"
   ]
  },
  {
   "cell_type": "code",
   "execution_count": 12,
   "metadata": {},
   "outputs": [
    {
     "data": {
      "text/plain": [
       "2.3502304147465436"
      ]
     },
     "execution_count": 12,
     "metadata": {},
     "output_type": "execute_result"
    }
   ],
   "source": [
    "minutes = 17\n",
    "attempts = 434\n",
    "\n",
    "seconds_per_attempt = minutes*60/attempts\n",
    "seconds_per_attempt "
   ]
  },
  {
   "cell_type": "code",
   "execution_count": 56,
   "metadata": {},
   "outputs": [
    {
     "data": {
      "text/html": [
       "<div>\n",
       "<style scoped>\n",
       "    .dataframe tbody tr th:only-of-type {\n",
       "        vertical-align: middle;\n",
       "    }\n",
       "\n",
       "    .dataframe tbody tr th {\n",
       "        vertical-align: top;\n",
       "    }\n",
       "\n",
       "    .dataframe thead th {\n",
       "        text-align: right;\n",
       "    }\n",
       "</style>\n",
       "<table border=\"1\" class=\"dataframe\">\n",
       "  <thead>\n",
       "    <tr style=\"text-align: right;\">\n",
       "      <th></th>\n",
       "      <th>artist</th>\n",
       "      <th>title</th>\n",
       "      <th>name</th>\n",
       "      <th>album_length</th>\n",
       "      <th>tracks</th>\n",
       "    </tr>\n",
       "  </thead>\n",
       "  <tbody>\n",
       "    <tr>\n",
       "      <th>26</th>\n",
       "      <td>Drive-By Truckers</td>\n",
       "      <td>Southern Rock Opera</td>\n",
       "      <td>southern rock opera</td>\n",
       "      <td>93.91</td>\n",
       "      <td>20</td>\n",
       "    </tr>\n",
       "    <tr>\n",
       "      <th>14</th>\n",
       "      <td>Death Cab for Cutie</td>\n",
       "      <td>You Can Play These Songs With Chords</td>\n",
       "      <td>you can play these songs with chords</td>\n",
       "      <td>66.91</td>\n",
       "      <td>18</td>\n",
       "    </tr>\n",
       "    <tr>\n",
       "      <th>27</th>\n",
       "      <td>Dropkick Murphys</td>\n",
       "      <td>Do or Die</td>\n",
       "      <td>do or die</td>\n",
       "      <td>40.13</td>\n",
       "      <td>16</td>\n",
       "    </tr>\n",
       "    <tr>\n",
       "      <th>52</th>\n",
       "      <td>Far-Less</td>\n",
       "      <td>A Toast to Bad Taste</td>\n",
       "      <td>a toast to bad taste</td>\n",
       "      <td>50.65</td>\n",
       "      <td>16</td>\n",
       "    </tr>\n",
       "    <tr>\n",
       "      <th>23</th>\n",
       "      <td>Dommin</td>\n",
       "      <td>Love Is Gone</td>\n",
       "      <td>love is gone</td>\n",
       "      <td>51.69</td>\n",
       "      <td>15</td>\n",
       "    </tr>\n",
       "  </tbody>\n",
       "</table>\n",
       "</div>"
      ],
      "text/plain": [
       "                 artist                                 title  \\\n",
       "26    Drive-By Truckers                   Southern Rock Opera   \n",
       "14  Death Cab for Cutie  You Can Play These Songs With Chords   \n",
       "27     Dropkick Murphys                             Do or Die   \n",
       "52             Far-Less                  A Toast to Bad Taste   \n",
       "23               Dommin                          Love Is Gone   \n",
       "\n",
       "                                    name  album_length  tracks  \n",
       "26                   southern rock opera         93.91      20  \n",
       "14  you can play these songs with chords         66.91      18  \n",
       "27                             do or die         40.13      16  \n",
       "52                  a toast to bad taste         50.65      16  \n",
       "23                          love is gone         51.69      15  "
      ]
     },
     "execution_count": 56,
     "metadata": {},
     "output_type": "execute_result"
    }
   ],
   "source": [
    "df_lengths_missing.sort_values('tracks', ascending=False).head()"
   ]
  },
  {
   "cell_type": "code",
   "execution_count": 57,
   "metadata": {},
   "outputs": [
    {
     "data": {
      "text/plain": [
       "<Axes: xlabel='tracks'>"
      ]
     },
     "execution_count": 57,
     "metadata": {},
     "output_type": "execute_result"
    },
    {
     "data": {
      "image/png": "[encoded data removed]",
      "text/plain": [
       "<Figure size 800x100 with 1 Axes>"
      ]
     },
     "metadata": {},
     "output_type": "display_data"
    }
   ],
   "source": [
    "plt.figure(figsize=(8,1))\n",
    "sns.boxplot(x=df_lengths_missing['tracks'])"
   ]
  },
  {
   "cell_type": "code",
   "execution_count": 58,
   "metadata": {},
   "outputs": [
    {
     "data": {
      "text/html": [
       "<div>\n",
       "<style scoped>\n",
       "    .dataframe tbody tr th:only-of-type {\n",
       "        vertical-align: middle;\n",
       "    }\n",
       "\n",
       "    .dataframe tbody tr th {\n",
       "        vertical-align: top;\n",
       "    }\n",
       "\n",
       "    .dataframe thead th {\n",
       "        text-align: right;\n",
       "    }\n",
       "</style>\n",
       "<table border=\"1\" class=\"dataframe\">\n",
       "  <thead>\n",
       "    <tr style=\"text-align: right;\">\n",
       "      <th></th>\n",
       "      <th>artist</th>\n",
       "      <th>title</th>\n",
       "      <th>name</th>\n",
       "      <th>album_length</th>\n",
       "      <th>tracks</th>\n",
       "    </tr>\n",
       "  </thead>\n",
       "  <tbody>\n",
       "    <tr>\n",
       "      <th>24</th>\n",
       "      <td>Dream Theater</td>\n",
       "      <td>Chaos in Motion</td>\n",
       "      <td>chaos in motion 2007 - 2008</td>\n",
       "      <td>155.14</td>\n",
       "      <td>12</td>\n",
       "    </tr>\n",
       "    <tr>\n",
       "      <th>26</th>\n",
       "      <td>Drive-By Truckers</td>\n",
       "      <td>Southern Rock Opera</td>\n",
       "      <td>southern rock opera</td>\n",
       "      <td>93.91</td>\n",
       "      <td>20</td>\n",
       "    </tr>\n",
       "    <tr>\n",
       "      <th>14</th>\n",
       "      <td>Death Cab for Cutie</td>\n",
       "      <td>You Can Play These Songs With Chords</td>\n",
       "      <td>you can play these songs with chords</td>\n",
       "      <td>66.91</td>\n",
       "      <td>18</td>\n",
       "    </tr>\n",
       "    <tr>\n",
       "      <th>30</th>\n",
       "      <td>Eagle Twin</td>\n",
       "      <td>The Unkindness of Crows</td>\n",
       "      <td>the unkindness of crows</td>\n",
       "      <td>64.88</td>\n",
       "      <td>7</td>\n",
       "    </tr>\n",
       "    <tr>\n",
       "      <th>59</th>\n",
       "      <td>Forbidden</td>\n",
       "      <td>Omega Wave</td>\n",
       "      <td>omega wave</td>\n",
       "      <td>61.92</td>\n",
       "      <td>12</td>\n",
       "    </tr>\n",
       "  </tbody>\n",
       "</table>\n",
       "</div>"
      ],
      "text/plain": [
       "                 artist                                 title  \\\n",
       "24        Dream Theater                       Chaos in Motion   \n",
       "26    Drive-By Truckers                   Southern Rock Opera   \n",
       "14  Death Cab for Cutie  You Can Play These Songs With Chords   \n",
       "30           Eagle Twin               The Unkindness of Crows   \n",
       "59            Forbidden                            Omega Wave   \n",
       "\n",
       "                                    name  album_length  tracks  \n",
       "24           chaos in motion 2007 - 2008        155.14      12  \n",
       "26                   southern rock opera         93.91      20  \n",
       "14  you can play these songs with chords         66.91      18  \n",
       "30               the unkindness of crows         64.88       7  \n",
       "59                            omega wave         61.92      12  "
      ]
     },
     "execution_count": 58,
     "metadata": {},
     "output_type": "execute_result"
    }
   ],
   "source": [
    "df_lengths_missing.sort_values('album_length', ascending=False).head()"
   ]
  },
  {
   "cell_type": "code",
   "execution_count": 59,
   "metadata": {},
   "outputs": [
    {
     "data": {
      "text/plain": [
       "<Axes: xlabel='album_length'>"
      ]
     },
     "execution_count": 59,
     "metadata": {},
     "output_type": "execute_result"
    },
    {
     "data": {
      "image/png": "[encoded data removed]",
      "text/plain": [
       "<Figure size 800x100 with 1 Axes>"
      ]
     },
     "metadata": {},
     "output_type": "display_data"
    }
   ],
   "source": [
    "plt.figure(figsize=(8,1))\n",
    "sns.boxplot(x=df_lengths_missing['album_length'])"
   ]
  },
  {
   "cell_type": "code",
   "execution_count": 60,
   "metadata": {},
   "outputs": [],
   "source": [
    "df_lengths_missing.to_csv('Datasets/df_lengths_missing4.csv', index=False)"
   ]
  },
  {
   "cell_type": "code",
   "execution_count": null,
   "metadata": {},
   "outputs": [],
   "source": []
  },
  {
   "cell_type": "code",
   "execution_count": 22,
   "metadata": {},
   "outputs": [
    {
     "data": {
      "text/plain": [
       "(1116, 5)"
      ]
     },
     "execution_count": 22,
     "metadata": {},
     "output_type": "execute_result"
    }
   ],
   "source": [
    "df_lengths_missing_1 = pd.read_csv('Datasets/df_lengths_missing_1.csv')\n",
    "df_lengths_missing_1.shape"
   ]
  },
  {
   "cell_type": "code",
   "execution_count": 23,
   "metadata": {},
   "outputs": [
    {
     "data": {
      "text/plain": [
       "(434, 5)"
      ]
     },
     "execution_count": 23,
     "metadata": {},
     "output_type": "execute_result"
    }
   ],
   "source": [
    "df_lengths_missing_2 = pd.read_csv('Datasets/df_lengths_missing_2.csv')\n",
    "df_lengths_missing_2.shape"
   ]
  },
  {
   "cell_type": "code",
   "execution_count": 24,
   "metadata": {},
   "outputs": [
    {
     "data": {
      "text/plain": [
       "(174, 5)"
      ]
     },
     "execution_count": 24,
     "metadata": {},
     "output_type": "execute_result"
    }
   ],
   "source": [
    "df_lengths_missing_3 = pd.read_csv('Datasets/df_lengths_missing_3.csv')\n",
    "df_lengths_missing_3.shape"
   ]
  },
  {
   "cell_type": "code",
   "execution_count": 25,
   "metadata": {},
   "outputs": [
    {
     "data": {
      "text/plain": [
       "(198, 5)"
      ]
     },
     "execution_count": 25,
     "metadata": {},
     "output_type": "execute_result"
    }
   ],
   "source": [
    "df_lengths_missing_4 = pd.read_csv('Datasets/df_lengths_missing_4.csv')\n",
    "df_lengths_missing_4.shape"
   ]
  },
  {
   "cell_type": "code",
   "execution_count": 26,
   "metadata": {},
   "outputs": [
    {
     "data": {
      "text/plain": [
       "(1922, 5)"
      ]
     },
     "execution_count": 26,
     "metadata": {},
     "output_type": "execute_result"
    }
   ],
   "source": [
    "df_lengths_missing_concat = pd.concat([df_lengths_missing_1, df_lengths_missing_2, df_lengths_missing_3, df_lengths_missing_4])\n",
    "df_lengths_missing_concat.shape"
   ]
  },
  {
   "cell_type": "code",
   "execution_count": 27,
   "metadata": {},
   "outputs": [],
   "source": [
    "df_lengths_missing_concat.to_csv('Datasets/df_lengths_missing_concat.csv', index=False)"
   ]
  },
  {
   "cell_type": "code",
   "execution_count": 318,
   "metadata": {},
   "outputs": [
    {
     "data": {
      "text/plain": [
       "<Axes: xlabel='tracks'>"
      ]
     },
     "execution_count": 318,
     "metadata": {},
     "output_type": "execute_result"
    },
    {
     "data": {
      "image/png": "[encoded data removed]",
      "text/plain": [
       "<Figure size 800x100 with 1 Axes>"
      ]
     },
     "metadata": {},
     "output_type": "display_data"
    }
   ],
   "source": [
    "plt.figure(figsize=(8,1))\n",
    "sns.boxplot(x=df_lengths_missing_concat['tracks'])"
   ]
  },
  {
   "cell_type": "code",
   "execution_count": 319,
   "metadata": {},
   "outputs": [
    {
     "data": {
      "text/plain": [
       "<Axes: xlabel='album_length'>"
      ]
     },
     "execution_count": 319,
     "metadata": {},
     "output_type": "execute_result"
    },
    {
     "data": {
      "image/png": "[encoded data removed]",
      "text/plain": [
       "<Figure size 800x100 with 1 Axes>"
      ]
     },
     "metadata": {},
     "output_type": "display_data"
    }
   ],
   "source": [
    "plt.figure(figsize=(8,1))\n",
    "sns.boxplot(x=df_lengths_missing_concat['album_length'])"
   ]
  },
  {
   "cell_type": "code",
   "execution_count": null,
   "metadata": {},
   "outputs": [],
   "source": []
  },
  {
   "cell_type": "code",
   "execution_count": 11,
   "metadata": {},
   "outputs": [
    {
     "data": {
      "text/plain": [
       "artist\n",
       "The Fall              10\n",
       "The Kinks             10\n",
       "Hawkwind              10\n",
       "Pink Floyd             9\n",
       "The Mountain Goats     9\n",
       "Genesis                9\n",
       "Elton John             9\n",
       "The Who                8\n",
       "The Beatles            8\n",
       "Black Sabbath          8\n",
       "Name: count, dtype: int64"
      ]
     },
     "execution_count": 11,
     "metadata": {},
     "output_type": "execute_result"
    }
   ],
   "source": [
    "df_length_0['artist'].value_counts().head(10)"
   ]
  },
  {
   "cell_type": "code",
   "execution_count": 12,
   "metadata": {},
   "outputs": [
    {
     "data": {
      "text/plain": [
       "(2234, 13)"
      ]
     },
     "execution_count": 12,
     "metadata": {},
     "output_type": "execute_result"
    }
   ],
   "source": [
    "df_length_0.shape"
   ]
  },
  {
   "cell_type": "code",
   "execution_count": 13,
   "metadata": {},
   "outputs": [
    {
     "data": {
      "text/plain": [
       "1442"
      ]
     },
     "execution_count": 13,
     "metadata": {},
     "output_type": "execute_result"
    }
   ],
   "source": [
    "df_length_0['artist'].nunique()"
   ]
  },
  {
   "cell_type": "code",
   "execution_count": null,
   "metadata": {},
   "outputs": [],
   "source": []
  }
 ],
 "metadata": {
  "kernelspec": {
   "display_name": "base",
   "language": "python",
   "name": "python3"
  },
  "language_info": {
   "codemirror_mode": {
    "name": "ipython",
    "version": 3
   },
   "file_extension": ".py",
   "mimetype": "text/x-python",
   "name": "python",
   "nbconvert_exporter": "python",
   "pygments_lexer": "ipython3",
   "version": "3.12.4"
  }
 },
 "nbformat": 4,
 "nbformat_minor": 2
}
