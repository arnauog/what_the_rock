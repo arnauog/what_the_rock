{
 "cells": [
  {
   "cell_type": "code",
   "execution_count": 1,
   "metadata": {},
   "outputs": [],
   "source": [
    "import numpy as np\n",
    "import pandas as pd\n",
    "from pandas import json_normalize\n",
    "import seaborn as sns\n",
    "import matplotlib.pyplot as plt\n",
    "\n",
    "import requests\n",
    "import time\n",
    "import ast\n",
    "import random\n",
    "\n",
    "# Spotipy\n",
    "from dotenv import load_dotenv\n",
    "import os\n",
    "import spotipy\n",
    "from spotipy.oauth2 import SpotifyClientCredentials\n",
    "\n",
    "import warnings\n",
    "warnings.filterwarnings(\"ignore\")\n",
    "\n",
    "from my_functions import *"
   ]
  },
  {
   "cell_type": "code",
   "execution_count": 2,
   "metadata": {},
   "outputs": [
    {
     "name": "stdout",
     "output_type": "stream",
     "text": [
      "(11346, 13): df_masters\n",
      "(51222, 5): df_ratings_20\n",
      "(9667, 13): df_masters_blended\n"
     ]
    }
   ],
   "source": [
    "# import the dataframes\n",
    "df_masters = pd.read_csv('Datasets/df_masters.csv')               # albums from the UK and US (until 2000) with >= 20 votes \n",
    "df_ratings_20 = pd.read_csv('Datasets/df_ratings_20.csv', keep_default_na=False)  # albums with >= 20 votes, mostly from rock, worldwide\n",
    "df_masters_blended = pd.read_csv('Datasets/df_masters_blended.csv')               # albums from the UK and US (until 2000) with >= 20 votes \n",
    "\n",
    "# print information\n",
    "print(f'{df_masters.shape}: df_masters')\n",
    "print(f'{df_ratings_20.shape}: df_ratings_20')\n",
    "print(f'{df_masters_blended.shape}: df_masters_blended')"
   ]
  },
  {
   "cell_type": "code",
   "execution_count": 3,
   "metadata": {},
   "outputs": [
    {
     "data": {
      "text/html": [
       "<div>\n",
       "<style scoped>\n",
       "    .dataframe tbody tr th:only-of-type {\n",
       "        vertical-align: middle;\n",
       "    }\n",
       "\n",
       "    .dataframe tbody tr th {\n",
       "        vertical-align: top;\n",
       "    }\n",
       "\n",
       "    .dataframe thead th {\n",
       "        text-align: right;\n",
       "    }\n",
       "</style>\n",
       "<table border=\"1\" class=\"dataframe\">\n",
       "  <thead>\n",
       "    <tr style=\"text-align: right;\">\n",
       "      <th></th>\n",
       "      <th>artist_id</th>\n",
       "      <th>master_id</th>\n",
       "      <th>main_release_id</th>\n",
       "      <th>release_country</th>\n",
       "      <th>artist</th>\n",
       "      <th>title</th>\n",
       "      <th>year</th>\n",
       "      <th>album_length</th>\n",
       "      <th>tracks</th>\n",
       "      <th>release_type</th>\n",
       "      <th>genres</th>\n",
       "      <th>styles</th>\n",
       "      <th>artist_profile</th>\n",
       "    </tr>\n",
       "  </thead>\n",
       "  <tbody>\n",
       "    <tr>\n",
       "      <th>0</th>\n",
       "      <td>2190314</td>\n",
       "      <td>3731373</td>\n",
       "      <td>32952558</td>\n",
       "      <td>US</td>\n",
       "      <td>Just Surrender</td>\n",
       "      <td>Phoenix</td>\n",
       "      <td>2010</td>\n",
       "      <td>0.00</td>\n",
       "      <td>13</td>\n",
       "      <td>['Album']</td>\n",
       "      <td>['Rock']</td>\n",
       "      <td>['Alternative Rock', 'Pop Punk']</td>\n",
       "      <td>Band from Dover Plains, New York, formerly kno...</td>\n",
       "    </tr>\n",
       "    <tr>\n",
       "      <th>1</th>\n",
       "      <td>315009</td>\n",
       "      <td>3624404</td>\n",
       "      <td>1233426</td>\n",
       "      <td>US</td>\n",
       "      <td>Saccharine Trust</td>\n",
       "      <td>Surviving You, Always</td>\n",
       "      <td>1984</td>\n",
       "      <td>39.70</td>\n",
       "      <td>12</td>\n",
       "      <td>['LP', 'Album']</td>\n",
       "      <td>['Rock']</td>\n",
       "      <td>['Punk', 'Avantgarde', 'Experimental']</td>\n",
       "      <td>American rock band from California, formed in ...</td>\n",
       "    </tr>\n",
       "    <tr>\n",
       "      <th>2</th>\n",
       "      <td>983148</td>\n",
       "      <td>3466594</td>\n",
       "      <td>1098693</td>\n",
       "      <td>US</td>\n",
       "      <td>Skycamefalling</td>\n",
       "      <td>10.21</td>\n",
       "      <td>2000</td>\n",
       "      <td>63.65</td>\n",
       "      <td>12</td>\n",
       "      <td>['Album', 'Enhanced']</td>\n",
       "      <td>['Rock']</td>\n",
       "      <td>['Metalcore', 'Post-Hardcore']</td>\n",
       "      <td>Metalcore band from Long Island, NY.</td>\n",
       "    </tr>\n",
       "    <tr>\n",
       "      <th>3</th>\n",
       "      <td>108050</td>\n",
       "      <td>3347596</td>\n",
       "      <td>11050388</td>\n",
       "      <td>US</td>\n",
       "      <td>Daniel Johnston</td>\n",
       "      <td>Songs of Pain</td>\n",
       "      <td>1983</td>\n",
       "      <td>0.00</td>\n",
       "      <td>21</td>\n",
       "      <td>['Album']</td>\n",
       "      <td>['Rock']</td>\n",
       "      <td>['Lo-Fi']</td>\n",
       "      <td>Daniel Johnston (born January 22, 1961, Sacram...</td>\n",
       "    </tr>\n",
       "    <tr>\n",
       "      <th>4</th>\n",
       "      <td>492915</td>\n",
       "      <td>3092328</td>\n",
       "      <td>2476600</td>\n",
       "      <td>UK</td>\n",
       "      <td>Skyclad</td>\n",
       "      <td>A Semblance of Normality</td>\n",
       "      <td>2004</td>\n",
       "      <td>47.33</td>\n",
       "      <td>13</td>\n",
       "      <td>['Album']</td>\n",
       "      <td>['Rock']</td>\n",
       "      <td>['Folk Rock']</td>\n",
       "      <td>Skyclad was formed in 1990 by Martin Walkyier ...</td>\n",
       "    </tr>\n",
       "  </tbody>\n",
       "</table>\n",
       "</div>"
      ],
      "text/plain": [
       "   artist_id  master_id  main_release_id release_country            artist  \\\n",
       "0    2190314    3731373         32952558              US    Just Surrender   \n",
       "1     315009    3624404          1233426              US  Saccharine Trust   \n",
       "2     983148    3466594          1098693              US    Skycamefalling   \n",
       "3     108050    3347596         11050388              US   Daniel Johnston   \n",
       "4     492915    3092328          2476600              UK           Skyclad   \n",
       "\n",
       "                      title  year  album_length  tracks  \\\n",
       "0                   Phoenix  2010          0.00      13   \n",
       "1     Surviving You, Always  1984         39.70      12   \n",
       "2                     10.21  2000         63.65      12   \n",
       "3             Songs of Pain  1983          0.00      21   \n",
       "4  A Semblance of Normality  2004         47.33      13   \n",
       "\n",
       "            release_type    genres                                  styles  \\\n",
       "0              ['Album']  ['Rock']        ['Alternative Rock', 'Pop Punk']   \n",
       "1        ['LP', 'Album']  ['Rock']  ['Punk', 'Avantgarde', 'Experimental']   \n",
       "2  ['Album', 'Enhanced']  ['Rock']          ['Metalcore', 'Post-Hardcore']   \n",
       "3              ['Album']  ['Rock']                               ['Lo-Fi']   \n",
       "4              ['Album']  ['Rock']                           ['Folk Rock']   \n",
       "\n",
       "                                      artist_profile  \n",
       "0  Band from Dover Plains, New York, formerly kno...  \n",
       "1  American rock band from California, formed in ...  \n",
       "2               Metalcore band from Long Island, NY.  \n",
       "3  Daniel Johnston (born January 22, 1961, Sacram...  \n",
       "4  Skyclad was formed in 1990 by Martin Walkyier ...  "
      ]
     },
     "execution_count": 3,
     "metadata": {},
     "output_type": "execute_result"
    }
   ],
   "source": [
    "df_masters.head()"
   ]
  },
  {
   "cell_type": "markdown",
   "metadata": {},
   "source": [
    "# **``album_length``**"
   ]
  },
  {
   "cell_type": "code",
   "execution_count": 4,
   "metadata": {},
   "outputs": [
    {
     "data": {
      "text/plain": [
       "(11346, 13)"
      ]
     },
     "execution_count": 4,
     "metadata": {},
     "output_type": "execute_result"
    }
   ],
   "source": [
    "df = df_masters\n",
    "df.shape"
   ]
  },
  {
   "cell_type": "code",
   "execution_count": 5,
   "metadata": {},
   "outputs": [
    {
     "name": "stdout",
     "output_type": "stream",
     "text": [
      "albums missing album_length: 2201 \n",
      "% missing album_length: 19.4%\n"
     ]
    }
   ],
   "source": [
    "percentage_album_length_missing = round((df['album_length']==0).sum() / df.shape[0] * 100, 2)\n",
    "\n",
    "print(f\"albums missing album_length: {(df['album_length']==0).sum()} \")\n",
    "print(f'% missing album_length: {percentage_album_length_missing}%')"
   ]
  },
  {
   "cell_type": "code",
   "execution_count": 6,
   "metadata": {},
   "outputs": [
    {
     "data": {
      "text/plain": [
       "(2201, 13)"
      ]
     },
     "execution_count": 6,
     "metadata": {},
     "output_type": "execute_result"
    }
   ],
   "source": [
    "df_length_0 = df[df['album_length']==0].sort_values(['artist', 'year', 'title'])\n",
    "df_length_0.shape"
   ]
  },
  {
   "cell_type": "code",
   "execution_count": 162,
   "metadata": {},
   "outputs": [
    {
     "data": {
      "text/html": [
       "<div>\n",
       "<style scoped>\n",
       "    .dataframe tbody tr th:only-of-type {\n",
       "        vertical-align: middle;\n",
       "    }\n",
       "\n",
       "    .dataframe tbody tr th {\n",
       "        vertical-align: top;\n",
       "    }\n",
       "\n",
       "    .dataframe thead th {\n",
       "        text-align: right;\n",
       "    }\n",
       "</style>\n",
       "<table border=\"1\" class=\"dataframe\">\n",
       "  <thead>\n",
       "    <tr style=\"text-align: right;\">\n",
       "      <th></th>\n",
       "      <th>artist_id</th>\n",
       "      <th>master_id</th>\n",
       "      <th>main_release_id</th>\n",
       "      <th>release_country</th>\n",
       "      <th>artist</th>\n",
       "      <th>title</th>\n",
       "      <th>year</th>\n",
       "      <th>album_length</th>\n",
       "      <th>tracks</th>\n",
       "      <th>release_type</th>\n",
       "      <th>genres</th>\n",
       "      <th>styles</th>\n",
       "      <th>artist_profile</th>\n",
       "    </tr>\n",
       "  </thead>\n",
       "  <tbody>\n",
       "    <tr>\n",
       "      <th>5898</th>\n",
       "      <td>80393</td>\n",
       "      <td>23101</td>\n",
       "      <td>1262360</td>\n",
       "      <td>US</td>\n",
       "      <td>...And You Will Know Us by the Trail of Dead</td>\n",
       "      <td>Madonna</td>\n",
       "      <td>1999</td>\n",
       "      <td>0.0</td>\n",
       "      <td>13</td>\n",
       "      <td>['LP', 'Album']</td>\n",
       "      <td>['Rock']</td>\n",
       "      <td>['Art Rock', 'Indie Rock']</td>\n",
       "      <td>American alternative rock band from Austin, Te...</td>\n",
       "    </tr>\n",
       "    <tr>\n",
       "      <th>1683</th>\n",
       "      <td>371750</td>\n",
       "      <td>185850</td>\n",
       "      <td>2602287</td>\n",
       "      <td>US</td>\n",
       "      <td>108</td>\n",
       "      <td>Songs of Separation</td>\n",
       "      <td>1994</td>\n",
       "      <td>0.0</td>\n",
       "      <td>15</td>\n",
       "      <td>['Album']</td>\n",
       "      <td>['Rock']</td>\n",
       "      <td>['Hardcore', 'Religious']</td>\n",
       "      <td>Metallic hardcore band from New York City, USA...</td>\n",
       "    </tr>\n",
       "    <tr>\n",
       "      <th>11125</th>\n",
       "      <td>371750</td>\n",
       "      <td>326966</td>\n",
       "      <td>1117204</td>\n",
       "      <td>US</td>\n",
       "      <td>108</td>\n",
       "      <td>A New Beat From A Dead Heart</td>\n",
       "      <td>2007</td>\n",
       "      <td>0.0</td>\n",
       "      <td>13</td>\n",
       "      <td>['LP', 'Album']</td>\n",
       "      <td>['Rock']</td>\n",
       "      <td>['Hardcore']</td>\n",
       "      <td>Metallic hardcore band from New York City, USA...</td>\n",
       "    </tr>\n",
       "    <tr>\n",
       "      <th>5856</th>\n",
       "      <td>39775</td>\n",
       "      <td>23978</td>\n",
       "      <td>5540610</td>\n",
       "      <td>UK</td>\n",
       "      <td>10cc</td>\n",
       "      <td>10cc</td>\n",
       "      <td>1973</td>\n",
       "      <td>0.0</td>\n",
       "      <td>10</td>\n",
       "      <td>['LP', 'Album', 'Stereo']</td>\n",
       "      <td>['Rock']</td>\n",
       "      <td>['Art Rock']</td>\n",
       "      <td>Major 70s UK (founded in Stockport, Greater Ma...</td>\n",
       "    </tr>\n",
       "    <tr>\n",
       "      <th>5416</th>\n",
       "      <td>39775</td>\n",
       "      <td>30571</td>\n",
       "      <td>5540194</td>\n",
       "      <td>UK</td>\n",
       "      <td>10cc</td>\n",
       "      <td>Sheet Music</td>\n",
       "      <td>1974</td>\n",
       "      <td>0.0</td>\n",
       "      <td>10</td>\n",
       "      <td>['LP', 'Album', 'Stereo']</td>\n",
       "      <td>['Rock']</td>\n",
       "      <td>['Art Rock']</td>\n",
       "      <td>Major 70s UK (founded in Stockport, Greater Ma...</td>\n",
       "    </tr>\n",
       "  </tbody>\n",
       "</table>\n",
       "</div>"
      ],
      "text/plain": [
       "       artist_id  master_id  main_release_id release_country  \\\n",
       "5898       80393      23101          1262360              US   \n",
       "1683      371750     185850          2602287              US   \n",
       "11125     371750     326966          1117204              US   \n",
       "5856       39775      23978          5540610              UK   \n",
       "5416       39775      30571          5540194              UK   \n",
       "\n",
       "                                             artist  \\\n",
       "5898   ...And You Will Know Us by the Trail of Dead   \n",
       "1683                                            108   \n",
       "11125                                           108   \n",
       "5856                                           10cc   \n",
       "5416                                           10cc   \n",
       "\n",
       "                              title  year  album_length  tracks  \\\n",
       "5898                        Madonna  1999           0.0      13   \n",
       "1683            Songs of Separation  1994           0.0      15   \n",
       "11125  A New Beat From A Dead Heart  2007           0.0      13   \n",
       "5856                           10cc  1973           0.0      10   \n",
       "5416                    Sheet Music  1974           0.0      10   \n",
       "\n",
       "                    release_type    genres                      styles  \\\n",
       "5898             ['LP', 'Album']  ['Rock']  ['Art Rock', 'Indie Rock']   \n",
       "1683                   ['Album']  ['Rock']   ['Hardcore', 'Religious']   \n",
       "11125            ['LP', 'Album']  ['Rock']                ['Hardcore']   \n",
       "5856   ['LP', 'Album', 'Stereo']  ['Rock']                ['Art Rock']   \n",
       "5416   ['LP', 'Album', 'Stereo']  ['Rock']                ['Art Rock']   \n",
       "\n",
       "                                          artist_profile  \n",
       "5898   American alternative rock band from Austin, Te...  \n",
       "1683   Metallic hardcore band from New York City, USA...  \n",
       "11125  Metallic hardcore band from New York City, USA...  \n",
       "5856   Major 70s UK (founded in Stockport, Greater Ma...  \n",
       "5416   Major 70s UK (founded in Stockport, Greater Ma...  "
      ]
     },
     "execution_count": 162,
     "metadata": {},
     "output_type": "execute_result"
    }
   ],
   "source": [
    "df_length_0.head()"
   ]
  },
  {
   "cell_type": "markdown",
   "metadata": {},
   "source": [
    "**Albums with ``album_length = 0`` that I've gotten with Spotipy**"
   ]
  },
  {
   "cell_type": "code",
   "execution_count": 153,
   "metadata": {},
   "outputs": [
    {
     "data": {
      "text/plain": [
       "(2558, 5)"
      ]
     },
     "execution_count": 153,
     "metadata": {},
     "output_type": "execute_result"
    }
   ],
   "source": [
    "df_lengths_missing_concat = pd.read_csv('Datasets/df_lengths_missing_concat.csv')\n",
    "df_lengths_missing_concat.shape"
   ]
  },
  {
   "cell_type": "code",
   "execution_count": 161,
   "metadata": {},
   "outputs": [
    {
     "data": {
      "text/html": [
       "<div>\n",
       "<style scoped>\n",
       "    .dataframe tbody tr th:only-of-type {\n",
       "        vertical-align: middle;\n",
       "    }\n",
       "\n",
       "    .dataframe tbody tr th {\n",
       "        vertical-align: top;\n",
       "    }\n",
       "\n",
       "    .dataframe thead th {\n",
       "        text-align: right;\n",
       "    }\n",
       "</style>\n",
       "<table border=\"1\" class=\"dataframe\">\n",
       "  <thead>\n",
       "    <tr style=\"text-align: right;\">\n",
       "      <th></th>\n",
       "      <th>artist</th>\n",
       "      <th>title</th>\n",
       "      <th>name</th>\n",
       "      <th>album_length</th>\n",
       "      <th>tracks</th>\n",
       "    </tr>\n",
       "  </thead>\n",
       "  <tbody>\n",
       "    <tr>\n",
       "      <th>0</th>\n",
       "      <td>...And You Will Know Us by the Trail of Dead</td>\n",
       "      <td>Madonna</td>\n",
       "      <td>madonna</td>\n",
       "      <td>45.57</td>\n",
       "      <td>13</td>\n",
       "    </tr>\n",
       "    <tr>\n",
       "      <th>1</th>\n",
       "      <td>108</td>\n",
       "      <td>A New Beat From A Dead Heart</td>\n",
       "      <td>a new beat from a dead heart</td>\n",
       "      <td>34.65</td>\n",
       "      <td>13</td>\n",
       "    </tr>\n",
       "    <tr>\n",
       "      <th>2</th>\n",
       "      <td>108</td>\n",
       "      <td>Songs of Separation</td>\n",
       "      <td>songs of separation</td>\n",
       "      <td>32.85</td>\n",
       "      <td>14</td>\n",
       "    </tr>\n",
       "    <tr>\n",
       "      <th>3</th>\n",
       "      <td>10cc</td>\n",
       "      <td>10cc</td>\n",
       "      <td>10cc</td>\n",
       "      <td>35.23</td>\n",
       "      <td>10</td>\n",
       "    </tr>\n",
       "    <tr>\n",
       "      <th>4</th>\n",
       "      <td>10cc</td>\n",
       "      <td>Deceptive Bends</td>\n",
       "      <td>deceptive bends</td>\n",
       "      <td>51.21</td>\n",
       "      <td>12</td>\n",
       "    </tr>\n",
       "  </tbody>\n",
       "</table>\n",
       "</div>"
      ],
      "text/plain": [
       "                                         artist                         title  \\\n",
       "0  ...And You Will Know Us by the Trail of Dead                       Madonna   \n",
       "1                                           108  A New Beat From A Dead Heart   \n",
       "2                                           108           Songs of Separation   \n",
       "3                                          10cc                          10cc   \n",
       "4                                          10cc               Deceptive Bends   \n",
       "\n",
       "                           name  album_length  tracks  \n",
       "0                       madonna         45.57      13  \n",
       "1  a new beat from a dead heart         34.65      13  \n",
       "2           songs of separation         32.85      14  \n",
       "3                          10cc         35.23      10  \n",
       "4               deceptive bends         51.21      12  "
      ]
     },
     "execution_count": 161,
     "metadata": {},
     "output_type": "execute_result"
    }
   ],
   "source": [
    "df_lengths_missing_concat.head()"
   ]
  },
  {
   "cell_type": "markdown",
   "metadata": {},
   "source": [
    "**Albums that still have ``album_length = 0`` and I haven't gotten with Spotipy**"
   ]
  },
  {
   "cell_type": "code",
   "execution_count": 167,
   "metadata": {},
   "outputs": [
    {
     "data": {
      "text/plain": [
       "(408, 13)"
      ]
     },
     "execution_count": 167,
     "metadata": {},
     "output_type": "execute_result"
    }
   ],
   "source": [
    "df_length_to_do = df_length_0[~df_length_0['title'].isin(df_lengths_missing_concat['title'].values)]\n",
    "df_length_to_do.reset_index(drop=True, inplace=True)\n",
    "df_length_to_do.shape"
   ]
  },
  {
   "cell_type": "code",
   "execution_count": 169,
   "metadata": {},
   "outputs": [
    {
     "data": {
      "text/html": [
       "<div>\n",
       "<style scoped>\n",
       "    .dataframe tbody tr th:only-of-type {\n",
       "        vertical-align: middle;\n",
       "    }\n",
       "\n",
       "    .dataframe tbody tr th {\n",
       "        vertical-align: top;\n",
       "    }\n",
       "\n",
       "    .dataframe thead th {\n",
       "        text-align: right;\n",
       "    }\n",
       "</style>\n",
       "<table border=\"1\" class=\"dataframe\">\n",
       "  <thead>\n",
       "    <tr style=\"text-align: right;\">\n",
       "      <th></th>\n",
       "      <th>artist_id</th>\n",
       "      <th>master_id</th>\n",
       "      <th>main_release_id</th>\n",
       "      <th>release_country</th>\n",
       "      <th>artist</th>\n",
       "      <th>title</th>\n",
       "      <th>year</th>\n",
       "      <th>album_length</th>\n",
       "      <th>tracks</th>\n",
       "      <th>release_type</th>\n",
       "      <th>genres</th>\n",
       "      <th>styles</th>\n",
       "      <th>artist_profile</th>\n",
       "    </tr>\n",
       "  </thead>\n",
       "  <tbody>\n",
       "    <tr>\n",
       "      <th>0</th>\n",
       "      <td>317719</td>\n",
       "      <td>107693</td>\n",
       "      <td>1611310</td>\n",
       "      <td>US</td>\n",
       "      <td>16</td>\n",
       "      <td>Bridges to Burn</td>\n",
       "      <td>2009</td>\n",
       "      <td>0.0</td>\n",
       "      <td>12</td>\n",
       "      <td>['LP', 'Album', 'Limited Edition']</td>\n",
       "      <td>['Rock']</td>\n",
       "      <td>['Hardcore', 'Downtempo', 'Southern Rock']</td>\n",
       "      <td>American sludge metal band from San Diego, Cal...</td>\n",
       "    </tr>\n",
       "    <tr>\n",
       "      <th>1</th>\n",
       "      <td>513958</td>\n",
       "      <td>0</td>\n",
       "      <td>4834521</td>\n",
       "      <td>US</td>\n",
       "      <td>3</td>\n",
       "      <td>Summercamp Nightmare</td>\n",
       "      <td>2003</td>\n",
       "      <td>0.0</td>\n",
       "      <td>12</td>\n",
       "      <td>['Album']</td>\n",
       "      <td>['Rock']</td>\n",
       "      <td>['Prog Rock', 'Heavy Metal']</td>\n",
       "      <td>American progressive rock/metal band from Wood...</td>\n",
       "    </tr>\n",
       "    <tr>\n",
       "      <th>2</th>\n",
       "      <td>513958</td>\n",
       "      <td>429178</td>\n",
       "      <td>9441550</td>\n",
       "      <td>US</td>\n",
       "      <td>3</td>\n",
       "      <td>Wake Pig</td>\n",
       "      <td>2004</td>\n",
       "      <td>0.0</td>\n",
       "      <td>11</td>\n",
       "      <td>['Album']</td>\n",
       "      <td>['Rock']</td>\n",
       "      <td>['Alternative Rock', 'Hard Rock', 'Heavy Metal']</td>\n",
       "      <td>American progressive rock/metal band from Wood...</td>\n",
       "    </tr>\n",
       "    <tr>\n",
       "      <th>3</th>\n",
       "      <td>513958</td>\n",
       "      <td>429183</td>\n",
       "      <td>3436139</td>\n",
       "      <td>US</td>\n",
       "      <td>3</td>\n",
       "      <td>The End is Begun</td>\n",
       "      <td>2007</td>\n",
       "      <td>0.0</td>\n",
       "      <td>13</td>\n",
       "      <td>['Album']</td>\n",
       "      <td>['Rock']</td>\n",
       "      <td>['Heavy Metal']</td>\n",
       "      <td>American progressive rock/metal band from Wood...</td>\n",
       "    </tr>\n",
       "    <tr>\n",
       "      <th>4</th>\n",
       "      <td>11203</td>\n",
       "      <td>30962</td>\n",
       "      <td>1453338</td>\n",
       "      <td>UK</td>\n",
       "      <td>A Certain Ratio</td>\n",
       "      <td>The Graveyard and The Ballroom</td>\n",
       "      <td>1980</td>\n",
       "      <td>0.0</td>\n",
       "      <td>16</td>\n",
       "      <td>['Album']</td>\n",
       "      <td>['Electronic', 'Rock']</td>\n",
       "      <td>['Leftfield', 'New Wave']</td>\n",
       "      <td>British post punk &amp; indie funk band formed in ...</td>\n",
       "    </tr>\n",
       "  </tbody>\n",
       "</table>\n",
       "</div>"
      ],
      "text/plain": [
       "   artist_id  master_id  main_release_id release_country           artist  \\\n",
       "0     317719     107693          1611310              US               16   \n",
       "1     513958          0          4834521              US                3   \n",
       "2     513958     429178          9441550              US                3   \n",
       "3     513958     429183          3436139              US                3   \n",
       "4      11203      30962          1453338              UK  A Certain Ratio   \n",
       "\n",
       "                            title  year  album_length  tracks  \\\n",
       "0                 Bridges to Burn  2009           0.0      12   \n",
       "1            Summercamp Nightmare  2003           0.0      12   \n",
       "2                        Wake Pig  2004           0.0      11   \n",
       "3                The End is Begun  2007           0.0      13   \n",
       "4  The Graveyard and The Ballroom  1980           0.0      16   \n",
       "\n",
       "                         release_type                  genres  \\\n",
       "0  ['LP', 'Album', 'Limited Edition']                ['Rock']   \n",
       "1                           ['Album']                ['Rock']   \n",
       "2                           ['Album']                ['Rock']   \n",
       "3                           ['Album']                ['Rock']   \n",
       "4                           ['Album']  ['Electronic', 'Rock']   \n",
       "\n",
       "                                             styles  \\\n",
       "0        ['Hardcore', 'Downtempo', 'Southern Rock']   \n",
       "1                      ['Prog Rock', 'Heavy Metal']   \n",
       "2  ['Alternative Rock', 'Hard Rock', 'Heavy Metal']   \n",
       "3                                   ['Heavy Metal']   \n",
       "4                         ['Leftfield', 'New Wave']   \n",
       "\n",
       "                                      artist_profile  \n",
       "0  American sludge metal band from San Diego, Cal...  \n",
       "1  American progressive rock/metal band from Wood...  \n",
       "2  American progressive rock/metal band from Wood...  \n",
       "3  American progressive rock/metal band from Wood...  \n",
       "4  British post punk & indie funk band formed in ...  "
      ]
     },
     "execution_count": 169,
     "metadata": {},
     "output_type": "execute_result"
    }
   ],
   "source": [
    "df_length_to_do.head()"
   ]
  },
  {
   "cell_type": "code",
   "execution_count": 170,
   "metadata": {},
   "outputs": [],
   "source": [
    "df_length_to_do.to_csv('Datasets/df_length_to_do.csv', index=False)"
   ]
  },
  {
   "cell_type": "markdown",
   "metadata": {},
   "source": [
    "## **``Spotipy`` (Spotify API)**"
   ]
  },
  {
   "cell_type": "code",
   "execution_count": 3,
   "metadata": {},
   "outputs": [
    {
     "data": {
      "text/plain": [
       "True"
      ]
     },
     "execution_count": 3,
     "metadata": {},
     "output_type": "execute_result"
    }
   ],
   "source": [
    "load_dotenv()"
   ]
  },
  {
   "cell_type": "code",
   "execution_count": 4,
   "metadata": {},
   "outputs": [],
   "source": [
    "user = os.getenv('client_id')\n",
    "password = os.getenv('client_secret')\n",
    "\n",
    "# Initialize Spotipy with user credentials\n",
    "sp = spotipy.Spotify(auth_manager=SpotifyClientCredentials(client_id = user,\n",
    "                                                           client_secret = password), requests_timeout=10)"
   ]
  },
  {
   "cell_type": "markdown",
   "metadata": {},
   "source": [
    "### Testing"
   ]
  },
  {
   "cell_type": "code",
   "execution_count": 24,
   "metadata": {},
   "outputs": [],
   "source": [
    "def get_all_albums(artist_id):\n",
    "    albums = []\n",
    "    results = sp.artist_albums(artist_id, limit=50)  # First request\n",
    "\n",
    "    while results:\n",
    "        albums.extend(results['items'])  # Store the albums\n",
    "        if results['next']:  # Check if there's another page\n",
    "            results = sp.next(results)  # Fetch next page\n",
    "        else:\n",
    "            break  # Stop when no more pages\n",
    "\n",
    "    return albums"
   ]
  },
  {
   "cell_type": "code",
   "execution_count": 22,
   "metadata": {},
   "outputs": [
    {
     "name": "stdout",
     "output_type": "stream",
     "text": [
      "artist found: 108 with id '3j2S24uHONLPeKvYjG14oH'\n"
     ]
    }
   ],
   "source": [
    "artist = '108'\n",
    "\n",
    "results = sp.search(q = artist\n",
    "                    , type = 'artist'\n",
    "                    , limit = 5)\n",
    "\n",
    "# theorically the artist should be the first result\n",
    "artist_name = results['artists']['items'][0]['name']\n",
    "artist_id = results['artists']['items'][0]['id'] # get the artist_id\n",
    "\n",
    "if artist_name.lower() == artist.lower():\n",
    "    print(f\"artist found: {artist_name} with id '{artist_id}'\")\n",
    "else:\n",
    "    print(f\"Cannot find '{artist}', try some other one\")"
   ]
  },
  {
   "cell_type": "code",
   "execution_count": 26,
   "metadata": {},
   "outputs": [],
   "source": [
    "albums = get_all_albums(artist_id)"
   ]
  },
  {
   "cell_type": "code",
   "execution_count": 27,
   "metadata": {},
   "outputs": [
    {
     "name": "stdout",
     "output_type": "stream",
     "text": [
      "18.61\n",
      "A New Beat from a Dead Heart\n",
      "Creation. Sustenance. Destruction.\n",
      "Songs Of Separation\n",
      "Violent World: A Tribute To The Misfits\n"
     ]
    }
   ],
   "source": [
    "for i in albums:\n",
    "    print(i['name'])"
   ]
  },
  {
   "cell_type": "code",
   "execution_count": 28,
   "metadata": {},
   "outputs": [
    {
     "name": "stdout",
     "output_type": "stream",
     "text": [
      "artist found\n",
      "108\n",
      "18.61\n",
      "A New Beat from a Dead Heart\n",
      "album found\n",
      "artist found\n",
      "108\n",
      "Mission Infinite\n",
      "artist found\n",
      "108\n",
      "05s identity\n",
      "Metta Muzik, Vol. 2\n",
      "Flex skill\n",
      "RE:BORN\n",
      "OVER THE BORDER\n",
      "kitanoshiro (feat. 108)\n",
      "Empty Heart (feat. ZiiFlex a.k.a ZIMA) [Remix]\n"
     ]
    }
   ],
   "source": [
    "artist = '108'\n",
    "title = 'A New Beat From A Dead Heart'\n",
    "\n",
    "results = sp.search(q = artist\n",
    "                    , type = 'artist'\n",
    "                    , limit = 5)\n",
    "\n",
    "artists = results['artists']['items']\n",
    "artists_ids = results['artists']['items'] # get the artist_id\n",
    "\n",
    "for i in range(len(artists)):\n",
    "    # artist = artists[i]['name']\n",
    "    try:\n",
    "        # look for my artist\n",
    "        if artist.lower().replace('and', '&') == artists[i]['name'].lower():\n",
    "            # if it finds my artist:\n",
    "            artist_id = artists_ids[i]['id']\n",
    "            print('artist found')\n",
    "            print(artist)\n",
    "\n",
    "            artist_albums = get_all_albums(artist_id)\n",
    "\n",
    "            for album in artist_albums:\n",
    "\n",
    "                print(album['name'])\n",
    "\n",
    "                # look for my album\n",
    "                if album['name'].lower().replace('and', '&') == (title.lower().replace('and', '&')):\n",
    "                    print('album found')\n",
    "                    album_id = album['id']\n",
    "                    results = sp.album(album_id)\n",
    "                    tracks = results['tracks']['items']\n",
    "                    song_durations = [song['duration_ms']/60000 for song in tracks]\n",
    "                    \n",
    "                    album_length = round(sum(song_durations), 2)\n",
    "\n",
    "                    break   # once it finds the album, stop\n",
    "    except:\n",
    "        print('error')            "
   ]
  },
  {
   "cell_type": "code",
   "execution_count": 29,
   "metadata": {},
   "outputs": [
    {
     "data": {
      "text/plain": [
       "34.65"
      ]
     },
     "execution_count": 29,
     "metadata": {},
     "output_type": "execute_result"
    }
   ],
   "source": [
    "album_length"
   ]
  },
  {
   "cell_type": "markdown",
   "metadata": {},
   "source": [
    "Here we can see that the album is found, though not on the exact same name, it doesn't do an exact match because there are other parts in the title, such as **'Deluxe Edition'** or **'Remastered'**"
   ]
  },
  {
   "cell_type": "code",
   "execution_count": 1078,
   "metadata": {},
   "outputs": [
    {
     "data": {
      "text/plain": [
       "31"
      ]
     },
     "execution_count": 1078,
     "metadata": {},
     "output_type": "execute_result"
    }
   ],
   "source": [
    "len(artist_albums)"
   ]
  },
  {
   "cell_type": "code",
   "execution_count": 1082,
   "metadata": {},
   "outputs": [
    {
     "data": {
      "text/plain": [
       "'Kings of the Wild Frontier (Deluxe Edition)'"
      ]
     },
     "execution_count": 1082,
     "metadata": {},
     "output_type": "execute_result"
    }
   ],
   "source": [
    "artist_albums[0]['name']"
   ]
  },
  {
   "cell_type": "code",
   "execution_count": 952,
   "metadata": {},
   "outputs": [
    {
     "data": {
      "text/plain": [
       "'2jK54ZlZhTF1TxygsVeR05'"
      ]
     },
     "execution_count": 952,
     "metadata": {},
     "output_type": "execute_result"
    }
   ],
   "source": [
    "artist_id"
   ]
  },
  {
   "cell_type": "markdown",
   "metadata": {},
   "source": [
    "### **define the functions**"
   ]
  },
  {
   "cell_type": "code",
   "execution_count": 5,
   "metadata": {},
   "outputs": [],
   "source": [
    "def get_album_length(df):\n",
    "    count = 0\n",
    "    scraped = 0\n",
    "\n",
    "    # create empty lists\n",
    "    artists_list = []\n",
    "    albums_list = []\n",
    "    albums_lengths = []\n",
    "    tracks_list = []\n",
    "    album_name_list = []\n",
    "\n",
    "    for artist in df['artist'].unique():\n",
    "        time.sleep(1)\n",
    "\n",
    "        results = sp.search(q = artist\n",
    "                            , type = 'artist'\n",
    "                            , limit = 5)\n",
    "\n",
    "        artists = results['artists']['items']\n",
    "        artists_ids = results['artists']['items'] # get the artist_id\n",
    "\n",
    "        for i in range(len(artists)):\n",
    "            artist_name = artists[i]['name'].lower()\n",
    "            artist_name_and = artist.replace('and', '&').lower()\n",
    "            try:\n",
    "                # look for my artist\n",
    "                if artist_name == artist.lower() or artist_name == artist_name_and:\n",
    "                    \n",
    "                    # if it finds my artist:\n",
    "                    artist_id = artists_ids[i]['id']\n",
    "                    artist_albums = get_all_albums(artist_id)\n",
    "                    \n",
    "                    for title in df[df['artist']==artist]['title'].values:\n",
    "                        time.sleep(1)\n",
    "                        count+=1\n",
    "                        title_clean = title.replace('and', '&').lower()\n",
    "\n",
    "                        for album in artist_albums:\n",
    "                            album_name = album['name'].lower()\n",
    "                               \n",
    "                            if title_clean == album_name:\n",
    "                                artists_list.append(artist)\n",
    "                                albums_list.append(title)\n",
    "                                album_name_list.append(album_name)\n",
    "\n",
    "                                album_id = album['id']\n",
    "                                results = sp.album(album_id)\n",
    "                                tracks = results['tracks']['items']\n",
    "                                tracks_list.append(len(tracks))\n",
    "                                \n",
    "                                song_durations = [song['duration_ms']/60000 for song in tracks]\n",
    "                                \n",
    "                                album_length = round(sum(song_durations), 2)\n",
    "                                albums_lengths.append(album_length)\n",
    "                                scraped+=1\n",
    "\n",
    "                            # once it finds the album, stop\n",
    "                                print(f\"{scraped}/{count}: {artist} - {title}, exact match\")\n",
    "                                break\n",
    "                        else:\n",
    "                            for album in artist_albums:\n",
    "                                album_name = album['name'].lower()\n",
    "\n",
    "                                if title_clean in album_name:\n",
    "                                    artists_list.append(artist)\n",
    "                                    albums_list.append(title)\n",
    "                                    album_name_list.append(album_name)\n",
    "\n",
    "                                    album_id = album['id']\n",
    "                                    results = sp.album(album_id)\n",
    "                                    tracks = results['tracks']['items']\n",
    "                                    tracks_list.append(len(tracks))\n",
    "\n",
    "                                    song_durations = [song['duration_ms']/60000 for song in tracks]\n",
    "                                    \n",
    "                                    album_length = round(sum(song_durations), 2)\n",
    "                                    albums_lengths.append(album_length)\n",
    "                                    scraped+=1\n",
    "\n",
    "                                # once it finds the album, stop\n",
    "                                    print(f\"{scraped}/{count}: {artist} - {title}, similar match\")\n",
    "                                    break\n",
    "\n",
    "                # when it checks all the albums of that artist, stop    \n",
    "                    break\n",
    "\n",
    "            except:\n",
    "                print('error')\n",
    "                albums_lengths.append(np.nan)\n",
    "                tracks_list.append(np.nan)\n",
    "                break\n",
    "\n",
    "        lists = [artists_list, albums_list, album_name_list, albums_lengths, tracks_list]\n",
    "\n",
    "    # Check if all lists have the same length\n",
    "        lengths = [len(lst) for lst in lists]\n",
    "\n",
    "        if len(set(lengths)) != 1:\n",
    "            print(\"Lengths are not the same.\")\n",
    "            break # stop the loop, I won't be able to store the data if I have one value missing\n",
    "\n",
    "    df_lengths_missing = pd.DataFrame({'artist': artists_list,\n",
    "                                    'title': albums_list,\n",
    "                                    'name': album_name_list,\n",
    "                                    'album_length': albums_lengths,\n",
    "                                    'tracks': tracks_list})\n",
    "    return df_lengths_missing"
   ]
  },
  {
   "cell_type": "code",
   "execution_count": 6,
   "metadata": {},
   "outputs": [],
   "source": [
    "def get_all_albums(artist_id):\n",
    "    albums = []\n",
    "    results = sp.artist_albums(artist_id, limit=50)  # First request\n",
    "\n",
    "    while results:\n",
    "        albums.extend(results['items'])  # Store the albums\n",
    "        if results['next']:  # Check if there's another page\n",
    "            results = sp.next(results)  # Fetch next page\n",
    "        else:\n",
    "            break  # Stop when no more pages\n",
    "\n",
    "    return albums"
   ]
  },
  {
   "cell_type": "markdown",
   "metadata": {},
   "source": [
    "**La següent funciona però no és la millor**"
   ]
  },
  {
   "cell_type": "code",
   "execution_count": 160,
   "metadata": {},
   "outputs": [],
   "source": [
    "def get_album_length(df):\n",
    "    count = 0\n",
    "    scraped = 0\n",
    "\n",
    "    # create empty lists\n",
    "    artists_list = []\n",
    "    albums_list = []\n",
    "    albums_lengths = []\n",
    "    tracks_list = []\n",
    "\n",
    "    for artist, title in df[['artist', 'title']].values:\n",
    "        time.sleep(1)\n",
    "        count+=1\n",
    "\n",
    "        artists_list.append(artist)\n",
    "        albums_list.append(title)\n",
    "\n",
    "        results = sp.search(q = artist\n",
    "                            , type = 'artist'\n",
    "                            , limit = 5)\n",
    "\n",
    "        artists = results['artists']['items']\n",
    "        artists_ids = results['artists']['items'] # get the artist_id\n",
    "\n",
    "        for i in range(len(artists)):\n",
    "            artist_name = artists[i]['name'].lower()\n",
    "            artist_name_and = artist.replace('and', '&').lower()\n",
    "            try:\n",
    "                # look for my artist\n",
    "                if artist_name == artist.lower() or artist_name == artist_name_and:\n",
    "                    # if it finds my artist:\n",
    "                    artist_id = artists_ids[i]['id']\n",
    "\n",
    "                    artist_albums = get_all_albums(artist_id)\n",
    "\n",
    "                    for album in artist_albums:\n",
    "                        album_name = album['name'].lower()        \n",
    "                        title_name_and = title.replace('and', '&').lower()\n",
    "                        if title.lower() in album_name or title_name_and in album_name:\n",
    "                            album_id = album['id']\n",
    "                            results = sp.album(album_id)\n",
    "                            tracks = results['tracks']['items']\n",
    "                            tracks_list.append(len(tracks))\n",
    "                            song_durations = [song['duration_ms']/60000 for song in tracks]\n",
    "                            \n",
    "                            album_length = round(sum(song_durations), 2)\n",
    "                            albums_lengths.append(album_length)\n",
    "                            scraped+=1\n",
    "                            break   # once it finds the album, stop\n",
    "                    else:\n",
    "                        continue\n",
    "                    break \n",
    "            except:\n",
    "                print('error')\n",
    "                albums_lengths.append(np.nan)\n",
    "                tracks_list.append(np.nan)\n",
    "                break\n",
    "        \n",
    "        else:\n",
    "            albums_lengths.append(np.nan)\n",
    "            tracks_list.append(np.nan)\n",
    "\n",
    "        print(f\"{scraped}/{count}: {artist} - {title}\")\n",
    "\n",
    "        lists = [artists_list, albums_list, albums_lengths, tracks_list]\n",
    "\n",
    "    # Check if all lists have the same length\n",
    "        lengths = [len(lst) for lst in lists]\n",
    "        if len(set(lengths)) != 1:\n",
    "            print(\"Lengths are not the same.\")\n",
    "            break # stop the loop, I won't be able to store the data if I have one value missing\n",
    "\n",
    "    df_lengths_missing = pd.DataFrame({'artist': artists_list,\n",
    "                                    'title': albums_list,\n",
    "                                    'album_length': albums_lengths,\n",
    "                                    'tracks': tracks_list})\n",
    "    return df_lengths_missing"
   ]
  },
  {
   "cell_type": "markdown",
   "metadata": {},
   "source": [
    "### **Get the ``album_length`` from Spotipy**"
   ]
  },
  {
   "cell_type": "code",
   "execution_count": 7,
   "metadata": {},
   "outputs": [
    {
     "data": {
      "text/html": [
       "<div>\n",
       "<style scoped>\n",
       "    .dataframe tbody tr th:only-of-type {\n",
       "        vertical-align: middle;\n",
       "    }\n",
       "\n",
       "    .dataframe tbody tr th {\n",
       "        vertical-align: top;\n",
       "    }\n",
       "\n",
       "    .dataframe thead th {\n",
       "        text-align: right;\n",
       "    }\n",
       "</style>\n",
       "<table border=\"1\" class=\"dataframe\">\n",
       "  <thead>\n",
       "    <tr style=\"text-align: right;\">\n",
       "      <th></th>\n",
       "      <th>artist</th>\n",
       "      <th>title</th>\n",
       "      <th>album_length</th>\n",
       "    </tr>\n",
       "  </thead>\n",
       "  <tbody>\n",
       "    <tr>\n",
       "      <th>0</th>\n",
       "      <td>The Morning Of</td>\n",
       "      <td>The Way I Fell In</td>\n",
       "      <td>544.47</td>\n",
       "    </tr>\n",
       "    <tr>\n",
       "      <th>1</th>\n",
       "      <td>Muse</td>\n",
       "      <td>Muse</td>\n",
       "      <td>310.24</td>\n",
       "    </tr>\n",
       "    <tr>\n",
       "      <th>2</th>\n",
       "      <td>King Crimson</td>\n",
       "      <td>USA</td>\n",
       "      <td>272.76</td>\n",
       "    </tr>\n",
       "    <tr>\n",
       "      <th>3</th>\n",
       "      <td>Dream Theater</td>\n",
       "      <td>Chaos in Motion</td>\n",
       "      <td>229.88</td>\n",
       "    </tr>\n",
       "    <tr>\n",
       "      <th>4</th>\n",
       "      <td>Led Zeppelin</td>\n",
       "      <td>The Song Remains The Same</td>\n",
       "      <td>105.68</td>\n",
       "    </tr>\n",
       "    <tr>\n",
       "      <th>5</th>\n",
       "      <td>Tokyo Blade</td>\n",
       "      <td>Night of the Blade</td>\n",
       "      <td>96.52</td>\n",
       "    </tr>\n",
       "    <tr>\n",
       "      <th>6</th>\n",
       "      <td>Harvey Milk</td>\n",
       "      <td>The Pleaser</td>\n",
       "      <td>88.02</td>\n",
       "    </tr>\n",
       "    <tr>\n",
       "      <th>7</th>\n",
       "      <td>Peter Gabriel</td>\n",
       "      <td>Plays Live</td>\n",
       "      <td>84.93</td>\n",
       "    </tr>\n",
       "    <tr>\n",
       "      <th>8</th>\n",
       "      <td>Van der Graaf Generator</td>\n",
       "      <td>Vital</td>\n",
       "      <td>84.59</td>\n",
       "    </tr>\n",
       "    <tr>\n",
       "      <th>9</th>\n",
       "      <td>David Bowie</td>\n",
       "      <td>Stage</td>\n",
       "      <td>79.17</td>\n",
       "    </tr>\n",
       "  </tbody>\n",
       "</table>\n",
       "</div>"
      ],
      "text/plain": [
       "                    artist                      title  album_length\n",
       "0           The Morning Of          The Way I Fell In        544.47\n",
       "1                     Muse                       Muse        310.24\n",
       "2             King Crimson                        USA        272.76\n",
       "3            Dream Theater            Chaos in Motion        229.88\n",
       "4             Led Zeppelin  The Song Remains The Same        105.68\n",
       "5              Tokyo Blade         Night of the Blade         96.52\n",
       "6              Harvey Milk                The Pleaser         88.02\n",
       "7            Peter Gabriel                 Plays Live         84.93\n",
       "8  Van der Graaf Generator                      Vital         84.59\n",
       "9              David Bowie                      Stage         79.17"
      ]
     },
     "execution_count": 7,
     "metadata": {},
     "output_type": "execute_result"
    }
   ],
   "source": [
    "df_long_albums = pd.read_csv('Datasets/df_long_albums.csv')\n",
    "df_long_albums"
   ]
  },
  {
   "cell_type": "code",
   "execution_count": 8,
   "metadata": {},
   "outputs": [
    {
     "name": "stdout",
     "output_type": "stream",
     "text": [
      "1/1: The Morning Of - The Way I Fell In, similar match\n",
      "2/2: Muse - Muse, similar match\n",
      "3/3: King Crimson - USA, similar match\n",
      "4/4: Dream Theater - Chaos in Motion, similar match\n",
      "5/5: Led Zeppelin - The Song Remains The Same, similar match\n",
      "6/6: Tokyo Blade - Night of the Blade, similar match\n",
      "7/7: Harvey Milk - The Pleaser, similar match\n",
      "8/8: Peter Gabriel - Plays Live, similar match\n",
      "9/9: Van der Graaf Generator - Vital, similar match\n",
      "10/10: David Bowie - Stage, similar match\n"
     ]
    },
    {
     "data": {
      "text/plain": [
       "(10, 5)"
      ]
     },
     "execution_count": 8,
     "metadata": {},
     "output_type": "execute_result"
    }
   ],
   "source": [
    "start_index = 0\n",
    "end_index = start_index + 15\n",
    "\n",
    "df_lengths_missing = get_album_length(df_long_albums.iloc[start_index:end_index])\n",
    "df_lengths_missing.shape"
   ]
  },
  {
   "cell_type": "code",
   "execution_count": 12,
   "metadata": {},
   "outputs": [
    {
     "data": {
      "text/plain": [
       "2.3502304147465436"
      ]
     },
     "execution_count": 12,
     "metadata": {},
     "output_type": "execute_result"
    }
   ],
   "source": [
    "minutes = 17\n",
    "attempts = 434\n",
    "\n",
    "seconds_per_attempt = minutes*60/attempts\n",
    "seconds_per_attempt "
   ]
  },
  {
   "cell_type": "code",
   "execution_count": 9,
   "metadata": {},
   "outputs": [
    {
     "data": {
      "text/html": [
       "<div>\n",
       "<style scoped>\n",
       "    .dataframe tbody tr th:only-of-type {\n",
       "        vertical-align: middle;\n",
       "    }\n",
       "\n",
       "    .dataframe tbody tr th {\n",
       "        vertical-align: top;\n",
       "    }\n",
       "\n",
       "    .dataframe thead th {\n",
       "        text-align: right;\n",
       "    }\n",
       "</style>\n",
       "<table border=\"1\" class=\"dataframe\">\n",
       "  <thead>\n",
       "    <tr style=\"text-align: right;\">\n",
       "      <th></th>\n",
       "      <th>artist</th>\n",
       "      <th>title</th>\n",
       "      <th>name</th>\n",
       "      <th>album_length</th>\n",
       "      <th>tracks</th>\n",
       "    </tr>\n",
       "  </thead>\n",
       "  <tbody>\n",
       "    <tr>\n",
       "      <th>9</th>\n",
       "      <td>David Bowie</td>\n",
       "      <td>Stage</td>\n",
       "      <td>stage (2017) [live]</td>\n",
       "      <td>97.14</td>\n",
       "      <td>22</td>\n",
       "    </tr>\n",
       "    <tr>\n",
       "      <th>6</th>\n",
       "      <td>Harvey Milk</td>\n",
       "      <td>The Pleaser</td>\n",
       "      <td>the pleaser / live pleaser</td>\n",
       "      <td>88.50</td>\n",
       "      <td>21</td>\n",
       "    </tr>\n",
       "    <tr>\n",
       "      <th>5</th>\n",
       "      <td>Tokyo Blade</td>\n",
       "      <td>Night of the Blade</td>\n",
       "      <td>night of the blade ...the night before</td>\n",
       "      <td>70.09</td>\n",
       "      <td>16</td>\n",
       "    </tr>\n",
       "    <tr>\n",
       "      <th>7</th>\n",
       "      <td>Peter Gabriel</td>\n",
       "      <td>Plays Live</td>\n",
       "      <td>plays live (remastered)</td>\n",
       "      <td>89.56</td>\n",
       "      <td>16</td>\n",
       "    </tr>\n",
       "    <tr>\n",
       "      <th>0</th>\n",
       "      <td>The Morning Of</td>\n",
       "      <td>The Way I Fell In</td>\n",
       "      <td>the way i fell in (uk/europe deluxe edition)</td>\n",
       "      <td>53.31</td>\n",
       "      <td>15</td>\n",
       "    </tr>\n",
       "  </tbody>\n",
       "</table>\n",
       "</div>"
      ],
      "text/plain": [
       "           artist               title  \\\n",
       "9     David Bowie               Stage   \n",
       "6     Harvey Milk         The Pleaser   \n",
       "5     Tokyo Blade  Night of the Blade   \n",
       "7   Peter Gabriel          Plays Live   \n",
       "0  The Morning Of   The Way I Fell In   \n",
       "\n",
       "                                           name  album_length  tracks  \n",
       "9                           stage (2017) [live]         97.14      22  \n",
       "6                    the pleaser / live pleaser         88.50      21  \n",
       "5        night of the blade ...the night before         70.09      16  \n",
       "7                       plays live (remastered)         89.56      16  \n",
       "0  the way i fell in (uk/europe deluxe edition)         53.31      15  "
      ]
     },
     "execution_count": 9,
     "metadata": {},
     "output_type": "execute_result"
    }
   ],
   "source": [
    "df_lengths_missing.sort_values('tracks', ascending=False).head()"
   ]
  },
  {
   "cell_type": "code",
   "execution_count": 100,
   "metadata": {},
   "outputs": [
    {
     "data": {
      "text/plain": [
       "<Axes: xlabel='tracks'>"
      ]
     },
     "execution_count": 100,
     "metadata": {},
     "output_type": "execute_result"
    },
    {
     "data": {
      "image/png": "[encoded data removed]",
      "text/plain": [
       "<Figure size 800x100 with 1 Axes>"
      ]
     },
     "metadata": {},
     "output_type": "display_data"
    }
   ],
   "source": [
    "plt.figure(figsize=(8,1))\n",
    "sns.boxplot(x=df_lengths_missing['tracks'])"
   ]
  },
  {
   "cell_type": "code",
   "execution_count": 101,
   "metadata": {},
   "outputs": [
    {
     "data": {
      "text/html": [
       "<div>\n",
       "<style scoped>\n",
       "    .dataframe tbody tr th:only-of-type {\n",
       "        vertical-align: middle;\n",
       "    }\n",
       "\n",
       "    .dataframe tbody tr th {\n",
       "        vertical-align: top;\n",
       "    }\n",
       "\n",
       "    .dataframe thead th {\n",
       "        text-align: right;\n",
       "    }\n",
       "</style>\n",
       "<table border=\"1\" class=\"dataframe\">\n",
       "  <thead>\n",
       "    <tr style=\"text-align: right;\">\n",
       "      <th></th>\n",
       "      <th>artist</th>\n",
       "      <th>title</th>\n",
       "      <th>name</th>\n",
       "      <th>album_length</th>\n",
       "      <th>tracks</th>\n",
       "    </tr>\n",
       "  </thead>\n",
       "  <tbody>\n",
       "    <tr>\n",
       "      <th>60</th>\n",
       "      <td>Virgin Steele</td>\n",
       "      <td>Age Of Consent</td>\n",
       "      <td>age of consent</td>\n",
       "      <td>115.13</td>\n",
       "      <td>23</td>\n",
       "    </tr>\n",
       "    <tr>\n",
       "      <th>32</th>\n",
       "      <td>Tori Amos</td>\n",
       "      <td>The Beekeeper</td>\n",
       "      <td>the beekeeper</td>\n",
       "      <td>79.25</td>\n",
       "      <td>19</td>\n",
       "    </tr>\n",
       "    <tr>\n",
       "      <th>84</th>\n",
       "      <td>Wo Fat</td>\n",
       "      <td>The Gathering Dark</td>\n",
       "      <td>the gathering dark</td>\n",
       "      <td>78.93</td>\n",
       "      <td>12</td>\n",
       "    </tr>\n",
       "    <tr>\n",
       "      <th>91</th>\n",
       "      <td>Yes</td>\n",
       "      <td>Symphonic Live</td>\n",
       "      <td>symphonic live</td>\n",
       "      <td>76.72</td>\n",
       "      <td>10</td>\n",
       "    </tr>\n",
       "    <tr>\n",
       "      <th>30</th>\n",
       "      <td>Tom Waits</td>\n",
       "      <td>Alice</td>\n",
       "      <td>alice (anniversary edition)</td>\n",
       "      <td>75.61</td>\n",
       "      <td>20</td>\n",
       "    </tr>\n",
       "  </tbody>\n",
       "</table>\n",
       "</div>"
      ],
      "text/plain": [
       "           artist               title                         name  \\\n",
       "60  Virgin Steele      Age Of Consent               age of consent   \n",
       "32      Tori Amos       The Beekeeper                the beekeeper   \n",
       "84         Wo Fat  The Gathering Dark           the gathering dark   \n",
       "91            Yes      Symphonic Live               symphonic live   \n",
       "30      Tom Waits               Alice  alice (anniversary edition)   \n",
       "\n",
       "    album_length  tracks  \n",
       "60        115.13      23  \n",
       "32         79.25      19  \n",
       "84         78.93      12  \n",
       "91         76.72      10  \n",
       "30         75.61      20  "
      ]
     },
     "execution_count": 101,
     "metadata": {},
     "output_type": "execute_result"
    }
   ],
   "source": [
    "df_lengths_missing.sort_values('album_length', ascending=False).head()"
   ]
  },
  {
   "cell_type": "code",
   "execution_count": 102,
   "metadata": {},
   "outputs": [
    {
     "data": {
      "text/plain": [
       "<Axes: xlabel='album_length'>"
      ]
     },
     "execution_count": 102,
     "metadata": {},
     "output_type": "execute_result"
    },
    {
     "data": {
      "image/png": "[encoded data removed]",
      "text/plain": [
       "<Figure size 800x100 with 1 Axes>"
      ]
     },
     "metadata": {},
     "output_type": "display_data"
    }
   ],
   "source": [
    "plt.figure(figsize=(8,1))\n",
    "sns.boxplot(x=df_lengths_missing['album_length'])"
   ]
  },
  {
   "cell_type": "code",
   "execution_count": 103,
   "metadata": {},
   "outputs": [],
   "source": [
    "df_lengths_missing.to_csv('Datasets/df_lengths_missing11.csv', index=False)"
   ]
  },
  {
   "cell_type": "code",
   "execution_count": 113,
   "metadata": {},
   "outputs": [],
   "source": [
    "dfs = {}\n",
    "\n",
    "for i in range(1,12):\n",
    "    dfs[f\"df_lengths_missing{i}\"] = pd.read_csv(f'Datasets/df_lengths_missing{i}.csv')"
   ]
  },
  {
   "cell_type": "code",
   "execution_count": 116,
   "metadata": {},
   "outputs": [
    {
     "name": "stdout",
     "output_type": "stream",
     "text": [
      "(11, 5)\n",
      "(50, 5)\n",
      "(56, 5)\n",
      "(62, 5)\n",
      "(59, 5)\n",
      "(66, 5)\n",
      "(63, 5)\n",
      "(55, 5)\n",
      "(58, 5)\n",
      "(62, 5)\n",
      "(94, 5)\n"
     ]
    }
   ],
   "source": [
    "for i in dfs:\n",
    "    print(f\"{dfs[i].shape}\")"
   ]
  },
  {
   "cell_type": "code",
   "execution_count": 121,
   "metadata": {},
   "outputs": [
    {
     "data": {
      "text/plain": [
       "(636, 5)"
      ]
     },
     "execution_count": 121,
     "metadata": {},
     "output_type": "execute_result"
    }
   ],
   "source": [
    "df_lengths_missing_concat2 = pd.concat([dfs[df] for df in dfs])\n",
    "df_lengths_missing_concat2.shape"
   ]
  },
  {
   "cell_type": "code",
   "execution_count": 122,
   "metadata": {},
   "outputs": [
    {
     "data": {
      "text/html": [
       "<div>\n",
       "<style scoped>\n",
       "    .dataframe tbody tr th:only-of-type {\n",
       "        vertical-align: middle;\n",
       "    }\n",
       "\n",
       "    .dataframe tbody tr th {\n",
       "        vertical-align: top;\n",
       "    }\n",
       "\n",
       "    .dataframe thead th {\n",
       "        text-align: right;\n",
       "    }\n",
       "</style>\n",
       "<table border=\"1\" class=\"dataframe\">\n",
       "  <thead>\n",
       "    <tr style=\"text-align: right;\">\n",
       "      <th></th>\n",
       "      <th>artist</th>\n",
       "      <th>title</th>\n",
       "      <th>name</th>\n",
       "      <th>album_length</th>\n",
       "      <th>tracks</th>\n",
       "    </tr>\n",
       "  </thead>\n",
       "  <tbody>\n",
       "    <tr>\n",
       "      <th>0</th>\n",
       "      <td>108</td>\n",
       "      <td>A New Beat From A Dead Heart</td>\n",
       "      <td>a new beat from a dead heart</td>\n",
       "      <td>34.65</td>\n",
       "      <td>13</td>\n",
       "    </tr>\n",
       "    <tr>\n",
       "      <th>1</th>\n",
       "      <td>40 Below Summer</td>\n",
       "      <td>Rain</td>\n",
       "      <td>rain</td>\n",
       "      <td>49.32</td>\n",
       "      <td>12</td>\n",
       "    </tr>\n",
       "    <tr>\n",
       "      <th>2</th>\n",
       "      <td>A Great Big Pile of Leaves</td>\n",
       "      <td>Have You Seen My Prefrontal Cortex?</td>\n",
       "      <td>have you seen my prefrontal cortex?</td>\n",
       "      <td>49.64</td>\n",
       "      <td>13</td>\n",
       "    </tr>\n",
       "    <tr>\n",
       "      <th>3</th>\n",
       "      <td>A Pale Horse Named Death</td>\n",
       "      <td>And Hell Will Follow Me</td>\n",
       "      <td>and hell will follow me</td>\n",
       "      <td>53.77</td>\n",
       "      <td>13</td>\n",
       "    </tr>\n",
       "    <tr>\n",
       "      <th>4</th>\n",
       "      <td>A Place to Bury Strangers</td>\n",
       "      <td>Exploding Head</td>\n",
       "      <td>exploding head</td>\n",
       "      <td>43.13</td>\n",
       "      <td>10</td>\n",
       "    </tr>\n",
       "    <tr>\n",
       "      <th>...</th>\n",
       "      <td>...</td>\n",
       "      <td>...</td>\n",
       "      <td>...</td>\n",
       "      <td>...</td>\n",
       "      <td>...</td>\n",
       "    </tr>\n",
       "    <tr>\n",
       "      <th>89</th>\n",
       "      <td>Xiu Xiu</td>\n",
       "      <td>The Air Force</td>\n",
       "      <td>the air force</td>\n",
       "      <td>34.71</td>\n",
       "      <td>11</td>\n",
       "    </tr>\n",
       "    <tr>\n",
       "      <th>90</th>\n",
       "      <td>Yeasayer</td>\n",
       "      <td>Odd Blood</td>\n",
       "      <td>odd blood</td>\n",
       "      <td>39.63</td>\n",
       "      <td>10</td>\n",
       "    </tr>\n",
       "    <tr>\n",
       "      <th>91</th>\n",
       "      <td>Yes</td>\n",
       "      <td>Symphonic Live</td>\n",
       "      <td>symphonic live</td>\n",
       "      <td>76.72</td>\n",
       "      <td>10</td>\n",
       "    </tr>\n",
       "    <tr>\n",
       "      <th>92</th>\n",
       "      <td>Yesterdays Rising</td>\n",
       "      <td>Lightworker</td>\n",
       "      <td>lightworker</td>\n",
       "      <td>49.72</td>\n",
       "      <td>12</td>\n",
       "    </tr>\n",
       "    <tr>\n",
       "      <th>93</th>\n",
       "      <td>Young Widows</td>\n",
       "      <td>Old Wounds</td>\n",
       "      <td>old wounds</td>\n",
       "      <td>32.66</td>\n",
       "      <td>11</td>\n",
       "    </tr>\n",
       "  </tbody>\n",
       "</table>\n",
       "<p>636 rows × 5 columns</p>\n",
       "</div>"
      ],
      "text/plain": [
       "                        artist                                title  \\\n",
       "0                          108         A New Beat From A Dead Heart   \n",
       "1              40 Below Summer                                 Rain   \n",
       "2   A Great Big Pile of Leaves  Have You Seen My Prefrontal Cortex?   \n",
       "3     A Pale Horse Named Death              And Hell Will Follow Me   \n",
       "4    A Place to Bury Strangers                       Exploding Head   \n",
       "..                         ...                                  ...   \n",
       "89                     Xiu Xiu                        The Air Force   \n",
       "90                    Yeasayer                            Odd Blood   \n",
       "91                         Yes                       Symphonic Live   \n",
       "92           Yesterdays Rising                          Lightworker   \n",
       "93                Young Widows                           Old Wounds   \n",
       "\n",
       "                                   name  album_length  tracks  \n",
       "0          a new beat from a dead heart         34.65      13  \n",
       "1                                  rain         49.32      12  \n",
       "2   have you seen my prefrontal cortex?         49.64      13  \n",
       "3               and hell will follow me         53.77      13  \n",
       "4                        exploding head         43.13      10  \n",
       "..                                  ...           ...     ...  \n",
       "89                        the air force         34.71      11  \n",
       "90                            odd blood         39.63      10  \n",
       "91                       symphonic live         76.72      10  \n",
       "92                          lightworker         49.72      12  \n",
       "93                           old wounds         32.66      11  \n",
       "\n",
       "[636 rows x 5 columns]"
      ]
     },
     "execution_count": 122,
     "metadata": {},
     "output_type": "execute_result"
    }
   ],
   "source": [
    "df_lengths_missing_concat2"
   ]
  },
  {
   "cell_type": "code",
   "execution_count": 123,
   "metadata": {},
   "outputs": [
    {
     "data": {
      "text/plain": [
       "(1922, 5)"
      ]
     },
     "execution_count": 123,
     "metadata": {},
     "output_type": "execute_result"
    }
   ],
   "source": [
    "df_lengths_missing_concat1 = pd.read_csv('Datasets/df_lengths_missing_concat1.csv')\n",
    "df_lengths_missing_concat1.shape"
   ]
  },
  {
   "cell_type": "code",
   "execution_count": 124,
   "metadata": {},
   "outputs": [],
   "source": [
    "df_lengths_missing_concat2.to_csv('Datasets/df_lengths_missing_concat2.csv', index=False)"
   ]
  },
  {
   "cell_type": "code",
   "execution_count": 125,
   "metadata": {},
   "outputs": [
    {
     "data": {
      "text/plain": [
       "(2558, 5)"
      ]
     },
     "execution_count": 125,
     "metadata": {},
     "output_type": "execute_result"
    }
   ],
   "source": [
    "df_lengths_missing_concat = pd.concat([df_lengths_missing_concat1, df_lengths_missing_concat2])\n",
    "df_lengths_missing_concat.shape"
   ]
  },
  {
   "cell_type": "code",
   "execution_count": 152,
   "metadata": {},
   "outputs": [
    {
     "data": {
      "text/html": [
       "<div>\n",
       "<style scoped>\n",
       "    .dataframe tbody tr th:only-of-type {\n",
       "        vertical-align: middle;\n",
       "    }\n",
       "\n",
       "    .dataframe tbody tr th {\n",
       "        vertical-align: top;\n",
       "    }\n",
       "\n",
       "    .dataframe thead th {\n",
       "        text-align: right;\n",
       "    }\n",
       "</style>\n",
       "<table border=\"1\" class=\"dataframe\">\n",
       "  <thead>\n",
       "    <tr style=\"text-align: right;\">\n",
       "      <th></th>\n",
       "      <th>artist</th>\n",
       "      <th>title</th>\n",
       "      <th>name</th>\n",
       "      <th>album_length</th>\n",
       "      <th>tracks</th>\n",
       "    </tr>\n",
       "  </thead>\n",
       "  <tbody>\n",
       "    <tr>\n",
       "      <th>0</th>\n",
       "      <td>...And You Will Know Us by the Trail of Dead</td>\n",
       "      <td>Madonna</td>\n",
       "      <td>madonna</td>\n",
       "      <td>45.57</td>\n",
       "      <td>13</td>\n",
       "    </tr>\n",
       "    <tr>\n",
       "      <th>1</th>\n",
       "      <td>108</td>\n",
       "      <td>A New Beat From A Dead Heart</td>\n",
       "      <td>a new beat from a dead heart</td>\n",
       "      <td>34.65</td>\n",
       "      <td>13</td>\n",
       "    </tr>\n",
       "    <tr>\n",
       "      <th>2</th>\n",
       "      <td>108</td>\n",
       "      <td>Songs of Separation</td>\n",
       "      <td>songs of separation</td>\n",
       "      <td>32.85</td>\n",
       "      <td>14</td>\n",
       "    </tr>\n",
       "    <tr>\n",
       "      <th>3</th>\n",
       "      <td>10cc</td>\n",
       "      <td>10cc</td>\n",
       "      <td>10cc</td>\n",
       "      <td>35.23</td>\n",
       "      <td>10</td>\n",
       "    </tr>\n",
       "    <tr>\n",
       "      <th>4</th>\n",
       "      <td>10cc</td>\n",
       "      <td>Deceptive Bends</td>\n",
       "      <td>deceptive bends</td>\n",
       "      <td>51.21</td>\n",
       "      <td>12</td>\n",
       "    </tr>\n",
       "  </tbody>\n",
       "</table>\n",
       "</div>"
      ],
      "text/plain": [
       "                                         artist                         title  \\\n",
       "0  ...And You Will Know Us by the Trail of Dead                       Madonna   \n",
       "1                                           108  A New Beat From A Dead Heart   \n",
       "2                                           108           Songs of Separation   \n",
       "3                                          10cc                          10cc   \n",
       "4                                          10cc               Deceptive Bends   \n",
       "\n",
       "                           name  album_length  tracks  \n",
       "0                       madonna         45.57      13  \n",
       "1  a new beat from a dead heart         34.65      13  \n",
       "2           songs of separation         32.85      14  \n",
       "3                          10cc         35.23      10  \n",
       "4               deceptive bends         51.21      12  "
      ]
     },
     "execution_count": 152,
     "metadata": {},
     "output_type": "execute_result"
    }
   ],
   "source": [
    "df_lengths_missing_concat = df_lengths_missing_concat.sort_values(['artist', 'title'])\n",
    "df_lengths_missing_concat.reset_index(drop=True, inplace=True)\n",
    "df_lengths_missing_concat.head()"
   ]
  },
  {
   "cell_type": "code",
   "execution_count": 151,
   "metadata": {},
   "outputs": [],
   "source": [
    "df_lengths_missing_concat.to_csv('Datasets/df_lengths_missing_concat.csv', index=False)"
   ]
  },
  {
   "cell_type": "code",
   "execution_count": null,
   "metadata": {},
   "outputs": [],
   "source": []
  },
  {
   "cell_type": "code",
   "execution_count": null,
   "metadata": {},
   "outputs": [],
   "source": []
  },
  {
   "cell_type": "code",
   "execution_count": null,
   "metadata": {},
   "outputs": [],
   "source": []
  },
  {
   "cell_type": "code",
   "execution_count": 318,
   "metadata": {},
   "outputs": [
    {
     "data": {
      "text/plain": [
       "<Axes: xlabel='tracks'>"
      ]
     },
     "execution_count": 318,
     "metadata": {},
     "output_type": "execute_result"
    },
    {
     "data": {
      "image/png": "[encoded data removed]",
      "text/plain": [
       "<Figure size 800x100 with 1 Axes>"
      ]
     },
     "metadata": {},
     "output_type": "display_data"
    }
   ],
   "source": [
    "plt.figure(figsize=(8,1))\n",
    "sns.boxplot(x=df_lengths_missing_concat['tracks'])"
   ]
  },
  {
   "cell_type": "code",
   "execution_count": 319,
   "metadata": {},
   "outputs": [
    {
     "data": {
      "text/plain": [
       "<Axes: xlabel='album_length'>"
      ]
     },
     "execution_count": 319,
     "metadata": {},
     "output_type": "execute_result"
    },
    {
     "data": {
      "image/png": "[encoded data removed]",
      "text/plain": [
       "<Figure size 800x100 with 1 Axes>"
      ]
     },
     "metadata": {},
     "output_type": "display_data"
    }
   ],
   "source": [
    "plt.figure(figsize=(8,1))\n",
    "sns.boxplot(x=df_lengths_missing_concat['album_length'])"
   ]
  },
  {
   "cell_type": "code",
   "execution_count": null,
   "metadata": {},
   "outputs": [],
   "source": []
  },
  {
   "cell_type": "code",
   "execution_count": 11,
   "metadata": {},
   "outputs": [
    {
     "data": {
      "text/plain": [
       "artist\n",
       "The Fall              10\n",
       "The Kinks             10\n",
       "Hawkwind              10\n",
       "Pink Floyd             9\n",
       "The Mountain Goats     9\n",
       "Genesis                9\n",
       "Elton John             9\n",
       "The Who                8\n",
       "The Beatles            8\n",
       "Black Sabbath          8\n",
       "Name: count, dtype: int64"
      ]
     },
     "execution_count": 11,
     "metadata": {},
     "output_type": "execute_result"
    }
   ],
   "source": [
    "df_length_0['artist'].value_counts().head(10)"
   ]
  },
  {
   "cell_type": "code",
   "execution_count": 12,
   "metadata": {},
   "outputs": [
    {
     "data": {
      "text/plain": [
       "(2234, 13)"
      ]
     },
     "execution_count": 12,
     "metadata": {},
     "output_type": "execute_result"
    }
   ],
   "source": [
    "df_length_0.shape"
   ]
  },
  {
   "cell_type": "code",
   "execution_count": 13,
   "metadata": {},
   "outputs": [
    {
     "data": {
      "text/plain": [
       "1442"
      ]
     },
     "execution_count": 13,
     "metadata": {},
     "output_type": "execute_result"
    }
   ],
   "source": [
    "df_length_0['artist'].nunique()"
   ]
  },
  {
   "cell_type": "code",
   "execution_count": null,
   "metadata": {},
   "outputs": [],
   "source": []
  }
 ],
 "metadata": {
  "kernelspec": {
   "display_name": "base",
   "language": "python",
   "name": "python3"
  },
  "language_info": {
   "codemirror_mode": {
    "name": "ipython",
    "version": 3
   },
   "file_extension": ".py",
   "mimetype": "text/x-python",
   "name": "python",
   "nbconvert_exporter": "python",
   "pygments_lexer": "ipython3",
   "version": "3.12.4"
  }
 },
 "nbformat": 4,
 "nbformat_minor": 2
}
