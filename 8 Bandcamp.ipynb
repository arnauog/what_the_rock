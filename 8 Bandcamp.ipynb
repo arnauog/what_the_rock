{
 "cells": [
  {
   "cell_type": "code",
   "execution_count": 1,
   "metadata": {},
   "outputs": [],
   "source": [
    "import pandas as pd\n",
    "import numpy as np\n",
    "from bs4 import BeautifulSoup\n",
    "import requests\n",
    "import time\n",
    "import seaborn as sns\n",
    "import matplotlib.pyplot as plt\n",
    "from streamlit_functions import *\n",
    "\n",
    "import warnings\n",
    "warnings.filterwarnings(\"ignore\")"
   ]
  },
  {
   "cell_type": "code",
   "execution_count": 2,
   "metadata": {},
   "outputs": [],
   "source": [
    "df_artists_origins = pd.read_csv('Datasets/other_datasets/df_artists_origins.csv')\n",
    "df_ratings = pd.read_csv('Datasets/df_ratings.csv')"
   ]
  },
  {
   "cell_type": "code",
   "execution_count": 3,
   "metadata": {},
   "outputs": [
    {
     "data": {
      "text/html": [
       "<div>\n",
       "<style scoped>\n",
       "    .dataframe tbody tr th:only-of-type {\n",
       "        vertical-align: middle;\n",
       "    }\n",
       "\n",
       "    .dataframe tbody tr th {\n",
       "        vertical-align: top;\n",
       "    }\n",
       "\n",
       "    .dataframe thead th {\n",
       "        text-align: right;\n",
       "    }\n",
       "</style>\n",
       "<table border=\"1\" class=\"dataframe\">\n",
       "  <thead>\n",
       "    <tr style=\"text-align: right;\">\n",
       "      <th></th>\n",
       "      <th>artist</th>\n",
       "      <th>origin</th>\n",
       "    </tr>\n",
       "  </thead>\n",
       "  <tbody>\n",
       "    <tr>\n",
       "      <th>0</th>\n",
       "      <td>Sparta</td>\n",
       "      <td>El Paso, Texas</td>\n",
       "    </tr>\n",
       "    <tr>\n",
       "      <th>1</th>\n",
       "      <td>Muse</td>\n",
       "      <td>Teignmouth, Devon, England</td>\n",
       "    </tr>\n",
       "    <tr>\n",
       "      <th>2</th>\n",
       "      <td>Finch</td>\n",
       "      <td>Temecula, California, Estados Unidos</td>\n",
       "    </tr>\n",
       "    <tr>\n",
       "      <th>3</th>\n",
       "      <td>Transplants</td>\n",
       "      <td>Los Angeles, California, United States[1]</td>\n",
       "    </tr>\n",
       "    <tr>\n",
       "      <th>4</th>\n",
       "      <td>Rooney</td>\n",
       "      <td>Los Angeles, California, U.S.</td>\n",
       "    </tr>\n",
       "  </tbody>\n",
       "</table>\n",
       "</div>"
      ],
      "text/plain": [
       "        artist                                     origin\n",
       "0       Sparta                             El Paso, Texas\n",
       "1         Muse                 Teignmouth, Devon, England\n",
       "2        Finch       Temecula, California, Estados Unidos\n",
       "3  Transplants  Los Angeles, California, United States[1]\n",
       "4       Rooney              Los Angeles, California, U.S."
      ]
     },
     "execution_count": 3,
     "metadata": {},
     "output_type": "execute_result"
    }
   ],
   "source": [
    "df_artists_origins.head()"
   ]
  },
  {
   "cell_type": "code",
   "execution_count": 4,
   "metadata": {},
   "outputs": [
    {
     "data": {
      "text/html": [
       "<div>\n",
       "<style scoped>\n",
       "    .dataframe tbody tr th:only-of-type {\n",
       "        vertical-align: middle;\n",
       "    }\n",
       "\n",
       "    .dataframe tbody tr th {\n",
       "        vertical-align: top;\n",
       "    }\n",
       "\n",
       "    .dataframe thead th {\n",
       "        text-align: right;\n",
       "    }\n",
       "</style>\n",
       "<table border=\"1\" class=\"dataframe\">\n",
       "  <thead>\n",
       "    <tr style=\"text-align: right;\">\n",
       "      <th></th>\n",
       "      <th>year</th>\n",
       "      <th>artist</th>\n",
       "      <th>title</th>\n",
       "      <th>rating</th>\n",
       "      <th>votes</th>\n",
       "      <th>album_length</th>\n",
       "      <th>tracks</th>\n",
       "      <th>avg_song_length</th>\n",
       "      <th>styles</th>\n",
       "    </tr>\n",
       "  </thead>\n",
       "  <tbody>\n",
       "    <tr>\n",
       "      <th>0</th>\n",
       "      <td>1996</td>\n",
       "      <td>Less Than Jake</td>\n",
       "      <td>Losing Streak</td>\n",
       "      <td>3.90</td>\n",
       "      <td>414</td>\n",
       "      <td>37.08</td>\n",
       "      <td>17</td>\n",
       "      <td>2.18</td>\n",
       "      <td>['Ska', 'Punk']</td>\n",
       "    </tr>\n",
       "    <tr>\n",
       "      <th>1</th>\n",
       "      <td>2002</td>\n",
       "      <td>Sparta</td>\n",
       "      <td>Wiretap Scars</td>\n",
       "      <td>3.79</td>\n",
       "      <td>431</td>\n",
       "      <td>47.62</td>\n",
       "      <td>12</td>\n",
       "      <td>3.97</td>\n",
       "      <td>['Indie Rock', 'Alternative Rock']</td>\n",
       "    </tr>\n",
       "    <tr>\n",
       "      <th>2</th>\n",
       "      <td>2003</td>\n",
       "      <td>Muse</td>\n",
       "      <td>Absolution</td>\n",
       "      <td>3.99</td>\n",
       "      <td>4411</td>\n",
       "      <td>52.18</td>\n",
       "      <td>14</td>\n",
       "      <td>3.73</td>\n",
       "      <td>['Alternative Rock']</td>\n",
       "    </tr>\n",
       "    <tr>\n",
       "      <th>3</th>\n",
       "      <td>1999</td>\n",
       "      <td>Muse</td>\n",
       "      <td>Showbiz</td>\n",
       "      <td>3.50</td>\n",
       "      <td>2181</td>\n",
       "      <td>49.65</td>\n",
       "      <td>12</td>\n",
       "      <td>4.14</td>\n",
       "      <td>['Alternative Rock', 'Prog Rock']</td>\n",
       "    </tr>\n",
       "    <tr>\n",
       "      <th>4</th>\n",
       "      <td>2002</td>\n",
       "      <td>Finch</td>\n",
       "      <td>What It Is to Burn</td>\n",
       "      <td>3.69</td>\n",
       "      <td>864</td>\n",
       "      <td>61.18</td>\n",
       "      <td>13</td>\n",
       "      <td>4.71</td>\n",
       "      <td>['Emo', 'Post-Hardcore', 'Alternative Rock']</td>\n",
       "    </tr>\n",
       "  </tbody>\n",
       "</table>\n",
       "</div>"
      ],
      "text/plain": [
       "   year          artist               title  rating  votes  album_length  \\\n",
       "0  1996  Less Than Jake       Losing Streak    3.90    414         37.08   \n",
       "1  2002          Sparta       Wiretap Scars    3.79    431         47.62   \n",
       "2  2003            Muse          Absolution    3.99   4411         52.18   \n",
       "3  1999            Muse             Showbiz    3.50   2181         49.65   \n",
       "4  2002           Finch  What It Is to Burn    3.69    864         61.18   \n",
       "\n",
       "   tracks  avg_song_length                                        styles  \n",
       "0      17             2.18                               ['Ska', 'Punk']  \n",
       "1      12             3.97            ['Indie Rock', 'Alternative Rock']  \n",
       "2      14             3.73                          ['Alternative Rock']  \n",
       "3      12             4.14             ['Alternative Rock', 'Prog Rock']  \n",
       "4      13             4.71  ['Emo', 'Post-Hardcore', 'Alternative Rock']  "
      ]
     },
     "execution_count": 4,
     "metadata": {},
     "output_type": "execute_result"
    }
   ],
   "source": [
    "df_ratings.head()"
   ]
  },
  {
   "cell_type": "code",
   "execution_count": 5,
   "metadata": {},
   "outputs": [
    {
     "data": {
      "text/plain": [
       "'bigbigtrain'"
      ]
     },
     "execution_count": 5,
     "metadata": {},
     "output_type": "execute_result"
    }
   ],
   "source": [
    "artist = 'Big Big Train'\n",
    "artist.lower().replace(' ', '')"
   ]
  },
  {
   "cell_type": "code",
   "execution_count": 51,
   "metadata": {},
   "outputs": [],
   "source": [
    "artists = df_ratings['artist'].unique()"
   ]
  },
  {
   "cell_type": "code",
   "execution_count": 49,
   "metadata": {},
   "outputs": [
    {
     "data": {
      "text/plain": [
       "array(['Less Than Jake', 'Sparta', 'Muse', 'Finch',\n",
       "       'Queens of the Stone Age', 'Transplants', 'Dream Theater',\n",
       "       'A Perfect Circle', 'Rooney', 'AFI', 'The Cure', 'blink-182',\n",
       "       'Weezer', 'Deftones', 'Jimmy Eat World', 'The Mars Volta',\n",
       "       'Black Sabbath', 'Yes', 'Brainiac', 'Rise Against', 'Pearl Jam',\n",
       "       'Joe Satriani', 'Iron Maiden', 'Streetlight Manifesto', 'NOFX',\n",
       "       'Metallica', 'Incubus', 'Coheed and Cambria', 'Pantera',\n",
       "       'Brand New', 'King Crimson', 'Tool', 'Revis', 'Radiohead',\n",
       "       'Alice in Chains', 'Big Black', 'Filter',\n",
       "       'Rage Against the Machine', 'Melvins', 'Poison the Well'],\n",
       "      dtype=object)"
      ]
     },
     "execution_count": 49,
     "metadata": {},
     "output_type": "execute_result"
    }
   ],
   "source": [
    "artists[:40]"
   ]
  },
  {
   "cell_type": "markdown",
   "metadata": {},
   "source": [
    "# **Looking if the artists have a bandcamp website**"
   ]
  },
  {
   "cell_type": "code",
   "execution_count": 7,
   "metadata": {},
   "outputs": [
    {
     "data": {
      "text/plain": [
       "4131"
      ]
     },
     "execution_count": 7,
     "metadata": {},
     "output_type": "execute_result"
    }
   ],
   "source": [
    "artists = df_ratings['artist'].unique()\n",
    "len(artists)"
   ]
  },
  {
   "cell_type": "code",
   "execution_count": 75,
   "metadata": {},
   "outputs": [
    {
     "name": "stdout",
     "output_type": "stream",
     "text": [
      "1/1: cows - Kyoto Prefecture, Japan\n",
      "1/2: ramones - Maybe this artist doesn't have a bandcamp page\n",
      "1/3: slipknot - Maybe this artist doesn't have a bandcamp page\n",
      "2/4: cometsonfire - Santa Cruz, California\n",
      "2/5: fenixtx - Maybe this artist doesn't have a bandcamp page\n",
      "2/6: jane'saddiction - Maybe this artist doesn't have a bandcamp page\n",
      "2/7: rxbandits - Maybe this artist doesn't have a bandcamp page\n",
      "3/8: dragonforce - London, UK\n",
      "4/9: thevelvetunderground - \n",
      "5/10: nirvana - Seattle, Washington\n",
      "6/11: greenday - \n",
      "6/12: funeralforafriend - Maybe this artist doesn't have a bandcamp page\n",
      "6/13: factory81 - Maybe this artist doesn't have a bandcamp page\n",
      "6/14: theflaminglips - Maybe this artist doesn't have a bandcamp page\n",
      "6/15: feeder - Maybe this artist doesn't have a bandcamp page\n",
      "7/16: pjharvey - London, UK\n",
      "7/17: godsmack - Maybe this artist doesn't have a bandcamp page\n",
      "8/18: sebadoh - \n",
      "9/19: blindfaith - Dublin, Ireland\n",
      "9/20: vanhalen - Maybe this artist doesn't have a bandcamp page\n",
      "9/21: damageplan - Maybe this artist doesn't have a bandcamp page\n",
      "9/22: korn - Maybe this artist doesn't have a bandcamp page\n",
      "9/23: sublime - Maybe this artist doesn't have a bandcamp page\n",
      "9/24: sugarcult - Maybe this artist doesn't have a bandcamp page\n",
      "10/25: devo - Seattle, Washington\n",
      "10/26: thewho - Maybe this artist doesn't have a bandcamp page\n",
      "11/27: yeahyeahyeahs - New York, New York\n",
      "12/28: falloutboy - Maryland\n",
      "13/29: nonemoreblack - New Jersey\n",
      "13/30: r.e.m. - Maybe this artist doesn't have a bandcamp page\n",
      "14/31: stevevai - California\n",
      "14/32: mc5 - Maybe this artist doesn't have a bandcamp page\n",
      "15/33: takingbacksunday - New York\n",
      "15/34: gratefuldead - Maybe this artist doesn't have a bandcamp page\n",
      "15/35: oasis - Maybe this artist doesn't have a bandcamp page\n",
      "15/36: lynyrdskynyrd - Maybe this artist doesn't have a bandcamp page\n",
      "16/37: clinic - Fresno, California\n",
      "16/38: theallmanbrothersband - Maybe this artist doesn't have a bandcamp page\n",
      "17/39: phish - Burlington, Vermont\n",
      "18/40: cream - Delaware\n",
      "19/41: electricsix - Detroit, Michigan\n",
      "20/42: darkangel - London, UK\n",
      "20/43: thedillingerescapeplan - Maybe this artist doesn't have a bandcamp page\n",
      "20/44: motograter - Maybe this artist doesn't have a bandcamp page\n",
      "21/45: modestmouse - Portland, Oregon\n",
      "21/46: exodus - Maybe this artist doesn't have a bandcamp page\n",
      "22/47: bigstar - Memphis, Tennessee\n",
      "23/48: thirdeyeblind - San Francisco, California\n",
      "24/49: stonesour - Des Moines, Iowa\n",
      "25/50: adolescents - Fullerton, California\n",
      "26/51: meatpuppets - Phoenix, Arizona\n",
      "26/52: vanmorrison - Maybe this artist doesn't have a bandcamp page\n",
      "27/53: descendents - Manhattan Beach, California\n",
      "28/54: bobdylan - \n",
      "28/55: foofighters - Maybe this artist doesn't have a bandcamp page\n",
      "28/56: talkingheads - Maybe this artist doesn't have a bandcamp page\n",
      "29/57: rancid - Berkeley, California\n",
      "30/58: staind - Springfield, Massachusetts\n",
      "30/59: beck - Maybe this artist doesn't have a bandcamp page\n",
      "31/60: queen - Seattle, Washington\n",
      "31/61: joydivision - Maybe this artist doesn't have a bandcamp page\n",
      "31/62: thestrokes - Maybe this artist doesn't have a bandcamp page\n",
      "32/63: grandaddy - California\n",
      "32/64: hastetheday - Maybe this artist doesn't have a bandcamp page\n",
      "33/65: kayodot - Middlefield, Connecticut\n",
      "33/66: dashboardconfessional - Maybe this artist doesn't have a bandcamp page\n",
      "33/67: starsailor - Maybe this artist doesn't have a bandcamp page\n",
      "34/68: neutralmilkhotel - \n",
      "34/69: aerosmith - Maybe this artist doesn't have a bandcamp page\n",
      "34/70: x-rayspex - Maybe this artist doesn't have a bandcamp page\n",
      "35/71: faithnomore - \n",
      "36/72: alkalinetrio - \n",
      "36/73: thepogues - Maybe this artist doesn't have a bandcamp page\n",
      "36/74: gunsn'roses - Maybe this artist doesn't have a bandcamp page\n",
      "37/75: porcupinetree - London, UK\n",
      "38/76: testament - Montreal, Québec\n",
      "39/77: atheist - Sarasota, Florida\n",
      "39/78: jeffbuckley - Maybe this artist doesn't have a bandcamp page\n",
      "39/79: thewhitestripes - Maybe this artist doesn't have a bandcamp page\n",
      "39/80: dredg - Maybe this artist doesn't have a bandcamp page\n",
      "40/81: sonicyouth - New York, New York\n",
      "41/82: judaspriest - West Bromwich, UK\n",
      "42/83: vendettared - Maple Valley, Washington\n",
      "43/84: glassjaw - Newfoundland and Labrador\n",
      "44/85: thesuicidemachines - Detroit, Michigan\n",
      "44/86: savestheday - Maybe this artist doesn't have a bandcamp page\n",
      "44/87: maudlinofthewell - Maybe this artist doesn't have a bandcamp page\n",
      "45/88: cold - Houston, Texas\n",
      "45/89: misfits - Maybe this artist doesn't have a bandcamp page\n",
      "45/90: zwan - Maybe this artist doesn't have a bandcamp page\n",
      "46/91: hoobastank - Agoura Hills, California\n",
      "47/92: coldplay - Weed, California\n",
      "48/93: awilhelmscream - New Bedford, Massachusetts\n",
      "48/94: toriamos - Maybe this artist doesn't have a bandcamp page\n",
      "48/95: orgy - Maybe this artist doesn't have a bandcamp page\n",
      "49/96: tonic - Leipzig, Germany\n",
      "50/97: thestooges - Ann Arbor, Michigan\n",
      "50/98: thewildhearts - Maybe this artist doesn't have a bandcamp page\n",
      "50/99: nothingface - Maybe this artist doesn't have a bandcamp page\n",
      "50/100: mydyingbride - Maybe this artist doesn't have a bandcamp page\n",
      "50/101: lessavyfav - Maybe this artist doesn't have a bandcamp page\n",
      "51/102: interpol - Brooklyn, New York\n",
      "52/103: thebloodbrothers - South Jordan, Utah\n",
      "53/104: theused - Orem, Utah\n",
      "54/105: paparoach - Vacaville, California\n",
      "55/106: badreligion - Los Angeles\n",
      "55/107: thelibertines - Maybe this artist doesn't have a bandcamp page\n",
      "55/108: mychemicalromance - Maybe this artist doesn't have a bandcamp page\n",
      "55/109: hopeofthestates - Maybe this artist doesn't have a bandcamp page\n",
      "56/110: flaw - Lahore, Pakistan\n",
      "57/111: eighteenvisions - California\n",
      "57/112: doves - Maybe this artist doesn't have a bandcamp page\n",
      "58/113: aereogramme - Glasgow, UK\n",
      "58/114: hopesfall - Maybe this artist doesn't have a bandcamp page\n",
      "59/115: underoath - Tampa, Florida\n",
      "59/116: thebled - Maybe this artist doesn't have a bandcamp page\n",
      "59/117: anthrax - Maybe this artist doesn't have a bandcamp page\n",
      "59/118: arghoslent - Maybe this artist doesn't have a bandcamp page\n",
      "59/119: cynic - Maybe this artist doesn't have a bandcamp page\n",
      "59/120: jethrotull - Maybe this artist doesn't have a bandcamp page\n",
      "59/121: thejimihendrixexperience - Maybe this artist doesn't have a bandcamp page\n",
      "59/122: bluestraveler - Maybe this artist doesn't have a bandcamp page\n",
      "60/123: thedoors - Los Angeles, California\n",
      "61/124: santana - Las Palmas De Gran Canaria, Spain\n",
      "62/125: jasonmraz - Mechanicsville, Virginia\n",
      "63/126: wipers - Portland, Oregon\n",
      "63/127: probot - Maybe this artist doesn't have a bandcamp page\n",
      "64/128: unearth - Boston, Massachusetts\n",
      "65/129: slint - Louisville, Kentucky\n",
      "66/130: glasscasket - New Orleans, Louisiana\n",
      "66/131: kyuss - Maybe this artist doesn't have a bandcamp page\n",
      "66/132: deadpoetic - Maybe this artist doesn't have a bandcamp page\n",
      "67/133: creed - Tallahassee, Florida\n",
      "68/134: soundgarden - Seattle, Washington\n",
      "69/135: brighteyes - Omaha, Nebraska\n",
      "70/136: theearlynovember - Hammonton, New Jersey\n",
      "70/137: prong - Maybe this artist doesn't have a bandcamp page\n",
      "71/138: everytimeidie - Buffalo, New York\n",
      "72/139: thelocust - San Diego, California\n",
      "72/140: ra - Maybe this artist doesn't have a bandcamp page\n",
      "72/141: eels - Maybe this artist doesn't have a bandcamp page\n",
      "72/142: codeseven - Maybe this artist doesn't have a bandcamp page\n",
      "73/143: thebeatles - \n",
      "74/144: ronjarzombek - San Antonio, Texas\n",
      "74/145: spasticink - Maybe this artist doesn't have a bandcamp page\n",
      "74/146: mudvayne - Maybe this artist doesn't have a bandcamp page\n",
      "74/147: shinedown - Maybe this artist doesn't have a bandcamp page\n",
      "74/148: wilco - Maybe this artist doesn't have a bandcamp page\n",
      "75/149: johnfrusciante - Los Angeles, California\n",
      "76/150: mudhoney - Seattle, Washington\n",
      "77/151: thejam - \n",
      "78/152: cursive - Omaha, Nebraska\n",
      "79/153: thefaint - Omaha, Nebraska\n",
      "80/154: nevermore - Savannah, Georgia\n",
      "80/155: breakingbenjamin - Maybe this artist doesn't have a bandcamp page\n",
      "81/156: theblackdahliamurder - Detroit, Michigan\n",
      "82/157: elliottsmith - Portland, Oregon\n",
      "83/158: explosionsinthesky - Austin, Texas\n",
      "84/159: tenaciousd - Los Angeles, California\n",
      "85/160: strungout - Los Angeles, California\n",
      "86/161: jackjohnson - Hartlepool, UK\n",
      "86/162: davidgray - Maybe this artist doesn't have a bandcamp page\n",
      "86/163: johnlennon - Maybe this artist doesn't have a bandcamp page\n",
      "87/164: love - \n",
      "88/165: thecasualties - New York, New York\n",
      "88/166: cyndilauper - Maybe this artist doesn't have a bandcamp page\n",
      "89/167: thebouncingsouls - Asbury Park, New Jersey\n",
      "90/168: anidifranco - New Orleans, Louisiana\n",
      "90/169: calexico - Maybe this artist doesn't have a bandcamp page\n",
      "91/170: napalmdeath - Meriden, UK\n",
      "92/171: theafghanwhigs - Cincinnati, Ohio\n",
      "92/172: davidbowie - Maybe this artist doesn't have a bandcamp page\n",
      "92/173: rustedroot - Maybe this artist doesn't have a bandcamp page\n",
      "93/174: hellisforheroes - London, UK\n",
      "93/175: everclear - Maybe this artist doesn't have a bandcamp page\n",
      "93/176: matchboxtwenty - Maybe this artist doesn't have a bandcamp page\n",
      "93/177: theblackcrowes - Maybe this artist doesn't have a bandcamp page\n",
      "94/178: alterbridge - Orlando, Florida\n",
      "95/179: tomwaits - Los Angeles, California\n",
      "96/180: fleetwoodmac - Brooklyn, New York\n",
      "97/181: thekillers - Nashville, Tennessee\n",
      "98/182: davematthewsband - Charlottesville, Virginia\n",
      "98/183: billyjoel - Maybe this artist doesn't have a bandcamp page\n",
      "98/184: thesmiths - Maybe this artist doesn't have a bandcamp page\n",
      "99/185: thevandals - Los Angeles, California\n",
      "99/186: hum - Maybe this artist doesn't have a bandcamp page\n",
      "100/187: godforbid - New York, New York\n",
      "101/188: fugazi - Washington, D.C.\n",
      "102/189: 88fingerslouie - Chicago, Illinois\n",
      "103/190: magazine - London, UK\n",
      "104/191: stereolab - London, UK\n",
      "105/192: deathcabforcutie - Seattle, Washington\n",
      "105/193: operationivy - Maybe this artist doesn't have a bandcamp page\n",
      "105/194: nickdrake - Maybe this artist doesn't have a bandcamp page\n",
      "106/195: loureed - New York, New York\n",
      "107/196: evergreenterrace - Jacksonville, Florida\n",
      "108/197: franzferdinand - Glasgow, UK\n",
      "109/198: therollingstones - Philadelphia, Pennsylvania\n",
      "110/199: benharper - California\n",
      "111/200: screamingtrees - Ellensburg, Washington\n",
      "111/201: thezombies - Maybe this artist doesn't have a bandcamp page\n",
      "112/202: sensesfail - New Jersey\n",
      "113/203: thefalloftroy - Mukilteo, Washington\n",
      "114/204: widespreadpanic - Athens, Georgia\n",
      "115/205: paulsimon - New York, New York\n",
      "116/206: eve6 - Los Angeles, California\n",
      "116/207: morbidangel - Maybe this artist doesn't have a bandcamp page\n",
      "117/208: blur - Lanham, Maryland\n",
      "117/209: converge - Maybe this artist doesn't have a bandcamp page\n",
      "118/210: themusic - Malaybalay, Philippines\n",
      "119/211: theapplesinstereo - Denver, Colorado\n",
      "120/212: nile - South Carolina\n",
      "120/213: joeyramone - Maybe this artist doesn't have a bandcamp page\n",
      "121/214: asilaydying - San Diego, California\n",
      "122/215: cannibalcorpse - Buffalo, New York\n",
      "123/216: localh - Chicago, Illinois\n",
      "123/217: chimaira - Maybe this artist doesn't have a bandcamp page\n",
      "124/218: genesis - Belfast, UK\n",
      "125/219: themovielife - New York\n",
      "125/220: psyopus - Maybe this artist doesn't have a bandcamp page\n",
      "125/221: chevelle - Maybe this artist doesn't have a bandcamp page\n",
      "125/222: keane - Maybe this artist doesn't have a bandcamp page\n",
      "126/223: mastodon - Atlanta, Georgia\n",
      "126/224: andreww.k. - Maybe this artist doesn't have a bandcamp page\n",
      "127/225: ofmontreal - Athens, Georgia\n",
      "128/226: theshins - Portland, Oregon\n",
      "128/227: supertramp - Maybe this artist doesn't have a bandcamp page\n",
      "128/228: thepolice - Maybe this artist doesn't have a bandcamp page\n",
      "128/229: betweentheburiedandme - Maybe this artist doesn't have a bandcamp page\n",
      "128/230: countingcrows - Maybe this artist doesn't have a bandcamp page\n",
      "128/231: manicstreetpreachers - Maybe this artist doesn't have a bandcamp page\n",
      "128/232: brianwilson - Maybe this artist doesn't have a bandcamp page\n",
      "129/233: fear - Scranton, Pennsylvania\n",
      "130/234: themagneticfields - New York, New York\n",
      "130/235: derekandthedominos - Maybe this artist doesn't have a bandcamp page\n",
      "130/236: johnmayer - Maybe this artist doesn't have a bandcamp page\n",
      "131/237: primalscream - Greater London, UK\n",
      "131/238: moe. - Maybe this artist doesn't have a bandcamp page\n",
      "131/239: jarsofclay - Maybe this artist doesn't have a bandcamp page\n",
      "132/240: wire - Colombia\n",
      "133/241: aghora - UK\n",
      "134/242: fastball - Austin, Texas\n",
      "135/243: himsa - Seattle, Washington\n",
      "136/244: livingsacrifice - Nashville, Tennessee\n",
      "136/245: delays - Maybe this artist doesn't have a bandcamp page\n",
      "137/246: death - Orlando, Florida\n",
      "138/247: allthatremains - Springfield, Massachusetts\n",
      "139/248: belleandsebastian - Glasgow, UK\n",
      "140/249: elbow - Manchester, UK\n",
      "141/250: brucespringsteen - Myanmar\n",
      "141/251: sugarray - Maybe this artist doesn't have a bandcamp page\n",
      "142/252: thewarriors - Sacramento, California\n",
      "142/253: royharper - Maybe this artist doesn't have a bandcamp page\n",
      "142/254: biffyclyro - Maybe this artist doesn't have a bandcamp page\n",
      "143/255: lambofgod - \n",
      "143/256: circlejerks - Maybe this artist doesn't have a bandcamp page\n",
      "143/257: kasabian - Maybe this artist doesn't have a bandcamp page\n",
      "144/258: helmet - 東京都, Japan\n",
      "145/259: theredchord - Boston, Massachusetts\n",
      "146/260: morrissey - San Diego, California\n",
      "147/261: lizphair - Chicago, Illinois\n",
      "148/262: badlydrawnboy - UK\n",
      "149/263: thewalkmen - New York, New York\n",
      "149/264: disturbed - Maybe this artist doesn't have a bandcamp page\n",
      "149/265: grandfunkrailroad - Maybe this artist doesn't have a bandcamp page\n",
      "149/266: themodernlovers - Maybe this artist doesn't have a bandcamp page\n",
      "149/267: zztop - Maybe this artist doesn't have a bandcamp page\n",
      "150/268: primer55 - Atlanta, Georgia\n",
      "151/269: mushroomhead - São Paulo, Brazil\n",
      "152/270: pavement - Stockton, California\n",
      "153/271: neurosis - \n",
      "154/272: thespillcanvas - Sioux Falls, South Dakota\n",
      "155/273: tvontheradio - New York, New York\n",
      "155/274: trans-siberianorchestra - Maybe this artist doesn't have a bandcamp page\n",
      "156/275: pinback - San Diego, California\n",
      "156/276: thepresidentsoftheunitedstatesofamerica - Maybe this artist doesn't have a bandcamp page\n",
      "156/277: thebyrds - Maybe this artist doesn't have a bandcamp page\n",
      "157/278: pelican - Chicago, Illinois\n",
      "157/279: monstermagnet - Maybe this artist doesn't have a bandcamp page\n",
      "158/280: agalloch - Portland, Oregon\n",
      "159/281: creedenceclearwaterrevival - El Cerrito, California\n",
      "160/282: carcass - Liverpool, UK\n",
      "160/283: cocteautwins - Maybe this artist doesn't have a bandcamp page\n",
      "160/284: googoodolls - Maybe this artist doesn't have a bandcamp page\n",
      "161/285: canvassolaris - Statesboro, Georgia\n",
      "162/286: reelbigfish - Philadelphia, Pennsylvania\n",
      "163/287: adema - Bakersfield, California\n",
      "163/288: harrynilsson - Maybe this artist doesn't have a bandcamp page\n",
      "164/289: ween - Auburn, New Hampshire\n",
      "164/290: snowpatrol - Maybe this artist doesn't have a bandcamp page\n",
      "165/291: idlewild - Atlanta, Georgia\n",
      "165/292: uriahheep - Maybe this artist doesn't have a bandcamp page\n",
      "165/293: adayinblackandwhite - Maybe this artist doesn't have a bandcamp page\n",
      "165/294: eagles - Maybe this artist doesn't have a bandcamp page\n",
      "165/295: g.loveandspecialsauce - Maybe this artist doesn't have a bandcamp page\n",
      "165/296: themarshalltuckerband - Maybe this artist doesn't have a bandcamp page\n",
      "165/297: theeightiesmatchboxb-linedisaster - Maybe this artist doesn't have a bandcamp page\n",
      "165/298: beulah - Maybe this artist doesn't have a bandcamp page\n",
      "166/299: khanate - New York, New York\n",
      "166/300: tigerarmy - Maybe this artist doesn't have a bandcamp page\n",
      "166/301: tracychapman - Maybe this artist doesn't have a bandcamp page\n",
      "167/302: thedismembermentplan - Washington, D.C.\n",
      "167/303: mahavishnuorchestra - Maybe this artist doesn't have a bandcamp page\n",
      "168/304: morphine - Portland, Maine\n",
      "168/305: jeffersonairplane - Maybe this artist doesn't have a bandcamp page\n",
      "169/306: thebeachboys - San Diego, California\n",
      "170/307: gorillaz - \n",
      "171/308: quicksilvermessengerservice - San Francisco, California\n",
      "172/309: scissorsisters - \n",
      "173/310: circulatorysystem - Athens, Georgia\n",
      "174/311: lamb - Virginia\n",
      "175/312: whitenoise - Toledo, Ohio\n",
      "175/313: frankzappa - Maybe this artist doesn't have a bandcamp page\n",
      "176/314: blackmothsuperrainbow - Pittsburgh, Pennsylvania\n",
      "176/315: jem - Maybe this artist doesn't have a bandcamp page\n",
      "177/316: slowdive - UK\n",
      "177/317: againstme! - Maybe this artist doesn't have a bandcamp page\n",
      "178/318: thejesusandmarychain - Glasgow, UK\n",
      "179/319: morgion - California\n",
      "179/320: static-x - Maybe this artist doesn't have a bandcamp page\n",
      "179/321: therapy? - Maybe this artist doesn't have a bandcamp page\n",
      "179/322: nodoubt - Maybe this artist doesn't have a bandcamp page\n",
      "179/323: georgeharrison - Maybe this artist doesn't have a bandcamp page\n",
      "180/324: bleedingthrough - California\n",
      "180/325: ryanadams - Maybe this artist doesn't have a bandcamp page\n",
      "180/326: diecast - Maybe this artist doesn't have a bandcamp page\n",
      "181/327: liquidtensionexperiment - New York, New York\n",
      "182/328: arsis - Virginia Beach, Virginia\n",
      "182/329: symphonyx - Maybe this artist doesn't have a bandcamp page\n",
      "183/330: mogwai - Scotland, UK\n",
      "184/331: inmyeyes - Massachusetts\n",
      "184/332: thespecials - Maybe this artist doesn't have a bandcamp page\n",
      "184/333: thetwilightsingers - Maybe this artist doesn't have a bandcamp page\n",
      "184/334: mr.bungle - Maybe this artist doesn't have a bandcamp page\n",
      "184/335: atthedrive-in - Maybe this artist doesn't have a bandcamp page\n",
      "185/336: warrenzevon - Los Angeles, California\n",
      "186/337: revenant - Pittsburgh, Pennsylvania\n",
      "186/338: badbrains - Maybe this artist doesn't have a bandcamp page\n",
      "187/339: marilynmanson - Los Angeles, California\n",
      "187/340: darkesthour - Maybe this artist doesn't have a bandcamp page\n",
      "187/341: circletakesthesquare - Maybe this artist doesn't have a bandcamp page\n",
      "188/342: razorlight - London, UK\n",
      "189/343: horsetheband - Lake Forest, California\n",
      "189/344: velvetrevolver - Maybe this artist doesn't have a bandcamp page\n",
      "189/345: deadkennedys - Maybe this artist doesn't have a bandcamp page\n",
      "190/346: reuben - Australia\n",
      "191/347: alienantfarm - Riverside, California\n",
      "191/348: headautomatica - Maybe this artist doesn't have a bandcamp page\n",
      "192/349: strikeanywhere - Richmond, Virginia\n",
      "193/350: lcdsoundsystem - New York, New York\n",
      "193/351: ozzyosbourne - Maybe this artist doesn't have a bandcamp page\n",
      "194/352: overkill - Missouri\n",
      "195/353: inme - England, UK\n",
      "195/354: dr.john - Maybe this artist doesn't have a bandcamp page\n",
      "195/355: injected - Maybe this artist doesn't have a bandcamp page\n",
      "196/356: nonpoint - Chicago, Illinois\n",
      "196/357: stonetemplepilots - Maybe this artist doesn't have a bandcamp page\n",
      "197/358: pro-pain - New York, New York\n",
      "197/359: sleater-kinney - Maybe this artist doesn't have a bandcamp page\n",
      "198/360: blocparty - London, UK\n",
      "198/361: kingsofleon - Maybe this artist doesn't have a bandcamp page\n",
      "198/362: 311 - Maybe this artist doesn't have a bandcamp page\n",
      "199/363: straylightrun - New York\n",
      "200/364: mercuryrev - New York, New York\n",
      "200/365: armorforsleep - Maybe this artist doesn't have a bandcamp page\n",
      "200/366: deeppurple - Maybe this artist doesn't have a bandcamp page\n",
      "201/367: skindred - Wales, UK\n",
      "201/368: kaiserchiefs - Maybe this artist doesn't have a bandcamp page\n",
      "202/369: thefutureheads - Sunderland, UK\n",
      "203/370: theevens - Washington, D.C.\n",
      "203/371: theacademyis... - Maybe this artist doesn't have a bandcamp page\n",
      "203/372: blindmelon - Maybe this artist doesn't have a bandcamp page\n",
      "203/373: serart - Maybe this artist doesn't have a bandcamp page\n",
      "204/374: thebreeders - Dayton, Ohio\n",
      "205/375: thedelgados - Glasgow, UK\n",
      "206/376: throwdown - California\n",
      "206/377: itdiestoday - Maybe this artist doesn't have a bandcamp page\n",
      "207/378: peach - De Kalb, Illinois\n",
      "208/379: no-man - London, UK\n",
      "208/380: blackflag - Maybe this artist doesn't have a bandcamp page\n",
      "209/381: youandi - New Brunswick, New Jersey\n",
      "209/382: mansun - Maybe this artist doesn't have a bandcamp page\n",
      "209/383: themillennium - Maybe this artist doesn't have a bandcamp page\n",
      "209/384: theexies - Maybe this artist doesn't have a bandcamp page\n",
      "209/385: relientk - Maybe this artist doesn't have a bandcamp page\n",
      "210/386: floggingmolly - Los Angeles, California\n",
      "211/387: minusthebear - Seattle, Washington\n",
      "211/388: zao - Maybe this artist doesn't have a bandcamp page\n",
      "211/389: thecalling - Maybe this artist doesn't have a bandcamp page\n",
      "211/390: mae - Maybe this artist doesn't have a bandcamp page\n",
      "212/391: maroon5 - Riau, Indonesia\n",
      "212/392: typeonegative - Maybe this artist doesn't have a bandcamp page\n",
      "212/393: sleepytimegorillamuseum - Maybe this artist doesn't have a bandcamp page\n",
      "213/394: reflux - Sheffield, UK\n",
      "214/395: showbread - Portland, Oregon\n",
      "214/396: templeofthedog - Maybe this artist doesn't have a bandcamp page\n",
      "214/397: verticalhorizon - Maybe this artist doesn't have a bandcamp page\n",
      "214/398: slyandthefamilystone - Maybe this artist doesn't have a bandcamp page\n",
      "214/399: meatloaf - Maybe this artist doesn't have a bandcamp page\n",
      "215/400: obituary - Tampa, Florida\n"
     ]
    }
   ],
   "source": [
    "df_ratings = pd.read_csv('Datasets/df_ratings.csv')\n",
    "artists = df_ratings['artist'].unique()\n",
    "\n",
    "# create empty lists\n",
    "artists_list = []\n",
    "artist_bandcamp_list = []\n",
    "location_bandcamp_list = []\n",
    "count = 0\n",
    "scrapped = 0\n",
    "\n",
    "for artist in artists[100:500]:\n",
    "    artist_clean = artist.lower().replace(' ', '')\n",
    "    time.sleep(1) # adding some time for the website to load\n",
    "    count+=1\n",
    "\n",
    "    try:\n",
    "        url = f'https://{artist_clean}.bandcamp.com/music'\n",
    "        response = requests.get(url)\n",
    "        soup = BeautifulSoup(response.content, \"html.parser\")\n",
    "\n",
    "        # I have to make sure it's the same artist I'm looking for, because sometimes it is not\n",
    "        artist_bandcamp = soup.select('#band-name-location > span.title')[0].text\n",
    "        location = soup.select(\"#band-name-location > span.location.secondaryText\")[0].text\n",
    "\n",
    "        # location = soup.select('div p span', class_=\"location secondaryText\")[1].text\n",
    "\n",
    "        # if it finds the location, append the info to the lists\n",
    "        location_bandcamp_list.append(location)\n",
    "        artist_bandcamp_list.append(artist_bandcamp) # so later I can compare both names of the artist\n",
    "        artists_list.append(artist) # the original artist I'm searching\n",
    "        scrapped+=1\n",
    "        print(f\"{scrapped}/{count}: {artist_clean} - {location}\")\n",
    "\n",
    "    except: # append null values when it cannot found the artist\n",
    "        artists_list.append(artist)\n",
    "        artist_bandcamp_list.append(np.nan)\n",
    "        location_bandcamp_list.append(np.nan)\n",
    "        print(f\"{scrapped}/{count}: {artist_clean} - Maybe this artist doesn't have a bandcamp page\")\n",
    "\n",
    "# Create a DataFrame with the results\n",
    "df_bandcamp_locations = pd.DataFrame({'artist': artists_list\n",
    "                                      , 'artist_bandcamp': artist_bandcamp_list\n",
    "                                      , 'location_bandcamp': location_bandcamp_list})"
   ]
  },
  {
   "cell_type": "code",
   "execution_count": 76,
   "metadata": {},
   "outputs": [
    {
     "data": {
      "text/plain": [
       "(215, 4)"
      ]
     },
     "execution_count": 76,
     "metadata": {},
     "output_type": "execute_result"
    }
   ],
   "source": [
    "df_artists_bandcamp = pd.merge(df_bandcamp_locations, df_artists_origins, on='artist')\n",
    "df_artists_bandcamp.dropna(subset='location_bandcamp', inplace=True)\n",
    "df_artists_bandcamp.reset_index(drop=True, inplace=True)\n",
    "# df_artists_bandcamp.drop(columns='origin', inplace=True)\n",
    "df_artists_bandcamp.shape"
   ]
  },
  {
   "cell_type": "code",
   "execution_count": 77,
   "metadata": {},
   "outputs": [
    {
     "data": {
      "text/html": [
       "<div>\n",
       "<style scoped>\n",
       "    .dataframe tbody tr th:only-of-type {\n",
       "        vertical-align: middle;\n",
       "    }\n",
       "\n",
       "    .dataframe tbody tr th {\n",
       "        vertical-align: top;\n",
       "    }\n",
       "\n",
       "    .dataframe thead th {\n",
       "        text-align: right;\n",
       "    }\n",
       "</style>\n",
       "<table border=\"1\" class=\"dataframe\">\n",
       "  <thead>\n",
       "    <tr style=\"text-align: right;\">\n",
       "      <th></th>\n",
       "      <th>artist</th>\n",
       "      <th>artist_bandcamp</th>\n",
       "      <th>location_bandcamp</th>\n",
       "      <th>origin</th>\n",
       "    </tr>\n",
       "  </thead>\n",
       "  <tbody>\n",
       "    <tr>\n",
       "      <th>0</th>\n",
       "      <td>Cows</td>\n",
       "      <td>COWS</td>\n",
       "      <td>Kyoto Prefecture, Japan</td>\n",
       "      <td>Minneapolis, Minnesota, USA</td>\n",
       "    </tr>\n",
       "    <tr>\n",
       "      <th>1</th>\n",
       "      <td>Comets on Fire</td>\n",
       "      <td>Comets on Fire</td>\n",
       "      <td>Santa Cruz, California</td>\n",
       "      <td>Santa Cruz, California, U.S.</td>\n",
       "    </tr>\n",
       "    <tr>\n",
       "      <th>2</th>\n",
       "      <td>DragonForce</td>\n",
       "      <td>DragonForce</td>\n",
       "      <td>London, UK</td>\n",
       "      <td>London, England</td>\n",
       "    </tr>\n",
       "    <tr>\n",
       "      <th>3</th>\n",
       "      <td>The Velvet Underground</td>\n",
       "      <td>The Velvet Undergroun</td>\n",
       "      <td></td>\n",
       "      <td>New York City, New York, U.S.</td>\n",
       "    </tr>\n",
       "    <tr>\n",
       "      <th>4</th>\n",
       "      <td>Nirvana</td>\n",
       "      <td>Nirvana</td>\n",
       "      <td>Seattle, Washington</td>\n",
       "      <td>Aberdeen, Washington, U.S.</td>\n",
       "    </tr>\n",
       "    <tr>\n",
       "      <th>...</th>\n",
       "      <td>...</td>\n",
       "      <td>...</td>\n",
       "      <td>...</td>\n",
       "      <td>...</td>\n",
       "    </tr>\n",
       "    <tr>\n",
       "      <th>210</th>\n",
       "      <td>Minus the Bear</td>\n",
       "      <td>Minus the Bear</td>\n",
       "      <td>Seattle, Washington</td>\n",
       "      <td>Seattle, Washington, US</td>\n",
       "    </tr>\n",
       "    <tr>\n",
       "      <th>211</th>\n",
       "      <td>Maroon 5</td>\n",
       "      <td>maroon 5</td>\n",
       "      <td>Riau, Indonesia</td>\n",
       "      <td>Los Angeles, California, U.S.</td>\n",
       "    </tr>\n",
       "    <tr>\n",
       "      <th>212</th>\n",
       "      <td>Reflux</td>\n",
       "      <td>Reflux</td>\n",
       "      <td>Sheffield, UK</td>\n",
       "      <td>Washington, DC, United States</td>\n",
       "    </tr>\n",
       "    <tr>\n",
       "      <th>213</th>\n",
       "      <td>Showbread</td>\n",
       "      <td>Showbread</td>\n",
       "      <td>Portland, Oregon</td>\n",
       "      <td>Guyton, Georgia, U.S.</td>\n",
       "    </tr>\n",
       "    <tr>\n",
       "      <th>214</th>\n",
       "      <td>Obituary</td>\n",
       "      <td>Obituary</td>\n",
       "      <td>Tampa, Florida</td>\n",
       "      <td>Tampa, Florida, U.S.</td>\n",
       "    </tr>\n",
       "  </tbody>\n",
       "</table>\n",
       "<p>215 rows × 4 columns</p>\n",
       "</div>"
      ],
      "text/plain": [
       "                     artist        artist_bandcamp        location_bandcamp  \\\n",
       "0                      Cows                   COWS  Kyoto Prefecture, Japan   \n",
       "1            Comets on Fire         Comets on Fire   Santa Cruz, California   \n",
       "2               DragonForce            DragonForce               London, UK   \n",
       "3    The Velvet Underground  The Velvet Undergroun                            \n",
       "4                   Nirvana                Nirvana      Seattle, Washington   \n",
       "..                      ...                    ...                      ...   \n",
       "210          Minus the Bear         Minus the Bear      Seattle, Washington   \n",
       "211                Maroon 5               maroon 5          Riau, Indonesia   \n",
       "212                  Reflux                 Reflux            Sheffield, UK   \n",
       "213               Showbread              Showbread         Portland, Oregon   \n",
       "214                Obituary               Obituary           Tampa, Florida   \n",
       "\n",
       "                            origin  \n",
       "0      Minneapolis, Minnesota, USA  \n",
       "1     Santa Cruz, California, U.S.  \n",
       "2                  London, England  \n",
       "3    New York City, New York, U.S.  \n",
       "4       Aberdeen, Washington, U.S.  \n",
       "..                             ...  \n",
       "210        Seattle, Washington, US  \n",
       "211  Los Angeles, California, U.S.  \n",
       "212  Washington, DC, United States  \n",
       "213          Guyton, Georgia, U.S.  \n",
       "214           Tampa, Florida, U.S.  \n",
       "\n",
       "[215 rows x 4 columns]"
      ]
     },
     "execution_count": 77,
     "metadata": {},
     "output_type": "execute_result"
    }
   ],
   "source": [
    "df_artists_bandcamp"
   ]
  },
  {
   "cell_type": "markdown",
   "metadata": {},
   "source": [
    "## **Export to csv**"
   ]
  },
  {
   "cell_type": "code",
   "execution_count": null,
   "metadata": {},
   "outputs": [
    {
     "data": {
      "text/plain": [
       "(48, 4)"
      ]
     },
     "execution_count": 78,
     "metadata": {},
     "output_type": "execute_result"
    }
   ],
   "source": [
    "df_artists_bandcamp_scrapped = pd.read_csv('Datasets/bandcamp/df_artists_bandcamp_concat.csv')\n",
    "df_artists_bandcamp_scrapped.shape"
   ]
  },
  {
   "cell_type": "code",
   "execution_count": null,
   "metadata": {},
   "outputs": [
    {
     "data": {
      "text/plain": [
       "(263, 4)"
      ]
     },
     "execution_count": 80,
     "metadata": {},
     "output_type": "execute_result"
    }
   ],
   "source": [
    "df_artists_bandcamp_concat = pd.concat([df_artists_bandcamp_scrapped, df_artists_bandcamp])\n",
    "df_artists_bandcamp_concat.sort_values('artist')\n",
    "df_artists_bandcamp_concat.shape"
   ]
  },
  {
   "cell_type": "code",
   "execution_count": null,
   "metadata": {},
   "outputs": [],
   "source": [
    "df_artists_bandcamp_concat.to_csv('streamlit/Datasets/bandcamp/df_artists_bandcamp_concat.csv', index=False)"
   ]
  },
  {
   "cell_type": "markdown",
   "metadata": {},
   "source": [
    "# **Looking for the albums**"
   ]
  },
  {
   "cell_type": "code",
   "execution_count": 3,
   "metadata": {},
   "outputs": [
    {
     "name": "stdout",
     "output_type": "stream",
     "text": [
      "sparta - El Paso, Texas\n",
      "Porcelain\n",
      "Couldn't find the album\n",
      "Live 2023\n",
      "Sparta\n",
      "11 Hour World Tour (Live/Acoustic)\n",
      "Trust The River\n"
     ]
    }
   ],
   "source": [
    "df_bandcamp = bandcamp_albums('sparta')"
   ]
  },
  {
   "cell_type": "code",
   "execution_count": 4,
   "metadata": {},
   "outputs": [
    {
     "data": {
      "text/html": [
       "<div>\n",
       "<style scoped>\n",
       "    .dataframe tbody tr th:only-of-type {\n",
       "        vertical-align: middle;\n",
       "    }\n",
       "\n",
       "    .dataframe tbody tr th {\n",
       "        vertical-align: top;\n",
       "    }\n",
       "\n",
       "    .dataframe thead th {\n",
       "        text-align: right;\n",
       "    }\n",
       "</style>\n",
       "<table border=\"1\" class=\"dataframe\">\n",
       "  <thead>\n",
       "    <tr style=\"text-align: right;\">\n",
       "      <th></th>\n",
       "      <th>year</th>\n",
       "      <th>title</th>\n",
       "      <th>length</th>\n",
       "      <th>tracks</th>\n",
       "      <th>price_$</th>\n",
       "      <th>price_per_minute</th>\n",
       "    </tr>\n",
       "  </thead>\n",
       "  <tbody>\n",
       "    <tr>\n",
       "      <th>0</th>\n",
       "      <td>2024</td>\n",
       "      <td>Live 2023</td>\n",
       "      <td>73.60</td>\n",
       "      <td>17</td>\n",
       "      <td>7.00</td>\n",
       "      <td>0.095</td>\n",
       "    </tr>\n",
       "    <tr>\n",
       "      <th>1</th>\n",
       "      <td>2020</td>\n",
       "      <td>11 Hour World Tour (Live/Acoustic)</td>\n",
       "      <td>39.55</td>\n",
       "      <td>11</td>\n",
       "      <td>5.00</td>\n",
       "      <td>0.126</td>\n",
       "    </tr>\n",
       "    <tr>\n",
       "      <th>2</th>\n",
       "      <td>2022</td>\n",
       "      <td>Sparta</td>\n",
       "      <td>42.30</td>\n",
       "      <td>12</td>\n",
       "      <td>9.99</td>\n",
       "      <td>0.236</td>\n",
       "    </tr>\n",
       "    <tr>\n",
       "      <th>3</th>\n",
       "      <td>2020</td>\n",
       "      <td>Trust The River</td>\n",
       "      <td>33.27</td>\n",
       "      <td>10</td>\n",
       "      <td>10.00</td>\n",
       "      <td>0.301</td>\n",
       "    </tr>\n",
       "  </tbody>\n",
       "</table>\n",
       "</div>"
      ],
      "text/plain": [
       "   year                               title  length  tracks  price_$  \\\n",
       "0  2024                           Live 2023   73.60      17     7.00   \n",
       "1  2020  11 Hour World Tour (Live/Acoustic)   39.55      11     5.00   \n",
       "2  2022                              Sparta   42.30      12     9.99   \n",
       "3  2020                     Trust The River   33.27      10    10.00   \n",
       "\n",
       "   price_per_minute  \n",
       "0             0.095  \n",
       "1             0.126  \n",
       "2             0.236  \n",
       "3             0.301  "
      ]
     },
     "execution_count": 4,
     "metadata": {},
     "output_type": "execute_result"
    }
   ],
   "source": [
    "df_bandcamp"
   ]
  },
  {
   "cell_type": "code",
   "execution_count": 4,
   "metadata": {},
   "outputs": [
    {
     "name": "stdout",
     "output_type": "stream",
     "text": [
      "2020\n",
      "20\n",
      "33.27\n"
     ]
    }
   ],
   "source": [
    "artist_clean = 'sparta'\n",
    "title_changed = 'trust-the-river'\n",
    "\n",
    "try:\n",
    "    url = f'https://{artist_clean}.bandcamp.com/album/{title_changed}'\n",
    "    response = requests.get(url)\n",
    "    soup = BeautifulSoup(response.content, \"html.parser\")\n",
    "    release_date = soup.select('#trackInfoInner > div.tralbumData.tralbum-credits')\n",
    "    year = release_date[0].text.strip().split(', ')[1][:4]\n",
    "    print(year)\n",
    "    songs_table = soup.select('table', class_='track_list track_table')[1]('span')\n",
    "    print(len(songs_table))\n",
    "    song_durations = []\n",
    "\n",
    "    for i in range(1, len(songs_table), 2):\n",
    "        song_duration = songs_table[i].text.strip()\n",
    "        try:\n",
    "            minutes, seconds = map(int, song_duration.split(':'))\n",
    "            song_duration_minutes = minutes + seconds/60\n",
    "            song_durations.append(song_duration_minutes)\n",
    "        except:\n",
    "            pass\n",
    "        album_length = round(sum(song_durations), 2)\n",
    "    # album_length_list.append(album_length)\n",
    "    try:\n",
    "        price = soup.select('#trackInfoInner > ul > li.buyItem.digital > div.ft > h4.ft.compound-button.main-button > span > span.base-text-color')[0].text.replace('$', '')\n",
    "    except:\n",
    "        # prices_list.append(np.nan)\n",
    "        print('No price')\n",
    "except:\n",
    "    print(\"Couldn't find the album\")\n",
    "\n",
    "print(album_length)"
   ]
  },
  {
   "cell_type": "code",
   "execution_count": 11,
   "metadata": {},
   "outputs": [
    {
     "data": {
      "text/plain": [
       "'2020\\n            \\n            All songs written by Jim Ward except Spirit Away written by Jim Ward and Nicole Fargo and Empty Houses written by Jim Ward and Matt Miller\\r\\nEngineered by Manuel Calderon\\r\\nMastered by Mark Chalecki\\r\\nMixed by Manuel Calderon\\r\\nProduced by David Garza'"
      ]
     },
     "execution_count": 11,
     "metadata": {},
     "output_type": "execute_result"
    }
   ],
   "source": [
    "release_date[0].text.strip().split(', ')[1]"
   ]
  },
  {
   "cell_type": "code",
   "execution_count": 15,
   "metadata": {},
   "outputs": [
    {
     "data": {
      "text/plain": [
       "'2020'"
      ]
     },
     "execution_count": 15,
     "metadata": {},
     "output_type": "execute_result"
    }
   ],
   "source": [
    "release_date[0].text.strip().split(', ')[1][:4]"
   ]
  },
  {
   "cell_type": "code",
   "execution_count": null,
   "metadata": {},
   "outputs": [],
   "source": []
  },
  {
   "cell_type": "code",
   "execution_count": null,
   "metadata": {},
   "outputs": [],
   "source": []
  },
  {
   "cell_type": "code",
   "execution_count": null,
   "metadata": {},
   "outputs": [],
   "source": []
  },
  {
   "cell_type": "code",
   "execution_count": 146,
   "metadata": {},
   "outputs": [
    {
     "name": "stdout",
     "output_type": "stream",
     "text": [
      "<class 'pandas.core.frame.DataFrame'>\n",
      "RangeIndex: 11 entries, 0 to 10\n",
      "Data columns (total 5 columns):\n",
      " #   Column         Non-Null Count  Dtype  \n",
      "---  ------         --------------  -----  \n",
      " 0   artist         11 non-null     object \n",
      " 1   title          11 non-null     object \n",
      " 2   title_changed  11 non-null     object \n",
      " 3   album_length   10 non-null     float64\n",
      " 4   price          10 non-null     object \n",
      "dtypes: float64(1), object(4)\n",
      "memory usage: 572.0+ bytes\n"
     ]
    }
   ],
   "source": [
    "df_bandcamp.info()"
   ]
  },
  {
   "cell_type": "code",
   "execution_count": 168,
   "metadata": {},
   "outputs": [
    {
     "data": {
      "text/plain": [
       "'2022'"
      ]
     },
     "execution_count": 168,
     "metadata": {},
     "output_type": "execute_result"
    }
   ],
   "source": [
    "url = f'https://sparta.bandcamp.com/album/sparta'\n",
    "response = requests.get(url)\n",
    "soup = BeautifulSoup(response.content, \"html.parser\")\n",
    "release_date = soup.select('#trackInfoInner > div.tralbumData.tralbum-credits')\n",
    "year = release_date[0].text.strip().split(', ')[1]\n",
    "year"
   ]
  },
  {
   "cell_type": "code",
   "execution_count": null,
   "metadata": {},
   "outputs": [],
   "source": []
  },
  {
   "cell_type": "code",
   "execution_count": null,
   "metadata": {},
   "outputs": [],
   "source": []
  },
  {
   "cell_type": "code",
   "execution_count": 123,
   "metadata": {},
   "outputs": [
    {
     "data": {
      "text/html": [
       "<div>\n",
       "<style scoped>\n",
       "    .dataframe tbody tr th:only-of-type {\n",
       "        vertical-align: middle;\n",
       "    }\n",
       "\n",
       "    .dataframe tbody tr th {\n",
       "        vertical-align: top;\n",
       "    }\n",
       "\n",
       "    .dataframe thead th {\n",
       "        text-align: right;\n",
       "    }\n",
       "</style>\n",
       "<table border=\"1\" class=\"dataframe\">\n",
       "  <thead>\n",
       "    <tr style=\"text-align: right;\">\n",
       "      <th></th>\n",
       "      <th>year</th>\n",
       "      <th>artist</th>\n",
       "      <th>title</th>\n",
       "      <th>rating</th>\n",
       "      <th>votes</th>\n",
       "      <th>album_length</th>\n",
       "      <th>tracks</th>\n",
       "      <th>avg_song_length</th>\n",
       "      <th>styles</th>\n",
       "    </tr>\n",
       "  </thead>\n",
       "  <tbody>\n",
       "    <tr>\n",
       "      <th>1</th>\n",
       "      <td>2002</td>\n",
       "      <td>Sparta</td>\n",
       "      <td>Wiretap Scars</td>\n",
       "      <td>3.79</td>\n",
       "      <td>431</td>\n",
       "      <td>47.62</td>\n",
       "      <td>12</td>\n",
       "      <td>3.97</td>\n",
       "      <td>['Indie Rock', 'Alternative Rock']</td>\n",
       "    </tr>\n",
       "    <tr>\n",
       "      <th>933</th>\n",
       "      <td>2004</td>\n",
       "      <td>Sparta</td>\n",
       "      <td>Porcelain</td>\n",
       "      <td>3.59</td>\n",
       "      <td>343</td>\n",
       "      <td>57.58</td>\n",
       "      <td>14</td>\n",
       "      <td>4.11</td>\n",
       "      <td>['Indie Rock']</td>\n",
       "    </tr>\n",
       "    <tr>\n",
       "      <th>3911</th>\n",
       "      <td>2006</td>\n",
       "      <td>Sparta</td>\n",
       "      <td>Threes</td>\n",
       "      <td>3.08</td>\n",
       "      <td>253</td>\n",
       "      <td>49.55</td>\n",
       "      <td>12</td>\n",
       "      <td>4.13</td>\n",
       "      <td>['Alternative Rock', 'Indie Rock', 'Post-Hardc...</td>\n",
       "    </tr>\n",
       "  </tbody>\n",
       "</table>\n",
       "</div>"
      ],
      "text/plain": [
       "      year  artist          title  rating  votes  album_length  tracks  \\\n",
       "1     2002  Sparta  Wiretap Scars    3.79    431         47.62      12   \n",
       "933   2004  Sparta      Porcelain    3.59    343         57.58      14   \n",
       "3911  2006  Sparta         Threes    3.08    253         49.55      12   \n",
       "\n",
       "      avg_song_length                                             styles  \n",
       "1                3.97                 ['Indie Rock', 'Alternative Rock']  \n",
       "933              4.11                                     ['Indie Rock']  \n",
       "3911             4.13  ['Alternative Rock', 'Indie Rock', 'Post-Hardc...  "
      ]
     },
     "execution_count": 123,
     "metadata": {},
     "output_type": "execute_result"
    }
   ],
   "source": [
    "df_ratings[df_ratings['artist']=='Sparta']"
   ]
  },
  {
   "cell_type": "code",
   "execution_count": 44,
   "metadata": {},
   "outputs": [
    {
     "data": {
      "text/html": [
       "<div>\n",
       "<style scoped>\n",
       "    .dataframe tbody tr th:only-of-type {\n",
       "        vertical-align: middle;\n",
       "    }\n",
       "\n",
       "    .dataframe tbody tr th {\n",
       "        vertical-align: top;\n",
       "    }\n",
       "\n",
       "    .dataframe thead th {\n",
       "        text-align: right;\n",
       "    }\n",
       "</style>\n",
       "<table border=\"1\" class=\"dataframe\">\n",
       "  <thead>\n",
       "    <tr style=\"text-align: right;\">\n",
       "      <th></th>\n",
       "      <th>year</th>\n",
       "      <th>artist</th>\n",
       "      <th>title</th>\n",
       "      <th>rating</th>\n",
       "      <th>votes</th>\n",
       "      <th>album_length</th>\n",
       "      <th>tracks</th>\n",
       "      <th>avg_song_length</th>\n",
       "      <th>styles</th>\n",
       "    </tr>\n",
       "  </thead>\n",
       "  <tbody>\n",
       "    <tr>\n",
       "      <th>0</th>\n",
       "      <td>1996</td>\n",
       "      <td>Less Than Jake</td>\n",
       "      <td>Losing Streak</td>\n",
       "      <td>3.90</td>\n",
       "      <td>414</td>\n",
       "      <td>37.08</td>\n",
       "      <td>17</td>\n",
       "      <td>2.18</td>\n",
       "      <td>['Ska', 'Punk']</td>\n",
       "    </tr>\n",
       "    <tr>\n",
       "      <th>72</th>\n",
       "      <td>2003</td>\n",
       "      <td>Less Than Jake</td>\n",
       "      <td>Anthem</td>\n",
       "      <td>3.70</td>\n",
       "      <td>472</td>\n",
       "      <td>43.68</td>\n",
       "      <td>18</td>\n",
       "      <td>2.43</td>\n",
       "      <td>['Ska', 'Punk']</td>\n",
       "    </tr>\n",
       "    <tr>\n",
       "      <th>154</th>\n",
       "      <td>2000</td>\n",
       "      <td>Less Than Jake</td>\n",
       "      <td>Borders and Boundaries</td>\n",
       "      <td>3.55</td>\n",
       "      <td>238</td>\n",
       "      <td>40.97</td>\n",
       "      <td>15</td>\n",
       "      <td>2.73</td>\n",
       "      <td>['Ska']</td>\n",
       "    </tr>\n",
       "    <tr>\n",
       "      <th>428</th>\n",
       "      <td>2004</td>\n",
       "      <td>Less Than Jake</td>\n",
       "      <td>B Is for B-sides</td>\n",
       "      <td>3.49</td>\n",
       "      <td>96</td>\n",
       "      <td>27.77</td>\n",
       "      <td>12</td>\n",
       "      <td>2.31</td>\n",
       "      <td>['Ska', 'Punk']</td>\n",
       "    </tr>\n",
       "    <tr>\n",
       "      <th>928</th>\n",
       "      <td>1998</td>\n",
       "      <td>Less Than Jake</td>\n",
       "      <td>Hello Rockview</td>\n",
       "      <td>3.97</td>\n",
       "      <td>593</td>\n",
       "      <td>37.83</td>\n",
       "      <td>14</td>\n",
       "      <td>2.70</td>\n",
       "      <td>['Punk', 'Ska']</td>\n",
       "    </tr>\n",
       "    <tr>\n",
       "      <th>1589</th>\n",
       "      <td>1995</td>\n",
       "      <td>Less Than Jake</td>\n",
       "      <td>Pezcore</td>\n",
       "      <td>3.73</td>\n",
       "      <td>191</td>\n",
       "      <td>50.07</td>\n",
       "      <td>21</td>\n",
       "      <td>2.38</td>\n",
       "      <td>['Punk', 'Ska']</td>\n",
       "    </tr>\n",
       "    <tr>\n",
       "      <th>2873</th>\n",
       "      <td>2006</td>\n",
       "      <td>Less Than Jake</td>\n",
       "      <td>In with the Out Crowd</td>\n",
       "      <td>2.67</td>\n",
       "      <td>279</td>\n",
       "      <td>39.02</td>\n",
       "      <td>12</td>\n",
       "      <td>3.25</td>\n",
       "      <td>['Pop Rock', 'Punk', 'Ska']</td>\n",
       "    </tr>\n",
       "    <tr>\n",
       "      <th>6485</th>\n",
       "      <td>2008</td>\n",
       "      <td>Less Than Jake</td>\n",
       "      <td>GNV FLA</td>\n",
       "      <td>3.62</td>\n",
       "      <td>238</td>\n",
       "      <td>37.85</td>\n",
       "      <td>15</td>\n",
       "      <td>2.52</td>\n",
       "      <td>['Ska', 'Punk']</td>\n",
       "    </tr>\n",
       "  </tbody>\n",
       "</table>\n",
       "</div>"
      ],
      "text/plain": [
       "      year          artist                   title  rating  votes  \\\n",
       "0     1996  Less Than Jake           Losing Streak    3.90    414   \n",
       "72    2003  Less Than Jake                  Anthem    3.70    472   \n",
       "154   2000  Less Than Jake  Borders and Boundaries    3.55    238   \n",
       "428   2004  Less Than Jake        B Is for B-sides    3.49     96   \n",
       "928   1998  Less Than Jake          Hello Rockview    3.97    593   \n",
       "1589  1995  Less Than Jake                 Pezcore    3.73    191   \n",
       "2873  2006  Less Than Jake   In with the Out Crowd    2.67    279   \n",
       "6485  2008  Less Than Jake                 GNV FLA    3.62    238   \n",
       "\n",
       "      album_length  tracks  avg_song_length                       styles  \n",
       "0            37.08      17             2.18              ['Ska', 'Punk']  \n",
       "72           43.68      18             2.43              ['Ska', 'Punk']  \n",
       "154          40.97      15             2.73                      ['Ska']  \n",
       "428          27.77      12             2.31              ['Ska', 'Punk']  \n",
       "928          37.83      14             2.70              ['Punk', 'Ska']  \n",
       "1589         50.07      21             2.38              ['Punk', 'Ska']  \n",
       "2873         39.02      12             3.25  ['Pop Rock', 'Punk', 'Ska']  \n",
       "6485         37.85      15             2.52              ['Ska', 'Punk']  "
      ]
     },
     "execution_count": 44,
     "metadata": {},
     "output_type": "execute_result"
    }
   ],
   "source": [
    "df_ratings[df_ratings['artist']=='Less Than Jake']"
   ]
  },
  {
   "cell_type": "code",
   "execution_count": 7,
   "metadata": {},
   "outputs": [
    {
     "data": {
      "text/html": [
       "<div>\n",
       "<style scoped>\n",
       "    .dataframe tbody tr th:only-of-type {\n",
       "        vertical-align: middle;\n",
       "    }\n",
       "\n",
       "    .dataframe tbody tr th {\n",
       "        vertical-align: top;\n",
       "    }\n",
       "\n",
       "    .dataframe thead th {\n",
       "        text-align: right;\n",
       "    }\n",
       "</style>\n",
       "<table border=\"1\" class=\"dataframe\">\n",
       "  <thead>\n",
       "    <tr style=\"text-align: right;\">\n",
       "      <th></th>\n",
       "      <th>artist</th>\n",
       "      <th>origin</th>\n",
       "    </tr>\n",
       "  </thead>\n",
       "  <tbody>\n",
       "    <tr>\n",
       "      <th>0</th>\n",
       "      <td>Sparta</td>\n",
       "      <td>El Paso, Texas</td>\n",
       "    </tr>\n",
       "    <tr>\n",
       "      <th>1</th>\n",
       "      <td>Muse</td>\n",
       "      <td>Teignmouth, Devon, England</td>\n",
       "    </tr>\n",
       "    <tr>\n",
       "      <th>2</th>\n",
       "      <td>Finch</td>\n",
       "      <td>Temecula, California, Estados Unidos</td>\n",
       "    </tr>\n",
       "    <tr>\n",
       "      <th>3</th>\n",
       "      <td>Transplants</td>\n",
       "      <td>Los Angeles, California, United States[1]</td>\n",
       "    </tr>\n",
       "    <tr>\n",
       "      <th>4</th>\n",
       "      <td>Rooney</td>\n",
       "      <td>Los Angeles, California, U.S.</td>\n",
       "    </tr>\n",
       "  </tbody>\n",
       "</table>\n",
       "</div>"
      ],
      "text/plain": [
       "        artist                                     origin\n",
       "0       Sparta                             El Paso, Texas\n",
       "1         Muse                 Teignmouth, Devon, England\n",
       "2        Finch       Temecula, California, Estados Unidos\n",
       "3  Transplants  Los Angeles, California, United States[1]\n",
       "4       Rooney              Los Angeles, California, U.S."
      ]
     },
     "execution_count": 7,
     "metadata": {},
     "output_type": "execute_result"
    }
   ],
   "source": [
    "df_artists_origins.head()"
   ]
  },
  {
   "cell_type": "code",
   "execution_count": 42,
   "metadata": {},
   "outputs": [
    {
     "data": {
      "text/html": [
       "<div>\n",
       "<style scoped>\n",
       "    .dataframe tbody tr th:only-of-type {\n",
       "        vertical-align: middle;\n",
       "    }\n",
       "\n",
       "    .dataframe tbody tr th {\n",
       "        vertical-align: top;\n",
       "    }\n",
       "\n",
       "    .dataframe thead th {\n",
       "        text-align: right;\n",
       "    }\n",
       "</style>\n",
       "<table border=\"1\" class=\"dataframe\">\n",
       "  <thead>\n",
       "    <tr style=\"text-align: right;\">\n",
       "      <th></th>\n",
       "      <th>artist</th>\n",
       "      <th>origin</th>\n",
       "    </tr>\n",
       "  </thead>\n",
       "  <tbody>\n",
       "    <tr>\n",
       "      <th>27</th>\n",
       "      <td>Less Than Jake</td>\n",
       "      <td>Gainesville, Florida, U.S.</td>\n",
       "    </tr>\n",
       "  </tbody>\n",
       "</table>\n",
       "</div>"
      ],
      "text/plain": [
       "            artist                      origin\n",
       "27  Less Than Jake  Gainesville, Florida, U.S."
      ]
     },
     "execution_count": 42,
     "metadata": {},
     "output_type": "execute_result"
    }
   ],
   "source": [
    "df_artists_origins[df_artists_origins['artist']=='Less Than Jake']"
   ]
  },
  {
   "cell_type": "code",
   "execution_count": 111,
   "metadata": {},
   "outputs": [],
   "source": [
    "try:\n",
    "    url = f'https://lessthanjake.bandcamp.com/music'\n",
    "    response = requests.get(f\"{url}\")\n",
    "    soup = BeautifulSoup(response.content, \"html.parser\")\n",
    "    releases = soup.select('#music-grid li a p')\n",
    "except:\n",
    "    print(\"Maybe this artist doesn't have a bandcamp page\")"
   ]
  },
  {
   "cell_type": "code",
   "execution_count": 116,
   "metadata": {},
   "outputs": [
    {
     "data": {
      "text/plain": [
       "'Uncharted'"
      ]
     },
     "execution_count": 116,
     "metadata": {},
     "output_type": "execute_result"
    }
   ],
   "source": [
    "releases[0].text.replace('\\n', '').strip()"
   ]
  },
  {
   "cell_type": "code",
   "execution_count": null,
   "metadata": {},
   "outputs": [
    {
     "data": {
      "text/plain": [
       "3657783"
      ]
     },
     "execution_count": 148,
     "metadata": {},
     "output_type": "execute_result"
    }
   ],
   "source": [
    "artist = 'Less Than Jake'\n",
    "title = 'Uncharted'\n",
    "query = artist + ' ' + title\n",
    "\n",
    "    # Define API headers\n",
    "headers = {\"User-Agent\": 'Arnau', \n",
    "    \"Authorization\": \"Discogs token=UwfqmsztxwnfABgQpmhaAsprbUgpOJKGOJSQAqfp\"}\n",
    "\n",
    "    # Set the API URL and params\n",
    "url = \"https://api.discogs.com/database/search\"\n",
    "params = {\n",
    "    \"per_page\": 100,  # Number of results per page (max 100)\n",
    "    'type': 'release',\n",
    "    # 'format': 'album',\n",
    "    'genre': 'Rock',\n",
    "    'query': query\n",
    "}\n",
    "\n",
    "    # Request the data from Discogs\n",
    "response = requests.get(url, headers=headers, params=params)\n",
    "data = response.json()['results']\n",
    "\n",
    "for album in range(len(data)):\n",
    "    master_id = data[album]['master_id']\n",
    "\n",
    "    url_master = f\"https://api.discogs.com/masters/{master_id}\"\n",
    "    response = requests.get(url_master, headers=headers)\n",
    "    time.sleep(1)\n",
    "    data = response.json()\n",
    "\n",
    "# a more complex information is the total duration of the album, I have to sum the durations of each song\n",
    "    number_of_songs = len(data['tracklist'])\n",
    "    song_durations = []\n",
    "\n",
    "    for song in range(number_of_songs):\n",
    "        song_duration = data['tracklist'][song]['duration']\n",
    "        try:\n",
    "            minutes = int(song_duration.split(':')[0])\n",
    "            seconds = int(song_duration.split(':')[1])\n",
    "            song_duration_minutes = minutes + seconds/60\n",
    "            song_durations.append(song_duration_minutes)\n",
    "        except:\n",
    "            pass\n",
    "        album_length = round(sum(i for i in song_durations), 2)\n",
    "        print(album_length)\n"
   ]
  },
  {
   "cell_type": "code",
   "execution_count": 145,
   "metadata": {},
   "outputs": [
    {
     "data": {
      "text/plain": [
       "{'country': 'USA, Canada & Europe',\n",
       " 'year': '2024',\n",
       " 'format': ['Vinyl', '12\"', 'Single Sided', 'EP', 'Limited Edition'],\n",
       " 'label': ['Pure Noise Records',\n",
       "  'GZ Media',\n",
       "  'Pirates Press',\n",
       "  'Pure Noise Records'],\n",
       " 'type': 'release',\n",
       " 'genre': ['Rock'],\n",
       " 'style': ['Ska', 'Punk'],\n",
       " 'id': 32338776,\n",
       " 'barcode': ['810540037233', '287856E1/A PIRATES PRESS - PNE417'],\n",
       " 'user_data': {'in_wantlist': False, 'in_collection': False},\n",
       " 'master_id': 3657783,\n",
       " 'master_url': 'https://api.discogs.com/masters/3657783',\n",
       " 'uri': '/release/32338776-Less-Than-Jake-Uncharted',\n",
       " 'catno': 'PNE417',\n",
       " 'title': 'Less Than Jake - Uncharted',\n",
       " 'thumb': 'https://i.discogs.com/zpdqp2JSTlp1xy4LkiaGuTFPQsQrAXtDDxYCyFe3ELE/rs:fit/g:sm/q:40/h:150/w:150/czM6Ly9kaXNjb2dz/LWRhdGFiYXNlLWlt/YWdlcy9SLTMyMzM4/Nzc2LTE3MzIwNjEz/MDctOTg3My5qcGVn.jpeg',\n",
       " 'cover_image': 'https://i.discogs.com/0Q5896S-CFdFLEGYB0Qn8QEWMXUV4x6SOcx24VHqc18/rs:fit/g:sm/q:90/h:600/w:600/czM6Ly9kaXNjb2dz/LWRhdGFiYXNlLWlt/YWdlcy9SLTMyMzM4/Nzc2LTE3MzIwNjEz/MDctOTg3My5qcGVn.jpeg',\n",
       " 'resource_url': 'https://api.discogs.com/releases/32338776',\n",
       " 'community': {'want': 8, 'have': 150},\n",
       " 'format_quantity': 1,\n",
       " 'formats': [{'name': 'Vinyl',\n",
       "   'qty': '1',\n",
       "   'text': 'Sapphire Marble',\n",
       "   'descriptions': ['12\"', 'Single Sided', 'EP', 'Limited Edition']}]}"
      ]
     },
     "execution_count": 145,
     "metadata": {},
     "output_type": "execute_result"
    }
   ],
   "source": [
    "data[0]"
   ]
  },
  {
   "cell_type": "code",
   "execution_count": null,
   "metadata": {},
   "outputs": [],
   "source": []
  },
  {
   "cell_type": "code",
   "execution_count": null,
   "metadata": {},
   "outputs": [],
   "source": []
  },
  {
   "cell_type": "markdown",
   "metadata": {},
   "source": [
    "## **Saving the data**"
   ]
  },
  {
   "cell_type": "code",
   "execution_count": 97,
   "metadata": {},
   "outputs": [
    {
     "name": "stdout",
     "output_type": "stream",
     "text": [
      "album_id: 26\n",
      "artists: 26\n",
      "albums: 26\n",
      "avg_rating: 26\n",
      "number_of_votes: 26\n"
     ]
    }
   ],
   "source": [
    "lists = [('album_id', album_id_list)\n",
    "        , ('artists', artists_list)\n",
    "         , ('albums', albums_list)\n",
    "         , ('avg_rating', avg_rating_list)\n",
    "         , ('number_of_votes', number_of_votes_list)\n",
    "         ]\n",
    "\n",
    "for name, lst in lists:\n",
    "    print(f'{name}: {len(lst)}') # check that all lists have the same length (even though I had make sure with the previous code)"
   ]
  },
  {
   "cell_type": "code",
   "execution_count": 98,
   "metadata": {},
   "outputs": [
    {
     "name": "stdout",
     "output_type": "stream",
     "text": [
      "26 releases\n",
      "22 different artists\n"
     ]
    }
   ],
   "source": [
    "# the new df with the artists I just scrapped\n",
    "data = pd.DataFrame({'album_id': album_id_list\n",
    "                    , 'artist': artists_list\n",
    "                    , 'album': albums_list\n",
    "                    , 'rating': avg_rating_list\n",
    "                    , 'votes': number_of_votes_list})\n",
    "print(f'{data.shape[0]} releases\\n{data.artist.nunique()} different artists')"
   ]
  },
  {
   "cell_type": "code",
   "execution_count": 99,
   "metadata": {},
   "outputs": [
    {
     "name": "stdout",
     "output_type": "stream",
     "text": [
      "I could webscrap 2.6% of the albums\n",
      "26 of 999 total albums\n"
     ]
    }
   ],
   "source": [
    "print(f'I could webscrap {round(scrapped / count*100, 2)}% of the albums\\n{scrapped} of {count} total albums')"
   ]
  },
  {
   "cell_type": "code",
   "execution_count": 100,
   "metadata": {},
   "outputs": [
    {
     "name": "stdout",
     "output_type": "stream",
     "text": [
      "26 albums with < 10 votes, meaning 100.0% of the albums\n",
      "0 of 26 actual valid albums\n"
     ]
    }
   ],
   "source": [
    "print(f'{data[data['votes']<10].shape[0]} albums with < 10 votes, meaning {round((data[data['votes']<10].shape[0] / data.shape[0])*100,2)}% of the albums')\n",
    "print(f'{data[data['votes']>10].shape[0]} of {data.shape[0]} actual valid albums')"
   ]
  },
  {
   "cell_type": "markdown",
   "metadata": {},
   "source": [
    "## **Exporting to csv (and importing in case needed)**"
   ]
  },
  {
   "cell_type": "code",
   "execution_count": 107,
   "metadata": {},
   "outputs": [],
   "source": [
    "df_ratings.to_csv('Datasets/df_ratings.csv', index=False)"
   ]
  },
  {
   "cell_type": "code",
   "execution_count": 2,
   "metadata": {},
   "outputs": [],
   "source": [
    "# in case I have to import it again\n",
    "df_ratings = pd.read_csv('Datasets/df_ratings.csv', keep_default_na=False)"
   ]
  }
 ],
 "metadata": {
  "kernelspec": {
   "display_name": "base",
   "language": "python",
   "name": "python3"
  },
  "language_info": {
   "codemirror_mode": {
    "name": "ipython",
    "version": 3
   },
   "file_extension": ".py",
   "mimetype": "text/x-python",
   "name": "python",
   "nbconvert_exporter": "python",
   "pygments_lexer": "ipython3",
   "version": "3.12.4"
  }
 },
 "nbformat": 4,
 "nbformat_minor": 2
}
