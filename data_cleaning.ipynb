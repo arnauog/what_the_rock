{
 "cells": [
  {
   "cell_type": "code",
   "execution_count": 1,
   "metadata": {},
   "outputs": [],
   "source": [
    "import numpy as np\n",
    "import pandas as pd\n",
    "from pandas import json_normalize\n",
    "import seaborn as sns\n",
    "import matplotlib.pyplot as plt\n",
    "\n",
    "import requests\n",
    "import time\n",
    "import ast\n",
    "import random\n",
    "\n",
    "# Spotipy\n",
    "from dotenv import load_dotenv\n",
    "import os\n",
    "import spotipy\n",
    "from spotipy.oauth2 import SpotifyClientCredentials\n",
    "\n",
    "import warnings\n",
    "warnings.filterwarnings(\"ignore\")\n",
    "\n",
    "from my_functions import *"
   ]
  },
  {
   "cell_type": "code",
   "execution_count": 2,
   "metadata": {},
   "outputs": [
    {
     "name": "stdout",
     "output_type": "stream",
     "text": [
      "(56660, 13): df_uk_masters\n",
      "(48690, 13): df_us_masters\n",
      "(52399, 13): df_us_new_masters\n",
      "(51222, 5): df_ratings_20\n",
      "(79625, 5): df_ratings_10\n",
      "(9667, 13): df_masters_blended\n"
     ]
    }
   ],
   "source": [
    "# import the dataframes\n",
    "df_uk_masters = pd.read_csv('Datasets/df_uk_masters.csv')                         # all the albums from the UK\n",
    "df_us_masters = pd.read_csv('Datasets/df_us_masters.csv')                         # albums from the US until 1996, 1998 and 2000\n",
    "df_us_new_masters = pd.read_csv('Datasets/df_us_new_masters.csv')                         # albums from the US from 1997, 1999 and 2001\n",
    "df_ratings_20 = pd.read_csv('Datasets/df_ratings_20.csv', keep_default_na=False)  # albums with >= 20 votes, mostly from rock, worldwide\n",
    "df_ratings_10 = pd.read_csv('Datasets/df_ratings_10.csv', keep_default_na=False)  # albums with >= 10 votes, mostly from rock, worldwide\n",
    "df_masters_blended = pd.read_csv('Datasets/df_masters_blended.csv')               # albums from the UK and US (until 2000) with >= 20 votes \n",
    "\n",
    "# print information\n",
    "print(f'{df_uk_masters.shape}: df_uk_masters')\n",
    "print(f'{df_us_masters.shape}: df_us_masters')\n",
    "print(f'{df_us_new_masters.shape}: df_us_new_masters')\n",
    "print(f'{df_ratings_20.shape}: df_ratings_20')\n",
    "print(f'{df_ratings_10.shape}: df_ratings_10')\n",
    "print(f'{df_masters_blended.shape}: df_masters_blended')"
   ]
  },
  {
   "cell_type": "markdown",
   "metadata": {},
   "source": [
    "# **``country``**"
   ]
  },
  {
   "cell_type": "code",
   "execution_count": 15,
   "metadata": {},
   "outputs": [
    {
     "name": "stdout",
     "output_type": "stream",
     "text": [
      "(4888, 2): df_artists_origins\n",
      "(2091, 7): df_coordinates\n",
      "(4888, 6): df_artists_origins_coordinates\n",
      "(11920, 13): df_masters_blended\n"
     ]
    }
   ],
   "source": [
    "df_artists_origins = pd.read_csv('Datasets/df_artists_origins.csv')                             # df with only the bands and their city of origin\n",
    "df_coordinates = pd.read_csv('Datasets/df_coordinates.csv')                                     # df with the full info of the locations (coordinates)\n",
    "df_artists_origins_coordinates = pd.read_csv('Datasets/df_artists_origins_coordinates.csv')     # merge of the bands with the full info of the locations (coordinates)\n",
    "\n",
    "# print information\n",
    "print(f'{df_artists_origins.shape}: df_artists_origins')\n",
    "print(f'{df_coordinates.shape}: df_coordinates')\n",
    "print(f'{df_artists_origins_coordinates.shape}: df_artists_origins_coordinates')\n",
    "print(f'{df_masters_blended.shape}: df_masters_blended')"
   ]
  },
  {
   "cell_type": "code",
   "execution_count": 21,
   "metadata": {},
   "outputs": [
    {
     "data": {
      "text/html": [
       "<div>\n",
       "<style scoped>\n",
       "    .dataframe tbody tr th:only-of-type {\n",
       "        vertical-align: middle;\n",
       "    }\n",
       "\n",
       "    .dataframe tbody tr th {\n",
       "        vertical-align: top;\n",
       "    }\n",
       "\n",
       "    .dataframe thead th {\n",
       "        text-align: right;\n",
       "    }\n",
       "</style>\n",
       "<table border=\"1\" class=\"dataframe\">\n",
       "  <thead>\n",
       "    <tr style=\"text-align: right;\">\n",
       "      <th></th>\n",
       "      <th>artist</th>\n",
       "      <th>origin</th>\n",
       "    </tr>\n",
       "  </thead>\n",
       "  <tbody>\n",
       "    <tr>\n",
       "      <th>0</th>\n",
       "      <td>Sparta</td>\n",
       "      <td>El Paso, Texas</td>\n",
       "    </tr>\n",
       "    <tr>\n",
       "      <th>1</th>\n",
       "      <td>Muse</td>\n",
       "      <td>Teignmouth, Devon, England</td>\n",
       "    </tr>\n",
       "  </tbody>\n",
       "</table>\n",
       "</div>"
      ],
      "text/plain": [
       "   artist                      origin\n",
       "0  Sparta              El Paso, Texas\n",
       "1    Muse  Teignmouth, Devon, England"
      ]
     },
     "execution_count": 21,
     "metadata": {},
     "output_type": "execute_result"
    }
   ],
   "source": [
    "# df with only the bands and their city of origin\n",
    "df_artists_origins.head(2)"
   ]
  },
  {
   "cell_type": "code",
   "execution_count": 22,
   "metadata": {},
   "outputs": [
    {
     "data": {
      "text/html": [
       "<div>\n",
       "<style scoped>\n",
       "    .dataframe tbody tr th:only-of-type {\n",
       "        vertical-align: middle;\n",
       "    }\n",
       "\n",
       "    .dataframe tbody tr th {\n",
       "        vertical-align: top;\n",
       "    }\n",
       "\n",
       "    .dataframe thead th {\n",
       "        text-align: right;\n",
       "    }\n",
       "</style>\n",
       "<table border=\"1\" class=\"dataframe\">\n",
       "  <thead>\n",
       "    <tr style=\"text-align: right;\">\n",
       "      <th></th>\n",
       "      <th>country</th>\n",
       "      <th>city</th>\n",
       "      <th>origin</th>\n",
       "      <th>origin_clean</th>\n",
       "      <th>latitude</th>\n",
       "      <th>longitude</th>\n",
       "      <th>address</th>\n",
       "    </tr>\n",
       "  </thead>\n",
       "  <tbody>\n",
       "    <tr>\n",
       "      <th>0</th>\n",
       "      <td>Argentina</td>\n",
       "      <td>Buenos Aires</td>\n",
       "      <td>Buenos Aires, Argentina</td>\n",
       "      <td>Buenos Aires, Argentina</td>\n",
       "      <td>-34.608370</td>\n",
       "      <td>-58.444058</td>\n",
       "      <td>Buenos Aires, Comuna 6, Ciudad Autónoma de Bue...</td>\n",
       "    </tr>\n",
       "    <tr>\n",
       "      <th>1</th>\n",
       "      <td>Australia</td>\n",
       "      <td>Adelaide</td>\n",
       "      <td>Adelaide, South Australia, Australia</td>\n",
       "      <td>Adelaide, South Australia, Australia</td>\n",
       "      <td>-34.928181</td>\n",
       "      <td>138.599931</td>\n",
       "      <td>Adelaide, Adelaide City Council, South Austral...</td>\n",
       "    </tr>\n",
       "  </tbody>\n",
       "</table>\n",
       "</div>"
      ],
      "text/plain": [
       "     country          city                                origin  \\\n",
       "0  Argentina  Buenos Aires               Buenos Aires, Argentina   \n",
       "1  Australia      Adelaide  Adelaide, South Australia, Australia   \n",
       "\n",
       "                           origin_clean   latitude   longitude  \\\n",
       "0               Buenos Aires, Argentina -34.608370  -58.444058   \n",
       "1  Adelaide, South Australia, Australia -34.928181  138.599931   \n",
       "\n",
       "                                             address  \n",
       "0  Buenos Aires, Comuna 6, Ciudad Autónoma de Bue...  \n",
       "1  Adelaide, Adelaide City Council, South Austral...  "
      ]
     },
     "execution_count": 22,
     "metadata": {},
     "output_type": "execute_result"
    }
   ],
   "source": [
    "# df with the full info of the locations (coordinates)\n",
    "df_coordinates.head(2)"
   ]
  },
  {
   "cell_type": "code",
   "execution_count": 23,
   "metadata": {},
   "outputs": [
    {
     "data": {
      "text/html": [
       "<div>\n",
       "<style scoped>\n",
       "    .dataframe tbody tr th:only-of-type {\n",
       "        vertical-align: middle;\n",
       "    }\n",
       "\n",
       "    .dataframe tbody tr th {\n",
       "        vertical-align: top;\n",
       "    }\n",
       "\n",
       "    .dataframe thead th {\n",
       "        text-align: right;\n",
       "    }\n",
       "</style>\n",
       "<table border=\"1\" class=\"dataframe\">\n",
       "  <thead>\n",
       "    <tr style=\"text-align: right;\">\n",
       "      <th></th>\n",
       "      <th>artist</th>\n",
       "      <th>country</th>\n",
       "      <th>city</th>\n",
       "      <th>latitude</th>\n",
       "      <th>longitude</th>\n",
       "      <th>address</th>\n",
       "    </tr>\n",
       "  </thead>\n",
       "  <tbody>\n",
       "    <tr>\n",
       "      <th>0</th>\n",
       "      <td>Sparta</td>\n",
       "      <td>United States</td>\n",
       "      <td>El Paso</td>\n",
       "      <td>31.760116</td>\n",
       "      <td>-106.48704</td>\n",
       "      <td>El Paso, El Paso County, Texas, United States</td>\n",
       "    </tr>\n",
       "    <tr>\n",
       "      <th>1</th>\n",
       "      <td>Muse</td>\n",
       "      <td>United Kingdom</td>\n",
       "      <td>Teignmouth</td>\n",
       "      <td>50.546338</td>\n",
       "      <td>-3.49578</td>\n",
       "      <td>Teignmouth, Teignbridge, Devon, England, Unite...</td>\n",
       "    </tr>\n",
       "  </tbody>\n",
       "</table>\n",
       "</div>"
      ],
      "text/plain": [
       "   artist         country        city   latitude  longitude  \\\n",
       "0  Sparta   United States     El Paso  31.760116 -106.48704   \n",
       "1    Muse  United Kingdom  Teignmouth  50.546338   -3.49578   \n",
       "\n",
       "                                             address  \n",
       "0      El Paso, El Paso County, Texas, United States  \n",
       "1  Teignmouth, Teignbridge, Devon, England, Unite...  "
      ]
     },
     "execution_count": 23,
     "metadata": {},
     "output_type": "execute_result"
    }
   ],
   "source": [
    "# merge of the bands with the full info of the locations (coordinates)\n",
    "df_artists_origins_coordinates.head(2)"
   ]
  },
  {
   "cell_type": "code",
   "execution_count": 20,
   "metadata": {},
   "outputs": [
    {
     "data": {
      "text/html": [
       "<div>\n",
       "<style scoped>\n",
       "    .dataframe tbody tr th:only-of-type {\n",
       "        vertical-align: middle;\n",
       "    }\n",
       "\n",
       "    .dataframe tbody tr th {\n",
       "        vertical-align: top;\n",
       "    }\n",
       "\n",
       "    .dataframe thead th {\n",
       "        text-align: right;\n",
       "    }\n",
       "</style>\n",
       "<table border=\"1\" class=\"dataframe\">\n",
       "  <thead>\n",
       "    <tr style=\"text-align: right;\">\n",
       "      <th></th>\n",
       "      <th>artist_id</th>\n",
       "      <th>master_id</th>\n",
       "      <th>main_release_id</th>\n",
       "      <th>release_country</th>\n",
       "      <th>artist</th>\n",
       "      <th>title</th>\n",
       "      <th>year</th>\n",
       "      <th>album_length</th>\n",
       "      <th>tracks</th>\n",
       "      <th>release_type</th>\n",
       "      <th>genres</th>\n",
       "      <th>styles</th>\n",
       "      <th>artist_profile</th>\n",
       "    </tr>\n",
       "  </thead>\n",
       "  <tbody>\n",
       "    <tr>\n",
       "      <th>0</th>\n",
       "      <td>15152368</td>\n",
       "      <td>3747909</td>\n",
       "      <td>31909420</td>\n",
       "      <td>NaN</td>\n",
       "      <td>As Living Arrows</td>\n",
       "      <td>Hope and Ruin</td>\n",
       "      <td>2024</td>\n",
       "      <td>0.0</td>\n",
       "      <td>8</td>\n",
       "      <td>['LP', 'Album']</td>\n",
       "      <td>['Rock']</td>\n",
       "      <td>['Post-Hardcore']</td>\n",
       "      <td>Post-screamo band from Brighton, UK\\r\\n</td>\n",
       "    </tr>\n",
       "    <tr>\n",
       "      <th>1</th>\n",
       "      <td>2190314</td>\n",
       "      <td>3731373</td>\n",
       "      <td>32952558</td>\n",
       "      <td>US</td>\n",
       "      <td>Just Surrender</td>\n",
       "      <td>Phoenix</td>\n",
       "      <td>2010</td>\n",
       "      <td>0.0</td>\n",
       "      <td>13</td>\n",
       "      <td>['Album']</td>\n",
       "      <td>['Rock']</td>\n",
       "      <td>['Alternative Rock', 'Pop Punk']</td>\n",
       "      <td>Band from Dover Plains, New York, formerly kno...</td>\n",
       "    </tr>\n",
       "  </tbody>\n",
       "</table>\n",
       "</div>"
      ],
      "text/plain": [
       "   artist_id  master_id  main_release_id release_country            artist  \\\n",
       "0   15152368    3747909         31909420             NaN  As Living Arrows   \n",
       "1    2190314    3731373         32952558              US    Just Surrender   \n",
       "\n",
       "           title  year  album_length  tracks     release_type    genres  \\\n",
       "0  Hope and Ruin  2024           0.0       8  ['LP', 'Album']  ['Rock']   \n",
       "1        Phoenix  2010           0.0      13        ['Album']  ['Rock']   \n",
       "\n",
       "                             styles  \\\n",
       "0                 ['Post-Hardcore']   \n",
       "1  ['Alternative Rock', 'Pop Punk']   \n",
       "\n",
       "                                      artist_profile  \n",
       "0           Post-screamo band from Brighton, UK\\r\\n   \n",
       "1  Band from Dover Plains, New York, formerly kno...  "
      ]
     },
     "execution_count": 20,
     "metadata": {},
     "output_type": "execute_result"
    }
   ],
   "source": [
    "# albums from the UK and US (until 2000) with >= 20 votes\n",
    "df_masters_blended.head(2)"
   ]
  },
  {
   "cell_type": "markdown",
   "metadata": {},
   "source": [
    "## **Looking for extra artists in one df and not in the other one**"
   ]
  },
  {
   "cell_type": "markdown",
   "metadata": {},
   "source": [
    "### ``extra_artists``: artists with less than 20 votes (but more than 10)"
   ]
  },
  {
   "cell_type": "markdown",
   "metadata": {},
   "source": [
    "So I started looking for the origins of the band from from a merge with ``df_ratings_10``, but there were too many bands without correct information of the location, so I decided to limit the dataset merging it with ``df_ratings_20``, so I would drop the albums with >= 10 votes but less than 20 votes."
   ]
  },
  {
   "cell_type": "code",
   "execution_count": 27,
   "metadata": {},
   "outputs": [
    {
     "data": {
      "text/plain": [
       "4530"
      ]
     },
     "execution_count": 27,
     "metadata": {},
     "output_type": "execute_result"
    }
   ],
   "source": [
    "df_masters_blended['artist'].nunique()"
   ]
  },
  {
   "cell_type": "code",
   "execution_count": 28,
   "metadata": {},
   "outputs": [
    {
     "data": {
      "text/plain": [
       "4888"
      ]
     },
     "execution_count": 28,
     "metadata": {},
     "output_type": "execute_result"
    }
   ],
   "source": [
    "df_artists_origins['artist'].nunique()"
   ]
  },
  {
   "cell_type": "code",
   "execution_count": 110,
   "metadata": {},
   "outputs": [
    {
     "data": {
      "text/plain": [
       "646"
      ]
     },
     "execution_count": 110,
     "metadata": {},
     "output_type": "execute_result"
    }
   ],
   "source": [
    "extra_artists = []\n",
    "\n",
    "for i in df_artists_origins['artist'].unique():\n",
    "    if i not in df_masters_blended['artist'].unique():\n",
    "        extra_artists.append(i)\n",
    "\n",
    "len(extra_artists)"
   ]
  },
  {
   "cell_type": "code",
   "execution_count": 59,
   "metadata": {},
   "outputs": [
    {
     "data": {
      "text/plain": [
       "['Early Man',\n",
       " 'Gore',\n",
       " 'BulletBoys',\n",
       " 'Mice Parade',\n",
       " 'Duke Special',\n",
       " 'Vain',\n",
       " 'Pentangle',\n",
       " 'Brightblack Morning Light',\n",
       " 'Young Statues',\n",
       " 'Spermbirds']"
      ]
     },
     "execution_count": 59,
     "metadata": {},
     "output_type": "execute_result"
    }
   ],
   "source": [
    "random.sample(extra_artists, 10)"
   ]
  },
  {
   "cell_type": "code",
   "execution_count": 108,
   "metadata": {},
   "outputs": [
    {
     "name": "stdout",
     "output_type": "stream",
     "text": [
      "'Brightblack Morning Light' in df_artists_origins\n",
      "'Brightblack Morning Light' in df_ratings_10\n"
     ]
    }
   ],
   "source": [
    "artist = 'Brightblack Morning Light'\n",
    "\n",
    "if artist in df_artists_origins['artist'].values:\n",
    "    print(f\"'{artist}' in df_artists_origins\")\n",
    "if artist in df_ratings_10['artist'].values:\n",
    "    print(f\"'{artist}' in df_ratings_10\")\n",
    "if artist in df_ratings_20['artist'].values:\n",
    "    print(f\"'{artist}' in df_ratings_20\")\n",
    "if artist in df_masters_blended['artist'].values:\n",
    "    print(f\"'{artist}' in df_masters_blended\")    "
   ]
  },
  {
   "cell_type": "code",
   "execution_count": 109,
   "metadata": {},
   "outputs": [
    {
     "data": {
      "text/html": [
       "<div>\n",
       "<style scoped>\n",
       "    .dataframe tbody tr th:only-of-type {\n",
       "        vertical-align: middle;\n",
       "    }\n",
       "\n",
       "    .dataframe tbody tr th {\n",
       "        vertical-align: top;\n",
       "    }\n",
       "\n",
       "    .dataframe thead th {\n",
       "        text-align: right;\n",
       "    }\n",
       "</style>\n",
       "<table border=\"1\" class=\"dataframe\">\n",
       "  <thead>\n",
       "    <tr style=\"text-align: right;\">\n",
       "      <th></th>\n",
       "      <th>album_id</th>\n",
       "      <th>artist</th>\n",
       "      <th>title</th>\n",
       "      <th>rating</th>\n",
       "      <th>votes</th>\n",
       "    </tr>\n",
       "  </thead>\n",
       "  <tbody>\n",
       "    <tr>\n",
       "      <th>32694</th>\n",
       "      <td>63581</td>\n",
       "      <td>BulletBoys</td>\n",
       "      <td>BulletBoys</td>\n",
       "      <td>3.5</td>\n",
       "      <td>18</td>\n",
       "    </tr>\n",
       "  </tbody>\n",
       "</table>\n",
       "</div>"
      ],
      "text/plain": [
       "       album_id      artist       title  rating  votes\n",
       "32694     63581  BulletBoys  BulletBoys     3.5     18"
      ]
     },
     "execution_count": 109,
     "metadata": {},
     "output_type": "execute_result"
    }
   ],
   "source": [
    "df_ratings_10[df_ratings_10['artist']=='BulletBoys']"
   ]
  },
  {
   "cell_type": "markdown",
   "metadata": {},
   "source": [
    "For instance the band 'BulletBoys' has only one album with 18 votes, and the rest of the albums, less votes.\n",
    "\n",
    "https://www.sputnikmusic.com/bands/BulletBoys/22593/"
   ]
  },
  {
   "cell_type": "markdown",
   "metadata": {},
   "source": [
    "My assumptions were correct, **I can drop these ``extra_artists`` from ``df_artists_origins``**"
   ]
  },
  {
   "cell_type": "code",
   "execution_count": null,
   "metadata": {},
   "outputs": [
    {
     "data": {
      "text/plain": [
       "(4888, 2)"
      ]
     },
     "metadata": {},
     "output_type": "display_data"
    }
   ],
   "source": [
    "df_artists_origins.shape"
   ]
  },
  {
   "cell_type": "code",
   "execution_count": null,
   "metadata": {},
   "outputs": [
    {
     "data": {
      "text/plain": [
       "(4242, 2)"
      ]
     },
     "metadata": {},
     "output_type": "display_data"
    }
   ],
   "source": [
    "# testing before committing\n",
    "df_artists_origins[~df_artists_origins['artist'].isin(extra_artists)].shape"
   ]
  },
  {
   "cell_type": "code",
   "execution_count": null,
   "metadata": {},
   "outputs": [
    {
     "data": {
      "text/plain": [
       "True"
      ]
     },
     "metadata": {},
     "output_type": "display_data"
    }
   ],
   "source": [
    "len(extra_artists) == df_artists_origins.shape[0] - df_artists_origins[~df_artists_origins['artist'].isin(extra_artists)].shape[0]"
   ]
  },
  {
   "cell_type": "code",
   "execution_count": null,
   "metadata": {},
   "outputs": [
    {
     "data": {
      "text/plain": [
       "(4242, 2)"
      ]
     },
     "metadata": {},
     "output_type": "display_data"
    }
   ],
   "source": [
    "df_artists_origins = df_artists_origins[~df_artists_origins['artist'].isin(extra_artists)]\n",
    "df_artists_origins.shape"
   ]
  },
  {
   "cell_type": "markdown",
   "metadata": {},
   "source": [
    "### Artists in ``artists_to_remove``, from outside the UK or US"
   ]
  },
  {
   "cell_type": "code",
   "execution_count": 146,
   "metadata": {},
   "outputs": [
    {
     "data": {
      "text/plain": [
       "288"
      ]
     },
     "execution_count": 146,
     "metadata": {},
     "output_type": "execute_result"
    }
   ],
   "source": [
    "abroad_artists = []\n",
    "\n",
    "for i in df_masters_blended['artist'].unique():\n",
    "    if i not in df_artists_origins['artist'].unique():\n",
    "        abroad_artists.append(i)\n",
    "\n",
    "len(abroad_artists)"
   ]
  },
  {
   "cell_type": "markdown",
   "metadata": {},
   "source": [
    "These are the artists that I dropped while getting the location and I realised they were not from the UK or US, from the list ``artists_to_remove``"
   ]
  },
  {
   "cell_type": "code",
   "execution_count": 112,
   "metadata": {},
   "outputs": [],
   "source": [
    "artists_to_remove = ['Cemetery Skyline', 'Goat', 'Kingcrow', 'Speed', 'Hyperdontia', 'Vredehammer', 'Weston Super Maim',\n",
    "                    'Mdou Moctar', 'AVRALIZE', 'Engulfed', 'Coffin Storm', 'samlrc', 'Little Kid', 'Termina', 'Rorcal',\n",
    "                    'Reverence To Paroxysm', 'Voyager', 'Blindfolded and Led to the Woods', 'Mork', 'Yeule', 'Pond',\n",
    "                    'Empire State Bastard', 'Blood Command', 'Avatar', 'Brutus', 'Faceless Burial', 'Within Destruction',\n",
    "                    'Sedimentum', 'Ataraxy', 'Corpsessed', 'Epitaphe', 'Aldous Harding', 'Messa', 'Ghost', 'Ecchymosis',\n",
    "                    'Wormrot', 'Vertebra Atlantis', 'Papangu', 'Sermon of Flames', 'Springtime', 'Monolord', 'Sulphurous',\n",
    "                    'LLNN', 'Trna', 'Slaughter To Prevail', 'sonhos tomam conta', 'Galvanizer', 'Ophidian I', 'Diabolizer',\n",
    "                    'Morbific', 'Defacement', 'Divide And Dissolve', 'Soen', 'Scorpions', 'Accept', 'Respire', 'Undergang',\n",
    "                    'Bearings', 'Scalp', 'Miasmatic Necrosis', 'Teenage Mutant Ninja Turtles', 'Gorephilia', 'Vous Autres',\n",
    "                    'Carnation', 'Pharmacist', 'Paara', \"Justice For The Damned\", 'VVilderness', 'Molested Divinity', 'Ellis',\n",
    "                     'Kontinuum', 'Monsters', 'Giver', 'Lowrider', 'Vengeful Spectre', 'Vomit the Soul', 'Sadisme', 'Alarmist',\n",
    "                     'Klone', 'Nocturnal Departure', 'King Gizzard and The Lizard Wizard', 'Make Them Suffer', 'The Chats',\n",
    "                     'Patrick Watson', 'Shirokuma', 'Forests', 'Town Portal', 'Ceremony Of Silence', 'CHAI', 'Baalsebub',\n",
    "                     'Minors', 'Mono', 'Tallies', 'Normandie', 'Mouse On The Keys', 'Burial Invocation', 'Orville Peck',\n",
    "                     'Lunatic Soul', 'Alex Lahey', 'Hozier', 'Mystifier', 'Hands Like Houses', 'Ruins', 'Autokrator',\n",
    "                     'Legend of the Seagullmen', 'Death Toll 80k', 'IDYLLS', 'Spaceslug', 'i hate sex', 'Band-Maid',\n",
    "                     'With the Dead', 'Hungry Ghosts', 'Middle Kids', 'Gleb Kolyadin', \"Leaves' Eyes\", \"Phrenelith\",\n",
    "                     \"David Brent\", \"Art Of Dying\", \"Minor Victories\", \"Pantha Du Prince\", \"Schammasch\", 'LUH',\n",
    "                     'Violet Cold', 'EL VY', 'Shining', 'Hills', \"Mutiny On The Bounty\", 'Lucifer', 'FFS', 'Ranger',\n",
    "                     'Trepalium', 'A Textbook Tragedy', 'This Is A Standoff', 'FACT', 'Swallowed', 'Disembarked',\n",
    "                     'Wildbirds and Peacedrums', 'Archivist', 'Timber Timbre', 'Newsboys', 'Dope Lemon', 'Vagabon',\n",
    "                     'RY X', 'Moonlit Sailor', 'The Drones', 'Sarah Neufeld', 'Say Lou Lou', 'Cruciamentum', 'Lay Down Rotten',\n",
    "                     'Dreamshade', 'Sickening Gore', 'Circles', \"Avey Tare's Slasher Flicks\", 'Forest Silence',\n",
    "                     \"One Eyed God Prophecy\", 'Coffins', 'Osamu Kitajima', 'Living With Lions', 'Ansur', 'Parades',\n",
    "                     \"Intestine Baalism\", 'Comity', 'No Omega', 'Wolverine', 'Disavowed', 'Angel Dust', \"!T.O.O.H.!\",\n",
    "                     'Hypnosia', 'Hexenhaus', 'Paradox', 'Deathrow', 'Excruciate', 'FareWell Poetry', 'Sights and Sounds',\n",
    "                     'Supersister', \"Birds Of Tokyo\", 'Ark', \"The Flower Kings\", 'Beardfish', 'Graveworm', 'Acid',\n",
    "                     'Ladyhawke', 'Geddy Lee', 'Yngwie Malmsteen', \"World's End Girlfriend\", 'Totem Skin', 'Lewis',\n",
    "                     'I Hate Sally', \"The Band\", 'Lisa Hannigan', 'Lethal', 'Bubu', 'Van She', 'Mooncake', 'The Haunted',\n",
    "                     \"Orphaned Land\", 'Madder Mortem', 'Kataxu', 'Gilberto Gil', 'Vendetta', 'Kvist', 'Acrostichon', 'Pain',\n",
    "                     'Obliteration', 'Flames of Hell', 'Wombbath', 'Stone', 'Disgrace', 'Fionn Regan', 'Disastrous Murmur',\n",
    "                     'Urfaust', 'Sleepingdog', 'Island', 'Bethlehem', 'Subterranean Masquerade', 'After Dinner', \n",
    "                     'Black Boned Angel', 'FM', 'Embrace', 'Solefald', 'Maneige', 'Amberian Dawn', 'OOIOO', 'Anekdoten',\n",
    "                     \"Aphrodite's Child\", 'Hollenthon', 'Lykke Li', 'Lenka', 'Sarah McLachlan', 'Owen Pallett',\n",
    "                     'Devin Townsend Project', 'Missy Higgins', 'The Devin Townsend Band', 'Selda', 'Massacra', \"Rory Gallagher\",\n",
    "                     'Taste', 'Celestial Season', 'Ida Maria', 'Dark Tranquillity', 'Cadaver', 'Pele', 'Exuma',\n",
    "                     'Great Lake Swimmers', 'Dawn', 'The Bats', 'Yoko Ono', 'Illogicist', 'The Saints', 'Final Fantasy',\n",
    "                     'Pendulum', 'Lunar Aurora', 'Bee Gees', 'Stars', \"David Sylvian and Robert Fripp\", 'Afflicted', 'Lengsel',\n",
    "                     'Extol', 'MDFMK', 'Univers Zero', 'Mortuary Drape', 'Zyklon', 'Winds', 'Zyklon-B', 'The Sins of Thy Beloved',\n",
    "                     'Lords of Acid', 'Devin Townsend', 'Diablo Swing Orchestra', 'Arcturus', 'Cornelius', 'Manu Chao',\n",
    "                     'Bryan Adams', 'Peaches', 'Doro', 'Kingdom Come', 'Pekka Pohjola', 'Shakira', 'Massacre', 'Subhumans',\n",
    "                     'Set Fire to Flames', 'Gorgoroth', 'Gandalf', 'Klaus Schulze', 'The Ecstasy of Saint Theresa',\n",
    "                     \"Lou Reed and John Cale\", 'Brian Eno and David Byrne', 'Bob Dylan and The Band', 'Era', 'Devil Doll']"
   ]
  },
  {
   "cell_type": "code",
   "execution_count": 54,
   "metadata": {},
   "outputs": [
    {
     "data": {
      "text/plain": [
       "['Acid',\n",
       " 'Undergang',\n",
       " 'Dreamshade',\n",
       " 'IDYLLS',\n",
       " '!T.O.O.H.!',\n",
       " 'Gandalf',\n",
       " 'Voyager',\n",
       " 'VVilderness',\n",
       " 'Acrostichon',\n",
       " 'Bee Gees']"
      ]
     },
     "execution_count": 54,
     "metadata": {},
     "output_type": "execute_result"
    }
   ],
   "source": [
    "random.sample(abroad_artists, 10)"
   ]
  },
  {
   "cell_type": "code",
   "execution_count": null,
   "metadata": {},
   "outputs": [],
   "source": [
    "# it shouldn't print anything\n",
    "for i in abroad_artists:\n",
    "    if i not in artists_to_remove:\n",
    "        print(\"Where does this artist come from?\")"
   ]
  },
  {
   "cell_type": "code",
   "execution_count": 159,
   "metadata": {},
   "outputs": [
    {
     "data": {
      "text/html": [
       "<div>\n",
       "<style scoped>\n",
       "    .dataframe tbody tr th:only-of-type {\n",
       "        vertical-align: middle;\n",
       "    }\n",
       "\n",
       "    .dataframe tbody tr th {\n",
       "        vertical-align: top;\n",
       "    }\n",
       "\n",
       "    .dataframe thead th {\n",
       "        text-align: right;\n",
       "    }\n",
       "</style>\n",
       "<table border=\"1\" class=\"dataframe\">\n",
       "  <thead>\n",
       "    <tr style=\"text-align: right;\">\n",
       "      <th></th>\n",
       "      <th>artist_id</th>\n",
       "      <th>master_id</th>\n",
       "      <th>main_release_id</th>\n",
       "      <th>release_country</th>\n",
       "      <th>artist</th>\n",
       "      <th>title</th>\n",
       "      <th>year</th>\n",
       "      <th>album_length</th>\n",
       "      <th>tracks</th>\n",
       "      <th>release_type</th>\n",
       "      <th>genres</th>\n",
       "      <th>styles</th>\n",
       "      <th>artist_profile</th>\n",
       "    </tr>\n",
       "  </thead>\n",
       "  <tbody>\n",
       "    <tr>\n",
       "      <th>5222</th>\n",
       "      <td>271475</td>\n",
       "      <td>179341</td>\n",
       "      <td>625410</td>\n",
       "      <td>Europe</td>\n",
       "      <td>Accept</td>\n",
       "      <td>Staying A Life</td>\n",
       "      <td>1990</td>\n",
       "      <td>96.30</td>\n",
       "      <td>19</td>\n",
       "      <td>['Album']</td>\n",
       "      <td>['Rock']</td>\n",
       "      <td>['Heavy Metal']</td>\n",
       "      <td>German heavy metal band from the town of Solin...</td>\n",
       "    </tr>\n",
       "    <tr>\n",
       "      <th>3587</th>\n",
       "      <td>1523898</td>\n",
       "      <td>355802</td>\n",
       "      <td>5641086</td>\n",
       "      <td>Canada</td>\n",
       "      <td>Sights and Sounds</td>\n",
       "      <td>Monolith</td>\n",
       "      <td>2009</td>\n",
       "      <td>57.22</td>\n",
       "      <td>13</td>\n",
       "      <td>['Album']</td>\n",
       "      <td>['Rock']</td>\n",
       "      <td>['Post Rock', 'Hardcore', 'Punk']</td>\n",
       "      <td>Toronto (Ontario, Canada) based rock outfit.</td>\n",
       "    </tr>\n",
       "    <tr>\n",
       "      <th>3396</th>\n",
       "      <td>254199</td>\n",
       "      <td>383012</td>\n",
       "      <td>3377804</td>\n",
       "      <td>US</td>\n",
       "      <td>The Band</td>\n",
       "      <td>High On The Hog</td>\n",
       "      <td>1996</td>\n",
       "      <td>46.95</td>\n",
       "      <td>10</td>\n",
       "      <td>['Album']</td>\n",
       "      <td>['Rock']</td>\n",
       "      <td>[]</td>\n",
       "      <td>Canadian-American roots rock group. Gradually ...</td>\n",
       "    </tr>\n",
       "    <tr>\n",
       "      <th>3822</th>\n",
       "      <td>252164</td>\n",
       "      <td>320738</td>\n",
       "      <td>4838619</td>\n",
       "      <td>UK &amp; Europe</td>\n",
       "      <td>The Haunted</td>\n",
       "      <td>Unseen</td>\n",
       "      <td>2011</td>\n",
       "      <td>42.35</td>\n",
       "      <td>12</td>\n",
       "      <td>['Album']</td>\n",
       "      <td>['Rock']</td>\n",
       "      <td>['Thrash', 'Hardcore', 'Death Metal']</td>\n",
       "      <td>Swedish melodic death metal band, formed in 19...</td>\n",
       "    </tr>\n",
       "    <tr>\n",
       "      <th>2933</th>\n",
       "      <td>1179900</td>\n",
       "      <td>482184</td>\n",
       "      <td>2584388</td>\n",
       "      <td>Canada</td>\n",
       "      <td>I Hate Sally</td>\n",
       "      <td>Don't Worry Lady</td>\n",
       "      <td>2006</td>\n",
       "      <td>0.00</td>\n",
       "      <td>10</td>\n",
       "      <td>['Album']</td>\n",
       "      <td>['Rock']</td>\n",
       "      <td>['Post-Hardcore', 'Metalcore']</td>\n",
       "      <td>Canadian metalcore band from Kingston, Ontario.</td>\n",
       "    </tr>\n",
       "  </tbody>\n",
       "</table>\n",
       "</div>"
      ],
      "text/plain": [
       "      artist_id  master_id  main_release_id release_country  \\\n",
       "5222     271475     179341           625410          Europe   \n",
       "3587    1523898     355802          5641086          Canada   \n",
       "3396     254199     383012          3377804              US   \n",
       "3822     252164     320738          4838619     UK & Europe   \n",
       "2933    1179900     482184          2584388          Canada   \n",
       "\n",
       "                 artist             title  year  album_length  tracks  \\\n",
       "5222             Accept    Staying A Life  1990         96.30      19   \n",
       "3587  Sights and Sounds          Monolith  2009         57.22      13   \n",
       "3396           The Band   High On The Hog  1996         46.95      10   \n",
       "3822        The Haunted            Unseen  2011         42.35      12   \n",
       "2933       I Hate Sally  Don't Worry Lady  2006          0.00      10   \n",
       "\n",
       "     release_type    genres                                 styles  \\\n",
       "5222    ['Album']  ['Rock']                        ['Heavy Metal']   \n",
       "3587    ['Album']  ['Rock']      ['Post Rock', 'Hardcore', 'Punk']   \n",
       "3396    ['Album']  ['Rock']                                     []   \n",
       "3822    ['Album']  ['Rock']  ['Thrash', 'Hardcore', 'Death Metal']   \n",
       "2933    ['Album']  ['Rock']         ['Post-Hardcore', 'Metalcore']   \n",
       "\n",
       "                                         artist_profile  \n",
       "5222  German heavy metal band from the town of Solin...  \n",
       "3587       Toronto (Ontario, Canada) based rock outfit.  \n",
       "3396  Canadian-American roots rock group. Gradually ...  \n",
       "3822  Swedish melodic death metal band, formed in 19...  \n",
       "2933    Canadian metalcore band from Kingston, Ontario.  "
      ]
     },
     "execution_count": 159,
     "metadata": {},
     "output_type": "execute_result"
    }
   ],
   "source": [
    "# to visually inspect these artists\n",
    "df_masters_blended[~df_masters_blended['artist'].isin(df_artists_origins['artist'])].sample(5)"
   ]
  },
  {
   "cell_type": "code",
   "execution_count": 144,
   "metadata": {},
   "outputs": [
    {
     "data": {
      "text/plain": [
       "(11920, 13)"
      ]
     },
     "execution_count": 144,
     "metadata": {},
     "output_type": "execute_result"
    }
   ],
   "source": [
    "df_masters_blended.shape"
   ]
  },
  {
   "cell_type": "code",
   "execution_count": 145,
   "metadata": {},
   "outputs": [
    {
     "data": {
      "text/plain": [
       "(11429, 13)"
      ]
     },
     "execution_count": 145,
     "metadata": {},
     "output_type": "execute_result"
    }
   ],
   "source": [
    "# testing before committing\n",
    "df_masters_blended[df_masters_blended['artist'].isin(df_artists_origins['artist'])].shape"
   ]
  },
  {
   "cell_type": "code",
   "execution_count": 162,
   "metadata": {},
   "outputs": [
    {
     "name": "stdout",
     "output_type": "stream",
     "text": [
      "I have dropped 491 albums from artists that are not from the US or the UK\n"
     ]
    }
   ],
   "source": [
    "print(f\"I have dropped {df_masters_blended.shape[0] - df_masters_blended[df_masters_blended['artist'].isin(df_artists_origins['artist'])].shape[0]} albums from artists that are not from the US or the UK\")"
   ]
  },
  {
   "cell_type": "code",
   "execution_count": 163,
   "metadata": {},
   "outputs": [
    {
     "data": {
      "text/plain": [
       "(11429, 13)"
      ]
     },
     "execution_count": 163,
     "metadata": {},
     "output_type": "execute_result"
    }
   ],
   "source": [
    "# dropping the artists are are not in df_artists_origins, ergo the artists in the list 'artists_to_remove', not from the UK or the US\n",
    "df_masters_blended = df_masters_blended[df_masters_blended['artist'].isin(df_artists_origins['artist'])]\n",
    "df_masters_blended.shape"
   ]
  },
  {
   "cell_type": "code",
   "execution_count": 164,
   "metadata": {},
   "outputs": [],
   "source": [
    "# export to .csv to save the changes\n",
    "df_masters_blended.to_csv('Datasets/df_masters_blended.csv', index=False)"
   ]
  },
  {
   "cell_type": "markdown",
   "metadata": {},
   "source": [
    "## **merge ``df_masters_blended`` with the locations and get only artists from UK or US**"
   ]
  },
  {
   "cell_type": "code",
   "execution_count": 26,
   "metadata": {},
   "outputs": [
    {
     "data": {
      "text/html": [
       "<div>\n",
       "<style scoped>\n",
       "    .dataframe tbody tr th:only-of-type {\n",
       "        vertical-align: middle;\n",
       "    }\n",
       "\n",
       "    .dataframe tbody tr th {\n",
       "        vertical-align: top;\n",
       "    }\n",
       "\n",
       "    .dataframe thead th {\n",
       "        text-align: right;\n",
       "    }\n",
       "</style>\n",
       "<table border=\"1\" class=\"dataframe\">\n",
       "  <thead>\n",
       "    <tr style=\"text-align: right;\">\n",
       "      <th></th>\n",
       "      <th>artist</th>\n",
       "      <th>origin</th>\n",
       "      <th>country</th>\n",
       "    </tr>\n",
       "  </thead>\n",
       "  <tbody>\n",
       "    <tr>\n",
       "      <th>0</th>\n",
       "      <td>Sparta</td>\n",
       "      <td>El Paso, Texas</td>\n",
       "      <td>United States</td>\n",
       "    </tr>\n",
       "    <tr>\n",
       "      <th>1</th>\n",
       "      <td>Muse</td>\n",
       "      <td>Teignmouth, Devon, England</td>\n",
       "      <td>United Kingdom</td>\n",
       "    </tr>\n",
       "    <tr>\n",
       "      <th>2</th>\n",
       "      <td>Finch</td>\n",
       "      <td>Temecula, California, Estados Unidos</td>\n",
       "      <td>United States</td>\n",
       "    </tr>\n",
       "    <tr>\n",
       "      <th>3</th>\n",
       "      <td>Transplants</td>\n",
       "      <td>Los Angeles, California, United States[1]</td>\n",
       "      <td>United States</td>\n",
       "    </tr>\n",
       "    <tr>\n",
       "      <th>4</th>\n",
       "      <td>Rooney</td>\n",
       "      <td>Los Angeles, California, U.S.</td>\n",
       "      <td>United States</td>\n",
       "    </tr>\n",
       "    <tr>\n",
       "      <th>...</th>\n",
       "      <td>...</td>\n",
       "      <td>...</td>\n",
       "      <td>...</td>\n",
       "    </tr>\n",
       "    <tr>\n",
       "      <th>4883</th>\n",
       "      <td>Park</td>\n",
       "      <td>Springfield, Illinois</td>\n",
       "      <td>United States</td>\n",
       "    </tr>\n",
       "    <tr>\n",
       "      <th>4884</th>\n",
       "      <td>Idiot Flesh</td>\n",
       "      <td>Oakland, California</td>\n",
       "      <td>United States</td>\n",
       "    </tr>\n",
       "    <tr>\n",
       "      <th>4885</th>\n",
       "      <td>Lethargy</td>\n",
       "      <td>Rochester, New York, U.S.</td>\n",
       "      <td>United States</td>\n",
       "    </tr>\n",
       "    <tr>\n",
       "      <th>4886</th>\n",
       "      <td>Valium Aggelein</td>\n",
       "      <td>San Jose, California, U.S.</td>\n",
       "      <td>United States</td>\n",
       "    </tr>\n",
       "    <tr>\n",
       "      <th>4887</th>\n",
       "      <td>Malady</td>\n",
       "      <td>San Diego, CA, United States</td>\n",
       "      <td>United States</td>\n",
       "    </tr>\n",
       "  </tbody>\n",
       "</table>\n",
       "<p>4888 rows × 3 columns</p>\n",
       "</div>"
      ],
      "text/plain": [
       "               artist                                     origin  \\\n",
       "0              Sparta                             El Paso, Texas   \n",
       "1                Muse                 Teignmouth, Devon, England   \n",
       "2               Finch       Temecula, California, Estados Unidos   \n",
       "3         Transplants  Los Angeles, California, United States[1]   \n",
       "4              Rooney              Los Angeles, California, U.S.   \n",
       "...               ...                                        ...   \n",
       "4883             Park                      Springfield, Illinois   \n",
       "4884      Idiot Flesh                        Oakland, California   \n",
       "4885         Lethargy                  Rochester, New York, U.S.   \n",
       "4886  Valium Aggelein                 San Jose, California, U.S.   \n",
       "4887           Malady               San Diego, CA, United States   \n",
       "\n",
       "             country  \n",
       "0      United States  \n",
       "1     United Kingdom  \n",
       "2      United States  \n",
       "3      United States  \n",
       "4      United States  \n",
       "...              ...  \n",
       "4883   United States  \n",
       "4884   United States  \n",
       "4885   United States  \n",
       "4886   United States  \n",
       "4887   United States  \n",
       "\n",
       "[4888 rows x 3 columns]"
      ]
     },
     "execution_count": 26,
     "metadata": {},
     "output_type": "execute_result"
    }
   ],
   "source": [
    "df_artists_countries = pd.merge(df_artists_origins, df_coordinates, on=['origin'])\n",
    "df_artists_countries.drop(columns=['city', 'origin_clean', 'latitude', 'longitude', 'address'], inplace=True)\n",
    "df_artists_countries"
   ]
  },
  {
   "cell_type": "code",
   "execution_count": 616,
   "metadata": {},
   "outputs": [
    {
     "data": {
      "text/plain": [
       "country\n",
       "United States      2622\n",
       "United Kingdom     1473\n",
       "Canada              159\n",
       "Australia           110\n",
       "Sverige             107\n",
       "Deutschland          63\n",
       "Norge                50\n",
       "Suomi / Finland      39\n",
       "日本                   35\n",
       "Éire / Ireland       34\n",
       "Name: count, dtype: int64"
      ]
     },
     "execution_count": 616,
     "metadata": {},
     "output_type": "execute_result"
    }
   ],
   "source": [
    "df_artists_countries['country'].value_counts().head(10)"
   ]
  },
  {
   "cell_type": "code",
   "execution_count": 629,
   "metadata": {},
   "outputs": [
    {
     "data": {
      "text/html": [
       "<div>\n",
       "<style scoped>\n",
       "    .dataframe tbody tr th:only-of-type {\n",
       "        vertical-align: middle;\n",
       "    }\n",
       "\n",
       "    .dataframe tbody tr th {\n",
       "        vertical-align: top;\n",
       "    }\n",
       "\n",
       "    .dataframe thead th {\n",
       "        text-align: right;\n",
       "    }\n",
       "</style>\n",
       "<table border=\"1\" class=\"dataframe\">\n",
       "  <thead>\n",
       "    <tr style=\"text-align: right;\">\n",
       "      <th></th>\n",
       "      <th>artist_id</th>\n",
       "      <th>master_id</th>\n",
       "      <th>main_release_id</th>\n",
       "      <th>release_country</th>\n",
       "      <th>artist</th>\n",
       "      <th>title</th>\n",
       "      <th>year</th>\n",
       "      <th>album_length</th>\n",
       "      <th>tracks</th>\n",
       "      <th>release_type</th>\n",
       "      <th>genres</th>\n",
       "      <th>styles</th>\n",
       "      <th>artist_profile</th>\n",
       "    </tr>\n",
       "  </thead>\n",
       "  <tbody>\n",
       "    <tr>\n",
       "      <th>0</th>\n",
       "      <td>15152368</td>\n",
       "      <td>3747909</td>\n",
       "      <td>31909420</td>\n",
       "      <td>NaN</td>\n",
       "      <td>As Living Arrows</td>\n",
       "      <td>Hope and Ruin</td>\n",
       "      <td>2024</td>\n",
       "      <td>0.0</td>\n",
       "      <td>8</td>\n",
       "      <td>['LP', 'Album']</td>\n",
       "      <td>['Rock']</td>\n",
       "      <td>['Post-Hardcore']</td>\n",
       "      <td>Post-screamo band from Brighton, UK\\r\\n</td>\n",
       "    </tr>\n",
       "  </tbody>\n",
       "</table>\n",
       "</div>"
      ],
      "text/plain": [
       "   artist_id  master_id  main_release_id release_country            artist  \\\n",
       "0   15152368    3747909         31909420             NaN  As Living Arrows   \n",
       "\n",
       "           title  year  album_length  tracks     release_type    genres  \\\n",
       "0  Hope and Ruin  2024           0.0       8  ['LP', 'Album']  ['Rock']   \n",
       "\n",
       "              styles                            artist_profile  \n",
       "0  ['Post-Hardcore']  Post-screamo band from Brighton, UK\\r\\n   "
      ]
     },
     "execution_count": 629,
     "metadata": {},
     "output_type": "execute_result"
    }
   ],
   "source": [
    "df_masters_blended.head(1)"
   ]
  },
  {
   "cell_type": "code",
   "execution_count": 631,
   "metadata": {},
   "outputs": [
    {
     "data": {
      "text/html": [
       "<div>\n",
       "<style scoped>\n",
       "    .dataframe tbody tr th:only-of-type {\n",
       "        vertical-align: middle;\n",
       "    }\n",
       "\n",
       "    .dataframe tbody tr th {\n",
       "        vertical-align: top;\n",
       "    }\n",
       "\n",
       "    .dataframe thead th {\n",
       "        text-align: right;\n",
       "    }\n",
       "</style>\n",
       "<table border=\"1\" class=\"dataframe\">\n",
       "  <thead>\n",
       "    <tr style=\"text-align: right;\">\n",
       "      <th></th>\n",
       "      <th>artist_id</th>\n",
       "      <th>master_id</th>\n",
       "      <th>main_release_id</th>\n",
       "      <th>release_country</th>\n",
       "      <th>artist</th>\n",
       "      <th>title</th>\n",
       "      <th>year</th>\n",
       "      <th>album_length</th>\n",
       "      <th>tracks</th>\n",
       "      <th>release_type</th>\n",
       "      <th>genres</th>\n",
       "      <th>styles</th>\n",
       "      <th>artist_profile</th>\n",
       "      <th>country</th>\n",
       "    </tr>\n",
       "  </thead>\n",
       "  <tbody>\n",
       "    <tr>\n",
       "      <th>0</th>\n",
       "      <td>15152368</td>\n",
       "      <td>3747909</td>\n",
       "      <td>31909420</td>\n",
       "      <td>NaN</td>\n",
       "      <td>As Living Arrows</td>\n",
       "      <td>Hope and Ruin</td>\n",
       "      <td>2024</td>\n",
       "      <td>0.00</td>\n",
       "      <td>8</td>\n",
       "      <td>['LP', 'Album']</td>\n",
       "      <td>['Rock']</td>\n",
       "      <td>['Post-Hardcore']</td>\n",
       "      <td>Post-screamo band from Brighton, UK\\r\\n</td>\n",
       "      <td>United Kingdom</td>\n",
       "    </tr>\n",
       "    <tr>\n",
       "      <th>1</th>\n",
       "      <td>2190314</td>\n",
       "      <td>3731373</td>\n",
       "      <td>32952558</td>\n",
       "      <td>US</td>\n",
       "      <td>Just Surrender</td>\n",
       "      <td>Phoenix</td>\n",
       "      <td>2010</td>\n",
       "      <td>0.00</td>\n",
       "      <td>13</td>\n",
       "      <td>['Album']</td>\n",
       "      <td>['Rock']</td>\n",
       "      <td>['Alternative Rock', 'Pop Punk']</td>\n",
       "      <td>Band from Dover Plains, New York, formerly kno...</td>\n",
       "      <td>United States</td>\n",
       "    </tr>\n",
       "    <tr>\n",
       "      <th>2</th>\n",
       "      <td>7333323</td>\n",
       "      <td>3685869</td>\n",
       "      <td>32557566</td>\n",
       "      <td>UK</td>\n",
       "      <td>Hidden Mothers</td>\n",
       "      <td>Erosion / Avulsion</td>\n",
       "      <td>2024</td>\n",
       "      <td>41.47</td>\n",
       "      <td>8</td>\n",
       "      <td>['LP']</td>\n",
       "      <td>['Rock']</td>\n",
       "      <td>['Blackgaze', 'Post-Hardcore', 'Post-Metal']</td>\n",
       "      <td>Post-black metal band from Sheffield, UK\\r\\n\\r...</td>\n",
       "      <td>United Kingdom</td>\n",
       "    </tr>\n",
       "    <tr>\n",
       "      <th>3</th>\n",
       "      <td>3398500</td>\n",
       "      <td>3682731</td>\n",
       "      <td>32371239</td>\n",
       "      <td>US</td>\n",
       "      <td>Tiny Moving Parts</td>\n",
       "      <td>Deep in the Blue</td>\n",
       "      <td>2024</td>\n",
       "      <td>0.00</td>\n",
       "      <td>10</td>\n",
       "      <td>['LP', 'Album', 'Limited Edition']</td>\n",
       "      <td>['Rock']</td>\n",
       "      <td>['Emo', 'Math Rock', 'Pop Punk']</td>\n",
       "      <td>Trio from Benson, Minnesota. The band takes in...</td>\n",
       "      <td>United States</td>\n",
       "    </tr>\n",
       "    <tr>\n",
       "      <th>4</th>\n",
       "      <td>2607662</td>\n",
       "      <td>3659271</td>\n",
       "      <td>32308731</td>\n",
       "      <td>US</td>\n",
       "      <td>Father John Misty</td>\n",
       "      <td>Mahashmashana</td>\n",
       "      <td>2024</td>\n",
       "      <td>0.00</td>\n",
       "      <td>8</td>\n",
       "      <td>['LP', 'Album', 'Club Edition', 'Limited Editi...</td>\n",
       "      <td>['Rock']</td>\n",
       "      <td>['Alternative Rock', 'Folk Rock']</td>\n",
       "      <td>American singer/songwriter originally from Roc...</td>\n",
       "      <td>United States</td>\n",
       "    </tr>\n",
       "  </tbody>\n",
       "</table>\n",
       "</div>"
      ],
      "text/plain": [
       "   artist_id  master_id  main_release_id release_country             artist  \\\n",
       "0   15152368    3747909         31909420             NaN   As Living Arrows   \n",
       "1    2190314    3731373         32952558              US     Just Surrender   \n",
       "2    7333323    3685869         32557566              UK     Hidden Mothers   \n",
       "3    3398500    3682731         32371239              US  Tiny Moving Parts   \n",
       "4    2607662    3659271         32308731              US  Father John Misty   \n",
       "\n",
       "                title  year  album_length  tracks  \\\n",
       "0       Hope and Ruin  2024          0.00       8   \n",
       "1             Phoenix  2010          0.00      13   \n",
       "2  Erosion / Avulsion  2024         41.47       8   \n",
       "3    Deep in the Blue  2024          0.00      10   \n",
       "4       Mahashmashana  2024          0.00       8   \n",
       "\n",
       "                                        release_type    genres  \\\n",
       "0                                    ['LP', 'Album']  ['Rock']   \n",
       "1                                          ['Album']  ['Rock']   \n",
       "2                                             ['LP']  ['Rock']   \n",
       "3                 ['LP', 'Album', 'Limited Edition']  ['Rock']   \n",
       "4  ['LP', 'Album', 'Club Edition', 'Limited Editi...  ['Rock']   \n",
       "\n",
       "                                         styles  \\\n",
       "0                             ['Post-Hardcore']   \n",
       "1              ['Alternative Rock', 'Pop Punk']   \n",
       "2  ['Blackgaze', 'Post-Hardcore', 'Post-Metal']   \n",
       "3              ['Emo', 'Math Rock', 'Pop Punk']   \n",
       "4             ['Alternative Rock', 'Folk Rock']   \n",
       "\n",
       "                                      artist_profile         country  \n",
       "0           Post-screamo band from Brighton, UK\\r\\n   United Kingdom  \n",
       "1  Band from Dover Plains, New York, formerly kno...   United States  \n",
       "2  Post-black metal band from Sheffield, UK\\r\\n\\r...  United Kingdom  \n",
       "3  Trio from Benson, Minnesota. The band takes in...   United States  \n",
       "4  American singer/songwriter originally from Roc...   United States  "
      ]
     },
     "execution_count": 631,
     "metadata": {},
     "output_type": "execute_result"
    }
   ],
   "source": [
    "# merging, adding country (and dropping origin)\n",
    "df_masters_blended_locations = pd.merge(df_masters_blended, df_artists_countries, on=['artist'])\n",
    "df_masters_blended_locations.drop(columns=['origin'], inplace=True)\n",
    "df_masters_blended_locations.head()"
   ]
  },
  {
   "cell_type": "code",
   "execution_count": 632,
   "metadata": {},
   "outputs": [
    {
     "data": {
      "text/plain": [
       "(11425, 14)"
      ]
     },
     "execution_count": 632,
     "metadata": {},
     "output_type": "execute_result"
    }
   ],
   "source": [
    "df_masters_blended_locations.shape"
   ]
  },
  {
   "cell_type": "code",
   "execution_count": 637,
   "metadata": {},
   "outputs": [
    {
     "data": {
      "text/plain": [
       "(9667, 14)"
      ]
     },
     "execution_count": 637,
     "metadata": {},
     "output_type": "execute_result"
    }
   ],
   "source": [
    "# subset of the artists from UK or USA\n",
    "df_masters_blended_locations[df_masters_blended_locations['country'].isin(['United States', 'United Kingdom'])].shape"
   ]
  },
  {
   "cell_type": "markdown",
   "metadata": {},
   "source": [
    "So we dropped around 2000 albums from artist that are not from the UK or the US"
   ]
  },
  {
   "cell_type": "code",
   "execution_count": 638,
   "metadata": {},
   "outputs": [
    {
     "data": {
      "text/plain": [
       "(9667, 13)"
      ]
     },
     "execution_count": 638,
     "metadata": {},
     "output_type": "execute_result"
    }
   ],
   "source": [
    "df_masters_blended_locations = df_masters_blended_locations[df_masters_blended_locations['country'].isin(['United States', 'United Kingdom'])]\n",
    "df_masters_blended_locations.drop(columns='country', inplace=True)\n",
    "df_masters_blended_locations.shape"
   ]
  },
  {
   "cell_type": "code",
   "execution_count": 639,
   "metadata": {},
   "outputs": [],
   "source": [
    "df_masters_blended_locations.to_csv('Datasets/df_masters_blended.csv', index=False)"
   ]
  },
  {
   "cell_type": "markdown",
   "metadata": {},
   "source": [
    "# **``styles``**"
   ]
  },
  {
   "cell_type": "code",
   "execution_count": 435,
   "metadata": {},
   "outputs": [
    {
     "data": {
      "text/plain": [
       "(11429, 13)"
      ]
     },
     "execution_count": 435,
     "metadata": {},
     "output_type": "execute_result"
    }
   ],
   "source": [
    "df_masters_blended = pd.read_csv('Datasets/df_masters_blended.csv')               # albums from the UK and US (until 2000) with >= 20 votes \n",
    "df = df_masters_blended\n",
    "df.shape"
   ]
  },
  {
   "cell_type": "code",
   "execution_count": 436,
   "metadata": {},
   "outputs": [
    {
     "data": {
      "text/html": [
       "<div>\n",
       "<style scoped>\n",
       "    .dataframe tbody tr th:only-of-type {\n",
       "        vertical-align: middle;\n",
       "    }\n",
       "\n",
       "    .dataframe tbody tr th {\n",
       "        vertical-align: top;\n",
       "    }\n",
       "\n",
       "    .dataframe thead th {\n",
       "        text-align: right;\n",
       "    }\n",
       "</style>\n",
       "<table border=\"1\" class=\"dataframe\">\n",
       "  <thead>\n",
       "    <tr style=\"text-align: right;\">\n",
       "      <th></th>\n",
       "      <th>artist_id</th>\n",
       "      <th>master_id</th>\n",
       "      <th>main_release_id</th>\n",
       "      <th>release_country</th>\n",
       "      <th>artist</th>\n",
       "      <th>title</th>\n",
       "      <th>year</th>\n",
       "      <th>album_length</th>\n",
       "      <th>tracks</th>\n",
       "      <th>release_type</th>\n",
       "      <th>genres</th>\n",
       "      <th>styles</th>\n",
       "      <th>artist_profile</th>\n",
       "    </tr>\n",
       "  </thead>\n",
       "  <tbody>\n",
       "    <tr>\n",
       "      <th>43</th>\n",
       "      <td>1079009</td>\n",
       "      <td>3565244</td>\n",
       "      <td>31426073</td>\n",
       "      <td>US</td>\n",
       "      <td>Four Year Strong</td>\n",
       "      <td>analysis paralysis</td>\n",
       "      <td>2024</td>\n",
       "      <td>0.00</td>\n",
       "      <td>12</td>\n",
       "      <td>['LP', 'Album', 'Limited Edition']</td>\n",
       "      <td>['Rock']</td>\n",
       "      <td>['Hardcore', 'Pop Punk']</td>\n",
       "      <td>American pop punk/melodic hardcore band from W...</td>\n",
       "    </tr>\n",
       "    <tr>\n",
       "      <th>4692</th>\n",
       "      <td>292633</td>\n",
       "      <td>198675</td>\n",
       "      <td>1974670</td>\n",
       "      <td>US</td>\n",
       "      <td>Converge</td>\n",
       "      <td>Axe to Fall</td>\n",
       "      <td>2009</td>\n",
       "      <td>42.18</td>\n",
       "      <td>13</td>\n",
       "      <td>['Album']</td>\n",
       "      <td>['Rock']</td>\n",
       "      <td>['Hardcore']</td>\n",
       "      <td>Converge is a hardcore punk and metal band tha...</td>\n",
       "    </tr>\n",
       "    <tr>\n",
       "      <th>5588</th>\n",
       "      <td>253177</td>\n",
       "      <td>125765</td>\n",
       "      <td>754675</td>\n",
       "      <td>Germany</td>\n",
       "      <td>Bal-Sagoth</td>\n",
       "      <td>The Power Cosmic</td>\n",
       "      <td>1999</td>\n",
       "      <td>40.45</td>\n",
       "      <td>8</td>\n",
       "      <td>['Album']</td>\n",
       "      <td>['Rock']</td>\n",
       "      <td>['Symphonic Metal', 'Black Metal']</td>\n",
       "      <td>Bal-Sagoth was created in the UK in 1989 by By...</td>\n",
       "    </tr>\n",
       "  </tbody>\n",
       "</table>\n",
       "</div>"
      ],
      "text/plain": [
       "      artist_id  master_id  main_release_id release_country            artist  \\\n",
       "43      1079009    3565244         31426073              US  Four Year Strong   \n",
       "4692     292633     198675          1974670              US          Converge   \n",
       "5588     253177     125765           754675         Germany        Bal-Sagoth   \n",
       "\n",
       "                   title  year  album_length  tracks  \\\n",
       "43    analysis paralysis  2024          0.00      12   \n",
       "4692         Axe to Fall  2009         42.18      13   \n",
       "5588    The Power Cosmic  1999         40.45       8   \n",
       "\n",
       "                            release_type    genres  \\\n",
       "43    ['LP', 'Album', 'Limited Edition']  ['Rock']   \n",
       "4692                           ['Album']  ['Rock']   \n",
       "5588                           ['Album']  ['Rock']   \n",
       "\n",
       "                                  styles  \\\n",
       "43              ['Hardcore', 'Pop Punk']   \n",
       "4692                        ['Hardcore']   \n",
       "5588  ['Symphonic Metal', 'Black Metal']   \n",
       "\n",
       "                                         artist_profile  \n",
       "43    American pop punk/melodic hardcore band from W...  \n",
       "4692  Converge is a hardcore punk and metal band tha...  \n",
       "5588  Bal-Sagoth was created in the UK in 1989 by By...  "
      ]
     },
     "execution_count": 436,
     "metadata": {},
     "output_type": "execute_result"
    }
   ],
   "source": [
    "df.sample(3)"
   ]
  },
  {
   "cell_type": "code",
   "execution_count": 437,
   "metadata": {},
   "outputs": [
    {
     "data": {
      "text/plain": [
       "styles\n",
       "['Indie Rock']                        550\n",
       "['Alternative Rock']                  489\n",
       "['Death Metal']                       306\n",
       "['Heavy Metal']                       287\n",
       "['Pop Rock']                          266\n",
       "['Hard Rock']                         237\n",
       "[]                                    218\n",
       "['Punk']                              202\n",
       "['Prog Rock']                         202\n",
       "['Alternative Rock', 'Indie Rock']    195\n",
       "Name: count, dtype: int64"
      ]
     },
     "execution_count": 437,
     "metadata": {},
     "output_type": "execute_result"
    }
   ],
   "source": [
    "df.styles.value_counts().head(10)"
   ]
  },
  {
   "cell_type": "markdown",
   "metadata": {},
   "source": [
    "## **Looking for the missing ``styles``**"
   ]
  },
  {
   "cell_type": "markdown",
   "metadata": {},
   "source": [
    "My approach is to get the styles from other releases of that album, because the from the master release it said it had no styles."
   ]
  },
  {
   "cell_type": "code",
   "execution_count": 168,
   "metadata": {},
   "outputs": [
    {
     "name": "stdout",
     "output_type": "stream",
     "text": [
      "albums missing style: 218 \n",
      "% missing artist_profile: 1.91%\n"
     ]
    }
   ],
   "source": [
    "percentage_styles_missing = round((df['styles']=='[]').sum() / df.shape[0] * 100, 2)\n",
    "\n",
    "print(f\"albums missing style: {(df['styles']=='[]').sum()} \")\n",
    "print(f'% missing styles: {percentage_styles_missing}%')"
   ]
  },
  {
   "cell_type": "markdown",
   "metadata": {},
   "source": [
    "### Testing"
   ]
  },
  {
   "cell_type": "code",
   "execution_count": 257,
   "metadata": {},
   "outputs": [
    {
     "data": {
      "text/html": [
       "<div>\n",
       "<style scoped>\n",
       "    .dataframe tbody tr th:only-of-type {\n",
       "        vertical-align: middle;\n",
       "    }\n",
       "\n",
       "    .dataframe tbody tr th {\n",
       "        vertical-align: top;\n",
       "    }\n",
       "\n",
       "    .dataframe thead th {\n",
       "        text-align: right;\n",
       "    }\n",
       "</style>\n",
       "<table border=\"1\" class=\"dataframe\">\n",
       "  <thead>\n",
       "    <tr style=\"text-align: right;\">\n",
       "      <th></th>\n",
       "      <th>artist_id</th>\n",
       "      <th>master_id</th>\n",
       "      <th>main_release_id</th>\n",
       "      <th>release_country</th>\n",
       "      <th>artist</th>\n",
       "      <th>title</th>\n",
       "      <th>year</th>\n",
       "      <th>album_length</th>\n",
       "      <th>tracks</th>\n",
       "      <th>release_type</th>\n",
       "      <th>genres</th>\n",
       "      <th>styles</th>\n",
       "      <th>artist_profile</th>\n",
       "    </tr>\n",
       "  </thead>\n",
       "  <tbody>\n",
       "    <tr>\n",
       "      <th>51</th>\n",
       "      <td>9657940</td>\n",
       "      <td>3540907</td>\n",
       "      <td>31203097</td>\n",
       "      <td>UK</td>\n",
       "      <td>Remi Wolf</td>\n",
       "      <td>Big Ideas</td>\n",
       "      <td>2024</td>\n",
       "      <td>43.18</td>\n",
       "      <td>13</td>\n",
       "      <td>['Album', 'Stereo']</td>\n",
       "      <td>['Rock', 'Pop']</td>\n",
       "      <td>[]</td>\n",
       "      <td>American singer-songwriter, born February 2, 1...</td>\n",
       "    </tr>\n",
       "    <tr>\n",
       "      <th>58</th>\n",
       "      <td>2727700</td>\n",
       "      <td>3527840</td>\n",
       "      <td>31083689</td>\n",
       "      <td>Worldwide</td>\n",
       "      <td>Imagine Dragons</td>\n",
       "      <td>LOOM</td>\n",
       "      <td>2024</td>\n",
       "      <td>31.45</td>\n",
       "      <td>10</td>\n",
       "      <td>['AAC', 'Album']</td>\n",
       "      <td>['Rock', 'Pop']</td>\n",
       "      <td>[]</td>\n",
       "      <td>Pop rock band from Nevada, US.\\r\\nFormed 2008\\...</td>\n",
       "    </tr>\n",
       "    <tr>\n",
       "      <th>80</th>\n",
       "      <td>7236492</td>\n",
       "      <td>3471745</td>\n",
       "      <td>30507286</td>\n",
       "      <td>US</td>\n",
       "      <td>Mk.Gee</td>\n",
       "      <td>Two Star and the Dream Police</td>\n",
       "      <td>2024</td>\n",
       "      <td>33.22</td>\n",
       "      <td>12</td>\n",
       "      <td>['LP', 'Album', 'Stereo']</td>\n",
       "      <td>['Rock', 'Pop']</td>\n",
       "      <td>[]</td>\n",
       "      <td>NaN</td>\n",
       "    </tr>\n",
       "    <tr>\n",
       "      <th>81</th>\n",
       "      <td>4423684</td>\n",
       "      <td>3470389</td>\n",
       "      <td>29692129</td>\n",
       "      <td>Worldwide</td>\n",
       "      <td>Vennart</td>\n",
       "      <td>Forgiveness and The Grain</td>\n",
       "      <td>2024</td>\n",
       "      <td>42.03</td>\n",
       "      <td>8</td>\n",
       "      <td>['MP3', 'Album']</td>\n",
       "      <td>['Rock']</td>\n",
       "      <td>[]</td>\n",
       "      <td>Collaborative project led by English electric ...</td>\n",
       "    </tr>\n",
       "    <tr>\n",
       "      <th>82</th>\n",
       "      <td>48263</td>\n",
       "      <td>3469978</td>\n",
       "      <td>30524809</td>\n",
       "      <td>US</td>\n",
       "      <td>Microwave</td>\n",
       "      <td>Let's Start Degeneracy</td>\n",
       "      <td>2024</td>\n",
       "      <td>0.00</td>\n",
       "      <td>11</td>\n",
       "      <td>['LP', 'Album', 'Limited Edition']</td>\n",
       "      <td>['Rock']</td>\n",
       "      <td>[]</td>\n",
       "      <td>Rock band from Atlanta, Georgia consisting of ...</td>\n",
       "    </tr>\n",
       "    <tr>\n",
       "      <th>...</th>\n",
       "      <td>...</td>\n",
       "      <td>...</td>\n",
       "      <td>...</td>\n",
       "      <td>...</td>\n",
       "      <td>...</td>\n",
       "      <td>...</td>\n",
       "      <td>...</td>\n",
       "      <td>...</td>\n",
       "      <td>...</td>\n",
       "      <td>...</td>\n",
       "      <td>...</td>\n",
       "      <td>...</td>\n",
       "      <td>...</td>\n",
       "    </tr>\n",
       "    <tr>\n",
       "      <th>9210</th>\n",
       "      <td>20991</td>\n",
       "      <td>30254</td>\n",
       "      <td>1123069</td>\n",
       "      <td>UK</td>\n",
       "      <td>The Rolling Stones</td>\n",
       "      <td>Black and Blue</td>\n",
       "      <td>1976</td>\n",
       "      <td>41.15</td>\n",
       "      <td>8</td>\n",
       "      <td>['LP', 'Album']</td>\n",
       "      <td>['Rock']</td>\n",
       "      <td>[]</td>\n",
       "      <td>English rock band formed in London in May 1962...</td>\n",
       "    </tr>\n",
       "    <tr>\n",
       "      <th>9447</th>\n",
       "      <td>59792</td>\n",
       "      <td>27951</td>\n",
       "      <td>2769931</td>\n",
       "      <td>US</td>\n",
       "      <td>Bob Dylan</td>\n",
       "      <td>Knocked Out Loaded</td>\n",
       "      <td>1986</td>\n",
       "      <td>34.85</td>\n",
       "      <td>8</td>\n",
       "      <td>['LP', 'Album']</td>\n",
       "      <td>['Rock', 'Pop']</td>\n",
       "      <td>[]</td>\n",
       "      <td>Born: May 24, 1941, Duluth, Minnesota, USA; si...</td>\n",
       "    </tr>\n",
       "    <tr>\n",
       "      <th>9955</th>\n",
       "      <td>252314</td>\n",
       "      <td>20565</td>\n",
       "      <td>1113832</td>\n",
       "      <td>US</td>\n",
       "      <td>Jawbox</td>\n",
       "      <td>Jawbox</td>\n",
       "      <td>1996</td>\n",
       "      <td>46.28</td>\n",
       "      <td>15</td>\n",
       "      <td>['Album']</td>\n",
       "      <td>['Rock']</td>\n",
       "      <td>[]</td>\n",
       "      <td>American alternative rock band founded in 1989...</td>\n",
       "    </tr>\n",
       "    <tr>\n",
       "      <th>10326</th>\n",
       "      <td>82294</td>\n",
       "      <td>14043</td>\n",
       "      <td>435679</td>\n",
       "      <td>US</td>\n",
       "      <td>Tom Waits</td>\n",
       "      <td>Foreign Affairs</td>\n",
       "      <td>1977</td>\n",
       "      <td>41.88</td>\n",
       "      <td>9</td>\n",
       "      <td>['LP', 'Album', 'Stereo']</td>\n",
       "      <td>['Jazz', 'Rock', 'Blues']</td>\n",
       "      <td>[]</td>\n",
       "      <td>Born December 7th. 1949, in Pomona, California...</td>\n",
       "    </tr>\n",
       "    <tr>\n",
       "      <th>10498</th>\n",
       "      <td>63332</td>\n",
       "      <td>11771</td>\n",
       "      <td>1813397</td>\n",
       "      <td>US</td>\n",
       "      <td>Lenny Kravitz</td>\n",
       "      <td>5</td>\n",
       "      <td>1998</td>\n",
       "      <td>66.42</td>\n",
       "      <td>13</td>\n",
       "      <td>['Album']</td>\n",
       "      <td>['Rock', 'Funk / Soul']</td>\n",
       "      <td>[]</td>\n",
       "      <td>American singer-songwriter, multi-instrumental...</td>\n",
       "    </tr>\n",
       "  </tbody>\n",
       "</table>\n",
       "<p>215 rows × 13 columns</p>\n",
       "</div>"
      ],
      "text/plain": [
       "       artist_id  master_id  main_release_id release_country  \\\n",
       "51       9657940    3540907         31203097              UK   \n",
       "58       2727700    3527840         31083689       Worldwide   \n",
       "80       7236492    3471745         30507286              US   \n",
       "81       4423684    3470389         29692129       Worldwide   \n",
       "82         48263    3469978         30524809              US   \n",
       "...          ...        ...              ...             ...   \n",
       "9210       20991      30254          1123069              UK   \n",
       "9447       59792      27951          2769931              US   \n",
       "9955      252314      20565          1113832              US   \n",
       "10326      82294      14043           435679              US   \n",
       "10498      63332      11771          1813397              US   \n",
       "\n",
       "                   artist                          title  year  album_length  \\\n",
       "51              Remi Wolf                      Big Ideas  2024         43.18   \n",
       "58        Imagine Dragons                           LOOM  2024         31.45   \n",
       "80                 Mk.Gee  Two Star and the Dream Police  2024         33.22   \n",
       "81                Vennart      Forgiveness and The Grain  2024         42.03   \n",
       "82              Microwave         Let's Start Degeneracy  2024          0.00   \n",
       "...                   ...                            ...   ...           ...   \n",
       "9210   The Rolling Stones                 Black and Blue  1976         41.15   \n",
       "9447            Bob Dylan             Knocked Out Loaded  1986         34.85   \n",
       "9955               Jawbox                         Jawbox  1996         46.28   \n",
       "10326           Tom Waits                Foreign Affairs  1977         41.88   \n",
       "10498       Lenny Kravitz                              5  1998         66.42   \n",
       "\n",
       "       tracks                        release_type                     genres  \\\n",
       "51         13                 ['Album', 'Stereo']            ['Rock', 'Pop']   \n",
       "58         10                    ['AAC', 'Album']            ['Rock', 'Pop']   \n",
       "80         12           ['LP', 'Album', 'Stereo']            ['Rock', 'Pop']   \n",
       "81          8                    ['MP3', 'Album']                   ['Rock']   \n",
       "82         11  ['LP', 'Album', 'Limited Edition']                   ['Rock']   \n",
       "...       ...                                 ...                        ...   \n",
       "9210        8                     ['LP', 'Album']                   ['Rock']   \n",
       "9447        8                     ['LP', 'Album']            ['Rock', 'Pop']   \n",
       "9955       15                           ['Album']                   ['Rock']   \n",
       "10326       9           ['LP', 'Album', 'Stereo']  ['Jazz', 'Rock', 'Blues']   \n",
       "10498      13                           ['Album']    ['Rock', 'Funk / Soul']   \n",
       "\n",
       "      styles                                     artist_profile  \n",
       "51        []  American singer-songwriter, born February 2, 1...  \n",
       "58        []  Pop rock band from Nevada, US.\\r\\nFormed 2008\\...  \n",
       "80        []                                                NaN  \n",
       "81        []  Collaborative project led by English electric ...  \n",
       "82        []  Rock band from Atlanta, Georgia consisting of ...  \n",
       "...      ...                                                ...  \n",
       "9210      []  English rock band formed in London in May 1962...  \n",
       "9447      []  Born: May 24, 1941, Duluth, Minnesota, USA; si...  \n",
       "9955      []  American alternative rock band founded in 1989...  \n",
       "10326     []  Born December 7th. 1949, in Pomona, California...  \n",
       "10498     []  American singer-songwriter, multi-instrumental...  \n",
       "\n",
       "[215 rows x 13 columns]"
      ]
     },
     "execution_count": 257,
     "metadata": {},
     "output_type": "execute_result"
    }
   ],
   "source": [
    "# I am going to get the releases from the master_id, so I cannot search the albums where master_id = 0, I will search these ones manually\n",
    "df_styles_missing = df[df['styles']=='[]'].query('master_id != 0') \n",
    "df_styles_missing"
   ]
  },
  {
   "cell_type": "markdown",
   "metadata": {},
   "source": [
    "Let's test with one of these albums, The main release has ``stlyes = []``, but what about the other releases?"
   ]
  },
  {
   "cell_type": "code",
   "execution_count": 313,
   "metadata": {},
   "outputs": [
    {
     "name": "stdout",
     "output_type": "stream",
     "text": [
      "There are 8 releases of this album\n"
     ]
    }
   ],
   "source": [
    "url = \"https://api.discogs.com/database/search\"\n",
    "headers = {\"User-Agent\": 'Arnau', \"Authorization\": \"Discogs token=UwfqmsztxwnfABgQpmhaAsprbUgpOJKGOJSQAqfp\"}\n",
    "\n",
    "# Define parameters for artist search\n",
    "params = {\n",
    "    \"per_page\": 100   # Number of results per page (max 100)\n",
    "    , 'type': 'release'\n",
    "    , 'format': 'album'\n",
    "    , 'genre': 'Rock'\n",
    "    , 'master_id': 3470389\n",
    "}\n",
    "response = requests.get(url, headers=headers, params=params)\n",
    "data = response.json()\n",
    "print(f\"There are {len(data['results'])} releases of this album\")"
   ]
  },
  {
   "cell_type": "markdown",
   "metadata": {},
   "source": [
    "Not all of them have ``styles = []``, some have some style at least."
   ]
  },
  {
   "cell_type": "code",
   "execution_count": 314,
   "metadata": {},
   "outputs": [
    {
     "data": {
      "text/plain": [
       "[Prog Rock]    7\n",
       "Name: count, dtype: int64"
      ]
     },
     "execution_count": 314,
     "metadata": {},
     "output_type": "execute_result"
    }
   ],
   "source": [
    "# create an empty list\n",
    "styles_list = []\n",
    "\n",
    "# iterate over all the releases\n",
    "for i in range(len(data['results'])):\n",
    "    style = data['results'][i]['style'] # get the style(s)\n",
    "    if style: \n",
    "        styles_list.append(style)\n",
    "        most_common_style = pd.Series(styles_list).value_counts().idxmax()\n",
    "    else:\n",
    "        styles_list.append(np.nan)\n",
    "\n",
    "# print the value_counts() of the styles\n",
    "pd.Series(styles_list).value_counts()"
   ]
  },
  {
   "cell_type": "code",
   "execution_count": 310,
   "metadata": {},
   "outputs": [
    {
     "name": "stdout",
     "output_type": "stream",
     "text": [
      "['Alternative Rock']\n"
     ]
    }
   ],
   "source": [
    "try:\n",
    "    most_common_style = pd.Series(styles_list).value_counts().idxmax()\n",
    "    print(most_common_style)\n",
    "except:\n",
    "    print('No styles found')"
   ]
  },
  {
   "cell_type": "markdown",
   "metadata": {},
   "source": [
    "### **Applying the function to get ``df_styles_found``**"
   ]
  },
  {
   "cell_type": "code",
   "execution_count": null,
   "metadata": {},
   "outputs": [],
   "source": [
    "def get_styles(df):\n",
    "\n",
    "    most_common_styles = []\n",
    "    count = 0\n",
    "\n",
    "    for master_id in df_styles_missing['master_id'].values:\n",
    "        time.sleep(1)\n",
    "        count+=1\n",
    "        url = \"https://api.discogs.com/database/search\"\n",
    "        headers = {\"User-Agent\": 'Arnau', \"Authorization\": \"Discogs token=UwfqmsztxwnfABgQpmhaAsprbUgpOJKGOJSQAqfp\"}\n",
    "\n",
    "        # Define parameters for artist search\n",
    "        params = {\n",
    "            \"per_page\": 100   # Number of results per page (max 100)\n",
    "            , 'type': 'release'\n",
    "            , 'format': 'album'\n",
    "            , 'genre': 'Rock'\n",
    "            , 'master_id': master_id\n",
    "        }\n",
    "\n",
    "        response = requests.get(url, headers=headers, params=params)\n",
    "        data = response.json()\n",
    "\n",
    "        # create an empty list\n",
    "        styles_list = []\n",
    "\n",
    "        # iterate over all the releases\n",
    "        for i in range(len(data['results'])):\n",
    "            style = data['results'][i]['style'] # get the style(s)\n",
    "            if style: \n",
    "                styles_list.append(style)\n",
    "            else:\n",
    "                styles_list.append(np.nan)\n",
    "\n",
    "        try:\n",
    "            most_common_style = pd.Series(styles_list).value_counts().idxmax()\n",
    "            print(f\"{count} - {most_common_style}\")\n",
    "        except:\n",
    "            print(f'{count} - No styles found')\n",
    "            most_common_style = np.nan\n",
    "\n",
    "        most_common_styles.append(most_common_style)\n",
    "    \n",
    "    df_styles_found = pd.DataFrame({'master_id': df_styles_missing['master_id'].values,\n",
    "                                    'styles': most_common_styles})\n",
    "    return df_styles_found"
   ]
  },
  {
   "cell_type": "code",
   "execution_count": 324,
   "metadata": {},
   "outputs": [
    {
     "data": {
      "text/html": [
       "<div>\n",
       "<style scoped>\n",
       "    .dataframe tbody tr th:only-of-type {\n",
       "        vertical-align: middle;\n",
       "    }\n",
       "\n",
       "    .dataframe tbody tr th {\n",
       "        vertical-align: top;\n",
       "    }\n",
       "\n",
       "    .dataframe thead th {\n",
       "        text-align: right;\n",
       "    }\n",
       "</style>\n",
       "<table border=\"1\" class=\"dataframe\">\n",
       "  <thead>\n",
       "    <tr style=\"text-align: right;\">\n",
       "      <th></th>\n",
       "      <th>artist_id</th>\n",
       "      <th>master_id</th>\n",
       "      <th>main_release_id</th>\n",
       "      <th>release_country</th>\n",
       "      <th>artist</th>\n",
       "      <th>title</th>\n",
       "      <th>year</th>\n",
       "      <th>album_length</th>\n",
       "      <th>tracks</th>\n",
       "      <th>release_type</th>\n",
       "      <th>genres</th>\n",
       "      <th>styles</th>\n",
       "      <th>artist_profile</th>\n",
       "    </tr>\n",
       "  </thead>\n",
       "  <tbody>\n",
       "    <tr>\n",
       "      <th>51</th>\n",
       "      <td>9657940</td>\n",
       "      <td>3540907</td>\n",
       "      <td>31203097</td>\n",
       "      <td>UK</td>\n",
       "      <td>Remi Wolf</td>\n",
       "      <td>Big Ideas</td>\n",
       "      <td>2024</td>\n",
       "      <td>43.18</td>\n",
       "      <td>13</td>\n",
       "      <td>['Album', 'Stereo']</td>\n",
       "      <td>['Rock', 'Pop']</td>\n",
       "      <td>[]</td>\n",
       "      <td>American singer-songwriter, born February 2, 1...</td>\n",
       "    </tr>\n",
       "    <tr>\n",
       "      <th>58</th>\n",
       "      <td>2727700</td>\n",
       "      <td>3527840</td>\n",
       "      <td>31083689</td>\n",
       "      <td>Worldwide</td>\n",
       "      <td>Imagine Dragons</td>\n",
       "      <td>LOOM</td>\n",
       "      <td>2024</td>\n",
       "      <td>31.45</td>\n",
       "      <td>10</td>\n",
       "      <td>['AAC', 'Album']</td>\n",
       "      <td>['Rock', 'Pop']</td>\n",
       "      <td>[]</td>\n",
       "      <td>Pop rock band from Nevada, US.\\r\\nFormed 2008\\...</td>\n",
       "    </tr>\n",
       "    <tr>\n",
       "      <th>80</th>\n",
       "      <td>7236492</td>\n",
       "      <td>3471745</td>\n",
       "      <td>30507286</td>\n",
       "      <td>US</td>\n",
       "      <td>Mk.Gee</td>\n",
       "      <td>Two Star and the Dream Police</td>\n",
       "      <td>2024</td>\n",
       "      <td>33.22</td>\n",
       "      <td>12</td>\n",
       "      <td>['LP', 'Album', 'Stereo']</td>\n",
       "      <td>['Rock', 'Pop']</td>\n",
       "      <td>[]</td>\n",
       "      <td>NaN</td>\n",
       "    </tr>\n",
       "    <tr>\n",
       "      <th>81</th>\n",
       "      <td>4423684</td>\n",
       "      <td>3470389</td>\n",
       "      <td>29692129</td>\n",
       "      <td>Worldwide</td>\n",
       "      <td>Vennart</td>\n",
       "      <td>Forgiveness and The Grain</td>\n",
       "      <td>2024</td>\n",
       "      <td>42.03</td>\n",
       "      <td>8</td>\n",
       "      <td>['MP3', 'Album']</td>\n",
       "      <td>['Rock']</td>\n",
       "      <td>[]</td>\n",
       "      <td>Collaborative project led by English electric ...</td>\n",
       "    </tr>\n",
       "    <tr>\n",
       "      <th>82</th>\n",
       "      <td>48263</td>\n",
       "      <td>3469978</td>\n",
       "      <td>30524809</td>\n",
       "      <td>US</td>\n",
       "      <td>Microwave</td>\n",
       "      <td>Let's Start Degeneracy</td>\n",
       "      <td>2024</td>\n",
       "      <td>0.00</td>\n",
       "      <td>11</td>\n",
       "      <td>['LP', 'Album', 'Limited Edition']</td>\n",
       "      <td>['Rock']</td>\n",
       "      <td>[]</td>\n",
       "      <td>Rock band from Atlanta, Georgia consisting of ...</td>\n",
       "    </tr>\n",
       "    <tr>\n",
       "      <th>...</th>\n",
       "      <td>...</td>\n",
       "      <td>...</td>\n",
       "      <td>...</td>\n",
       "      <td>...</td>\n",
       "      <td>...</td>\n",
       "      <td>...</td>\n",
       "      <td>...</td>\n",
       "      <td>...</td>\n",
       "      <td>...</td>\n",
       "      <td>...</td>\n",
       "      <td>...</td>\n",
       "      <td>...</td>\n",
       "      <td>...</td>\n",
       "    </tr>\n",
       "    <tr>\n",
       "      <th>9210</th>\n",
       "      <td>20991</td>\n",
       "      <td>30254</td>\n",
       "      <td>1123069</td>\n",
       "      <td>UK</td>\n",
       "      <td>The Rolling Stones</td>\n",
       "      <td>Black and Blue</td>\n",
       "      <td>1976</td>\n",
       "      <td>41.15</td>\n",
       "      <td>8</td>\n",
       "      <td>['LP', 'Album']</td>\n",
       "      <td>['Rock']</td>\n",
       "      <td>[]</td>\n",
       "      <td>English rock band formed in London in May 1962...</td>\n",
       "    </tr>\n",
       "    <tr>\n",
       "      <th>9447</th>\n",
       "      <td>59792</td>\n",
       "      <td>27951</td>\n",
       "      <td>2769931</td>\n",
       "      <td>US</td>\n",
       "      <td>Bob Dylan</td>\n",
       "      <td>Knocked Out Loaded</td>\n",
       "      <td>1986</td>\n",
       "      <td>34.85</td>\n",
       "      <td>8</td>\n",
       "      <td>['LP', 'Album']</td>\n",
       "      <td>['Rock', 'Pop']</td>\n",
       "      <td>[]</td>\n",
       "      <td>Born: May 24, 1941, Duluth, Minnesota, USA; si...</td>\n",
       "    </tr>\n",
       "    <tr>\n",
       "      <th>9955</th>\n",
       "      <td>252314</td>\n",
       "      <td>20565</td>\n",
       "      <td>1113832</td>\n",
       "      <td>US</td>\n",
       "      <td>Jawbox</td>\n",
       "      <td>Jawbox</td>\n",
       "      <td>1996</td>\n",
       "      <td>46.28</td>\n",
       "      <td>15</td>\n",
       "      <td>['Album']</td>\n",
       "      <td>['Rock']</td>\n",
       "      <td>[]</td>\n",
       "      <td>American alternative rock band founded in 1989...</td>\n",
       "    </tr>\n",
       "    <tr>\n",
       "      <th>10326</th>\n",
       "      <td>82294</td>\n",
       "      <td>14043</td>\n",
       "      <td>435679</td>\n",
       "      <td>US</td>\n",
       "      <td>Tom Waits</td>\n",
       "      <td>Foreign Affairs</td>\n",
       "      <td>1977</td>\n",
       "      <td>41.88</td>\n",
       "      <td>9</td>\n",
       "      <td>['LP', 'Album', 'Stereo']</td>\n",
       "      <td>['Jazz', 'Rock', 'Blues']</td>\n",
       "      <td>[]</td>\n",
       "      <td>Born December 7th. 1949, in Pomona, California...</td>\n",
       "    </tr>\n",
       "    <tr>\n",
       "      <th>10498</th>\n",
       "      <td>63332</td>\n",
       "      <td>11771</td>\n",
       "      <td>1813397</td>\n",
       "      <td>US</td>\n",
       "      <td>Lenny Kravitz</td>\n",
       "      <td>5</td>\n",
       "      <td>1998</td>\n",
       "      <td>66.42</td>\n",
       "      <td>13</td>\n",
       "      <td>['Album']</td>\n",
       "      <td>['Rock', 'Funk / Soul']</td>\n",
       "      <td>[]</td>\n",
       "      <td>American singer-songwriter, multi-instrumental...</td>\n",
       "    </tr>\n",
       "  </tbody>\n",
       "</table>\n",
       "<p>215 rows × 13 columns</p>\n",
       "</div>"
      ],
      "text/plain": [
       "       artist_id  master_id  main_release_id release_country  \\\n",
       "51       9657940    3540907         31203097              UK   \n",
       "58       2727700    3527840         31083689       Worldwide   \n",
       "80       7236492    3471745         30507286              US   \n",
       "81       4423684    3470389         29692129       Worldwide   \n",
       "82         48263    3469978         30524809              US   \n",
       "...          ...        ...              ...             ...   \n",
       "9210       20991      30254          1123069              UK   \n",
       "9447       59792      27951          2769931              US   \n",
       "9955      252314      20565          1113832              US   \n",
       "10326      82294      14043           435679              US   \n",
       "10498      63332      11771          1813397              US   \n",
       "\n",
       "                   artist                          title  year  album_length  \\\n",
       "51              Remi Wolf                      Big Ideas  2024         43.18   \n",
       "58        Imagine Dragons                           LOOM  2024         31.45   \n",
       "80                 Mk.Gee  Two Star and the Dream Police  2024         33.22   \n",
       "81                Vennart      Forgiveness and The Grain  2024         42.03   \n",
       "82              Microwave         Let's Start Degeneracy  2024          0.00   \n",
       "...                   ...                            ...   ...           ...   \n",
       "9210   The Rolling Stones                 Black and Blue  1976         41.15   \n",
       "9447            Bob Dylan             Knocked Out Loaded  1986         34.85   \n",
       "9955               Jawbox                         Jawbox  1996         46.28   \n",
       "10326           Tom Waits                Foreign Affairs  1977         41.88   \n",
       "10498       Lenny Kravitz                              5  1998         66.42   \n",
       "\n",
       "       tracks                        release_type                     genres  \\\n",
       "51         13                 ['Album', 'Stereo']            ['Rock', 'Pop']   \n",
       "58         10                    ['AAC', 'Album']            ['Rock', 'Pop']   \n",
       "80         12           ['LP', 'Album', 'Stereo']            ['Rock', 'Pop']   \n",
       "81          8                    ['MP3', 'Album']                   ['Rock']   \n",
       "82         11  ['LP', 'Album', 'Limited Edition']                   ['Rock']   \n",
       "...       ...                                 ...                        ...   \n",
       "9210        8                     ['LP', 'Album']                   ['Rock']   \n",
       "9447        8                     ['LP', 'Album']            ['Rock', 'Pop']   \n",
       "9955       15                           ['Album']                   ['Rock']   \n",
       "10326       9           ['LP', 'Album', 'Stereo']  ['Jazz', 'Rock', 'Blues']   \n",
       "10498      13                           ['Album']    ['Rock', 'Funk / Soul']   \n",
       "\n",
       "      styles                                     artist_profile  \n",
       "51        []  American singer-songwriter, born February 2, 1...  \n",
       "58        []  Pop rock band from Nevada, US.\\r\\nFormed 2008\\...  \n",
       "80        []                                                NaN  \n",
       "81        []  Collaborative project led by English electric ...  \n",
       "82        []  Rock band from Atlanta, Georgia consisting of ...  \n",
       "...      ...                                                ...  \n",
       "9210      []  English rock band formed in London in May 1962...  \n",
       "9447      []  Born: May 24, 1941, Duluth, Minnesota, USA; si...  \n",
       "9955      []  American alternative rock band founded in 1989...  \n",
       "10326     []  Born December 7th. 1949, in Pomona, California...  \n",
       "10498     []  American singer-songwriter, multi-instrumental...  \n",
       "\n",
       "[215 rows x 13 columns]"
      ]
     },
     "execution_count": 324,
     "metadata": {},
     "output_type": "execute_result"
    }
   ],
   "source": [
    "df_styles_missing = df[df['styles']=='[]'].query('master_id != 0')\n",
    "df_styles_missing"
   ]
  },
  {
   "cell_type": "code",
   "execution_count": 327,
   "metadata": {},
   "outputs": [
    {
     "name": "stdout",
     "output_type": "stream",
     "text": [
      "No styles found\n",
      "['Alternative Rock']\n",
      "['Dream Pop', 'Indie Pop', 'Lo-Fi']\n",
      "['Prog Rock']\n",
      "['Pop Punk']\n",
      "['Alternative Rock', 'Art Rock', 'Dream Pop']\n",
      "['Grunge']\n",
      "No styles found\n",
      "['Alternative Rock', 'Indie Rock', 'Grunge', 'Alt-Pop']\n",
      "['Post-Hardcore', 'Pop Punk']\n",
      "['Alternative Rock', 'Post-Punk']\n",
      "['Pop Rock']\n",
      "['Prog Rock', 'Synth-pop', 'Alternative Rock', 'Pop Rock']\n",
      "['Death Metal', 'Grindcore']\n",
      "No styles found\n",
      "['Alternative Rock', 'Indie Rock', 'Pop Rock']\n",
      "['Alternative Rock']\n",
      "['Indie Rock']\n",
      "['Hard Rock']\n",
      "['Alternative Rock']\n",
      "['Alternative Rock']\n",
      "['Pop Rock', 'Folk Rock']\n",
      "['Alternative Rock']\n",
      "['Goth Rock', 'Post-Punk', 'Alternative Rock']\n",
      "['Indie Rock']\n",
      "['Alternative Rock', 'Indie Rock']\n",
      "['Rock & Roll', 'Punk']\n",
      "No styles found\n",
      "['Folk Rock', 'Neofolk']\n",
      "['Indie Rock', 'Country', 'Folk Rock']\n",
      "['Ska']\n",
      "['Alternative Rock']\n",
      "['Alternative Rock']\n",
      "No styles found\n",
      "['Indie Pop', 'Dance-pop', 'Nu Metal']\n",
      "['Alternative Rock']\n",
      "['Indie Rock']\n",
      "['Symphonic Rock']\n",
      "['Pop Rock']\n",
      "['Alternative Rock', 'Indie Rock']\n",
      "['Alternative Rock', 'Indie Rock']\n",
      "['Indie Rock']\n",
      "['Indie Rock', 'Gospel']\n",
      "['Alternative Rock', 'Indie Rock', 'Psychedelic Rock']\n",
      "['Acoustic', 'Folk Rock', 'Indie Rock']\n",
      "['Alternative Rock']\n",
      "No styles found\n",
      "No styles found\n",
      "['Alternative Rock']\n",
      "['Metalcore']\n",
      "['Alternative Rock', 'Pop Rock']\n",
      "['Folk Rock']\n",
      "['Alternative Rock']\n",
      "['Prog Rock', 'Alternative Rock', 'Indie Rock']\n",
      "['Alternative Rock', 'Post-Hardcore']\n",
      "['Post Rock', 'Post-Hardcore', 'Math Rock']\n",
      "['Pop Punk']\n",
      "['Emo']\n",
      "['Alternative Rock']\n",
      "['Prog Rock', 'Psychedelic Rock']\n",
      "['Pop Punk', 'Punk', 'Alternative Rock']\n",
      "No styles found\n",
      "['Pop Rock']\n",
      "['Alternative Rock']\n",
      "['Indie Pop']\n",
      "['Pop Rock', 'Math Rock']\n",
      "['Progressive Metal', 'Math Rock', 'Hardcore']\n",
      "['Alternative Rock']\n",
      "['Indie Rock']\n",
      "['Alternative Rock', 'Conscious']\n",
      "['Indie Rock', 'Folk Rock']\n",
      "['Pop Rock']\n",
      "['Psychedelic Rock', 'Indie Rock']\n",
      "['Soul']\n",
      "['Alternative Rock']\n",
      "['Indie Rock']\n",
      "['Indie Rock']\n",
      "['Indie Rock']\n",
      "['Alternative Rock']\n",
      "['Indie Rock']\n",
      "['Alternative Rock']\n",
      "['Acoustic', 'Alternative Rock', 'Folk Rock', 'Indie Rock', 'Slowcore']\n",
      "['Indie Rock']\n",
      "['Alternative Rock']\n",
      "['Hard Rock', 'Alternative Rock', 'Indie Rock', 'Grunge']\n",
      "['Emo', 'Indie Rock']\n",
      "['Indie Rock']\n",
      "['Indie Rock']\n",
      "['Glam']\n",
      "['Punk']\n",
      "No styles found\n",
      "['Alternative Rock']\n",
      "['Indie Pop', 'Indie Rock']\n",
      "['Folk Rock', 'Punk', 'Emo']\n",
      "['Alternative Rock']\n",
      "['Hard Rock']\n",
      "No styles found\n",
      "['Punk']\n",
      "['Black Metal', 'Avantgarde', 'Progressive Metal']\n",
      "['Indie Rock']\n",
      "['Alternative Rock', 'Prog Rock', 'Psychedelic Rock', 'Space Rock']\n",
      "['Post-Punk']\n",
      "['Rock & Roll', 'Folk Rock', 'Soul']\n",
      "['Alternative Rock']\n",
      "['Folk Rock', 'Indie Rock']\n",
      "['Abstract']\n",
      "['Indie Rock']\n",
      "No styles found\n",
      "['Alternative Rock']\n",
      "['Industrial', 'Punk']\n",
      "['Alternative Rock']\n",
      "['Hard Rock']\n",
      "No styles found\n",
      "['Indie Rock']\n",
      "No styles found\n",
      "['Alternative Rock']\n",
      "['Indie Rock']\n",
      "['Folk Rock']\n",
      "No styles found\n",
      "['Indie Rock', 'Folk Rock']\n",
      "['Alternative Rock', 'Indie Rock', 'Prog Rock']\n",
      "['Indie Rock', 'Post-Punk']\n",
      "['Alternative Rock']\n",
      "['Post Rock', 'Math Rock']\n",
      "['Metalcore']\n",
      "['Soft Rock']\n",
      "['Indie Rock']\n",
      "No styles found\n",
      "['Hardcore']\n",
      "['Experimental', 'Indie Rock']\n",
      "['Alternative Rock']\n",
      "['Alternative Rock', 'Folk Rock']\n",
      "['Garage Rock', 'Psychedelic Rock']\n",
      "['Hardcore', 'Post Rock']\n",
      "['Indie Rock', 'Pop Rock', 'Rhythm & Blues']\n",
      "No styles found\n",
      "['Indie Rock']\n",
      "['Alternative Rock', 'Punk']\n",
      "['Prog Rock', 'Art Rock', 'Experimental']\n",
      "['Prog Rock']\n",
      "['Indie Rock', 'Lo-Fi']\n",
      "['Classic Rock']\n",
      "['Hard Rock', 'New Age', 'Prog Rock']\n",
      "['Indie Rock', 'Folk Rock', 'Lo-Fi']\n",
      "['Alternative Rock', 'Indie Rock', 'Experimental']\n",
      "['Power Pop', 'Indie Rock']\n",
      "['Pop Rock']\n",
      "['Indie Rock']\n",
      "['Pop Punk']\n",
      "['Alternative Rock']\n",
      "['Alternative Rock']\n",
      "['Indie Rock']\n",
      "['Lo-Fi']\n",
      "['Pop Punk', 'Power Pop', 'Pop Rock']\n",
      "['Indie Rock']\n",
      "['Acoustic', 'Alternative Rock']\n",
      "['Alternative Rock', 'Country Rock']\n",
      "['Alternative Rock', 'Pop Rock']\n",
      "['Alternative Rock', 'Acoustic', 'Pop Rock']\n",
      "['Hard Rock', 'Heavy Metal']\n",
      "['Blues Rock']\n",
      "['Glam', 'Nu Metal', 'Punk', 'Heavy Metal']\n",
      "['Rock & Roll']\n",
      "['Punk', 'Pop Rock', 'Indie Rock']\n",
      "['Psychedelic Rock', 'Avantgarde']\n",
      "['Indie Rock']\n",
      "['Indie Rock']\n",
      "['Blues Rock', 'Hard Rock', 'Fusion']\n",
      "['Acoustic', 'Experimental']\n",
      "['Industrial', 'Avantgarde', 'Experimental', 'Heavy Metal']\n",
      "['Pop Rock']\n",
      "['Alternative Rock']\n",
      "['Art Rock', 'Indie Rock']\n",
      "['Folk Rock', 'Acoustic', 'Folk']\n",
      "['Blues Rock', 'Classic Rock']\n",
      "['Alternative Rock', 'Garage Rock', 'Blues Rock', 'Conscious']\n",
      "['Alternative Rock', 'Indie Rock']\n",
      "['Pop Rock']\n",
      "['Country Rock']\n",
      "['Alternative Rock', 'Indie Rock']\n",
      "['Fusion']\n",
      "['Garage Rock', 'Hardcore', 'Punk']\n",
      "['Soft Rock', 'Pop Rock']\n",
      "['Alternative Rock', 'Indie Rock']\n",
      "['Folk Rock', 'Acoustic', 'Country Rock']\n",
      "['Ballad']\n",
      "['Pop Rock']\n",
      "['Alternative Rock', 'Hard Rock', 'Heavy Metal']\n",
      "['Acoustic', 'Parody']\n",
      "['Classic Rock']\n",
      "['Alternative Rock']\n",
      "['Alternative Rock']\n",
      "['Alternative Rock']\n",
      "['Soft Rock']\n",
      "['Blues Rock', 'Pop Rock']\n",
      "['Psychedelic Rock', 'Indie Rock']\n",
      "['Acoustic']\n",
      "['Soft Rock', 'Pop Rock', 'Vocal']\n",
      "['Pop Rock']\n",
      "['Classic Rock']\n",
      "['Alternative Rock']\n",
      "['Classic Rock']\n",
      "['Blues Rock', 'Classic Rock']\n",
      "['Classic Rock']\n",
      "['Classic Rock']\n",
      "['Alternative Rock']\n",
      "['Pop Rock']\n",
      "['Folk Rock', 'Acoustic']\n",
      "['Indie Rock']\n",
      "['Folk Rock', 'Blues Rock']\n",
      "['Classic Rock']\n",
      "['Folk Rock']\n",
      "['Post Rock', 'Indie Rock']\n",
      "['Blues Rock']\n",
      "['Pop Rock', 'Classic Rock']\n"
     ]
    }
   ],
   "source": [
    "df_styles_found = get_styles(df_styles_missing)"
   ]
  },
  {
   "cell_type": "code",
   "execution_count": 328,
   "metadata": {},
   "outputs": [
    {
     "data": {
      "text/html": [
       "<div>\n",
       "<style scoped>\n",
       "    .dataframe tbody tr th:only-of-type {\n",
       "        vertical-align: middle;\n",
       "    }\n",
       "\n",
       "    .dataframe tbody tr th {\n",
       "        vertical-align: top;\n",
       "    }\n",
       "\n",
       "    .dataframe thead th {\n",
       "        text-align: right;\n",
       "    }\n",
       "</style>\n",
       "<table border=\"1\" class=\"dataframe\">\n",
       "  <thead>\n",
       "    <tr style=\"text-align: right;\">\n",
       "      <th></th>\n",
       "      <th>master_id</th>\n",
       "      <th>styles</th>\n",
       "    </tr>\n",
       "  </thead>\n",
       "  <tbody>\n",
       "    <tr>\n",
       "      <th>0</th>\n",
       "      <td>3540907</td>\n",
       "      <td>NaN</td>\n",
       "    </tr>\n",
       "    <tr>\n",
       "      <th>1</th>\n",
       "      <td>3527840</td>\n",
       "      <td>[Alternative Rock]</td>\n",
       "    </tr>\n",
       "    <tr>\n",
       "      <th>2</th>\n",
       "      <td>3471745</td>\n",
       "      <td>[Dream Pop, Indie Pop, Lo-Fi]</td>\n",
       "    </tr>\n",
       "    <tr>\n",
       "      <th>3</th>\n",
       "      <td>3470389</td>\n",
       "      <td>[Prog Rock]</td>\n",
       "    </tr>\n",
       "    <tr>\n",
       "      <th>4</th>\n",
       "      <td>3469978</td>\n",
       "      <td>[Pop Punk]</td>\n",
       "    </tr>\n",
       "    <tr>\n",
       "      <th>...</th>\n",
       "      <td>...</td>\n",
       "      <td>...</td>\n",
       "    </tr>\n",
       "    <tr>\n",
       "      <th>210</th>\n",
       "      <td>30254</td>\n",
       "      <td>[Classic Rock]</td>\n",
       "    </tr>\n",
       "    <tr>\n",
       "      <th>211</th>\n",
       "      <td>27951</td>\n",
       "      <td>[Folk Rock]</td>\n",
       "    </tr>\n",
       "    <tr>\n",
       "      <th>212</th>\n",
       "      <td>20565</td>\n",
       "      <td>[Post Rock, Indie Rock]</td>\n",
       "    </tr>\n",
       "    <tr>\n",
       "      <th>213</th>\n",
       "      <td>14043</td>\n",
       "      <td>[Blues Rock]</td>\n",
       "    </tr>\n",
       "    <tr>\n",
       "      <th>214</th>\n",
       "      <td>11771</td>\n",
       "      <td>[Pop Rock, Classic Rock]</td>\n",
       "    </tr>\n",
       "  </tbody>\n",
       "</table>\n",
       "<p>215 rows × 2 columns</p>\n",
       "</div>"
      ],
      "text/plain": [
       "     master_id                         styles\n",
       "0      3540907                            NaN\n",
       "1      3527840             [Alternative Rock]\n",
       "2      3471745  [Dream Pop, Indie Pop, Lo-Fi]\n",
       "3      3470389                    [Prog Rock]\n",
       "4      3469978                     [Pop Punk]\n",
       "..         ...                            ...\n",
       "210      30254                 [Classic Rock]\n",
       "211      27951                    [Folk Rock]\n",
       "212      20565        [Post Rock, Indie Rock]\n",
       "213      14043                   [Blues Rock]\n",
       "214      11771       [Pop Rock, Classic Rock]\n",
       "\n",
       "[215 rows x 2 columns]"
      ]
     },
     "execution_count": 328,
     "metadata": {},
     "output_type": "execute_result"
    }
   ],
   "source": [
    "df_styles_found"
   ]
  },
  {
   "cell_type": "markdown",
   "metadata": {},
   "source": [
    "### **Replacing null values in ``df_styles_found``**"
   ]
  },
  {
   "cell_type": "code",
   "execution_count": 503,
   "metadata": {},
   "outputs": [
    {
     "data": {
      "text/plain": [
       "(15, 2)"
      ]
     },
     "execution_count": 503,
     "metadata": {},
     "output_type": "execute_result"
    }
   ],
   "source": [
    "# create a df with where style is a null value\n",
    "nulls = df_styles_found[df_styles_found['styles'].isna()]\n",
    "nulls.shape"
   ]
  },
  {
   "cell_type": "code",
   "execution_count": 507,
   "metadata": {},
   "outputs": [
    {
     "name": "stdout",
     "output_type": "stream",
     "text": [
      "df_styles_found['styles'] = np.where(df_styles_found['master_id']==3064604, '[Indie]', df_styles_found['styles'])\n",
      "df_styles_found['styles'] = np.where(df_styles_found['master_id']==2459566, '[Indie]', df_styles_found['styles'])\n",
      "df_styles_found['styles'] = np.where(df_styles_found['master_id']==2007316, '[Indie]', df_styles_found['styles'])\n",
      "df_styles_found['styles'] = np.where(df_styles_found['master_id']==1760531, '[Indie]', df_styles_found['styles'])\n",
      "df_styles_found['styles'] = np.where(df_styles_found['master_id']==1470386, '[Indie]', df_styles_found['styles'])\n",
      "df_styles_found['styles'] = np.where(df_styles_found['master_id']==1441419, '[Indie]', df_styles_found['styles'])\n",
      "df_styles_found['styles'] = np.where(df_styles_found['master_id']==1328043, '[Indie]', df_styles_found['styles'])\n",
      "df_styles_found['styles'] = np.where(df_styles_found['master_id']==1065693, '[Indie]', df_styles_found['styles'])\n",
      "df_styles_found['styles'] = np.where(df_styles_found['master_id']==994504, '[Indie]', df_styles_found['styles'])\n",
      "df_styles_found['styles'] = np.where(df_styles_found['master_id']==910041, '[Indie]', df_styles_found['styles'])\n",
      "df_styles_found['styles'] = np.where(df_styles_found['master_id']==886623, '[Indie]', df_styles_found['styles'])\n",
      "df_styles_found['styles'] = np.where(df_styles_found['master_id']==870411, '[Indie]', df_styles_found['styles'])\n",
      "df_styles_found['styles'] = np.where(df_styles_found['master_id']==853786, '[Indie]', df_styles_found['styles'])\n",
      "df_styles_found['styles'] = np.where(df_styles_found['master_id']==797067, '[Indie]', df_styles_found['styles'])\n",
      "df_styles_found['styles'] = np.where(df_styles_found['master_id']==687999, '[Indie]', df_styles_found['styles'])\n"
     ]
    }
   ],
   "source": [
    "# so I can print the np.where and I save time\n",
    "for master_id in nulls['master_id'].values:\n",
    "    print(f\"df_styles_found['styles'] = np.where(df_styles_found['master_id']=={master_id}, \"['Rock']\", df_styles_found['styles'])\")"
   ]
  },
  {
   "cell_type": "code",
   "execution_count": 584,
   "metadata": {},
   "outputs": [
    {
     "name": "stdout",
     "output_type": "stream",
     "text": [
      "Rows before dropping: 213\n",
      "Rows after dropping: 213\n"
     ]
    }
   ],
   "source": [
    "# looking on the internet for the style of these albums\n",
    "df_styles_found['styles'] = np.where(df_styles_found['master_id']==1433078, \"['Indie Rock']\", df_styles_found['styles'])\n",
    "df_styles_found[\"styles\"] = np.where(df_styles_found[\"master_id\"]==3540907, \"['Pop Rock']\", df_styles_found[\"styles\"])\n",
    "df_styles_found['styles'] = np.where(df_styles_found['master_id']==3064604, \"['Alternative Rock', 'Space Rock']\", df_styles_found['styles'])\n",
    "df_styles_found['styles'] = np.where(df_styles_found['master_id']==2459566, \"['Pop Rock']\", df_styles_found['styles'])\n",
    "df_styles_found['styles'] = np.where(df_styles_found['master_id']==2007316, \"['Alternative Rock']\", df_styles_found['styles'])\n",
    "df_styles_found['styles'] = np.where(df_styles_found['master_id']==1760531, \"['Post-Punk']\", df_styles_found['styles'])\n",
    "df_styles_found['styles'] = np.where(df_styles_found['master_id']==1470386, np.nan, df_styles_found['styles'])\n",
    "df_styles_found['styles'] = np.where(df_styles_found['master_id']==1441419, \"['Indie Rock']\", df_styles_found['styles'])\n",
    "df_styles_found['styles'] = np.where(df_styles_found['master_id']==1328043, \"['Alternative Rock']\", df_styles_found['styles'])\n",
    "df_styles_found['styles'] = np.where(df_styles_found['master_id']==1065693, \"['Progressive Metal']\", df_styles_found['styles'])\n",
    "df_styles_found['styles'] = np.where(df_styles_found['master_id']==994504, \"['Post-Punk']\", df_styles_found['styles'])\n",
    "df_styles_found['styles'] = np.where(df_styles_found['master_id']==910041, \"['Nu Metal']\", df_styles_found['styles'])\n",
    "df_styles_found['styles'] = np.where(df_styles_found['master_id']==886623, \"['Pop Rock']\", df_styles_found['styles'])\n",
    "df_styles_found['styles'] = np.where(df_styles_found['master_id']==870411, \"['Alternative Rock', 'Hard Rock']\", df_styles_found['styles'])\n",
    "df_styles_found['styles'] = np.where(df_styles_found['master_id']==853786, \"['Stoner Rock', 'Post-Hardcore']\", df_styles_found['styles'])\n",
    "df_styles_found['styles'] = np.where(df_styles_found['master_id']==797067, np.nan, df_styles_found['styles'])\n",
    "df_styles_found['styles'] = np.where(df_styles_found['master_id']==687999, \"['Alternative Rock', 'Pop Punk']\", df_styles_found['styles'])\n",
    "\n",
    "print(f\"Rows before dropping: {df_styles_found.shape[0]}\")\n",
    "df_styles_found.dropna(subset='styles', inplace=True)\n",
    "print(f\"Rows after dropping: {df_styles_found.shape[0]}\")"
   ]
  },
  {
   "cell_type": "code",
   "execution_count": 524,
   "metadata": {},
   "outputs": [
    {
     "data": {
      "text/html": [
       "<div>\n",
       "<style scoped>\n",
       "    .dataframe tbody tr th:only-of-type {\n",
       "        vertical-align: middle;\n",
       "    }\n",
       "\n",
       "    .dataframe tbody tr th {\n",
       "        vertical-align: top;\n",
       "    }\n",
       "\n",
       "    .dataframe thead th {\n",
       "        text-align: right;\n",
       "    }\n",
       "</style>\n",
       "<table border=\"1\" class=\"dataframe\">\n",
       "  <thead>\n",
       "    <tr style=\"text-align: right;\">\n",
       "      <th></th>\n",
       "      <th>artist_id</th>\n",
       "      <th>master_id</th>\n",
       "      <th>main_release_id</th>\n",
       "      <th>release_country</th>\n",
       "      <th>artist</th>\n",
       "      <th>title</th>\n",
       "      <th>year</th>\n",
       "      <th>album_length</th>\n",
       "      <th>tracks</th>\n",
       "      <th>release_type</th>\n",
       "      <th>genres</th>\n",
       "      <th>styles</th>\n",
       "      <th>artist_profile</th>\n",
       "    </tr>\n",
       "  </thead>\n",
       "  <tbody>\n",
       "    <tr>\n",
       "      <th>2144</th>\n",
       "      <td>3348883</td>\n",
       "      <td>687999</td>\n",
       "      <td>4683206</td>\n",
       "      <td>UK</td>\n",
       "      <td>Mallory Knox</td>\n",
       "      <td>Signals</td>\n",
       "      <td>2013</td>\n",
       "      <td>41.18</td>\n",
       "      <td>11</td>\n",
       "      <td>['Album']</td>\n",
       "      <td>['Rock']</td>\n",
       "      <td>[]</td>\n",
       "      <td>Mallory Knox is a four-piece alternative rock ...</td>\n",
       "    </tr>\n",
       "  </tbody>\n",
       "</table>\n",
       "</div>"
      ],
      "text/plain": [
       "      artist_id  master_id  main_release_id release_country        artist  \\\n",
       "2144    3348883     687999          4683206              UK  Mallory Knox   \n",
       "\n",
       "        title  year  album_length  tracks release_type    genres styles  \\\n",
       "2144  Signals  2013         41.18      11    ['Album']  ['Rock']     []   \n",
       "\n",
       "                                         artist_profile  \n",
       "2144  Mallory Knox is a four-piece alternative rock ...  "
      ]
     },
     "execution_count": 524,
     "metadata": {},
     "output_type": "execute_result"
    }
   ],
   "source": [
    "# look for the albums by the master_id\n",
    "df[df['master_id']==687999]"
   ]
  },
  {
   "cell_type": "code",
   "execution_count": 585,
   "metadata": {},
   "outputs": [],
   "source": [
    "# save it in a .csv just in case\n",
    "df_styles_found.to_csv('Datasets/df_styles_found.csv', index=False)"
   ]
  },
  {
   "cell_type": "code",
   "execution_count": 439,
   "metadata": {},
   "outputs": [],
   "source": [
    "# in case I have to import it again\n",
    "df_styles_found = pd.read_csv('Datasets/df_styles_found.csv')"
   ]
  },
  {
   "cell_type": "markdown",
   "metadata": {},
   "source": [
    "### **Changing the type of ``styles``**"
   ]
  },
  {
   "cell_type": "code",
   "execution_count": 440,
   "metadata": {},
   "outputs": [
    {
     "data": {
      "text/plain": [
       "(11429, 13)"
      ]
     },
     "execution_count": 440,
     "metadata": {},
     "output_type": "execute_result"
    }
   ],
   "source": [
    "df.shape"
   ]
  },
  {
   "cell_type": "code",
   "execution_count": 441,
   "metadata": {},
   "outputs": [
    {
     "data": {
      "text/plain": [
       "3582"
      ]
     },
     "execution_count": 441,
     "metadata": {},
     "output_type": "execute_result"
    }
   ],
   "source": [
    "df.styles.nunique()"
   ]
  },
  {
   "cell_type": "code",
   "execution_count": 442,
   "metadata": {},
   "outputs": [
    {
     "data": {
      "text/html": [
       "<div>\n",
       "<style scoped>\n",
       "    .dataframe tbody tr th:only-of-type {\n",
       "        vertical-align: middle;\n",
       "    }\n",
       "\n",
       "    .dataframe tbody tr th {\n",
       "        vertical-align: top;\n",
       "    }\n",
       "\n",
       "    .dataframe thead th {\n",
       "        text-align: right;\n",
       "    }\n",
       "</style>\n",
       "<table border=\"1\" class=\"dataframe\">\n",
       "  <thead>\n",
       "    <tr style=\"text-align: right;\">\n",
       "      <th></th>\n",
       "      <th>artist_id</th>\n",
       "      <th>master_id</th>\n",
       "      <th>main_release_id</th>\n",
       "      <th>release_country</th>\n",
       "      <th>artist</th>\n",
       "      <th>title</th>\n",
       "      <th>year</th>\n",
       "      <th>album_length</th>\n",
       "      <th>tracks</th>\n",
       "      <th>release_type</th>\n",
       "      <th>genres</th>\n",
       "      <th>styles</th>\n",
       "      <th>artist_profile</th>\n",
       "    </tr>\n",
       "  </thead>\n",
       "  <tbody>\n",
       "    <tr>\n",
       "      <th>0</th>\n",
       "      <td>15152368</td>\n",
       "      <td>3747909</td>\n",
       "      <td>31909420</td>\n",
       "      <td>NaN</td>\n",
       "      <td>As Living Arrows</td>\n",
       "      <td>Hope and Ruin</td>\n",
       "      <td>2024</td>\n",
       "      <td>0.0</td>\n",
       "      <td>8</td>\n",
       "      <td>['LP', 'Album']</td>\n",
       "      <td>['Rock']</td>\n",
       "      <td>['Post-Hardcore']</td>\n",
       "      <td>Post-screamo band from Brighton, UK\\r\\n</td>\n",
       "    </tr>\n",
       "    <tr>\n",
       "      <th>1</th>\n",
       "      <td>2190314</td>\n",
       "      <td>3731373</td>\n",
       "      <td>32952558</td>\n",
       "      <td>US</td>\n",
       "      <td>Just Surrender</td>\n",
       "      <td>Phoenix</td>\n",
       "      <td>2010</td>\n",
       "      <td>0.0</td>\n",
       "      <td>13</td>\n",
       "      <td>['Album']</td>\n",
       "      <td>['Rock']</td>\n",
       "      <td>['Alternative Rock', 'Pop Punk']</td>\n",
       "      <td>Band from Dover Plains, New York, formerly kno...</td>\n",
       "    </tr>\n",
       "  </tbody>\n",
       "</table>\n",
       "</div>"
      ],
      "text/plain": [
       "   artist_id  master_id  main_release_id release_country            artist  \\\n",
       "0   15152368    3747909         31909420             NaN  As Living Arrows   \n",
       "1    2190314    3731373         32952558              US    Just Surrender   \n",
       "\n",
       "           title  year  album_length  tracks     release_type    genres  \\\n",
       "0  Hope and Ruin  2024           0.0       8  ['LP', 'Album']  ['Rock']   \n",
       "1        Phoenix  2010           0.0      13        ['Album']  ['Rock']   \n",
       "\n",
       "                             styles  \\\n",
       "0                 ['Post-Hardcore']   \n",
       "1  ['Alternative Rock', 'Pop Punk']   \n",
       "\n",
       "                                      artist_profile  \n",
       "0           Post-screamo band from Brighton, UK\\r\\n   \n",
       "1  Band from Dover Plains, New York, formerly kno...  "
      ]
     },
     "execution_count": 442,
     "metadata": {},
     "output_type": "execute_result"
    }
   ],
   "source": [
    "df.head(2)"
   ]
  },
  {
   "cell_type": "markdown",
   "metadata": {},
   "source": [
    "**Separate ``df`` in 2 dataframes, one with the correct styles and the other df where ``styles = []``**"
   ]
  },
  {
   "cell_type": "code",
   "execution_count": 443,
   "metadata": {},
   "outputs": [
    {
     "data": {
      "text/html": [
       "<div>\n",
       "<style scoped>\n",
       "    .dataframe tbody tr th:only-of-type {\n",
       "        vertical-align: middle;\n",
       "    }\n",
       "\n",
       "    .dataframe tbody tr th {\n",
       "        vertical-align: top;\n",
       "    }\n",
       "\n",
       "    .dataframe thead th {\n",
       "        text-align: right;\n",
       "    }\n",
       "</style>\n",
       "<table border=\"1\" class=\"dataframe\">\n",
       "  <thead>\n",
       "    <tr style=\"text-align: right;\">\n",
       "      <th></th>\n",
       "      <th>artist_id</th>\n",
       "      <th>master_id</th>\n",
       "      <th>main_release_id</th>\n",
       "      <th>release_country</th>\n",
       "      <th>artist</th>\n",
       "      <th>title</th>\n",
       "      <th>year</th>\n",
       "      <th>album_length</th>\n",
       "      <th>tracks</th>\n",
       "      <th>release_type</th>\n",
       "      <th>genres</th>\n",
       "      <th>styles</th>\n",
       "      <th>artist_profile</th>\n",
       "    </tr>\n",
       "  </thead>\n",
       "  <tbody>\n",
       "    <tr>\n",
       "      <th>51</th>\n",
       "      <td>9657940</td>\n",
       "      <td>3540907</td>\n",
       "      <td>31203097</td>\n",
       "      <td>UK</td>\n",
       "      <td>Remi Wolf</td>\n",
       "      <td>Big Ideas</td>\n",
       "      <td>2024</td>\n",
       "      <td>43.18</td>\n",
       "      <td>13</td>\n",
       "      <td>['Album', 'Stereo']</td>\n",
       "      <td>['Rock', 'Pop']</td>\n",
       "      <td>[]</td>\n",
       "      <td>American singer-songwriter, born February 2, 1...</td>\n",
       "    </tr>\n",
       "    <tr>\n",
       "      <th>58</th>\n",
       "      <td>2727700</td>\n",
       "      <td>3527840</td>\n",
       "      <td>31083689</td>\n",
       "      <td>Worldwide</td>\n",
       "      <td>Imagine Dragons</td>\n",
       "      <td>LOOM</td>\n",
       "      <td>2024</td>\n",
       "      <td>31.45</td>\n",
       "      <td>10</td>\n",
       "      <td>['AAC', 'Album']</td>\n",
       "      <td>['Rock', 'Pop']</td>\n",
       "      <td>[]</td>\n",
       "      <td>Pop rock band from Nevada, US.\\r\\nFormed 2008\\...</td>\n",
       "    </tr>\n",
       "    <tr>\n",
       "      <th>80</th>\n",
       "      <td>7236492</td>\n",
       "      <td>3471745</td>\n",
       "      <td>30507286</td>\n",
       "      <td>US</td>\n",
       "      <td>Mk.Gee</td>\n",
       "      <td>Two Star and the Dream Police</td>\n",
       "      <td>2024</td>\n",
       "      <td>33.22</td>\n",
       "      <td>12</td>\n",
       "      <td>['LP', 'Album', 'Stereo']</td>\n",
       "      <td>['Rock', 'Pop']</td>\n",
       "      <td>[]</td>\n",
       "      <td>NaN</td>\n",
       "    </tr>\n",
       "    <tr>\n",
       "      <th>81</th>\n",
       "      <td>4423684</td>\n",
       "      <td>3470389</td>\n",
       "      <td>29692129</td>\n",
       "      <td>Worldwide</td>\n",
       "      <td>Vennart</td>\n",
       "      <td>Forgiveness and The Grain</td>\n",
       "      <td>2024</td>\n",
       "      <td>42.03</td>\n",
       "      <td>8</td>\n",
       "      <td>['MP3', 'Album']</td>\n",
       "      <td>['Rock']</td>\n",
       "      <td>[]</td>\n",
       "      <td>Collaborative project led by English electric ...</td>\n",
       "    </tr>\n",
       "    <tr>\n",
       "      <th>82</th>\n",
       "      <td>48263</td>\n",
       "      <td>3469978</td>\n",
       "      <td>30524809</td>\n",
       "      <td>US</td>\n",
       "      <td>Microwave</td>\n",
       "      <td>Let's Start Degeneracy</td>\n",
       "      <td>2024</td>\n",
       "      <td>0.00</td>\n",
       "      <td>11</td>\n",
       "      <td>['LP', 'Album', 'Limited Edition']</td>\n",
       "      <td>['Rock']</td>\n",
       "      <td>[]</td>\n",
       "      <td>Rock band from Atlanta, Georgia consisting of ...</td>\n",
       "    </tr>\n",
       "    <tr>\n",
       "      <th>...</th>\n",
       "      <td>...</td>\n",
       "      <td>...</td>\n",
       "      <td>...</td>\n",
       "      <td>...</td>\n",
       "      <td>...</td>\n",
       "      <td>...</td>\n",
       "      <td>...</td>\n",
       "      <td>...</td>\n",
       "      <td>...</td>\n",
       "      <td>...</td>\n",
       "      <td>...</td>\n",
       "      <td>...</td>\n",
       "      <td>...</td>\n",
       "    </tr>\n",
       "    <tr>\n",
       "      <th>10326</th>\n",
       "      <td>82294</td>\n",
       "      <td>14043</td>\n",
       "      <td>435679</td>\n",
       "      <td>US</td>\n",
       "      <td>Tom Waits</td>\n",
       "      <td>Foreign Affairs</td>\n",
       "      <td>1977</td>\n",
       "      <td>41.88</td>\n",
       "      <td>9</td>\n",
       "      <td>['LP', 'Album', 'Stereo']</td>\n",
       "      <td>['Jazz', 'Rock', 'Blues']</td>\n",
       "      <td>[]</td>\n",
       "      <td>Born December 7th. 1949, in Pomona, California...</td>\n",
       "    </tr>\n",
       "    <tr>\n",
       "      <th>10498</th>\n",
       "      <td>63332</td>\n",
       "      <td>11771</td>\n",
       "      <td>1813397</td>\n",
       "      <td>US</td>\n",
       "      <td>Lenny Kravitz</td>\n",
       "      <td>5</td>\n",
       "      <td>1998</td>\n",
       "      <td>66.42</td>\n",
       "      <td>13</td>\n",
       "      <td>['Album']</td>\n",
       "      <td>['Rock', 'Funk / Soul']</td>\n",
       "      <td>[]</td>\n",
       "      <td>American singer-songwriter, multi-instrumental...</td>\n",
       "    </tr>\n",
       "    <tr>\n",
       "      <th>11330</th>\n",
       "      <td>136201</td>\n",
       "      <td>0</td>\n",
       "      <td>17501914</td>\n",
       "      <td>UK</td>\n",
       "      <td>Heart</td>\n",
       "      <td>Little Queen</td>\n",
       "      <td>1977</td>\n",
       "      <td>39.00</td>\n",
       "      <td>10</td>\n",
       "      <td>['LP', 'Album']</td>\n",
       "      <td>['Rock']</td>\n",
       "      <td>[]</td>\n",
       "      <td>Rock group that was started in Seattle, in 196...</td>\n",
       "    </tr>\n",
       "    <tr>\n",
       "      <th>11331</th>\n",
       "      <td>6117976</td>\n",
       "      <td>0</td>\n",
       "      <td>10489702</td>\n",
       "      <td>US</td>\n",
       "      <td>Nirvana</td>\n",
       "      <td>Nirvana</td>\n",
       "      <td>1990</td>\n",
       "      <td>0.00</td>\n",
       "      <td>11</td>\n",
       "      <td>['Album']</td>\n",
       "      <td>['Rock']</td>\n",
       "      <td>[]</td>\n",
       "      <td>Nirvana is hard rock/AOR band, from Los Angele...</td>\n",
       "    </tr>\n",
       "    <tr>\n",
       "      <th>11365</th>\n",
       "      <td>4266257</td>\n",
       "      <td>0</td>\n",
       "      <td>6684240</td>\n",
       "      <td>US</td>\n",
       "      <td>Savage Garden</td>\n",
       "      <td>Savage Garden</td>\n",
       "      <td>1989</td>\n",
       "      <td>0.00</td>\n",
       "      <td>7</td>\n",
       "      <td>['Single Sided', 'Album']</td>\n",
       "      <td>['Rock']</td>\n",
       "      <td>[]</td>\n",
       "      <td>NaN</td>\n",
       "    </tr>\n",
       "  </tbody>\n",
       "</table>\n",
       "<p>218 rows × 13 columns</p>\n",
       "</div>"
      ],
      "text/plain": [
       "       artist_id  master_id  main_release_id release_country           artist  \\\n",
       "51       9657940    3540907         31203097              UK        Remi Wolf   \n",
       "58       2727700    3527840         31083689       Worldwide  Imagine Dragons   \n",
       "80       7236492    3471745         30507286              US           Mk.Gee   \n",
       "81       4423684    3470389         29692129       Worldwide          Vennart   \n",
       "82         48263    3469978         30524809              US        Microwave   \n",
       "...          ...        ...              ...             ...              ...   \n",
       "10326      82294      14043           435679              US        Tom Waits   \n",
       "10498      63332      11771          1813397              US    Lenny Kravitz   \n",
       "11330     136201          0         17501914              UK            Heart   \n",
       "11331    6117976          0         10489702              US          Nirvana   \n",
       "11365    4266257          0          6684240              US    Savage Garden   \n",
       "\n",
       "                               title  year  album_length  tracks  \\\n",
       "51                         Big Ideas  2024         43.18      13   \n",
       "58                              LOOM  2024         31.45      10   \n",
       "80     Two Star and the Dream Police  2024         33.22      12   \n",
       "81         Forgiveness and The Grain  2024         42.03       8   \n",
       "82            Let's Start Degeneracy  2024          0.00      11   \n",
       "...                              ...   ...           ...     ...   \n",
       "10326                Foreign Affairs  1977         41.88       9   \n",
       "10498                              5  1998         66.42      13   \n",
       "11330                   Little Queen  1977         39.00      10   \n",
       "11331                        Nirvana  1990          0.00      11   \n",
       "11365                  Savage Garden  1989          0.00       7   \n",
       "\n",
       "                             release_type                     genres styles  \\\n",
       "51                    ['Album', 'Stereo']            ['Rock', 'Pop']     []   \n",
       "58                       ['AAC', 'Album']            ['Rock', 'Pop']     []   \n",
       "80              ['LP', 'Album', 'Stereo']            ['Rock', 'Pop']     []   \n",
       "81                       ['MP3', 'Album']                   ['Rock']     []   \n",
       "82     ['LP', 'Album', 'Limited Edition']                   ['Rock']     []   \n",
       "...                                   ...                        ...    ...   \n",
       "10326           ['LP', 'Album', 'Stereo']  ['Jazz', 'Rock', 'Blues']     []   \n",
       "10498                           ['Album']    ['Rock', 'Funk / Soul']     []   \n",
       "11330                     ['LP', 'Album']                   ['Rock']     []   \n",
       "11331                           ['Album']                   ['Rock']     []   \n",
       "11365           ['Single Sided', 'Album']                   ['Rock']     []   \n",
       "\n",
       "                                          artist_profile  \n",
       "51     American singer-songwriter, born February 2, 1...  \n",
       "58     Pop rock band from Nevada, US.\\r\\nFormed 2008\\...  \n",
       "80                                                   NaN  \n",
       "81     Collaborative project led by English electric ...  \n",
       "82     Rock band from Atlanta, Georgia consisting of ...  \n",
       "...                                                  ...  \n",
       "10326  Born December 7th. 1949, in Pomona, California...  \n",
       "10498  American singer-songwriter, multi-instrumental...  \n",
       "11330  Rock group that was started in Seattle, in 196...  \n",
       "11331  Nirvana is hard rock/AOR band, from Los Angele...  \n",
       "11365                                                NaN  \n",
       "\n",
       "[218 rows x 13 columns]"
      ]
     },
     "execution_count": 443,
     "metadata": {},
     "output_type": "execute_result"
    }
   ],
   "source": [
    "df_styles_empty = df[df['styles']=='[]']\n",
    "df_styles_empty"
   ]
  },
  {
   "cell_type": "code",
   "execution_count": 444,
   "metadata": {},
   "outputs": [
    {
     "data": {
      "text/html": [
       "<div>\n",
       "<style scoped>\n",
       "    .dataframe tbody tr th:only-of-type {\n",
       "        vertical-align: middle;\n",
       "    }\n",
       "\n",
       "    .dataframe tbody tr th {\n",
       "        vertical-align: top;\n",
       "    }\n",
       "\n",
       "    .dataframe thead th {\n",
       "        text-align: right;\n",
       "    }\n",
       "</style>\n",
       "<table border=\"1\" class=\"dataframe\">\n",
       "  <thead>\n",
       "    <tr style=\"text-align: right;\">\n",
       "      <th></th>\n",
       "      <th>artist_id</th>\n",
       "      <th>master_id</th>\n",
       "      <th>main_release_id</th>\n",
       "      <th>release_country</th>\n",
       "      <th>artist</th>\n",
       "      <th>title</th>\n",
       "      <th>year</th>\n",
       "      <th>album_length</th>\n",
       "      <th>tracks</th>\n",
       "      <th>release_type</th>\n",
       "      <th>genres</th>\n",
       "      <th>styles</th>\n",
       "      <th>artist_profile</th>\n",
       "    </tr>\n",
       "  </thead>\n",
       "  <tbody>\n",
       "    <tr>\n",
       "      <th>0</th>\n",
       "      <td>15152368</td>\n",
       "      <td>3747909</td>\n",
       "      <td>31909420</td>\n",
       "      <td>NaN</td>\n",
       "      <td>As Living Arrows</td>\n",
       "      <td>Hope and Ruin</td>\n",
       "      <td>2024</td>\n",
       "      <td>0.00</td>\n",
       "      <td>8</td>\n",
       "      <td>['LP', 'Album']</td>\n",
       "      <td>['Rock']</td>\n",
       "      <td>['Post-Hardcore']</td>\n",
       "      <td>Post-screamo band from Brighton, UK\\r\\n</td>\n",
       "    </tr>\n",
       "    <tr>\n",
       "      <th>1</th>\n",
       "      <td>2190314</td>\n",
       "      <td>3731373</td>\n",
       "      <td>32952558</td>\n",
       "      <td>US</td>\n",
       "      <td>Just Surrender</td>\n",
       "      <td>Phoenix</td>\n",
       "      <td>2010</td>\n",
       "      <td>0.00</td>\n",
       "      <td>13</td>\n",
       "      <td>['Album']</td>\n",
       "      <td>['Rock']</td>\n",
       "      <td>['Alternative Rock', 'Pop Punk']</td>\n",
       "      <td>Band from Dover Plains, New York, formerly kno...</td>\n",
       "    </tr>\n",
       "    <tr>\n",
       "      <th>2</th>\n",
       "      <td>7333323</td>\n",
       "      <td>3685869</td>\n",
       "      <td>32557566</td>\n",
       "      <td>UK</td>\n",
       "      <td>Hidden Mothers</td>\n",
       "      <td>Erosion / Avulsion</td>\n",
       "      <td>2024</td>\n",
       "      <td>41.47</td>\n",
       "      <td>8</td>\n",
       "      <td>['LP']</td>\n",
       "      <td>['Rock']</td>\n",
       "      <td>['Blackgaze', 'Post-Hardcore', 'Post-Metal']</td>\n",
       "      <td>Post-black metal band from Sheffield, UK\\r\\n\\r...</td>\n",
       "    </tr>\n",
       "    <tr>\n",
       "      <th>3</th>\n",
       "      <td>3398500</td>\n",
       "      <td>3682731</td>\n",
       "      <td>32371239</td>\n",
       "      <td>US</td>\n",
       "      <td>Tiny Moving Parts</td>\n",
       "      <td>Deep in the Blue</td>\n",
       "      <td>2024</td>\n",
       "      <td>0.00</td>\n",
       "      <td>10</td>\n",
       "      <td>['LP', 'Album', 'Limited Edition']</td>\n",
       "      <td>['Rock']</td>\n",
       "      <td>['Emo', 'Math Rock', 'Pop Punk']</td>\n",
       "      <td>Trio from Benson, Minnesota. The band takes in...</td>\n",
       "    </tr>\n",
       "    <tr>\n",
       "      <th>4</th>\n",
       "      <td>2607662</td>\n",
       "      <td>3659271</td>\n",
       "      <td>32308731</td>\n",
       "      <td>US</td>\n",
       "      <td>Father John Misty</td>\n",
       "      <td>Mahashmashana</td>\n",
       "      <td>2024</td>\n",
       "      <td>0.00</td>\n",
       "      <td>8</td>\n",
       "      <td>['LP', 'Album', 'Club Edition', 'Limited Editi...</td>\n",
       "      <td>['Rock']</td>\n",
       "      <td>['Alternative Rock', 'Folk Rock']</td>\n",
       "      <td>American singer/songwriter originally from Roc...</td>\n",
       "    </tr>\n",
       "    <tr>\n",
       "      <th>...</th>\n",
       "      <td>...</td>\n",
       "      <td>...</td>\n",
       "      <td>...</td>\n",
       "      <td>...</td>\n",
       "      <td>...</td>\n",
       "      <td>...</td>\n",
       "      <td>...</td>\n",
       "      <td>...</td>\n",
       "      <td>...</td>\n",
       "      <td>...</td>\n",
       "      <td>...</td>\n",
       "      <td>...</td>\n",
       "      <td>...</td>\n",
       "    </tr>\n",
       "    <tr>\n",
       "      <th>11424</th>\n",
       "      <td>29890</td>\n",
       "      <td>0</td>\n",
       "      <td>11013751</td>\n",
       "      <td>UK</td>\n",
       "      <td>The Clash</td>\n",
       "      <td>The Clash</td>\n",
       "      <td>1977</td>\n",
       "      <td>34.85</td>\n",
       "      <td>14</td>\n",
       "      <td>['LP', 'Album']</td>\n",
       "      <td>['Rock']</td>\n",
       "      <td>['Punk']</td>\n",
       "      <td>Influential British punk rock group from west ...</td>\n",
       "    </tr>\n",
       "    <tr>\n",
       "      <th>11425</th>\n",
       "      <td>292633</td>\n",
       "      <td>0</td>\n",
       "      <td>2493108</td>\n",
       "      <td>US</td>\n",
       "      <td>Converge</td>\n",
       "      <td>Halo In A Haystack</td>\n",
       "      <td>1994</td>\n",
       "      <td>0.00</td>\n",
       "      <td>10</td>\n",
       "      <td>['LP', 'Album']</td>\n",
       "      <td>['Rock']</td>\n",
       "      <td>['Metalcore']</td>\n",
       "      <td>Converge is a hardcore punk and metal band tha...</td>\n",
       "    </tr>\n",
       "    <tr>\n",
       "      <th>11426</th>\n",
       "      <td>109320</td>\n",
       "      <td>0</td>\n",
       "      <td>11590028</td>\n",
       "      <td>US</td>\n",
       "      <td>Split Enz</td>\n",
       "      <td>Mental Notes</td>\n",
       "      <td>1976</td>\n",
       "      <td>41.88</td>\n",
       "      <td>10</td>\n",
       "      <td>['LP', 'Album', 'Stereo']</td>\n",
       "      <td>['Rock']</td>\n",
       "      <td>['Prog Rock']</td>\n",
       "      <td>Split Enz were a rock band from New Zealand fo...</td>\n",
       "    </tr>\n",
       "    <tr>\n",
       "      <th>11427</th>\n",
       "      <td>85929</td>\n",
       "      <td>0</td>\n",
       "      <td>9727763</td>\n",
       "      <td>UK</td>\n",
       "      <td>Kate Bush</td>\n",
       "      <td>Lionheart</td>\n",
       "      <td>1978</td>\n",
       "      <td>36.57</td>\n",
       "      <td>10</td>\n",
       "      <td>['LP', 'Album', 'Promo']</td>\n",
       "      <td>['Rock', 'Pop']</td>\n",
       "      <td>['Art Rock', 'Pop Rock', 'Ballad']</td>\n",
       "      <td>Highly distinctive singer/songwriter, born Jul...</td>\n",
       "    </tr>\n",
       "    <tr>\n",
       "      <th>11428</th>\n",
       "      <td>329937</td>\n",
       "      <td>0</td>\n",
       "      <td>15528737</td>\n",
       "      <td>US</td>\n",
       "      <td>Manilla Road</td>\n",
       "      <td>Crystal Logic</td>\n",
       "      <td>1983</td>\n",
       "      <td>0.00</td>\n",
       "      <td>9</td>\n",
       "      <td>['LP', 'Album']</td>\n",
       "      <td>['Rock']</td>\n",
       "      <td>['Heavy Metal']</td>\n",
       "      <td>Manilla Road was a Epic Metal band from Wichit...</td>\n",
       "    </tr>\n",
       "  </tbody>\n",
       "</table>\n",
       "<p>11211 rows × 13 columns</p>\n",
       "</div>"
      ],
      "text/plain": [
       "       artist_id  master_id  main_release_id release_country  \\\n",
       "0       15152368    3747909         31909420             NaN   \n",
       "1        2190314    3731373         32952558              US   \n",
       "2        7333323    3685869         32557566              UK   \n",
       "3        3398500    3682731         32371239              US   \n",
       "4        2607662    3659271         32308731              US   \n",
       "...          ...        ...              ...             ...   \n",
       "11424      29890          0         11013751              UK   \n",
       "11425     292633          0          2493108              US   \n",
       "11426     109320          0         11590028              US   \n",
       "11427      85929          0          9727763              UK   \n",
       "11428     329937          0         15528737              US   \n",
       "\n",
       "                  artist               title  year  album_length  tracks  \\\n",
       "0       As Living Arrows       Hope and Ruin  2024          0.00       8   \n",
       "1         Just Surrender             Phoenix  2010          0.00      13   \n",
       "2         Hidden Mothers  Erosion / Avulsion  2024         41.47       8   \n",
       "3      Tiny Moving Parts    Deep in the Blue  2024          0.00      10   \n",
       "4      Father John Misty       Mahashmashana  2024          0.00       8   \n",
       "...                  ...                 ...   ...           ...     ...   \n",
       "11424          The Clash           The Clash  1977         34.85      14   \n",
       "11425           Converge  Halo In A Haystack  1994          0.00      10   \n",
       "11426          Split Enz        Mental Notes  1976         41.88      10   \n",
       "11427          Kate Bush           Lionheart  1978         36.57      10   \n",
       "11428       Manilla Road       Crystal Logic  1983          0.00       9   \n",
       "\n",
       "                                            release_type           genres  \\\n",
       "0                                        ['LP', 'Album']         ['Rock']   \n",
       "1                                              ['Album']         ['Rock']   \n",
       "2                                                 ['LP']         ['Rock']   \n",
       "3                     ['LP', 'Album', 'Limited Edition']         ['Rock']   \n",
       "4      ['LP', 'Album', 'Club Edition', 'Limited Editi...         ['Rock']   \n",
       "...                                                  ...              ...   \n",
       "11424                                    ['LP', 'Album']         ['Rock']   \n",
       "11425                                    ['LP', 'Album']         ['Rock']   \n",
       "11426                          ['LP', 'Album', 'Stereo']         ['Rock']   \n",
       "11427                           ['LP', 'Album', 'Promo']  ['Rock', 'Pop']   \n",
       "11428                                    ['LP', 'Album']         ['Rock']   \n",
       "\n",
       "                                             styles  \\\n",
       "0                                 ['Post-Hardcore']   \n",
       "1                  ['Alternative Rock', 'Pop Punk']   \n",
       "2      ['Blackgaze', 'Post-Hardcore', 'Post-Metal']   \n",
       "3                  ['Emo', 'Math Rock', 'Pop Punk']   \n",
       "4                 ['Alternative Rock', 'Folk Rock']   \n",
       "...                                             ...   \n",
       "11424                                      ['Punk']   \n",
       "11425                                 ['Metalcore']   \n",
       "11426                                 ['Prog Rock']   \n",
       "11427            ['Art Rock', 'Pop Rock', 'Ballad']   \n",
       "11428                               ['Heavy Metal']   \n",
       "\n",
       "                                          artist_profile  \n",
       "0               Post-screamo band from Brighton, UK\\r\\n   \n",
       "1      Band from Dover Plains, New York, formerly kno...  \n",
       "2      Post-black metal band from Sheffield, UK\\r\\n\\r...  \n",
       "3      Trio from Benson, Minnesota. The band takes in...  \n",
       "4      American singer/songwriter originally from Roc...  \n",
       "...                                                  ...  \n",
       "11424  Influential British punk rock group from west ...  \n",
       "11425  Converge is a hardcore punk and metal band tha...  \n",
       "11426  Split Enz were a rock band from New Zealand fo...  \n",
       "11427  Highly distinctive singer/songwriter, born Jul...  \n",
       "11428  Manilla Road was a Epic Metal band from Wichit...  \n",
       "\n",
       "[11211 rows x 13 columns]"
      ]
     },
     "execution_count": 444,
     "metadata": {},
     "output_type": "execute_result"
    }
   ],
   "source": [
    "df_styles_good = df[df['styles']!='[]']\n",
    "df_styles_good"
   ]
  },
  {
   "cell_type": "markdown",
   "metadata": {},
   "source": [
    "It looks like they are lists, but actually..."
   ]
  },
  {
   "cell_type": "code",
   "execution_count": 445,
   "metadata": {},
   "outputs": [
    {
     "data": {
      "text/plain": [
       "str"
      ]
     },
     "execution_count": 445,
     "metadata": {},
     "output_type": "execute_result"
    }
   ],
   "source": [
    "type(df_styles_good.styles[0])"
   ]
  },
  {
   "cell_type": "code",
   "execution_count": 446,
   "metadata": {},
   "outputs": [
    {
     "data": {
      "text/plain": [
       "list"
      ]
     },
     "execution_count": 446,
     "metadata": {},
     "output_type": "execute_result"
    }
   ],
   "source": [
    "# convert these strings to lists\n",
    "df_styles_good.styles = df_styles_good.styles.apply(ast.literal_eval)\n",
    "type(df_styles_good.styles[0])"
   ]
  },
  {
   "cell_type": "code",
   "execution_count": 447,
   "metadata": {},
   "outputs": [
    {
     "data": {
      "text/html": [
       "<div>\n",
       "<style scoped>\n",
       "    .dataframe tbody tr th:only-of-type {\n",
       "        vertical-align: middle;\n",
       "    }\n",
       "\n",
       "    .dataframe tbody tr th {\n",
       "        vertical-align: top;\n",
       "    }\n",
       "\n",
       "    .dataframe thead th {\n",
       "        text-align: right;\n",
       "    }\n",
       "</style>\n",
       "<table border=\"1\" class=\"dataframe\">\n",
       "  <thead>\n",
       "    <tr style=\"text-align: right;\">\n",
       "      <th></th>\n",
       "      <th>artist_id</th>\n",
       "      <th>master_id</th>\n",
       "      <th>main_release_id</th>\n",
       "      <th>release_country</th>\n",
       "      <th>artist</th>\n",
       "      <th>title</th>\n",
       "      <th>year</th>\n",
       "      <th>album_length</th>\n",
       "      <th>tracks</th>\n",
       "      <th>release_type</th>\n",
       "      <th>genres</th>\n",
       "      <th>styles</th>\n",
       "      <th>artist_profile</th>\n",
       "    </tr>\n",
       "  </thead>\n",
       "  <tbody>\n",
       "    <tr>\n",
       "      <th>0</th>\n",
       "      <td>15152368</td>\n",
       "      <td>3747909</td>\n",
       "      <td>31909420</td>\n",
       "      <td>NaN</td>\n",
       "      <td>As Living Arrows</td>\n",
       "      <td>Hope and Ruin</td>\n",
       "      <td>2024</td>\n",
       "      <td>0.0</td>\n",
       "      <td>8</td>\n",
       "      <td>['LP', 'Album']</td>\n",
       "      <td>['Rock']</td>\n",
       "      <td>[Post-Hardcore]</td>\n",
       "      <td>Post-screamo band from Brighton, UK\\r\\n</td>\n",
       "    </tr>\n",
       "    <tr>\n",
       "      <th>1</th>\n",
       "      <td>2190314</td>\n",
       "      <td>3731373</td>\n",
       "      <td>32952558</td>\n",
       "      <td>US</td>\n",
       "      <td>Just Surrender</td>\n",
       "      <td>Phoenix</td>\n",
       "      <td>2010</td>\n",
       "      <td>0.0</td>\n",
       "      <td>13</td>\n",
       "      <td>['Album']</td>\n",
       "      <td>['Rock']</td>\n",
       "      <td>[Alternative Rock, Pop Punk]</td>\n",
       "      <td>Band from Dover Plains, New York, formerly kno...</td>\n",
       "    </tr>\n",
       "  </tbody>\n",
       "</table>\n",
       "</div>"
      ],
      "text/plain": [
       "   artist_id  master_id  main_release_id release_country            artist  \\\n",
       "0   15152368    3747909         31909420             NaN  As Living Arrows   \n",
       "1    2190314    3731373         32952558              US    Just Surrender   \n",
       "\n",
       "           title  year  album_length  tracks     release_type    genres  \\\n",
       "0  Hope and Ruin  2024           0.0       8  ['LP', 'Album']  ['Rock']   \n",
       "1        Phoenix  2010           0.0      13        ['Album']  ['Rock']   \n",
       "\n",
       "                         styles  \\\n",
       "0               [Post-Hardcore]   \n",
       "1  [Alternative Rock, Pop Punk]   \n",
       "\n",
       "                                      artist_profile  \n",
       "0           Post-screamo band from Brighton, UK\\r\\n   \n",
       "1  Band from Dover Plains, New York, formerly kno...  "
      ]
     },
     "execution_count": 447,
     "metadata": {},
     "output_type": "execute_result"
    }
   ],
   "source": [
    "df_styles_good.head(2)"
   ]
  },
  {
   "cell_type": "code",
   "execution_count": 448,
   "metadata": {},
   "outputs": [
    {
     "data": {
      "text/plain": [
       "styles\n",
       "[Indie Rock]          550\n",
       "[Alternative Rock]    489\n",
       "[Death Metal]         306\n",
       "[Heavy Metal]         287\n",
       "[Pop Rock]            266\n",
       "Name: count, dtype: int64"
      ]
     },
     "execution_count": 448,
     "metadata": {},
     "output_type": "execute_result"
    }
   ],
   "source": [
    "df_styles_good['styles'].value_counts().head()"
   ]
  },
  {
   "cell_type": "markdown",
   "metadata": {},
   "source": [
    "### **Merge with ``df_styles_found``**"
   ]
  },
  {
   "cell_type": "code",
   "execution_count": 544,
   "metadata": {},
   "outputs": [
    {
     "data": {
      "text/plain": [
       "Index(['artist_id', 'master_id', 'main_release_id', 'release_country',\n",
       "       'artist', 'title', 'year', 'album_length', 'tracks', 'release_type',\n",
       "       'genres', 'styles', 'artist_profile'],\n",
       "      dtype='object')"
      ]
     },
     "execution_count": 544,
     "metadata": {},
     "output_type": "execute_result"
    }
   ],
   "source": [
    "# to copy them for later sorting the columns in the merged df\n",
    "df_styles_empty.columns"
   ]
  },
  {
   "cell_type": "code",
   "execution_count": 587,
   "metadata": {},
   "outputs": [
    {
     "data": {
      "text/plain": [
       "(213, 13)"
      ]
     },
     "execution_count": 587,
     "metadata": {},
     "output_type": "execute_result"
    }
   ],
   "source": [
    "df_styles_merged = pd.merge(df_styles_empty, df_styles_found, on=['master_id'])\n",
    "df_styles_merged.drop(columns='styles_x', inplace=True)\n",
    "df_styles_merged.rename(columns={'styles_y': 'styles'}, inplace=True)\n",
    "\n",
    "# sort the columns\n",
    "list_of_columns = ['artist_id', 'master_id', 'main_release_id', 'release_country', 'artist', 'title', 'year',\n",
    "                   'album_length', 'tracks', 'release_type', 'genres', 'styles', 'artist_profile']\n",
    "df_styles_merged = df_styles_merged[list_of_columns]\n",
    "df_styles_merged.shape"
   ]
  },
  {
   "cell_type": "code",
   "execution_count": 546,
   "metadata": {},
   "outputs": [
    {
     "data": {
      "text/html": [
       "<div>\n",
       "<style scoped>\n",
       "    .dataframe tbody tr th:only-of-type {\n",
       "        vertical-align: middle;\n",
       "    }\n",
       "\n",
       "    .dataframe tbody tr th {\n",
       "        vertical-align: top;\n",
       "    }\n",
       "\n",
       "    .dataframe thead th {\n",
       "        text-align: right;\n",
       "    }\n",
       "</style>\n",
       "<table border=\"1\" class=\"dataframe\">\n",
       "  <thead>\n",
       "    <tr style=\"text-align: right;\">\n",
       "      <th></th>\n",
       "      <th>artist_id</th>\n",
       "      <th>master_id</th>\n",
       "      <th>main_release_id</th>\n",
       "      <th>release_country</th>\n",
       "      <th>artist</th>\n",
       "      <th>title</th>\n",
       "      <th>year</th>\n",
       "      <th>album_length</th>\n",
       "      <th>tracks</th>\n",
       "      <th>release_type</th>\n",
       "      <th>genres</th>\n",
       "      <th>styles</th>\n",
       "      <th>artist_profile</th>\n",
       "    </tr>\n",
       "  </thead>\n",
       "  <tbody>\n",
       "    <tr>\n",
       "      <th>109</th>\n",
       "      <td>256629</td>\n",
       "      <td>897370</td>\n",
       "      <td>7584880</td>\n",
       "      <td>US</td>\n",
       "      <td>Coheed and Cambria</td>\n",
       "      <td>The Color Before The Sun</td>\n",
       "      <td>2015</td>\n",
       "      <td>47.22</td>\n",
       "      <td>10</td>\n",
       "      <td>['Album', 'Stereo']</td>\n",
       "      <td>['Rock']</td>\n",
       "      <td>['Alternative Rock']</td>\n",
       "      <td>A progressive rock band based out of Nyack and...</td>\n",
       "    </tr>\n",
       "    <tr>\n",
       "      <th>160</th>\n",
       "      <td>286546</td>\n",
       "      <td>292999</td>\n",
       "      <td>2324957</td>\n",
       "      <td>Germany</td>\n",
       "      <td>Peter Criss</td>\n",
       "      <td>Let Me Rock You</td>\n",
       "      <td>1982</td>\n",
       "      <td>0.00</td>\n",
       "      <td>10</td>\n",
       "      <td>['LP', 'Album']</td>\n",
       "      <td>['Rock']</td>\n",
       "      <td>['Rock &amp; Roll']</td>\n",
       "      <td>George Peter John Criscuola (born December 20,...</td>\n",
       "    </tr>\n",
       "    <tr>\n",
       "      <th>38</th>\n",
       "      <td>11073</td>\n",
       "      <td>1601626</td>\n",
       "      <td>14089728</td>\n",
       "      <td>US</td>\n",
       "      <td>Iggy Pop</td>\n",
       "      <td>Free</td>\n",
       "      <td>2019</td>\n",
       "      <td>33.38</td>\n",
       "      <td>10</td>\n",
       "      <td>['Album']</td>\n",
       "      <td>['Jazz', 'Rock']</td>\n",
       "      <td>['Pop Rock']</td>\n",
       "      <td>American singer, songwriter, musician and acto...</td>\n",
       "    </tr>\n",
       "  </tbody>\n",
       "</table>\n",
       "</div>"
      ],
      "text/plain": [
       "     artist_id  master_id  main_release_id release_country  \\\n",
       "109     256629     897370          7584880              US   \n",
       "160     286546     292999          2324957         Germany   \n",
       "38       11073    1601626         14089728              US   \n",
       "\n",
       "                 artist                     title  year  album_length  tracks  \\\n",
       "109  Coheed and Cambria  The Color Before The Sun  2015         47.22      10   \n",
       "160         Peter Criss           Let Me Rock You  1982          0.00      10   \n",
       "38             Iggy Pop                      Free  2019         33.38      10   \n",
       "\n",
       "            release_type            genres                styles  \\\n",
       "109  ['Album', 'Stereo']          ['Rock']  ['Alternative Rock']   \n",
       "160      ['LP', 'Album']          ['Rock']       ['Rock & Roll']   \n",
       "38             ['Album']  ['Jazz', 'Rock']          ['Pop Rock']   \n",
       "\n",
       "                                        artist_profile  \n",
       "109  A progressive rock band based out of Nyack and...  \n",
       "160  George Peter John Criscuola (born December 20,...  \n",
       "38   American singer, songwriter, musician and acto...  "
      ]
     },
     "execution_count": 546,
     "metadata": {},
     "output_type": "execute_result"
    }
   ],
   "source": [
    "# check everything is fine\n",
    "df_styles_merged.sample(3)"
   ]
  },
  {
   "cell_type": "markdown",
   "metadata": {},
   "source": [
    "### **Albums where ``master_id = 0``**"
   ]
  },
  {
   "cell_type": "code",
   "execution_count": 452,
   "metadata": {},
   "outputs": [
    {
     "data": {
      "text/html": [
       "<div>\n",
       "<style scoped>\n",
       "    .dataframe tbody tr th:only-of-type {\n",
       "        vertical-align: middle;\n",
       "    }\n",
       "\n",
       "    .dataframe tbody tr th {\n",
       "        vertical-align: top;\n",
       "    }\n",
       "\n",
       "    .dataframe thead th {\n",
       "        text-align: right;\n",
       "    }\n",
       "</style>\n",
       "<table border=\"1\" class=\"dataframe\">\n",
       "  <thead>\n",
       "    <tr style=\"text-align: right;\">\n",
       "      <th></th>\n",
       "      <th>artist_id</th>\n",
       "      <th>master_id</th>\n",
       "      <th>main_release_id</th>\n",
       "      <th>release_country</th>\n",
       "      <th>artist</th>\n",
       "      <th>title</th>\n",
       "      <th>year</th>\n",
       "      <th>album_length</th>\n",
       "      <th>tracks</th>\n",
       "      <th>release_type</th>\n",
       "      <th>genres</th>\n",
       "      <th>styles</th>\n",
       "      <th>artist_profile</th>\n",
       "    </tr>\n",
       "  </thead>\n",
       "  <tbody>\n",
       "    <tr>\n",
       "      <th>11330</th>\n",
       "      <td>136201</td>\n",
       "      <td>0</td>\n",
       "      <td>17501914</td>\n",
       "      <td>UK</td>\n",
       "      <td>Heart</td>\n",
       "      <td>Little Queen</td>\n",
       "      <td>1977</td>\n",
       "      <td>39.0</td>\n",
       "      <td>10</td>\n",
       "      <td>['LP', 'Album']</td>\n",
       "      <td>['Rock']</td>\n",
       "      <td>[]</td>\n",
       "      <td>Rock group that was started in Seattle, in 196...</td>\n",
       "    </tr>\n",
       "    <tr>\n",
       "      <th>11331</th>\n",
       "      <td>6117976</td>\n",
       "      <td>0</td>\n",
       "      <td>10489702</td>\n",
       "      <td>US</td>\n",
       "      <td>Nirvana</td>\n",
       "      <td>Nirvana</td>\n",
       "      <td>1990</td>\n",
       "      <td>0.0</td>\n",
       "      <td>11</td>\n",
       "      <td>['Album']</td>\n",
       "      <td>['Rock']</td>\n",
       "      <td>[]</td>\n",
       "      <td>Nirvana is hard rock/AOR band, from Los Angele...</td>\n",
       "    </tr>\n",
       "    <tr>\n",
       "      <th>11365</th>\n",
       "      <td>4266257</td>\n",
       "      <td>0</td>\n",
       "      <td>6684240</td>\n",
       "      <td>US</td>\n",
       "      <td>Savage Garden</td>\n",
       "      <td>Savage Garden</td>\n",
       "      <td>1989</td>\n",
       "      <td>0.0</td>\n",
       "      <td>7</td>\n",
       "      <td>['Single Sided', 'Album']</td>\n",
       "      <td>['Rock']</td>\n",
       "      <td>[]</td>\n",
       "      <td>NaN</td>\n",
       "    </tr>\n",
       "  </tbody>\n",
       "</table>\n",
       "</div>"
      ],
      "text/plain": [
       "       artist_id  master_id  main_release_id release_country         artist  \\\n",
       "11330     136201          0         17501914              UK          Heart   \n",
       "11331    6117976          0         10489702              US        Nirvana   \n",
       "11365    4266257          0          6684240              US  Savage Garden   \n",
       "\n",
       "               title  year  album_length  tracks               release_type  \\\n",
       "11330   Little Queen  1977          39.0      10            ['LP', 'Album']   \n",
       "11331        Nirvana  1990           0.0      11                  ['Album']   \n",
       "11365  Savage Garden  1989           0.0       7  ['Single Sided', 'Album']   \n",
       "\n",
       "         genres styles                                     artist_profile  \n",
       "11330  ['Rock']     []  Rock group that was started in Seattle, in 196...  \n",
       "11331  ['Rock']     []  Nirvana is hard rock/AOR band, from Los Angele...  \n",
       "11365  ['Rock']     []                                                NaN  "
      ]
     },
     "execution_count": 452,
     "metadata": {},
     "output_type": "execute_result"
    }
   ],
   "source": [
    "# create a subset with the albums where master_id = 0 and style is empty. These albums I cannot find the styles for other releases because the master_id = 0\n",
    "df_styles_empty_id0 = df_styles_empty[df_styles_empty['master_id']==0]\n",
    "df_styles_empty_id0"
   ]
  },
  {
   "cell_type": "code",
   "execution_count": 453,
   "metadata": {},
   "outputs": [],
   "source": [
    "# looking on the internet for the style of these albums\n",
    "df_styles_empty_id0.loc[11330, 'styles'] = '[Hard Rock, Folk Rock, Pop Rock]'"
   ]
  },
  {
   "cell_type": "code",
   "execution_count": 416,
   "metadata": {},
   "outputs": [
    {
     "data": {
      "text/html": [
       "<div>\n",
       "<style scoped>\n",
       "    .dataframe tbody tr th:only-of-type {\n",
       "        vertical-align: middle;\n",
       "    }\n",
       "\n",
       "    .dataframe tbody tr th {\n",
       "        vertical-align: top;\n",
       "    }\n",
       "\n",
       "    .dataframe thead th {\n",
       "        text-align: right;\n",
       "    }\n",
       "</style>\n",
       "<table border=\"1\" class=\"dataframe\">\n",
       "  <thead>\n",
       "    <tr style=\"text-align: right;\">\n",
       "      <th></th>\n",
       "      <th>artist_id</th>\n",
       "      <th>master_id</th>\n",
       "      <th>main_release_id</th>\n",
       "      <th>release_country</th>\n",
       "      <th>artist</th>\n",
       "      <th>title</th>\n",
       "      <th>year</th>\n",
       "      <th>album_length</th>\n",
       "      <th>tracks</th>\n",
       "      <th>release_type</th>\n",
       "      <th>genres</th>\n",
       "      <th>styles</th>\n",
       "      <th>artist_profile</th>\n",
       "    </tr>\n",
       "  </thead>\n",
       "  <tbody>\n",
       "    <tr>\n",
       "      <th>8373</th>\n",
       "      <td>125246</td>\n",
       "      <td>42473</td>\n",
       "      <td>367273</td>\n",
       "      <td>US</td>\n",
       "      <td>Nirvana</td>\n",
       "      <td>From the Muddy Banks of the Wishkah</td>\n",
       "      <td>1996</td>\n",
       "      <td>53.92</td>\n",
       "      <td>17</td>\n",
       "      <td>['Album']</td>\n",
       "      <td>['Rock']</td>\n",
       "      <td>['Grunge']</td>\n",
       "      <td>Rock band from Aberdeen, Washington, USA, form...</td>\n",
       "    </tr>\n",
       "    <tr>\n",
       "      <th>10334</th>\n",
       "      <td>125246</td>\n",
       "      <td>13859</td>\n",
       "      <td>375979</td>\n",
       "      <td>US</td>\n",
       "      <td>Nirvana</td>\n",
       "      <td>In Utero</td>\n",
       "      <td>1993</td>\n",
       "      <td>41.00</td>\n",
       "      <td>12</td>\n",
       "      <td>['Album']</td>\n",
       "      <td>['Rock']</td>\n",
       "      <td>['Grunge', 'Alternative Rock']</td>\n",
       "      <td>Rock band from Aberdeen, Washington, USA, form...</td>\n",
       "    </tr>\n",
       "    <tr>\n",
       "      <th>10339</th>\n",
       "      <td>125246</td>\n",
       "      <td>13814</td>\n",
       "      <td>367084</td>\n",
       "      <td>US</td>\n",
       "      <td>Nirvana</td>\n",
       "      <td>Nevermind</td>\n",
       "      <td>1991</td>\n",
       "      <td>42.53</td>\n",
       "      <td>12</td>\n",
       "      <td>['Album', 'Mispress']</td>\n",
       "      <td>['Rock']</td>\n",
       "      <td>['Grunge']</td>\n",
       "      <td>Rock band from Aberdeen, Washington, USA, form...</td>\n",
       "    </tr>\n",
       "    <tr>\n",
       "      <th>10343</th>\n",
       "      <td>125246</td>\n",
       "      <td>13773</td>\n",
       "      <td>2795554</td>\n",
       "      <td>US</td>\n",
       "      <td>Nirvana</td>\n",
       "      <td>Bleach</td>\n",
       "      <td>1989</td>\n",
       "      <td>0.00</td>\n",
       "      <td>11</td>\n",
       "      <td>['LP', 'Album', 'Limited Edition']</td>\n",
       "      <td>['Rock']</td>\n",
       "      <td>['Grunge']</td>\n",
       "      <td>Rock band from Aberdeen, Washington, USA, form...</td>\n",
       "    </tr>\n",
       "    <tr>\n",
       "      <th>11331</th>\n",
       "      <td>6117976</td>\n",
       "      <td>0</td>\n",
       "      <td>10489702</td>\n",
       "      <td>US</td>\n",
       "      <td>Nirvana</td>\n",
       "      <td>Nirvana</td>\n",
       "      <td>1990</td>\n",
       "      <td>0.00</td>\n",
       "      <td>11</td>\n",
       "      <td>['Album']</td>\n",
       "      <td>['Rock']</td>\n",
       "      <td>[]</td>\n",
       "      <td>Nirvana is hard rock/AOR band, from Los Angele...</td>\n",
       "    </tr>\n",
       "  </tbody>\n",
       "</table>\n",
       "</div>"
      ],
      "text/plain": [
       "       artist_id  master_id  main_release_id release_country   artist  \\\n",
       "8373      125246      42473           367273              US  Nirvana   \n",
       "10334     125246      13859           375979              US  Nirvana   \n",
       "10339     125246      13814           367084              US  Nirvana   \n",
       "10343     125246      13773          2795554              US  Nirvana   \n",
       "11331    6117976          0         10489702              US  Nirvana   \n",
       "\n",
       "                                     title  year  album_length  tracks  \\\n",
       "8373   From the Muddy Banks of the Wishkah  1996         53.92      17   \n",
       "10334                             In Utero  1993         41.00      12   \n",
       "10339                            Nevermind  1991         42.53      12   \n",
       "10343                               Bleach  1989          0.00      11   \n",
       "11331                              Nirvana  1990          0.00      11   \n",
       "\n",
       "                             release_type    genres  \\\n",
       "8373                            ['Album']  ['Rock']   \n",
       "10334                           ['Album']  ['Rock']   \n",
       "10339               ['Album', 'Mispress']  ['Rock']   \n",
       "10343  ['LP', 'Album', 'Limited Edition']  ['Rock']   \n",
       "11331                           ['Album']  ['Rock']   \n",
       "\n",
       "                               styles  \\\n",
       "8373                       ['Grunge']   \n",
       "10334  ['Grunge', 'Alternative Rock']   \n",
       "10339                      ['Grunge']   \n",
       "10343                      ['Grunge']   \n",
       "11331                              []   \n",
       "\n",
       "                                          artist_profile  \n",
       "8373   Rock band from Aberdeen, Washington, USA, form...  \n",
       "10334  Rock band from Aberdeen, Washington, USA, form...  \n",
       "10339  Rock band from Aberdeen, Washington, USA, form...  \n",
       "10343  Rock band from Aberdeen, Washington, USA, form...  \n",
       "11331  Nirvana is hard rock/AOR band, from Los Angele...  "
      ]
     },
     "execution_count": 416,
     "metadata": {},
     "output_type": "execute_result"
    }
   ],
   "source": [
    "df[df['artist']=='Nirvana']"
   ]
  },
  {
   "cell_type": "code",
   "execution_count": 417,
   "metadata": {},
   "outputs": [
    {
     "data": {
      "text/plain": [
       "'Nirvana is hard rock/AOR band, from Los Angeles, California, USA. Not to be confused with the grunge band [a=Nirvana] from Washington.\\r\\n\\r\\nThis band features Bert Klugkist, Mark Wiggins, Erik Wiggins and Rick Obradors.'"
      ]
     },
     "execution_count": 417,
     "metadata": {},
     "output_type": "execute_result"
    }
   ],
   "source": [
    "df.loc[11331, 'artist_profile']"
   ]
  },
  {
   "cell_type": "code",
   "execution_count": 454,
   "metadata": {},
   "outputs": [],
   "source": [
    "# it's not the Nirvana we all know, it's a different band and I cannot even find any information about this band outside Discogs, so I drop it\n",
    "df_styles_empty_id0.drop(11331, axis=0, inplace=True)"
   ]
  },
  {
   "cell_type": "code",
   "execution_count": 455,
   "metadata": {},
   "outputs": [
    {
     "data": {
      "text/html": [
       "<div>\n",
       "<style scoped>\n",
       "    .dataframe tbody tr th:only-of-type {\n",
       "        vertical-align: middle;\n",
       "    }\n",
       "\n",
       "    .dataframe tbody tr th {\n",
       "        vertical-align: top;\n",
       "    }\n",
       "\n",
       "    .dataframe thead th {\n",
       "        text-align: right;\n",
       "    }\n",
       "</style>\n",
       "<table border=\"1\" class=\"dataframe\">\n",
       "  <thead>\n",
       "    <tr style=\"text-align: right;\">\n",
       "      <th></th>\n",
       "      <th>artist_id</th>\n",
       "      <th>master_id</th>\n",
       "      <th>main_release_id</th>\n",
       "      <th>release_country</th>\n",
       "      <th>artist</th>\n",
       "      <th>title</th>\n",
       "      <th>year</th>\n",
       "      <th>album_length</th>\n",
       "      <th>tracks</th>\n",
       "      <th>release_type</th>\n",
       "      <th>genres</th>\n",
       "      <th>styles</th>\n",
       "      <th>artist_profile</th>\n",
       "    </tr>\n",
       "  </thead>\n",
       "  <tbody>\n",
       "    <tr>\n",
       "      <th>11365</th>\n",
       "      <td>4266257</td>\n",
       "      <td>0</td>\n",
       "      <td>6684240</td>\n",
       "      <td>US</td>\n",
       "      <td>Savage Garden</td>\n",
       "      <td>Savage Garden</td>\n",
       "      <td>1989</td>\n",
       "      <td>0.0</td>\n",
       "      <td>7</td>\n",
       "      <td>['Single Sided', 'Album']</td>\n",
       "      <td>['Rock']</td>\n",
       "      <td>[]</td>\n",
       "      <td>NaN</td>\n",
       "    </tr>\n",
       "  </tbody>\n",
       "</table>\n",
       "</div>"
      ],
      "text/plain": [
       "       artist_id  master_id  main_release_id release_country         artist  \\\n",
       "11365    4266257          0          6684240              US  Savage Garden   \n",
       "\n",
       "               title  year  album_length  tracks               release_type  \\\n",
       "11365  Savage Garden  1989           0.0       7  ['Single Sided', 'Album']   \n",
       "\n",
       "         genres styles artist_profile  \n",
       "11365  ['Rock']     []            NaN  "
      ]
     },
     "execution_count": 455,
     "metadata": {},
     "output_type": "execute_result"
    }
   ],
   "source": [
    "df[df['artist']=='Savage Garden']"
   ]
  },
  {
   "cell_type": "code",
   "execution_count": 456,
   "metadata": {},
   "outputs": [],
   "source": [
    "# I can only find a band named like this, but the album is from 1997 (strange). Anyway, they are Australian, so I drop it\n",
    "df_styles_empty_id0.drop(11365, axis=0, inplace=True)"
   ]
  },
  {
   "cell_type": "code",
   "execution_count": 457,
   "metadata": {},
   "outputs": [
    {
     "data": {
      "text/html": [
       "<div>\n",
       "<style scoped>\n",
       "    .dataframe tbody tr th:only-of-type {\n",
       "        vertical-align: middle;\n",
       "    }\n",
       "\n",
       "    .dataframe tbody tr th {\n",
       "        vertical-align: top;\n",
       "    }\n",
       "\n",
       "    .dataframe thead th {\n",
       "        text-align: right;\n",
       "    }\n",
       "</style>\n",
       "<table border=\"1\" class=\"dataframe\">\n",
       "  <thead>\n",
       "    <tr style=\"text-align: right;\">\n",
       "      <th></th>\n",
       "      <th>artist_id</th>\n",
       "      <th>master_id</th>\n",
       "      <th>main_release_id</th>\n",
       "      <th>release_country</th>\n",
       "      <th>artist</th>\n",
       "      <th>title</th>\n",
       "      <th>year</th>\n",
       "      <th>album_length</th>\n",
       "      <th>tracks</th>\n",
       "      <th>release_type</th>\n",
       "      <th>genres</th>\n",
       "      <th>styles</th>\n",
       "      <th>artist_profile</th>\n",
       "    </tr>\n",
       "  </thead>\n",
       "  <tbody>\n",
       "    <tr>\n",
       "      <th>11330</th>\n",
       "      <td>136201</td>\n",
       "      <td>0</td>\n",
       "      <td>17501914</td>\n",
       "      <td>UK</td>\n",
       "      <td>Heart</td>\n",
       "      <td>Little Queen</td>\n",
       "      <td>1977</td>\n",
       "      <td>39.0</td>\n",
       "      <td>10</td>\n",
       "      <td>['LP', 'Album']</td>\n",
       "      <td>['Rock']</td>\n",
       "      <td>[Hard Rock, Folk Rock, Pop Rock]</td>\n",
       "      <td>Rock group that was started in Seattle, in 196...</td>\n",
       "    </tr>\n",
       "  </tbody>\n",
       "</table>\n",
       "</div>"
      ],
      "text/plain": [
       "       artist_id  master_id  main_release_id release_country artist  \\\n",
       "11330     136201          0         17501914              UK  Heart   \n",
       "\n",
       "              title  year  album_length  tracks     release_type    genres  \\\n",
       "11330  Little Queen  1977          39.0      10  ['LP', 'Album']  ['Rock']   \n",
       "\n",
       "                                 styles  \\\n",
       "11330  [Hard Rock, Folk Rock, Pop Rock]   \n",
       "\n",
       "                                          artist_profile  \n",
       "11330  Rock group that was started in Seattle, in 196...  "
      ]
     },
     "execution_count": 457,
     "metadata": {},
     "output_type": "execute_result"
    }
   ],
   "source": [
    "df_styles_empty_id0"
   ]
  },
  {
   "cell_type": "markdown",
   "metadata": {},
   "source": [
    "### **Concat ``df_styles_good`` with ``df_styles_merged`` and ``df_styles_empty_id0``**"
   ]
  },
  {
   "cell_type": "code",
   "execution_count": 559,
   "metadata": {},
   "outputs": [
    {
     "data": {
      "text/plain": [
       "str"
      ]
     },
     "execution_count": 559,
     "metadata": {},
     "output_type": "execute_result"
    }
   ],
   "source": [
    "type(df_styles_merged.styles[0]) # each element should be a list"
   ]
  },
  {
   "cell_type": "code",
   "execution_count": 589,
   "metadata": {},
   "outputs": [
    {
     "data": {
      "text/plain": [
       "list"
      ]
     },
     "execution_count": 589,
     "metadata": {},
     "output_type": "execute_result"
    }
   ],
   "source": [
    "# convert these strings to lists\n",
    "df_styles_merged.styles = df_styles_merged.styles.apply(ast.literal_eval)\n",
    "type(df_styles_merged.styles[0])"
   ]
  },
  {
   "cell_type": "code",
   "execution_count": 590,
   "metadata": {},
   "outputs": [
    {
     "data": {
      "text/plain": [
       "(11425, 13)"
      ]
     },
     "execution_count": 590,
     "metadata": {},
     "output_type": "execute_result"
    }
   ],
   "source": [
    "df_masters_blended = pd.concat([df_styles_good, df_styles_merged, df_styles_empty_id0])\n",
    "df_masters_blended.shape"
   ]
  },
  {
   "cell_type": "code",
   "execution_count": 595,
   "metadata": {},
   "outputs": [
    {
     "data": {
      "text/plain": [
       "styles\n",
       "[Indie Rock]          550\n",
       "[Alternative Rock]    489\n",
       "[Death Metal]         306\n",
       "[Heavy Metal]         287\n",
       "[Pop Rock]            266\n",
       "Name: count, dtype: int64"
      ]
     },
     "execution_count": 595,
     "metadata": {},
     "output_type": "execute_result"
    }
   ],
   "source": [
    "df_styles_good['styles'].value_counts().head()"
   ]
  },
  {
   "cell_type": "code",
   "execution_count": 596,
   "metadata": {},
   "outputs": [
    {
     "data": {
      "text/plain": [
       "styles\n",
       "[Indie Rock]          576\n",
       "[Alternative Rock]    525\n",
       "[Death Metal]         306\n",
       "[Heavy Metal]         287\n",
       "[Pop Rock]            279\n",
       "Name: count, dtype: int64"
      ]
     },
     "execution_count": 596,
     "metadata": {},
     "output_type": "execute_result"
    }
   ],
   "source": [
    "df_masters_blended['styles'].value_counts().head()"
   ]
  },
  {
   "cell_type": "markdown",
   "metadata": {},
   "source": [
    "By printing the ``value_counts()`` of each dataframe I make sure the albums that had ``styles = []`` are now included, we can see the count has increased"
   ]
  },
  {
   "cell_type": "code",
   "execution_count": 597,
   "metadata": {},
   "outputs": [
    {
     "data": {
      "text/html": [
       "<div>\n",
       "<style scoped>\n",
       "    .dataframe tbody tr th:only-of-type {\n",
       "        vertical-align: middle;\n",
       "    }\n",
       "\n",
       "    .dataframe tbody tr th {\n",
       "        vertical-align: top;\n",
       "    }\n",
       "\n",
       "    .dataframe thead th {\n",
       "        text-align: right;\n",
       "    }\n",
       "</style>\n",
       "<table border=\"1\" class=\"dataframe\">\n",
       "  <thead>\n",
       "    <tr style=\"text-align: right;\">\n",
       "      <th></th>\n",
       "      <th>artist_id</th>\n",
       "      <th>master_id</th>\n",
       "      <th>main_release_id</th>\n",
       "      <th>release_country</th>\n",
       "      <th>artist</th>\n",
       "      <th>title</th>\n",
       "      <th>year</th>\n",
       "      <th>album_length</th>\n",
       "      <th>tracks</th>\n",
       "      <th>release_type</th>\n",
       "      <th>genres</th>\n",
       "      <th>styles</th>\n",
       "      <th>artist_profile</th>\n",
       "    </tr>\n",
       "  </thead>\n",
       "  <tbody>\n",
       "    <tr>\n",
       "      <th>0</th>\n",
       "      <td>15152368</td>\n",
       "      <td>3747909</td>\n",
       "      <td>31909420</td>\n",
       "      <td>NaN</td>\n",
       "      <td>As Living Arrows</td>\n",
       "      <td>Hope and Ruin</td>\n",
       "      <td>2024</td>\n",
       "      <td>0.00</td>\n",
       "      <td>8</td>\n",
       "      <td>['LP', 'Album']</td>\n",
       "      <td>['Rock']</td>\n",
       "      <td>[Post-Hardcore]</td>\n",
       "      <td>Post-screamo band from Brighton, UK\\r\\n</td>\n",
       "    </tr>\n",
       "    <tr>\n",
       "      <th>1</th>\n",
       "      <td>2190314</td>\n",
       "      <td>3731373</td>\n",
       "      <td>32952558</td>\n",
       "      <td>US</td>\n",
       "      <td>Just Surrender</td>\n",
       "      <td>Phoenix</td>\n",
       "      <td>2010</td>\n",
       "      <td>0.00</td>\n",
       "      <td>13</td>\n",
       "      <td>['Album']</td>\n",
       "      <td>['Rock']</td>\n",
       "      <td>[Alternative Rock, Pop Punk]</td>\n",
       "      <td>Band from Dover Plains, New York, formerly kno...</td>\n",
       "    </tr>\n",
       "    <tr>\n",
       "      <th>2</th>\n",
       "      <td>7333323</td>\n",
       "      <td>3685869</td>\n",
       "      <td>32557566</td>\n",
       "      <td>UK</td>\n",
       "      <td>Hidden Mothers</td>\n",
       "      <td>Erosion / Avulsion</td>\n",
       "      <td>2024</td>\n",
       "      <td>41.47</td>\n",
       "      <td>8</td>\n",
       "      <td>['LP']</td>\n",
       "      <td>['Rock']</td>\n",
       "      <td>[Blackgaze, Post-Hardcore, Post-Metal]</td>\n",
       "      <td>Post-black metal band from Sheffield, UK\\r\\n\\r...</td>\n",
       "    </tr>\n",
       "    <tr>\n",
       "      <th>3</th>\n",
       "      <td>3398500</td>\n",
       "      <td>3682731</td>\n",
       "      <td>32371239</td>\n",
       "      <td>US</td>\n",
       "      <td>Tiny Moving Parts</td>\n",
       "      <td>Deep in the Blue</td>\n",
       "      <td>2024</td>\n",
       "      <td>0.00</td>\n",
       "      <td>10</td>\n",
       "      <td>['LP', 'Album', 'Limited Edition']</td>\n",
       "      <td>['Rock']</td>\n",
       "      <td>[Emo, Math Rock, Pop Punk]</td>\n",
       "      <td>Trio from Benson, Minnesota. The band takes in...</td>\n",
       "    </tr>\n",
       "    <tr>\n",
       "      <th>4</th>\n",
       "      <td>2607662</td>\n",
       "      <td>3659271</td>\n",
       "      <td>32308731</td>\n",
       "      <td>US</td>\n",
       "      <td>Father John Misty</td>\n",
       "      <td>Mahashmashana</td>\n",
       "      <td>2024</td>\n",
       "      <td>0.00</td>\n",
       "      <td>8</td>\n",
       "      <td>['LP', 'Album', 'Club Edition', 'Limited Editi...</td>\n",
       "      <td>['Rock']</td>\n",
       "      <td>[Alternative Rock, Folk Rock]</td>\n",
       "      <td>American singer/songwriter originally from Roc...</td>\n",
       "    </tr>\n",
       "    <tr>\n",
       "      <th>...</th>\n",
       "      <td>...</td>\n",
       "      <td>...</td>\n",
       "      <td>...</td>\n",
       "      <td>...</td>\n",
       "      <td>...</td>\n",
       "      <td>...</td>\n",
       "      <td>...</td>\n",
       "      <td>...</td>\n",
       "      <td>...</td>\n",
       "      <td>...</td>\n",
       "      <td>...</td>\n",
       "      <td>...</td>\n",
       "      <td>...</td>\n",
       "    </tr>\n",
       "    <tr>\n",
       "      <th>209</th>\n",
       "      <td>59792</td>\n",
       "      <td>27951</td>\n",
       "      <td>2769931</td>\n",
       "      <td>US</td>\n",
       "      <td>Bob Dylan</td>\n",
       "      <td>Knocked Out Loaded</td>\n",
       "      <td>1986</td>\n",
       "      <td>34.85</td>\n",
       "      <td>8</td>\n",
       "      <td>['LP', 'Album']</td>\n",
       "      <td>['Rock', 'Pop']</td>\n",
       "      <td>[Folk Rock]</td>\n",
       "      <td>Born: May 24, 1941, Duluth, Minnesota, USA; si...</td>\n",
       "    </tr>\n",
       "    <tr>\n",
       "      <th>210</th>\n",
       "      <td>252314</td>\n",
       "      <td>20565</td>\n",
       "      <td>1113832</td>\n",
       "      <td>US</td>\n",
       "      <td>Jawbox</td>\n",
       "      <td>Jawbox</td>\n",
       "      <td>1996</td>\n",
       "      <td>46.28</td>\n",
       "      <td>15</td>\n",
       "      <td>['Album']</td>\n",
       "      <td>['Rock']</td>\n",
       "      <td>[Post Rock, Indie Rock]</td>\n",
       "      <td>American alternative rock band founded in 1989...</td>\n",
       "    </tr>\n",
       "    <tr>\n",
       "      <th>211</th>\n",
       "      <td>82294</td>\n",
       "      <td>14043</td>\n",
       "      <td>435679</td>\n",
       "      <td>US</td>\n",
       "      <td>Tom Waits</td>\n",
       "      <td>Foreign Affairs</td>\n",
       "      <td>1977</td>\n",
       "      <td>41.88</td>\n",
       "      <td>9</td>\n",
       "      <td>['LP', 'Album', 'Stereo']</td>\n",
       "      <td>['Jazz', 'Rock', 'Blues']</td>\n",
       "      <td>[Blues Rock]</td>\n",
       "      <td>Born December 7th. 1949, in Pomona, California...</td>\n",
       "    </tr>\n",
       "    <tr>\n",
       "      <th>212</th>\n",
       "      <td>63332</td>\n",
       "      <td>11771</td>\n",
       "      <td>1813397</td>\n",
       "      <td>US</td>\n",
       "      <td>Lenny Kravitz</td>\n",
       "      <td>5</td>\n",
       "      <td>1998</td>\n",
       "      <td>66.42</td>\n",
       "      <td>13</td>\n",
       "      <td>['Album']</td>\n",
       "      <td>['Rock', 'Funk / Soul']</td>\n",
       "      <td>[Pop Rock, Classic Rock]</td>\n",
       "      <td>American singer-songwriter, multi-instrumental...</td>\n",
       "    </tr>\n",
       "    <tr>\n",
       "      <th>11330</th>\n",
       "      <td>136201</td>\n",
       "      <td>0</td>\n",
       "      <td>17501914</td>\n",
       "      <td>UK</td>\n",
       "      <td>Heart</td>\n",
       "      <td>Little Queen</td>\n",
       "      <td>1977</td>\n",
       "      <td>39.00</td>\n",
       "      <td>10</td>\n",
       "      <td>['LP', 'Album']</td>\n",
       "      <td>['Rock']</td>\n",
       "      <td>[Hard Rock, Folk Rock, Pop Rock]</td>\n",
       "      <td>Rock group that was started in Seattle, in 196...</td>\n",
       "    </tr>\n",
       "  </tbody>\n",
       "</table>\n",
       "<p>11425 rows × 13 columns</p>\n",
       "</div>"
      ],
      "text/plain": [
       "       artist_id  master_id  main_release_id release_country  \\\n",
       "0       15152368    3747909         31909420             NaN   \n",
       "1        2190314    3731373         32952558              US   \n",
       "2        7333323    3685869         32557566              UK   \n",
       "3        3398500    3682731         32371239              US   \n",
       "4        2607662    3659271         32308731              US   \n",
       "...          ...        ...              ...             ...   \n",
       "209        59792      27951          2769931              US   \n",
       "210       252314      20565          1113832              US   \n",
       "211        82294      14043           435679              US   \n",
       "212        63332      11771          1813397              US   \n",
       "11330     136201          0         17501914              UK   \n",
       "\n",
       "                  artist               title  year  album_length  tracks  \\\n",
       "0       As Living Arrows       Hope and Ruin  2024          0.00       8   \n",
       "1         Just Surrender             Phoenix  2010          0.00      13   \n",
       "2         Hidden Mothers  Erosion / Avulsion  2024         41.47       8   \n",
       "3      Tiny Moving Parts    Deep in the Blue  2024          0.00      10   \n",
       "4      Father John Misty       Mahashmashana  2024          0.00       8   \n",
       "...                  ...                 ...   ...           ...     ...   \n",
       "209            Bob Dylan  Knocked Out Loaded  1986         34.85       8   \n",
       "210               Jawbox              Jawbox  1996         46.28      15   \n",
       "211            Tom Waits     Foreign Affairs  1977         41.88       9   \n",
       "212        Lenny Kravitz                   5  1998         66.42      13   \n",
       "11330              Heart        Little Queen  1977         39.00      10   \n",
       "\n",
       "                                            release_type  \\\n",
       "0                                        ['LP', 'Album']   \n",
       "1                                              ['Album']   \n",
       "2                                                 ['LP']   \n",
       "3                     ['LP', 'Album', 'Limited Edition']   \n",
       "4      ['LP', 'Album', 'Club Edition', 'Limited Editi...   \n",
       "...                                                  ...   \n",
       "209                                      ['LP', 'Album']   \n",
       "210                                            ['Album']   \n",
       "211                            ['LP', 'Album', 'Stereo']   \n",
       "212                                            ['Album']   \n",
       "11330                                    ['LP', 'Album']   \n",
       "\n",
       "                          genres                                  styles  \\\n",
       "0                       ['Rock']                         [Post-Hardcore]   \n",
       "1                       ['Rock']            [Alternative Rock, Pop Punk]   \n",
       "2                       ['Rock']  [Blackgaze, Post-Hardcore, Post-Metal]   \n",
       "3                       ['Rock']              [Emo, Math Rock, Pop Punk]   \n",
       "4                       ['Rock']           [Alternative Rock, Folk Rock]   \n",
       "...                          ...                                     ...   \n",
       "209              ['Rock', 'Pop']                             [Folk Rock]   \n",
       "210                     ['Rock']                 [Post Rock, Indie Rock]   \n",
       "211    ['Jazz', 'Rock', 'Blues']                            [Blues Rock]   \n",
       "212      ['Rock', 'Funk / Soul']                [Pop Rock, Classic Rock]   \n",
       "11330                   ['Rock']        [Hard Rock, Folk Rock, Pop Rock]   \n",
       "\n",
       "                                          artist_profile  \n",
       "0               Post-screamo band from Brighton, UK\\r\\n   \n",
       "1      Band from Dover Plains, New York, formerly kno...  \n",
       "2      Post-black metal band from Sheffield, UK\\r\\n\\r...  \n",
       "3      Trio from Benson, Minnesota. The band takes in...  \n",
       "4      American singer/songwriter originally from Roc...  \n",
       "...                                                  ...  \n",
       "209    Born: May 24, 1941, Duluth, Minnesota, USA; si...  \n",
       "210    American alternative rock band founded in 1989...  \n",
       "211    Born December 7th. 1949, in Pomona, California...  \n",
       "212    American singer-songwriter, multi-instrumental...  \n",
       "11330  Rock group that was started in Seattle, in 196...  \n",
       "\n",
       "[11425 rows x 13 columns]"
      ]
     },
     "execution_count": 597,
     "metadata": {},
     "output_type": "execute_result"
    }
   ],
   "source": [
    "df_masters_blended"
   ]
  },
  {
   "cell_type": "code",
   "execution_count": 601,
   "metadata": {},
   "outputs": [],
   "source": [
    "df_masters_blended.to_csv('Datasets/df_masters_blended.csv', index=False)"
   ]
  },
  {
   "cell_type": "code",
   "execution_count": 602,
   "metadata": {},
   "outputs": [
    {
     "data": {
      "text/html": [
       "<div>\n",
       "<style scoped>\n",
       "    .dataframe tbody tr th:only-of-type {\n",
       "        vertical-align: middle;\n",
       "    }\n",
       "\n",
       "    .dataframe tbody tr th {\n",
       "        vertical-align: top;\n",
       "    }\n",
       "\n",
       "    .dataframe thead th {\n",
       "        text-align: right;\n",
       "    }\n",
       "</style>\n",
       "<table border=\"1\" class=\"dataframe\">\n",
       "  <thead>\n",
       "    <tr style=\"text-align: right;\">\n",
       "      <th></th>\n",
       "      <th>artist_id</th>\n",
       "      <th>master_id</th>\n",
       "      <th>main_release_id</th>\n",
       "      <th>release_country</th>\n",
       "      <th>artist</th>\n",
       "      <th>title</th>\n",
       "      <th>year</th>\n",
       "      <th>album_length</th>\n",
       "      <th>tracks</th>\n",
       "      <th>release_type</th>\n",
       "      <th>genres</th>\n",
       "      <th>styles</th>\n",
       "      <th>artist_profile</th>\n",
       "    </tr>\n",
       "  </thead>\n",
       "  <tbody>\n",
       "    <tr>\n",
       "      <th>0</th>\n",
       "      <td>15152368</td>\n",
       "      <td>3747909</td>\n",
       "      <td>31909420</td>\n",
       "      <td>NaN</td>\n",
       "      <td>As Living Arrows</td>\n",
       "      <td>Hope and Ruin</td>\n",
       "      <td>2024</td>\n",
       "      <td>0.00</td>\n",
       "      <td>8</td>\n",
       "      <td>['LP', 'Album']</td>\n",
       "      <td>['Rock']</td>\n",
       "      <td>Post-Hardcore</td>\n",
       "      <td>Post-screamo band from Brighton, UK\\r\\n</td>\n",
       "    </tr>\n",
       "    <tr>\n",
       "      <th>1</th>\n",
       "      <td>2190314</td>\n",
       "      <td>3731373</td>\n",
       "      <td>32952558</td>\n",
       "      <td>US</td>\n",
       "      <td>Just Surrender</td>\n",
       "      <td>Phoenix</td>\n",
       "      <td>2010</td>\n",
       "      <td>0.00</td>\n",
       "      <td>13</td>\n",
       "      <td>['Album']</td>\n",
       "      <td>['Rock']</td>\n",
       "      <td>Alternative Rock</td>\n",
       "      <td>Band from Dover Plains, New York, formerly kno...</td>\n",
       "    </tr>\n",
       "    <tr>\n",
       "      <th>1</th>\n",
       "      <td>2190314</td>\n",
       "      <td>3731373</td>\n",
       "      <td>32952558</td>\n",
       "      <td>US</td>\n",
       "      <td>Just Surrender</td>\n",
       "      <td>Phoenix</td>\n",
       "      <td>2010</td>\n",
       "      <td>0.00</td>\n",
       "      <td>13</td>\n",
       "      <td>['Album']</td>\n",
       "      <td>['Rock']</td>\n",
       "      <td>Pop Punk</td>\n",
       "      <td>Band from Dover Plains, New York, formerly kno...</td>\n",
       "    </tr>\n",
       "    <tr>\n",
       "      <th>2</th>\n",
       "      <td>7333323</td>\n",
       "      <td>3685869</td>\n",
       "      <td>32557566</td>\n",
       "      <td>UK</td>\n",
       "      <td>Hidden Mothers</td>\n",
       "      <td>Erosion / Avulsion</td>\n",
       "      <td>2024</td>\n",
       "      <td>41.47</td>\n",
       "      <td>8</td>\n",
       "      <td>['LP']</td>\n",
       "      <td>['Rock']</td>\n",
       "      <td>Blackgaze</td>\n",
       "      <td>Post-black metal band from Sheffield, UK\\r\\n\\r...</td>\n",
       "    </tr>\n",
       "    <tr>\n",
       "      <th>2</th>\n",
       "      <td>7333323</td>\n",
       "      <td>3685869</td>\n",
       "      <td>32557566</td>\n",
       "      <td>UK</td>\n",
       "      <td>Hidden Mothers</td>\n",
       "      <td>Erosion / Avulsion</td>\n",
       "      <td>2024</td>\n",
       "      <td>41.47</td>\n",
       "      <td>8</td>\n",
       "      <td>['LP']</td>\n",
       "      <td>['Rock']</td>\n",
       "      <td>Post-Hardcore</td>\n",
       "      <td>Post-black metal band from Sheffield, UK\\r\\n\\r...</td>\n",
       "    </tr>\n",
       "    <tr>\n",
       "      <th>...</th>\n",
       "      <td>...</td>\n",
       "      <td>...</td>\n",
       "      <td>...</td>\n",
       "      <td>...</td>\n",
       "      <td>...</td>\n",
       "      <td>...</td>\n",
       "      <td>...</td>\n",
       "      <td>...</td>\n",
       "      <td>...</td>\n",
       "      <td>...</td>\n",
       "      <td>...</td>\n",
       "      <td>...</td>\n",
       "      <td>...</td>\n",
       "    </tr>\n",
       "    <tr>\n",
       "      <th>210</th>\n",
       "      <td>252314</td>\n",
       "      <td>20565</td>\n",
       "      <td>1113832</td>\n",
       "      <td>US</td>\n",
       "      <td>Jawbox</td>\n",
       "      <td>Jawbox</td>\n",
       "      <td>1996</td>\n",
       "      <td>46.28</td>\n",
       "      <td>15</td>\n",
       "      <td>['Album']</td>\n",
       "      <td>['Rock']</td>\n",
       "      <td>Indie Rock</td>\n",
       "      <td>American alternative rock band founded in 1989...</td>\n",
       "    </tr>\n",
       "    <tr>\n",
       "      <th>211</th>\n",
       "      <td>82294</td>\n",
       "      <td>14043</td>\n",
       "      <td>435679</td>\n",
       "      <td>US</td>\n",
       "      <td>Tom Waits</td>\n",
       "      <td>Foreign Affairs</td>\n",
       "      <td>1977</td>\n",
       "      <td>41.88</td>\n",
       "      <td>9</td>\n",
       "      <td>['LP', 'Album', 'Stereo']</td>\n",
       "      <td>['Jazz', 'Rock', 'Blues']</td>\n",
       "      <td>Blues Rock</td>\n",
       "      <td>Born December 7th. 1949, in Pomona, California...</td>\n",
       "    </tr>\n",
       "    <tr>\n",
       "      <th>212</th>\n",
       "      <td>63332</td>\n",
       "      <td>11771</td>\n",
       "      <td>1813397</td>\n",
       "      <td>US</td>\n",
       "      <td>Lenny Kravitz</td>\n",
       "      <td>5</td>\n",
       "      <td>1998</td>\n",
       "      <td>66.42</td>\n",
       "      <td>13</td>\n",
       "      <td>['Album']</td>\n",
       "      <td>['Rock', 'Funk / Soul']</td>\n",
       "      <td>Pop Rock</td>\n",
       "      <td>American singer-songwriter, multi-instrumental...</td>\n",
       "    </tr>\n",
       "    <tr>\n",
       "      <th>212</th>\n",
       "      <td>63332</td>\n",
       "      <td>11771</td>\n",
       "      <td>1813397</td>\n",
       "      <td>US</td>\n",
       "      <td>Lenny Kravitz</td>\n",
       "      <td>5</td>\n",
       "      <td>1998</td>\n",
       "      <td>66.42</td>\n",
       "      <td>13</td>\n",
       "      <td>['Album']</td>\n",
       "      <td>['Rock', 'Funk / Soul']</td>\n",
       "      <td>Classic Rock</td>\n",
       "      <td>American singer-songwriter, multi-instrumental...</td>\n",
       "    </tr>\n",
       "    <tr>\n",
       "      <th>11330</th>\n",
       "      <td>136201</td>\n",
       "      <td>0</td>\n",
       "      <td>17501914</td>\n",
       "      <td>UK</td>\n",
       "      <td>Heart</td>\n",
       "      <td>Little Queen</td>\n",
       "      <td>1977</td>\n",
       "      <td>39.00</td>\n",
       "      <td>10</td>\n",
       "      <td>['LP', 'Album']</td>\n",
       "      <td>['Rock']</td>\n",
       "      <td>[Hard Rock, Folk Rock, Pop Rock]</td>\n",
       "      <td>Rock group that was started in Seattle, in 196...</td>\n",
       "    </tr>\n",
       "  </tbody>\n",
       "</table>\n",
       "<p>23034 rows × 13 columns</p>\n",
       "</div>"
      ],
      "text/plain": [
       "       artist_id  master_id  main_release_id release_country  \\\n",
       "0       15152368    3747909         31909420             NaN   \n",
       "1        2190314    3731373         32952558              US   \n",
       "1        2190314    3731373         32952558              US   \n",
       "2        7333323    3685869         32557566              UK   \n",
       "2        7333323    3685869         32557566              UK   \n",
       "...          ...        ...              ...             ...   \n",
       "210       252314      20565          1113832              US   \n",
       "211        82294      14043           435679              US   \n",
       "212        63332      11771          1813397              US   \n",
       "212        63332      11771          1813397              US   \n",
       "11330     136201          0         17501914              UK   \n",
       "\n",
       "                 artist               title  year  album_length  tracks  \\\n",
       "0      As Living Arrows       Hope and Ruin  2024          0.00       8   \n",
       "1        Just Surrender             Phoenix  2010          0.00      13   \n",
       "1        Just Surrender             Phoenix  2010          0.00      13   \n",
       "2        Hidden Mothers  Erosion / Avulsion  2024         41.47       8   \n",
       "2        Hidden Mothers  Erosion / Avulsion  2024         41.47       8   \n",
       "...                 ...                 ...   ...           ...     ...   \n",
       "210              Jawbox              Jawbox  1996         46.28      15   \n",
       "211           Tom Waits     Foreign Affairs  1977         41.88       9   \n",
       "212       Lenny Kravitz                   5  1998         66.42      13   \n",
       "212       Lenny Kravitz                   5  1998         66.42      13   \n",
       "11330             Heart        Little Queen  1977         39.00      10   \n",
       "\n",
       "                    release_type                     genres  \\\n",
       "0                ['LP', 'Album']                   ['Rock']   \n",
       "1                      ['Album']                   ['Rock']   \n",
       "1                      ['Album']                   ['Rock']   \n",
       "2                         ['LP']                   ['Rock']   \n",
       "2                         ['LP']                   ['Rock']   \n",
       "...                          ...                        ...   \n",
       "210                    ['Album']                   ['Rock']   \n",
       "211    ['LP', 'Album', 'Stereo']  ['Jazz', 'Rock', 'Blues']   \n",
       "212                    ['Album']    ['Rock', 'Funk / Soul']   \n",
       "212                    ['Album']    ['Rock', 'Funk / Soul']   \n",
       "11330            ['LP', 'Album']                   ['Rock']   \n",
       "\n",
       "                                 styles  \\\n",
       "0                         Post-Hardcore   \n",
       "1                      Alternative Rock   \n",
       "1                              Pop Punk   \n",
       "2                             Blackgaze   \n",
       "2                         Post-Hardcore   \n",
       "...                                 ...   \n",
       "210                          Indie Rock   \n",
       "211                          Blues Rock   \n",
       "212                            Pop Rock   \n",
       "212                        Classic Rock   \n",
       "11330  [Hard Rock, Folk Rock, Pop Rock]   \n",
       "\n",
       "                                          artist_profile  \n",
       "0               Post-screamo band from Brighton, UK\\r\\n   \n",
       "1      Band from Dover Plains, New York, formerly kno...  \n",
       "1      Band from Dover Plains, New York, formerly kno...  \n",
       "2      Post-black metal band from Sheffield, UK\\r\\n\\r...  \n",
       "2      Post-black metal band from Sheffield, UK\\r\\n\\r...  \n",
       "...                                                  ...  \n",
       "210    American alternative rock band founded in 1989...  \n",
       "211    Born December 7th. 1949, in Pomona, California...  \n",
       "212    American singer-songwriter, multi-instrumental...  \n",
       "212    American singer-songwriter, multi-instrumental...  \n",
       "11330  Rock group that was started in Seattle, in 196...  \n",
       "\n",
       "[23034 rows x 13 columns]"
      ]
     },
     "execution_count": 602,
     "metadata": {},
     "output_type": "execute_result"
    }
   ],
   "source": [
    "df_masters_blended.explode('styles')"
   ]
  },
  {
   "cell_type": "markdown",
   "metadata": {},
   "source": [
    "## **explode ``styles`` in one line of code**"
   ]
  },
  {
   "cell_type": "code",
   "execution_count": 603,
   "metadata": {},
   "outputs": [
    {
     "data": {
      "text/plain": [
       "(11425, 13)"
      ]
     },
     "execution_count": 603,
     "metadata": {},
     "output_type": "execute_result"
    }
   ],
   "source": [
    "# import the dataframe\n",
    "df_masters_blended = pd.read_csv('Datasets/df_masters_blended.csv')\n",
    "df_masters_blended.shape"
   ]
  },
  {
   "cell_type": "code",
   "execution_count": 604,
   "metadata": {},
   "outputs": [
    {
     "data": {
      "text/plain": [
       "str"
      ]
     },
     "execution_count": 604,
     "metadata": {},
     "output_type": "execute_result"
    }
   ],
   "source": [
    "type(df_masters_blended['styles'][0])"
   ]
  },
  {
   "cell_type": "code",
   "execution_count": 43,
   "metadata": {},
   "outputs": [
    {
     "name": "stdout",
     "output_type": "stream",
     "text": [
      "Alternative Rock\n",
      "Punk\n",
      "Pop Rock\n",
      "Indie Rock\n",
      "Hard Rock\n",
      "Folk Rock\n",
      "Psychedelic Rock\n",
      "Heavy Metal\n",
      "Country Rock\n",
      "Blues Rock\n",
      "Experimental\n",
      "Hardcore\n",
      "Rock & Roll\n",
      "Garage Rock\n",
      "Soft Rock\n",
      "Prog Rock\n",
      "AOR\n",
      "Power Pop\n",
      "Acoustic\n",
      "New Wave\n",
      "Thrash\n",
      "Folk\n",
      "Classic Rock\n",
      "Country\n",
      "Avantgarde\n",
      "Lo-Fi\n",
      "Art Rock\n",
      "Southern Rock\n",
      "Gospel\n",
      "Ska\n",
      "Death Metal\n",
      "Synth-pop\n",
      "Jazz-Rock\n",
      "Rockabilly\n",
      "Surf\n",
      "Ballad\n",
      "Industrial\n",
      "Vocal\n",
      "Soul\n",
      "Funk\n",
      "Grunge\n",
      "Noise\n",
      "Rhythm & Blues\n",
      "Religious\n",
      "Goth Rock\n",
      "Pop Punk\n",
      "Lounge\n",
      "Fusion\n",
      "Glam\n",
      "Post-Punk\n",
      "Emo\n",
      "Nu Metal\n",
      "Ambient\n",
      "Funk Metal\n",
      "Space Rock\n",
      "Post Rock\n",
      "Arena Rock\n",
      "Disco\n",
      "Ethereal\n",
      "Soundtrack\n",
      "Progressive Metal\n",
      "Speed Metal\n",
      "Stoner Rock\n",
      "Indie Pop\n",
      "Easy Listening\n",
      "Power Metal\n",
      "Doom Metal\n",
      "Free Improvisation\n",
      "Parody\n",
      "Doo Wop\n",
      "Beat\n",
      "Shoegaze\n",
      "Abstract\n",
      "Jazz-Funk\n",
      "New Age\n",
      "Acid Rock\n",
      "Symphonic Rock\n",
      "Electro\n",
      "Bluegrass\n",
      "Math Rock\n"
     ]
    }
   ],
   "source": [
    "df_masters_blended['styles'] = df_masters_blended[\"styles\"].apply(ast.literal_eval)\n",
    "df_styles = df_masters_blended.explode('styles')\n",
    "top_80_styles = df_styles['styles'].value_counts().head(80).index.to_list()\n",
    "\n",
    "for style in top_80_styles:\n",
    "    print(style)"
   ]
  },
  {
   "cell_type": "markdown",
   "metadata": {},
   "source": [
    "## ``explode`` in several lines of code"
   ]
  },
  {
   "cell_type": "code",
   "execution_count": 44,
   "metadata": {},
   "outputs": [
    {
     "data": {
      "text/plain": [
       "styles\n",
       "[Indie Rock]          558\n",
       "[Alternative Rock]    497\n",
       "[Death Metal]         358\n",
       "[Heavy Metal]         300\n",
       "[Pop Rock]            274\n",
       "Name: count, dtype: int64"
      ]
     },
     "execution_count": 44,
     "metadata": {},
     "output_type": "execute_result"
    }
   ],
   "source": [
    "df['styles'].value_counts().head()"
   ]
  },
  {
   "cell_type": "code",
   "execution_count": 45,
   "metadata": {},
   "outputs": [
    {
     "data": {
      "text/plain": [
       "(11920, 13)"
      ]
     },
     "execution_count": 45,
     "metadata": {},
     "output_type": "execute_result"
    }
   ],
   "source": [
    "df.shape"
   ]
  },
  {
   "cell_type": "code",
   "execution_count": 46,
   "metadata": {},
   "outputs": [
    {
     "data": {
      "text/plain": [
       "(23859, 13)"
      ]
     },
     "execution_count": 46,
     "metadata": {},
     "output_type": "execute_result"
    }
   ],
   "source": [
    "df_styles = df.explode('styles')\n",
    "df_styles.shape"
   ]
  },
  {
   "cell_type": "code",
   "execution_count": 47,
   "metadata": {},
   "outputs": [
    {
     "data": {
      "text/plain": [
       "276"
      ]
     },
     "execution_count": 47,
     "metadata": {},
     "output_type": "execute_result"
    }
   ],
   "source": [
    "df_styles['styles'].nunique()   # before we had 3851"
   ]
  },
  {
   "cell_type": "code",
   "execution_count": 48,
   "metadata": {},
   "outputs": [
    {
     "data": {
      "text/plain": [
       "styles\n",
       "Alternative Rock         2075\n",
       "Indie Rock               1993\n",
       "Pop Rock                 1314\n",
       "Hard Rock                1035\n",
       "Punk                      987\n",
       "                         ... \n",
       "Krautrock                  48\n",
       "Gothic Metal               48\n",
       "Industrial Metal           47\n",
       "AOR                        47\n",
       "Technical Death Metal      47\n",
       "Name: count, Length: 80, dtype: int64"
      ]
     },
     "execution_count": 48,
     "metadata": {},
     "output_type": "execute_result"
    }
   ],
   "source": [
    "df_styles['styles'].value_counts().head(80)"
   ]
  },
  {
   "cell_type": "markdown",
   "metadata": {},
   "source": [
    "## Get the nº of albums for each ``style`` for one specific year"
   ]
  },
  {
   "cell_type": "code",
   "execution_count": null,
   "metadata": {},
   "outputs": [
    {
     "name": "stdout",
     "output_type": "stream",
     "text": [
      "Alternative Rock: 1853\n",
      "Indie Rock: 1292\n",
      "Pop Rock: 1038\n",
      "New Wave: 80\n",
      "Emo: 195\n",
      "Post Rock: 183\n",
      "Shoegaze: 53\n",
      "Indie Pop: 179\n",
      "Hard Rock: 792\n",
      "Heavy Metal: 444\n",
      "Death Metal: 162\n",
      "Thrash: 197\n",
      "Black Metal: 74\n",
      "Doom Metal: 37\n",
      "Metalcore: 37\n",
      "Progressive Metal: 41\n",
      "Stoner Rock: 63\n",
      "Speed Metal: 32\n",
      "Nu Metal: 134\n",
      "Prog Rock: 291\n",
      "Psychedelic Rock: 360\n",
      "Art Rock: 172\n",
      "Classic Rock: 219\n",
      "Space Rock: 56\n",
      "Symphonic Rock: 39\n",
      "Punk: 1493\n",
      "Hardcore: 759\n",
      "Post-Punk: 65\n",
      "Post-Hardcore: 38\n",
      "Pop Punk: 176\n",
      "Grunge: 163\n",
      "Garage Rock: 308\n",
      "Folk Rock: 525\n",
      "Blues Rock: 406\n",
      "Rock & Roll: 257\n",
      "Soft Rock: 215\n",
      "Country Rock: 445\n",
      "Southern Rock: 120\n"
     ]
    }
   ],
   "source": [
    "# get all rock_styles in one year in one country\n",
    "\n",
    "url = \"https://api.discogs.com/database/search\"\n",
    "headers = {\"User-Agent\": 'Arnau', \"Authorization\": \"Discogs token=UwfqmsztxwnfABgQpmhaAsprbUgpOJKGOJSQAqfp\"}\n",
    "\n",
    "# import the df of the albums from the US scraped so far (from 1960)\n",
    "df_us_masters_scraped = pd.read_csv('Datasets/df_us_masters.csv')\n",
    "\n",
    "styles_to_get = [ \n",
    "    \"Alternative Rock\", \"Indie Rock\", \"Pop Rock\", \"New Wave\", \n",
    "    \"Emo\", \"Post Rock\", \"Shoegaze\", \"Indie Pop\", \"Hard Rock\", \n",
    "    \"Heavy Metal\", \"Death Metal\", \"Thrash\", \"Black Metal\", \"Doom Metal\", \n",
    "    \"Metalcore\", \"Progressive Metal\", \"Stoner Rock\", \"Speed Metal\", \"Nu Metal\", \n",
    "    \"Prog Rock\", \"Psychedelic Rock\", \"Art Rock\", \"Classic Rock\", \"Space Rock\", \n",
    "    \"Symphonic Rock\", \"Punk\", \"Hardcore\", \"Post-Punk\", \"Post-Hardcore\", \n",
    "    \"Pop Punk\", \"Grunge\", \"Garage Rock\", \"Folk Rock\", \"Blues Rock\", \"Rock & Roll\", \n",
    "    \"Soft Rock\", \"Country Rock\", \"Southern Rock\"\n",
    "]\n",
    "\n",
    "styles_list = []\n",
    "count_list = []\n",
    "\n",
    "for style in styles_to_get:\n",
    "    # Define parameters for artist search\n",
    "    params = {\n",
    "        \"per_page\": 100    # Number of results per page (max 100)\n",
    "        , 'type': 'release'\n",
    "        , 'format': 'album'\n",
    "        , 'genre': 'Rock'\n",
    "\n",
    "        # items to change\n",
    "        , 'country': 'US'\n",
    "        , 'year': 1997\n",
    "        , 'style': style\n",
    "    }\n",
    "\n",
    "    response = requests.get(url, headers=headers, params=params)\n",
    "    data = response.json()\n",
    "    items_number = data['pagination']['items']  # number of items\n",
    "\n",
    "    print(f\"{style}: {items_number}\")\n",
    "    time.sleep(2)\n",
    "\n",
    "    styles_list.append(style)\n",
    "    count_list.append(items_number)\n",
    "\n",
    "# save the data in a df\n",
    "data = pd.DataFrame({'style': styles_list, 'albums': count_list})"
   ]
  },
  {
   "cell_type": "code",
   "execution_count": 78,
   "metadata": {},
   "outputs": [
    {
     "data": {
      "text/html": [
       "<div>\n",
       "<style scoped>\n",
       "    .dataframe tbody tr th:only-of-type {\n",
       "        vertical-align: middle;\n",
       "    }\n",
       "\n",
       "    .dataframe tbody tr th {\n",
       "        vertical-align: top;\n",
       "    }\n",
       "\n",
       "    .dataframe thead th {\n",
       "        text-align: right;\n",
       "    }\n",
       "</style>\n",
       "<table border=\"1\" class=\"dataframe\">\n",
       "  <thead>\n",
       "    <tr style=\"text-align: right;\">\n",
       "      <th></th>\n",
       "      <th>style</th>\n",
       "      <th>albums</th>\n",
       "    </tr>\n",
       "  </thead>\n",
       "  <tbody>\n",
       "    <tr>\n",
       "      <th>0</th>\n",
       "      <td>Alternative Rock</td>\n",
       "      <td>1853</td>\n",
       "    </tr>\n",
       "    <tr>\n",
       "      <th>1</th>\n",
       "      <td>Indie Rock</td>\n",
       "      <td>1292</td>\n",
       "    </tr>\n",
       "    <tr>\n",
       "      <th>2</th>\n",
       "      <td>Pop Rock</td>\n",
       "      <td>1038</td>\n",
       "    </tr>\n",
       "    <tr>\n",
       "      <th>3</th>\n",
       "      <td>New Wave</td>\n",
       "      <td>80</td>\n",
       "    </tr>\n",
       "    <tr>\n",
       "      <th>4</th>\n",
       "      <td>Emo</td>\n",
       "      <td>195</td>\n",
       "    </tr>\n",
       "  </tbody>\n",
       "</table>\n",
       "</div>"
      ],
      "text/plain": [
       "              style  albums\n",
       "0  Alternative Rock    1853\n",
       "1        Indie Rock    1292\n",
       "2          Pop Rock    1038\n",
       "3          New Wave      80\n",
       "4               Emo     195"
      ]
     },
     "execution_count": 78,
     "metadata": {},
     "output_type": "execute_result"
    }
   ],
   "source": [
    "data.head()"
   ]
  },
  {
   "cell_type": "code",
   "execution_count": 79,
   "metadata": {},
   "outputs": [
    {
     "data": {
      "text/plain": [
       "12993"
      ]
     },
     "execution_count": 79,
     "metadata": {},
     "output_type": "execute_result"
    }
   ],
   "source": [
    "data.albums.sum()"
   ]
  },
  {
   "cell_type": "code",
   "execution_count": 80,
   "metadata": {},
   "outputs": [
    {
     "data": {
      "text/plain": [
       "5.41375"
      ]
     },
     "execution_count": 80,
     "metadata": {},
     "output_type": "execute_result"
    }
   ],
   "source": [
    "((data.albums.sum())*1.5)/3600"
   ]
  },
  {
   "cell_type": "markdown",
   "metadata": {},
   "source": [
    "## Top 80 styles for one year in the US"
   ]
  },
  {
   "cell_type": "code",
   "execution_count": null,
   "metadata": {},
   "outputs": [],
   "source": [
    "# import the df of the albums from the US scraped so far (from 1960)\n",
    "df_us_masters_scraped = pd.read_csv('Datasets/df_us_masters.csv')\n",
    "\n",
    "# explode 'styles'\n",
    "df_us_masters_scraped['styles'] = df_us_masters_scraped[\"styles\"].apply(ast.literal_eval)\n",
    "df_styles = df_us_masters_scraped.explode('styles')\n",
    "top_80_styles = df_styles['styles'].value_counts().head(80).index.to_list()"
   ]
  },
  {
   "cell_type": "code",
   "execution_count": null,
   "metadata": {},
   "outputs": [
    {
     "ename": "OSError",
     "evalue": "[Errno 22] Invalid argument: 'Datasets/df_us_masters.csv'",
     "output_type": "error",
     "traceback": [
      "\u001b[1;31m---------------------------------------------------------------------------\u001b[0m",
      "\u001b[1;31mOSError\u001b[0m                                   Traceback (most recent call last)",
      "Cell \u001b[1;32mIn[90], line 7\u001b[0m\n\u001b[0;32m      4\u001b[0m headers \u001b[38;5;241m=\u001b[39m {\u001b[38;5;124m\"\u001b[39m\u001b[38;5;124mUser-Agent\u001b[39m\u001b[38;5;124m\"\u001b[39m: \u001b[38;5;124m'\u001b[39m\u001b[38;5;124mArnau\u001b[39m\u001b[38;5;124m'\u001b[39m, \u001b[38;5;124m\"\u001b[39m\u001b[38;5;124mAuthorization\u001b[39m\u001b[38;5;124m\"\u001b[39m: \u001b[38;5;124m\"\u001b[39m\u001b[38;5;124mDiscogs token=UwfqmsztxwnfABgQpmhaAsprbUgpOJKGOJSQAqfp\u001b[39m\u001b[38;5;124m\"\u001b[39m}\n\u001b[0;32m      6\u001b[0m \u001b[38;5;66;03m# import the df of the albums from the US scraped so far (from 1960)\u001b[39;00m\n\u001b[1;32m----> 7\u001b[0m df_us_masters_scraped \u001b[38;5;241m=\u001b[39m pd\u001b[38;5;241m.\u001b[39mread_csv(\u001b[38;5;124m'\u001b[39m\u001b[38;5;124mDatasets/df_us_masters.csv\u001b[39m\u001b[38;5;124m'\u001b[39m)\n\u001b[0;32m      9\u001b[0m \u001b[38;5;66;03m# explode 'styles'\u001b[39;00m\n\u001b[0;32m     10\u001b[0m df_us_masters_scraped[\u001b[38;5;124m'\u001b[39m\u001b[38;5;124mstyles\u001b[39m\u001b[38;5;124m'\u001b[39m]\u001b[38;5;241m=\u001b[39mdf_us_masters_scraped[\u001b[38;5;124m\"\u001b[39m\u001b[38;5;124mstyles\u001b[39m\u001b[38;5;124m\"\u001b[39m]\u001b[38;5;241m.\u001b[39mapply(ast\u001b[38;5;241m.\u001b[39mliteral_eval)\n",
      "File \u001b[1;32mc:\\Users\\Arnaldur\\anaconda3\\Lib\\site-packages\\pandas\\io\\parsers\\readers.py:1026\u001b[0m, in \u001b[0;36mread_csv\u001b[1;34m(filepath_or_buffer, sep, delimiter, header, names, index_col, usecols, dtype, engine, converters, true_values, false_values, skipinitialspace, skiprows, skipfooter, nrows, na_values, keep_default_na, na_filter, verbose, skip_blank_lines, parse_dates, infer_datetime_format, keep_date_col, date_parser, date_format, dayfirst, cache_dates, iterator, chunksize, compression, thousands, decimal, lineterminator, quotechar, quoting, doublequote, escapechar, comment, encoding, encoding_errors, dialect, on_bad_lines, delim_whitespace, low_memory, memory_map, float_precision, storage_options, dtype_backend)\u001b[0m\n\u001b[0;32m   1013\u001b[0m kwds_defaults \u001b[38;5;241m=\u001b[39m _refine_defaults_read(\n\u001b[0;32m   1014\u001b[0m     dialect,\n\u001b[0;32m   1015\u001b[0m     delimiter,\n\u001b[1;32m   (...)\u001b[0m\n\u001b[0;32m   1022\u001b[0m     dtype_backend\u001b[38;5;241m=\u001b[39mdtype_backend,\n\u001b[0;32m   1023\u001b[0m )\n\u001b[0;32m   1024\u001b[0m kwds\u001b[38;5;241m.\u001b[39mupdate(kwds_defaults)\n\u001b[1;32m-> 1026\u001b[0m \u001b[38;5;28;01mreturn\u001b[39;00m _read(filepath_or_buffer, kwds)\n",
      "File \u001b[1;32mc:\\Users\\Arnaldur\\anaconda3\\Lib\\site-packages\\pandas\\io\\parsers\\readers.py:620\u001b[0m, in \u001b[0;36m_read\u001b[1;34m(filepath_or_buffer, kwds)\u001b[0m\n\u001b[0;32m    617\u001b[0m _validate_names(kwds\u001b[38;5;241m.\u001b[39mget(\u001b[38;5;124m\"\u001b[39m\u001b[38;5;124mnames\u001b[39m\u001b[38;5;124m\"\u001b[39m, \u001b[38;5;28;01mNone\u001b[39;00m))\n\u001b[0;32m    619\u001b[0m \u001b[38;5;66;03m# Create the parser.\u001b[39;00m\n\u001b[1;32m--> 620\u001b[0m parser \u001b[38;5;241m=\u001b[39m TextFileReader(filepath_or_buffer, \u001b[38;5;241m*\u001b[39m\u001b[38;5;241m*\u001b[39mkwds)\n\u001b[0;32m    622\u001b[0m \u001b[38;5;28;01mif\u001b[39;00m chunksize \u001b[38;5;129;01mor\u001b[39;00m iterator:\n\u001b[0;32m    623\u001b[0m     \u001b[38;5;28;01mreturn\u001b[39;00m parser\n",
      "File \u001b[1;32mc:\\Users\\Arnaldur\\anaconda3\\Lib\\site-packages\\pandas\\io\\parsers\\readers.py:1620\u001b[0m, in \u001b[0;36mTextFileReader.__init__\u001b[1;34m(self, f, engine, **kwds)\u001b[0m\n\u001b[0;32m   1617\u001b[0m     \u001b[38;5;28mself\u001b[39m\u001b[38;5;241m.\u001b[39moptions[\u001b[38;5;124m\"\u001b[39m\u001b[38;5;124mhas_index_names\u001b[39m\u001b[38;5;124m\"\u001b[39m] \u001b[38;5;241m=\u001b[39m kwds[\u001b[38;5;124m\"\u001b[39m\u001b[38;5;124mhas_index_names\u001b[39m\u001b[38;5;124m\"\u001b[39m]\n\u001b[0;32m   1619\u001b[0m \u001b[38;5;28mself\u001b[39m\u001b[38;5;241m.\u001b[39mhandles: IOHandles \u001b[38;5;241m|\u001b[39m \u001b[38;5;28;01mNone\u001b[39;00m \u001b[38;5;241m=\u001b[39m \u001b[38;5;28;01mNone\u001b[39;00m\n\u001b[1;32m-> 1620\u001b[0m \u001b[38;5;28mself\u001b[39m\u001b[38;5;241m.\u001b[39m_engine \u001b[38;5;241m=\u001b[39m \u001b[38;5;28mself\u001b[39m\u001b[38;5;241m.\u001b[39m_make_engine(f, \u001b[38;5;28mself\u001b[39m\u001b[38;5;241m.\u001b[39mengine)\n",
      "File \u001b[1;32mc:\\Users\\Arnaldur\\anaconda3\\Lib\\site-packages\\pandas\\io\\parsers\\readers.py:1880\u001b[0m, in \u001b[0;36mTextFileReader._make_engine\u001b[1;34m(self, f, engine)\u001b[0m\n\u001b[0;32m   1878\u001b[0m     \u001b[38;5;28;01mif\u001b[39;00m \u001b[38;5;124m\"\u001b[39m\u001b[38;5;124mb\u001b[39m\u001b[38;5;124m\"\u001b[39m \u001b[38;5;129;01mnot\u001b[39;00m \u001b[38;5;129;01min\u001b[39;00m mode:\n\u001b[0;32m   1879\u001b[0m         mode \u001b[38;5;241m+\u001b[39m\u001b[38;5;241m=\u001b[39m \u001b[38;5;124m\"\u001b[39m\u001b[38;5;124mb\u001b[39m\u001b[38;5;124m\"\u001b[39m\n\u001b[1;32m-> 1880\u001b[0m \u001b[38;5;28mself\u001b[39m\u001b[38;5;241m.\u001b[39mhandles \u001b[38;5;241m=\u001b[39m get_handle(\n\u001b[0;32m   1881\u001b[0m     f,\n\u001b[0;32m   1882\u001b[0m     mode,\n\u001b[0;32m   1883\u001b[0m     encoding\u001b[38;5;241m=\u001b[39m\u001b[38;5;28mself\u001b[39m\u001b[38;5;241m.\u001b[39moptions\u001b[38;5;241m.\u001b[39mget(\u001b[38;5;124m\"\u001b[39m\u001b[38;5;124mencoding\u001b[39m\u001b[38;5;124m\"\u001b[39m, \u001b[38;5;28;01mNone\u001b[39;00m),\n\u001b[0;32m   1884\u001b[0m     compression\u001b[38;5;241m=\u001b[39m\u001b[38;5;28mself\u001b[39m\u001b[38;5;241m.\u001b[39moptions\u001b[38;5;241m.\u001b[39mget(\u001b[38;5;124m\"\u001b[39m\u001b[38;5;124mcompression\u001b[39m\u001b[38;5;124m\"\u001b[39m, \u001b[38;5;28;01mNone\u001b[39;00m),\n\u001b[0;32m   1885\u001b[0m     memory_map\u001b[38;5;241m=\u001b[39m\u001b[38;5;28mself\u001b[39m\u001b[38;5;241m.\u001b[39moptions\u001b[38;5;241m.\u001b[39mget(\u001b[38;5;124m\"\u001b[39m\u001b[38;5;124mmemory_map\u001b[39m\u001b[38;5;124m\"\u001b[39m, \u001b[38;5;28;01mFalse\u001b[39;00m),\n\u001b[0;32m   1886\u001b[0m     is_text\u001b[38;5;241m=\u001b[39mis_text,\n\u001b[0;32m   1887\u001b[0m     errors\u001b[38;5;241m=\u001b[39m\u001b[38;5;28mself\u001b[39m\u001b[38;5;241m.\u001b[39moptions\u001b[38;5;241m.\u001b[39mget(\u001b[38;5;124m\"\u001b[39m\u001b[38;5;124mencoding_errors\u001b[39m\u001b[38;5;124m\"\u001b[39m, \u001b[38;5;124m\"\u001b[39m\u001b[38;5;124mstrict\u001b[39m\u001b[38;5;124m\"\u001b[39m),\n\u001b[0;32m   1888\u001b[0m     storage_options\u001b[38;5;241m=\u001b[39m\u001b[38;5;28mself\u001b[39m\u001b[38;5;241m.\u001b[39moptions\u001b[38;5;241m.\u001b[39mget(\u001b[38;5;124m\"\u001b[39m\u001b[38;5;124mstorage_options\u001b[39m\u001b[38;5;124m\"\u001b[39m, \u001b[38;5;28;01mNone\u001b[39;00m),\n\u001b[0;32m   1889\u001b[0m )\n\u001b[0;32m   1890\u001b[0m \u001b[38;5;28;01massert\u001b[39;00m \u001b[38;5;28mself\u001b[39m\u001b[38;5;241m.\u001b[39mhandles \u001b[38;5;129;01mis\u001b[39;00m \u001b[38;5;129;01mnot\u001b[39;00m \u001b[38;5;28;01mNone\u001b[39;00m\n\u001b[0;32m   1891\u001b[0m f \u001b[38;5;241m=\u001b[39m \u001b[38;5;28mself\u001b[39m\u001b[38;5;241m.\u001b[39mhandles\u001b[38;5;241m.\u001b[39mhandle\n",
      "File \u001b[1;32mc:\\Users\\Arnaldur\\anaconda3\\Lib\\site-packages\\pandas\\io\\common.py:873\u001b[0m, in \u001b[0;36mget_handle\u001b[1;34m(path_or_buf, mode, encoding, compression, memory_map, is_text, errors, storage_options)\u001b[0m\n\u001b[0;32m    868\u001b[0m \u001b[38;5;28;01melif\u001b[39;00m \u001b[38;5;28misinstance\u001b[39m(handle, \u001b[38;5;28mstr\u001b[39m):\n\u001b[0;32m    869\u001b[0m     \u001b[38;5;66;03m# Check whether the filename is to be opened in binary mode.\u001b[39;00m\n\u001b[0;32m    870\u001b[0m     \u001b[38;5;66;03m# Binary mode does not support 'encoding' and 'newline'.\u001b[39;00m\n\u001b[0;32m    871\u001b[0m     \u001b[38;5;28;01mif\u001b[39;00m ioargs\u001b[38;5;241m.\u001b[39mencoding \u001b[38;5;129;01mand\u001b[39;00m \u001b[38;5;124m\"\u001b[39m\u001b[38;5;124mb\u001b[39m\u001b[38;5;124m\"\u001b[39m \u001b[38;5;129;01mnot\u001b[39;00m \u001b[38;5;129;01min\u001b[39;00m ioargs\u001b[38;5;241m.\u001b[39mmode:\n\u001b[0;32m    872\u001b[0m         \u001b[38;5;66;03m# Encoding\u001b[39;00m\n\u001b[1;32m--> 873\u001b[0m         handle \u001b[38;5;241m=\u001b[39m \u001b[38;5;28mopen\u001b[39m(\n\u001b[0;32m    874\u001b[0m             handle,\n\u001b[0;32m    875\u001b[0m             ioargs\u001b[38;5;241m.\u001b[39mmode,\n\u001b[0;32m    876\u001b[0m             encoding\u001b[38;5;241m=\u001b[39mioargs\u001b[38;5;241m.\u001b[39mencoding,\n\u001b[0;32m    877\u001b[0m             errors\u001b[38;5;241m=\u001b[39merrors,\n\u001b[0;32m    878\u001b[0m             newline\u001b[38;5;241m=\u001b[39m\u001b[38;5;124m\"\u001b[39m\u001b[38;5;124m\"\u001b[39m,\n\u001b[0;32m    879\u001b[0m         )\n\u001b[0;32m    880\u001b[0m     \u001b[38;5;28;01melse\u001b[39;00m:\n\u001b[0;32m    881\u001b[0m         \u001b[38;5;66;03m# Binary mode\u001b[39;00m\n\u001b[0;32m    882\u001b[0m         handle \u001b[38;5;241m=\u001b[39m \u001b[38;5;28mopen\u001b[39m(handle, ioargs\u001b[38;5;241m.\u001b[39mmode)\n",
      "\u001b[1;31mOSError\u001b[0m: [Errno 22] Invalid argument: 'Datasets/df_us_masters.csv'"
     ]
    }
   ],
   "source": [
    "# get all rock_styles in one year in one country\n",
    "\n",
    "url = \"https://api.discogs.com/database/search\"\n",
    "headers = {\"User-Agent\": 'Arnau', \"Authorization\": \"Discogs token=UwfqmsztxwnfABgQpmhaAsprbUgpOJKGOJSQAqfp\"}\n",
    "\n",
    "# import the df of the albums from the US scraped so far (from 1960)\n",
    "df_us_masters_scraped = pd.read_csv('Datasets/df_us_masters.csv')\n",
    "\n",
    "# explode 'styles'\n",
    "df_us_masters_scraped['styles'] = df_us_masters_scraped[\"styles\"].apply(ast.literal_eval)\n",
    "df_styles = df_us_masters_scraped.explode('styles')\n",
    "top_80_styles = df_styles['styles'].value_counts().head(80).index.to_list()\n",
    "styles_list = []\n",
    "count_list = []\n",
    "\n",
    "for style in top_80_styles:\n",
    "    # Define parameters for artist search\n",
    "    params = {\n",
    "        \"per_page\": 100    # Number of results per page (max 100)\n",
    "        , 'type': 'release'\n",
    "        , 'format': 'album'\n",
    "        , 'genre': 'Rock'\n",
    "\n",
    "        # items to change\n",
    "        , 'country': 'US'\n",
    "        , 'year': 2004\n",
    "        , 'style': style\n",
    "    }\n",
    "\n",
    "    response = requests.get(url, headers=headers, params=params)\n",
    "    data = response.json()\n",
    "    items_number = data['pagination']['items']  # number of items\n",
    "\n",
    "    print(f\"{style}: {items_number}\")\n",
    "    time.sleep(2)\n",
    "\n",
    "    styles_list.append(style)\n",
    "    count_list.append(items_number)\n",
    "\n",
    "# save the data in a df and export it\n",
    "data = pd.DataFrame({'style': styles_list, 'albums': count_list})"
   ]
  },
  {
   "cell_type": "code",
   "execution_count": null,
   "metadata": {},
   "outputs": [
    {
     "data": {
      "text/html": [
       "<div>\n",
       "<style scoped>\n",
       "    .dataframe tbody tr th:only-of-type {\n",
       "        vertical-align: middle;\n",
       "    }\n",
       "\n",
       "    .dataframe tbody tr th {\n",
       "        vertical-align: top;\n",
       "    }\n",
       "\n",
       "    .dataframe thead th {\n",
       "        text-align: right;\n",
       "    }\n",
       "</style>\n",
       "<table border=\"1\" class=\"dataframe\">\n",
       "  <thead>\n",
       "    <tr style=\"text-align: right;\">\n",
       "      <th></th>\n",
       "      <th>style</th>\n",
       "      <th>albums</th>\n",
       "    </tr>\n",
       "  </thead>\n",
       "  <tbody>\n",
       "    <tr>\n",
       "      <th>0</th>\n",
       "      <td>Punk</td>\n",
       "      <td>1666</td>\n",
       "    </tr>\n",
       "    <tr>\n",
       "      <th>1</th>\n",
       "      <td>Alternative Rock</td>\n",
       "      <td>1495</td>\n",
       "    </tr>\n",
       "    <tr>\n",
       "      <th>2</th>\n",
       "      <td>Indie Rock</td>\n",
       "      <td>1438</td>\n",
       "    </tr>\n",
       "    <tr>\n",
       "      <th>3</th>\n",
       "      <td>Pop Rock</td>\n",
       "      <td>1107</td>\n",
       "    </tr>\n",
       "    <tr>\n",
       "      <th>4</th>\n",
       "      <td>Hardcore</td>\n",
       "      <td>849</td>\n",
       "    </tr>\n",
       "    <tr>\n",
       "      <th>...</th>\n",
       "      <td>...</td>\n",
       "      <td>...</td>\n",
       "    </tr>\n",
       "    <tr>\n",
       "      <th>75</th>\n",
       "      <td>Doo Wop</td>\n",
       "      <td>18</td>\n",
       "    </tr>\n",
       "    <tr>\n",
       "      <th>76</th>\n",
       "      <td>Jazz-Funk</td>\n",
       "      <td>14</td>\n",
       "    </tr>\n",
       "    <tr>\n",
       "      <th>77</th>\n",
       "      <td>New Age</td>\n",
       "      <td>11</td>\n",
       "    </tr>\n",
       "    <tr>\n",
       "      <th>78</th>\n",
       "      <td>Disco</td>\n",
       "      <td>9</td>\n",
       "    </tr>\n",
       "    <tr>\n",
       "      <th>79</th>\n",
       "      <td>Easy Listening</td>\n",
       "      <td>5</td>\n",
       "    </tr>\n",
       "  </tbody>\n",
       "</table>\n",
       "<p>80 rows × 2 columns</p>\n",
       "</div>"
      ],
      "text/plain": [
       "               style  albums\n",
       "0               Punk    1666\n",
       "1   Alternative Rock    1495\n",
       "2         Indie Rock    1438\n",
       "3           Pop Rock    1107\n",
       "4           Hardcore     849\n",
       "..               ...     ...\n",
       "75           Doo Wop      18\n",
       "76         Jazz-Funk      14\n",
       "77           New Age      11\n",
       "78             Disco       9\n",
       "79    Easy Listening       5\n",
       "\n",
       "[80 rows x 2 columns]"
      ]
     },
     "execution_count": 9,
     "metadata": {},
     "output_type": "execute_result"
    }
   ],
   "source": [
    "data = data.sort_values('albums', ascending=False)\n",
    "data.reset_index(drop=True, inplace=True)\n",
    "data"
   ]
  },
  {
   "cell_type": "code",
   "execution_count": null,
   "metadata": {},
   "outputs": [
    {
     "data": {
      "image/png": "[encoded data removed]",
      "text/plain": [
       "<Figure size 1000x2000 with 1 Axes>"
      ]
     },
     "metadata": {},
     "output_type": "display_data"
    }
   ],
   "source": [
    "plt.figure(figsize=(10, 20))\n",
    "sns.barplot(data=data, y=\"style\", x=\"albums\", palette=\"Blues_r\")\n",
    "plt.xlabel(\"Number of Albums\")\n",
    "plt.ylabel(\"Style\")\n",
    "plt.title(\"Most common styles in 2002 USA\")\n",
    "plt.show()"
   ]
  },
  {
   "cell_type": "markdown",
   "metadata": {},
   "source": [
    "## Top 50 styles for all the albums, UK and US"
   ]
  },
  {
   "cell_type": "code",
   "execution_count": null,
   "metadata": {},
   "outputs": [],
   "source": [
    "df = pd.read_csv('Datasets/df_masters_blended.csv')\n",
    "df['styles'] = df[\"styles\"].apply(ast.literal_eval)\n",
    "df_styles = df.explode('styles')\n",
    "top_50_styles = df_styles['styles'].value_counts().head(50).index.to_list()"
   ]
  },
  {
   "cell_type": "code",
   "execution_count": null,
   "metadata": {},
   "outputs": [
    {
     "data": {
      "text/plain": [
       "styles\n",
       "Alternative Rock     2075\n",
       "Indie Rock           1993\n",
       "Pop Rock             1314\n",
       "Hard Rock            1035\n",
       "Punk                  987\n",
       "Heavy Metal           976\n",
       "Prog Rock             824\n",
       "Hardcore              664\n",
       "Death Metal           654\n",
       "Psychedelic Rock      634\n",
       "Folk Rock             632\n",
       "Experimental          581\n",
       "Thrash                482\n",
       "Art Rock              415\n",
       "Blues Rock            405\n",
       "Black Metal           389\n",
       "New Wave              329\n",
       "Synth-pop             273\n",
       "Doom Metal            267\n",
       "Classic Rock          263\n",
       "Emo                   255\n",
       "Acoustic              249\n",
       "Post-Punk             241\n",
       "Post Rock             240\n",
       "Avantgarde            235\n",
       "Rock & Roll           220\n",
       "Metalcore             204\n",
       "Progressive Metal     204\n",
       "Soft Rock             195\n",
       "Post-Hardcore         185\n",
       "Shoegaze              183\n",
       "Industrial            180\n",
       "Country Rock          177\n",
       "Indie Pop             160\n",
       "Glam                  159\n",
       "Pop Punk              157\n",
       "Stoner Rock           146\n",
       "Speed Metal           146\n",
       "Garage Rock           145\n",
       "Math Rock             144\n",
       "Lo-Fi                 143\n",
       "Noise                 126\n",
       "Folk                  117\n",
       "Space Rock            116\n",
       "Jazz-Rock             114\n",
       "Ambient               112\n",
       "Grunge                109\n",
       "Power Pop             106\n",
       "Arena Rock            100\n",
       "Symphonic Rock         98\n",
       "Name: count, dtype: int64"
      ]
     },
     "execution_count": 13,
     "metadata": {},
     "output_type": "execute_result"
    }
   ],
   "source": [
    "df_styles['styles'].value_counts().head(50)"
   ]
  },
  {
   "cell_type": "code",
   "execution_count": null,
   "metadata": {},
   "outputs": [
    {
     "data": {
      "text/plain": [
       "1993.6722891566264"
      ]
     },
     "execution_count": 16,
     "metadata": {},
     "output_type": "execute_result"
    }
   ],
   "source": [
    "df_styles[df_styles['styles']=='Art Rock'].year.mean()"
   ]
  },
  {
   "cell_type": "code",
   "execution_count": null,
   "metadata": {},
   "outputs": [
    {
     "data": {
      "text/plain": [
       "987"
      ]
     },
     "execution_count": 39,
     "metadata": {},
     "output_type": "execute_result"
    }
   ],
   "source": [
    "df_styles[df_styles['styles']=='Punk']['artist'].count()"
   ]
  },
  {
   "cell_type": "markdown",
   "metadata": {},
   "source": [
    "### **Styles analysis** for number of albums and average year"
   ]
  },
  {
   "cell_type": "code",
   "execution_count": null,
   "metadata": {},
   "outputs": [],
   "source": [
    "# get the average year of each style\n",
    "top_50_styles = df_styles['styles'].value_counts().head(100)\n",
    "top_styles = df_styles['styles'].value_counts().head(100).index.to_list()\n",
    "albums = top_50_styles.values\n",
    "years = []\n",
    "styles = []\n",
    "albums_count = []\n",
    "\n",
    "for style in top_styles:\n",
    "    avg_year = int(df_styles[df_styles['styles']==style].year.mean())\n",
    "    albums = df_styles[df_styles['styles']==style]['artist'].count()\n",
    "    years.append(avg_year)\n",
    "    styles.append(style)\n",
    "    albums_count.append(albums)\n",
    "\n",
    "df_styles_years = pd.DataFrame({'style': styles, 'albums': albums_count, 'avg_year': years})"
   ]
  },
  {
   "cell_type": "code",
   "execution_count": null,
   "metadata": {},
   "outputs": [
    {
     "data": {
      "text/html": [
       "<div>\n",
       "<style scoped>\n",
       "    .dataframe tbody tr th:only-of-type {\n",
       "        vertical-align: middle;\n",
       "    }\n",
       "\n",
       "    .dataframe tbody tr th {\n",
       "        vertical-align: top;\n",
       "    }\n",
       "\n",
       "    .dataframe thead th {\n",
       "        text-align: right;\n",
       "    }\n",
       "</style>\n",
       "<table border=\"1\" class=\"dataframe\">\n",
       "  <thead>\n",
       "    <tr style=\"text-align: right;\">\n",
       "      <th></th>\n",
       "      <th>style</th>\n",
       "      <th>albums</th>\n",
       "      <th>avg_year</th>\n",
       "    </tr>\n",
       "  </thead>\n",
       "  <tbody>\n",
       "    <tr>\n",
       "      <th>50</th>\n",
       "      <td>Fusion</td>\n",
       "      <td>93</td>\n",
       "      <td>1982</td>\n",
       "    </tr>\n",
       "    <tr>\n",
       "      <th>51</th>\n",
       "      <td>Grindcore</td>\n",
       "      <td>92</td>\n",
       "      <td>2002</td>\n",
       "    </tr>\n",
       "    <tr>\n",
       "      <th>52</th>\n",
       "      <td>Nu Metal</td>\n",
       "      <td>90</td>\n",
       "      <td>2005</td>\n",
       "    </tr>\n",
       "    <tr>\n",
       "      <th>53</th>\n",
       "      <td>Ballad</td>\n",
       "      <td>87</td>\n",
       "      <td>1995</td>\n",
       "    </tr>\n",
       "    <tr>\n",
       "      <th>54</th>\n",
       "      <td>Electro</td>\n",
       "      <td>86</td>\n",
       "      <td>2007</td>\n",
       "    </tr>\n",
       "    <tr>\n",
       "      <th>55</th>\n",
       "      <td>Sludge Metal</td>\n",
       "      <td>82</td>\n",
       "      <td>2009</td>\n",
       "    </tr>\n",
       "    <tr>\n",
       "      <th>56</th>\n",
       "      <td>Downtempo</td>\n",
       "      <td>80</td>\n",
       "      <td>2004</td>\n",
       "    </tr>\n",
       "    <tr>\n",
       "      <th>57</th>\n",
       "      <td>Goth Rock</td>\n",
       "      <td>78</td>\n",
       "      <td>1994</td>\n",
       "    </tr>\n",
       "    <tr>\n",
       "      <th>58</th>\n",
       "      <td>Southern Rock</td>\n",
       "      <td>77</td>\n",
       "      <td>1989</td>\n",
       "    </tr>\n",
       "    <tr>\n",
       "      <th>59</th>\n",
       "      <td>Ethereal</td>\n",
       "      <td>74</td>\n",
       "      <td>1999</td>\n",
       "    </tr>\n",
       "    <tr>\n",
       "      <th>60</th>\n",
       "      <td>Ska</td>\n",
       "      <td>74</td>\n",
       "      <td>1997</td>\n",
       "    </tr>\n",
       "    <tr>\n",
       "      <th>61</th>\n",
       "      <td>Noise Rock</td>\n",
       "      <td>73</td>\n",
       "      <td>1999</td>\n",
       "    </tr>\n",
       "    <tr>\n",
       "      <th>62</th>\n",
       "      <td>Power Metal</td>\n",
       "      <td>73</td>\n",
       "      <td>1998</td>\n",
       "    </tr>\n",
       "    <tr>\n",
       "      <th>63</th>\n",
       "      <td>Funk Metal</td>\n",
       "      <td>70</td>\n",
       "      <td>1994</td>\n",
       "    </tr>\n",
       "    <tr>\n",
       "      <th>64</th>\n",
       "      <td>Leftfield</td>\n",
       "      <td>66</td>\n",
       "      <td>2002</td>\n",
       "    </tr>\n",
       "    <tr>\n",
       "      <th>65</th>\n",
       "      <td>Melodic Death Metal</td>\n",
       "      <td>61</td>\n",
       "      <td>2005</td>\n",
       "    </tr>\n",
       "    <tr>\n",
       "      <th>66</th>\n",
       "      <td>Melodic Hardcore</td>\n",
       "      <td>60</td>\n",
       "      <td>2009</td>\n",
       "    </tr>\n",
       "    <tr>\n",
       "      <th>67</th>\n",
       "      <td>Post-Metal</td>\n",
       "      <td>59</td>\n",
       "      <td>2015</td>\n",
       "    </tr>\n",
       "    <tr>\n",
       "      <th>68</th>\n",
       "      <td>Alternative Metal</td>\n",
       "      <td>58</td>\n",
       "      <td>2002</td>\n",
       "    </tr>\n",
       "    <tr>\n",
       "      <th>69</th>\n",
       "      <td>Britpop</td>\n",
       "      <td>57</td>\n",
       "      <td>1999</td>\n",
       "    </tr>\n",
       "    <tr>\n",
       "      <th>70</th>\n",
       "      <td>Funk</td>\n",
       "      <td>55</td>\n",
       "      <td>1991</td>\n",
       "    </tr>\n",
       "    <tr>\n",
       "      <th>71</th>\n",
       "      <td>Dream Pop</td>\n",
       "      <td>52</td>\n",
       "      <td>2005</td>\n",
       "    </tr>\n",
       "    <tr>\n",
       "      <th>72</th>\n",
       "      <td>Country</td>\n",
       "      <td>49</td>\n",
       "      <td>1995</td>\n",
       "    </tr>\n",
       "    <tr>\n",
       "      <th>73</th>\n",
       "      <td>Soul</td>\n",
       "      <td>49</td>\n",
       "      <td>1988</td>\n",
       "    </tr>\n",
       "    <tr>\n",
       "      <th>76</th>\n",
       "      <td>Gothic Metal</td>\n",
       "      <td>48</td>\n",
       "      <td>2003</td>\n",
       "    </tr>\n",
       "    <tr>\n",
       "      <th>75</th>\n",
       "      <td>Krautrock</td>\n",
       "      <td>48</td>\n",
       "      <td>1985</td>\n",
       "    </tr>\n",
       "    <tr>\n",
       "      <th>74</th>\n",
       "      <td>Rhythm &amp; Blues</td>\n",
       "      <td>48</td>\n",
       "      <td>1977</td>\n",
       "    </tr>\n",
       "    <tr>\n",
       "      <th>77</th>\n",
       "      <td>Industrial Metal</td>\n",
       "      <td>47</td>\n",
       "      <td>2001</td>\n",
       "    </tr>\n",
       "    <tr>\n",
       "      <th>78</th>\n",
       "      <td>AOR</td>\n",
       "      <td>47</td>\n",
       "      <td>1987</td>\n",
       "    </tr>\n",
       "    <tr>\n",
       "      <th>79</th>\n",
       "      <td>Technical Death Metal</td>\n",
       "      <td>47</td>\n",
       "      <td>2006</td>\n",
       "    </tr>\n",
       "    <tr>\n",
       "      <th>80</th>\n",
       "      <td>Abstract</td>\n",
       "      <td>46</td>\n",
       "      <td>2000</td>\n",
       "    </tr>\n",
       "    <tr>\n",
       "      <th>81</th>\n",
       "      <td>Vocal</td>\n",
       "      <td>46</td>\n",
       "      <td>1986</td>\n",
       "    </tr>\n",
       "    <tr>\n",
       "      <th>82</th>\n",
       "      <td>Symphonic Metal</td>\n",
       "      <td>44</td>\n",
       "      <td>2003</td>\n",
       "    </tr>\n",
       "    <tr>\n",
       "      <th>83</th>\n",
       "      <td>Deathcore</td>\n",
       "      <td>41</td>\n",
       "      <td>2015</td>\n",
       "    </tr>\n",
       "    <tr>\n",
       "      <th>84</th>\n",
       "      <td>Groove Metal</td>\n",
       "      <td>34</td>\n",
       "      <td>1998</td>\n",
       "    </tr>\n",
       "    <tr>\n",
       "      <th>85</th>\n",
       "      <td>Dub</td>\n",
       "      <td>34</td>\n",
       "      <td>1994</td>\n",
       "    </tr>\n",
       "    <tr>\n",
       "      <th>86</th>\n",
       "      <td>Disco</td>\n",
       "      <td>32</td>\n",
       "      <td>1995</td>\n",
       "    </tr>\n",
       "    <tr>\n",
       "      <th>87</th>\n",
       "      <td>Soundtrack</td>\n",
       "      <td>31</td>\n",
       "      <td>1988</td>\n",
       "    </tr>\n",
       "    <tr>\n",
       "      <th>88</th>\n",
       "      <td>Acid Rock</td>\n",
       "      <td>29</td>\n",
       "      <td>1986</td>\n",
       "    </tr>\n",
       "    <tr>\n",
       "      <th>89</th>\n",
       "      <td>Surf</td>\n",
       "      <td>26</td>\n",
       "      <td>1990</td>\n",
       "    </tr>\n",
       "    <tr>\n",
       "      <th>90</th>\n",
       "      <td>Trip Hop</td>\n",
       "      <td>26</td>\n",
       "      <td>2006</td>\n",
       "    </tr>\n",
       "    <tr>\n",
       "      <th>91</th>\n",
       "      <td>Viking Metal</td>\n",
       "      <td>25</td>\n",
       "      <td>2001</td>\n",
       "    </tr>\n",
       "    <tr>\n",
       "      <th>92</th>\n",
       "      <td>Horror Rock</td>\n",
       "      <td>25</td>\n",
       "      <td>1988</td>\n",
       "    </tr>\n",
       "    <tr>\n",
       "      <th>93</th>\n",
       "      <td>Modern Classical</td>\n",
       "      <td>25</td>\n",
       "      <td>1996</td>\n",
       "    </tr>\n",
       "    <tr>\n",
       "      <th>94</th>\n",
       "      <td>Mod</td>\n",
       "      <td>24</td>\n",
       "      <td>1975</td>\n",
       "    </tr>\n",
       "    <tr>\n",
       "      <th>95</th>\n",
       "      <td>Baroque Pop</td>\n",
       "      <td>23</td>\n",
       "      <td>2000</td>\n",
       "    </tr>\n",
       "    <tr>\n",
       "      <th>96</th>\n",
       "      <td>Jangle Pop</td>\n",
       "      <td>23</td>\n",
       "      <td>1989</td>\n",
       "    </tr>\n",
       "    <tr>\n",
       "      <th>97</th>\n",
       "      <td>Beat</td>\n",
       "      <td>23</td>\n",
       "      <td>1969</td>\n",
       "    </tr>\n",
       "    <tr>\n",
       "      <th>98</th>\n",
       "      <td>Atmospheric Black Metal</td>\n",
       "      <td>23</td>\n",
       "      <td>2017</td>\n",
       "    </tr>\n",
       "    <tr>\n",
       "      <th>99</th>\n",
       "      <td>Neofolk</td>\n",
       "      <td>22</td>\n",
       "      <td>1999</td>\n",
       "    </tr>\n",
       "  </tbody>\n",
       "</table>\n",
       "</div>"
      ],
      "text/plain": [
       "                      style  albums  avg_year\n",
       "50                   Fusion      93      1982\n",
       "51                Grindcore      92      2002\n",
       "52                 Nu Metal      90      2005\n",
       "53                   Ballad      87      1995\n",
       "54                  Electro      86      2007\n",
       "55             Sludge Metal      82      2009\n",
       "56                Downtempo      80      2004\n",
       "57                Goth Rock      78      1994\n",
       "58            Southern Rock      77      1989\n",
       "59                 Ethereal      74      1999\n",
       "60                      Ska      74      1997\n",
       "61               Noise Rock      73      1999\n",
       "62              Power Metal      73      1998\n",
       "63               Funk Metal      70      1994\n",
       "64                Leftfield      66      2002\n",
       "65      Melodic Death Metal      61      2005\n",
       "66         Melodic Hardcore      60      2009\n",
       "67               Post-Metal      59      2015\n",
       "68        Alternative Metal      58      2002\n",
       "69                  Britpop      57      1999\n",
       "70                     Funk      55      1991\n",
       "71                Dream Pop      52      2005\n",
       "72                  Country      49      1995\n",
       "73                     Soul      49      1988\n",
       "76             Gothic Metal      48      2003\n",
       "75                Krautrock      48      1985\n",
       "74           Rhythm & Blues      48      1977\n",
       "77         Industrial Metal      47      2001\n",
       "78                      AOR      47      1987\n",
       "79    Technical Death Metal      47      2006\n",
       "80                 Abstract      46      2000\n",
       "81                    Vocal      46      1986\n",
       "82          Symphonic Metal      44      2003\n",
       "83                Deathcore      41      2015\n",
       "84             Groove Metal      34      1998\n",
       "85                      Dub      34      1994\n",
       "86                    Disco      32      1995\n",
       "87               Soundtrack      31      1988\n",
       "88                Acid Rock      29      1986\n",
       "89                     Surf      26      1990\n",
       "90                 Trip Hop      26      2006\n",
       "91             Viking Metal      25      2001\n",
       "92              Horror Rock      25      1988\n",
       "93         Modern Classical      25      1996\n",
       "94                      Mod      24      1975\n",
       "95              Baroque Pop      23      2000\n",
       "96               Jangle Pop      23      1989\n",
       "97                     Beat      23      1969\n",
       "98  Atmospheric Black Metal      23      2017\n",
       "99                  Neofolk      22      1999"
      ]
     },
     "execution_count": 66,
     "metadata": {},
     "output_type": "execute_result"
    }
   ],
   "source": [
    "df_styles_years.sort_values('albums', ascending=False).tail(50)"
   ]
  },
  {
   "cell_type": "markdown",
   "metadata": {},
   "source": [
    "**Styles Grouping (1960s–2020s Focus)**\n",
    "\n",
    "**1. Alternative & Indie Rock (80s–2020s)**\n",
    "\n",
    "✅ Alternative Rock, Indie Rock, Pop Rock, New Wave, Emo, Post Rock, Shoegaze, Indie Pop \n",
    "\n",
    "**2. Hard Rock & Metal (70s–2020s)**\n",
    "\n",
    "✅ Hard Rock, Heavy Metal, Death Metal, Thrash, Black Metal, Doom Metal, Metalcore, Progressive Metal, Stoner Rock, Speed Metal, Nu Metal\n",
    "\n",
    "**3. Classic & Psychedelic Rock (60s–80s, some revival)**\n",
    "\n",
    "✅ Prog Rock, Psychedelic Rock, Art Rock, Classic Rock, Space Rock, Symphonic Rock\n",
    "\n",
    "**4. Punk & Hardcore (70s–2020s)**\n",
    "\n",
    "✅ Punk, Hardcore, Post-Punk, Post-Hardcore, Pop Punk, Grunge, Garage Rock\n",
    "\n",
    "**5. Roots Rock & Blues (50s–present)**\n",
    "\n",
    "✅ Folk Rock, Blues Rock, Rock & Roll, Soft Rock, Country Rock, Southern Rock"
   ]
  },
  {
   "cell_type": "markdown",
   "metadata": {},
   "source": [
    "**What to Drop? (Even for the 60s–2020s range)**\n",
    "\n",
    "These styles aren’t really rock in any decade:\n",
    "\n",
    "❌ Easy Listening, New Age, Free Improvisation, Abstract, Rhythm & Blues, Doo Wop, Soul, Bluegrass, Vocal, Ballad, Jazz-Funk, Disco, Funk\n",
    "\n",
    "Why? They either:\n",
    "- Weren’t major parts of the rock genre (Disco, Funk, Soul, R&B, etc.).\n",
    "- Were independent movements that didn't blend much with rock (New Age, Easy Listening, Jazz-Funk)."
   ]
  },
  {
   "cell_type": "code",
   "execution_count": null,
   "metadata": {},
   "outputs": [
    {
     "data": {
      "text/plain": [
       "artist\n",
       "Def Leppard           8\n",
       "Scorpions             4\n",
       "Heart                 4\n",
       "Asia                  4\n",
       "Journey               4\n",
       "Dokken                3\n",
       "Kansas                3\n",
       "Meat Loaf             3\n",
       "Uriah Heep            3\n",
       "Boston                3\n",
       "Phish                 3\n",
       "AC/DC                 2\n",
       "Ratt                  2\n",
       "Mr. Big               2\n",
       "Foreigner             2\n",
       "Magnum                2\n",
       "Firehouse             2\n",
       "Europe                2\n",
       "Queen                 2\n",
       "REO Speedwagon        2\n",
       "Triumph               2\n",
       "Kix                   2\n",
       "Aerosmith             2\n",
       "KISS                  1\n",
       "Frank Zappa           1\n",
       "The Darkness          1\n",
       "Roger Waters          1\n",
       "Deep Purple           1\n",
       "Survivor              1\n",
       "Pink Floyd            1\n",
       "Neil Young            1\n",
       "Guns N' Roses         1\n",
       "Joe Satriani          1\n",
       "Bad Company           1\n",
       "Yes                   1\n",
       "Slade                 1\n",
       "Mr. Mister            1\n",
       "Praxis                1\n",
       "Loverboy              1\n",
       "Simple Minds          1\n",
       "U2                    1\n",
       "Andrew W.K.           1\n",
       "Dave Matthews Band    1\n",
       "Don Dokken            1\n",
       "Kane Roberts          1\n",
       "Night Ranger          1\n",
       "Innerpartysystem      1\n",
       "Styx                  1\n",
       "Bon Jovi              1\n",
       "Poison                1\n",
       "Winger                1\n",
       "Architects            1\n",
       "Bad English           1\n",
       "Van Halen             1\n",
       "INXS                  1\n",
       "Quiet Riot            1\n",
       "Cheap Trick           1\n",
       "Name: count, dtype: int64"
      ]
     },
     "execution_count": 78,
     "metadata": {},
     "output_type": "execute_result"
    }
   ],
   "source": [
    "df_styles[df_styles['styles']=='Arena Rock']['artist'].value_counts()"
   ]
  },
  {
   "cell_type": "code",
   "execution_count": null,
   "metadata": {},
   "outputs": [
    {
     "data": {
      "text/plain": [
       "145"
      ]
     },
     "execution_count": 73,
     "metadata": {},
     "output_type": "execute_result"
    }
   ],
   "source": [
    "df_styles[df_styles['styles']=='Garage Rock']['artist'].count()"
   ]
  },
  {
   "cell_type": "code",
   "execution_count": null,
   "metadata": {},
   "outputs": [
    {
     "data": {
      "text/html": [
       "<div>\n",
       "<style scoped>\n",
       "    .dataframe tbody tr th:only-of-type {\n",
       "        vertical-align: middle;\n",
       "    }\n",
       "\n",
       "    .dataframe tbody tr th {\n",
       "        vertical-align: top;\n",
       "    }\n",
       "\n",
       "    .dataframe thead th {\n",
       "        text-align: right;\n",
       "    }\n",
       "</style>\n",
       "<table border=\"1\" class=\"dataframe\">\n",
       "  <thead>\n",
       "    <tr style=\"text-align: right;\">\n",
       "      <th></th>\n",
       "      <th>artist_id</th>\n",
       "      <th>master_id</th>\n",
       "      <th>main_release_id</th>\n",
       "      <th>release_country</th>\n",
       "      <th>artist</th>\n",
       "      <th>title</th>\n",
       "      <th>year</th>\n",
       "      <th>album_length</th>\n",
       "      <th>tracks</th>\n",
       "      <th>release_type</th>\n",
       "      <th>genres</th>\n",
       "      <th>styles</th>\n",
       "      <th>artist_profile</th>\n",
       "    </tr>\n",
       "  </thead>\n",
       "  <tbody>\n",
       "    <tr>\n",
       "      <th>4408</th>\n",
       "      <td>272426</td>\n",
       "      <td>252597</td>\n",
       "      <td>4057583</td>\n",
       "      <td>US</td>\n",
       "      <td>Buddy Holly</td>\n",
       "      <td>Buddy Holly</td>\n",
       "      <td>1958</td>\n",
       "      <td>0.00</td>\n",
       "      <td>12</td>\n",
       "      <td>['LP', 'Album']</td>\n",
       "      <td>['Rock', 'Pop']</td>\n",
       "      <td>Rockabilly</td>\n",
       "      <td>American guitarist, singer and songwriter, bes...</td>\n",
       "    </tr>\n",
       "    <tr>\n",
       "      <th>4886</th>\n",
       "      <td>49624</td>\n",
       "      <td>210587</td>\n",
       "      <td>13285348</td>\n",
       "      <td>South Korea</td>\n",
       "      <td>Jeff Beck</td>\n",
       "      <td>Crazy Legs</td>\n",
       "      <td>1993</td>\n",
       "      <td>40.52</td>\n",
       "      <td>18</td>\n",
       "      <td>['Album']</td>\n",
       "      <td>['Rock']</td>\n",
       "      <td>Rockabilly</td>\n",
       "      <td>British guitarist.\\r\\nBorn: June 24, 1944, in ...</td>\n",
       "    </tr>\n",
       "    <tr>\n",
       "      <th>5184</th>\n",
       "      <td>272426</td>\n",
       "      <td>183346</td>\n",
       "      <td>1371149</td>\n",
       "      <td>US</td>\n",
       "      <td>Buddy Holly</td>\n",
       "      <td>That'll be the Day</td>\n",
       "      <td>1958</td>\n",
       "      <td>25.15</td>\n",
       "      <td>11</td>\n",
       "      <td>['LP', 'Album', 'Mono']</td>\n",
       "      <td>['Rock']</td>\n",
       "      <td>Rockabilly</td>\n",
       "      <td>American guitarist, singer and songwriter, bes...</td>\n",
       "    </tr>\n",
       "    <tr>\n",
       "      <th>6366</th>\n",
       "      <td>27518</td>\n",
       "      <td>107325</td>\n",
       "      <td>4814324</td>\n",
       "      <td>US</td>\n",
       "      <td>Elvis Presley</td>\n",
       "      <td>Elvis Presley</td>\n",
       "      <td>1956</td>\n",
       "      <td>0.00</td>\n",
       "      <td>12</td>\n",
       "      <td>['LP', 'Album', 'Mono']</td>\n",
       "      <td>['Rock', 'Pop']</td>\n",
       "      <td>Rockabilly</td>\n",
       "      <td>American singer.\\r\\nBorn: 8 January 1935 in Ea...</td>\n",
       "    </tr>\n",
       "    <tr>\n",
       "      <th>7060</th>\n",
       "      <td>253328</td>\n",
       "      <td>83700</td>\n",
       "      <td>900466</td>\n",
       "      <td>Australia</td>\n",
       "      <td>The Living End</td>\n",
       "      <td>State Of Emergency</td>\n",
       "      <td>2006</td>\n",
       "      <td>51.73</td>\n",
       "      <td>14</td>\n",
       "      <td>['Album']</td>\n",
       "      <td>['Rock']</td>\n",
       "      <td>Rockabilly</td>\n",
       "      <td>Punk rock band from Melbourne, Australia.\\r\\nF...</td>\n",
       "    </tr>\n",
       "    <tr>\n",
       "      <th>7061</th>\n",
       "      <td>253328</td>\n",
       "      <td>83698</td>\n",
       "      <td>373583</td>\n",
       "      <td>Australia</td>\n",
       "      <td>The Living End</td>\n",
       "      <td>The Living End</td>\n",
       "      <td>1998</td>\n",
       "      <td>47.00</td>\n",
       "      <td>14</td>\n",
       "      <td>['Album']</td>\n",
       "      <td>['Rock']</td>\n",
       "      <td>Rockabilly</td>\n",
       "      <td>Punk rock band from Melbourne, Australia.\\r\\nF...</td>\n",
       "    </tr>\n",
       "    <tr>\n",
       "      <th>7320</th>\n",
       "      <td>135946</td>\n",
       "      <td>73462</td>\n",
       "      <td>5780483</td>\n",
       "      <td>US</td>\n",
       "      <td>Johnny Cash</td>\n",
       "      <td>I Walk The Line</td>\n",
       "      <td>1964</td>\n",
       "      <td>32.32</td>\n",
       "      <td>12</td>\n",
       "      <td>['LP', 'Album', 'Mono']</td>\n",
       "      <td>['Rock', 'Folk, World, &amp; Country']</td>\n",
       "      <td>Rockabilly</td>\n",
       "      <td>Johnny Cash was an American singer-songwriter,...</td>\n",
       "    </tr>\n",
       "    <tr>\n",
       "      <th>7321</th>\n",
       "      <td>135946</td>\n",
       "      <td>73420</td>\n",
       "      <td>7684728</td>\n",
       "      <td>US</td>\n",
       "      <td>Johnny Cash</td>\n",
       "      <td>The Fabulous Johnny Cash</td>\n",
       "      <td>1958</td>\n",
       "      <td>0.00</td>\n",
       "      <td>12</td>\n",
       "      <td>['LP', 'Album', 'Mono']</td>\n",
       "      <td>['Rock', 'Folk, World, &amp; Country']</td>\n",
       "      <td>Rockabilly</td>\n",
       "      <td>Johnny Cash was an American singer-songwriter,...</td>\n",
       "    </tr>\n",
       "    <tr>\n",
       "      <th>7470</th>\n",
       "      <td>180921</td>\n",
       "      <td>69584</td>\n",
       "      <td>1690027</td>\n",
       "      <td>UK</td>\n",
       "      <td>Stray Cats</td>\n",
       "      <td>Stray Cats</td>\n",
       "      <td>1981</td>\n",
       "      <td>0.00</td>\n",
       "      <td>12</td>\n",
       "      <td>['LP', 'Album']</td>\n",
       "      <td>['Rock']</td>\n",
       "      <td>Rockabilly</td>\n",
       "      <td>The Stray Cats are a rockabilly band first for...</td>\n",
       "    </tr>\n",
       "    <tr>\n",
       "      <th>7472</th>\n",
       "      <td>180921</td>\n",
       "      <td>69576</td>\n",
       "      <td>1346627</td>\n",
       "      <td>UK</td>\n",
       "      <td>Stray Cats</td>\n",
       "      <td>Gonna Ball</td>\n",
       "      <td>1981</td>\n",
       "      <td>32.77</td>\n",
       "      <td>11</td>\n",
       "      <td>['LP', 'Album']</td>\n",
       "      <td>['Rock']</td>\n",
       "      <td>Rockabilly</td>\n",
       "      <td>The Stray Cats are a rockabilly band first for...</td>\n",
       "    </tr>\n",
       "    <tr>\n",
       "      <th>8147</th>\n",
       "      <td>39779</td>\n",
       "      <td>53399</td>\n",
       "      <td>1114416</td>\n",
       "      <td>US</td>\n",
       "      <td>The Cramps</td>\n",
       "      <td>Flamejob</td>\n",
       "      <td>1994</td>\n",
       "      <td>0.00</td>\n",
       "      <td>15</td>\n",
       "      <td>['LP', 'Album', 'Special Edition']</td>\n",
       "      <td>['Rock']</td>\n",
       "      <td>Rockabilly</td>\n",
       "      <td>The Cramps was an American punk band originall...</td>\n",
       "    </tr>\n",
       "    <tr>\n",
       "      <th>9021</th>\n",
       "      <td>47333</td>\n",
       "      <td>38682</td>\n",
       "      <td>1956566</td>\n",
       "      <td>UK</td>\n",
       "      <td>Fleetwood Mac</td>\n",
       "      <td>Kiln House</td>\n",
       "      <td>1970</td>\n",
       "      <td>0.00</td>\n",
       "      <td>10</td>\n",
       "      <td>['LP', 'Album', 'Stereo']</td>\n",
       "      <td>['Rock']</td>\n",
       "      <td>Rockabilly</td>\n",
       "      <td>Founded in London in July 1967 (by ex-[url=htt...</td>\n",
       "    </tr>\n",
       "    <tr>\n",
       "      <th>9695</th>\n",
       "      <td>46373</td>\n",
       "      <td>29633</td>\n",
       "      <td>2732727</td>\n",
       "      <td>UK &amp; Europe</td>\n",
       "      <td>Billy Idol</td>\n",
       "      <td>Charmed Life</td>\n",
       "      <td>1990</td>\n",
       "      <td>53.03</td>\n",
       "      <td>11</td>\n",
       "      <td>['Album']</td>\n",
       "      <td>['Rock']</td>\n",
       "      <td>Rockabilly</td>\n",
       "      <td>British post punk/hard rock musician, songwrit...</td>\n",
       "    </tr>\n",
       "    <tr>\n",
       "      <th>11521</th>\n",
       "      <td>152425</td>\n",
       "      <td>4888</td>\n",
       "      <td>405168</td>\n",
       "      <td>US</td>\n",
       "      <td>Chris Isaak</td>\n",
       "      <td>Heart Shaped World</td>\n",
       "      <td>1989</td>\n",
       "      <td>45.75</td>\n",
       "      <td>11</td>\n",
       "      <td>['Album']</td>\n",
       "      <td>['Rock']</td>\n",
       "      <td>Rockabilly</td>\n",
       "      <td>Chris Isaak is an American musician and occasi...</td>\n",
       "    </tr>\n",
       "    <tr>\n",
       "      <th>11522</th>\n",
       "      <td>152425</td>\n",
       "      <td>4863</td>\n",
       "      <td>1414634</td>\n",
       "      <td>US</td>\n",
       "      <td>Chris Isaak</td>\n",
       "      <td>Chris Isaak</td>\n",
       "      <td>1987</td>\n",
       "      <td>36.08</td>\n",
       "      <td>11</td>\n",
       "      <td>['LP', 'Album']</td>\n",
       "      <td>['Rock']</td>\n",
       "      <td>Rockabilly</td>\n",
       "      <td>Chris Isaak is an American musician and occasi...</td>\n",
       "    </tr>\n",
       "  </tbody>\n",
       "</table>\n",
       "</div>"
      ],
      "text/plain": [
       "       artist_id  master_id  main_release_id release_country          artist  \\\n",
       "4408      272426     252597          4057583              US     Buddy Holly   \n",
       "4886       49624     210587         13285348     South Korea       Jeff Beck   \n",
       "5184      272426     183346          1371149              US     Buddy Holly   \n",
       "6366       27518     107325          4814324              US   Elvis Presley   \n",
       "7060      253328      83700           900466       Australia  The Living End   \n",
       "7061      253328      83698           373583       Australia  The Living End   \n",
       "7320      135946      73462          5780483              US     Johnny Cash   \n",
       "7321      135946      73420          7684728              US     Johnny Cash   \n",
       "7470      180921      69584          1690027              UK      Stray Cats   \n",
       "7472      180921      69576          1346627              UK      Stray Cats   \n",
       "8147       39779      53399          1114416              US      The Cramps   \n",
       "9021       47333      38682          1956566              UK   Fleetwood Mac   \n",
       "9695       46373      29633          2732727     UK & Europe      Billy Idol   \n",
       "11521     152425       4888           405168              US     Chris Isaak   \n",
       "11522     152425       4863          1414634              US     Chris Isaak   \n",
       "\n",
       "                          title  year  album_length  tracks  \\\n",
       "4408                Buddy Holly  1958          0.00      12   \n",
       "4886                 Crazy Legs  1993         40.52      18   \n",
       "5184         That'll be the Day  1958         25.15      11   \n",
       "6366              Elvis Presley  1956          0.00      12   \n",
       "7060         State Of Emergency  2006         51.73      14   \n",
       "7061             The Living End  1998         47.00      14   \n",
       "7320            I Walk The Line  1964         32.32      12   \n",
       "7321   The Fabulous Johnny Cash  1958          0.00      12   \n",
       "7470                 Stray Cats  1981          0.00      12   \n",
       "7472                 Gonna Ball  1981         32.77      11   \n",
       "8147                   Flamejob  1994          0.00      15   \n",
       "9021                 Kiln House  1970          0.00      10   \n",
       "9695               Charmed Life  1990         53.03      11   \n",
       "11521        Heart Shaped World  1989         45.75      11   \n",
       "11522               Chris Isaak  1987         36.08      11   \n",
       "\n",
       "                             release_type                              genres  \\\n",
       "4408                      ['LP', 'Album']                     ['Rock', 'Pop']   \n",
       "4886                            ['Album']                            ['Rock']   \n",
       "5184              ['LP', 'Album', 'Mono']                            ['Rock']   \n",
       "6366              ['LP', 'Album', 'Mono']                     ['Rock', 'Pop']   \n",
       "7060                            ['Album']                            ['Rock']   \n",
       "7061                            ['Album']                            ['Rock']   \n",
       "7320              ['LP', 'Album', 'Mono']  ['Rock', 'Folk, World, & Country']   \n",
       "7321              ['LP', 'Album', 'Mono']  ['Rock', 'Folk, World, & Country']   \n",
       "7470                      ['LP', 'Album']                            ['Rock']   \n",
       "7472                      ['LP', 'Album']                            ['Rock']   \n",
       "8147   ['LP', 'Album', 'Special Edition']                            ['Rock']   \n",
       "9021            ['LP', 'Album', 'Stereo']                            ['Rock']   \n",
       "9695                            ['Album']                            ['Rock']   \n",
       "11521                           ['Album']                            ['Rock']   \n",
       "11522                     ['LP', 'Album']                            ['Rock']   \n",
       "\n",
       "           styles                                     artist_profile  \n",
       "4408   Rockabilly  American guitarist, singer and songwriter, bes...  \n",
       "4886   Rockabilly  British guitarist.\\r\\nBorn: June 24, 1944, in ...  \n",
       "5184   Rockabilly  American guitarist, singer and songwriter, bes...  \n",
       "6366   Rockabilly  American singer.\\r\\nBorn: 8 January 1935 in Ea...  \n",
       "7060   Rockabilly  Punk rock band from Melbourne, Australia.\\r\\nF...  \n",
       "7061   Rockabilly  Punk rock band from Melbourne, Australia.\\r\\nF...  \n",
       "7320   Rockabilly  Johnny Cash was an American singer-songwriter,...  \n",
       "7321   Rockabilly  Johnny Cash was an American singer-songwriter,...  \n",
       "7470   Rockabilly  The Stray Cats are a rockabilly band first for...  \n",
       "7472   Rockabilly  The Stray Cats are a rockabilly band first for...  \n",
       "8147   Rockabilly  The Cramps was an American punk band originall...  \n",
       "9021   Rockabilly  Founded in London in July 1967 (by ex-[url=htt...  \n",
       "9695   Rockabilly  British post punk/hard rock musician, songwrit...  \n",
       "11521  Rockabilly  Chris Isaak is an American musician and occasi...  \n",
       "11522  Rockabilly  Chris Isaak is an American musician and occasi...  "
      ]
     },
     "execution_count": 80,
     "metadata": {},
     "output_type": "execute_result"
    }
   ],
   "source": [
    "df_styles[df_styles['styles']=='Rockabilly']"
   ]
  },
  {
   "cell_type": "markdown",
   "metadata": {},
   "source": [
    "# **``album_length``**"
   ]
  },
  {
   "cell_type": "code",
   "execution_count": 4,
   "metadata": {},
   "outputs": [
    {
     "data": {
      "text/plain": [
       "(9667, 13)"
      ]
     },
     "execution_count": 4,
     "metadata": {},
     "output_type": "execute_result"
    }
   ],
   "source": [
    "df_masters_blended = pd.read_csv('Datasets/df_masters_blended.csv')               # albums from the UK and US (until 2000) with >= 20 votes \n",
    "df = df_masters_blended\n",
    "df.shape"
   ]
  },
  {
   "cell_type": "code",
   "execution_count": 5,
   "metadata": {},
   "outputs": [
    {
     "name": "stdout",
     "output_type": "stream",
     "text": [
      "albums missing album_length: 2234 \n",
      "% missing album_length: 23.11%\n"
     ]
    }
   ],
   "source": [
    "percentage_album_length_missing = round((df['album_length']==0).sum() / df.shape[0] * 100, 2)\n",
    "\n",
    "print(f\"albums missing album_length: {(df['album_length']==0).sum()} \")\n",
    "print(f'% missing album_length: {percentage_album_length_missing}%')"
   ]
  },
  {
   "cell_type": "code",
   "execution_count": 6,
   "metadata": {},
   "outputs": [
    {
     "data": {
      "text/plain": [
       "(2234, 13)"
      ]
     },
     "execution_count": 6,
     "metadata": {},
     "output_type": "execute_result"
    }
   ],
   "source": [
    "df_length_0 = df[df['album_length']==0].sort_values(['artist', 'year', 'title'])\n",
    "df_length_0.shape"
   ]
  },
  {
   "cell_type": "markdown",
   "metadata": {},
   "source": [
    "## **``Spotipy`` (Spotify API)**"
   ]
  },
  {
   "cell_type": "code",
   "execution_count": 7,
   "metadata": {},
   "outputs": [
    {
     "data": {
      "text/plain": [
       "True"
      ]
     },
     "execution_count": 7,
     "metadata": {},
     "output_type": "execute_result"
    }
   ],
   "source": [
    "load_dotenv()"
   ]
  },
  {
   "cell_type": "code",
   "execution_count": 8,
   "metadata": {},
   "outputs": [],
   "source": [
    "user = os.getenv('client_id')\n",
    "password = os.getenv('client_secret')\n",
    "\n",
    "# Initialize Spotipy with user credentials\n",
    "sp = spotipy.Spotify(auth_manager=SpotifyClientCredentials(client_id = user,\n",
    "                                                           client_secret = password), requests_timeout=10)"
   ]
  },
  {
   "cell_type": "markdown",
   "metadata": {},
   "source": [
    "### Testing"
   ]
  },
  {
   "cell_type": "code",
   "execution_count": 836,
   "metadata": {},
   "outputs": [
    {
     "name": "stdout",
     "output_type": "stream",
     "text": [
      "1 ...And You Will Know Us by the Trail of Dead Madonna\n",
      "2 108 Songs of Separation\n",
      "3 10cc 10cc\n",
      "4 10cc Sheet Music\n",
      "5 10cc Deceptive Bends\n",
      "6 23 Skidoo Seven Songs\n",
      "7 2:54 2:54\n",
      "8 7 Seconds The Crew\n",
      "9 7 Seconds New Wind\n",
      "10 A Certain Ratio The Graveyard and The Ballroom\n"
     ]
    }
   ],
   "source": [
    "count = 0\n",
    "for artist, title in df_length_0[['artist', 'title']][:10].values:\n",
    "    count+=1\n",
    "\n",
    "    print(count, artist, title)"
   ]
  },
  {
   "cell_type": "code",
   "execution_count": 8,
   "metadata": {},
   "outputs": [
    {
     "name": "stdout",
     "output_type": "stream",
     "text": [
      "artist found: Agent Orange\n"
     ]
    }
   ],
   "source": [
    "# copy the artist name\n",
    "artist = 'Agent Orange'\n",
    "\n",
    "results = sp.search(q = artist\n",
    "                    , type = 'artist'\n",
    "                    , limit = 5)\n",
    "\n",
    "# theorically the artist should be the first result\n",
    "artist_name = results['artists']['items'][0]['name']\n",
    "artist_id = results['artists']['items'][0]['id'] # get the artist_id\n",
    "\n",
    "if artist_name.lower() == artist.lower():\n",
    "    print(f'artist found: {artist_name}')\n",
    "else:\n",
    "    print(f\"Cannot find '{artist}', try some other one\")"
   ]
  },
  {
   "cell_type": "code",
   "execution_count": 1025,
   "metadata": {},
   "outputs": [],
   "source": [
    "def get_all_albums(artist_id):\n",
    "    albums = []\n",
    "    results = sp.artist_albums(artist_id, limit=50)  # First request\n",
    "\n",
    "    while results:\n",
    "        albums.extend(results['items'])  # Store the albums\n",
    "        if results['next']:  # Check if there's another page\n",
    "            results = sp.next(results)  # Fetch next page\n",
    "        else:\n",
    "            break  # Stop when no more pages\n",
    "\n",
    "    return albums"
   ]
  },
  {
   "cell_type": "code",
   "execution_count": 9,
   "metadata": {},
   "outputs": [
    {
     "name": "stdout",
     "output_type": "stream",
     "text": [
      "artist found\n",
      "Adam and the Ants\n",
      "error\n"
     ]
    }
   ],
   "source": [
    "artist = 'Adam and the Ants'\n",
    "title = 'Dirk Wears White Sox'\n",
    "# other albums by the same artist:\n",
    "# Kings of the Wild Frontier\n",
    "# Prince Charming\n",
    "\n",
    "results = sp.search(q = artist\n",
    "                    , type = 'artist'\n",
    "                    , limit = 5)\n",
    "\n",
    "artists = results['artists']['items']\n",
    "artists_ids = results['artists']['items'] # get the artist_id\n",
    "\n",
    "for i in range(len(artists)):\n",
    "    # artist = artists[i]['name']\n",
    "    try:\n",
    "        # look for my artist\n",
    "        if artist.lower().replace('and', '&') == artists[i]['name'].lower():\n",
    "            # if it finds my artist:\n",
    "            artist_id = artists_ids[i]['id']\n",
    "            print('artist found')\n",
    "            print(artist)\n",
    "\n",
    "            artist_albums = get_all_albums(artist_id)\n",
    "\n",
    "            for album in artist_albums:\n",
    "\n",
    "                print(album['name'])\n",
    "\n",
    "                # look for my album\n",
    "                if album['name'].lower().replace('and', '&') == (title.lower().replace('and', '&')):\n",
    "                    print('album found')\n",
    "                    album_id = album['id']\n",
    "                    results = sp.album(album_id)\n",
    "                    tracks = results['tracks']['items']\n",
    "                    song_durations = [song['duration_ms']/60000 for song in tracks]\n",
    "                    \n",
    "                    album_length = round(sum(song_durations), 2)\n",
    "\n",
    "                    break   # once it finds the album, stop\n",
    "    except:\n",
    "        print('error')            "
   ]
  },
  {
   "cell_type": "markdown",
   "metadata": {},
   "source": [
    "Here we can see that the album is found, though not on the exact same name, it doesn't do an exact match because there are other parts in the title, such as **'Deluxe Edition'** or **'Remastered'**"
   ]
  },
  {
   "cell_type": "code",
   "execution_count": 1078,
   "metadata": {},
   "outputs": [
    {
     "data": {
      "text/plain": [
       "31"
      ]
     },
     "execution_count": 1078,
     "metadata": {},
     "output_type": "execute_result"
    }
   ],
   "source": [
    "len(artist_albums)"
   ]
  },
  {
   "cell_type": "code",
   "execution_count": 1082,
   "metadata": {},
   "outputs": [
    {
     "data": {
      "text/plain": [
       "'Kings of the Wild Frontier (Deluxe Edition)'"
      ]
     },
     "execution_count": 1082,
     "metadata": {},
     "output_type": "execute_result"
    }
   ],
   "source": [
    "artist_albums[0]['name']"
   ]
  },
  {
   "cell_type": "code",
   "execution_count": 952,
   "metadata": {},
   "outputs": [
    {
     "data": {
      "text/plain": [
       "'2jK54ZlZhTF1TxygsVeR05'"
      ]
     },
     "execution_count": 952,
     "metadata": {},
     "output_type": "execute_result"
    }
   ],
   "source": [
    "artist_id"
   ]
  },
  {
   "cell_type": "markdown",
   "metadata": {},
   "source": [
    "### **define the function**"
   ]
  },
  {
   "cell_type": "code",
   "execution_count": 973,
   "metadata": {},
   "outputs": [],
   "source": [
    "def get_album_length(df):\n",
    "    count = 0\n",
    "    scrapped = 0\n",
    "\n",
    "    # create empty lists\n",
    "    artists_list = []\n",
    "    albums_list = []\n",
    "    albums_lengths = []\n",
    "    tracks_list = []\n",
    "\n",
    "    for artist, title in df[['artist', 'title']].values:\n",
    "        time.sleep(2)\n",
    "        count+=1\n",
    "\n",
    "        artists_list.append(artist)\n",
    "        albums_list.append(title)\n",
    "\n",
    "        results = sp.search(q = artist\n",
    "                            , type = 'artist'\n",
    "                            , limit = 5)\n",
    "\n",
    "        artists = results['artists']['items']\n",
    "        artists_ids = results['artists']['items'] # get the artist_id\n",
    "\n",
    "        for i in range(len(artists)):\n",
    "            try:\n",
    "                # look for my artist\n",
    "                if artist == artists[i]['name']:\n",
    "                    # if it finds my artist:\n",
    "                    artist_id = artists_ids[i]['id']\n",
    "\n",
    "                    # get the albums of the artist\n",
    "                    results = sp.artist_albums(artist_id, limit=50)\n",
    "                    data = results['items']\n",
    "\n",
    "                    # examine all the albums\n",
    "                    for j in range(len(data)):\n",
    "                        album = data[j]['name']\n",
    "                        album_id = data[j]['id']\n",
    "\n",
    "                    # for album in artist_albums:\n",
    "                    for j in range(len(data)):\n",
    "                        album = data[j]['name']\n",
    "                        album_id = data[j]['id']\n",
    "\n",
    "                        # look for my album\n",
    "                        if album.lower() == title.lower():\n",
    "                            results = sp.album(album_id)\n",
    "                            tracks = results['tracks']['items']\n",
    "                            tracks_list.append(len(tracks))\n",
    "                            song_durations = [song['duration_ms']/60000 for song in tracks]\n",
    "                            \n",
    "                            album_length = round(sum(song_durations), 2)\n",
    "                            albums_lengths.append(album_length)\n",
    "                            scrapped+=1\n",
    "                            break   # once it finds the album, stop\n",
    "                    else:\n",
    "                        continue\n",
    "                    break   \n",
    "            except:\n",
    "                print('error')\n",
    "                break\n",
    "        \n",
    "        else:\n",
    "            albums_lengths.append(np.nan)\n",
    "            tracks_list.append(np.nan)\n",
    "\n",
    "        print(f\"{scrapped}/{count}: {artist} - {title}\")\n",
    "\n",
    "        lists = [artists_list, albums_list, albums_lengths, tracks_list]\n",
    "        # for lst in lists:\n",
    "        #     print(len(lst))\n",
    "\n",
    "    # Check if all lists have the same length\n",
    "        lengths = [len(lst) for lst in lists]\n",
    "        if len(set(lengths)) != 1:\n",
    "            print(\"Lengths are not the same.\")\n",
    "            break # stop the loop, I won't be able to store the data if I have one value missing\n",
    "\n",
    "    df_lengths_missing = pd.DataFrame({'artist': artists_list,\n",
    "                                    'title': albums_list,\n",
    "                                    'album_length': albums_lengths,\n",
    "                                    'tracks': tracks_list})\n",
    "    return df_lengths_missing"
   ]
  },
  {
   "cell_type": "code",
   "execution_count": 9,
   "metadata": {},
   "outputs": [],
   "source": [
    "def get_all_albums(artist_id):\n",
    "    albums = []\n",
    "    results = sp.artist_albums(artist_id, limit=50)  # First request\n",
    "\n",
    "    while results:\n",
    "        albums.extend(results['items'])  # Store the albums\n",
    "        if results['next']:  # Check if there's another page\n",
    "            results = sp.next(results)  # Fetch next page\n",
    "        else:\n",
    "            break  # Stop when no more pages\n",
    "\n",
    "    return albums"
   ]
  },
  {
   "cell_type": "code",
   "execution_count": 10,
   "metadata": {},
   "outputs": [],
   "source": [
    "def get_album_length(df):\n",
    "    count = 0\n",
    "    scraped = 0\n",
    "\n",
    "    # create empty lists\n",
    "    artists_list = []\n",
    "    albums_list = []\n",
    "    albums_lengths = []\n",
    "    tracks_list = []\n",
    "\n",
    "    for artist, title in df[['artist', 'title']].values:\n",
    "        time.sleep(1)\n",
    "        count+=1\n",
    "\n",
    "        artists_list.append(artist)\n",
    "        albums_list.append(title)\n",
    "\n",
    "        results = sp.search(q = artist\n",
    "                            , type = 'artist'\n",
    "                            , limit = 5)\n",
    "\n",
    "        artists = results['artists']['items']\n",
    "        artists_ids = results['artists']['items'] # get the artist_id\n",
    "\n",
    "        for i in range(len(artists)):\n",
    "            artist_name = artists[i]['name'].lower()\n",
    "            artist_name_and = artist.replace('and', '&').lower()\n",
    "            try:\n",
    "                # look for my artist\n",
    "                if artist_name == artist.lower() or artist_name == artist_name_and:\n",
    "                    # if it finds my artist:\n",
    "                    artist_id = artists_ids[i]['id']\n",
    "\n",
    "                    artist_albums = get_all_albums(artist_id)\n",
    "\n",
    "                    for album in artist_albums:\n",
    "                        album_name = album['name'].lower()        \n",
    "                        title_name_and = title.replace('and', '&').lower()\n",
    "                        if title.lower() in album_name or title_name_and in album_name:\n",
    "                            time.sleep(1)\n",
    "                            album_id = album['id']\n",
    "                            results = sp.album(album_id)\n",
    "                            tracks = results['tracks']['items']\n",
    "                            tracks_list.append(len(tracks))\n",
    "                            song_durations = [song['duration_ms']/60000 for song in tracks]\n",
    "                            \n",
    "                            album_length = round(sum(song_durations), 2)\n",
    "                            albums_lengths.append(album_length)\n",
    "                            scraped+=1\n",
    "                            break   # once it finds the album, stop\n",
    "                    else:\n",
    "                        continue\n",
    "                    break \n",
    "            except:\n",
    "                print('error')\n",
    "                albums_lengths.append(np.nan)\n",
    "                tracks_list.append(np.nan)\n",
    "                break\n",
    "        \n",
    "        else:\n",
    "            albums_lengths.append(np.nan)\n",
    "            tracks_list.append(np.nan)\n",
    "\n",
    "        print(f\"{scraped}/{count}: {artist} - {title}\")\n",
    "\n",
    "        lists = [artists_list, albums_list, albums_lengths, tracks_list]\n",
    "\n",
    "    # Check if all lists have the same length\n",
    "        lengths = [len(lst) for lst in lists]\n",
    "        if len(set(lengths)) != 1:\n",
    "            print(\"Lengths are not the same.\")\n",
    "            break # stop the loop, I won't be able to store the data if I have one value missing\n",
    "\n",
    "    df_lengths_missing = pd.DataFrame({'artist': artists_list,\n",
    "                                    'title': albums_list,\n",
    "                                    'album_length': albums_lengths,\n",
    "                                    'tracks': tracks_list})\n",
    "    return df_lengths_missing"
   ]
  },
  {
   "cell_type": "markdown",
   "metadata": {},
   "source": [
    "### **Get the ``album_length`` from Spotipy**"
   ]
  },
  {
   "cell_type": "code",
   "execution_count": null,
   "metadata": {},
   "outputs": [
    {
     "name": "stderr",
     "output_type": "stream",
     "text": [
      "WARNING:root:Your application has reached a rate/request limit. Retry will occur after: 31370\n"
     ]
    }
   ],
   "source": [
    "start_index = 100\n",
    "end_index = start_index + 100\n",
    "\n",
    "df_lengths_missing = get_album_length(df_length_0.iloc[start_index:end_index])\n",
    "df_lengths_missing.shape"
   ]
  },
  {
   "cell_type": "code",
   "execution_count": 2,
   "metadata": {},
   "outputs": [
    {
     "data": {
      "text/plain": [
       "18.020833333333332"
      ]
     },
     "execution_count": 2,
     "metadata": {},
     "output_type": "execute_result"
    }
   ],
   "source": [
    "64875/3600"
   ]
  },
  {
   "cell_type": "code",
   "execution_count": 919,
   "metadata": {},
   "outputs": [
    {
     "data": {
      "text/plain": [
       "1.47"
      ]
     },
     "execution_count": 919,
     "metadata": {},
     "output_type": "execute_result"
    }
   ],
   "source": [
    "minutes = 12.25\n",
    "attempts = 500\n",
    "\n",
    "seconds_per_attempt = minutes*60/attempts\n",
    "seconds_per_attempt "
   ]
  },
  {
   "cell_type": "code",
   "execution_count": 2,
   "metadata": {},
   "outputs": [
    {
     "ename": "NameError",
     "evalue": "name 'df_lengths_missing' is not defined",
     "output_type": "error",
     "traceback": [
      "\u001b[1;31m---------------------------------------------------------------------------\u001b[0m",
      "\u001b[1;31mNameError\u001b[0m                                 Traceback (most recent call last)",
      "Cell \u001b[1;32mIn[2], line 1\u001b[0m\n\u001b[1;32m----> 1\u001b[0m df_lengths_missing\n",
      "\u001b[1;31mNameError\u001b[0m: name 'df_lengths_missing' is not defined"
     ]
    }
   ],
   "source": [
    "df_lengths_missing"
   ]
  },
  {
   "cell_type": "markdown",
   "metadata": {},
   "source": [
    "### **Exporting to csv**"
   ]
  },
  {
   "cell_type": "code",
   "execution_count": 1101,
   "metadata": {},
   "outputs": [],
   "source": [
    "df_lengths_missing.to_csv('Datasets/df_lengths_missing_1.csv', index=False)"
   ]
  },
  {
   "cell_type": "markdown",
   "metadata": {},
   "source": [
    "# **Subgenres**"
   ]
  },
  {
   "cell_type": "markdown",
   "metadata": {},
   "source": [
    "I will keep the styles, but add another feature called ``subgenres`` to group them and get a better analysis."
   ]
  },
  {
   "cell_type": "markdown",
   "metadata": {},
   "source": [
    "**Styles Grouping (1960–2010)**\n",
    "- **1. Alternative & Indie Rock (80s–2010)**\n",
    "    - Alternative Rock, Indie Rock, Pop Rock, New Wave, Emo, Post Rock, Shoegaze \n",
    "- **2. Hard Rock & Metal (70s–2010)**\n",
    "    - Hard Rock, Heavy Metal, Death Metal, Thrash, Black Metal, Doom Metal, Metalcore, Progressive Metal, Stoner Rock, Speed Metal, Nu Metal\n",
    "- **3. Classic & Psychedelic Rock (60s–80s, some revival)**\n",
    "    - Prog Rock, Psychedelic Rock, Art Rock, Classic Rock, Space Rock, Symphonic Rock\n",
    "- **4. Punk & Hardcore (70s–2010)**\n",
    "    - Punk, Hardcore, Post-Punk, Post-Hardcore, Pop Punk, Grunge, Garage Rock\n",
    "- **5. Roots Rock & Blues (50s–present)**\n",
    "    - Folk Rock, Blues Rock, Rock & Roll, Soft Rock, Country Rock, Southern Rock"
   ]
  },
  {
   "cell_type": "code",
   "execution_count": 44,
   "metadata": {},
   "outputs": [
    {
     "data": {
      "text/plain": [
       "(9667, 13)"
      ]
     },
     "execution_count": 44,
     "metadata": {},
     "output_type": "execute_result"
    }
   ],
   "source": [
    "df_masters_blended = pd.read_csv('Datasets/df_masters_blended.csv')               # albums from the UK and US (until 2000) with >= 20 votes \n",
    "df_masters_blended.shape"
   ]
  },
  {
   "cell_type": "code",
   "execution_count": 45,
   "metadata": {},
   "outputs": [
    {
     "data": {
      "text/plain": [
       "str"
      ]
     },
     "execution_count": 45,
     "metadata": {},
     "output_type": "execute_result"
    }
   ],
   "source": [
    "type(df_masters_blended.styles[0]) # each element should be a list"
   ]
  },
  {
   "cell_type": "code",
   "execution_count": 46,
   "metadata": {},
   "outputs": [
    {
     "data": {
      "text/plain": [
       "\"['Post-Hardcore']\""
      ]
     },
     "execution_count": 46,
     "metadata": {},
     "output_type": "execute_result"
    }
   ],
   "source": [
    "df_masters_blended.styles[0]"
   ]
  },
  {
   "cell_type": "code",
   "execution_count": 48,
   "metadata": {},
   "outputs": [
    {
     "data": {
      "text/html": [
       "<div>\n",
       "<style scoped>\n",
       "    .dataframe tbody tr th:only-of-type {\n",
       "        vertical-align: middle;\n",
       "    }\n",
       "\n",
       "    .dataframe tbody tr th {\n",
       "        vertical-align: top;\n",
       "    }\n",
       "\n",
       "    .dataframe thead th {\n",
       "        text-align: right;\n",
       "    }\n",
       "</style>\n",
       "<table border=\"1\" class=\"dataframe\">\n",
       "  <thead>\n",
       "    <tr style=\"text-align: right;\">\n",
       "      <th></th>\n",
       "      <th>artist_id</th>\n",
       "      <th>master_id</th>\n",
       "      <th>main_release_id</th>\n",
       "      <th>release_country</th>\n",
       "      <th>artist</th>\n",
       "      <th>title</th>\n",
       "      <th>year</th>\n",
       "      <th>album_length</th>\n",
       "      <th>tracks</th>\n",
       "      <th>release_type</th>\n",
       "      <th>genres</th>\n",
       "      <th>style</th>\n",
       "      <th>artist_profile</th>\n",
       "    </tr>\n",
       "  </thead>\n",
       "  <tbody>\n",
       "    <tr>\n",
       "      <th>0</th>\n",
       "      <td>15152368</td>\n",
       "      <td>3747909</td>\n",
       "      <td>31909420</td>\n",
       "      <td>NaN</td>\n",
       "      <td>As Living Arrows</td>\n",
       "      <td>Hope and Ruin</td>\n",
       "      <td>2024</td>\n",
       "      <td>0.00</td>\n",
       "      <td>8</td>\n",
       "      <td>['LP', 'Album']</td>\n",
       "      <td>['Rock']</td>\n",
       "      <td>Post-Hardcore</td>\n",
       "      <td>Post-screamo band from Brighton, UK\\r\\n</td>\n",
       "    </tr>\n",
       "    <tr>\n",
       "      <th>1</th>\n",
       "      <td>2190314</td>\n",
       "      <td>3731373</td>\n",
       "      <td>32952558</td>\n",
       "      <td>US</td>\n",
       "      <td>Just Surrender</td>\n",
       "      <td>Phoenix</td>\n",
       "      <td>2010</td>\n",
       "      <td>0.00</td>\n",
       "      <td>13</td>\n",
       "      <td>['Album']</td>\n",
       "      <td>['Rock']</td>\n",
       "      <td>Alternative Rock</td>\n",
       "      <td>Band from Dover Plains, New York, formerly kno...</td>\n",
       "    </tr>\n",
       "    <tr>\n",
       "      <th>1</th>\n",
       "      <td>2190314</td>\n",
       "      <td>3731373</td>\n",
       "      <td>32952558</td>\n",
       "      <td>US</td>\n",
       "      <td>Just Surrender</td>\n",
       "      <td>Phoenix</td>\n",
       "      <td>2010</td>\n",
       "      <td>0.00</td>\n",
       "      <td>13</td>\n",
       "      <td>['Album']</td>\n",
       "      <td>['Rock']</td>\n",
       "      <td>Pop Punk</td>\n",
       "      <td>Band from Dover Plains, New York, formerly kno...</td>\n",
       "    </tr>\n",
       "    <tr>\n",
       "      <th>2</th>\n",
       "      <td>7333323</td>\n",
       "      <td>3685869</td>\n",
       "      <td>32557566</td>\n",
       "      <td>UK</td>\n",
       "      <td>Hidden Mothers</td>\n",
       "      <td>Erosion / Avulsion</td>\n",
       "      <td>2024</td>\n",
       "      <td>41.47</td>\n",
       "      <td>8</td>\n",
       "      <td>['LP']</td>\n",
       "      <td>['Rock']</td>\n",
       "      <td>Blackgaze</td>\n",
       "      <td>Post-black metal band from Sheffield, UK\\r\\n\\r...</td>\n",
       "    </tr>\n",
       "    <tr>\n",
       "      <th>2</th>\n",
       "      <td>7333323</td>\n",
       "      <td>3685869</td>\n",
       "      <td>32557566</td>\n",
       "      <td>UK</td>\n",
       "      <td>Hidden Mothers</td>\n",
       "      <td>Erosion / Avulsion</td>\n",
       "      <td>2024</td>\n",
       "      <td>41.47</td>\n",
       "      <td>8</td>\n",
       "      <td>['LP']</td>\n",
       "      <td>['Rock']</td>\n",
       "      <td>Post-Hardcore</td>\n",
       "      <td>Post-black metal band from Sheffield, UK\\r\\n\\r...</td>\n",
       "    </tr>\n",
       "  </tbody>\n",
       "</table>\n",
       "</div>"
      ],
      "text/plain": [
       "   artist_id  master_id  main_release_id release_country            artist  \\\n",
       "0   15152368    3747909         31909420             NaN  As Living Arrows   \n",
       "1    2190314    3731373         32952558              US    Just Surrender   \n",
       "1    2190314    3731373         32952558              US    Just Surrender   \n",
       "2    7333323    3685869         32557566              UK    Hidden Mothers   \n",
       "2    7333323    3685869         32557566              UK    Hidden Mothers   \n",
       "\n",
       "                title  year  album_length  tracks     release_type    genres  \\\n",
       "0       Hope and Ruin  2024          0.00       8  ['LP', 'Album']  ['Rock']   \n",
       "1             Phoenix  2010          0.00      13        ['Album']  ['Rock']   \n",
       "1             Phoenix  2010          0.00      13        ['Album']  ['Rock']   \n",
       "2  Erosion / Avulsion  2024         41.47       8           ['LP']  ['Rock']   \n",
       "2  Erosion / Avulsion  2024         41.47       8           ['LP']  ['Rock']   \n",
       "\n",
       "              style                                     artist_profile  \n",
       "0     Post-Hardcore           Post-screamo band from Brighton, UK\\r\\n   \n",
       "1  Alternative Rock  Band from Dover Plains, New York, formerly kno...  \n",
       "1          Pop Punk  Band from Dover Plains, New York, formerly kno...  \n",
       "2         Blackgaze  Post-black metal band from Sheffield, UK\\r\\n\\r...  \n",
       "2     Post-Hardcore  Post-black metal band from Sheffield, UK\\r\\n\\r...  "
      ]
     },
     "execution_count": 48,
     "metadata": {},
     "output_type": "execute_result"
    }
   ],
   "source": [
    "# convert these strings to lists\n",
    "df_masters_blended['styles'] = df_masters_blended[\"styles\"].apply(ast.literal_eval)\n",
    "df = df_masters_blended.explode('styles')\n",
    "\n",
    "# now there is only one style per row\n",
    "df.rename(columns=({'styles': 'style'}), inplace=True)\n",
    "df.head()"
   ]
  },
  {
   "cell_type": "code",
   "execution_count": 49,
   "metadata": {},
   "outputs": [
    {
     "data": {
      "text/plain": [
       "(19623, 13)"
      ]
     },
     "execution_count": 49,
     "metadata": {},
     "output_type": "execute_result"
    }
   ],
   "source": [
    "df.shape # before we had 9667 unique albums"
   ]
  },
  {
   "cell_type": "code",
   "execution_count": 54,
   "metadata": {},
   "outputs": [],
   "source": [
    "df.to_csv('Datasets/df_exploded.csv', index=False)"
   ]
  },
  {
   "cell_type": "code",
   "execution_count": 31,
   "metadata": {},
   "outputs": [
    {
     "data": {
      "text/plain": [
       "style\n",
       "Alternative Rock    1867\n",
       "Indie Rock          1847\n",
       "Pop Rock            1148\n",
       "Hard Rock            878\n",
       "Punk                 874\n",
       "Heavy Metal          715\n",
       "Prog Rock            661\n",
       "Hardcore             590\n",
       "Folk Rock            548\n",
       "Psychedelic Rock     541\n",
       "Experimental         473\n",
       "Art Rock             381\n",
       "Blues Rock           367\n",
       "Death Metal          365\n",
       "Thrash               337\n",
       "New Wave             293\n",
       "Classic Rock         245\n",
       "Emo                  239\n",
       "Synth-pop            233\n",
       "Post-Punk            223\n",
       "Acoustic             205\n",
       "Rock & Roll          201\n",
       "Post Rock            201\n",
       "Doom Metal           180\n",
       "Avantgarde           176\n",
       "Name: count, dtype: int64"
      ]
     },
     "execution_count": 31,
     "metadata": {},
     "output_type": "execute_result"
    }
   ],
   "source": [
    "# check the most common styles\n",
    "df['style'].value_counts().head(25)"
   ]
  },
  {
   "cell_type": "code",
   "execution_count": 77,
   "metadata": {},
   "outputs": [],
   "source": [
    "# These are the styles I got from the US from 1995 until 2010\n",
    "# I only want to keep these ones in the whole dataset to ensure consistency in the other years (and the whole UK)\n",
    "styles_to_get = [ \n",
    "    \"Alternative Rock\", \"Indie Rock\", \"Pop Rock\", \"New Wave\", \n",
    "    \"Emo\", \"Post Rock\", \"Shoegaze\", \"Hard Rock\", \n",
    "    \"Heavy Metal\", \"Death Metal\", \"Thrash\", \"Black Metal\", \"Doom Metal\", \n",
    "    \"Metalcore\", \"Progressive Metal\", \"Stoner Rock\", \"Speed Metal\", \"Nu Metal\", \n",
    "    \"Prog Rock\", \"Psychedelic Rock\", \"Art Rock\", \"Classic Rock\", \"Space Rock\", \n",
    "    \"Symphonic Rock\", \"Punk\", \"Hardcore\", \"Post-Punk\", \"Post-Hardcore\", \n",
    "    \"Pop Punk\", \"Grunge\", \"Garage Rock\", \"Folk Rock\", \"Blues Rock\", \"Rock & Roll\", \n",
    "    \"Soft Rock\", \"Country Rock\", \"Southern Rock\"\n",
    "]"
   ]
  },
  {
   "cell_type": "code",
   "execution_count": 78,
   "metadata": {},
   "outputs": [
    {
     "data": {
      "text/plain": [
       "134"
      ]
     },
     "execution_count": 78,
     "metadata": {},
     "output_type": "execute_result"
    }
   ],
   "source": [
    "df['style'] = df['style'].apply(lambda x: x if x in styles_to_get else np.nan)\n",
    "df['style'].isna().sum()"
   ]
  },
  {
   "cell_type": "code",
   "execution_count": 79,
   "metadata": {},
   "outputs": [
    {
     "data": {
      "text/plain": [
       "(14658, 14)"
      ]
     },
     "execution_count": 79,
     "metadata": {},
     "output_type": "execute_result"
    }
   ],
   "source": [
    "df.dropna(subset='style', inplace=True)\n",
    "df.shape"
   ]
  },
  {
   "cell_type": "markdown",
   "metadata": {},
   "source": [
    "So around 25% of the (non-unique) albums had a style that I don't want to keep, so we have significantly reduce the dataset"
   ]
  },
  {
   "cell_type": "markdown",
   "metadata": {},
   "source": [
    "I dropped styles like: experimental, synth-pop, acoustic, avantgarde, folk, ballad, vocal, soul, jazz-rock..."
   ]
  },
  {
   "cell_type": "code",
   "execution_count": 53,
   "metadata": {},
   "outputs": [
    {
     "data": {
      "text/plain": [
       "style\n",
       "Alternative Rock    1867\n",
       "Indie Rock          1847\n",
       "Pop Rock            1148\n",
       "Hard Rock            878\n",
       "Punk                 874\n",
       "Heavy Metal          715\n",
       "Prog Rock            661\n",
       "Hardcore             590\n",
       "Folk Rock            548\n",
       "Psychedelic Rock     541\n",
       "Art Rock             381\n",
       "Blues Rock           367\n",
       "Death Metal          365\n",
       "Thrash               337\n",
       "New Wave             293\n",
       "Classic Rock         245\n",
       "Emo                  239\n",
       "Post-Punk            223\n",
       "Rock & Roll          201\n",
       "Post Rock            201\n",
       "Doom Metal           180\n",
       "Metalcore            174\n",
       "Soft Rock            164\n",
       "Post-Hardcore        160\n",
       "Country Rock         152\n",
       "Name: count, dtype: int64"
      ]
     },
     "execution_count": 53,
     "metadata": {},
     "output_type": "execute_result"
    }
   ],
   "source": [
    "# check again the most common styles\n",
    "df['style'].value_counts().head(25)"
   ]
  },
  {
   "cell_type": "code",
   "execution_count": 80,
   "metadata": {},
   "outputs": [],
   "source": [
    "# create lists for every subgenre\n",
    "\n",
    "indie = [\"Alternative Rock\", \"Indie Rock\", \"Pop Rock\", \"New Wave\", \n",
    "         \"Emo\", \"Post Rock\", \"Shoegaze\"]\n",
    "\n",
    "metal = [\"Hard Rock\", \"Heavy Metal\", \"Death Metal\", \"Thrash\", \n",
    "         \"Black Metal\", \"Doom Metal\", \"Metalcore\", \"Progressive Metal\", \n",
    "         \"Stoner Rock\", \"Speed Metal\", \"Nu Metal\"]\n",
    "\n",
    "classic = [\"Prog Rock\", \"Psychedelic Rock\", \"Art Rock\", \n",
    "           \"Classic Rock\", \"Space Rock\", \"Symphonic Rock\"]\n",
    "\n",
    "punk = [\"Punk\", \"Hardcore\", \"Post-Punk\", \"Post-Hardcore\", \n",
    "        \"Pop Punk\", \"Grunge\", \"Garage Rock\"]\n",
    "\n",
    "roots = [\"Folk Rock\", \"Blues Rock\", \"Rock & Roll\", \n",
    "         \"Soft Rock\", \"Country Rock\", \"Southern Rock\"]\n",
    "\n",
    "# initialize the column\n",
    "df['subgenre'] = np.nan"
   ]
  },
  {
   "cell_type": "code",
   "execution_count": null,
   "metadata": {},
   "outputs": [
    {
     "data": {
      "text/html": [
       "<div>\n",
       "<style scoped>\n",
       "    .dataframe tbody tr th:only-of-type {\n",
       "        vertical-align: middle;\n",
       "    }\n",
       "\n",
       "    .dataframe tbody tr th {\n",
       "        vertical-align: top;\n",
       "    }\n",
       "\n",
       "    .dataframe thead th {\n",
       "        text-align: right;\n",
       "    }\n",
       "</style>\n",
       "<table border=\"1\" class=\"dataframe\">\n",
       "  <thead>\n",
       "    <tr style=\"text-align: right;\">\n",
       "      <th></th>\n",
       "      <th>artist_id</th>\n",
       "      <th>master_id</th>\n",
       "      <th>main_release_id</th>\n",
       "      <th>release_country</th>\n",
       "      <th>artist</th>\n",
       "      <th>title</th>\n",
       "      <th>year</th>\n",
       "      <th>album_length</th>\n",
       "      <th>tracks</th>\n",
       "      <th>release_type</th>\n",
       "      <th>genres</th>\n",
       "      <th>subgenre</th>\n",
       "      <th>style</th>\n",
       "      <th>artist_profile</th>\n",
       "    </tr>\n",
       "  </thead>\n",
       "  <tbody>\n",
       "    <tr>\n",
       "      <th>0</th>\n",
       "      <td>15152368</td>\n",
       "      <td>3747909</td>\n",
       "      <td>31909420</td>\n",
       "      <td>NaN</td>\n",
       "      <td>As Living Arrows</td>\n",
       "      <td>Hope and Ruin</td>\n",
       "      <td>2024</td>\n",
       "      <td>0.00</td>\n",
       "      <td>8</td>\n",
       "      <td>['LP', 'Album']</td>\n",
       "      <td>['Rock']</td>\n",
       "      <td>punk</td>\n",
       "      <td>Post-Hardcore</td>\n",
       "      <td>Post-screamo band from Brighton, UK\\r\\n</td>\n",
       "    </tr>\n",
       "    <tr>\n",
       "      <th>1</th>\n",
       "      <td>2190314</td>\n",
       "      <td>3731373</td>\n",
       "      <td>32952558</td>\n",
       "      <td>US</td>\n",
       "      <td>Just Surrender</td>\n",
       "      <td>Phoenix</td>\n",
       "      <td>2010</td>\n",
       "      <td>0.00</td>\n",
       "      <td>13</td>\n",
       "      <td>['Album']</td>\n",
       "      <td>['Rock']</td>\n",
       "      <td>indie</td>\n",
       "      <td>Alternative Rock</td>\n",
       "      <td>Band from Dover Plains, New York, formerly kno...</td>\n",
       "    </tr>\n",
       "    <tr>\n",
       "      <th>1</th>\n",
       "      <td>2190314</td>\n",
       "      <td>3731373</td>\n",
       "      <td>32952558</td>\n",
       "      <td>US</td>\n",
       "      <td>Just Surrender</td>\n",
       "      <td>Phoenix</td>\n",
       "      <td>2010</td>\n",
       "      <td>0.00</td>\n",
       "      <td>13</td>\n",
       "      <td>['Album']</td>\n",
       "      <td>['Rock']</td>\n",
       "      <td>punk</td>\n",
       "      <td>Pop Punk</td>\n",
       "      <td>Band from Dover Plains, New York, formerly kno...</td>\n",
       "    </tr>\n",
       "    <tr>\n",
       "      <th>2</th>\n",
       "      <td>7333323</td>\n",
       "      <td>3685869</td>\n",
       "      <td>32557566</td>\n",
       "      <td>UK</td>\n",
       "      <td>Hidden Mothers</td>\n",
       "      <td>Erosion / Avulsion</td>\n",
       "      <td>2024</td>\n",
       "      <td>41.47</td>\n",
       "      <td>8</td>\n",
       "      <td>['LP']</td>\n",
       "      <td>['Rock']</td>\n",
       "      <td>punk</td>\n",
       "      <td>Post-Hardcore</td>\n",
       "      <td>Post-black metal band from Sheffield, UK\\r\\n\\r...</td>\n",
       "    </tr>\n",
       "    <tr>\n",
       "      <th>3</th>\n",
       "      <td>3398500</td>\n",
       "      <td>3682731</td>\n",
       "      <td>32371239</td>\n",
       "      <td>US</td>\n",
       "      <td>Tiny Moving Parts</td>\n",
       "      <td>Deep in the Blue</td>\n",
       "      <td>2024</td>\n",
       "      <td>0.00</td>\n",
       "      <td>10</td>\n",
       "      <td>['LP', 'Album', 'Limited Edition']</td>\n",
       "      <td>['Rock']</td>\n",
       "      <td>indie</td>\n",
       "      <td>Emo</td>\n",
       "      <td>Trio from Benson, Minnesota. The band takes in...</td>\n",
       "    </tr>\n",
       "  </tbody>\n",
       "</table>\n",
       "</div>"
      ],
      "text/plain": [
       "   artist_id  master_id  main_release_id release_country             artist  \\\n",
       "0   15152368    3747909         31909420             NaN   As Living Arrows   \n",
       "1    2190314    3731373         32952558              US     Just Surrender   \n",
       "1    2190314    3731373         32952558              US     Just Surrender   \n",
       "2    7333323    3685869         32557566              UK     Hidden Mothers   \n",
       "3    3398500    3682731         32371239              US  Tiny Moving Parts   \n",
       "\n",
       "                title  year  album_length  tracks  \\\n",
       "0       Hope and Ruin  2024          0.00       8   \n",
       "1             Phoenix  2010          0.00      13   \n",
       "1             Phoenix  2010          0.00      13   \n",
       "2  Erosion / Avulsion  2024         41.47       8   \n",
       "3    Deep in the Blue  2024          0.00      10   \n",
       "\n",
       "                         release_type    genres subgenre             style  \\\n",
       "0                     ['LP', 'Album']  ['Rock']     punk     Post-Hardcore   \n",
       "1                           ['Album']  ['Rock']    indie  Alternative Rock   \n",
       "1                           ['Album']  ['Rock']     punk          Pop Punk   \n",
       "2                              ['LP']  ['Rock']     punk     Post-Hardcore   \n",
       "3  ['LP', 'Album', 'Limited Edition']  ['Rock']    indie               Emo   \n",
       "\n",
       "                                      artist_profile  \n",
       "0           Post-screamo band from Brighton, UK\\r\\n   \n",
       "1  Band from Dover Plains, New York, formerly kno...  \n",
       "1  Band from Dover Plains, New York, formerly kno...  \n",
       "2  Post-black metal band from Sheffield, UK\\r\\n\\r...  \n",
       "3  Trio from Benson, Minnesota. The band takes in...  "
      ]
     },
     "execution_count": 81,
     "metadata": {},
     "output_type": "execute_result"
    }
   ],
   "source": [
    "df['subgenre'] = np.where(df['style'].isin(indie), 'indie', df['subgenre'])\n",
    "df['subgenre'] = np.where(df['style'].isin(metal), 'metal', df['subgenre'])\n",
    "df['subgenre'] = np.where(df['style'].isin(classic), 'classic', df['subgenre'])\n",
    "df['subgenre'] = np.where(df['style'].isin(punk), 'punk', df['subgenre'])\n",
    "df['subgenre'] = np.where(df['style'].isin(roots), 'roots', df['subgenre'])\n",
    "\n",
    "# sort the columns, place the subgenre next to the styles\n",
    "list_of_columns = ['artist_id', 'master_id', 'main_release_id', 'release_country',\n",
    "       'artist', 'title', 'year', 'album_length', 'tracks', 'release_type',\n",
    "       'genres', 'subgenre', 'style', 'artist_profile']\n",
    "df = df[list_of_columns]\n",
    "\n",
    "df.head()"
   ]
  },
  {
   "cell_type": "code",
   "execution_count": 92,
   "metadata": {},
   "outputs": [
    {
     "data": {
      "text/plain": [
       "subgenre\n",
       "indie      5742\n",
       "metal      3195\n",
       "punk       2210\n",
       "classic    2006\n",
       "roots      1505\n",
       "Name: count, dtype: int64"
      ]
     },
     "execution_count": 92,
     "metadata": {},
     "output_type": "execute_result"
    }
   ],
   "source": [
    "df['subgenre'].value_counts()"
   ]
  },
  {
   "cell_type": "code",
   "execution_count": 83,
   "metadata": {},
   "outputs": [
    {
     "data": {
      "text/plain": [
       "<Axes: xlabel='count', ylabel='subgenre'>"
      ]
     },
     "execution_count": 83,
     "metadata": {},
     "output_type": "execute_result"
    },
    {
     "data": {
      "image/png": "[encoded data removed]",
      "text/plain": [
       "<Figure size 640x480 with 1 Axes>"
      ]
     },
     "metadata": {},
     "output_type": "display_data"
    }
   ],
   "source": [
    "sns.countplot(df['subgenre'])"
   ]
  },
  {
   "cell_type": "code",
   "execution_count": null,
   "metadata": {},
   "outputs": [],
   "source": [
    "# df.to_csv('Datasets/df_exploded.csv', index=False)"
   ]
  },
  {
   "cell_type": "code",
   "execution_count": 91,
   "metadata": {},
   "outputs": [
    {
     "data": {
      "text/plain": [
       "(14658, 14)"
      ]
     },
     "execution_count": 91,
     "metadata": {},
     "output_type": "execute_result"
    }
   ],
   "source": [
    "df = pd.read_csv('Datasets/df_exploded.csv')\n",
    "df.shape"
   ]
  },
  {
   "cell_type": "markdown",
   "metadata": {},
   "source": [
    "## **Merge with ``coordinates``**"
   ]
  },
  {
   "cell_type": "code",
   "execution_count": null,
   "metadata": {},
   "outputs": [],
   "source": []
  },
  {
   "cell_type": "markdown",
   "metadata": {},
   "source": [
    "# **Merge with ``ratings``**"
   ]
  },
  {
   "cell_type": "code",
   "execution_count": null,
   "metadata": {},
   "outputs": [],
   "source": []
  },
  {
   "cell_type": "code",
   "execution_count": 86,
   "metadata": {},
   "outputs": [],
   "source": [
    "df_masters = df"
   ]
  },
  {
   "cell_type": "markdown",
   "metadata": {},
   "source": [
    "## **``df_masters`` parenthesis cleaning from ``artist``**"
   ]
  },
  {
   "cell_type": "markdown",
   "metadata": {},
   "source": [
    "### Testing"
   ]
  },
  {
   "cell_type": "markdown",
   "metadata": {},
   "source": [
    "I noticed that some artists in df_masters (so, in the Discogs API) have numbers in parenthesis in the artist name, which won't be merged with df_ratings, where there are almost no artists with numbers in parenthesis"
   ]
  },
  {
   "cell_type": "code",
   "execution_count": null,
   "metadata": {},
   "outputs": [
    {
     "data": {
      "text/plain": [
       "27045"
      ]
     },
     "metadata": {},
     "output_type": "display_data"
    }
   ],
   "source": [
    "# all the artists in df_masters\n",
    "df_masters['artist'].nunique()"
   ]
  },
  {
   "cell_type": "code",
   "execution_count": null,
   "metadata": {},
   "outputs": [
    {
     "data": {
      "text/plain": [
       "4816"
      ]
     },
     "metadata": {},
     "output_type": "display_data"
    }
   ],
   "source": [
    "# show the artists that have characters in parenthesis in the artist name\n",
    "df_masters_parenthesis = df_masters[df_masters['artist'].str.contains(r'\\(.*?\\)', regex=True)].sort_values('artist')\n",
    "df_masters_parenthesis['artist'].nunique()"
   ]
  },
  {
   "cell_type": "code",
   "execution_count": null,
   "metadata": {},
   "outputs": [
    {
     "name": "stdout",
     "output_type": "stream",
     "text": [
      "(15584, 13): df_masters\n",
      "(656, 13): df_masters_parenthesis\n"
     ]
    }
   ],
   "source": [
    "# print information\n",
    "print(f'{df_masters.shape}: df_masters')\n",
    "print(f'{df_masters_parenthesis.shape}: df_masters_parenthesis')"
   ]
  },
  {
   "cell_type": "code",
   "execution_count": null,
   "metadata": {},
   "outputs": [
    {
     "data": {
      "text/plain": [
       "23683"
      ]
     },
     "metadata": {},
     "output_type": "display_data"
    }
   ],
   "source": [
    "df_ratings_10['artist'].nunique()"
   ]
  },
  {
   "cell_type": "code",
   "execution_count": null,
   "metadata": {},
   "outputs": [
    {
     "data": {
      "text/plain": [
       "0"
      ]
     },
     "metadata": {},
     "output_type": "display_data"
    }
   ],
   "source": [
    "# show the artists that have characters in parenthesis in the artist name\n",
    "df_ratings_10_parenthesis = df_ratings_10[df_ratings_10['artist'].str.contains(r'\\(.*?\\)', regex=True)].sort_values('artist')\n",
    "df_ratings_10_parenthesis['artist'].nunique()"
   ]
  },
  {
   "cell_type": "code",
   "execution_count": null,
   "metadata": {},
   "outputs": [
    {
     "name": "stdout",
     "output_type": "stream",
     "text": [
      "(79632, 5): df_ratings_top\n",
      "(1760, 5): df_ratings_top_parenthesis\n"
     ]
    }
   ],
   "source": [
    "# print information\n",
    "print(f'{df_ratings_10.shape}: df_ratings_10')\n",
    "print(f'{df_ratings_10_parenthesis.shape}: df_ratings_10_parenthesis')"
   ]
  },
  {
   "cell_type": "code",
   "execution_count": null,
   "metadata": {},
   "outputs": [
    {
     "data": {
      "text/html": [
       "<div>\n",
       "<style scoped>\n",
       "    .dataframe tbody tr th:only-of-type {\n",
       "        vertical-align: middle;\n",
       "    }\n",
       "\n",
       "    .dataframe tbody tr th {\n",
       "        vertical-align: top;\n",
       "    }\n",
       "\n",
       "    .dataframe thead th {\n",
       "        text-align: right;\n",
       "    }\n",
       "</style>\n",
       "<table border=\"1\" class=\"dataframe\">\n",
       "  <thead>\n",
       "    <tr style=\"text-align: right;\">\n",
       "      <th></th>\n",
       "      <th>album_id</th>\n",
       "      <th>artist</th>\n",
       "      <th>title</th>\n",
       "      <th>rating</th>\n",
       "      <th>votes</th>\n",
       "    </tr>\n",
       "  </thead>\n",
       "  <tbody>\n",
       "    <tr>\n",
       "      <th>66859</th>\n",
       "      <td>299052</td>\n",
       "      <td>Vacations (AUS)</td>\n",
       "      <td>Vibes and Days</td>\n",
       "      <td>3.87</td>\n",
       "      <td>15</td>\n",
       "    </tr>\n",
       "    <tr>\n",
       "      <th>66521</th>\n",
       "      <td>293448</td>\n",
       "      <td>Carnation (BE)</td>\n",
       "      <td>Chapel of Abhorrence</td>\n",
       "      <td>3.35</td>\n",
       "      <td>40</td>\n",
       "    </tr>\n",
       "    <tr>\n",
       "      <th>34007</th>\n",
       "      <td>67551</td>\n",
       "      <td>Soundtrack (Video Game)</td>\n",
       "      <td>The Legend of Zelda: Twilight Princess OST</td>\n",
       "      <td>4.23</td>\n",
       "      <td>80</td>\n",
       "    </tr>\n",
       "    <tr>\n",
       "      <th>39072</th>\n",
       "      <td>84542</td>\n",
       "      <td>Doom (JPN)</td>\n",
       "      <td>Complicated Mind</td>\n",
       "      <td>4.16</td>\n",
       "      <td>25</td>\n",
       "    </tr>\n",
       "    <tr>\n",
       "      <th>36362</th>\n",
       "      <td>74638</td>\n",
       "      <td>Tempest (Can)</td>\n",
       "      <td>Passages</td>\n",
       "      <td>3.73</td>\n",
       "      <td>37</td>\n",
       "    </tr>\n",
       "  </tbody>\n",
       "</table>\n",
       "</div>"
      ],
      "text/plain": [
       "       album_id                   artist  \\\n",
       "66859    299052          Vacations (AUS)   \n",
       "66521    293448           Carnation (BE)   \n",
       "34007     67551  Soundtrack (Video Game)   \n",
       "39072     84542               Doom (JPN)   \n",
       "36362     74638            Tempest (Can)   \n",
       "\n",
       "                                            title  rating  votes  \n",
       "66859                              Vibes and Days    3.87     15  \n",
       "66521                        Chapel of Abhorrence    3.35     40  \n",
       "34007  The Legend of Zelda: Twilight Princess OST    4.23     80  \n",
       "39072                            Complicated Mind    4.16     25  \n",
       "36362                                    Passages    3.73     37  "
      ]
     },
     "metadata": {},
     "output_type": "display_data"
    }
   ],
   "source": [
    "df_ratings_10_parenthesis.sample(5)"
   ]
  },
  {
   "cell_type": "markdown",
   "metadata": {},
   "source": [
    "In most of the artists, the information between parenthesis is the country of origin"
   ]
  },
  {
   "cell_type": "code",
   "execution_count": null,
   "metadata": {},
   "outputs": [
    {
     "data": {
      "text/plain": [
       "2364       100% Proof\n",
       "3971       100% Proof\n",
       "2622     20/20 Vision\n",
       "1164       38 Special\n",
       "2445       38 Special\n",
       "            ...      \n",
       "3727              XIT\n",
       "3045            Ya Ya\n",
       "1735    Youth In Asia\n",
       "3931              ZED\n",
       "599              Zeno\n",
       "Name: artist, Length: 656, dtype: object"
      ]
     },
     "metadata": {},
     "output_type": "display_data"
    }
   ],
   "source": [
    "# delete these characters\n",
    "df_masters_parenthesis_clean = df_masters_parenthesis['artist'].str.replace(r'\\(.*?\\)', '', regex=True).str.strip()\n",
    "df_masters_parenthesis_clean"
   ]
  },
  {
   "cell_type": "code",
   "execution_count": null,
   "metadata": {},
   "outputs": [
    {
     "data": {
      "text/plain": [
       "52533                  \n",
       "53599                  \n",
       "35534    Slowest Runner\n",
       "35487    Slowest Runner\n",
       "13266              p.e.\n",
       "              ...      \n",
       "39716              hide\n",
       "68464              life\n",
       "70926              life\n",
       "49438              sway\n",
       "68857              オオハシ\n",
       "Name: artist, Length: 1760, dtype: object"
      ]
     },
     "metadata": {},
     "output_type": "display_data"
    }
   ],
   "source": [
    "# delete these characters\n",
    "df_ratings_10_parenthesis_clean = df_ratings_10_parenthesis['artist'].str.replace(r'\\(.*?\\)', '', regex=True).str.strip()\n",
    "df_ratings_10_parenthesis_clean"
   ]
  },
  {
   "cell_type": "code",
   "execution_count": null,
   "metadata": {},
   "outputs": [
    {
     "data": {
      "text/html": [
       "<div>\n",
       "<style scoped>\n",
       "    .dataframe tbody tr th:only-of-type {\n",
       "        vertical-align: middle;\n",
       "    }\n",
       "\n",
       "    .dataframe tbody tr th {\n",
       "        vertical-align: top;\n",
       "    }\n",
       "\n",
       "    .dataframe thead th {\n",
       "        text-align: right;\n",
       "    }\n",
       "</style>\n",
       "<table border=\"1\" class=\"dataframe\">\n",
       "  <thead>\n",
       "    <tr style=\"text-align: right;\">\n",
       "      <th></th>\n",
       "      <th>artist</th>\n",
       "    </tr>\n",
       "  </thead>\n",
       "  <tbody>\n",
       "    <tr>\n",
       "      <th>0</th>\n",
       "      <td>Alaska</td>\n",
       "    </tr>\n",
       "    <tr>\n",
       "      <th>1</th>\n",
       "      <td>Alaska</td>\n",
       "    </tr>\n",
       "    <tr>\n",
       "      <th>2</th>\n",
       "      <td>Alaska</td>\n",
       "    </tr>\n",
       "    <tr>\n",
       "      <th>3</th>\n",
       "      <td>Alaska</td>\n",
       "    </tr>\n",
       "    <tr>\n",
       "      <th>4</th>\n",
       "      <td>Attila</td>\n",
       "    </tr>\n",
       "    <tr>\n",
       "      <th>...</th>\n",
       "      <td>...</td>\n",
       "    </tr>\n",
       "    <tr>\n",
       "      <th>123</th>\n",
       "      <td>X</td>\n",
       "    </tr>\n",
       "    <tr>\n",
       "      <th>124</th>\n",
       "      <td>X</td>\n",
       "    </tr>\n",
       "    <tr>\n",
       "      <th>125</th>\n",
       "      <td>X</td>\n",
       "    </tr>\n",
       "    <tr>\n",
       "      <th>126</th>\n",
       "      <td>X</td>\n",
       "    </tr>\n",
       "    <tr>\n",
       "      <th>127</th>\n",
       "      <td>X</td>\n",
       "    </tr>\n",
       "  </tbody>\n",
       "</table>\n",
       "<p>128 rows × 1 columns</p>\n",
       "</div>"
      ],
      "text/plain": [
       "     artist\n",
       "0    Alaska\n",
       "1    Alaska\n",
       "2    Alaska\n",
       "3    Alaska\n",
       "4    Attila\n",
       "..      ...\n",
       "123       X\n",
       "124       X\n",
       "125       X\n",
       "126       X\n",
       "127       X\n",
       "\n",
       "[128 rows x 1 columns]"
      ]
     },
     "metadata": {},
     "output_type": "display_data"
    }
   ],
   "source": [
    "# merge test, all the artists that coincide on both dataframes after the parenthesis cleaning\n",
    "pd.merge(df_masters_parenthesis_clean, df_ratings_10_parenthesis_clean, on='artist')"
   ]
  },
  {
   "cell_type": "code",
   "execution_count": null,
   "metadata": {},
   "outputs": [
    {
     "data": {
      "text/html": [
       "<div>\n",
       "<style scoped>\n",
       "    .dataframe tbody tr th:only-of-type {\n",
       "        vertical-align: middle;\n",
       "    }\n",
       "\n",
       "    .dataframe tbody tr th {\n",
       "        vertical-align: top;\n",
       "    }\n",
       "\n",
       "    .dataframe thead th {\n",
       "        text-align: right;\n",
       "    }\n",
       "</style>\n",
       "<table border=\"1\" class=\"dataframe\">\n",
       "  <thead>\n",
       "    <tr style=\"text-align: right;\">\n",
       "      <th></th>\n",
       "      <th>artist_id</th>\n",
       "      <th>master_id</th>\n",
       "      <th>main_release_id</th>\n",
       "      <th>release_country</th>\n",
       "      <th>artist</th>\n",
       "      <th>title</th>\n",
       "      <th>year</th>\n",
       "      <th>album_length</th>\n",
       "      <th>tracks</th>\n",
       "      <th>release_type</th>\n",
       "      <th>genres</th>\n",
       "      <th>styles</th>\n",
       "      <th>artist_profile</th>\n",
       "    </tr>\n",
       "  </thead>\n",
       "  <tbody>\n",
       "    <tr>\n",
       "      <th>1516</th>\n",
       "      <td>594810.0</td>\n",
       "      <td>309057.0</td>\n",
       "      <td>2702245</td>\n",
       "      <td>US</td>\n",
       "      <td>Alaska (8)</td>\n",
       "      <td>The Pack</td>\n",
       "      <td>1985</td>\n",
       "      <td>42.32</td>\n",
       "      <td>9</td>\n",
       "      <td>['LP', 'Album', 'Stereo']</td>\n",
       "      <td>['Rock']</td>\n",
       "      <td>['Hard Rock']</td>\n",
       "      <td>Alaska was a British hard rock band led by Ber...</td>\n",
       "    </tr>\n",
       "    <tr>\n",
       "      <th>2990</th>\n",
       "      <td>594810.0</td>\n",
       "      <td>591189.0</td>\n",
       "      <td>1175493</td>\n",
       "      <td>UK</td>\n",
       "      <td>Alaska (8)</td>\n",
       "      <td>Heart Of The Storm</td>\n",
       "      <td>1984</td>\n",
       "      <td>0.00</td>\n",
       "      <td>10</td>\n",
       "      <td>['LP', 'Album']</td>\n",
       "      <td>['Rock']</td>\n",
       "      <td>['Hard Rock', 'AOR']</td>\n",
       "      <td>Alaska was a British hard rock band led by Ber...</td>\n",
       "    </tr>\n",
       "  </tbody>\n",
       "</table>\n",
       "</div>"
      ],
      "text/plain": [
       "      artist_id  master_id  main_release_id release_country      artist  \\\n",
       "1516   594810.0   309057.0          2702245              US  Alaska (8)   \n",
       "2990   594810.0   591189.0          1175493              UK  Alaska (8)   \n",
       "\n",
       "                   title  year  album_length  tracks  \\\n",
       "1516            The Pack  1985         42.32       9   \n",
       "2990  Heart Of The Storm  1984          0.00      10   \n",
       "\n",
       "                   release_type    genres                styles  \\\n",
       "1516  ['LP', 'Album', 'Stereo']  ['Rock']         ['Hard Rock']   \n",
       "2990            ['LP', 'Album']  ['Rock']  ['Hard Rock', 'AOR']   \n",
       "\n",
       "                                         artist_profile  \n",
       "1516  Alaska was a British hard rock band led by Ber...  \n",
       "2990  Alaska was a British hard rock band led by Ber...  "
      ]
     },
     "metadata": {},
     "output_type": "display_data"
    }
   ],
   "source": [
    "df_masters[df_masters['artist'].str.contains('Alaska ')]"
   ]
  },
  {
   "cell_type": "code",
   "execution_count": null,
   "metadata": {},
   "outputs": [
    {
     "data": {
      "text/html": [
       "<div>\n",
       "<style scoped>\n",
       "    .dataframe tbody tr th:only-of-type {\n",
       "        vertical-align: middle;\n",
       "    }\n",
       "\n",
       "    .dataframe tbody tr th {\n",
       "        vertical-align: top;\n",
       "    }\n",
       "\n",
       "    .dataframe thead th {\n",
       "        text-align: right;\n",
       "    }\n",
       "</style>\n",
       "<table border=\"1\" class=\"dataframe\">\n",
       "  <thead>\n",
       "    <tr style=\"text-align: right;\">\n",
       "      <th></th>\n",
       "      <th>album_id</th>\n",
       "      <th>artist</th>\n",
       "      <th>title</th>\n",
       "      <th>rating</th>\n",
       "      <th>votes</th>\n",
       "    </tr>\n",
       "  </thead>\n",
       "  <tbody>\n",
       "    <tr>\n",
       "      <th>48864</th>\n",
       "      <td>135438</td>\n",
       "      <td>Alaska (USA)</td>\n",
       "      <td>Everything is Fine</td>\n",
       "      <td>3.38</td>\n",
       "      <td>12</td>\n",
       "    </tr>\n",
       "    <tr>\n",
       "      <th>57915</th>\n",
       "      <td>203926</td>\n",
       "      <td>Alaska (USA)</td>\n",
       "      <td>Shrine</td>\n",
       "      <td>3.54</td>\n",
       "      <td>12</td>\n",
       "    </tr>\n",
       "  </tbody>\n",
       "</table>\n",
       "</div>"
      ],
      "text/plain": [
       "       album_id        artist               title  rating  votes\n",
       "48864    135438  Alaska (USA)  Everything is Fine    3.38     12\n",
       "57915    203926  Alaska (USA)              Shrine    3.54     12"
      ]
     },
     "metadata": {},
     "output_type": "display_data"
    }
   ],
   "source": [
    "df_ratings_10[df_ratings_10['artist'].str.contains('Alaska ')]"
   ]
  },
  {
   "cell_type": "markdown",
   "metadata": {},
   "source": [
    "This shows that for instance **the artist 'Zebra' would not have merged** if we hadn't done that cleaning, because in ``df_masters`` it's registered under **\"Zebra (8)\"**, and in ``df_ratings`` under **\"Zebra (US)\"**"
   ]
  },
  {
   "cell_type": "markdown",
   "metadata": {},
   "source": [
    "### **Let's change the ``artist`` column for good**"
   ]
  },
  {
   "cell_type": "code",
   "execution_count": null,
   "metadata": {},
   "outputs": [
    {
     "data": {
      "text/plain": [
       "(37597, 13)"
      ]
     },
     "metadata": {},
     "output_type": "display_data"
    }
   ],
   "source": [
    "df_masters.shape"
   ]
  },
  {
   "cell_type": "code",
   "execution_count": null,
   "metadata": {},
   "outputs": [
    {
     "name": "stdout",
     "output_type": "stream",
     "text": [
      "28995 unique artists in df_masters\n"
     ]
    }
   ],
   "source": [
    "df_masters['artist'] = df_masters['artist'].str.replace(r'\\(.*?\\)', '', regex=True).str.strip()\n",
    "\n",
    "print(f\"{df_masters['artist'].nunique()} unique artists in df_masters\")"
   ]
  },
  {
   "cell_type": "code",
   "execution_count": null,
   "metadata": {},
   "outputs": [
    {
     "name": "stdout",
     "output_type": "stream",
     "text": [
      "14837 unique artists in df_ratings_20\n"
     ]
    }
   ],
   "source": [
    "df_ratings_20['artist'] = df_ratings_20['artist'].str.replace(r'\\(.*?\\)', '', regex=True).str.strip()\n",
    "\n",
    "print(f\"{df_ratings_20['artist'].nunique()} unique artists in df_ratings_20\")"
   ]
  },
  {
   "cell_type": "markdown",
   "metadata": {},
   "source": [
    "## **&/and Cleaning**"
   ]
  },
  {
   "cell_type": "markdown",
   "metadata": {},
   "source": [
    "I noticed some artist and/or album names are slightly different, which will cause the merge to not properly function as I intend it.\n",
    "\n",
    "Notice the difference in the following album: \"Behold **and/&** See\""
   ]
  },
  {
   "cell_type": "code",
   "execution_count": null,
   "metadata": {},
   "outputs": [
    {
     "data": {
      "text/html": [
       "<div>\n",
       "<style scoped>\n",
       "    .dataframe tbody tr th:only-of-type {\n",
       "        vertical-align: middle;\n",
       "    }\n",
       "\n",
       "    .dataframe tbody tr th {\n",
       "        vertical-align: top;\n",
       "    }\n",
       "\n",
       "    .dataframe thead th {\n",
       "        text-align: right;\n",
       "    }\n",
       "</style>\n",
       "<table border=\"1\" class=\"dataframe\">\n",
       "  <thead>\n",
       "    <tr style=\"text-align: right;\">\n",
       "      <th></th>\n",
       "      <th>album_id</th>\n",
       "      <th>artist</th>\n",
       "      <th>title</th>\n",
       "      <th>rating</th>\n",
       "      <th>votes</th>\n",
       "    </tr>\n",
       "  </thead>\n",
       "  <tbody>\n",
       "    <tr>\n",
       "      <th>34041</th>\n",
       "      <td>136113</td>\n",
       "      <td>Ultimate Spinach</td>\n",
       "      <td>Ultimate Spinach</td>\n",
       "      <td>3.81</td>\n",
       "      <td>27</td>\n",
       "    </tr>\n",
       "    <tr>\n",
       "      <th>35157</th>\n",
       "      <td>150508</td>\n",
       "      <td>Ultimate Spinach</td>\n",
       "      <td>Behold and See</td>\n",
       "      <td>3.89</td>\n",
       "      <td>23</td>\n",
       "    </tr>\n",
       "  </tbody>\n",
       "</table>\n",
       "</div>"
      ],
      "text/plain": [
       "       album_id            artist             title  rating  votes\n",
       "34041    136113  Ultimate Spinach  Ultimate Spinach    3.81     27\n",
       "35157    150508  Ultimate Spinach    Behold and See    3.89     23"
      ]
     },
     "metadata": {},
     "output_type": "display_data"
    }
   ],
   "source": [
    "df_ratings_20[df_ratings_20['artist']==\"Ultimate Spinach\"]"
   ]
  },
  {
   "cell_type": "code",
   "execution_count": null,
   "metadata": {},
   "outputs": [
    {
     "data": {
      "text/html": [
       "<div>\n",
       "<style scoped>\n",
       "    .dataframe tbody tr th:only-of-type {\n",
       "        vertical-align: middle;\n",
       "    }\n",
       "\n",
       "    .dataframe tbody tr th {\n",
       "        vertical-align: top;\n",
       "    }\n",
       "\n",
       "    .dataframe thead th {\n",
       "        text-align: right;\n",
       "    }\n",
       "</style>\n",
       "<table border=\"1\" class=\"dataframe\">\n",
       "  <thead>\n",
       "    <tr style=\"text-align: right;\">\n",
       "      <th></th>\n",
       "      <th>artist_id</th>\n",
       "      <th>master_id</th>\n",
       "      <th>main_release_id</th>\n",
       "      <th>release_country</th>\n",
       "      <th>artist</th>\n",
       "      <th>title</th>\n",
       "      <th>year</th>\n",
       "      <th>album_length</th>\n",
       "      <th>tracks</th>\n",
       "      <th>release_type</th>\n",
       "      <th>genres</th>\n",
       "      <th>styles</th>\n",
       "      <th>artist_profile</th>\n",
       "    </tr>\n",
       "  </thead>\n",
       "  <tbody>\n",
       "  </tbody>\n",
       "</table>\n",
       "</div>"
      ],
      "text/plain": [
       "Empty DataFrame\n",
       "Columns: [artist_id, master_id, main_release_id, release_country, artist, title, year, album_length, tracks, release_type, genres, styles, artist_profile]\n",
       "Index: []"
      ]
     },
     "metadata": {},
     "output_type": "display_data"
    }
   ],
   "source": [
    "df_masters[df_masters['artist']==\"Ultimate Spinach\"]"
   ]
  },
  {
   "cell_type": "code",
   "execution_count": null,
   "metadata": {},
   "outputs": [],
   "source": [
    "df_masters[['artist', 'title']] = df_masters[['artist', 'title']].apply(lambda x: x.str.replace('&', 'and'))\n",
    "df_ratings_20[['artist', 'title']] = df_ratings_20[['artist', 'title']].apply(lambda x: x.str.replace('&', 'and'))"
   ]
  },
  {
   "cell_type": "code",
   "execution_count": null,
   "metadata": {},
   "outputs": [
    {
     "data": {
      "text/html": [
       "<div>\n",
       "<style scoped>\n",
       "    .dataframe tbody tr th:only-of-type {\n",
       "        vertical-align: middle;\n",
       "    }\n",
       "\n",
       "    .dataframe tbody tr th {\n",
       "        vertical-align: top;\n",
       "    }\n",
       "\n",
       "    .dataframe thead th {\n",
       "        text-align: right;\n",
       "    }\n",
       "</style>\n",
       "<table border=\"1\" class=\"dataframe\">\n",
       "  <thead>\n",
       "    <tr style=\"text-align: right;\">\n",
       "      <th></th>\n",
       "      <th>artist_id</th>\n",
       "      <th>master_id</th>\n",
       "      <th>main_release_id</th>\n",
       "      <th>release_country</th>\n",
       "      <th>artist</th>\n",
       "      <th>title</th>\n",
       "      <th>year</th>\n",
       "      <th>album_length</th>\n",
       "      <th>tracks</th>\n",
       "      <th>release_type</th>\n",
       "      <th>genres</th>\n",
       "      <th>styles</th>\n",
       "      <th>artist_profile</th>\n",
       "    </tr>\n",
       "  </thead>\n",
       "  <tbody>\n",
       "  </tbody>\n",
       "</table>\n",
       "</div>"
      ],
      "text/plain": [
       "Empty DataFrame\n",
       "Columns: [artist_id, master_id, main_release_id, release_country, artist, title, year, album_length, tracks, release_type, genres, styles, artist_profile]\n",
       "Index: []"
      ]
     },
     "metadata": {},
     "output_type": "display_data"
    }
   ],
   "source": [
    "df_masters[df_masters['artist']==\"Ultimate Spinach\"]"
   ]
  },
  {
   "cell_type": "markdown",
   "metadata": {},
   "source": [
    "## Actual merge"
   ]
  },
  {
   "cell_type": "code",
   "execution_count": 88,
   "metadata": {},
   "outputs": [
    {
     "data": {
      "text/plain": [
       "(14657, 17)"
      ]
     },
     "execution_count": 88,
     "metadata": {},
     "output_type": "execute_result"
    }
   ],
   "source": [
    "df = pd.merge(\n",
    "    df_ratings_20.assign(artist_lower=df_ratings_20['artist'].str.lower().str.strip(), \n",
    "                      title_lower=df_ratings_20['title'].str.lower().str.strip()), \n",
    "    df_masters.assign(artist_lower=df_masters['artist'].str.lower().str.strip(), \n",
    "                      title_lower=df_masters['title'].str.lower().str.strip()), \n",
    "    on=['artist_lower', 'title_lower']\n",
    ").drop(columns=['artist_lower', 'title_lower', 'artist_y', 'title_y'])\n",
    "\n",
    "# Rename columns\n",
    "df.rename(columns={'artist_x': 'artist', 'title_x': 'title'}, inplace=True)\n",
    "\n",
    "# Change dtypes\n",
    "df['master_id'] = df['master_id'].astype(int)\n",
    "\n",
    "# print the shape\n",
    "df.shape"
   ]
  },
  {
   "cell_type": "code",
   "execution_count": 89,
   "metadata": {},
   "outputs": [
    {
     "data": {
      "text/html": [
       "<div>\n",
       "<style scoped>\n",
       "    .dataframe tbody tr th:only-of-type {\n",
       "        vertical-align: middle;\n",
       "    }\n",
       "\n",
       "    .dataframe tbody tr th {\n",
       "        vertical-align: top;\n",
       "    }\n",
       "\n",
       "    .dataframe thead th {\n",
       "        text-align: right;\n",
       "    }\n",
       "</style>\n",
       "<table border=\"1\" class=\"dataframe\">\n",
       "  <thead>\n",
       "    <tr style=\"text-align: right;\">\n",
       "      <th></th>\n",
       "      <th>album_id</th>\n",
       "      <th>artist</th>\n",
       "      <th>title</th>\n",
       "      <th>rating</th>\n",
       "      <th>votes</th>\n",
       "      <th>artist_id</th>\n",
       "      <th>master_id</th>\n",
       "      <th>main_release_id</th>\n",
       "      <th>release_country</th>\n",
       "      <th>year</th>\n",
       "      <th>album_length</th>\n",
       "      <th>tracks</th>\n",
       "      <th>release_type</th>\n",
       "      <th>genres</th>\n",
       "      <th>subgenre</th>\n",
       "      <th>style</th>\n",
       "      <th>artist_profile</th>\n",
       "    </tr>\n",
       "  </thead>\n",
       "  <tbody>\n",
       "  </tbody>\n",
       "</table>\n",
       "</div>"
      ],
      "text/plain": [
       "Empty DataFrame\n",
       "Columns: [album_id, artist, title, rating, votes, artist_id, master_id, main_release_id, release_country, year, album_length, tracks, release_type, genres, subgenre, style, artist_profile]\n",
       "Index: []"
      ]
     },
     "execution_count": 89,
     "metadata": {},
     "output_type": "execute_result"
    }
   ],
   "source": [
    "df[df['artist']=='Bob Dylan and The Band']"
   ]
  },
  {
   "cell_type": "code",
   "execution_count": 90,
   "metadata": {},
   "outputs": [
    {
     "data": {
      "text/html": [
       "<div>\n",
       "<style scoped>\n",
       "    .dataframe tbody tr th:only-of-type {\n",
       "        vertical-align: middle;\n",
       "    }\n",
       "\n",
       "    .dataframe tbody tr th {\n",
       "        vertical-align: top;\n",
       "    }\n",
       "\n",
       "    .dataframe thead th {\n",
       "        text-align: right;\n",
       "    }\n",
       "</style>\n",
       "<table border=\"1\" class=\"dataframe\">\n",
       "  <thead>\n",
       "    <tr style=\"text-align: right;\">\n",
       "      <th></th>\n",
       "      <th>album_id</th>\n",
       "      <th>artist</th>\n",
       "      <th>title</th>\n",
       "      <th>rating</th>\n",
       "      <th>votes</th>\n",
       "      <th>artist_id</th>\n",
       "      <th>master_id</th>\n",
       "      <th>main_release_id</th>\n",
       "      <th>release_country</th>\n",
       "      <th>year</th>\n",
       "      <th>album_length</th>\n",
       "      <th>tracks</th>\n",
       "      <th>release_type</th>\n",
       "      <th>genres</th>\n",
       "      <th>subgenre</th>\n",
       "      <th>style</th>\n",
       "      <th>artist_profile</th>\n",
       "    </tr>\n",
       "  </thead>\n",
       "  <tbody>\n",
       "    <tr>\n",
       "      <th>9531</th>\n",
       "      <td>58133</td>\n",
       "      <td>Girls Against Boys</td>\n",
       "      <td>Cruise Yourself</td>\n",
       "      <td>3.60</td>\n",
       "      <td>25</td>\n",
       "      <td>56262</td>\n",
       "      <td>20621</td>\n",
       "      <td>1144517</td>\n",
       "      <td>US</td>\n",
       "      <td>1994</td>\n",
       "      <td>40.98</td>\n",
       "      <td>11</td>\n",
       "      <td>['Album']</td>\n",
       "      <td>['Rock']</td>\n",
       "      <td>indie</td>\n",
       "      <td>Indie Rock</td>\n",
       "      <td>US indie rock/post-hardcore band formed in Was...</td>\n",
       "    </tr>\n",
       "    <tr>\n",
       "      <th>12726</th>\n",
       "      <td>211418</td>\n",
       "      <td>Asking Alexandria</td>\n",
       "      <td>The Black</td>\n",
       "      <td>2.59</td>\n",
       "      <td>503</td>\n",
       "      <td>2021935</td>\n",
       "      <td>984360</td>\n",
       "      <td>8288217</td>\n",
       "      <td>USA &amp; Europe</td>\n",
       "      <td>2016</td>\n",
       "      <td>47.67</td>\n",
       "      <td>12</td>\n",
       "      <td>['Album']</td>\n",
       "      <td>['Rock']</td>\n",
       "      <td>metal</td>\n",
       "      <td>Metalcore</td>\n",
       "      <td>British metal band formed in 2008 after the di...</td>\n",
       "    </tr>\n",
       "    <tr>\n",
       "      <th>1435</th>\n",
       "      <td>3002</td>\n",
       "      <td>Joe Satriani</td>\n",
       "      <td>The Extremist</td>\n",
       "      <td>4.17</td>\n",
       "      <td>265</td>\n",
       "      <td>76588</td>\n",
       "      <td>37983</td>\n",
       "      <td>1988907</td>\n",
       "      <td>US</td>\n",
       "      <td>1992</td>\n",
       "      <td>47.52</td>\n",
       "      <td>10</td>\n",
       "      <td>['Album', 'Stereo']</td>\n",
       "      <td>['Rock']</td>\n",
       "      <td>metal</td>\n",
       "      <td>Hard Rock</td>\n",
       "      <td>US hard rock guitarist.\\r\\nBorn: July 15, 1956...</td>\n",
       "    </tr>\n",
       "    <tr>\n",
       "      <th>1200</th>\n",
       "      <td>2389</td>\n",
       "      <td>Pink Floyd</td>\n",
       "      <td>Obscured By Clouds</td>\n",
       "      <td>3.46</td>\n",
       "      <td>1456</td>\n",
       "      <td>45467</td>\n",
       "      <td>14720</td>\n",
       "      <td>3092412</td>\n",
       "      <td>UK</td>\n",
       "      <td>1972</td>\n",
       "      <td>0.00</td>\n",
       "      <td>10</td>\n",
       "      <td>['LP', 'Album', 'Stereo']</td>\n",
       "      <td>['Rock', 'Stage &amp; Screen']</td>\n",
       "      <td>classic</td>\n",
       "      <td>Psychedelic Rock</td>\n",
       "      <td>Pink Floyd was an English rock band from Londo...</td>\n",
       "    </tr>\n",
       "    <tr>\n",
       "      <th>7286</th>\n",
       "      <td>30154</td>\n",
       "      <td>Onslaught</td>\n",
       "      <td>The Force</td>\n",
       "      <td>4.06</td>\n",
       "      <td>120</td>\n",
       "      <td>266105</td>\n",
       "      <td>114492</td>\n",
       "      <td>1792623</td>\n",
       "      <td>UK</td>\n",
       "      <td>1986</td>\n",
       "      <td>46.02</td>\n",
       "      <td>7</td>\n",
       "      <td>['LP', 'Album']</td>\n",
       "      <td>['Rock']</td>\n",
       "      <td>metal</td>\n",
       "      <td>Thrash</td>\n",
       "      <td>Formed as a hardcore punk band in the early 19...</td>\n",
       "    </tr>\n",
       "  </tbody>\n",
       "</table>\n",
       "</div>"
      ],
      "text/plain": [
       "       album_id              artist               title  rating  votes  \\\n",
       "9531      58133  Girls Against Boys     Cruise Yourself    3.60     25   \n",
       "12726    211418   Asking Alexandria           The Black    2.59    503   \n",
       "1435       3002        Joe Satriani       The Extremist    4.17    265   \n",
       "1200       2389          Pink Floyd  Obscured By Clouds    3.46   1456   \n",
       "7286      30154           Onslaught           The Force    4.06    120   \n",
       "\n",
       "       artist_id  master_id  main_release_id release_country  year  \\\n",
       "9531       56262      20621          1144517              US  1994   \n",
       "12726    2021935     984360          8288217    USA & Europe  2016   \n",
       "1435       76588      37983          1988907              US  1992   \n",
       "1200       45467      14720          3092412              UK  1972   \n",
       "7286      266105     114492          1792623              UK  1986   \n",
       "\n",
       "       album_length  tracks               release_type  \\\n",
       "9531          40.98      11                  ['Album']   \n",
       "12726         47.67      12                  ['Album']   \n",
       "1435          47.52      10        ['Album', 'Stereo']   \n",
       "1200           0.00      10  ['LP', 'Album', 'Stereo']   \n",
       "7286          46.02       7            ['LP', 'Album']   \n",
       "\n",
       "                           genres subgenre             style  \\\n",
       "9531                     ['Rock']    indie        Indie Rock   \n",
       "12726                    ['Rock']    metal         Metalcore   \n",
       "1435                     ['Rock']    metal         Hard Rock   \n",
       "1200   ['Rock', 'Stage & Screen']  classic  Psychedelic Rock   \n",
       "7286                     ['Rock']    metal            Thrash   \n",
       "\n",
       "                                          artist_profile  \n",
       "9531   US indie rock/post-hardcore band formed in Was...  \n",
       "12726  British metal band formed in 2008 after the di...  \n",
       "1435   US hard rock guitarist.\\r\\nBorn: July 15, 1956...  \n",
       "1200   Pink Floyd was an English rock band from Londo...  \n",
       "7286   Formed as a hardcore punk band in the early 19...  "
      ]
     },
     "execution_count": 90,
     "metadata": {},
     "output_type": "execute_result"
    }
   ],
   "source": [
    "df.sample(5)"
   ]
  },
  {
   "cell_type": "code",
   "execution_count": null,
   "metadata": {},
   "outputs": [
    {
     "data": {
      "text/plain": [
       "release_country\n",
       "US              2314\n",
       "Europe           318\n",
       "Germany          186\n",
       "UK                38\n",
       "Sweden            38\n",
       "USA & Canada      36\n",
       "France            29\n",
       "Canada            29\n",
       "Australia         28\n",
       "Netherlands       27\n",
       "Name: count, dtype: int64"
      ]
     },
     "metadata": {},
     "output_type": "display_data"
    }
   ],
   "source": [
    "df['release_country'].value_counts().head(10)"
   ]
  },
  {
   "cell_type": "code",
   "execution_count": null,
   "metadata": {},
   "outputs": [
    {
     "name": "stdout",
     "output_type": "stream",
     "text": [
      "8.69 % of the albums have more than 20 votes\n"
     ]
    }
   ],
   "source": [
    "print(f\"{round(df.shape[0] / df_masters.shape[0]*100, 2)} % of the albums have more than 20 votes\")"
   ]
  },
  {
   "cell_type": "markdown",
   "metadata": {},
   "source": [
    "### First inspection"
   ]
  },
  {
   "cell_type": "markdown",
   "metadata": {},
   "source": [
    "**Change the dtype of ``artist_id``**"
   ]
  },
  {
   "cell_type": "code",
   "execution_count": null,
   "metadata": {},
   "outputs": [
    {
     "data": {
      "text/html": [
       "<div>\n",
       "<style scoped>\n",
       "    .dataframe tbody tr th:only-of-type {\n",
       "        vertical-align: middle;\n",
       "    }\n",
       "\n",
       "    .dataframe tbody tr th {\n",
       "        vertical-align: top;\n",
       "    }\n",
       "\n",
       "    .dataframe thead th {\n",
       "        text-align: right;\n",
       "    }\n",
       "</style>\n",
       "<table border=\"1\" class=\"dataframe\">\n",
       "  <thead>\n",
       "    <tr style=\"text-align: right;\">\n",
       "      <th></th>\n",
       "      <th>album_id</th>\n",
       "      <th>artist</th>\n",
       "      <th>title</th>\n",
       "      <th>rating</th>\n",
       "      <th>votes</th>\n",
       "      <th>artist_id</th>\n",
       "      <th>master_id</th>\n",
       "      <th>main_release_id</th>\n",
       "      <th>release_country</th>\n",
       "      <th>year</th>\n",
       "      <th>album_length</th>\n",
       "      <th>tracks</th>\n",
       "      <th>release_type</th>\n",
       "      <th>genres</th>\n",
       "      <th>styles</th>\n",
       "      <th>artist_profile</th>\n",
       "    </tr>\n",
       "  </thead>\n",
       "  <tbody>\n",
       "  </tbody>\n",
       "</table>\n",
       "</div>"
      ],
      "text/plain": [
       "Empty DataFrame\n",
       "Columns: [album_id, artist, title, rating, votes, artist_id, master_id, main_release_id, release_country, year, album_length, tracks, release_type, genres, styles, artist_profile]\n",
       "Index: []"
      ]
     },
     "metadata": {},
     "output_type": "display_data"
    }
   ],
   "source": [
    "df[df['artist_id'].isna()]"
   ]
  },
  {
   "cell_type": "code",
   "execution_count": null,
   "metadata": {},
   "outputs": [
    {
     "data": {
      "text/html": [
       "<div>\n",
       "<style scoped>\n",
       "    .dataframe tbody tr th:only-of-type {\n",
       "        vertical-align: middle;\n",
       "    }\n",
       "\n",
       "    .dataframe tbody tr th {\n",
       "        vertical-align: top;\n",
       "    }\n",
       "\n",
       "    .dataframe thead th {\n",
       "        text-align: right;\n",
       "    }\n",
       "</style>\n",
       "<table border=\"1\" class=\"dataframe\">\n",
       "  <thead>\n",
       "    <tr style=\"text-align: right;\">\n",
       "      <th></th>\n",
       "      <th>album_id</th>\n",
       "      <th>artist</th>\n",
       "      <th>title</th>\n",
       "      <th>rating</th>\n",
       "      <th>votes</th>\n",
       "      <th>artist_id</th>\n",
       "      <th>master_id</th>\n",
       "      <th>main_release_id</th>\n",
       "      <th>release_country</th>\n",
       "      <th>year</th>\n",
       "      <th>album_length</th>\n",
       "      <th>tracks</th>\n",
       "      <th>release_type</th>\n",
       "      <th>genres</th>\n",
       "      <th>styles</th>\n",
       "      <th>artist_profile</th>\n",
       "    </tr>\n",
       "  </thead>\n",
       "  <tbody>\n",
       "    <tr>\n",
       "      <th>2465</th>\n",
       "      <td>96456</td>\n",
       "      <td>Meshuggah</td>\n",
       "      <td>Koloss</td>\n",
       "      <td>3.75</td>\n",
       "      <td>1940</td>\n",
       "      <td>252273.0</td>\n",
       "      <td>421823</td>\n",
       "      <td>3498596</td>\n",
       "      <td>Germany</td>\n",
       "      <td>2012</td>\n",
       "      <td>54.78</td>\n",
       "      <td>10</td>\n",
       "      <td>['Album']</td>\n",
       "      <td>['Rock']</td>\n",
       "      <td>['Thrash', 'Death Metal', 'Progressive Metal',...</td>\n",
       "      <td>Swedish progressive metal band from Umeå, whic...</td>\n",
       "    </tr>\n",
       "    <tr>\n",
       "      <th>61</th>\n",
       "      <td>457</td>\n",
       "      <td>Meshuggah</td>\n",
       "      <td>Nothing</td>\n",
       "      <td>3.99</td>\n",
       "      <td>1754</td>\n",
       "      <td>252273.0</td>\n",
       "      <td>14397</td>\n",
       "      <td>386915</td>\n",
       "      <td>Germany</td>\n",
       "      <td>2002</td>\n",
       "      <td>53.07</td>\n",
       "      <td>10</td>\n",
       "      <td>['Album', 'Enhanced']</td>\n",
       "      <td>['Rock']</td>\n",
       "      <td>['Thrash', 'Experimental']</td>\n",
       "      <td>Swedish progressive metal band from Umeå, whic...</td>\n",
       "    </tr>\n",
       "    <tr>\n",
       "      <th>62</th>\n",
       "      <td>457</td>\n",
       "      <td>Meshuggah</td>\n",
       "      <td>Nothing</td>\n",
       "      <td>3.99</td>\n",
       "      <td>1754</td>\n",
       "      <td>NaN</td>\n",
       "      <td>0</td>\n",
       "      <td>2223511</td>\n",
       "      <td>US</td>\n",
       "      <td>2002</td>\n",
       "      <td>53.10</td>\n",
       "      <td>10</td>\n",
       "      <td>['Album', 'Enhanced']</td>\n",
       "      <td>['Rock']</td>\n",
       "      <td>['Thrash', 'Experimental']</td>\n",
       "      <td>NaN</td>\n",
       "    </tr>\n",
       "  </tbody>\n",
       "</table>\n",
       "</div>"
      ],
      "text/plain": [
       "      album_id     artist    title  rating  votes  artist_id  master_id  \\\n",
       "2465     96456  Meshuggah   Koloss    3.75   1940   252273.0     421823   \n",
       "61         457  Meshuggah  Nothing    3.99   1754   252273.0      14397   \n",
       "62         457  Meshuggah  Nothing    3.99   1754        NaN          0   \n",
       "\n",
       "      main_release_id release_country  year  album_length  tracks  \\\n",
       "2465          3498596         Germany  2012         54.78      10   \n",
       "61             386915         Germany  2002         53.07      10   \n",
       "62            2223511              US  2002         53.10      10   \n",
       "\n",
       "               release_type    genres  \\\n",
       "2465              ['Album']  ['Rock']   \n",
       "61    ['Album', 'Enhanced']  ['Rock']   \n",
       "62    ['Album', 'Enhanced']  ['Rock']   \n",
       "\n",
       "                                                 styles  \\\n",
       "2465  ['Thrash', 'Death Metal', 'Progressive Metal',...   \n",
       "61                           ['Thrash', 'Experimental']   \n",
       "62                           ['Thrash', 'Experimental']   \n",
       "\n",
       "                                         artist_profile  \n",
       "2465  Swedish progressive metal band from Umeå, whic...  \n",
       "61    Swedish progressive metal band from Umeå, whic...  \n",
       "62                                                  NaN  "
      ]
     },
     "metadata": {},
     "output_type": "display_data"
    }
   ],
   "source": [
    "df[df['artist']=='Meshuggah'].sample(3)"
   ]
  },
  {
   "cell_type": "code",
   "execution_count": null,
   "metadata": {},
   "outputs": [],
   "source": [
    "df.loc[62, 'artist_id'] = 252273"
   ]
  },
  {
   "cell_type": "code",
   "execution_count": null,
   "metadata": {},
   "outputs": [
    {
     "data": {
      "text/html": [
       "<div>\n",
       "<style scoped>\n",
       "    .dataframe tbody tr th:only-of-type {\n",
       "        vertical-align: middle;\n",
       "    }\n",
       "\n",
       "    .dataframe tbody tr th {\n",
       "        vertical-align: top;\n",
       "    }\n",
       "\n",
       "    .dataframe thead th {\n",
       "        text-align: right;\n",
       "    }\n",
       "</style>\n",
       "<table border=\"1\" class=\"dataframe\">\n",
       "  <thead>\n",
       "    <tr style=\"text-align: right;\">\n",
       "      <th></th>\n",
       "      <th>album_id</th>\n",
       "      <th>artist</th>\n",
       "      <th>title</th>\n",
       "      <th>rating</th>\n",
       "      <th>votes</th>\n",
       "      <th>artist_id</th>\n",
       "      <th>master_id</th>\n",
       "      <th>main_release_id</th>\n",
       "      <th>release_country</th>\n",
       "      <th>year</th>\n",
       "      <th>album_length</th>\n",
       "      <th>tracks</th>\n",
       "      <th>release_type</th>\n",
       "      <th>genres</th>\n",
       "      <th>styles</th>\n",
       "      <th>artist_profile</th>\n",
       "    </tr>\n",
       "  </thead>\n",
       "  <tbody>\n",
       "    <tr>\n",
       "      <th>0</th>\n",
       "      <td>53</td>\n",
       "      <td>Dream Theater</td>\n",
       "      <td>Train of Thought</td>\n",
       "      <td>3.87</td>\n",
       "      <td>2670</td>\n",
       "      <td>260935</td>\n",
       "      <td>52100</td>\n",
       "      <td>432029</td>\n",
       "      <td>US</td>\n",
       "      <td>2003</td>\n",
       "      <td>69.35</td>\n",
       "      <td>7</td>\n",
       "      <td>['Album', 'Enhanced']</td>\n",
       "      <td>['Rock']</td>\n",
       "      <td>['Progressive Metal', 'Symphonic Metal']</td>\n",
       "      <td>American progressive metal band, formed in Bos...</td>\n",
       "    </tr>\n",
       "  </tbody>\n",
       "</table>\n",
       "</div>"
      ],
      "text/plain": [
       "   album_id         artist             title  rating  votes  artist_id  \\\n",
       "0        53  Dream Theater  Train of Thought    3.87   2670     260935   \n",
       "\n",
       "   master_id  main_release_id release_country  year  album_length  tracks  \\\n",
       "0      52100           432029              US  2003         69.35       7   \n",
       "\n",
       "            release_type    genres                                    styles  \\\n",
       "0  ['Album', 'Enhanced']  ['Rock']  ['Progressive Metal', 'Symphonic Metal']   \n",
       "\n",
       "                                      artist_profile  \n",
       "0  American progressive metal band, formed in Bos...  "
      ]
     },
     "metadata": {},
     "output_type": "display_data"
    }
   ],
   "source": [
    "df['artist_id'] = df['artist_id'].astype(int)\n",
    "df.head(1)"
   ]
  },
  {
   "cell_type": "markdown",
   "metadata": {},
   "source": [
    "**Sort columns**\n",
    "\n",
    "I want to see the ``year`` next to the album ``title``, and I don't care much about the ``ids``"
   ]
  },
  {
   "cell_type": "code",
   "execution_count": null,
   "metadata": {},
   "outputs": [
    {
     "data": {
      "text/html": [
       "<div>\n",
       "<style scoped>\n",
       "    .dataframe tbody tr th:only-of-type {\n",
       "        vertical-align: middle;\n",
       "    }\n",
       "\n",
       "    .dataframe tbody tr th {\n",
       "        vertical-align: top;\n",
       "    }\n",
       "\n",
       "    .dataframe thead th {\n",
       "        text-align: right;\n",
       "    }\n",
       "</style>\n",
       "<table border=\"1\" class=\"dataframe\">\n",
       "  <thead>\n",
       "    <tr style=\"text-align: right;\">\n",
       "      <th></th>\n",
       "      <th>album_id</th>\n",
       "      <th>artist</th>\n",
       "      <th>title</th>\n",
       "      <th>year</th>\n",
       "      <th>rating</th>\n",
       "      <th>votes</th>\n",
       "      <th>album_length</th>\n",
       "      <th>tracks</th>\n",
       "      <th>release_country</th>\n",
       "      <th>release_type</th>\n",
       "      <th>genres</th>\n",
       "      <th>styles</th>\n",
       "      <th>artist_profile</th>\n",
       "      <th>artist_id</th>\n",
       "      <th>master_id</th>\n",
       "      <th>main_release_id</th>\n",
       "    </tr>\n",
       "  </thead>\n",
       "  <tbody>\n",
       "    <tr>\n",
       "      <th>0</th>\n",
       "      <td>53</td>\n",
       "      <td>Dream Theater</td>\n",
       "      <td>Train of Thought</td>\n",
       "      <td>2003</td>\n",
       "      <td>3.87</td>\n",
       "      <td>2670</td>\n",
       "      <td>69.35</td>\n",
       "      <td>7</td>\n",
       "      <td>US</td>\n",
       "      <td>['Album', 'Enhanced']</td>\n",
       "      <td>['Rock']</td>\n",
       "      <td>['Progressive Metal', 'Symphonic Metal']</td>\n",
       "      <td>American progressive metal band, formed in Bos...</td>\n",
       "      <td>260935</td>\n",
       "      <td>52100</td>\n",
       "      <td>432029</td>\n",
       "    </tr>\n",
       "  </tbody>\n",
       "</table>\n",
       "</div>"
      ],
      "text/plain": [
       "   album_id         artist             title  year  rating  votes  \\\n",
       "0        53  Dream Theater  Train of Thought  2003    3.87   2670   \n",
       "\n",
       "   album_length  tracks release_country           release_type    genres  \\\n",
       "0         69.35       7              US  ['Album', 'Enhanced']  ['Rock']   \n",
       "\n",
       "                                     styles  \\\n",
       "0  ['Progressive Metal', 'Symphonic Metal']   \n",
       "\n",
       "                                      artist_profile  artist_id  master_id  \\\n",
       "0  American progressive metal band, formed in Bos...     260935      52100   \n",
       "\n",
       "   main_release_id  \n",
       "0           432029  "
      ]
     },
     "metadata": {},
     "output_type": "display_data"
    }
   ],
   "source": [
    "df = columns_show_ratings(df)\n",
    "df.head(1)"
   ]
  },
  {
   "cell_type": "markdown",
   "metadata": {},
   "source": [
    "**I keep only rock albums**"
   ]
  },
  {
   "cell_type": "code",
   "execution_count": null,
   "metadata": {},
   "outputs": [
    {
     "name": "stdout",
     "output_type": "stream",
     "text": [
      "Rows before dropping: 3269\n",
      "Rows after dropping: 3269\n"
     ]
    }
   ],
   "source": [
    "# how many of them are Rock albums?\n",
    "print(f\"Rows before dropping: {df.shape[0]}\")\n",
    "df = df[df['genres'].str.contains('Rock')]\n",
    "print(f\"Rows after dropping: {df.shape[0]}\")"
   ]
  },
  {
   "cell_type": "markdown",
   "metadata": {},
   "source": [
    "**Drop compilations**"
   ]
  },
  {
   "cell_type": "code",
   "execution_count": null,
   "metadata": {},
   "outputs": [
    {
     "data": {
      "text/plain": [
       "0"
      ]
     },
     "metadata": {},
     "output_type": "display_data"
    }
   ],
   "source": [
    "df['release_type'].isna().sum()"
   ]
  },
  {
   "cell_type": "code",
   "execution_count": null,
   "metadata": {},
   "outputs": [
    {
     "data": {
      "text/plain": [
       "release_type\n",
       "['Album']                             2031\n",
       "['LP', 'Album']                        312\n",
       "['Album', 'Enhanced']                  152\n",
       "['LP', 'Album', 'Limited Edition']     102\n",
       "['Album', 'Stereo']                     93\n",
       "['Album', 'Limited Edition']            54\n",
       "['LP', 'Album', 'Stereo']               41\n",
       "['FLAC', 'Album']                       40\n",
       "['MP3', 'Album']                        29\n",
       "['LP']                                  27\n",
       "Name: count, dtype: int64"
      ]
     },
     "metadata": {},
     "output_type": "display_data"
    }
   ],
   "source": [
    "df['release_type'].value_counts().head(10)"
   ]
  },
  {
   "cell_type": "code",
   "execution_count": null,
   "metadata": {},
   "outputs": [
    {
     "data": {
      "text/html": [
       "<div>\n",
       "<style scoped>\n",
       "    .dataframe tbody tr th:only-of-type {\n",
       "        vertical-align: middle;\n",
       "    }\n",
       "\n",
       "    .dataframe tbody tr th {\n",
       "        vertical-align: top;\n",
       "    }\n",
       "\n",
       "    .dataframe thead th {\n",
       "        text-align: right;\n",
       "    }\n",
       "</style>\n",
       "<table border=\"1\" class=\"dataframe\">\n",
       "  <thead>\n",
       "    <tr style=\"text-align: right;\">\n",
       "      <th></th>\n",
       "      <th>album_id</th>\n",
       "      <th>artist</th>\n",
       "      <th>title</th>\n",
       "      <th>year</th>\n",
       "      <th>rating</th>\n",
       "      <th>votes</th>\n",
       "      <th>album_length</th>\n",
       "      <th>tracks</th>\n",
       "      <th>release_country</th>\n",
       "      <th>release_type</th>\n",
       "      <th>genres</th>\n",
       "      <th>styles</th>\n",
       "      <th>artist_profile</th>\n",
       "      <th>artist_id</th>\n",
       "      <th>master_id</th>\n",
       "      <th>main_release_id</th>\n",
       "    </tr>\n",
       "  </thead>\n",
       "  <tbody>\n",
       "  </tbody>\n",
       "</table>\n",
       "</div>"
      ],
      "text/plain": [
       "Empty DataFrame\n",
       "Columns: [album_id, artist, title, year, rating, votes, album_length, tracks, release_country, release_type, genres, styles, artist_profile, artist_id, master_id, main_release_id]\n",
       "Index: []"
      ]
     },
     "metadata": {},
     "output_type": "display_data"
    }
   ],
   "source": [
    "df[df['release_type'].isna()]"
   ]
  },
  {
   "cell_type": "code",
   "execution_count": null,
   "metadata": {},
   "outputs": [
    {
     "data": {
      "text/plain": [
       "\"['Album']\""
      ]
     },
     "metadata": {},
     "output_type": "display_data"
    }
   ],
   "source": [
    "df.loc[1230, 'release_type']"
   ]
  },
  {
   "cell_type": "code",
   "execution_count": null,
   "metadata": {},
   "outputs": [],
   "source": [
    "df.loc[1229, 'release_type'] = 'Album'\n",
    "df.loc[8799, 'release_type'] = 'Album'"
   ]
  },
  {
   "cell_type": "code",
   "execution_count": null,
   "metadata": {},
   "outputs": [
    {
     "data": {
      "text/plain": [
       "0"
      ]
     },
     "metadata": {},
     "output_type": "display_data"
    }
   ],
   "source": [
    "df['release_type'].isna().sum()"
   ]
  },
  {
   "cell_type": "code",
   "execution_count": null,
   "metadata": {},
   "outputs": [
    {
     "name": "stdout",
     "output_type": "stream",
     "text": [
      "object\n"
     ]
    }
   ],
   "source": [
    "print(df['release_type'].dtype)"
   ]
  },
  {
   "cell_type": "code",
   "execution_count": null,
   "metadata": {},
   "outputs": [
    {
     "data": {
      "text/plain": [
       "str"
      ]
     },
     "metadata": {},
     "output_type": "display_data"
    }
   ],
   "source": [
    "type(df.release_type[0])"
   ]
  },
  {
   "cell_type": "code",
   "execution_count": null,
   "metadata": {},
   "outputs": [
    {
     "name": "stdout",
     "output_type": "stream",
     "text": [
      "There are 0 compilations\n"
     ]
    }
   ],
   "source": [
    "print(f'There are {df[df['release_type'].str.contains('Compilation')].shape[0]} compilations')"
   ]
  },
  {
   "cell_type": "code",
   "execution_count": null,
   "metadata": {},
   "outputs": [
    {
     "name": "stdout",
     "output_type": "stream",
     "text": [
      "Rows before dropping: 3269\n",
      "Rows after dropping: 3269\n"
     ]
    }
   ],
   "source": [
    "print(f\"Rows before dropping: {df.shape[0]}\")\n",
    "df = df[~df['release_type'].str.contains('Compilation')]\n",
    "print(f\"Rows after dropping: {df.shape[0]}\")"
   ]
  },
  {
   "cell_type": "code",
   "execution_count": null,
   "metadata": {},
   "outputs": [
    {
     "data": {
      "text/plain": [
       "2204"
      ]
     },
     "metadata": {},
     "output_type": "display_data"
    }
   ],
   "source": [
    "# number of unique artists\n",
    "df['artist'].nunique()"
   ]
  },
  {
   "cell_type": "markdown",
   "metadata": {},
   "source": [
    "**YOB** té **8** albums a Sputnik (``df_ratings_20``), però nomes **2** a Discogs de UK, tot i que és una banda de UK. \n",
    "\n",
    "Si apareixen al df de US, hauré de fer un concat/merge"
   ]
  },
  {
   "cell_type": "code",
   "execution_count": null,
   "metadata": {},
   "outputs": [
    {
     "data": {
      "text/html": [
       "<div>\n",
       "<style scoped>\n",
       "    .dataframe tbody tr th:only-of-type {\n",
       "        vertical-align: middle;\n",
       "    }\n",
       "\n",
       "    .dataframe tbody tr th {\n",
       "        vertical-align: top;\n",
       "    }\n",
       "\n",
       "    .dataframe thead th {\n",
       "        text-align: right;\n",
       "    }\n",
       "</style>\n",
       "<table border=\"1\" class=\"dataframe\">\n",
       "  <thead>\n",
       "    <tr style=\"text-align: right;\">\n",
       "      <th></th>\n",
       "      <th>album_id</th>\n",
       "      <th>artist</th>\n",
       "      <th>title</th>\n",
       "      <th>year</th>\n",
       "      <th>rating</th>\n",
       "      <th>votes</th>\n",
       "      <th>album_length</th>\n",
       "      <th>tracks</th>\n",
       "      <th>release_country</th>\n",
       "      <th>release_type</th>\n",
       "      <th>genres</th>\n",
       "      <th>styles</th>\n",
       "      <th>artist_profile</th>\n",
       "      <th>artist_id</th>\n",
       "      <th>master_id</th>\n",
       "      <th>main_release_id</th>\n",
       "    </tr>\n",
       "  </thead>\n",
       "  <tbody>\n",
       "    <tr>\n",
       "      <th>479</th>\n",
       "      <td>3646</td>\n",
       "      <td>YOB</td>\n",
       "      <td>The Illusion Of Motion</td>\n",
       "      <td>2004</td>\n",
       "      <td>3.94</td>\n",
       "      <td>183</td>\n",
       "      <td>56.37</td>\n",
       "      <td>4</td>\n",
       "      <td>Germany</td>\n",
       "      <td>['Album']</td>\n",
       "      <td>['Rock']</td>\n",
       "      <td>['Stoner Rock', 'Doom Metal']</td>\n",
       "      <td>Yob is an American stoner/doom metal band from...</td>\n",
       "      <td>563922</td>\n",
       "      <td>129478</td>\n",
       "      <td>1119948</td>\n",
       "    </tr>\n",
       "    <tr>\n",
       "      <th>1878</th>\n",
       "      <td>29146</td>\n",
       "      <td>YOB</td>\n",
       "      <td>The Unreal Never Lived</td>\n",
       "      <td>2005</td>\n",
       "      <td>4.06</td>\n",
       "      <td>225</td>\n",
       "      <td>51.80</td>\n",
       "      <td>4</td>\n",
       "      <td>US</td>\n",
       "      <td>['Album']</td>\n",
       "      <td>['Rock']</td>\n",
       "      <td>['Doom Metal']</td>\n",
       "      <td>Yob is an American stoner/doom metal band from...</td>\n",
       "      <td>563922</td>\n",
       "      <td>129479</td>\n",
       "      <td>732137</td>\n",
       "    </tr>\n",
       "    <tr>\n",
       "      <th>2328</th>\n",
       "      <td>60240</td>\n",
       "      <td>YOB</td>\n",
       "      <td>Elaborations Of Carbon</td>\n",
       "      <td>2002</td>\n",
       "      <td>3.42</td>\n",
       "      <td>73</td>\n",
       "      <td>70.12</td>\n",
       "      <td>6</td>\n",
       "      <td>US</td>\n",
       "      <td>['Album']</td>\n",
       "      <td>['Rock']</td>\n",
       "      <td>['Doom Metal']</td>\n",
       "      <td>Yob is an American stoner/doom metal band from...</td>\n",
       "      <td>563922</td>\n",
       "      <td>577362</td>\n",
       "      <td>1593094</td>\n",
       "    </tr>\n",
       "    <tr>\n",
       "      <th>2696</th>\n",
       "      <td>282109</td>\n",
       "      <td>YOB</td>\n",
       "      <td>Our Raw Heart</td>\n",
       "      <td>2018</td>\n",
       "      <td>3.87</td>\n",
       "      <td>295</td>\n",
       "      <td>73.27</td>\n",
       "      <td>7</td>\n",
       "      <td>US</td>\n",
       "      <td>['FLAC', 'Album']</td>\n",
       "      <td>['Rock']</td>\n",
       "      <td>['Doom Metal', 'Sludge Metal']</td>\n",
       "      <td>Yob is an American stoner/doom metal band from...</td>\n",
       "      <td>563922</td>\n",
       "      <td>1374548</td>\n",
       "      <td>13688747</td>\n",
       "    </tr>\n",
       "  </tbody>\n",
       "</table>\n",
       "</div>"
      ],
      "text/plain": [
       "      album_id artist                   title  year  rating  votes  \\\n",
       "479       3646    YOB  The Illusion Of Motion  2004    3.94    183   \n",
       "1878     29146    YOB  The Unreal Never Lived  2005    4.06    225   \n",
       "2328     60240    YOB  Elaborations Of Carbon  2002    3.42     73   \n",
       "2696    282109    YOB           Our Raw Heart  2018    3.87    295   \n",
       "\n",
       "      album_length  tracks release_country       release_type    genres  \\\n",
       "479          56.37       4         Germany          ['Album']  ['Rock']   \n",
       "1878         51.80       4              US          ['Album']  ['Rock']   \n",
       "2328         70.12       6              US          ['Album']  ['Rock']   \n",
       "2696         73.27       7              US  ['FLAC', 'Album']  ['Rock']   \n",
       "\n",
       "                              styles  \\\n",
       "479    ['Stoner Rock', 'Doom Metal']   \n",
       "1878                  ['Doom Metal']   \n",
       "2328                  ['Doom Metal']   \n",
       "2696  ['Doom Metal', 'Sludge Metal']   \n",
       "\n",
       "                                         artist_profile  artist_id  master_id  \\\n",
       "479   Yob is an American stoner/doom metal band from...     563922     129478   \n",
       "1878  Yob is an American stoner/doom metal band from...     563922     129479   \n",
       "2328  Yob is an American stoner/doom metal band from...     563922     577362   \n",
       "2696  Yob is an American stoner/doom metal band from...     563922    1374548   \n",
       "\n",
       "      main_release_id  \n",
       "479           1119948  \n",
       "1878           732137  \n",
       "2328          1593094  \n",
       "2696         13688747  "
      ]
     },
     "metadata": {},
     "output_type": "display_data"
    }
   ],
   "source": [
    "df[df['artist']=='YOB']"
   ]
  },
  {
   "cell_type": "code",
   "execution_count": null,
   "metadata": {},
   "outputs": [
    {
     "data": {
      "text/html": [
       "<div>\n",
       "<style scoped>\n",
       "    .dataframe tbody tr th:only-of-type {\n",
       "        vertical-align: middle;\n",
       "    }\n",
       "\n",
       "    .dataframe tbody tr th {\n",
       "        vertical-align: top;\n",
       "    }\n",
       "\n",
       "    .dataframe thead th {\n",
       "        text-align: right;\n",
       "    }\n",
       "</style>\n",
       "<table border=\"1\" class=\"dataframe\">\n",
       "  <thead>\n",
       "    <tr style=\"text-align: right;\">\n",
       "      <th></th>\n",
       "      <th>album_id</th>\n",
       "      <th>artist</th>\n",
       "      <th>title</th>\n",
       "      <th>rating</th>\n",
       "      <th>votes</th>\n",
       "    </tr>\n",
       "  </thead>\n",
       "  <tbody>\n",
       "    <tr>\n",
       "      <th>2483</th>\n",
       "      <td>3646</td>\n",
       "      <td>YOB</td>\n",
       "      <td>The Illusion Of Motion</td>\n",
       "      <td>3.94</td>\n",
       "      <td>183</td>\n",
       "    </tr>\n",
       "    <tr>\n",
       "      <th>15489</th>\n",
       "      <td>29146</td>\n",
       "      <td>YOB</td>\n",
       "      <td>The Unreal Never Lived</td>\n",
       "      <td>4.06</td>\n",
       "      <td>225</td>\n",
       "    </tr>\n",
       "    <tr>\n",
       "      <th>19314</th>\n",
       "      <td>39606</td>\n",
       "      <td>YOB</td>\n",
       "      <td>The Great Cessation</td>\n",
       "      <td>3.90</td>\n",
       "      <td>205</td>\n",
       "    </tr>\n",
       "    <tr>\n",
       "      <th>24379</th>\n",
       "      <td>60240</td>\n",
       "      <td>YOB</td>\n",
       "      <td>Elaborations Of Carbon</td>\n",
       "      <td>3.42</td>\n",
       "      <td>73</td>\n",
       "    </tr>\n",
       "    <tr>\n",
       "      <th>24380</th>\n",
       "      <td>60241</td>\n",
       "      <td>YOB</td>\n",
       "      <td>Catharsis</td>\n",
       "      <td>3.99</td>\n",
       "      <td>140</td>\n",
       "    </tr>\n",
       "    <tr>\n",
       "      <th>28069</th>\n",
       "      <td>80046</td>\n",
       "      <td>YOB</td>\n",
       "      <td>Atma</td>\n",
       "      <td>3.78</td>\n",
       "      <td>259</td>\n",
       "    </tr>\n",
       "    <tr>\n",
       "      <th>36250</th>\n",
       "      <td>163668</td>\n",
       "      <td>YOB</td>\n",
       "      <td>Clearing The Path To Ascend</td>\n",
       "      <td>3.92</td>\n",
       "      <td>331</td>\n",
       "    </tr>\n",
       "    <tr>\n",
       "      <th>43343</th>\n",
       "      <td>282109</td>\n",
       "      <td>YOB</td>\n",
       "      <td>Our Raw Heart</td>\n",
       "      <td>3.87</td>\n",
       "      <td>295</td>\n",
       "    </tr>\n",
       "  </tbody>\n",
       "</table>\n",
       "</div>"
      ],
      "text/plain": [
       "       album_id artist                        title  rating  votes\n",
       "2483       3646    YOB       The Illusion Of Motion    3.94    183\n",
       "15489     29146    YOB       The Unreal Never Lived    4.06    225\n",
       "19314     39606    YOB          The Great Cessation    3.90    205\n",
       "24379     60240    YOB       Elaborations Of Carbon    3.42     73\n",
       "24380     60241    YOB                    Catharsis    3.99    140\n",
       "28069     80046    YOB                         Atma    3.78    259\n",
       "36250    163668    YOB  Clearing The Path To Ascend    3.92    331\n",
       "43343    282109    YOB                Our Raw Heart    3.87    295"
      ]
     },
     "metadata": {},
     "output_type": "display_data"
    }
   ],
   "source": [
    "df_ratings_20[df_ratings_20['artist']=='YOB']"
   ]
  },
  {
   "cell_type": "markdown",
   "metadata": {},
   "source": [
    "## **``df`` real cleaning**"
   ]
  },
  {
   "cell_type": "markdown",
   "metadata": {},
   "source": [
    "I want to **drop duplicates** and releases from **bands outside of the UK and the US**, I only want to keep brittish and american artists. Also **drop compilations and live albums**."
   ]
  },
  {
   "cell_type": "markdown",
   "metadata": {},
   "source": [
    "### **Drop duplicates**"
   ]
  },
  {
   "cell_type": "markdown",
   "metadata": {},
   "source": [
    "**``master_id = 0``**"
   ]
  },
  {
   "cell_type": "code",
   "execution_count": null,
   "metadata": {},
   "outputs": [
    {
     "data": {
      "text/plain": [
       "5"
      ]
     },
     "metadata": {},
     "output_type": "display_data"
    }
   ],
   "source": [
    "df.sort_values('master_id', inplace=True, ascending=False) # so I keep the master_id=0 at the end, these would be the duplicates and I'll be able to drop them\n",
    "df.reset_index(drop=True, inplace=True)\n",
    "df[['album_id', 'artist', 'title', 'year', 'rating', 'votes', 'album_length', 'tracks']].duplicated().sum()"
   ]
  },
  {
   "cell_type": "code",
   "execution_count": null,
   "metadata": {},
   "outputs": [
    {
     "name": "stdout",
     "output_type": "stream",
     "text": [
      "Rows before dropping: 3269\n",
      "Rows after dropping: 3264\n"
     ]
    }
   ],
   "source": [
    "# these albums are the same, except one entry has master_id=0\n",
    "print(f\"Rows before dropping: {df.shape[0]}\")\n",
    "df.drop_duplicates(subset=['artist', 'title', 'year', 'rating', 'votes', 'album_length', 'tracks'], inplace=True)\n",
    "print(f\"Rows after dropping: {df.shape[0]}\")"
   ]
  },
  {
   "cell_type": "markdown",
   "metadata": {},
   "source": [
    "**``album_length = 0``**"
   ]
  },
  {
   "cell_type": "code",
   "execution_count": null,
   "metadata": {},
   "outputs": [
    {
     "data": {
      "text/plain": [
       "12"
      ]
     },
     "metadata": {},
     "output_type": "display_data"
    }
   ],
   "source": [
    "df.sort_values('album_length', inplace=True, ascending=False) # so I keep the album_length=0 at the end, these would be the duplicates and I'll be able to drop them\n",
    "df.reset_index(drop=True, inplace=True)\n",
    "df[['album_id', 'artist', 'title', 'year', 'rating', 'votes']].duplicated().sum()"
   ]
  },
  {
   "cell_type": "code",
   "execution_count": null,
   "metadata": {},
   "outputs": [
    {
     "data": {
      "text/plain": [
       "album_length\n",
       "0.00     6\n",
       "56.28    1\n",
       "53.07    1\n",
       "45.42    1\n",
       "41.35    1\n",
       "36.30    1\n",
       "13.27    1\n",
       "Name: count, dtype: int64"
      ]
     },
     "metadata": {},
     "output_type": "display_data"
    }
   ],
   "source": [
    "df[df[['album_id', 'artist', 'title', 'year', 'rating', 'votes']].duplicated()]['album_length'].value_counts()"
   ]
  },
  {
   "cell_type": "code",
   "execution_count": null,
   "metadata": {},
   "outputs": [
    {
     "name": "stdout",
     "output_type": "stream",
     "text": [
      "Rows before dropping: 3264\n",
      "Rows after dropping: 3252\n"
     ]
    }
   ],
   "source": [
    "# most of these albums are the same, except one entry has album_length=0\n",
    "print(f\"Rows before dropping: {df.shape[0]}\")\n",
    "df.drop_duplicates(subset=['artist', 'title', 'year', 'rating', 'votes'], inplace=True)\n",
    "print(f\"Rows after dropping: {df.shape[0]}\")"
   ]
  },
  {
   "cell_type": "markdown",
   "metadata": {},
   "source": [
    "**duplicates by ``artist`` and ``title``**"
   ]
  },
  {
   "cell_type": "code",
   "execution_count": null,
   "metadata": {},
   "outputs": [
    {
     "data": {
      "text/html": [
       "<div>\n",
       "<style scoped>\n",
       "    .dataframe tbody tr th:only-of-type {\n",
       "        vertical-align: middle;\n",
       "    }\n",
       "\n",
       "    .dataframe tbody tr th {\n",
       "        vertical-align: top;\n",
       "    }\n",
       "\n",
       "    .dataframe thead th {\n",
       "        text-align: right;\n",
       "    }\n",
       "</style>\n",
       "<table border=\"1\" class=\"dataframe\">\n",
       "  <thead>\n",
       "    <tr style=\"text-align: right;\">\n",
       "      <th></th>\n",
       "      <th>album_id</th>\n",
       "      <th>artist</th>\n",
       "      <th>title</th>\n",
       "      <th>year</th>\n",
       "      <th>rating</th>\n",
       "      <th>votes</th>\n",
       "      <th>album_length</th>\n",
       "      <th>tracks</th>\n",
       "      <th>release_country</th>\n",
       "      <th>release_type</th>\n",
       "      <th>genres</th>\n",
       "      <th>styles</th>\n",
       "      <th>artist_profile</th>\n",
       "      <th>artist_id</th>\n",
       "      <th>master_id</th>\n",
       "      <th>main_release_id</th>\n",
       "    </tr>\n",
       "  </thead>\n",
       "  <tbody>\n",
       "    <tr>\n",
       "      <th>464</th>\n",
       "      <td>15873</td>\n",
       "      <td>Days of the New</td>\n",
       "      <td>Days of the New</td>\n",
       "      <td>2001</td>\n",
       "      <td>3.70</td>\n",
       "      <td>157</td>\n",
       "      <td>56.92</td>\n",
       "      <td>13</td>\n",
       "      <td>US</td>\n",
       "      <td>['Album']</td>\n",
       "      <td>['Rock']</td>\n",
       "      <td>['Alternative Rock', 'Grunge', 'Acoustic']</td>\n",
       "      <td>Days of the New is an American rock band from ...</td>\n",
       "      <td>85890</td>\n",
       "      <td>659503</td>\n",
       "      <td>1291898</td>\n",
       "    </tr>\n",
       "    <tr>\n",
       "      <th>1147</th>\n",
       "      <td>193607</td>\n",
       "      <td>Cattle Decapitation</td>\n",
       "      <td>The Anthropocene Extinction</td>\n",
       "      <td>2020</td>\n",
       "      <td>3.91</td>\n",
       "      <td>777</td>\n",
       "      <td>46.23</td>\n",
       "      <td>12</td>\n",
       "      <td>US</td>\n",
       "      <td>['LP', 'Album', 'Limited Edition']</td>\n",
       "      <td>['Rock']</td>\n",
       "      <td>['Death Metal', 'Grindcore']</td>\n",
       "      <td>American grindcore/death metal band based in S...</td>\n",
       "      <td>388407</td>\n",
       "      <td>0</td>\n",
       "      <td>15816188</td>\n",
       "    </tr>\n",
       "    <tr>\n",
       "      <th>1275</th>\n",
       "      <td>102755</td>\n",
       "      <td>The Contortionist</td>\n",
       "      <td>Intrinsic</td>\n",
       "      <td>2020</td>\n",
       "      <td>3.38</td>\n",
       "      <td>1024</td>\n",
       "      <td>45.12</td>\n",
       "      <td>11</td>\n",
       "      <td>US</td>\n",
       "      <td>['LP', 'Album', 'Limited Edition']</td>\n",
       "      <td>['Rock']</td>\n",
       "      <td>['Progressive Metal', 'Death Metal', 'Math Rock']</td>\n",
       "      <td>The Contortionist is an American progressive m...</td>\n",
       "      <td>1964016</td>\n",
       "      <td>0</td>\n",
       "      <td>17467792</td>\n",
       "    </tr>\n",
       "    <tr>\n",
       "      <th>1432</th>\n",
       "      <td>11604</td>\n",
       "      <td>Black Label Society</td>\n",
       "      <td>Shot to Hell</td>\n",
       "      <td>2020</td>\n",
       "      <td>2.98</td>\n",
       "      <td>261</td>\n",
       "      <td>43.67</td>\n",
       "      <td>13</td>\n",
       "      <td>US</td>\n",
       "      <td>['LP', 'Album']</td>\n",
       "      <td>['Rock']</td>\n",
       "      <td>['Heavy Metal']</td>\n",
       "      <td>American heavy metal band formed in 1998 in Lo...</td>\n",
       "      <td>299863</td>\n",
       "      <td>0</td>\n",
       "      <td>31008001</td>\n",
       "    </tr>\n",
       "    <tr>\n",
       "      <th>1497</th>\n",
       "      <td>13296</td>\n",
       "      <td>Nonpoint</td>\n",
       "      <td>Development</td>\n",
       "      <td>0</td>\n",
       "      <td>3.27</td>\n",
       "      <td>113</td>\n",
       "      <td>42.92</td>\n",
       "      <td>12</td>\n",
       "      <td>US</td>\n",
       "      <td>['Album', 'Reissue']</td>\n",
       "      <td>['Hip Hop', 'Rock']</td>\n",
       "      <td>['Nu Metal']</td>\n",
       "      <td>Nonpoint is an American heavy metal band from ...</td>\n",
       "      <td>264928</td>\n",
       "      <td>534163</td>\n",
       "      <td>1407838</td>\n",
       "    </tr>\n",
       "  </tbody>\n",
       "</table>\n",
       "</div>"
      ],
      "text/plain": [
       "      album_id               artist                        title  year  \\\n",
       "464      15873      Days of the New              Days of the New  2001   \n",
       "1147    193607  Cattle Decapitation  The Anthropocene Extinction  2020   \n",
       "1275    102755    The Contortionist                    Intrinsic  2020   \n",
       "1432     11604  Black Label Society                 Shot to Hell  2020   \n",
       "1497     13296             Nonpoint                  Development     0   \n",
       "\n",
       "      rating  votes  album_length  tracks release_country  \\\n",
       "464     3.70    157         56.92      13              US   \n",
       "1147    3.91    777         46.23      12              US   \n",
       "1275    3.38   1024         45.12      11              US   \n",
       "1432    2.98    261         43.67      13              US   \n",
       "1497    3.27    113         42.92      12              US   \n",
       "\n",
       "                            release_type               genres  \\\n",
       "464                            ['Album']             ['Rock']   \n",
       "1147  ['LP', 'Album', 'Limited Edition']             ['Rock']   \n",
       "1275  ['LP', 'Album', 'Limited Edition']             ['Rock']   \n",
       "1432                     ['LP', 'Album']             ['Rock']   \n",
       "1497                ['Album', 'Reissue']  ['Hip Hop', 'Rock']   \n",
       "\n",
       "                                                 styles  \\\n",
       "464          ['Alternative Rock', 'Grunge', 'Acoustic']   \n",
       "1147                       ['Death Metal', 'Grindcore']   \n",
       "1275  ['Progressive Metal', 'Death Metal', 'Math Rock']   \n",
       "1432                                    ['Heavy Metal']   \n",
       "1497                                       ['Nu Metal']   \n",
       "\n",
       "                                         artist_profile  artist_id  master_id  \\\n",
       "464   Days of the New is an American rock band from ...      85890     659503   \n",
       "1147  American grindcore/death metal band based in S...     388407          0   \n",
       "1275  The Contortionist is an American progressive m...    1964016          0   \n",
       "1432  American heavy metal band formed in 1998 in Lo...     299863          0   \n",
       "1497  Nonpoint is an American heavy metal band from ...     264928     534163   \n",
       "\n",
       "      main_release_id  \n",
       "464           1291898  \n",
       "1147         15816188  \n",
       "1275         17467792  \n",
       "1432         31008001  \n",
       "1497          1407838  "
      ]
     },
     "metadata": {},
     "output_type": "display_data"
    }
   ],
   "source": [
    "df[df[['artist', 'title']].duplicated()].head()"
   ]
  },
  {
   "cell_type": "code",
   "execution_count": null,
   "metadata": {},
   "outputs": [
    {
     "data": {
      "text/plain": [
       "20"
      ]
     },
     "metadata": {},
     "output_type": "display_data"
    }
   ],
   "source": [
    "df[['artist', 'title']].duplicated().sum()"
   ]
  },
  {
   "cell_type": "code",
   "execution_count": null,
   "metadata": {},
   "outputs": [
    {
     "data": {
      "text/html": [
       "<div>\n",
       "<style scoped>\n",
       "    .dataframe tbody tr th:only-of-type {\n",
       "        vertical-align: middle;\n",
       "    }\n",
       "\n",
       "    .dataframe tbody tr th {\n",
       "        vertical-align: top;\n",
       "    }\n",
       "\n",
       "    .dataframe thead th {\n",
       "        text-align: right;\n",
       "    }\n",
       "</style>\n",
       "<table border=\"1\" class=\"dataframe\">\n",
       "  <thead>\n",
       "    <tr style=\"text-align: right;\">\n",
       "      <th></th>\n",
       "      <th>album_id</th>\n",
       "      <th>artist</th>\n",
       "      <th>title</th>\n",
       "      <th>year</th>\n",
       "      <th>rating</th>\n",
       "      <th>votes</th>\n",
       "      <th>album_length</th>\n",
       "      <th>tracks</th>\n",
       "      <th>release_country</th>\n",
       "      <th>release_type</th>\n",
       "      <th>genres</th>\n",
       "      <th>styles</th>\n",
       "      <th>artist_profile</th>\n",
       "      <th>artist_id</th>\n",
       "      <th>master_id</th>\n",
       "      <th>main_release_id</th>\n",
       "    </tr>\n",
       "  </thead>\n",
       "  <tbody>\n",
       "    <tr>\n",
       "      <th>296</th>\n",
       "      <td>15873</td>\n",
       "      <td>Days of the New</td>\n",
       "      <td>Days of the New</td>\n",
       "      <td>1999</td>\n",
       "      <td>3.7</td>\n",
       "      <td>157</td>\n",
       "      <td>62.25</td>\n",
       "      <td>14</td>\n",
       "      <td>US</td>\n",
       "      <td>['Album']</td>\n",
       "      <td>['Rock']</td>\n",
       "      <td>['Alternative Rock', 'Grunge', 'Acoustic']</td>\n",
       "      <td>Days of the New is an American rock band from ...</td>\n",
       "      <td>85890</td>\n",
       "      <td>447101</td>\n",
       "      <td>435592</td>\n",
       "    </tr>\n",
       "    <tr>\n",
       "      <th>464</th>\n",
       "      <td>15873</td>\n",
       "      <td>Days of the New</td>\n",
       "      <td>Days of the New</td>\n",
       "      <td>2001</td>\n",
       "      <td>3.7</td>\n",
       "      <td>157</td>\n",
       "      <td>56.92</td>\n",
       "      <td>13</td>\n",
       "      <td>US</td>\n",
       "      <td>['Album']</td>\n",
       "      <td>['Rock']</td>\n",
       "      <td>['Alternative Rock', 'Grunge', 'Acoustic']</td>\n",
       "      <td>Days of the New is an American rock band from ...</td>\n",
       "      <td>85890</td>\n",
       "      <td>659503</td>\n",
       "      <td>1291898</td>\n",
       "    </tr>\n",
       "  </tbody>\n",
       "</table>\n",
       "</div>"
      ],
      "text/plain": [
       "     album_id           artist            title  year  rating  votes  \\\n",
       "296     15873  Days of the New  Days of the New  1999     3.7    157   \n",
       "464     15873  Days of the New  Days of the New  2001     3.7    157   \n",
       "\n",
       "     album_length  tracks release_country release_type    genres  \\\n",
       "296         62.25      14              US    ['Album']  ['Rock']   \n",
       "464         56.92      13              US    ['Album']  ['Rock']   \n",
       "\n",
       "                                         styles  \\\n",
       "296  ['Alternative Rock', 'Grunge', 'Acoustic']   \n",
       "464  ['Alternative Rock', 'Grunge', 'Acoustic']   \n",
       "\n",
       "                                        artist_profile  artist_id  master_id  \\\n",
       "296  Days of the New is an American rock band from ...      85890     447101   \n",
       "464  Days of the New is an American rock band from ...      85890     659503   \n",
       "\n",
       "     main_release_id  \n",
       "296           435592  \n",
       "464          1291898  "
      ]
     },
     "metadata": {},
     "output_type": "display_data"
    }
   ],
   "source": [
    "df[df['title']=='Days of the New\t'.strip()]"
   ]
  },
  {
   "cell_type": "markdown",
   "metadata": {},
   "source": [
    "**Drop incorrect albums**"
   ]
  },
  {
   "cell_type": "code",
   "execution_count": null,
   "metadata": {},
   "outputs": [
    {
     "name": "stdout",
     "output_type": "stream",
     "text": [
      "Rows dropped\n",
      "(12004, 16)\n"
     ]
    }
   ],
   "source": [
    "# check one by one if necessary\n",
    "try:\n",
    "    df.drop([12027], axis=0, inplace=True)\n",
    "    print('Rows dropped')\n",
    "    print(df.shape)\n",
    "except:\n",
    "    print(\"Couldn't drop these rows\")"
   ]
  },
  {
   "cell_type": "markdown",
   "metadata": {},
   "source": [
    "**Change specific values that are wrong/missing**"
   ]
  },
  {
   "cell_type": "code",
   "execution_count": null,
   "metadata": {},
   "outputs": [],
   "source": [
    "# change specific values that are wrong/missing\n",
    "\n",
    "# df.loc[9591, 'title'] = 'Santana III'\n",
    "# df.loc[9591, 'rating'] = 4.26\n",
    "# df.loc[9591, 'votes'] = 227\n",
    "df.loc[4695, 'album_length'] = 30.25\n",
    "# df.loc[3286, 'tracks'] = 15\n",
    "# df.loc[9575, 'year'] = 1996"
   ]
  },
  {
   "cell_type": "code",
   "execution_count": null,
   "metadata": {},
   "outputs": [
    {
     "data": {
      "text/plain": [
       "0.48333333333333334"
      ]
     },
     "metadata": {},
     "output_type": "display_data"
    }
   ],
   "source": [
    "# calculate the decimals of the album length (seconds)\n",
    "29/60"
   ]
  },
  {
   "cell_type": "markdown",
   "metadata": {},
   "source": [
    "**``df_ratings_top``**"
   ]
  },
  {
   "cell_type": "markdown",
   "metadata": {},
   "source": [
    "If there are two albums with the same name, but one is for instance an EP or a compilation I don't want to keep, I have to drop it from df,\n",
    "\n",
    "but also from ``df_ratings_top``, otherwise I will keep running into this duplicated album every time I add more albums"
   ]
  },
  {
   "cell_type": "code",
   "execution_count": null,
   "metadata": {},
   "outputs": [
    {
     "data": {
      "text/html": [
       "<div>\n",
       "<style scoped>\n",
       "    .dataframe tbody tr th:only-of-type {\n",
       "        vertical-align: middle;\n",
       "    }\n",
       "\n",
       "    .dataframe tbody tr th {\n",
       "        vertical-align: top;\n",
       "    }\n",
       "\n",
       "    .dataframe thead th {\n",
       "        text-align: right;\n",
       "    }\n",
       "</style>\n",
       "<table border=\"1\" class=\"dataframe\">\n",
       "  <thead>\n",
       "    <tr style=\"text-align: right;\">\n",
       "      <th></th>\n",
       "      <th>album_id</th>\n",
       "      <th>artist</th>\n",
       "      <th>title</th>\n",
       "      <th>rating</th>\n",
       "      <th>votes</th>\n",
       "    </tr>\n",
       "  </thead>\n",
       "  <tbody>\n",
       "    <tr>\n",
       "      <th>2436</th>\n",
       "      <td>3581</td>\n",
       "      <td>Pepper</td>\n",
       "      <td>Kona Town</td>\n",
       "      <td>3.87</td>\n",
       "      <td>114</td>\n",
       "    </tr>\n",
       "    <tr>\n",
       "      <th>2708</th>\n",
       "      <td>3970</td>\n",
       "      <td>Pepper</td>\n",
       "      <td>In With The Old</td>\n",
       "      <td>3.46</td>\n",
       "      <td>61</td>\n",
       "    </tr>\n",
       "    <tr>\n",
       "      <th>8649</th>\n",
       "      <td>14537</td>\n",
       "      <td>Pepper</td>\n",
       "      <td>No Shame</td>\n",
       "      <td>3.34</td>\n",
       "      <td>79</td>\n",
       "    </tr>\n",
       "    <tr>\n",
       "      <th>15291</th>\n",
       "      <td>28637</td>\n",
       "      <td>Pepper</td>\n",
       "      <td>Pink Crustaceans and Good Vibrations</td>\n",
       "      <td>3.26</td>\n",
       "      <td>40</td>\n",
       "    </tr>\n",
       "    <tr>\n",
       "      <th>16813</th>\n",
       "      <td>32335</td>\n",
       "      <td>Pepper</td>\n",
       "      <td>Give'n It</td>\n",
       "      <td>3.22</td>\n",
       "      <td>20</td>\n",
       "    </tr>\n",
       "    <tr>\n",
       "      <th>33650</th>\n",
       "      <td>130639</td>\n",
       "      <td>Pepper</td>\n",
       "      <td>Pepper</td>\n",
       "      <td>2.52</td>\n",
       "      <td>21</td>\n",
       "    </tr>\n",
       "  </tbody>\n",
       "</table>\n",
       "</div>"
      ],
      "text/plain": [
       "       album_id  artist                                 title  rating  votes\n",
       "2436       3581  Pepper                             Kona Town    3.87    114\n",
       "2708       3970  Pepper                       In With The Old    3.46     61\n",
       "8649      14537  Pepper                              No Shame    3.34     79\n",
       "15291     28637  Pepper  Pink Crustaceans and Good Vibrations    3.26     40\n",
       "16813     32335  Pepper                             Give'n It    3.22     20\n",
       "33650    130639  Pepper                                Pepper    2.52     21"
      ]
     },
     "metadata": {},
     "output_type": "display_data"
    }
   ],
   "source": [
    "df_ratings_20[df_ratings_20['artist']=='Pepper'.strip()]"
   ]
  },
  {
   "cell_type": "code",
   "execution_count": null,
   "metadata": {},
   "outputs": [
    {
     "name": "stdout",
     "output_type": "stream",
     "text": [
      "Rows dropped\n",
      "(51240, 5)\n"
     ]
    }
   ],
   "source": [
    "# check one by one if necessary\n",
    "try:\n",
    "    df_ratings_20.drop([4051], axis=0, inplace=True)\n",
    "    print('Rows dropped')\n",
    "    print(df_ratings_20.shape)\n",
    "except:\n",
    "    print(\"Couldn't drop these rows\")"
   ]
  },
  {
   "cell_type": "code",
   "execution_count": null,
   "metadata": {},
   "outputs": [],
   "source": [
    "df_ratings_20.to_csv('Datasets/df_ratings_20.csv', index=False)"
   ]
  },
  {
   "cell_type": "markdown",
   "metadata": {},
   "source": [
    "### **Drop live albums**"
   ]
  },
  {
   "cell_type": "markdown",
   "metadata": {},
   "source": [
    "**Hauré d'eliminar tmb albums de 'MTV Unplugged'**"
   ]
  },
  {
   "cell_type": "markdown",
   "metadata": {},
   "source": [
    "Let's try to detect the live albums by the title"
   ]
  },
  {
   "cell_type": "markdown",
   "metadata": {},
   "source": [
    "#### **'Live at'**"
   ]
  },
  {
   "cell_type": "code",
   "execution_count": null,
   "metadata": {},
   "outputs": [
    {
     "data": {
      "text/plain": [
       "(3252, 16)"
      ]
     },
     "metadata": {},
     "output_type": "display_data"
    }
   ],
   "source": [
    "df.shape"
   ]
  },
  {
   "cell_type": "code",
   "execution_count": null,
   "metadata": {},
   "outputs": [
    {
     "name": "stdout",
     "output_type": "stream",
     "text": [
      "There are 9 albums with 'Live at ' in the title\n"
     ]
    }
   ],
   "source": [
    "print(f\"There are {df[df['title'].str.contains('Live at ', case=False)].shape[0]} albums with 'Live at ' in the title\")"
   ]
  },
  {
   "cell_type": "code",
   "execution_count": null,
   "metadata": {},
   "outputs": [
    {
     "data": {
      "text/html": [
       "<div>\n",
       "<style scoped>\n",
       "    .dataframe tbody tr th:only-of-type {\n",
       "        vertical-align: middle;\n",
       "    }\n",
       "\n",
       "    .dataframe tbody tr th {\n",
       "        vertical-align: top;\n",
       "    }\n",
       "\n",
       "    .dataframe thead th {\n",
       "        text-align: right;\n",
       "    }\n",
       "</style>\n",
       "<table border=\"1\" class=\"dataframe\">\n",
       "  <thead>\n",
       "    <tr style=\"text-align: right;\">\n",
       "      <th></th>\n",
       "      <th>album_id</th>\n",
       "      <th>artist</th>\n",
       "      <th>title</th>\n",
       "      <th>year</th>\n",
       "      <th>rating</th>\n",
       "      <th>votes</th>\n",
       "      <th>album_length</th>\n",
       "      <th>tracks</th>\n",
       "      <th>release_country</th>\n",
       "      <th>release_type</th>\n",
       "      <th>genres</th>\n",
       "      <th>styles</th>\n",
       "      <th>artist_profile</th>\n",
       "      <th>artist_id</th>\n",
       "      <th>master_id</th>\n",
       "      <th>main_release_id</th>\n",
       "    </tr>\n",
       "  </thead>\n",
       "  <tbody>\n",
       "    <tr>\n",
       "      <th>4</th>\n",
       "      <td>2155</td>\n",
       "      <td>Coheed and Cambria</td>\n",
       "      <td>Live at the Starland Ballroom</td>\n",
       "      <td>2005</td>\n",
       "      <td>4.19</td>\n",
       "      <td>264</td>\n",
       "      <td>205.03</td>\n",
       "      <td>36</td>\n",
       "      <td>US</td>\n",
       "      <td>['NTSC', 'Album']</td>\n",
       "      <td>['Rock']</td>\n",
       "      <td>['Alternative Rock', 'Emo', 'Prog Rock']</td>\n",
       "      <td>A progressive rock band based out of Nyack and...</td>\n",
       "      <td>256629</td>\n",
       "      <td>819727</td>\n",
       "      <td>6761981</td>\n",
       "    </tr>\n",
       "    <tr>\n",
       "      <th>8</th>\n",
       "      <td>998</td>\n",
       "      <td>Dream Theater</td>\n",
       "      <td>Live at Budokan</td>\n",
       "      <td>2004</td>\n",
       "      <td>4.12</td>\n",
       "      <td>366</td>\n",
       "      <td>165.35</td>\n",
       "      <td>18</td>\n",
       "      <td>US</td>\n",
       "      <td>['Album']</td>\n",
       "      <td>['Rock']</td>\n",
       "      <td>['Progressive Metal', 'Symphonic Metal']</td>\n",
       "      <td>American progressive metal band, formed in Bos...</td>\n",
       "      <td>260935</td>\n",
       "      <td>52737</td>\n",
       "      <td>835823</td>\n",
       "    </tr>\n",
       "    <tr>\n",
       "      <th>41</th>\n",
       "      <td>1532</td>\n",
       "      <td>Jimi Hendrix</td>\n",
       "      <td>Live at Woodstock</td>\n",
       "      <td>1999</td>\n",
       "      <td>4.40</td>\n",
       "      <td>195</td>\n",
       "      <td>96.50</td>\n",
       "      <td>16</td>\n",
       "      <td>Europe</td>\n",
       "      <td>['Album', 'Remastered']</td>\n",
       "      <td>['Rock']</td>\n",
       "      <td>['Psychedelic Rock']</td>\n",
       "      <td>American modern electric blues guitar virtuoso...</td>\n",
       "      <td>110593</td>\n",
       "      <td>251465</td>\n",
       "      <td>1035861</td>\n",
       "    </tr>\n",
       "    <tr>\n",
       "      <th>127</th>\n",
       "      <td>18329</td>\n",
       "      <td>Rage Against the Machine</td>\n",
       "      <td>Live at the Grand Olympic Auditorium</td>\n",
       "      <td>2003</td>\n",
       "      <td>3.77</td>\n",
       "      <td>272</td>\n",
       "      <td>71.02</td>\n",
       "      <td>16</td>\n",
       "      <td>US</td>\n",
       "      <td>['Album']</td>\n",
       "      <td>['Hip Hop', 'Rock', 'Funk / Soul']</td>\n",
       "      <td>['Hard Rock', 'Alternative Rock', 'Hardcore', ...</td>\n",
       "      <td>Alternative / funk / modern rock band formed i...</td>\n",
       "      <td>12212</td>\n",
       "      <td>92111</td>\n",
       "      <td>368202</td>\n",
       "    </tr>\n",
       "    <tr>\n",
       "      <th>190</th>\n",
       "      <td>94660</td>\n",
       "      <td>Neil Young</td>\n",
       "      <td>Live at Massey Hall 1971</td>\n",
       "      <td>2007</td>\n",
       "      <td>4.43</td>\n",
       "      <td>147</td>\n",
       "      <td>67.52</td>\n",
       "      <td>17</td>\n",
       "      <td>US</td>\n",
       "      <td>['HDCD', 'Album', 'Stereo']</td>\n",
       "      <td>['Rock']</td>\n",
       "      <td>['Country Rock', 'Southern Rock', 'Acoustic']</td>\n",
       "      <td>Neil Young is a Canadian-American singer-songw...</td>\n",
       "      <td>138556</td>\n",
       "      <td>38727</td>\n",
       "      <td>2305420</td>\n",
       "    </tr>\n",
       "    <tr>\n",
       "      <th>191</th>\n",
       "      <td>73273</td>\n",
       "      <td>The Jimi Hendrix Experience</td>\n",
       "      <td>Live At Berkeley</td>\n",
       "      <td>2003</td>\n",
       "      <td>4.25</td>\n",
       "      <td>26</td>\n",
       "      <td>67.47</td>\n",
       "      <td>12</td>\n",
       "      <td>US</td>\n",
       "      <td>['Album']</td>\n",
       "      <td>['Rock']</td>\n",
       "      <td>['Psychedelic Rock', 'Classic Rock']</td>\n",
       "      <td>The Jimi Hendrix Experience (often shortened t...</td>\n",
       "      <td>255672</td>\n",
       "      <td>82849</td>\n",
       "      <td>1335394</td>\n",
       "    </tr>\n",
       "    <tr>\n",
       "      <th>275</th>\n",
       "      <td>8991</td>\n",
       "      <td>Eels</td>\n",
       "      <td>Eels With Strings - Live At Town Hall</td>\n",
       "      <td>2006</td>\n",
       "      <td>3.90</td>\n",
       "      <td>40</td>\n",
       "      <td>63.08</td>\n",
       "      <td>22</td>\n",
       "      <td>Europe</td>\n",
       "      <td>['Album']</td>\n",
       "      <td>['Rock']</td>\n",
       "      <td>['Indie Rock']</td>\n",
       "      <td>US alternative rock band formed in 1995 by sin...</td>\n",
       "      <td>74395</td>\n",
       "      <td>117733</td>\n",
       "      <td>630958</td>\n",
       "    </tr>\n",
       "    <tr>\n",
       "      <th>2552</th>\n",
       "      <td>1618</td>\n",
       "      <td>Incubus</td>\n",
       "      <td>Alive at Red Rocks</td>\n",
       "      <td>2004</td>\n",
       "      <td>4.23</td>\n",
       "      <td>224</td>\n",
       "      <td>21.95</td>\n",
       "      <td>24</td>\n",
       "      <td>US</td>\n",
       "      <td>['DVD-Video', 'Multichannel', 'NTSC', 'Album']</td>\n",
       "      <td>['Rock']</td>\n",
       "      <td>['Alternative Rock', 'Funk Metal']</td>\n",
       "      <td>Alternative Rock band (formerly Funk Metal &amp; N...</td>\n",
       "      <td>149192</td>\n",
       "      <td>59255</td>\n",
       "      <td>9364072</td>\n",
       "    </tr>\n",
       "    <tr>\n",
       "      <th>3210</th>\n",
       "      <td>6864</td>\n",
       "      <td>Clutch</td>\n",
       "      <td>Live At The Googolplex</td>\n",
       "      <td>2003</td>\n",
       "      <td>3.52</td>\n",
       "      <td>25</td>\n",
       "      <td>0.00</td>\n",
       "      <td>15</td>\n",
       "      <td>US</td>\n",
       "      <td>['LP']</td>\n",
       "      <td>['Rock']</td>\n",
       "      <td>['Stoner Rock']</td>\n",
       "      <td>Clutch is an American Rock band that started d...</td>\n",
       "      <td>289116</td>\n",
       "      <td>184641</td>\n",
       "      <td>5418192</td>\n",
       "    </tr>\n",
       "  </tbody>\n",
       "</table>\n",
       "</div>"
      ],
      "text/plain": [
       "      album_id                       artist  \\\n",
       "4         2155           Coheed and Cambria   \n",
       "8          998                Dream Theater   \n",
       "41        1532                 Jimi Hendrix   \n",
       "127      18329     Rage Against the Machine   \n",
       "190      94660                   Neil Young   \n",
       "191      73273  The Jimi Hendrix Experience   \n",
       "275       8991                         Eels   \n",
       "2552      1618                      Incubus   \n",
       "3210      6864                       Clutch   \n",
       "\n",
       "                                      title  year  rating  votes  \\\n",
       "4             Live at the Starland Ballroom  2005    4.19    264   \n",
       "8                           Live at Budokan  2004    4.12    366   \n",
       "41                        Live at Woodstock  1999    4.40    195   \n",
       "127    Live at the Grand Olympic Auditorium  2003    3.77    272   \n",
       "190                Live at Massey Hall 1971  2007    4.43    147   \n",
       "191                        Live At Berkeley  2003    4.25     26   \n",
       "275   Eels With Strings - Live At Town Hall  2006    3.90     40   \n",
       "2552                     Alive at Red Rocks  2004    4.23    224   \n",
       "3210                 Live At The Googolplex  2003    3.52     25   \n",
       "\n",
       "      album_length  tracks release_country  \\\n",
       "4           205.03      36              US   \n",
       "8           165.35      18              US   \n",
       "41           96.50      16          Europe   \n",
       "127          71.02      16              US   \n",
       "190          67.52      17              US   \n",
       "191          67.47      12              US   \n",
       "275          63.08      22          Europe   \n",
       "2552         21.95      24              US   \n",
       "3210          0.00      15              US   \n",
       "\n",
       "                                        release_type  \\\n",
       "4                                  ['NTSC', 'Album']   \n",
       "8                                          ['Album']   \n",
       "41                           ['Album', 'Remastered']   \n",
       "127                                        ['Album']   \n",
       "190                      ['HDCD', 'Album', 'Stereo']   \n",
       "191                                        ['Album']   \n",
       "275                                        ['Album']   \n",
       "2552  ['DVD-Video', 'Multichannel', 'NTSC', 'Album']   \n",
       "3210                                          ['LP']   \n",
       "\n",
       "                                  genres  \\\n",
       "4                               ['Rock']   \n",
       "8                               ['Rock']   \n",
       "41                              ['Rock']   \n",
       "127   ['Hip Hop', 'Rock', 'Funk / Soul']   \n",
       "190                             ['Rock']   \n",
       "191                             ['Rock']   \n",
       "275                             ['Rock']   \n",
       "2552                            ['Rock']   \n",
       "3210                            ['Rock']   \n",
       "\n",
       "                                                 styles  \\\n",
       "4              ['Alternative Rock', 'Emo', 'Prog Rock']   \n",
       "8              ['Progressive Metal', 'Symphonic Metal']   \n",
       "41                                 ['Psychedelic Rock']   \n",
       "127   ['Hard Rock', 'Alternative Rock', 'Hardcore', ...   \n",
       "190       ['Country Rock', 'Southern Rock', 'Acoustic']   \n",
       "191                ['Psychedelic Rock', 'Classic Rock']   \n",
       "275                                      ['Indie Rock']   \n",
       "2552                 ['Alternative Rock', 'Funk Metal']   \n",
       "3210                                    ['Stoner Rock']   \n",
       "\n",
       "                                         artist_profile  artist_id  master_id  \\\n",
       "4     A progressive rock band based out of Nyack and...     256629     819727   \n",
       "8     American progressive metal band, formed in Bos...     260935      52737   \n",
       "41    American modern electric blues guitar virtuoso...     110593     251465   \n",
       "127   Alternative / funk / modern rock band formed i...      12212      92111   \n",
       "190   Neil Young is a Canadian-American singer-songw...     138556      38727   \n",
       "191   The Jimi Hendrix Experience (often shortened t...     255672      82849   \n",
       "275   US alternative rock band formed in 1995 by sin...      74395     117733   \n",
       "2552  Alternative Rock band (formerly Funk Metal & N...     149192      59255   \n",
       "3210  Clutch is an American Rock band that started d...     289116     184641   \n",
       "\n",
       "      main_release_id  \n",
       "4             6761981  \n",
       "8              835823  \n",
       "41            1035861  \n",
       "127            368202  \n",
       "190           2305420  \n",
       "191           1335394  \n",
       "275            630958  \n",
       "2552          9364072  \n",
       "3210          5418192  "
      ]
     },
     "metadata": {},
     "output_type": "display_data"
    }
   ],
   "source": [
    "# Let's check them before deleting them\n",
    "df[df['title'].str.contains('Live at ', case=False)]"
   ]
  },
  {
   "cell_type": "code",
   "execution_count": null,
   "metadata": {},
   "outputs": [
    {
     "name": "stdout",
     "output_type": "stream",
     "text": [
      "Rows before dropping: 3252\n",
      "Rows after dropping: 3243\n"
     ]
    }
   ],
   "source": [
    "# correct, they are all live albums\n",
    "print(f\"Rows before dropping: {df.shape[0]}\")\n",
    "df = df[~df['title'].str.contains('Live at ', case=False)]\n",
    "print(f\"Rows after dropping: {df.shape[0]}\")"
   ]
  },
  {
   "cell_type": "markdown",
   "metadata": {},
   "source": [
    "#### **'Live in'**"
   ]
  },
  {
   "cell_type": "code",
   "execution_count": null,
   "metadata": {},
   "outputs": [
    {
     "name": "stdout",
     "output_type": "stream",
     "text": [
      "There are 6 albums with 'Live in ' in the title\n"
     ]
    }
   ],
   "source": [
    "print(f\"There are {df[df['title'].str.contains(r'^Live in ', case=False)].shape[0]} albums with 'Live in ' in the title\")"
   ]
  },
  {
   "cell_type": "code",
   "execution_count": null,
   "metadata": {},
   "outputs": [
    {
     "data": {
      "text/html": [
       "<div>\n",
       "<style scoped>\n",
       "    .dataframe tbody tr th:only-of-type {\n",
       "        vertical-align: middle;\n",
       "    }\n",
       "\n",
       "    .dataframe tbody tr th {\n",
       "        vertical-align: top;\n",
       "    }\n",
       "\n",
       "    .dataframe thead th {\n",
       "        text-align: right;\n",
       "    }\n",
       "</style>\n",
       "<table border=\"1\" class=\"dataframe\">\n",
       "  <thead>\n",
       "    <tr style=\"text-align: right;\">\n",
       "      <th></th>\n",
       "      <th>album_id</th>\n",
       "      <th>artist</th>\n",
       "      <th>title</th>\n",
       "      <th>year</th>\n",
       "      <th>rating</th>\n",
       "      <th>votes</th>\n",
       "      <th>album_length</th>\n",
       "      <th>tracks</th>\n",
       "      <th>release_country</th>\n",
       "      <th>release_type</th>\n",
       "      <th>genres</th>\n",
       "      <th>styles</th>\n",
       "      <th>artist_profile</th>\n",
       "      <th>artist_id</th>\n",
       "      <th>master_id</th>\n",
       "      <th>main_release_id</th>\n",
       "    </tr>\n",
       "  </thead>\n",
       "  <tbody>\n",
       "    <tr>\n",
       "      <th>29</th>\n",
       "      <td>2447</td>\n",
       "      <td>Linkin Park</td>\n",
       "      <td>Live In Texas</td>\n",
       "      <td>2003</td>\n",
       "      <td>3.23</td>\n",
       "      <td>489</td>\n",
       "      <td>108.68</td>\n",
       "      <td>29</td>\n",
       "      <td>Europe</td>\n",
       "      <td>['Album', 'Enhanced']</td>\n",
       "      <td>['Rock']</td>\n",
       "      <td>['Nu Metal']</td>\n",
       "      <td>Alternative rock band from Agoura Hills, Calif...</td>\n",
       "      <td>40029</td>\n",
       "      <td>74531</td>\n",
       "      <td>383474</td>\n",
       "    </tr>\n",
       "    <tr>\n",
       "      <th>185</th>\n",
       "      <td>655</td>\n",
       "      <td>Strung Out</td>\n",
       "      <td>Live in a Dive</td>\n",
       "      <td>2003</td>\n",
       "      <td>4.38</td>\n",
       "      <td>53</td>\n",
       "      <td>68.07</td>\n",
       "      <td>21</td>\n",
       "      <td>US</td>\n",
       "      <td>['Album']</td>\n",
       "      <td>['Rock']</td>\n",
       "      <td>['Punk']</td>\n",
       "      <td>American punk rock band from Simi Valley, Cali...</td>\n",
       "      <td>253310</td>\n",
       "      <td>287638</td>\n",
       "      <td>1146384</td>\n",
       "    </tr>\n",
       "    <tr>\n",
       "      <th>212</th>\n",
       "      <td>50617</td>\n",
       "      <td>Testament</td>\n",
       "      <td>Live in London</td>\n",
       "      <td>2005</td>\n",
       "      <td>4.29</td>\n",
       "      <td>49</td>\n",
       "      <td>66.12</td>\n",
       "      <td>14</td>\n",
       "      <td>US</td>\n",
       "      <td>['Album']</td>\n",
       "      <td>['Rock']</td>\n",
       "      <td>['Thrash']</td>\n",
       "      <td>Thrash Metal (Heavy Metal) band from San Franc...</td>\n",
       "      <td>137126</td>\n",
       "      <td>281150</td>\n",
       "      <td>896926</td>\n",
       "    </tr>\n",
       "    <tr>\n",
       "      <th>2788</th>\n",
       "      <td>375463</td>\n",
       "      <td>King Gizzard and The Lizard Wizard</td>\n",
       "      <td>Live In San Francisco '16</td>\n",
       "      <td>2020</td>\n",
       "      <td>4.19</td>\n",
       "      <td>26</td>\n",
       "      <td>0.00</td>\n",
       "      <td>13</td>\n",
       "      <td>Australia</td>\n",
       "      <td>['LP', 'Limited Edition']</td>\n",
       "      <td>['Rock']</td>\n",
       "      <td>['Psychedelic Rock']</td>\n",
       "      <td>Psychedelic rock band from Melbourne, Victoria...</td>\n",
       "      <td>2532180</td>\n",
       "      <td>1841534</td>\n",
       "      <td>16522995</td>\n",
       "    </tr>\n",
       "    <tr>\n",
       "      <th>2864</th>\n",
       "      <td>11810</td>\n",
       "      <td>Lagwagon</td>\n",
       "      <td>Live In A Dive</td>\n",
       "      <td>2005</td>\n",
       "      <td>4.05</td>\n",
       "      <td>53</td>\n",
       "      <td>0.00</td>\n",
       "      <td>22</td>\n",
       "      <td>US</td>\n",
       "      <td>['LP']</td>\n",
       "      <td>['Rock']</td>\n",
       "      <td>['Punk']</td>\n",
       "      <td>American punk rock band originally named [a=Se...</td>\n",
       "      <td>253308</td>\n",
       "      <td>246514</td>\n",
       "      <td>1485031</td>\n",
       "    </tr>\n",
       "    <tr>\n",
       "      <th>2947</th>\n",
       "      <td>24160</td>\n",
       "      <td>Joan of Arc</td>\n",
       "      <td>Live In Chicago, 1999</td>\n",
       "      <td>1999</td>\n",
       "      <td>3.59</td>\n",
       "      <td>23</td>\n",
       "      <td>0.00</td>\n",
       "      <td>13</td>\n",
       "      <td>US</td>\n",
       "      <td>['LP']</td>\n",
       "      <td>['Rock']</td>\n",
       "      <td>['Post Rock', 'Indie Rock']</td>\n",
       "      <td>Chicago, IL-based indie/experimental outfit.  ...</td>\n",
       "      <td>279142</td>\n",
       "      <td>148862</td>\n",
       "      <td>740028</td>\n",
       "    </tr>\n",
       "  </tbody>\n",
       "</table>\n",
       "</div>"
      ],
      "text/plain": [
       "      album_id                              artist                      title  \\\n",
       "29        2447                         Linkin Park              Live In Texas   \n",
       "185        655                          Strung Out             Live in a Dive   \n",
       "212      50617                           Testament             Live in London   \n",
       "2788    375463  King Gizzard and The Lizard Wizard  Live In San Francisco '16   \n",
       "2864     11810                            Lagwagon             Live In A Dive   \n",
       "2947     24160                         Joan of Arc      Live In Chicago, 1999   \n",
       "\n",
       "      year  rating  votes  album_length  tracks release_country  \\\n",
       "29    2003    3.23    489        108.68      29          Europe   \n",
       "185   2003    4.38     53         68.07      21              US   \n",
       "212   2005    4.29     49         66.12      14              US   \n",
       "2788  2020    4.19     26          0.00      13       Australia   \n",
       "2864  2005    4.05     53          0.00      22              US   \n",
       "2947  1999    3.59     23          0.00      13              US   \n",
       "\n",
       "                   release_type    genres                       styles  \\\n",
       "29        ['Album', 'Enhanced']  ['Rock']                 ['Nu Metal']   \n",
       "185                   ['Album']  ['Rock']                     ['Punk']   \n",
       "212                   ['Album']  ['Rock']                   ['Thrash']   \n",
       "2788  ['LP', 'Limited Edition']  ['Rock']         ['Psychedelic Rock']   \n",
       "2864                     ['LP']  ['Rock']                     ['Punk']   \n",
       "2947                     ['LP']  ['Rock']  ['Post Rock', 'Indie Rock']   \n",
       "\n",
       "                                         artist_profile  artist_id  master_id  \\\n",
       "29    Alternative rock band from Agoura Hills, Calif...      40029      74531   \n",
       "185   American punk rock band from Simi Valley, Cali...     253310     287638   \n",
       "212   Thrash Metal (Heavy Metal) band from San Franc...     137126     281150   \n",
       "2788  Psychedelic rock band from Melbourne, Victoria...    2532180    1841534   \n",
       "2864  American punk rock band originally named [a=Se...     253308     246514   \n",
       "2947  Chicago, IL-based indie/experimental outfit.  ...     279142     148862   \n",
       "\n",
       "      main_release_id  \n",
       "29             383474  \n",
       "185           1146384  \n",
       "212            896926  \n",
       "2788         16522995  \n",
       "2864          1485031  \n",
       "2947           740028  "
      ]
     },
     "metadata": {},
     "output_type": "display_data"
    }
   ],
   "source": [
    "# Let's check them before deleting them\n",
    "df[df['title'].str.contains(r'^Live in ', case=False)]"
   ]
  },
  {
   "cell_type": "code",
   "execution_count": null,
   "metadata": {},
   "outputs": [
    {
     "name": "stdout",
     "output_type": "stream",
     "text": [
      "Rows before dropping: 3243\n",
      "Rows after dropping: 3235\n"
     ]
    }
   ],
   "source": [
    "# I can drop them all\n",
    "print(f\"Rows before dropping: {df.shape[0]}\")\n",
    "df = df[~df['title'].str.contains(r'^...Live in ', case=False)]\n",
    "print(f\"Rows after dropping: {df.shape[0]}\")"
   ]
  },
  {
   "cell_type": "code",
   "execution_count": null,
   "metadata": {},
   "outputs": [
    {
     "data": {
      "text/html": [
       "<div>\n",
       "<style scoped>\n",
       "    .dataframe tbody tr th:only-of-type {\n",
       "        vertical-align: middle;\n",
       "    }\n",
       "\n",
       "    .dataframe tbody tr th {\n",
       "        vertical-align: top;\n",
       "    }\n",
       "\n",
       "    .dataframe thead th {\n",
       "        text-align: right;\n",
       "    }\n",
       "</style>\n",
       "<table border=\"1\" class=\"dataframe\">\n",
       "  <thead>\n",
       "    <tr style=\"text-align: right;\">\n",
       "      <th></th>\n",
       "      <th>album_id</th>\n",
       "      <th>artist</th>\n",
       "      <th>title</th>\n",
       "      <th>year</th>\n",
       "      <th>rating</th>\n",
       "      <th>votes</th>\n",
       "      <th>album_length</th>\n",
       "      <th>tracks</th>\n",
       "      <th>release_country</th>\n",
       "      <th>release_type</th>\n",
       "      <th>genres</th>\n",
       "      <th>styles</th>\n",
       "      <th>artist_profile</th>\n",
       "      <th>artist_id</th>\n",
       "      <th>master_id</th>\n",
       "      <th>main_release_id</th>\n",
       "    </tr>\n",
       "  </thead>\n",
       "  <tbody>\n",
       "  </tbody>\n",
       "</table>\n",
       "</div>"
      ],
      "text/plain": [
       "Empty DataFrame\n",
       "Columns: [album_id, artist, title, year, rating, votes, album_length, tracks, release_country, release_type, genres, styles, artist_profile, artist_id, master_id, main_release_id]\n",
       "Index: []"
      ]
     },
     "metadata": {},
     "output_type": "display_data"
    }
   ],
   "source": [
    "# This is a studio album\n",
    "df[df['title'].str.contains('Live in ', case=True)]"
   ]
  },
  {
   "cell_type": "markdown",
   "metadata": {},
   "source": [
    "#### **'MTV Unplugged'**"
   ]
  },
  {
   "cell_type": "code",
   "execution_count": null,
   "metadata": {},
   "outputs": [
    {
     "name": "stdout",
     "output_type": "stream",
     "text": [
      "There are 0 albums with 'MTV Unplugged' in the title\n"
     ]
    }
   ],
   "source": [
    "print(f\"There are {df[df['title'].str.contains(r'MTV Unplugged', case=False)].shape[0]} albums with 'MTV Unplugged' in the title\")"
   ]
  },
  {
   "cell_type": "code",
   "execution_count": null,
   "metadata": {},
   "outputs": [
    {
     "data": {
      "text/html": [
       "<div>\n",
       "<style scoped>\n",
       "    .dataframe tbody tr th:only-of-type {\n",
       "        vertical-align: middle;\n",
       "    }\n",
       "\n",
       "    .dataframe tbody tr th {\n",
       "        vertical-align: top;\n",
       "    }\n",
       "\n",
       "    .dataframe thead th {\n",
       "        text-align: right;\n",
       "    }\n",
       "</style>\n",
       "<table border=\"1\" class=\"dataframe\">\n",
       "  <thead>\n",
       "    <tr style=\"text-align: right;\">\n",
       "      <th></th>\n",
       "      <th>album_id</th>\n",
       "      <th>artist</th>\n",
       "      <th>title</th>\n",
       "      <th>year</th>\n",
       "      <th>rating</th>\n",
       "      <th>votes</th>\n",
       "      <th>album_length</th>\n",
       "      <th>tracks</th>\n",
       "      <th>release_country</th>\n",
       "      <th>release_type</th>\n",
       "      <th>genres</th>\n",
       "      <th>styles</th>\n",
       "      <th>artist_profile</th>\n",
       "      <th>artist_id</th>\n",
       "      <th>master_id</th>\n",
       "      <th>main_release_id</th>\n",
       "    </tr>\n",
       "  </thead>\n",
       "  <tbody>\n",
       "  </tbody>\n",
       "</table>\n",
       "</div>"
      ],
      "text/plain": [
       "Empty DataFrame\n",
       "Columns: [album_id, artist, title, year, rating, votes, album_length, tracks, release_country, release_type, genres, styles, artist_profile, artist_id, master_id, main_release_id]\n",
       "Index: []"
      ]
     },
     "metadata": {},
     "output_type": "display_data"
    }
   ],
   "source": [
    "# Let's check them before deleting them\n",
    "df[df['title'].str.contains(r'MTV Unplugged', case=False)]"
   ]
  },
  {
   "cell_type": "code",
   "execution_count": null,
   "metadata": {},
   "outputs": [
    {
     "name": "stdout",
     "output_type": "stream",
     "text": [
      "Rows before dropping: 3235\n",
      "Rows after dropping: 3235\n"
     ]
    }
   ],
   "source": [
    "# I can drop them all\n",
    "print(f\"Rows before dropping: {df.shape[0]}\")\n",
    "df = df[~df['title'].str.contains(r'MTV Unplugged', case=False)]\n",
    "print(f\"Rows after dropping: {df.shape[0]}\")"
   ]
  },
  {
   "cell_type": "markdown",
   "metadata": {},
   "source": [
    "### **Drop compilations sorting albums by the top rated**"
   ]
  },
  {
   "cell_type": "markdown",
   "metadata": {},
   "source": [
    "#### **'Greatest Hits'**"
   ]
  },
  {
   "cell_type": "code",
   "execution_count": null,
   "metadata": {},
   "outputs": [
    {
     "name": "stdout",
     "output_type": "stream",
     "text": [
      "There are 1 albums with 'Greatest Hits' in the title\n"
     ]
    }
   ],
   "source": [
    "print(f\"There are {df[df['title'].str.contains(r'Greatest Hits', case=False)].shape[0]} albums with 'Greatest Hits' in the title\")"
   ]
  },
  {
   "cell_type": "code",
   "execution_count": null,
   "metadata": {},
   "outputs": [
    {
     "data": {
      "text/html": [
       "<div>\n",
       "<style scoped>\n",
       "    .dataframe tbody tr th:only-of-type {\n",
       "        vertical-align: middle;\n",
       "    }\n",
       "\n",
       "    .dataframe tbody tr th {\n",
       "        vertical-align: top;\n",
       "    }\n",
       "\n",
       "    .dataframe thead th {\n",
       "        text-align: right;\n",
       "    }\n",
       "</style>\n",
       "<table border=\"1\" class=\"dataframe\">\n",
       "  <thead>\n",
       "    <tr style=\"text-align: right;\">\n",
       "      <th></th>\n",
       "      <th>album_id</th>\n",
       "      <th>artist</th>\n",
       "      <th>title</th>\n",
       "      <th>year</th>\n",
       "      <th>rating</th>\n",
       "      <th>votes</th>\n",
       "      <th>album_length</th>\n",
       "      <th>tracks</th>\n",
       "      <th>release_country</th>\n",
       "      <th>release_type</th>\n",
       "      <th>genres</th>\n",
       "      <th>styles</th>\n",
       "      <th>artist_profile</th>\n",
       "      <th>artist_id</th>\n",
       "      <th>master_id</th>\n",
       "      <th>main_release_id</th>\n",
       "    </tr>\n",
       "  </thead>\n",
       "  <tbody>\n",
       "    <tr>\n",
       "      <th>1759</th>\n",
       "      <td>56010</td>\n",
       "      <td>Alien Ant Farm</td>\n",
       "      <td>Greatest Hits</td>\n",
       "      <td>1999</td>\n",
       "      <td>3.22</td>\n",
       "      <td>37</td>\n",
       "      <td>40.32</td>\n",
       "      <td>10</td>\n",
       "      <td>US</td>\n",
       "      <td>['Album']</td>\n",
       "      <td>['Rock']</td>\n",
       "      <td>['Alternative Rock', 'Garage Rock', 'Hard Rock...</td>\n",
       "      <td>American alternative rock / modern rock band t...</td>\n",
       "      <td>152509</td>\n",
       "      <td>581207</td>\n",
       "      <td>3402074</td>\n",
       "    </tr>\n",
       "  </tbody>\n",
       "</table>\n",
       "</div>"
      ],
      "text/plain": [
       "      album_id          artist          title  year  rating  votes  \\\n",
       "1759     56010  Alien Ant Farm  Greatest Hits  1999    3.22     37   \n",
       "\n",
       "      album_length  tracks release_country release_type    genres  \\\n",
       "1759         40.32      10              US    ['Album']  ['Rock']   \n",
       "\n",
       "                                                 styles  \\\n",
       "1759  ['Alternative Rock', 'Garage Rock', 'Hard Rock...   \n",
       "\n",
       "                                         artist_profile  artist_id  master_id  \\\n",
       "1759  American alternative rock / modern rock band t...     152509     581207   \n",
       "\n",
       "      main_release_id  \n",
       "1759          3402074  "
      ]
     },
     "metadata": {},
     "output_type": "display_data"
    }
   ],
   "source": [
    "# Let's check them before deleting them\n",
    "df[df['title'].str.contains(r'Greatest Hits', case=False)]"
   ]
  },
  {
   "cell_type": "code",
   "execution_count": null,
   "metadata": {},
   "outputs": [
    {
     "name": "stdout",
     "output_type": "stream",
     "text": [
      "Rows before dropping: 3235\n",
      "Rows after dropping: 3234\n"
     ]
    }
   ],
   "source": [
    "# I can drop them all\n",
    "print(f\"Rows before dropping: {df.shape[0]}\")\n",
    "df = df[~df['title'].str.contains(r'Greatest Hits', case=False)]\n",
    "print(f\"Rows after dropping: {df.shape[0]}\")"
   ]
  },
  {
   "cell_type": "markdown",
   "metadata": {},
   "source": [
    "#### **Sorting by the top rated and most rated**"
   ]
  },
  {
   "cell_type": "markdown",
   "metadata": {},
   "source": [
    "Usually compilations have the best songs of the band and users love them, so let's find them, even if 'Compilation' is not in ``release_type``"
   ]
  },
  {
   "cell_type": "code",
   "execution_count": null,
   "metadata": {},
   "outputs": [
    {
     "data": {
      "text/html": [
       "<div>\n",
       "<style scoped>\n",
       "    .dataframe tbody tr th:only-of-type {\n",
       "        vertical-align: middle;\n",
       "    }\n",
       "\n",
       "    .dataframe tbody tr th {\n",
       "        vertical-align: top;\n",
       "    }\n",
       "\n",
       "    .dataframe thead th {\n",
       "        text-align: right;\n",
       "    }\n",
       "</style>\n",
       "<table border=\"1\" class=\"dataframe\">\n",
       "  <thead>\n",
       "    <tr style=\"text-align: right;\">\n",
       "      <th></th>\n",
       "      <th>album_id</th>\n",
       "      <th>artist</th>\n",
       "      <th>title</th>\n",
       "      <th>year</th>\n",
       "      <th>rating</th>\n",
       "      <th>votes</th>\n",
       "      <th>album_length</th>\n",
       "      <th>tracks</th>\n",
       "      <th>release_country</th>\n",
       "      <th>release_type</th>\n",
       "      <th>genres</th>\n",
       "      <th>styles</th>\n",
       "      <th>artist_profile</th>\n",
       "      <th>artist_id</th>\n",
       "      <th>master_id</th>\n",
       "      <th>main_release_id</th>\n",
       "    </tr>\n",
       "  </thead>\n",
       "  <tbody>\n",
       "    <tr>\n",
       "      <th>470</th>\n",
       "      <td>16873</td>\n",
       "      <td>Disillusion</td>\n",
       "      <td>Back to Times of Splendor</td>\n",
       "      <td>2004</td>\n",
       "      <td>4.26</td>\n",
       "      <td>611</td>\n",
       "      <td>56.83</td>\n",
       "      <td>6</td>\n",
       "      <td>US</td>\n",
       "      <td>['Album']</td>\n",
       "      <td>['Rock']</td>\n",
       "      <td>['Progressive Metal', 'Power Metal', 'Melodic ...</td>\n",
       "      <td>Melodic progressive death metal outfit from Le...</td>\n",
       "      <td>388646</td>\n",
       "      <td>413839</td>\n",
       "      <td>6499044</td>\n",
       "    </tr>\n",
       "    <tr>\n",
       "      <th>154</th>\n",
       "      <td>125094</td>\n",
       "      <td>Gustavo Cerati</td>\n",
       "      <td>Bocanada</td>\n",
       "      <td>1999</td>\n",
       "      <td>4.26</td>\n",
       "      <td>90</td>\n",
       "      <td>69.35</td>\n",
       "      <td>15</td>\n",
       "      <td>Argentina</td>\n",
       "      <td>['Album']</td>\n",
       "      <td>['Electronic', 'Rock', 'Pop']</td>\n",
       "      <td>['Alternative Rock', 'Art Rock', 'Dream Pop', ...</td>\n",
       "      <td>Born: August 11, 1959, Buenos Aires, Argentina...</td>\n",
       "      <td>170488</td>\n",
       "      <td>917996</td>\n",
       "      <td>10402046</td>\n",
       "    </tr>\n",
       "    <tr>\n",
       "      <th>1769</th>\n",
       "      <td>17023</td>\n",
       "      <td>Os Mutantes</td>\n",
       "      <td>A Divina Comédia ou Ando Meio Desligado</td>\n",
       "      <td>1970</td>\n",
       "      <td>4.25</td>\n",
       "      <td>61</td>\n",
       "      <td>40.23</td>\n",
       "      <td>11</td>\n",
       "      <td>Brazil</td>\n",
       "      <td>['LP', 'Album', 'Mono']</td>\n",
       "      <td>['Rock', 'Latin']</td>\n",
       "      <td>['Psychedelic Rock', 'MPB']</td>\n",
       "      <td>Pop trio from Brazil. \\r\\n\\r\\nFormed in the la...</td>\n",
       "      <td>15161</td>\n",
       "      <td>54517</td>\n",
       "      <td>2823527</td>\n",
       "    </tr>\n",
       "    <tr>\n",
       "      <th>755</th>\n",
       "      <td>845</td>\n",
       "      <td>Wilco</td>\n",
       "      <td>Yankee Hotel Foxtrot</td>\n",
       "      <td>2002</td>\n",
       "      <td>4.24</td>\n",
       "      <td>1675</td>\n",
       "      <td>51.57</td>\n",
       "      <td>11</td>\n",
       "      <td>Europe</td>\n",
       "      <td>['LP', 'Album', 'Stereo']</td>\n",
       "      <td>['Rock']</td>\n",
       "      <td>['Alternative Rock', 'Country Rock']</td>\n",
       "      <td>American alternative rock band formed in 1994 ...</td>\n",
       "      <td>102984</td>\n",
       "      <td>10363</td>\n",
       "      <td>4426525</td>\n",
       "    </tr>\n",
       "    <tr>\n",
       "      <th>78</th>\n",
       "      <td>18071</td>\n",
       "      <td>Weakling</td>\n",
       "      <td>Dead as Dreams</td>\n",
       "      <td>2000</td>\n",
       "      <td>4.24</td>\n",
       "      <td>537</td>\n",
       "      <td>76.15</td>\n",
       "      <td>5</td>\n",
       "      <td>US</td>\n",
       "      <td>['Album']</td>\n",
       "      <td>['Rock']</td>\n",
       "      <td>['Black Metal']</td>\n",
       "      <td>American black metal band from San Francisco, ...</td>\n",
       "      <td>251627</td>\n",
       "      <td>196126</td>\n",
       "      <td>9926322</td>\n",
       "    </tr>\n",
       "    <tr>\n",
       "      <th>3076</th>\n",
       "      <td>2350</td>\n",
       "      <td>The Weakerthans</td>\n",
       "      <td>Reconstruction Site</td>\n",
       "      <td>2003</td>\n",
       "      <td>4.24</td>\n",
       "      <td>521</td>\n",
       "      <td>0.00</td>\n",
       "      <td>14</td>\n",
       "      <td>USA &amp; Canada</td>\n",
       "      <td>['LP', 'Album']</td>\n",
       "      <td>['Rock']</td>\n",
       "      <td>['Emo', 'Punk']</td>\n",
       "      <td>Punk influenced band from Winnipeg, Canada, fo...</td>\n",
       "      <td>283746</td>\n",
       "      <td>204263</td>\n",
       "      <td>2030928</td>\n",
       "    </tr>\n",
       "    <tr>\n",
       "      <th>56</th>\n",
       "      <td>18044</td>\n",
       "      <td>The Arrogant Sons of Bitches</td>\n",
       "      <td>Three Cheers For Disappointment</td>\n",
       "      <td>2006</td>\n",
       "      <td>4.24</td>\n",
       "      <td>485</td>\n",
       "      <td>79.28</td>\n",
       "      <td>44</td>\n",
       "      <td>US</td>\n",
       "      <td>['Enhanced', 'Album']</td>\n",
       "      <td>['Rock']</td>\n",
       "      <td>['Ska', 'Punk']</td>\n",
       "      <td>The Arrogant Sons of Bitches (commonly abbrevi...</td>\n",
       "      <td>1690973</td>\n",
       "      <td>401846</td>\n",
       "      <td>3349754</td>\n",
       "    </tr>\n",
       "    <tr>\n",
       "      <th>3165</th>\n",
       "      <td>22185</td>\n",
       "      <td>Trespassers William</td>\n",
       "      <td>Different Stars</td>\n",
       "      <td>2002</td>\n",
       "      <td>4.24</td>\n",
       "      <td>299</td>\n",
       "      <td>0.00</td>\n",
       "      <td>11</td>\n",
       "      <td>US</td>\n",
       "      <td>['Album']</td>\n",
       "      <td>['Rock']</td>\n",
       "      <td>['Folk Rock', 'Lo-Fi', 'Ethereal']</td>\n",
       "      <td>Line-ups :\\r\\n1999-2001 : Anna-Lynne Williams,...</td>\n",
       "      <td>283740</td>\n",
       "      <td>127194</td>\n",
       "      <td>516231</td>\n",
       "    </tr>\n",
       "    <tr>\n",
       "      <th>3096</th>\n",
       "      <td>3146</td>\n",
       "      <td>Blind Guardian</td>\n",
       "      <td>Live</td>\n",
       "      <td>2003</td>\n",
       "      <td>4.24</td>\n",
       "      <td>143</td>\n",
       "      <td>0.00</td>\n",
       "      <td>27</td>\n",
       "      <td>NaN</td>\n",
       "      <td>['LP', 'Album', 'Picture Disc']</td>\n",
       "      <td>['Rock']</td>\n",
       "      <td>['Heavy Metal']</td>\n",
       "      <td>Power/heavy metal band from Krefeld, Nordrhein...</td>\n",
       "      <td>262577</td>\n",
       "      <td>198529</td>\n",
       "      <td>2592998</td>\n",
       "    </tr>\n",
       "    <tr>\n",
       "      <th>139</th>\n",
       "      <td>6394</td>\n",
       "      <td>Drive-By Truckers</td>\n",
       "      <td>The Dirty South</td>\n",
       "      <td>2004</td>\n",
       "      <td>4.24</td>\n",
       "      <td>114</td>\n",
       "      <td>70.33</td>\n",
       "      <td>14</td>\n",
       "      <td>US</td>\n",
       "      <td>['Album', 'Stereo']</td>\n",
       "      <td>['Rock']</td>\n",
       "      <td>['Southern Rock']</td>\n",
       "      <td>Alternative country/Southern rock band based i...</td>\n",
       "      <td>493270</td>\n",
       "      <td>188892</td>\n",
       "      <td>1094881</td>\n",
       "    </tr>\n",
       "  </tbody>\n",
       "</table>\n",
       "</div>"
      ],
      "text/plain": [
       "      album_id                        artist  \\\n",
       "470      16873                   Disillusion   \n",
       "154     125094                Gustavo Cerati   \n",
       "1769     17023                   Os Mutantes   \n",
       "755        845                         Wilco   \n",
       "78       18071                      Weakling   \n",
       "3076      2350               The Weakerthans   \n",
       "56       18044  The Arrogant Sons of Bitches   \n",
       "3165     22185           Trespassers William   \n",
       "3096      3146                Blind Guardian   \n",
       "139       6394             Drive-By Truckers   \n",
       "\n",
       "                                        title  year  rating  votes  \\\n",
       "470                 Back to Times of Splendor  2004    4.26    611   \n",
       "154                                  Bocanada  1999    4.26     90   \n",
       "1769  A Divina Comédia ou Ando Meio Desligado  1970    4.25     61   \n",
       "755                      Yankee Hotel Foxtrot  2002    4.24   1675   \n",
       "78                             Dead as Dreams  2000    4.24    537   \n",
       "3076                      Reconstruction Site  2003    4.24    521   \n",
       "56            Three Cheers For Disappointment  2006    4.24    485   \n",
       "3165                          Different Stars  2002    4.24    299   \n",
       "3096                                     Live  2003    4.24    143   \n",
       "139                           The Dirty South  2004    4.24    114   \n",
       "\n",
       "      album_length  tracks release_country                     release_type  \\\n",
       "470          56.83       6              US                        ['Album']   \n",
       "154          69.35      15       Argentina                        ['Album']   \n",
       "1769         40.23      11          Brazil          ['LP', 'Album', 'Mono']   \n",
       "755          51.57      11          Europe        ['LP', 'Album', 'Stereo']   \n",
       "78           76.15       5              US                        ['Album']   \n",
       "3076          0.00      14    USA & Canada                  ['LP', 'Album']   \n",
       "56           79.28      44              US            ['Enhanced', 'Album']   \n",
       "3165          0.00      11              US                        ['Album']   \n",
       "3096          0.00      27             NaN  ['LP', 'Album', 'Picture Disc']   \n",
       "139          70.33      14              US              ['Album', 'Stereo']   \n",
       "\n",
       "                             genres  \\\n",
       "470                        ['Rock']   \n",
       "154   ['Electronic', 'Rock', 'Pop']   \n",
       "1769              ['Rock', 'Latin']   \n",
       "755                        ['Rock']   \n",
       "78                         ['Rock']   \n",
       "3076                       ['Rock']   \n",
       "56                         ['Rock']   \n",
       "3165                       ['Rock']   \n",
       "3096                       ['Rock']   \n",
       "139                        ['Rock']   \n",
       "\n",
       "                                                 styles  \\\n",
       "470   ['Progressive Metal', 'Power Metal', 'Melodic ...   \n",
       "154   ['Alternative Rock', 'Art Rock', 'Dream Pop', ...   \n",
       "1769                        ['Psychedelic Rock', 'MPB']   \n",
       "755                ['Alternative Rock', 'Country Rock']   \n",
       "78                                      ['Black Metal']   \n",
       "3076                                    ['Emo', 'Punk']   \n",
       "56                                      ['Ska', 'Punk']   \n",
       "3165                 ['Folk Rock', 'Lo-Fi', 'Ethereal']   \n",
       "3096                                    ['Heavy Metal']   \n",
       "139                                   ['Southern Rock']   \n",
       "\n",
       "                                         artist_profile  artist_id  master_id  \\\n",
       "470   Melodic progressive death metal outfit from Le...     388646     413839   \n",
       "154   Born: August 11, 1959, Buenos Aires, Argentina...     170488     917996   \n",
       "1769  Pop trio from Brazil. \\r\\n\\r\\nFormed in the la...      15161      54517   \n",
       "755   American alternative rock band formed in 1994 ...     102984      10363   \n",
       "78    American black metal band from San Francisco, ...     251627     196126   \n",
       "3076  Punk influenced band from Winnipeg, Canada, fo...     283746     204263   \n",
       "56    The Arrogant Sons of Bitches (commonly abbrevi...    1690973     401846   \n",
       "3165  Line-ups :\\r\\n1999-2001 : Anna-Lynne Williams,...     283740     127194   \n",
       "3096  Power/heavy metal band from Krefeld, Nordrhein...     262577     198529   \n",
       "139   Alternative country/Southern rock band based i...     493270     188892   \n",
       "\n",
       "      main_release_id  \n",
       "470           6499044  \n",
       "154          10402046  \n",
       "1769          2823527  \n",
       "755           4426525  \n",
       "78            9926322  \n",
       "3076          2030928  \n",
       "56            3349754  \n",
       "3165           516231  \n",
       "3096          2592998  \n",
       "139           1094881  "
      ]
     },
     "metadata": {},
     "output_type": "display_data"
    }
   ],
   "source": [
    "start_row = 50\n",
    "\n",
    "df.sort_values(['rating', 'votes'], ascending=False).iloc[start_row:start_row+10]"
   ]
  },
  {
   "cell_type": "code",
   "execution_count": null,
   "metadata": {},
   "outputs": [
    {
     "name": "stdout",
     "output_type": "stream",
     "text": [
      "Rows dropped\n",
      "(11952, 16)\n"
     ]
    }
   ],
   "source": [
    "# check one by one if necessary\n",
    "try:\n",
    "    df.drop([3433], axis=0, inplace=True)\n",
    "    print('Rows dropped')\n",
    "    print(df.shape)\n",
    "except:\n",
    "    print(\"Couldn't drop these rows\")\n",
    "    print(df.shape)"
   ]
  },
  {
   "cell_type": "markdown",
   "metadata": {},
   "source": [
    "**drop albums also from ``df_ratings_top``** if they are live albums, compilations, bands from outside the UK or US..."
   ]
  },
  {
   "cell_type": "code",
   "execution_count": null,
   "metadata": {},
   "outputs": [
    {
     "data": {
      "text/html": [
       "<div>\n",
       "<style scoped>\n",
       "    .dataframe tbody tr th:only-of-type {\n",
       "        vertical-align: middle;\n",
       "    }\n",
       "\n",
       "    .dataframe tbody tr th {\n",
       "        vertical-align: top;\n",
       "    }\n",
       "\n",
       "    .dataframe thead th {\n",
       "        text-align: right;\n",
       "    }\n",
       "</style>\n",
       "<table border=\"1\" class=\"dataframe\">\n",
       "  <thead>\n",
       "    <tr style=\"text-align: right;\">\n",
       "      <th></th>\n",
       "      <th>album_id</th>\n",
       "      <th>artist</th>\n",
       "      <th>title</th>\n",
       "      <th>rating</th>\n",
       "      <th>votes</th>\n",
       "    </tr>\n",
       "  </thead>\n",
       "  <tbody>\n",
       "  </tbody>\n",
       "</table>\n",
       "</div>"
      ],
      "text/plain": [
       "Empty DataFrame\n",
       "Columns: [album_id, artist, title, rating, votes]\n",
       "Index: []"
      ]
     },
     "metadata": {},
     "output_type": "display_data"
    }
   ],
   "source": [
    "df_ratings_20[df_ratings_20['artist']==\"Ulver\".strip()]"
   ]
  },
  {
   "cell_type": "code",
   "execution_count": null,
   "metadata": {},
   "outputs": [
    {
     "name": "stdout",
     "output_type": "stream",
     "text": [
      "Rows dropped\n",
      "(51221, 5)\n"
     ]
    }
   ],
   "source": [
    "# check one by one if necessary\n",
    "try:\n",
    "    df_ratings_20.drop([7066], axis=0, inplace=True)\n",
    "    print('Rows dropped')\n",
    "    print(df_ratings_20.shape)\n",
    "except:\n",
    "    print(\"Couldn't drop these rows\")"
   ]
  },
  {
   "cell_type": "markdown",
   "metadata": {},
   "source": [
    "**Drop one artist**"
   ]
  },
  {
   "cell_type": "code",
   "execution_count": null,
   "metadata": {},
   "outputs": [
    {
     "name": "stdout",
     "output_type": "stream",
     "text": [
      "Rows before dropping: 51158\n",
      "Rows after dropping: 51144\n"
     ]
    }
   ],
   "source": [
    "print(f\"Rows before dropping: {df_ratings_20.shape[0]}\")\n",
    "df_ratings_20 = df_ratings_20[df_ratings_20['artist']!=\"Satyricon\".strip()]\n",
    "print(f\"Rows after dropping: {df_ratings_20.shape[0]}\")"
   ]
  },
  {
   "cell_type": "markdown",
   "metadata": {},
   "source": [
    "**export again to .csv**"
   ]
  },
  {
   "cell_type": "code",
   "execution_count": null,
   "metadata": {},
   "outputs": [],
   "source": [
    "df_ratings_20.to_csv('Datasets/df_ratings_20.csv', index=False)"
   ]
  },
  {
   "cell_type": "markdown",
   "metadata": {},
   "source": [
    "### **``year = 0``**"
   ]
  },
  {
   "cell_type": "code",
   "execution_count": null,
   "metadata": {},
   "outputs": [
    {
     "data": {
      "text/plain": [
       "(12, 16)"
      ]
     },
     "metadata": {},
     "output_type": "display_data"
    }
   ],
   "source": [
    "df[df['year']==0].shape"
   ]
  },
  {
   "cell_type": "code",
   "execution_count": null,
   "metadata": {},
   "outputs": [
    {
     "data": {
      "text/html": [
       "<div>\n",
       "<style scoped>\n",
       "    .dataframe tbody tr th:only-of-type {\n",
       "        vertical-align: middle;\n",
       "    }\n",
       "\n",
       "    .dataframe tbody tr th {\n",
       "        vertical-align: top;\n",
       "    }\n",
       "\n",
       "    .dataframe thead th {\n",
       "        text-align: right;\n",
       "    }\n",
       "</style>\n",
       "<table border=\"1\" class=\"dataframe\">\n",
       "  <thead>\n",
       "    <tr style=\"text-align: right;\">\n",
       "      <th></th>\n",
       "      <th>album_id</th>\n",
       "      <th>artist</th>\n",
       "      <th>title</th>\n",
       "      <th>year</th>\n",
       "      <th>rating</th>\n",
       "      <th>votes</th>\n",
       "      <th>album_length</th>\n",
       "      <th>tracks</th>\n",
       "      <th>release_country</th>\n",
       "      <th>release_type</th>\n",
       "      <th>genres</th>\n",
       "      <th>styles</th>\n",
       "      <th>artist_profile</th>\n",
       "      <th>artist_id</th>\n",
       "      <th>master_id</th>\n",
       "      <th>main_release_id</th>\n",
       "    </tr>\n",
       "  </thead>\n",
       "  <tbody>\n",
       "    <tr>\n",
       "      <th>11753</th>\n",
       "      <td>6042</td>\n",
       "      <td>Death Cab for Cutie</td>\n",
       "      <td>Something About Airplanes</td>\n",
       "      <td>0</td>\n",
       "      <td>3.52</td>\n",
       "      <td>440</td>\n",
       "      <td>43.3</td>\n",
       "      <td>10</td>\n",
       "      <td>US</td>\n",
       "      <td>['Album', 'Reissue']</td>\n",
       "      <td>['Rock']</td>\n",
       "      <td>['Indie Rock']</td>\n",
       "      <td>American indie rock band formed in Bellingham,...</td>\n",
       "      <td>280098</td>\n",
       "      <td>3443</td>\n",
       "      <td>409339</td>\n",
       "    </tr>\n",
       "  </tbody>\n",
       "</table>\n",
       "</div>"
      ],
      "text/plain": [
       "       album_id               artist                      title  year  rating  \\\n",
       "11753      6042  Death Cab for Cutie  Something About Airplanes     0    3.52   \n",
       "\n",
       "       votes  album_length  tracks release_country          release_type  \\\n",
       "11753    440          43.3      10              US  ['Album', 'Reissue']   \n",
       "\n",
       "         genres          styles  \\\n",
       "11753  ['Rock']  ['Indie Rock']   \n",
       "\n",
       "                                          artist_profile  artist_id  \\\n",
       "11753  American indie rock band formed in Bellingham,...     280098   \n",
       "\n",
       "       master_id  main_release_id  \n",
       "11753       3443           409339  "
      ]
     },
     "metadata": {},
     "output_type": "display_data"
    }
   ],
   "source": [
    "df[df['year']==0].head()"
   ]
  },
  {
   "cell_type": "code",
   "execution_count": null,
   "metadata": {},
   "outputs": [],
   "source": [
    "df.loc[11753, 'year'] = 1998"
   ]
  },
  {
   "cell_type": "code",
   "execution_count": null,
   "metadata": {},
   "outputs": [
    {
     "name": "stdout",
     "output_type": "stream",
     "text": [
      "Rows dropped\n",
      "(11941, 16)\n"
     ]
    }
   ],
   "source": [
    "# check one by one if necessary\n",
    "try:\n",
    "    df.drop([9935], axis=0, inplace=True)\n",
    "    print('Rows dropped')\n",
    "    print(df.shape)\n",
    "except:\n",
    "    print(\"Couldn't drop these rows\")\n",
    "    print(df.shape)"
   ]
  },
  {
   "cell_type": "markdown",
   "metadata": {},
   "source": [
    "**Drop one artist**"
   ]
  },
  {
   "cell_type": "code",
   "execution_count": null,
   "metadata": {},
   "outputs": [
    {
     "name": "stdout",
     "output_type": "stream",
     "text": [
      "Rows before dropping: 11922\n",
      "Rows after dropping: 11920\n"
     ]
    }
   ],
   "source": [
    "print(f\"Rows before dropping: {df.shape[0]}\")\n",
    "df = df[df['artist']!=\"Satyricon\".strip()]\n",
    "print(f\"Rows after dropping: {df.shape[0]}\")"
   ]
  },
  {
   "cell_type": "markdown",
   "metadata": {},
   "source": [
    "### **Drop ratings and sort columns**"
   ]
  },
  {
   "cell_type": "code",
   "execution_count": null,
   "metadata": {},
   "outputs": [],
   "source": [
    "df = columns_hide_ratings(df)"
   ]
  },
  {
   "cell_type": "code",
   "execution_count": null,
   "metadata": {},
   "outputs": [
    {
     "data": {
      "text/html": [
       "<div>\n",
       "<style scoped>\n",
       "    .dataframe tbody tr th:only-of-type {\n",
       "        vertical-align: middle;\n",
       "    }\n",
       "\n",
       "    .dataframe tbody tr th {\n",
       "        vertical-align: top;\n",
       "    }\n",
       "\n",
       "    .dataframe thead th {\n",
       "        text-align: right;\n",
       "    }\n",
       "</style>\n",
       "<table border=\"1\" class=\"dataframe\">\n",
       "  <thead>\n",
       "    <tr style=\"text-align: right;\">\n",
       "      <th></th>\n",
       "      <th>artist_id</th>\n",
       "      <th>master_id</th>\n",
       "      <th>main_release_id</th>\n",
       "      <th>release_country</th>\n",
       "      <th>artist</th>\n",
       "      <th>title</th>\n",
       "      <th>year</th>\n",
       "      <th>album_length</th>\n",
       "      <th>tracks</th>\n",
       "      <th>release_type</th>\n",
       "      <th>genres</th>\n",
       "      <th>styles</th>\n",
       "      <th>artist_profile</th>\n",
       "    </tr>\n",
       "  </thead>\n",
       "  <tbody>\n",
       "    <tr>\n",
       "      <th>0</th>\n",
       "      <td>514808.0</td>\n",
       "      <td>3666645</td>\n",
       "      <td>3503643</td>\n",
       "      <td>US</td>\n",
       "      <td>Black 47</td>\n",
       "      <td>Live In New York City</td>\n",
       "      <td>1999</td>\n",
       "      <td>67.2</td>\n",
       "      <td>12</td>\n",
       "      <td>['Album']</td>\n",
       "      <td>['Rock']</td>\n",
       "      <td>['Alternative Rock']</td>\n",
       "      <td>Black 47 was an American Celtic rock band from...</td>\n",
       "    </tr>\n",
       "  </tbody>\n",
       "</table>\n",
       "</div>"
      ],
      "text/plain": [
       "   artist_id  master_id  main_release_id release_country    artist  \\\n",
       "0   514808.0    3666645          3503643              US  Black 47   \n",
       "\n",
       "                   title  year  album_length  tracks release_type    genres  \\\n",
       "0  Live In New York City  1999          67.2      12    ['Album']  ['Rock']   \n",
       "\n",
       "                 styles                                     artist_profile  \n",
       "0  ['Alternative Rock']  Black 47 was an American Celtic rock band from...  "
      ]
     },
     "metadata": {},
     "output_type": "display_data"
    }
   ],
   "source": [
    "df_masters.head(1)"
   ]
  },
  {
   "cell_type": "code",
   "execution_count": null,
   "metadata": {},
   "outputs": [
    {
     "data": {
      "text/html": [
       "<div>\n",
       "<style scoped>\n",
       "    .dataframe tbody tr th:only-of-type {\n",
       "        vertical-align: middle;\n",
       "    }\n",
       "\n",
       "    .dataframe tbody tr th {\n",
       "        vertical-align: top;\n",
       "    }\n",
       "\n",
       "    .dataframe thead th {\n",
       "        text-align: right;\n",
       "    }\n",
       "</style>\n",
       "<table border=\"1\" class=\"dataframe\">\n",
       "  <thead>\n",
       "    <tr style=\"text-align: right;\">\n",
       "      <th></th>\n",
       "      <th>artist_id</th>\n",
       "      <th>master_id</th>\n",
       "      <th>main_release_id</th>\n",
       "      <th>release_country</th>\n",
       "      <th>artist</th>\n",
       "      <th>title</th>\n",
       "      <th>year</th>\n",
       "      <th>album_length</th>\n",
       "      <th>tracks</th>\n",
       "      <th>release_type</th>\n",
       "      <th>genres</th>\n",
       "      <th>styles</th>\n",
       "      <th>artist_profile</th>\n",
       "    </tr>\n",
       "  </thead>\n",
       "  <tbody>\n",
       "    <tr>\n",
       "      <th>0</th>\n",
       "      <td>255680</td>\n",
       "      <td>267825</td>\n",
       "      <td>1911585</td>\n",
       "      <td>Europe</td>\n",
       "      <td>Eagles</td>\n",
       "      <td>Eagles</td>\n",
       "      <td>2005</td>\n",
       "      <td>325.5</td>\n",
       "      <td>84</td>\n",
       "      <td>['Album']</td>\n",
       "      <td>['Rock']</td>\n",
       "      <td>['Country Rock', 'Classic Rock']</td>\n",
       "      <td>American rock band founded in 1971 by [a=Glenn...</td>\n",
       "    </tr>\n",
       "  </tbody>\n",
       "</table>\n",
       "</div>"
      ],
      "text/plain": [
       "   artist_id  master_id  main_release_id release_country  artist   title  \\\n",
       "0     255680     267825          1911585          Europe  Eagles  Eagles   \n",
       "\n",
       "   year  album_length  tracks release_type    genres  \\\n",
       "0  2005         325.5      84    ['Album']  ['Rock']   \n",
       "\n",
       "                             styles  \\\n",
       "0  ['Country Rock', 'Classic Rock']   \n",
       "\n",
       "                                      artist_profile  \n",
       "0  American rock band founded in 1971 by [a=Glenn...  "
      ]
     },
     "metadata": {},
     "output_type": "display_data"
    }
   ],
   "source": [
    "df.head(1)"
   ]
  },
  {
   "cell_type": "code",
   "execution_count": null,
   "metadata": {},
   "outputs": [
    {
     "data": {
      "text/plain": [
       "2202"
      ]
     },
     "metadata": {},
     "output_type": "display_data"
    }
   ],
   "source": [
    "df['artist'].nunique()"
   ]
  },
  {
   "cell_type": "code",
   "execution_count": null,
   "metadata": {},
   "outputs": [],
   "source": [
    "df['artist_id'] = df['artist_id'].astype(int)"
   ]
  },
  {
   "cell_type": "markdown",
   "metadata": {},
   "source": [
    "### **Export to csv**"
   ]
  },
  {
   "cell_type": "code",
   "execution_count": null,
   "metadata": {},
   "outputs": [],
   "source": [
    "df.to_csv('Datasets/df_us_new_masters_clean.csv', index=False)"
   ]
  },
  {
   "cell_type": "code",
   "execution_count": null,
   "metadata": {},
   "outputs": [
    {
     "data": {
      "text/plain": [
       "<Axes: xlabel='count', ylabel='year'>"
      ]
     },
     "metadata": {},
     "output_type": "display_data"
    },
    {
     "data": {
      "image/png": "[encoded data removed]",
      "text/plain": [
       "<Figure size 900x1200 with 1 Axes>"
      ]
     },
     "metadata": {},
     "output_type": "display_data"
    }
   ],
   "source": [
    "plt.figure(figsize=(9,12))\n",
    "sns.countplot(data=df, y='year')"
   ]
  }
 ],
 "metadata": {
  "kernelspec": {
   "display_name": "base",
   "language": "python",
   "name": "python3"
  },
  "language_info": {
   "codemirror_mode": {
    "name": "ipython",
    "version": 3
   },
   "file_extension": ".py",
   "mimetype": "text/x-python",
   "name": "python",
   "nbconvert_exporter": "python",
   "pygments_lexer": "ipython3",
   "version": "3.12.4"
  }
 },
 "nbformat": 4,
 "nbformat_minor": 2
}
