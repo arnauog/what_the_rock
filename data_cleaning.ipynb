{
 "cells": [
  {
   "cell_type": "code",
   "execution_count": 1,
   "metadata": {},
   "outputs": [],
   "source": [
    "import numpy as np\n",
    "import pandas as pd\n",
    "from pandas import json_normalize\n",
    "import seaborn as sns\n",
    "import matplotlib.pyplot as plt\n",
    "\n",
    "import ast\n",
    "\n",
    "import warnings\n",
    "warnings.filterwarnings(\"ignore\")\n",
    "\n",
    "from my_functions import *"
   ]
  },
  {
   "cell_type": "code",
   "execution_count": 2,
   "metadata": {},
   "outputs": [
    {
     "data": {
      "text/plain": [
       "(12060, 13)"
      ]
     },
     "execution_count": 2,
     "metadata": {},
     "output_type": "execute_result"
    }
   ],
   "source": [
    "df_uk_rock = pd.read_csv('Datasets/df_uk_rock.csv')\n",
    "df_uk_rock.shape"
   ]
  },
  {
   "cell_type": "code",
   "execution_count": 3,
   "metadata": {},
   "outputs": [
    {
     "data": {
      "text/html": [
       "<div>\n",
       "<style scoped>\n",
       "    .dataframe tbody tr th:only-of-type {\n",
       "        vertical-align: middle;\n",
       "    }\n",
       "\n",
       "    .dataframe tbody tr th {\n",
       "        vertical-align: top;\n",
       "    }\n",
       "\n",
       "    .dataframe thead th {\n",
       "        text-align: right;\n",
       "    }\n",
       "</style>\n",
       "<table border=\"1\" class=\"dataframe\">\n",
       "  <thead>\n",
       "    <tr style=\"text-align: right;\">\n",
       "      <th></th>\n",
       "      <th>artist_id</th>\n",
       "      <th>master_id</th>\n",
       "      <th>main_release_id</th>\n",
       "      <th>release_country</th>\n",
       "      <th>artist</th>\n",
       "      <th>title</th>\n",
       "      <th>year</th>\n",
       "      <th>album_length</th>\n",
       "      <th>tracks</th>\n",
       "      <th>release_type</th>\n",
       "      <th>genres</th>\n",
       "      <th>styles</th>\n",
       "      <th>artist_profile</th>\n",
       "    </tr>\n",
       "  </thead>\n",
       "  <tbody>\n",
       "    <tr>\n",
       "      <th>0</th>\n",
       "      <td>253712</td>\n",
       "      <td>158153</td>\n",
       "      <td>426893</td>\n",
       "      <td>US</td>\n",
       "      <td>Sparta</td>\n",
       "      <td>Wiretap Scars</td>\n",
       "      <td>2002</td>\n",
       "      <td>47.62</td>\n",
       "      <td>12</td>\n",
       "      <td>['Album']</td>\n",
       "      <td>['Rock']</td>\n",
       "      <td>['Indie Rock', 'Alternative Rock']</td>\n",
       "      <td>El Paso, Texas based band. Formed in 2001 afte...</td>\n",
       "    </tr>\n",
       "    <tr>\n",
       "      <th>1</th>\n",
       "      <td>1003</td>\n",
       "      <td>11052</td>\n",
       "      <td>7781939</td>\n",
       "      <td>Europe</td>\n",
       "      <td>Muse</td>\n",
       "      <td>Absolution</td>\n",
       "      <td>2003</td>\n",
       "      <td>52.18</td>\n",
       "      <td>14</td>\n",
       "      <td>['Album', 'Stereo']</td>\n",
       "      <td>['Rock']</td>\n",
       "      <td>['Alternative Rock']</td>\n",
       "      <td>Muse are an English rock band from Teignmouth,...</td>\n",
       "    </tr>\n",
       "    <tr>\n",
       "      <th>2</th>\n",
       "      <td>1003</td>\n",
       "      <td>11001</td>\n",
       "      <td>446060</td>\n",
       "      <td>UK</td>\n",
       "      <td>Muse</td>\n",
       "      <td>Showbiz</td>\n",
       "      <td>1999</td>\n",
       "      <td>49.65</td>\n",
       "      <td>12</td>\n",
       "      <td>['Album', 'Stereo']</td>\n",
       "      <td>['Rock']</td>\n",
       "      <td>['Alternative Rock', 'Prog Rock']</td>\n",
       "      <td>Muse are an English rock band from Teignmouth,...</td>\n",
       "    </tr>\n",
       "    <tr>\n",
       "      <th>3</th>\n",
       "      <td>279192</td>\n",
       "      <td>117961</td>\n",
       "      <td>505983</td>\n",
       "      <td>US</td>\n",
       "      <td>Finch</td>\n",
       "      <td>What It Is to Burn</td>\n",
       "      <td>2002</td>\n",
       "      <td>61.18</td>\n",
       "      <td>13</td>\n",
       "      <td>['Album']</td>\n",
       "      <td>['Rock']</td>\n",
       "      <td>['Emo', 'Post-Hardcore', 'Alternative Rock']</td>\n",
       "      <td>Finch is a post-hardcore band from Temecula, C...</td>\n",
       "    </tr>\n",
       "    <tr>\n",
       "      <th>4</th>\n",
       "      <td>289490</td>\n",
       "      <td>130980</td>\n",
       "      <td>411599</td>\n",
       "      <td>US</td>\n",
       "      <td>Transplants</td>\n",
       "      <td>Transplants</td>\n",
       "      <td>2002</td>\n",
       "      <td>45.23</td>\n",
       "      <td>12</td>\n",
       "      <td>['Album', 'Stereo']</td>\n",
       "      <td>['Hip Hop', 'Rock', 'Pop']</td>\n",
       "      <td>['Punk']</td>\n",
       "      <td>Punk rock/rap rock band Los Angeles, CA, Unite...</td>\n",
       "    </tr>\n",
       "  </tbody>\n",
       "</table>\n",
       "</div>"
      ],
      "text/plain": [
       "   artist_id  master_id  main_release_id release_country       artist  \\\n",
       "0     253712     158153           426893              US       Sparta   \n",
       "1       1003      11052          7781939          Europe         Muse   \n",
       "2       1003      11001           446060              UK         Muse   \n",
       "3     279192     117961           505983              US        Finch   \n",
       "4     289490     130980           411599              US  Transplants   \n",
       "\n",
       "                title  year  album_length  tracks         release_type  \\\n",
       "0       Wiretap Scars  2002         47.62      12            ['Album']   \n",
       "1          Absolution  2003         52.18      14  ['Album', 'Stereo']   \n",
       "2             Showbiz  1999         49.65      12  ['Album', 'Stereo']   \n",
       "3  What It Is to Burn  2002         61.18      13            ['Album']   \n",
       "4         Transplants  2002         45.23      12  ['Album', 'Stereo']   \n",
       "\n",
       "                       genres                                        styles  \\\n",
       "0                    ['Rock']            ['Indie Rock', 'Alternative Rock']   \n",
       "1                    ['Rock']                          ['Alternative Rock']   \n",
       "2                    ['Rock']             ['Alternative Rock', 'Prog Rock']   \n",
       "3                    ['Rock']  ['Emo', 'Post-Hardcore', 'Alternative Rock']   \n",
       "4  ['Hip Hop', 'Rock', 'Pop']                                      ['Punk']   \n",
       "\n",
       "                                      artist_profile  \n",
       "0  El Paso, Texas based band. Formed in 2001 afte...  \n",
       "1  Muse are an English rock band from Teignmouth,...  \n",
       "2  Muse are an English rock band from Teignmouth,...  \n",
       "3  Finch is a post-hardcore band from Temecula, C...  \n",
       "4  Punk rock/rap rock band Los Angeles, CA, Unite...  "
      ]
     },
     "execution_count": 3,
     "metadata": {},
     "output_type": "execute_result"
    }
   ],
   "source": [
    "df_uk_rock.head()"
   ]
  },
  {
   "cell_type": "code",
   "execution_count": 4,
   "metadata": {},
   "outputs": [
    {
     "data": {
      "text/html": [
       "<div>\n",
       "<style scoped>\n",
       "    .dataframe tbody tr th:only-of-type {\n",
       "        vertical-align: middle;\n",
       "    }\n",
       "\n",
       "    .dataframe tbody tr th {\n",
       "        vertical-align: top;\n",
       "    }\n",
       "\n",
       "    .dataframe thead th {\n",
       "        text-align: right;\n",
       "    }\n",
       "</style>\n",
       "<table border=\"1\" class=\"dataframe\">\n",
       "  <thead>\n",
       "    <tr style=\"text-align: right;\">\n",
       "      <th></th>\n",
       "      <th>artist_id</th>\n",
       "      <th>master_id</th>\n",
       "      <th>main_release_id</th>\n",
       "      <th>release_country</th>\n",
       "      <th>artist</th>\n",
       "      <th>title</th>\n",
       "      <th>year</th>\n",
       "      <th>album_length</th>\n",
       "      <th>tracks</th>\n",
       "      <th>release_type</th>\n",
       "      <th>genres</th>\n",
       "      <th>styles</th>\n",
       "      <th>artist_profile</th>\n",
       "    </tr>\n",
       "  </thead>\n",
       "  <tbody>\n",
       "    <tr>\n",
       "      <th>254</th>\n",
       "      <td>144998</td>\n",
       "      <td>723</td>\n",
       "      <td>462466</td>\n",
       "      <td>UK</td>\n",
       "      <td>Black Sabbath</td>\n",
       "      <td>Black Sabbath</td>\n",
       "      <td>1970</td>\n",
       "      <td>38.28</td>\n",
       "      <td>7</td>\n",
       "      <td>['LP', 'Album', 'Stereo']</td>\n",
       "      <td>['Rock']</td>\n",
       "      <td>['Blues Rock', 'Heavy Metal', 'Hard Rock', 'Do...</td>\n",
       "      <td>Considered by many to be the first heavy metal...</td>\n",
       "    </tr>\n",
       "  </tbody>\n",
       "</table>\n",
       "</div>"
      ],
      "text/plain": [
       "     artist_id  master_id  main_release_id release_country         artist  \\\n",
       "254     144998        723           462466              UK  Black Sabbath   \n",
       "\n",
       "             title  year  album_length  tracks               release_type  \\\n",
       "254  Black Sabbath  1970         38.28       7  ['LP', 'Album', 'Stereo']   \n",
       "\n",
       "       genres                                             styles  \\\n",
       "254  ['Rock']  ['Blues Rock', 'Heavy Metal', 'Hard Rock', 'Do...   \n",
       "\n",
       "                                        artist_profile  \n",
       "254  Considered by many to be the first heavy metal...  "
      ]
     },
     "execution_count": 4,
     "metadata": {},
     "output_type": "execute_result"
    }
   ],
   "source": [
    "df_uk_rock[df_uk_rock['title']=='Black Sabbath']"
   ]
  },
  {
   "cell_type": "code",
   "execution_count": 5,
   "metadata": {},
   "outputs": [
    {
     "data": {
      "text/plain": [
       "(56660, 13)"
      ]
     },
     "execution_count": 5,
     "metadata": {},
     "output_type": "execute_result"
    }
   ],
   "source": [
    "df_masters_scrapped = pd.read_csv('Datasets/df_masters.csv')\n",
    "df_masters_scrapped.shape"
   ]
  },
  {
   "cell_type": "markdown",
   "metadata": {},
   "source": [
    "# **``styles`` type**"
   ]
  },
  {
   "cell_type": "code",
   "execution_count": 54,
   "metadata": {},
   "outputs": [
    {
     "data": {
      "text/plain": [
       "(28082, 13)"
      ]
     },
     "execution_count": 54,
     "metadata": {},
     "output_type": "execute_result"
    }
   ],
   "source": [
    "# import the dataframe\n",
    "df = pd.read_csv('Datasets/df_us_masters.csv')\n",
    "df.shape"
   ]
  },
  {
   "cell_type": "code",
   "execution_count": 55,
   "metadata": {},
   "outputs": [
    {
     "data": {
      "text/html": [
       "<div>\n",
       "<style scoped>\n",
       "    .dataframe tbody tr th:only-of-type {\n",
       "        vertical-align: middle;\n",
       "    }\n",
       "\n",
       "    .dataframe tbody tr th {\n",
       "        vertical-align: top;\n",
       "    }\n",
       "\n",
       "    .dataframe thead th {\n",
       "        text-align: right;\n",
       "    }\n",
       "</style>\n",
       "<table border=\"1\" class=\"dataframe\">\n",
       "  <thead>\n",
       "    <tr style=\"text-align: right;\">\n",
       "      <th></th>\n",
       "      <th>artist_id</th>\n",
       "      <th>master_id</th>\n",
       "      <th>main_release_id</th>\n",
       "      <th>release_country</th>\n",
       "      <th>artist</th>\n",
       "      <th>title</th>\n",
       "      <th>year</th>\n",
       "      <th>album_length</th>\n",
       "      <th>tracks</th>\n",
       "      <th>release_type</th>\n",
       "      <th>genres</th>\n",
       "      <th>styles</th>\n",
       "      <th>artist_profile</th>\n",
       "    </tr>\n",
       "  </thead>\n",
       "  <tbody>\n",
       "    <tr>\n",
       "      <th>0</th>\n",
       "      <td>894435.0</td>\n",
       "      <td>890791</td>\n",
       "      <td>3796872</td>\n",
       "      <td>US</td>\n",
       "      <td>Dicky Doo &amp; The Don'ts</td>\n",
       "      <td>Teen Scene</td>\n",
       "      <td>1960</td>\n",
       "      <td>26.7</td>\n",
       "      <td>12</td>\n",
       "      <td>['LP', 'Album']</td>\n",
       "      <td>['Rock']</td>\n",
       "      <td>['Rock &amp; Roll']</td>\n",
       "      <td>Initially created as a mythical act as a vehic...</td>\n",
       "    </tr>\n",
       "  </tbody>\n",
       "</table>\n",
       "</div>"
      ],
      "text/plain": [
       "   artist_id  master_id  main_release_id release_country  \\\n",
       "0   894435.0     890791          3796872              US   \n",
       "\n",
       "                   artist       title  year  album_length  tracks  \\\n",
       "0  Dicky Doo & The Don'ts  Teen Scene  1960          26.7      12   \n",
       "\n",
       "      release_type    genres           styles  \\\n",
       "0  ['LP', 'Album']  ['Rock']  ['Rock & Roll']   \n",
       "\n",
       "                                      artist_profile  \n",
       "0  Initially created as a mythical act as a vehic...  "
      ]
     },
     "execution_count": 55,
     "metadata": {},
     "output_type": "execute_result"
    }
   ],
   "source": [
    "df.head(1)"
   ]
  },
  {
   "cell_type": "markdown",
   "metadata": {},
   "source": [
    "## Changing the type"
   ]
  },
  {
   "cell_type": "code",
   "execution_count": 56,
   "metadata": {},
   "outputs": [
    {
     "data": {
      "text/plain": [
       "\"['Rock & Roll']\""
      ]
     },
     "execution_count": 56,
     "metadata": {},
     "output_type": "execute_result"
    }
   ],
   "source": [
    "df.styles[0]"
   ]
  },
  {
   "cell_type": "code",
   "execution_count": 57,
   "metadata": {},
   "outputs": [
    {
     "data": {
      "text/plain": [
       "styles\n",
       "[]                      3435\n",
       "['Pop Rock']             838\n",
       "['Hard Rock']            777\n",
       "['Alternative Rock']     748\n",
       "['Punk']                 537\n",
       "Name: count, dtype: int64"
      ]
     },
     "execution_count": 57,
     "metadata": {},
     "output_type": "execute_result"
    }
   ],
   "source": [
    "df.styles.value_counts().head()"
   ]
  },
  {
   "cell_type": "code",
   "execution_count": 58,
   "metadata": {},
   "outputs": [
    {
     "data": {
      "text/plain": [
       "7158"
      ]
     },
     "execution_count": 58,
     "metadata": {},
     "output_type": "execute_result"
    }
   ],
   "source": [
    "df.styles.nunique()"
   ]
  },
  {
   "cell_type": "markdown",
   "metadata": {},
   "source": [
    "It looks like they are lists, but actually..."
   ]
  },
  {
   "cell_type": "code",
   "execution_count": 59,
   "metadata": {},
   "outputs": [
    {
     "data": {
      "text/plain": [
       "str"
      ]
     },
     "execution_count": 59,
     "metadata": {},
     "output_type": "execute_result"
    }
   ],
   "source": [
    "type(df.styles[0])"
   ]
  },
  {
   "cell_type": "code",
   "execution_count": 60,
   "metadata": {},
   "outputs": [
    {
     "data": {
      "text/plain": [
       "list"
      ]
     },
     "execution_count": 60,
     "metadata": {},
     "output_type": "execute_result"
    }
   ],
   "source": [
    "# convert these strings to \n",
    "df.styles=df.styles.apply(ast.literal_eval)\n",
    "type(df.styles[0])"
   ]
  },
  {
   "cell_type": "markdown",
   "metadata": {},
   "source": [
    "## ``explode`` in one line of code"
   ]
  },
  {
   "cell_type": "code",
   "execution_count": 3,
   "metadata": {},
   "outputs": [
    {
     "name": "stdout",
     "output_type": "stream",
     "text": [
      "Pop Rock\n",
      "Folk Rock\n",
      "Alternative Rock\n",
      "Hard Rock\n",
      "Psychedelic Rock\n",
      "Punk\n",
      "Country Rock\n",
      "Rock & Roll\n",
      "Indie Rock\n",
      "Blues Rock\n",
      "Soft Rock\n",
      "Heavy Metal\n",
      "AOR\n",
      "Garage Rock\n",
      "New Wave\n",
      "Prog Rock\n",
      "Experimental\n",
      "Folk\n",
      "Hardcore\n",
      "Country\n",
      "Classic Rock\n",
      "Power Pop\n",
      "Gospel\n",
      "Thrash\n",
      "Soul\n",
      "Vocal\n",
      "Acoustic\n",
      "Ballad\n",
      "Southern Rock\n",
      "Synth-pop\n",
      "Avantgarde\n",
      "Funk\n",
      "Art Rock\n",
      "Jazz-Rock\n",
      "Rhythm & Blues\n",
      "Religious\n",
      "Lounge\n",
      "Surf\n",
      "Lo-Fi\n",
      "Rockabilly\n",
      "Fusion\n",
      "Glam\n",
      "Post-Punk\n",
      "Disco\n",
      "Goth Rock\n",
      "Noise\n",
      "Industrial\n",
      "Grunge\n",
      "Arena Rock\n",
      "Easy Listening\n",
      "Soundtrack\n",
      "Beat\n",
      "Speed Metal\n",
      "Doo Wop\n",
      "Ambient\n",
      "Ska\n",
      "Death Metal\n",
      "Jazz-Funk\n",
      "Parody\n",
      "Funk Metal\n",
      "New Age\n",
      "Psychedelic\n",
      "Space Rock\n",
      "Acid Rock\n",
      "Ethereal\n",
      "Bluegrass\n",
      "Free Improvisation\n",
      "Symphonic Rock\n",
      "Comedy\n",
      "Spoken Word\n",
      "Instrumental\n",
      "Novelty\n",
      "Power Metal\n",
      "Abstract\n",
      "Electric Blues\n",
      "Country Blues\n",
      "Progressive Metal\n",
      "Contemporary Jazz\n",
      "Texas Blues\n",
      "Soul-Jazz\n"
     ]
    }
   ],
   "source": [
    "# import the dataframe\n",
    "df_us_masters_scraped = pd.read_csv('Datasets/df_us_masters.csv')\n",
    "df_us_masters_scraped['styles']=df_us_masters_scraped[\"styles\"].apply(ast.literal_eval)\n",
    "df_styles = df_us_masters_scraped.explode('styles')\n",
    "top_80_styles = df_styles['styles'].value_counts().head(80).index.to_list()\n",
    "\n",
    "for style in top_80_styles:\n",
    "    print(style)"
   ]
  },
  {
   "cell_type": "markdown",
   "metadata": {},
   "source": [
    "## ``explode`` in several lines of code"
   ]
  },
  {
   "cell_type": "code",
   "execution_count": 62,
   "metadata": {},
   "outputs": [
    {
     "data": {
      "text/plain": [
       "styles\n",
       "[]                    3435\n",
       "[Pop Rock]             838\n",
       "[Hard Rock]            777\n",
       "[Alternative Rock]     748\n",
       "[Punk]                 537\n",
       "Name: count, dtype: int64"
      ]
     },
     "execution_count": 62,
     "metadata": {},
     "output_type": "execute_result"
    }
   ],
   "source": [
    "df['styles'].value_counts().head()"
   ]
  },
  {
   "cell_type": "code",
   "execution_count": 63,
   "metadata": {},
   "outputs": [
    {
     "data": {
      "text/plain": [
       "(28082, 13)"
      ]
     },
     "execution_count": 63,
     "metadata": {},
     "output_type": "execute_result"
    }
   ],
   "source": [
    "df.shape"
   ]
  },
  {
   "cell_type": "code",
   "execution_count": 64,
   "metadata": {},
   "outputs": [
    {
     "data": {
      "text/plain": [
       "(52684, 13)"
      ]
     },
     "execution_count": 64,
     "metadata": {},
     "output_type": "execute_result"
    }
   ],
   "source": [
    "df_styles = df.explode('styles')\n",
    "df_styles.shape"
   ]
  },
  {
   "cell_type": "code",
   "execution_count": 65,
   "metadata": {},
   "outputs": [
    {
     "data": {
      "text/plain": [
       "373"
      ]
     },
     "execution_count": 65,
     "metadata": {},
     "output_type": "execute_result"
    }
   ],
   "source": [
    "df_styles['styles'].nunique()   # before we had 3851"
   ]
  },
  {
   "cell_type": "code",
   "execution_count": 67,
   "metadata": {},
   "outputs": [
    {
     "data": {
      "text/plain": [
       "styles\n",
       "Pop Rock             3294\n",
       "Folk Rock            2343\n",
       "Alternative Rock     2299\n",
       "Hard Rock            2265\n",
       "Psychedelic Rock     2104\n",
       "                     ... \n",
       "Country Blues          74\n",
       "Progressive Metal      73\n",
       "Contemporary Jazz      73\n",
       "Texas Blues            70\n",
       "Soul-Jazz              67\n",
       "Name: count, Length: 80, dtype: int64"
      ]
     },
     "execution_count": 67,
     "metadata": {},
     "output_type": "execute_result"
    }
   ],
   "source": [
    "df_styles['styles'].value_counts().head(80)"
   ]
  },
  {
   "cell_type": "code",
   "execution_count": 68,
   "metadata": {},
   "outputs": [],
   "source": [
    "top_80_styles = df_styles['styles'].value_counts().head(80).index.to_list()"
   ]
  },
  {
   "cell_type": "code",
   "execution_count": 42,
   "metadata": {},
   "outputs": [
    {
     "data": {
      "text/plain": [
       "Text(0, 0.5, 'Count')"
      ]
     },
     "execution_count": 42,
     "metadata": {},
     "output_type": "execute_result"
    },
    {
     "data": {
      "image/png": "[encoded data removed]",
      "text/plain": [
       "<Figure size 1200x800 with 1 Axes>"
      ]
     },
     "metadata": {},
     "output_type": "display_data"
    }
   ],
   "source": [
    "top_styles = df_styles['styles'].value_counts().head(50)\n",
    "\n",
    "# Create a countplot of the most common 50 styles\n",
    "plt.figure(figsize=(12, 8))\n",
    "sns.countplot(data=df_styles[df_styles['styles'].isin(top_styles.index)], y='styles', order=top_styles.index)\n",
    "\n",
    "# Rotate x-axis labels for readability\n",
    "plt.xticks(rotation=90)\n",
    "plt.title('Top 50 Most Common Rock Styles')\n",
    "plt.xlabel('Style')\n",
    "plt.ylabel('Count')"
   ]
  },
  {
   "cell_type": "code",
   "execution_count": 32,
   "metadata": {},
   "outputs": [
    {
     "data": {
      "text/plain": [
       "styles\n",
       "[Indie Rock]                                                                  651\n",
       "[Alternative Rock]                                                            487\n",
       "[Death Metal]                                                                 323\n",
       "[Pop Rock]                                                                    308\n",
       "[]                                                                            282\n",
       "                                                                             ... \n",
       "[Disco, Europop, Pop Rock, Vocal, Soundtrack, Soft Rock, Ballad, Schlager]      1\n",
       "[Pop Rock, Disco, Europop]                                                      1\n",
       "[Vocal, Acoustic, Folk Rock]                                                    1\n",
       "[Downtempo, Abstract, Psychedelic Rock, Prog Rock, Ambient]                     1\n",
       "[Progressive Metal, Post-Metal, Black Metal, Death Metal]                       1\n",
       "Name: count, Length: 3851, dtype: int64"
      ]
     },
     "execution_count": 32,
     "metadata": {},
     "output_type": "execute_result"
    }
   ],
   "source": [
    "df['styles'].value_counts()"
   ]
  },
  {
   "cell_type": "markdown",
   "metadata": {},
   "source": [
    "# **``album_length``**"
   ]
  },
  {
   "cell_type": "code",
   "execution_count": 47,
   "metadata": {},
   "outputs": [
    {
     "data": {
      "text/plain": [
       "album_length\n",
       "0.00     3007\n",
       "41.72      16\n",
       "42.17      16\n",
       "42.80      15\n",
       "39.80      15\n",
       "         ... \n",
       "27.63       1\n",
       "71.53       1\n",
       "70.58       1\n",
       "75.12       1\n",
       "75.17       1\n",
       "Name: count, Length: 2674, dtype: int64"
      ]
     },
     "execution_count": 47,
     "metadata": {},
     "output_type": "execute_result"
    }
   ],
   "source": [
    "df.album_length.value_counts()"
   ]
  }
 ],
 "metadata": {
  "kernelspec": {
   "display_name": "base",
   "language": "python",
   "name": "python3"
  },
  "language_info": {
   "codemirror_mode": {
    "name": "ipython",
    "version": 3
   },
   "file_extension": ".py",
   "mimetype": "text/x-python",
   "name": "python",
   "nbconvert_exporter": "python",
   "pygments_lexer": "ipython3",
   "version": "3.12.4"
  }
 },
 "nbformat": 4,
 "nbformat_minor": 2
}
